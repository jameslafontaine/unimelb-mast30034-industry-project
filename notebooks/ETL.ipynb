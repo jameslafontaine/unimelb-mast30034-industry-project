{
 "cells": [
  {
   "cell_type": "code",
   "execution_count": 1,
   "metadata": {},
   "outputs": [
    {
     "name": "stderr",
     "output_type": "stream",
     "text": [
      "your 131072x1 screen size is bogus. expect trouble\n",
      "23/09/03 23:25:08 WARN Utils: Your hostname, DESKTOP-SATV84A resolves to a loopback address: 127.0.1.1; using 172.26.254.29 instead (on interface eth0)\n",
      "23/09/03 23:25:08 WARN Utils: Set SPARK_LOCAL_IP if you need to bind to another address\n",
      "Setting default log level to \"WARN\".\n",
      "To adjust logging level use sc.setLogLevel(newLevel). For SparkR, use setLogLevel(newLevel).\n",
      "23/09/03 23:25:09 WARN NativeCodeLoader: Unable to load native-hadoop library for your platform... using builtin-java classes where applicable\n"
     ]
    }
   ],
   "source": [
    "import pandas as pd\n",
    "import os\n",
    "from pyspark.sql import SparkSession, functions as F\n",
    "\n",
    "\n",
    "\n",
    "# Create a spark session (which will run spark jobs)\n",
    "spark = (\n",
    "    SparkSession.builder.appName(\"ETL\")\n",
    "    .config(\"spark.sql.repl.eagerEval.enabled\", True)\n",
    "    .config(\"spark.sql.parquet.cacheMetadata\", \"true\")\n",
    "    .config(\"spark.sql.session.timeZone\", \"Etc/UTC\")\n",
    "    .config('spark.driver.memory', '4g')\n",
    "    .config('spark.executor.memory', '2g')\n",
    "    .getOrCreate()\n",
    ")"
   ]
  },
  {
   "cell_type": "markdown",
   "metadata": {},
   "source": [
    "## Load in datasets"
   ]
  },
  {
   "cell_type": "markdown",
   "metadata": {},
   "source": [
    "### Transactions"
   ]
  },
  {
   "cell_type": "code",
   "execution_count": 2,
   "metadata": {},
   "outputs": [
    {
     "name": "stderr",
     "output_type": "stream",
     "text": [
      "                                                                                \r"
     ]
    },
    {
     "name": "stdout",
     "output_type": "stream",
     "text": [
      "root\n",
      " |-- user_id: long (nullable = true)\n",
      " |-- merchant_abn: long (nullable = true)\n",
      " |-- dollar_value: double (nullable = true)\n",
      " |-- order_id: string (nullable = true)\n",
      " |-- order_datetime: date (nullable = true)\n",
      "\n",
      "root\n",
      " |-- user_id: long (nullable = true)\n",
      " |-- merchant_abn: long (nullable = true)\n",
      " |-- dollar_value: double (nullable = true)\n",
      " |-- order_id: string (nullable = true)\n",
      " |-- order_datetime: date (nullable = true)\n",
      "\n",
      "root\n",
      " |-- user_id: long (nullable = true)\n",
      " |-- merchant_abn: long (nullable = true)\n",
      " |-- dollar_value: double (nullable = true)\n",
      " |-- order_id: string (nullable = true)\n",
      " |-- order_datetime: date (nullable = true)\n",
      "\n"
     ]
    },
    {
     "data": {
      "text/html": [
       "<table border='1'>\n",
       "<tr><th>user_id</th><th>merchant_abn</th><th>dollar_value</th><th>order_id</th><th>order_datetime</th></tr>\n",
       "<tr><td>18478</td><td>62191208634</td><td>63.255848959735246</td><td>949a63c8-29f7-4ab...</td><td>2021-08-20</td></tr>\n",
       "<tr><td>2</td><td>15549624934</td><td>130.3505283105634</td><td>6a84c3cf-612a-457...</td><td>2021-08-20</td></tr>\n",
       "<tr><td>18479</td><td>64403598239</td><td>120.15860593212783</td><td>b10dcc33-e53f-425...</td><td>2021-08-20</td></tr>\n",
       "<tr><td>3</td><td>60956456424</td><td>136.6785200286976</td><td>0f09c5a5-784e-447...</td><td>2021-08-20</td></tr>\n",
       "<tr><td>18479</td><td>94493496784</td><td>72.96316578355305</td><td>f6c78c1a-4600-4c5...</td><td>2021-08-20</td></tr>\n",
       "<tr><td>3</td><td>76819856970</td><td>448.529684285612</td><td>5ace6a24-cdf0-4aa...</td><td>2021-08-20</td></tr>\n",
       "<tr><td>18479</td><td>67609108741</td><td>86.4040605836911</td><td>d0e180f0-cb06-42a...</td><td>2021-08-20</td></tr>\n",
       "<tr><td>3</td><td>34096466752</td><td>301.5793450525113</td><td>6fb1ff48-24bb-4f9...</td><td>2021-08-20</td></tr>\n",
       "<tr><td>18482</td><td>70501974849</td><td>68.75486276223054</td><td>8505fb33-b69a-412...</td><td>2021-08-20</td></tr>\n",
       "<tr><td>4</td><td>49891706470</td><td>48.89796461900801</td><td>ed11e477-b09f-4ae...</td><td>2021-08-20</td></tr>\n",
       "</table>\n"
      ],
      "text/plain": [
       "+-------+------------+------------------+--------------------+--------------+\n",
       "|user_id|merchant_abn|      dollar_value|            order_id|order_datetime|\n",
       "+-------+------------+------------------+--------------------+--------------+\n",
       "|  18478| 62191208634|63.255848959735246|949a63c8-29f7-4ab...|    2021-08-20|\n",
       "|      2| 15549624934| 130.3505283105634|6a84c3cf-612a-457...|    2021-08-20|\n",
       "|  18479| 64403598239|120.15860593212783|b10dcc33-e53f-425...|    2021-08-20|\n",
       "|      3| 60956456424| 136.6785200286976|0f09c5a5-784e-447...|    2021-08-20|\n",
       "|  18479| 94493496784| 72.96316578355305|f6c78c1a-4600-4c5...|    2021-08-20|\n",
       "|      3| 76819856970|  448.529684285612|5ace6a24-cdf0-4aa...|    2021-08-20|\n",
       "|  18479| 67609108741|  86.4040605836911|d0e180f0-cb06-42a...|    2021-08-20|\n",
       "|      3| 34096466752| 301.5793450525113|6fb1ff48-24bb-4f9...|    2021-08-20|\n",
       "|  18482| 70501974849| 68.75486276223054|8505fb33-b69a-412...|    2021-08-20|\n",
       "|      4| 49891706470| 48.89796461900801|ed11e477-b09f-4ae...|    2021-08-20|\n",
       "+-------+------------+------------------+--------------------+--------------+"
      ]
     },
     "execution_count": 2,
     "metadata": {},
     "output_type": "execute_result"
    }
   ],
   "source": [
    "# 'transactions.parquet' files\n",
    "path = '../data/tables/transactions_20210228_20210827_snapshot'\n",
    "transactions_21_02_21_08 = spark.read.parquet(path)\n",
    "\n",
    "transactions_21_02_21_08.printSchema()\n",
    "\n",
    "\n",
    "path = '../data/tables/transactions_20210828_20220227_snapshot'\n",
    "transactions_21_08_22_02 = spark.read.parquet(path)\n",
    "\n",
    "transactions_21_08_22_02.printSchema()\n",
    "\n",
    "path = '../data/tables/transactions_20220228_20220828_snapshot'\n",
    "transactions_22_02_22_08 = spark.read.parquet(path)\n",
    "\n",
    "transactions_22_02_22_08.printSchema()\n",
    "\n",
    "transactions_21_02_21_08.limit(10)\n"
   ]
  },
  {
   "cell_type": "markdown",
   "metadata": {},
   "source": [
    "### Consumer Data"
   ]
  },
  {
   "cell_type": "code",
   "execution_count": 3,
   "metadata": {},
   "outputs": [
    {
     "name": "stdout",
     "output_type": "stream",
     "text": [
      "root\n",
      " |-- user_id: string (nullable = true)\n",
      " |-- order_datetime: string (nullable = true)\n",
      " |-- fraud_probability: string (nullable = true)\n",
      "\n"
     ]
    },
    {
     "data": {
      "text/html": [
       "<table border='1'>\n",
       "<tr><th>user_id</th><th>order_datetime</th><th>fraud_probability</th></tr>\n",
       "<tr><td>6228</td><td>2021-12-19</td><td>97.6298077657765</td></tr>\n",
       "<tr><td>21419</td><td>2021-12-10</td><td>99.24738020302328</td></tr>\n",
       "<tr><td>5606</td><td>2021-10-17</td><td>84.05825045251777</td></tr>\n",
       "<tr><td>3101</td><td>2021-04-17</td><td>91.42192091901347</td></tr>\n",
       "<tr><td>22239</td><td>2021-10-19</td><td>94.70342477508035</td></tr>\n",
       "<tr><td>16556</td><td>2022-02-20</td><td>89.65663294494827</td></tr>\n",
       "<tr><td>10278</td><td>2021-09-28</td><td>83.59136689427714</td></tr>\n",
       "<tr><td>15790</td><td>2021-12-30</td><td>71.77065889280253</td></tr>\n",
       "<tr><td>5233</td><td>2021-08-29</td><td>85.87123303878818</td></tr>\n",
       "<tr><td>230</td><td>2021-08-28</td><td>86.28328808934151</td></tr>\n",
       "</table>\n"
      ],
      "text/plain": [
       "+-------+--------------+-----------------+\n",
       "|user_id|order_datetime|fraud_probability|\n",
       "+-------+--------------+-----------------+\n",
       "|   6228|    2021-12-19| 97.6298077657765|\n",
       "|  21419|    2021-12-10|99.24738020302328|\n",
       "|   5606|    2021-10-17|84.05825045251777|\n",
       "|   3101|    2021-04-17|91.42192091901347|\n",
       "|  22239|    2021-10-19|94.70342477508035|\n",
       "|  16556|    2022-02-20|89.65663294494827|\n",
       "|  10278|    2021-09-28|83.59136689427714|\n",
       "|  15790|    2021-12-30|71.77065889280253|\n",
       "|   5233|    2021-08-29|85.87123303878818|\n",
       "|    230|    2021-08-28|86.28328808934151|\n",
       "+-------+--------------+-----------------+"
      ]
     },
     "execution_count": 3,
     "metadata": {},
     "output_type": "execute_result"
    }
   ],
   "source": [
    "# 'consumer_fraud_probability.csv' file\n",
    "path = '../data/tables/consumer_fraud_probability.csv'\n",
    "cust_fp = spark.read.csv(path, header=True)\n",
    "\n",
    "cust_fp.printSchema()\n",
    "cust_fp.limit(10)\n",
    "# cust_fp.dtypes\n",
    "# cust_fp.count()"
   ]
  },
  {
   "cell_type": "code",
   "execution_count": 4,
   "metadata": {},
   "outputs": [
    {
     "name": "stdout",
     "output_type": "stream",
     "text": [
      "root\n",
      " |-- user_id: long (nullable = true)\n",
      " |-- consumer_id: long (nullable = true)\n",
      "\n"
     ]
    },
    {
     "data": {
      "text/html": [
       "<table border='1'>\n",
       "<tr><th>user_id</th><th>consumer_id</th></tr>\n",
       "<tr><td>1</td><td>1195503</td></tr>\n",
       "<tr><td>2</td><td>179208</td></tr>\n",
       "<tr><td>3</td><td>1194530</td></tr>\n",
       "<tr><td>4</td><td>154128</td></tr>\n",
       "<tr><td>5</td><td>712975</td></tr>\n",
       "<tr><td>6</td><td>407340</td></tr>\n",
       "<tr><td>7</td><td>511685</td></tr>\n",
       "<tr><td>8</td><td>448088</td></tr>\n",
       "<tr><td>9</td><td>650435</td></tr>\n",
       "<tr><td>10</td><td>1058499</td></tr>\n",
       "</table>\n"
      ],
      "text/plain": [
       "+-------+-----------+\n",
       "|user_id|consumer_id|\n",
       "+-------+-----------+\n",
       "|      1|    1195503|\n",
       "|      2|     179208|\n",
       "|      3|    1194530|\n",
       "|      4|     154128|\n",
       "|      5|     712975|\n",
       "|      6|     407340|\n",
       "|      7|     511685|\n",
       "|      8|     448088|\n",
       "|      9|     650435|\n",
       "|     10|    1058499|\n",
       "+-------+-----------+"
      ]
     },
     "execution_count": 4,
     "metadata": {},
     "output_type": "execute_result"
    }
   ],
   "source": [
    "# 'consumer_user_details.parquet' file\n",
    "path = '../data/tables/consumer_user_details.parquet'\n",
    "cust_user_det = spark.read.parquet(path)\n",
    "\n",
    "cust_user_det.printSchema()\n",
    "cust_user_det.limit(10)\n",
    "# cust_user_det.count()"
   ]
  },
  {
   "cell_type": "code",
   "execution_count": 5,
   "metadata": {},
   "outputs": [
    {
     "name": "stdout",
     "output_type": "stream",
     "text": [
      "root\n",
      " |-- name: string (nullable = true)\n",
      " |-- address: string (nullable = true)\n",
      " |-- state: string (nullable = true)\n",
      " |-- postcode: string (nullable = true)\n",
      " |-- gender: string (nullable = true)\n",
      " |-- consumer_id: string (nullable = true)\n",
      "\n"
     ]
    },
    {
     "data": {
      "text/html": [
       "<table border='1'>\n",
       "<tr><th>name</th><th>address</th><th>state</th><th>postcode</th><th>gender</th><th>consumer_id</th></tr>\n",
       "<tr><td>Yolanda Williams</td><td>413 Haney Gardens...</td><td>WA</td><td>6935</td><td>Female</td><td>1195503</td></tr>\n",
       "<tr><td>Mary Smith</td><td>3764 Amber Oval</td><td>NSW</td><td>2782</td><td>Female</td><td>179208</td></tr>\n",
       "<tr><td>Jill Jones MD</td><td>40693 Henry Greens</td><td>NT</td><td>862</td><td>Female</td><td>1194530</td></tr>\n",
       "<tr><td>Lindsay Jimenez</td><td>00653 Davenport C...</td><td>NSW</td><td>2780</td><td>Female</td><td>154128</td></tr>\n",
       "<tr><td>Rebecca Blanchard</td><td>9271 Michael Mano...</td><td>WA</td><td>6355</td><td>Female</td><td>712975</td></tr>\n",
       "<tr><td>Karen Chapman</td><td>2706 Stewart Oval...</td><td>NSW</td><td>2033</td><td>Female</td><td>407340</td></tr>\n",
       "<tr><td>Andrea Jones</td><td>122 Brandon Cliff</td><td>QLD</td><td>4606</td><td>Female</td><td>511685</td></tr>\n",
       "<tr><td>Stephen Williams</td><td>6804 Wright Crest...</td><td>WA</td><td>6056</td><td>Male</td><td>448088</td></tr>\n",
       "<tr><td>Stephanie Reyes</td><td>5813 Denise Land ...</td><td>NSW</td><td>2482</td><td>Female</td><td>650435</td></tr>\n",
       "<tr><td>Jillian Gonzales</td><td>461 Ryan Common S...</td><td>VIC</td><td>3220</td><td>Female</td><td>1058499</td></tr>\n",
       "</table>\n"
      ],
      "text/plain": [
       "+-----------------+--------------------+-----+--------+------+-----------+\n",
       "|             name|             address|state|postcode|gender|consumer_id|\n",
       "+-----------------+--------------------+-----+--------+------+-----------+\n",
       "| Yolanda Williams|413 Haney Gardens...|   WA|    6935|Female|    1195503|\n",
       "|       Mary Smith|     3764 Amber Oval|  NSW|    2782|Female|     179208|\n",
       "|    Jill Jones MD|  40693 Henry Greens|   NT|     862|Female|    1194530|\n",
       "|  Lindsay Jimenez|00653 Davenport C...|  NSW|    2780|Female|     154128|\n",
       "|Rebecca Blanchard|9271 Michael Mano...|   WA|    6355|Female|     712975|\n",
       "|    Karen Chapman|2706 Stewart Oval...|  NSW|    2033|Female|     407340|\n",
       "|     Andrea Jones|   122 Brandon Cliff|  QLD|    4606|Female|     511685|\n",
       "| Stephen Williams|6804 Wright Crest...|   WA|    6056|  Male|     448088|\n",
       "|  Stephanie Reyes|5813 Denise Land ...|  NSW|    2482|Female|     650435|\n",
       "| Jillian Gonzales|461 Ryan Common S...|  VIC|    3220|Female|    1058499|\n",
       "+-----------------+--------------------+-----+--------+------+-----------+"
      ]
     },
     "execution_count": 5,
     "metadata": {},
     "output_type": "execute_result"
    }
   ],
   "source": [
    "# 'tbl_consumer.csv' consumer data file\n",
    "path = '../data/tables/tbl_consumer.csv'\n",
    "cust_tbl = spark.read.csv(path, sep='|', header=True)\n",
    "\n",
    "cust_tbl.printSchema()\n",
    "cust_tbl.limit(10)\n",
    "# cust_tbl.dtypes\n",
    "# cust_tbl.count()"
   ]
  },
  {
   "cell_type": "markdown",
   "metadata": {},
   "source": [
    "### Merchant Data"
   ]
  },
  {
   "cell_type": "code",
   "execution_count": 6,
   "metadata": {},
   "outputs": [
    {
     "name": "stdout",
     "output_type": "stream",
     "text": [
      "root\n",
      " |-- merchant_abn: string (nullable = true)\n",
      " |-- order_datetime: string (nullable = true)\n",
      " |-- fraud_probability: string (nullable = true)\n",
      "\n"
     ]
    },
    {
     "data": {
      "text/html": [
       "<table border='1'>\n",
       "<tr><th>merchant_abn</th><th>order_datetime</th><th>fraud_probability</th></tr>\n",
       "<tr><td>19492220327</td><td>2021-11-28</td><td>44.403658647495355</td></tr>\n",
       "<tr><td>31334588839</td><td>2021-10-02</td><td>42.75530083865367</td></tr>\n",
       "<tr><td>19492220327</td><td>2021-12-22</td><td>38.867790051131095</td></tr>\n",
       "<tr><td>82999039227</td><td>2021-12-19</td><td>94.1347004808891</td></tr>\n",
       "<tr><td>90918180829</td><td>2021-09-02</td><td>43.32551731714902</td></tr>\n",
       "<tr><td>31334588839</td><td>2021-12-26</td><td>38.36165958070444</td></tr>\n",
       "<tr><td>23686790459</td><td>2021-12-10</td><td>79.4543441508535</td></tr>\n",
       "<tr><td>14827550074</td><td>2021-11-26</td><td>46.45775596795885</td></tr>\n",
       "<tr><td>31334588839</td><td>2021-11-26</td><td>36.20971272078342</td></tr>\n",
       "<tr><td>19492220327</td><td>2021-12-18</td><td>33.819672154331755</td></tr>\n",
       "</table>\n"
      ],
      "text/plain": [
       "+------------+--------------+------------------+\n",
       "|merchant_abn|order_datetime| fraud_probability|\n",
       "+------------+--------------+------------------+\n",
       "| 19492220327|    2021-11-28|44.403658647495355|\n",
       "| 31334588839|    2021-10-02| 42.75530083865367|\n",
       "| 19492220327|    2021-12-22|38.867790051131095|\n",
       "| 82999039227|    2021-12-19|  94.1347004808891|\n",
       "| 90918180829|    2021-09-02| 43.32551731714902|\n",
       "| 31334588839|    2021-12-26| 38.36165958070444|\n",
       "| 23686790459|    2021-12-10|  79.4543441508535|\n",
       "| 14827550074|    2021-11-26| 46.45775596795885|\n",
       "| 31334588839|    2021-11-26| 36.20971272078342|\n",
       "| 19492220327|    2021-12-18|33.819672154331755|\n",
       "+------------+--------------+------------------+"
      ]
     },
     "execution_count": 6,
     "metadata": {},
     "output_type": "execute_result"
    }
   ],
   "source": [
    "# 'merchant_fraud_probability.csv' file\n",
    "path = '../data/tables/merchant_fraud_probability.csv'\n",
    "merch_fp = spark.read.csv(path, header=True)\n",
    "\n",
    "merch_fp.printSchema()\n",
    "merch_fp.limit(10)\n",
    "# merch_fp.dtypes\n",
    "# merch_fp.count()"
   ]
  },
  {
   "cell_type": "code",
   "execution_count": 7,
   "metadata": {},
   "outputs": [
    {
     "name": "stdout",
     "output_type": "stream",
     "text": [
      "root\n",
      " |-- name: string (nullable = true)\n",
      " |-- tags: string (nullable = true)\n",
      " |-- merchant_abn: long (nullable = true)\n",
      "\n"
     ]
    },
    {
     "data": {
      "text/html": [
       "<table border='1'>\n",
       "<tr><th>name</th><th>tags</th><th>merchant_abn</th></tr>\n",
       "<tr><td>Felis Limited</td><td>((furniture, home...</td><td>10023283211</td></tr>\n",
       "<tr><td>Arcu Ac Orci Corp...</td><td>([cable, satellit...</td><td>10142254217</td></tr>\n",
       "<tr><td>Nunc Sed Company</td><td>([jewelry, watch,...</td><td>10165489824</td></tr>\n",
       "<tr><td>Ultricies Digniss...</td><td>([wAtch, clock, a...</td><td>10187291046</td></tr>\n",
       "<tr><td>Enim Condimentum PC</td><td>([music shops - m...</td><td>10192359162</td></tr>\n",
       "<tr><td>Fusce Company</td><td>[(gift, card, nov...</td><td>10206519221</td></tr>\n",
       "<tr><td>Aliquam Enim Inco...</td><td>[(computers, comP...</td><td>10255988167</td></tr>\n",
       "<tr><td>Ipsum Primis Ltd</td><td>[[watch, clock, a...</td><td>10264435225</td></tr>\n",
       "<tr><td>Pede Ultrices Ind...</td><td>([computer progra...</td><td>10279061213</td></tr>\n",
       "<tr><td>Nunc Inc.</td><td>[(furniture, home...</td><td>10323485998</td></tr>\n",
       "</table>\n"
      ],
      "text/plain": [
       "+--------------------+--------------------+------------+\n",
       "|                name|                tags|merchant_abn|\n",
       "+--------------------+--------------------+------------+\n",
       "|       Felis Limited|((furniture, home...| 10023283211|\n",
       "|Arcu Ac Orci Corp...|([cable, satellit...| 10142254217|\n",
       "|    Nunc Sed Company|([jewelry, watch,...| 10165489824|\n",
       "|Ultricies Digniss...|([wAtch, clock, a...| 10187291046|\n",
       "| Enim Condimentum PC|([music shops - m...| 10192359162|\n",
       "|       Fusce Company|[(gift, card, nov...| 10206519221|\n",
       "|Aliquam Enim Inco...|[(computers, comP...| 10255988167|\n",
       "|    Ipsum Primis Ltd|[[watch, clock, a...| 10264435225|\n",
       "|Pede Ultrices Ind...|([computer progra...| 10279061213|\n",
       "|           Nunc Inc.|[(furniture, home...| 10323485998|\n",
       "+--------------------+--------------------+------------+"
      ]
     },
     "execution_count": 7,
     "metadata": {},
     "output_type": "execute_result"
    }
   ],
   "source": [
    "# 'tbl_merchants.csv' merchants data file\n",
    "path = '../data/tables/tbl_merchants.parquet'\n",
    "merch_tbl = spark.read.parquet(path)\n",
    "\n",
    "merch_tbl.printSchema()\n",
    "merch_tbl.limit(10)"
   ]
  },
  {
   "cell_type": "markdown",
   "metadata": {},
   "source": [
    "### External Data"
   ]
  },
  {
   "cell_type": "code",
   "execution_count": 8,
   "metadata": {},
   "outputs": [
    {
     "name": "stderr",
     "output_type": "stream",
     "text": [
      "23/09/03 23:25:18 WARN package: Truncated the string representation of a plan since it was too large. This behavior can be adjusted by setting 'spark.sql.debug.maxToStringFields'.\n"
     ]
    },
    {
     "data": {
      "text/html": [
       "<table border='1'>\n",
       "<tr><th>SA2_CODE_2021</th><th>F_300_399_15_19_yrs</th><th>F_300_399_20_24_yrs</th><th>F_300_399_25_34_yrs</th><th>F_300_399_35_44_yrs</th><th>F_300_399_45_54_yrs</th><th>F_300_399_55_64_yrs</th><th>F_300_399_65_74_yrs</th><th>F_300_399_75_84_yrs</th><th>F_300_399_85ov</th><th>F_300_399_Tot</th><th>F_400_499_15_19_yrs</th><th>F_400_499_20_24_yrs</th><th>F_400_499_25_34_yrs</th><th>F_400_499_35_44_yrs</th><th>F_400_499_45_54_yrs</th><th>F_400_499_55_64_yrs</th><th>F_400_499_65_74_yrs</th><th>F_400_499_75_84_yrs</th><th>F_400_499_85ov</th><th>F_400_499_Tot</th><th>F_500_649_15_19_yrs</th><th>F_500_649_20_24_yrs</th><th>F_500_649_25_34_yrs</th><th>F_500_649_35_44_yrs</th><th>F_500_649_45_54_yrs</th><th>F_500_649_55_64_yrs</th><th>F_500_649_65_74_yrs</th><th>F_500_649_75_84_yrs</th><th>F_500_649_85ov</th><th>F_500_649_Tot</th><th>F_650_799_15_19_yrs</th><th>F_650_799_20_24_yrs</th><th>F_650_799_25_34_yrs</th><th>F_650_799_35_44_yrs</th><th>F_650_799_45_54_yrs</th><th>F_650_799_55_64_yrs</th><th>F_650_799_65_74_yrs</th><th>F_650_799_75_84_yrs</th><th>F_650_799_85ov</th><th>F_650_799_Tot</th><th>F_800_999_15_19_yrs</th><th>F_800_999_20_24_yrs</th><th>F_800_999_25_34_yrs</th><th>F_800_999_35_44_yrs</th><th>F_800_999_45_54_yrs</th><th>F_800_999_55_64_yrs</th><th>F_800_999_65_74_yrs</th><th>F_800_999_75_84_yrs</th><th>F_800_999_85ov</th><th>F_800_999_Tot</th><th>F_1000_1249_15_19_yrs</th><th>F_1000_1249_20_24_yrs</th><th>F_1000_1249_25_34_yrs</th><th>F_1000_1249_35_44_yrs</th><th>F_1000_1249_45_54_yrs</th><th>F_1000_1249_55_64_yrs</th><th>F_1000_1249_65_74_yrs</th><th>F_1000_1249_75_84_yrs</th><th>F_1000_1249_85ov</th><th>F_1000_1249_Tot</th><th>F_1250_1499_15_19_yrs</th><th>F_1250_1499_20_24_yrs</th><th>F_1250_1499_25_34_yrs</th><th>F_1250_1499_35_44_yrs</th><th>F_1250_1499_45_54_yrs</th><th>F_1250_1499_55_64_yrs</th><th>F_1250_1499_65_74_yrs</th><th>F_1250_1499_75_84_yrs</th><th>F_1250_1499_85ov</th><th>F_1250_1499_Tot</th><th>F_1500_1749_15_19_yrs</th><th>F_1500_1749_20_24_yrs</th><th>F_1500_1749_25_34_yrs</th><th>F_1500_1749_35_44_yrs</th><th>F_1500_1749_45_54_yrs</th><th>F_1500_1749_55_64_yrs</th><th>F_1500_1749_65_74_yrs</th><th>F_1500_1749_75_84_yrs</th><th>F_1500_1749_85ov</th><th>F_1500_1749_Tot</th><th>F_1750_1999_15_19_yrs</th><th>F_1750_1999_20_24_yrs</th><th>F_1750_1999_25_34_yrs</th><th>F_1750_1999_35_44_yrs</th><th>F_1750_1999_45_54_yrs</th><th>F_1750_1999_55_64_yrs</th><th>F_1750_1999_65_74_yrs</th><th>F_1750_1999_75_84_yrs</th><th>F_1750_1999_85ov</th><th>F_1750_1999_Tot</th><th>F_2000_2999_15_19_yrs</th><th>F_2000_2999_20_24_yrs</th><th>F_2000_2999_25_34_yrs</th><th>F_2000_2999_35_44_yrs</th><th>F_2000_2999_45_54_yrs</th><th>F_2000_2999_55_64_yrs</th><th>F_2000_2999_65_74_yrs</th><th>F_2000_2999_75_84_yrs</th><th>F_2000_2999_85ov</th><th>F_2000_2999_Tot</th><th>F_3000_3499_15_19_yrs</th><th>F_3000_3499_20_24_yrs</th><th>F_3000_3499_25_34_yrs</th><th>F_3000_3499_35_44_yrs</th><th>F_3000_3499_45_54_yrs</th><th>F_3000_3499_55_64_yrs</th><th>F_3000_3499_65_74_yrs</th><th>F_3000_3499_75_84_yrs</th><th>F_3000_3499_85ov</th><th>F_3000_3499_Tot</th><th>F_3500_more_15_19_yrs</th><th>F_3500_more_20_24_yrs</th><th>F_3500_more_25_34_yrs</th><th>F_3500_more_35_44_yrs</th><th>F_3500_more_45_54_yrs</th><th>F_3500_more_55_64_yrs</th><th>F_3500_more_65_74_yrs</th><th>F_3500_more_75_84_yrs</th><th>F_3500_more_85ov</th><th>F_3500_more_Tot</th><th>F_PI_NS_15_19_yrs</th><th>F_PI_NS_ns_20_24_yrs</th><th>F_PI_NS_ns_25_34_yrs</th><th>F_PI_NS_ns_35_44_yrs</th><th>F_PI_NS_ns_45_54_yrs</th><th>F_PI_NS_ns_55_64_yrs</th><th>F_PI_NS_ns_65_74_yrs</th><th>F_PI_NS_ns_75_84_yrs</th><th>F_PI_NS_ns_85_yrs_ovr</th><th>F_PI_NS_ns_Tot</th><th>F_Tot_15_19_yrs</th><th>F_Tot_20_24_yrs</th><th>F_Tot_25_34_yrs</th><th>F_Tot_35_44_yrs</th><th>F_Tot_45_54_yrs</th><th>F_Tot_55_64_yrs</th><th>F_Tot_65_74_yrs</th><th>F_Tot_75_84_yrs</th><th>F_Tot_85ov</th><th>F_Tot_Tot</th><th>P_Neg_Nil_income_15_19_yrs</th><th>P_Neg_Nil_income_20_24_yrs</th><th>P_Neg_Nil_income_25_34_yrs</th><th>P_Neg_Nil_income_35_44_yrs</th><th>P_Neg_Nil_income_45_54_yrs</th><th>P_Neg_Nil_income_55_64_yrs</th><th>P_Neg_Nil_income_65_74_yrs</th><th>P_Neg_Nil_income_75_84_yrs</th><th>P_Negtve_Nil_incme_85_yrs_ovr</th><th>P_Neg_Nil_income_Tot</th><th>P_1_149_15_19_yrs</th><th>P_1_149_20_24_yrs</th><th>P_1_149_25_34_yrs</th><th>P_1_149_35_44_yrs</th><th>P_1_149_45_54_yrs</th><th>P_1_149_55_64_yrs</th><th>P_1_149_65_74_yrs</th><th>P_1_149_75_84_yrs</th><th>P_1_149_85ov</th><th>P_1_149_Tot</th><th>P_150_299_15_19_yrs</th><th>P_150_299_20_24_yrs</th><th>P_150_299_25_34_yrs</th><th>P_150_299_35_44_yrs</th><th>P_150_299_45_54_yrs</th><th>P_150_299_55_64_yrs</th><th>P_150_299_65_74_yrs</th><th>P_150_299_75_84_yrs</th><th>P_150_299_85ov</th><th>P_150_299_Tot</th><th>P_300_399_15_19_yrs</th><th>P_300_399_20_24_yrs</th><th>P_300_399_25_34_yrs</th><th>P_300_399_35_44_yrs</th><th>P_300_399_45_54_yrs</th><th>P_300_399_55_64_yrs</th><th>P_300_399_65_74_yrs</th><th>P_300_399_75_84_yrs</th><th>P_300_399_85ov</th><th>P_300_399_Tot</th><th>P_400_499_15_19_yrs</th><th>P_400_499_20_24_yrs</th><th>P_400_499_25_34_yrs</th><th>P_400_499_35_44_yrs</th><th>P_400_499_45_54_yrs</th><th>P_400_499_55_64_yrs</th><th>P_400_499_65_74_yrs</th><th>P_400_499_75_84_yrs</th><th>P_400_499_85ov</th><th>P_400_499_Tot</th><th>P_500_649_15_19_yrs</th><th>P_500_649_20_24_yrs</th><th>P_500_649_25_34_yrs</th><th>P_500_649_35_44_yrs</th><th>P_500_649_45_54_yrs</th><th>P_500_649_55_64_yrs</th><th>P_500_649_65_74_yrs</th><th>P_500_649_75_84_yrs</th><th>P_500_649_85ov</th><th>P_500_649_Tot</th></tr>\n",
       "<tr><td>101021007</td><td>3</td><td>7</td><td>3</td><td>19</td><td>15</td><td>38</td><td>44</td><td>30</td><td>3</td><td>160</td><td>0</td><td>3</td><td>4</td><td>15</td><td>26</td><td>31</td><td>45</td><td>35</td><td>15</td><td>174</td><td>3</td><td>4</td><td>12</td><td>16</td><td>24</td><td>29</td><td>35</td><td>24</td><td>7</td><td>160</td><td>0</td><td>13</td><td>16</td><td>14</td><td>23</td><td>26</td><td>24</td><td>16</td><td>5</td><td>141</td><td>0</td><td>5</td><td>15</td><td>27</td><td>26</td><td>34</td><td>25</td><td>10</td><td>0</td><td>146</td><td>0</td><td>4</td><td>21</td><td>17</td><td>26</td><td>33</td><td>21</td><td>5</td><td>0</td><td>135</td><td>0</td><td>4</td><td>19</td><td>15</td><td>22</td><td>29</td><td>11</td><td>0</td><td>4</td><td>101</td><td>0</td><td>0</td><td>15</td><td>17</td><td>21</td><td>19</td><td>10</td><td>0</td><td>0</td><td>83</td><td>0</td><td>0</td><td>5</td><td>13</td><td>15</td><td>19</td><td>3</td><td>0</td><td>0</td><td>52</td><td>0</td><td>0</td><td>19</td><td>29</td><td>38</td><td>19</td><td>7</td><td>0</td><td>3</td><td>114</td><td>0</td><td>0</td><td>5</td><td>3</td><td>3</td><td>3</td><td>4</td><td>0</td><td>0</td><td>12</td><td>0</td><td>0</td><td>0</td><td>4</td><td>13</td><td>9</td><td>0</td><td>3</td><td>0</td><td>32</td><td>9</td><td>0</td><td>21</td><td>17</td><td>24</td><td>30</td><td>32</td><td>25</td><td>6</td><td>170</td><td>85</td><td>52</td><td>185</td><td>230</td><td>316</td><td>388</td><td>315</td><td>186</td><td>49</td><td>1807</td><td>49</td><td>3</td><td>17</td><td>18</td><td>25</td><td>56</td><td>41</td><td>18</td><td>0</td><td>225</td><td>37</td><td>4</td><td>3</td><td>8</td><td>10</td><td>23</td><td>29</td><td>8</td><td>4</td><td>140</td><td>20</td><td>14</td><td>14</td><td>16</td><td>15</td><td>37</td><td>33</td><td>31</td><td>7</td><td>196</td><td>4</td><td>12</td><td>14</td><td>26</td><td>33</td><td>59</td><td>84</td><td>66</td><td>13</td><td>307</td><td>7</td><td>0</td><td>12</td><td>25</td><td>38</td><td>66</td><td>88</td><td>51</td><td>21</td><td>312</td><td>15</td><td>7</td><td>18</td><td>21</td><td>49</td><td>49</td><td>61</td><td>41</td><td>13</td><td>274</td></tr>\n",
       "<tr><td>101021008</td><td>9</td><td>14</td><td>16</td><td>23</td><td>18</td><td>39</td><td>69</td><td>36</td><td>11</td><td>234</td><td>15</td><td>15</td><td>42</td><td>29</td><td>22</td><td>31</td><td>56</td><td>73</td><td>28</td><td>306</td><td>15</td><td>17</td><td>55</td><td>37</td><td>29</td><td>42</td><td>39</td><td>32</td><td>6</td><td>261</td><td>6</td><td>27</td><td>44</td><td>45</td><td>31</td><td>34</td><td>24</td><td>18</td><td>4</td><td>238</td><td>12</td><td>28</td><td>66</td><td>49</td><td>46</td><td>51</td><td>20</td><td>8</td><td>0</td><td>284</td><td>3</td><td>26</td><td>69</td><td>54</td><td>77</td><td>55</td><td>28</td><td>8</td><td>0</td><td>318</td><td>0</td><td>31</td><td>68</td><td>69</td><td>55</td><td>41</td><td>10</td><td>3</td><td>0</td><td>289</td><td>0</td><td>13</td><td>74</td><td>53</td><td>66</td><td>48</td><td>8</td><td>0</td><td>0</td><td>271</td><td>0</td><td>5</td><td>33</td><td>45</td><td>51</td><td>32</td><td>0</td><td>0</td><td>0</td><td>172</td><td>0</td><td>3</td><td>54</td><td>78</td><td>82</td><td>41</td><td>0</td><td>0</td><td>0</td><td>259</td><td>0</td><td>0</td><td>9</td><td>16</td><td>13</td><td>11</td><td>0</td><td>0</td><td>0</td><td>45</td><td>0</td><td>0</td><td>5</td><td>5</td><td>10</td><td>9</td><td>0</td><td>0</td><td>0</td><td>29</td><td>23</td><td>18</td><td>55</td><td>40</td><td>30</td><td>33</td><td>26</td><td>20</td><td>3</td><td>245</td><td>249</td><td>237</td><td>632</td><td>577</td><td>591</td><td>556</td><td>377</td><td>228</td><td>60</td><td>3509</td><td>178</td><td>25</td><td>42</td><td>43</td><td>47</td><td>72</td><td>58</td><td>26</td><td>6</td><td>495</td><td>86</td><td>4</td><td>6</td><td>8</td><td>12</td><td>20</td><td>21</td><td>5</td><td>0</td><td>165</td><td>59</td><td>21</td><td>35</td><td>24</td><td>22</td><td>43</td><td>54</td><td>22</td><td>7</td><td>290</td><td>23</td><td>29</td><td>33</td><td>27</td><td>47</td><td>56</td><td>124</td><td>69</td><td>21</td><td>435</td><td>25</td><td>33</td><td>62</td><td>40</td><td>45</td><td>57</td><td>100</td><td>95</td><td>35</td><td>484</td><td>47</td><td>36</td><td>69</td><td>46</td><td>38</td><td>56</td><td>68</td><td>54</td><td>6</td><td>416</td></tr>\n",
       "<tr><td>101021009</td><td>8</td><td>32</td><td>43</td><td>19</td><td>20</td><td>28</td><td>65</td><td>65</td><td>50</td><td>336</td><td>6</td><td>15</td><td>66</td><td>23</td><td>27</td><td>55</td><td>94</td><td>91</td><td>54</td><td>437</td><td>9</td><td>41</td><td>78</td><td>41</td><td>27</td><td>27</td><td>49</td><td>41</td><td>23</td><td>336</td><td>5</td><td>48</td><td>99</td><td>57</td><td>48</td><td>49</td><td>40</td><td>17</td><td>18</td><td>371</td><td>4</td><td>50</td><td>134</td><td>69</td><td>58</td><td>57</td><td>36</td><td>11</td><td>3</td><td>425</td><td>4</td><td>48</td><td>165</td><td>92</td><td>57</td><td>65</td><td>30</td><td>9</td><td>3</td><td>468</td><td>0</td><td>41</td><td>131</td><td>82</td><td>58</td><td>47</td><td>22</td><td>4</td><td>0</td><td>383</td><td>0</td><td>13</td><td>128</td><td>101</td><td>65</td><td>54</td><td>11</td><td>3</td><td>0</td><td>368</td><td>0</td><td>3</td><td>75</td><td>75</td><td>52</td><td>35</td><td>13</td><td>0</td><td>0</td><td>254</td><td>0</td><td>3</td><td>89</td><td>115</td><td>113</td><td>62</td><td>9</td><td>3</td><td>0</td><td>393</td><td>0</td><td>0</td><td>8</td><td>6</td><td>17</td><td>8</td><td>0</td><td>0</td><td>0</td><td>35</td><td>0</td><td>0</td><td>6</td><td>17</td><td>27</td><td>16</td><td>5</td><td>3</td><td>0</td><td>69</td><td>7</td><td>14</td><td>68</td><td>38</td><td>23</td><td>31</td><td>41</td><td>42</td><td>52</td><td>330</td><td>180</td><td>335</td><td>1185</td><td>797</td><td>640</td><td>608</td><td>477</td><td>324</td><td>227</td><td>4771</td><td>160</td><td>24</td><td>108</td><td>60</td><td>46</td><td>63</td><td>49</td><td>19</td><td>9</td><td>541</td><td>82</td><td>3</td><td>17</td><td>15</td><td>10</td><td>18</td><td>25</td><td>14</td><td>9</td><td>190</td><td>56</td><td>30</td><td>27</td><td>21</td><td>26</td><td>36</td><td>40</td><td>35</td><td>11</td><td>280</td><td>22</td><td>43</td><td>68</td><td>46</td><td>39</td><td>58</td><td>114</td><td>120</td><td>77</td><td>588</td><td>24</td><td>44</td><td>105</td><td>43</td><td>48</td><td>98</td><td>150</td><td>129</td><td>76</td><td>711</td><td>18</td><td>67</td><td>132</td><td>69</td><td>61</td><td>58</td><td>106</td><td>66</td><td>31</td><td>600</td></tr>\n",
       "<tr><td>101021010</td><td>0</td><td>13</td><td>17</td><td>11</td><td>9</td><td>9</td><td>28</td><td>17</td><td>0</td><td>100</td><td>7</td><td>11</td><td>18</td><td>10</td><td>17</td><td>13</td><td>33</td><td>26</td><td>14</td><td>150</td><td>0</td><td>14</td><td>16</td><td>20</td><td>10</td><td>19</td><td>12</td><td>9</td><td>8</td><td>106</td><td>0</td><td>18</td><td>38</td><td>23</td><td>11</td><td>17</td><td>15</td><td>15</td><td>0</td><td>134</td><td>5</td><td>37</td><td>57</td><td>26</td><td>27</td><td>24</td><td>15</td><td>9</td><td>0</td><td>203</td><td>0</td><td>33</td><td>71</td><td>52</td><td>23</td><td>25</td><td>17</td><td>4</td><td>0</td><td>234</td><td>0</td><td>21</td><td>65</td><td>38</td><td>26</td><td>25</td><td>11</td><td>0</td><td>0</td><td>183</td><td>0</td><td>7</td><td>64</td><td>41</td><td>36</td><td>28</td><td>3</td><td>0</td><td>0</td><td>179</td><td>0</td><td>3</td><td>41</td><td>33</td><td>40</td><td>26</td><td>5</td><td>0</td><td>0</td><td>141</td><td>0</td><td>0</td><td>35</td><td>44</td><td>55</td><td>37</td><td>6</td><td>5</td><td>0</td><td>178</td><td>0</td><td>0</td><td>0</td><td>7</td><td>3</td><td>4</td><td>4</td><td>0</td><td>0</td><td>23</td><td>0</td><td>0</td><td>4</td><td>6</td><td>15</td><td>11</td><td>0</td><td>0</td><td>0</td><td>35</td><td>3</td><td>4</td><td>36</td><td>18</td><td>13</td><td>21</td><td>4</td><td>3</td><td>3</td><td>111</td><td>83</td><td>187</td><td>526</td><td>364</td><td>318</td><td>277</td><td>181</td><td>102</td><td>36</td><td>2064</td><td>68</td><td>16</td><td>53</td><td>31</td><td>33</td><td>29</td><td>17</td><td>6</td><td>0</td><td>252</td><td>42</td><td>13</td><td>9</td><td>5</td><td>11</td><td>12</td><td>10</td><td>7</td><td>0</td><td>100</td><td>17</td><td>15</td><td>21</td><td>3</td><td>5</td><td>17</td><td>19</td><td>8</td><td>3</td><td>120</td><td>9</td><td>21</td><td>33</td><td>19</td><td>16</td><td>17</td><td>49</td><td>25</td><td>5</td><td>200</td><td>10</td><td>14</td><td>31</td><td>24</td><td>25</td><td>37</td><td>51</td><td>39</td><td>18</td><td>251</td><td>12</td><td>19</td><td>32</td><td>27</td><td>17</td><td>31</td><td>36</td><td>22</td><td>12</td><td>199</td></tr>\n",
       "<tr><td>101021012</td><td>34</td><td>29</td><td>10</td><td>17</td><td>15</td><td>39</td><td>48</td><td>24</td><td>3</td><td>218</td><td>14</td><td>23</td><td>20</td><td>24</td><td>18</td><td>31</td><td>60</td><td>42</td><td>15</td><td>248</td><td>15</td><td>41</td><td>40</td><td>34</td><td>53</td><td>49</td><td>35</td><td>16</td><td>5</td><td>290</td><td>12</td><td>28</td><td>42</td><td>36</td><td>45</td><td>39</td><td>49</td><td>18</td><td>0</td><td>282</td><td>16</td><td>41</td><td>59</td><td>76</td><td>61</td><td>46</td><td>31</td><td>9</td><td>0</td><td>344</td><td>11</td><td>56</td><td>89</td><td>86</td><td>90</td><td>92</td><td>23</td><td>7</td><td>0</td><td>448</td><td>6</td><td>43</td><td>101</td><td>81</td><td>95</td><td>72</td><td>18</td><td>3</td><td>0</td><td>412</td><td>0</td><td>28</td><td>106</td><td>102</td><td>133</td><td>90</td><td>16</td><td>0</td><td>0</td><td>476</td><td>0</td><td>5</td><td>70</td><td>93</td><td>112</td><td>63</td><td>17</td><td>0</td><td>0</td><td>349</td><td>0</td><td>7</td><td>106</td><td>212</td><td>270</td><td>118</td><td>12</td><td>3</td><td>0</td><td>731</td><td>0</td><td>0</td><td>17</td><td>39</td><td>46</td><td>15</td><td>0</td><td>0</td><td>0</td><td>127</td><td>0</td><td>0</td><td>3</td><td>45</td><td>93</td><td>32</td><td>5</td><td>0</td><td>0</td><td>184</td><td>16</td><td>19</td><td>37</td><td>41</td><td>30</td><td>23</td><td>16</td><td>13</td><td>0</td><td>191</td><td>459</td><td>362</td><td>769</td><td>927</td><td>1146</td><td>809</td><td>415</td><td>171</td><td>39</td><td>5097</td><td>322</td><td>30</td><td>67</td><td>41</td><td>68</td><td>72</td><td>63</td><td>15</td><td>0</td><td>688</td><td>231</td><td>18</td><td>10</td><td>18</td><td>21</td><td>29</td><td>25</td><td>8</td><td>3</td><td>360</td><td>138</td><td>45</td><td>24</td><td>21</td><td>20</td><td>34</td><td>43</td><td>19</td><td>3</td><td>353</td><td>44</td><td>65</td><td>23</td><td>24</td><td>17</td><td>55</td><td>81</td><td>39</td><td>16</td><td>368</td><td>37</td><td>49</td><td>32</td><td>25</td><td>27</td><td>56</td><td>91</td><td>66</td><td>24</td><td>401</td><td>41</td><td>73</td><td>51</td><td>44</td><td>63</td><td>64</td><td>54</td><td>34</td><td>7</td><td>441</td></tr>\n",
       "<tr><td>101021610</td><td>3</td><td>0</td><td>12</td><td>8</td><td>4</td><td>0</td><td>8</td><td>0</td><td>0</td><td>50</td><td>0</td><td>6</td><td>15</td><td>14</td><td>8</td><td>9</td><td>8</td><td>8</td><td>0</td><td>58</td><td>4</td><td>10</td><td>16</td><td>16</td><td>12</td><td>6</td><td>8</td><td>0</td><td>0</td><td>74</td><td>0</td><td>12</td><td>40</td><td>25</td><td>14</td><td>3</td><td>5</td><td>0</td><td>0</td><td>102</td><td>3</td><td>8</td><td>45</td><td>39</td><td>13</td><td>8</td><td>0</td><td>0</td><td>0</td><td>118</td><td>0</td><td>21</td><td>92</td><td>62</td><td>27</td><td>9</td><td>8</td><td>0</td><td>0</td><td>217</td><td>0</td><td>19</td><td>84</td><td>64</td><td>32</td><td>16</td><td>8</td><td>0</td><td>0</td><td>214</td><td>0</td><td>12</td><td>139</td><td>88</td><td>51</td><td>10</td><td>0</td><td>0</td><td>0</td><td>291</td><td>0</td><td>6</td><td>103</td><td>83</td><td>41</td><td>15</td><td>0</td><td>0</td><td>0</td><td>250</td><td>0</td><td>0</td><td>114</td><td>148</td><td>83</td><td>20</td><td>0</td><td>0</td><td>0</td><td>367</td><td>0</td><td>0</td><td>12</td><td>25</td><td>13</td><td>4</td><td>0</td><td>0</td><td>0</td><td>49</td><td>0</td><td>0</td><td>3</td><td>24</td><td>22</td><td>4</td><td>4</td><td>0</td><td>0</td><td>64</td><td>3</td><td>4</td><td>20</td><td>33</td><td>9</td><td>11</td><td>7</td><td>5</td><td>0</td><td>92</td><td>121</td><td>113</td><td>726</td><td>666</td><td>348</td><td>151</td><td>81</td><td>24</td><td>3</td><td>2222</td><td>95</td><td>7</td><td>36</td><td>32</td><td>20</td><td>28</td><td>32</td><td>9</td><td>0</td><td>266</td><td>64</td><td>5</td><td>10</td><td>0</td><td>0</td><td>4</td><td>7</td><td>0</td><td>0</td><td>87</td><td>38</td><td>12</td><td>13</td><td>12</td><td>3</td><td>4</td><td>10</td><td>6</td><td>0</td><td>103</td><td>7</td><td>8</td><td>16</td><td>8</td><td>4</td><td>0</td><td>14</td><td>4</td><td>3</td><td>76</td><td>5</td><td>10</td><td>17</td><td>16</td><td>12</td><td>4</td><td>16</td><td>6</td><td>0</td><td>92</td><td>16</td><td>20</td><td>26</td><td>19</td><td>14</td><td>11</td><td>14</td><td>5</td><td>0</td><td>117</td></tr>\n",
       "<tr><td>101021611</td><td>22</td><td>24</td><td>18</td><td>12</td><td>36</td><td>40</td><td>68</td><td>50</td><td>4</td><td>278</td><td>27</td><td>28</td><td>26</td><td>19</td><td>27</td><td>68</td><td>81</td><td>53</td><td>12</td><td>344</td><td>24</td><td>39</td><td>51</td><td>40</td><td>51</td><td>81</td><td>113</td><td>44</td><td>6</td><td>437</td><td>17</td><td>38</td><td>54</td><td>45</td><td>54</td><td>69</td><td>59</td><td>33</td><td>4</td><td>365</td><td>12</td><td>46</td><td>74</td><td>73</td><td>97</td><td>81</td><td>64</td><td>14</td><td>3</td><td>457</td><td>14</td><td>58</td><td>96</td><td>97</td><td>93</td><td>118</td><td>60</td><td>16</td><td>0</td><td>560</td><td>0</td><td>38</td><td>95</td><td>86</td><td>114</td><td>105</td><td>45</td><td>3</td><td>0</td><td>484</td><td>0</td><td>13</td><td>113</td><td>107</td><td>127</td><td>105</td><td>30</td><td>3</td><td>0</td><td>504</td><td>0</td><td>3</td><td>79</td><td>97</td><td>118</td><td>88</td><td>22</td><td>4</td><td>0</td><td>419</td><td>0</td><td>0</td><td>101</td><td>266</td><td>317</td><td>166</td><td>26</td><td>3</td><td>0</td><td>884</td><td>0</td><td>0</td><td>13</td><td>42</td><td>65</td><td>31</td><td>11</td><td>0</td><td>0</td><td>157</td><td>0</td><td>0</td><td>10</td><td>56</td><td>112</td><td>61</td><td>15</td><td>3</td><td>0</td><td>252</td><td>34</td><td>32</td><td>51</td><td>57</td><td>71</td><td>76</td><td>49</td><td>20</td><td>5</td><td>397</td><td>496</td><td>393</td><td>829</td><td>1073</td><td>1381</td><td>1232</td><td>812</td><td>309</td><td>49</td><td>6579</td><td>366</td><td>46</td><td>47</td><td>52</td><td>92</td><td>150</td><td>121</td><td>41</td><td>3</td><td>910</td><td>226</td><td>23</td><td>17</td><td>27</td><td>21</td><td>47</td><td>59</td><td>10</td><td>0</td><td>437</td><td>129</td><td>38</td><td>32</td><td>34</td><td>15</td><td>57</td><td>96</td><td>47</td><td>9</td><td>462</td><td>41</td><td>35</td><td>25</td><td>21</td><td>53</td><td>61</td><td>132</td><td>99</td><td>15</td><td>490</td><td>41</td><td>46</td><td>41</td><td>32</td><td>45</td><td>105</td><td>164</td><td>91</td><td>22</td><td>598</td><td>60</td><td>65</td><td>65</td><td>42</td><td>66</td><td>119</td><td>172</td><td>77</td><td>6</td><td>672</td></tr>\n",
       "<tr><td>101031013</td><td>3</td><td>6</td><td>3</td><td>5</td><td>8</td><td>16</td><td>36</td><td>18</td><td>4</td><td>103</td><td>0</td><td>0</td><td>11</td><td>5</td><td>10</td><td>15</td><td>39</td><td>17</td><td>22</td><td>118</td><td>3</td><td>3</td><td>9</td><td>19</td><td>15</td><td>23</td><td>19</td><td>9</td><td>4</td><td>108</td><td>0</td><td>7</td><td>9</td><td>18</td><td>18</td><td>21</td><td>14</td><td>4</td><td>12</td><td>107</td><td>0</td><td>10</td><td>18</td><td>17</td><td>15</td><td>15</td><td>8</td><td>6</td><td>0</td><td>89</td><td>0</td><td>5</td><td>13</td><td>19</td><td>11</td><td>17</td><td>8</td><td>0</td><td>0</td><td>69</td><td>0</td><td>6</td><td>10</td><td>5</td><td>4</td><td>7</td><td>10</td><td>0</td><td>0</td><td>42</td><td>0</td><td>0</td><td>0</td><td>6</td><td>10</td><td>7</td><td>3</td><td>5</td><td>0</td><td>36</td><td>0</td><td>6</td><td>8</td><td>3</td><td>12</td><td>8</td><td>0</td><td>0</td><td>0</td><td>25</td><td>0</td><td>0</td><td>0</td><td>8</td><td>3</td><td>12</td><td>8</td><td>0</td><td>0</td><td>28</td><td>0</td><td>0</td><td>0</td><td>0</td><td>4</td><td>0</td><td>0</td><td>0</td><td>0</td><td>5</td><td>0</td><td>0</td><td>0</td><td>4</td><td>3</td><td>0</td><td>0</td><td>0</td><td>0</td><td>13</td><td>8</td><td>9</td><td>10</td><td>8</td><td>18</td><td>21</td><td>18</td><td>19</td><td>7</td><td>114</td><td>59</td><td>59</td><td>109</td><td>136</td><td>143</td><td>190</td><td>186</td><td>90</td><td>50</td><td>1029</td><td>48</td><td>6</td><td>0</td><td>6</td><td>16</td><td>33</td><td>28</td><td>11</td><td>5</td><td>142</td><td>17</td><td>0</td><td>7</td><td>3</td><td>3</td><td>3</td><td>9</td><td>11</td><td>0</td><td>54</td><td>10</td><td>3</td><td>0</td><td>5</td><td>10</td><td>18</td><td>15</td><td>11</td><td>6</td><td>92</td><td>5</td><td>8</td><td>7</td><td>10</td><td>19</td><td>26</td><td>74</td><td>39</td><td>15</td><td>195</td><td>3</td><td>0</td><td>15</td><td>5</td><td>16</td><td>31</td><td>74</td><td>29</td><td>18</td><td>191</td><td>5</td><td>7</td><td>16</td><td>22</td><td>25</td><td>35</td><td>39</td><td>25</td><td>4</td><td>170</td></tr>\n",
       "<tr><td>101031014</td><td>11</td><td>10</td><td>16</td><td>12</td><td>25</td><td>27</td><td>69</td><td>62</td><td>11</td><td>239</td><td>7</td><td>14</td><td>23</td><td>14</td><td>33</td><td>48</td><td>69</td><td>79</td><td>41</td><td>322</td><td>13</td><td>12</td><td>27</td><td>35</td><td>32</td><td>41</td><td>45</td><td>35</td><td>26</td><td>266</td><td>10</td><td>23</td><td>46</td><td>50</td><td>24</td><td>43</td><td>39</td><td>26</td><td>10</td><td>273</td><td>0</td><td>28</td><td>52</td><td>43</td><td>43</td><td>55</td><td>20</td><td>17</td><td>3</td><td>259</td><td>5</td><td>18</td><td>47</td><td>45</td><td>41</td><td>46</td><td>14</td><td>6</td><td>5</td><td>232</td><td>0</td><td>5</td><td>28</td><td>28</td><td>48</td><td>43</td><td>8</td><td>0</td><td>0</td><td>166</td><td>0</td><td>4</td><td>32</td><td>24</td><td>25</td><td>22</td><td>3</td><td>5</td><td>8</td><td>123</td><td>0</td><td>0</td><td>15</td><td>21</td><td>16</td><td>13</td><td>9</td><td>0</td><td>3</td><td>89</td><td>0</td><td>0</td><td>24</td><td>34</td><td>35</td><td>37</td><td>3</td><td>3</td><td>0</td><td>135</td><td>0</td><td>0</td><td>3</td><td>3</td><td>9</td><td>0</td><td>0</td><td>0</td><td>0</td><td>22</td><td>0</td><td>0</td><td>0</td><td>4</td><td>10</td><td>3</td><td>0</td><td>0</td><td>0</td><td>24</td><td>7</td><td>7</td><td>15</td><td>27</td><td>31</td><td>26</td><td>37</td><td>25</td><td>24</td><td>209</td><td>151</td><td>144</td><td>385</td><td>391</td><td>406</td><td>490</td><td>395</td><td>301</td><td>140</td><td>2803</td><td>93</td><td>17</td><td>39</td><td>41</td><td>27</td><td>63</td><td>43</td><td>24</td><td>3</td><td>343</td><td>86</td><td>0</td><td>5</td><td>7</td><td>13</td><td>16</td><td>21</td><td>7</td><td>5</td><td>161</td><td>25</td><td>14</td><td>19</td><td>16</td><td>14</td><td>40</td><td>52</td><td>36</td><td>7</td><td>238</td><td>18</td><td>22</td><td>31</td><td>17</td><td>45</td><td>57</td><td>119</td><td>112</td><td>37</td><td>453</td><td>14</td><td>16</td><td>39</td><td>23</td><td>46</td><td>75</td><td>118</td><td>112</td><td>60</td><td>513</td><td>23</td><td>31</td><td>37</td><td>49</td><td>57</td><td>64</td><td>82</td><td>59</td><td>34</td><td>441</td></tr>\n",
       "<tr><td>101031015</td><td>7</td><td>6</td><td>3</td><td>11</td><td>9</td><td>21</td><td>37</td><td>23</td><td>0</td><td>117</td><td>3</td><td>5</td><td>8</td><td>7</td><td>16</td><td>25</td><td>36</td><td>30</td><td>10</td><td>139</td><td>4</td><td>9</td><td>16</td><td>9</td><td>18</td><td>27</td><td>15</td><td>11</td><td>3</td><td>109</td><td>5</td><td>12</td><td>14</td><td>12</td><td>23</td><td>20</td><td>12</td><td>5</td><td>0</td><td>103</td><td>3</td><td>8</td><td>8</td><td>17</td><td>28</td><td>12</td><td>13</td><td>6</td><td>0</td><td>107</td><td>0</td><td>6</td><td>18</td><td>14</td><td>18</td><td>42</td><td>10</td><td>3</td><td>0</td><td>118</td><td>0</td><td>3</td><td>16</td><td>14</td><td>21</td><td>26</td><td>9</td><td>4</td><td>0</td><td>88</td><td>0</td><td>0</td><td>8</td><td>10</td><td>29</td><td>8</td><td>6</td><td>0</td><td>0</td><td>73</td><td>0</td><td>0</td><td>9</td><td>13</td><td>23</td><td>23</td><td>0</td><td>0</td><td>0</td><td>64</td><td>0</td><td>0</td><td>10</td><td>8</td><td>24</td><td>11</td><td>0</td><td>0</td><td>0</td><td>57</td><td>0</td><td>0</td><td>0</td><td>0</td><td>12</td><td>3</td><td>0</td><td>0</td><td>0</td><td>18</td><td>0</td><td>0</td><td>0</td><td>6</td><td>11</td><td>3</td><td>0</td><td>0</td><td>0</td><td>22</td><td>8</td><td>8</td><td>17</td><td>14</td><td>24</td><td>23</td><td>24</td><td>21</td><td>13</td><td>150</td><td>88</td><td>65</td><td>144</td><td>156</td><td>288</td><td>291</td><td>215</td><td>125</td><td>30</td><td>1403</td><td>60</td><td>4</td><td>8</td><td>12</td><td>22</td><td>48</td><td>27</td><td>15</td><td>4</td><td>198</td><td>47</td><td>7</td><td>3</td><td>0</td><td>3</td><td>11</td><td>7</td><td>7</td><td>0</td><td>88</td><td>16</td><td>13</td><td>8</td><td>11</td><td>10</td><td>36</td><td>34</td><td>13</td><td>3</td><td>138</td><td>6</td><td>13</td><td>10</td><td>12</td><td>19</td><td>45</td><td>76</td><td>51</td><td>8</td><td>234</td><td>10</td><td>7</td><td>7</td><td>10</td><td>21</td><td>41</td><td>79</td><td>47</td><td>19</td><td>245</td><td>15</td><td>15</td><td>23</td><td>12</td><td>39</td><td>43</td><td>29</td><td>29</td><td>3</td><td>207</td></tr>\n",
       "</table>\n"
      ],
      "text/plain": [
       "+-------------+-------------------+-------------------+-------------------+-------------------+-------------------+-------------------+-------------------+-------------------+--------------+-------------+-------------------+-------------------+-------------------+-------------------+-------------------+-------------------+-------------------+-------------------+--------------+-------------+-------------------+-------------------+-------------------+-------------------+-------------------+-------------------+-------------------+-------------------+--------------+-------------+-------------------+-------------------+-------------------+-------------------+-------------------+-------------------+-------------------+-------------------+--------------+-------------+-------------------+-------------------+-------------------+-------------------+-------------------+-------------------+-------------------+-------------------+--------------+-------------+---------------------+---------------------+---------------------+---------------------+---------------------+---------------------+---------------------+---------------------+----------------+---------------+---------------------+---------------------+---------------------+---------------------+---------------------+---------------------+---------------------+---------------------+----------------+---------------+---------------------+---------------------+---------------------+---------------------+---------------------+---------------------+---------------------+---------------------+----------------+---------------+---------------------+---------------------+---------------------+---------------------+---------------------+---------------------+---------------------+---------------------+----------------+---------------+---------------------+---------------------+---------------------+---------------------+---------------------+---------------------+---------------------+---------------------+----------------+---------------+---------------------+---------------------+---------------------+---------------------+---------------------+---------------------+---------------------+---------------------+----------------+---------------+---------------------+---------------------+---------------------+---------------------+---------------------+---------------------+---------------------+---------------------+----------------+---------------+-----------------+--------------------+--------------------+--------------------+--------------------+--------------------+--------------------+--------------------+---------------------+--------------+---------------+---------------+---------------+---------------+---------------+---------------+---------------+---------------+----------+---------+--------------------------+--------------------------+--------------------------+--------------------------+--------------------------+--------------------------+--------------------------+--------------------------+-----------------------------+--------------------+-----------------+-----------------+-----------------+-----------------+-----------------+-----------------+-----------------+-----------------+------------+-----------+-------------------+-------------------+-------------------+-------------------+-------------------+-------------------+-------------------+-------------------+--------------+-------------+-------------------+-------------------+-------------------+-------------------+-------------------+-------------------+-------------------+-------------------+--------------+-------------+-------------------+-------------------+-------------------+-------------------+-------------------+-------------------+-------------------+-------------------+--------------+-------------+-------------------+-------------------+-------------------+-------------------+-------------------+-------------------+-------------------+-------------------+--------------+-------------+\n",
       "|SA2_CODE_2021|F_300_399_15_19_yrs|F_300_399_20_24_yrs|F_300_399_25_34_yrs|F_300_399_35_44_yrs|F_300_399_45_54_yrs|F_300_399_55_64_yrs|F_300_399_65_74_yrs|F_300_399_75_84_yrs|F_300_399_85ov|F_300_399_Tot|F_400_499_15_19_yrs|F_400_499_20_24_yrs|F_400_499_25_34_yrs|F_400_499_35_44_yrs|F_400_499_45_54_yrs|F_400_499_55_64_yrs|F_400_499_65_74_yrs|F_400_499_75_84_yrs|F_400_499_85ov|F_400_499_Tot|F_500_649_15_19_yrs|F_500_649_20_24_yrs|F_500_649_25_34_yrs|F_500_649_35_44_yrs|F_500_649_45_54_yrs|F_500_649_55_64_yrs|F_500_649_65_74_yrs|F_500_649_75_84_yrs|F_500_649_85ov|F_500_649_Tot|F_650_799_15_19_yrs|F_650_799_20_24_yrs|F_650_799_25_34_yrs|F_650_799_35_44_yrs|F_650_799_45_54_yrs|F_650_799_55_64_yrs|F_650_799_65_74_yrs|F_650_799_75_84_yrs|F_650_799_85ov|F_650_799_Tot|F_800_999_15_19_yrs|F_800_999_20_24_yrs|F_800_999_25_34_yrs|F_800_999_35_44_yrs|F_800_999_45_54_yrs|F_800_999_55_64_yrs|F_800_999_65_74_yrs|F_800_999_75_84_yrs|F_800_999_85ov|F_800_999_Tot|F_1000_1249_15_19_yrs|F_1000_1249_20_24_yrs|F_1000_1249_25_34_yrs|F_1000_1249_35_44_yrs|F_1000_1249_45_54_yrs|F_1000_1249_55_64_yrs|F_1000_1249_65_74_yrs|F_1000_1249_75_84_yrs|F_1000_1249_85ov|F_1000_1249_Tot|F_1250_1499_15_19_yrs|F_1250_1499_20_24_yrs|F_1250_1499_25_34_yrs|F_1250_1499_35_44_yrs|F_1250_1499_45_54_yrs|F_1250_1499_55_64_yrs|F_1250_1499_65_74_yrs|F_1250_1499_75_84_yrs|F_1250_1499_85ov|F_1250_1499_Tot|F_1500_1749_15_19_yrs|F_1500_1749_20_24_yrs|F_1500_1749_25_34_yrs|F_1500_1749_35_44_yrs|F_1500_1749_45_54_yrs|F_1500_1749_55_64_yrs|F_1500_1749_65_74_yrs|F_1500_1749_75_84_yrs|F_1500_1749_85ov|F_1500_1749_Tot|F_1750_1999_15_19_yrs|F_1750_1999_20_24_yrs|F_1750_1999_25_34_yrs|F_1750_1999_35_44_yrs|F_1750_1999_45_54_yrs|F_1750_1999_55_64_yrs|F_1750_1999_65_74_yrs|F_1750_1999_75_84_yrs|F_1750_1999_85ov|F_1750_1999_Tot|F_2000_2999_15_19_yrs|F_2000_2999_20_24_yrs|F_2000_2999_25_34_yrs|F_2000_2999_35_44_yrs|F_2000_2999_45_54_yrs|F_2000_2999_55_64_yrs|F_2000_2999_65_74_yrs|F_2000_2999_75_84_yrs|F_2000_2999_85ov|F_2000_2999_Tot|F_3000_3499_15_19_yrs|F_3000_3499_20_24_yrs|F_3000_3499_25_34_yrs|F_3000_3499_35_44_yrs|F_3000_3499_45_54_yrs|F_3000_3499_55_64_yrs|F_3000_3499_65_74_yrs|F_3000_3499_75_84_yrs|F_3000_3499_85ov|F_3000_3499_Tot|F_3500_more_15_19_yrs|F_3500_more_20_24_yrs|F_3500_more_25_34_yrs|F_3500_more_35_44_yrs|F_3500_more_45_54_yrs|F_3500_more_55_64_yrs|F_3500_more_65_74_yrs|F_3500_more_75_84_yrs|F_3500_more_85ov|F_3500_more_Tot|F_PI_NS_15_19_yrs|F_PI_NS_ns_20_24_yrs|F_PI_NS_ns_25_34_yrs|F_PI_NS_ns_35_44_yrs|F_PI_NS_ns_45_54_yrs|F_PI_NS_ns_55_64_yrs|F_PI_NS_ns_65_74_yrs|F_PI_NS_ns_75_84_yrs|F_PI_NS_ns_85_yrs_ovr|F_PI_NS_ns_Tot|F_Tot_15_19_yrs|F_Tot_20_24_yrs|F_Tot_25_34_yrs|F_Tot_35_44_yrs|F_Tot_45_54_yrs|F_Tot_55_64_yrs|F_Tot_65_74_yrs|F_Tot_75_84_yrs|F_Tot_85ov|F_Tot_Tot|P_Neg_Nil_income_15_19_yrs|P_Neg_Nil_income_20_24_yrs|P_Neg_Nil_income_25_34_yrs|P_Neg_Nil_income_35_44_yrs|P_Neg_Nil_income_45_54_yrs|P_Neg_Nil_income_55_64_yrs|P_Neg_Nil_income_65_74_yrs|P_Neg_Nil_income_75_84_yrs|P_Negtve_Nil_incme_85_yrs_ovr|P_Neg_Nil_income_Tot|P_1_149_15_19_yrs|P_1_149_20_24_yrs|P_1_149_25_34_yrs|P_1_149_35_44_yrs|P_1_149_45_54_yrs|P_1_149_55_64_yrs|P_1_149_65_74_yrs|P_1_149_75_84_yrs|P_1_149_85ov|P_1_149_Tot|P_150_299_15_19_yrs|P_150_299_20_24_yrs|P_150_299_25_34_yrs|P_150_299_35_44_yrs|P_150_299_45_54_yrs|P_150_299_55_64_yrs|P_150_299_65_74_yrs|P_150_299_75_84_yrs|P_150_299_85ov|P_150_299_Tot|P_300_399_15_19_yrs|P_300_399_20_24_yrs|P_300_399_25_34_yrs|P_300_399_35_44_yrs|P_300_399_45_54_yrs|P_300_399_55_64_yrs|P_300_399_65_74_yrs|P_300_399_75_84_yrs|P_300_399_85ov|P_300_399_Tot|P_400_499_15_19_yrs|P_400_499_20_24_yrs|P_400_499_25_34_yrs|P_400_499_35_44_yrs|P_400_499_45_54_yrs|P_400_499_55_64_yrs|P_400_499_65_74_yrs|P_400_499_75_84_yrs|P_400_499_85ov|P_400_499_Tot|P_500_649_15_19_yrs|P_500_649_20_24_yrs|P_500_649_25_34_yrs|P_500_649_35_44_yrs|P_500_649_45_54_yrs|P_500_649_55_64_yrs|P_500_649_65_74_yrs|P_500_649_75_84_yrs|P_500_649_85ov|P_500_649_Tot|\n",
       "+-------------+-------------------+-------------------+-------------------+-------------------+-------------------+-------------------+-------------------+-------------------+--------------+-------------+-------------------+-------------------+-------------------+-------------------+-------------------+-------------------+-------------------+-------------------+--------------+-------------+-------------------+-------------------+-------------------+-------------------+-------------------+-------------------+-------------------+-------------------+--------------+-------------+-------------------+-------------------+-------------------+-------------------+-------------------+-------------------+-------------------+-------------------+--------------+-------------+-------------------+-------------------+-------------------+-------------------+-------------------+-------------------+-------------------+-------------------+--------------+-------------+---------------------+---------------------+---------------------+---------------------+---------------------+---------------------+---------------------+---------------------+----------------+---------------+---------------------+---------------------+---------------------+---------------------+---------------------+---------------------+---------------------+---------------------+----------------+---------------+---------------------+---------------------+---------------------+---------------------+---------------------+---------------------+---------------------+---------------------+----------------+---------------+---------------------+---------------------+---------------------+---------------------+---------------------+---------------------+---------------------+---------------------+----------------+---------------+---------------------+---------------------+---------------------+---------------------+---------------------+---------------------+---------------------+---------------------+----------------+---------------+---------------------+---------------------+---------------------+---------------------+---------------------+---------------------+---------------------+---------------------+----------------+---------------+---------------------+---------------------+---------------------+---------------------+---------------------+---------------------+---------------------+---------------------+----------------+---------------+-----------------+--------------------+--------------------+--------------------+--------------------+--------------------+--------------------+--------------------+---------------------+--------------+---------------+---------------+---------------+---------------+---------------+---------------+---------------+---------------+----------+---------+--------------------------+--------------------------+--------------------------+--------------------------+--------------------------+--------------------------+--------------------------+--------------------------+-----------------------------+--------------------+-----------------+-----------------+-----------------+-----------------+-----------------+-----------------+-----------------+-----------------+------------+-----------+-------------------+-------------------+-------------------+-------------------+-------------------+-------------------+-------------------+-------------------+--------------+-------------+-------------------+-------------------+-------------------+-------------------+-------------------+-------------------+-------------------+-------------------+--------------+-------------+-------------------+-------------------+-------------------+-------------------+-------------------+-------------------+-------------------+-------------------+--------------+-------------+-------------------+-------------------+-------------------+-------------------+-------------------+-------------------+-------------------+-------------------+--------------+-------------+\n",
       "|    101021007|                  3|                  7|                  3|                 19|                 15|                 38|                 44|                 30|             3|          160|                  0|                  3|                  4|                 15|                 26|                 31|                 45|                 35|            15|          174|                  3|                  4|                 12|                 16|                 24|                 29|                 35|                 24|             7|          160|                  0|                 13|                 16|                 14|                 23|                 26|                 24|                 16|             5|          141|                  0|                  5|                 15|                 27|                 26|                 34|                 25|                 10|             0|          146|                    0|                    4|                   21|                   17|                   26|                   33|                   21|                    5|               0|            135|                    0|                    4|                   19|                   15|                   22|                   29|                   11|                    0|               4|            101|                    0|                    0|                   15|                   17|                   21|                   19|                   10|                    0|               0|             83|                    0|                    0|                    5|                   13|                   15|                   19|                    3|                    0|               0|             52|                    0|                    0|                   19|                   29|                   38|                   19|                    7|                    0|               3|            114|                    0|                    0|                    5|                    3|                    3|                    3|                    4|                    0|               0|             12|                    0|                    0|                    0|                    4|                   13|                    9|                    0|                    3|               0|             32|                9|                   0|                  21|                  17|                  24|                  30|                  32|                  25|                    6|           170|             85|             52|            185|            230|            316|            388|            315|            186|        49|     1807|                        49|                         3|                        17|                        18|                        25|                        56|                        41|                        18|                            0|                 225|               37|                4|                3|                8|               10|               23|               29|                8|           4|        140|                 20|                 14|                 14|                 16|                 15|                 37|                 33|                 31|             7|          196|                  4|                 12|                 14|                 26|                 33|                 59|                 84|                 66|            13|          307|                  7|                  0|                 12|                 25|                 38|                 66|                 88|                 51|            21|          312|                 15|                  7|                 18|                 21|                 49|                 49|                 61|                 41|            13|          274|\n",
       "|    101021008|                  9|                 14|                 16|                 23|                 18|                 39|                 69|                 36|            11|          234|                 15|                 15|                 42|                 29|                 22|                 31|                 56|                 73|            28|          306|                 15|                 17|                 55|                 37|                 29|                 42|                 39|                 32|             6|          261|                  6|                 27|                 44|                 45|                 31|                 34|                 24|                 18|             4|          238|                 12|                 28|                 66|                 49|                 46|                 51|                 20|                  8|             0|          284|                    3|                   26|                   69|                   54|                   77|                   55|                   28|                    8|               0|            318|                    0|                   31|                   68|                   69|                   55|                   41|                   10|                    3|               0|            289|                    0|                   13|                   74|                   53|                   66|                   48|                    8|                    0|               0|            271|                    0|                    5|                   33|                   45|                   51|                   32|                    0|                    0|               0|            172|                    0|                    3|                   54|                   78|                   82|                   41|                    0|                    0|               0|            259|                    0|                    0|                    9|                   16|                   13|                   11|                    0|                    0|               0|             45|                    0|                    0|                    5|                    5|                   10|                    9|                    0|                    0|               0|             29|               23|                  18|                  55|                  40|                  30|                  33|                  26|                  20|                    3|           245|            249|            237|            632|            577|            591|            556|            377|            228|        60|     3509|                       178|                        25|                        42|                        43|                        47|                        72|                        58|                        26|                            6|                 495|               86|                4|                6|                8|               12|               20|               21|                5|           0|        165|                 59|                 21|                 35|                 24|                 22|                 43|                 54|                 22|             7|          290|                 23|                 29|                 33|                 27|                 47|                 56|                124|                 69|            21|          435|                 25|                 33|                 62|                 40|                 45|                 57|                100|                 95|            35|          484|                 47|                 36|                 69|                 46|                 38|                 56|                 68|                 54|             6|          416|\n",
       "|    101021009|                  8|                 32|                 43|                 19|                 20|                 28|                 65|                 65|            50|          336|                  6|                 15|                 66|                 23|                 27|                 55|                 94|                 91|            54|          437|                  9|                 41|                 78|                 41|                 27|                 27|                 49|                 41|            23|          336|                  5|                 48|                 99|                 57|                 48|                 49|                 40|                 17|            18|          371|                  4|                 50|                134|                 69|                 58|                 57|                 36|                 11|             3|          425|                    4|                   48|                  165|                   92|                   57|                   65|                   30|                    9|               3|            468|                    0|                   41|                  131|                   82|                   58|                   47|                   22|                    4|               0|            383|                    0|                   13|                  128|                  101|                   65|                   54|                   11|                    3|               0|            368|                    0|                    3|                   75|                   75|                   52|                   35|                   13|                    0|               0|            254|                    0|                    3|                   89|                  115|                  113|                   62|                    9|                    3|               0|            393|                    0|                    0|                    8|                    6|                   17|                    8|                    0|                    0|               0|             35|                    0|                    0|                    6|                   17|                   27|                   16|                    5|                    3|               0|             69|                7|                  14|                  68|                  38|                  23|                  31|                  41|                  42|                   52|           330|            180|            335|           1185|            797|            640|            608|            477|            324|       227|     4771|                       160|                        24|                       108|                        60|                        46|                        63|                        49|                        19|                            9|                 541|               82|                3|               17|               15|               10|               18|               25|               14|           9|        190|                 56|                 30|                 27|                 21|                 26|                 36|                 40|                 35|            11|          280|                 22|                 43|                 68|                 46|                 39|                 58|                114|                120|            77|          588|                 24|                 44|                105|                 43|                 48|                 98|                150|                129|            76|          711|                 18|                 67|                132|                 69|                 61|                 58|                106|                 66|            31|          600|\n",
       "|    101021010|                  0|                 13|                 17|                 11|                  9|                  9|                 28|                 17|             0|          100|                  7|                 11|                 18|                 10|                 17|                 13|                 33|                 26|            14|          150|                  0|                 14|                 16|                 20|                 10|                 19|                 12|                  9|             8|          106|                  0|                 18|                 38|                 23|                 11|                 17|                 15|                 15|             0|          134|                  5|                 37|                 57|                 26|                 27|                 24|                 15|                  9|             0|          203|                    0|                   33|                   71|                   52|                   23|                   25|                   17|                    4|               0|            234|                    0|                   21|                   65|                   38|                   26|                   25|                   11|                    0|               0|            183|                    0|                    7|                   64|                   41|                   36|                   28|                    3|                    0|               0|            179|                    0|                    3|                   41|                   33|                   40|                   26|                    5|                    0|               0|            141|                    0|                    0|                   35|                   44|                   55|                   37|                    6|                    5|               0|            178|                    0|                    0|                    0|                    7|                    3|                    4|                    4|                    0|               0|             23|                    0|                    0|                    4|                    6|                   15|                   11|                    0|                    0|               0|             35|                3|                   4|                  36|                  18|                  13|                  21|                   4|                   3|                    3|           111|             83|            187|            526|            364|            318|            277|            181|            102|        36|     2064|                        68|                        16|                        53|                        31|                        33|                        29|                        17|                         6|                            0|                 252|               42|               13|                9|                5|               11|               12|               10|                7|           0|        100|                 17|                 15|                 21|                  3|                  5|                 17|                 19|                  8|             3|          120|                  9|                 21|                 33|                 19|                 16|                 17|                 49|                 25|             5|          200|                 10|                 14|                 31|                 24|                 25|                 37|                 51|                 39|            18|          251|                 12|                 19|                 32|                 27|                 17|                 31|                 36|                 22|            12|          199|\n",
       "|    101021012|                 34|                 29|                 10|                 17|                 15|                 39|                 48|                 24|             3|          218|                 14|                 23|                 20|                 24|                 18|                 31|                 60|                 42|            15|          248|                 15|                 41|                 40|                 34|                 53|                 49|                 35|                 16|             5|          290|                 12|                 28|                 42|                 36|                 45|                 39|                 49|                 18|             0|          282|                 16|                 41|                 59|                 76|                 61|                 46|                 31|                  9|             0|          344|                   11|                   56|                   89|                   86|                   90|                   92|                   23|                    7|               0|            448|                    6|                   43|                  101|                   81|                   95|                   72|                   18|                    3|               0|            412|                    0|                   28|                  106|                  102|                  133|                   90|                   16|                    0|               0|            476|                    0|                    5|                   70|                   93|                  112|                   63|                   17|                    0|               0|            349|                    0|                    7|                  106|                  212|                  270|                  118|                   12|                    3|               0|            731|                    0|                    0|                   17|                   39|                   46|                   15|                    0|                    0|               0|            127|                    0|                    0|                    3|                   45|                   93|                   32|                    5|                    0|               0|            184|               16|                  19|                  37|                  41|                  30|                  23|                  16|                  13|                    0|           191|            459|            362|            769|            927|           1146|            809|            415|            171|        39|     5097|                       322|                        30|                        67|                        41|                        68|                        72|                        63|                        15|                            0|                 688|              231|               18|               10|               18|               21|               29|               25|                8|           3|        360|                138|                 45|                 24|                 21|                 20|                 34|                 43|                 19|             3|          353|                 44|                 65|                 23|                 24|                 17|                 55|                 81|                 39|            16|          368|                 37|                 49|                 32|                 25|                 27|                 56|                 91|                 66|            24|          401|                 41|                 73|                 51|                 44|                 63|                 64|                 54|                 34|             7|          441|\n",
       "|    101021610|                  3|                  0|                 12|                  8|                  4|                  0|                  8|                  0|             0|           50|                  0|                  6|                 15|                 14|                  8|                  9|                  8|                  8|             0|           58|                  4|                 10|                 16|                 16|                 12|                  6|                  8|                  0|             0|           74|                  0|                 12|                 40|                 25|                 14|                  3|                  5|                  0|             0|          102|                  3|                  8|                 45|                 39|                 13|                  8|                  0|                  0|             0|          118|                    0|                   21|                   92|                   62|                   27|                    9|                    8|                    0|               0|            217|                    0|                   19|                   84|                   64|                   32|                   16|                    8|                    0|               0|            214|                    0|                   12|                  139|                   88|                   51|                   10|                    0|                    0|               0|            291|                    0|                    6|                  103|                   83|                   41|                   15|                    0|                    0|               0|            250|                    0|                    0|                  114|                  148|                   83|                   20|                    0|                    0|               0|            367|                    0|                    0|                   12|                   25|                   13|                    4|                    0|                    0|               0|             49|                    0|                    0|                    3|                   24|                   22|                    4|                    4|                    0|               0|             64|                3|                   4|                  20|                  33|                   9|                  11|                   7|                   5|                    0|            92|            121|            113|            726|            666|            348|            151|             81|             24|         3|     2222|                        95|                         7|                        36|                        32|                        20|                        28|                        32|                         9|                            0|                 266|               64|                5|               10|                0|                0|                4|                7|                0|           0|         87|                 38|                 12|                 13|                 12|                  3|                  4|                 10|                  6|             0|          103|                  7|                  8|                 16|                  8|                  4|                  0|                 14|                  4|             3|           76|                  5|                 10|                 17|                 16|                 12|                  4|                 16|                  6|             0|           92|                 16|                 20|                 26|                 19|                 14|                 11|                 14|                  5|             0|          117|\n",
       "|    101021611|                 22|                 24|                 18|                 12|                 36|                 40|                 68|                 50|             4|          278|                 27|                 28|                 26|                 19|                 27|                 68|                 81|                 53|            12|          344|                 24|                 39|                 51|                 40|                 51|                 81|                113|                 44|             6|          437|                 17|                 38|                 54|                 45|                 54|                 69|                 59|                 33|             4|          365|                 12|                 46|                 74|                 73|                 97|                 81|                 64|                 14|             3|          457|                   14|                   58|                   96|                   97|                   93|                  118|                   60|                   16|               0|            560|                    0|                   38|                   95|                   86|                  114|                  105|                   45|                    3|               0|            484|                    0|                   13|                  113|                  107|                  127|                  105|                   30|                    3|               0|            504|                    0|                    3|                   79|                   97|                  118|                   88|                   22|                    4|               0|            419|                    0|                    0|                  101|                  266|                  317|                  166|                   26|                    3|               0|            884|                    0|                    0|                   13|                   42|                   65|                   31|                   11|                    0|               0|            157|                    0|                    0|                   10|                   56|                  112|                   61|                   15|                    3|               0|            252|               34|                  32|                  51|                  57|                  71|                  76|                  49|                  20|                    5|           397|            496|            393|            829|           1073|           1381|           1232|            812|            309|        49|     6579|                       366|                        46|                        47|                        52|                        92|                       150|                       121|                        41|                            3|                 910|              226|               23|               17|               27|               21|               47|               59|               10|           0|        437|                129|                 38|                 32|                 34|                 15|                 57|                 96|                 47|             9|          462|                 41|                 35|                 25|                 21|                 53|                 61|                132|                 99|            15|          490|                 41|                 46|                 41|                 32|                 45|                105|                164|                 91|            22|          598|                 60|                 65|                 65|                 42|                 66|                119|                172|                 77|             6|          672|\n",
       "|    101031013|                  3|                  6|                  3|                  5|                  8|                 16|                 36|                 18|             4|          103|                  0|                  0|                 11|                  5|                 10|                 15|                 39|                 17|            22|          118|                  3|                  3|                  9|                 19|                 15|                 23|                 19|                  9|             4|          108|                  0|                  7|                  9|                 18|                 18|                 21|                 14|                  4|            12|          107|                  0|                 10|                 18|                 17|                 15|                 15|                  8|                  6|             0|           89|                    0|                    5|                   13|                   19|                   11|                   17|                    8|                    0|               0|             69|                    0|                    6|                   10|                    5|                    4|                    7|                   10|                    0|               0|             42|                    0|                    0|                    0|                    6|                   10|                    7|                    3|                    5|               0|             36|                    0|                    6|                    8|                    3|                   12|                    8|                    0|                    0|               0|             25|                    0|                    0|                    0|                    8|                    3|                   12|                    8|                    0|               0|             28|                    0|                    0|                    0|                    0|                    4|                    0|                    0|                    0|               0|              5|                    0|                    0|                    0|                    4|                    3|                    0|                    0|                    0|               0|             13|                8|                   9|                  10|                   8|                  18|                  21|                  18|                  19|                    7|           114|             59|             59|            109|            136|            143|            190|            186|             90|        50|     1029|                        48|                         6|                         0|                         6|                        16|                        33|                        28|                        11|                            5|                 142|               17|                0|                7|                3|                3|                3|                9|               11|           0|         54|                 10|                  3|                  0|                  5|                 10|                 18|                 15|                 11|             6|           92|                  5|                  8|                  7|                 10|                 19|                 26|                 74|                 39|            15|          195|                  3|                  0|                 15|                  5|                 16|                 31|                 74|                 29|            18|          191|                  5|                  7|                 16|                 22|                 25|                 35|                 39|                 25|             4|          170|\n",
       "|    101031014|                 11|                 10|                 16|                 12|                 25|                 27|                 69|                 62|            11|          239|                  7|                 14|                 23|                 14|                 33|                 48|                 69|                 79|            41|          322|                 13|                 12|                 27|                 35|                 32|                 41|                 45|                 35|            26|          266|                 10|                 23|                 46|                 50|                 24|                 43|                 39|                 26|            10|          273|                  0|                 28|                 52|                 43|                 43|                 55|                 20|                 17|             3|          259|                    5|                   18|                   47|                   45|                   41|                   46|                   14|                    6|               5|            232|                    0|                    5|                   28|                   28|                   48|                   43|                    8|                    0|               0|            166|                    0|                    4|                   32|                   24|                   25|                   22|                    3|                    5|               8|            123|                    0|                    0|                   15|                   21|                   16|                   13|                    9|                    0|               3|             89|                    0|                    0|                   24|                   34|                   35|                   37|                    3|                    3|               0|            135|                    0|                    0|                    3|                    3|                    9|                    0|                    0|                    0|               0|             22|                    0|                    0|                    0|                    4|                   10|                    3|                    0|                    0|               0|             24|                7|                   7|                  15|                  27|                  31|                  26|                  37|                  25|                   24|           209|            151|            144|            385|            391|            406|            490|            395|            301|       140|     2803|                        93|                        17|                        39|                        41|                        27|                        63|                        43|                        24|                            3|                 343|               86|                0|                5|                7|               13|               16|               21|                7|           5|        161|                 25|                 14|                 19|                 16|                 14|                 40|                 52|                 36|             7|          238|                 18|                 22|                 31|                 17|                 45|                 57|                119|                112|            37|          453|                 14|                 16|                 39|                 23|                 46|                 75|                118|                112|            60|          513|                 23|                 31|                 37|                 49|                 57|                 64|                 82|                 59|            34|          441|\n",
       "|    101031015|                  7|                  6|                  3|                 11|                  9|                 21|                 37|                 23|             0|          117|                  3|                  5|                  8|                  7|                 16|                 25|                 36|                 30|            10|          139|                  4|                  9|                 16|                  9|                 18|                 27|                 15|                 11|             3|          109|                  5|                 12|                 14|                 12|                 23|                 20|                 12|                  5|             0|          103|                  3|                  8|                  8|                 17|                 28|                 12|                 13|                  6|             0|          107|                    0|                    6|                   18|                   14|                   18|                   42|                   10|                    3|               0|            118|                    0|                    3|                   16|                   14|                   21|                   26|                    9|                    4|               0|             88|                    0|                    0|                    8|                   10|                   29|                    8|                    6|                    0|               0|             73|                    0|                    0|                    9|                   13|                   23|                   23|                    0|                    0|               0|             64|                    0|                    0|                   10|                    8|                   24|                   11|                    0|                    0|               0|             57|                    0|                    0|                    0|                    0|                   12|                    3|                    0|                    0|               0|             18|                    0|                    0|                    0|                    6|                   11|                    3|                    0|                    0|               0|             22|                8|                   8|                  17|                  14|                  24|                  23|                  24|                  21|                   13|           150|             88|             65|            144|            156|            288|            291|            215|            125|        30|     1403|                        60|                         4|                         8|                        12|                        22|                        48|                        27|                        15|                            4|                 198|               47|                7|                3|                0|                3|               11|                7|                7|           0|         88|                 16|                 13|                  8|                 11|                 10|                 36|                 34|                 13|             3|          138|                  6|                 13|                 10|                 12|                 19|                 45|                 76|                 51|             8|          234|                 10|                  7|                  7|                 10|                 21|                 41|                 79|                 47|            19|          245|                 15|                 15|                 23|                 12|                 39|                 43|                 29|                 29|             3|          207|\n",
       "+-------------+-------------------+-------------------+-------------------+-------------------+-------------------+-------------------+-------------------+-------------------+--------------+-------------+-------------------+-------------------+-------------------+-------------------+-------------------+-------------------+-------------------+-------------------+--------------+-------------+-------------------+-------------------+-------------------+-------------------+-------------------+-------------------+-------------------+-------------------+--------------+-------------+-------------------+-------------------+-------------------+-------------------+-------------------+-------------------+-------------------+-------------------+--------------+-------------+-------------------+-------------------+-------------------+-------------------+-------------------+-------------------+-------------------+-------------------+--------------+-------------+---------------------+---------------------+---------------------+---------------------+---------------------+---------------------+---------------------+---------------------+----------------+---------------+---------------------+---------------------+---------------------+---------------------+---------------------+---------------------+---------------------+---------------------+----------------+---------------+---------------------+---------------------+---------------------+---------------------+---------------------+---------------------+---------------------+---------------------+----------------+---------------+---------------------+---------------------+---------------------+---------------------+---------------------+---------------------+---------------------+---------------------+----------------+---------------+---------------------+---------------------+---------------------+---------------------+---------------------+---------------------+---------------------+---------------------+----------------+---------------+---------------------+---------------------+---------------------+---------------------+---------------------+---------------------+---------------------+---------------------+----------------+---------------+---------------------+---------------------+---------------------+---------------------+---------------------+---------------------+---------------------+---------------------+----------------+---------------+-----------------+--------------------+--------------------+--------------------+--------------------+--------------------+--------------------+--------------------+---------------------+--------------+---------------+---------------+---------------+---------------+---------------+---------------+---------------+---------------+----------+---------+--------------------------+--------------------------+--------------------------+--------------------------+--------------------------+--------------------------+--------------------------+--------------------------+-----------------------------+--------------------+-----------------+-----------------+-----------------+-----------------+-----------------+-----------------+-----------------+-----------------+------------+-----------+-------------------+-------------------+-------------------+-------------------+-------------------+-------------------+-------------------+-------------------+--------------+-------------+-------------------+-------------------+-------------------+-------------------+-------------------+-------------------+-------------------+-------------------+--------------+-------------+-------------------+-------------------+-------------------+-------------------+-------------------+-------------------+-------------------+-------------------+--------------+-------------+-------------------+-------------------+-------------------+-------------------+-------------------+-------------------+-------------------+-------------------+--------------+-------------+"
      ]
     },
     "execution_count": 8,
     "metadata": {},
     "output_type": "execute_result"
    }
   ],
   "source": [
    "# 2021 census data CSVs\n",
    "\n",
    "path = '../data/externaldataset/2021 Census GCP Statistical Area 2 for AUS/*'\n",
    "sa2_census = spark.read.csv(path, header=True)\n",
    "\n",
    "sa2_census.limit(10)\n"
   ]
  },
  {
   "cell_type": "code",
   "execution_count": 9,
   "metadata": {},
   "outputs": [],
   "source": [
    "###############################################################################################################################################################################################"
   ]
  },
  {
   "cell_type": "code",
   "execution_count": 10,
   "metadata": {},
   "outputs": [
    {
     "data": {
      "text/html": [
       "<div>\n",
       "<style scoped>\n",
       "    .dataframe tbody tr th:only-of-type {\n",
       "        vertical-align: middle;\n",
       "    }\n",
       "\n",
       "    .dataframe tbody tr th {\n",
       "        vertical-align: top;\n",
       "    }\n",
       "\n",
       "    .dataframe thead th {\n",
       "        text-align: right;\n",
       "    }\n",
       "</style>\n",
       "<table border=\"1\" class=\"dataframe\">\n",
       "  <thead>\n",
       "    <tr style=\"text-align: right;\">\n",
       "      <th>6</th>\n",
       "      <th>SA4 name</th>\n",
       "      <th>SA3 name</th>\n",
       "      <th>SA2 code</th>\n",
       "      <th>SA2 name</th>\n",
       "      <th>population_2021</th>\n",
       "    </tr>\n",
       "  </thead>\n",
       "  <tbody>\n",
       "    <tr>\n",
       "      <th>8</th>\n",
       "      <td>Capital Region</td>\n",
       "      <td>Queanbeyan</td>\n",
       "      <td>101021007</td>\n",
       "      <td>Braidwood</td>\n",
       "      <td>4332</td>\n",
       "    </tr>\n",
       "    <tr>\n",
       "      <th>9</th>\n",
       "      <td>Capital Region</td>\n",
       "      <td>Queanbeyan</td>\n",
       "      <td>101021008</td>\n",
       "      <td>Karabar</td>\n",
       "      <td>8548</td>\n",
       "    </tr>\n",
       "    <tr>\n",
       "      <th>10</th>\n",
       "      <td>Capital Region</td>\n",
       "      <td>Queanbeyan</td>\n",
       "      <td>101021009</td>\n",
       "      <td>Queanbeyan</td>\n",
       "      <td>11375</td>\n",
       "    </tr>\n",
       "    <tr>\n",
       "      <th>11</th>\n",
       "      <td>Capital Region</td>\n",
       "      <td>Queanbeyan</td>\n",
       "      <td>101021010</td>\n",
       "      <td>Queanbeyan - East</td>\n",
       "      <td>5097</td>\n",
       "    </tr>\n",
       "    <tr>\n",
       "      <th>12</th>\n",
       "      <td>Capital Region</td>\n",
       "      <td>Queanbeyan</td>\n",
       "      <td>101021012</td>\n",
       "      <td>Queanbeyan West - Jerrabomberra</td>\n",
       "      <td>12748</td>\n",
       "    </tr>\n",
       "  </tbody>\n",
       "</table>\n",
       "</div>"
      ],
      "text/plain": [
       "6         SA4 name    SA3 name   SA2 code                         SA2 name  \\\n",
       "8   Capital Region  Queanbeyan  101021007                        Braidwood   \n",
       "9   Capital Region  Queanbeyan  101021008                          Karabar   \n",
       "10  Capital Region  Queanbeyan  101021009                       Queanbeyan   \n",
       "11  Capital Region  Queanbeyan  101021010                Queanbeyan - East   \n",
       "12  Capital Region  Queanbeyan  101021012  Queanbeyan West - Jerrabomberra   \n",
       "\n",
       "6  population_2021  \n",
       "8             4332  \n",
       "9             8548  \n",
       "10           11375  \n",
       "11            5097  \n",
       "12           12748  "
      ]
     },
     "execution_count": 10,
     "metadata": {},
     "output_type": "execute_result"
    }
   ],
   "source": [
    "# SA2 population data\n",
    "\n",
    "path = '../data/externaldataset/SA2_Populations_AUS.xlsx'\n",
    "\n",
    "# Have to manually fix the dataframe as the formatting is messed up\n",
    "\n",
    "sa2_pops = pd.read_excel(path, sheet_name=1)\n",
    "\n",
    "# remove empty / useless rows at top\n",
    "sa2_pops = sa2_pops.iloc[5:,:]\n",
    "\n",
    "sa2_pops.head()\n",
    "\n",
    "# drop unnecessary columns\n",
    "sa2_pops = sa2_pops.drop(sa2_pops.iloc[:, 10:30],axis = 1)\n",
    "\n",
    "sa2_pops = sa2_pops.drop(sa2_pops.columns[[0,1,2,3,4,6,11]], axis=1)\n",
    "\n",
    "# fix header\n",
    "sa2_pops.columns = sa2_pops.iloc[1]\n",
    "\n",
    "sa2_pops = sa2_pops[3:]\n",
    "\n",
    "# drop empty rows at bottom of table\n",
    "sa2_pops = sa2_pops.dropna()\n",
    "\n",
    "sa2_pops = sa2_pops.rename(columns={'no.': 'population_2021'})\n",
    "\n",
    "sa2_pops.head()"
   ]
  },
  {
   "cell_type": "code",
   "execution_count": 11,
   "metadata": {},
   "outputs": [],
   "source": [
    "###############################################################################################################################################################################################"
   ]
  },
  {
   "cell_type": "code",
   "execution_count": 12,
   "metadata": {},
   "outputs": [
    {
     "data": {
      "text/html": [
       "<table border='1'>\n",
       "<tr><th>LOCALITY_ID</th><th>LOCALITY_NAME </th><th>LOCALITY_TYPE</th><th>POSTCODE</th><th>STATE</th><th>SA2_MAINCODE_2021</th><th>SA2_NAME_2021</th></tr>\n",
       "<tr><td>ABS195</td><td>ACTON PARK</td><td>EXTRA LOCALITY</td><td>2600</td><td>ACT</td><td>801051123</td><td>Black Mountain</td></tr>\n",
       "<tr><td>loc6f02f098e82d</td><td>ACTON</td><td>GAZETTED LOCALITY</td><td>2601</td><td>ACT</td><td>801051049</td><td>Acton</td></tr>\n",
       "<tr><td>loc6f02f098e82d</td><td>ANU</td><td>ALIAS LOCALITY</td><td>2601</td><td>ACT</td><td>801051049</td><td>Acton</td></tr>\n",
       "<tr><td>loc6f02f098e82d</td><td>AUSTRALIAN NATION...</td><td>ALIAS LOCALITY</td><td>2601</td><td>ACT</td><td>801051049</td><td>Acton</td></tr>\n",
       "<tr><td>loc6f02f098e82d</td><td>SPINNAKER ISLAND</td><td>ALIAS LOCALITY</td><td>2601</td><td>ACT</td><td>801051049</td><td>Acton</td></tr>\n",
       "<tr><td>loc6f02f098e82d</td><td>SPRINGBANK ISLAND</td><td>ALIAS LOCALITY</td><td>2601</td><td>ACT</td><td>801051049</td><td>Acton</td></tr>\n",
       "<tr><td>loc8af26acb532d</td><td>AINSLIE</td><td>GAZETTED LOCALITY</td><td>2602</td><td>ACT</td><td>801051050</td><td>Ainslie</td></tr>\n",
       "<tr><td>locf0cacaa1119e</td><td>AMAROO</td><td>GAZETTED LOCALITY</td><td>2914</td><td>ACT</td><td>801041034</td><td>Amaroo</td></tr>\n",
       "<tr><td>locf94248966b6c</td><td>ARANDA</td><td>GAZETTED LOCALITY</td><td>2614</td><td>ACT</td><td>801011001</td><td>Aranda</td></tr>\n",
       "<tr><td>ABS358</td><td>BELLVIEW</td><td>EXTRA LOCALITY</td><td>2620</td><td>ACT</td><td>801071089</td><td>Tuggeranong</td></tr>\n",
       "</table>\n"
      ],
      "text/plain": [
       "+---------------+--------------------+-----------------+--------+-----+-----------------+--------------+\n",
       "|    LOCALITY_ID|      LOCALITY_NAME |    LOCALITY_TYPE|POSTCODE|STATE|SA2_MAINCODE_2021| SA2_NAME_2021|\n",
       "+---------------+--------------------+-----------------+--------+-----+-----------------+--------------+\n",
       "|         ABS195|          ACTON PARK|   EXTRA LOCALITY|    2600|  ACT|        801051123|Black Mountain|\n",
       "|loc6f02f098e82d|               ACTON|GAZETTED LOCALITY|    2601|  ACT|        801051049|         Acton|\n",
       "|loc6f02f098e82d|                 ANU|   ALIAS LOCALITY|    2601|  ACT|        801051049|         Acton|\n",
       "|loc6f02f098e82d|AUSTRALIAN NATION...|   ALIAS LOCALITY|    2601|  ACT|        801051049|         Acton|\n",
       "|loc6f02f098e82d|    SPINNAKER ISLAND|   ALIAS LOCALITY|    2601|  ACT|        801051049|         Acton|\n",
       "|loc6f02f098e82d|   SPRINGBANK ISLAND|   ALIAS LOCALITY|    2601|  ACT|        801051049|         Acton|\n",
       "|loc8af26acb532d|             AINSLIE|GAZETTED LOCALITY|    2602|  ACT|        801051050|       Ainslie|\n",
       "|locf0cacaa1119e|              AMAROO|GAZETTED LOCALITY|    2914|  ACT|        801041034|        Amaroo|\n",
       "|locf94248966b6c|              ARANDA|GAZETTED LOCALITY|    2614|  ACT|        801011001|        Aranda|\n",
       "|         ABS358|            BELLVIEW|   EXTRA LOCALITY|    2620|  ACT|        801071089|   Tuggeranong|\n",
       "+---------------+--------------------+-----------------+--------+-----+-----------------+--------------+"
      ]
     },
     "execution_count": 12,
     "metadata": {},
     "output_type": "execute_result"
    }
   ],
   "source": [
    "# Locality to SA2 coding index CSV\n",
    "\n",
    "path = '../data/externaldataset/2022 Locality to 2021 SA2 Coding Index.csv'\n",
    "\n",
    "sa2_to_postcode = spark.read.csv(path, header=True)\n",
    "\n",
    "sa2_to_postcode.limit(10)"
   ]
  },
  {
   "cell_type": "markdown",
   "metadata": {},
   "source": [
    "## 1st Step: Remove useless columns, data type conversions, rename columns where necessary"
   ]
  },
  {
   "cell_type": "markdown",
   "metadata": {},
   "source": [
    "### Transactions"
   ]
  },
  {
   "cell_type": "code",
   "execution_count": null,
   "metadata": {},
   "outputs": [
    {
     "name": "stdout",
     "output_type": "stream",
     "text": [
      "root\n",
      " |-- user_id: long (nullable = true)\n",
      " |-- merchant_abn: long (nullable = true)\n",
      " |-- dollar_value: double (nullable = true)\n",
      " |-- order_id: string (nullable = true)\n",
      " |-- order_datetime: date (nullable = true)\n",
      "\n",
      "root\n",
      " |-- user_id: long (nullable = true)\n",
      " |-- merchant_abn: long (nullable = true)\n",
      " |-- dollar_value: double (nullable = true)\n",
      " |-- order_id: string (nullable = true)\n",
      " |-- order_datetime: date (nullable = true)\n",
      "\n",
      "root\n",
      " |-- user_id: long (nullable = true)\n",
      " |-- merchant_abn: long (nullable = true)\n",
      " |-- dollar_value: double (nullable = true)\n",
      " |-- order_id: string (nullable = true)\n",
      " |-- order_datetime: date (nullable = true)\n",
      "\n"
     ]
    }
   ],
   "source": [
    "#transactions_21_02_21_08 = transactions_21_02_21_08.drop('order_id')\n",
    "\n",
    "#transactions_21_08_22_02 = transactions_21_08_22_02.drop('order_id')\n",
    "\n",
    "#transactions_22_02_22_08 = transactions_22_02_22_08.drop('order_id')\n",
    "\n",
    "transactions_21_02_21_08.printSchema()\n",
    "\n",
    "transactions_21_08_22_02.printSchema()\n",
    "\n",
    "transactions_22_02_22_08.printSchema()"
   ]
  },
  {
   "cell_type": "markdown",
   "metadata": {},
   "source": [
    "### Consumer Data"
   ]
  },
  {
   "cell_type": "code",
   "execution_count": 13,
   "metadata": {},
   "outputs": [
    {
     "name": "stdout",
     "output_type": "stream",
     "text": [
      "root\n",
      " |-- user_id: long (nullable = true)\n",
      " |-- order_datetime: date (nullable = true)\n",
      " |-- consumer_fraud_probability_%: double (nullable = true)\n",
      "\n"
     ]
    }
   ],
   "source": [
    "cust_fp = \\\n",
    "cust_fp.withColumn(\n",
    "    'user_id',\n",
    "    F.col('user_id').cast('long')\n",
    ").withColumn(\n",
    "    'order_datetime',\n",
    "    F.col('order_datetime').cast('date')\n",
    ").withColumn(\n",
    "    'consumer_fraud_probability_%',\n",
    "    F.col('fraud_probability').cast('double')\n",
    ").drop('fraud_probability')\n",
    "\n",
    "cust_fp.printSchema()\n"
   ]
  },
  {
   "cell_type": "code",
   "execution_count": 14,
   "metadata": {},
   "outputs": [
    {
     "name": "stdout",
     "output_type": "stream",
     "text": [
      "root\n",
      " |-- user_id: long (nullable = true)\n",
      " |-- consumer_id: long (nullable = true)\n",
      "\n"
     ]
    }
   ],
   "source": [
    "cust_user_det.printSchema()"
   ]
  },
  {
   "cell_type": "code",
   "execution_count": null,
   "metadata": {},
   "outputs": [
    {
     "name": "stdout",
     "output_type": "stream",
     "text": [
      "root\n",
      " |-- consumer_name: string (nullable = true)\n",
      " |-- consumer_state: string (nullable = true)\n",
      " |-- consumer_postcode: long (nullable = true)\n",
      " |-- consumer_gender: string (nullable = true)\n",
      " |-- consumer_id: long (nullable = true)\n",
      "\n"
     ]
    }
   ],
   "source": [
    "cust_tbl = \\\n",
    "cust_tbl.withColumn(\n",
    "    'postcode',\n",
    "    F.col('postcode').cast('long')\n",
    ").withColumnRenamed(\n",
    "    'name',\n",
    "    'consumer_name'   \n",
    ").withColumnRenamed(\n",
    "    'state',\n",
    "    'consumer_state'   \n",
    ").withColumnRenamed(\n",
    "    'postcode',\n",
    "    'consumer_postcode'   \n",
    ").withColumnRenamed(\n",
    "    'gender',\n",
    "    'consumer_gender'   \n",
    ").withColumn(\n",
    "    'consumer_id',\n",
    "    F.col('consumer_id').cast('long')\n",
    ").drop('address')\n",
    "\n",
    "cust_tbl.printSchema()"
   ]
  },
  {
   "cell_type": "markdown",
   "metadata": {},
   "source": [
    "### Merchant Data"
   ]
  },
  {
   "cell_type": "code",
   "execution_count": 16,
   "metadata": {},
   "outputs": [
    {
     "name": "stdout",
     "output_type": "stream",
     "text": [
      "root\n",
      " |-- merchant_abn: long (nullable = true)\n",
      " |-- order_datetime: date (nullable = true)\n",
      " |-- merchant_fraud_probability_%: double (nullable = true)\n",
      "\n"
     ]
    }
   ],
   "source": [
    "merch_fp = \\\n",
    "merch_fp.withColumn(\n",
    "    'merchant_abn',\n",
    "    F.col('merchant_abn').cast('long')\n",
    ").withColumn(\n",
    "    'order_datetime',\n",
    "    F.col('order_datetime').cast('date')\n",
    ").withColumn(\n",
    "    'merchant_fraud_probability_%',\n",
    "    F.col('fraud_probability').cast('double')\n",
    ").drop('fraud_probability')\n",
    "\n",
    "merch_fp.printSchema()"
   ]
  },
  {
   "cell_type": "code",
   "execution_count": 17,
   "metadata": {},
   "outputs": [
    {
     "name": "stdout",
     "output_type": "stream",
     "text": [
      "root\n",
      " |-- merchant_name: string (nullable = true)\n",
      " |-- tags: string (nullable = true)\n",
      " |-- merchant_abn: long (nullable = true)\n",
      "\n"
     ]
    }
   ],
   "source": [
    "merch_tbl = \\\n",
    "merch_tbl.withColumnRenamed(\n",
    "    'name',\n",
    "    'merchant_name'\n",
    ")\n",
    "\n",
    "merch_tbl.printSchema()"
   ]
  },
  {
   "cell_type": "markdown",
   "metadata": {},
   "source": [
    "### External Data"
   ]
  },
  {
   "cell_type": "code",
   "execution_count": 19,
   "metadata": {},
   "outputs": [
    {
     "data": {
      "text/html": [
       "<table border='1'>\n",
       "<tr><th>SA2_CODE_2021</th><th>F_300_399_15_19_yrs</th><th>F_300_399_20_24_yrs</th><th>F_300_399_25_34_yrs</th><th>F_300_399_35_44_yrs</th><th>F_300_399_45_54_yrs</th><th>F_300_399_55_64_yrs</th><th>F_300_399_65_74_yrs</th><th>F_300_399_75_84_yrs</th><th>F_300_399_85ov</th><th>F_300_399_Tot</th><th>F_400_499_15_19_yrs</th><th>F_400_499_20_24_yrs</th><th>F_400_499_25_34_yrs</th><th>F_400_499_35_44_yrs</th><th>F_400_499_45_54_yrs</th><th>F_400_499_55_64_yrs</th><th>F_400_499_65_74_yrs</th><th>F_400_499_75_84_yrs</th><th>F_400_499_85ov</th><th>F_400_499_Tot</th><th>F_500_649_15_19_yrs</th><th>F_500_649_20_24_yrs</th><th>F_500_649_25_34_yrs</th><th>F_500_649_35_44_yrs</th><th>F_500_649_45_54_yrs</th><th>F_500_649_55_64_yrs</th><th>F_500_649_65_74_yrs</th><th>F_500_649_75_84_yrs</th><th>F_500_649_85ov</th><th>F_500_649_Tot</th><th>F_650_799_15_19_yrs</th><th>F_650_799_20_24_yrs</th><th>F_650_799_25_34_yrs</th><th>F_650_799_35_44_yrs</th><th>F_650_799_45_54_yrs</th><th>F_650_799_55_64_yrs</th><th>F_650_799_65_74_yrs</th><th>F_650_799_75_84_yrs</th><th>F_650_799_85ov</th><th>F_650_799_Tot</th><th>F_800_999_15_19_yrs</th><th>F_800_999_20_24_yrs</th><th>F_800_999_25_34_yrs</th><th>F_800_999_35_44_yrs</th><th>F_800_999_45_54_yrs</th><th>F_800_999_55_64_yrs</th><th>F_800_999_65_74_yrs</th><th>F_800_999_75_84_yrs</th><th>F_800_999_85ov</th><th>F_800_999_Tot</th><th>F_1000_1249_15_19_yrs</th><th>F_1000_1249_20_24_yrs</th><th>F_1000_1249_25_34_yrs</th><th>F_1000_1249_35_44_yrs</th><th>F_1000_1249_45_54_yrs</th><th>F_1000_1249_55_64_yrs</th><th>F_1000_1249_65_74_yrs</th><th>F_1000_1249_75_84_yrs</th><th>F_1000_1249_85ov</th><th>F_1000_1249_Tot</th><th>F_1250_1499_15_19_yrs</th><th>F_1250_1499_20_24_yrs</th><th>F_1250_1499_25_34_yrs</th><th>F_1250_1499_35_44_yrs</th><th>F_1250_1499_45_54_yrs</th><th>F_1250_1499_55_64_yrs</th><th>F_1250_1499_65_74_yrs</th><th>F_1250_1499_75_84_yrs</th><th>F_1250_1499_85ov</th><th>F_1250_1499_Tot</th><th>F_1500_1749_15_19_yrs</th><th>F_1500_1749_20_24_yrs</th><th>F_1500_1749_25_34_yrs</th><th>F_1500_1749_35_44_yrs</th><th>F_1500_1749_45_54_yrs</th><th>F_1500_1749_55_64_yrs</th><th>F_1500_1749_65_74_yrs</th><th>F_1500_1749_75_84_yrs</th><th>F_1500_1749_85ov</th><th>F_1500_1749_Tot</th><th>F_1750_1999_15_19_yrs</th><th>F_1750_1999_20_24_yrs</th><th>F_1750_1999_25_34_yrs</th><th>F_1750_1999_35_44_yrs</th><th>F_1750_1999_45_54_yrs</th><th>F_1750_1999_55_64_yrs</th><th>F_1750_1999_65_74_yrs</th><th>F_1750_1999_75_84_yrs</th><th>F_1750_1999_85ov</th><th>F_1750_1999_Tot</th><th>F_2000_2999_15_19_yrs</th><th>F_2000_2999_20_24_yrs</th><th>F_2000_2999_25_34_yrs</th><th>F_2000_2999_35_44_yrs</th><th>F_2000_2999_45_54_yrs</th><th>F_2000_2999_55_64_yrs</th><th>F_2000_2999_65_74_yrs</th><th>F_2000_2999_75_84_yrs</th><th>F_2000_2999_85ov</th><th>F_2000_2999_Tot</th><th>F_3000_3499_15_19_yrs</th><th>F_3000_3499_20_24_yrs</th><th>F_3000_3499_25_34_yrs</th><th>F_3000_3499_35_44_yrs</th><th>F_3000_3499_45_54_yrs</th><th>F_3000_3499_55_64_yrs</th><th>F_3000_3499_65_74_yrs</th><th>F_3000_3499_75_84_yrs</th><th>F_3000_3499_85ov</th><th>F_3000_3499_Tot</th><th>F_3500_more_15_19_yrs</th><th>F_3500_more_20_24_yrs</th><th>F_3500_more_25_34_yrs</th><th>F_3500_more_35_44_yrs</th><th>F_3500_more_45_54_yrs</th><th>F_3500_more_55_64_yrs</th><th>F_3500_more_65_74_yrs</th><th>F_3500_more_75_84_yrs</th><th>F_3500_more_85ov</th><th>F_3500_more_Tot</th><th>F_PI_NS_15_19_yrs</th><th>F_PI_NS_ns_20_24_yrs</th><th>F_PI_NS_ns_25_34_yrs</th><th>F_PI_NS_ns_35_44_yrs</th><th>F_PI_NS_ns_45_54_yrs</th><th>F_PI_NS_ns_55_64_yrs</th><th>F_PI_NS_ns_65_74_yrs</th><th>F_PI_NS_ns_75_84_yrs</th><th>F_PI_NS_ns_85_yrs_ovr</th><th>F_PI_NS_ns_Tot</th><th>F_Tot_15_19_yrs</th><th>F_Tot_20_24_yrs</th><th>F_Tot_25_34_yrs</th><th>F_Tot_35_44_yrs</th><th>F_Tot_45_54_yrs</th><th>F_Tot_55_64_yrs</th><th>F_Tot_65_74_yrs</th><th>F_Tot_75_84_yrs</th><th>F_Tot_85ov</th><th>F_Tot_Tot</th><th>P_Neg_Nil_income_15_19_yrs</th><th>P_Neg_Nil_income_20_24_yrs</th><th>P_Neg_Nil_income_25_34_yrs</th><th>P_Neg_Nil_income_35_44_yrs</th><th>P_Neg_Nil_income_45_54_yrs</th><th>P_Neg_Nil_income_55_64_yrs</th><th>P_Neg_Nil_income_65_74_yrs</th><th>P_Neg_Nil_income_75_84_yrs</th><th>P_Negtve_Nil_incme_85_yrs_ovr</th><th>P_Neg_Nil_income_Tot</th><th>P_1_149_15_19_yrs</th><th>P_1_149_20_24_yrs</th><th>P_1_149_25_34_yrs</th><th>P_1_149_35_44_yrs</th><th>P_1_149_45_54_yrs</th><th>P_1_149_55_64_yrs</th><th>P_1_149_65_74_yrs</th><th>P_1_149_75_84_yrs</th><th>P_1_149_85ov</th><th>P_1_149_Tot</th><th>P_150_299_15_19_yrs</th><th>P_150_299_20_24_yrs</th><th>P_150_299_25_34_yrs</th><th>P_150_299_35_44_yrs</th><th>P_150_299_45_54_yrs</th><th>P_150_299_55_64_yrs</th><th>P_150_299_65_74_yrs</th><th>P_150_299_75_84_yrs</th><th>P_150_299_85ov</th><th>P_150_299_Tot</th><th>P_300_399_15_19_yrs</th><th>P_300_399_20_24_yrs</th><th>P_300_399_25_34_yrs</th><th>P_300_399_35_44_yrs</th><th>P_300_399_45_54_yrs</th><th>P_300_399_55_64_yrs</th><th>P_300_399_65_74_yrs</th><th>P_300_399_75_84_yrs</th><th>P_300_399_85ov</th><th>P_300_399_Tot</th><th>P_400_499_15_19_yrs</th><th>P_400_499_20_24_yrs</th><th>P_400_499_25_34_yrs</th><th>P_400_499_35_44_yrs</th><th>P_400_499_45_54_yrs</th><th>P_400_499_55_64_yrs</th><th>P_400_499_65_74_yrs</th><th>P_400_499_75_84_yrs</th><th>P_400_499_85ov</th><th>P_400_499_Tot</th><th>P_500_649_15_19_yrs</th><th>P_500_649_20_24_yrs</th><th>P_500_649_25_34_yrs</th><th>P_500_649_35_44_yrs</th><th>P_500_649_45_54_yrs</th><th>P_500_649_55_64_yrs</th><th>P_500_649_65_74_yrs</th><th>P_500_649_75_84_yrs</th><th>P_500_649_85ov</th><th>P_500_649_Tot</th></tr>\n",
       "<tr><td>101021007</td><td>3</td><td>7</td><td>3</td><td>19</td><td>15</td><td>38</td><td>44</td><td>30</td><td>3</td><td>160</td><td>0</td><td>3</td><td>4</td><td>15</td><td>26</td><td>31</td><td>45</td><td>35</td><td>15</td><td>174</td><td>3</td><td>4</td><td>12</td><td>16</td><td>24</td><td>29</td><td>35</td><td>24</td><td>7</td><td>160</td><td>0</td><td>13</td><td>16</td><td>14</td><td>23</td><td>26</td><td>24</td><td>16</td><td>5</td><td>141</td><td>0</td><td>5</td><td>15</td><td>27</td><td>26</td><td>34</td><td>25</td><td>10</td><td>0</td><td>146</td><td>0</td><td>4</td><td>21</td><td>17</td><td>26</td><td>33</td><td>21</td><td>5</td><td>0</td><td>135</td><td>0</td><td>4</td><td>19</td><td>15</td><td>22</td><td>29</td><td>11</td><td>0</td><td>4</td><td>101</td><td>0</td><td>0</td><td>15</td><td>17</td><td>21</td><td>19</td><td>10</td><td>0</td><td>0</td><td>83</td><td>0</td><td>0</td><td>5</td><td>13</td><td>15</td><td>19</td><td>3</td><td>0</td><td>0</td><td>52</td><td>0</td><td>0</td><td>19</td><td>29</td><td>38</td><td>19</td><td>7</td><td>0</td><td>3</td><td>114</td><td>0</td><td>0</td><td>5</td><td>3</td><td>3</td><td>3</td><td>4</td><td>0</td><td>0</td><td>12</td><td>0</td><td>0</td><td>0</td><td>4</td><td>13</td><td>9</td><td>0</td><td>3</td><td>0</td><td>32</td><td>9</td><td>0</td><td>21</td><td>17</td><td>24</td><td>30</td><td>32</td><td>25</td><td>6</td><td>170</td><td>85</td><td>52</td><td>185</td><td>230</td><td>316</td><td>388</td><td>315</td><td>186</td><td>49</td><td>1807</td><td>49</td><td>3</td><td>17</td><td>18</td><td>25</td><td>56</td><td>41</td><td>18</td><td>0</td><td>225</td><td>37</td><td>4</td><td>3</td><td>8</td><td>10</td><td>23</td><td>29</td><td>8</td><td>4</td><td>140</td><td>20</td><td>14</td><td>14</td><td>16</td><td>15</td><td>37</td><td>33</td><td>31</td><td>7</td><td>196</td><td>4</td><td>12</td><td>14</td><td>26</td><td>33</td><td>59</td><td>84</td><td>66</td><td>13</td><td>307</td><td>7</td><td>0</td><td>12</td><td>25</td><td>38</td><td>66</td><td>88</td><td>51</td><td>21</td><td>312</td><td>15</td><td>7</td><td>18</td><td>21</td><td>49</td><td>49</td><td>61</td><td>41</td><td>13</td><td>274</td></tr>\n",
       "<tr><td>101021008</td><td>9</td><td>14</td><td>16</td><td>23</td><td>18</td><td>39</td><td>69</td><td>36</td><td>11</td><td>234</td><td>15</td><td>15</td><td>42</td><td>29</td><td>22</td><td>31</td><td>56</td><td>73</td><td>28</td><td>306</td><td>15</td><td>17</td><td>55</td><td>37</td><td>29</td><td>42</td><td>39</td><td>32</td><td>6</td><td>261</td><td>6</td><td>27</td><td>44</td><td>45</td><td>31</td><td>34</td><td>24</td><td>18</td><td>4</td><td>238</td><td>12</td><td>28</td><td>66</td><td>49</td><td>46</td><td>51</td><td>20</td><td>8</td><td>0</td><td>284</td><td>3</td><td>26</td><td>69</td><td>54</td><td>77</td><td>55</td><td>28</td><td>8</td><td>0</td><td>318</td><td>0</td><td>31</td><td>68</td><td>69</td><td>55</td><td>41</td><td>10</td><td>3</td><td>0</td><td>289</td><td>0</td><td>13</td><td>74</td><td>53</td><td>66</td><td>48</td><td>8</td><td>0</td><td>0</td><td>271</td><td>0</td><td>5</td><td>33</td><td>45</td><td>51</td><td>32</td><td>0</td><td>0</td><td>0</td><td>172</td><td>0</td><td>3</td><td>54</td><td>78</td><td>82</td><td>41</td><td>0</td><td>0</td><td>0</td><td>259</td><td>0</td><td>0</td><td>9</td><td>16</td><td>13</td><td>11</td><td>0</td><td>0</td><td>0</td><td>45</td><td>0</td><td>0</td><td>5</td><td>5</td><td>10</td><td>9</td><td>0</td><td>0</td><td>0</td><td>29</td><td>23</td><td>18</td><td>55</td><td>40</td><td>30</td><td>33</td><td>26</td><td>20</td><td>3</td><td>245</td><td>249</td><td>237</td><td>632</td><td>577</td><td>591</td><td>556</td><td>377</td><td>228</td><td>60</td><td>3509</td><td>178</td><td>25</td><td>42</td><td>43</td><td>47</td><td>72</td><td>58</td><td>26</td><td>6</td><td>495</td><td>86</td><td>4</td><td>6</td><td>8</td><td>12</td><td>20</td><td>21</td><td>5</td><td>0</td><td>165</td><td>59</td><td>21</td><td>35</td><td>24</td><td>22</td><td>43</td><td>54</td><td>22</td><td>7</td><td>290</td><td>23</td><td>29</td><td>33</td><td>27</td><td>47</td><td>56</td><td>124</td><td>69</td><td>21</td><td>435</td><td>25</td><td>33</td><td>62</td><td>40</td><td>45</td><td>57</td><td>100</td><td>95</td><td>35</td><td>484</td><td>47</td><td>36</td><td>69</td><td>46</td><td>38</td><td>56</td><td>68</td><td>54</td><td>6</td><td>416</td></tr>\n",
       "<tr><td>101021009</td><td>8</td><td>32</td><td>43</td><td>19</td><td>20</td><td>28</td><td>65</td><td>65</td><td>50</td><td>336</td><td>6</td><td>15</td><td>66</td><td>23</td><td>27</td><td>55</td><td>94</td><td>91</td><td>54</td><td>437</td><td>9</td><td>41</td><td>78</td><td>41</td><td>27</td><td>27</td><td>49</td><td>41</td><td>23</td><td>336</td><td>5</td><td>48</td><td>99</td><td>57</td><td>48</td><td>49</td><td>40</td><td>17</td><td>18</td><td>371</td><td>4</td><td>50</td><td>134</td><td>69</td><td>58</td><td>57</td><td>36</td><td>11</td><td>3</td><td>425</td><td>4</td><td>48</td><td>165</td><td>92</td><td>57</td><td>65</td><td>30</td><td>9</td><td>3</td><td>468</td><td>0</td><td>41</td><td>131</td><td>82</td><td>58</td><td>47</td><td>22</td><td>4</td><td>0</td><td>383</td><td>0</td><td>13</td><td>128</td><td>101</td><td>65</td><td>54</td><td>11</td><td>3</td><td>0</td><td>368</td><td>0</td><td>3</td><td>75</td><td>75</td><td>52</td><td>35</td><td>13</td><td>0</td><td>0</td><td>254</td><td>0</td><td>3</td><td>89</td><td>115</td><td>113</td><td>62</td><td>9</td><td>3</td><td>0</td><td>393</td><td>0</td><td>0</td><td>8</td><td>6</td><td>17</td><td>8</td><td>0</td><td>0</td><td>0</td><td>35</td><td>0</td><td>0</td><td>6</td><td>17</td><td>27</td><td>16</td><td>5</td><td>3</td><td>0</td><td>69</td><td>7</td><td>14</td><td>68</td><td>38</td><td>23</td><td>31</td><td>41</td><td>42</td><td>52</td><td>330</td><td>180</td><td>335</td><td>1185</td><td>797</td><td>640</td><td>608</td><td>477</td><td>324</td><td>227</td><td>4771</td><td>160</td><td>24</td><td>108</td><td>60</td><td>46</td><td>63</td><td>49</td><td>19</td><td>9</td><td>541</td><td>82</td><td>3</td><td>17</td><td>15</td><td>10</td><td>18</td><td>25</td><td>14</td><td>9</td><td>190</td><td>56</td><td>30</td><td>27</td><td>21</td><td>26</td><td>36</td><td>40</td><td>35</td><td>11</td><td>280</td><td>22</td><td>43</td><td>68</td><td>46</td><td>39</td><td>58</td><td>114</td><td>120</td><td>77</td><td>588</td><td>24</td><td>44</td><td>105</td><td>43</td><td>48</td><td>98</td><td>150</td><td>129</td><td>76</td><td>711</td><td>18</td><td>67</td><td>132</td><td>69</td><td>61</td><td>58</td><td>106</td><td>66</td><td>31</td><td>600</td></tr>\n",
       "<tr><td>101021010</td><td>0</td><td>13</td><td>17</td><td>11</td><td>9</td><td>9</td><td>28</td><td>17</td><td>0</td><td>100</td><td>7</td><td>11</td><td>18</td><td>10</td><td>17</td><td>13</td><td>33</td><td>26</td><td>14</td><td>150</td><td>0</td><td>14</td><td>16</td><td>20</td><td>10</td><td>19</td><td>12</td><td>9</td><td>8</td><td>106</td><td>0</td><td>18</td><td>38</td><td>23</td><td>11</td><td>17</td><td>15</td><td>15</td><td>0</td><td>134</td><td>5</td><td>37</td><td>57</td><td>26</td><td>27</td><td>24</td><td>15</td><td>9</td><td>0</td><td>203</td><td>0</td><td>33</td><td>71</td><td>52</td><td>23</td><td>25</td><td>17</td><td>4</td><td>0</td><td>234</td><td>0</td><td>21</td><td>65</td><td>38</td><td>26</td><td>25</td><td>11</td><td>0</td><td>0</td><td>183</td><td>0</td><td>7</td><td>64</td><td>41</td><td>36</td><td>28</td><td>3</td><td>0</td><td>0</td><td>179</td><td>0</td><td>3</td><td>41</td><td>33</td><td>40</td><td>26</td><td>5</td><td>0</td><td>0</td><td>141</td><td>0</td><td>0</td><td>35</td><td>44</td><td>55</td><td>37</td><td>6</td><td>5</td><td>0</td><td>178</td><td>0</td><td>0</td><td>0</td><td>7</td><td>3</td><td>4</td><td>4</td><td>0</td><td>0</td><td>23</td><td>0</td><td>0</td><td>4</td><td>6</td><td>15</td><td>11</td><td>0</td><td>0</td><td>0</td><td>35</td><td>3</td><td>4</td><td>36</td><td>18</td><td>13</td><td>21</td><td>4</td><td>3</td><td>3</td><td>111</td><td>83</td><td>187</td><td>526</td><td>364</td><td>318</td><td>277</td><td>181</td><td>102</td><td>36</td><td>2064</td><td>68</td><td>16</td><td>53</td><td>31</td><td>33</td><td>29</td><td>17</td><td>6</td><td>0</td><td>252</td><td>42</td><td>13</td><td>9</td><td>5</td><td>11</td><td>12</td><td>10</td><td>7</td><td>0</td><td>100</td><td>17</td><td>15</td><td>21</td><td>3</td><td>5</td><td>17</td><td>19</td><td>8</td><td>3</td><td>120</td><td>9</td><td>21</td><td>33</td><td>19</td><td>16</td><td>17</td><td>49</td><td>25</td><td>5</td><td>200</td><td>10</td><td>14</td><td>31</td><td>24</td><td>25</td><td>37</td><td>51</td><td>39</td><td>18</td><td>251</td><td>12</td><td>19</td><td>32</td><td>27</td><td>17</td><td>31</td><td>36</td><td>22</td><td>12</td><td>199</td></tr>\n",
       "<tr><td>101021012</td><td>34</td><td>29</td><td>10</td><td>17</td><td>15</td><td>39</td><td>48</td><td>24</td><td>3</td><td>218</td><td>14</td><td>23</td><td>20</td><td>24</td><td>18</td><td>31</td><td>60</td><td>42</td><td>15</td><td>248</td><td>15</td><td>41</td><td>40</td><td>34</td><td>53</td><td>49</td><td>35</td><td>16</td><td>5</td><td>290</td><td>12</td><td>28</td><td>42</td><td>36</td><td>45</td><td>39</td><td>49</td><td>18</td><td>0</td><td>282</td><td>16</td><td>41</td><td>59</td><td>76</td><td>61</td><td>46</td><td>31</td><td>9</td><td>0</td><td>344</td><td>11</td><td>56</td><td>89</td><td>86</td><td>90</td><td>92</td><td>23</td><td>7</td><td>0</td><td>448</td><td>6</td><td>43</td><td>101</td><td>81</td><td>95</td><td>72</td><td>18</td><td>3</td><td>0</td><td>412</td><td>0</td><td>28</td><td>106</td><td>102</td><td>133</td><td>90</td><td>16</td><td>0</td><td>0</td><td>476</td><td>0</td><td>5</td><td>70</td><td>93</td><td>112</td><td>63</td><td>17</td><td>0</td><td>0</td><td>349</td><td>0</td><td>7</td><td>106</td><td>212</td><td>270</td><td>118</td><td>12</td><td>3</td><td>0</td><td>731</td><td>0</td><td>0</td><td>17</td><td>39</td><td>46</td><td>15</td><td>0</td><td>0</td><td>0</td><td>127</td><td>0</td><td>0</td><td>3</td><td>45</td><td>93</td><td>32</td><td>5</td><td>0</td><td>0</td><td>184</td><td>16</td><td>19</td><td>37</td><td>41</td><td>30</td><td>23</td><td>16</td><td>13</td><td>0</td><td>191</td><td>459</td><td>362</td><td>769</td><td>927</td><td>1146</td><td>809</td><td>415</td><td>171</td><td>39</td><td>5097</td><td>322</td><td>30</td><td>67</td><td>41</td><td>68</td><td>72</td><td>63</td><td>15</td><td>0</td><td>688</td><td>231</td><td>18</td><td>10</td><td>18</td><td>21</td><td>29</td><td>25</td><td>8</td><td>3</td><td>360</td><td>138</td><td>45</td><td>24</td><td>21</td><td>20</td><td>34</td><td>43</td><td>19</td><td>3</td><td>353</td><td>44</td><td>65</td><td>23</td><td>24</td><td>17</td><td>55</td><td>81</td><td>39</td><td>16</td><td>368</td><td>37</td><td>49</td><td>32</td><td>25</td><td>27</td><td>56</td><td>91</td><td>66</td><td>24</td><td>401</td><td>41</td><td>73</td><td>51</td><td>44</td><td>63</td><td>64</td><td>54</td><td>34</td><td>7</td><td>441</td></tr>\n",
       "<tr><td>101021610</td><td>3</td><td>0</td><td>12</td><td>8</td><td>4</td><td>0</td><td>8</td><td>0</td><td>0</td><td>50</td><td>0</td><td>6</td><td>15</td><td>14</td><td>8</td><td>9</td><td>8</td><td>8</td><td>0</td><td>58</td><td>4</td><td>10</td><td>16</td><td>16</td><td>12</td><td>6</td><td>8</td><td>0</td><td>0</td><td>74</td><td>0</td><td>12</td><td>40</td><td>25</td><td>14</td><td>3</td><td>5</td><td>0</td><td>0</td><td>102</td><td>3</td><td>8</td><td>45</td><td>39</td><td>13</td><td>8</td><td>0</td><td>0</td><td>0</td><td>118</td><td>0</td><td>21</td><td>92</td><td>62</td><td>27</td><td>9</td><td>8</td><td>0</td><td>0</td><td>217</td><td>0</td><td>19</td><td>84</td><td>64</td><td>32</td><td>16</td><td>8</td><td>0</td><td>0</td><td>214</td><td>0</td><td>12</td><td>139</td><td>88</td><td>51</td><td>10</td><td>0</td><td>0</td><td>0</td><td>291</td><td>0</td><td>6</td><td>103</td><td>83</td><td>41</td><td>15</td><td>0</td><td>0</td><td>0</td><td>250</td><td>0</td><td>0</td><td>114</td><td>148</td><td>83</td><td>20</td><td>0</td><td>0</td><td>0</td><td>367</td><td>0</td><td>0</td><td>12</td><td>25</td><td>13</td><td>4</td><td>0</td><td>0</td><td>0</td><td>49</td><td>0</td><td>0</td><td>3</td><td>24</td><td>22</td><td>4</td><td>4</td><td>0</td><td>0</td><td>64</td><td>3</td><td>4</td><td>20</td><td>33</td><td>9</td><td>11</td><td>7</td><td>5</td><td>0</td><td>92</td><td>121</td><td>113</td><td>726</td><td>666</td><td>348</td><td>151</td><td>81</td><td>24</td><td>3</td><td>2222</td><td>95</td><td>7</td><td>36</td><td>32</td><td>20</td><td>28</td><td>32</td><td>9</td><td>0</td><td>266</td><td>64</td><td>5</td><td>10</td><td>0</td><td>0</td><td>4</td><td>7</td><td>0</td><td>0</td><td>87</td><td>38</td><td>12</td><td>13</td><td>12</td><td>3</td><td>4</td><td>10</td><td>6</td><td>0</td><td>103</td><td>7</td><td>8</td><td>16</td><td>8</td><td>4</td><td>0</td><td>14</td><td>4</td><td>3</td><td>76</td><td>5</td><td>10</td><td>17</td><td>16</td><td>12</td><td>4</td><td>16</td><td>6</td><td>0</td><td>92</td><td>16</td><td>20</td><td>26</td><td>19</td><td>14</td><td>11</td><td>14</td><td>5</td><td>0</td><td>117</td></tr>\n",
       "<tr><td>101021611</td><td>22</td><td>24</td><td>18</td><td>12</td><td>36</td><td>40</td><td>68</td><td>50</td><td>4</td><td>278</td><td>27</td><td>28</td><td>26</td><td>19</td><td>27</td><td>68</td><td>81</td><td>53</td><td>12</td><td>344</td><td>24</td><td>39</td><td>51</td><td>40</td><td>51</td><td>81</td><td>113</td><td>44</td><td>6</td><td>437</td><td>17</td><td>38</td><td>54</td><td>45</td><td>54</td><td>69</td><td>59</td><td>33</td><td>4</td><td>365</td><td>12</td><td>46</td><td>74</td><td>73</td><td>97</td><td>81</td><td>64</td><td>14</td><td>3</td><td>457</td><td>14</td><td>58</td><td>96</td><td>97</td><td>93</td><td>118</td><td>60</td><td>16</td><td>0</td><td>560</td><td>0</td><td>38</td><td>95</td><td>86</td><td>114</td><td>105</td><td>45</td><td>3</td><td>0</td><td>484</td><td>0</td><td>13</td><td>113</td><td>107</td><td>127</td><td>105</td><td>30</td><td>3</td><td>0</td><td>504</td><td>0</td><td>3</td><td>79</td><td>97</td><td>118</td><td>88</td><td>22</td><td>4</td><td>0</td><td>419</td><td>0</td><td>0</td><td>101</td><td>266</td><td>317</td><td>166</td><td>26</td><td>3</td><td>0</td><td>884</td><td>0</td><td>0</td><td>13</td><td>42</td><td>65</td><td>31</td><td>11</td><td>0</td><td>0</td><td>157</td><td>0</td><td>0</td><td>10</td><td>56</td><td>112</td><td>61</td><td>15</td><td>3</td><td>0</td><td>252</td><td>34</td><td>32</td><td>51</td><td>57</td><td>71</td><td>76</td><td>49</td><td>20</td><td>5</td><td>397</td><td>496</td><td>393</td><td>829</td><td>1073</td><td>1381</td><td>1232</td><td>812</td><td>309</td><td>49</td><td>6579</td><td>366</td><td>46</td><td>47</td><td>52</td><td>92</td><td>150</td><td>121</td><td>41</td><td>3</td><td>910</td><td>226</td><td>23</td><td>17</td><td>27</td><td>21</td><td>47</td><td>59</td><td>10</td><td>0</td><td>437</td><td>129</td><td>38</td><td>32</td><td>34</td><td>15</td><td>57</td><td>96</td><td>47</td><td>9</td><td>462</td><td>41</td><td>35</td><td>25</td><td>21</td><td>53</td><td>61</td><td>132</td><td>99</td><td>15</td><td>490</td><td>41</td><td>46</td><td>41</td><td>32</td><td>45</td><td>105</td><td>164</td><td>91</td><td>22</td><td>598</td><td>60</td><td>65</td><td>65</td><td>42</td><td>66</td><td>119</td><td>172</td><td>77</td><td>6</td><td>672</td></tr>\n",
       "<tr><td>101031013</td><td>3</td><td>6</td><td>3</td><td>5</td><td>8</td><td>16</td><td>36</td><td>18</td><td>4</td><td>103</td><td>0</td><td>0</td><td>11</td><td>5</td><td>10</td><td>15</td><td>39</td><td>17</td><td>22</td><td>118</td><td>3</td><td>3</td><td>9</td><td>19</td><td>15</td><td>23</td><td>19</td><td>9</td><td>4</td><td>108</td><td>0</td><td>7</td><td>9</td><td>18</td><td>18</td><td>21</td><td>14</td><td>4</td><td>12</td><td>107</td><td>0</td><td>10</td><td>18</td><td>17</td><td>15</td><td>15</td><td>8</td><td>6</td><td>0</td><td>89</td><td>0</td><td>5</td><td>13</td><td>19</td><td>11</td><td>17</td><td>8</td><td>0</td><td>0</td><td>69</td><td>0</td><td>6</td><td>10</td><td>5</td><td>4</td><td>7</td><td>10</td><td>0</td><td>0</td><td>42</td><td>0</td><td>0</td><td>0</td><td>6</td><td>10</td><td>7</td><td>3</td><td>5</td><td>0</td><td>36</td><td>0</td><td>6</td><td>8</td><td>3</td><td>12</td><td>8</td><td>0</td><td>0</td><td>0</td><td>25</td><td>0</td><td>0</td><td>0</td><td>8</td><td>3</td><td>12</td><td>8</td><td>0</td><td>0</td><td>28</td><td>0</td><td>0</td><td>0</td><td>0</td><td>4</td><td>0</td><td>0</td><td>0</td><td>0</td><td>5</td><td>0</td><td>0</td><td>0</td><td>4</td><td>3</td><td>0</td><td>0</td><td>0</td><td>0</td><td>13</td><td>8</td><td>9</td><td>10</td><td>8</td><td>18</td><td>21</td><td>18</td><td>19</td><td>7</td><td>114</td><td>59</td><td>59</td><td>109</td><td>136</td><td>143</td><td>190</td><td>186</td><td>90</td><td>50</td><td>1029</td><td>48</td><td>6</td><td>0</td><td>6</td><td>16</td><td>33</td><td>28</td><td>11</td><td>5</td><td>142</td><td>17</td><td>0</td><td>7</td><td>3</td><td>3</td><td>3</td><td>9</td><td>11</td><td>0</td><td>54</td><td>10</td><td>3</td><td>0</td><td>5</td><td>10</td><td>18</td><td>15</td><td>11</td><td>6</td><td>92</td><td>5</td><td>8</td><td>7</td><td>10</td><td>19</td><td>26</td><td>74</td><td>39</td><td>15</td><td>195</td><td>3</td><td>0</td><td>15</td><td>5</td><td>16</td><td>31</td><td>74</td><td>29</td><td>18</td><td>191</td><td>5</td><td>7</td><td>16</td><td>22</td><td>25</td><td>35</td><td>39</td><td>25</td><td>4</td><td>170</td></tr>\n",
       "<tr><td>101031014</td><td>11</td><td>10</td><td>16</td><td>12</td><td>25</td><td>27</td><td>69</td><td>62</td><td>11</td><td>239</td><td>7</td><td>14</td><td>23</td><td>14</td><td>33</td><td>48</td><td>69</td><td>79</td><td>41</td><td>322</td><td>13</td><td>12</td><td>27</td><td>35</td><td>32</td><td>41</td><td>45</td><td>35</td><td>26</td><td>266</td><td>10</td><td>23</td><td>46</td><td>50</td><td>24</td><td>43</td><td>39</td><td>26</td><td>10</td><td>273</td><td>0</td><td>28</td><td>52</td><td>43</td><td>43</td><td>55</td><td>20</td><td>17</td><td>3</td><td>259</td><td>5</td><td>18</td><td>47</td><td>45</td><td>41</td><td>46</td><td>14</td><td>6</td><td>5</td><td>232</td><td>0</td><td>5</td><td>28</td><td>28</td><td>48</td><td>43</td><td>8</td><td>0</td><td>0</td><td>166</td><td>0</td><td>4</td><td>32</td><td>24</td><td>25</td><td>22</td><td>3</td><td>5</td><td>8</td><td>123</td><td>0</td><td>0</td><td>15</td><td>21</td><td>16</td><td>13</td><td>9</td><td>0</td><td>3</td><td>89</td><td>0</td><td>0</td><td>24</td><td>34</td><td>35</td><td>37</td><td>3</td><td>3</td><td>0</td><td>135</td><td>0</td><td>0</td><td>3</td><td>3</td><td>9</td><td>0</td><td>0</td><td>0</td><td>0</td><td>22</td><td>0</td><td>0</td><td>0</td><td>4</td><td>10</td><td>3</td><td>0</td><td>0</td><td>0</td><td>24</td><td>7</td><td>7</td><td>15</td><td>27</td><td>31</td><td>26</td><td>37</td><td>25</td><td>24</td><td>209</td><td>151</td><td>144</td><td>385</td><td>391</td><td>406</td><td>490</td><td>395</td><td>301</td><td>140</td><td>2803</td><td>93</td><td>17</td><td>39</td><td>41</td><td>27</td><td>63</td><td>43</td><td>24</td><td>3</td><td>343</td><td>86</td><td>0</td><td>5</td><td>7</td><td>13</td><td>16</td><td>21</td><td>7</td><td>5</td><td>161</td><td>25</td><td>14</td><td>19</td><td>16</td><td>14</td><td>40</td><td>52</td><td>36</td><td>7</td><td>238</td><td>18</td><td>22</td><td>31</td><td>17</td><td>45</td><td>57</td><td>119</td><td>112</td><td>37</td><td>453</td><td>14</td><td>16</td><td>39</td><td>23</td><td>46</td><td>75</td><td>118</td><td>112</td><td>60</td><td>513</td><td>23</td><td>31</td><td>37</td><td>49</td><td>57</td><td>64</td><td>82</td><td>59</td><td>34</td><td>441</td></tr>\n",
       "<tr><td>101031015</td><td>7</td><td>6</td><td>3</td><td>11</td><td>9</td><td>21</td><td>37</td><td>23</td><td>0</td><td>117</td><td>3</td><td>5</td><td>8</td><td>7</td><td>16</td><td>25</td><td>36</td><td>30</td><td>10</td><td>139</td><td>4</td><td>9</td><td>16</td><td>9</td><td>18</td><td>27</td><td>15</td><td>11</td><td>3</td><td>109</td><td>5</td><td>12</td><td>14</td><td>12</td><td>23</td><td>20</td><td>12</td><td>5</td><td>0</td><td>103</td><td>3</td><td>8</td><td>8</td><td>17</td><td>28</td><td>12</td><td>13</td><td>6</td><td>0</td><td>107</td><td>0</td><td>6</td><td>18</td><td>14</td><td>18</td><td>42</td><td>10</td><td>3</td><td>0</td><td>118</td><td>0</td><td>3</td><td>16</td><td>14</td><td>21</td><td>26</td><td>9</td><td>4</td><td>0</td><td>88</td><td>0</td><td>0</td><td>8</td><td>10</td><td>29</td><td>8</td><td>6</td><td>0</td><td>0</td><td>73</td><td>0</td><td>0</td><td>9</td><td>13</td><td>23</td><td>23</td><td>0</td><td>0</td><td>0</td><td>64</td><td>0</td><td>0</td><td>10</td><td>8</td><td>24</td><td>11</td><td>0</td><td>0</td><td>0</td><td>57</td><td>0</td><td>0</td><td>0</td><td>0</td><td>12</td><td>3</td><td>0</td><td>0</td><td>0</td><td>18</td><td>0</td><td>0</td><td>0</td><td>6</td><td>11</td><td>3</td><td>0</td><td>0</td><td>0</td><td>22</td><td>8</td><td>8</td><td>17</td><td>14</td><td>24</td><td>23</td><td>24</td><td>21</td><td>13</td><td>150</td><td>88</td><td>65</td><td>144</td><td>156</td><td>288</td><td>291</td><td>215</td><td>125</td><td>30</td><td>1403</td><td>60</td><td>4</td><td>8</td><td>12</td><td>22</td><td>48</td><td>27</td><td>15</td><td>4</td><td>198</td><td>47</td><td>7</td><td>3</td><td>0</td><td>3</td><td>11</td><td>7</td><td>7</td><td>0</td><td>88</td><td>16</td><td>13</td><td>8</td><td>11</td><td>10</td><td>36</td><td>34</td><td>13</td><td>3</td><td>138</td><td>6</td><td>13</td><td>10</td><td>12</td><td>19</td><td>45</td><td>76</td><td>51</td><td>8</td><td>234</td><td>10</td><td>7</td><td>7</td><td>10</td><td>21</td><td>41</td><td>79</td><td>47</td><td>19</td><td>245</td><td>15</td><td>15</td><td>23</td><td>12</td><td>39</td><td>43</td><td>29</td><td>29</td><td>3</td><td>207</td></tr>\n",
       "</table>\n"
      ],
      "text/plain": [
       "+-------------+-------------------+-------------------+-------------------+-------------------+-------------------+-------------------+-------------------+-------------------+--------------+-------------+-------------------+-------------------+-------------------+-------------------+-------------------+-------------------+-------------------+-------------------+--------------+-------------+-------------------+-------------------+-------------------+-------------------+-------------------+-------------------+-------------------+-------------------+--------------+-------------+-------------------+-------------------+-------------------+-------------------+-------------------+-------------------+-------------------+-------------------+--------------+-------------+-------------------+-------------------+-------------------+-------------------+-------------------+-------------------+-------------------+-------------------+--------------+-------------+---------------------+---------------------+---------------------+---------------------+---------------------+---------------------+---------------------+---------------------+----------------+---------------+---------------------+---------------------+---------------------+---------------------+---------------------+---------------------+---------------------+---------------------+----------------+---------------+---------------------+---------------------+---------------------+---------------------+---------------------+---------------------+---------------------+---------------------+----------------+---------------+---------------------+---------------------+---------------------+---------------------+---------------------+---------------------+---------------------+---------------------+----------------+---------------+---------------------+---------------------+---------------------+---------------------+---------------------+---------------------+---------------------+---------------------+----------------+---------------+---------------------+---------------------+---------------------+---------------------+---------------------+---------------------+---------------------+---------------------+----------------+---------------+---------------------+---------------------+---------------------+---------------------+---------------------+---------------------+---------------------+---------------------+----------------+---------------+-----------------+--------------------+--------------------+--------------------+--------------------+--------------------+--------------------+--------------------+---------------------+--------------+---------------+---------------+---------------+---------------+---------------+---------------+---------------+---------------+----------+---------+--------------------------+--------------------------+--------------------------+--------------------------+--------------------------+--------------------------+--------------------------+--------------------------+-----------------------------+--------------------+-----------------+-----------------+-----------------+-----------------+-----------------+-----------------+-----------------+-----------------+------------+-----------+-------------------+-------------------+-------------------+-------------------+-------------------+-------------------+-------------------+-------------------+--------------+-------------+-------------------+-------------------+-------------------+-------------------+-------------------+-------------------+-------------------+-------------------+--------------+-------------+-------------------+-------------------+-------------------+-------------------+-------------------+-------------------+-------------------+-------------------+--------------+-------------+-------------------+-------------------+-------------------+-------------------+-------------------+-------------------+-------------------+-------------------+--------------+-------------+\n",
       "|SA2_CODE_2021|F_300_399_15_19_yrs|F_300_399_20_24_yrs|F_300_399_25_34_yrs|F_300_399_35_44_yrs|F_300_399_45_54_yrs|F_300_399_55_64_yrs|F_300_399_65_74_yrs|F_300_399_75_84_yrs|F_300_399_85ov|F_300_399_Tot|F_400_499_15_19_yrs|F_400_499_20_24_yrs|F_400_499_25_34_yrs|F_400_499_35_44_yrs|F_400_499_45_54_yrs|F_400_499_55_64_yrs|F_400_499_65_74_yrs|F_400_499_75_84_yrs|F_400_499_85ov|F_400_499_Tot|F_500_649_15_19_yrs|F_500_649_20_24_yrs|F_500_649_25_34_yrs|F_500_649_35_44_yrs|F_500_649_45_54_yrs|F_500_649_55_64_yrs|F_500_649_65_74_yrs|F_500_649_75_84_yrs|F_500_649_85ov|F_500_649_Tot|F_650_799_15_19_yrs|F_650_799_20_24_yrs|F_650_799_25_34_yrs|F_650_799_35_44_yrs|F_650_799_45_54_yrs|F_650_799_55_64_yrs|F_650_799_65_74_yrs|F_650_799_75_84_yrs|F_650_799_85ov|F_650_799_Tot|F_800_999_15_19_yrs|F_800_999_20_24_yrs|F_800_999_25_34_yrs|F_800_999_35_44_yrs|F_800_999_45_54_yrs|F_800_999_55_64_yrs|F_800_999_65_74_yrs|F_800_999_75_84_yrs|F_800_999_85ov|F_800_999_Tot|F_1000_1249_15_19_yrs|F_1000_1249_20_24_yrs|F_1000_1249_25_34_yrs|F_1000_1249_35_44_yrs|F_1000_1249_45_54_yrs|F_1000_1249_55_64_yrs|F_1000_1249_65_74_yrs|F_1000_1249_75_84_yrs|F_1000_1249_85ov|F_1000_1249_Tot|F_1250_1499_15_19_yrs|F_1250_1499_20_24_yrs|F_1250_1499_25_34_yrs|F_1250_1499_35_44_yrs|F_1250_1499_45_54_yrs|F_1250_1499_55_64_yrs|F_1250_1499_65_74_yrs|F_1250_1499_75_84_yrs|F_1250_1499_85ov|F_1250_1499_Tot|F_1500_1749_15_19_yrs|F_1500_1749_20_24_yrs|F_1500_1749_25_34_yrs|F_1500_1749_35_44_yrs|F_1500_1749_45_54_yrs|F_1500_1749_55_64_yrs|F_1500_1749_65_74_yrs|F_1500_1749_75_84_yrs|F_1500_1749_85ov|F_1500_1749_Tot|F_1750_1999_15_19_yrs|F_1750_1999_20_24_yrs|F_1750_1999_25_34_yrs|F_1750_1999_35_44_yrs|F_1750_1999_45_54_yrs|F_1750_1999_55_64_yrs|F_1750_1999_65_74_yrs|F_1750_1999_75_84_yrs|F_1750_1999_85ov|F_1750_1999_Tot|F_2000_2999_15_19_yrs|F_2000_2999_20_24_yrs|F_2000_2999_25_34_yrs|F_2000_2999_35_44_yrs|F_2000_2999_45_54_yrs|F_2000_2999_55_64_yrs|F_2000_2999_65_74_yrs|F_2000_2999_75_84_yrs|F_2000_2999_85ov|F_2000_2999_Tot|F_3000_3499_15_19_yrs|F_3000_3499_20_24_yrs|F_3000_3499_25_34_yrs|F_3000_3499_35_44_yrs|F_3000_3499_45_54_yrs|F_3000_3499_55_64_yrs|F_3000_3499_65_74_yrs|F_3000_3499_75_84_yrs|F_3000_3499_85ov|F_3000_3499_Tot|F_3500_more_15_19_yrs|F_3500_more_20_24_yrs|F_3500_more_25_34_yrs|F_3500_more_35_44_yrs|F_3500_more_45_54_yrs|F_3500_more_55_64_yrs|F_3500_more_65_74_yrs|F_3500_more_75_84_yrs|F_3500_more_85ov|F_3500_more_Tot|F_PI_NS_15_19_yrs|F_PI_NS_ns_20_24_yrs|F_PI_NS_ns_25_34_yrs|F_PI_NS_ns_35_44_yrs|F_PI_NS_ns_45_54_yrs|F_PI_NS_ns_55_64_yrs|F_PI_NS_ns_65_74_yrs|F_PI_NS_ns_75_84_yrs|F_PI_NS_ns_85_yrs_ovr|F_PI_NS_ns_Tot|F_Tot_15_19_yrs|F_Tot_20_24_yrs|F_Tot_25_34_yrs|F_Tot_35_44_yrs|F_Tot_45_54_yrs|F_Tot_55_64_yrs|F_Tot_65_74_yrs|F_Tot_75_84_yrs|F_Tot_85ov|F_Tot_Tot|P_Neg_Nil_income_15_19_yrs|P_Neg_Nil_income_20_24_yrs|P_Neg_Nil_income_25_34_yrs|P_Neg_Nil_income_35_44_yrs|P_Neg_Nil_income_45_54_yrs|P_Neg_Nil_income_55_64_yrs|P_Neg_Nil_income_65_74_yrs|P_Neg_Nil_income_75_84_yrs|P_Negtve_Nil_incme_85_yrs_ovr|P_Neg_Nil_income_Tot|P_1_149_15_19_yrs|P_1_149_20_24_yrs|P_1_149_25_34_yrs|P_1_149_35_44_yrs|P_1_149_45_54_yrs|P_1_149_55_64_yrs|P_1_149_65_74_yrs|P_1_149_75_84_yrs|P_1_149_85ov|P_1_149_Tot|P_150_299_15_19_yrs|P_150_299_20_24_yrs|P_150_299_25_34_yrs|P_150_299_35_44_yrs|P_150_299_45_54_yrs|P_150_299_55_64_yrs|P_150_299_65_74_yrs|P_150_299_75_84_yrs|P_150_299_85ov|P_150_299_Tot|P_300_399_15_19_yrs|P_300_399_20_24_yrs|P_300_399_25_34_yrs|P_300_399_35_44_yrs|P_300_399_45_54_yrs|P_300_399_55_64_yrs|P_300_399_65_74_yrs|P_300_399_75_84_yrs|P_300_399_85ov|P_300_399_Tot|P_400_499_15_19_yrs|P_400_499_20_24_yrs|P_400_499_25_34_yrs|P_400_499_35_44_yrs|P_400_499_45_54_yrs|P_400_499_55_64_yrs|P_400_499_65_74_yrs|P_400_499_75_84_yrs|P_400_499_85ov|P_400_499_Tot|P_500_649_15_19_yrs|P_500_649_20_24_yrs|P_500_649_25_34_yrs|P_500_649_35_44_yrs|P_500_649_45_54_yrs|P_500_649_55_64_yrs|P_500_649_65_74_yrs|P_500_649_75_84_yrs|P_500_649_85ov|P_500_649_Tot|\n",
       "+-------------+-------------------+-------------------+-------------------+-------------------+-------------------+-------------------+-------------------+-------------------+--------------+-------------+-------------------+-------------------+-------------------+-------------------+-------------------+-------------------+-------------------+-------------------+--------------+-------------+-------------------+-------------------+-------------------+-------------------+-------------------+-------------------+-------------------+-------------------+--------------+-------------+-------------------+-------------------+-------------------+-------------------+-------------------+-------------------+-------------------+-------------------+--------------+-------------+-------------------+-------------------+-------------------+-------------------+-------------------+-------------------+-------------------+-------------------+--------------+-------------+---------------------+---------------------+---------------------+---------------------+---------------------+---------------------+---------------------+---------------------+----------------+---------------+---------------------+---------------------+---------------------+---------------------+---------------------+---------------------+---------------------+---------------------+----------------+---------------+---------------------+---------------------+---------------------+---------------------+---------------------+---------------------+---------------------+---------------------+----------------+---------------+---------------------+---------------------+---------------------+---------------------+---------------------+---------------------+---------------------+---------------------+----------------+---------------+---------------------+---------------------+---------------------+---------------------+---------------------+---------------------+---------------------+---------------------+----------------+---------------+---------------------+---------------------+---------------------+---------------------+---------------------+---------------------+---------------------+---------------------+----------------+---------------+---------------------+---------------------+---------------------+---------------------+---------------------+---------------------+---------------------+---------------------+----------------+---------------+-----------------+--------------------+--------------------+--------------------+--------------------+--------------------+--------------------+--------------------+---------------------+--------------+---------------+---------------+---------------+---------------+---------------+---------------+---------------+---------------+----------+---------+--------------------------+--------------------------+--------------------------+--------------------------+--------------------------+--------------------------+--------------------------+--------------------------+-----------------------------+--------------------+-----------------+-----------------+-----------------+-----------------+-----------------+-----------------+-----------------+-----------------+------------+-----------+-------------------+-------------------+-------------------+-------------------+-------------------+-------------------+-------------------+-------------------+--------------+-------------+-------------------+-------------------+-------------------+-------------------+-------------------+-------------------+-------------------+-------------------+--------------+-------------+-------------------+-------------------+-------------------+-------------------+-------------------+-------------------+-------------------+-------------------+--------------+-------------+-------------------+-------------------+-------------------+-------------------+-------------------+-------------------+-------------------+-------------------+--------------+-------------+\n",
       "|    101021007|                  3|                  7|                  3|                 19|                 15|                 38|                 44|                 30|             3|          160|                  0|                  3|                  4|                 15|                 26|                 31|                 45|                 35|            15|          174|                  3|                  4|                 12|                 16|                 24|                 29|                 35|                 24|             7|          160|                  0|                 13|                 16|                 14|                 23|                 26|                 24|                 16|             5|          141|                  0|                  5|                 15|                 27|                 26|                 34|                 25|                 10|             0|          146|                    0|                    4|                   21|                   17|                   26|                   33|                   21|                    5|               0|            135|                    0|                    4|                   19|                   15|                   22|                   29|                   11|                    0|               4|            101|                    0|                    0|                   15|                   17|                   21|                   19|                   10|                    0|               0|             83|                    0|                    0|                    5|                   13|                   15|                   19|                    3|                    0|               0|             52|                    0|                    0|                   19|                   29|                   38|                   19|                    7|                    0|               3|            114|                    0|                    0|                    5|                    3|                    3|                    3|                    4|                    0|               0|             12|                    0|                    0|                    0|                    4|                   13|                    9|                    0|                    3|               0|             32|                9|                   0|                  21|                  17|                  24|                  30|                  32|                  25|                    6|           170|             85|             52|            185|            230|            316|            388|            315|            186|        49|     1807|                        49|                         3|                        17|                        18|                        25|                        56|                        41|                        18|                            0|                 225|               37|                4|                3|                8|               10|               23|               29|                8|           4|        140|                 20|                 14|                 14|                 16|                 15|                 37|                 33|                 31|             7|          196|                  4|                 12|                 14|                 26|                 33|                 59|                 84|                 66|            13|          307|                  7|                  0|                 12|                 25|                 38|                 66|                 88|                 51|            21|          312|                 15|                  7|                 18|                 21|                 49|                 49|                 61|                 41|            13|          274|\n",
       "|    101021008|                  9|                 14|                 16|                 23|                 18|                 39|                 69|                 36|            11|          234|                 15|                 15|                 42|                 29|                 22|                 31|                 56|                 73|            28|          306|                 15|                 17|                 55|                 37|                 29|                 42|                 39|                 32|             6|          261|                  6|                 27|                 44|                 45|                 31|                 34|                 24|                 18|             4|          238|                 12|                 28|                 66|                 49|                 46|                 51|                 20|                  8|             0|          284|                    3|                   26|                   69|                   54|                   77|                   55|                   28|                    8|               0|            318|                    0|                   31|                   68|                   69|                   55|                   41|                   10|                    3|               0|            289|                    0|                   13|                   74|                   53|                   66|                   48|                    8|                    0|               0|            271|                    0|                    5|                   33|                   45|                   51|                   32|                    0|                    0|               0|            172|                    0|                    3|                   54|                   78|                   82|                   41|                    0|                    0|               0|            259|                    0|                    0|                    9|                   16|                   13|                   11|                    0|                    0|               0|             45|                    0|                    0|                    5|                    5|                   10|                    9|                    0|                    0|               0|             29|               23|                  18|                  55|                  40|                  30|                  33|                  26|                  20|                    3|           245|            249|            237|            632|            577|            591|            556|            377|            228|        60|     3509|                       178|                        25|                        42|                        43|                        47|                        72|                        58|                        26|                            6|                 495|               86|                4|                6|                8|               12|               20|               21|                5|           0|        165|                 59|                 21|                 35|                 24|                 22|                 43|                 54|                 22|             7|          290|                 23|                 29|                 33|                 27|                 47|                 56|                124|                 69|            21|          435|                 25|                 33|                 62|                 40|                 45|                 57|                100|                 95|            35|          484|                 47|                 36|                 69|                 46|                 38|                 56|                 68|                 54|             6|          416|\n",
       "|    101021009|                  8|                 32|                 43|                 19|                 20|                 28|                 65|                 65|            50|          336|                  6|                 15|                 66|                 23|                 27|                 55|                 94|                 91|            54|          437|                  9|                 41|                 78|                 41|                 27|                 27|                 49|                 41|            23|          336|                  5|                 48|                 99|                 57|                 48|                 49|                 40|                 17|            18|          371|                  4|                 50|                134|                 69|                 58|                 57|                 36|                 11|             3|          425|                    4|                   48|                  165|                   92|                   57|                   65|                   30|                    9|               3|            468|                    0|                   41|                  131|                   82|                   58|                   47|                   22|                    4|               0|            383|                    0|                   13|                  128|                  101|                   65|                   54|                   11|                    3|               0|            368|                    0|                    3|                   75|                   75|                   52|                   35|                   13|                    0|               0|            254|                    0|                    3|                   89|                  115|                  113|                   62|                    9|                    3|               0|            393|                    0|                    0|                    8|                    6|                   17|                    8|                    0|                    0|               0|             35|                    0|                    0|                    6|                   17|                   27|                   16|                    5|                    3|               0|             69|                7|                  14|                  68|                  38|                  23|                  31|                  41|                  42|                   52|           330|            180|            335|           1185|            797|            640|            608|            477|            324|       227|     4771|                       160|                        24|                       108|                        60|                        46|                        63|                        49|                        19|                            9|                 541|               82|                3|               17|               15|               10|               18|               25|               14|           9|        190|                 56|                 30|                 27|                 21|                 26|                 36|                 40|                 35|            11|          280|                 22|                 43|                 68|                 46|                 39|                 58|                114|                120|            77|          588|                 24|                 44|                105|                 43|                 48|                 98|                150|                129|            76|          711|                 18|                 67|                132|                 69|                 61|                 58|                106|                 66|            31|          600|\n",
       "|    101021010|                  0|                 13|                 17|                 11|                  9|                  9|                 28|                 17|             0|          100|                  7|                 11|                 18|                 10|                 17|                 13|                 33|                 26|            14|          150|                  0|                 14|                 16|                 20|                 10|                 19|                 12|                  9|             8|          106|                  0|                 18|                 38|                 23|                 11|                 17|                 15|                 15|             0|          134|                  5|                 37|                 57|                 26|                 27|                 24|                 15|                  9|             0|          203|                    0|                   33|                   71|                   52|                   23|                   25|                   17|                    4|               0|            234|                    0|                   21|                   65|                   38|                   26|                   25|                   11|                    0|               0|            183|                    0|                    7|                   64|                   41|                   36|                   28|                    3|                    0|               0|            179|                    0|                    3|                   41|                   33|                   40|                   26|                    5|                    0|               0|            141|                    0|                    0|                   35|                   44|                   55|                   37|                    6|                    5|               0|            178|                    0|                    0|                    0|                    7|                    3|                    4|                    4|                    0|               0|             23|                    0|                    0|                    4|                    6|                   15|                   11|                    0|                    0|               0|             35|                3|                   4|                  36|                  18|                  13|                  21|                   4|                   3|                    3|           111|             83|            187|            526|            364|            318|            277|            181|            102|        36|     2064|                        68|                        16|                        53|                        31|                        33|                        29|                        17|                         6|                            0|                 252|               42|               13|                9|                5|               11|               12|               10|                7|           0|        100|                 17|                 15|                 21|                  3|                  5|                 17|                 19|                  8|             3|          120|                  9|                 21|                 33|                 19|                 16|                 17|                 49|                 25|             5|          200|                 10|                 14|                 31|                 24|                 25|                 37|                 51|                 39|            18|          251|                 12|                 19|                 32|                 27|                 17|                 31|                 36|                 22|            12|          199|\n",
       "|    101021012|                 34|                 29|                 10|                 17|                 15|                 39|                 48|                 24|             3|          218|                 14|                 23|                 20|                 24|                 18|                 31|                 60|                 42|            15|          248|                 15|                 41|                 40|                 34|                 53|                 49|                 35|                 16|             5|          290|                 12|                 28|                 42|                 36|                 45|                 39|                 49|                 18|             0|          282|                 16|                 41|                 59|                 76|                 61|                 46|                 31|                  9|             0|          344|                   11|                   56|                   89|                   86|                   90|                   92|                   23|                    7|               0|            448|                    6|                   43|                  101|                   81|                   95|                   72|                   18|                    3|               0|            412|                    0|                   28|                  106|                  102|                  133|                   90|                   16|                    0|               0|            476|                    0|                    5|                   70|                   93|                  112|                   63|                   17|                    0|               0|            349|                    0|                    7|                  106|                  212|                  270|                  118|                   12|                    3|               0|            731|                    0|                    0|                   17|                   39|                   46|                   15|                    0|                    0|               0|            127|                    0|                    0|                    3|                   45|                   93|                   32|                    5|                    0|               0|            184|               16|                  19|                  37|                  41|                  30|                  23|                  16|                  13|                    0|           191|            459|            362|            769|            927|           1146|            809|            415|            171|        39|     5097|                       322|                        30|                        67|                        41|                        68|                        72|                        63|                        15|                            0|                 688|              231|               18|               10|               18|               21|               29|               25|                8|           3|        360|                138|                 45|                 24|                 21|                 20|                 34|                 43|                 19|             3|          353|                 44|                 65|                 23|                 24|                 17|                 55|                 81|                 39|            16|          368|                 37|                 49|                 32|                 25|                 27|                 56|                 91|                 66|            24|          401|                 41|                 73|                 51|                 44|                 63|                 64|                 54|                 34|             7|          441|\n",
       "|    101021610|                  3|                  0|                 12|                  8|                  4|                  0|                  8|                  0|             0|           50|                  0|                  6|                 15|                 14|                  8|                  9|                  8|                  8|             0|           58|                  4|                 10|                 16|                 16|                 12|                  6|                  8|                  0|             0|           74|                  0|                 12|                 40|                 25|                 14|                  3|                  5|                  0|             0|          102|                  3|                  8|                 45|                 39|                 13|                  8|                  0|                  0|             0|          118|                    0|                   21|                   92|                   62|                   27|                    9|                    8|                    0|               0|            217|                    0|                   19|                   84|                   64|                   32|                   16|                    8|                    0|               0|            214|                    0|                   12|                  139|                   88|                   51|                   10|                    0|                    0|               0|            291|                    0|                    6|                  103|                   83|                   41|                   15|                    0|                    0|               0|            250|                    0|                    0|                  114|                  148|                   83|                   20|                    0|                    0|               0|            367|                    0|                    0|                   12|                   25|                   13|                    4|                    0|                    0|               0|             49|                    0|                    0|                    3|                   24|                   22|                    4|                    4|                    0|               0|             64|                3|                   4|                  20|                  33|                   9|                  11|                   7|                   5|                    0|            92|            121|            113|            726|            666|            348|            151|             81|             24|         3|     2222|                        95|                         7|                        36|                        32|                        20|                        28|                        32|                         9|                            0|                 266|               64|                5|               10|                0|                0|                4|                7|                0|           0|         87|                 38|                 12|                 13|                 12|                  3|                  4|                 10|                  6|             0|          103|                  7|                  8|                 16|                  8|                  4|                  0|                 14|                  4|             3|           76|                  5|                 10|                 17|                 16|                 12|                  4|                 16|                  6|             0|           92|                 16|                 20|                 26|                 19|                 14|                 11|                 14|                  5|             0|          117|\n",
       "|    101021611|                 22|                 24|                 18|                 12|                 36|                 40|                 68|                 50|             4|          278|                 27|                 28|                 26|                 19|                 27|                 68|                 81|                 53|            12|          344|                 24|                 39|                 51|                 40|                 51|                 81|                113|                 44|             6|          437|                 17|                 38|                 54|                 45|                 54|                 69|                 59|                 33|             4|          365|                 12|                 46|                 74|                 73|                 97|                 81|                 64|                 14|             3|          457|                   14|                   58|                   96|                   97|                   93|                  118|                   60|                   16|               0|            560|                    0|                   38|                   95|                   86|                  114|                  105|                   45|                    3|               0|            484|                    0|                   13|                  113|                  107|                  127|                  105|                   30|                    3|               0|            504|                    0|                    3|                   79|                   97|                  118|                   88|                   22|                    4|               0|            419|                    0|                    0|                  101|                  266|                  317|                  166|                   26|                    3|               0|            884|                    0|                    0|                   13|                   42|                   65|                   31|                   11|                    0|               0|            157|                    0|                    0|                   10|                   56|                  112|                   61|                   15|                    3|               0|            252|               34|                  32|                  51|                  57|                  71|                  76|                  49|                  20|                    5|           397|            496|            393|            829|           1073|           1381|           1232|            812|            309|        49|     6579|                       366|                        46|                        47|                        52|                        92|                       150|                       121|                        41|                            3|                 910|              226|               23|               17|               27|               21|               47|               59|               10|           0|        437|                129|                 38|                 32|                 34|                 15|                 57|                 96|                 47|             9|          462|                 41|                 35|                 25|                 21|                 53|                 61|                132|                 99|            15|          490|                 41|                 46|                 41|                 32|                 45|                105|                164|                 91|            22|          598|                 60|                 65|                 65|                 42|                 66|                119|                172|                 77|             6|          672|\n",
       "|    101031013|                  3|                  6|                  3|                  5|                  8|                 16|                 36|                 18|             4|          103|                  0|                  0|                 11|                  5|                 10|                 15|                 39|                 17|            22|          118|                  3|                  3|                  9|                 19|                 15|                 23|                 19|                  9|             4|          108|                  0|                  7|                  9|                 18|                 18|                 21|                 14|                  4|            12|          107|                  0|                 10|                 18|                 17|                 15|                 15|                  8|                  6|             0|           89|                    0|                    5|                   13|                   19|                   11|                   17|                    8|                    0|               0|             69|                    0|                    6|                   10|                    5|                    4|                    7|                   10|                    0|               0|             42|                    0|                    0|                    0|                    6|                   10|                    7|                    3|                    5|               0|             36|                    0|                    6|                    8|                    3|                   12|                    8|                    0|                    0|               0|             25|                    0|                    0|                    0|                    8|                    3|                   12|                    8|                    0|               0|             28|                    0|                    0|                    0|                    0|                    4|                    0|                    0|                    0|               0|              5|                    0|                    0|                    0|                    4|                    3|                    0|                    0|                    0|               0|             13|                8|                   9|                  10|                   8|                  18|                  21|                  18|                  19|                    7|           114|             59|             59|            109|            136|            143|            190|            186|             90|        50|     1029|                        48|                         6|                         0|                         6|                        16|                        33|                        28|                        11|                            5|                 142|               17|                0|                7|                3|                3|                3|                9|               11|           0|         54|                 10|                  3|                  0|                  5|                 10|                 18|                 15|                 11|             6|           92|                  5|                  8|                  7|                 10|                 19|                 26|                 74|                 39|            15|          195|                  3|                  0|                 15|                  5|                 16|                 31|                 74|                 29|            18|          191|                  5|                  7|                 16|                 22|                 25|                 35|                 39|                 25|             4|          170|\n",
       "|    101031014|                 11|                 10|                 16|                 12|                 25|                 27|                 69|                 62|            11|          239|                  7|                 14|                 23|                 14|                 33|                 48|                 69|                 79|            41|          322|                 13|                 12|                 27|                 35|                 32|                 41|                 45|                 35|            26|          266|                 10|                 23|                 46|                 50|                 24|                 43|                 39|                 26|            10|          273|                  0|                 28|                 52|                 43|                 43|                 55|                 20|                 17|             3|          259|                    5|                   18|                   47|                   45|                   41|                   46|                   14|                    6|               5|            232|                    0|                    5|                   28|                   28|                   48|                   43|                    8|                    0|               0|            166|                    0|                    4|                   32|                   24|                   25|                   22|                    3|                    5|               8|            123|                    0|                    0|                   15|                   21|                   16|                   13|                    9|                    0|               3|             89|                    0|                    0|                   24|                   34|                   35|                   37|                    3|                    3|               0|            135|                    0|                    0|                    3|                    3|                    9|                    0|                    0|                    0|               0|             22|                    0|                    0|                    0|                    4|                   10|                    3|                    0|                    0|               0|             24|                7|                   7|                  15|                  27|                  31|                  26|                  37|                  25|                   24|           209|            151|            144|            385|            391|            406|            490|            395|            301|       140|     2803|                        93|                        17|                        39|                        41|                        27|                        63|                        43|                        24|                            3|                 343|               86|                0|                5|                7|               13|               16|               21|                7|           5|        161|                 25|                 14|                 19|                 16|                 14|                 40|                 52|                 36|             7|          238|                 18|                 22|                 31|                 17|                 45|                 57|                119|                112|            37|          453|                 14|                 16|                 39|                 23|                 46|                 75|                118|                112|            60|          513|                 23|                 31|                 37|                 49|                 57|                 64|                 82|                 59|            34|          441|\n",
       "|    101031015|                  7|                  6|                  3|                 11|                  9|                 21|                 37|                 23|             0|          117|                  3|                  5|                  8|                  7|                 16|                 25|                 36|                 30|            10|          139|                  4|                  9|                 16|                  9|                 18|                 27|                 15|                 11|             3|          109|                  5|                 12|                 14|                 12|                 23|                 20|                 12|                  5|             0|          103|                  3|                  8|                  8|                 17|                 28|                 12|                 13|                  6|             0|          107|                    0|                    6|                   18|                   14|                   18|                   42|                   10|                    3|               0|            118|                    0|                    3|                   16|                   14|                   21|                   26|                    9|                    4|               0|             88|                    0|                    0|                    8|                   10|                   29|                    8|                    6|                    0|               0|             73|                    0|                    0|                    9|                   13|                   23|                   23|                    0|                    0|               0|             64|                    0|                    0|                   10|                    8|                   24|                   11|                    0|                    0|               0|             57|                    0|                    0|                    0|                    0|                   12|                    3|                    0|                    0|               0|             18|                    0|                    0|                    0|                    6|                   11|                    3|                    0|                    0|               0|             22|                8|                   8|                  17|                  14|                  24|                  23|                  24|                  21|                   13|           150|             88|             65|            144|            156|            288|            291|            215|            125|        30|     1403|                        60|                         4|                         8|                        12|                        22|                        48|                        27|                        15|                            4|                 198|               47|                7|                3|                0|                3|               11|                7|                7|           0|         88|                 16|                 13|                  8|                 11|                 10|                 36|                 34|                 13|             3|          138|                  6|                 13|                 10|                 12|                 19|                 45|                 76|                 51|             8|          234|                 10|                  7|                  7|                 10|                 21|                 41|                 79|                 47|            19|          245|                 15|                 15|                 23|                 12|                 39|                 43|                 29|                 29|             3|          207|\n",
       "+-------------+-------------------+-------------------+-------------------+-------------------+-------------------+-------------------+-------------------+-------------------+--------------+-------------+-------------------+-------------------+-------------------+-------------------+-------------------+-------------------+-------------------+-------------------+--------------+-------------+-------------------+-------------------+-------------------+-------------------+-------------------+-------------------+-------------------+-------------------+--------------+-------------+-------------------+-------------------+-------------------+-------------------+-------------------+-------------------+-------------------+-------------------+--------------+-------------+-------------------+-------------------+-------------------+-------------------+-------------------+-------------------+-------------------+-------------------+--------------+-------------+---------------------+---------------------+---------------------+---------------------+---------------------+---------------------+---------------------+---------------------+----------------+---------------+---------------------+---------------------+---------------------+---------------------+---------------------+---------------------+---------------------+---------------------+----------------+---------------+---------------------+---------------------+---------------------+---------------------+---------------------+---------------------+---------------------+---------------------+----------------+---------------+---------------------+---------------------+---------------------+---------------------+---------------------+---------------------+---------------------+---------------------+----------------+---------------+---------------------+---------------------+---------------------+---------------------+---------------------+---------------------+---------------------+---------------------+----------------+---------------+---------------------+---------------------+---------------------+---------------------+---------------------+---------------------+---------------------+---------------------+----------------+---------------+---------------------+---------------------+---------------------+---------------------+---------------------+---------------------+---------------------+---------------------+----------------+---------------+-----------------+--------------------+--------------------+--------------------+--------------------+--------------------+--------------------+--------------------+---------------------+--------------+---------------+---------------+---------------+---------------+---------------+---------------+---------------+---------------+----------+---------+--------------------------+--------------------------+--------------------------+--------------------------+--------------------------+--------------------------+--------------------------+--------------------------+-----------------------------+--------------------+-----------------+-----------------+-----------------+-----------------+-----------------+-----------------+-----------------+-----------------+------------+-----------+-------------------+-------------------+-------------------+-------------------+-------------------+-------------------+-------------------+-------------------+--------------+-------------+-------------------+-------------------+-------------------+-------------------+-------------------+-------------------+-------------------+-------------------+--------------+-------------+-------------------+-------------------+-------------------+-------------------+-------------------+-------------------+-------------------+-------------------+--------------+-------------+-------------------+-------------------+-------------------+-------------------+-------------------+-------------------+-------------------+-------------------+--------------+-------------+"
      ]
     },
     "execution_count": 19,
     "metadata": {},
     "output_type": "execute_result"
    }
   ],
   "source": [
    "# 2021 census data CSVs\n",
    "\n",
    "path = '../data/externaldataset/2021 Census GCP Statistical Area 2 for AUS/*'\n",
    "sa2_census = spark.read.csv(path, header=True)\n",
    "\n",
    "sa2_census.limit(10)\n"
   ]
  },
  {
   "cell_type": "code",
   "execution_count": 20,
   "metadata": {},
   "outputs": [],
   "source": [
    "###############################################################################################################################################################################################"
   ]
  },
  {
   "cell_type": "code",
   "execution_count": 21,
   "metadata": {},
   "outputs": [],
   "source": [
    "# SA2 population data\n",
    "sa2_pops=spark.createDataFrame(sa2_pops)"
   ]
  },
  {
   "cell_type": "code",
   "execution_count": 22,
   "metadata": {},
   "outputs": [
    {
     "name": "stdout",
     "output_type": "stream",
     "text": [
      "root\n",
      " |-- SA4 name: string (nullable = true)\n",
      " |-- SA3 name: string (nullable = true)\n",
      " |-- SA2 code: long (nullable = true)\n",
      " |-- SA2 name: string (nullable = true)\n",
      " |-- population_2021: long (nullable = true)\n",
      "\n"
     ]
    }
   ],
   "source": [
    "sa2_pops.limit(10)\n",
    "\n",
    "sa2_pops.printSchema()"
   ]
  },
  {
   "cell_type": "code",
   "execution_count": 23,
   "metadata": {},
   "outputs": [],
   "source": [
    "# convert casings and rename columns where necessary\n",
    "sa2_pops = \\\n",
    "sa2_pops.withColumnRenamed(\n",
    "    'SA4 name',\n",
    "    'sa4_name'\n",
    ").withColumnRenamed(\n",
    "    'SA3 name',\n",
    "    'sa3_name'\n",
    ").withColumnRenamed(\n",
    "    'SA2 code',\n",
    "    'sa2_code'\n",
    ").withColumnRenamed(\n",
    "    'SA2 name',\n",
    "    'sa2_name'\n",
    ")\n"
   ]
  },
  {
   "cell_type": "code",
   "execution_count": 24,
   "metadata": {},
   "outputs": [],
   "source": [
    "###############################################################################################################################################################################################"
   ]
  },
  {
   "cell_type": "code",
   "execution_count": 25,
   "metadata": {},
   "outputs": [
    {
     "name": "stdout",
     "output_type": "stream",
     "text": [
      "root\n",
      " |-- LOCALITY_ID: string (nullable = true)\n",
      " |-- LOCALITY_NAME : string (nullable = true)\n",
      " |-- LOCALITY_TYPE: string (nullable = true)\n",
      " |-- POSTCODE: string (nullable = true)\n",
      " |-- STATE: string (nullable = true)\n",
      " |-- SA2_MAINCODE_2021: string (nullable = true)\n",
      " |-- SA2_NAME_2021: string (nullable = true)\n",
      "\n"
     ]
    }
   ],
   "source": [
    "# Locality to SA2 coding index CSV\n",
    "sa2_to_postcode.limit(10)\n",
    "\n",
    "sa2_to_postcode.printSchema()\n",
    "\n"
   ]
  },
  {
   "cell_type": "code",
   "execution_count": 26,
   "metadata": {},
   "outputs": [],
   "source": [
    "sa2_to_postcode = sa2_to_postcode.select(['POSTCODE', 'SA2_MAINCODE_2021']).withColumn(\n",
    "    'POSTCODE',\n",
    "    F.col('POSTCODE').cast('long')\n",
    ").withColumn(\n",
    "    'SA2_MAINCODE_2021',\n",
    "    F.col('SA2_MAINCODE_2021').cast('long')\n",
    ").withColumnRenamed(\n",
    "    'SA2_MAINCODE_2021',\n",
    "    'sa2_code'\n",
    ")\n",
    "\n",
    "sa2_to_postcode = sa2_to_postcode.toDF(*[c.lower() for c in sa2_to_postcode.columns])"
   ]
  },
  {
   "cell_type": "markdown",
   "metadata": {},
   "source": [
    "## 2nd Step: Cleaning, feature engineering, aggregation"
   ]
  },
  {
   "cell_type": "markdown",
   "metadata": {},
   "source": [
    "### Transactions"
   ]
  },
  {
   "cell_type": "code",
   "execution_count": null,
   "metadata": {},
   "outputs": [],
   "source": [
    "transactions_all = transactions_21_02_21_08.union(transactions_21_08_22_02).union(transactions_22_02_22_08)"
   ]
  },
  {
   "cell_type": "code",
   "execution_count": null,
   "metadata": {},
   "outputs": [
    {
     "ename": "NameError",
     "evalue": "name 'transactions_all' is not defined",
     "output_type": "error",
     "traceback": [
      "\u001b[0;31m---------------------------------------------------------------------------\u001b[0m\n",
      "\u001b[0;31mNameError\u001b[0m                                 Traceback (most recent call last)\n",
      "Cell \u001b[0;32mIn[1], line 1\u001b[0m\n",
      "\u001b[0;32m----> 1\u001b[0m transactions_all\u001b[39m.\u001b[39msort(\u001b[39m'\u001b[39m\u001b[39morder_datetime\u001b[39m\u001b[39m'\u001b[39m)\u001b[39m.\u001b[39mhead(\u001b[39m3\u001b[39m)\n",
      "\n",
      "\u001b[0;31mNameError\u001b[0m: name 'transactions_all' is not defined"
     ]
    }
   ],
   "source": [
    "transactions_all.sort('order_datetime').head(3)"
   ]
  },
  {
   "cell_type": "code",
   "execution_count": null,
   "metadata": {},
   "outputs": [
    {
     "name": "stderr",
     "output_type": "stream",
     "text": [
      "                                                                                \r"
     ]
    },
    {
     "data": {
      "text/plain": [
       "[Row(user_id=11136, merchant_abn=63685007785, dollar_value=48.12988669206644, order_id='a6194c61-ae7a-4037-a425-2dd7cda42fb7', order_datetime=datetime.date(2022, 10, 26)),\n",
       " Row(user_id=11137, merchant_abn=85502310765, dollar_value=4.768751754248673, order_id='72a3639e-25d5-4bcc-9e8b-26e737b8c0e4', order_datetime=datetime.date(2022, 10, 26)),\n",
       " Row(user_id=11138, merchant_abn=43186523025, dollar_value=35.12766841919401, order_id='3f3b1d40-e8ec-4d4b-ac08-5f273586523c', order_datetime=datetime.date(2022, 10, 26))]"
      ]
     },
     "metadata": {},
     "output_type": "display_data"
    }
   ],
   "source": [
    "transactions_all.sort('order_datetime').tail(3)"
   ]
  },
  {
   "cell_type": "code",
   "execution_count": null,
   "metadata": {},
   "outputs": [],
   "source": [
    "from datetime import datetime\n",
    "\n",
    "from pyspark.sql import functions as F\n",
    "from datetime import datetime\n",
    "\n",
    "df = transactions_all\n",
    "\n",
    "# 1. Check for Null Values\n",
    "df = df.na.drop()\n",
    "\n",
    "# 2. Check for Duplicates\n",
    "df = df.dropDuplicates()\n",
    "df = df.dropDuplicates(['order_id'])\n",
    "\n",
    "# 3. Validate user_id and merchant_abn\n",
    "df = df.filter((F.col('user_id') > 0) & (F.col('merchant_abn') > 0))\n",
    "\n",
    "# 4. Validate dollar value\n",
    "df = df.filter(F.col('dollar_value') > 0)\n",
    "\n",
    "# 5. Validate order_datetime for the specified date range\n",
    "start_date = datetime.strptime(\"20210228\", \"%Y%m%d\").date()\n",
    "end_date = datetime.strptime(\"20221026\", \"%Y%m%d\").date()\n",
    "df = df.filter(F.col('order_datetime').between(start_date, end_date))\n",
    "\n",
    "transactions_all_clean = df.drop('order_id')"
   ]
  },
  {
   "cell_type": "code",
   "execution_count": null,
   "metadata": {},
   "outputs": [
    {
     "name": "stderr",
     "output_type": "stream",
     "text": [
      "                                                                                \r"
     ]
    },
    {
     "data": {
      "text/html": [
       "<table border='1'>\n",
       "<tr><th>user_id</th><th>merchant_abn</th><th>dollar_value</th><th>order_datetime</th></tr>\n",
       "<tr><td>83</td><td>46804135891</td><td>40.88736687931136</td><td>2021-08-20</td></tr>\n",
       "<tr><td>18574</td><td>40252040480</td><td>110.20656881653261</td><td>2021-08-20</td></tr>\n",
       "<tr><td>18653</td><td>17324645993</td><td>6.067842686819487</td><td>2021-08-20</td></tr>\n",
       "<tr><td>215</td><td>81219314324</td><td>66.32075609316571</td><td>2021-08-20</td></tr>\n",
       "<tr><td>18860</td><td>77013874702</td><td>2.082645905098512</td><td>2021-08-20</td></tr>\n",
       "<tr><td>18881</td><td>29616684420</td><td>91.12197214702582</td><td>2021-08-20</td></tr>\n",
       "<tr><td>399</td><td>71674475255</td><td>34.45156578850835</td><td>2021-08-20</td></tr>\n",
       "<tr><td>646</td><td>24852446429</td><td>44.287278647072334</td><td>2021-08-20</td></tr>\n",
       "<tr><td>19179</td><td>95492562735</td><td>43.393091988896295</td><td>2021-08-20</td></tr>\n",
       "<tr><td>19230</td><td>11437621158</td><td>259.7314287658183</td><td>2021-08-20</td></tr>\n",
       "<tr><td>19266</td><td>29616684420</td><td>89.50699163239382</td><td>2021-08-20</td></tr>\n",
       "<tr><td>19410</td><td>10264435225</td><td>154.80029257421901</td><td>2021-08-20</td></tr>\n",
       "<tr><td>19528</td><td>66858208767</td><td>150.51019371133583</td><td>2021-08-20</td></tr>\n",
       "<tr><td>1087</td><td>32709729094</td><td>25.972284709489376</td><td>2021-08-20</td></tr>\n",
       "<tr><td>1404</td><td>74337408103</td><td>20.692042570135865</td><td>2021-08-20</td></tr>\n",
       "<tr><td>1474</td><td>91085233749</td><td>6.205555897211985</td><td>2021-08-20</td></tr>\n",
       "<tr><td>1510</td><td>82065156333</td><td>22.84428864382923</td><td>2021-08-20</td></tr>\n",
       "<tr><td>20130</td><td>96566672398</td><td>60.73798004704377</td><td>2021-08-20</td></tr>\n",
       "<tr><td>1621</td><td>60956456424</td><td>129.43777543922627</td><td>2021-08-20</td></tr>\n",
       "<tr><td>1722</td><td>77505747217</td><td>80.84229513777326</td><td>2021-08-20</td></tr>\n",
       "</table>\n",
       "only showing top 20 rows\n"
      ],
      "text/plain": [
       "+-------+------------+------------------+--------------+\n",
       "|user_id|merchant_abn|      dollar_value|order_datetime|\n",
       "+-------+------------+------------------+--------------+\n",
       "|     83| 46804135891| 40.88736687931136|    2021-08-20|\n",
       "|  18574| 40252040480|110.20656881653261|    2021-08-20|\n",
       "|  18653| 17324645993| 6.067842686819487|    2021-08-20|\n",
       "|    215| 81219314324| 66.32075609316571|    2021-08-20|\n",
       "|  18860| 77013874702| 2.082645905098512|    2021-08-20|\n",
       "|  18881| 29616684420| 91.12197214702582|    2021-08-20|\n",
       "|    399| 71674475255| 34.45156578850835|    2021-08-20|\n",
       "|    646| 24852446429|44.287278647072334|    2021-08-20|\n",
       "|  19179| 95492562735|43.393091988896295|    2021-08-20|\n",
       "|  19230| 11437621158| 259.7314287658183|    2021-08-20|\n",
       "|  19266| 29616684420| 89.50699163239382|    2021-08-20|\n",
       "|  19410| 10264435225|154.80029257421901|    2021-08-20|\n",
       "|  19528| 66858208767|150.51019371133583|    2021-08-20|\n",
       "|   1087| 32709729094|25.972284709489376|    2021-08-20|\n",
       "|   1404| 74337408103|20.692042570135865|    2021-08-20|\n",
       "|   1474| 91085233749| 6.205555897211985|    2021-08-20|\n",
       "|   1510| 82065156333| 22.84428864382923|    2021-08-20|\n",
       "|  20130| 96566672398| 60.73798004704377|    2021-08-20|\n",
       "|   1621| 60956456424|129.43777543922627|    2021-08-20|\n",
       "|   1722| 77505747217| 80.84229513777326|    2021-08-20|\n",
       "+-------+------------+------------------+--------------+\n",
       "only showing top 20 rows"
      ]
     },
     "metadata": {},
     "output_type": "display_data"
    }
   ],
   "source": [
    "transactions_all_clean"
   ]
  },
  {
   "cell_type": "markdown",
   "metadata": {},
   "source": [
    "### Consumer Data"
   ]
  },
  {
   "cell_type": "code",
   "execution_count": 27,
   "metadata": {},
   "outputs": [],
   "source": [
    "from datetime import datetime\n",
    "\n",
    "from pyspark.sql import functions as F\n",
    "from datetime import datetime\n",
    "\n",
    "df = cust_user_det\n",
    "\n",
    "# 1. Check for Null Values\n",
    "df = df.na.drop()\n",
    "\n",
    "# 2. Check for Duplicates\n",
    "df = df.dropDuplicates()\n",
    "\n",
    "# 3. Validate consumer_id and user_id\n",
    "df = df.filter((F.col('consumer_id') > 0) & (F.col('user_id') > 0))\n",
    "\n",
    "cust_user_det_clean = df"
   ]
  },
  {
   "cell_type": "code",
   "execution_count": 28,
   "metadata": {},
   "outputs": [],
   "source": [
    "from datetime import datetime\n",
    "\n",
    "from pyspark.sql import functions as F\n",
    "from datetime import datetime\n",
    "\n",
    "df = cust_tbl\n",
    "\n",
    "# 1. Check for Null Values\n",
    "df = df.na.drop()\n",
    "\n",
    "# 2. Check for Duplicates\n",
    "df = df.dropDuplicates()\n",
    "\n",
    "# 3. Validate consumer_id\n",
    "df = df.filter((F.col('consumer_id') > 0))\n",
    "\n",
    "# 4. Validate consumer_name \n",
    "df = df.filter(F.col('consumer_name').rlike(\"[a-zA-Z][a-zA-Z ]+\"))\n",
    "\n",
    "# 5. Validate consumer_state \n",
    "df = df.filter(F.col('consumer_state').isin(['NT','ACT','SA','TAS','WA','QLD','VIC','NSW']))\n",
    "\n",
    "# 6. Validate consumer_postcode\n",
    "df = df.filter(F.col('consumer_postcode').between(200, 9729))\n",
    "\n",
    "# 7. Validate consumer_gender\n",
    "df = df.filter(F.col('consumer_gender').isin(['Undisclosed', 'Male', 'Female']))\n",
    "\n",
    "cust_tbl_clean = df\n",
    "               \n",
    "            "
   ]
  },
  {
   "cell_type": "code",
   "execution_count": 29,
   "metadata": {},
   "outputs": [],
   "source": [
    "from datetime import datetime\n",
    "\n",
    "from pyspark.sql import functions as F\n",
    "from datetime import datetime\n",
    "\n",
    "df = cust_fp\n",
    "\n",
    "# 1. Check for Null Values\n",
    "df = df.na.drop()\n",
    "\n",
    "# 2. Check for Duplicates\n",
    "df = df.dropDuplicates()\n",
    "\n",
    "# 3. Validate user_id\n",
    "df = df.filter((F.col('user_id') > 0))\n",
    "\n",
    "# 4. Validate order_datetime for the specified date range\n",
    "start_date = datetime.strptime(\"20210228\", \"%Y%m%d\").date()\n",
    "end_date = datetime.strptime(\"20221026\", \"%Y%m%d\").date()\n",
    "df = df.filter(F.col('order_datetime').between(start_date, end_date))\n",
    "\n",
    "# 5. Validate consumer fraud probability\n",
    "df = df.filter(F.col('consumer_fraud_probability_%').between(0, 100))\n",
    "\n",
    "cust_fp_clean = df"
   ]
  },
  {
   "cell_type": "code",
   "execution_count": 30,
   "metadata": {},
   "outputs": [
    {
     "data": {
      "text/html": [
       "<table border='1'>\n",
       "<tr><th>user_id</th><th>order_datetime</th><th>consumer_fraud_probability_%</th></tr>\n",
       "<tr><td>1</td><td>2022-02-20</td><td>9.805431136520959</td></tr>\n",
       "<tr><td>2</td><td>2021-09-25</td><td>10.069850934775245</td></tr>\n",
       "<tr><td>2</td><td>2021-08-30</td><td>9.599513915425788</td></tr>\n",
       "<tr><td>3</td><td>2021-11-03</td><td>8.300636455314633</td></tr>\n",
       "<tr><td>4</td><td>2021-10-09</td><td>9.633302411090419</td></tr>\n",
       "<tr><td>5</td><td>2022-01-11</td><td>27.496186536467164</td></tr>\n",
       "<tr><td>5</td><td>2022-02-08</td><td>9.02022421158597</td></tr>\n",
       "<tr><td>5</td><td>2021-10-04</td><td>10.868364868449886</td></tr>\n",
       "<tr><td>6</td><td>2021-12-12</td><td>10.459280127078758</td></tr>\n",
       "<tr><td>9</td><td>2021-12-13</td><td>10.58055311139687</td></tr>\n",
       "<tr><td>9</td><td>2021-11-17</td><td>8.531261989227714</td></tr>\n",
       "<tr><td>13</td><td>2021-07-17</td><td>9.050002342172851</td></tr>\n",
       "<tr><td>13</td><td>2021-12-06</td><td>9.213002123639797</td></tr>\n",
       "<tr><td>14</td><td>2021-04-20</td><td>17.698747546724444</td></tr>\n",
       "<tr><td>14</td><td>2021-12-03</td><td>16.605682602965032</td></tr>\n",
       "<tr><td>15</td><td>2021-11-27</td><td>16.99959017524405</td></tr>\n",
       "<tr><td>16</td><td>2021-11-27</td><td>21.623529222276932</td></tr>\n",
       "<tr><td>17</td><td>2022-02-14</td><td>9.518525205093667</td></tr>\n",
       "<tr><td>18</td><td>2021-11-30</td><td>21.286573044791613</td></tr>\n",
       "<tr><td>19</td><td>2021-11-27</td><td>14.310022438431579</td></tr>\n",
       "</table>\n",
       "only showing top 20 rows\n"
      ],
      "text/plain": [
       "+-------+--------------+----------------------------+\n",
       "|user_id|order_datetime|consumer_fraud_probability_%|\n",
       "+-------+--------------+----------------------------+\n",
       "|      1|    2022-02-20|           9.805431136520959|\n",
       "|      2|    2021-09-25|          10.069850934775245|\n",
       "|      2|    2021-08-30|           9.599513915425788|\n",
       "|      3|    2021-11-03|           8.300636455314633|\n",
       "|      4|    2021-10-09|           9.633302411090419|\n",
       "|      5|    2022-01-11|          27.496186536467164|\n",
       "|      5|    2022-02-08|            9.02022421158597|\n",
       "|      5|    2021-10-04|          10.868364868449886|\n",
       "|      6|    2021-12-12|          10.459280127078758|\n",
       "|      9|    2021-12-13|           10.58055311139687|\n",
       "|      9|    2021-11-17|           8.531261989227714|\n",
       "|     13|    2021-07-17|           9.050002342172851|\n",
       "|     13|    2021-12-06|           9.213002123639797|\n",
       "|     14|    2021-04-20|          17.698747546724444|\n",
       "|     14|    2021-12-03|          16.605682602965032|\n",
       "|     15|    2021-11-27|           16.99959017524405|\n",
       "|     16|    2021-11-27|          21.623529222276932|\n",
       "|     17|    2022-02-14|           9.518525205093667|\n",
       "|     18|    2021-11-30|          21.286573044791613|\n",
       "|     19|    2021-11-27|          14.310022438431579|\n",
       "+-------+--------------+----------------------------+\n",
       "only showing top 20 rows"
      ]
     },
     "execution_count": 30,
     "metadata": {},
     "output_type": "execute_result"
    }
   ],
   "source": [
    "cust_fp_clean.sort('user_id')"
   ]
  },
  {
   "cell_type": "markdown",
   "metadata": {},
   "source": [
    "### Merchant Data"
   ]
  },
  {
   "cell_type": "code",
   "execution_count": 31,
   "metadata": {},
   "outputs": [
    {
     "data": {
      "text/plain": [
       "4026"
      ]
     },
     "execution_count": 31,
     "metadata": {},
     "output_type": "execute_result"
    }
   ],
   "source": [
    "merch_tbl.count()"
   ]
  },
  {
   "cell_type": "code",
   "execution_count": 32,
   "metadata": {},
   "outputs": [],
   "source": [
    "# Extract different features from tags (words, revenue band, take rate)\n",
    "import re\n",
    "from pyspark.sql.functions import udf\n",
    "from pyspark.sql.types import StringType, FloatType, ArrayType\n",
    "\n",
    "# Define a UDF to extract the sections within square and normal brackets\n",
    "def split_tags(input_tags):\n",
    "    sep_tags = re.findall(r'[\\[\\(\\{]([^\\[\\]\\(\\)\\{\\}]*)[\\]\\)\\}]', input_tags)\n",
    "    sep_tags_without_brackets = [re.sub(r'[\\[\\]\\(\\)\\{\\}]', '', tag) for tag in sep_tags]\n",
    "        \n",
    "    return sep_tags_without_brackets\n",
    "\n",
    "# Define a UDF to extract \"take rate\" numbers\n",
    "def extract_take_rate(input_rate):\n",
    "    match = re.search(r'take rate: ([\\d.]+)', input_rate)\n",
    "    if match:\n",
    "        return float(match.group(1))\n",
    "    return None\n",
    "\n",
    "# Register the UDFs\n",
    "split_tags_udf = udf(split_tags, ArrayType(StringType()))\n",
    "\n",
    "clean_take_rate_udf = udf(extract_take_rate, FloatType())\n",
    "\n",
    "# Apply the UDF to the DataFrame\n",
    "merch_tbl_clean = merch_tbl.withColumn(\"sep_tags\", split_tags_udf(merch_tbl[\"tags\"]))\n",
    "\n",
    "# Create separate columns each segment of the tags\n",
    "merch_tbl_clean = merch_tbl_clean.withColumn(\"words\", merch_tbl_clean[\"sep_tags\"].getItem(0))\n",
    "merch_tbl_clean = merch_tbl_clean.withColumn(\"revenue_level\", merch_tbl_clean[\"sep_tags\"].getItem(1))\n",
    "merch_tbl_clean = merch_tbl_clean.withColumn(\"take_rate_%\", merch_tbl_clean[\"sep_tags\"].getItem(2))\n",
    "\n",
    "merch_tbl_clean = merch_tbl_clean.withColumn(\"take_rate_%\", clean_take_rate_udf(merch_tbl_clean[\"take_rate_%\"]))\n",
    "\n"
   ]
  },
  {
   "cell_type": "code",
   "execution_count": 33,
   "metadata": {},
   "outputs": [
    {
     "data": {
      "text/html": [
       "<table border='1'>\n",
       "<tr><th>merchant_name</th><th>merchant_abn</th><th>words</th><th>revenue_level</th><th>take_rate_%</th></tr>\n",
       "<tr><td>Felis Limited</td><td>10023283211</td><td>furniture, home f...</td><td>e</td><td>0.18</td></tr>\n",
       "<tr><td>Arcu Ac Orci Corp...</td><td>10142254217</td><td>cable, satellite,...</td><td>b</td><td>4.22</td></tr>\n",
       "<tr><td>Nunc Sed Company</td><td>10165489824</td><td>jewelry, watch, c...</td><td>b</td><td>4.4</td></tr>\n",
       "<tr><td>Ultricies Digniss...</td><td>10187291046</td><td>wAtch, clock, and...</td><td>b</td><td>3.29</td></tr>\n",
       "<tr><td>Enim Condimentum PC</td><td>10192359162</td><td>music shops - mus...</td><td>a</td><td>6.33</td></tr>\n",
       "<tr><td>Fusce Company</td><td>10206519221</td><td>gift, card, novel...</td><td>a</td><td>6.34</td></tr>\n",
       "<tr><td>Aliquam Enim Inco...</td><td>10255988167</td><td>computers, comPUt...</td><td>b</td><td>4.32</td></tr>\n",
       "<tr><td>Ipsum Primis Ltd</td><td>10264435225</td><td>watch, clock, and...</td><td>c</td><td>2.39</td></tr>\n",
       "<tr><td>Pede Ultrices Ind...</td><td>10279061213</td><td>computer programm...</td><td>a</td><td>5.71</td></tr>\n",
       "<tr><td>Nunc Inc.</td><td>10323485998</td><td>furniture, home f...</td><td>a</td><td>6.61</td></tr>\n",
       "</table>\n"
      ],
      "text/plain": [
       "+--------------------+------------+--------------------+-------------+-----------+\n",
       "|       merchant_name|merchant_abn|               words|revenue_level|take_rate_%|\n",
       "+--------------------+------------+--------------------+-------------+-----------+\n",
       "|       Felis Limited| 10023283211|furniture, home f...|            e|       0.18|\n",
       "|Arcu Ac Orci Corp...| 10142254217|cable, satellite,...|            b|       4.22|\n",
       "|    Nunc Sed Company| 10165489824|jewelry, watch, c...|            b|        4.4|\n",
       "|Ultricies Digniss...| 10187291046|wAtch, clock, and...|            b|       3.29|\n",
       "| Enim Condimentum PC| 10192359162|music shops - mus...|            a|       6.33|\n",
       "|       Fusce Company| 10206519221|gift, card, novel...|            a|       6.34|\n",
       "|Aliquam Enim Inco...| 10255988167|computers, comPUt...|            b|       4.32|\n",
       "|    Ipsum Primis Ltd| 10264435225|watch, clock, and...|            c|       2.39|\n",
       "|Pede Ultrices Ind...| 10279061213|computer programm...|            a|       5.71|\n",
       "|           Nunc Inc.| 10323485998|furniture, home f...|            a|       6.61|\n",
       "+--------------------+------------+--------------------+-------------+-----------+"
      ]
     },
     "execution_count": 33,
     "metadata": {},
     "output_type": "execute_result"
    }
   ],
   "source": [
    "merch_tbl_clean = merch_tbl_clean.drop('tags', 'sep_tags')\n",
    "\n",
    "merch_tbl_clean.limit(10)"
   ]
  },
  {
   "cell_type": "code",
   "execution_count": 34,
   "metadata": {},
   "outputs": [
    {
     "data": {
      "text/plain": [
       "4026"
      ]
     },
     "execution_count": 34,
     "metadata": {},
     "output_type": "execute_result"
    }
   ],
   "source": [
    "merch_tbl_clean.count()"
   ]
  },
  {
   "cell_type": "code",
   "execution_count": 35,
   "metadata": {},
   "outputs": [],
   "source": [
    "df = merch_tbl_clean \n",
    "\n",
    "# 1. Check for Null Values\n",
    "df = df.na.drop()\n",
    "\n",
    "# 2. Check for Duplicates\n",
    "df = df.dropDuplicates()\n",
    "\n",
    "# 3. Validate merchant_abn\n",
    "df = df.filter((F.col('merchant_abn') > 0))\n",
    "\n",
    "# 4. Validate merchant_name \n",
    "df = df.filter(F.col('merchant_name').rlike(\"[a-zA-Z][a-zA-Z ]+\"))\n",
    "\n",
    "# 5. Validate words (SPELL CHECK?) # https://scikit-learn.org/stable/modules/generated/sklearn.feature_extraction.text.TfidfVectorizer.html#sklearn.feature_extraction.text.TfidfVectorizer)\n",
    "                                   # https://scikit-learn.org/stable/modules/generated/sklearn.feature_extraction.text.CountVectorizer.html \n",
    "#df = df.filter(F.col('words') in ['NT','ACT','SA','TAS','WA','QLD','VIC','NSW'])\n",
    "\n",
    "# 6. Validate take_rate\n",
    "df = df.filter((F.col('take_rate_%').between(0, 100)))\n",
    "\n",
    "# 7. Validate revenue_level\n",
    "df = df.filter(F.col('revenue_level').isin(['a', 'b', 'c', 'd', 'e']))\n",
    "\n",
    "\n",
    "merch_tbl_clean = df\n"
   ]
  },
  {
   "cell_type": "code",
   "execution_count": 36,
   "metadata": {},
   "outputs": [],
   "source": [
    "df = merch_fp\n",
    "\n",
    "# 1. Check for Null Values\n",
    "df = df.na.drop()\n",
    "\n",
    "# 2. Check for Duplicates\n",
    "df = df.dropDuplicates()\n",
    "\n",
    "# 3. Validate merchant_abn\n",
    "df = df.filter((F.col('merchant_abn') > 0))\n",
    "\n",
    "# 4. Validate order_datetime for the specified date range\n",
    "start_date = datetime.strptime(\"20210228\", \"%Y%m%d\").date()\n",
    "end_date = datetime.strptime(\"20221026\", \"%Y%m%d\").date()\n",
    "df = df.filter(F.col('order_datetime').between(start_date, end_date))\n",
    "\n",
    "# 5. Validate merchant fraud probability\n",
    "df = df.filter(F.col('merchant_fraud_probability_%').between(0, 100))\n",
    "\n",
    "merch_fp_clean = df\n"
   ]
  },
  {
   "cell_type": "markdown",
   "metadata": {},
   "source": [
    "### External Data"
   ]
  },
  {
   "cell_type": "code",
   "execution_count": 42,
   "metadata": {},
   "outputs": [
    {
     "data": {
      "text/html": [
       "<table border='1'>\n",
       "<tr><th>SA2_CODE_2021</th><th>F_300_399_15_19_yrs</th><th>F_300_399_20_24_yrs</th><th>F_300_399_25_34_yrs</th><th>F_300_399_35_44_yrs</th><th>F_300_399_45_54_yrs</th><th>F_300_399_55_64_yrs</th><th>F_300_399_65_74_yrs</th><th>F_300_399_75_84_yrs</th><th>F_300_399_85ov</th><th>F_300_399_Tot</th><th>F_400_499_15_19_yrs</th><th>F_400_499_20_24_yrs</th><th>F_400_499_25_34_yrs</th><th>F_400_499_35_44_yrs</th><th>F_400_499_45_54_yrs</th><th>F_400_499_55_64_yrs</th><th>F_400_499_65_74_yrs</th><th>F_400_499_75_84_yrs</th><th>F_400_499_85ov</th><th>F_400_499_Tot</th><th>F_500_649_15_19_yrs</th><th>F_500_649_20_24_yrs</th><th>F_500_649_25_34_yrs</th><th>F_500_649_35_44_yrs</th><th>F_500_649_45_54_yrs</th><th>F_500_649_55_64_yrs</th><th>F_500_649_65_74_yrs</th><th>F_500_649_75_84_yrs</th><th>F_500_649_85ov</th><th>F_500_649_Tot</th><th>F_650_799_15_19_yrs</th><th>F_650_799_20_24_yrs</th><th>F_650_799_25_34_yrs</th><th>F_650_799_35_44_yrs</th><th>F_650_799_45_54_yrs</th><th>F_650_799_55_64_yrs</th><th>F_650_799_65_74_yrs</th><th>F_650_799_75_84_yrs</th><th>F_650_799_85ov</th><th>F_650_799_Tot</th><th>F_800_999_15_19_yrs</th><th>F_800_999_20_24_yrs</th><th>F_800_999_25_34_yrs</th><th>F_800_999_35_44_yrs</th><th>F_800_999_45_54_yrs</th><th>F_800_999_55_64_yrs</th><th>F_800_999_65_74_yrs</th><th>F_800_999_75_84_yrs</th><th>F_800_999_85ov</th><th>F_800_999_Tot</th><th>F_1000_1249_15_19_yrs</th><th>F_1000_1249_20_24_yrs</th><th>F_1000_1249_25_34_yrs</th><th>F_1000_1249_35_44_yrs</th><th>F_1000_1249_45_54_yrs</th><th>F_1000_1249_55_64_yrs</th><th>F_1000_1249_65_74_yrs</th><th>F_1000_1249_75_84_yrs</th><th>F_1000_1249_85ov</th><th>F_1000_1249_Tot</th><th>F_1250_1499_15_19_yrs</th><th>F_1250_1499_20_24_yrs</th><th>F_1250_1499_25_34_yrs</th><th>F_1250_1499_35_44_yrs</th><th>F_1250_1499_45_54_yrs</th><th>F_1250_1499_55_64_yrs</th><th>F_1250_1499_65_74_yrs</th><th>F_1250_1499_75_84_yrs</th><th>F_1250_1499_85ov</th><th>F_1250_1499_Tot</th><th>F_1500_1749_15_19_yrs</th><th>F_1500_1749_20_24_yrs</th><th>F_1500_1749_25_34_yrs</th><th>F_1500_1749_35_44_yrs</th><th>F_1500_1749_45_54_yrs</th><th>F_1500_1749_55_64_yrs</th><th>F_1500_1749_65_74_yrs</th><th>F_1500_1749_75_84_yrs</th><th>F_1500_1749_85ov</th><th>F_1500_1749_Tot</th><th>F_1750_1999_15_19_yrs</th><th>F_1750_1999_20_24_yrs</th><th>F_1750_1999_25_34_yrs</th><th>F_1750_1999_35_44_yrs</th><th>F_1750_1999_45_54_yrs</th><th>F_1750_1999_55_64_yrs</th><th>F_1750_1999_65_74_yrs</th><th>F_1750_1999_75_84_yrs</th><th>F_1750_1999_85ov</th><th>F_1750_1999_Tot</th><th>F_2000_2999_15_19_yrs</th><th>F_2000_2999_20_24_yrs</th><th>F_2000_2999_25_34_yrs</th><th>F_2000_2999_35_44_yrs</th><th>F_2000_2999_45_54_yrs</th><th>F_2000_2999_55_64_yrs</th><th>F_2000_2999_65_74_yrs</th><th>F_2000_2999_75_84_yrs</th><th>F_2000_2999_85ov</th><th>F_2000_2999_Tot</th><th>F_3000_3499_15_19_yrs</th><th>F_3000_3499_20_24_yrs</th><th>F_3000_3499_25_34_yrs</th><th>F_3000_3499_35_44_yrs</th><th>F_3000_3499_45_54_yrs</th><th>F_3000_3499_55_64_yrs</th><th>F_3000_3499_65_74_yrs</th><th>F_3000_3499_75_84_yrs</th><th>F_3000_3499_85ov</th><th>F_3000_3499_Tot</th><th>F_3500_more_15_19_yrs</th><th>F_3500_more_20_24_yrs</th><th>F_3500_more_25_34_yrs</th><th>F_3500_more_35_44_yrs</th><th>F_3500_more_45_54_yrs</th><th>F_3500_more_55_64_yrs</th><th>F_3500_more_65_74_yrs</th><th>F_3500_more_75_84_yrs</th><th>F_3500_more_85ov</th><th>F_3500_more_Tot</th><th>F_PI_NS_15_19_yrs</th><th>F_PI_NS_ns_20_24_yrs</th><th>F_PI_NS_ns_25_34_yrs</th><th>F_PI_NS_ns_35_44_yrs</th><th>F_PI_NS_ns_45_54_yrs</th><th>F_PI_NS_ns_55_64_yrs</th><th>F_PI_NS_ns_65_74_yrs</th><th>F_PI_NS_ns_75_84_yrs</th><th>F_PI_NS_ns_85_yrs_ovr</th><th>F_PI_NS_ns_Tot</th><th>F_Tot_15_19_yrs</th><th>F_Tot_20_24_yrs</th><th>F_Tot_25_34_yrs</th><th>F_Tot_35_44_yrs</th><th>F_Tot_45_54_yrs</th><th>F_Tot_55_64_yrs</th><th>F_Tot_65_74_yrs</th><th>F_Tot_75_84_yrs</th><th>F_Tot_85ov</th><th>F_Tot_Tot</th><th>P_Neg_Nil_income_15_19_yrs</th><th>P_Neg_Nil_income_20_24_yrs</th><th>P_Neg_Nil_income_25_34_yrs</th><th>P_Neg_Nil_income_35_44_yrs</th><th>P_Neg_Nil_income_45_54_yrs</th><th>P_Neg_Nil_income_55_64_yrs</th><th>P_Neg_Nil_income_65_74_yrs</th><th>P_Neg_Nil_income_75_84_yrs</th><th>P_Negtve_Nil_incme_85_yrs_ovr</th><th>P_Neg_Nil_income_Tot</th><th>P_1_149_15_19_yrs</th><th>P_1_149_20_24_yrs</th><th>P_1_149_25_34_yrs</th><th>P_1_149_35_44_yrs</th><th>P_1_149_45_54_yrs</th><th>P_1_149_55_64_yrs</th><th>P_1_149_65_74_yrs</th><th>P_1_149_75_84_yrs</th><th>P_1_149_85ov</th><th>P_1_149_Tot</th><th>P_150_299_15_19_yrs</th><th>P_150_299_20_24_yrs</th><th>P_150_299_25_34_yrs</th><th>P_150_299_35_44_yrs</th><th>P_150_299_45_54_yrs</th><th>P_150_299_55_64_yrs</th><th>P_150_299_65_74_yrs</th><th>P_150_299_75_84_yrs</th><th>P_150_299_85ov</th><th>P_150_299_Tot</th><th>P_300_399_15_19_yrs</th><th>P_300_399_20_24_yrs</th><th>P_300_399_25_34_yrs</th><th>P_300_399_35_44_yrs</th><th>P_300_399_45_54_yrs</th><th>P_300_399_55_64_yrs</th><th>P_300_399_65_74_yrs</th><th>P_300_399_75_84_yrs</th><th>P_300_399_85ov</th><th>P_300_399_Tot</th><th>P_400_499_15_19_yrs</th><th>P_400_499_20_24_yrs</th><th>P_400_499_25_34_yrs</th><th>P_400_499_35_44_yrs</th><th>P_400_499_45_54_yrs</th><th>P_400_499_55_64_yrs</th><th>P_400_499_65_74_yrs</th><th>P_400_499_75_84_yrs</th><th>P_400_499_85ov</th><th>P_400_499_Tot</th><th>P_500_649_15_19_yrs</th><th>P_500_649_20_24_yrs</th><th>P_500_649_25_34_yrs</th><th>P_500_649_35_44_yrs</th><th>P_500_649_45_54_yrs</th><th>P_500_649_55_64_yrs</th><th>P_500_649_65_74_yrs</th><th>P_500_649_75_84_yrs</th><th>P_500_649_85ov</th><th>P_500_649_Tot</th></tr>\n",
       "<tr><td>101021007</td><td>3</td><td>7</td><td>3</td><td>19</td><td>15</td><td>38</td><td>44</td><td>30</td><td>3</td><td>160</td><td>0</td><td>3</td><td>4</td><td>15</td><td>26</td><td>31</td><td>45</td><td>35</td><td>15</td><td>174</td><td>3</td><td>4</td><td>12</td><td>16</td><td>24</td><td>29</td><td>35</td><td>24</td><td>7</td><td>160</td><td>0</td><td>13</td><td>16</td><td>14</td><td>23</td><td>26</td><td>24</td><td>16</td><td>5</td><td>141</td><td>0</td><td>5</td><td>15</td><td>27</td><td>26</td><td>34</td><td>25</td><td>10</td><td>0</td><td>146</td><td>0</td><td>4</td><td>21</td><td>17</td><td>26</td><td>33</td><td>21</td><td>5</td><td>0</td><td>135</td><td>0</td><td>4</td><td>19</td><td>15</td><td>22</td><td>29</td><td>11</td><td>0</td><td>4</td><td>101</td><td>0</td><td>0</td><td>15</td><td>17</td><td>21</td><td>19</td><td>10</td><td>0</td><td>0</td><td>83</td><td>0</td><td>0</td><td>5</td><td>13</td><td>15</td><td>19</td><td>3</td><td>0</td><td>0</td><td>52</td><td>0</td><td>0</td><td>19</td><td>29</td><td>38</td><td>19</td><td>7</td><td>0</td><td>3</td><td>114</td><td>0</td><td>0</td><td>5</td><td>3</td><td>3</td><td>3</td><td>4</td><td>0</td><td>0</td><td>12</td><td>0</td><td>0</td><td>0</td><td>4</td><td>13</td><td>9</td><td>0</td><td>3</td><td>0</td><td>32</td><td>9</td><td>0</td><td>21</td><td>17</td><td>24</td><td>30</td><td>32</td><td>25</td><td>6</td><td>170</td><td>85</td><td>52</td><td>185</td><td>230</td><td>316</td><td>388</td><td>315</td><td>186</td><td>49</td><td>1807</td><td>49</td><td>3</td><td>17</td><td>18</td><td>25</td><td>56</td><td>41</td><td>18</td><td>0</td><td>225</td><td>37</td><td>4</td><td>3</td><td>8</td><td>10</td><td>23</td><td>29</td><td>8</td><td>4</td><td>140</td><td>20</td><td>14</td><td>14</td><td>16</td><td>15</td><td>37</td><td>33</td><td>31</td><td>7</td><td>196</td><td>4</td><td>12</td><td>14</td><td>26</td><td>33</td><td>59</td><td>84</td><td>66</td><td>13</td><td>307</td><td>7</td><td>0</td><td>12</td><td>25</td><td>38</td><td>66</td><td>88</td><td>51</td><td>21</td><td>312</td><td>15</td><td>7</td><td>18</td><td>21</td><td>49</td><td>49</td><td>61</td><td>41</td><td>13</td><td>274</td></tr>\n",
       "<tr><td>101021008</td><td>9</td><td>14</td><td>16</td><td>23</td><td>18</td><td>39</td><td>69</td><td>36</td><td>11</td><td>234</td><td>15</td><td>15</td><td>42</td><td>29</td><td>22</td><td>31</td><td>56</td><td>73</td><td>28</td><td>306</td><td>15</td><td>17</td><td>55</td><td>37</td><td>29</td><td>42</td><td>39</td><td>32</td><td>6</td><td>261</td><td>6</td><td>27</td><td>44</td><td>45</td><td>31</td><td>34</td><td>24</td><td>18</td><td>4</td><td>238</td><td>12</td><td>28</td><td>66</td><td>49</td><td>46</td><td>51</td><td>20</td><td>8</td><td>0</td><td>284</td><td>3</td><td>26</td><td>69</td><td>54</td><td>77</td><td>55</td><td>28</td><td>8</td><td>0</td><td>318</td><td>0</td><td>31</td><td>68</td><td>69</td><td>55</td><td>41</td><td>10</td><td>3</td><td>0</td><td>289</td><td>0</td><td>13</td><td>74</td><td>53</td><td>66</td><td>48</td><td>8</td><td>0</td><td>0</td><td>271</td><td>0</td><td>5</td><td>33</td><td>45</td><td>51</td><td>32</td><td>0</td><td>0</td><td>0</td><td>172</td><td>0</td><td>3</td><td>54</td><td>78</td><td>82</td><td>41</td><td>0</td><td>0</td><td>0</td><td>259</td><td>0</td><td>0</td><td>9</td><td>16</td><td>13</td><td>11</td><td>0</td><td>0</td><td>0</td><td>45</td><td>0</td><td>0</td><td>5</td><td>5</td><td>10</td><td>9</td><td>0</td><td>0</td><td>0</td><td>29</td><td>23</td><td>18</td><td>55</td><td>40</td><td>30</td><td>33</td><td>26</td><td>20</td><td>3</td><td>245</td><td>249</td><td>237</td><td>632</td><td>577</td><td>591</td><td>556</td><td>377</td><td>228</td><td>60</td><td>3509</td><td>178</td><td>25</td><td>42</td><td>43</td><td>47</td><td>72</td><td>58</td><td>26</td><td>6</td><td>495</td><td>86</td><td>4</td><td>6</td><td>8</td><td>12</td><td>20</td><td>21</td><td>5</td><td>0</td><td>165</td><td>59</td><td>21</td><td>35</td><td>24</td><td>22</td><td>43</td><td>54</td><td>22</td><td>7</td><td>290</td><td>23</td><td>29</td><td>33</td><td>27</td><td>47</td><td>56</td><td>124</td><td>69</td><td>21</td><td>435</td><td>25</td><td>33</td><td>62</td><td>40</td><td>45</td><td>57</td><td>100</td><td>95</td><td>35</td><td>484</td><td>47</td><td>36</td><td>69</td><td>46</td><td>38</td><td>56</td><td>68</td><td>54</td><td>6</td><td>416</td></tr>\n",
       "<tr><td>101021009</td><td>8</td><td>32</td><td>43</td><td>19</td><td>20</td><td>28</td><td>65</td><td>65</td><td>50</td><td>336</td><td>6</td><td>15</td><td>66</td><td>23</td><td>27</td><td>55</td><td>94</td><td>91</td><td>54</td><td>437</td><td>9</td><td>41</td><td>78</td><td>41</td><td>27</td><td>27</td><td>49</td><td>41</td><td>23</td><td>336</td><td>5</td><td>48</td><td>99</td><td>57</td><td>48</td><td>49</td><td>40</td><td>17</td><td>18</td><td>371</td><td>4</td><td>50</td><td>134</td><td>69</td><td>58</td><td>57</td><td>36</td><td>11</td><td>3</td><td>425</td><td>4</td><td>48</td><td>165</td><td>92</td><td>57</td><td>65</td><td>30</td><td>9</td><td>3</td><td>468</td><td>0</td><td>41</td><td>131</td><td>82</td><td>58</td><td>47</td><td>22</td><td>4</td><td>0</td><td>383</td><td>0</td><td>13</td><td>128</td><td>101</td><td>65</td><td>54</td><td>11</td><td>3</td><td>0</td><td>368</td><td>0</td><td>3</td><td>75</td><td>75</td><td>52</td><td>35</td><td>13</td><td>0</td><td>0</td><td>254</td><td>0</td><td>3</td><td>89</td><td>115</td><td>113</td><td>62</td><td>9</td><td>3</td><td>0</td><td>393</td><td>0</td><td>0</td><td>8</td><td>6</td><td>17</td><td>8</td><td>0</td><td>0</td><td>0</td><td>35</td><td>0</td><td>0</td><td>6</td><td>17</td><td>27</td><td>16</td><td>5</td><td>3</td><td>0</td><td>69</td><td>7</td><td>14</td><td>68</td><td>38</td><td>23</td><td>31</td><td>41</td><td>42</td><td>52</td><td>330</td><td>180</td><td>335</td><td>1185</td><td>797</td><td>640</td><td>608</td><td>477</td><td>324</td><td>227</td><td>4771</td><td>160</td><td>24</td><td>108</td><td>60</td><td>46</td><td>63</td><td>49</td><td>19</td><td>9</td><td>541</td><td>82</td><td>3</td><td>17</td><td>15</td><td>10</td><td>18</td><td>25</td><td>14</td><td>9</td><td>190</td><td>56</td><td>30</td><td>27</td><td>21</td><td>26</td><td>36</td><td>40</td><td>35</td><td>11</td><td>280</td><td>22</td><td>43</td><td>68</td><td>46</td><td>39</td><td>58</td><td>114</td><td>120</td><td>77</td><td>588</td><td>24</td><td>44</td><td>105</td><td>43</td><td>48</td><td>98</td><td>150</td><td>129</td><td>76</td><td>711</td><td>18</td><td>67</td><td>132</td><td>69</td><td>61</td><td>58</td><td>106</td><td>66</td><td>31</td><td>600</td></tr>\n",
       "<tr><td>101021010</td><td>0</td><td>13</td><td>17</td><td>11</td><td>9</td><td>9</td><td>28</td><td>17</td><td>0</td><td>100</td><td>7</td><td>11</td><td>18</td><td>10</td><td>17</td><td>13</td><td>33</td><td>26</td><td>14</td><td>150</td><td>0</td><td>14</td><td>16</td><td>20</td><td>10</td><td>19</td><td>12</td><td>9</td><td>8</td><td>106</td><td>0</td><td>18</td><td>38</td><td>23</td><td>11</td><td>17</td><td>15</td><td>15</td><td>0</td><td>134</td><td>5</td><td>37</td><td>57</td><td>26</td><td>27</td><td>24</td><td>15</td><td>9</td><td>0</td><td>203</td><td>0</td><td>33</td><td>71</td><td>52</td><td>23</td><td>25</td><td>17</td><td>4</td><td>0</td><td>234</td><td>0</td><td>21</td><td>65</td><td>38</td><td>26</td><td>25</td><td>11</td><td>0</td><td>0</td><td>183</td><td>0</td><td>7</td><td>64</td><td>41</td><td>36</td><td>28</td><td>3</td><td>0</td><td>0</td><td>179</td><td>0</td><td>3</td><td>41</td><td>33</td><td>40</td><td>26</td><td>5</td><td>0</td><td>0</td><td>141</td><td>0</td><td>0</td><td>35</td><td>44</td><td>55</td><td>37</td><td>6</td><td>5</td><td>0</td><td>178</td><td>0</td><td>0</td><td>0</td><td>7</td><td>3</td><td>4</td><td>4</td><td>0</td><td>0</td><td>23</td><td>0</td><td>0</td><td>4</td><td>6</td><td>15</td><td>11</td><td>0</td><td>0</td><td>0</td><td>35</td><td>3</td><td>4</td><td>36</td><td>18</td><td>13</td><td>21</td><td>4</td><td>3</td><td>3</td><td>111</td><td>83</td><td>187</td><td>526</td><td>364</td><td>318</td><td>277</td><td>181</td><td>102</td><td>36</td><td>2064</td><td>68</td><td>16</td><td>53</td><td>31</td><td>33</td><td>29</td><td>17</td><td>6</td><td>0</td><td>252</td><td>42</td><td>13</td><td>9</td><td>5</td><td>11</td><td>12</td><td>10</td><td>7</td><td>0</td><td>100</td><td>17</td><td>15</td><td>21</td><td>3</td><td>5</td><td>17</td><td>19</td><td>8</td><td>3</td><td>120</td><td>9</td><td>21</td><td>33</td><td>19</td><td>16</td><td>17</td><td>49</td><td>25</td><td>5</td><td>200</td><td>10</td><td>14</td><td>31</td><td>24</td><td>25</td><td>37</td><td>51</td><td>39</td><td>18</td><td>251</td><td>12</td><td>19</td><td>32</td><td>27</td><td>17</td><td>31</td><td>36</td><td>22</td><td>12</td><td>199</td></tr>\n",
       "<tr><td>101021012</td><td>34</td><td>29</td><td>10</td><td>17</td><td>15</td><td>39</td><td>48</td><td>24</td><td>3</td><td>218</td><td>14</td><td>23</td><td>20</td><td>24</td><td>18</td><td>31</td><td>60</td><td>42</td><td>15</td><td>248</td><td>15</td><td>41</td><td>40</td><td>34</td><td>53</td><td>49</td><td>35</td><td>16</td><td>5</td><td>290</td><td>12</td><td>28</td><td>42</td><td>36</td><td>45</td><td>39</td><td>49</td><td>18</td><td>0</td><td>282</td><td>16</td><td>41</td><td>59</td><td>76</td><td>61</td><td>46</td><td>31</td><td>9</td><td>0</td><td>344</td><td>11</td><td>56</td><td>89</td><td>86</td><td>90</td><td>92</td><td>23</td><td>7</td><td>0</td><td>448</td><td>6</td><td>43</td><td>101</td><td>81</td><td>95</td><td>72</td><td>18</td><td>3</td><td>0</td><td>412</td><td>0</td><td>28</td><td>106</td><td>102</td><td>133</td><td>90</td><td>16</td><td>0</td><td>0</td><td>476</td><td>0</td><td>5</td><td>70</td><td>93</td><td>112</td><td>63</td><td>17</td><td>0</td><td>0</td><td>349</td><td>0</td><td>7</td><td>106</td><td>212</td><td>270</td><td>118</td><td>12</td><td>3</td><td>0</td><td>731</td><td>0</td><td>0</td><td>17</td><td>39</td><td>46</td><td>15</td><td>0</td><td>0</td><td>0</td><td>127</td><td>0</td><td>0</td><td>3</td><td>45</td><td>93</td><td>32</td><td>5</td><td>0</td><td>0</td><td>184</td><td>16</td><td>19</td><td>37</td><td>41</td><td>30</td><td>23</td><td>16</td><td>13</td><td>0</td><td>191</td><td>459</td><td>362</td><td>769</td><td>927</td><td>1146</td><td>809</td><td>415</td><td>171</td><td>39</td><td>5097</td><td>322</td><td>30</td><td>67</td><td>41</td><td>68</td><td>72</td><td>63</td><td>15</td><td>0</td><td>688</td><td>231</td><td>18</td><td>10</td><td>18</td><td>21</td><td>29</td><td>25</td><td>8</td><td>3</td><td>360</td><td>138</td><td>45</td><td>24</td><td>21</td><td>20</td><td>34</td><td>43</td><td>19</td><td>3</td><td>353</td><td>44</td><td>65</td><td>23</td><td>24</td><td>17</td><td>55</td><td>81</td><td>39</td><td>16</td><td>368</td><td>37</td><td>49</td><td>32</td><td>25</td><td>27</td><td>56</td><td>91</td><td>66</td><td>24</td><td>401</td><td>41</td><td>73</td><td>51</td><td>44</td><td>63</td><td>64</td><td>54</td><td>34</td><td>7</td><td>441</td></tr>\n",
       "<tr><td>101021610</td><td>3</td><td>0</td><td>12</td><td>8</td><td>4</td><td>0</td><td>8</td><td>0</td><td>0</td><td>50</td><td>0</td><td>6</td><td>15</td><td>14</td><td>8</td><td>9</td><td>8</td><td>8</td><td>0</td><td>58</td><td>4</td><td>10</td><td>16</td><td>16</td><td>12</td><td>6</td><td>8</td><td>0</td><td>0</td><td>74</td><td>0</td><td>12</td><td>40</td><td>25</td><td>14</td><td>3</td><td>5</td><td>0</td><td>0</td><td>102</td><td>3</td><td>8</td><td>45</td><td>39</td><td>13</td><td>8</td><td>0</td><td>0</td><td>0</td><td>118</td><td>0</td><td>21</td><td>92</td><td>62</td><td>27</td><td>9</td><td>8</td><td>0</td><td>0</td><td>217</td><td>0</td><td>19</td><td>84</td><td>64</td><td>32</td><td>16</td><td>8</td><td>0</td><td>0</td><td>214</td><td>0</td><td>12</td><td>139</td><td>88</td><td>51</td><td>10</td><td>0</td><td>0</td><td>0</td><td>291</td><td>0</td><td>6</td><td>103</td><td>83</td><td>41</td><td>15</td><td>0</td><td>0</td><td>0</td><td>250</td><td>0</td><td>0</td><td>114</td><td>148</td><td>83</td><td>20</td><td>0</td><td>0</td><td>0</td><td>367</td><td>0</td><td>0</td><td>12</td><td>25</td><td>13</td><td>4</td><td>0</td><td>0</td><td>0</td><td>49</td><td>0</td><td>0</td><td>3</td><td>24</td><td>22</td><td>4</td><td>4</td><td>0</td><td>0</td><td>64</td><td>3</td><td>4</td><td>20</td><td>33</td><td>9</td><td>11</td><td>7</td><td>5</td><td>0</td><td>92</td><td>121</td><td>113</td><td>726</td><td>666</td><td>348</td><td>151</td><td>81</td><td>24</td><td>3</td><td>2222</td><td>95</td><td>7</td><td>36</td><td>32</td><td>20</td><td>28</td><td>32</td><td>9</td><td>0</td><td>266</td><td>64</td><td>5</td><td>10</td><td>0</td><td>0</td><td>4</td><td>7</td><td>0</td><td>0</td><td>87</td><td>38</td><td>12</td><td>13</td><td>12</td><td>3</td><td>4</td><td>10</td><td>6</td><td>0</td><td>103</td><td>7</td><td>8</td><td>16</td><td>8</td><td>4</td><td>0</td><td>14</td><td>4</td><td>3</td><td>76</td><td>5</td><td>10</td><td>17</td><td>16</td><td>12</td><td>4</td><td>16</td><td>6</td><td>0</td><td>92</td><td>16</td><td>20</td><td>26</td><td>19</td><td>14</td><td>11</td><td>14</td><td>5</td><td>0</td><td>117</td></tr>\n",
       "<tr><td>101021611</td><td>22</td><td>24</td><td>18</td><td>12</td><td>36</td><td>40</td><td>68</td><td>50</td><td>4</td><td>278</td><td>27</td><td>28</td><td>26</td><td>19</td><td>27</td><td>68</td><td>81</td><td>53</td><td>12</td><td>344</td><td>24</td><td>39</td><td>51</td><td>40</td><td>51</td><td>81</td><td>113</td><td>44</td><td>6</td><td>437</td><td>17</td><td>38</td><td>54</td><td>45</td><td>54</td><td>69</td><td>59</td><td>33</td><td>4</td><td>365</td><td>12</td><td>46</td><td>74</td><td>73</td><td>97</td><td>81</td><td>64</td><td>14</td><td>3</td><td>457</td><td>14</td><td>58</td><td>96</td><td>97</td><td>93</td><td>118</td><td>60</td><td>16</td><td>0</td><td>560</td><td>0</td><td>38</td><td>95</td><td>86</td><td>114</td><td>105</td><td>45</td><td>3</td><td>0</td><td>484</td><td>0</td><td>13</td><td>113</td><td>107</td><td>127</td><td>105</td><td>30</td><td>3</td><td>0</td><td>504</td><td>0</td><td>3</td><td>79</td><td>97</td><td>118</td><td>88</td><td>22</td><td>4</td><td>0</td><td>419</td><td>0</td><td>0</td><td>101</td><td>266</td><td>317</td><td>166</td><td>26</td><td>3</td><td>0</td><td>884</td><td>0</td><td>0</td><td>13</td><td>42</td><td>65</td><td>31</td><td>11</td><td>0</td><td>0</td><td>157</td><td>0</td><td>0</td><td>10</td><td>56</td><td>112</td><td>61</td><td>15</td><td>3</td><td>0</td><td>252</td><td>34</td><td>32</td><td>51</td><td>57</td><td>71</td><td>76</td><td>49</td><td>20</td><td>5</td><td>397</td><td>496</td><td>393</td><td>829</td><td>1073</td><td>1381</td><td>1232</td><td>812</td><td>309</td><td>49</td><td>6579</td><td>366</td><td>46</td><td>47</td><td>52</td><td>92</td><td>150</td><td>121</td><td>41</td><td>3</td><td>910</td><td>226</td><td>23</td><td>17</td><td>27</td><td>21</td><td>47</td><td>59</td><td>10</td><td>0</td><td>437</td><td>129</td><td>38</td><td>32</td><td>34</td><td>15</td><td>57</td><td>96</td><td>47</td><td>9</td><td>462</td><td>41</td><td>35</td><td>25</td><td>21</td><td>53</td><td>61</td><td>132</td><td>99</td><td>15</td><td>490</td><td>41</td><td>46</td><td>41</td><td>32</td><td>45</td><td>105</td><td>164</td><td>91</td><td>22</td><td>598</td><td>60</td><td>65</td><td>65</td><td>42</td><td>66</td><td>119</td><td>172</td><td>77</td><td>6</td><td>672</td></tr>\n",
       "<tr><td>101031013</td><td>3</td><td>6</td><td>3</td><td>5</td><td>8</td><td>16</td><td>36</td><td>18</td><td>4</td><td>103</td><td>0</td><td>0</td><td>11</td><td>5</td><td>10</td><td>15</td><td>39</td><td>17</td><td>22</td><td>118</td><td>3</td><td>3</td><td>9</td><td>19</td><td>15</td><td>23</td><td>19</td><td>9</td><td>4</td><td>108</td><td>0</td><td>7</td><td>9</td><td>18</td><td>18</td><td>21</td><td>14</td><td>4</td><td>12</td><td>107</td><td>0</td><td>10</td><td>18</td><td>17</td><td>15</td><td>15</td><td>8</td><td>6</td><td>0</td><td>89</td><td>0</td><td>5</td><td>13</td><td>19</td><td>11</td><td>17</td><td>8</td><td>0</td><td>0</td><td>69</td><td>0</td><td>6</td><td>10</td><td>5</td><td>4</td><td>7</td><td>10</td><td>0</td><td>0</td><td>42</td><td>0</td><td>0</td><td>0</td><td>6</td><td>10</td><td>7</td><td>3</td><td>5</td><td>0</td><td>36</td><td>0</td><td>6</td><td>8</td><td>3</td><td>12</td><td>8</td><td>0</td><td>0</td><td>0</td><td>25</td><td>0</td><td>0</td><td>0</td><td>8</td><td>3</td><td>12</td><td>8</td><td>0</td><td>0</td><td>28</td><td>0</td><td>0</td><td>0</td><td>0</td><td>4</td><td>0</td><td>0</td><td>0</td><td>0</td><td>5</td><td>0</td><td>0</td><td>0</td><td>4</td><td>3</td><td>0</td><td>0</td><td>0</td><td>0</td><td>13</td><td>8</td><td>9</td><td>10</td><td>8</td><td>18</td><td>21</td><td>18</td><td>19</td><td>7</td><td>114</td><td>59</td><td>59</td><td>109</td><td>136</td><td>143</td><td>190</td><td>186</td><td>90</td><td>50</td><td>1029</td><td>48</td><td>6</td><td>0</td><td>6</td><td>16</td><td>33</td><td>28</td><td>11</td><td>5</td><td>142</td><td>17</td><td>0</td><td>7</td><td>3</td><td>3</td><td>3</td><td>9</td><td>11</td><td>0</td><td>54</td><td>10</td><td>3</td><td>0</td><td>5</td><td>10</td><td>18</td><td>15</td><td>11</td><td>6</td><td>92</td><td>5</td><td>8</td><td>7</td><td>10</td><td>19</td><td>26</td><td>74</td><td>39</td><td>15</td><td>195</td><td>3</td><td>0</td><td>15</td><td>5</td><td>16</td><td>31</td><td>74</td><td>29</td><td>18</td><td>191</td><td>5</td><td>7</td><td>16</td><td>22</td><td>25</td><td>35</td><td>39</td><td>25</td><td>4</td><td>170</td></tr>\n",
       "<tr><td>101031014</td><td>11</td><td>10</td><td>16</td><td>12</td><td>25</td><td>27</td><td>69</td><td>62</td><td>11</td><td>239</td><td>7</td><td>14</td><td>23</td><td>14</td><td>33</td><td>48</td><td>69</td><td>79</td><td>41</td><td>322</td><td>13</td><td>12</td><td>27</td><td>35</td><td>32</td><td>41</td><td>45</td><td>35</td><td>26</td><td>266</td><td>10</td><td>23</td><td>46</td><td>50</td><td>24</td><td>43</td><td>39</td><td>26</td><td>10</td><td>273</td><td>0</td><td>28</td><td>52</td><td>43</td><td>43</td><td>55</td><td>20</td><td>17</td><td>3</td><td>259</td><td>5</td><td>18</td><td>47</td><td>45</td><td>41</td><td>46</td><td>14</td><td>6</td><td>5</td><td>232</td><td>0</td><td>5</td><td>28</td><td>28</td><td>48</td><td>43</td><td>8</td><td>0</td><td>0</td><td>166</td><td>0</td><td>4</td><td>32</td><td>24</td><td>25</td><td>22</td><td>3</td><td>5</td><td>8</td><td>123</td><td>0</td><td>0</td><td>15</td><td>21</td><td>16</td><td>13</td><td>9</td><td>0</td><td>3</td><td>89</td><td>0</td><td>0</td><td>24</td><td>34</td><td>35</td><td>37</td><td>3</td><td>3</td><td>0</td><td>135</td><td>0</td><td>0</td><td>3</td><td>3</td><td>9</td><td>0</td><td>0</td><td>0</td><td>0</td><td>22</td><td>0</td><td>0</td><td>0</td><td>4</td><td>10</td><td>3</td><td>0</td><td>0</td><td>0</td><td>24</td><td>7</td><td>7</td><td>15</td><td>27</td><td>31</td><td>26</td><td>37</td><td>25</td><td>24</td><td>209</td><td>151</td><td>144</td><td>385</td><td>391</td><td>406</td><td>490</td><td>395</td><td>301</td><td>140</td><td>2803</td><td>93</td><td>17</td><td>39</td><td>41</td><td>27</td><td>63</td><td>43</td><td>24</td><td>3</td><td>343</td><td>86</td><td>0</td><td>5</td><td>7</td><td>13</td><td>16</td><td>21</td><td>7</td><td>5</td><td>161</td><td>25</td><td>14</td><td>19</td><td>16</td><td>14</td><td>40</td><td>52</td><td>36</td><td>7</td><td>238</td><td>18</td><td>22</td><td>31</td><td>17</td><td>45</td><td>57</td><td>119</td><td>112</td><td>37</td><td>453</td><td>14</td><td>16</td><td>39</td><td>23</td><td>46</td><td>75</td><td>118</td><td>112</td><td>60</td><td>513</td><td>23</td><td>31</td><td>37</td><td>49</td><td>57</td><td>64</td><td>82</td><td>59</td><td>34</td><td>441</td></tr>\n",
       "<tr><td>101031015</td><td>7</td><td>6</td><td>3</td><td>11</td><td>9</td><td>21</td><td>37</td><td>23</td><td>0</td><td>117</td><td>3</td><td>5</td><td>8</td><td>7</td><td>16</td><td>25</td><td>36</td><td>30</td><td>10</td><td>139</td><td>4</td><td>9</td><td>16</td><td>9</td><td>18</td><td>27</td><td>15</td><td>11</td><td>3</td><td>109</td><td>5</td><td>12</td><td>14</td><td>12</td><td>23</td><td>20</td><td>12</td><td>5</td><td>0</td><td>103</td><td>3</td><td>8</td><td>8</td><td>17</td><td>28</td><td>12</td><td>13</td><td>6</td><td>0</td><td>107</td><td>0</td><td>6</td><td>18</td><td>14</td><td>18</td><td>42</td><td>10</td><td>3</td><td>0</td><td>118</td><td>0</td><td>3</td><td>16</td><td>14</td><td>21</td><td>26</td><td>9</td><td>4</td><td>0</td><td>88</td><td>0</td><td>0</td><td>8</td><td>10</td><td>29</td><td>8</td><td>6</td><td>0</td><td>0</td><td>73</td><td>0</td><td>0</td><td>9</td><td>13</td><td>23</td><td>23</td><td>0</td><td>0</td><td>0</td><td>64</td><td>0</td><td>0</td><td>10</td><td>8</td><td>24</td><td>11</td><td>0</td><td>0</td><td>0</td><td>57</td><td>0</td><td>0</td><td>0</td><td>0</td><td>12</td><td>3</td><td>0</td><td>0</td><td>0</td><td>18</td><td>0</td><td>0</td><td>0</td><td>6</td><td>11</td><td>3</td><td>0</td><td>0</td><td>0</td><td>22</td><td>8</td><td>8</td><td>17</td><td>14</td><td>24</td><td>23</td><td>24</td><td>21</td><td>13</td><td>150</td><td>88</td><td>65</td><td>144</td><td>156</td><td>288</td><td>291</td><td>215</td><td>125</td><td>30</td><td>1403</td><td>60</td><td>4</td><td>8</td><td>12</td><td>22</td><td>48</td><td>27</td><td>15</td><td>4</td><td>198</td><td>47</td><td>7</td><td>3</td><td>0</td><td>3</td><td>11</td><td>7</td><td>7</td><td>0</td><td>88</td><td>16</td><td>13</td><td>8</td><td>11</td><td>10</td><td>36</td><td>34</td><td>13</td><td>3</td><td>138</td><td>6</td><td>13</td><td>10</td><td>12</td><td>19</td><td>45</td><td>76</td><td>51</td><td>8</td><td>234</td><td>10</td><td>7</td><td>7</td><td>10</td><td>21</td><td>41</td><td>79</td><td>47</td><td>19</td><td>245</td><td>15</td><td>15</td><td>23</td><td>12</td><td>39</td><td>43</td><td>29</td><td>29</td><td>3</td><td>207</td></tr>\n",
       "</table>\n"
      ],
      "text/plain": [
       "+-------------+-------------------+-------------------+-------------------+-------------------+-------------------+-------------------+-------------------+-------------------+--------------+-------------+-------------------+-------------------+-------------------+-------------------+-------------------+-------------------+-------------------+-------------------+--------------+-------------+-------------------+-------------------+-------------------+-------------------+-------------------+-------------------+-------------------+-------------------+--------------+-------------+-------------------+-------------------+-------------------+-------------------+-------------------+-------------------+-------------------+-------------------+--------------+-------------+-------------------+-------------------+-------------------+-------------------+-------------------+-------------------+-------------------+-------------------+--------------+-------------+---------------------+---------------------+---------------------+---------------------+---------------------+---------------------+---------------------+---------------------+----------------+---------------+---------------------+---------------------+---------------------+---------------------+---------------------+---------------------+---------------------+---------------------+----------------+---------------+---------------------+---------------------+---------------------+---------------------+---------------------+---------------------+---------------------+---------------------+----------------+---------------+---------------------+---------------------+---------------------+---------------------+---------------------+---------------------+---------------------+---------------------+----------------+---------------+---------------------+---------------------+---------------------+---------------------+---------------------+---------------------+---------------------+---------------------+----------------+---------------+---------------------+---------------------+---------------------+---------------------+---------------------+---------------------+---------------------+---------------------+----------------+---------------+---------------------+---------------------+---------------------+---------------------+---------------------+---------------------+---------------------+---------------------+----------------+---------------+-----------------+--------------------+--------------------+--------------------+--------------------+--------------------+--------------------+--------------------+---------------------+--------------+---------------+---------------+---------------+---------------+---------------+---------------+---------------+---------------+----------+---------+--------------------------+--------------------------+--------------------------+--------------------------+--------------------------+--------------------------+--------------------------+--------------------------+-----------------------------+--------------------+-----------------+-----------------+-----------------+-----------------+-----------------+-----------------+-----------------+-----------------+------------+-----------+-------------------+-------------------+-------------------+-------------------+-------------------+-------------------+-------------------+-------------------+--------------+-------------+-------------------+-------------------+-------------------+-------------------+-------------------+-------------------+-------------------+-------------------+--------------+-------------+-------------------+-------------------+-------------------+-------------------+-------------------+-------------------+-------------------+-------------------+--------------+-------------+-------------------+-------------------+-------------------+-------------------+-------------------+-------------------+-------------------+-------------------+--------------+-------------+\n",
       "|SA2_CODE_2021|F_300_399_15_19_yrs|F_300_399_20_24_yrs|F_300_399_25_34_yrs|F_300_399_35_44_yrs|F_300_399_45_54_yrs|F_300_399_55_64_yrs|F_300_399_65_74_yrs|F_300_399_75_84_yrs|F_300_399_85ov|F_300_399_Tot|F_400_499_15_19_yrs|F_400_499_20_24_yrs|F_400_499_25_34_yrs|F_400_499_35_44_yrs|F_400_499_45_54_yrs|F_400_499_55_64_yrs|F_400_499_65_74_yrs|F_400_499_75_84_yrs|F_400_499_85ov|F_400_499_Tot|F_500_649_15_19_yrs|F_500_649_20_24_yrs|F_500_649_25_34_yrs|F_500_649_35_44_yrs|F_500_649_45_54_yrs|F_500_649_55_64_yrs|F_500_649_65_74_yrs|F_500_649_75_84_yrs|F_500_649_85ov|F_500_649_Tot|F_650_799_15_19_yrs|F_650_799_20_24_yrs|F_650_799_25_34_yrs|F_650_799_35_44_yrs|F_650_799_45_54_yrs|F_650_799_55_64_yrs|F_650_799_65_74_yrs|F_650_799_75_84_yrs|F_650_799_85ov|F_650_799_Tot|F_800_999_15_19_yrs|F_800_999_20_24_yrs|F_800_999_25_34_yrs|F_800_999_35_44_yrs|F_800_999_45_54_yrs|F_800_999_55_64_yrs|F_800_999_65_74_yrs|F_800_999_75_84_yrs|F_800_999_85ov|F_800_999_Tot|F_1000_1249_15_19_yrs|F_1000_1249_20_24_yrs|F_1000_1249_25_34_yrs|F_1000_1249_35_44_yrs|F_1000_1249_45_54_yrs|F_1000_1249_55_64_yrs|F_1000_1249_65_74_yrs|F_1000_1249_75_84_yrs|F_1000_1249_85ov|F_1000_1249_Tot|F_1250_1499_15_19_yrs|F_1250_1499_20_24_yrs|F_1250_1499_25_34_yrs|F_1250_1499_35_44_yrs|F_1250_1499_45_54_yrs|F_1250_1499_55_64_yrs|F_1250_1499_65_74_yrs|F_1250_1499_75_84_yrs|F_1250_1499_85ov|F_1250_1499_Tot|F_1500_1749_15_19_yrs|F_1500_1749_20_24_yrs|F_1500_1749_25_34_yrs|F_1500_1749_35_44_yrs|F_1500_1749_45_54_yrs|F_1500_1749_55_64_yrs|F_1500_1749_65_74_yrs|F_1500_1749_75_84_yrs|F_1500_1749_85ov|F_1500_1749_Tot|F_1750_1999_15_19_yrs|F_1750_1999_20_24_yrs|F_1750_1999_25_34_yrs|F_1750_1999_35_44_yrs|F_1750_1999_45_54_yrs|F_1750_1999_55_64_yrs|F_1750_1999_65_74_yrs|F_1750_1999_75_84_yrs|F_1750_1999_85ov|F_1750_1999_Tot|F_2000_2999_15_19_yrs|F_2000_2999_20_24_yrs|F_2000_2999_25_34_yrs|F_2000_2999_35_44_yrs|F_2000_2999_45_54_yrs|F_2000_2999_55_64_yrs|F_2000_2999_65_74_yrs|F_2000_2999_75_84_yrs|F_2000_2999_85ov|F_2000_2999_Tot|F_3000_3499_15_19_yrs|F_3000_3499_20_24_yrs|F_3000_3499_25_34_yrs|F_3000_3499_35_44_yrs|F_3000_3499_45_54_yrs|F_3000_3499_55_64_yrs|F_3000_3499_65_74_yrs|F_3000_3499_75_84_yrs|F_3000_3499_85ov|F_3000_3499_Tot|F_3500_more_15_19_yrs|F_3500_more_20_24_yrs|F_3500_more_25_34_yrs|F_3500_more_35_44_yrs|F_3500_more_45_54_yrs|F_3500_more_55_64_yrs|F_3500_more_65_74_yrs|F_3500_more_75_84_yrs|F_3500_more_85ov|F_3500_more_Tot|F_PI_NS_15_19_yrs|F_PI_NS_ns_20_24_yrs|F_PI_NS_ns_25_34_yrs|F_PI_NS_ns_35_44_yrs|F_PI_NS_ns_45_54_yrs|F_PI_NS_ns_55_64_yrs|F_PI_NS_ns_65_74_yrs|F_PI_NS_ns_75_84_yrs|F_PI_NS_ns_85_yrs_ovr|F_PI_NS_ns_Tot|F_Tot_15_19_yrs|F_Tot_20_24_yrs|F_Tot_25_34_yrs|F_Tot_35_44_yrs|F_Tot_45_54_yrs|F_Tot_55_64_yrs|F_Tot_65_74_yrs|F_Tot_75_84_yrs|F_Tot_85ov|F_Tot_Tot|P_Neg_Nil_income_15_19_yrs|P_Neg_Nil_income_20_24_yrs|P_Neg_Nil_income_25_34_yrs|P_Neg_Nil_income_35_44_yrs|P_Neg_Nil_income_45_54_yrs|P_Neg_Nil_income_55_64_yrs|P_Neg_Nil_income_65_74_yrs|P_Neg_Nil_income_75_84_yrs|P_Negtve_Nil_incme_85_yrs_ovr|P_Neg_Nil_income_Tot|P_1_149_15_19_yrs|P_1_149_20_24_yrs|P_1_149_25_34_yrs|P_1_149_35_44_yrs|P_1_149_45_54_yrs|P_1_149_55_64_yrs|P_1_149_65_74_yrs|P_1_149_75_84_yrs|P_1_149_85ov|P_1_149_Tot|P_150_299_15_19_yrs|P_150_299_20_24_yrs|P_150_299_25_34_yrs|P_150_299_35_44_yrs|P_150_299_45_54_yrs|P_150_299_55_64_yrs|P_150_299_65_74_yrs|P_150_299_75_84_yrs|P_150_299_85ov|P_150_299_Tot|P_300_399_15_19_yrs|P_300_399_20_24_yrs|P_300_399_25_34_yrs|P_300_399_35_44_yrs|P_300_399_45_54_yrs|P_300_399_55_64_yrs|P_300_399_65_74_yrs|P_300_399_75_84_yrs|P_300_399_85ov|P_300_399_Tot|P_400_499_15_19_yrs|P_400_499_20_24_yrs|P_400_499_25_34_yrs|P_400_499_35_44_yrs|P_400_499_45_54_yrs|P_400_499_55_64_yrs|P_400_499_65_74_yrs|P_400_499_75_84_yrs|P_400_499_85ov|P_400_499_Tot|P_500_649_15_19_yrs|P_500_649_20_24_yrs|P_500_649_25_34_yrs|P_500_649_35_44_yrs|P_500_649_45_54_yrs|P_500_649_55_64_yrs|P_500_649_65_74_yrs|P_500_649_75_84_yrs|P_500_649_85ov|P_500_649_Tot|\n",
       "+-------------+-------------------+-------------------+-------------------+-------------------+-------------------+-------------------+-------------------+-------------------+--------------+-------------+-------------------+-------------------+-------------------+-------------------+-------------------+-------------------+-------------------+-------------------+--------------+-------------+-------------------+-------------------+-------------------+-------------------+-------------------+-------------------+-------------------+-------------------+--------------+-------------+-------------------+-------------------+-------------------+-------------------+-------------------+-------------------+-------------------+-------------------+--------------+-------------+-------------------+-------------------+-------------------+-------------------+-------------------+-------------------+-------------------+-------------------+--------------+-------------+---------------------+---------------------+---------------------+---------------------+---------------------+---------------------+---------------------+---------------------+----------------+---------------+---------------------+---------------------+---------------------+---------------------+---------------------+---------------------+---------------------+---------------------+----------------+---------------+---------------------+---------------------+---------------------+---------------------+---------------------+---------------------+---------------------+---------------------+----------------+---------------+---------------------+---------------------+---------------------+---------------------+---------------------+---------------------+---------------------+---------------------+----------------+---------------+---------------------+---------------------+---------------------+---------------------+---------------------+---------------------+---------------------+---------------------+----------------+---------------+---------------------+---------------------+---------------------+---------------------+---------------------+---------------------+---------------------+---------------------+----------------+---------------+---------------------+---------------------+---------------------+---------------------+---------------------+---------------------+---------------------+---------------------+----------------+---------------+-----------------+--------------------+--------------------+--------------------+--------------------+--------------------+--------------------+--------------------+---------------------+--------------+---------------+---------------+---------------+---------------+---------------+---------------+---------------+---------------+----------+---------+--------------------------+--------------------------+--------------------------+--------------------------+--------------------------+--------------------------+--------------------------+--------------------------+-----------------------------+--------------------+-----------------+-----------------+-----------------+-----------------+-----------------+-----------------+-----------------+-----------------+------------+-----------+-------------------+-------------------+-------------------+-------------------+-------------------+-------------------+-------------------+-------------------+--------------+-------------+-------------------+-------------------+-------------------+-------------------+-------------------+-------------------+-------------------+-------------------+--------------+-------------+-------------------+-------------------+-------------------+-------------------+-------------------+-------------------+-------------------+-------------------+--------------+-------------+-------------------+-------------------+-------------------+-------------------+-------------------+-------------------+-------------------+-------------------+--------------+-------------+\n",
       "|    101021007|                  3|                  7|                  3|                 19|                 15|                 38|                 44|                 30|             3|          160|                  0|                  3|                  4|                 15|                 26|                 31|                 45|                 35|            15|          174|                  3|                  4|                 12|                 16|                 24|                 29|                 35|                 24|             7|          160|                  0|                 13|                 16|                 14|                 23|                 26|                 24|                 16|             5|          141|                  0|                  5|                 15|                 27|                 26|                 34|                 25|                 10|             0|          146|                    0|                    4|                   21|                   17|                   26|                   33|                   21|                    5|               0|            135|                    0|                    4|                   19|                   15|                   22|                   29|                   11|                    0|               4|            101|                    0|                    0|                   15|                   17|                   21|                   19|                   10|                    0|               0|             83|                    0|                    0|                    5|                   13|                   15|                   19|                    3|                    0|               0|             52|                    0|                    0|                   19|                   29|                   38|                   19|                    7|                    0|               3|            114|                    0|                    0|                    5|                    3|                    3|                    3|                    4|                    0|               0|             12|                    0|                    0|                    0|                    4|                   13|                    9|                    0|                    3|               0|             32|                9|                   0|                  21|                  17|                  24|                  30|                  32|                  25|                    6|           170|             85|             52|            185|            230|            316|            388|            315|            186|        49|     1807|                        49|                         3|                        17|                        18|                        25|                        56|                        41|                        18|                            0|                 225|               37|                4|                3|                8|               10|               23|               29|                8|           4|        140|                 20|                 14|                 14|                 16|                 15|                 37|                 33|                 31|             7|          196|                  4|                 12|                 14|                 26|                 33|                 59|                 84|                 66|            13|          307|                  7|                  0|                 12|                 25|                 38|                 66|                 88|                 51|            21|          312|                 15|                  7|                 18|                 21|                 49|                 49|                 61|                 41|            13|          274|\n",
       "|    101021008|                  9|                 14|                 16|                 23|                 18|                 39|                 69|                 36|            11|          234|                 15|                 15|                 42|                 29|                 22|                 31|                 56|                 73|            28|          306|                 15|                 17|                 55|                 37|                 29|                 42|                 39|                 32|             6|          261|                  6|                 27|                 44|                 45|                 31|                 34|                 24|                 18|             4|          238|                 12|                 28|                 66|                 49|                 46|                 51|                 20|                  8|             0|          284|                    3|                   26|                   69|                   54|                   77|                   55|                   28|                    8|               0|            318|                    0|                   31|                   68|                   69|                   55|                   41|                   10|                    3|               0|            289|                    0|                   13|                   74|                   53|                   66|                   48|                    8|                    0|               0|            271|                    0|                    5|                   33|                   45|                   51|                   32|                    0|                    0|               0|            172|                    0|                    3|                   54|                   78|                   82|                   41|                    0|                    0|               0|            259|                    0|                    0|                    9|                   16|                   13|                   11|                    0|                    0|               0|             45|                    0|                    0|                    5|                    5|                   10|                    9|                    0|                    0|               0|             29|               23|                  18|                  55|                  40|                  30|                  33|                  26|                  20|                    3|           245|            249|            237|            632|            577|            591|            556|            377|            228|        60|     3509|                       178|                        25|                        42|                        43|                        47|                        72|                        58|                        26|                            6|                 495|               86|                4|                6|                8|               12|               20|               21|                5|           0|        165|                 59|                 21|                 35|                 24|                 22|                 43|                 54|                 22|             7|          290|                 23|                 29|                 33|                 27|                 47|                 56|                124|                 69|            21|          435|                 25|                 33|                 62|                 40|                 45|                 57|                100|                 95|            35|          484|                 47|                 36|                 69|                 46|                 38|                 56|                 68|                 54|             6|          416|\n",
       "|    101021009|                  8|                 32|                 43|                 19|                 20|                 28|                 65|                 65|            50|          336|                  6|                 15|                 66|                 23|                 27|                 55|                 94|                 91|            54|          437|                  9|                 41|                 78|                 41|                 27|                 27|                 49|                 41|            23|          336|                  5|                 48|                 99|                 57|                 48|                 49|                 40|                 17|            18|          371|                  4|                 50|                134|                 69|                 58|                 57|                 36|                 11|             3|          425|                    4|                   48|                  165|                   92|                   57|                   65|                   30|                    9|               3|            468|                    0|                   41|                  131|                   82|                   58|                   47|                   22|                    4|               0|            383|                    0|                   13|                  128|                  101|                   65|                   54|                   11|                    3|               0|            368|                    0|                    3|                   75|                   75|                   52|                   35|                   13|                    0|               0|            254|                    0|                    3|                   89|                  115|                  113|                   62|                    9|                    3|               0|            393|                    0|                    0|                    8|                    6|                   17|                    8|                    0|                    0|               0|             35|                    0|                    0|                    6|                   17|                   27|                   16|                    5|                    3|               0|             69|                7|                  14|                  68|                  38|                  23|                  31|                  41|                  42|                   52|           330|            180|            335|           1185|            797|            640|            608|            477|            324|       227|     4771|                       160|                        24|                       108|                        60|                        46|                        63|                        49|                        19|                            9|                 541|               82|                3|               17|               15|               10|               18|               25|               14|           9|        190|                 56|                 30|                 27|                 21|                 26|                 36|                 40|                 35|            11|          280|                 22|                 43|                 68|                 46|                 39|                 58|                114|                120|            77|          588|                 24|                 44|                105|                 43|                 48|                 98|                150|                129|            76|          711|                 18|                 67|                132|                 69|                 61|                 58|                106|                 66|            31|          600|\n",
       "|    101021010|                  0|                 13|                 17|                 11|                  9|                  9|                 28|                 17|             0|          100|                  7|                 11|                 18|                 10|                 17|                 13|                 33|                 26|            14|          150|                  0|                 14|                 16|                 20|                 10|                 19|                 12|                  9|             8|          106|                  0|                 18|                 38|                 23|                 11|                 17|                 15|                 15|             0|          134|                  5|                 37|                 57|                 26|                 27|                 24|                 15|                  9|             0|          203|                    0|                   33|                   71|                   52|                   23|                   25|                   17|                    4|               0|            234|                    0|                   21|                   65|                   38|                   26|                   25|                   11|                    0|               0|            183|                    0|                    7|                   64|                   41|                   36|                   28|                    3|                    0|               0|            179|                    0|                    3|                   41|                   33|                   40|                   26|                    5|                    0|               0|            141|                    0|                    0|                   35|                   44|                   55|                   37|                    6|                    5|               0|            178|                    0|                    0|                    0|                    7|                    3|                    4|                    4|                    0|               0|             23|                    0|                    0|                    4|                    6|                   15|                   11|                    0|                    0|               0|             35|                3|                   4|                  36|                  18|                  13|                  21|                   4|                   3|                    3|           111|             83|            187|            526|            364|            318|            277|            181|            102|        36|     2064|                        68|                        16|                        53|                        31|                        33|                        29|                        17|                         6|                            0|                 252|               42|               13|                9|                5|               11|               12|               10|                7|           0|        100|                 17|                 15|                 21|                  3|                  5|                 17|                 19|                  8|             3|          120|                  9|                 21|                 33|                 19|                 16|                 17|                 49|                 25|             5|          200|                 10|                 14|                 31|                 24|                 25|                 37|                 51|                 39|            18|          251|                 12|                 19|                 32|                 27|                 17|                 31|                 36|                 22|            12|          199|\n",
       "|    101021012|                 34|                 29|                 10|                 17|                 15|                 39|                 48|                 24|             3|          218|                 14|                 23|                 20|                 24|                 18|                 31|                 60|                 42|            15|          248|                 15|                 41|                 40|                 34|                 53|                 49|                 35|                 16|             5|          290|                 12|                 28|                 42|                 36|                 45|                 39|                 49|                 18|             0|          282|                 16|                 41|                 59|                 76|                 61|                 46|                 31|                  9|             0|          344|                   11|                   56|                   89|                   86|                   90|                   92|                   23|                    7|               0|            448|                    6|                   43|                  101|                   81|                   95|                   72|                   18|                    3|               0|            412|                    0|                   28|                  106|                  102|                  133|                   90|                   16|                    0|               0|            476|                    0|                    5|                   70|                   93|                  112|                   63|                   17|                    0|               0|            349|                    0|                    7|                  106|                  212|                  270|                  118|                   12|                    3|               0|            731|                    0|                    0|                   17|                   39|                   46|                   15|                    0|                    0|               0|            127|                    0|                    0|                    3|                   45|                   93|                   32|                    5|                    0|               0|            184|               16|                  19|                  37|                  41|                  30|                  23|                  16|                  13|                    0|           191|            459|            362|            769|            927|           1146|            809|            415|            171|        39|     5097|                       322|                        30|                        67|                        41|                        68|                        72|                        63|                        15|                            0|                 688|              231|               18|               10|               18|               21|               29|               25|                8|           3|        360|                138|                 45|                 24|                 21|                 20|                 34|                 43|                 19|             3|          353|                 44|                 65|                 23|                 24|                 17|                 55|                 81|                 39|            16|          368|                 37|                 49|                 32|                 25|                 27|                 56|                 91|                 66|            24|          401|                 41|                 73|                 51|                 44|                 63|                 64|                 54|                 34|             7|          441|\n",
       "|    101021610|                  3|                  0|                 12|                  8|                  4|                  0|                  8|                  0|             0|           50|                  0|                  6|                 15|                 14|                  8|                  9|                  8|                  8|             0|           58|                  4|                 10|                 16|                 16|                 12|                  6|                  8|                  0|             0|           74|                  0|                 12|                 40|                 25|                 14|                  3|                  5|                  0|             0|          102|                  3|                  8|                 45|                 39|                 13|                  8|                  0|                  0|             0|          118|                    0|                   21|                   92|                   62|                   27|                    9|                    8|                    0|               0|            217|                    0|                   19|                   84|                   64|                   32|                   16|                    8|                    0|               0|            214|                    0|                   12|                  139|                   88|                   51|                   10|                    0|                    0|               0|            291|                    0|                    6|                  103|                   83|                   41|                   15|                    0|                    0|               0|            250|                    0|                    0|                  114|                  148|                   83|                   20|                    0|                    0|               0|            367|                    0|                    0|                   12|                   25|                   13|                    4|                    0|                    0|               0|             49|                    0|                    0|                    3|                   24|                   22|                    4|                    4|                    0|               0|             64|                3|                   4|                  20|                  33|                   9|                  11|                   7|                   5|                    0|            92|            121|            113|            726|            666|            348|            151|             81|             24|         3|     2222|                        95|                         7|                        36|                        32|                        20|                        28|                        32|                         9|                            0|                 266|               64|                5|               10|                0|                0|                4|                7|                0|           0|         87|                 38|                 12|                 13|                 12|                  3|                  4|                 10|                  6|             0|          103|                  7|                  8|                 16|                  8|                  4|                  0|                 14|                  4|             3|           76|                  5|                 10|                 17|                 16|                 12|                  4|                 16|                  6|             0|           92|                 16|                 20|                 26|                 19|                 14|                 11|                 14|                  5|             0|          117|\n",
       "|    101021611|                 22|                 24|                 18|                 12|                 36|                 40|                 68|                 50|             4|          278|                 27|                 28|                 26|                 19|                 27|                 68|                 81|                 53|            12|          344|                 24|                 39|                 51|                 40|                 51|                 81|                113|                 44|             6|          437|                 17|                 38|                 54|                 45|                 54|                 69|                 59|                 33|             4|          365|                 12|                 46|                 74|                 73|                 97|                 81|                 64|                 14|             3|          457|                   14|                   58|                   96|                   97|                   93|                  118|                   60|                   16|               0|            560|                    0|                   38|                   95|                   86|                  114|                  105|                   45|                    3|               0|            484|                    0|                   13|                  113|                  107|                  127|                  105|                   30|                    3|               0|            504|                    0|                    3|                   79|                   97|                  118|                   88|                   22|                    4|               0|            419|                    0|                    0|                  101|                  266|                  317|                  166|                   26|                    3|               0|            884|                    0|                    0|                   13|                   42|                   65|                   31|                   11|                    0|               0|            157|                    0|                    0|                   10|                   56|                  112|                   61|                   15|                    3|               0|            252|               34|                  32|                  51|                  57|                  71|                  76|                  49|                  20|                    5|           397|            496|            393|            829|           1073|           1381|           1232|            812|            309|        49|     6579|                       366|                        46|                        47|                        52|                        92|                       150|                       121|                        41|                            3|                 910|              226|               23|               17|               27|               21|               47|               59|               10|           0|        437|                129|                 38|                 32|                 34|                 15|                 57|                 96|                 47|             9|          462|                 41|                 35|                 25|                 21|                 53|                 61|                132|                 99|            15|          490|                 41|                 46|                 41|                 32|                 45|                105|                164|                 91|            22|          598|                 60|                 65|                 65|                 42|                 66|                119|                172|                 77|             6|          672|\n",
       "|    101031013|                  3|                  6|                  3|                  5|                  8|                 16|                 36|                 18|             4|          103|                  0|                  0|                 11|                  5|                 10|                 15|                 39|                 17|            22|          118|                  3|                  3|                  9|                 19|                 15|                 23|                 19|                  9|             4|          108|                  0|                  7|                  9|                 18|                 18|                 21|                 14|                  4|            12|          107|                  0|                 10|                 18|                 17|                 15|                 15|                  8|                  6|             0|           89|                    0|                    5|                   13|                   19|                   11|                   17|                    8|                    0|               0|             69|                    0|                    6|                   10|                    5|                    4|                    7|                   10|                    0|               0|             42|                    0|                    0|                    0|                    6|                   10|                    7|                    3|                    5|               0|             36|                    0|                    6|                    8|                    3|                   12|                    8|                    0|                    0|               0|             25|                    0|                    0|                    0|                    8|                    3|                   12|                    8|                    0|               0|             28|                    0|                    0|                    0|                    0|                    4|                    0|                    0|                    0|               0|              5|                    0|                    0|                    0|                    4|                    3|                    0|                    0|                    0|               0|             13|                8|                   9|                  10|                   8|                  18|                  21|                  18|                  19|                    7|           114|             59|             59|            109|            136|            143|            190|            186|             90|        50|     1029|                        48|                         6|                         0|                         6|                        16|                        33|                        28|                        11|                            5|                 142|               17|                0|                7|                3|                3|                3|                9|               11|           0|         54|                 10|                  3|                  0|                  5|                 10|                 18|                 15|                 11|             6|           92|                  5|                  8|                  7|                 10|                 19|                 26|                 74|                 39|            15|          195|                  3|                  0|                 15|                  5|                 16|                 31|                 74|                 29|            18|          191|                  5|                  7|                 16|                 22|                 25|                 35|                 39|                 25|             4|          170|\n",
       "|    101031014|                 11|                 10|                 16|                 12|                 25|                 27|                 69|                 62|            11|          239|                  7|                 14|                 23|                 14|                 33|                 48|                 69|                 79|            41|          322|                 13|                 12|                 27|                 35|                 32|                 41|                 45|                 35|            26|          266|                 10|                 23|                 46|                 50|                 24|                 43|                 39|                 26|            10|          273|                  0|                 28|                 52|                 43|                 43|                 55|                 20|                 17|             3|          259|                    5|                   18|                   47|                   45|                   41|                   46|                   14|                    6|               5|            232|                    0|                    5|                   28|                   28|                   48|                   43|                    8|                    0|               0|            166|                    0|                    4|                   32|                   24|                   25|                   22|                    3|                    5|               8|            123|                    0|                    0|                   15|                   21|                   16|                   13|                    9|                    0|               3|             89|                    0|                    0|                   24|                   34|                   35|                   37|                    3|                    3|               0|            135|                    0|                    0|                    3|                    3|                    9|                    0|                    0|                    0|               0|             22|                    0|                    0|                    0|                    4|                   10|                    3|                    0|                    0|               0|             24|                7|                   7|                  15|                  27|                  31|                  26|                  37|                  25|                   24|           209|            151|            144|            385|            391|            406|            490|            395|            301|       140|     2803|                        93|                        17|                        39|                        41|                        27|                        63|                        43|                        24|                            3|                 343|               86|                0|                5|                7|               13|               16|               21|                7|           5|        161|                 25|                 14|                 19|                 16|                 14|                 40|                 52|                 36|             7|          238|                 18|                 22|                 31|                 17|                 45|                 57|                119|                112|            37|          453|                 14|                 16|                 39|                 23|                 46|                 75|                118|                112|            60|          513|                 23|                 31|                 37|                 49|                 57|                 64|                 82|                 59|            34|          441|\n",
       "|    101031015|                  7|                  6|                  3|                 11|                  9|                 21|                 37|                 23|             0|          117|                  3|                  5|                  8|                  7|                 16|                 25|                 36|                 30|            10|          139|                  4|                  9|                 16|                  9|                 18|                 27|                 15|                 11|             3|          109|                  5|                 12|                 14|                 12|                 23|                 20|                 12|                  5|             0|          103|                  3|                  8|                  8|                 17|                 28|                 12|                 13|                  6|             0|          107|                    0|                    6|                   18|                   14|                   18|                   42|                   10|                    3|               0|            118|                    0|                    3|                   16|                   14|                   21|                   26|                    9|                    4|               0|             88|                    0|                    0|                    8|                   10|                   29|                    8|                    6|                    0|               0|             73|                    0|                    0|                    9|                   13|                   23|                   23|                    0|                    0|               0|             64|                    0|                    0|                   10|                    8|                   24|                   11|                    0|                    0|               0|             57|                    0|                    0|                    0|                    0|                   12|                    3|                    0|                    0|               0|             18|                    0|                    0|                    0|                    6|                   11|                    3|                    0|                    0|               0|             22|                8|                   8|                  17|                  14|                  24|                  23|                  24|                  21|                   13|           150|             88|             65|            144|            156|            288|            291|            215|            125|        30|     1403|                        60|                         4|                         8|                        12|                        22|                        48|                        27|                        15|                            4|                 198|               47|                7|                3|                0|                3|               11|                7|                7|           0|         88|                 16|                 13|                  8|                 11|                 10|                 36|                 34|                 13|             3|          138|                  6|                 13|                 10|                 12|                 19|                 45|                 76|                 51|             8|          234|                 10|                  7|                  7|                 10|                 21|                 41|                 79|                 47|            19|          245|                 15|                 15|                 23|                 12|                 39|                 43|                 29|                 29|             3|          207|\n",
       "+-------------+-------------------+-------------------+-------------------+-------------------+-------------------+-------------------+-------------------+-------------------+--------------+-------------+-------------------+-------------------+-------------------+-------------------+-------------------+-------------------+-------------------+-------------------+--------------+-------------+-------------------+-------------------+-------------------+-------------------+-------------------+-------------------+-------------------+-------------------+--------------+-------------+-------------------+-------------------+-------------------+-------------------+-------------------+-------------------+-------------------+-------------------+--------------+-------------+-------------------+-------------------+-------------------+-------------------+-------------------+-------------------+-------------------+-------------------+--------------+-------------+---------------------+---------------------+---------------------+---------------------+---------------------+---------------------+---------------------+---------------------+----------------+---------------+---------------------+---------------------+---------------------+---------------------+---------------------+---------------------+---------------------+---------------------+----------------+---------------+---------------------+---------------------+---------------------+---------------------+---------------------+---------------------+---------------------+---------------------+----------------+---------------+---------------------+---------------------+---------------------+---------------------+---------------------+---------------------+---------------------+---------------------+----------------+---------------+---------------------+---------------------+---------------------+---------------------+---------------------+---------------------+---------------------+---------------------+----------------+---------------+---------------------+---------------------+---------------------+---------------------+---------------------+---------------------+---------------------+---------------------+----------------+---------------+---------------------+---------------------+---------------------+---------------------+---------------------+---------------------+---------------------+---------------------+----------------+---------------+-----------------+--------------------+--------------------+--------------------+--------------------+--------------------+--------------------+--------------------+---------------------+--------------+---------------+---------------+---------------+---------------+---------------+---------------+---------------+---------------+----------+---------+--------------------------+--------------------------+--------------------------+--------------------------+--------------------------+--------------------------+--------------------------+--------------------------+-----------------------------+--------------------+-----------------+-----------------+-----------------+-----------------+-----------------+-----------------+-----------------+-----------------+------------+-----------+-------------------+-------------------+-------------------+-------------------+-------------------+-------------------+-------------------+-------------------+--------------+-------------+-------------------+-------------------+-------------------+-------------------+-------------------+-------------------+-------------------+-------------------+--------------+-------------+-------------------+-------------------+-------------------+-------------------+-------------------+-------------------+-------------------+-------------------+--------------+-------------+-------------------+-------------------+-------------------+-------------------+-------------------+-------------------+-------------------+-------------------+--------------+-------------+"
      ]
     },
     "execution_count": 42,
     "metadata": {},
     "output_type": "execute_result"
    }
   ],
   "source": [
    "# 2021 census data CSVs\n",
    "\n",
    "path = '../data/externaldataset/2021 Census GCP Statistical Area 2 for AUS/*'\n",
    "sa2_census = spark.read.csv(path, header=True)\n",
    "\n",
    "sa2_census.limit(10)\n"
   ]
  },
  {
   "cell_type": "code",
   "execution_count": 43,
   "metadata": {},
   "outputs": [],
   "source": [
    "###############################################################################################################################################################################################"
   ]
  },
  {
   "cell_type": "code",
   "execution_count": 44,
   "metadata": {},
   "outputs": [
    {
     "name": "stdout",
     "output_type": "stream",
     "text": [
      "root\n",
      " |-- sa4_name: string (nullable = true)\n",
      " |-- sa3_name: string (nullable = true)\n",
      " |-- sa2_code: long (nullable = true)\n",
      " |-- sa2_name: string (nullable = true)\n",
      " |-- population_2021: long (nullable = true)\n",
      "\n"
     ]
    }
   ],
   "source": [
    "sa2_pops.limit(10)\n",
    "\n",
    "sa2_pops.printSchema()"
   ]
  },
  {
   "cell_type": "code",
   "execution_count": 45,
   "metadata": {},
   "outputs": [],
   "source": [
    "df = sa2_pops\n",
    "\n",
    "# 1. Check for Null Values\n",
    "df = df.na.drop()\n",
    "\n",
    "# 2. Check for Duplicates\n",
    "df = df.dropDuplicates()\n",
    "\n",
    "# 3. Validate population\n",
    "df = df.filter(F.col('population_2021') >= 0)\n",
    "\n",
    "sa2_pops_clean = df\n"
   ]
  },
  {
   "cell_type": "code",
   "execution_count": 46,
   "metadata": {},
   "outputs": [],
   "source": [
    "###############################################################################################################################################################################################"
   ]
  },
  {
   "cell_type": "code",
   "execution_count": 47,
   "metadata": {},
   "outputs": [
    {
     "data": {
      "text/html": [
       "<table border='1'>\n",
       "<tr><th>postcode</th><th>sa2_code</th></tr>\n",
       "<tr><td>800</td><td>701011002</td></tr>\n",
       "<tr><td>810</td><td>701021029</td></tr>\n",
       "<tr><td>810</td><td>701021026</td></tr>\n",
       "<tr><td>810</td><td>701021027</td></tr>\n",
       "<tr><td>810</td><td>701021016</td></tr>\n",
       "<tr><td>810</td><td>701021023</td></tr>\n",
       "<tr><td>810</td><td>701021018</td></tr>\n",
       "<tr><td>810</td><td>701021010</td></tr>\n",
       "<tr><td>810</td><td>701021024</td></tr>\n",
       "<tr><td>810</td><td>701021013</td></tr>\n",
       "</table>\n"
      ],
      "text/plain": [
       "+--------+---------+\n",
       "|postcode| sa2_code|\n",
       "+--------+---------+\n",
       "|     800|701011002|\n",
       "|     810|701021029|\n",
       "|     810|701021026|\n",
       "|     810|701021027|\n",
       "|     810|701021016|\n",
       "|     810|701021023|\n",
       "|     810|701021018|\n",
       "|     810|701021010|\n",
       "|     810|701021024|\n",
       "|     810|701021013|\n",
       "+--------+---------+"
      ]
     },
     "execution_count": 47,
     "metadata": {},
     "output_type": "execute_result"
    }
   ],
   "source": [
    "df = sa2_to_postcode\n",
    "\n",
    "# 1. Check for Null Values\n",
    "df = df.na.drop()\n",
    "\n",
    "# 2. Check for Duplicates\n",
    "df = df.dropDuplicates()\n",
    "\n",
    "# No need to validate postcode as inner join will be performed with validated postcodes\n",
    "\n",
    "sa2_to_postcode_clean=df\n",
    "\n",
    "sa2_to_postcode_clean.sort('postcode').limit(10)\n",
    "\n"
   ]
  },
  {
   "cell_type": "markdown",
   "metadata": {},
   "source": [
    "### Aggregation"
   ]
  },
  {
   "cell_type": "code",
   "execution_count": 48,
   "metadata": {},
   "outputs": [],
   "source": [
    "output_relative_dir = '../data/curated/'\n",
    "\n",
    "# check if it exists as it makedir will raise an error if it does exist\n",
    "if not os.path.exists(output_relative_dir):\n",
    "    os.makedirs(output_relative_dir)\n",
    "   \n",
    "\n",
    "# now, for each type of data set we will need, we will create the paths\n",
    "for target_dir in ('consumer', 'merchant'): # taxi_zones should already exist\n",
    "    if not os.path.exists(output_relative_dir + target_dir):\n",
    "        os.makedirs(output_relative_dir + target_dir)\n"
   ]
  },
  {
   "cell_type": "code",
   "execution_count": 49,
   "metadata": {},
   "outputs": [],
   "source": [
    "#cons_combined = "
   ]
  },
  {
   "cell_type": "code",
   "execution_count": 50,
   "metadata": {},
   "outputs": [],
   "source": [
    "#cons_combined.limit(5)"
   ]
  },
  {
   "cell_type": "code",
   "execution_count": 51,
   "metadata": {},
   "outputs": [],
   "source": [
    "#cons_combined.write.parquet(\"../data/curated/consumer/consumer_combined.parquet\")"
   ]
  },
  {
   "cell_type": "code",
   "execution_count": 52,
   "metadata": {},
   "outputs": [],
   "source": [
    "#merch_combined"
   ]
  },
  {
   "cell_type": "code",
   "execution_count": 53,
   "metadata": {},
   "outputs": [],
   "source": [
    "#merch_combined.limit(5)"
   ]
  },
  {
   "cell_type": "code",
   "execution_count": 54,
   "metadata": {},
   "outputs": [],
   "source": [
    "#merch_combined.write.parquet(\"../data/curated/merchant/merchant_combined.parquet\")"
   ]
  },
  {
   "cell_type": "code",
   "execution_count": 55,
   "metadata": {},
   "outputs": [],
   "source": [
    "orig_combined = cust_tbl_clean.join(cust_user_det_clean, on='consumer_id', how='inner') \\\n",
    ".join(transactions_all_clean, on='user_id', how ='inner') \\\n",
    ".join(cust_fp_clean, on=['user_id', 'order_datetime'], how='left').na.fill(0) \\\n",
    ".join(merch_tbl_clean, on='merchant_abn', how='inner') \\\n",
    ".join(merch_fp_clean, on=['merchant_abn', 'order_datetime'], how='left').na.fill(0)\n",
    "\n"
   ]
  },
  {
   "cell_type": "code",
   "execution_count": 56,
   "metadata": {},
   "outputs": [],
   "source": [
    "sa2_combined = sa2_to_postcode_clean.join(sa2_pops_clean, on='sa2_code', how='inner').withColumnRenamed('population_2021','sa2_population_2021')\n"
   ]
  },
  {
   "cell_type": "code",
   "execution_count": 57,
   "metadata": {},
   "outputs": [],
   "source": [
    "all_combined = orig_combined.join(sa2_combined.withColumnRenamed('postcode','consumer_postcode'), on='consumer_postcode', how='inner')"
   ]
  },
  {
   "cell_type": "code",
   "execution_count": 58,
   "metadata": {},
   "outputs": [],
   "source": [
    "all_combined = all_combined.withColumnRenamed(\n",
    "    'sa2_code',\n",
    "    'consumer_sa2_code'\n",
    ").withColumnRenamed(\n",
    "    'sa4_name',\n",
    "    'consumer_sa4_name'\n",
    ").withColumnRenamed(\n",
    "    'sa3_name',\n",
    "    'consumer_sa3_name'\n",
    ").withColumnRenamed(\n",
    "    'sa2_name',\n",
    "    'consumer_sa2_name'\n",
    ").withColumnRenamed(\n",
    "    'sa2_population_2021',\n",
    "    'consumer_sa2_pop_2021'\n",
    ").withColumnRenamed(\n",
    "    'words',\n",
    "    'merchant_description'\n",
    ").withColumnRenamed(\n",
    "    'revenue_level',\n",
    "    'merchant_revenue_level'\n",
    ").withColumnRenamed(\n",
    "    'take_rate_%',\n",
    "    'merchant_take_rate_%'\n",
    ")\n",
    "\n"
   ]
  },
  {
   "cell_type": "code",
   "execution_count": 59,
   "metadata": {},
   "outputs": [
    {
     "name": "stderr",
     "output_type": "stream",
     "text": [
      "                                                                                \r"
     ]
    },
    {
     "data": {
      "text/html": [
       "<table border='1'>\n",
       "<tr><th>consumer_postcode</th><th>merchant_abn</th><th>order_datetime</th><th>user_id</th><th>consumer_id</th><th>consumer_name</th><th>consumer_state</th><th>consumer_gender</th><th>dollar_value</th><th>consumer_fraud_probability_%</th><th>merchant_name</th><th>merchant_description</th><th>merchant_revenue_level</th><th>merchant_take_rate_%</th><th>merchant_fraud_probability_%</th><th>consumer_sa2_code</th><th>consumer_sa4_name</th><th>consumer_sa3_name</th><th>consumer_sa2_name</th><th>consumer_sa2_pop_2021</th></tr>\n",
       "<tr><td>4606</td><td>49505931725</td><td>2022-10-13</td><td>7</td><td>511685</td><td>Andrea Jones</td><td>QLD</td><td>Female</td><td>80.56308158918402</td><td>0.0</td><td>Suspendisse Ac As...</td><td>digital goods: bo...</td><td>b</td><td>4.7</td><td>0.0</td><td>319021506</td><td>Wide Bay</td><td>Burnett</td><td>Kingaroy Surround...</td><td>9615</td></tr>\n",
       "<tr><td>4606</td><td>80518954462</td><td>2021-04-11</td><td>7</td><td>511685</td><td>Andrea Jones</td><td>QLD</td><td>Female</td><td>248.259198693175</td><td>0.0</td><td>Neque Sed Dictum ...</td><td>computers, compUt...</td><td>b</td><td>3.49</td><td>0.0</td><td>319021506</td><td>Wide Bay</td><td>Burnett</td><td>Kingaroy Surround...</td><td>9615</td></tr>\n",
       "<tr><td>4606</td><td>20885454195</td><td>2021-06-29</td><td>7</td><td>511685</td><td>Andrea Jones</td><td>QLD</td><td>Female</td><td>106.09604494465586</td><td>0.0</td><td>Pharetra Ut Indus...</td><td>cable, satellite,...</td><td>b</td><td>4.94</td><td>0.0</td><td>319021506</td><td>Wide Bay</td><td>Burnett</td><td>Kingaroy Surround...</td><td>9615</td></tr>\n",
       "<tr><td>4606</td><td>78327477486</td><td>2022-05-24</td><td>7</td><td>511685</td><td>Andrea Jones</td><td>QLD</td><td>Female</td><td>250.1700381157457</td><td>0.0</td><td>Auctor Inc.</td><td>lawn and garden s...</td><td>c</td><td>1.47</td><td>0.0</td><td>319021506</td><td>Wide Bay</td><td>Burnett</td><td>Kingaroy Surround...</td><td>9615</td></tr>\n",
       "<tr><td>4606</td><td>90173050473</td><td>2022-03-14</td><td>7</td><td>511685</td><td>Andrea Jones</td><td>QLD</td><td>Female</td><td>108.27880211271156</td><td>0.0</td><td>Lobortis Class In...</td><td>lawn and garden s...</td><td>c</td><td>2.49</td><td>0.0</td><td>319021506</td><td>Wide Bay</td><td>Burnett</td><td>Kingaroy Surround...</td><td>9615</td></tr>\n",
       "</table>\n"
      ],
      "text/plain": [
       "+-----------------+------------+--------------+-------+-----------+-------------+--------------+---------------+------------------+----------------------------+--------------------+--------------------+----------------------+--------------------+----------------------------+-----------------+-----------------+-----------------+--------------------+---------------------+\n",
       "|consumer_postcode|merchant_abn|order_datetime|user_id|consumer_id|consumer_name|consumer_state|consumer_gender|      dollar_value|consumer_fraud_probability_%|       merchant_name|merchant_description|merchant_revenue_level|merchant_take_rate_%|merchant_fraud_probability_%|consumer_sa2_code|consumer_sa4_name|consumer_sa3_name|   consumer_sa2_name|consumer_sa2_pop_2021|\n",
       "+-----------------+------------+--------------+-------+-----------+-------------+--------------+---------------+------------------+----------------------------+--------------------+--------------------+----------------------+--------------------+----------------------------+-----------------+-----------------+-----------------+--------------------+---------------------+\n",
       "|             4606| 49505931725|    2022-10-13|      7|     511685| Andrea Jones|           QLD|         Female| 80.56308158918402|                         0.0|Suspendisse Ac As...|digital goods: bo...|                     b|                 4.7|                         0.0|        319021506|         Wide Bay|          Burnett|Kingaroy Surround...|                 9615|\n",
       "|             4606| 80518954462|    2021-04-11|      7|     511685| Andrea Jones|           QLD|         Female|  248.259198693175|                         0.0|Neque Sed Dictum ...|computers, compUt...|                     b|                3.49|                         0.0|        319021506|         Wide Bay|          Burnett|Kingaroy Surround...|                 9615|\n",
       "|             4606| 20885454195|    2021-06-29|      7|     511685| Andrea Jones|           QLD|         Female|106.09604494465586|                         0.0|Pharetra Ut Indus...|cable, satellite,...|                     b|                4.94|                         0.0|        319021506|         Wide Bay|          Burnett|Kingaroy Surround...|                 9615|\n",
       "|             4606| 78327477486|    2022-05-24|      7|     511685| Andrea Jones|           QLD|         Female| 250.1700381157457|                         0.0|         Auctor Inc.|lawn and garden s...|                     c|                1.47|                         0.0|        319021506|         Wide Bay|          Burnett|Kingaroy Surround...|                 9615|\n",
       "|             4606| 90173050473|    2022-03-14|      7|     511685| Andrea Jones|           QLD|         Female|108.27880211271156|                         0.0|Lobortis Class In...|lawn and garden s...|                     c|                2.49|                         0.0|        319021506|         Wide Bay|          Burnett|Kingaroy Surround...|                 9615|\n",
       "+-----------------+------------+--------------+-------+-----------+-------------+--------------+---------------+------------------+----------------------------+--------------------+--------------------+----------------------+--------------------+----------------------------+-----------------+-----------------+-----------------+--------------------+---------------------+"
      ]
     },
     "execution_count": 59,
     "metadata": {},
     "output_type": "execute_result"
    }
   ],
   "source": [
    "all_combined.limit(5)"
   ]
  },
  {
   "cell_type": "code",
   "execution_count": 61,
   "metadata": {},
   "outputs": [
    {
     "name": "stderr",
     "output_type": "stream",
     "text": [
      "                                                                                \r"
     ]
    }
   ],
   "source": [
    "all_combined.write.mode('overwrite').parquet(\"../data/curated/all_data_combined.parquet\")"
   ]
  }
 ],
 "metadata": {
  "kernelspec": {
   "display_name": "Python 3",
   "language": "python",
   "name": "python3"
  },
  "language_info": {
   "codemirror_mode": {
    "name": "ipython",
    "version": 3
   },
   "file_extension": ".py",
   "mimetype": "text/x-python",
   "name": "python",
   "nbconvert_exporter": "python",
   "pygments_lexer": "ipython3",
   "version": "3.10.12"
  },
  "orig_nbformat": 4
 },
 "nbformat": 4,
 "nbformat_minor": 2
}
