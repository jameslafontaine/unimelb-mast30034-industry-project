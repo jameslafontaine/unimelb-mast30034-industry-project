{
 "cells": [
  {
   "cell_type": "code",
   "execution_count": 205,
   "metadata": {},
   "outputs": [],
   "source": [
    "import pandas as pd\n",
    "import matplotlib.pyplot as plt\n",
    "from pyspark.sql import SparkSession, functions as F\n",
    "from collections import Counter\n",
    "\n",
    "\n",
    "# Create a spark session (which will run spark jobs)\n",
    "spark = (\n",
    "    SparkSession.builder.appName(\"ETL\")\n",
    "    .config(\"spark.sql.repl.eagerEval.enabled\", True)\n",
    "    .config(\"spark.sql.parquet.cacheMetadata\", \"true\")\n",
    "    .config(\"spark.sql.session.timeZone\", \"Etc/UTC\")\n",
    "    .config('spark.driver.memory', '4g')\n",
    "    .config('spark.executor.memory', '2g')\n",
    "    .getOrCreate()\n",
    ")"
   ]
  },
  {
   "cell_type": "markdown",
   "metadata": {},
   "source": [
    "## Load in datasets"
   ]
  },
  {
   "cell_type": "code",
   "execution_count": 206,
   "metadata": {},
   "outputs": [
    {
     "name": "stdout",
     "output_type": "stream",
     "text": [
      "root\n",
      " |-- user_id: long (nullable = true)\n",
      " |-- merchant_abn: long (nullable = true)\n",
      " |-- dollar_value: double (nullable = true)\n",
      " |-- order_id: string (nullable = true)\n",
      " |-- order_datetime: date (nullable = true)\n",
      "\n",
      "root\n",
      " |-- user_id: long (nullable = true)\n",
      " |-- merchant_abn: long (nullable = true)\n",
      " |-- dollar_value: double (nullable = true)\n",
      " |-- order_id: string (nullable = true)\n",
      " |-- order_datetime: date (nullable = true)\n",
      "\n",
      "root\n",
      " |-- user_id: long (nullable = true)\n",
      " |-- merchant_abn: long (nullable = true)\n",
      " |-- dollar_value: double (nullable = true)\n",
      " |-- order_id: string (nullable = true)\n",
      " |-- order_datetime: date (nullable = true)\n",
      "\n"
     ]
    },
    {
     "data": {
      "text/html": [
       "<table border='1'>\n",
       "<tr><th>user_id</th><th>merchant_abn</th><th>dollar_value</th><th>order_id</th><th>order_datetime</th></tr>\n",
       "<tr><td>18478</td><td>62191208634</td><td>63.255848959735246</td><td>949a63c8-29f7-4ab...</td><td>2021-08-20</td></tr>\n",
       "<tr><td>2</td><td>15549624934</td><td>130.3505283105634</td><td>6a84c3cf-612a-457...</td><td>2021-08-20</td></tr>\n",
       "<tr><td>18479</td><td>64403598239</td><td>120.15860593212783</td><td>b10dcc33-e53f-425...</td><td>2021-08-20</td></tr>\n",
       "<tr><td>3</td><td>60956456424</td><td>136.6785200286976</td><td>0f09c5a5-784e-447...</td><td>2021-08-20</td></tr>\n",
       "<tr><td>18479</td><td>94493496784</td><td>72.96316578355305</td><td>f6c78c1a-4600-4c5...</td><td>2021-08-20</td></tr>\n",
       "<tr><td>3</td><td>76819856970</td><td>448.529684285612</td><td>5ace6a24-cdf0-4aa...</td><td>2021-08-20</td></tr>\n",
       "<tr><td>18479</td><td>67609108741</td><td>86.4040605836911</td><td>d0e180f0-cb06-42a...</td><td>2021-08-20</td></tr>\n",
       "<tr><td>3</td><td>34096466752</td><td>301.5793450525113</td><td>6fb1ff48-24bb-4f9...</td><td>2021-08-20</td></tr>\n",
       "<tr><td>18482</td><td>70501974849</td><td>68.75486276223054</td><td>8505fb33-b69a-412...</td><td>2021-08-20</td></tr>\n",
       "<tr><td>4</td><td>49891706470</td><td>48.89796461900801</td><td>ed11e477-b09f-4ae...</td><td>2021-08-20</td></tr>\n",
       "</table>\n"
      ],
      "text/plain": [
       "+-------+------------+------------------+--------------------+--------------+\n",
       "|user_id|merchant_abn|      dollar_value|            order_id|order_datetime|\n",
       "+-------+------------+------------------+--------------------+--------------+\n",
       "|  18478| 62191208634|63.255848959735246|949a63c8-29f7-4ab...|    2021-08-20|\n",
       "|      2| 15549624934| 130.3505283105634|6a84c3cf-612a-457...|    2021-08-20|\n",
       "|  18479| 64403598239|120.15860593212783|b10dcc33-e53f-425...|    2021-08-20|\n",
       "|      3| 60956456424| 136.6785200286976|0f09c5a5-784e-447...|    2021-08-20|\n",
       "|  18479| 94493496784| 72.96316578355305|f6c78c1a-4600-4c5...|    2021-08-20|\n",
       "|      3| 76819856970|  448.529684285612|5ace6a24-cdf0-4aa...|    2021-08-20|\n",
       "|  18479| 67609108741|  86.4040605836911|d0e180f0-cb06-42a...|    2021-08-20|\n",
       "|      3| 34096466752| 301.5793450525113|6fb1ff48-24bb-4f9...|    2021-08-20|\n",
       "|  18482| 70501974849| 68.75486276223054|8505fb33-b69a-412...|    2021-08-20|\n",
       "|      4| 49891706470| 48.89796461900801|ed11e477-b09f-4ae...|    2021-08-20|\n",
       "+-------+------------+------------------+--------------------+--------------+"
      ]
     },
     "execution_count": 206,
     "metadata": {},
     "output_type": "execute_result"
    }
   ],
   "source": [
    "# 'transactions.parquet' files\n",
    "path = '../data/tables/transactions_20210228_20210827_snapshot'\n",
    "transactions_21_02_21_08 = spark.read.parquet(path)\n",
    "\n",
    "transactions_21_02_21_08.printSchema()\n",
    "\n",
    "\n",
    "path = '../data/tables/transactions_20210828_20220227_snapshot'\n",
    "transactions_21_08_22_02 = spark.read.parquet(path)\n",
    "\n",
    "transactions_21_08_22_02.printSchema()\n",
    "\n",
    "path = '../data/tables/transactions_20220228_20220828_snapshot'\n",
    "transactions_22_02_22_08 = spark.read.parquet(path)\n",
    "\n",
    "transactions_22_02_22_08.printSchema()\n",
    "\n",
    "transactions_21_02_21_08.limit(10)\n"
   ]
  },
  {
   "cell_type": "code",
   "execution_count": 207,
   "metadata": {},
   "outputs": [
    {
     "name": "stdout",
     "output_type": "stream",
     "text": [
      "root\n",
      " |-- user_id: string (nullable = true)\n",
      " |-- order_datetime: string (nullable = true)\n",
      " |-- fraud_probability: string (nullable = true)\n",
      "\n"
     ]
    },
    {
     "data": {
      "text/html": [
       "<table border='1'>\n",
       "<tr><th>user_id</th><th>order_datetime</th><th>fraud_probability</th></tr>\n",
       "<tr><td>6228</td><td>2021-12-19</td><td>97.6298077657765</td></tr>\n",
       "<tr><td>21419</td><td>2021-12-10</td><td>99.24738020302328</td></tr>\n",
       "<tr><td>5606</td><td>2021-10-17</td><td>84.05825045251777</td></tr>\n",
       "<tr><td>3101</td><td>2021-04-17</td><td>91.42192091901347</td></tr>\n",
       "<tr><td>22239</td><td>2021-10-19</td><td>94.70342477508035</td></tr>\n",
       "<tr><td>16556</td><td>2022-02-20</td><td>89.65663294494827</td></tr>\n",
       "<tr><td>10278</td><td>2021-09-28</td><td>83.59136689427714</td></tr>\n",
       "<tr><td>15790</td><td>2021-12-30</td><td>71.77065889280253</td></tr>\n",
       "<tr><td>5233</td><td>2021-08-29</td><td>85.87123303878818</td></tr>\n",
       "<tr><td>230</td><td>2021-08-28</td><td>86.28328808934151</td></tr>\n",
       "</table>\n"
      ],
      "text/plain": [
       "+-------+--------------+-----------------+\n",
       "|user_id|order_datetime|fraud_probability|\n",
       "+-------+--------------+-----------------+\n",
       "|   6228|    2021-12-19| 97.6298077657765|\n",
       "|  21419|    2021-12-10|99.24738020302328|\n",
       "|   5606|    2021-10-17|84.05825045251777|\n",
       "|   3101|    2021-04-17|91.42192091901347|\n",
       "|  22239|    2021-10-19|94.70342477508035|\n",
       "|  16556|    2022-02-20|89.65663294494827|\n",
       "|  10278|    2021-09-28|83.59136689427714|\n",
       "|  15790|    2021-12-30|71.77065889280253|\n",
       "|   5233|    2021-08-29|85.87123303878818|\n",
       "|    230|    2021-08-28|86.28328808934151|\n",
       "+-------+--------------+-----------------+"
      ]
     },
     "execution_count": 207,
     "metadata": {},
     "output_type": "execute_result"
    }
   ],
   "source": [
    "# 'consumer_fraud_probability.csv' file\n",
    "path = '../data/tables/consumer_fraud_probability.csv'\n",
    "cust_fp = spark.read.csv(path, header=True)\n",
    "\n",
    "cust_fp.printSchema()\n",
    "cust_fp.limit(10)\n",
    "# cust_fp.dtypes\n",
    "# cust_fp.count()"
   ]
  },
  {
   "cell_type": "code",
   "execution_count": 208,
   "metadata": {},
   "outputs": [
    {
     "name": "stdout",
     "output_type": "stream",
     "text": [
      "root\n",
      " |-- user_id: long (nullable = true)\n",
      " |-- consumer_id: long (nullable = true)\n",
      "\n"
     ]
    },
    {
     "data": {
      "text/html": [
       "<table border='1'>\n",
       "<tr><th>user_id</th><th>consumer_id</th></tr>\n",
       "<tr><td>1</td><td>1195503</td></tr>\n",
       "<tr><td>2</td><td>179208</td></tr>\n",
       "<tr><td>3</td><td>1194530</td></tr>\n",
       "<tr><td>4</td><td>154128</td></tr>\n",
       "<tr><td>5</td><td>712975</td></tr>\n",
       "<tr><td>6</td><td>407340</td></tr>\n",
       "<tr><td>7</td><td>511685</td></tr>\n",
       "<tr><td>8</td><td>448088</td></tr>\n",
       "<tr><td>9</td><td>650435</td></tr>\n",
       "<tr><td>10</td><td>1058499</td></tr>\n",
       "</table>\n"
      ],
      "text/plain": [
       "+-------+-----------+\n",
       "|user_id|consumer_id|\n",
       "+-------+-----------+\n",
       "|      1|    1195503|\n",
       "|      2|     179208|\n",
       "|      3|    1194530|\n",
       "|      4|     154128|\n",
       "|      5|     712975|\n",
       "|      6|     407340|\n",
       "|      7|     511685|\n",
       "|      8|     448088|\n",
       "|      9|     650435|\n",
       "|     10|    1058499|\n",
       "+-------+-----------+"
      ]
     },
     "execution_count": 208,
     "metadata": {},
     "output_type": "execute_result"
    }
   ],
   "source": [
    "# 'consumer_user_details.parquet' file\n",
    "path = '../data/tables/consumer_user_details.parquet'\n",
    "cust_user_det = spark.read.parquet(path)\n",
    "\n",
    "cust_user_det.printSchema()\n",
    "cust_user_det.limit(10)\n",
    "# cust_user_det.count()"
   ]
  },
  {
   "cell_type": "code",
   "execution_count": 209,
   "metadata": {},
   "outputs": [
    {
     "name": "stdout",
     "output_type": "stream",
     "text": [
      "root\n",
      " |-- merchant_abn: string (nullable = true)\n",
      " |-- order_datetime: string (nullable = true)\n",
      " |-- fraud_probability: string (nullable = true)\n",
      "\n"
     ]
    },
    {
     "data": {
      "text/html": [
       "<table border='1'>\n",
       "<tr><th>merchant_abn</th><th>order_datetime</th><th>fraud_probability</th></tr>\n",
       "<tr><td>19492220327</td><td>2021-11-28</td><td>44.403658647495355</td></tr>\n",
       "<tr><td>31334588839</td><td>2021-10-02</td><td>42.75530083865367</td></tr>\n",
       "<tr><td>19492220327</td><td>2021-12-22</td><td>38.867790051131095</td></tr>\n",
       "<tr><td>82999039227</td><td>2021-12-19</td><td>94.1347004808891</td></tr>\n",
       "<tr><td>90918180829</td><td>2021-09-02</td><td>43.32551731714902</td></tr>\n",
       "<tr><td>31334588839</td><td>2021-12-26</td><td>38.36165958070444</td></tr>\n",
       "<tr><td>23686790459</td><td>2021-12-10</td><td>79.4543441508535</td></tr>\n",
       "<tr><td>14827550074</td><td>2021-11-26</td><td>46.45775596795885</td></tr>\n",
       "<tr><td>31334588839</td><td>2021-11-26</td><td>36.20971272078342</td></tr>\n",
       "<tr><td>19492220327</td><td>2021-12-18</td><td>33.819672154331755</td></tr>\n",
       "</table>\n"
      ],
      "text/plain": [
       "+------------+--------------+------------------+\n",
       "|merchant_abn|order_datetime| fraud_probability|\n",
       "+------------+--------------+------------------+\n",
       "| 19492220327|    2021-11-28|44.403658647495355|\n",
       "| 31334588839|    2021-10-02| 42.75530083865367|\n",
       "| 19492220327|    2021-12-22|38.867790051131095|\n",
       "| 82999039227|    2021-12-19|  94.1347004808891|\n",
       "| 90918180829|    2021-09-02| 43.32551731714902|\n",
       "| 31334588839|    2021-12-26| 38.36165958070444|\n",
       "| 23686790459|    2021-12-10|  79.4543441508535|\n",
       "| 14827550074|    2021-11-26| 46.45775596795885|\n",
       "| 31334588839|    2021-11-26| 36.20971272078342|\n",
       "| 19492220327|    2021-12-18|33.819672154331755|\n",
       "+------------+--------------+------------------+"
      ]
     },
     "execution_count": 209,
     "metadata": {},
     "output_type": "execute_result"
    }
   ],
   "source": [
    "# 'merchant_fraud_probability.csv' file\n",
    "path = '../data/tables/merchant_fraud_probability.csv'\n",
    "merch_fp = spark.read.csv(path, header=True)\n",
    "\n",
    "merch_fp.printSchema()\n",
    "merch_fp.limit(10)\n",
    "# merch_fp.dtypes\n",
    "# merch_fp.count()"
   ]
  },
  {
   "cell_type": "code",
   "execution_count": 210,
   "metadata": {},
   "outputs": [
    {
     "name": "stdout",
     "output_type": "stream",
     "text": [
      "root\n",
      " |-- name: string (nullable = true)\n",
      " |-- address: string (nullable = true)\n",
      " |-- state: string (nullable = true)\n",
      " |-- postcode: string (nullable = true)\n",
      " |-- gender: string (nullable = true)\n",
      " |-- consumer_id: string (nullable = true)\n",
      "\n"
     ]
    },
    {
     "data": {
      "text/html": [
       "<table border='1'>\n",
       "<tr><th>name</th><th>address</th><th>state</th><th>postcode</th><th>gender</th><th>consumer_id</th></tr>\n",
       "<tr><td>Yolanda Williams</td><td>413 Haney Gardens...</td><td>WA</td><td>6935</td><td>Female</td><td>1195503</td></tr>\n",
       "<tr><td>Mary Smith</td><td>3764 Amber Oval</td><td>NSW</td><td>2782</td><td>Female</td><td>179208</td></tr>\n",
       "<tr><td>Jill Jones MD</td><td>40693 Henry Greens</td><td>NT</td><td>862</td><td>Female</td><td>1194530</td></tr>\n",
       "<tr><td>Lindsay Jimenez</td><td>00653 Davenport C...</td><td>NSW</td><td>2780</td><td>Female</td><td>154128</td></tr>\n",
       "<tr><td>Rebecca Blanchard</td><td>9271 Michael Mano...</td><td>WA</td><td>6355</td><td>Female</td><td>712975</td></tr>\n",
       "<tr><td>Karen Chapman</td><td>2706 Stewart Oval...</td><td>NSW</td><td>2033</td><td>Female</td><td>407340</td></tr>\n",
       "<tr><td>Andrea Jones</td><td>122 Brandon Cliff</td><td>QLD</td><td>4606</td><td>Female</td><td>511685</td></tr>\n",
       "<tr><td>Stephen Williams</td><td>6804 Wright Crest...</td><td>WA</td><td>6056</td><td>Male</td><td>448088</td></tr>\n",
       "<tr><td>Stephanie Reyes</td><td>5813 Denise Land ...</td><td>NSW</td><td>2482</td><td>Female</td><td>650435</td></tr>\n",
       "<tr><td>Jillian Gonzales</td><td>461 Ryan Common S...</td><td>VIC</td><td>3220</td><td>Female</td><td>1058499</td></tr>\n",
       "</table>\n"
      ],
      "text/plain": [
       "+-----------------+--------------------+-----+--------+------+-----------+\n",
       "|             name|             address|state|postcode|gender|consumer_id|\n",
       "+-----------------+--------------------+-----+--------+------+-----------+\n",
       "| Yolanda Williams|413 Haney Gardens...|   WA|    6935|Female|    1195503|\n",
       "|       Mary Smith|     3764 Amber Oval|  NSW|    2782|Female|     179208|\n",
       "|    Jill Jones MD|  40693 Henry Greens|   NT|     862|Female|    1194530|\n",
       "|  Lindsay Jimenez|00653 Davenport C...|  NSW|    2780|Female|     154128|\n",
       "|Rebecca Blanchard|9271 Michael Mano...|   WA|    6355|Female|     712975|\n",
       "|    Karen Chapman|2706 Stewart Oval...|  NSW|    2033|Female|     407340|\n",
       "|     Andrea Jones|   122 Brandon Cliff|  QLD|    4606|Female|     511685|\n",
       "| Stephen Williams|6804 Wright Crest...|   WA|    6056|  Male|     448088|\n",
       "|  Stephanie Reyes|5813 Denise Land ...|  NSW|    2482|Female|     650435|\n",
       "| Jillian Gonzales|461 Ryan Common S...|  VIC|    3220|Female|    1058499|\n",
       "+-----------------+--------------------+-----+--------+------+-----------+"
      ]
     },
     "execution_count": 210,
     "metadata": {},
     "output_type": "execute_result"
    }
   ],
   "source": [
    "# 'tbl_consumer.csv' consumer data file\n",
    "path = '../data/tables/tbl_consumer.csv'\n",
    "cust_tbl = spark.read.csv(path, sep='|', header=True)\n",
    "\n",
    "cust_tbl.printSchema()\n",
    "cust_tbl.limit(10)\n",
    "# cust_tbl.dtypes\n",
    "# cust_tbl.count()"
   ]
  },
  {
   "cell_type": "code",
   "execution_count": 211,
   "metadata": {},
   "outputs": [
    {
     "name": "stdout",
     "output_type": "stream",
     "text": [
      "root\n",
      " |-- name: string (nullable = true)\n",
      " |-- tags: string (nullable = true)\n",
      " |-- merchant_abn: long (nullable = true)\n",
      "\n"
     ]
    },
    {
     "data": {
      "text/html": [
       "<table border='1'>\n",
       "<tr><th>name</th><th>tags</th><th>merchant_abn</th></tr>\n",
       "<tr><td>Felis Limited</td><td>((furniture, home...</td><td>10023283211</td></tr>\n",
       "<tr><td>Arcu Ac Orci Corp...</td><td>([cable, satellit...</td><td>10142254217</td></tr>\n",
       "<tr><td>Nunc Sed Company</td><td>([jewelry, watch,...</td><td>10165489824</td></tr>\n",
       "<tr><td>Ultricies Digniss...</td><td>([wAtch, clock, a...</td><td>10187291046</td></tr>\n",
       "<tr><td>Enim Condimentum PC</td><td>([music shops - m...</td><td>10192359162</td></tr>\n",
       "<tr><td>Fusce Company</td><td>[(gift, card, nov...</td><td>10206519221</td></tr>\n",
       "<tr><td>Aliquam Enim Inco...</td><td>[(computers, comP...</td><td>10255988167</td></tr>\n",
       "<tr><td>Ipsum Primis Ltd</td><td>[[watch, clock, a...</td><td>10264435225</td></tr>\n",
       "<tr><td>Pede Ultrices Ind...</td><td>([computer progra...</td><td>10279061213</td></tr>\n",
       "<tr><td>Nunc Inc.</td><td>[(furniture, home...</td><td>10323485998</td></tr>\n",
       "</table>\n"
      ],
      "text/plain": [
       "+--------------------+--------------------+------------+\n",
       "|                name|                tags|merchant_abn|\n",
       "+--------------------+--------------------+------------+\n",
       "|       Felis Limited|((furniture, home...| 10023283211|\n",
       "|Arcu Ac Orci Corp...|([cable, satellit...| 10142254217|\n",
       "|    Nunc Sed Company|([jewelry, watch,...| 10165489824|\n",
       "|Ultricies Digniss...|([wAtch, clock, a...| 10187291046|\n",
       "| Enim Condimentum PC|([music shops - m...| 10192359162|\n",
       "|       Fusce Company|[(gift, card, nov...| 10206519221|\n",
       "|Aliquam Enim Inco...|[(computers, comP...| 10255988167|\n",
       "|    Ipsum Primis Ltd|[[watch, clock, a...| 10264435225|\n",
       "|Pede Ultrices Ind...|([computer progra...| 10279061213|\n",
       "|           Nunc Inc.|[(furniture, home...| 10323485998|\n",
       "+--------------------+--------------------+------------+"
      ]
     },
     "execution_count": 211,
     "metadata": {},
     "output_type": "execute_result"
    }
   ],
   "source": [
    "# 'tbl_merchants.csv' merchants data file\n",
    "path = '../data/tables/tbl_merchants.parquet'\n",
    "merch_tbl = spark.read.parquet(path)\n",
    "\n",
    "merch_tbl.printSchema()\n",
    "merch_tbl.limit(10)"
   ]
  },
  {
   "cell_type": "markdown",
   "metadata": {},
   "source": [
    "## 1st Step: Remove useless columns, data type conversions, rename columns where necessary"
   ]
  },
  {
   "cell_type": "markdown",
   "metadata": {},
   "source": [
    "### Consumer Data"
   ]
  },
  {
   "cell_type": "code",
   "execution_count": 212,
   "metadata": {},
   "outputs": [
    {
     "name": "stdout",
     "output_type": "stream",
     "text": [
      "root\n",
      " |-- user_id: long (nullable = true)\n",
      " |-- order_datetime: date (nullable = true)\n",
      " |-- consumer_fraud_probability_%: double (nullable = true)\n",
      "\n"
     ]
    }
   ],
   "source": [
    "cust_fp = \\\n",
    "cust_fp.withColumn(\n",
    "    'user_id',\n",
    "    F.col('user_id').cast('long')\n",
    ").withColumn(\n",
    "    'order_datetime',\n",
    "    F.col('order_datetime').cast('date')\n",
    ").withColumn(\n",
    "    'consumer_fraud_probability_%',\n",
    "    F.col('fraud_probability').cast('double')\n",
    ").drop('fraud_probability')\n",
    "\n",
    "cust_fp.printSchema()\n"
   ]
  },
  {
   "cell_type": "code",
   "execution_count": 213,
   "metadata": {},
   "outputs": [
    {
     "name": "stdout",
     "output_type": "stream",
     "text": [
      "root\n",
      " |-- user_id: long (nullable = true)\n",
      " |-- consumer_id: long (nullable = true)\n",
      "\n"
     ]
    }
   ],
   "source": [
    "cust_user_det.printSchema()"
   ]
  },
  {
   "cell_type": "code",
   "execution_count": 214,
   "metadata": {},
   "outputs": [
    {
     "name": "stdout",
     "output_type": "stream",
     "text": [
      "root\n",
      " |-- consumer_name: string (nullable = true)\n",
      " |-- consumer_state: string (nullable = true)\n",
      " |-- consumer_postcode: string (nullable = true)\n",
      " |-- consumer_gender: string (nullable = true)\n",
      " |-- consumer_id: long (nullable = true)\n",
      "\n"
     ]
    }
   ],
   "source": [
    "# May have to make postcodes long depending on the external dataset(s)\n",
    "cust_tbl = \\\n",
    "cust_tbl.withColumnRenamed(\n",
    "    'name',\n",
    "    'consumer_name'   \n",
    ").withColumnRenamed(\n",
    "    'state',\n",
    "    'consumer_state'   \n",
    ").withColumnRenamed(\n",
    "    'postcode',\n",
    "    'consumer_postcode'   \n",
    ").withColumnRenamed(\n",
    "    'gender',\n",
    "    'consumer_gender'   \n",
    ").withColumn(\n",
    "    'consumer_id',\n",
    "    F.col('consumer_id').cast('long')\n",
    ").drop('address')\n",
    "\n",
    "cust_tbl.printSchema()"
   ]
  },
  {
   "cell_type": "markdown",
   "metadata": {},
   "source": [
    "### Merchant Data"
   ]
  },
  {
   "cell_type": "code",
   "execution_count": 215,
   "metadata": {},
   "outputs": [
    {
     "name": "stdout",
     "output_type": "stream",
     "text": [
      "root\n",
      " |-- merchant_abn: long (nullable = true)\n",
      " |-- order_datetime: date (nullable = true)\n",
      " |-- merchant_fraud_probability_%: double (nullable = true)\n",
      "\n"
     ]
    }
   ],
   "source": [
    "merch_fp = \\\n",
    "merch_fp.withColumn(\n",
    "    'merchant_abn',\n",
    "    F.col('merchant_abn').cast('long')\n",
    ").withColumn(\n",
    "    'order_datetime',\n",
    "    F.col('order_datetime').cast('date')\n",
    ").withColumn(\n",
    "    'merchant_fraud_probability_%',\n",
    "    F.col('fraud_probability').cast('double')\n",
    ").drop('fraud_probability')\n",
    "\n",
    "merch_fp.printSchema()"
   ]
  },
  {
   "cell_type": "code",
   "execution_count": 216,
   "metadata": {},
   "outputs": [
    {
     "name": "stdout",
     "output_type": "stream",
     "text": [
      "root\n",
      " |-- merchant_name: string (nullable = true)\n",
      " |-- tags: string (nullable = true)\n",
      " |-- merchant_abn: long (nullable = true)\n",
      "\n"
     ]
    }
   ],
   "source": [
    "merch_tbl = \\\n",
    "merch_tbl.withColumnRenamed(\n",
    "    'name',\n",
    "    'merchant_name'\n",
    ")\n",
    "\n",
    "merch_tbl.printSchema()"
   ]
  },
  {
   "cell_type": "markdown",
   "metadata": {},
   "source": [
    "### Transactions"
   ]
  },
  {
   "cell_type": "code",
   "execution_count": 217,
   "metadata": {},
   "outputs": [
    {
     "name": "stdout",
     "output_type": "stream",
     "text": [
      "root\n",
      " |-- user_id: long (nullable = true)\n",
      " |-- merchant_abn: long (nullable = true)\n",
      " |-- dollar_value: double (nullable = true)\n",
      " |-- order_datetime: date (nullable = true)\n",
      "\n"
     ]
    }
   ],
   "source": [
    "# should only have to use order id for checking for duplicate orders, otherwise can remove\n",
    "\n",
    "transactions_21_02_21_08 = transactions_21_02_21_08.drop('order_id')\n",
    "\n",
    "transactions_21_08_22_02 = transactions_21_08_22_02.drop('order_id')\n",
    "\n",
    "transactions_22_02_22_08 = transactions_22_02_22_08.drop('order_id')\n",
    "\n",
    "transactions_21_02_21_08.printSchema()"
   ]
  },
  {
   "cell_type": "markdown",
   "metadata": {},
   "source": [
    "### External Data"
   ]
  },
  {
   "cell_type": "code",
   "execution_count": null,
   "metadata": {},
   "outputs": [],
   "source": []
  },
  {
   "cell_type": "markdown",
   "metadata": {},
   "source": [
    "## 2nd Step: Cleaning, filtering, feature engineering, aggregation"
   ]
  },
  {
   "cell_type": "markdown",
   "metadata": {},
   "source": [
    "### Consumer Data"
   ]
  },
  {
   "cell_type": "code",
   "execution_count": 218,
   "metadata": {},
   "outputs": [],
   "source": [
    "cust_combined = cust_tbl.join(cust_fp.join(cust_user_det, on='user_id', how='inner'), on='consumer_id', how='inner')"
   ]
  },
  {
   "cell_type": "code",
   "execution_count": 219,
   "metadata": {},
   "outputs": [],
   "source": [
    "# May have to add 0s to the start of 3-digit postcodes depending on the external dataset(s)\n",
    "\n",
    "# check for any null values, duplicates, or invalid entries"
   ]
  },
  {
   "cell_type": "markdown",
   "metadata": {},
   "source": [
    "### Merchant Data"
   ]
  },
  {
   "cell_type": "code",
   "execution_count": 220,
   "metadata": {},
   "outputs": [],
   "source": [
    "merch_combined = merch_tbl.join(merch_fp, on='merchant_abn', how='inner')"
   ]
  },
  {
   "cell_type": "code",
   "execution_count": null,
   "metadata": {},
   "outputs": [],
   "source": []
  },
  {
   "cell_type": "code",
   "execution_count": 222,
   "metadata": {},
   "outputs": [],
   "source": [
    "import re\n",
    "from pyspark.sql.functions import udf\n",
    "from pyspark.sql.types import StringType, FloatType, ArrayType\n",
    "\n",
    "# Have to extract features from tags (words, revenue band, take rate)\n",
    "# https://scikit-learn.org/stable/modules/generated/sklearn.feature_extraction.text.TfidfVectorizer.html#sklearn.feature_extraction.text.TfidfVectorizer)\n",
    "# https://scikit-learn.org/stable/modules/generated/sklearn.feature_extraction.text.CountVectorizer.html \n",
    "\n",
    "# Define a UDF to extract the sections within square and normal brackets\n",
    "def split_tags(input_tags):\n",
    "    sep_tags = re.findall(r'[\\[\\(\\{]([^\\[\\]\\(\\)\\{\\}]*)[\\]\\)\\}]', input_tags)\n",
    "    sep_tags_without_brackets = [re.sub(r'[\\[\\]\\(\\)\\{\\}]', '', tag) for tag in sep_tags]\n",
    "        \n",
    "    return sep_tags_without_brackets\n",
    "\n",
    "# Define a UDF to clean \"take rate\" numbers\n",
    "def clean_take_rate(input_rate):\n",
    "    match = re.search(r'take rate: ([\\d.]+)', input_rate)\n",
    "    if match:\n",
    "        return float(match.group(1))\n",
    "    return None\n",
    "\n",
    "# Register the UDFs\n",
    "split_tags_udf = udf(split_tags, ArrayType(StringType()))\n",
    "\n",
    "clean_take_rate_udf = udf(clean_take_rate, FloatType())\n",
    "\n",
    "# Apply the UDF to the DataFrame\n",
    "merch_combined = merch_combined.withColumn(\"sep_tags\", split_tags_udf(merch_combined[\"tags\"]))\n",
    "\n",
    "\n",
    "\n",
    "# Create separate columns for the other two tags\n",
    "merch_combined = merch_combined.withColumn(\"words\", merch_combined[\"sep_tags\"].getItem(0))\n",
    "merch_combined = merch_combined.withColumn(\"revenue_level\", merch_combined[\"sep_tags\"].getItem(1))\n",
    "merch_combined = merch_combined.withColumn(\"take_rate\", merch_combined[\"sep_tags\"].getItem(2))\n",
    "\n",
    "merch_combined = merch_combined.withColumn(\"take_rate\", clean_take_rate_udf(merch_combined [\"take_rate\"]))\n",
    "\n",
    "\n",
    "\n",
    "# check for any null values, duplicates, or invalid entries\n",
    "\n"
   ]
  },
  {
   "cell_type": "code",
   "execution_count": 225,
   "metadata": {},
   "outputs": [
    {
     "data": {
      "text/html": [
       "<table border='1'>\n",
       "<tr><th>merchant_abn</th><th>merchant_name</th><th>tags</th><th>order_datetime</th><th>merchant_fraud_probability_%</th><th>sep_tags</th><th>words</th><th>revenue_level</th><th>take_rate</th></tr>\n",
       "<tr><td>11149063370</td><td>Et Arcu Limited</td><td>([art dealers and...</td><td>2022-02-25</td><td>51.01538421455241</td><td>[art dealers and ...</td><td>art dealers and g...</td><td>b</td><td>4.84</td></tr>\n",
       "<tr><td>11149063370</td><td>Et Arcu Limited</td><td>([art dealers and...</td><td>2021-11-14</td><td>52.407803322764764</td><td>[art dealers and ...</td><td>art dealers and g...</td><td>b</td><td>4.84</td></tr>\n",
       "<tr><td>11149063370</td><td>Et Arcu Limited</td><td>([art dealers and...</td><td>2021-08-28</td><td>56.43761254995139</td><td>[art dealers and ...</td><td>art dealers and g...</td><td>b</td><td>4.84</td></tr>\n",
       "<tr><td>11470993597</td><td>Sed Associates</td><td>((watch, clock, a...</td><td>2021-09-28</td><td>63.37734364737917</td><td>[watch, clock, an...</td><td>watch, clock, and...</td><td>d</td><td>1.35</td></tr>\n",
       "<tr><td>11590404675</td><td>Arcu Sed PC</td><td>((antique shops -...</td><td>2021-12-21</td><td>29.607818240092094</td><td>[antique shops - ...</td><td>antique shops - s...</td><td>b</td><td>4.19</td></tr>\n",
       "<tr><td>14530561097</td><td>Duis At Inc.</td><td>[[jewelry, watch,...</td><td>2021-09-15</td><td>80.80054474543395</td><td>[jewelry, watch, ...</td><td>jewelry, watch, c...</td><td>c</td><td>1.69</td></tr>\n",
       "<tr><td>15043504837</td><td>Odio Incorporated</td><td>([jewelry, watch,...</td><td>2021-10-08</td><td>25.054391991473924</td><td>[jewelry, watch, ...</td><td>jewelry, watch, c...</td><td>b</td><td>4.62</td></tr>\n",
       "<tr><td>15043504837</td><td>Odio Incorporated</td><td>([jewelry, watch,...</td><td>2021-12-14</td><td>26.12523097610844</td><td>[jewelry, watch, ...</td><td>jewelry, watch, c...</td><td>b</td><td>4.62</td></tr>\n",
       "<tr><td>15043504837</td><td>Odio Incorporated</td><td>([jewelry, watch,...</td><td>2021-08-29</td><td>59.77648897297805</td><td>[jewelry, watch, ...</td><td>jewelry, watch, c...</td><td>b</td><td>4.62</td></tr>\n",
       "<tr><td>15157368385</td><td>Tempus Non Lacini...</td><td>[(artist supply a...</td><td>2021-12-13</td><td>64.2774131928303</td><td>[artist supply an...</td><td>artist supply and...</td><td>b</td><td>3.98</td></tr>\n",
       "<tr><td>18158387243</td><td>Nec Tellus Ltd</td><td>[[health and beau...</td><td>2021-11-29</td><td>28.956947892226466</td><td>[health and beaut...</td><td>health and beauty...</td><td>c</td><td>2.03</td></tr>\n",
       "<tr><td>18158387243</td><td>Nec Tellus Ltd</td><td>[[health and beau...</td><td>2021-11-26</td><td>29.102418916409913</td><td>[health and beaut...</td><td>health and beauty...</td><td>c</td><td>2.03</td></tr>\n",
       "<tr><td>18737319630</td><td>Ut Industries</td><td>((computers, comp...</td><td>2021-09-25</td><td>72.73069736562613</td><td>[computers, compu...</td><td>computers, comput...</td><td>a</td><td>5.7</td></tr>\n",
       "<tr><td>19492220327</td><td>Commodo Ipsum Ind...</td><td>([jewelry, watch,...</td><td>2021-11-03</td><td>24.872618445353506</td><td>[jewelry, watch, ...</td><td>jewelry, watch, C...</td><td>b</td><td>4.93</td></tr>\n",
       "<tr><td>19492220327</td><td>Commodo Ipsum Ind...</td><td>([jewelry, watch,...</td><td>2022-01-29</td><td>25.071151926838045</td><td>[jewelry, watch, ...</td><td>jewelry, watch, C...</td><td>b</td><td>4.93</td></tr>\n",
       "<tr><td>19492220327</td><td>Commodo Ipsum Ind...</td><td>([jewelry, watch,...</td><td>2021-10-08</td><td>25.50276371658429</td><td>[jewelry, watch, ...</td><td>jewelry, watch, C...</td><td>b</td><td>4.93</td></tr>\n",
       "<tr><td>19492220327</td><td>Commodo Ipsum Ind...</td><td>([jewelry, watch,...</td><td>2021-10-18</td><td>30.935658544112286</td><td>[jewelry, watch, ...</td><td>jewelry, watch, C...</td><td>b</td><td>4.93</td></tr>\n",
       "<tr><td>19492220327</td><td>Commodo Ipsum Ind...</td><td>([jewelry, watch,...</td><td>2021-11-18</td><td>32.193139919494016</td><td>[jewelry, watch, ...</td><td>jewelry, watch, C...</td><td>b</td><td>4.93</td></tr>\n",
       "<tr><td>19492220327</td><td>Commodo Ipsum Ind...</td><td>([jewelry, watch,...</td><td>2021-12-18</td><td>33.819672154331755</td><td>[jewelry, watch, ...</td><td>jewelry, watch, C...</td><td>b</td><td>4.93</td></tr>\n",
       "<tr><td>19492220327</td><td>Commodo Ipsum Ind...</td><td>([jewelry, watch,...</td><td>2021-12-22</td><td>38.867790051131095</td><td>[jewelry, watch, ...</td><td>jewelry, watch, C...</td><td>b</td><td>4.93</td></tr>\n",
       "</table>\n",
       "only showing top 20 rows\n"
      ],
      "text/plain": [
       "DataFrame[merchant_abn: bigint, merchant_name: string, tags: string, order_datetime: date, merchant_fraud_probability_%: double, sep_tags: array<string>, words: string, revenue_level: string, take_rate: float]"
      ]
     },
     "execution_count": 225,
     "metadata": {},
     "output_type": "execute_result"
    }
   ],
   "source": [
    "merch_combined"
   ]
  },
  {
   "cell_type": "markdown",
   "metadata": {},
   "source": [
    "### Transactions"
   ]
  },
  {
   "cell_type": "code",
   "execution_count": null,
   "metadata": {},
   "outputs": [
    {
     "name": "stdout",
     "output_type": "stream",
     "text": [
      "root\n",
      " |-- user_id: long (nullable = true)\n",
      " |-- merchant_abn: long (nullable = true)\n",
      " |-- dollar_value: double (nullable = true)\n",
      " |-- order_datetime: date (nullable = true)\n",
      "\n"
     ]
    }
   ],
   "source": [
    "\n",
    "\n",
    "transactions_21_02_21_08 = transactions_21_02_21_08.drop('order_id')\n",
    "\n",
    "transactions_21_08_22_02 = transactions_21_08_22_02.drop('order_id')\n",
    "\n",
    "transactions_22_02_22_08 = transactions_22_02_22_08.drop('order_id')\n",
    "\n",
    "transactions_21_02_21_08.printSchema()"
   ]
  },
  {
   "cell_type": "markdown",
   "metadata": {},
   "source": [
    "### External Data"
   ]
  },
  {
   "cell_type": "code",
   "execution_count": null,
   "metadata": {},
   "outputs": [],
   "source": []
  }
 ],
 "metadata": {
  "kernelspec": {
   "display_name": "Python 3",
   "language": "python",
   "name": "python3"
  },
  "language_info": {
   "codemirror_mode": {
    "name": "ipython",
    "version": 3
   },
   "file_extension": ".py",
   "mimetype": "text/x-python",
   "name": "python",
   "nbconvert_exporter": "python",
   "pygments_lexer": "ipython3",
   "version": "3.10.12"
  },
  "orig_nbformat": 4
 },
 "nbformat": 4,
 "nbformat_minor": 2
}
