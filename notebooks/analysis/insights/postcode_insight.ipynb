{
 "cells": [
  {
   "cell_type": "markdown",
   "metadata": {},
   "source": [
    "# Aggregating Features Regarding Orders by Merchants\n",
    "## Author: Dulan Wijeratne 1181873"
   ]
  },
  {
   "cell_type": "markdown",
   "metadata": {},
   "source": [
    "In this notebook we will aggregate the features regarding postcodes by Merchant, as well as creating new features related to postcode.\n",
    "To start we will create a Spark session and import the orders dataset that contains all the features that relate to orders."
   ]
  },
  {
   "cell_type": "code",
   "execution_count": null,
   "metadata": {},
   "outputs": [],
   "source": [
    "from pyspark.sql import SparkSession, functions as f"
   ]
  },
  {
   "cell_type": "code",
   "execution_count": null,
   "metadata": {},
   "outputs": [],
   "source": [
    "spark = (\n",
    "    SparkSession.builder.appName(\"feature_engineering\")\n",
    "    .config(\"spark.sql.repl.eagerEval.enabled\", True) \n",
    "    .config(\"spark.sql.parquet.cacheMetadata\", \"true\")\n",
    "    .config(\"spark.sql.session.timeZone\", \"Etc/UTC\")\n",
    "    .config(\"spark.sql.session.timeZone\", \"Etc/UTC\")\n",
    "    .config('spark.driver.memory', '3g')   \n",
    "    .config('spark.executor.memory', '4g')  \n",
    "    .config('spark.executor.instances', '2')  \n",
    "    .config('spark.executor.cores', '2')\n",
    "    .getOrCreate()\n",
    ")"
   ]
  },
  {
   "cell_type": "code",
   "execution_count": null,
   "metadata": {},
   "outputs": [],
   "source": [
    "postcode = spark.read.parquet(\"../../../data/insights/pre_insights/postcode.parquet\")"
   ]
  },
  {
   "cell_type": "code",
   "execution_count": null,
   "metadata": {},
   "outputs": [],
   "source": [
    "postcode.columns"
   ]
  },
  {
   "cell_type": "code",
   "execution_count": null,
   "metadata": {},
   "outputs": [],
   "source": [
    "postcode.show()"
   ]
  },
  {
   "cell_type": "code",
   "execution_count": null,
   "metadata": {},
   "outputs": [],
   "source": [
    "postcode_agg = postcode.groupBy(\"merchant_abn\").agg\\\n",
    "                    (f.first(\"merchant_name\").alias(\"name\"),\n",
    "                     f.countDistinct(\"consumer_postcode\").alias(\"number_of_postcodes\"),\n",
    "                     f.avg(\"total_weekly_personal_income\").alias(\"avg_total_weekly_personal_income\"),\n",
    "                     f.avg(\"total_weekly_fam_income\").alias(\"avg_total_weekly_fam_income\"),\n",
    "                     f.avg(\"median_age\").alias(\"avg_median_age\"),\n",
    "                     f.avg(\"avg_household_size\").alias(\"avg_household_size\"))"
   ]
  },
  {
   "cell_type": "markdown",
   "metadata": {},
   "source": [
    "### Feature Engineering"
   ]
  },
  {
   "cell_type": "markdown",
   "metadata": {},
   "source": [
    "1. Finding the reach of merchant\n",
    "For this analysis we define reach as the total number of a postcodes that a merchant serves divided by the total number of postcodes."
   ]
  },
  {
   "cell_type": "code",
   "execution_count": null,
   "metadata": {},
   "outputs": [],
   "source": [
    "total_number_postcodes = postcode.select(f.col(\"consumer_postcode\")).distinct().count()\n",
    "postcode_agg = postcode_agg.withColumn(\"postcode_reach\", postcode_agg.number_of_postcodes/total_number_postcodes)"
   ]
  },
  {
   "cell_type": "markdown",
   "metadata": {},
   "source": [
    "2. Finding the average number of consumers that a merchant serves per postcode."
   ]
  },
  {
   "cell_type": "code",
   "execution_count": null,
   "metadata": {},
   "outputs": [],
   "source": [
    "consumer_id_count_per_postcode = postcode.groupBy(\"merchant_abn\",\"consumer_postcode\").agg(f.count(\"consumer_id\").alias(\"number_of_consumers\"))\n",
    "avg_num_of_consumers_per_postcode = consumer_id_count_per_postcode.groupBy(\"merchant_abn\").agg(f.avg(\"number_of_consumers\").alias(\"avg_num_of_consumers_per_postcode\"))"
   ]
  },
  {
   "cell_type": "markdown",
   "metadata": {},
   "source": [
    "### Join\n",
    "Now we will join the created features to the aggregated dataset."
   ]
  },
  {
   "cell_type": "code",
   "execution_count": null,
   "metadata": {},
   "outputs": [],
   "source": [
    "postcode_agg = postcode_agg.join(avg_num_of_consumers_per_postcode, on = \"merchant_abn\", how = \"inner\")"
   ]
  },
  {
   "cell_type": "code",
   "execution_count": null,
   "metadata": {},
   "outputs": [],
   "source": [
    "postcode_agg.orderBy(f.col(\"avg_num_of_consumers_per_postcode\").desc()).show(truncate = False)"
   ]
  },
  {
   "cell_type": "markdown",
   "metadata": {},
   "source": [
    "### Saving the Data"
   ]
  },
  {
   "cell_type": "code",
   "execution_count": null,
   "metadata": {},
   "outputs": [],
   "source": [
    "postcode_agg.write.mode(\"overwrite\").parquet(\"../../../data/insights/agg_insight_data/postcode_agg.parquet\")"
   ]
  },
  {
   "cell_type": "code",
   "execution_count": null,
   "metadata": {},
   "outputs": [],
   "source": [
    "spark.stop()"
   ]
  },
  {
   "cell_type": "markdown",
   "metadata": {},
   "source": [
    "### Summary \n",
    "- Data was aggregated by merchant abn:\n",
    "    1. Took the first value for merchant name as the merchant's name, as merchant name is unique.\n",
    "\n",
    "    2. Count the distinct number of consumer postcodes to find the number of postcodes the merchant served. \n",
    "\n",
    "    3. Took the average of total weekly personal income.\n",
    "    \n",
    "    4. Took the average of total weekly family income.\n",
    "\n",
    "    5. Took the average median age.\n",
    "\n",
    "    6. Took the average household size.\n",
    "    \n",
    "\n",
    "- We created the following features:\n",
    "    1. The reach of merchant\n",
    "\n",
    "    2. The average number of consumers that a merchant serves per postcode..\n",
    "\n",
    "- Aggregated data was saved to a checkpoint directory.\n"
   ]
  }
 ],
 "metadata": {
  "kernelspec": {
   "display_name": "Python 3",
   "language": "python",
   "name": "python3"
  },
  "language_info": {
   "codemirror_mode": {
    "name": "ipython",
    "version": 3
   },
   "file_extension": ".py",
   "mimetype": "text/x-python",
   "name": "python",
   "nbconvert_exporter": "python",
   "pygments_lexer": "ipython3",
   "version": "3.10.12"
  },
  "orig_nbformat": 4
 },
 "nbformat": 4,
 "nbformat_minor": 2
}
