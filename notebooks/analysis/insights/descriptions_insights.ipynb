{
 "cells": [
  {
   "cell_type": "code",
   "execution_count": 1,
   "metadata": {},
   "outputs": [],
   "source": [
    "from pyspark.sql import SparkSession, functions as f"
   ]
  },
  {
   "cell_type": "code",
   "execution_count": 2,
   "metadata": {},
   "outputs": [
    {
     "name": "stderr",
     "output_type": "stream",
     "text": [
      "your 131072x1 screen size is bogus. expect trouble\n",
      "23/09/25 15:34:48 WARN Utils: Your hostname, DESKTOP-SATV84A resolves to a loopback address: 127.0.1.1; using 172.26.254.29 instead (on interface eth0)\n",
      "23/09/25 15:34:48 WARN Utils: Set SPARK_LOCAL_IP if you need to bind to another address\n",
      "Setting default log level to \"WARN\".\n",
      "To adjust logging level use sc.setLogLevel(newLevel). For SparkR, use setLogLevel(newLevel).\n",
      "23/09/25 15:34:49 WARN NativeCodeLoader: Unable to load native-hadoop library for your platform... using builtin-java classes where applicable\n"
     ]
    }
   ],
   "source": [
    "spark = (\n",
    "    SparkSession.builder.appName(\"Preprocessing_Yellow\")\n",
    "    .config(\"spark.sql.repl.eagerEval.enabled\", True) \n",
    "    .config(\"spark.sql.parquet.cacheMetadata\", \"true\")\n",
    "    .config(\"spark.sql.session.timeZone\", \"Etc/UTC\")\n",
    "    .config(\"spark.sql.session.timeZone\", \"Etc/UTC\")\n",
    "    .config('spark.driver.memory', '3g')   \n",
    "    .config('spark.executor.memory', '4g')  \n",
    "    .config('spark.executor.instances', '2')  \n",
    "    .config('spark.executor.cores', '2')\n",
    "    .getOrCreate()\n",
    ") "
   ]
  },
  {
   "cell_type": "code",
   "execution_count": 3,
   "metadata": {},
   "outputs": [],
   "source": [
    "descriptions = spark.read.parquet(\"../../../data/insights/pre_insights/descriptions.parquet/\")"
   ]
  },
  {
   "cell_type": "code",
   "execution_count": 4,
   "metadata": {},
   "outputs": [
    {
     "name": "stderr",
     "output_type": "stream",
     "text": [
      "[Stage 1:>                                                        (0 + 12) / 13]\r"
     ]
    },
    {
     "name": "stdout",
     "output_type": "stream",
     "text": [
      "0\n"
     ]
    },
    {
     "name": "stderr",
     "output_type": "stream",
     "text": [
      "                                                                                \r"
     ]
    }
   ],
   "source": [
    "tags_count = descriptions.groupBy(\"merchant_abn\").agg(f.countDistinct(\"merchant_description\").alias(\"description_count\"))\n",
    "print(tags_count.filter(tags_count.description_count > 1).count())"
   ]
  },
  {
   "cell_type": "code",
   "execution_count": 5,
   "metadata": {},
   "outputs": [],
   "source": [
    "descriptions_agg = descriptions.groupBy(\"merchant_abn\").\\\n",
    "            agg(f.first(\"merchant_description\").alias(\"merchant_description\"))"
   ]
  },
  {
   "cell_type": "code",
   "execution_count": 6,
   "metadata": {},
   "outputs": [],
   "source": [
    "descriptions_count = descriptions_agg.groupBy(\"merchant_description\").agg(f.count(\"merchant_abn\").alias(\"number_of_merchants_with_description\"))"
   ]
  },
  {
   "cell_type": "code",
   "execution_count": 7,
   "metadata": {},
   "outputs": [
    {
     "name": "stderr",
     "output_type": "stream",
     "text": [
      "                                                                                \r"
     ]
    },
    {
     "data": {
      "text/html": [
       "<table border='1'>\n",
       "<tr><th>merchant_description</th><th>number_of_merchants_with_description</th></tr>\n",
       "<tr><td>jewelry, watch, c...</td><td>91</td></tr>\n",
       "<tr><td>art dealers and g...</td><td>112</td></tr>\n",
       "<tr><td>telecom</td><td>125</td></tr>\n",
       "<tr><td>antique shops - s...</td><td>129</td></tr>\n",
       "<tr><td>equipment, tool, ...</td><td>134</td></tr>\n",
       "<tr><td>hobby, toy and ga...</td><td>142</td></tr>\n",
       "<tr><td>opticians, optica...</td><td>151</td></tr>\n",
       "<tr><td>motor vehicle sup...</td><td>151</td></tr>\n",
       "<tr><td>lawn and garden s...</td><td>153</td></tr>\n",
       "<tr><td>stationery, offic...</td><td>161</td></tr>\n",
       "<tr><td>books, periodical...</td><td>164</td></tr>\n",
       "<tr><td>health and beauty...</td><td>164</td></tr>\n",
       "<tr><td>music shops - mus...</td><td>167</td></tr>\n",
       "<tr><td>watch, clock, and...</td><td>170</td></tr>\n",
       "<tr><td>bicycle shops - s...</td><td>170</td></tr>\n",
       "<tr><td>cable, satellite,...</td><td>175</td></tr>\n",
       "<tr><td>tent and awning s...</td><td>178</td></tr>\n",
       "<tr><td>florists supplies...</td><td>180</td></tr>\n",
       "<tr><td>computers, comput...</td><td>181</td></tr>\n",
       "<tr><td>gift, card, novel...</td><td>182</td></tr>\n",
       "</table>\n",
       "only showing top 20 rows\n"
      ],
      "text/plain": [
       "+--------------------+------------------------------------+\n",
       "|merchant_description|number_of_merchants_with_description|\n",
       "+--------------------+------------------------------------+\n",
       "|jewelry, watch, c...|                                  91|\n",
       "|art dealers and g...|                                 112|\n",
       "|             telecom|                                 125|\n",
       "|antique shops - s...|                                 129|\n",
       "|equipment, tool, ...|                                 134|\n",
       "|hobby, toy and ga...|                                 142|\n",
       "|opticians, optica...|                                 151|\n",
       "|motor vehicle sup...|                                 151|\n",
       "|lawn and garden s...|                                 153|\n",
       "|stationery, offic...|                                 161|\n",
       "|books, periodical...|                                 164|\n",
       "|health and beauty...|                                 164|\n",
       "|music shops - mus...|                                 167|\n",
       "|watch, clock, and...|                                 170|\n",
       "|bicycle shops - s...|                                 170|\n",
       "|cable, satellite,...|                                 175|\n",
       "|tent and awning s...|                                 178|\n",
       "|florists supplies...|                                 180|\n",
       "|computers, comput...|                                 181|\n",
       "|gift, card, novel...|                                 182|\n",
       "+--------------------+------------------------------------+\n",
       "only showing top 20 rows"
      ]
     },
     "execution_count": 7,
     "metadata": {},
     "output_type": "execute_result"
    }
   ],
   "source": [
    "descriptions_count.orderBy(\"number_of_merchants_with_description\")"
   ]
  },
  {
   "cell_type": "code",
   "execution_count": 8,
   "metadata": {},
   "outputs": [],
   "source": [
    "tech_and_electronics = [\"computer\", \"digital\", \"television\", \"telecom\"]\n",
    "retail_and_novelty = [\"newspaper\", \"novelty\", \"hobby\", \"shoe\", \"instruments\", \"bicycle\", \"craft\",\"office\"]\n",
    "garden_and_furnishings = [\"florists\", \"furniture\", \"garden\", \"tent\"]\n",
    "antiques_and_jewellery = [\"galleries\", \"antique\", \"jewelry\"]\n",
    "specialized_services = [\"health\", \"motor\", \"opticians\"]"
   ]
  },
  {
   "cell_type": "code",
   "execution_count": 9,
   "metadata": {},
   "outputs": [],
   "source": [
    "def segment(description):\n",
    "    for segment, keywords in [(\"tech_and_electronics\", tech_and_electronics),\n",
    "                               (\"retail_and_novelty\", retail_and_novelty),\n",
    "                               (\"garden_and_furnishings\", garden_and_furnishings),\n",
    "                               (\"antiques_and_jewellery\", antiques_and_jewellery),\n",
    "                               (\"specialized_services\", specialized_services)]:\n",
    "        if any(keyword in description for keyword in keywords):\n",
    "            return segment\n",
    "    return \"other\""
   ]
  },
  {
   "cell_type": "code",
   "execution_count": 10,
   "metadata": {},
   "outputs": [],
   "source": [
    "from pyspark.sql.types import StringType\n",
    "segment_udf = f.udf(segment, StringType())"
   ]
  },
  {
   "cell_type": "code",
   "execution_count": 11,
   "metadata": {},
   "outputs": [],
   "source": [
    "descriptions_agg = descriptions_agg.withColumn(\"segment\", segment_udf(descriptions_agg.merchant_description))"
   ]
  },
  {
   "cell_type": "code",
   "execution_count": 12,
   "metadata": {},
   "outputs": [
    {
     "name": "stderr",
     "output_type": "stream",
     "text": [
      "                                                                                \r"
     ]
    }
   ],
   "source": [
    "descriptions_agg.write.mode(\"overwrite\").parquet(\"../../../data/insights/agg_insight_data/descriptions_agg.parquet\")"
   ]
  },
  {
   "cell_type": "code",
   "execution_count": 13,
   "metadata": {},
   "outputs": [
    {
     "name": "stderr",
     "output_type": "stream",
     "text": [
      "23/09/25 15:35:03 WARN Executor: Issue communicating with driver in heartbeater\n",
      "org.apache.spark.SparkException: Exception thrown in awaitResult: \n",
      "\tat org.apache.spark.util.ThreadUtils$.awaitResult(ThreadUtils.scala:322)\n",
      "\tat org.apache.spark.rpc.RpcTimeout.awaitResult(RpcTimeout.scala:75)\n",
      "\tat org.apache.spark.rpc.RpcEndpointRef.askSync(RpcEndpointRef.scala:101)\n",
      "\tat org.apache.spark.executor.Executor.reportHeartBeat(Executor.scala:1107)\n",
      "\tat org.apache.spark.executor.Executor.$anonfun$heartbeater$1(Executor.scala:244)\n",
      "\tat scala.runtime.java8.JFunction0$mcV$sp.apply(JFunction0$mcV$sp.java:23)\n",
      "\tat org.apache.spark.util.Utils$.logUncaughtExceptions(Utils.scala:2088)\n",
      "\tat org.apache.spark.Heartbeater$$anon$1.run(Heartbeater.scala:46)\n",
      "\tat java.util.concurrent.Executors$RunnableAdapter.call(Executors.java:511)\n",
      "\tat java.util.concurrent.FutureTask.runAndReset(FutureTask.java:308)\n",
      "\tat java.util.concurrent.ScheduledThreadPoolExecutor$ScheduledFutureTask.access$301(ScheduledThreadPoolExecutor.java:180)\n",
      "\tat java.util.concurrent.ScheduledThreadPoolExecutor$ScheduledFutureTask.run(ScheduledThreadPoolExecutor.java:294)\n",
      "\tat java.util.concurrent.ThreadPoolExecutor.runWorker(ThreadPoolExecutor.java:1149)\n",
      "\tat java.util.concurrent.ThreadPoolExecutor$Worker.run(ThreadPoolExecutor.java:624)\n",
      "\tat java.lang.Thread.run(Thread.java:750)\n",
      "Caused by: org.apache.spark.SparkException: Could not find HeartbeatReceiver.\n",
      "\tat org.apache.spark.rpc.netty.Dispatcher.postMessage(Dispatcher.scala:178)\n",
      "\tat org.apache.spark.rpc.netty.Dispatcher.postLocalMessage(Dispatcher.scala:144)\n",
      "\tat org.apache.spark.rpc.netty.NettyRpcEnv.askAbortable(NettyRpcEnv.scala:242)\n",
      "\tat org.apache.spark.rpc.netty.NettyRpcEndpointRef.askAbortable(NettyRpcEnv.scala:554)\n",
      "\tat org.apache.spark.rpc.netty.NettyRpcEndpointRef.ask(NettyRpcEnv.scala:558)\n",
      "\tat org.apache.spark.rpc.RpcEndpointRef.askSync(RpcEndpointRef.scala:100)\n",
      "\t... 12 more\n"
     ]
    }
   ],
   "source": [
    "spark.stop()"
   ]
  },
  {
   "cell_type": "markdown",
   "metadata": {},
   "source": [
    "### Insights\n",
    "- There 25 different descriptions for all merchants"
   ]
  }
 ],
 "metadata": {
  "kernelspec": {
   "display_name": "Python 3",
   "language": "python",
   "name": "python3"
  },
  "language_info": {
   "codemirror_mode": {
    "name": "ipython",
    "version": 3
   },
   "file_extension": ".py",
   "mimetype": "text/x-python",
   "name": "python",
   "nbconvert_exporter": "python",
   "pygments_lexer": "ipython3",
   "version": "3.8.10"
  },
  "orig_nbformat": 4
 },
 "nbformat": 4,
 "nbformat_minor": 2
}
