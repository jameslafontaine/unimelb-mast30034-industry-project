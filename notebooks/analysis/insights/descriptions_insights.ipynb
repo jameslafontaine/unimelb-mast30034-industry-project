{
 "cells": [
  {
   "cell_type": "code",
   "execution_count": 1,
   "metadata": {},
   "outputs": [],
   "source": [
    "from pyspark.sql import SparkSession, functions as f"
   ]
  },
  {
   "cell_type": "code",
   "execution_count": 2,
   "metadata": {},
   "outputs": [
    {
     "name": "stderr",
     "output_type": "stream",
     "text": [
      "your 131072x1 screen size is bogus. expect trouble\n",
      "23/09/16 14:08:31 WARN Utils: Your hostname, DulanComputer resolves to a loopback address: 127.0.1.1; using 172.30.15.25 instead (on interface eth0)\n",
      "23/09/16 14:08:31 WARN Utils: Set SPARK_LOCAL_IP if you need to bind to another address\n",
      "Setting default log level to \"WARN\".\n",
      "To adjust logging level use sc.setLogLevel(newLevel). For SparkR, use setLogLevel(newLevel).\n",
      "23/09/16 14:08:33 WARN NativeCodeLoader: Unable to load native-hadoop library for your platform... using builtin-java classes where applicable\n"
     ]
    }
   ],
   "source": [
    "spark = (\n",
    "    SparkSession.builder.appName(\"Preprocessing_Yellow\")\n",
    "    .config(\"spark.sql.repl.eagerEval.enabled\", True) \n",
    "    .config(\"spark.sql.parquet.cacheMetadata\", \"true\")\n",
    "    .config(\"spark.sql.session.timeZone\", \"Etc/UTC\")\n",
    "    .config(\"spark.sql.session.timeZone\", \"Etc/UTC\")\n",
    "    .config('spark.driver.memory', '3g')   \n",
    "    .config('spark.executor.memory', '4g')  \n",
    "    .config('spark.executor.instances', '2')  \n",
    "    .config('spark.executor.cores', '2')\n",
    "    .getOrCreate()\n",
    ") "
   ]
  },
  {
   "cell_type": "code",
   "execution_count": 3,
   "metadata": {},
   "outputs": [
    {
     "name": "stderr",
     "output_type": "stream",
     "text": [
      "                                                                                \r"
     ]
    }
   ],
   "source": [
    "descriptions = spark.read.parquet(\"../../../data/insights/pre_insights/descriptions.parquet/\")"
   ]
  },
  {
   "cell_type": "code",
   "execution_count": null,
   "metadata": {},
   "outputs": [],
   "source": [
    "tags_count = descriptions.groupBy(\"merchant_abn\").agg(f.countDistinct(\"merchant_description\").alias(\"description_count\"))\n",
    "print(tags_count.filter(tags_count.description_count > 1).count())"
   ]
  },
  {
   "cell_type": "code",
   "execution_count": 4,
   "metadata": {},
   "outputs": [],
   "source": [
    "descriptions_agg = descriptions.groupBy(\"merchant_abn\").\\\n",
    "            agg(f.first(\"merchant_description\").alias(\"merchant_description\"))"
   ]
  },
  {
   "cell_type": "code",
   "execution_count": null,
   "metadata": {},
   "outputs": [],
   "source": [
    "descriptions_count = descriptions_agg.groupBy(\"merchant_description\").agg(f.count(\"merchant_abn\").alias(\"number_of_merchants_with_description\"))"
   ]
  },
  {
   "cell_type": "code",
   "execution_count": null,
   "metadata": {},
   "outputs": [],
   "source": [
    "descriptions_count.orderBy(\"number_of_merchants_with_description\")"
   ]
  },
  {
   "cell_type": "code",
   "execution_count": 10,
   "metadata": {},
   "outputs": [],
   "source": [
    "tech_and_electronics = [\"computer\", \"digital\", \"television\", \"telecom\"]\n",
    "retail_and_novelty = [\"newspaper\", \"novelty\", \"hobby\", \"shoe\", \"instruments\", \"bicycle\", \"craft\",\"office\"]\n",
    "garden_and_furnishings = [\"florists\", \"furniture\", \"garden\", \"tent\"]\n",
    "antiques_and_jewellery = [\"galleries\", \"antique\", \"jewelry\"]\n",
    "specialized_services = [\"health\", \"motor\", \"opticians\"]"
   ]
  },
  {
   "cell_type": "code",
   "execution_count": 16,
   "metadata": {},
   "outputs": [],
   "source": [
    "def segment(description):\n",
    "    for segment, keywords in [(\"tech_and_electronics\", tech_and_electronics),\n",
    "                               (\"retail_and_novelty\", retail_and_novelty),\n",
    "                               (\"garden_and_furnishings\", garden_and_furnishings),\n",
    "                               (\"antiques_and_jewellery\", antiques_and_jewellery),\n",
    "                               (\"specialized_services\", specialized_services)]:\n",
    "        if any(keyword in description for keyword in keywords):\n",
    "            return segment\n",
    "    return \"other\""
   ]
  },
  {
   "cell_type": "code",
   "execution_count": 17,
   "metadata": {},
   "outputs": [],
   "source": [
    "from pyspark.sql.types import StringType\n",
    "segment_udf = f.udf(segment, StringType())"
   ]
  },
  {
   "cell_type": "code",
   "execution_count": 18,
   "metadata": {},
   "outputs": [],
   "source": [
    "descriptions_agg = descriptions_agg.withColumn(\"segment\", segment_udf(descriptions_agg.merchant_description))"
   ]
  },
  {
   "cell_type": "code",
   "execution_count": null,
   "metadata": {},
   "outputs": [],
   "source": [
    "descriptions_agg.write.mode(\"overwrite\").parquet(\"../../../data/insights/agg_insight_data/descriptions_agg.parquet\")"
   ]
  },
  {
   "cell_type": "code",
   "execution_count": null,
   "metadata": {},
   "outputs": [],
   "source": [
    "spark.stop()"
   ]
  },
  {
   "cell_type": "markdown",
   "metadata": {},
   "source": [
    "### Insights\n",
    "- There 25 different descriptions for all merchants"
   ]
  }
 ],
 "metadata": {
  "kernelspec": {
   "display_name": "Python 3",
   "language": "python",
   "name": "python3"
  },
  "language_info": {
   "codemirror_mode": {
    "name": "ipython",
    "version": 3
   },
   "file_extension": ".py",
   "mimetype": "text/x-python",
   "name": "python",
   "nbconvert_exporter": "python",
   "pygments_lexer": "ipython3",
   "version": "3.10.12"
  },
  "orig_nbformat": 4
 },
 "nbformat": 4,
 "nbformat_minor": 2
}
