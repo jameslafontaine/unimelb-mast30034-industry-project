{
 "cells": [
  {
   "cell_type": "markdown",
   "metadata": {},
   "source": [
    "# Aggregating Features Regarding Orders by Merchants\n",
    "## Author: Dulan Wijeratne 1181873"
   ]
  },
  {
   "cell_type": "markdown",
   "metadata": {},
   "source": [
    "In this notebook we will aggregate the features regarding postcodes by Merchant, as well as creating new features related to postcode.\n",
    "To start we will create a Spark session and import the orders dataset that contains all the features that relate to orders."
   ]
  },
  {
   "cell_type": "code",
   "execution_count": 1,
   "metadata": {},
   "outputs": [],
   "source": [
    "from pyspark.sql import SparkSession, functions as f"
   ]
  },
  {
   "cell_type": "code",
   "execution_count": 2,
   "metadata": {},
   "outputs": [
    {
     "name": "stderr",
     "output_type": "stream",
     "text": [
      "your 131072x1 screen size is bogus. expect trouble\n",
      "23/09/29 22:19:17 WARN Utils: Your hostname, LAPTOP-RELH58H1 resolves to a loopback address: 127.0.1.1; using 172.19.22.4 instead (on interface eth0)\n",
      "23/09/29 22:19:17 WARN Utils: Set SPARK_LOCAL_IP if you need to bind to another address\n",
      "Setting default log level to \"WARN\".\n",
      "To adjust logging level use sc.setLogLevel(newLevel). For SparkR, use setLogLevel(newLevel).\n",
      "23/09/29 22:19:20 WARN NativeCodeLoader: Unable to load native-hadoop library for your platform... using builtin-java classes where applicable\n"
     ]
    }
   ],
   "source": [
    "spark = (\n",
    "    SparkSession.builder.appName(\"feature_engineering\")\n",
    "    .config(\"spark.sql.repl.eagerEval.enabled\", True) \n",
    "    .config(\"spark.sql.parquet.cacheMetadata\", \"true\")\n",
    "    .config(\"spark.sql.session.timeZone\", \"Etc/UTC\")\n",
    "    .config(\"spark.sql.session.timeZone\", \"Etc/UTC\")\n",
    "    .config('spark.driver.memory', '3g')   \n",
    "    .config('spark.executor.memory', '4g')  \n",
    "    .config('spark.executor.instances', '2')  \n",
    "    .config('spark.executor.cores', '2')\n",
    "    .getOrCreate()\n",
    ")"
   ]
  },
  {
   "cell_type": "code",
   "execution_count": 3,
   "metadata": {},
   "outputs": [
    {
     "name": "stderr",
     "output_type": "stream",
     "text": [
      "                                                                                \r"
     ]
    }
   ],
   "source": [
    "postcode = spark.read.parquet(\"../../../data/insights/pre_insights/postcode.parquet\")"
   ]
  },
  {
   "cell_type": "code",
   "execution_count": 4,
   "metadata": {},
   "outputs": [
    {
     "data": {
      "text/plain": [
       "['merchant_abn',\n",
       " 'consumer_postcode',\n",
       " 'consumer_id',\n",
       " 'merchant_name',\n",
       " 'estimated_population',\n",
       " 'median_age',\n",
       " 'median_mortgage_monthly',\n",
       " 'total_weekly_personal_income',\n",
       " 'median_weekly_rent',\n",
       " 'total_weekly_fam_income',\n",
       " 'avg_num_persons_per_bedroom',\n",
       " 'total_hhd_income_weekly',\n",
       " 'avg_household_size']"
      ]
     },
     "execution_count": 4,
     "metadata": {},
     "output_type": "execute_result"
    }
   ],
   "source": [
    "postcode.columns"
   ]
  },
  {
   "cell_type": "code",
   "execution_count": 5,
   "metadata": {},
   "outputs": [
    {
     "name": "stderr",
     "output_type": "stream",
     "text": [
      "                                                                                \r"
     ]
    },
    {
     "name": "stdout",
     "output_type": "stream",
     "text": [
      "+------------+-----------------+-----------+--------------------+--------------------+----------+-----------------------+----------------------------+------------------+-----------------------+---------------------------+-----------------------+------------------+\n",
      "|merchant_abn|consumer_postcode|consumer_id|       merchant_name|estimated_population|median_age|median_mortgage_monthly|total_weekly_personal_income|median_weekly_rent|total_weekly_fam_income|avg_num_persons_per_bedroom|total_hhd_income_weekly|avg_household_size|\n",
      "+------------+-----------------+-----------+--------------------+--------------------+----------+-----------------------+----------------------------+------------------+-----------------------+---------------------------+-----------------------+------------------+\n",
      "| 20985347699|             3332|    1343547|    Semper Tellus PC|              8074.0|      40.0|                 1733.0|                       780.0|             308.0|                 2103.0|                        0.8|                 1898.0|               2.9|\n",
      "| 45629217853|             3332|    1343547|    Lacus Consulting|              8074.0|      40.0|                 1733.0|                       780.0|             308.0|                 2103.0|                        0.8|                 1898.0|               2.9|\n",
      "| 71528203369|             3332|    1343547|Ipsum Primis Asso...|              8074.0|      40.0|                 1733.0|                       780.0|             308.0|                 2103.0|                        0.8|                 1898.0|               2.9|\n",
      "| 75900778714|             3332|    1343547|Laoreet Posuere F...|              8074.0|      40.0|                 1733.0|                       780.0|             308.0|                 2103.0|                        0.8|                 1898.0|               2.9|\n",
      "| 66626020312|             3332|    1343547|In Magna Incorpor...|              8074.0|      40.0|                 1733.0|                       780.0|             308.0|                 2103.0|                        0.8|                 1898.0|               2.9|\n",
      "| 17324645993|             3332|    1343547|Eget Metus In Cor...|              8074.0|      40.0|                 1733.0|                       780.0|             308.0|                 2103.0|                        0.8|                 1898.0|               2.9|\n",
      "| 13285958344|             3332|    1343547|Purus Gravida Sag...|              8074.0|      40.0|                 1733.0|                       780.0|             308.0|                 2103.0|                        0.8|                 1898.0|               2.9|\n",
      "| 99467302626|             3332|    1343547| Ac Ipsum Foundation|              8074.0|      40.0|                 1733.0|                       780.0|             308.0|                 2103.0|                        0.8|                 1898.0|               2.9|\n",
      "| 41315101616|             3332|    1343547|Malesuada Fames F...|              8074.0|      40.0|                 1733.0|                       780.0|             308.0|                 2103.0|                        0.8|                 1898.0|               2.9|\n",
      "| 32361057556|             3332|    1343547|Orci In Consequat...|              8074.0|      40.0|                 1733.0|                       780.0|             308.0|                 2103.0|                        0.8|                 1898.0|               2.9|\n",
      "| 26008308191|             3332|    1343547|   Nulla Aliquet LLP|              8074.0|      40.0|                 1733.0|                       780.0|             308.0|                 2103.0|                        0.8|                 1898.0|               2.9|\n",
      "| 24852446429|             3332|    1343547|      Erat Vitae LLP|              8074.0|      40.0|                 1733.0|                       780.0|             308.0|                 2103.0|                        0.8|                 1898.0|               2.9|\n",
      "| 90994364089|             3332|    1343547|  Rhoncus Proin Inc.|              8074.0|      40.0|                 1733.0|                       780.0|             308.0|                 2103.0|                        0.8|                 1898.0|               2.9|\n",
      "| 31585975447|             3332|    1343547|Dolor Dapibus Gra...|              8074.0|      40.0|                 1733.0|                       780.0|             308.0|                 2103.0|                        0.8|                 1898.0|               2.9|\n",
      "| 27326652377|             3332|    1343547|Tellus Aenean Cor...|              8074.0|      40.0|                 1733.0|                       780.0|             308.0|                 2103.0|                        0.8|                 1898.0|               2.9|\n",
      "| 96680767841|             3332|    1343547|      Ornare Limited|              8074.0|      40.0|                 1733.0|                       780.0|             308.0|                 2103.0|                        0.8|                 1898.0|               2.9|\n",
      "| 30122382323|             3332|    1343547|       Ipsum Company|              8074.0|      40.0|                 1733.0|                       780.0|             308.0|                 2103.0|                        0.8|                 1898.0|               2.9|\n",
      "| 89726005175|             3332|    1343547| Est Nunc Consulting|              8074.0|      40.0|                 1733.0|                       780.0|             308.0|                 2103.0|                        0.8|                 1898.0|               2.9|\n",
      "| 80324045558|             3332|    1343547|Ipsum Dolor Sit C...|              8074.0|      40.0|                 1733.0|                       780.0|             308.0|                 2103.0|                        0.8|                 1898.0|               2.9|\n",
      "| 57900494384|             3332|    1343547|Porttitor Tellus ...|              8074.0|      40.0|                 1733.0|                       780.0|             308.0|                 2103.0|                        0.8|                 1898.0|               2.9|\n",
      "+------------+-----------------+-----------+--------------------+--------------------+----------+-----------------------+----------------------------+------------------+-----------------------+---------------------------+-----------------------+------------------+\n",
      "only showing top 20 rows\n",
      "\n"
     ]
    }
   ],
   "source": [
    "postcode.show()"
   ]
  },
  {
   "cell_type": "code",
   "execution_count": 6,
   "metadata": {},
   "outputs": [],
   "source": [
    "postcode_agg = postcode.groupBy(\"merchant_abn\").agg\\\n",
    "                    (f.first(\"merchant_name\").alias(\"name\"),\n",
    "                     f.countDistinct(\"consumer_postcode\").alias(\"number_of_postcodes\"),\n",
    "                     f.avg(\"total_weekly_personal_income\").alias(\"avg_total_weekly_personal_income\"),\n",
    "                     f.avg(\"total_weekly_fam_income\").alias(\"avg_total_weekly_fam_income\"),\n",
    "                     f.avg(\"median_age\").alias(\"avg_median_age\"),\n",
    "                     f.avg(\"avg_household_size\").alias(\"avg_household_size\"))"
   ]
  },
  {
   "cell_type": "markdown",
   "metadata": {},
   "source": [
    "### Feature Engineering"
   ]
  },
  {
   "cell_type": "markdown",
   "metadata": {},
   "source": [
    "1. Finding the reach of merchant\n",
    "For this analysis we define reach as the total number of a postcodes that a merchant serves divided by the total number of postcodes."
   ]
  },
  {
   "cell_type": "code",
   "execution_count": 7,
   "metadata": {},
   "outputs": [
    {
     "name": "stderr",
     "output_type": "stream",
     "text": [
      "                                                                                \r"
     ]
    }
   ],
   "source": [
    "total_number_postcodes = postcode.select(f.col(\"consumer_postcode\")).distinct().count()\n",
    "postcode_agg = postcode_agg.withColumn(\"postcode_reach\", postcode_agg.number_of_postcodes/total_number_postcodes)"
   ]
  },
  {
   "cell_type": "markdown",
   "metadata": {},
   "source": [
    "2. Finding the average number of consumers that a merchant serves per postcode."
   ]
  },
  {
   "cell_type": "code",
   "execution_count": 8,
   "metadata": {},
   "outputs": [],
   "source": [
    "consumer_id_count_per_postcode = postcode.groupBy(\"merchant_abn\",\"consumer_postcode\").agg(f.count(\"consumer_id\").alias(\"number_of_consumers\"))\n",
    "avg_num_of_consumers_per_postcode = consumer_id_count_per_postcode.groupBy(\"merchant_abn\").agg(f.avg(\"number_of_consumers\").alias(\"avg_num_of_consumers_per_postcode\"))"
   ]
  },
  {
   "cell_type": "markdown",
   "metadata": {},
   "source": [
    "### Join\n",
    "Now we will join the created features to the aggregated dataset."
   ]
  },
  {
   "cell_type": "code",
   "execution_count": 9,
   "metadata": {},
   "outputs": [],
   "source": [
    "postcode_agg = postcode_agg.join(avg_num_of_consumers_per_postcode, on = \"merchant_abn\", how = \"inner\")"
   ]
  },
  {
   "cell_type": "code",
   "execution_count": 10,
   "metadata": {},
   "outputs": [
    {
     "name": "stderr",
     "output_type": "stream",
     "text": [
      "[Stage 16:===================================================>      (8 + 1) / 9]\r"
     ]
    },
    {
     "name": "stdout",
     "output_type": "stream",
     "text": [
      "+------------+---------------------------------+-------------------+--------------------------------+---------------------------+------------------+------------------+------------------+---------------------------------+\n",
      "|merchant_abn|name                             |number_of_postcodes|avg_total_weekly_personal_income|avg_total_weekly_fam_income|avg_median_age    |avg_household_size|postcode_reach    |avg_num_of_consumers_per_postcode|\n",
      "+------------+---------------------------------+-------------------+--------------------------------+---------------------------+------------------+------------------+------------------+---------------------------------+\n",
      "|24852446429 |Erat Vitae LLP                   |2639               |789.8770611930597               |1977.015175100498          |43.09343523206664 |2.4571954526448265|1.0               |91.52974611595302                |\n",
      "|86578477987 |Leo In Consulting                |2639               |790.1220326409496               |1978.2443615788457         |43.12187242111917 |2.4581531262620056|1.0               |86.32512315270937                |\n",
      "|64203420245 |Pede Nonummy Corp.               |2639               |790.7058151824281               |1979.7334918665563         |43.111308703244184|2.458622507122507 |1.0               |82.46305418719211                |\n",
      "|49891706470 |Non Vestibulum Industries        |2639               |790.1097885132131               |1977.1003716483983         |43.10987792147538 |2.458438593438884 |1.0               |78.40697233800682                |\n",
      "|46804135891 |Suspendisse Dui Corporation      |2639               |790.3532259877767               |1978.180837745028          |43.1073165995544  |2.458092666026205 |1.0               |74.15384615384616                |\n",
      "|45629217853 |Lacus Consulting                 |2639               |790.4815802852187               |1978.4676076121195         |43.09236062704074 |2.4597807139375583|1.0               |72.30049261083744                |\n",
      "|89726005175 |Est Nunc Consulting              |2639               |789.9119481326535               |1977.1917948831765         |43.08975803006175 |2.458121390009377 |1.0               |68.29442970822281                |\n",
      "|43186523025 |Lorem Ipsum Sodales Industries   |2639               |790.1568288760498               |1977.1446869974388         |43.1014860920841  |2.4584603609506224|1.0               |63.61879499810534                |\n",
      "|80324045558 |Ipsum Dolor Sit Corporation      |2639               |789.7301527460232               |1976.237729240648          |43.11248905482317 |2.458992010020917 |1.0               |62.317544524441075               |\n",
      "|63290521567 |Vehicula Pellentesque Corporation|2639               |790.7298199347608               |1979.8930690008945         |43.09258102278108 |2.4583676408691533|1.0               |57.61879499810534                |\n",
      "|68216911708 |Placerat Eget Venenatis Limited  |2639               |790.5961730625426               |1978.0999583093446         |43.10641705213979 |2.457987267806211 |1.0               |57.26146267525578                |\n",
      "|21439773999 |Mauris Non Institute             |2638               |791.3108035687703               |1980.9260293957107         |43.08814247293153 |2.45765280906682  |0.9996210685865858|38.196739954510996               |\n",
      "|64403598239 |Lobortis Ultrices Company        |2639               |790.6689523227255               |1978.5105621554387         |43.093177817365365|2.4579960365564433|1.0               |35.94808639636226                |\n",
      "|72472909171 |Nullam Consulting                |2639               |789.5209944492037               |1975.6131576167957         |43.12369591494256 |2.4576098717331867|1.0               |32.28988253126184                |\n",
      "|94493496784 |Dictum Phasellus In Institute    |2639               |790.3757372185303               |1978.0311048930807         |43.107546464366266|2.4583738376370414|1.0               |31.418340280409247               |\n",
      "|79417999332 |Phasellus At Company             |2639               |791.032344704377                |1980.6353359407065         |43.12722411337244 |2.457233046039449 |1.0               |31.39143615005684                |\n",
      "|60956456424 |Ultricies Dignissim LLP          |2638               |791.2604961706279               |1980.906855960243          |43.08887966148614 |2.458676658625644 |0.9996210685865858|28.757012888551934               |\n",
      "|32361057556 |Orci In Consequat Corporation    |2639               |790.8828224108848               |1978.1251446335716         |43.09931272914837 |2.4562524918796087|1.0               |27.181887078438802               |\n",
      "|91923722701 |Euismod Urna Institute           |2639               |789.8658301453711               |1977.4140091813313         |43.12247895944912 |2.457955623565417 |1.0               |24.763167866616143               |\n",
      "|49505931725 |Suspendisse Ac Associates        |2639               |788.5736495250114               |1976.1297542678865         |43.12392645563852 |2.4589762330423808|1.0               |21.61955286093217                |\n",
      "+------------+---------------------------------+-------------------+--------------------------------+---------------------------+------------------+------------------+------------------+---------------------------------+\n",
      "only showing top 20 rows\n",
      "\n"
     ]
    },
    {
     "name": "stderr",
     "output_type": "stream",
     "text": [
      "                                                                                \r"
     ]
    }
   ],
   "source": [
    "postcode_agg.orderBy(f.col(\"avg_num_of_consumers_per_postcode\").desc()).show(truncate = False)"
   ]
  },
  {
   "cell_type": "markdown",
   "metadata": {},
   "source": [
    "### Saving the Data"
   ]
  },
  {
   "cell_type": "code",
   "execution_count": 11,
   "metadata": {},
   "outputs": [
    {
     "name": "stderr",
     "output_type": "stream",
     "text": [
      "                                                                                \r"
     ]
    }
   ],
   "source": [
    "postcode_agg.write.mode(\"overwrite\").parquet(\"../../../data/insights/agg_insight_data/postcode_agg.parquet\")"
   ]
  },
  {
   "cell_type": "code",
   "execution_count": 12,
   "metadata": {},
   "outputs": [],
   "source": [
    "spark.stop()"
   ]
  }
 ],
 "metadata": {
  "kernelspec": {
   "display_name": "Python 3",
   "language": "python",
   "name": "python3"
  },
  "language_info": {
   "codemirror_mode": {
    "name": "ipython",
    "version": 3
   },
   "file_extension": ".py",
   "mimetype": "text/x-python",
   "name": "python",
   "nbconvert_exporter": "python",
   "pygments_lexer": "ipython3",
   "version": "3.9.5"
  },
  "orig_nbformat": 4
 },
 "nbformat": 4,
 "nbformat_minor": 2
}
