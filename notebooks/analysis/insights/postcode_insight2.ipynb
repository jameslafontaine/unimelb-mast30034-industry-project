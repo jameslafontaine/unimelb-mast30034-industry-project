{
 "cells": [
  {
   "cell_type": "markdown",
   "metadata": {},
   "source": [
    "# Aggregating Features Regarding Orders by Merchants\n",
    "## Author: Dulan Wijeratne 1181873"
   ]
  },
  {
   "cell_type": "markdown",
   "metadata": {},
   "source": [
    "In this notebook we will aggregate the features regarding postcodes by Merchant, as well as creating new features related to postcode.\n",
    "To start we will create a Spark session and import the orders dataset that contains all the features that relate to orders."
   ]
  },
  {
   "cell_type": "code",
   "execution_count": 3,
   "metadata": {},
   "outputs": [],
   "source": [
    "from pyspark.sql import SparkSession, functions as f"
   ]
  },
  {
   "cell_type": "code",
   "execution_count": 4,
   "metadata": {},
   "outputs": [
    {
     "name": "stderr",
     "output_type": "stream",
     "text": [
      "your 131072x1 screen size is bogus. expect trouble\n",
      "23/09/29 19:41:12 WARN Utils: Your hostname, DulanComputer resolves to a loopback address: 127.0.1.1; using 172.30.15.25 instead (on interface eth0)\n",
      "23/09/29 19:41:12 WARN Utils: Set SPARK_LOCAL_IP if you need to bind to another address\n",
      "Setting default log level to \"WARN\".\n",
      "To adjust logging level use sc.setLogLevel(newLevel). For SparkR, use setLogLevel(newLevel).\n",
      "23/09/29 19:41:13 WARN NativeCodeLoader: Unable to load native-hadoop library for your platform... using builtin-java classes where applicable\n"
     ]
    }
   ],
   "source": [
    "spark = (\n",
    "    SparkSession.builder.appName(\"feature_engineering\")\n",
    "    .config(\"spark.sql.repl.eagerEval.enabled\", True) \n",
    "    .config(\"spark.sql.parquet.cacheMetadata\", \"true\")\n",
    "    .config(\"spark.sql.session.timeZone\", \"Etc/UTC\")\n",
    "    .config(\"spark.sql.session.timeZone\", \"Etc/UTC\")\n",
    "    .config('spark.driver.memory', '3g')   \n",
    "    .config('spark.executor.memory', '4g')  \n",
    "    .config('spark.executor.instances', '2')  \n",
    "    .config('spark.executor.cores', '2')\n",
    "    .getOrCreate()\n",
    ")"
   ]
  },
  {
   "cell_type": "code",
   "execution_count": 5,
   "metadata": {},
   "outputs": [
    {
     "name": "stderr",
     "output_type": "stream",
     "text": [
      "                                                                                \r"
     ]
    }
   ],
   "source": [
    "postcode = spark.read.parquet(\"../../../data/insights/pre_insights/postcode.parquet\")"
   ]
  },
  {
   "cell_type": "code",
   "execution_count": 6,
   "metadata": {},
   "outputs": [
    {
     "data": {
      "text/plain": [
       "['merchant_abn',\n",
       " 'consumer_postcode',\n",
       " 'consumer_id',\n",
       " 'merchant_name',\n",
       " 'estimated_population',\n",
       " 'median_age',\n",
       " 'median_mortgage_monthly',\n",
       " 'total_weekly_personal_income',\n",
       " 'median_weekly_rent',\n",
       " 'total_weekly_fam_income',\n",
       " 'avg_num_persons_per_bedroom',\n",
       " 'total_hhd_income_weekly',\n",
       " 'avg_household_size']"
      ]
     },
     "execution_count": 6,
     "metadata": {},
     "output_type": "execute_result"
    }
   ],
   "source": [
    "postcode.columns"
   ]
  },
  {
   "cell_type": "code",
   "execution_count": 7,
   "metadata": {},
   "outputs": [
    {
     "name": "stdout",
     "output_type": "stream",
     "text": [
      "+------------+-----------------+-----------+--------------------+--------------------+----------+-----------------------+----------------------------+------------------+-----------------------+---------------------------+-----------------------+------------------+\n",
      "|merchant_abn|consumer_postcode|consumer_id|       merchant_name|estimated_population|median_age|median_mortgage_monthly|total_weekly_personal_income|median_weekly_rent|total_weekly_fam_income|avg_num_persons_per_bedroom|total_hhd_income_weekly|avg_household_size|\n",
      "+------------+-----------------+-----------+--------------------+--------------------+----------+-----------------------+----------------------------+------------------+-----------------------+---------------------------+-----------------------+------------------+\n",
      "| 16570599421|             3332|    1343547|    Non Magna Nam PC|              8074.0|      40.0|                 1733.0|                       780.0|             308.0|                 2103.0|                        0.8|                 1898.0|               2.9|\n",
      "| 63290521567|             3332|    1343547|Vehicula Pellente...|              8074.0|      40.0|                 1733.0|                       780.0|             308.0|                 2103.0|                        0.8|                 1898.0|               2.9|\n",
      "| 13514558491|             3332|    1343547|   Magna Praesent PC|              8074.0|      40.0|                 1733.0|                       780.0|             308.0|                 2103.0|                        0.8|                 1898.0|               2.9|\n",
      "| 22227727512|             3332|    1343547|Malesuada Integer...|              8074.0|      40.0|                 1733.0|                       780.0|             308.0|                 2103.0|                        0.8|                 1898.0|               2.9|\n",
      "| 79827781481|             3332|    1343547|     Amet Risus Inc.|              8074.0|      40.0|                 1733.0|                       780.0|             308.0|                 2103.0|                        0.8|                 1898.0|               2.9|\n",
      "| 35556933338|             3332|    1343547|Semper Cursus Int...|              8074.0|      40.0|                 1733.0|                       780.0|             308.0|                 2103.0|                        0.8|                 1898.0|               2.9|\n",
      "| 64203420245|             3332|    1343547|  Pede Nonummy Corp.|              8074.0|      40.0|                 1733.0|                       780.0|             308.0|                 2103.0|                        0.8|                 1898.0|               2.9|\n",
      "| 47086412084|             3332|    1343547|        Eros Limited|              8074.0|      40.0|                 1733.0|                       780.0|             308.0|                 2103.0|                        0.8|                 1898.0|               2.9|\n",
      "| 91923722701|             3332|    1343547|Euismod Urna Inst...|              8074.0|      40.0|                 1733.0|                       780.0|             308.0|                 2103.0|                        0.8|                 1898.0|               2.9|\n",
      "| 75034515922|             3332|    1343547|   Ac Eleifend Corp.|              8074.0|      40.0|                 1733.0|                       780.0|             308.0|                 2103.0|                        0.8|                 1898.0|               2.9|\n",
      "| 36196225600|             3332|    1343547|Leo Elementum Sem...|              8074.0|      40.0|                 1733.0|                       780.0|             308.0|                 2103.0|                        0.8|                 1898.0|               2.9|\n",
      "| 75104340635|             3332|    1343547|  Nisl Elementum Ltd|              8074.0|      40.0|                 1733.0|                       780.0|             308.0|                 2103.0|                        0.8|                 1898.0|               2.9|\n",
      "| 96513857365|             3332|    1343547|Tellus Aenean Con...|              8074.0|      40.0|                 1733.0|                       780.0|             308.0|                 2103.0|                        0.8|                 1898.0|               2.9|\n",
      "| 62694031334|             3332|    1343547|  Vel Est Tempor LLP|              8074.0|      40.0|                 1733.0|                       780.0|             308.0|                 2103.0|                        0.8|                 1898.0|               2.9|\n",
      "| 25732256442|             3332|    1343547|Malesuada Vel Ass...|              8074.0|      40.0|                 1733.0|                       780.0|             308.0|                 2103.0|                        0.8|                 1898.0|               2.9|\n",
      "| 62773208456|             3332|    1343547|        Ac Institute|              8074.0|      40.0|                 1733.0|                       780.0|             308.0|                 2103.0|                        0.8|                 1898.0|               2.9|\n",
      "| 40555823280|             3332|    1343547|Nibh Donec Incorp...|              8074.0|      40.0|                 1733.0|                       780.0|             308.0|                 2103.0|                        0.8|                 1898.0|               2.9|\n",
      "| 10206519221|             3332|    1343547|       Fusce Company|              8074.0|      40.0|                 1733.0|                       780.0|             308.0|                 2103.0|                        0.8|                 1898.0|               2.9|\n",
      "| 92990617267|             3332|    1343547|Malesuada Malesua...|              8074.0|      40.0|                 1733.0|                       780.0|             308.0|                 2103.0|                        0.8|                 1898.0|               2.9|\n",
      "| 89107518982|             3332|    1343547|Adipiscing Lobort...|              8074.0|      40.0|                 1733.0|                       780.0|             308.0|                 2103.0|                        0.8|                 1898.0|               2.9|\n",
      "+------------+-----------------+-----------+--------------------+--------------------+----------+-----------------------+----------------------------+------------------+-----------------------+---------------------------+-----------------------+------------------+\n",
      "only showing top 20 rows\n",
      "\n"
     ]
    }
   ],
   "source": [
    "postcode.show()"
   ]
  },
  {
   "cell_type": "code",
   "execution_count": 10,
   "metadata": {},
   "outputs": [],
   "source": [
    "postcode_agg = postcode.groupBy(\"merchant_abn\").agg\\\n",
    "                    (f.first(\"merchant_name\").alias(\"name\"),\n",
    "                     f.countDistinct(\"consumer_postcode\").alias(\"number_of_postcodes\"),\n",
    "                     f.avg(\"total_weekly_personal_income\").alias(\"avg_total_weekly_personal_income\"),\n",
    "                     f.avg(\"total_weekly_fam_income\").alias(\"avg_total_weekly_fam_income\"),\n",
    "                     f.avg(\"median_age\").alias(\"avg_median_age\"),\n",
    "                     f.avg(\"avg_household_size\").alias(\"avg_household_size\"))"
   ]
  },
  {
   "cell_type": "markdown",
   "metadata": {},
   "source": [
    "### Feature Engineering"
   ]
  },
  {
   "cell_type": "markdown",
   "metadata": {},
   "source": [
    "1. Finding the reach of merchant\n",
    "For this analysis we define reach as the total number of a postcodes that a merchant serves divided by the total number of postcodes."
   ]
  },
  {
   "cell_type": "code",
   "execution_count": null,
   "metadata": {},
   "outputs": [],
   "source": [
    "total_number_postcodes = postcode.select(f.col(\"consumer_postcode\")).distinct().count()\n",
    "postcode_agg = postcode_agg.withColumn(\"postcode_reach\", postcode_agg.number_of_postcodes/total_number_postcodes)"
   ]
  },
  {
   "cell_type": "markdown",
   "metadata": {},
   "source": [
    "2. Finding the average number of consumers that a merchant serves per postcode."
   ]
  },
  {
   "cell_type": "code",
   "execution_count": null,
   "metadata": {},
   "outputs": [],
   "source": [
    "consumer_id_count_per_postcode = postcode.groupBy(\"merchant_abn\",\"consumer_postcode\").agg(f.count(\"consumer_id\").alias(\"number_of_consumers\"))\n",
    "avg_num_of_consumers_per_postcode = consumer_id_count_per_postcode.groupBy(\"merchant_abn\").agg(f.avg(\"number_of_consumers\").alias(\"avg_num_of_consumers_per_postcode\"))"
   ]
  },
  {
   "cell_type": "markdown",
   "metadata": {},
   "source": [
    "### Join\n",
    "Now we will join the created features to the aggregated dataset."
   ]
  },
  {
   "cell_type": "code",
   "execution_count": null,
   "metadata": {},
   "outputs": [],
   "source": [
    "postcode_agg = postcode_agg.join(avg_num_of_consumers_per_postcode, on = \"merchant_abn\", how = \"inner\")"
   ]
  },
  {
   "cell_type": "code",
   "execution_count": null,
   "metadata": {},
   "outputs": [],
   "source": [
    "postcode_agg.orderBy(f.col(\"avg_num_of_consumers_per_postcode\").desc()).show(truncate = False)"
   ]
  },
  {
   "cell_type": "markdown",
   "metadata": {},
   "source": [
    "### Saving the Data"
   ]
  },
  {
   "cell_type": "code",
   "execution_count": null,
   "metadata": {},
   "outputs": [],
   "source": [
    "postcode_agg.write.mode(\"overwrite\").parquet(\"../../../data/insights/agg_insight_data/postcode_agg.parquet\")"
   ]
  },
  {
   "cell_type": "code",
   "execution_count": null,
   "metadata": {},
   "outputs": [],
   "source": [
    "spark.stop()"
   ]
  }
 ],
 "metadata": {
  "kernelspec": {
   "display_name": "Python 3",
   "language": "python",
   "name": "python3"
  },
  "language_info": {
   "codemirror_mode": {
    "name": "ipython",
    "version": 3
   },
   "file_extension": ".py",
   "mimetype": "text/x-python",
   "name": "python",
   "nbconvert_exporter": "python",
   "pygments_lexer": "ipython3",
   "version": "3.10.12"
  },
  "orig_nbformat": 4
 },
 "nbformat": 4,
 "nbformat_minor": 2
}
