{
 "cells": [
  {
   "cell_type": "code",
   "execution_count": 1,
   "metadata": {},
   "outputs": [],
   "source": [
    "from pyspark.sql import SparkSession, functions as f"
   ]
  },
  {
   "cell_type": "code",
   "execution_count": 2,
   "metadata": {},
   "outputs": [
    {
     "name": "stderr",
     "output_type": "stream",
     "text": [
      "your 131072x1 screen size is bogus. expect trouble\n",
      "23/09/25 16:10:45 WARN Utils: Your hostname, DESKTOP-SATV84A resolves to a loopback address: 127.0.1.1; using 172.26.254.29 instead (on interface eth0)\n",
      "23/09/25 16:10:45 WARN Utils: Set SPARK_LOCAL_IP if you need to bind to another address\n",
      "Setting default log level to \"WARN\".\n",
      "To adjust logging level use sc.setLogLevel(newLevel). For SparkR, use setLogLevel(newLevel).\n",
      "23/09/25 16:10:46 WARN NativeCodeLoader: Unable to load native-hadoop library for your platform... using builtin-java classes where applicable\n",
      "23/09/25 16:10:47 WARN Utils: Service 'SparkUI' could not bind on port 4040. Attempting port 4041.\n",
      "23/09/25 16:10:47 WARN Utils: Service 'SparkUI' could not bind on port 4041. Attempting port 4042.\n"
     ]
    }
   ],
   "source": [
    "spark = (\n",
    "    SparkSession.builder.appName(\"Preprocessing_Yellow\")\n",
    "    .config(\"spark.sql.repl.eagerEval.enabled\", True) \n",
    "    .config(\"spark.sql.parquet.cacheMetadata\", \"true\")\n",
    "    .config(\"spark.sql.session.timeZone\", \"Etc/UTC\")\n",
    "    .config(\"spark.sql.session.timeZone\", \"Etc/UTC\")\n",
    "    .config('spark.driver.memory', '3g')   \n",
    "    .config('spark.executor.memory', '4g')  \n",
    "    .config('spark.executor.instances', '2')  \n",
    "    .config('spark.executor.cores', '2')\n",
    "    .getOrCreate()\n",
    ")"
   ]
  },
  {
   "cell_type": "code",
   "execution_count": 3,
   "metadata": {},
   "outputs": [],
   "source": [
    "postcode = spark.read.parquet(\"../../../data/insights/pre_insights/postcode.parquet/\")"
   ]
  },
  {
   "cell_type": "code",
   "execution_count": 4,
   "metadata": {},
   "outputs": [
    {
     "name": "stdout",
     "output_type": "stream",
     "text": [
      "+------------+-----------------+-----------+------------------------------------+--------------------+----------+-----------------------+----------------------------+------------------+-----------------------+---------------------------+-----------------------+------------------+\n",
      "|merchant_abn|consumer_postcode|consumer_id|merchant_name                       |estimated_population|median_age|median_mortgage_monthly|total_weekly_personal_income|median_weekly_rent|total_weekly_fam_income|avg_num_persons_per_bedroom|total_hhd_income_weekly|avg_household_size|\n",
      "+------------+-----------------+-----------+------------------------------------+--------------------+----------+-----------------------+----------------------------+------------------+-----------------------+---------------------------+-----------------------+------------------+\n",
      "|92980848589 |5074             |564558     |Maecenas Industries                 |21882.0             |40.0      |1690.0                 |721.0                       |335.0             |1892.0                 |0.8                        |1427.0                 |2.4               |\n",
      "|58454491168 |5074             |564558     |Diam At Foundation                  |21882.0             |40.0      |1690.0                 |721.0                       |335.0             |1892.0                 |0.8                        |1427.0                 |2.4               |\n",
      "|24852446429 |5074             |564558     |Erat Vitae LLP                      |21882.0             |40.0      |1690.0                 |721.0                       |335.0             |1892.0                 |0.8                        |1427.0                 |2.4               |\n",
      "|45559085309 |5074             |564558     |A Auctor Non Corporation            |21882.0             |40.0      |1690.0                 |721.0                       |335.0             |1892.0                 |0.8                        |1427.0                 |2.4               |\n",
      "|58392414752 |5074             |564558     |Mattis Ornare Lectus Inc.           |21882.0             |40.0      |1690.0                 |721.0                       |335.0             |1892.0                 |0.8                        |1427.0                 |2.4               |\n",
      "|81219314324 |5074             |564558     |Faucibus Leo Ltd                    |21882.0             |40.0      |1690.0                 |721.0                       |335.0             |1892.0                 |0.8                        |1427.0                 |2.4               |\n",
      "|34179569263 |5074             |564558     |Sodales At LLC                      |21882.0             |40.0      |1690.0                 |721.0                       |335.0             |1892.0                 |0.8                        |1427.0                 |2.4               |\n",
      "|96566672398 |5074             |564558     |Odio Tristique Pharetra Incorporated|21882.0             |40.0      |1690.0                 |721.0                       |335.0             |1892.0                 |0.8                        |1427.0                 |2.4               |\n",
      "|52838486584 |5074             |564558     |Interdum PC                         |21882.0             |40.0      |1690.0                 |721.0                       |335.0             |1892.0                 |0.8                        |1427.0                 |2.4               |\n",
      "|32530636640 |5074             |564558     |Hendrerit Foundation                |21882.0             |40.0      |1690.0                 |721.0                       |335.0             |1892.0                 |0.8                        |1427.0                 |2.4               |\n",
      "|20985347699 |5074             |564558     |Semper Tellus PC                    |21882.0             |40.0      |1690.0                 |721.0                       |335.0             |1892.0                 |0.8                        |1427.0                 |2.4               |\n",
      "|73499119023 |5074             |564558     |Nisi Dictum Company                 |21882.0             |40.0      |1690.0                 |721.0                       |335.0             |1892.0                 |0.8                        |1427.0                 |2.4               |\n",
      "|64403598239 |5074             |564558     |Lobortis Ultrices Company           |21882.0             |40.0      |1690.0                 |721.0                       |335.0             |1892.0                 |0.8                        |1427.0                 |2.4               |\n",
      "|45559085309 |5074             |564558     |A Auctor Non Corporation            |21882.0             |40.0      |1690.0                 |721.0                       |335.0             |1892.0                 |0.8                        |1427.0                 |2.4               |\n",
      "|43611981873 |5074             |564558     |Suscipit LLC                        |21882.0             |40.0      |1690.0                 |721.0                       |335.0             |1892.0                 |0.8                        |1427.0                 |2.4               |\n",
      "|91873181182 |5074             |564558     |Sem LLC                             |21882.0             |40.0      |1690.0                 |721.0                       |335.0             |1892.0                 |0.8                        |1427.0                 |2.4               |\n",
      "|97861055416 |5074             |564558     |Morbi Neque Inc.                    |21882.0             |40.0      |1690.0                 |721.0                       |335.0             |1892.0                 |0.8                        |1427.0                 |2.4               |\n",
      "|83414869405 |5074             |564558     |Hendrerit Donec Corporation         |21882.0             |40.0      |1690.0                 |721.0                       |335.0             |1892.0                 |0.8                        |1427.0                 |2.4               |\n",
      "|76767266140 |5074             |564558     |Phasellus At Limited                |21882.0             |40.0      |1690.0                 |721.0                       |335.0             |1892.0                 |0.8                        |1427.0                 |2.4               |\n",
      "|49891706470 |5074             |564558     |Non Vestibulum Industries           |21882.0             |40.0      |1690.0                 |721.0                       |335.0             |1892.0                 |0.8                        |1427.0                 |2.4               |\n",
      "+------------+-----------------+-----------+------------------------------------+--------------------+----------+-----------------------+----------------------------+------------------+-----------------------+---------------------------+-----------------------+------------------+\n",
      "only showing top 20 rows\n",
      "\n"
     ]
    }
   ],
   "source": [
    "postcode.show(truncate = False)"
   ]
  },
  {
   "cell_type": "code",
   "execution_count": 5,
   "metadata": {},
   "outputs": [],
   "source": [
    "postcode_agg = postcode.groupBy(\"merchant_abn\").agg\\\n",
    "                (f.first(\"merchant_name\").alias(\"name\"),\n",
    "                 f.countDistinct(\"consumer_postcode\").alias(\"number_of_postcodes\"),\n",
    "                 f.mode(\"consumer_postcode\").alias(\"most_popular_postcode\"),\n",
    "                 f.avg(\"total_weekly_personal_income\").alias(\"avg_total_weekly_personal_income\"),\n",
    "                 f.avg(\"total_weekly_fam_income\").alias(\"avg_total_weekly_fam_income\"),\n",
    "                 f.avg(\"median_age\").alias(\"avg_median_age\"),\n",
    "                 f.avg(\"avg_household_size\").alias(\"avg_household_size\"))"
   ]
  },
  {
   "cell_type": "code",
   "execution_count": 6,
   "metadata": {},
   "outputs": [
    {
     "name": "stderr",
     "output_type": "stream",
     "text": [
      "ERROR:root:Exception while sending command.                       (0 + 12) / 13]\n",
      "Traceback (most recent call last):\n",
      "  File \"/home/jlafontaine/.local/lib/python3.10/site-packages/py4j/clientserver.py\", line 516, in send_command\n",
      "    raise Py4JNetworkError(\"Answer from Java side is empty\")\n",
      "py4j.protocol.Py4JNetworkError: Answer from Java side is empty\n",
      "\n",
      "During handling of the above exception, another exception occurred:\n",
      "\n",
      "Traceback (most recent call last):\n",
      "  File \"/home/jlafontaine/.local/lib/python3.10/site-packages/py4j/java_gateway.py\", line 1038, in send_command\n",
      "    response = connection.send_command(command)\n",
      "  File \"/home/jlafontaine/.local/lib/python3.10/site-packages/py4j/clientserver.py\", line 539, in send_command\n",
      "    raise Py4JNetworkError(\n",
      "py4j.protocol.Py4JNetworkError: Error while sending or receiving\n"
     ]
    },
    {
     "ename": "Py4JError",
     "evalue": "An error occurred while calling o77.showString",
     "output_type": "error",
     "traceback": [
      "\u001b[0;31m---------------------------------------------------------------------------\u001b[0m",
      "\u001b[0;31mPy4JError\u001b[0m                                 Traceback (most recent call last)",
      "\u001b[1;32m/home/jlafontaine/MAST30034/bnpl-industry-project-open-source-industry-project-35/notebooks/analysis/insights/postcode_insights.ipynb Cell 6\u001b[0m line \u001b[0;36m1\n\u001b[0;32m----> <a href='vscode-notebook-cell://wsl%2Bubuntu/home/jlafontaine/MAST30034/bnpl-industry-project-open-source-industry-project-35/notebooks/analysis/insights/postcode_insights.ipynb#W5sdnNjb2RlLXJlbW90ZQ%3D%3D?line=0'>1</a>\u001b[0m postcode_agg\u001b[39m.\u001b[39;49morderBy(f\u001b[39m.\u001b[39;49mcol(\u001b[39m\"\u001b[39;49m\u001b[39mnumber_of_postcodes\u001b[39;49m\u001b[39m\"\u001b[39;49m)\u001b[39m.\u001b[39;49mdesc())\u001b[39m.\u001b[39;49mshow(\u001b[39m5\u001b[39;49m,truncate \u001b[39m=\u001b[39;49m \u001b[39mFalse\u001b[39;49;00m)\n",
      "File \u001b[0;32m~/.local/lib/python3.10/site-packages/pyspark/sql/dataframe.py:912\u001b[0m, in \u001b[0;36mDataFrame.show\u001b[0;34m(self, n, truncate, vertical)\u001b[0m\n\u001b[1;32m    903\u001b[0m \u001b[39mexcept\u001b[39;00m \u001b[39mValueError\u001b[39;00m:\n\u001b[1;32m    904\u001b[0m     \u001b[39mraise\u001b[39;00m PySparkTypeError(\n\u001b[1;32m    905\u001b[0m         error_class\u001b[39m=\u001b[39m\u001b[39m\"\u001b[39m\u001b[39mNOT_BOOL\u001b[39m\u001b[39m\"\u001b[39m,\n\u001b[1;32m    906\u001b[0m         message_parameters\u001b[39m=\u001b[39m{\n\u001b[0;32m   (...)\u001b[0m\n\u001b[1;32m    909\u001b[0m         },\n\u001b[1;32m    910\u001b[0m     )\n\u001b[0;32m--> 912\u001b[0m \u001b[39mprint\u001b[39m(\u001b[39mself\u001b[39;49m\u001b[39m.\u001b[39;49m_jdf\u001b[39m.\u001b[39;49mshowString(n, int_truncate, vertical))\n",
      "File \u001b[0;32m~/.local/lib/python3.10/site-packages/py4j/java_gateway.py:1322\u001b[0m, in \u001b[0;36mJavaMember.__call__\u001b[0;34m(self, *args)\u001b[0m\n\u001b[1;32m   1316\u001b[0m command \u001b[39m=\u001b[39m proto\u001b[39m.\u001b[39mCALL_COMMAND_NAME \u001b[39m+\u001b[39m\\\n\u001b[1;32m   1317\u001b[0m     \u001b[39mself\u001b[39m\u001b[39m.\u001b[39mcommand_header \u001b[39m+\u001b[39m\\\n\u001b[1;32m   1318\u001b[0m     args_command \u001b[39m+\u001b[39m\\\n\u001b[1;32m   1319\u001b[0m     proto\u001b[39m.\u001b[39mEND_COMMAND_PART\n\u001b[1;32m   1321\u001b[0m answer \u001b[39m=\u001b[39m \u001b[39mself\u001b[39m\u001b[39m.\u001b[39mgateway_client\u001b[39m.\u001b[39msend_command(command)\n\u001b[0;32m-> 1322\u001b[0m return_value \u001b[39m=\u001b[39m get_return_value(\n\u001b[1;32m   1323\u001b[0m     answer, \u001b[39mself\u001b[39;49m\u001b[39m.\u001b[39;49mgateway_client, \u001b[39mself\u001b[39;49m\u001b[39m.\u001b[39;49mtarget_id, \u001b[39mself\u001b[39;49m\u001b[39m.\u001b[39;49mname)\n\u001b[1;32m   1325\u001b[0m \u001b[39mfor\u001b[39;00m temp_arg \u001b[39min\u001b[39;00m temp_args:\n\u001b[1;32m   1326\u001b[0m     \u001b[39mif\u001b[39;00m \u001b[39mhasattr\u001b[39m(temp_arg, \u001b[39m\"\u001b[39m\u001b[39m_detach\u001b[39m\u001b[39m\"\u001b[39m):\n",
      "File \u001b[0;32m~/.local/lib/python3.10/site-packages/pyspark/errors/exceptions/captured.py:169\u001b[0m, in \u001b[0;36mcapture_sql_exception.<locals>.deco\u001b[0;34m(*a, **kw)\u001b[0m\n\u001b[1;32m    167\u001b[0m \u001b[39mdef\u001b[39;00m \u001b[39mdeco\u001b[39m(\u001b[39m*\u001b[39ma: Any, \u001b[39m*\u001b[39m\u001b[39m*\u001b[39mkw: Any) \u001b[39m-\u001b[39m\u001b[39m>\u001b[39m Any:\n\u001b[1;32m    168\u001b[0m     \u001b[39mtry\u001b[39;00m:\n\u001b[0;32m--> 169\u001b[0m         \u001b[39mreturn\u001b[39;00m f(\u001b[39m*\u001b[39;49ma, \u001b[39m*\u001b[39;49m\u001b[39m*\u001b[39;49mkw)\n\u001b[1;32m    170\u001b[0m     \u001b[39mexcept\u001b[39;00m Py4JJavaError \u001b[39mas\u001b[39;00m e:\n\u001b[1;32m    171\u001b[0m         converted \u001b[39m=\u001b[39m convert_exception(e\u001b[39m.\u001b[39mjava_exception)\n",
      "File \u001b[0;32m~/.local/lib/python3.10/site-packages/py4j/protocol.py:334\u001b[0m, in \u001b[0;36mget_return_value\u001b[0;34m(answer, gateway_client, target_id, name)\u001b[0m\n\u001b[1;32m    330\u001b[0m             \u001b[39mraise\u001b[39;00m Py4JError(\n\u001b[1;32m    331\u001b[0m                 \u001b[39m\"\u001b[39m\u001b[39mAn error occurred while calling \u001b[39m\u001b[39m{0}\u001b[39;00m\u001b[39m{1}\u001b[39;00m\u001b[39m{2}\u001b[39;00m\u001b[39m. Trace:\u001b[39m\u001b[39m\\n\u001b[39;00m\u001b[39m{3}\u001b[39;00m\u001b[39m\\n\u001b[39;00m\u001b[39m\"\u001b[39m\u001b[39m.\u001b[39m\n\u001b[1;32m    332\u001b[0m                 \u001b[39mformat\u001b[39m(target_id, \u001b[39m\"\u001b[39m\u001b[39m.\u001b[39m\u001b[39m\"\u001b[39m, name, value))\n\u001b[1;32m    333\u001b[0m     \u001b[39melse\u001b[39;00m:\n\u001b[0;32m--> 334\u001b[0m         \u001b[39mraise\u001b[39;00m Py4JError(\n\u001b[1;32m    335\u001b[0m             \u001b[39m\"\u001b[39m\u001b[39mAn error occurred while calling \u001b[39m\u001b[39m{0}\u001b[39;00m\u001b[39m{1}\u001b[39;00m\u001b[39m{2}\u001b[39;00m\u001b[39m\"\u001b[39m\u001b[39m.\u001b[39m\n\u001b[1;32m    336\u001b[0m             \u001b[39mformat\u001b[39m(target_id, \u001b[39m\"\u001b[39m\u001b[39m.\u001b[39m\u001b[39m\"\u001b[39m, name))\n\u001b[1;32m    337\u001b[0m \u001b[39melse\u001b[39;00m:\n\u001b[1;32m    338\u001b[0m     \u001b[39mtype\u001b[39m \u001b[39m=\u001b[39m answer[\u001b[39m1\u001b[39m]\n",
      "\u001b[0;31mPy4JError\u001b[0m: An error occurred while calling o77.showString"
     ]
    },
    {
     "name": "stderr",
     "output_type": "stream",
     "text": [
      "ERROR:root:Exception while sending command.\n",
      "Traceback (most recent call last):\n",
      "  File \"/home/jlafontaine/.local/lib/python3.10/site-packages/py4j/clientserver.py\", line 516, in send_command\n",
      "    raise Py4JNetworkError(\"Answer from Java side is empty\")\n",
      "py4j.protocol.Py4JNetworkError: Answer from Java side is empty\n",
      "\n",
      "During handling of the above exception, another exception occurred:\n",
      "\n",
      "Traceback (most recent call last):\n",
      "  File \"/home/jlafontaine/.local/lib/python3.10/site-packages/py4j/java_gateway.py\", line 1038, in send_command\n",
      "    response = connection.send_command(command)\n",
      "  File \"/home/jlafontaine/.local/lib/python3.10/site-packages/py4j/clientserver.py\", line 539, in send_command\n",
      "    raise Py4JNetworkError(\n",
      "py4j.protocol.Py4JNetworkError: Error while sending or receiving\n"
     ]
    }
   ],
   "source": [
    "postcode_agg.orderBy(f.col(\"number_of_postcodes\").desc()).show(5,truncate = False)"
   ]
  },
  {
   "cell_type": "markdown",
   "metadata": {},
   "source": [
    "Checking the proportion of the most popular postcode of the merchant whech served the highest number of consumers in different postcode, i.e, Erat Vitae LLP"
   ]
  },
  {
   "cell_type": "code",
   "execution_count": null,
   "metadata": {},
   "outputs": [
    {
     "name": "stdout",
     "output_type": "stream",
     "text": [
      "0.000993595449332842\n"
     ]
    }
   ],
   "source": [
    "EVLLP = postcode.filter(postcode.merchant_abn == 24852446429)\n",
    "mode_pc_EVLLP = EVLLP.filter(EVLLP.consumer_postcode == 6470).count()\n",
    "total_pc_EVLLP = 241547\n",
    "proportion = mode_pc_EVLLP/total_pc_EVLLP\n",
    "print(proportion)"
   ]
  },
  {
   "cell_type": "markdown",
   "metadata": {},
   "source": [
    "Using the most popular postcode seems infeasable as the proportion of the most popular postcode is very small."
   ]
  },
  {
   "cell_type": "code",
   "execution_count": null,
   "metadata": {},
   "outputs": [],
   "source": [
    "postcode_agg = postcode_agg.drop(\"most_popular_postcode\")"
   ]
  },
  {
   "cell_type": "code",
   "execution_count": null,
   "metadata": {},
   "outputs": [],
   "source": [
    "consumer_id_count_per_postcode = postcode.groupBy(\"merchant_abn\",\"consumer_postcode\").agg(f.count(\"consumer_id\").alias(\"number_of_consumers\"))\n",
    "avg_num_of_consumers_per_postcode = consumer_id_count_per_postcode.groupBy(\"merchant_abn\").agg(f.avg(\"number_of_consumers\").alias(\"avg_num_of_consumers_per_postcode\"))"
   ]
  },
  {
   "cell_type": "code",
   "execution_count": null,
   "metadata": {},
   "outputs": [],
   "source": [
    "postcode_agg = postcode_agg.join(avg_num_of_consumers_per_postcode, on = \"merchant_abn\", how = \"leftouter\")"
   ]
  },
  {
   "cell_type": "code",
   "execution_count": null,
   "metadata": {},
   "outputs": [
    {
     "name": "stderr",
     "output_type": "stream",
     "text": [
      "                                                                                \r"
     ]
    },
    {
     "name": "stdout",
     "output_type": "stream",
     "text": [
      "+------------+---------------------------+-------------------+--------------------------------+---------------------------+------------------+---------------------------------+\n",
      "|merchant_abn|name                       |number_of_postcodes|avg_total_weekly_personal_income|avg_total_weekly_fam_income|avg_median_age    |avg_num_of_consumers_per_postcode|\n",
      "+------------+---------------------------+-------------------+--------------------------------+---------------------------+------------------+---------------------------------+\n",
      "|24852446429 |Erat Vitae LLP             |241547             |789.8770611930597               |1977.015175100498          |43.09343523206664 |91.52974611595302                |\n",
      "|86578477987 |Leo In Consulting          |227812             |790.1220326409496               |1978.2443615788457         |43.12187242111917 |86.32512315270937                |\n",
      "|64203420245 |Pede Nonummy Corp.         |217620             |790.7058151824281               |1979.7334918665563         |43.111308703244184|82.46305418719211                |\n",
      "|49891706470 |Non Vestibulum Industries  |206916             |790.1097885132131               |1977.1003716483983         |43.10987792147538 |78.40697233800682                |\n",
      "|46804135891 |Suspendisse Dui Corporation|195692             |790.3532259877767               |1978.180837745028          |43.1073165995544  |74.15384615384616                |\n",
      "+------------+---------------------------+-------------------+--------------------------------+---------------------------+------------------+---------------------------------+\n",
      "only showing top 5 rows\n",
      "\n"
     ]
    }
   ],
   "source": [
    "postcode_agg.orderBy(f.col(\"avg_num_of_consumers_per_postcode\").desc()).show(5,truncate = False)"
   ]
  },
  {
   "cell_type": "code",
   "execution_count": null,
   "metadata": {},
   "outputs": [
    {
     "data": {
      "text/html": [
       "<table border='1'>\n",
       "<tr><th>summary</th><th>median_age</th></tr>\n",
       "<tr><td>count</td><td>11372745</td></tr>\n",
       "<tr><td>mean</td><td>43.107443101907236</td></tr>\n",
       "<tr><td>stddev</td><td>6.327153848420084</td></tr>\n",
       "<tr><td>min</td><td>17.5</td></tr>\n",
       "<tr><td>max</td><td>63.0</td></tr>\n",
       "</table>\n"
      ],
      "text/plain": [
       "+-------+------------------+\n",
       "|summary|        median_age|\n",
       "+-------+------------------+\n",
       "|  count|          11372745|\n",
       "|   mean|43.107443101907236|\n",
       "| stddev| 6.327153848420084|\n",
       "|    min|              17.5|\n",
       "|    max|              63.0|\n",
       "+-------+------------------+"
      ]
     },
     "execution_count": 12,
     "metadata": {},
     "output_type": "execute_result"
    }
   ],
   "source": [
    "postcode.select(\"median_age\").describe()"
   ]
  },
  {
   "cell_type": "code",
   "execution_count": null,
   "metadata": {},
   "outputs": [
    {
     "data": {
      "text/html": [
       "<table border='1'>\n",
       "<tr><th>summary</th><th>avg_median_age</th></tr>\n",
       "<tr><td>count</td><td>4026</td></tr>\n",
       "<tr><td>mean</td><td>43.11234880875575</td></tr>\n",
       "<tr><td>stddev</td><td>0.99109233981495</td></tr>\n",
       "<tr><td>min</td><td>26.0</td></tr>\n",
       "<tr><td>max</td><td>55.0</td></tr>\n",
       "</table>\n"
      ],
      "text/plain": [
       "+-------+-----------------+\n",
       "|summary|   avg_median_age|\n",
       "+-------+-----------------+\n",
       "|  count|             4026|\n",
       "|   mean|43.11234880875575|\n",
       "| stddev| 0.99109233981495|\n",
       "|    min|             26.0|\n",
       "|    max|             55.0|\n",
       "+-------+-----------------+"
      ]
     },
     "execution_count": 13,
     "metadata": {},
     "output_type": "execute_result"
    }
   ],
   "source": [
    "postcode_agg.select(\"avg_median_age\").describe()"
   ]
  },
  {
   "cell_type": "code",
   "execution_count": null,
   "metadata": {},
   "outputs": [
    {
     "name": "stderr",
     "output_type": "stream",
     "text": [
      "                                                                                \r"
     ]
    }
   ],
   "source": [
    "postcode_agg.write.mode(\"overwrite\").parquet(\"../../../data/insights/agg_insight_data/postcode_agg.parquet\")"
   ]
  },
  {
   "cell_type": "markdown",
   "metadata": {},
   "source": [
    "### Insights into postcodes\n",
    "- Most consumers are aged between 30-50 years old.\n"
   ]
  }
 ],
 "metadata": {
  "kernelspec": {
   "display_name": "Python 3",
   "language": "python",
   "name": "python3"
  },
  "language_info": {
   "codemirror_mode": {
    "name": "ipython",
    "version": 3
   },
   "file_extension": ".py",
   "mimetype": "text/x-python",
   "name": "python",
   "nbconvert_exporter": "python",
   "pygments_lexer": "ipython3",
   "version": "3.10.12"
  },
  "orig_nbformat": 4
 },
 "nbformat": 4,
 "nbformat_minor": 2
}
