{
 "cells": [
  {
   "cell_type": "markdown",
   "metadata": {},
   "source": [
    "# Aggregating Features Regarding Orders by Merchants\n",
    "## Author: Dulan Wijeratne 1181873"
   ]
  },
  {
   "cell_type": "markdown",
   "metadata": {},
   "source": [
    "In this notebook we will aggregate the features regarding postcodes by Merchant, as well as creating new features related to postcode."
   ]
  },
  {
   "cell_type": "markdown",
   "metadata": {},
   "source": [
    "To start we will create a Spark session and import the orders dataset that contains all the features that relate to orders."
   ]
  },
  {
   "cell_type": "code",
   "execution_count": 1,
   "metadata": {},
   "outputs": [],
   "source": [
    "from pyspark.sql import SparkSession, functions as f"
   ]
  },
  {
   "cell_type": "code",
   "execution_count": 2,
   "metadata": {},
   "outputs": [
    {
     "name": "stderr",
     "output_type": "stream",
     "text": [
      "your 131072x1 screen size is bogus. expect trouble\n",
      "23/09/26 21:46:07 WARN Utils: Your hostname, DulanComputer resolves to a loopback address: 127.0.1.1; using 172.30.15.25 instead (on interface eth0)\n",
      "23/09/26 21:46:07 WARN Utils: Set SPARK_LOCAL_IP if you need to bind to another address\n",
      "Setting default log level to \"WARN\".\n",
      "To adjust logging level use sc.setLogLevel(newLevel). For SparkR, use setLogLevel(newLevel).\n",
      "23/09/26 21:46:09 WARN NativeCodeLoader: Unable to load native-hadoop library for your platform... using builtin-java classes where applicable\n"
     ]
    }
   ],
   "source": [
    "spark = (\n",
    "    SparkSession.builder.appName(\"postcode_insights\")\n",
    "    .config(\"spark.sql.repl.eagerEval.enabled\", True) \n",
    "    .config(\"spark.sql.parquet.cacheMetadata\", \"true\")\n",
    "    .config(\"spark.sql.session.timeZone\", \"Etc/UTC\")\n",
    "    .config(\"spark.sql.session.timeZone\", \"Etc/UTC\")\n",
    "    .config('spark.driver.memory', '3g')   \n",
    "    .config('spark.executor.memory', '4g')  \n",
    "    .config('spark.executor.instances', '2')  \n",
    "    .config('spark.executor.cores', '2')\n",
    "    .getOrCreate()\n",
    ")"
   ]
  },
  {
   "cell_type": "code",
   "execution_count": 3,
   "metadata": {},
   "outputs": [
    {
     "name": "stderr",
     "output_type": "stream",
     "text": [
      "                                                                                \r"
     ]
    }
   ],
   "source": [
    "postcode = spark.read.parquet(\"../../../data/insights/pre_insights/postcode.parquet/\")"
   ]
  },
  {
   "cell_type": "code",
   "execution_count": 7,
   "metadata": {},
   "outputs": [
    {
     "data": {
      "text/plain": [
       "['merchant_abn',\n",
       " 'consumer_postcode',\n",
       " 'consumer_id',\n",
       " 'merchant_name',\n",
       " 'estimated_population',\n",
       " 'median_age',\n",
       " 'median_mortgage_monthly',\n",
       " 'total_weekly_personal_income',\n",
       " 'median_weekly_rent',\n",
       " 'total_weekly_fam_income',\n",
       " 'avg_num_persons_per_bedroom',\n",
       " 'total_hhd_income_weekly',\n",
       " 'avg_household_size']"
      ]
     },
     "execution_count": 7,
     "metadata": {},
     "output_type": "execute_result"
    }
   ],
   "source": [
    "postcode.columns"
   ]
  },
  {
   "cell_type": "code",
   "execution_count": 8,
   "metadata": {},
   "outputs": [
    {
     "name": "stderr",
     "output_type": "stream",
     "text": [
      "[Stage 1:>                                                          (0 + 1) / 1]\r"
     ]
    },
    {
     "name": "stdout",
     "output_type": "stream",
     "text": [
      "+------------+-----------------+-----------+--------------------------------+--------------------+----------+-----------------------+----------------------------+------------------+-----------------------+---------------------------+-----------------------+------------------+\n",
      "|merchant_abn|consumer_postcode|consumer_id|merchant_name                   |estimated_population|median_age|median_mortgage_monthly|total_weekly_personal_income|median_weekly_rent|total_weekly_fam_income|avg_num_persons_per_bedroom|total_hhd_income_weekly|avg_household_size|\n",
      "+------------+-----------------+-----------+--------------------------------+--------------------+----------+-----------------------+----------------------------+------------------+-----------------------+---------------------------+-----------------------+------------------+\n",
      "|20985347699 |3332             |1343547    |Semper Tellus PC                |8074.0              |40.0      |1733.0                 |780.0                       |308.0             |2103.0                 |0.8                        |1898.0                 |2.9               |\n",
      "|45629217853 |3332             |1343547    |Lacus Consulting                |8074.0              |40.0      |1733.0                 |780.0                       |308.0             |2103.0                 |0.8                        |1898.0                 |2.9               |\n",
      "|71528203369 |3332             |1343547    |Ipsum Primis Associates         |8074.0              |40.0      |1733.0                 |780.0                       |308.0             |2103.0                 |0.8                        |1898.0                 |2.9               |\n",
      "|75900778714 |3332             |1343547    |Laoreet Posuere Foundation      |8074.0              |40.0      |1733.0                 |780.0                       |308.0             |2103.0                 |0.8                        |1898.0                 |2.9               |\n",
      "|66626020312 |3332             |1343547    |In Magna Incorporated           |8074.0              |40.0      |1733.0                 |780.0                       |308.0             |2103.0                 |0.8                        |1898.0                 |2.9               |\n",
      "|17324645993 |3332             |1343547    |Eget Metus In Corporation       |8074.0              |40.0      |1733.0                 |780.0                       |308.0             |2103.0                 |0.8                        |1898.0                 |2.9               |\n",
      "|13285958344 |3332             |1343547    |Purus Gravida Sagittis Inc.     |8074.0              |40.0      |1733.0                 |780.0                       |308.0             |2103.0                 |0.8                        |1898.0                 |2.9               |\n",
      "|99467302626 |3332             |1343547    |Ac Ipsum Foundation             |8074.0              |40.0      |1733.0                 |780.0                       |308.0             |2103.0                 |0.8                        |1898.0                 |2.9               |\n",
      "|41315101616 |3332             |1343547    |Malesuada Fames Foundation      |8074.0              |40.0      |1733.0                 |780.0                       |308.0             |2103.0                 |0.8                        |1898.0                 |2.9               |\n",
      "|32361057556 |3332             |1343547    |Orci In Consequat Corporation   |8074.0              |40.0      |1733.0                 |780.0                       |308.0             |2103.0                 |0.8                        |1898.0                 |2.9               |\n",
      "|26008308191 |3332             |1343547    |Nulla Aliquet LLP               |8074.0              |40.0      |1733.0                 |780.0                       |308.0             |2103.0                 |0.8                        |1898.0                 |2.9               |\n",
      "|24852446429 |3332             |1343547    |Erat Vitae LLP                  |8074.0              |40.0      |1733.0                 |780.0                       |308.0             |2103.0                 |0.8                        |1898.0                 |2.9               |\n",
      "|90994364089 |3332             |1343547    |Rhoncus Proin Inc.              |8074.0              |40.0      |1733.0                 |780.0                       |308.0             |2103.0                 |0.8                        |1898.0                 |2.9               |\n",
      "|31585975447 |3332             |1343547    |Dolor Dapibus Gravida Associates|8074.0              |40.0      |1733.0                 |780.0                       |308.0             |2103.0                 |0.8                        |1898.0                 |2.9               |\n",
      "|27326652377 |3332             |1343547    |Tellus Aenean Corporation       |8074.0              |40.0      |1733.0                 |780.0                       |308.0             |2103.0                 |0.8                        |1898.0                 |2.9               |\n",
      "|96680767841 |3332             |1343547    |Ornare Limited                  |8074.0              |40.0      |1733.0                 |780.0                       |308.0             |2103.0                 |0.8                        |1898.0                 |2.9               |\n",
      "|30122382323 |3332             |1343547    |Ipsum Company                   |8074.0              |40.0      |1733.0                 |780.0                       |308.0             |2103.0                 |0.8                        |1898.0                 |2.9               |\n",
      "|89726005175 |3332             |1343547    |Est Nunc Consulting             |8074.0              |40.0      |1733.0                 |780.0                       |308.0             |2103.0                 |0.8                        |1898.0                 |2.9               |\n",
      "|80324045558 |3332             |1343547    |Ipsum Dolor Sit Corporation     |8074.0              |40.0      |1733.0                 |780.0                       |308.0             |2103.0                 |0.8                        |1898.0                 |2.9               |\n",
      "|57900494384 |3332             |1343547    |Porttitor Tellus Corporation    |8074.0              |40.0      |1733.0                 |780.0                       |308.0             |2103.0                 |0.8                        |1898.0                 |2.9               |\n",
      "+------------+-----------------+-----------+--------------------------------+--------------------+----------+-----------------------+----------------------------+------------------+-----------------------+---------------------------+-----------------------+------------------+\n",
      "only showing top 20 rows\n",
      "\n"
     ]
    },
    {
     "name": "stderr",
     "output_type": "stream",
     "text": [
      "                                                                                \r"
     ]
    }
   ],
   "source": [
    "postcode.show(truncate = False)"
   ]
  },
  {
   "cell_type": "markdown",
   "metadata": {},
   "source": [
    "### Aggregation"
   ]
  },
  {
   "cell_type": "code",
   "execution_count": 4,
   "metadata": {},
   "outputs": [],
   "source": [
    "postcode_agg = postcode.groupBy(\"merchant_abn\").agg\\\n",
    "                (f.first(\"merchant_name\").alias(\"name\"),\n",
    "                 f.countDistinct(\"consumer_postcode\").alias(\"number_of_postcodes\"),\n",
    "                 f.avg(\"total_weekly_personal_income\").alias(\"avg_total_weekly_personal_income\"),\n",
    "                 f.avg(\"total_weekly_fam_income\").alias(\"avg_total_weekly_fam_income\"),\n",
    "                 f.avg(\"median_age\").alias(\"avg_median_age\"),\n",
    "                 f.avg(\"avg_household_size\").alias(\"avg_household_size\"))"
   ]
  },
  {
   "cell_type": "code",
   "execution_count": 9,
   "metadata": {},
   "outputs": [
    {
     "name": "stderr",
     "output_type": "stream",
     "text": [

      "[Stage 10:===================================================>      (8 + 1) / 9]\r"
    {
     "output_type": "stream",
     "text": [
      "+------------+--------------------+-------------------+---------------------+--------------------------------+---------------------------+------------------+------------------+--------------------+\n",
      "|merchant_abn|                name|number_of_postcodes|most_popular_postcode|avg_total_weekly_personal_income|avg_total_weekly_fam_income|    avg_median_age|avg_household_size|      postcode_reach|\n",
      "+------------+--------------------+-------------------+---------------------+--------------------------------+---------------------------+------------------+------------------+--------------------+\n",
      "| 10023283211|       Felis Limited|               1628|                 3275|               786.7023281596453|         1971.1237989652623|43.031966001478196|2.4569142645971915|  0.6169003410382721|\n",
      "| 10342410215|Facilisis Facilis...|                619|                 3458|               792.8706047819971|         1999.0246132208158|43.326300984528835| 2.458368495077356|  0.2345585449033725|\n",
      "| 10346855916|      Odio Institute|                  8|                 5156|                         768.375|                     1979.0|           43.4375|            2.5225|0.003031451307313...|\n",
      "| 10385163239|      Sed Et Company|                 62|                 3984|                     793.0859375|                1989.890625|         42.328125|2.4981249999999995|0.023493747631678667|\n",
      "| 10648956813|Proin Nisl Institute|               2616|                 5410|               791.2288820893891|          1976.119604414818| 43.19910392306852|2.4533919790186864|   0.991284577491474|\n",
      "| 10714068705|Sollicitudin Comm...|               1696|                 2311|               790.3586956521739|         1979.4632505175985|  43.1031746031746|  2.46823326432022|  0.6426676771504358|\n",
      "| 11024352823|Aliquet Metus Urn...|                351|                 3392|               770.8540051679587|         1963.3100775193798| 43.17054263565891|2.4589664082687337|  0.1330049261083744|\n",
      "| 11076688542|Amet Diam Industries|                 45|                 4226|               799.1413043478261|         2020.3804347826087| 41.90217391304348| 2.530217391304348|0.017051913603637742|\n",
      "| 11243046390|Ornare Placerat F...|                356|                 3061|               789.7576923076923|          1940.898717948718| 43.23717948717949|2.4448205128205127| 0.13489958317544523|\n",
      "| 11633090957|Cum Sociis Incorp...|                275|                 5127|               779.4076655052265|         1967.4634146341464| 43.07665505226481| 2.464459930313588|  0.1042061386888973|\n",
      "| 11848576000|Aenean Eget Corpo...|                 86|                 3485|               808.9418604651163|         2046.7209302325582| 43.08139534883721|2.4880232558139537|  0.0325881015536188|\n",
      "| 11944993446| Tincidunt Dui Corp.|               2459|                 4374|               786.9551226394617|         1968.9924571304537|43.117158671586715|2.4535901888430645|   0.931792345585449|\n",
      "| 12219088747|         Velit Corp.|                263|                 2846|               779.2696428571429|                    1931.95| 43.99821428571428| 2.446678571428572| 0.09965896172792725|\n",
      "| 12476477880|Egestas A Sceleri...|                 69|                 3318|               752.7391304347826|          1881.644927536232| 42.84057971014493| 2.425217391304348| 0.02614626752557787|\n",
      "| 12516851436|        Mollis Corp.|                172|                 6153|               803.6005586592179|         1995.6005586592178|42.513966480446925| 2.476368715083799|  0.0651762031072376|\n",
      "| 12771097467|    At Pretium Corp.|                862|                 2485|               789.5938644688645|           1966.27152014652| 43.26282051282051|2.4721794871794875|  0.3266388783630163|\n",
      "| 13066244467|  Ac Orci Industries|                 43|                 2340|                           852.0|         2104.9767441860463|41.406976744186046|2.4811627906976743|  0.0162940507768094|\n",
      "| 13067850740|Felis Eget Indust...|                 23|                 4030|               887.1739130434783|         2150.4565217391305| 41.67391304347826|2.4365217391304346|0.008715422508525956|\n",
      "| 13120157976|Sem Egestas Bland...|                456|                 3465|               806.1613545816733|         2005.7480079681275| 43.05179282868526|2.4621912350597603| 0.17279272451686245|\n",
      "| 13159730941|           Metus LLC|                106|                 2502|               800.9774774774775|           2050.90990990991|  41.8018018018018|2.5116216216216216| 0.04016672982190224|\n",
      "+------------+--------------------+-------------------+---------------------+--------------------------------+---------------------------+------------------+------------------+--------------------+\n",
      "only showing top 20 rows\n",
      "\n"
     ]
    },
    {
     "name": "stderr",
     "output_type": "stream",
     "text": [
      "                                                                                \r"
     ]
    }
   ],
   "source": [
    "postcode_agg.show()"
   ]
  },
  {
   "cell_type": "markdown",
   "metadata": {},
   "source": [
    "### Feature Engineering"
   ]
  },
  {
   "cell_type": "markdown",
   "metadata": {},
   "source": [
    "1. Finding the reach of merchant\n",
    "\n",
    "For this analysis we define reach as the total number of a postcodes that a merchant serves divided by the total number of postcodes."
   ]
  },
  {
   "cell_type": "code",
   "execution_count": 5,
   "metadata": {},
   "outputs": [
    {
     "name": "stderr",
     "output_type": "stream",
     "text": [
      "                                                                                \r"
     ]
    },
    {
     "name": "stderr",
     "output_type": "stream",
     "text": [
      "                                                                                \r"
     ]
    }
   ],
   "source": [
    "total_number_postcodes = postcode.select(f.col(\"consumer_postcode\")).distinct().count()"
   ]
  },
  {
   "cell_type": "code",
   "execution_count": 6,
   "metadata": {},
   "outputs": [],
   "source": [
    "postcode_agg = postcode_agg.withColumn(\"postcode_reach\", postcode_agg.number_of_postcodes/total_number_postcodes)"
   ]
  },
  {
   "cell_type": "markdown",
   "metadata": {},
   "source": [
    "2. Finding the average number of consumers that a merchant serves per postcode."
   ]
  },
  {
   "cell_type": "code",
   "execution_count": 11,
   "metadata": {},
   "outputs": [],
   "source": [
    "consumer_id_count_per_postcode = postcode.groupBy(\"merchant_abn\",\"consumer_postcode\").agg(f.count(\"consumer_id\").alias(\"number_of_consumers\"))\n",
    "avg_num_of_consumers_per_postcode = consumer_id_count_per_postcode.groupBy(\"merchant_abn\").agg(f.avg(\"number_of_consumers\").alias(\"avg_num_of_consumers_per_postcode\"))"
   ]
  },
  {
   "cell_type": "code",
   "execution_count": 12,
   "metadata": {},
   "outputs": [
    {
     "name": "stderr",
     "output_type": "stream",
     "text": [
      "[Stage 16:>                                                         (0 + 8) / 9]\r"
     ]
    },
    {
     "name": "stdout",
     "output_type": "stream",
     "text": [
      "+------------+---------------------------------+\n",
      "|merchant_abn|avg_num_of_consumers_per_postcode|\n",
      "+------------+---------------------------------+\n",
      "| 15613631617|                1.354337899543379|\n",
      "| 38700038932|                2.600174978127734|\n",
      "| 73256306726|                2.128355295265983|\n",
      "| 19839532017|               1.1163636363636364|\n",
      "| 83412691377|                4.675813406507252|\n",
      "| 12516851436|               1.0406976744186047|\n",
      "| 35344855546|               1.2804020100502513|\n",
      "| 73841664453|               1.1944035346097202|\n",
      "| 48214071373|               1.0760095011876485|\n",
      "| 41956465747|               1.0517241379310345|\n",
      "| 96946925998|                 1.02803738317757|\n",
      "| 34440496342|                1.016304347826087|\n",
      "| 52763133264|               1.0277777777777777|\n",
      "| 60654402457|               1.0463576158940397|\n",
      "| 92202115241|               1.0103092783505154|\n",
      "| 38986645707|                              1.0|\n",
      "| 57798993346|                              1.0|\n",
      "| 78916025936|               1.0196078431372548|\n",
      "| 37935728745|                              1.0|\n",
      "| 59128133246|               2.4149321266968324|\n",
      "+------------+---------------------------------+\n",
      "only showing top 20 rows\n",
      "\n"
     ]
    }
   ],
   "source": [
    "avg_num_of_consumers_per_postcode.show()"
   ]
  },
  {
   "cell_type": "markdown",
   "metadata": {},
   "source": [
    "### Join\n",
    "\n",
    "Now we will join the created features to the aggregated dataset."
   ]
  },
  {
   "cell_type": "code",
   "execution_count": 13,
   "metadata": {},
   "outputs": [],
   "source": [
    "postcode_agg = postcode_agg.join(avg_num_of_consumers_per_postcode, on = \"merchant_abn\", how = \"inner\")"
   ]
  },
  {
   "cell_type": "code",
   "execution_count": null,
   "metadata": {},
   "outputs": [],
   "source": [
    "postcode_agg.orderBy(f.col(\"avg_num_of_consumers_per_postcode\").desc()).show(5,truncate = False)"
   ]
  },
  {
   "cell_type": "markdown",
   "metadata": {},
   "source": [
    "### Saving the Data"
   ]
  },
  {
   "cell_type": "code",
   "execution_count": 14,
   "metadata": {},
   "outputs": [
    {
     "name": "stderr",
     "output_type": "stream",
     "text": [
      "                                                                                \r"
     ]
    }
   ],
   "source": [
    "postcode_agg.write.mode(\"overwrite\").parquet(\"../../../data/insights/agg_insight_data/postcode_agg.parquet\")"
   ]
  },
  {
   "cell_type": "code",
   "execution_count": 15,
   "metadata": {},
   "outputs": [],
   "source": [
    "spark.stop()"
   ]
  }
 ],
 "metadata": {
  "kernelspec": {
   "display_name": "Python 3",
   "language": "python",
   "name": "python3"
  },
  "language_info": {
   "codemirror_mode": {
    "name": "ipython",
    "version": 3
   },
   "file_extension": ".py",
   "mimetype": "text/x-python",
   "name": "python",
   "nbconvert_exporter": "python",
   "pygments_lexer": "ipython3",
   "version": "3.8.10"
  },
  "orig_nbformat": 4
 },
 "nbformat": 4,
 "nbformat_minor": 2
}
