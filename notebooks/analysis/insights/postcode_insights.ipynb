{
 "cells": [
  {
   "cell_type": "code",
   "execution_count": 1,
   "metadata": {},
   "outputs": [],
   "source": [
    "from pyspark.sql import SparkSession, functions as f"
   ]
  },
  {
   "cell_type": "code",
   "execution_count": 2,
   "metadata": {},
   "outputs": [
    {
     "name": "stderr",
     "output_type": "stream",
     "text": [
      "your 131072x1 screen size is bogus. expect trouble\n",
      "23/09/14 00:09:37 WARN Utils: Your hostname, NivethanAsus resolves to a loopback address: 127.0.1.1; using 172.20.150.32 instead (on interface eth0)\n",
      "23/09/14 00:09:37 WARN Utils: Set SPARK_LOCAL_IP if you need to bind to another address\n",
      "Setting default log level to \"WARN\".\n",
      "To adjust logging level use sc.setLogLevel(newLevel). For SparkR, use setLogLevel(newLevel).\n",
      "23/09/14 00:09:39 WARN NativeCodeLoader: Unable to load native-hadoop library for your platform... using builtin-java classes where applicable\n",
      "23/09/14 00:09:41 WARN Utils: Service 'SparkUI' could not bind on port 4040. Attempting port 4041.\n"
     ]
    }
   ],
   "source": [
    "spark = (\n",
    "    SparkSession.builder.appName(\"Preprocessing_Yellow\")\n",
    "    .config(\"spark.sql.repl.eagerEval.enabled\", True) \n",
    "    .config(\"spark.sql.parquet.cacheMetadata\", \"true\")\n",
    "    .config(\"spark.sql.session.timeZone\", \"Etc/UTC\")\n",
    "    .config(\"spark.sql.session.timeZone\", \"Etc/UTC\")\n",
    "    .config('spark.driver.memory', '3g')   \n",
    "    .config('spark.executor.memory', '4g')  \n",
    "    .config('spark.executor.instances', '2')  \n",
    "    .config('spark.executor.cores', '2')\n",
    "    .getOrCreate()\n",
    ")"
   ]
  },
  {
   "cell_type": "code",
   "execution_count": 3,
   "metadata": {},
   "outputs": [
    {
     "name": "stderr",
     "output_type": "stream",
     "text": [
      "                                                                                \r"
     ]
    }
   ],
   "source": [
    "postcode = spark.read.parquet(\"../../../data/insights/pre_insights/postcode.parquet/\")"
   ]
  },
  {
   "cell_type": "code",
   "execution_count": 4,
   "metadata": {},
   "outputs": [
    {
     "name": "stderr",
     "output_type": "stream",
     "text": [
      "[Stage 1:>                                                          (0 + 1) / 1]\r"
     ]
    },
    {
     "name": "stdout",
     "output_type": "stream",
     "text": [
      "+------------+-----------------+-----------+--------------------------------+--------------------+----------+-----------------------+----------------------------+------------------+-----------------------+---------------------------+-----------------------+------------------+\n",
      "|merchant_abn|consumer_postcode|consumer_id|merchant_name                   |estimated_population|median_age|median_mortgage_monthly|total_weekly_personal_income|median_weekly_rent|total_weekly_fam_income|avg_num_persons_per_bedroom|total_hhd_income_weekly|avg_household_size|\n",
      "+------------+-----------------+-----------+--------------------------------+--------------------+----------+-----------------------+----------------------------+------------------+-----------------------+---------------------------+-----------------------+------------------+\n",
      "|20985347699 |3332             |1343547    |Semper Tellus PC                |8074.0              |40.0      |1733.0                 |780.0                       |308.0             |2103.0                 |0.8                        |1898.0                 |2.9               |\n",
      "|45629217853 |3332             |1343547    |Lacus Consulting                |8074.0              |40.0      |1733.0                 |780.0                       |308.0             |2103.0                 |0.8                        |1898.0                 |2.9               |\n",
      "|71528203369 |3332             |1343547    |Ipsum Primis Associates         |8074.0              |40.0      |1733.0                 |780.0                       |308.0             |2103.0                 |0.8                        |1898.0                 |2.9               |\n",
      "|75900778714 |3332             |1343547    |Laoreet Posuere Foundation      |8074.0              |40.0      |1733.0                 |780.0                       |308.0             |2103.0                 |0.8                        |1898.0                 |2.9               |\n",
      "|66626020312 |3332             |1343547    |In Magna Incorporated           |8074.0              |40.0      |1733.0                 |780.0                       |308.0             |2103.0                 |0.8                        |1898.0                 |2.9               |\n",
      "|17324645993 |3332             |1343547    |Eget Metus In Corporation       |8074.0              |40.0      |1733.0                 |780.0                       |308.0             |2103.0                 |0.8                        |1898.0                 |2.9               |\n",
      "|13285958344 |3332             |1343547    |Purus Gravida Sagittis Inc.     |8074.0              |40.0      |1733.0                 |780.0                       |308.0             |2103.0                 |0.8                        |1898.0                 |2.9               |\n",
      "|99467302626 |3332             |1343547    |Ac Ipsum Foundation             |8074.0              |40.0      |1733.0                 |780.0                       |308.0             |2103.0                 |0.8                        |1898.0                 |2.9               |\n",
      "|41315101616 |3332             |1343547    |Malesuada Fames Foundation      |8074.0              |40.0      |1733.0                 |780.0                       |308.0             |2103.0                 |0.8                        |1898.0                 |2.9               |\n",
      "|32361057556 |3332             |1343547    |Orci In Consequat Corporation   |8074.0              |40.0      |1733.0                 |780.0                       |308.0             |2103.0                 |0.8                        |1898.0                 |2.9               |\n",
      "|26008308191 |3332             |1343547    |Nulla Aliquet LLP               |8074.0              |40.0      |1733.0                 |780.0                       |308.0             |2103.0                 |0.8                        |1898.0                 |2.9               |\n",
      "|24852446429 |3332             |1343547    |Erat Vitae LLP                  |8074.0              |40.0      |1733.0                 |780.0                       |308.0             |2103.0                 |0.8                        |1898.0                 |2.9               |\n",
      "|90994364089 |3332             |1343547    |Rhoncus Proin Inc.              |8074.0              |40.0      |1733.0                 |780.0                       |308.0             |2103.0                 |0.8                        |1898.0                 |2.9               |\n",
      "|31585975447 |3332             |1343547    |Dolor Dapibus Gravida Associates|8074.0              |40.0      |1733.0                 |780.0                       |308.0             |2103.0                 |0.8                        |1898.0                 |2.9               |\n",
      "|27326652377 |3332             |1343547    |Tellus Aenean Corporation       |8074.0              |40.0      |1733.0                 |780.0                       |308.0             |2103.0                 |0.8                        |1898.0                 |2.9               |\n",
      "|96680767841 |3332             |1343547    |Ornare Limited                  |8074.0              |40.0      |1733.0                 |780.0                       |308.0             |2103.0                 |0.8                        |1898.0                 |2.9               |\n",
      "|30122382323 |3332             |1343547    |Ipsum Company                   |8074.0              |40.0      |1733.0                 |780.0                       |308.0             |2103.0                 |0.8                        |1898.0                 |2.9               |\n",
      "|89726005175 |3332             |1343547    |Est Nunc Consulting             |8074.0              |40.0      |1733.0                 |780.0                       |308.0             |2103.0                 |0.8                        |1898.0                 |2.9               |\n",
      "|80324045558 |3332             |1343547    |Ipsum Dolor Sit Corporation     |8074.0              |40.0      |1733.0                 |780.0                       |308.0             |2103.0                 |0.8                        |1898.0                 |2.9               |\n",
      "|57900494384 |3332             |1343547    |Porttitor Tellus Corporation    |8074.0              |40.0      |1733.0                 |780.0                       |308.0             |2103.0                 |0.8                        |1898.0                 |2.9               |\n",
      "+------------+-----------------+-----------+--------------------------------+--------------------+----------+-----------------------+----------------------------+------------------+-----------------------+---------------------------+-----------------------+------------------+\n",
      "only showing top 20 rows\n",
      "\n"
     ]
    },
    {
     "name": "stderr",
     "output_type": "stream",
     "text": [
      "                                                                                \r"
     ]
    }
   ],
   "source": [
    "postcode.show(truncate = False)"
   ]
  },
  {
   "cell_type": "code",
   "execution_count": 5,
   "metadata": {},
   "outputs": [],
   "source": [
    "postcode_agg = postcode.groupBy(\"merchant_abn\").agg\\\n",
    "                (f.first(\"merchant_name\").alias(\"name\"),\n",
    "                 f.count(\"consumer_postcode\").alias(\"number_of_postcodes\"),\n",
    "                 f.mode(\"consumer_postcode\").alias(\"most_popular_postcode\"),\n",
    "                 f.avg(\"total_weekly_personal_income\").alias(\"avg_total_weekly_personal_income\"),\n",
    "                 f.avg(\"total_weekly_fam_income\").alias(\"avg_total_weekly_fam_income\"),\n",
    "                 f.avg(\"median_age\").alias(\"avg_median_age\"))"
   ]
  },
  {
   "cell_type": "code",
   "execution_count": 6,
   "metadata": {},
   "outputs": [
    {
     "name": "stderr",
     "output_type": "stream",
     "text": [
      "[Stage 4:===================================================>       (7 + 1) / 8]\r"
     ]
    },
    {
     "name": "stdout",
     "output_type": "stream",
     "text": [
      "+------------+---------------------------+-------------------+---------------------+--------------------------------+---------------------------+------------------+\n",
      "|merchant_abn|name                       |number_of_postcodes|most_popular_postcode|avg_total_weekly_personal_income|avg_total_weekly_fam_income|avg_median_age    |\n",
      "+------------+---------------------------+-------------------+---------------------+--------------------------------+---------------------------+------------------+\n",
      "|24852446429 |Erat Vitae LLP             |241547             |6470                 |789.8770611930597               |1977.015175100498          |43.09343523206664 |\n",
      "|86578477987 |Leo In Consulting          |227812             |7320                 |790.1220326409496               |1978.2443615788457         |43.12187242111917 |\n",
      "|64203420245 |Pede Nonummy Corp.         |217620             |6470                 |790.7058151824281               |1979.7334918665563         |43.111308703244184|\n",
      "|49891706470 |Non Vestibulum Industries  |206916             |3415                 |790.1097885132131               |1977.1003716483983         |43.10987792147538 |\n",
      "|46804135891 |Suspendisse Dui Corporation|195692             |6470                 |790.3532259877767               |1978.180837745028          |43.1073165995544  |\n",
      "+------------+---------------------------+-------------------+---------------------+--------------------------------+---------------------------+------------------+\n",
      "only showing top 5 rows\n",
      "\n"
     ]
    },
    {
     "name": "stderr",
     "output_type": "stream",
     "text": [
      "                                                                                \r"
     ]
    }
   ],
   "source": [
    "postcode_agg.orderBy(f.col(\"number_of_postcodes\").desc()).show(5,truncate = False)"
   ]
  },
  {
   "cell_type": "markdown",
   "metadata": {},
   "source": [
    "Checking the proportion of the most popular postcode of the merchant whech served the highest number of consumers in different postcode, i.e, Erat Vitae LLP"
   ]
  },
  {
   "cell_type": "code",
   "execution_count": 7,
   "metadata": {},
   "outputs": [
    {
     "name": "stderr",
     "output_type": "stream",
     "text": [
      "[Stage 5:=======>                                                   (1 + 7) / 8]\r"
     ]
    },
    {
     "name": "stdout",
     "output_type": "stream",
     "text": [
      "0.000993595449332842\n"
     ]
    },
    {
     "name": "stderr",
     "output_type": "stream",
     "text": [
      "                                                                                \r"
     ]
    }
   ],
   "source": [
    "EVLLP = postcode.filter(postcode.merchant_abn == 24852446429)\n",
    "mode_pc_EVLLP = EVLLP.filter(EVLLP.consumer_postcode == 6470).count()\n",
    "total_pc_EVLLP = 241547\n",
    "proportion = mode_pc_EVLLP/total_pc_EVLLP\n",
    "print(proportion)"
   ]
  },
  {
   "cell_type": "markdown",
   "metadata": {},
   "source": [
    "Using the most popular postcode seems infeasable as the proportion of the most popular postcode is very small."
   ]
  },
  {
   "cell_type": "code",
   "execution_count": 8,
   "metadata": {},
   "outputs": [],
   "source": [
    "postcode_agg = postcode_agg.drop(\"most_popular_postcode\")"
   ]
  },
  {
   "cell_type": "code",
   "execution_count": 9,
   "metadata": {},
   "outputs": [],
   "source": [
    "consumer_id_count_per_postcode = postcode.groupBy(\"merchant_abn\",\"consumer_postcode\").agg(f.count(\"consumer_id\").alias(\"number_of_consumers\"))\n",
    "avg_num_of_consumers_per_postcode = consumer_id_count_per_postcode.groupBy(\"merchant_abn\").agg(f.avg(\"number_of_consumers\").alias(\"avg_num_of_consumers_per_postcode\"))"
   ]
  },
  {
   "cell_type": "code",
   "execution_count": 10,
   "metadata": {},
   "outputs": [],
   "source": [
    "postcode_agg = postcode_agg.join(avg_num_of_consumers_per_postcode, on = \"merchant_abn\", how = \"leftouter\")"
   ]
  },
  {
   "cell_type": "code",
   "execution_count": 11,
   "metadata": {},
   "outputs": [
    {
     "name": "stderr",
     "output_type": "stream",
     "text": [
      "                                                                                \r"
     ]
    },
    {
     "name": "stdout",
     "output_type": "stream",
     "text": [
      "+------------+---------------------------+-------------------+--------------------------------+---------------------------+------------------+---------------------------------+\n",
      "|merchant_abn|name                       |number_of_postcodes|avg_total_weekly_personal_income|avg_total_weekly_fam_income|avg_median_age    |avg_num_of_consumers_per_postcode|\n",
      "+------------+---------------------------+-------------------+--------------------------------+---------------------------+------------------+---------------------------------+\n",
      "|24852446429 |Erat Vitae LLP             |241547             |789.8770611930597               |1977.015175100498          |43.09343523206664 |91.52974611595302                |\n",
      "|86578477987 |Leo In Consulting          |227812             |790.1220326409496               |1978.2443615788457         |43.12187242111917 |86.32512315270937                |\n",
      "|64203420245 |Pede Nonummy Corp.         |217620             |790.7058151824281               |1979.7334918665563         |43.111308703244184|82.46305418719211                |\n",
      "|49891706470 |Non Vestibulum Industries  |206916             |790.1097885132131               |1977.1003716483983         |43.10987792147538 |78.40697233800682                |\n",
      "|46804135891 |Suspendisse Dui Corporation|195692             |790.3532259877767               |1978.180837745028          |43.1073165995544  |74.15384615384616                |\n",
      "+------------+---------------------------+-------------------+--------------------------------+---------------------------+------------------+---------------------------------+\n",
      "only showing top 5 rows\n",
      "\n"
     ]
    }
   ],
   "source": [
    "postcode_agg.orderBy(f.col(\"avg_num_of_consumers_per_postcode\").desc()).show(5,truncate = False)"
   ]
  },
  {
   "cell_type": "code",
   "execution_count": 12,
   "metadata": {},
   "outputs": [
    {
     "data": {
      "text/html": [
       "<table border='1'>\n",
       "<tr><th>summary</th><th>median_age</th></tr>\n",
       "<tr><td>count</td><td>11372745</td></tr>\n",
       "<tr><td>mean</td><td>43.107443101907236</td></tr>\n",
       "<tr><td>stddev</td><td>6.327153848420073</td></tr>\n",
       "<tr><td>min</td><td>17.5</td></tr>\n",
       "<tr><td>max</td><td>63.0</td></tr>\n",
       "</table>\n"
      ],
      "text/plain": [
       "+-------+------------------+\n",
       "|summary|        median_age|\n",
       "+-------+------------------+\n",
       "|  count|          11372745|\n",
       "|   mean|43.107443101907236|\n",
       "| stddev| 6.327153848420073|\n",
       "|    min|              17.5|\n",
       "|    max|              63.0|\n",
       "+-------+------------------+"
      ]
     },
     "execution_count": 12,
     "metadata": {},
     "output_type": "execute_result"
    }
   ],
   "source": [
    "postcode.select(\"median_age\").describe()"
   ]
  },
  {
   "cell_type": "code",
   "execution_count": 13,
   "metadata": {},
   "outputs": [
    {
     "data": {
      "text/html": [
       "<table border='1'>\n",
       "<tr><th>summary</th><th>avg_median_age</th></tr>\n",
       "<tr><td>count</td><td>4026</td></tr>\n",
       "<tr><td>mean</td><td>43.11234880875574</td></tr>\n",
       "<tr><td>stddev</td><td>0.9910923398149493</td></tr>\n",
       "<tr><td>min</td><td>26.0</td></tr>\n",
       "<tr><td>max</td><td>55.0</td></tr>\n",
       "</table>\n"
      ],
      "text/plain": [
       "+-------+------------------+\n",
       "|summary|    avg_median_age|\n",
       "+-------+------------------+\n",
       "|  count|              4026|\n",
       "|   mean| 43.11234880875574|\n",
       "| stddev|0.9910923398149493|\n",
       "|    min|              26.0|\n",
       "|    max|              55.0|\n",
       "+-------+------------------+"
      ]
     },
     "execution_count": 13,
     "metadata": {},
     "output_type": "execute_result"
    }
   ],
   "source": [
    "postcode_agg.select(\"avg_median_age\").describe()"
   ]
  },
  {
   "cell_type": "code",
   "execution_count": 14,
   "metadata": {},
   "outputs": [
    {
     "name": "stderr",
     "output_type": "stream",
     "text": [
      "                                                                                \r"
     ]
    }
   ],
   "source": [
    "postcode_agg.write.mode(\"overwrite\").parquet(\"../../../data/insights/agg_insight_data/postcode_agg.parquet\")"
   ]
  },
  {
   "cell_type": "markdown",
   "metadata": {},
   "source": [
    "### Insights into postcodes\n",
    "- Most consumers are aged between 30-50 years old.\n"
   ]
  }
 ],
 "metadata": {
  "kernelspec": {
   "display_name": "Python 3",
   "language": "python",
   "name": "python3"
  },
  "language_info": {
   "codemirror_mode": {
    "name": "ipython",
    "version": 3
   },
   "file_extension": ".py",
   "mimetype": "text/x-python",
   "name": "python",
   "nbconvert_exporter": "python",
   "pygments_lexer": "ipython3",
   "version": "3.8.10"
  },
  "orig_nbformat": 4
 },
 "nbformat": 4,
 "nbformat_minor": 2
}
