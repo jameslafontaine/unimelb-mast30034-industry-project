{
 "cells": [
  {
   "cell_type": "code",
   "execution_count": 1,
   "metadata": {},
   "outputs": [],
   "source": [
    "from pyspark.sql import SparkSession, functions as f"
   ]
  },
  {
   "cell_type": "code",
   "execution_count": 2,
   "metadata": {},
   "outputs": [
    {
     "name": "stderr",
     "output_type": "stream",
     "text": [
      "your 131072x1 screen size is bogus. expect trouble\n",
      "23/09/29 22:12:38 WARN Utils: Your hostname, LAPTOP-RELH58H1 resolves to a loopback address: 127.0.1.1; using 172.19.22.4 instead (on interface eth0)\n",
      "23/09/29 22:12:38 WARN Utils: Set SPARK_LOCAL_IP if you need to bind to another address\n",
      "Setting default log level to \"WARN\".\n",
      "To adjust logging level use sc.setLogLevel(newLevel). For SparkR, use setLogLevel(newLevel).\n",
      "23/09/29 22:12:42 WARN NativeCodeLoader: Unable to load native-hadoop library for your platform... using builtin-java classes where applicable\n",
      "23/09/29 22:12:50 WARN Utils: Service 'SparkUI' could not bind on port 4040. Attempting port 4041.\n"
     ]
    }
   ],
   "source": [
    "spark = (\n",
    "    SparkSession.builder.appName(\"Preprocessing_Yellow\")\n",
    "    .config(\"spark.sql.repl.eagerEval.enabled\", True) \n",
    "    .config(\"spark.sql.parquet.cacheMetadata\", \"true\")\n",
    "    .config(\"spark.sql.session.timeZone\", \"Etc/UTC\")\n",
    "    .config(\"spark.sql.session.timeZone\", \"Etc/UTC\")\n",
    "    .config('spark.driver.memory', '3g')   \n",
    "    .config('spark.executor.memory', '4g')  \n",
    "    .config('spark.executor.instances', '2')  \n",
    "    .config('spark.executor.cores', '2')\n",
    "    .getOrCreate()\n",
    ")"
   ]
  },
  {
   "cell_type": "code",
   "execution_count": 4,
   "metadata": {},
   "outputs": [
    {
     "name": "stderr",
     "output_type": "stream",
     "text": [
      "                                                                                \r"
     ]
    }
   ],
   "source": [
    "consumers = spark.read.parquet(\"../../../data/insights/pre_insights/consumers.parquet/\")"
   ]
  },
  {
   "cell_type": "code",
   "execution_count": 18,
   "metadata": {},
   "outputs": [],
   "source": [
    "consumers_aggregated = consumers.groupBy(\"merchant_abn\").agg(\n",
    "                        f.countDistinct(\"consumer_id\").alias(\"number_of_unique_consumers\"),\n",
    "                        f.avg(\"consumer_fraud_probability_%\").alias(\"average_consumer_fraud_probability\"))"
   ]
  },
  {
   "cell_type": "code",
   "execution_count": 6,
   "metadata": {},
   "outputs": [
    {
     "name": "stderr",
     "output_type": "stream",
     "text": [
      "[Stage 1:===================================================>       (7 + 1) / 8]\r"
     ]
    },
    {
     "name": "stdout",
     "output_type": "stream",
     "text": [
      "+------------+--------------------------+----------------------------------+\n",
      "|merchant_abn|number_of_unique_consumers|average_consumer_fraud_probability|\n",
      "+------------+--------------------------+----------------------------------+\n",
      "+------------+--------------------------+----------------------------------+\n",
      "\n"
     ]
    },
    {
     "name": "stderr",
     "output_type": "stream",
     "text": [
      "                                                                                \r"
     ]
    }
   ],
   "source": [
    "consumers_aggregated.filter(consumers_aggregated[\"number_of_unique_consumers\"] == 0 ).show()"
   ]
  },
  {
   "cell_type": "code",
   "execution_count": 6,
   "metadata": {},
   "outputs": [],
   "source": [
    "repeat_consumers = consumers.groupBy(\"merchant_abn\", \"consumer_id\").agg(f.count(\"consumer_id\").alias(\"consumer_order_times\"))\n",
    "repeat_consumers_order_times = repeat_consumers.groupBy(\"merchant_abn\").agg(f.avg(\"consumer_order_times\").alias(\"average_repeat_transactions_per_consumer\"))\n",
    "repeat_consumers = repeat_consumers.filter(repeat_consumers.consumer_order_times > 1)\n",
    "repeat_consumers_count = repeat_consumers.groupBy(\"merchant_abn\").agg(f.count(\"consumer_order_times\").alias(\"number_of_repeat_consumers\"))"
   ]
  },
  {
   "cell_type": "code",
   "execution_count": 7,
   "metadata": {},
   "outputs": [
    {
     "name": "stderr",
     "output_type": "stream",
     "text": [
      "[Stage 9:====================================================>      (8 + 1) / 9]\r"
     ]
    },
    {
     "name": "stdout",
     "output_type": "stream",
     "text": [
      "+------------+----------------------------------------+\n",
      "|merchant_abn|average_repeat_transactions_per_consumer|\n",
      "+------------+----------------------------------------+\n",
      "| 24852446429|                      12.008899274137416|\n",
      "| 86578477987|                      11.325478498632862|\n",
      "| 64203420245|                      10.818791946308725|\n",
      "| 49891706470|                      10.287674638293641|\n",
      "| 46804135891|                        9.72962760403719|\n",
      "| 45629217853|                       9.485508327119065|\n",
      "| 89726005175|                       8.960375857611615|\n",
      "| 43186523025|                       8.348582794629538|\n",
      "| 80324045558|                        8.17741534483616|\n",
      "| 63290521567|                       7.564222465426326|\n",
      "| 68216911708|                       7.516937770482017|\n",
      "| 21439773999|                       5.043445617898794|\n",
      "| 64403598239|                       4.755238095238095|\n",
      "| 72472909171|                       4.294793609193085|\n",
      "| 94493496784|                        4.19430392553622|\n",
      "| 79417999332|                       4.178874092009686|\n",
      "| 60956456424|                       3.862773053617801|\n",
      "| 32361057556|                       3.672024571282314|\n",
      "| 91923722701|                      3.3744707218837138|\n",
      "| 49505931725|                      3.0109240593171145|\n",
      "+------------+----------------------------------------+\n",
      "only showing top 20 rows\n",
      "\n"
     ]
    },
    {
     "name": "stderr",
     "output_type": "stream",
     "text": [
      "                                                                                \r"
     ]
    }
   ],
   "source": [
    "repeat_consumers_order_times.orderBy(f.col(\"average_repeat_transactions_per_consumer\").desc()).show()"
   ]
  },
  {
   "cell_type": "code",
   "execution_count": 8,
   "metadata": {},
   "outputs": [],
   "source": [
    "consumers_aggregated = consumers_aggregated.join(repeat_consumers_count, on = \"merchant_abn\", how = \"inner\")\n",
    "consumers_aggregated = consumers_aggregated.join(repeat_consumers_order_times, on = \"merchant_abn\", how = \"inner\")"
   ]
  },
  {
   "cell_type": "code",
   "execution_count": 9,
   "metadata": {},
   "outputs": [],
   "source": [
    "consumers_aggregated.orderBy(f.col(\"number_of_unique_consumers\").asc()).show()"
   ]
  },
  {
   "cell_type": "code",
   "execution_count": 10,
   "metadata": {},
   "outputs": [
    {
     "name": "stderr",
     "output_type": "stream",
     "text": [
      "[Stage 24:===================================================>      (8 + 1) / 9]\r"
     ]
    },
    {
     "name": "stdout",
     "output_type": "stream",
     "text": [
      "+------------+--------------------------+----------------------------------+--------------------------+----------------------------------------+----------------------+\n",
      "|merchant_abn|number_of_unique_consumers|average_consumer_fraud_probability|number_of_repeat_consumers|average_repeat_transactions_per_consumer|consumer_retainability|\n",
      "+------------+--------------------------+----------------------------------+--------------------------+----------------------------------------+----------------------+\n",
      "| 45629217853|                     20115|              0.042364532680646334|                     20095|                       9.485508327119065|    0.9990057171265225|\n",
      "| 86578477987|                     20115|              0.043976018822537884|                     20113|                      11.325478498632862|    0.9999005717126522|\n",
      "| 64203420245|                     20115|               0.04343806405661244|                     20112|                      10.818791946308725|    0.9998508575689784|\n",
      "| 89726005175|                     20114|               0.04447215320508907|                     20090|                       8.960375857611615|     0.998806801232972|\n",
      "| 24852446429|                     20114|               0.04446225413687606|                     20112|                      12.008899274137416|    0.9999005667694143|\n",
      "| 49891706470|                     20113|               0.04247220417947379|                     20107|                      10.287674638293641|    0.9997016854770546|\n",
      "| 46804135891|                     20113|               0.04336435521125033|                     20102|                        9.72962760403719|    0.9994530900412668|\n",
      "| 80324045558|                     20111|               0.03837633227124581|                     20056|                        8.17741534483616|    0.9972651782606534|\n",
      "| 43186523025|                     20110|               0.04278210494966943|                     20070|                       8.348582794629538|    0.9980109398309299|\n",
      "| 68216911708|                     20103|              0.045805612356316146|                     20028|                       7.516937770482017|    0.9962692135502164|\n",
      "| 63290521567|                     20102|               0.04495485150207818|                     20024|                       7.564222465426326|    0.9961197890757139|\n",
      "| 21439773999|                     19979|              0.044972224923831176|                     19324|                       5.043445617898794|     0.967215576355173|\n",
      "| 64403598239|                     19950|              0.049374125881497255|                     19106|                       4.755238095238095|    0.9576942355889724|\n",
      "| 72472909171|                     19841|               0.04131709011535798|                     18610|                       4.294793609193085|    0.9379567562118845|\n",
      "| 79417999332|                     19824|               0.04912085657033871|                     18483|                       4.178874092009686|    0.9323547215496368|\n",
      "| 94493496784|                     19768|              0.042772712361149635|                     18485|                        4.19430392553622|    0.9350971266693646|\n",
      "| 60956456424|                     19639|              0.047627794255282685|                     17901|                       3.862773053617801|    0.9115026223331126|\n",
      "| 32361057556|                     19535|              0.045322716183625385|                     17568|                       3.672024571282314|    0.8993089326849245|\n",
      "| 91923722701|                     19366|              0.037161496557000774|                     16802|                      3.3744707218837138|    0.8676030155943406|\n",
      "| 49505931725|                     18949|               0.04560573491779718|                     15668|                      3.0109240593171145|    0.8268510211620665|\n",
      "+------------+--------------------------+----------------------------------+--------------------------+----------------------------------------+----------------------+\n",
      "only showing top 20 rows\n",
      "\n"
     ]
    },
    {
     "name": "stderr",
     "output_type": "stream",
     "text": [
      "                                                                                \r"
     ]
    }
   ],
   "source": [
    "consumers_aggregated.orderBy(f.col(\"number_of_unique_consumers\").desc()).show()"
   ]
  },
  {
   "cell_type": "code",
   "execution_count": 11,
   "metadata": {},
   "outputs": [
    {
     "name": "stderr",
     "output_type": "stream",
     "text": [
      "                                                                                \r"
     ]
    }
   ],
   "source": [
    "consumers_aggregated.write.mode(\"overwrite\").parquet(\"../../../data/insights/agg_insight_data/consumers_agg.parquet\")"
   ]
  },
  {
   "cell_type": "code",
   "execution_count": 12,
   "metadata": {},
   "outputs": [],
   "source": [
    "spark.stop()"
   ]
  }
 ],
 "metadata": {
  "kernelspec": {
   "display_name": "Python 3",
   "language": "python",
   "name": "python3"
  },
  "language_info": {
   "codemirror_mode": {
    "name": "ipython",
    "version": 3
   },
   "file_extension": ".py",
   "mimetype": "text/x-python",
   "name": "python",
   "nbconvert_exporter": "python",
   "pygments_lexer": "ipython3",
   "version": "3.9.5"
  },
  "orig_nbformat": 4
 },
 "nbformat": 4,
 "nbformat_minor": 2
}
