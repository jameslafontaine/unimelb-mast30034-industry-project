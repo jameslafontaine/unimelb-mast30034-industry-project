{
 "cells": [
  {
   "cell_type": "code",
   "execution_count": 1,
   "metadata": {},
   "outputs": [],
   "source": [
    "from pyspark.sql import SparkSession, functions as f"
   ]
  },
  {
   "cell_type": "code",
   "execution_count": 2,
   "metadata": {},
   "outputs": [
    {
     "name": "stderr",
     "output_type": "stream",
     "text": [
      "your 131072x1 screen size is bogus. expect trouble\n",
      "23/09/30 17:48:16 WARN Utils: Your hostname, DulanComputer resolves to a loopback address: 127.0.1.1; using 172.30.15.25 instead (on interface eth0)\n",
      "23/09/30 17:48:16 WARN Utils: Set SPARK_LOCAL_IP if you need to bind to another address\n",
      "Setting default log level to \"WARN\".\n",
      "To adjust logging level use sc.setLogLevel(newLevel). For SparkR, use setLogLevel(newLevel).\n",
      "23/09/30 17:48:18 WARN NativeCodeLoader: Unable to load native-hadoop library for your platform... using builtin-java classes where applicable\n",
      "23/09/30 17:48:19 WARN Utils: Service 'SparkUI' could not bind on port 4040. Attempting port 4041.\n"
     ]
    }
   ],
   "source": [
    "spark = (\n",
    "    SparkSession.builder.appName(\"Preprocessing_Yellow\")\n",
    "    .config(\"spark.sql.repl.eagerEval.enabled\", True) \n",
    "    .config(\"spark.sql.parquet.cacheMetadata\", \"true\")\n",
    "    .config(\"spark.sql.session.timeZone\", \"Etc/UTC\")\n",
    "    .config(\"spark.sql.session.timeZone\", \"Etc/UTC\")\n",
    "    .config('spark.driver.memory', '3g')   \n",
    "    .config('spark.executor.memory', '4g')  \n",
    "    .config('spark.executor.instances', '2')  \n",
    "    .config('spark.executor.cores', '2')\n",
    "    .getOrCreate()\n",
    ")"
   ]
  },
  {
   "cell_type": "code",
   "execution_count": 3,
   "metadata": {},
   "outputs": [
    {
     "name": "stderr",
     "output_type": "stream",
     "text": [
      "                                                                                \r"
     ]
    }
   ],
   "source": [
    "consumers = spark.read.parquet(\"../../../data/insights/pre_insights/consumers.parquet\")"
   ]
  },
  {
   "cell_type": "code",
   "execution_count": 12,
   "metadata": {},
   "outputs": [],
   "source": [
    "consumers_aggregated = consumers.groupBy(\"merchant_abn\").agg(\n",
    "                        f.countDistinct(\"consumer_id\").alias(\"number_of_unique_consumers\"),\n",
    "                        f.avg(\"consumer_fraud_probability_%\").alias(\"average_consumer_fraud_probability\"))"
   ]
  },
  {
   "cell_type": "code",
   "execution_count": 5,
   "metadata": {},
   "outputs": [
    {
     "name": "stderr",
     "output_type": "stream",
     "text": [
      "[Stage 3:======>                                                    (1 + 8) / 9]\r"
     ]
    },
    {
     "name": "stdout",
     "output_type": "stream",
     "text": [
      "+------------+--------------------------+----------------------------------+\n",
      "|merchant_abn|number_of_unique_consumers|average_consumer_fraud_probability|\n",
      "+------------+--------------------------+----------------------------------+\n",
      "+------------+--------------------------+----------------------------------+\n",
      "\n"
     ]
    },
    {
     "name": "stderr",
     "output_type": "stream",
     "text": [
      "                                                                                \r"
     ]
    }
   ],
   "source": [
    "consumers_aggregated.filter(consumers_aggregated[\"number_of_unique_consumers\"] == 0 ).show()"
   ]
  },
  {
   "cell_type": "code",
   "execution_count": 6,
   "metadata": {},
   "outputs": [],
   "source": [
    "repeat_consumers = consumers.groupBy(\"merchant_abn\", \"consumer_id\").agg(f.count(\"consumer_id\").alias(\"consumer_order_times\"))\n",
    "repeat_consumers_order_times = repeat_consumers.groupBy(\"merchant_abn\").agg(f.avg(\"consumer_order_times\").alias(\"average_repeat_transactions_per_consumer\"))\n",
    "repeat_consumers = repeat_consumers.filter(repeat_consumers.consumer_order_times > 1)\n",
    "repeat_consumers_count = repeat_consumers.groupBy(\"merchant_abn\").agg(f.count(\"consumer_order_times\").alias(\"number_of_repeat_consumers\"))"
   ]
  },
  {
   "cell_type": "code",
   "execution_count": 7,
   "metadata": {},
   "outputs": [
    {
     "name": "stderr",
     "output_type": "stream",
     "text": [
      "[Stage 9:======>                                                    (1 + 8) / 9]\r"
     ]
    },
    {
     "name": "stdout",
     "output_type": "stream",
     "text": [
      "+------------+----------------------------------------+\n",
      "|merchant_abn|average_repeat_transactions_per_consumer|\n",
      "+------------+----------------------------------------+\n",
      "| 24852446429|                      12.008899274137416|\n",
      "| 86578477987|                      11.325478498632862|\n",
      "| 64203420245|                      10.818791946308725|\n",
      "| 49891706470|                      10.287674638293641|\n",
      "| 46804135891|                        9.72962760403719|\n",
      "| 45629217853|                       9.485508327119065|\n",
      "| 89726005175|                       8.960375857611615|\n",
      "| 43186523025|                       8.348582794629538|\n",
      "| 80324045558|                        8.17741534483616|\n",
      "| 63290521567|                       7.564222465426326|\n",
      "| 68216911708|                       7.516937770482017|\n",
      "| 21439773999|                       5.043445617898794|\n",
      "| 64403598239|                       4.755238095238095|\n",
      "| 72472909171|                       4.294793609193085|\n",
      "| 94493496784|                        4.19430392553622|\n",
      "| 79417999332|                       4.178874092009686|\n",
      "| 60956456424|                       3.862773053617801|\n",
      "| 32361057556|                       3.672024571282314|\n",
      "| 91923722701|                      3.3744707218837138|\n",
      "| 49505931725|                      3.0109240593171145|\n",
      "+------------+----------------------------------------+\n",
      "only showing top 20 rows\n",
      "\n"
     ]
    },
    {
     "name": "stderr",
     "output_type": "stream",
     "text": [
      "                                                                                \r"
     ]
    }
   ],
   "source": [
    "repeat_consumers_order_times.orderBy(f.col(\"average_repeat_transactions_per_consumer\").desc()).show()"
   ]
  },
  {
   "cell_type": "code",
   "execution_count": 16,
   "metadata": {},
   "outputs": [
    {
     "name": "stderr",
     "output_type": "stream",
     "text": [
      "[Stage 61:=============================>                            (4 + 4) / 8]\r"
     ]
    },
    {
     "name": "stdout",
     "output_type": "stream",
     "text": [
      "+------------+-----------+--------------------+\n",
      "|merchant_abn|consumer_id|consumer_order_times|\n",
      "+------------+-----------+--------------------+\n",
      "| 68559320474|    1343547|                   3|\n",
      "| 49505931725|    1463076|                   3|\n",
      "| 89726005175|     298861|                   8|\n",
      "| 48534649627|     298861|                   3|\n",
      "| 75944642726|    1230828|                   3|\n",
      "| 80324045558|    1163184|                   2|\n",
      "| 56945597985|    1109504|                   2|\n",
      "| 35223308778|     589921|                   3|\n",
      "| 72472909171|     621089|                   2|\n",
      "| 96566672398|     983685|                   2|\n",
      "| 68559320474|     754347|                   2|\n",
      "| 37459245212|    1454029|                   2|\n",
      "| 47086412084|     738210|                   3|\n",
      "| 16993524298|     738210|                   2|\n",
      "| 32361057556|     608308|                   4|\n",
      "| 98269572896|     608308|                   2|\n",
      "| 98269572896|     131147|                   2|\n",
      "| 93558142492|    1201519|                   2|\n",
      "| 23338656015|     817847|                   3|\n",
      "| 45466221547|     817847|                   4|\n",
      "+------------+-----------+--------------------+\n",
      "only showing top 20 rows\n",
      "\n"
     ]
    },
    {
     "name": "stderr",
     "output_type": "stream",
     "text": [
      "                                                                                \r"
     ]
    }
   ],
   "source": [
    "repeat_consumers.show()"
   ]
  },
  {
   "cell_type": "code",
   "execution_count": 18,
   "metadata": {},
   "outputs": [],
   "source": [
    "consumers_aggregated = consumers_aggregated.join(repeat_consumers_count, on = \"merchant_abn\", how = \"leftouter\")\n",
    "consumers_aggregated = consumers_aggregated.join(repeat_consumers_order_times, on = \"merchant_abn\", how = \"leftouter\")"
   ]
  },
  {
   "cell_type": "code",
   "execution_count": 33,
   "metadata": {},
   "outputs": [
    {
     "name": "stderr",
     "output_type": "stream",
     "text": [
      "                                                                                \r"
     ]
    },
    {
     "name": "stdout",
     "output_type": "stream",
     "text": [
      "+------------+--------------------------+----------------------------------+--------------------------+----------------------------------------+\n",
      "|merchant_abn|number_of_unique_consumers|average_consumer_fraud_probability|number_of_repeat_consumers|average_repeat_transactions_per_consumer|\n",
      "+------------+--------------------------+----------------------------------+--------------------------+----------------------------------------+\n",
      "| 19839532017|                       603|              0.047899319371961166|                        11|                      1.0182421227197347|\n",
      "| 83412691377|                      8990|               0.03216135694921109|                      2419|                      1.3268075639599555|\n",
      "| 15613631617|                      1427|              0.026029083563212478|                        53|                      1.0392431674842326|\n",
      "| 38700038932|                      5154|                0.6055661032397236|                       707|                       1.153279006596818|\n",
      "| 73256306726|                      3899|                 0.056487367808909|                       436|                       1.118491921005386|\n",
      "| 35344855546|                      1237|              0.053722387120577544|                        37|                      1.0299110751818916|\n",
      "| 73841664453|                       792|              0.026274748866577192|                        19|                       1.023989898989899|\n",
      "| 48214071373|                       449|               0.14024575895369942|                         4|                      1.0089086859688197|\n",
      "| 12516851436|                       179|                               0.0|                         0|                                     1.0|\n",
      "| 38986645707|                        34|                               0.0|                         0|                                     1.0|\n",
      "| 96946925998|                       110|               0.18565230104162125|                         0|                                     1.0|\n",
      "| 41956465747|                       243|                0.1292796209652444|                         1|                      1.0041152263374487|\n",
      "| 52763133264|                       111|                               0.0|                         0|                                     1.0|\n",
      "| 92202115241|                        98|                               0.0|                         0|                                     1.0|\n",
      "| 57798993346|                        17|                               0.0|                         0|                                     1.0|\n",
      "| 34440496342|                       187|                0.1649231016835328|                         0|                                     1.0|\n",
      "| 60654402457|                       157|                               0.0|                         1|                      1.0063694267515924|\n",
      "| 78916025936|                        51|                               0.0|                         1|                      1.0196078431372548|\n",
      "| 37935728745|                        13|                 8.510546571708435|                         0|                                     1.0|\n",
      "| 29216160692|                      3378|               0.03685257394667848|                       327|                       1.103611604499704|\n",
      "+------------+--------------------------+----------------------------------+--------------------------+----------------------------------------+\n",
      "only showing top 20 rows\n",
      "\n"
     ]
    }
   ],
   "source": [
    "consumers_aggregated.show()"
   ]
  },
  {
   "cell_type": "code",
   "execution_count": 32,
   "metadata": {},
   "outputs": [
    {
     "data": {
      "text/plain": [
       "0"
      ]
     },
     "execution_count": 32,
     "metadata": {},
     "output_type": "execute_result"
    }
   ],
   "source": [
    "consumers_aggregated.filter(consumers_aggregated[\"number_of_repeat_consumers\"].isNull()).count()"
   ]
  },
  {
   "cell_type": "code",
   "execution_count": 31,
   "metadata": {},
   "outputs": [],
   "source": [
    "consumers_aggregated = consumers_aggregated.fillna(0)"
   ]
  },
  {
   "cell_type": "code",
   "execution_count": null,
   "metadata": {},
   "outputs": [],
   "source": [
    "consumers_aggregated.orderBy(f.col(\"number_of_unique_consumers\").asc()).show()"
   ]
  },
  {
   "cell_type": "code",
   "execution_count": null,
   "metadata": {},
   "outputs": [],
   "source": [
    "consumers_aggregated.orderBy(f.col(\"number_of_unique_consumers\").desc()).show()"
   ]
  },
  {
   "cell_type": "code",
   "execution_count": 34,
   "metadata": {},
   "outputs": [
    {
     "name": "stderr",
     "output_type": "stream",
     "text": [
      "                                                                                \r"
     ]
    }
   ],
   "source": [
    "consumers_aggregated.write.mode(\"overwrite\").parquet(\"../../../data/insights/agg_insight_data/consumers_agg.parquet\")"
   ]
  },
  {
   "cell_type": "code",
   "execution_count": 35,
   "metadata": {},
   "outputs": [],
   "source": [
    "spark.stop()"
   ]
  }
 ],
 "metadata": {
  "kernelspec": {
   "display_name": "Python 3",
   "language": "python",
   "name": "python3"
  },
  "language_info": {
   "codemirror_mode": {
    "name": "ipython",
    "version": 3
   },
   "file_extension": ".py",
   "mimetype": "text/x-python",
   "name": "python",
   "nbconvert_exporter": "python",
   "pygments_lexer": "ipython3",
   "version": "3.10.12"
  },
  "orig_nbformat": 4
 },
 "nbformat": 4,
 "nbformat_minor": 2
}
