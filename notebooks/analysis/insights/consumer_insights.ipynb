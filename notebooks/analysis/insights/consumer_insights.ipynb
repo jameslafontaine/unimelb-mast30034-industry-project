{
 "cells": [
  {
   "cell_type": "markdown",
   "metadata": {},
   "source": [
    "# Aggregating Features Regarding Consumers by Merchant\n",
    "## Author: Dulan Wijeratne 1181873"
   ]
  },
  {
   "cell_type": "markdown",
   "metadata": {},
   "source": [
    "In this notebook we will aggregate the features regarding consumers by merchant abn, as well as creating new features related to consumers."
   ]
  },
  {
   "cell_type": "markdown",
   "metadata": {},
   "source": [
    "To start we will create a Spark session and import the consumers dataset that contains all the features that relate to consumers."
   ]
  },
  {
   "cell_type": "code",
   "execution_count": null,
   "metadata": {},
   "outputs": [],
   "source": [
    "from pyspark.sql import SparkSession, functions as f"
   ]
  },
  {
   "cell_type": "code",
   "execution_count": null,
   "metadata": {},
   "outputs": [],
   "source": [
    "spark = (\n",
    "    SparkSession.builder.appName(\"Preprocessing_Yellow\")\n",
    "    .config(\"spark.sql.repl.eagerEval.enabled\", True) \n",
    "    .config(\"spark.sql.parquet.cacheMetadata\", \"true\")\n",
    "    .config(\"spark.sql.session.timeZone\", \"Etc/UTC\")\n",
    "    .config(\"spark.sql.session.timeZone\", \"Etc/UTC\")\n",
    "    .config('spark.driver.memory', '3g')   \n",
    "    .config('spark.executor.memory', '4g')  \n",
    "    .config('spark.executor.instances', '2')  \n",
    "    .config('spark.executor.cores', '2')\n",
    "    .getOrCreate()\n",
    ")"
   ]
  },
  {
   "cell_type": "code",
   "execution_count": null,
   "metadata": {},
   "outputs": [],
   "source": [
    "consumers = spark.read.parquet(\"../../../data/insights/pre_insights/consumers.parquet\")"
   ]
  },
  {
   "cell_type": "markdown",
   "metadata": {},
   "source": [
    "### Aggregation\n",
    "Next we will aggregate by merchant abn."
   ]
  },
  {
   "cell_type": "code",
   "execution_count": null,
   "metadata": {},
   "outputs": [],
   "source": [
    "consumers_aggregated = consumers.groupBy(\"merchant_abn\").agg(\n",
    "                        f.countDistinct(\"consumer_id\").alias(\"number_of_unique_consumers\"),\n",
    "                        f.avg(\"consumer_fraud_probability_%\").alias(\"average_consumer_fraud_probability\"))"
   ]
  },
  {
   "cell_type": "markdown",
   "metadata": {},
   "source": [
    "### Feature Engineering\n",
    "1. Finding repeat consumers\n",
    "2. Finding the average number of times the repeat consumers order from a particular merchant."
   ]
  },
  {
   "cell_type": "code",
   "execution_count": null,
   "metadata": {},
   "outputs": [],
   "source": [
    "repeat_consumers = consumers.groupBy(\"merchant_abn\", \"consumer_id\").agg(f.count(\"consumer_id\").alias(\"consumer_order_times\"))\n",
    "repeat_consumers_order_times = repeat_consumers.groupBy(\"merchant_abn\").agg(f.avg(\"consumer_order_times\").alias(\"average_repeat_transactions_per_consumer\"))\n",
    "repeat_consumers = repeat_consumers.filter(repeat_consumers.consumer_order_times > 1)\n",
    "repeat_consumers_count = repeat_consumers.groupBy(\"merchant_abn\").agg(f.count(\"consumer_order_times\").alias(\"number_of_repeat_consumers\"))"
   ]
  },
  {
   "cell_type": "code",
   "execution_count": null,
   "metadata": {},
   "outputs": [],
   "source": [
    "repeat_consumers_order_times.orderBy(f.col(\"average_repeat_transactions_per_consumer\").desc()).show()"
   ]
  },
  {
   "cell_type": "code",
   "execution_count": null,
   "metadata": {},
   "outputs": [],
   "source": [
    "repeat_consumers.show()"
   ]
  },
  {
   "cell_type": "markdown",
   "metadata": {},
   "source": [
    "### Join\n",
    "Next will join the newly created features back into the aggregated data."
   ]
  },
  {
   "cell_type": "code",
   "execution_count": null,
   "metadata": {},
   "outputs": [],
   "source": [
    "consumers_aggregated = consumers_aggregated.join(repeat_consumers_count, on = \"merchant_abn\", how = \"leftouter\")\n",
    "consumers_aggregated = consumers_aggregated.join(repeat_consumers_order_times, on = \"merchant_abn\", how = \"leftouter\")"
   ]
  },
  {
   "cell_type": "code",
   "execution_count": null,
   "metadata": {},
   "outputs": [],
   "source": [
    "consumers_aggregated.show()"
   ]
  },
  {
   "cell_type": "markdown",
   "metadata": {},
   "source": [
    "After joining we expect some null values as we did a left outer join and some merchants may not have had repeat customers. \n",
    "\n",
    "We will first check the number of merchants without repeat customers.\n",
    "\n",
    "Then we will change the null values to 0 to show that this merchant did not have repeat customers in a numeric way so it can be used later."
   ]
  },
  {
   "cell_type": "code",
   "execution_count": null,
   "metadata": {},
   "outputs": [],
   "source": [
    "consumers_aggregated.filter(consumers_aggregated[\"number_of_repeat_consumers\"].isNull()).count()"
   ]
  },
  {
   "cell_type": "code",
   "execution_count": null,
   "metadata": {},
   "outputs": [],
   "source": [
    "consumers_aggregated = consumers_aggregated.fillna(0)"
   ]
  },
  {
   "cell_type": "code",
   "execution_count": null,
   "metadata": {},
   "outputs": [],
   "source": [
    "#checking whether number of merchants changed\n",
    "consumers_aggregated.count()"
   ]
  },
  {
   "cell_type": "markdown",
   "metadata": {},
   "source": [
    "### Saving the data"
   ]
  },
  {
   "cell_type": "code",
   "execution_count": null,
   "metadata": {},
   "outputs": [],
   "source": [
    "consumers_aggregated.write.mode(\"overwrite\").parquet(\"../../../data/insights/agg_insight_data/consumers_agg.parquet\")"
   ]
  },
  {
   "cell_type": "code",
   "execution_count": null,
   "metadata": {},
   "outputs": [],
   "source": [
    "spark.stop()"
   ]
  },
  {
   "cell_type": "markdown",
   "metadata": {},
   "source": [
    "### Summary\n",
    "In this notebook the following was a achieved:\n",
    "\n",
    "- Data was aggregated by merchant abn:\n",
    "    1. consumer_id was aggregated by counting the distinct number of consumer_ids for each merchant to give the unique number of consumers\n",
    "\n",
    "    2. Average was taken for the consumer fraud probability\n",
    "\n",
    "- We created the following features:\n",
    "    1. The number of repeat consumers was created by checking wheteher the number of order times was greater than 1.\n",
    "\n",
    "    2. The average number of time consumers ordered was created by taking the average number of times a particular consumers ordered from a particular merchant.\n",
    "\n",
    "- There were 1456 merchants with no repeat consumers.\n",
    "\n",
    "- Aggregated data was saved to a checkpoint directory."
   ]
  }
 ],
 "metadata": {
  "kernelspec": {
   "display_name": "Python 3",
   "language": "python",
   "name": "python3"
  },
  "language_info": {
   "codemirror_mode": {
    "name": "ipython",
    "version": 3
   },
   "file_extension": ".py",
   "mimetype": "text/x-python",
   "name": "python",
   "nbconvert_exporter": "python",
   "pygments_lexer": "ipython3",
   "version": "3.10.12"
  },
  "orig_nbformat": 4
 },
 "nbformat": 4,
 "nbformat_minor": 2
}
