{
 "cells": [
  {
   "cell_type": "code",
   "execution_count": 1,
   "metadata": {},
   "outputs": [],
   "source": [
    "from pyspark.sql import SparkSession, functions as f"
   ]
  },
  {
   "cell_type": "code",
   "execution_count": 2,
   "metadata": {},
   "outputs": [
    {
     "name": "stderr",
     "output_type": "stream",
     "text": [
      "your 131072x1 screen size is bogus. expect trouble\n",
      "23/09/30 08:24:55 WARN Utils: Your hostname, DulanComputer resolves to a loopback address: 127.0.1.1; using 172.30.15.25 instead (on interface eth0)\n",
      "23/09/30 08:24:55 WARN Utils: Set SPARK_LOCAL_IP if you need to bind to another address\n",
      "Setting default log level to \"WARN\".\n",
      "To adjust logging level use sc.setLogLevel(newLevel). For SparkR, use setLogLevel(newLevel).\n",
      "23/09/30 08:24:57 WARN NativeCodeLoader: Unable to load native-hadoop library for your platform... using builtin-java classes where applicable\n"
     ]
    }
   ],
   "source": [
    "spark = (\n",
    "    SparkSession.builder.appName(\"Preprocessing_Yellow\")\n",
    "    .config(\"spark.sql.repl.eagerEval.enabled\", True) \n",
    "    .config(\"spark.sql.parquet.cacheMetadata\", \"true\")\n",
    "    .config(\"spark.sql.session.timeZone\", \"Etc/UTC\")\n",
    "    .config(\"spark.sql.session.timeZone\", \"Etc/UTC\")\n",
    "    .config('spark.driver.memory', '3g')   \n",
    "    .config('spark.executor.memory', '4g')  \n",
    "    .config('spark.executor.instances', '2')  \n",
    "    .config('spark.executor.cores', '2')\n",
    "    .getOrCreate()\n",
    ")"
   ]
  },
  {
   "cell_type": "code",
   "execution_count": 4,
   "metadata": {},
   "outputs": [
    {
     "name": "stderr",
     "output_type": "stream",
     "text": [
      "                                                                                \r"
     ]
    }
   ],
   "source": [
    "consumers = spark.read.parquet(\"../../../data/insights/pre_insights/consumers.parquet/\")"
   ]
  },
  {
   "cell_type": "code",
   "execution_count": 18,
   "metadata": {},
   "outputs": [],
   "source": [
    "consumers_aggregated = consumers.groupBy(\"merchant_abn\").agg(\n",
    "                        f.countDistinct(\"consumer_id\").alias(\"number_of_unique_consumers\"),\n",
    "                        f.avg(\"consumer_fraud_probability_%\").alias(\"average_consumer_fraud_probability\"))"
   ]
  },
  {
   "cell_type": "code",
   "execution_count": 6,
   "metadata": {},
   "outputs": [
    {
     "name": "stderr",
     "output_type": "stream",
     "text": [
      "[Stage 3:====================================================>      (8 + 1) / 9]\r"
     ]
    },
    {
     "name": "stdout",
     "output_type": "stream",
     "text": [
      "+------------+--------------------------+----------------------------------+\n",
      "|merchant_abn|number_of_unique_consumers|average_consumer_fraud_probability|\n",
      "+------------+--------------------------+----------------------------------+\n",
      "+------------+--------------------------+----------------------------------+\n",
      "\n"
     ]
    },
    {
     "name": "stderr",
     "output_type": "stream",
     "text": [
      "                                                                                \r"
     ]
    }
   ],
   "source": [
    "consumers_aggregated.filter(consumers_aggregated[\"number_of_unique_consumers\"] == 0 ).show()"
   ]
  },
  {
   "cell_type": "code",
   "execution_count": 7,
   "metadata": {},
   "outputs": [],
   "source": [
    "repeat_consumers = consumers.groupBy(\"merchant_abn\", \"consumer_id\").agg(f.count(\"consumer_id\").alias(\"consumer_order_times\"))\n",
    "repeat_consumers_order_times = repeat_consumers.groupBy(\"merchant_abn\").agg(f.avg(\"consumer_order_times\").alias(\"average_repeat_transactions_per_consumer\"))\n",
    "repeat_consumers = repeat_consumers.filter(repeat_consumers.consumer_order_times > 1)\n",
    "repeat_consumers_count = repeat_consumers.groupBy(\"merchant_abn\").agg(f.count(\"consumer_order_times\").alias(\"number_of_repeat_consumers\"))"
   ]
  },
  {
   "cell_type": "code",
   "execution_count": 8,
   "metadata": {},
   "outputs": [
    {
     "name": "stderr",
     "output_type": "stream",
     "text": [
      "[Stage 9:=============================================>             (7 + 2) / 9]\r"
     ]
    },
    {
     "name": "stdout",
     "output_type": "stream",
     "text": [
      "+------------+----------------------------------------+\n",
      "|merchant_abn|average_repeat_transactions_per_consumer|\n",
      "+------------+----------------------------------------+\n",
      "| 24852446429|                      12.008899274137416|\n",
      "| 86578477987|                      11.325478498632862|\n",
      "| 64203420245|                      10.818791946308725|\n",
      "| 49891706470|                      10.287674638293641|\n",
      "| 46804135891|                        9.72962760403719|\n",
      "| 45629217853|                       9.485508327119065|\n",
      "| 89726005175|                       8.960375857611615|\n",
      "| 43186523025|                       8.348582794629538|\n",
      "| 80324045558|                        8.17741534483616|\n",
      "| 63290521567|                       7.564222465426326|\n",
      "| 68216911708|                       7.516937770482017|\n",
      "| 21439773999|                       5.043445617898794|\n",
      "| 64403598239|                       4.755238095238095|\n",
      "| 72472909171|                       4.294793609193085|\n",
      "| 94493496784|                        4.19430392553622|\n",
      "| 79417999332|                       4.178874092009686|\n",
      "| 60956456424|                       3.862773053617801|\n",
      "| 32361057556|                       3.672024571282314|\n",
      "| 91923722701|                      3.3744707218837138|\n",
      "| 49505931725|                      3.0109240593171145|\n",
      "+------------+----------------------------------------+\n",
      "only showing top 20 rows\n",
      "\n"
     ]
    },
    {
     "name": "stderr",
     "output_type": "stream",
     "text": [
      "                                                                                \r"
     ]
    }
   ],
   "source": [
    "repeat_consumers_order_times.orderBy(f.col(\"average_repeat_transactions_per_consumer\").desc()).show()"
   ]
  },
  {
   "cell_type": "code",
   "execution_count": 19,
   "metadata": {},
   "outputs": [],
   "source": [
    "consumers_aggregated = consumers_aggregated.join(repeat_consumers_count, on = \"merchant_abn\", how = \"inner\")\n",
    "consumers_aggregated = consumers_aggregated.join(repeat_consumers_order_times, on = \"merchant_abn\", how = \"inner\")"
   ]
  },
  {
   "cell_type": "code",
   "execution_count": 20,
   "metadata": {},
   "outputs": [],
   "source": [
    "consumers_aggregated = consumers_aggregated.withColumn(\"consumer_retainability\", consumers_aggregated.number_of_repeat_consumers/consumers_aggregated.number_of_unique_consumers)"
   ]
  },
  {
   "cell_type": "code",
   "execution_count": 15,
   "metadata": {},
   "outputs": [
    {
     "name": "stderr",
     "output_type": "stream",
     "text": [
      "                                                                                \r"
     ]
    },
    {
     "name": "stdout",
     "output_type": "stream",
     "text": [
      "+------------+--------------------------+----------------------------------+--------------------------+----------------------------------------+----------------------+--------------------------+----------------------------------------+\n",
      "|merchant_abn|number_of_unique_consumers|average_consumer_fraud_probability|number_of_repeat_consumers|average_repeat_transactions_per_consumer|consumer_retainability|number_of_repeat_consumers|average_repeat_transactions_per_consumer|\n",
      "+------------+--------------------------+----------------------------------+--------------------------+----------------------------------------+----------------------+--------------------------+----------------------------------------+\n",
      "| 52379134298|                        19|                               0.0|                         1|                      1.0526315789473684|   0.05263157894736842|                         1|                      1.0526315789473684|\n",
      "| 66482985683|                        28|                 5.823842887390514|                         1|                      1.0357142857142858|   0.03571428571428571|                         1|                      1.0357142857142858|\n",
      "| 29276411530|                        30|                               0.0|                         1|                      1.0333333333333334|   0.03333333333333333|                         1|                      1.0333333333333334|\n",
      "| 51253553943|                        38|                               0.0|                         1|                      1.0263157894736843|   0.02631578947368421|                         1|                      1.0263157894736843|\n",
      "| 33587480673|                        39|                2.6418418400779164|                         1|                      1.0256410256410255|   0.02564102564102564|                         1|                      1.0256410256410255|\n",
      "| 95475413965|                        41|                0.5409079185332317|                         1|                       1.024390243902439|  0.024390243902439025|                         1|                       1.024390243902439|\n",
      "| 77702973864|                        41|                               0.0|                         1|                       1.024390243902439|  0.024390243902439025|                         1|                       1.024390243902439|\n",
      "| 66943181420|                        42|               0.44257416979978326|                         1|                      1.0238095238095237|  0.023809523809523808|                         1|                      1.0238095238095237|\n",
      "| 66522814831|                        44|                1.2348065243894917|                         1|                      1.0227272727272727|  0.022727272727272728|                         1|                      1.0227272727272727|\n",
      "| 49368160590|                        46|               0.29266168411383214|                         1|                      1.0217391304347827|  0.021739130434782608|                         1|                      1.0217391304347827|\n",
      "| 97884414539|                        50|                11.766535335021551|                         1|                                    1.02|                  0.02|                         1|                                    1.02|\n",
      "| 78916025936|                        51|                               0.0|                         1|                      1.0196078431372548|    0.0196078431372549|                         1|                      1.0196078431372548|\n",
      "| 81906511933|                        51|                               0.0|                         1|                      1.0196078431372548|    0.0196078431372549|                         1|                      1.0196078431372548|\n",
      "| 87453687431|                        52|               0.18097126065060976|                         1|                      1.0192307692307692|  0.019230769230769232|                         1|                      1.0192307692307692|\n",
      "| 63710240186|                        53|               0.17437818568303515|                         1|                      1.0188679245283019|  0.018867924528301886|                         1|                      1.0188679245283019|\n",
      "| 13986396343|                        55|                               0.0|                         1|                       1.018181818181818|   0.01818181818181818|                         1|                       1.018181818181818|\n",
      "| 16143938351|                        57|                2.9701451550863895|                         1|                      1.0175438596491229|  0.017543859649122806|                         1|                      1.0175438596491229|\n",
      "| 63491526748|                        59|                               0.0|                         1|                      1.0169491525423728|   0.01694915254237288|                         1|                      1.0169491525423728|\n",
      "| 50446282783|                        60|                               0.0|                         1|                      1.0166666666666666|  0.016666666666666666|                         1|                      1.0166666666666666|\n",
      "| 97598804219|                        62|                1.0734564490670437|                         1|                      1.0161290322580645|  0.016129032258064516|                         1|                      1.0161290322580645|\n",
      "+------------+--------------------------+----------------------------------+--------------------------+----------------------------------------+----------------------+--------------------------+----------------------------------------+\n",
      "only showing top 20 rows\n",
      "\n"
     ]
    }
   ],
   "source": [
    "consumers_aggregated.orderBy(f.col(\"number_of_unique_consumers\").asc()).show()"
   ]
  },
  {
   "cell_type": "code",
   "execution_count": 21,
   "metadata": {},
   "outputs": [
    {
     "name": "stderr",
     "output_type": "stream",
     "text": [
      "                                                                                \r"
     ]
    }
   ],
   "source": [
    "consumers_aggregated.write.mode(\"overwrite\").parquet(\"../../../data/insights/agg_insight_data/consumers_agg.parquet\")"
   ]
  },
  {
   "cell_type": "code",
   "execution_count": 22,
   "metadata": {},
   "outputs": [],
   "source": [
    "spark.stop()"
   ]
  }
 ],
 "metadata": {
  "kernelspec": {
   "display_name": "Python 3",
   "language": "python",
   "name": "python3"
  },
  "language_info": {
   "codemirror_mode": {
    "name": "ipython",
    "version": 3
   },
   "file_extension": ".py",
   "mimetype": "text/x-python",
   "name": "python",
   "nbconvert_exporter": "python",
   "pygments_lexer": "ipython3",
   "version": "3.10.12"
  },
  "orig_nbformat": 4
 },
 "nbformat": 4,
 "nbformat_minor": 2
}
