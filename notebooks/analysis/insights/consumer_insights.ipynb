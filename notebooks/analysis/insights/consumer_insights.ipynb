{
 "cells": [
  {
   "cell_type": "code",
   "execution_count": 1,
   "metadata": {},
   "outputs": [],
   "source": [
    "from pyspark.sql import SparkSession, functions as f"
   ]
  },
  {
   "cell_type": "code",
   "execution_count": 2,
   "metadata": {},
   "outputs": [
    {
     "name": "stderr",
     "output_type": "stream",
     "text": [
      "your 131072x1 screen size is bogus. expect trouble\n",
      "23/09/14 00:07:12 WARN Utils: Your hostname, NivethanAsus resolves to a loopback address: 127.0.1.1; using 172.20.150.32 instead (on interface eth0)\n",
      "23/09/14 00:07:12 WARN Utils: Set SPARK_LOCAL_IP if you need to bind to another address\n",
      "Setting default log level to \"WARN\".\n",
      "To adjust logging level use sc.setLogLevel(newLevel). For SparkR, use setLogLevel(newLevel).\n",
      "23/09/14 00:07:13 WARN NativeCodeLoader: Unable to load native-hadoop library for your platform... using builtin-java classes where applicable\n",
      "23/09/14 00:07:14 WARN Utils: Service 'SparkUI' could not bind on port 4040. Attempting port 4041.\n"
     ]
    }
   ],
   "source": [
    "spark = (\n",
    "    SparkSession.builder.appName(\"Preprocessing_Yellow\")\n",
    "    .config(\"spark.sql.repl.eagerEval.enabled\", True) \n",
    "    .config(\"spark.sql.parquet.cacheMetadata\", \"true\")\n",
    "    .config(\"spark.sql.session.timeZone\", \"Etc/UTC\")\n",
    "    .config(\"spark.sql.session.timeZone\", \"Etc/UTC\")\n",
    "    .config('spark.driver.memory', '3g')   \n",
    "    .config('spark.executor.memory', '4g')  \n",
    "    .config('spark.executor.instances', '2')  \n",
    "    .config('spark.executor.cores', '2')\n",
    "    .getOrCreate()\n",
    ")"
   ]
  },
  {
   "cell_type": "code",
   "execution_count": 3,
   "metadata": {},
   "outputs": [
    {
     "name": "stderr",
     "output_type": "stream",
     "text": [
      "                                                                                \r"
     ]
    }
   ],
   "source": [
    "consumers = spark.read.parquet(\"../../../data/insights/pre_insights/consumers.parquet/\")"
   ]
  },
  {
   "cell_type": "code",
   "execution_count": 4,
   "metadata": {},
   "outputs": [],
   "source": [
    "consumers_aggregated = consumers.groupBy(\"merchant_abn\").agg(\n",
    "                        f.countDistinct(\"consumer_id\").alias(\"number_of_consumers\"),\n",
    "                        f.avg(\"consumer_fraud_probability_%\").alias(\"average_consumer_fraud_probability\"))"
   ]
  },
  {
   "cell_type": "code",
   "execution_count": 5,
   "metadata": {},
   "outputs": [],
   "source": [
    "repeat_consumers = consumers.groupBy(\"merchant_abn\", \"consumer_id\").agg(f.count(\"consumer_id\").alias(\"consumer_order_times\"))\n",
    "repeat_consumers = repeat_consumers.filter(repeat_consumers.consumer_order_times > 1)\n",
    "repeat_consumers_count = repeat_consumers.groupBy(\"merchant_abn\").agg(f.count(\"consumer_order_times\").alias(\"number_of_repeat_consumers\"))"
   ]
  },
  {
   "cell_type": "code",
   "execution_count": 6,
   "metadata": {},
   "outputs": [],
   "source": [
    "consumers_aggregated = consumers_aggregated.join(repeat_consumers_count, on = \"merchant_abn\", how = \"leftouter\")"
   ]
  },
  {
   "cell_type": "code",
   "execution_count": 7,
   "metadata": {},
   "outputs": [
    {
     "name": "stderr",
     "output_type": "stream",
     "text": [
      "                                                                                \r"
     ]
    },
    {
     "name": "stdout",
     "output_type": "stream",
     "text": [
      "+------------+-------------------+----------------------------------+--------------------------+\n",
      "|merchant_abn|number_of_consumers|average_consumer_fraud_probability|number_of_repeat_consumers|\n",
      "+------------+-------------------+----------------------------------+--------------------------+\n",
      "| 45629217853|              20115|              0.042364532680646334|                     20095|\n",
      "| 64203420245|              20115|               0.04343806405661244|                     20112|\n",
      "| 86578477987|              20115|              0.043976018822537884|                     20113|\n",
      "| 24852446429|              20114|               0.04446225413687606|                     20112|\n",
      "| 89726005175|              20114|               0.04447215320508907|                     20090|\n",
      "| 49891706470|              20113|               0.04247220417947379|                     20107|\n",
      "| 46804135891|              20113|               0.04336435521125033|                     20102|\n",
      "| 80324045558|              20111|               0.03837633227124581|                     20056|\n",
      "| 43186523025|              20110|               0.04278210494966943|                     20070|\n",
      "| 68216911708|              20103|              0.045805612356316146|                     20028|\n",
      "| 63290521567|              20102|               0.04495485150207818|                     20024|\n",
      "| 21439773999|              19979|              0.044972224923831176|                     19324|\n",
      "| 64403598239|              19950|              0.049374125881497255|                     19106|\n",
      "| 72472909171|              19841|               0.04131709011535798|                     18610|\n",
      "| 79417999332|              19824|               0.04912085657033871|                     18483|\n",
      "| 94493496784|              19768|              0.042772712361149635|                     18485|\n",
      "| 60956456424|              19639|              0.047627794255282685|                     17901|\n",
      "| 32361057556|              19535|              0.045322716183625385|                     17568|\n",
      "| 91923722701|              19366|              0.037161496557000774|                     16802|\n",
      "| 49505931725|              18949|               0.04560573491779718|                     15668|\n",
      "+------------+-------------------+----------------------------------+--------------------------+\n",
      "only showing top 20 rows\n",
      "\n"
     ]
    }
   ],
   "source": [
    "consumers_aggregated.orderBy(f.col(\"number_of_consumers\").desc(),\n",
    "                             f.col(\"average_consumer_fraud_probability\").asc(),\n",
    "                             f.col(\"number_of_repeat_consumers\").desc()).show()"
   ]
  },
  {
   "cell_type": "code",
   "execution_count": 8,
   "metadata": {},
   "outputs": [
    {
     "name": "stderr",
     "output_type": "stream",
     "text": [
      "                                                                                \r"
     ]
    }
   ],
   "source": [
    "consumers_aggregated.write.mode(\"overwrite\").parquet(\"../../../data/insights/agg_insight_data/consumers_agg.parquet\")"
   ]
  },
  {
   "cell_type": "code",
   "execution_count": 9,
   "metadata": {},
   "outputs": [],
   "source": [
    "spark.stop()"
   ]
  }
 ],
 "metadata": {
  "kernelspec": {
   "display_name": "Python 3",
   "language": "python",
   "name": "python3"
  },
  "language_info": {
   "codemirror_mode": {
    "name": "ipython",
    "version": 3
   },
   "file_extension": ".py",
   "mimetype": "text/x-python",
   "name": "python",
   "nbconvert_exporter": "python",
   "pygments_lexer": "ipython3",
   "version": "3.8.10"
  },
  "orig_nbformat": 4
 },
 "nbformat": 4,
 "nbformat_minor": 2
}
