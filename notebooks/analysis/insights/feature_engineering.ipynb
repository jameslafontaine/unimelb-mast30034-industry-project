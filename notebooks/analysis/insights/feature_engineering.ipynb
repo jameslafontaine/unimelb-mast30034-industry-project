{
 "cells": [
  {
   "cell_type": "markdown",
   "metadata": {},
   "source": [
    "# Feature Engineering with Modelling\n",
    "## Author: Dulan Wijeratne 1181873"
   ]
  },
  {
   "cell_type": "markdown",
   "metadata": {},
   "source": [
    "In this notebook we will make new features using modelling techniques."
   ]
  },
  {
   "cell_type": "markdown",
   "metadata": {},
   "source": [
    "First we will start by creating a Spark session and reading in the joined aggregated data."
   ]
  },
  {
   "cell_type": "code",
   "execution_count": 115,
   "metadata": {},
   "outputs": [],
   "source": [
    "from pyspark.sql import SparkSession, functions as f"
   ]
  },
  {
   "cell_type": "code",
   "execution_count": 116,
   "metadata": {},
   "outputs": [],
   "source": [
    "spark = (\n",
    "    SparkSession.builder.appName(\"feature_engineering\")\n",
    "    .config(\"spark.sql.repl.eagerEval.enabled\", True) \n",
    "    .config(\"spark.sql.parquet.cacheMetadata\", \"true\")\n",
    "    .config(\"spark.sql.session.timeZone\", \"Etc/UTC\")\n",
    "    .config(\"spark.sql.session.timeZone\", \"Etc/UTC\")\n",
    "    .config('spark.driver.memory', '3g')   \n",
    "    .config('spark.executor.memory', '4g')  \n",
    "    .config('spark.executor.instances', '2')  \n",
    "    .config('spark.executor.cores', '2')\n",
    "    .getOrCreate()\n",
    ")"
   ]
  },
  {
   "cell_type": "code",
   "execution_count": 117,
   "metadata": {},
   "outputs": [],
   "source": [
    "joined = spark.read.parquet(\"../../../data/curated/removed_outliers.parquet\")"
   ]
  },
  {
   "cell_type": "code",
   "execution_count": 118,
   "metadata": {},
   "outputs": [
    {
     "name": "stdout",
     "output_type": "stream",
     "text": [
      "+------------+--------------------+-------------+------------------+----------------------------------+--------------------------+----------------------------------+--------------------------+----------------------------------------+----------------+---------------------+--------------------------+------------------------------+-------------------------+------------------------+------------------------+--------------------------+-------------------------+-------------------------+-------------------+--------------------------------+---------------------------+------------------+------------------+------------------+---------------------------------+--------------------+------------------+\n",
      "|merchant_abn|                name|revenue_level|         take_rate|average_merchant_fraud_probability|number_of_unique_consumers|average_consumer_fraud_probability|number_of_repeat_consumers|average_repeat_transactions_per_consumer|number_of_orders|average_cost_of_order|average_spend_per_consumer|average_monthly_diff_consumers|consumer_diff_over_period|average_growth_consumers|merchant_revenue_rounded|first_recorded_transaction|last_recorded_transaction|transcation_period_months|number_of_postcodes|avg_total_weekly_personal_income|avg_total_weekly_fam_income|    avg_median_age|avg_household_size|    postcode_reach|avg_num_of_consumers_per_postcode|             segment| bnpl_maximum_gain|\n",
      "+------------+--------------------+-------------+------------------+----------------------------------+--------------------------+----------------------------------+--------------------------+----------------------------------------+----------------+---------------------+--------------------------+------------------------------+-------------------------+------------------------+------------------------+--------------------------+-------------------------+-------------------------+-------------------+--------------------------------+---------------------------+------------------+------------------+------------------+---------------------------------+--------------------+------------------+\n",
      "| 64203420245|  Pede Nonummy Corp.|            c| 2.859999895095825|                               0.0|                     20115|               0.04343806507841245|                     20112|                      10.818791946308725|          217620|    28.95561919594395|        313.26481975745935|                         418.4|                     8368|      1.2454571818892366|              6301321.85|                2021-02-28|               2022-10-09|              19.38709677|               2639|               790.7058151824281|         1979.7334918665563|43.111308703244184|2.4586190607480933|               1.0|                82.46305418719211|garden_and_furnis...|180217.79829965028|\n",
      "| 86578477987|   Leo In Consulting|            a| 6.429999828338623|                               0.0|                     20115|              0.043976019223463385|                     20113|                      11.325478498632862|          227812|    34.99883492204936|         396.3785523868708|                         429.0|                     8580|      1.2246694237403264|              7973154.58|                2021-02-28|               2022-10-22|              19.80645161|               2639|               790.1220326409496|         1978.2443615788457| 43.12187242111917|2.4581497462820217|               1.0|                86.32512315270937|antiques_and_jewe...|512673.82580717304|\n",
      "| 45629217853|    Lacus Consulting|            a| 6.980000019073486|                               0.0|                     20115|               0.04236453448745005|                     20095|                       9.485508327119065|          190801|   36.793742618374715|        349.00735199246924|                        382.55|                     7651|      1.3198747234558583|              7020282.89|                2021-02-28|               2022-10-11|               19.4516129|               2639|               790.4815802852187|         1978.4676076121195| 43.09236062704074|2.4597764162661626|               1.0|                72.30049261083744|  retail_and_novelty|490015.74706101266|\n",
      "| 89726005175| Est Nunc Consulting|            a| 6.010000228881836|                               0.0|                     20114|               0.04447215420080163|                     20090|                       8.960375857611615|          180229|   41.226619860602135|         369.4060092898706|                         370.8|                     7416|       1.285587601919722|              7430232.47|                2021-02-28|               2022-10-05|              19.25806452|               2639|               789.9119481326535|         1977.1917948831765| 43.08975803006175| 2.458117006697035|               1.0|                68.29442970822281|garden_and_furnis...| 446556.9884534525|\n",
      "| 24852446429|      Erat Vitae LLP|            c| 2.940000057220459|                               0.0|                     20114|              0.044462255726765175|                     20112|                      12.008899274137416|          241547|   30.038056431521483|        360.72399407699584|                         452.6|                     9052|      1.1618950163509842|              7255602.42|                2021-02-28|               2022-10-08|              19.35483871|               2639|               789.8770611930597|          1977.015175100498| 43.09343523206664| 2.457192389058858|               1.0|                91.52974611595302|garden_and_furnis...|  213314.715299689|\n",
      "| 49891706470|Non Vestibulum In...|            a| 5.800000190734863|                               0.0|                     20113|              0.042472202986865576|                     20107|                      10.287674638293641|          206916|   28.969373683042125|         298.0274909262836|                         407.3|                     8146|      1.2773494969143935|              5994226.93|                2021-02-28|               2022-10-09|              19.38709677|               2639|               790.1097885132131|         1977.1003716483983| 43.10987792147538| 2.458436708616057|               1.0|                78.40697233800682|garden_and_furnis...|347665.17337308056|\n",
      "| 46804135891|Suspendisse Dui C...|            c| 2.930000066757202|                               0.0|                     20113|              0.043364356327737115|                     20102|                        9.72962760403719|          195692|    30.01060240727402|         291.9919855955988|                        382.65|                     7653|      1.2116966396990252|              5872834.81|                2021-02-28|               2022-10-24|              19.87096774|               2639|               790.3532259877767|          1978.180837745028|  43.1073165995544|2.4580889867751368|               1.0|                74.15384615384616|specialized_services| 172074.0638535402|\n",
      "| 80324045558|Ipsum Dolor Sit C...|            c|1.4700000286102295|                               0.0|                     20111|               0.03837633468207914|                     20056|                        8.17741534483616|          164456|    36.71899004323069|        300.26643262640147|                        339.15|                     6783|      1.4060321405695624|              6038658.23|                2021-02-28|               2022-10-25|              19.90322581|               2639|               789.7301527460232|          1976.237729240648| 43.11248905482317| 2.458991097922848|               1.0|               62.317544524441075|  retail_and_novelty| 88768.27770867398|\n",
      "| 43186523025|Lorem Ipsum Sodal...|            b|  4.46999979019165|                               0.0|                     20110|               0.04278210175677341|                     20070|                       8.348582794629538|          167890|    45.00028987547512|        375.68864580773277|                         340.7|                     6814|      1.3213041435437707|              7555098.67|                2021-02-28|               2022-10-24|              19.87096774|               2639|               790.1568288760498|         1977.1446869974388|  43.1014860920841|2.4584601226993867|               1.0|                63.61879499810534|garden_and_furnis...|337712.89469777216|\n",
      "| 68216911708|Placerat Eget Ven...|            c| 3.049999952316284|                               0.0|                     20103|               0.04580561375521984|                     20028|                       7.516937770482017|          151113|    38.50101219770903|         289.4097127907475|                        311.35|                     6227|      1.2767249348374952|              5818003.46|                2021-02-28|               2022-10-12|              19.48387097|               2639|               790.5961730625426|         1978.0999583093446| 43.10641705213979|2.4579812458226615|               1.0|                57.26146267525578|tech_and_electronics|177449.10275575976|\n",
      "| 63290521567|Vehicula Pellente...|            a| 6.480000019073486|                               0.0|                     20102|               0.04495485033466203|                     20024|                       7.564222465426326|          152056|   24.224100379609233|        183.23648429618243|                        322.65|                     6453|      1.2785038052867164|              3683419.81|                2021-02-28|               2022-10-03|              19.19354839|               2639|               790.7298199347608|         1979.8930690008945| 43.09258102278108| 2.458365602146578|               1.0|                57.61879499810534|  retail_and_novelty| 238685.6043905566|\n",
      "| 21439773999|Mauris Non Institute|            a| 6.099999904632568|               0.12701597900617234|                     19979|               0.04497222846954608|                     19324|                       5.043445617898794|          100763|    78.17612635862461|         394.2770419077072|                        226.35|                     4527|      1.5429417855301257|              7877261.02|                2021-02-28|               2022-10-14|               19.5483871|               2638|               791.3108035687703|         1980.9260293957107| 43.08814247293153| 2.457650923454046|0.9996210685865858|               38.196739954510996|tech_and_electronics|480512.91470765846|\n",
      "| 64403598239|Lobortis Ultrices...|            a| 6.309999942779541|                               0.0|                     19950|              0.049374133520220395|                     19106|                       4.755238095238095|           94867|    78.20493569303413|        371.88308944316105|                        216.35|                     4327|      1.3638180454775009|              7419067.63|                2021-02-28|               2022-10-14|               19.5483871|               2639|               790.6689523227255|         1978.5105621554387|43.093177817365365|2.4579937175203193|               1.0|                35.94808639636226|  retail_and_novelty|468143.16320777545|\n",
      "| 72472909171|   Nullam Consulting|            a| 6.329999923706055|                               0.0|                     19841|               0.04131708524193517|                     18610|                       4.294793609193085|           85213|    70.14287074357972|        301.24915299998173|                        191.25|                     3825|      1.6414901716569776|              5977084.44|                2021-02-28|               2022-10-12|              19.48387097|               2639|               789.5209944492037|         1975.6131576167957| 43.12369591494256| 2.457607172614508|               1.0|                32.28988253126184|tech_and_electronics| 378349.4404918465|\n",
      "| 79417999332|Phasellus At Company|            b| 4.949999809265137|                               0.0|                     19824|              0.049120860616132564|                     18483|                       4.178874092009686|           82842|    91.80997170083022|        383.66231212874226|                         190.1|                     3802|      1.4497441549439456|              7605721.68|                2021-02-28|               2022-10-02|              19.16129032|               2639|                791.032344704377|         1980.6353359407065| 43.12722411337244|2.4572311146519885|               1.0|                31.39143615005684|  retail_and_novelty|376483.20865323715|\n",
      "| 94493496784|Dictum Phasellus ...|            a| 5.650000095367432|               0.14346656748463416|                     19768|               0.04277271527901098|                     18485|                        4.19430392553622|           82913|    92.02055044574666|        385.96215596459933|                         191.9|                     3838|       1.456006796303865|               7629699.9|                2021-02-28|               2022-10-22|              19.80645161|               2639|               790.3757372185303|         1978.0311048930807|43.107546464366266|2.4583691339114497|               1.0|               31.418340280409247|  retail_and_novelty|431078.05162624887|\n",
      "| 60956456424|Ultricies Digniss...|            b| 4.690000057220459|                               0.0|                     19639|               0.04762780109752846|                     17901|                       3.862773053617801|           75861|    88.49788444300887|        341.84724332863703|                        172.05|                     3441|      1.7401032225975523|              6713538.01|                2021-02-28|               2022-10-06|              19.29032258|               2638|               791.2604961706279|          1980.906855960243| 43.08887966148614|  2.45867560406533|0.9996210685865858|               28.757012888551934|  retail_and_novelty| 314864.9365105172|\n",
      "| 32361057556|Orci In Consequat...|            a| 6.610000133514404|                               0.0|                     19535|               0.04532272179335463|                     17568|                       3.672024571282314|           71733|   109.88505527121353|         403.5006229726112|                         165.7|                     3314|       1.726068114110396|              7882384.67|                2021-02-28|               2022-10-12|              19.48387097|               2639|               790.8828224108848|         1978.1251446335716| 43.09931272914837|2.4562480308923362|               1.0|               27.181887078438802|  retail_and_novelty|521025.63721111894|\n",
      "| 91923722701|Euismod Urna Inst...|            b| 5.050000190734863|                               0.0|                     19366|               0.03716150095089717|                     16802|                      3.3744707218837138|           65350|    13.80536059546752|         46.58578513445222|                        153.65|                     3073|      1.1730712119899442|               902180.31|                2021-02-28|               2022-10-10|              19.41935484|               2639|               789.8658301453711|         1977.4140091813313| 43.12247895944912|2.4579514919663357|               1.0|               24.763167866616143|garden_and_furnis...| 45560.10737577238|\n",
      "| 49505931725|Suspendisse Ac As...|            b| 4.699999809265137|                               0.0|                     18949|               0.04560572389574411|                     15668|                      3.0109240593171145|           57054|   105.14251729068772|         316.5761349676975|                         132.9|                     2658|      1.8342609746133636|              5998801.18|                2021-02-28|               2022-10-11|               19.4516129|               2639|               788.5736495250114|         1976.1297542678865| 43.12392645563852|  2.45897483086199|               1.0|                21.61955286093217|tech_and_electronics|281943.64401819475|\n",
      "+------------+--------------------+-------------+------------------+----------------------------------+--------------------------+----------------------------------+--------------------------+----------------------------------------+----------------+---------------------+--------------------------+------------------------------+-------------------------+------------------------+------------------------+--------------------------+-------------------------+-------------------------+-------------------+--------------------------------+---------------------------+------------------+------------------+------------------+---------------------------------+--------------------+------------------+\n",
      "only showing top 20 rows\n",
      "\n"
     ]
    }
   ],
   "source": [
    "joined.orderBy(f.col(\"number_of_unique_consumers\").desc()).show()"
   ]
  },
  {
   "cell_type": "markdown",
   "metadata": {},
   "source": [
    "Changing NULLs to 0s\n",
    "\n",
    "As we are going to be using modelling techniques we need to change the NULLs to an interpretable value."
   ]
  },
  {
   "cell_type": "code",
   "execution_count": 119,
   "metadata": {},
   "outputs": [],
   "source": [
    "joined = joined.fillna(0)"
   ]
  },
  {
   "cell_type": "markdown",
   "metadata": {},
   "source": [
    "Next we want to convert the categorical features into integer values so that we can check its correlation between the target variables.\n",
    "\n",
    "In the dataset there are 2 categorical features:\n",
    "- Revenue Value\n",
    "- Segment"
   ]
  },
  {
   "cell_type": "code",
   "execution_count": 6,
   "metadata": {},
   "outputs": [],
   "source": [
    "from pyspark.ml.feature import StringIndexer"
   ]
  },
  {
   "cell_type": "code",
   "execution_count": 7,
   "metadata": {},
   "outputs": [],
   "source": [
    "input_cols = [\"revenue_level\",\"segment\"]\n",
    "output_cols = [\"revenue_level_indexed\",\"segment_indexed\"]"
   ]
  },
  {
   "cell_type": "code",
   "execution_count": 8,
   "metadata": {},
   "outputs": [],
   "source": [
    "revenue_level_indexer = StringIndexer(inputCol = \"revenue_level\", outputCol= \"revenue_level_indexed\")\n",
    "segment_indexer = StringIndexer(inputCol = \"segment\", outputCol = \"segment_indexed\")"
   ]
  },
  {
   "cell_type": "code",
   "execution_count": 9,
   "metadata": {},
   "outputs": [
    {
     "name": "stderr",
     "output_type": "stream",
     "text": [
      "                                                                                \r"
     ]
    }
   ],
   "source": [
    "pre_correlation_df = revenue_level_indexer.fit(joined).transform(segment_indexer.fit(joined).transform(joined))\n",
    "pre_correlation_df = pre_correlation_df.drop(\"revenue_level\", \"segment\",\"name\",\"first_recorded_transaction\",\"last_recorded_transaction\")"
   ]
  },
  {
   "cell_type": "code",
   "execution_count": 10,
   "metadata": {},
   "outputs": [],
   "source": [
    "correlation_df = pre_correlation_df.toPandas()"
   ]
  },
  {
   "cell_type": "markdown",
   "metadata": {},
   "source": [
    "Now we will check the correlation matrix"
   ]
  },
  {
   "cell_type": "code",
   "execution_count": 12,
   "metadata": {},
   "outputs": [],
   "source": [
    "import pandas as pd"
   ]
  },
  {
   "cell_type": "code",
   "execution_count": null,
   "metadata": {},
   "outputs": [],
   "source": [
    "correlation_df.head()"
   ]
  },
  {
   "cell_type": "code",
   "execution_count": 13,
   "metadata": {},
   "outputs": [],
   "source": [
    "corr_matrix = correlation_df.corr()"
   ]
  },
  {
   "cell_type": "markdown",
   "metadata": {},
   "source": [
    "We will matrix a heat map of the correlation matrix to view the correlations more visually."
   ]
  },
  {
   "cell_type": "code",
   "execution_count": null,
   "metadata": {},
   "outputs": [],
   "source": [
    "import seaborn as sns\n",
    "sns.heatmap(corr_matrix)"
   ]
  },
  {
   "cell_type": "markdown",
   "metadata": {},
   "source": [
    "### Feature Engineering"
   ]
  },
  {
   "cell_type": "markdown",
   "metadata": {},
   "source": [
    "Predicting number of consumers in 3 years"
   ]
  },
  {
   "cell_type": "code",
   "execution_count": 14,
   "metadata": {},
   "outputs": [
    {
     "data": {
      "text/plain": [
       "merchant_abn                                0.004690\n",
       "take_rate                                   0.039364\n",
       "average_merchant_fraud_probability         -0.005603\n",
       "number_of_unique_consumers                  1.000000\n",
       "average_consumer_fraud_probability         -0.144273\n",
       "number_of_repeat_consumers                  0.860697\n",
       "average_repeat_transactions_per_consumer    0.613602\n",
       "number_of_orders                            0.714180\n",
       "average_cost_of_order                      -0.180890\n",
       "average_spend_per_consumer                 -0.171051\n",
       "average_monthly_diff_consumers              0.773080\n",
       "consumer_diff_over_period                   0.773120\n",
       "average_growth_consumers                    0.442527\n",
       "merchant_revenue_rounded                    0.647470\n",
       "transcation_period_months                   0.243275\n",
       "number_of_postcodes                         0.845176\n",
       "avg_total_weekly_personal_income            0.008346\n",
       "avg_total_weekly_fam_income                 0.010363\n",
       "avg_median_age                             -0.002720\n",
       "avg_household_size                          0.003532\n",
       "postcode_reach                              0.845176\n",
       "avg_num_of_consumers_per_postcode           0.679941\n",
       "bnpl_maximum_gain                           0.612203\n",
       "segment_indexed                            -0.014934\n",
       "revenue_level_indexed                      -0.041301\n",
       "Name: number_of_unique_consumers, dtype: float64"
      ]
     },
     "execution_count": 14,
     "metadata": {},
     "output_type": "execute_result"
    }
   ],
   "source": [
    "corr_matrix.loc[\"number_of_unique_consumers\"]"
   ]
  },
  {
   "cell_type": "markdown",
   "metadata": {},
   "source": [
    "Next we seperate the features and the target variables"
   ]
  },
  {
   "cell_type": "code",
   "execution_count": 15,
   "metadata": {},
   "outputs": [],
   "source": [
    "modelling_df = correlation_df.copy()"
   ]
  },
  {
   "cell_type": "code",
   "execution_count": 16,
   "metadata": {},
   "outputs": [
    {
     "data": {
      "text/html": [
       "<div>\n",
       "<style scoped>\n",
       "    .dataframe tbody tr th:only-of-type {\n",
       "        vertical-align: middle;\n",
       "    }\n",
       "\n",
       "    .dataframe tbody tr th {\n",
       "        vertical-align: top;\n",
       "    }\n",
       "\n",
       "    .dataframe thead th {\n",
       "        text-align: right;\n",
       "    }\n",
       "</style>\n",
       "<table border=\"1\" class=\"dataframe\">\n",
       "  <thead>\n",
       "    <tr style=\"text-align: right;\">\n",
       "      <th></th>\n",
       "      <th>merchant_abn</th>\n",
       "      <th>take_rate</th>\n",
       "      <th>average_merchant_fraud_probability</th>\n",
       "      <th>number_of_unique_consumers</th>\n",
       "      <th>average_consumer_fraud_probability</th>\n",
       "      <th>number_of_repeat_consumers</th>\n",
       "      <th>average_repeat_transactions_per_consumer</th>\n",
       "      <th>number_of_orders</th>\n",
       "      <th>average_cost_of_order</th>\n",
       "      <th>average_spend_per_consumer</th>\n",
       "      <th>...</th>\n",
       "      <th>number_of_postcodes</th>\n",
       "      <th>avg_total_weekly_personal_income</th>\n",
       "      <th>avg_total_weekly_fam_income</th>\n",
       "      <th>avg_median_age</th>\n",
       "      <th>avg_household_size</th>\n",
       "      <th>postcode_reach</th>\n",
       "      <th>avg_num_of_consumers_per_postcode</th>\n",
       "      <th>bnpl_maximum_gain</th>\n",
       "      <th>segment_indexed</th>\n",
       "      <th>revenue_level_indexed</th>\n",
       "    </tr>\n",
       "  </thead>\n",
       "  <tbody>\n",
       "    <tr>\n",
       "      <th>0</th>\n",
       "      <td>16550028284</td>\n",
       "      <td>6.52</td>\n",
       "      <td>0.0</td>\n",
       "      <td>103</td>\n",
       "      <td>0.084383</td>\n",
       "      <td>1</td>\n",
       "      <td>1.009709</td>\n",
       "      <td>104</td>\n",
       "      <td>206.620211</td>\n",
       "      <td>208.626233</td>\n",
       "      <td>...</td>\n",
       "      <td>101</td>\n",
       "      <td>821.355769</td>\n",
       "      <td>2081.072115</td>\n",
       "      <td>43.033654</td>\n",
       "      <td>2.456731</td>\n",
       "      <td>0.038272</td>\n",
       "      <td>1.029703</td>\n",
       "      <td>1401.050196</td>\n",
       "      <td>2.0</td>\n",
       "      <td>0.0</td>\n",
       "    </tr>\n",
       "    <tr>\n",
       "      <th>1</th>\n",
       "      <td>21437482304</td>\n",
       "      <td>5.71</td>\n",
       "      <td>0.0</td>\n",
       "      <td>47</td>\n",
       "      <td>0.000000</td>\n",
       "      <td>0</td>\n",
       "      <td>1.000000</td>\n",
       "      <td>47</td>\n",
       "      <td>310.808283</td>\n",
       "      <td>310.808283</td>\n",
       "      <td>...</td>\n",
       "      <td>47</td>\n",
       "      <td>750.159574</td>\n",
       "      <td>1876.946809</td>\n",
       "      <td>43.542553</td>\n",
       "      <td>2.435106</td>\n",
       "      <td>0.017810</td>\n",
       "      <td>1.000000</td>\n",
       "      <td>834.116235</td>\n",
       "      <td>1.0</td>\n",
       "      <td>0.0</td>\n",
       "    </tr>\n",
       "    <tr>\n",
       "      <th>2</th>\n",
       "      <td>68535898735</td>\n",
       "      <td>2.87</td>\n",
       "      <td>0.0</td>\n",
       "      <td>19</td>\n",
       "      <td>2.068235</td>\n",
       "      <td>0</td>\n",
       "      <td>1.000000</td>\n",
       "      <td>19</td>\n",
       "      <td>3406.956557</td>\n",
       "      <td>3406.956557</td>\n",
       "      <td>...</td>\n",
       "      <td>19</td>\n",
       "      <td>768.394737</td>\n",
       "      <td>1863.921053</td>\n",
       "      <td>42.500000</td>\n",
       "      <td>2.512632</td>\n",
       "      <td>0.007200</td>\n",
       "      <td>1.000000</td>\n",
       "      <td>1857.813205</td>\n",
       "      <td>3.0</td>\n",
       "      <td>2.0</td>\n",
       "    </tr>\n",
       "    <tr>\n",
       "      <th>3</th>\n",
       "      <td>27440079026</td>\n",
       "      <td>2.53</td>\n",
       "      <td>0.0</td>\n",
       "      <td>1156</td>\n",
       "      <td>0.067623</td>\n",
       "      <td>34</td>\n",
       "      <td>1.029412</td>\n",
       "      <td>1190</td>\n",
       "      <td>451.566416</td>\n",
       "      <td>464.847781</td>\n",
       "      <td>...</td>\n",
       "      <td>947</td>\n",
       "      <td>794.315546</td>\n",
       "      <td>1965.475210</td>\n",
       "      <td>43.044118</td>\n",
       "      <td>2.463672</td>\n",
       "      <td>0.358848</td>\n",
       "      <td>1.256600</td>\n",
       "      <td>13595.309805</td>\n",
       "      <td>0.0</td>\n",
       "      <td>2.0</td>\n",
       "    </tr>\n",
       "    <tr>\n",
       "      <th>4</th>\n",
       "      <td>53062283717</td>\n",
       "      <td>3.93</td>\n",
       "      <td>0.0</td>\n",
       "      <td>3180</td>\n",
       "      <td>0.056882</td>\n",
       "      <td>288</td>\n",
       "      <td>1.094340</td>\n",
       "      <td>3480</td>\n",
       "      <td>404.681587</td>\n",
       "      <td>442.859096</td>\n",
       "      <td>...</td>\n",
       "      <td>1869</td>\n",
       "      <td>789.271839</td>\n",
       "      <td>1973.562931</td>\n",
       "      <td>42.969971</td>\n",
       "      <td>2.460109</td>\n",
       "      <td>0.708223</td>\n",
       "      <td>1.861958</td>\n",
       "      <td>55345.873396</td>\n",
       "      <td>0.0</td>\n",
       "      <td>1.0</td>\n",
       "    </tr>\n",
       "  </tbody>\n",
       "</table>\n",
       "<p>5 rows × 25 columns</p>\n",
       "</div>"
      ],
      "text/plain": [
       "   merchant_abn  take_rate  average_merchant_fraud_probability  \\\n",
       "0   16550028284       6.52                                 0.0   \n",
       "1   21437482304       5.71                                 0.0   \n",
       "2   68535898735       2.87                                 0.0   \n",
       "3   27440079026       2.53                                 0.0   \n",
       "4   53062283717       3.93                                 0.0   \n",
       "\n",
       "   number_of_unique_consumers  average_consumer_fraud_probability  \\\n",
       "0                         103                            0.084383   \n",
       "1                          47                            0.000000   \n",
       "2                          19                            2.068235   \n",
       "3                        1156                            0.067623   \n",
       "4                        3180                            0.056882   \n",
       "\n",
       "   number_of_repeat_consumers  average_repeat_transactions_per_consumer  \\\n",
       "0                           1                                  1.009709   \n",
       "1                           0                                  1.000000   \n",
       "2                           0                                  1.000000   \n",
       "3                          34                                  1.029412   \n",
       "4                         288                                  1.094340   \n",
       "\n",
       "   number_of_orders  average_cost_of_order  average_spend_per_consumer  ...  \\\n",
       "0               104             206.620211                  208.626233  ...   \n",
       "1                47             310.808283                  310.808283  ...   \n",
       "2                19            3406.956557                 3406.956557  ...   \n",
       "3              1190             451.566416                  464.847781  ...   \n",
       "4              3480             404.681587                  442.859096  ...   \n",
       "\n",
       "   number_of_postcodes  avg_total_weekly_personal_income  \\\n",
       "0                  101                        821.355769   \n",
       "1                   47                        750.159574   \n",
       "2                   19                        768.394737   \n",
       "3                  947                        794.315546   \n",
       "4                 1869                        789.271839   \n",
       "\n",
       "   avg_total_weekly_fam_income  avg_median_age  avg_household_size  \\\n",
       "0                  2081.072115       43.033654            2.456731   \n",
       "1                  1876.946809       43.542553            2.435106   \n",
       "2                  1863.921053       42.500000            2.512632   \n",
       "3                  1965.475210       43.044118            2.463672   \n",
       "4                  1973.562931       42.969971            2.460109   \n",
       "\n",
       "   postcode_reach  avg_num_of_consumers_per_postcode  bnpl_maximum_gain  \\\n",
       "0        0.038272                           1.029703        1401.050196   \n",
       "1        0.017810                           1.000000         834.116235   \n",
       "2        0.007200                           1.000000        1857.813205   \n",
       "3        0.358848                           1.256600       13595.309805   \n",
       "4        0.708223                           1.861958       55345.873396   \n",
       "\n",
       "   segment_indexed  revenue_level_indexed  \n",
       "0              2.0                    0.0  \n",
       "1              1.0                    0.0  \n",
       "2              3.0                    2.0  \n",
       "3              0.0                    2.0  \n",
       "4              0.0                    1.0  \n",
       "\n",
       "[5 rows x 25 columns]"
      ]
     },
     "execution_count": 16,
     "metadata": {},
     "output_type": "execute_result"
    }
   ],
   "source": [
    "modelling_df.head()"
   ]
  },
  {
   "cell_type": "code",
   "execution_count": 17,
   "metadata": {},
   "outputs": [],
   "source": [
    "target_variable = \"number_of_unique_consumers\""
   ]
  },
  {
   "cell_type": "code",
   "execution_count": 18,
   "metadata": {},
   "outputs": [],
   "source": [
    "features_unique_customers = modelling_df.drop(columns = [\"merchant_abn\",target_variable])\n",
    "number_of_unique_customer = modelling_df[target_variable]"
   ]
  },
  {
   "cell_type": "markdown",
   "metadata": {},
   "source": [
    "Feature Selection"
   ]
  },
  {
   "cell_type": "code",
   "execution_count": 19,
   "metadata": {},
   "outputs": [],
   "source": [
    "from sklearn.feature_selection import f_regression, SelectKBest"
   ]
  },
  {
   "cell_type": "code",
   "execution_count": 20,
   "metadata": {},
   "outputs": [],
   "source": [
    "selector = SelectKBest(score_func=f_regression, k= 5)\n",
    "features_unique_customers_selected = selector.fit_transform(features_unique_customers, number_of_unique_customer)"
   ]
  },
  {
   "cell_type": "code",
   "execution_count": 21,
   "metadata": {},
   "outputs": [
    {
     "name": "stdout",
     "output_type": "stream",
     "text": [
      "Index(['number_of_repeat_consumers', 'average_monthly_diff_consumers',\n",
      "       'consumer_diff_over_period', 'number_of_postcodes', 'postcode_reach'],\n",
      "      dtype='object')\n"
     ]
    }
   ],
   "source": [
    "selected_feature_indices = selector.get_support(indices=True)\n",
    "selected_features = features_unique_customers.columns[selected_feature_indices]\n",
    "print(selected_features)"
   ]
  },
  {
   "cell_type": "code",
   "execution_count": 22,
   "metadata": {},
   "outputs": [
    {
     "name": "stdout",
     "output_type": "stream",
     "text": [
      "Index(['number_of_repeat_consumers', 'average_monthly_diff_consumers',\n",
      "       'consumer_diff_over_period', 'number_of_postcodes', 'postcode_reach',\n",
      "       'transcation_period_months'],\n",
      "      dtype='object')\n"
     ]
    }
   ],
   "source": [
    "# add transaction period features as this feature will be changed\n",
    "selected_features = selected_features.append(pd.Index(['transcation_period_months']))\n",
    "print(selected_features)"
   ]
  },
  {
   "cell_type": "markdown",
   "metadata": {},
   "source": [
    "Splitting the data for train and test \n",
    " - We will use a 80 - 20"
   ]
  },
  {
   "cell_type": "code",
   "execution_count": 23,
   "metadata": {},
   "outputs": [],
   "source": [
    "from sklearn.model_selection import train_test_split"
   ]
  },
  {
   "cell_type": "code",
   "execution_count": 80,
   "metadata": {},
   "outputs": [],
   "source": [
    "features_unique_customers_train, features_unique_customers_test, number_of_unique_customer_train, number_of_unique_customer_test = \\\n",
    "    train_test_split(features_unique_customers[selected_features], number_of_unique_customer, test_size=0.2, random_state=42)"
   ]
  },
  {
   "cell_type": "markdown",
   "metadata": {},
   "source": [
    "### Fitting the model\n",
    "\n",
    "First we will fit a linear regression model"
   ]
  },
  {
   "cell_type": "code",
   "execution_count": 81,
   "metadata": {},
   "outputs": [],
   "source": [
    "from sklearn.linear_model import LinearRegression\n",
    "from sklearn.metrics import mean_squared_error, r2_score\n",
    "import numpy as np\n",
    "import matplotlib.pyplot as plt"
   ]
  },
  {
   "cell_type": "code",
   "execution_count": null,
   "metadata": {},
   "outputs": [],
   "source": [
    "num_of_unique_customers_model = LinearRegression()\n",
    "num_of_unique_customers_model.fit((features_unique_customers_train), (number_of_unique_customer_train))"
   ]
  },
  {
   "cell_type": "markdown",
   "metadata": {},
   "source": [
    "Linear Regression Model Evaluation"
   ]
  },
  {
   "cell_type": "code",
   "execution_count": null,
   "metadata": {},
   "outputs": [],
   "source": [
    "num_of_unique_customer_pred = num_of_unique_customers_model.predict(features_unique_customers_test)\n",
    "mse = mean_squared_error((number_of_unique_customer_test), (num_of_unique_customer_pred))\n",
    "rmse = (mse ** 0.5)\n",
    "r2 = r2_score((number_of_unique_customer_test), num_of_unique_customer_pred)"
   ]
  },
  {
   "cell_type": "code",
   "execution_count": null,
   "metadata": {},
   "outputs": [],
   "source": [
    "print(f'R-squared (R2): {r2}')\n",
    "print(f\"RMSE: {rmse}\")"
   ]
  },
  {
   "cell_type": "code",
   "execution_count": null,
   "metadata": {},
   "outputs": [],
   "source": [
    "residuals = (number_of_unique_customer_test) - num_of_unique_customer_pred"
   ]
  },
  {
   "cell_type": "code",
   "execution_count": null,
   "metadata": {},
   "outputs": [],
   "source": [
    "plt.scatter(num_of_unique_customer_pred, residuals)\n",
    "plt.xlabel('Predicted Values')\n",
    "plt.ylabel('Residuals')\n",
    "plt.title('Residual Plot')\n",
    "plt.axhline(y=0, color='r', linestyle='-')\n",
    "plt.show()"
   ]
  },
  {
   "cell_type": "markdown",
   "metadata": {},
   "source": [
    "By looking at the residual plot we can see that the underlying distribution is non-linear, so we will fit a Random Forest Regressor model."
   ]
  },
  {
   "cell_type": "code",
   "execution_count": 121,
   "metadata": {},
   "outputs": [],
   "source": [
    "from sklearn.ensemble import RandomForestRegressor"
   ]
  },
  {
   "cell_type": "code",
   "execution_count": 122,
   "metadata": {},
   "outputs": [
    {
     "data": {
      "text/html": [
       "<style>#sk-container-id-8 {color: black;}#sk-container-id-8 pre{padding: 0;}#sk-container-id-8 div.sk-toggleable {background-color: white;}#sk-container-id-8 label.sk-toggleable__label {cursor: pointer;display: block;width: 100%;margin-bottom: 0;padding: 0.3em;box-sizing: border-box;text-align: center;}#sk-container-id-8 label.sk-toggleable__label-arrow:before {content: \"▸\";float: left;margin-right: 0.25em;color: #696969;}#sk-container-id-8 label.sk-toggleable__label-arrow:hover:before {color: black;}#sk-container-id-8 div.sk-estimator:hover label.sk-toggleable__label-arrow:before {color: black;}#sk-container-id-8 div.sk-toggleable__content {max-height: 0;max-width: 0;overflow: hidden;text-align: left;background-color: #f0f8ff;}#sk-container-id-8 div.sk-toggleable__content pre {margin: 0.2em;color: black;border-radius: 0.25em;background-color: #f0f8ff;}#sk-container-id-8 input.sk-toggleable__control:checked~div.sk-toggleable__content {max-height: 200px;max-width: 100%;overflow: auto;}#sk-container-id-8 input.sk-toggleable__control:checked~label.sk-toggleable__label-arrow:before {content: \"▾\";}#sk-container-id-8 div.sk-estimator input.sk-toggleable__control:checked~label.sk-toggleable__label {background-color: #d4ebff;}#sk-container-id-8 div.sk-label input.sk-toggleable__control:checked~label.sk-toggleable__label {background-color: #d4ebff;}#sk-container-id-8 input.sk-hidden--visually {border: 0;clip: rect(1px 1px 1px 1px);clip: rect(1px, 1px, 1px, 1px);height: 1px;margin: -1px;overflow: hidden;padding: 0;position: absolute;width: 1px;}#sk-container-id-8 div.sk-estimator {font-family: monospace;background-color: #f0f8ff;border: 1px dotted black;border-radius: 0.25em;box-sizing: border-box;margin-bottom: 0.5em;}#sk-container-id-8 div.sk-estimator:hover {background-color: #d4ebff;}#sk-container-id-8 div.sk-parallel-item::after {content: \"\";width: 100%;border-bottom: 1px solid gray;flex-grow: 1;}#sk-container-id-8 div.sk-label:hover label.sk-toggleable__label {background-color: #d4ebff;}#sk-container-id-8 div.sk-serial::before {content: \"\";position: absolute;border-left: 1px solid gray;box-sizing: border-box;top: 0;bottom: 0;left: 50%;z-index: 0;}#sk-container-id-8 div.sk-serial {display: flex;flex-direction: column;align-items: center;background-color: white;padding-right: 0.2em;padding-left: 0.2em;position: relative;}#sk-container-id-8 div.sk-item {position: relative;z-index: 1;}#sk-container-id-8 div.sk-parallel {display: flex;align-items: stretch;justify-content: center;background-color: white;position: relative;}#sk-container-id-8 div.sk-item::before, #sk-container-id-8 div.sk-parallel-item::before {content: \"\";position: absolute;border-left: 1px solid gray;box-sizing: border-box;top: 0;bottom: 0;left: 50%;z-index: -1;}#sk-container-id-8 div.sk-parallel-item {display: flex;flex-direction: column;z-index: 1;position: relative;background-color: white;}#sk-container-id-8 div.sk-parallel-item:first-child::after {align-self: flex-end;width: 50%;}#sk-container-id-8 div.sk-parallel-item:last-child::after {align-self: flex-start;width: 50%;}#sk-container-id-8 div.sk-parallel-item:only-child::after {width: 0;}#sk-container-id-8 div.sk-dashed-wrapped {border: 1px dashed gray;margin: 0 0.4em 0.5em 0.4em;box-sizing: border-box;padding-bottom: 0.4em;background-color: white;}#sk-container-id-8 div.sk-label label {font-family: monospace;font-weight: bold;display: inline-block;line-height: 1.2em;}#sk-container-id-8 div.sk-label-container {text-align: center;}#sk-container-id-8 div.sk-container {/* jupyter's `normalize.less` sets `[hidden] { display: none; }` but bootstrap.min.css set `[hidden] { display: none !important; }` so we also need the `!important` here to be able to override the default hidden behavior on the sphinx rendered scikit-learn.org. See: https://github.com/scikit-learn/scikit-learn/issues/21755 */display: inline-block !important;position: relative;}#sk-container-id-8 div.sk-text-repr-fallback {display: none;}</style><div id=\"sk-container-id-8\" class=\"sk-top-container\"><div class=\"sk-text-repr-fallback\"><pre>RandomForestRegressor()</pre><b>In a Jupyter environment, please rerun this cell to show the HTML representation or trust the notebook. <br />On GitHub, the HTML representation is unable to render, please try loading this page with nbviewer.org.</b></div><div class=\"sk-container\" hidden><div class=\"sk-item\"><div class=\"sk-estimator sk-toggleable\"><input class=\"sk-toggleable__control sk-hidden--visually\" id=\"sk-estimator-id-8\" type=\"checkbox\" checked><label for=\"sk-estimator-id-8\" class=\"sk-toggleable__label sk-toggleable__label-arrow\">RandomForestRegressor</label><div class=\"sk-toggleable__content\"><pre>RandomForestRegressor()</pre></div></div></div></div></div>"
      ],
      "text/plain": [
       "RandomForestRegressor()"
      ]
     },
     "execution_count": 122,
     "metadata": {},
     "output_type": "execute_result"
    }
   ],
   "source": [
    "num_of_unique_customers_model = RandomForestRegressor()\n",
    "num_of_unique_customers_model.fit((features_unique_customers_train), np.log(number_of_unique_customer_train))"
   ]
  },
  {
   "cell_type": "markdown",
   "metadata": {},
   "source": [
    "Random Forest Regressor Evaluation"
   ]
  },
  {
   "cell_type": "code",
   "execution_count": 123,
   "metadata": {},
   "outputs": [],
   "source": [
    "num_of_unique_customer_pred = num_of_unique_customers_model.predict(features_unique_customers_test)\n",
    "mse = mean_squared_error(np.log(number_of_unique_customer_test), (num_of_unique_customer_pred))\n",
    "rmse = (mse ** 0.5)\n",
    "r2 = r2_score(np.log(number_of_unique_customer_test), num_of_unique_customer_pred)"
   ]
  },
  {
   "cell_type": "code",
   "execution_count": 124,
   "metadata": {},
   "outputs": [
    {
     "name": "stdout",
     "output_type": "stream",
     "text": [
      "R-squared (R2): 0.9999449511073338\n",
      "RMSE: 0.01496150240811776\n"
     ]
    }
   ],
   "source": [
    "print(f'R-squared (R2): {r2}')\n",
    "print(f\"RMSE: {rmse}\")"
   ]
  },
  {
   "cell_type": "code",
   "execution_count": 125,
   "metadata": {},
   "outputs": [],
   "source": [
    "residuals = np.log(number_of_unique_customer_test) - num_of_unique_customer_pred"
   ]
  },
  {
   "cell_type": "code",
   "execution_count": 126,
   "metadata": {},
   "outputs": [
    {
     "data": {
      "image/png": "[encoded data removed]",
      "text/plain": [
       "<Figure size 640x480 with 1 Axes>"
      ]
     },
     "metadata": {},
     "output_type": "display_data"
    }
   ],
   "source": [
    "import matplotlib.pyplot as plt\n",
    "plt.scatter(num_of_unique_customer_pred, residuals)\n",
    "plt.xlabel('Predicted Values')\n",
    "plt.ylabel('Residuals')\n",
    "plt.title('Residual Plot')\n",
    "plt.axhline(y=0, color='r', linestyle='-')\n",
    "plt.show()"
   ]
  },
  {
   "cell_type": "markdown",
   "metadata": {},
   "source": [
    "Next we will predict the number of customers in 3 years"
   ]
  },
  {
   "cell_type": "code",
   "execution_count": 127,
   "metadata": {},
   "outputs": [],
   "source": [
    "future_modelling_df = modelling_df.copy()\n",
    "future_modelling_df = future_modelling_df.sort_values(by='merchant_abn')"
   ]
  },
  {
   "cell_type": "code",
   "execution_count": 128,
   "metadata": {},
   "outputs": [],
   "source": [
    "future_modelling_df[\"transcation_period_months\"] = future_modelling_df[\"transcation_period_months\"] + 36"
   ]
  },
  {
   "cell_type": "code",
   "execution_count": 129,
   "metadata": {},
   "outputs": [
    {
     "data": {
      "text/html": [
       "<div>\n",
       "<style scoped>\n",
       "    .dataframe tbody tr th:only-of-type {\n",
       "        vertical-align: middle;\n",
       "    }\n",
       "\n",
       "    .dataframe tbody tr th {\n",
       "        vertical-align: top;\n",
       "    }\n",
       "\n",
       "    .dataframe thead th {\n",
       "        text-align: right;\n",
       "    }\n",
       "</style>\n",
       "<table border=\"1\" class=\"dataframe\">\n",
       "  <thead>\n",
       "    <tr style=\"text-align: right;\">\n",
       "      <th></th>\n",
       "      <th>merchant_abn</th>\n",
       "      <th>take_rate</th>\n",
       "      <th>average_merchant_fraud_probability</th>\n",
       "      <th>number_of_unique_consumers</th>\n",
       "      <th>average_consumer_fraud_probability</th>\n",
       "      <th>number_of_repeat_consumers</th>\n",
       "      <th>average_repeat_transactions_per_consumer</th>\n",
       "      <th>number_of_orders</th>\n",
       "      <th>average_cost_of_order</th>\n",
       "      <th>average_spend_per_consumer</th>\n",
       "      <th>...</th>\n",
       "      <th>number_of_postcodes</th>\n",
       "      <th>avg_total_weekly_personal_income</th>\n",
       "      <th>avg_total_weekly_fam_income</th>\n",
       "      <th>avg_median_age</th>\n",
       "      <th>avg_household_size</th>\n",
       "      <th>postcode_reach</th>\n",
       "      <th>avg_num_of_consumers_per_postcode</th>\n",
       "      <th>bnpl_maximum_gain</th>\n",
       "      <th>segment_indexed</th>\n",
       "      <th>revenue_level_indexed</th>\n",
       "    </tr>\n",
       "  </thead>\n",
       "  <tbody>\n",
       "    <tr>\n",
       "      <th>1095</th>\n",
       "      <td>10023283211</td>\n",
       "      <td>0.18</td>\n",
       "      <td>0.0</td>\n",
       "      <td>2525</td>\n",
       "      <td>0.095502</td>\n",
       "      <td>174</td>\n",
       "      <td>1.071683</td>\n",
       "      <td>2706</td>\n",
       "      <td>215.797947</td>\n",
       "      <td>231.267028</td>\n",
       "      <td>...</td>\n",
       "      <td>1628</td>\n",
       "      <td>786.702328</td>\n",
       "      <td>1971.123799</td>\n",
       "      <td>43.031966</td>\n",
       "      <td>2.456914</td>\n",
       "      <td>0.616900</td>\n",
       "      <td>1.662162</td>\n",
       "      <td>1051.108692</td>\n",
       "      <td>2.0</td>\n",
       "      <td>4.0</td>\n",
       "    </tr>\n",
       "    <tr>\n",
       "      <th>2050</th>\n",
       "      <td>10142254217</td>\n",
       "      <td>4.22</td>\n",
       "      <td>0.0</td>\n",
       "      <td>2389</td>\n",
       "      <td>0.064356</td>\n",
       "      <td>151</td>\n",
       "      <td>1.064881</td>\n",
       "      <td>2544</td>\n",
       "      <td>38.591470</td>\n",
       "      <td>41.095311</td>\n",
       "      <td>...</td>\n",
       "      <td>1591</td>\n",
       "      <td>792.250000</td>\n",
       "      <td>1983.427083</td>\n",
       "      <td>42.850629</td>\n",
       "      <td>2.464025</td>\n",
       "      <td>0.602880</td>\n",
       "      <td>1.598994</td>\n",
       "      <td>4143.056534</td>\n",
       "      <td>1.0</td>\n",
       "      <td>1.0</td>\n",
       "    </tr>\n",
       "    <tr>\n",
       "      <th>3961</th>\n",
       "      <td>10165489824</td>\n",
       "      <td>4.40</td>\n",
       "      <td>0.0</td>\n",
       "      <td>4</td>\n",
       "      <td>6.979429</td>\n",
       "      <td>0</td>\n",
       "      <td>1.000000</td>\n",
       "      <td>4</td>\n",
       "      <td>8885.894209</td>\n",
       "      <td>8885.894209</td>\n",
       "      <td>...</td>\n",
       "      <td>4</td>\n",
       "      <td>817.500000</td>\n",
       "      <td>2066.125000</td>\n",
       "      <td>41.625000</td>\n",
       "      <td>2.475000</td>\n",
       "      <td>0.001516</td>\n",
       "      <td>1.000000</td>\n",
       "      <td>1563.917554</td>\n",
       "      <td>4.0</td>\n",
       "      <td>1.0</td>\n",
       "    </tr>\n",
       "    <tr>\n",
       "      <th>928</th>\n",
       "      <td>10187291046</td>\n",
       "      <td>3.29</td>\n",
       "      <td>0.0</td>\n",
       "      <td>291</td>\n",
       "      <td>0.058022</td>\n",
       "      <td>1</td>\n",
       "      <td>1.003436</td>\n",
       "      <td>292</td>\n",
       "      <td>115.995570</td>\n",
       "      <td>116.394180</td>\n",
       "      <td>...</td>\n",
       "      <td>273</td>\n",
       "      <td>796.547945</td>\n",
       "      <td>1961.171233</td>\n",
       "      <td>43.125000</td>\n",
       "      <td>2.449418</td>\n",
       "      <td>0.103448</td>\n",
       "      <td>1.069597</td>\n",
       "      <td>1114.346346</td>\n",
       "      <td>4.0</td>\n",
       "      <td>1.0</td>\n",
       "    </tr>\n",
       "    <tr>\n",
       "      <th>2236</th>\n",
       "      <td>10192359162</td>\n",
       "      <td>6.33</td>\n",
       "      <td>0.0</td>\n",
       "      <td>321</td>\n",
       "      <td>0.036126</td>\n",
       "      <td>2</td>\n",
       "      <td>1.006231</td>\n",
       "      <td>323</td>\n",
       "      <td>460.347109</td>\n",
       "      <td>463.215315</td>\n",
       "      <td>...</td>\n",
       "      <td>303</td>\n",
       "      <td>808.877709</td>\n",
       "      <td>2024.267802</td>\n",
       "      <td>43.294118</td>\n",
       "      <td>2.445480</td>\n",
       "      <td>0.114816</td>\n",
       "      <td>1.066007</td>\n",
       "      <td>9412.211083</td>\n",
       "      <td>0.0</td>\n",
       "      <td>0.0</td>\n",
       "    </tr>\n",
       "  </tbody>\n",
       "</table>\n",
       "<p>5 rows × 25 columns</p>\n",
       "</div>"
      ],
      "text/plain": [
       "      merchant_abn  take_rate  average_merchant_fraud_probability  \\\n",
       "1095   10023283211       0.18                                 0.0   \n",
       "2050   10142254217       4.22                                 0.0   \n",
       "3961   10165489824       4.40                                 0.0   \n",
       "928    10187291046       3.29                                 0.0   \n",
       "2236   10192359162       6.33                                 0.0   \n",
       "\n",
       "      number_of_unique_consumers  average_consumer_fraud_probability  \\\n",
       "1095                        2525                            0.095502   \n",
       "2050                        2389                            0.064356   \n",
       "3961                           4                            6.979429   \n",
       "928                          291                            0.058022   \n",
       "2236                         321                            0.036126   \n",
       "\n",
       "      number_of_repeat_consumers  average_repeat_transactions_per_consumer  \\\n",
       "1095                         174                                  1.071683   \n",
       "2050                         151                                  1.064881   \n",
       "3961                           0                                  1.000000   \n",
       "928                            1                                  1.003436   \n",
       "2236                           2                                  1.006231   \n",
       "\n",
       "      number_of_orders  average_cost_of_order  average_spend_per_consumer  \\\n",
       "1095              2706             215.797947                  231.267028   \n",
       "2050              2544              38.591470                   41.095311   \n",
       "3961                 4            8885.894209                 8885.894209   \n",
       "928                292             115.995570                  116.394180   \n",
       "2236               323             460.347109                  463.215315   \n",
       "\n",
       "      ...  number_of_postcodes  avg_total_weekly_personal_income  \\\n",
       "1095  ...                 1628                        786.702328   \n",
       "2050  ...                 1591                        792.250000   \n",
       "3961  ...                    4                        817.500000   \n",
       "928   ...                  273                        796.547945   \n",
       "2236  ...                  303                        808.877709   \n",
       "\n",
       "      avg_total_weekly_fam_income  avg_median_age  avg_household_size  \\\n",
       "1095                  1971.123799       43.031966            2.456914   \n",
       "2050                  1983.427083       42.850629            2.464025   \n",
       "3961                  2066.125000       41.625000            2.475000   \n",
       "928                   1961.171233       43.125000            2.449418   \n",
       "2236                  2024.267802       43.294118            2.445480   \n",
       "\n",
       "      postcode_reach  avg_num_of_consumers_per_postcode  bnpl_maximum_gain  \\\n",
       "1095        0.616900                           1.662162        1051.108692   \n",
       "2050        0.602880                           1.598994        4143.056534   \n",
       "3961        0.001516                           1.000000        1563.917554   \n",
       "928         0.103448                           1.069597        1114.346346   \n",
       "2236        0.114816                           1.066007        9412.211083   \n",
       "\n",
       "      segment_indexed  revenue_level_indexed  \n",
       "1095              2.0                    4.0  \n",
       "2050              1.0                    1.0  \n",
       "3961              4.0                    1.0  \n",
       "928               4.0                    1.0  \n",
       "2236              0.0                    0.0  \n",
       "\n",
       "[5 rows x 25 columns]"
      ]
     },
     "execution_count": 129,
     "metadata": {},
     "output_type": "execute_result"
    }
   ],
   "source": [
    "future_modelling_df.head()"
   ]
  },
  {
   "cell_type": "code",
   "execution_count": 130,
   "metadata": {},
   "outputs": [],
   "source": [
    "future_features_unique_customers = future_modelling_df.drop(columns = [\"merchant_abn\",target_variable])"
   ]
  },
  {
   "cell_type": "code",
   "execution_count": 131,
   "metadata": {},
   "outputs": [
    {
     "data": {
      "text/plain": [
       "Index(['take_rate', 'average_merchant_fraud_probability',\n",
       "       'average_consumer_fraud_probability', 'number_of_repeat_consumers',\n",
       "       'average_repeat_transactions_per_consumer', 'number_of_orders',\n",
       "       'average_cost_of_order', 'average_spend_per_consumer',\n",
       "       'average_monthly_diff_consumers', 'consumer_diff_over_period',\n",
       "       'average_growth_consumers', 'merchant_revenue_rounded',\n",
       "       'transcation_period_months', 'number_of_postcodes',\n",
       "       'avg_total_weekly_personal_income', 'avg_total_weekly_fam_income',\n",
       "       'avg_median_age', 'avg_household_size', 'postcode_reach',\n",
       "       'avg_num_of_consumers_per_postcode', 'bnpl_maximum_gain',\n",
       "       'segment_indexed', 'revenue_level_indexed'],\n",
       "      dtype='object')"
      ]
     },
     "execution_count": 131,
     "metadata": {},
     "output_type": "execute_result"
    }
   ],
   "source": [
    "future_features_unique_customers.columns"
   ]
  },
  {
   "cell_type": "code",
   "execution_count": 132,
   "metadata": {},
   "outputs": [],
   "source": [
    "#future_features_unique_customers_poly = poly_features.fit_transform(future_features_unique_customers[selected_features])\n",
    "predicted_num_of_unique_customers= num_of_unique_customers_model.predict(future_features_unique_customers[selected_features])"
   ]
  },
  {
   "cell_type": "code",
   "execution_count": 133,
   "metadata": {},
   "outputs": [],
   "source": [
    "results = future_modelling_df.copy()\n",
    "results[\"predicted_num_of_unique_customers\"] = np.exp(predicted_num_of_unique_customers)"
   ]
  },
  {
   "cell_type": "code",
   "execution_count": 134,
   "metadata": {},
   "outputs": [
    {
     "data": {
      "text/html": [
       "<div>\n",
       "<style scoped>\n",
       "    .dataframe tbody tr th:only-of-type {\n",
       "        vertical-align: middle;\n",
       "    }\n",
       "\n",
       "    .dataframe tbody tr th {\n",
       "        vertical-align: top;\n",
       "    }\n",
       "\n",
       "    .dataframe thead th {\n",
       "        text-align: right;\n",
       "    }\n",
       "</style>\n",
       "<table border=\"1\" class=\"dataframe\">\n",
       "  <thead>\n",
       "    <tr style=\"text-align: right;\">\n",
       "      <th></th>\n",
       "      <th>merchant_abn</th>\n",
       "      <th>take_rate</th>\n",
       "      <th>average_merchant_fraud_probability</th>\n",
       "      <th>number_of_unique_consumers</th>\n",
       "      <th>average_consumer_fraud_probability</th>\n",
       "      <th>number_of_repeat_consumers</th>\n",
       "      <th>average_repeat_transactions_per_consumer</th>\n",
       "      <th>number_of_orders</th>\n",
       "      <th>average_cost_of_order</th>\n",
       "      <th>average_spend_per_consumer</th>\n",
       "      <th>...</th>\n",
       "      <th>avg_total_weekly_personal_income</th>\n",
       "      <th>avg_total_weekly_fam_income</th>\n",
       "      <th>avg_median_age</th>\n",
       "      <th>avg_household_size</th>\n",
       "      <th>postcode_reach</th>\n",
       "      <th>avg_num_of_consumers_per_postcode</th>\n",
       "      <th>bnpl_maximum_gain</th>\n",
       "      <th>segment_indexed</th>\n",
       "      <th>revenue_level_indexed</th>\n",
       "      <th>predicted_num_of_unique_customers</th>\n",
       "    </tr>\n",
       "  </thead>\n",
       "  <tbody>\n",
       "    <tr>\n",
       "      <th>1095</th>\n",
       "      <td>10023283211</td>\n",
       "      <td>0.18</td>\n",
       "      <td>0.0</td>\n",
       "      <td>2525</td>\n",
       "      <td>0.095502</td>\n",
       "      <td>174</td>\n",
       "      <td>1.071683</td>\n",
       "      <td>2706</td>\n",
       "      <td>215.797947</td>\n",
       "      <td>231.267028</td>\n",
       "      <td>...</td>\n",
       "      <td>786.702328</td>\n",
       "      <td>1971.123799</td>\n",
       "      <td>43.031966</td>\n",
       "      <td>2.456914</td>\n",
       "      <td>0.616900</td>\n",
       "      <td>1.662162</td>\n",
       "      <td>1051.108692</td>\n",
       "      <td>2.0</td>\n",
       "      <td>4.0</td>\n",
       "      <td>7.828956</td>\n",
       "    </tr>\n",
       "    <tr>\n",
       "      <th>2050</th>\n",
       "      <td>10142254217</td>\n",
       "      <td>4.22</td>\n",
       "      <td>0.0</td>\n",
       "      <td>2389</td>\n",
       "      <td>0.064356</td>\n",
       "      <td>151</td>\n",
       "      <td>1.064881</td>\n",
       "      <td>2544</td>\n",
       "      <td>38.591470</td>\n",
       "      <td>41.095311</td>\n",
       "      <td>...</td>\n",
       "      <td>792.250000</td>\n",
       "      <td>1983.427083</td>\n",
       "      <td>42.850629</td>\n",
       "      <td>2.464025</td>\n",
       "      <td>0.602880</td>\n",
       "      <td>1.598994</td>\n",
       "      <td>4143.056534</td>\n",
       "      <td>1.0</td>\n",
       "      <td>1.0</td>\n",
       "      <td>7.788579</td>\n",
       "    </tr>\n",
       "    <tr>\n",
       "      <th>3961</th>\n",
       "      <td>10165489824</td>\n",
       "      <td>4.40</td>\n",
       "      <td>0.0</td>\n",
       "      <td>4</td>\n",
       "      <td>6.979429</td>\n",
       "      <td>0</td>\n",
       "      <td>1.000000</td>\n",
       "      <td>4</td>\n",
       "      <td>8885.894209</td>\n",
       "      <td>8885.894209</td>\n",
       "      <td>...</td>\n",
       "      <td>817.500000</td>\n",
       "      <td>2066.125000</td>\n",
       "      <td>41.625000</td>\n",
       "      <td>2.475000</td>\n",
       "      <td>0.001516</td>\n",
       "      <td>1.000000</td>\n",
       "      <td>1563.917554</td>\n",
       "      <td>4.0</td>\n",
       "      <td>1.0</td>\n",
       "      <td>1.386294</td>\n",
       "    </tr>\n",
       "    <tr>\n",
       "      <th>928</th>\n",
       "      <td>10187291046</td>\n",
       "      <td>3.29</td>\n",
       "      <td>0.0</td>\n",
       "      <td>291</td>\n",
       "      <td>0.058022</td>\n",
       "      <td>1</td>\n",
       "      <td>1.003436</td>\n",
       "      <td>292</td>\n",
       "      <td>115.995570</td>\n",
       "      <td>116.394180</td>\n",
       "      <td>...</td>\n",
       "      <td>796.547945</td>\n",
       "      <td>1961.171233</td>\n",
       "      <td>43.125000</td>\n",
       "      <td>2.449418</td>\n",
       "      <td>0.103448</td>\n",
       "      <td>1.069597</td>\n",
       "      <td>1114.346346</td>\n",
       "      <td>4.0</td>\n",
       "      <td>1.0</td>\n",
       "      <td>5.663675</td>\n",
       "    </tr>\n",
       "    <tr>\n",
       "      <th>2236</th>\n",
       "      <td>10192359162</td>\n",
       "      <td>6.33</td>\n",
       "      <td>0.0</td>\n",
       "      <td>321</td>\n",
       "      <td>0.036126</td>\n",
       "      <td>2</td>\n",
       "      <td>1.006231</td>\n",
       "      <td>323</td>\n",
       "      <td>460.347109</td>\n",
       "      <td>463.215315</td>\n",
       "      <td>...</td>\n",
       "      <td>808.877709</td>\n",
       "      <td>2024.267802</td>\n",
       "      <td>43.294118</td>\n",
       "      <td>2.445480</td>\n",
       "      <td>0.114816</td>\n",
       "      <td>1.066007</td>\n",
       "      <td>9412.211083</td>\n",
       "      <td>0.0</td>\n",
       "      <td>0.0</td>\n",
       "      <td>5.778991</td>\n",
       "    </tr>\n",
       "  </tbody>\n",
       "</table>\n",
       "<p>5 rows × 26 columns</p>\n",
       "</div>"
      ],
      "text/plain": [
       "      merchant_abn  take_rate  average_merchant_fraud_probability  \\\n",
       "1095   10023283211       0.18                                 0.0   \n",
       "2050   10142254217       4.22                                 0.0   \n",
       "3961   10165489824       4.40                                 0.0   \n",
       "928    10187291046       3.29                                 0.0   \n",
       "2236   10192359162       6.33                                 0.0   \n",
       "\n",
       "      number_of_unique_consumers  average_consumer_fraud_probability  \\\n",
       "1095                        2525                            0.095502   \n",
       "2050                        2389                            0.064356   \n",
       "3961                           4                            6.979429   \n",
       "928                          291                            0.058022   \n",
       "2236                         321                            0.036126   \n",
       "\n",
       "      number_of_repeat_consumers  average_repeat_transactions_per_consumer  \\\n",
       "1095                         174                                  1.071683   \n",
       "2050                         151                                  1.064881   \n",
       "3961                           0                                  1.000000   \n",
       "928                            1                                  1.003436   \n",
       "2236                           2                                  1.006231   \n",
       "\n",
       "      number_of_orders  average_cost_of_order  average_spend_per_consumer  \\\n",
       "1095              2706             215.797947                  231.267028   \n",
       "2050              2544              38.591470                   41.095311   \n",
       "3961                 4            8885.894209                 8885.894209   \n",
       "928                292             115.995570                  116.394180   \n",
       "2236               323             460.347109                  463.215315   \n",
       "\n",
       "      ...  avg_total_weekly_personal_income  avg_total_weekly_fam_income  \\\n",
       "1095  ...                        786.702328                  1971.123799   \n",
       "2050  ...                        792.250000                  1983.427083   \n",
       "3961  ...                        817.500000                  2066.125000   \n",
       "928   ...                        796.547945                  1961.171233   \n",
       "2236  ...                        808.877709                  2024.267802   \n",
       "\n",
       "      avg_median_age  avg_household_size  postcode_reach  \\\n",
       "1095       43.031966            2.456914        0.616900   \n",
       "2050       42.850629            2.464025        0.602880   \n",
       "3961       41.625000            2.475000        0.001516   \n",
       "928        43.125000            2.449418        0.103448   \n",
       "2236       43.294118            2.445480        0.114816   \n",
       "\n",
       "      avg_num_of_consumers_per_postcode  bnpl_maximum_gain  segment_indexed  \\\n",
       "1095                           1.662162        1051.108692              2.0   \n",
       "2050                           1.598994        4143.056534              1.0   \n",
       "3961                           1.000000        1563.917554              4.0   \n",
       "928                            1.069597        1114.346346              4.0   \n",
       "2236                           1.066007        9412.211083              0.0   \n",
       "\n",
       "      revenue_level_indexed  predicted_num_of_unique_customers  \n",
       "1095                    4.0                           7.828956  \n",
       "2050                    1.0                           7.788579  \n",
       "3961                    1.0                           1.386294  \n",
       "928                     1.0                           5.663675  \n",
       "2236                    0.0                           5.778991  \n",
       "\n",
       "[5 rows x 26 columns]"
      ]
     },
     "execution_count": 134,
     "metadata": {},
     "output_type": "execute_result"
    }
   ],
   "source": [
    "results.head()"
   ]
  },
  {
   "cell_type": "code",
   "execution_count": 135,
   "metadata": {},
   "outputs": [],
   "source": [
    "results_df = spark.createDataFrame(results)"
   ]
  },
  {
   "cell_type": "code",
   "execution_count": 136,
   "metadata": {},
   "outputs": [],
   "source": [
    "results_df = results_df.select(f.col(\"merchant_abn\"),f.col(\"predicted_num_of_unique_customers\"))"
   ]
  },
  {
   "cell_type": "code",
   "execution_count": 137,
   "metadata": {},
   "outputs": [],
   "source": [
    "joined = joined.join(results_df, on = \"merchant_abn\", how = \"inner\")"
   ]
  },
  {
   "cell_type": "code",
   "execution_count": 138,
   "metadata": {},
   "outputs": [],
   "source": [
    "joined = joined.withColumn(\"predicted_num_of_unique_customers\", f.when(joined.predicted_num_of_unique_customers < 0, 0).otherwise(f.round(joined.predicted_num_of_unique_customers)))"
   ]
  },
  {
   "cell_type": "code",
   "execution_count": 139,
   "metadata": {},
   "outputs": [
    {
     "name": "stdout",
     "output_type": "stream",
     "text": [
      "+------------+--------------------+-------------+------------------+----------------------------------+--------------------------+----------------------------------+--------------------------+----------------------------------------+----------------+---------------------+--------------------------+------------------------------+-------------------------+------------------------+------------------------+--------------------------+-------------------------+-------------------------+-------------------+--------------------------------+---------------------------+------------------+------------------+------------------+---------------------------------+--------------------+------------------+---------------------------------+\n",
      "|merchant_abn|                name|revenue_level|         take_rate|average_merchant_fraud_probability|number_of_unique_consumers|average_consumer_fraud_probability|number_of_repeat_consumers|average_repeat_transactions_per_consumer|number_of_orders|average_cost_of_order|average_spend_per_consumer|average_monthly_diff_consumers|consumer_diff_over_period|average_growth_consumers|merchant_revenue_rounded|first_recorded_transaction|last_recorded_transaction|transcation_period_months|number_of_postcodes|avg_total_weekly_personal_income|avg_total_weekly_fam_income|    avg_median_age|avg_household_size|    postcode_reach|avg_num_of_consumers_per_postcode|             segment| bnpl_maximum_gain|predicted_num_of_unique_customers|\n",
      "+------------+--------------------+-------------+------------------+----------------------------------+--------------------------+----------------------------------+--------------------------+----------------------------------------+----------------+---------------------+--------------------------+------------------------------+-------------------------+------------------------+------------------------+--------------------------+-------------------------+-------------------------+-------------------+--------------------------------+---------------------------+------------------+------------------+------------------+---------------------------------+--------------------+------------------+---------------------------------+\n",
      "| 79417999332|Phasellus At Company|            b| 4.949999809265137|                               0.0|                     19824|              0.049120860616132564|                     18483|                       4.178874092009686|           82842|    91.80997170083022|        383.66231212874226|                         190.1|                     3802|      1.4497441549439456|              7605721.68|                2021-02-28|               2022-10-02|              19.16129032|               2639|                791.032344704377|         1980.6353359407065| 43.12722411337244|2.4572311146519885|               1.0|                31.39143615005684|  retail_and_novelty|376483.20865323715|                             10.0|\n",
      "| 67400260923|         Eleifend PC|            a|  5.96999979019165|                               0.0|                     15926|              0.043656257429204856|                      9279|                       1.978274519653397|           31506|    150.0913680585471|         296.9219290501438|                         75.95|                     1519|      1.6136392317276105|              4728778.64|                2021-02-28|               2022-10-21|              19.77419355|               2635|                789.876356884403|         1975.1104710213926|43.107550942677584|2.4584691804735614|0.9984842743463433|                11.95673624288425|tech_and_electronics|282308.07488662755|                             10.0|\n",
      "| 43186523025|Lorem Ipsum Sodal...|            b|  4.46999979019165|                               0.0|                     20110|               0.04278210175677341|                     20070|                       8.348582794629538|          167890|    45.00028987547512|        375.68864580773277|                         340.7|                     6814|      1.3213041435437707|              7555098.67|                2021-02-28|               2022-10-24|              19.87096774|               2639|               790.1568288760498|         1977.1446869974388|  43.1014860920841|2.4584601226993867|               1.0|                63.61879499810534|garden_and_furnis...|337712.89469777216|                             10.0|\n",
      "| 67794222692|        Nunc Ut Inc.|            c|1.5499999523162842|                               0.0|                     13811|               0.04868587420017203|                      6501|                      1.6943740496705524|           23401|   34.523312568678946|         58.49540492503489|                         56.15|                     1123|      1.4585665977721738|               807880.04|                2021-02-28|               2022-10-25|              19.90322581|               2628|               789.9419896585616|         1977.5090167086876| 43.11781547797103| 2.459310285885218|0.9958317544524441|                8.904490106544902|tech_and_electronics|12522.140234772778|                             10.0|\n",
      "| 11439466003|      Blandit At LLC|            a| 5.710000038146973|                               0.0|                     14242|               0.04173443872642584|                      7068|                      1.7472265131301783|           24884|   163.02959397396546|         284.8496290161607|                          62.4|                     1248|      1.8506259002064929|              4056828.42|                2021-02-28|               2022-10-16|              19.61290323|               2630|               790.0781425815785|         1979.1151945024915|43.099381128435944| 2.459188635267642|0.9965896172792724|                9.461596958174905|  retail_and_novelty|231644.90432955723|                             10.0|\n",
      "| 70038202360|Varius Orci Insti...|            a| 6.300000190734863|                               0.0|                     13446|               0.06374861062705896|                      5990|                      1.6407853636769298|           22062|   13.847221531300256|         22.72031841614951|                         52.35|                     1047|      1.8678784293088455|                305497.4|                2021-02-28|               2022-10-13|              19.51612903|               2626|               788.8023297978424|          1975.760923760312| 43.14373130269241|2.4562197443568126|0.9950738916256158|                8.401370906321402|garden_and_furnis...|19246.336782690047|                             10.0|\n",
      "| 45629217853|    Lacus Consulting|            a| 6.980000019073486|                               0.0|                     20115|               0.04236453448745005|                     20095|                       9.485508327119065|          190801|   36.793742618374715|        349.00735199246924|                        382.55|                     7651|      1.3198747234558583|              7020282.89|                2021-02-28|               2022-10-11|               19.4516129|               2639|               790.4815802852187|         1978.4676076121195| 43.09236062704074|2.4597764162661626|               1.0|                72.30049261083744|  retail_and_novelty|490015.74706101266|                             10.0|\n",
      "| 68216911708|Placerat Eget Ven...|            c| 3.049999952316284|                               0.0|                     20103|               0.04580561375521984|                     20028|                       7.516937770482017|          151113|    38.50101219770903|         289.4097127907475|                        311.35|                     6227|      1.2767249348374952|              5818003.46|                2021-02-28|               2022-10-12|              19.48387097|               2639|               790.5961730625426|         1978.0999583093446| 43.10641705213979|2.4579812458226615|               1.0|                57.26146267525578|tech_and_electronics|177449.10275575976|                             10.0|\n",
      "| 21439773999|Mauris Non Institute|            a| 6.099999904632568|               0.12701597900617234|                     19979|               0.04497222846954608|                     19324|                       5.043445617898794|          100763|    78.17612635862461|         394.2770419077072|                        226.35|                     4527|      1.5429417855301257|              7877261.02|                2021-02-28|               2022-10-14|               19.5483871|               2638|               791.3108035687703|         1980.9260293957107| 43.08814247293153| 2.457650923454046|0.9996210685865858|               38.196739954510996|tech_and_electronics|480512.91470765846|                             10.0|\n",
      "| 68559320474|Aliquam Auctor As...|            b| 4.199999809265137|                               0.0|                     15501|               0.04755187303944299|                      8786|                      1.9154248113024965|           29691|    215.8353409189397|         413.4163671520705|                         72.75|                     1455|      1.5454583085588922|              6408367.11|                2021-02-28|               2022-10-25|              19.90322581|               2631|               788.7163281802566|         1971.2074197568286|43.099120945741134| 2.457418072816679|0.9969685486926866|               11.285062713797036|antiques_and_jewe...| 269151.4063970098|                             10.0|\n",
      "| 46298404088|Feugiat Sed Nec I...|            a| 6.159999847412109|                               0.0|                     16548|               0.04673622036406032|                     10345|                       2.103758762388204|           34813|    64.66674566374212|        136.04323282522688|                         82.35|                     1647|      1.5600228661145028|              2251243.42|                2021-02-28|               2022-10-23|              19.83870968|               2635|               788.8909459110102|         1971.5473099129636| 43.15067647143309|2.4564131215350593|0.9984842743463433|               13.211764705882352|  retail_and_novelty|138676.59123687516|                             10.0|\n",
      "| 69703285964|Suspendisse Incor...|            a| 5.769999980926514|                               0.0|                     13811|              0.047153039861955265|                      6385|                       1.673448700311346|           23112|    38.82161033470103|         64.96597335859899|                         56.85|                     1137|      1.9675063783908242|               897245.06|                2021-02-28|               2022-10-26|              19.93548387|               2631|               791.4667921426098|         1979.3163508134303| 43.06786517826237| 2.456708203530633|0.9969685486926866|                 8.78449258836944|tech_and_electronics| 51771.03979086409|                             10.0|\n",
      "| 11566786699|Euismod Et Institute|            c| 2.619999885559082|                               0.0|                     17040|              0.051808402181176806|                     11193|                      2.1958333333333333|           37417|   30.163252573717813|         66.23347544312203|                          92.1|                     1842|      1.2807757239245317|              1128618.42|                2021-02-28|               2022-10-11|               19.4516129|               2639|               790.5770371756154|          1980.822046128765| 43.14401208007055| 2.457157174546329|               1.0|               14.178476695718075|specialized_services|29569.801312398715|                             10.0|\n",
      "| 71528203369|Ipsum Primis Asso...|            a| 6.940000057220459|                               0.0|                     14976|              0.039915655866945246|                      7864|                      1.8129674145299146|           27151|    58.06279509990066|         105.2659555126472|                          65.2|                     1304|      1.5553888961304576|              1576462.95|                2021-02-28|               2022-10-05|              19.25806452|               2633|                792.230709734448|         1979.1341387057566| 43.13185518028802| 2.457920886891827| 0.997726411519515|               10.311811621724269|antiques_and_jewe...|109406.52963205933|                             10.0|\n",
      "| 46804135891|Suspendisse Dui C...|            c| 2.930000066757202|                               0.0|                     20113|              0.043364356327737115|                     20102|                        9.72962760403719|          195692|    30.01060240727402|         291.9919855955988|                        382.65|                     7653|      1.2116966396990252|              5872834.81|                2021-02-28|               2022-10-24|              19.87096774|               2639|               790.3532259877767|          1978.180837745028|  43.1073165995544|2.4580889867751368|               1.0|                74.15384615384616|specialized_services| 172074.0638535402|                             10.0|\n",
      "| 71961434094|Amet Diam Corpora...|            b| 3.990000009536743|                               0.0|                     14221|               0.04582627509395224|                      7039|                      1.7353913226917939|           24679|    20.63735863337496|        35.813893095637496|                         60.25|                     1205|      1.6696435721227456|               509309.37|                2021-02-28|               2022-10-12|              19.48387097|               2633|               789.9871550711131|         1976.9241257749504| 43.09078568823696|2.4580007293650477| 0.997726411519515|                9.372958602354728|garden_and_furnis...| 20321.44391157153|                             10.0|\n",
      "| 32361057556|Orci In Consequat...|            a| 6.610000133514404|                               0.0|                     19535|               0.04532272179335463|                     17568|                       3.672024571282314|           71733|   109.88505527121353|         403.5006229726112|                         165.7|                     3314|       1.726068114110396|              7882384.67|                2021-02-28|               2022-10-12|              19.48387097|               2639|               790.8828224108848|         1978.1251446335716| 43.09931272914837|2.4562480308923362|               1.0|               27.181887078438802|  retail_and_novelty|521025.63721111894|                             10.0|\n",
      "| 72472909171|   Nullam Consulting|            a| 6.329999923706055|                               0.0|                     19841|               0.04131708524193517|                     18610|                       4.294793609193085|           85213|    70.14287074357972|        301.24915299998173|                        191.25|                     3825|      1.6414901716569776|              5977084.44|                2021-02-28|               2022-10-12|              19.48387097|               2639|               789.5209944492037|         1975.6131576167957| 43.12369591494256| 2.457607172614508|               1.0|                32.28988253126184|tech_and_electronics| 378349.4404918465|                             10.0|\n",
      "| 47086412084|        Eros Limited|            c|2.5199999809265137|                               0.0|                     18042|              0.048266081596277245|                     13333|                      2.5327014743376566|           45695|    11.24642350798038|        28.483833399687626|                        108.55|                     2171|       1.586141109706425|               513905.32|                2021-02-28|               2022-10-01|              19.12903226|               2637|               790.7988948462632|          1978.228405733669| 43.10923514607725| 2.457206915417442|0.9992421371731717|               17.328403488813045|tech_and_electronics| 12950.41396598034|                             10.0|\n",
      "| 73972053940|Quis Tristique Ac...|            b| 3.880000114440918|                               0.0|                     14022|                0.0452823698602457|                      6680|                      1.6980459278276994|           23810|    34.37441093215925|        58.369328504828964|                         57.25|                     1145|      1.6776510003348082|               818454.72|                2021-02-28|               2022-10-20|              19.74193548|               2628|               791.5520789584208|         1979.0709155816883| 43.11530869382612| 2.455135657286854|0.9958317544524441|                9.060121765601219|garden_and_furnis...|31756.044072647095|                             10.0|\n",
      "+------------+--------------------+-------------+------------------+----------------------------------+--------------------------+----------------------------------+--------------------------+----------------------------------------+----------------+---------------------+--------------------------+------------------------------+-------------------------+------------------------+------------------------+--------------------------+-------------------------+-------------------------+-------------------+--------------------------------+---------------------------+------------------+------------------+------------------+---------------------------------+--------------------+------------------+---------------------------------+\n",
      "only showing top 20 rows\n",
      "\n"
     ]
    }
   ],
   "source": [
    "joined.orderBy(f.col(\"predicted_num_of_unique_customers\").desc()).show()"
   ]
  },
  {
   "cell_type": "code",
   "execution_count": null,
   "metadata": {},
   "outputs": [],
   "source": [
    "joined.write.mode(\"overwrite\").parquet(\"../../../data/ranking_data.parquet\")"
   ]
  },
  {
   "cell_type": "code",
   "execution_count": null,
   "metadata": {},
   "outputs": [],
   "source": [
    "spark.stop()"
   ]
  }
 ],
 "metadata": {
  "kernelspec": {
   "display_name": "Python 3",
   "language": "python",
   "name": "python3"
  },
  "language_info": {
   "codemirror_mode": {
    "name": "ipython",
    "version": 3
   },
   "file_extension": ".py",
   "mimetype": "text/x-python",
   "name": "python",
   "nbconvert_exporter": "python",
   "pygments_lexer": "ipython3",
   "version": "3.10.12"
  },
  "orig_nbformat": 4
 },
 "nbformat": 4,
 "nbformat_minor": 2
}
