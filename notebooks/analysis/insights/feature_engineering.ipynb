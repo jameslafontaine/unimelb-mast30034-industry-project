{
 "cells": [
  {
   "cell_type": "markdown",
   "metadata": {},
   "source": [
    "# Feature Engineering with Modelling\n",
    "## Author: Dulan Wijeratne 1181873"
   ]
  },
  {
   "cell_type": "markdown",
   "metadata": {},
   "source": [
    "In this notebook we will make new features using modelling techniques."
   ]
  },
  {
   "cell_type": "markdown",
   "metadata": {},
   "source": [
    "First we will start by creating a Spark session and reading in the joined aggregated data."
   ]
  },
  {
   "cell_type": "code",
   "execution_count": 2,
   "metadata": {},
   "outputs": [],
   "source": [
    "from pyspark.sql import SparkSession, functions as f"
   ]
  },
  {
   "cell_type": "code",
   "execution_count": 3,
   "metadata": {},
   "outputs": [
    {
     "name": "stderr",
     "output_type": "stream",
     "text": [
      "your 131072x1 screen size is bogus. expect trouble\n",
      "23/09/27 03:38:56 WARN Utils: Your hostname, DulanComputer resolves to a loopback address: 127.0.1.1; using 172.30.15.25 instead (on interface eth0)\n",
      "23/09/27 03:38:56 WARN Utils: Set SPARK_LOCAL_IP if you need to bind to another address\n",
      "Setting default log level to \"WARN\".\n",
      "To adjust logging level use sc.setLogLevel(newLevel). For SparkR, use setLogLevel(newLevel).\n",
      "23/09/27 03:38:58 WARN NativeCodeLoader: Unable to load native-hadoop library for your platform... using builtin-java classes where applicable\n"
     ]
    }
   ],
   "source": [
    "spark = (\n",
    "    SparkSession.builder.appName(\"feature_engineering\")\n",
    "    .config(\"spark.sql.repl.eagerEval.enabled\", True) \n",
    "    .config(\"spark.sql.parquet.cacheMetadata\", \"true\")\n",
    "    .config(\"spark.sql.session.timeZone\", \"Etc/UTC\")\n",
    "    .config(\"spark.sql.session.timeZone\", \"Etc/UTC\")\n",
    "    .config('spark.driver.memory', '3g')   \n",
    "    .config('spark.executor.memory', '4g')  \n",
    "    .config('spark.executor.instances', '2')  \n",
    "    .config('spark.executor.cores', '2')\n",
    "    .getOrCreate()\n",
    ")"
   ]
  },
  {
   "cell_type": "code",
   "execution_count": 5,
   "metadata": {},
   "outputs": [
    {
     "name": "stderr",
     "output_type": "stream",
     "text": [
      "                                                                                \r"
     ]
    }
   ],
   "source": [
    "joined = spark.read.parquet(\"../../../data/insights/joined.parquet\")"
   ]
  },
  {
   "cell_type": "code",
   "execution_count": 10,
   "metadata": {},
   "outputs": [
    {
     "name": "stdout",
     "output_type": "stream",
     "text": [
      "+------------+--------------------+-------------+---------+----------------------------------+--------------------------+----------------------------------+--------------------------+----------------------------------------+----------------------+----------------+---------------------+--------------------------+------------------------------+-------------------------+--------------------+------------------------+--------------------------+-------------------------+-------------------------+-------------------+---------------------+--------------------------------+---------------------------+------------------+------------------+--------------------+---------------------------------+--------------------+\n",
      "|merchant_abn|                name|revenue_level|take_rate|average_merchant_fraud_probability|number_of_unique_consumers|average_consumer_fraud_probability|number_of_repeat_consumers|average_repeat_transactions_per_consumer|consumer_retainability|number_of_orders|average_cost_of_order|average_spend_per_consumer|average_monthly_diff_consumers|consumer_diff_over_period|      average_growth|merchant_revenue_rounded|first_recorded_transaction|last_recorded_transaction|transcation_period_months|number_of_postcodes|most_popular_postcode|avg_total_weekly_personal_income|avg_total_weekly_fam_income|    avg_median_age|avg_household_size|      postcode_reach|avg_num_of_consumers_per_postcode|             segment|\n",
      "+------------+--------------------+-------------+---------+----------------------------------+--------------------------+----------------------------------+--------------------------+----------------------------------------+----------------------+----------------+---------------------+--------------------------+------------------------------+-------------------------+--------------------+------------------------+--------------------------+-------------------------+-------------------------+-------------------+---------------------+--------------------------------+---------------------------+------------------+------------------+--------------------+---------------------------------+--------------------+\n",
      "| 31686734877|   Etiam Laoreet LLP|            c|     2.49|                               0.0|                       313|               0.12592387008662306|                         4|                       1.012779552715655|  0.012779552715654952|             317|   197.33165099879955|         199.8534612352059|           -0.5789473684210527|                      -11| 0.06880937920108736|                62554.13|                2021-03-29|               2022-10-24|              18.83870968|                297|                 3314|               796.3470031545742|          1977.711356466877| 42.96214511041009|2.4413249211356467|  0.1125426297840091|               1.0673400673400673|specialized_services|\n",
      "| 26259500279|Aliquet Vel Indus...|            c|     1.51|                               0.0|                       137|                               0.0|                         1|                      1.0072992700729928|  0.007299270072992...|             138|    526.3767296263908|         530.2188955360723|           -0.5263157894736842|                      -10|  0.1212443988759778|                72639.99|                2021-03-29|               2022-10-17|              18.61290323|                136|                 3542|               767.1884057971015|         1943.6920289855072| 43.55072463768116| 2.442246376811594|0.051534672224327394|               1.0147058823529411|  retail_and_novelty|\n",
      "| 84391677958|Tortor Nunc Found...|            b|     3.84|                               0.0|                      1173|               0.02842092051898591|                        29|                      1.0247229326513214|    0.0247229326513214|            1202|    51.89594742903913|         53.17896744220378|           -0.5263157894736842|                      -10|0.013218418163825477|                62378.93|                2021-03-03|               2022-10-07|              19.12903226|                948|                 6324|               784.0212146422629|         1965.2375207986688| 43.46838602329451|2.4454742096505826|  0.3592269799166351|               1.2679324894514767|tech_and_electronics|\n",
      "| 27657048362|Elementum Purus F...|            c|     2.61|                               0.0|                       402|               0.10958703735302636|                         5|                      1.0124378109452736|  0.012437810945273632|             407|    71.59632897568595|         72.48683057986116|          -0.47368421052631576|                       -9| 0.03698534324994927|                29139.71|                2021-03-21|               2022-10-21|                     19.0|                375|                 4213|               800.1572481572482|         2012.3906633906633| 42.87592137592138|2.4865110565110564| 0.14209928003031452|               1.0853333333333333|specialized_services|\n",
      "| 38672941140|Consequat Nec Mol...|            a|      6.4|                               0.0|                       478|                1.2168320393646372|                         8|                      1.0167364016736402|  0.016736401673640166|             486|    1685.533400041916|        1713.7431640593538|          -0.47368421052631576|                       -9| 0.04279070334984716|               819169.23|                2021-03-11|               2022-10-09|              18.93548387|                444|                 3636|               785.9104938271605|         1982.7397119341563| 43.45781893004115| 2.455514403292181| 0.16824554755589238|               1.0945945945945945|garden_and_furnis...|\n",
      "| 91178385997|Pede Nonummy Limited|            a|     6.57|                               0.0|                       410|              0.023214651102818895|                         4|                      1.0097560975609756|   0.00975609756097561|             414|    96.98494102143222|         97.93113556798278|          -0.47368421052631576|                       -9| 0.16559423444899055|                40151.77|                2021-03-05|               2022-10-06|              19.03225806|                374|                 3130|               770.0350241545893|         1949.6497584541062|43.341787439613526|2.4684299516908212| 0.14172034861690033|                1.106951871657754|  retail_and_novelty|\n",
      "| 37442271968|Magna Tellus Fauc...|            a|     6.81|                               0.0|                       411|              0.028292486197474917|                         5|                      1.0121654501216546|  0.012165450121654502|             416|    87.67672033326163|         88.74334710130618|          -0.42105263157894735|                       -8|0.045225244648114483|                36473.52|                2021-03-20|               2022-10-09|              18.64516129|                382|                 3723|               794.1634615384615|         1953.3882211538462|         43.078125|2.4614903846153844| 0.14475179992421372|               1.0890052356020943|antiques_and_jewe...|\n",
      "| 33846458525|  Quisque Industries|            a|     5.91|                               0.0|                       171|                               0.0|                         1|                      1.0058479532163742|  0.005847953216374269|             172|    234.2439220862377|          235.613769583818|          -0.42105263157894735|                       -8| 0.15309698041896183|                40289.95|                2021-03-06|               2022-10-18|              19.38709677|                164|                 5162|               793.8691860465116|         1983.4244186046512| 43.25581395348837| 2.451162790697674|0.062144751799924215|                1.048780487804878|garden_and_furnis...|\n",
      "| 48890662808|Facilisis Facilis...|            a|     6.44|                               0.0|                         0|                               0.0|                         0|                                     0.0|                   0.0|             106|   295.90021085228886|        295.90021085228886|          -0.42105263157894735|                       -8| 0.13102073365231257|                31365.42|                2021-03-31|               2022-10-16|              18.51612903|                102|                 2131|               785.8915094339623|          2007.504716981132|43.198113207547166|2.4648113207547167|0.038651004168245545|               1.0392156862745099|tech_and_electronics|\n",
      "| 69073210783|Phasellus Associates|            b|     3.64|                               0.0|                       159|                0.1672552711328851|                         2|                      1.0125786163522013|  0.012578616352201259|             161|    909.2872022321236|         920.7247771029681|          -0.42105263157894735|                       -8| 0.25856307435254805|               146395.24|                2021-03-04|               2022-10-12|              19.25806452|                158|                 4620|               784.9223602484471|         1983.7049689440994| 43.32298136645963|2.5041614906832295| 0.05987116331943918|                1.018987341772152|  retail_and_novelty|\n",
      "| 70713877189|Praesent Eu Incor...|            c|     1.54|                               0.0|                       187|                 4.459151112864127|                         1|                      1.0053475935828877|    0.0053475935828877|             188|   3587.0643279788874|        3606.2464901605927|          -0.42105263157894735|                       -8| 0.08563851507064806|               674368.09|                2021-03-10|               2022-10-26|              19.51612903|                181|                 3331|               770.9787234042553|          1917.840425531915| 44.21808510638298|2.4441489361702127| 0.06858658582796513|               1.0386740331491713|garden_and_furnis...|\n",
      "| 77421432003| Vehicula Foundation|            b|      3.4|                               0.0|                       199|               0.12852170219387452|                         2|                      1.0100502512562815|  0.010050251256281407|             201|   130.34208172521315|         131.6520523958183|          -0.42105263157894735|                       -8|  0.4226398601398601|                26198.76|                2021-03-27|               2022-10-09|              18.41935484|                192|                 5331|               794.4203980099503|         2016.7512437810944| 42.92039800995025|2.4684577114427855| 0.07275483137552104|                         1.046875|antiques_and_jewe...|\n",
      "| 23956501449|Eu Arcu Morbi Cor...|            b|     3.82|                               0.0|                       341|               0.09211456891482481|                         2|                      1.0058651026392962|  0.005865102639296188|             343|    443.4005542379116|         446.0011439988378|           -0.3684210526315789|                       -7|  0.1339784614865911|               152086.39|                2021-03-06|               2022-10-07|              19.03225806|                321|                 2806|               813.3877551020408|          1989.734693877551| 42.54956268221574|2.4608163265306127| 0.12163698370594922|               1.0685358255451713|  retail_and_novelty|\n",
      "| 25607153542|       Diam Sed Inc.|            d|     0.78|                               0.0|                       379|                               0.0|                         6|                      1.0158311345646438|    0.0158311345646438|             385|   102.07037953335184|         103.6862694468086|           -0.3684210526315789|                       -7| 0.03794269736186549|                 39297.1|                2021-03-14|               2022-10-16|              19.06451613|                354|                 3409|               794.6961038961039|         1984.2454545454545|  42.8987012987013| 2.456805194805195|  0.1341417203486169|               1.0875706214689265|tech_and_electronics|\n",
      "| 58459771721|Vestibulum Mauris...|            c|     1.77|                               0.0|                      1166|               0.03178086401447159|                        34|                      1.0300171526586621|  0.029159519725557463|            1201|   399.36199545693114|         411.3497054406297|           -0.3684210526315789|                       -7| 0.01892235375574312|               479633.76|                2021-03-31|               2022-10-12|              18.38709677|                944|                 2623|               792.1461282264779|         1988.7098251457119|43.355537052456285|2.4544129891756867|  0.3577112542629784|               1.2722457627118644|  retail_and_novelty|\n",
      "| 60240099150|Adipiscing Indust...|            a|     5.99|                               0.0|                       610|                               0.0|                         6|                      1.0098360655737706|  0.009836065573770493|             616|   324.42906197158277|         327.6201674991721|           -0.3684210526315789|                       -7|0.026654966637690822|                199848.3|                2021-03-14|               2022-10-13|              18.96774194|                548|                 4858|                785.637987012987|         1956.2426948051948|  43.1525974025974|2.4446590909090915| 0.20765441455096628|               1.1240875912408759|  retail_and_novelty|\n",
      "| 63453073175|Cras Vehicula Ali...|            a|     6.15|                               0.0|                       432|               0.17559721073890433|                         4|                      1.0092592592592593|  0.009259259259259259|             436|   106.55617486148134|        107.54280611019875|           -0.3684210526315789|                       -7|0.025044245138785847|                46458.49|                2021-03-13|               2022-10-13|                     19.0|                408|                 3027|               781.4254587155963|          1967.633027522936|43.080275229357795|2.4624082568807344| 0.15460401667298218|               1.0686274509803921|  retail_and_novelty|\n",
      "| 80821603856|    Semper Erat Inc.|            a|     5.63|                               0.0|                         0|                               0.0|                         0|                                     0.0|                   0.0|              64|   197.72807791732984|         197.7280779173299|           -0.3684210526315789|                       -7| 0.27982456140350875|                 12654.6|                2021-03-22|               2022-10-13|              18.70967742|                 64|                 4804|                        862.6875|               2132.9140625|         43.421875|         2.4278125| 0.02425161045850701|                              1.0|tech_and_electronics|\n",
      "| 84937597269|        Enim Non LLC|            a|     6.75|                               0.0|                       200|                               0.0|                         3|                                   1.015|                 0.015|             203|    489.2486301497054|         496.5873596019511|           -0.3684210526315789|                       -7|0.026252110462636768|                99317.47|                2021-03-21|               2022-10-25|              19.12903226|                192|                 6337|                787.832512315271|         1974.9088669950738| 43.14039408866995|2.4606403940886703| 0.07275483137552104|               1.0572916666666667|tech_and_electronics|\n",
      "| 86850237223|      Sociis Limited|            a|     5.55|                               0.0|                       166|                0.6259524551452073|                         1|                      1.0060240963855422|  0.006024096385542169|             167|   1003.2780594228417|        1009.3219031543048|           -0.3684210526315789|                       -7| 0.09787201962124563|               167547.44|                2021-03-22|               2022-10-22|                     19.0|                161|                 3966|               793.9610778443114|         1953.4251497005987|43.119760479041915|2.4499999999999997|  0.0610079575596817|               1.0372670807453417|  retail_and_novelty|\n",
      "+------------+--------------------+-------------+---------+----------------------------------+--------------------------+----------------------------------+--------------------------+----------------------------------------+----------------------+----------------+---------------------+--------------------------+------------------------------+-------------------------+--------------------+------------------------+--------------------------+-------------------------+-------------------------+-------------------+---------------------+--------------------------------+---------------------------+------------------+------------------+--------------------+---------------------------------+--------------------+\n",
      "only showing top 20 rows\n",
      "\n"
     ]
    }
   ],
   "source": [
    "joined.orderBy(f.col(\"consumer_diff_over_period\").asc()).show()"
   ]
  },
  {
   "cell_type": "markdown",
   "metadata": {},
   "source": [
    "Changing NULLs to 0s\n",
    "\n",
    "As we are going to be using modelling techniques we need to change the NULLs to an interpretable value."
   ]
  },
  {
   "cell_type": "code",
   "execution_count": 7,
   "metadata": {},
   "outputs": [],
   "source": [
    "joined = joined.fillna(0)"
   ]
  },
  {
   "cell_type": "markdown",
   "metadata": {},
   "source": [
    "Next we want to convert the categorical features into integer values so that we can check its correlation between the target variables.\n",
    "\n",
    "In the dataset there are 2 categorical features:\n",
    "- Revenue Value\n",
    "- Segment"
   ]
  },
  {
   "cell_type": "code",
   "execution_count": 12,
   "metadata": {},
   "outputs": [],
   "source": [
    "from pyspark.ml.feature import StringIndexer"
   ]
  },
  {
   "cell_type": "code",
   "execution_count": 11,
   "metadata": {},
   "outputs": [],
   "source": [
    "input_cols = [\"revenue_level\",\"segment\"]\n",
    "output_cols = [\"revenue_level_indexed\",\"segment_indexed\"]"
   ]
  },
  {
   "cell_type": "code",
   "execution_count": 15,
   "metadata": {},
   "outputs": [],
   "source": [
    "revenue_level_indexer = StringIndexer(inputCol = \"revenue_level\", outputCol= \"revenue_level_indexed\")\n",
    "segment_indexer = StringIndexer(inputCol = \"segment\", outputCol = \"segment_indexed\")"
   ]
  },
  {
   "cell_type": "code",
   "execution_count": 36,
   "metadata": {},
   "outputs": [],
   "source": [
    "pre_correlation_df = revenue_level_indexer.fit(joined).transform(segment_indexer.fit(joined).transform(joined))\n",
    "pre_correlation_df = pre_correlation_df.drop(\"revenue_level\", \"segment\",\"name\",\"first_recorded_transaction\",\"last_recorded_transaction\")"
   ]
  },
  {
   "cell_type": "code",
   "execution_count": 37,
   "metadata": {},
   "outputs": [],
   "source": [
    "correlation_df = pre_correlation_df.toPandas()"
   ]
  },
  {
   "cell_type": "markdown",
   "metadata": {},
   "source": [
    "Now we will check the correlation matrix"
   ]
  },
  {
   "cell_type": "code",
   "execution_count": 38,
   "metadata": {},
   "outputs": [],
   "source": [
    "import pandas as pd"
   ]
  },
  {
   "cell_type": "code",
   "execution_count": 51,
   "metadata": {},
   "outputs": [
    {
     "data": {
      "text/html": [
       "<div>\n",
       "<style scoped>\n",
       "    .dataframe tbody tr th:only-of-type {\n",
       "        vertical-align: middle;\n",
       "    }\n",
       "\n",
       "    .dataframe tbody tr th {\n",
       "        vertical-align: top;\n",
       "    }\n",
       "\n",
       "    .dataframe thead th {\n",
       "        text-align: right;\n",
       "    }\n",
       "</style>\n",
       "<table border=\"1\" class=\"dataframe\">\n",
       "  <thead>\n",
       "    <tr style=\"text-align: right;\">\n",
       "      <th></th>\n",
       "      <th>merchant_abn</th>\n",
       "      <th>take_rate</th>\n",
       "      <th>average_merchant_fraud_probability</th>\n",
       "      <th>number_of_unique_consumers</th>\n",
       "      <th>average_consumer_fraud_probability</th>\n",
       "      <th>number_of_repeat_consumers</th>\n",
       "      <th>average_repeat_transactions_per_consumer</th>\n",
       "      <th>consumer_retainability</th>\n",
       "      <th>number_of_orders</th>\n",
       "      <th>average_cost_of_order</th>\n",
       "      <th>...</th>\n",
       "      <th>number_of_postcodes</th>\n",
       "      <th>most_popular_postcode</th>\n",
       "      <th>avg_total_weekly_personal_income</th>\n",
       "      <th>avg_total_weekly_fam_income</th>\n",
       "      <th>avg_median_age</th>\n",
       "      <th>avg_household_size</th>\n",
       "      <th>postcode_reach</th>\n",
       "      <th>avg_num_of_consumers_per_postcode</th>\n",
       "      <th>segment_indexed</th>\n",
       "      <th>revenue_level_indexed</th>\n",
       "    </tr>\n",
       "  </thead>\n",
       "  <tbody>\n",
       "    <tr>\n",
       "      <th>0</th>\n",
       "      <td>10023283211</td>\n",
       "      <td>0.18</td>\n",
       "      <td>0.0</td>\n",
       "      <td>2525</td>\n",
       "      <td>0.095502</td>\n",
       "      <td>174</td>\n",
       "      <td>1.071683</td>\n",
       "      <td>0.068911</td>\n",
       "      <td>2706</td>\n",
       "      <td>215.797947</td>\n",
       "      <td>...</td>\n",
       "      <td>1628</td>\n",
       "      <td>3275</td>\n",
       "      <td>786.702328</td>\n",
       "      <td>1971.123799</td>\n",
       "      <td>43.031966</td>\n",
       "      <td>2.456914</td>\n",
       "      <td>0.616900</td>\n",
       "      <td>1.662162</td>\n",
       "      <td>2.0</td>\n",
       "      <td>4.0</td>\n",
       "    </tr>\n",
       "    <tr>\n",
       "      <th>1</th>\n",
       "      <td>10142254217</td>\n",
       "      <td>4.22</td>\n",
       "      <td>0.0</td>\n",
       "      <td>2389</td>\n",
       "      <td>0.064356</td>\n",
       "      <td>151</td>\n",
       "      <td>1.064881</td>\n",
       "      <td>0.063206</td>\n",
       "      <td>2544</td>\n",
       "      <td>38.591470</td>\n",
       "      <td>...</td>\n",
       "      <td>1591</td>\n",
       "      <td>6438</td>\n",
       "      <td>792.250000</td>\n",
       "      <td>1983.427083</td>\n",
       "      <td>42.850629</td>\n",
       "      <td>2.464025</td>\n",
       "      <td>0.602880</td>\n",
       "      <td>1.598994</td>\n",
       "      <td>1.0</td>\n",
       "      <td>1.0</td>\n",
       "    </tr>\n",
       "    <tr>\n",
       "      <th>2</th>\n",
       "      <td>10165489824</td>\n",
       "      <td>4.40</td>\n",
       "      <td>0.0</td>\n",
       "      <td>0</td>\n",
       "      <td>0.000000</td>\n",
       "      <td>0</td>\n",
       "      <td>0.000000</td>\n",
       "      <td>0.000000</td>\n",
       "      <td>4</td>\n",
       "      <td>8885.894209</td>\n",
       "      <td>...</td>\n",
       "      <td>4</td>\n",
       "      <td>2534</td>\n",
       "      <td>817.500000</td>\n",
       "      <td>2066.125000</td>\n",
       "      <td>41.625000</td>\n",
       "      <td>2.475000</td>\n",
       "      <td>0.001516</td>\n",
       "      <td>1.000000</td>\n",
       "      <td>3.0</td>\n",
       "      <td>1.0</td>\n",
       "    </tr>\n",
       "    <tr>\n",
       "      <th>3</th>\n",
       "      <td>10187291046</td>\n",
       "      <td>3.29</td>\n",
       "      <td>0.0</td>\n",
       "      <td>291</td>\n",
       "      <td>0.058022</td>\n",
       "      <td>1</td>\n",
       "      <td>1.003436</td>\n",
       "      <td>0.003436</td>\n",
       "      <td>292</td>\n",
       "      <td>115.995570</td>\n",
       "      <td>...</td>\n",
       "      <td>273</td>\n",
       "      <td>5067</td>\n",
       "      <td>796.547945</td>\n",
       "      <td>1961.171233</td>\n",
       "      <td>43.125000</td>\n",
       "      <td>2.449418</td>\n",
       "      <td>0.103448</td>\n",
       "      <td>1.069597</td>\n",
       "      <td>3.0</td>\n",
       "      <td>1.0</td>\n",
       "    </tr>\n",
       "    <tr>\n",
       "      <th>4</th>\n",
       "      <td>10192359162</td>\n",
       "      <td>6.33</td>\n",
       "      <td>0.0</td>\n",
       "      <td>321</td>\n",
       "      <td>0.036126</td>\n",
       "      <td>2</td>\n",
       "      <td>1.006231</td>\n",
       "      <td>0.006231</td>\n",
       "      <td>323</td>\n",
       "      <td>460.347109</td>\n",
       "      <td>...</td>\n",
       "      <td>303</td>\n",
       "      <td>2062</td>\n",
       "      <td>808.877709</td>\n",
       "      <td>2024.267802</td>\n",
       "      <td>43.294118</td>\n",
       "      <td>2.445480</td>\n",
       "      <td>0.114816</td>\n",
       "      <td>1.066007</td>\n",
       "      <td>0.0</td>\n",
       "      <td>0.0</td>\n",
       "    </tr>\n",
       "  </tbody>\n",
       "</table>\n",
       "<p>5 rows × 26 columns</p>\n",
       "</div>"
      ],
      "text/plain": [
       "   merchant_abn  take_rate  average_merchant_fraud_probability  \\\n",
       "0   10023283211       0.18                                 0.0   \n",
       "1   10142254217       4.22                                 0.0   \n",
       "2   10165489824       4.40                                 0.0   \n",
       "3   10187291046       3.29                                 0.0   \n",
       "4   10192359162       6.33                                 0.0   \n",
       "\n",
       "   number_of_unique_consumers  average_consumer_fraud_probability  \\\n",
       "0                        2525                            0.095502   \n",
       "1                        2389                            0.064356   \n",
       "2                           0                            0.000000   \n",
       "3                         291                            0.058022   \n",
       "4                         321                            0.036126   \n",
       "\n",
       "   number_of_repeat_consumers  average_repeat_transactions_per_consumer  \\\n",
       "0                         174                                  1.071683   \n",
       "1                         151                                  1.064881   \n",
       "2                           0                                  0.000000   \n",
       "3                           1                                  1.003436   \n",
       "4                           2                                  1.006231   \n",
       "\n",
       "   consumer_retainability  number_of_orders  average_cost_of_order  ...  \\\n",
       "0                0.068911              2706             215.797947  ...   \n",
       "1                0.063206              2544              38.591470  ...   \n",
       "2                0.000000                 4            8885.894209  ...   \n",
       "3                0.003436               292             115.995570  ...   \n",
       "4                0.006231               323             460.347109  ...   \n",
       "\n",
       "   number_of_postcodes  most_popular_postcode  \\\n",
       "0                 1628                   3275   \n",
       "1                 1591                   6438   \n",
       "2                    4                   2534   \n",
       "3                  273                   5067   \n",
       "4                  303                   2062   \n",
       "\n",
       "   avg_total_weekly_personal_income  avg_total_weekly_fam_income  \\\n",
       "0                        786.702328                  1971.123799   \n",
       "1                        792.250000                  1983.427083   \n",
       "2                        817.500000                  2066.125000   \n",
       "3                        796.547945                  1961.171233   \n",
       "4                        808.877709                  2024.267802   \n",
       "\n",
       "   avg_median_age  avg_household_size  postcode_reach  \\\n",
       "0       43.031966            2.456914        0.616900   \n",
       "1       42.850629            2.464025        0.602880   \n",
       "2       41.625000            2.475000        0.001516   \n",
       "3       43.125000            2.449418        0.103448   \n",
       "4       43.294118            2.445480        0.114816   \n",
       "\n",
       "   avg_num_of_consumers_per_postcode  segment_indexed  revenue_level_indexed  \n",
       "0                           1.662162              2.0                    4.0  \n",
       "1                           1.598994              1.0                    1.0  \n",
       "2                           1.000000              3.0                    1.0  \n",
       "3                           1.069597              3.0                    1.0  \n",
       "4                           1.066007              0.0                    0.0  \n",
       "\n",
       "[5 rows x 26 columns]"
      ]
     },
     "execution_count": 51,
     "metadata": {},
     "output_type": "execute_result"
    }
   ],
   "source": [
    "correlation_df.head()"
   ]
  },
  {
   "cell_type": "code",
   "execution_count": 45,
   "metadata": {},
   "outputs": [],
   "source": [
    "corr_matrix = correlation_df.corr()"
   ]
  },
  {
   "cell_type": "markdown",
   "metadata": {},
   "source": [
    "### Feature Engineering"
   ]
  },
  {
   "cell_type": "markdown",
   "metadata": {},
   "source": [
    "1. Predicting number of consumers in 3 years"
   ]
  },
  {
   "cell_type": "code",
   "execution_count": 44,
   "metadata": {},
   "outputs": [
    {
     "data": {
      "text/plain": [
       "merchant_abn                                0.005000\n",
       "take_rate                                   0.040962\n",
       "average_merchant_fraud_probability         -0.012018\n",
       "number_of_unique_consumers                  1.000000\n",
       "average_consumer_fraud_probability         -0.047828\n",
       "number_of_repeat_consumers                  0.859005\n",
       "average_repeat_transactions_per_consumer    0.665024\n",
       "consumer_retainability                      0.976162\n",
       "number_of_orders                            0.713317\n",
       "average_cost_of_order                      -0.166808\n",
       "average_spend_per_consumer                 -0.159572\n",
       "average_monthly_diff_consumers              0.772166\n",
       "consumer_diff_over_period                   0.772211\n",
       "average_growth                              0.447964\n",
       "merchant_revenue_rounded                    0.648542\n",
       "transcation_period_months                   0.197559\n",
       "number_of_postcodes                         0.847743\n",
       "most_popular_postcode                       0.116245\n",
       "avg_total_weekly_personal_income            0.012759\n",
       "avg_total_weekly_fam_income                 0.013725\n",
       "avg_median_age                             -0.002346\n",
       "avg_household_size                          0.010657\n",
       "postcode_reach                              0.847743\n",
       "avg_num_of_consumers_per_postcode           0.678867\n",
       "segment_indexed                            -0.014208\n",
       "revenue_level_indexed                      -0.042512\n",
       "Name: number_of_unique_consumers, dtype: float64"
      ]
     },
     "execution_count": 44,
     "metadata": {},
     "output_type": "execute_result"
    }
   ],
   "source": [
    "corr_matrix.loc[\"number_of_unique_consumers\"]"
   ]
  },
  {
   "cell_type": "code",
   "execution_count": 48,
   "metadata": {},
   "outputs": [
    {
     "data": {
      "text/plain": [
       "merchant_abn                                0.009474\n",
       "take_rate                                   0.039260\n",
       "average_merchant_fraud_probability         -0.008699\n",
       "number_of_unique_consumers                  0.976162\n",
       "average_consumer_fraud_probability         -0.038619\n",
       "number_of_repeat_consumers                  0.947489\n",
       "average_repeat_transactions_per_consumer    0.707421\n",
       "consumer_retainability                      1.000000\n",
       "number_of_orders                            0.819932\n",
       "average_cost_of_order                      -0.141634\n",
       "average_spend_per_consumer                 -0.133854\n",
       "average_monthly_diff_consumers              0.870185\n",
       "consumer_diff_over_period                   0.870215\n",
       "average_growth                              0.367334\n",
       "merchant_revenue_rounded                    0.663081\n",
       "transcation_period_months                   0.166579\n",
       "number_of_postcodes                         0.744230\n",
       "most_popular_postcode                       0.117988\n",
       "avg_total_weekly_personal_income            0.010774\n",
       "avg_total_weekly_fam_income                 0.011546\n",
       "avg_median_age                             -0.002694\n",
       "avg_household_size                          0.009289\n",
       "postcode_reach                              0.744230\n",
       "avg_num_of_consumers_per_postcode           0.794055\n",
       "segment_indexed                            -0.009728\n",
       "revenue_level_indexed                      -0.039267\n",
       "Name: consumer_retainability, dtype: float64"
      ]
     },
     "execution_count": 48,
     "metadata": {},
     "output_type": "execute_result"
    }
   ],
   "source": [
    "corr_matrix.loc[\"consumer_retainability\"]"
   ]
  },
  {
   "cell_type": "code",
   "execution_count": 49,
   "metadata": {},
   "outputs": [
    {
     "data": {
      "text/plain": [
       "merchant_abn                               -0.007819\n",
       "take_rate                                   0.053763\n",
       "average_merchant_fraud_probability         -0.024144\n",
       "number_of_unique_consumers                  0.847743\n",
       "average_consumer_fraud_probability         -0.046839\n",
       "number_of_repeat_consumers                  0.514494\n",
       "average_repeat_transactions_per_consumer    0.624319\n",
       "consumer_retainability                      0.744230\n",
       "number_of_orders                            0.444686\n",
       "average_cost_of_order                      -0.254117\n",
       "average_spend_per_consumer                 -0.248717\n",
       "average_monthly_diff_consumers              0.498233\n",
       "consumer_diff_over_period                   0.498296\n",
       "average_growth                              0.661497\n",
       "merchant_revenue_rounded                    0.536521\n",
       "transcation_period_months                   0.308889\n",
       "number_of_postcodes                         1.000000\n",
       "most_popular_postcode                       0.092763\n",
       "avg_total_weekly_personal_income            0.022511\n",
       "avg_total_weekly_fam_income                 0.023312\n",
       "avg_median_age                             -0.004859\n",
       "avg_household_size                          0.018887\n",
       "postcode_reach                              1.000000\n",
       "avg_num_of_consumers_per_postcode           0.399703\n",
       "segment_indexed                            -0.031773\n",
       "revenue_level_indexed                      -0.053575\n",
       "Name: postcode_reach, dtype: float64"
      ]
     },
     "execution_count": 49,
     "metadata": {},
     "output_type": "execute_result"
    }
   ],
   "source": [
    "corr_matrix.loc[\"postcode_reach\"]"
   ]
  },
  {
   "cell_type": "code",
   "execution_count": 50,
   "metadata": {},
   "outputs": [
    {
     "data": {
      "text/plain": [
       "merchant_abn                                0.012623\n",
       "take_rate                                   0.028378\n",
       "average_merchant_fraud_probability         -0.004928\n",
       "number_of_unique_consumers                  0.772211\n",
       "average_consumer_fraud_probability         -0.031323\n",
       "number_of_repeat_consumers                  0.927064\n",
       "average_repeat_transactions_per_consumer    0.781994\n",
       "consumer_retainability                      0.870215\n",
       "number_of_orders                            0.994600\n",
       "average_cost_of_order                      -0.089203\n",
       "average_spend_per_consumer                 -0.081439\n",
       "average_monthly_diff_consumers              0.999999\n",
       "consumer_diff_over_period                   1.000000\n",
       "average_growth                              0.225224\n",
       "merchant_revenue_rounded                    0.598710\n",
       "transcation_period_months                   0.104117\n",
       "number_of_postcodes                         0.498296\n",
       "most_popular_postcode                       0.108086\n",
       "avg_total_weekly_personal_income            0.006318\n",
       "avg_total_weekly_fam_income                 0.007052\n",
       "avg_median_age                             -0.001244\n",
       "avg_household_size                          0.005693\n",
       "postcode_reach                              0.498296\n",
       "avg_num_of_consumers_per_postcode           0.989525\n",
       "segment_indexed                            -0.001164\n",
       "revenue_level_indexed                      -0.023843\n",
       "Name: consumer_diff_over_period, dtype: float64"
      ]
     },
     "execution_count": 50,
     "metadata": {},
     "output_type": "execute_result"
    }
   ],
   "source": [
    "corr_matrix.loc[\"consumer_diff_over_period\"]"
   ]
  },
  {
   "cell_type": "markdown",
   "metadata": {},
   "source": [
    "Now we want to predict the number of unique consumers in 3 years time therefore we need to include:\n",
    "- transcation period in month\n",
    "\n",
    "Furthermore we include features that highly correlate and do not correlate with other features such as:\n",
    "- consumer retainability\n",
    "- average growth rate\n",
    "- postcode reach\n",
    "- average number of consumers per postcode  "
   ]
  },
  {
   "cell_type": "code",
   "execution_count": 96,
   "metadata": {},
   "outputs": [],
   "source": [
    "modelling_df = correlation_df[[\"merchant_abn\", \"consumer_retainability\", \"average_growth\", \"postcode_reach\", \"avg_num_of_consumers_per_postcode\",\n",
    "                               \"transcation_period_months\", \"number_of_unique_consumers\"]]"
   ]
  },
  {
   "cell_type": "code",
   "execution_count": 79,
   "metadata": {},
   "outputs": [
    {
     "data": {
      "text/html": [
       "<div>\n",
       "<style scoped>\n",
       "    .dataframe tbody tr th:only-of-type {\n",
       "        vertical-align: middle;\n",
       "    }\n",
       "\n",
       "    .dataframe tbody tr th {\n",
       "        vertical-align: top;\n",
       "    }\n",
       "\n",
       "    .dataframe thead th {\n",
       "        text-align: right;\n",
       "    }\n",
       "</style>\n",
       "<table border=\"1\" class=\"dataframe\">\n",
       "  <thead>\n",
       "    <tr style=\"text-align: right;\">\n",
       "      <th></th>\n",
       "      <th>merchant_abn</th>\n",
       "      <th>consumer_retainability</th>\n",
       "      <th>average_growth</th>\n",
       "      <th>postcode_reach</th>\n",
       "      <th>avg_num_of_consumers_per_postcode</th>\n",
       "      <th>transcation_period_months</th>\n",
       "      <th>number_of_unique_consumers</th>\n",
       "    </tr>\n",
       "  </thead>\n",
       "  <tbody>\n",
       "    <tr>\n",
       "      <th>0</th>\n",
       "      <td>10023283211</td>\n",
       "      <td>0.068911</td>\n",
       "      <td>1.604633</td>\n",
       "      <td>0.616900</td>\n",
       "      <td>1.662162</td>\n",
       "      <td>19.677419</td>\n",
       "      <td>2525</td>\n",
       "    </tr>\n",
       "    <tr>\n",
       "      <th>1</th>\n",
       "      <td>10142254217</td>\n",
       "      <td>0.063206</td>\n",
       "      <td>5.252767</td>\n",
       "      <td>0.602880</td>\n",
       "      <td>1.598994</td>\n",
       "      <td>19.322581</td>\n",
       "      <td>2389</td>\n",
       "    </tr>\n",
       "    <tr>\n",
       "      <th>2</th>\n",
       "      <td>10165489824</td>\n",
       "      <td>0.000000</td>\n",
       "      <td>0.000000</td>\n",
       "      <td>0.001516</td>\n",
       "      <td>1.000000</td>\n",
       "      <td>6.903226</td>\n",
       "      <td>0</td>\n",
       "    </tr>\n",
       "    <tr>\n",
       "      <th>3</th>\n",
       "      <td>10187291046</td>\n",
       "      <td>0.003436</td>\n",
       "      <td>0.091955</td>\n",
       "      <td>0.103448</td>\n",
       "      <td>1.069597</td>\n",
       "      <td>18.677419</td>\n",
       "      <td>291</td>\n",
       "    </tr>\n",
       "    <tr>\n",
       "      <th>4</th>\n",
       "      <td>10192359162</td>\n",
       "      <td>0.006231</td>\n",
       "      <td>0.178990</td>\n",
       "      <td>0.114816</td>\n",
       "      <td>1.066007</td>\n",
       "      <td>18.741935</td>\n",
       "      <td>321</td>\n",
       "    </tr>\n",
       "  </tbody>\n",
       "</table>\n",
       "</div>"
      ],
      "text/plain": [
       "   merchant_abn  consumer_retainability  average_growth  postcode_reach  \\\n",
       "0   10023283211                0.068911        1.604633        0.616900   \n",
       "1   10142254217                0.063206        5.252767        0.602880   \n",
       "2   10165489824                0.000000        0.000000        0.001516   \n",
       "3   10187291046                0.003436        0.091955        0.103448   \n",
       "4   10192359162                0.006231        0.178990        0.114816   \n",
       "\n",
       "   avg_num_of_consumers_per_postcode  transcation_period_months  \\\n",
       "0                           1.662162                  19.677419   \n",
       "1                           1.598994                  19.322581   \n",
       "2                           1.000000                   6.903226   \n",
       "3                           1.069597                  18.677419   \n",
       "4                           1.066007                  18.741935   \n",
       "\n",
       "   number_of_unique_consumers  \n",
       "0                        2525  \n",
       "1                        2389  \n",
       "2                           0  \n",
       "3                         291  \n",
       "4                         321  "
      ]
     },
     "execution_count": 79,
     "metadata": {},
     "output_type": "execute_result"
    }
   ],
   "source": [
    "modelling_df.head()"
   ]
  },
  {
   "cell_type": "markdown",
   "metadata": {},
   "source": [
    "For this project we are not expecting more merchants to be added so we will disregard using a train test split."
   ]
  },
  {
   "cell_type": "code",
   "execution_count": 80,
   "metadata": {},
   "outputs": [],
   "source": [
    "from sklearn.linear_model import LinearRegression"
   ]
  },
  {
   "cell_type": "code",
   "execution_count": 81,
   "metadata": {},
   "outputs": [],
   "source": [
    "features_columns = [\"consumer_retainability\", \"average_growth\", \"postcode_reach\", \"avg_num_of_consumers_per_postcode\", \"transcation_period_months\"]"
   ]
  },
  {
   "cell_type": "code",
   "execution_count": 82,
   "metadata": {},
   "outputs": [],
   "source": [
    "features_unique_customers = modelling_df[features_columns]\n",
    "number_of_unique_customer = modelling_df[\"number_of_unique_consumers\"]"
   ]
  },
  {
   "cell_type": "code",
   "execution_count": 83,
   "metadata": {},
   "outputs": [],
   "source": [
    "num_of_unique_customers_model = LinearRegression()"
   ]
  },
  {
   "cell_type": "code",
   "execution_count": 84,
   "metadata": {},
   "outputs": [
    {
     "data": {
      "text/html": [
       "<style>#sk-container-id-3 {color: black;}#sk-container-id-3 pre{padding: 0;}#sk-container-id-3 div.sk-toggleable {background-color: white;}#sk-container-id-3 label.sk-toggleable__label {cursor: pointer;display: block;width: 100%;margin-bottom: 0;padding: 0.3em;box-sizing: border-box;text-align: center;}#sk-container-id-3 label.sk-toggleable__label-arrow:before {content: \"▸\";float: left;margin-right: 0.25em;color: #696969;}#sk-container-id-3 label.sk-toggleable__label-arrow:hover:before {color: black;}#sk-container-id-3 div.sk-estimator:hover label.sk-toggleable__label-arrow:before {color: black;}#sk-container-id-3 div.sk-toggleable__content {max-height: 0;max-width: 0;overflow: hidden;text-align: left;background-color: #f0f8ff;}#sk-container-id-3 div.sk-toggleable__content pre {margin: 0.2em;color: black;border-radius: 0.25em;background-color: #f0f8ff;}#sk-container-id-3 input.sk-toggleable__control:checked~div.sk-toggleable__content {max-height: 200px;max-width: 100%;overflow: auto;}#sk-container-id-3 input.sk-toggleable__control:checked~label.sk-toggleable__label-arrow:before {content: \"▾\";}#sk-container-id-3 div.sk-estimator input.sk-toggleable__control:checked~label.sk-toggleable__label {background-color: #d4ebff;}#sk-container-id-3 div.sk-label input.sk-toggleable__control:checked~label.sk-toggleable__label {background-color: #d4ebff;}#sk-container-id-3 input.sk-hidden--visually {border: 0;clip: rect(1px 1px 1px 1px);clip: rect(1px, 1px, 1px, 1px);height: 1px;margin: -1px;overflow: hidden;padding: 0;position: absolute;width: 1px;}#sk-container-id-3 div.sk-estimator {font-family: monospace;background-color: #f0f8ff;border: 1px dotted black;border-radius: 0.25em;box-sizing: border-box;margin-bottom: 0.5em;}#sk-container-id-3 div.sk-estimator:hover {background-color: #d4ebff;}#sk-container-id-3 div.sk-parallel-item::after {content: \"\";width: 100%;border-bottom: 1px solid gray;flex-grow: 1;}#sk-container-id-3 div.sk-label:hover label.sk-toggleable__label {background-color: #d4ebff;}#sk-container-id-3 div.sk-serial::before {content: \"\";position: absolute;border-left: 1px solid gray;box-sizing: border-box;top: 0;bottom: 0;left: 50%;z-index: 0;}#sk-container-id-3 div.sk-serial {display: flex;flex-direction: column;align-items: center;background-color: white;padding-right: 0.2em;padding-left: 0.2em;position: relative;}#sk-container-id-3 div.sk-item {position: relative;z-index: 1;}#sk-container-id-3 div.sk-parallel {display: flex;align-items: stretch;justify-content: center;background-color: white;position: relative;}#sk-container-id-3 div.sk-item::before, #sk-container-id-3 div.sk-parallel-item::before {content: \"\";position: absolute;border-left: 1px solid gray;box-sizing: border-box;top: 0;bottom: 0;left: 50%;z-index: -1;}#sk-container-id-3 div.sk-parallel-item {display: flex;flex-direction: column;z-index: 1;position: relative;background-color: white;}#sk-container-id-3 div.sk-parallel-item:first-child::after {align-self: flex-end;width: 50%;}#sk-container-id-3 div.sk-parallel-item:last-child::after {align-self: flex-start;width: 50%;}#sk-container-id-3 div.sk-parallel-item:only-child::after {width: 0;}#sk-container-id-3 div.sk-dashed-wrapped {border: 1px dashed gray;margin: 0 0.4em 0.5em 0.4em;box-sizing: border-box;padding-bottom: 0.4em;background-color: white;}#sk-container-id-3 div.sk-label label {font-family: monospace;font-weight: bold;display: inline-block;line-height: 1.2em;}#sk-container-id-3 div.sk-label-container {text-align: center;}#sk-container-id-3 div.sk-container {/* jupyter's `normalize.less` sets `[hidden] { display: none; }` but bootstrap.min.css set `[hidden] { display: none !important; }` so we also need the `!important` here to be able to override the default hidden behavior on the sphinx rendered scikit-learn.org. See: https://github.com/scikit-learn/scikit-learn/issues/21755 */display: inline-block !important;position: relative;}#sk-container-id-3 div.sk-text-repr-fallback {display: none;}</style><div id=\"sk-container-id-3\" class=\"sk-top-container\"><div class=\"sk-text-repr-fallback\"><pre>LinearRegression()</pre><b>In a Jupyter environment, please rerun this cell to show the HTML representation or trust the notebook. <br />On GitHub, the HTML representation is unable to render, please try loading this page with nbviewer.org.</b></div><div class=\"sk-container\" hidden><div class=\"sk-item\"><div class=\"sk-estimator sk-toggleable\"><input class=\"sk-toggleable__control sk-hidden--visually\" id=\"sk-estimator-id-3\" type=\"checkbox\" checked><label for=\"sk-estimator-id-3\" class=\"sk-toggleable__label sk-toggleable__label-arrow\">LinearRegression</label><div class=\"sk-toggleable__content\"><pre>LinearRegression()</pre></div></div></div></div></div>"
      ],
      "text/plain": [
       "LinearRegression()"
      ]
     },
     "execution_count": 84,
     "metadata": {},
     "output_type": "execute_result"
    }
   ],
   "source": [
    "num_of_unique_customers_model.fit(features_unique_customers, number_of_unique_customer)"
   ]
  },
  {
   "cell_type": "markdown",
   "metadata": {},
   "source": [
    "Next we will predict the number of customers in 3 years"
   ]
  },
  {
   "cell_type": "code",
   "execution_count": 104,
   "metadata": {},
   "outputs": [],
   "source": [
    "future_modelling_df = modelling_df.copy()\n",
    "future_modelling_df = future_modelling_df.sort_values(by='merchant_abn')"
   ]
  },
  {
   "cell_type": "code",
   "execution_count": 105,
   "metadata": {},
   "outputs": [],
   "source": [
    "future_modelling_df[\"transcation_period_months\"] = future_modelling_df[\"transcation_period_months\"] + 36"
   ]
  },
  {
   "cell_type": "code",
   "execution_count": 106,
   "metadata": {},
   "outputs": [
    {
     "data": {
      "text/html": [
       "<div>\n",
       "<style scoped>\n",
       "    .dataframe tbody tr th:only-of-type {\n",
       "        vertical-align: middle;\n",
       "    }\n",
       "\n",
       "    .dataframe tbody tr th {\n",
       "        vertical-align: top;\n",
       "    }\n",
       "\n",
       "    .dataframe thead th {\n",
       "        text-align: right;\n",
       "    }\n",
       "</style>\n",
       "<table border=\"1\" class=\"dataframe\">\n",
       "  <thead>\n",
       "    <tr style=\"text-align: right;\">\n",
       "      <th></th>\n",
       "      <th>merchant_abn</th>\n",
       "      <th>consumer_retainability</th>\n",
       "      <th>average_growth</th>\n",
       "      <th>postcode_reach</th>\n",
       "      <th>avg_num_of_consumers_per_postcode</th>\n",
       "      <th>transcation_period_months</th>\n",
       "      <th>number_of_unique_consumers</th>\n",
       "    </tr>\n",
       "  </thead>\n",
       "  <tbody>\n",
       "    <tr>\n",
       "      <th>0</th>\n",
       "      <td>10023283211</td>\n",
       "      <td>0.068911</td>\n",
       "      <td>1.604633</td>\n",
       "      <td>0.616900</td>\n",
       "      <td>1.662162</td>\n",
       "      <td>55.677419</td>\n",
       "      <td>2525</td>\n",
       "    </tr>\n",
       "    <tr>\n",
       "      <th>1</th>\n",
       "      <td>10142254217</td>\n",
       "      <td>0.063206</td>\n",
       "      <td>5.252767</td>\n",
       "      <td>0.602880</td>\n",
       "      <td>1.598994</td>\n",
       "      <td>55.322581</td>\n",
       "      <td>2389</td>\n",
       "    </tr>\n",
       "    <tr>\n",
       "      <th>2</th>\n",
       "      <td>10165489824</td>\n",
       "      <td>0.000000</td>\n",
       "      <td>0.000000</td>\n",
       "      <td>0.001516</td>\n",
       "      <td>1.000000</td>\n",
       "      <td>42.903226</td>\n",
       "      <td>0</td>\n",
       "    </tr>\n",
       "    <tr>\n",
       "      <th>3</th>\n",
       "      <td>10187291046</td>\n",
       "      <td>0.003436</td>\n",
       "      <td>0.091955</td>\n",
       "      <td>0.103448</td>\n",
       "      <td>1.069597</td>\n",
       "      <td>54.677419</td>\n",
       "      <td>291</td>\n",
       "    </tr>\n",
       "    <tr>\n",
       "      <th>4</th>\n",
       "      <td>10192359162</td>\n",
       "      <td>0.006231</td>\n",
       "      <td>0.178990</td>\n",
       "      <td>0.114816</td>\n",
       "      <td>1.066007</td>\n",
       "      <td>54.741935</td>\n",
       "      <td>321</td>\n",
       "    </tr>\n",
       "  </tbody>\n",
       "</table>\n",
       "</div>"
      ],
      "text/plain": [
       "   merchant_abn  consumer_retainability  average_growth  postcode_reach  \\\n",
       "0   10023283211                0.068911        1.604633        0.616900   \n",
       "1   10142254217                0.063206        5.252767        0.602880   \n",
       "2   10165489824                0.000000        0.000000        0.001516   \n",
       "3   10187291046                0.003436        0.091955        0.103448   \n",
       "4   10192359162                0.006231        0.178990        0.114816   \n",
       "\n",
       "   avg_num_of_consumers_per_postcode  transcation_period_months  \\\n",
       "0                           1.662162                  55.677419   \n",
       "1                           1.598994                  55.322581   \n",
       "2                           1.000000                  42.903226   \n",
       "3                           1.069597                  54.677419   \n",
       "4                           1.066007                  54.741935   \n",
       "\n",
       "   number_of_unique_consumers  \n",
       "0                        2525  \n",
       "1                        2389  \n",
       "2                           0  \n",
       "3                         291  \n",
       "4                         321  "
      ]
     },
     "execution_count": 106,
     "metadata": {},
     "output_type": "execute_result"
    }
   ],
   "source": [
    "future_modelling_df.head()"
   ]
  },
  {
   "cell_type": "code",
   "execution_count": 107,
   "metadata": {},
   "outputs": [],
   "source": [
    "future_features_unique_customers = future_modelling_df[features_columns]"
   ]
  },
  {
   "cell_type": "code",
   "execution_count": 109,
   "metadata": {},
   "outputs": [],
   "source": [
    "predicted_num_of_unique_customers= num_of_unique_customers_model.predict(future_features_unique_customers)"
   ]
  },
  {
   "cell_type": "code",
   "execution_count": 110,
   "metadata": {},
   "outputs": [],
   "source": [
    "results = future_modelling_df.copy()\n",
    "results[\"predicted_num_of_unique_customers\"] = predicted_num_of_unique_customers"
   ]
  },
  {
   "cell_type": "code",
   "execution_count": 114,
   "metadata": {},
   "outputs": [
    {
     "data": {
      "text/html": [
       "<div>\n",
       "<style scoped>\n",
       "    .dataframe tbody tr th:only-of-type {\n",
       "        vertical-align: middle;\n",
       "    }\n",
       "\n",
       "    .dataframe tbody tr th {\n",
       "        vertical-align: top;\n",
       "    }\n",
       "\n",
       "    .dataframe thead th {\n",
       "        text-align: right;\n",
       "    }\n",
       "</style>\n",
       "<table border=\"1\" class=\"dataframe\">\n",
       "  <thead>\n",
       "    <tr style=\"text-align: right;\">\n",
       "      <th></th>\n",
       "      <th>merchant_abn</th>\n",
       "      <th>consumer_retainability</th>\n",
       "      <th>average_growth</th>\n",
       "      <th>postcode_reach</th>\n",
       "      <th>avg_num_of_consumers_per_postcode</th>\n",
       "      <th>transcation_period_months</th>\n",
       "      <th>number_of_unique_consumers</th>\n",
       "      <th>predicted_num_of_unique_customers</th>\n",
       "    </tr>\n",
       "  </thead>\n",
       "  <tbody>\n",
       "    <tr>\n",
       "      <th>0</th>\n",
       "      <td>10023283211</td>\n",
       "      <td>0.068911</td>\n",
       "      <td>1.604633</td>\n",
       "      <td>0.616900</td>\n",
       "      <td>1.662162</td>\n",
       "      <td>55.677419</td>\n",
       "      <td>2525</td>\n",
       "      <td>2217.315515</td>\n",
       "    </tr>\n",
       "    <tr>\n",
       "      <th>1</th>\n",
       "      <td>10142254217</td>\n",
       "      <td>0.063206</td>\n",
       "      <td>5.252767</td>\n",
       "      <td>0.602880</td>\n",
       "      <td>1.598994</td>\n",
       "      <td>55.322581</td>\n",
       "      <td>2389</td>\n",
       "      <td>1807.921562</td>\n",
       "    </tr>\n",
       "    <tr>\n",
       "      <th>2</th>\n",
       "      <td>10165489824</td>\n",
       "      <td>0.000000</td>\n",
       "      <td>0.000000</td>\n",
       "      <td>0.001516</td>\n",
       "      <td>1.000000</td>\n",
       "      <td>42.903226</td>\n",
       "      <td>0</td>\n",
       "      <td>-579.023073</td>\n",
       "    </tr>\n",
       "    <tr>\n",
       "      <th>3</th>\n",
       "      <td>10187291046</td>\n",
       "      <td>0.003436</td>\n",
       "      <td>0.091955</td>\n",
       "      <td>0.103448</td>\n",
       "      <td>1.069597</td>\n",
       "      <td>54.677419</td>\n",
       "      <td>291</td>\n",
       "      <td>-479.603821</td>\n",
       "    </tr>\n",
       "    <tr>\n",
       "      <th>4</th>\n",
       "      <td>10192359162</td>\n",
       "      <td>0.006231</td>\n",
       "      <td>0.178990</td>\n",
       "      <td>0.114816</td>\n",
       "      <td>1.066007</td>\n",
       "      <td>54.741935</td>\n",
       "      <td>321</td>\n",
       "      <td>-387.940564</td>\n",
       "    </tr>\n",
       "  </tbody>\n",
       "</table>\n",
       "</div>"
      ],
      "text/plain": [
       "   merchant_abn  consumer_retainability  average_growth  postcode_reach  \\\n",
       "0   10023283211                0.068911        1.604633        0.616900   \n",
       "1   10142254217                0.063206        5.252767        0.602880   \n",
       "2   10165489824                0.000000        0.000000        0.001516   \n",
       "3   10187291046                0.003436        0.091955        0.103448   \n",
       "4   10192359162                0.006231        0.178990        0.114816   \n",
       "\n",
       "   avg_num_of_consumers_per_postcode  transcation_period_months  \\\n",
       "0                           1.662162                  55.677419   \n",
       "1                           1.598994                  55.322581   \n",
       "2                           1.000000                  42.903226   \n",
       "3                           1.069597                  54.677419   \n",
       "4                           1.066007                  54.741935   \n",
       "\n",
       "   number_of_unique_consumers  predicted_num_of_unique_customers  \n",
       "0                        2525                        2217.315515  \n",
       "1                        2389                        1807.921562  \n",
       "2                           0                        -579.023073  \n",
       "3                         291                        -479.603821  \n",
       "4                         321                        -387.940564  "
      ]
     },
     "execution_count": 114,
     "metadata": {},
     "output_type": "execute_result"
    }
   ],
   "source": [
    "results.head()"
   ]
  },
  {
   "cell_type": "code",
   "execution_count": 120,
   "metadata": {},
   "outputs": [],
   "source": [
    "results_df = spark.createDataFrame(results)"
   ]
  },
  {
   "cell_type": "code",
   "execution_count": 121,
   "metadata": {},
   "outputs": [],
   "source": [
    "results_df = results_df.drop(\"consumer_retainability\",\"average_growth\",\"postcode_reach\", \"avg_num_of_consumers_per_postcode\",\"transcation_period_months\", \"number_of_unique_consumers\")"
   ]
  },
  {
   "cell_type": "code",
   "execution_count": 122,
   "metadata": {},
   "outputs": [],
   "source": [
    "joined = joined.join(results_df, on = \"merchant_abn\", how = \"inner\")"
   ]
  },
  {
   "cell_type": "code",
   "execution_count": 126,
   "metadata": {},
   "outputs": [],
   "source": [
    "joined2 = joined.withColumn(\"predicted_num_of_unique_customers\", f.when(joined.predicted_num_of_unique_customers < 0, 0).otherwise(f.round(joined.predicted_num_of_unique_customers)))"
   ]
  },
  {
   "cell_type": "code",
   "execution_count": 127,
   "metadata": {},
   "outputs": [
    {
     "name": "stdout",
     "output_type": "stream",
     "text": [
      "+------------+--------------------+-------------+---------+----------------------------------+--------------------------+----------------------------------+--------------------------+----------------------------------------+----------------------+----------------+---------------------+--------------------------+------------------------------+-------------------------+-------------------+------------------------+--------------------------+-------------------------+-------------------------+-------------------+---------------------+--------------------------------+---------------------------+------------------+------------------+--------------------+---------------------------------+--------------------+---------------------------------+\n",
      "|merchant_abn|                name|revenue_level|take_rate|average_merchant_fraud_probability|number_of_unique_consumers|average_consumer_fraud_probability|number_of_repeat_consumers|average_repeat_transactions_per_consumer|consumer_retainability|number_of_orders|average_cost_of_order|average_spend_per_consumer|average_monthly_diff_consumers|consumer_diff_over_period|     average_growth|merchant_revenue_rounded|first_recorded_transaction|last_recorded_transaction|transcation_period_months|number_of_postcodes|most_popular_postcode|avg_total_weekly_personal_income|avg_total_weekly_fam_income|    avg_median_age|avg_household_size|      postcode_reach|avg_num_of_consumers_per_postcode|             segment|predicted_num_of_unique_customers|\n",
      "+------------+--------------------+-------------+---------+----------------------------------+--------------------------+----------------------------------+--------------------------+----------------------------------------+----------------------+----------------+---------------------+--------------------------+------------------------------+-------------------------+-------------------+------------------------+--------------------------+-------------------------+-------------------------+-------------------+---------------------+--------------------------------+---------------------------+------------------+------------------+--------------------+---------------------------------+--------------------+---------------------------------+\n",
      "| 10023283211|       Felis Limited|            e|     0.18|                               0.0|                      2525|               0.09550203852496945|                       174|                      1.0716831683168317|   0.06891089108910892|            2706|   215.79794727658071|        231.26702785363457|                          7.75|                      155| 1.6046332082163945|               583949.25|                2021-02-28|               2022-10-18|              19.67741935|               1628|                 3275|               786.7023281596453|         1971.1237989652623|43.031966001478196|2.4569142645971915|  0.6169003410382721|                1.662162162162162|garden_and_furnis...|                           2217.0|\n",
      "| 10142254217|Arcu Ac Orci Corp...|            b|     4.22|                               0.0|                      2389|                 0.064355829988316|                       151|                      1.0648807032231058|   0.06320636249476769|            2544|      38.591469635076|         41.09531132341288|                          9.15|                      183|  5.252766929164762|                 98176.7|                2021-02-28|               2022-10-07|              19.32258065|               1591|                 6438|                          792.25|         1983.4270833333333|42.850628930817614|2.4640251572327037|  0.6028798787419477|               1.5989943431803897|tech_and_electronics|                           1808.0|\n",
      "| 10165489824|    Nunc Sed Company|            b|      4.4|                               0.0|                         0|                               0.0|                         0|                                     0.0|                   0.0|               4|    8885.894209136208|         8885.894209136208|                           0.0|                        0|                0.0|                35543.58|                2022-02-21|               2022-09-18|               6.90322581|                  4|                 2534|                           817.5|                   2066.125|            41.625|2.4749999999999996|0.001515725653656...|                              1.0|antiques_and_jewe...|                              0.0|\n",
      "| 10187291046|Ultricies Digniss...|            b|     3.29|                               0.0|                       291|              0.058021579050471644|                         1|                      1.0034364261168385|  0.003436426116838488|             292|   115.99556992718271|        116.39418013311806|            0.3157894736842105|                        6|0.09195512090248932|                33870.71|                2021-03-27|               2022-10-17|              18.67741935|                273|                 5067|               796.5479452054794|         1961.1712328767123|            43.125| 2.449417808219178| 0.10344827586206896|               1.0695970695970696|antiques_and_jewe...|                              0.0|\n",
      "| 10192359162| Enim Condimentum PC|            a|     6.33|                               0.0|                       321|               0.03612632221253988|                         2|                      1.0062305295950156|  0.006230529595015576|             323|   460.34710880460494|         463.2153150899919|            0.7368421052631579|                       14|0.17898978906596635|               148692.12|                2021-03-10|               2022-10-02|              18.74193548|                303|                 2062|               808.8777089783282|          2024.267801857585|43.294117647058826| 2.445479876160991| 0.11481621826449413|                1.066006600660066|  retail_and_novelty|                              0.0|\n",
      "| 10206519221|       Fusce Company|            a|     6.34|                               0.0|                      6652|               0.05811880333425346|                      1302|                       1.222489476849068|    0.1957306073361395|            8132|    37.38562601511928|         45.70353438889805|                          20.9|                      418|  2.202518042734148|               304019.91|                2021-02-28|               2022-10-10|              19.41935484|               2438|                 5273|               787.4551155927201|         1969.9857353664536| 43.11184210526316|2.4536091982292185|  0.9238347859037515|                 3.33552091878589|  retail_and_novelty|                           5962.0|\n",
      "| 10255988167|Aliquam Enim Inco...|            b|     4.32|                               0.0|                       676|              0.047893142534478364|                        13|                      1.0192307692307692|  0.019230769230769232|             689|   386.90875186908147|         394.3493047896408|           0.05263157894736842|                        1|0.07469067478301186|               266580.13|                2021-03-13|               2022-10-18|              19.16129032|                591|                 2448|               787.7039187227866|         1962.8512336719884| 43.33309143686502| 2.456923076923077| 0.22394846532777568|               1.1658206429780034|tech_and_electronics|                            189.0|\n",
      "| 10264435225|    Ipsum Primis Ltd|            c|     2.39|                               0.0|                      3792|               0.06804534325540773|                       386|                      1.1075949367088607|   0.10179324894514769|            4200|   117.50221891972741|        130.14486272754618|                         10.35|                      207| 1.1419696673782629|               493509.32|                2021-02-28|               2022-10-08|              19.35483871|               2029|                 5356|               791.6504761904762|         1976.6973809523809|43.102380952380955|2.4587380952380955|  0.7688518378173551|                2.069985214391326|antiques_and_jewe...|                           3407.0|\n",
      "| 10279061213|Pede Ultrices Ind...|            a|     5.71|                               0.0|                       458|               0.01866722174155936|                         5|                      1.0131004366812226|  0.010917030567685589|             464|    299.4048749701041|         303.3272095766994|            0.7368421052631579|                       14|0.08236989285561777|               138923.86|                2021-03-28|               2022-10-21|              18.77419355|                419|                 2034|               812.3491379310345|         2018.7068965517242| 42.73922413793103|2.4531465517241378| 0.15877226222053809|                1.107398568019093|tech_and_electronics|                              0.0|\n",
      "| 10323485998|           Nunc Inc.|            a|     6.61|                               0.0|                      7032|              0.049713938502959826|                      1387|                      1.2293799772468714|   0.19724118316268488|            8645|   128.33862949420438|         157.7769414074797|                         23.75|                      475| 1.6049661717685832|              1109487.45|                2021-02-28|               2022-10-26|              19.93548387|               2446|                 4856|               790.5197223828803|         1979.6085020242915|  43.1294968189705|2.4569450549450558|  0.9268662372110648|                3.534341782502044|garden_and_furnis...|                           6016.0|\n",
      "| 10342410215|Facilisis Facilis...|            a|     6.34|                               0.0|                       705|               0.04047445468895482|                         6|                      1.0085106382978724|   0.00851063829787234|             711|   381.38179415453544|         384.6275966579783|                           1.4|                       28| 1.1573738974478252|               271162.46|                2021-02-28|               2022-10-20|              19.74193548|                619|                 3458|               792.8706047819971|         1999.0246132208158|43.326300984528835| 2.458368495077356|  0.2345585449033725|                1.148626817447496|tech_and_electronics|                              0.0|\n",
      "| 10346855916|      Odio Institute|            b|     3.57|                               0.0|                         0|                               0.0|                         0|                                     0.0|                   0.0|               8|   1982.5698920010877|        1982.5698920010877|                           0.0|                        0|                0.1|                15860.56|                2021-04-29|               2022-08-29|                     16.0|                  8|                 5156|                         768.375|                     1979.0|           43.4375|            2.5225|0.003031451307313...|                              1.0|garden_and_furnis...|                              0.0|\n",
      "| 10364012396|    Rutrum Justo Ltd|            b|     3.63|                               0.0|                         0|                               0.0|                         0|                                     0.0|                   0.0|              34|    464.2865814927661|         464.2865814927661|                           0.0|                        0| 0.3354166666666667|                15785.74|                2021-04-30|               2022-10-04|              17.16129032|                 34|                 5640|               832.8823529411765|         2171.9117647058824|              41.5|2.5911764705882345|0.012883668056081848|                              1.0|  retail_and_novelty|                              0.0|\n",
      "| 10385011947|   Tellus Foundation|            b|     3.17|                               0.0|                         0|                               0.0|                         0|                                     0.0|                   0.0|              21|    642.5917816808204|         642.5917816808203|                           0.0|                        0|  0.282051282051282|                13494.43|                2021-04-28|               2022-09-13|              16.51612903|                 21|                 5221|               741.5714285714286|                     1879.5| 41.45238095238095|2.4642857142857144|0.007957559681697613|                              1.0|  retail_and_novelty|                              0.0|\n",
      "| 10385163239|      Sed Et Company|            a|     6.61|                               0.0|                        63|                               0.0|                         1|                      1.0158730158730158|  0.015873015873015872|              64|     350.379886704662|        355.94147220791064|           0.16666666666666666|                        3|0.47208994708994695|                22424.31|                2021-04-19|               2022-10-01|              17.41935484|                 62|                 3984|                     793.0859375|                1989.890625|         42.328125|2.4981249999999995|0.023493747631678667|                1.032258064516129|garden_and_furnis...|                              0.0|\n",
      "| 10385250025|              Id Ltd|            a|     5.54|                               0.0|                       557|               0.05907105598005916|                         4|                       1.007181328545781|   0.00718132854578097|             561|    499.4381746881015|          503.024804308842|                          0.95|                       19| 0.5381155473089205|               280184.82|                2021-02-28|               2022-10-01|              19.12903226|                510|                 7184|               783.6408199643494|         1976.5802139037432| 43.34313725490196| 2.453921568627451| 0.19325502084122773|                              1.1|tech_and_electronics|                              0.0|\n",
      "| 10404542215|Consequat Foundation|            a|     6.93|                               0.0|                         0|                               0.0|                         0|                                     0.0|                   0.0|               1|   22773.975280323484|        22773.975280323484|                           0.0|                        0|                0.0|                22773.98|                2021-10-24|               2021-10-24|                      0.0|                  1|                 5267|                           710.5|                     1600.5|              44.5|               2.3|3.789314134141720...|                              1.0|antiques_and_jewe...|                              0.0|\n",
      "| 10430380319|Sit Amet Nulla Corp.|            b|     4.97|                               0.0|                         0|                               0.0|                         0|                                     0.0|                   0.0|             135|   336.16920248344877|        336.16920248344877|            0.3157894736842105|                        6|0.14598997493734336|                45382.84|                2021-03-21|               2022-10-02|              18.38709677|                135|                 5483|               785.7481481481482|          1953.625925925926| 42.93703703703704|2.4042222222222227|0.051155740810913224|                              1.0|specialized_services|                              0.0|\n",
      "| 10441711491|Massa Vestibulum ...|            a|     5.77|                               0.0|                         0|                               0.0|                         0|                                     0.0|                   0.0|               3|    5751.207887182689|         5751.207887182689|                           0.0|                        0|                0.0|                17253.62|                2021-03-29|               2022-06-30|              15.03225806|                  3|                 4124|               758.3333333333334|         1945.6666666666667|37.333333333333336| 2.623333333333333|0.001136794240242...|                              1.0|specialized_services|                              0.0|\n",
      "| 10462560289|       Ut Consulting|            c|     2.95|                               0.0|                      1306|              0.006131016765212672|                        52|                      1.0398162327718223|  0.039816232771822356|            1358|    35.14025944540567|        36.539412195146156|                          3.55|                       71| 2.5385092992191227|                47720.47|                2021-02-28|               2022-10-23|              19.83870968|               1022|                 3122|               789.9506627393225|         1977.5073637702503|43.198821796759944|2.4378276877761413| 0.38726790450928383|               1.3287671232876712|  retail_and_novelty|                            905.0|\n",
      "+------------+--------------------+-------------+---------+----------------------------------+--------------------------+----------------------------------+--------------------------+----------------------------------------+----------------------+----------------+---------------------+--------------------------+------------------------------+-------------------------+-------------------+------------------------+--------------------------+-------------------------+-------------------------+-------------------+---------------------+--------------------------------+---------------------------+------------------+------------------+--------------------+---------------------------------+--------------------+---------------------------------+\n",
      "only showing top 20 rows\n",
      "\n"
     ]
    }
   ],
   "source": [
    "joined2.show()"
   ]
  },
  {
   "cell_type": "code",
   "execution_count": 8,
   "metadata": {},
   "outputs": [],
   "source": [
    "spark.stop()"
   ]
  }
 ],
 "metadata": {
  "kernelspec": {
   "display_name": "Python 3",
   "language": "python",
   "name": "python3"
  },
  "language_info": {
   "codemirror_mode": {
    "name": "ipython",
    "version": 3
   },
   "file_extension": ".py",
   "mimetype": "text/x-python",
   "name": "python",
   "nbconvert_exporter": "python",
   "pygments_lexer": "ipython3",
   "version": "3.10.12"
  },
  "orig_nbformat": 4
 },
 "nbformat": 4,
 "nbformat_minor": 2
}
