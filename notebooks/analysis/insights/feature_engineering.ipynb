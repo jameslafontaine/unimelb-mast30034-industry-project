{
 "cells": [
  {
   "cell_type": "markdown",
   "metadata": {},
   "source": [
    "# Feature Engineering with Modelling\n",
    "## Author: Dulan Wijeratne 1181873"
   ]
  },
  {
   "cell_type": "markdown",
   "metadata": {},
   "source": [
    "In this notebook we will make new features using modelling techniques."
   ]
  },
  {
   "cell_type": "markdown",
   "metadata": {},
   "source": [
    "First we will start by creating a Spark session and reading in the joined aggregated data."
   ]
  },
  {
   "cell_type": "code",
   "execution_count": 1,
   "metadata": {},
   "outputs": [],
   "source": [
    "from pyspark.sql import SparkSession, functions as f"
   ]
  },
  {
   "cell_type": "code",
   "execution_count": 2,
   "metadata": {},
   "outputs": [
    {
     "name": "stderr",
     "output_type": "stream",
     "text": [
      "your 131072x1 screen size is bogus. expect trouble\n"
     ]
    },
    {
     "name": "stderr",
     "output_type": "stream",
     "text": [
      "23/09/29 22:54:36 WARN Utils: Your hostname, LAPTOP-RELH58H1 resolves to a loopback address: 127.0.1.1; using 172.19.22.4 instead (on interface eth0)\n",
      "23/09/29 22:54:36 WARN Utils: Set SPARK_LOCAL_IP if you need to bind to another address\n",
      "Setting default log level to \"WARN\".\n",
      "To adjust logging level use sc.setLogLevel(newLevel). For SparkR, use setLogLevel(newLevel).\n",
      "23/09/29 22:54:39 WARN NativeCodeLoader: Unable to load native-hadoop library for your platform... using builtin-java classes where applicable\n",
      "23/09/29 22:54:42 WARN Utils: Service 'SparkUI' could not bind on port 4040. Attempting port 4041.\n"
     ]
    }
   ],
   "source": [
    "spark = (\n",
    "    SparkSession.builder.appName(\"feature_engineering\")\n",
    "    .config(\"spark.sql.repl.eagerEval.enabled\", True) \n",
    "    .config(\"spark.sql.parquet.cacheMetadata\", \"true\")\n",
    "    .config(\"spark.sql.session.timeZone\", \"Etc/UTC\")\n",
    "    .config(\"spark.sql.session.timeZone\", \"Etc/UTC\")\n",
    "    .config('spark.driver.memory', '3g')   \n",
    "    .config('spark.executor.memory', '4g')  \n",
    "    .config('spark.executor.instances', '2')  \n",
    "    .config('spark.executor.cores', '2')\n",
    "    .getOrCreate()\n",
    ")"
   ]
  },
  {
   "cell_type": "code",
   "execution_count": 3,
   "metadata": {},
   "outputs": [
    {
     "name": "stderr",
     "output_type": "stream",
     "text": [
      "                                                                                \r"
     ]
    }
   ],
   "source": [
    "joined = spark.read.parquet(\"../../../data/insights/joined.parquet\")"
   ]
  },
  {
   "cell_type": "code",
   "execution_count": 4,
   "metadata": {},
   "outputs": [
    {
     "name": "stderr",
     "output_type": "stream",
     "text": [
      "23/09/29 22:54:59 WARN package: Truncated the string representation of a plan since it was too large. This behavior can be adjusted by setting 'spark.sql.debug.maxToStringFields'.\n",
      "                                                                                \r"
     ]
    },
    {
     "name": "stdout",
     "output_type": "stream",
     "text": [
      "+------------+--------------------+-------------+---------+----------------------------------+--------------------------+----------------------------------+--------------------------+----------------------------------------+----------------------+----------------+---------------------+--------------------------+------------------------------+-------------------------+------------------------+------------------------+--------------------------+-------------------------+-------------------------+-------------------+--------------------------------+---------------------------+------------------+------------------+--------------------+---------------------------------+--------------------+\n",
      "|merchant_abn|                name|revenue_level|take_rate|average_merchant_fraud_probability|number_of_unique_consumers|average_consumer_fraud_probability|number_of_repeat_consumers|average_repeat_transactions_per_consumer|consumer_retainability|number_of_orders|average_cost_of_order|average_spend_per_consumer|average_monthly_diff_consumers|consumer_diff_over_period|average_growth_consumers|merchant_revenue_rounded|first_recorded_transaction|last_recorded_transaction|transcation_period_months|number_of_postcodes|avg_total_weekly_personal_income|avg_total_weekly_fam_income|    avg_median_age|avg_household_size|      postcode_reach|avg_num_of_consumers_per_postcode|             segment|\n",
      "+------------+--------------------+-------------+---------+----------------------------------+--------------------------+----------------------------------+--------------------------+----------------------------------------+----------------------+----------------+---------------------+--------------------------+------------------------------+-------------------------+------------------------+------------------------+--------------------------+-------------------------+-------------------------+-------------------+--------------------------------+---------------------------+------------------+------------------+--------------------+---------------------------------+--------------------+\n",
      "| 39150153670|Aliquam Eu Institute|            a|     6.99|                               0.0|                      null|                              null|                      null|                                    null|                  null|               1|             38089.94|                  38089.94|                          null|                     null|                    null|                38089.94|                2021-05-31|               2021-05-31|                      0.0|                  1|                           863.5|                     2021.5|              38.5|              2.45|3.789314134141720...|                              1.0|antiques_and_jewe...|\n",
      "| 42461534060|            Elit LLP|            b|     3.98|                               0.0|                      null|                              null|                      null|                                    null|                  null|               1|             22600.11|                  22600.11|                          null|                     null|                    null|                22600.11|                2022-02-03|               2022-02-03|                      0.0|                  1|                           740.0|                     1799.0|              41.5|               2.6|3.789314134141720...|                              1.0|antiques_and_jewe...|\n",
      "| 46537010521|Tempor Augue Ac C...|            c|     2.18|                               0.0|                      null|                              null|                      null|                                    null|                  null|               1|             25661.55|                  25661.55|                          null|                     null|                    null|                25661.55|                2022-10-05|               2022-10-05|                      0.0|                  1|                           931.0|                     1980.0|              39.0|               2.5|3.789314134141720...|                              1.0|antiques_and_jewe...|\n",
      "| 24526454463|   Penatibus Limited|            c|     2.95|                               0.0|                      null|                              null|                      null|                                    null|                  null|               3|    7027.026666666668|         7027.026666666668|                          null|                     null|                    null|                21081.08|                2022-03-27|               2022-03-04|              -0.74193548|                  3|                           672.0|         1647.3333333333333|47.833333333333336| 2.393333333333333|0.001136794240242...|                              1.0|antiques_and_jewe...|\n",
      "| 47047735645|Aenean Gravida In...|            c|     1.54|                               0.0|                      null|                              null|                      null|                                    null|                  null|               1|             40896.26|                  40896.26|                          null|                     null|                    null|                40896.26|                2022-04-24|               2022-04-24|                      0.0|                  1|                           652.0|                     2064.0|              27.0|               1.8|3.789314134141720...|                              1.0|antiques_and_jewe...|\n",
      "| 28311306642|Egestas Nunc Sed LLC|            b|     4.93|                               0.0|                      null|                              null|                      null|                                    null|                  null|               1|             21159.33|                  21159.33|                          null|                     null|                    null|                21159.33|                2022-08-31|               2022-08-31|                      0.0|                  1|                           791.5|                     2022.0|              41.5|               2.5|3.789314134141720...|                              1.0|antiques_and_jewe...|\n",
      "| 29068447069|       Phasellus LLP|            b|     3.28|                               0.0|                      null|                              null|                      null|                                    null|                  null|               1|             36950.79|                  36950.79|                          null|                     null|                    null|                36950.79|                2021-09-21|               2021-09-21|                      0.0|                  1|                           796.0|                     1855.0|              43.0|               2.3|3.789314134141720...|                              1.0|antiques_and_jewe...|\n",
      "| 24212300522|Consectetuer Indu...|            b|     4.04|                               0.0|                      null|                              null|                      null|                                    null|                  null|               1|             16065.15|                  16065.15|                          null|                     null|                    null|                16065.15|                2021-07-13|               2021-07-13|                      0.0|                  1|                           750.0|                     1919.5|              45.0|               2.4|3.789314134141720...|                              1.0|antiques_and_jewe...|\n",
      "| 10404542215|Consequat Foundation|            a|     6.93|                               0.0|                      null|                              null|                      null|                                    null|                  null|               1|             22773.98|                  22773.98|                          null|                     null|                    null|                22773.98|                2021-10-24|               2021-10-24|                      0.0|                  1|                           710.5|                     1600.5|              44.5|               2.3|3.789314134141720...|                              1.0|antiques_and_jewe...|\n",
      "| 51425051982|     Sem Corporation|            a|     5.71|                               0.0|                      null|                              null|                      null|                                    null|                  null|               1|              7677.63|                   7677.63|                          null|                     null|                    null|                 7677.63|                2022-06-26|               2022-06-26|                      0.0|                  1|                           471.0|                     1176.0|              55.0|               2.2|3.789314134141720...|                              1.0|antiques_and_jewe...|\n",
      "| 52524795452|Cras Convallis As...|            a|     5.89|                               0.0|                      null|                              null|                      null|                                    null|                  null|               1|             12864.45|                  12864.45|                          null|                     null|                    null|                12864.45|                2022-04-30|               2022-04-30|                      0.0|                  1|                           638.0|                     1758.0|              47.0|               2.3|3.789314134141720...|                              1.0|antiques_and_jewe...|\n",
      "| 62688594508|Lobortis Nisi Ass...|            d|     0.88|                               0.0|                      null|                              null|                      null|                                    null|                  null|               1|             21112.57|                  21112.57|                          null|                     null|                    null|                21112.57|                2021-03-20|               2021-03-20|                      0.0|                  1|                           638.0|                     1520.0|              26.0|               1.7|3.789314134141720...|                              1.0|antiques_and_jewe...|\n",
      "| 67264251405|Elit Dictum Eu Fo...|            a|      6.4|                           18.2109|                      null|                              null|                      null|                                    null|                  null|               1|             51876.64|                  51876.64|                          null|                     null|                    null|                51876.64|                2021-10-19|               2021-10-19|                      0.0|                  1|                           767.0|                     2162.0|              40.0|               2.8|3.789314134141720...|                              1.0|antiques_and_jewe...|\n",
      "| 93267734067|    Curae Foundation|            c|     2.57|                               0.0|                      null|                              null|                      null|                                    null|                  null|               1|             16394.52|                  16394.52|                          null|                     null|                    null|                16394.52|                2022-07-23|               2022-07-23|                      0.0|                  1|                           836.0|                     2304.0|              48.0|              2.53|3.789314134141720...|                              1.0|antiques_and_jewe...|\n",
      "| 31686734877|   Etiam Laoreet LLP|            c|     2.49|                               0.0|                       313|               0.12592397476340694|                         4|                       1.012779552715655|  0.012779552715654952|             317|   197.33182965299684|        199.85364217252396|           -0.5789473684210527|                      -11|     0.06880937920108736|                62554.19|                2021-03-29|               2022-10-06|              18.25806452|                297|               796.3470031545742|          1977.711356466877| 42.96214511041009|2.4413564668769716|  0.1125426297840091|               1.0673400673400673|specialized_services|\n",
      "| 26259500279|Aliquet Vel Indus...|            c|     1.51|                               0.0|                       137|                               0.0|                         1|                      1.0072992700729928|  0.007299270072992...|             138|    526.3766666666667|         530.2188321167883|           -0.5263157894736842|                      -10|      0.1212443988759778|                72639.98|                2021-03-29|               2022-10-17|              18.61290323|                136|               767.1884057971015|         1943.6920289855072| 43.55072463768116| 2.442246376811594|0.051534672224327394|               1.0147058823529411|  retail_and_novelty|\n",
      "| 84391677958|Tortor Nunc Found...|            b|     3.84|                               0.0|                      1173|              0.028420965058236273|                        29|                      1.0247229326513214|    0.0247229326513214|            1202|   51.896081530782034|         53.17910485933503|           -0.5263157894736842|                      -10|    0.013218418163825477|                62379.09|                2021-03-03|               2022-10-22|              19.61290323|                948|               784.0212146422629|         1965.2375207986688| 43.46838602329451| 2.445440931780366|  0.3592269799166351|               1.2679324894514767|tech_and_electronics|\n",
      "| 27657048362|Elementum Purus F...|            c|     2.61|                               0.0|                       402|               0.10958697788697788|                         5|                      1.0124378109452736|  0.012437810945273632|             407|    71.59633906633907|          72.4868407960199|          -0.47368421052631576|                       -9|     0.03698534324994927|                29139.71|                2021-03-21|               2022-10-01|              18.35483871|                375|               800.1572481572482|         2012.3906633906633| 42.87592137592138|2.4865110565110564| 0.14209928003031452|               1.0853333333333333|specialized_services|\n",
      "| 38672941140|Consequat Nec Mol...|            a|      6.4|                               0.0|                       478|                1.2168316872427982|                         8|                      1.0167364016736402|  0.016736401673640166|             486|   1685.5333127572019|        1713.7430753138074|          -0.47368421052631576|                       -9|     0.04279070334984716|               819169.19|                2021-03-11|               2022-10-09|              18.93548387|                444|               785.9104938271605|         1982.7397119341563| 43.45781893004115|2.4555349794238674| 0.16824554755589238|               1.0945945945945945|garden_and_furnis...|\n",
      "| 91178385997|Pede Nonummy Limited|            a|     6.57|                               0.0|                       410|              0.023214734299516912|                         4|                      1.0097560975609756|   0.00975609756097561|             414|     96.9849275362319|         97.93112195121952|          -0.47368421052631576|                       -9|     0.16559423444899055|                40151.76|                2021-03-05|               2022-10-26|              19.67741935|                374|               770.0350241545893|         1949.6497584541062|43.341787439613526|2.4684057971014495| 0.14172034861690033|                1.106951871657754|  retail_and_novelty|\n",
      "+------------+--------------------+-------------+---------+----------------------------------+--------------------------+----------------------------------+--------------------------+----------------------------------------+----------------------+----------------+---------------------+--------------------------+------------------------------+-------------------------+------------------------+------------------------+--------------------------+-------------------------+-------------------------+-------------------+--------------------------------+---------------------------+------------------+------------------+--------------------+---------------------------------+--------------------+\n",
      "only showing top 20 rows\n",
      "\n"
     ]
    }
   ],
   "source": [
    "joined.orderBy(f.col(\"consumer_diff_over_period\").asc()).show()"
   ]
  },
  {
   "cell_type": "code",
   "execution_count": 5,
   "metadata": {},
   "outputs": [
    {
     "name": "stderr",
     "output_type": "stream",
     "text": [
      "[Stage 2:>                                                          (0 + 1) / 1]\r"
     ]
    },
    {
     "name": "stdout",
     "output_type": "stream",
     "text": [
      "+------------+--------------------+-------------+---------+----------------------------------+--------------------------+----------------------------------+--------------------------+----------------------------------------+----------------------+----------------+---------------------+--------------------------+------------------------------+-------------------------+------------------------+------------------------+--------------------------+-------------------------+-------------------------+-------------------+--------------------------------+---------------------------+-----------------+------------------+--------------------+---------------------------------+------------------+\n",
      "|merchant_abn|                name|revenue_level|take_rate|average_merchant_fraud_probability|number_of_unique_consumers|average_consumer_fraud_probability|number_of_repeat_consumers|average_repeat_transactions_per_consumer|consumer_retainability|number_of_orders|average_cost_of_order|average_spend_per_consumer|average_monthly_diff_consumers|consumer_diff_over_period|average_growth_consumers|merchant_revenue_rounded|first_recorded_transaction|last_recorded_transaction|transcation_period_months|number_of_postcodes|avg_total_weekly_personal_income|avg_total_weekly_fam_income|   avg_median_age|avg_household_size|      postcode_reach|avg_num_of_consumers_per_postcode|           segment|\n",
      "+------------+--------------------+-------------+---------+----------------------------------+--------------------------+----------------------------------+--------------------------+----------------------------------------+----------------------+----------------+---------------------+--------------------------+------------------------------+-------------------------+------------------------+------------------------+--------------------------+-------------------------+-------------------------+-------------------+--------------------------------+---------------------------+-----------------+------------------+--------------------+---------------------------------+------------------+\n",
      "| 71118957552|Suscipit Nonummy ...|            a|     6.77|                               0.0|                      null|                              null|                      null|                                    null|                  null|              37|    644.0862162162161|         644.0862162162161|          -0.23076923076923078|                       -3|      0.2897435897435897|                23831.19|                2021-05-31|               2022-10-22|              16.70967742|                 37|               792.4324324324324|         2029.7972972972973|43.87837837837838|2.4416216216216218|0.014020462296324365|                              1.0|retail_and_novelty|\n",
      "+------------+--------------------+-------------+---------+----------------------------------+--------------------------+----------------------------------+--------------------------+----------------------------------------+----------------------+----------------+---------------------+--------------------------+------------------------------+-------------------------+------------------------+------------------------+--------------------------+-------------------------+-------------------------+-------------------+--------------------------------+---------------------------+-----------------+------------------+--------------------+---------------------------------+------------------+\n",
      "\n"
     ]
    },
    {
     "name": "stderr",
     "output_type": "stream",
     "text": [
      "                                                                                \r"
     ]
    }
   ],
   "source": [
    "joined.filter(joined.merchant_abn == 71118957552).show()"
   ]
  },
  {
   "cell_type": "code",
   "execution_count": 6,
   "metadata": {},
   "outputs": [
    {
     "ename": "AnalysisException",
     "evalue": "[UNRESOLVED_COLUMN.WITH_SUGGESTION] A column or function parameter with name `average_growth` cannot be resolved. Did you mean one of the following? [`take_rate`, `average_growth_consumers`, `postcode_reach`, `revenue_level`, `segment`].;\n'Sort ['average_growth DESC NULLS LAST], true\n+- Relation [merchant_abn#0L,name#1,revenue_level#2,take_rate#3,average_merchant_fraud_probability#4,number_of_unique_consumers#5L,average_consumer_fraud_probability#6,number_of_repeat_consumers#7L,average_repeat_transactions_per_consumer#8,consumer_retainability#9,number_of_orders#10L,average_cost_of_order#11,average_spend_per_consumer#12,average_monthly_diff_consumers#13,consumer_diff_over_period#14L,average_growth_consumers#15,merchant_revenue_rounded#16,first_recorded_transaction#17,last_recorded_transaction#18,transcation_period_months#19,number_of_postcodes#20L,avg_total_weekly_personal_income#21,avg_total_weekly_fam_income#22,avg_median_age#23,... 4 more fields] parquet\n",
     "output_type": "error",
     "traceback": [
      "\u001b[0;31m---------------------------------------------------------------------------\u001b[0m",
      "\u001b[0;31mAnalysisException\u001b[0m                         Traceback (most recent call last)",
      "\u001b[1;32m/mnt/c/Users/61435/Desktop/Applied Data/Project 2/bnpl-industry-project-open-source-industry-project-35/notebooks/analysis/insights/feature_engineering.ipynb Cell 9\u001b[0m line \u001b[0;36m1\n\u001b[0;32m----> <a href='vscode-notebook-cell://wsl%2Bubuntu/mnt/c/Users/61435/Desktop/Applied%20Data/Project%202/bnpl-industry-project-open-source-industry-project-35/notebooks/analysis/insights/feature_engineering.ipynb#X11sdnNjb2RlLXJlbW90ZQ%3D%3D?line=0'>1</a>\u001b[0m joined\u001b[39m.\u001b[39;49morderBy(f\u001b[39m.\u001b[39;49mcol(\u001b[39m\"\u001b[39;49m\u001b[39maverage_growth\u001b[39;49m\u001b[39m\"\u001b[39;49m)\u001b[39m.\u001b[39;49mdesc())\u001b[39m.\u001b[39mshow()\n",
      "File \u001b[0;32m~/.local/lib/python3.9/site-packages/pyspark/sql/dataframe.py:2593\u001b[0m, in \u001b[0;36mDataFrame.sort\u001b[0;34m(self, *cols, **kwargs)\u001b[0m\n\u001b[1;32m   2502\u001b[0m \u001b[39mdef\u001b[39;00m \u001b[39msort\u001b[39m(\n\u001b[1;32m   2503\u001b[0m     \u001b[39mself\u001b[39m, \u001b[39m*\u001b[39mcols: Union[\u001b[39mstr\u001b[39m, Column, List[Union[\u001b[39mstr\u001b[39m, Column]]], \u001b[39m*\u001b[39m\u001b[39m*\u001b[39mkwargs: Any\n\u001b[1;32m   2504\u001b[0m ) \u001b[39m-\u001b[39m\u001b[39m>\u001b[39m \u001b[39m\"\u001b[39m\u001b[39mDataFrame\u001b[39m\u001b[39m\"\u001b[39m:\n\u001b[1;32m   2505\u001b[0m \u001b[39m    \u001b[39m\u001b[39m\"\"\"Returns a new :class:`DataFrame` sorted by the specified column(s).\u001b[39;00m\n\u001b[1;32m   2506\u001b[0m \n\u001b[1;32m   2507\u001b[0m \u001b[39m    .. versionadded:: 1.3.0\u001b[39;00m\n\u001b[0;32m   (...)\u001b[0m\n\u001b[1;32m   2591\u001b[0m \u001b[39m    +---+-----+\u001b[39;00m\n\u001b[1;32m   2592\u001b[0m \u001b[39m    \"\"\"\u001b[39;00m\n\u001b[0;32m-> 2593\u001b[0m     jdf \u001b[39m=\u001b[39m \u001b[39mself\u001b[39;49m\u001b[39m.\u001b[39;49m_jdf\u001b[39m.\u001b[39;49msort(\u001b[39mself\u001b[39;49m\u001b[39m.\u001b[39;49m_sort_cols(cols, kwargs))\n\u001b[1;32m   2594\u001b[0m     \u001b[39mreturn\u001b[39;00m DataFrame(jdf, \u001b[39mself\u001b[39m\u001b[39m.\u001b[39msparkSession)\n",
      "File \u001b[0;32m~/.local/lib/python3.9/site-packages/py4j/java_gateway.py:1322\u001b[0m, in \u001b[0;36mJavaMember.__call__\u001b[0;34m(self, *args)\u001b[0m\n\u001b[1;32m   1316\u001b[0m command \u001b[39m=\u001b[39m proto\u001b[39m.\u001b[39mCALL_COMMAND_NAME \u001b[39m+\u001b[39m\\\n\u001b[1;32m   1317\u001b[0m     \u001b[39mself\u001b[39m\u001b[39m.\u001b[39mcommand_header \u001b[39m+\u001b[39m\\\n\u001b[1;32m   1318\u001b[0m     args_command \u001b[39m+\u001b[39m\\\n\u001b[1;32m   1319\u001b[0m     proto\u001b[39m.\u001b[39mEND_COMMAND_PART\n\u001b[1;32m   1321\u001b[0m answer \u001b[39m=\u001b[39m \u001b[39mself\u001b[39m\u001b[39m.\u001b[39mgateway_client\u001b[39m.\u001b[39msend_command(command)\n\u001b[0;32m-> 1322\u001b[0m return_value \u001b[39m=\u001b[39m get_return_value(\n\u001b[1;32m   1323\u001b[0m     answer, \u001b[39mself\u001b[39;49m\u001b[39m.\u001b[39;49mgateway_client, \u001b[39mself\u001b[39;49m\u001b[39m.\u001b[39;49mtarget_id, \u001b[39mself\u001b[39;49m\u001b[39m.\u001b[39;49mname)\n\u001b[1;32m   1325\u001b[0m \u001b[39mfor\u001b[39;00m temp_arg \u001b[39min\u001b[39;00m temp_args:\n\u001b[1;32m   1326\u001b[0m     \u001b[39mif\u001b[39;00m \u001b[39mhasattr\u001b[39m(temp_arg, \u001b[39m\"\u001b[39m\u001b[39m_detach\u001b[39m\u001b[39m\"\u001b[39m):\n",
      "File \u001b[0;32m~/.local/lib/python3.9/site-packages/pyspark/errors/exceptions/captured.py:175\u001b[0m, in \u001b[0;36mcapture_sql_exception.<locals>.deco\u001b[0;34m(*a, **kw)\u001b[0m\n\u001b[1;32m    171\u001b[0m converted \u001b[39m=\u001b[39m convert_exception(e\u001b[39m.\u001b[39mjava_exception)\n\u001b[1;32m    172\u001b[0m \u001b[39mif\u001b[39;00m \u001b[39mnot\u001b[39;00m \u001b[39misinstance\u001b[39m(converted, UnknownException):\n\u001b[1;32m    173\u001b[0m     \u001b[39m# Hide where the exception came from that shows a non-Pythonic\u001b[39;00m\n\u001b[1;32m    174\u001b[0m     \u001b[39m# JVM exception message.\u001b[39;00m\n\u001b[0;32m--> 175\u001b[0m     \u001b[39mraise\u001b[39;00m converted \u001b[39mfrom\u001b[39;00m \u001b[39mNone\u001b[39;00m\n\u001b[1;32m    176\u001b[0m \u001b[39melse\u001b[39;00m:\n\u001b[1;32m    177\u001b[0m     \u001b[39mraise\u001b[39;00m\n",
      "\u001b[0;31mAnalysisException\u001b[0m: [UNRESOLVED_COLUMN.WITH_SUGGESTION] A column or function parameter with name `average_growth` cannot be resolved. Did you mean one of the following? [`take_rate`, `average_growth_consumers`, `postcode_reach`, `revenue_level`, `segment`].;\n'Sort ['average_growth DESC NULLS LAST], true\n+- Relation [merchant_abn#0L,name#1,revenue_level#2,take_rate#3,average_merchant_fraud_probability#4,number_of_unique_consumers#5L,average_consumer_fraud_probability#6,number_of_repeat_consumers#7L,average_repeat_transactions_per_consumer#8,consumer_retainability#9,number_of_orders#10L,average_cost_of_order#11,average_spend_per_consumer#12,average_monthly_diff_consumers#13,consumer_diff_over_period#14L,average_growth_consumers#15,merchant_revenue_rounded#16,first_recorded_transaction#17,last_recorded_transaction#18,transcation_period_months#19,number_of_postcodes#20L,avg_total_weekly_personal_income#21,avg_total_weekly_fam_income#22,avg_median_age#23,... 4 more fields] parquet\n"
     ]
    }
   ],
   "source": [
    "joined.orderBy(f.col(\"average_growth\").desc()).show()"
   ]
  },
  {
   "cell_type": "markdown",
   "metadata": {},
   "source": [
    "Changing NULLs to 0s\n",
    "\n",
    "As we are going to be using modelling techniques we need to change the NULLs to an interpretable value."
   ]
  },
  {
   "cell_type": "code",
   "execution_count": null,
   "metadata": {},
   "outputs": [],
   "source": [
    "joined = joined.fillna(0)"
   ]
  },
  {
   "cell_type": "markdown",
   "metadata": {},
   "source": [
    "Next we want to convert the categorical features into integer values so that we can check its correlation between the target variables.\n",
    "\n",
    "In the dataset there are 2 categorical features:\n",
    "- Revenue Value\n",
    "- Segment"
   ]
  },
  {
   "cell_type": "code",
   "execution_count": null,
   "metadata": {},
   "outputs": [],
   "source": [
    "from pyspark.ml.feature import StringIndexer"
   ]
  },
  {
   "cell_type": "code",
   "execution_count": null,
   "metadata": {},
   "outputs": [],
   "source": [
    "input_cols = [\"revenue_level\",\"segment\"]\n",
    "output_cols = [\"revenue_level_indexed\",\"segment_indexed\"]"
   ]
  },
  {
   "cell_type": "code",
   "execution_count": null,
   "metadata": {},
   "outputs": [],
   "source": [
    "revenue_level_indexer = StringIndexer(inputCol = \"revenue_level\", outputCol= \"revenue_level_indexed\")\n",
    "segment_indexer = StringIndexer(inputCol = \"segment\", outputCol = \"segment_indexed\")"
   ]
  },
  {
   "cell_type": "code",
   "execution_count": null,
   "metadata": {},
   "outputs": [],
   "source": [
    "pre_correlation_df = revenue_level_indexer.fit(joined).transform(segment_indexer.fit(joined).transform(joined))\n",
    "pre_correlation_df = pre_correlation_df.drop(\"revenue_level\", \"segment\",\"name\",\"first_recorded_transaction\",\"last_recorded_transaction\")"
   ]
  },
  {
   "cell_type": "code",
   "execution_count": null,
   "metadata": {},
   "outputs": [],
   "source": [
    "correlation_df = pre_correlation_df.toPandas()"
   ]
  },
  {
   "cell_type": "markdown",
   "metadata": {},
   "source": [
    "Now we will check the correlation matrix"
   ]
  },
  {
   "cell_type": "code",
   "execution_count": null,
   "metadata": {},
   "outputs": [],
   "source": [
    "import pandas as pd"
   ]
  },
  {
   "cell_type": "code",
   "execution_count": null,
   "metadata": {},
   "outputs": [
    {
     "data": {
      "text/html": [
       "<div>\n",
       "<style scoped>\n",
       "    .dataframe tbody tr th:only-of-type {\n",
       "        vertical-align: middle;\n",
       "    }\n",
       "\n",
       "    .dataframe tbody tr th {\n",
       "        vertical-align: top;\n",
       "    }\n",
       "\n",
       "    .dataframe thead th {\n",
       "        text-align: right;\n",
       "    }\n",
       "</style>\n",
       "<table border=\"1\" class=\"dataframe\">\n",
       "  <thead>\n",
       "    <tr style=\"text-align: right;\">\n",
       "      <th></th>\n",
       "      <th>merchant_abn</th>\n",
       "      <th>take_rate</th>\n",
       "      <th>average_merchant_fraud_probability</th>\n",
       "      <th>number_of_unique_consumers</th>\n",
       "      <th>average_consumer_fraud_probability</th>\n",
       "      <th>number_of_repeat_consumers</th>\n",
       "      <th>average_repeat_transactions_per_consumer</th>\n",
       "      <th>consumer_retainability</th>\n",
       "      <th>number_of_orders</th>\n",
       "      <th>average_cost_of_order</th>\n",
       "      <th>...</th>\n",
       "      <th>transcation_period_months</th>\n",
       "      <th>number_of_postcodes</th>\n",
       "      <th>avg_total_weekly_personal_income</th>\n",
       "      <th>avg_total_weekly_fam_income</th>\n",
       "      <th>avg_median_age</th>\n",
       "      <th>avg_household_size</th>\n",
       "      <th>postcode_reach</th>\n",
       "      <th>avg_num_of_consumers_per_postcode</th>\n",
       "      <th>segment_indexed</th>\n",
       "      <th>revenue_level_indexed</th>\n",
       "    </tr>\n",
       "  </thead>\n",
       "  <tbody>\n",
       "    <tr>\n",
       "      <th>0</th>\n",
       "      <td>83412691377</td>\n",
       "      <td>2.94</td>\n",
       "      <td>0.0</td>\n",
       "      <td>8990</td>\n",
       "      <td>0.032161</td>\n",
       "      <td>2419</td>\n",
       "      <td>1.326808</td>\n",
       "      <td>0.269077</td>\n",
       "      <td>11928</td>\n",
       "      <td>34.971224</td>\n",
       "      <td>...</td>\n",
       "      <td>19.193548</td>\n",
       "      <td>2551</td>\n",
       "      <td>791.105760</td>\n",
       "      <td>1980.449153</td>\n",
       "      <td>43.164361</td>\n",
       "      <td>2.457791</td>\n",
       "      <td>0.966654</td>\n",
       "      <td>4.675813</td>\n",
       "      <td>4.0</td>\n",
       "      <td>2.0</td>\n",
       "    </tr>\n",
       "    <tr>\n",
       "      <th>1</th>\n",
       "      <td>38700038932</td>\n",
       "      <td>6.31</td>\n",
       "      <td>0.0</td>\n",
       "      <td>5154</td>\n",
       "      <td>0.605566</td>\n",
       "      <td>707</td>\n",
       "      <td>1.153279</td>\n",
       "      <td>0.137175</td>\n",
       "      <td>5944</td>\n",
       "      <td>1344.342695</td>\n",
       "      <td>...</td>\n",
       "      <td>19.612903</td>\n",
       "      <td>2286</td>\n",
       "      <td>794.789283</td>\n",
       "      <td>1984.221484</td>\n",
       "      <td>43.092110</td>\n",
       "      <td>2.452603</td>\n",
       "      <td>0.866237</td>\n",
       "      <td>2.600175</td>\n",
       "      <td>2.0</td>\n",
       "      <td>0.0</td>\n",
       "    </tr>\n",
       "    <tr>\n",
       "      <th>2</th>\n",
       "      <td>73256306726</td>\n",
       "      <td>4.81</td>\n",
       "      <td>0.0</td>\n",
       "      <td>3899</td>\n",
       "      <td>0.056487</td>\n",
       "      <td>436</td>\n",
       "      <td>1.118492</td>\n",
       "      <td>0.111824</td>\n",
       "      <td>4361</td>\n",
       "      <td>283.944620</td>\n",
       "      <td>...</td>\n",
       "      <td>19.580645</td>\n",
       "      <td>2049</td>\n",
       "      <td>791.844875</td>\n",
       "      <td>1982.720936</td>\n",
       "      <td>43.252006</td>\n",
       "      <td>2.449668</td>\n",
       "      <td>0.776430</td>\n",
       "      <td>2.128355</td>\n",
       "      <td>3.0</td>\n",
       "      <td>1.0</td>\n",
       "    </tr>\n",
       "    <tr>\n",
       "      <th>3</th>\n",
       "      <td>73841664453</td>\n",
       "      <td>5.55</td>\n",
       "      <td>0.0</td>\n",
       "      <td>792</td>\n",
       "      <td>0.026275</td>\n",
       "      <td>19</td>\n",
       "      <td>1.023990</td>\n",
       "      <td>0.023990</td>\n",
       "      <td>811</td>\n",
       "      <td>85.539625</td>\n",
       "      <td>...</td>\n",
       "      <td>18.612903</td>\n",
       "      <td>679</td>\n",
       "      <td>796.419852</td>\n",
       "      <td>2013.956227</td>\n",
       "      <td>42.881011</td>\n",
       "      <td>2.439963</td>\n",
       "      <td>0.257294</td>\n",
       "      <td>1.194404</td>\n",
       "      <td>1.0</td>\n",
       "      <td>0.0</td>\n",
       "    </tr>\n",
       "    <tr>\n",
       "      <th>4</th>\n",
       "      <td>35344855546</td>\n",
       "      <td>2.92</td>\n",
       "      <td>0.0</td>\n",
       "      <td>1237</td>\n",
       "      <td>0.053722</td>\n",
       "      <td>37</td>\n",
       "      <td>1.029911</td>\n",
       "      <td>0.029911</td>\n",
       "      <td>1274</td>\n",
       "      <td>89.123652</td>\n",
       "      <td>...</td>\n",
       "      <td>19.838710</td>\n",
       "      <td>995</td>\n",
       "      <td>795.796703</td>\n",
       "      <td>1973.193485</td>\n",
       "      <td>42.754710</td>\n",
       "      <td>2.450118</td>\n",
       "      <td>0.377037</td>\n",
       "      <td>1.280402</td>\n",
       "      <td>4.0</td>\n",
       "      <td>2.0</td>\n",
       "    </tr>\n",
       "  </tbody>\n",
       "</table>\n",
       "<p>5 rows × 25 columns</p>\n",
       "</div>"
      ],
      "text/plain": [
       "   merchant_abn  take_rate  average_merchant_fraud_probability  \\\n",
       "0   83412691377       2.94                                 0.0   \n",
       "1   38700038932       6.31                                 0.0   \n",
       "2   73256306726       4.81                                 0.0   \n",
       "3   73841664453       5.55                                 0.0   \n",
       "4   35344855546       2.92                                 0.0   \n",
       "\n",
       "   number_of_unique_consumers  average_consumer_fraud_probability  \\\n",
       "0                        8990                            0.032161   \n",
       "1                        5154                            0.605566   \n",
       "2                        3899                            0.056487   \n",
       "3                         792                            0.026275   \n",
       "4                        1237                            0.053722   \n",
       "\n",
       "   number_of_repeat_consumers  average_repeat_transactions_per_consumer  \\\n",
       "0                        2419                                  1.326808   \n",
       "1                         707                                  1.153279   \n",
       "2                         436                                  1.118492   \n",
       "3                          19                                  1.023990   \n",
       "4                          37                                  1.029911   \n",
       "\n",
       "   consumer_retainability  number_of_orders  average_cost_of_order  ...  \\\n",
       "0                0.269077             11928              34.971224  ...   \n",
       "1                0.137175              5944            1344.342695  ...   \n",
       "2                0.111824              4361             283.944620  ...   \n",
       "3                0.023990               811              85.539625  ...   \n",
       "4                0.029911              1274              89.123652  ...   \n",
       "\n",
       "   transcation_period_months  number_of_postcodes  \\\n",
       "0                  19.193548                 2551   \n",
       "1                  19.612903                 2286   \n",
       "2                  19.580645                 2049   \n",
       "3                  18.612903                  679   \n",
       "4                  19.838710                  995   \n",
       "\n",
       "   avg_total_weekly_personal_income  avg_total_weekly_fam_income  \\\n",
       "0                        791.105760                  1980.449153   \n",
       "1                        794.789283                  1984.221484   \n",
       "2                        791.844875                  1982.720936   \n",
       "3                        796.419852                  2013.956227   \n",
       "4                        795.796703                  1973.193485   \n",
       "\n",
       "   avg_median_age  avg_household_size  postcode_reach  \\\n",
       "0       43.164361            2.457791        0.966654   \n",
       "1       43.092110            2.452603        0.866237   \n",
       "2       43.252006            2.449668        0.776430   \n",
       "3       42.881011            2.439963        0.257294   \n",
       "4       42.754710            2.450118        0.377037   \n",
       "\n",
       "   avg_num_of_consumers_per_postcode  segment_indexed  revenue_level_indexed  \n",
       "0                           4.675813              4.0                    2.0  \n",
       "1                           2.600175              2.0                    0.0  \n",
       "2                           2.128355              3.0                    1.0  \n",
       "3                           1.194404              1.0                    0.0  \n",
       "4                           1.280402              4.0                    2.0  \n",
       "\n",
       "[5 rows x 25 columns]"
      ]
     },
     "execution_count": 14,
     "metadata": {},
     "output_type": "execute_result"
    }
   ],
   "source": [
    "correlation_df.head()"
   ]
  },
  {
   "cell_type": "code",
   "execution_count": null,
   "metadata": {},
   "outputs": [],
   "source": [
    "corr_matrix = correlation_df.corr()"
   ]
  },
  {
   "cell_type": "markdown",
   "metadata": {},
   "source": [
    "### Feature Engineering"
   ]
  },
  {
   "cell_type": "markdown",
   "metadata": {},
   "source": [
    "Predicting number of consumers in 3 years"
   ]
  },
  {
   "cell_type": "code",
   "execution_count": null,
   "metadata": {},
   "outputs": [
    {
     "data": {
      "text/plain": [
       "merchant_abn                                0.014463\n",
       "take_rate                                   0.027533\n",
       "average_merchant_fraud_probability          0.000810\n",
       "number_of_unique_consumers                  1.000000\n",
       "average_consumer_fraud_probability         -0.119152\n",
       "number_of_repeat_consumers                  0.869945\n",
       "average_repeat_transactions_per_consumer    0.613173\n",
       "consumer_retainability                      0.975056\n",
       "number_of_orders                            0.710842\n",
       "average_cost_of_order                      -0.194075\n",
       "average_spend_per_consumer                 -0.160724\n",
       "average_monthly_diff_consumers              0.770269\n",
       "consumer_diff_over_period                   0.770314\n",
       "average_growth                              0.346373\n",
       "merchant_revenue_rounded                    0.616352\n",
       "transcation_period_months                   0.302558\n",
       "number_of_postcodes                         0.834871\n",
       "avg_total_weekly_personal_income           -0.003423\n",
       "avg_total_weekly_fam_income                 0.006767\n",
       "avg_median_age                              0.017875\n",
       "avg_household_size                         -0.000413\n",
       "postcode_reach                              0.834871\n",
       "avg_num_of_consumers_per_postcode           0.680492\n",
       "segment_indexed                             0.023867\n",
       "revenue_level_indexed                      -0.030022\n",
       "Name: number_of_unique_consumers, dtype: float64"
      ]
     },
     "execution_count": 16,
     "metadata": {},
     "output_type": "execute_result"
    }
   ],
   "source": [
    "corr_matrix.loc[\"number_of_unique_consumers\"]"
   ]
  },
  {
   "cell_type": "markdown",
   "metadata": {},
   "source": [
    "Next we seperate the features and the target variables"
   ]
  },
  {
   "cell_type": "code",
   "execution_count": null,
   "metadata": {},
   "outputs": [],
   "source": [
    "modelling_df = correlation_df.copy()"
   ]
  },
  {
   "cell_type": "code",
   "execution_count": null,
   "metadata": {},
   "outputs": [
    {
     "data": {
      "text/html": [
       "<div>\n",
       "<style scoped>\n",
       "    .dataframe tbody tr th:only-of-type {\n",
       "        vertical-align: middle;\n",
       "    }\n",
       "\n",
       "    .dataframe tbody tr th {\n",
       "        vertical-align: top;\n",
       "    }\n",
       "\n",
       "    .dataframe thead th {\n",
       "        text-align: right;\n",
       "    }\n",
       "</style>\n",
       "<table border=\"1\" class=\"dataframe\">\n",
       "  <thead>\n",
       "    <tr style=\"text-align: right;\">\n",
       "      <th></th>\n",
       "      <th>merchant_abn</th>\n",
       "      <th>take_rate</th>\n",
       "      <th>average_merchant_fraud_probability</th>\n",
       "      <th>number_of_unique_consumers</th>\n",
       "      <th>average_consumer_fraud_probability</th>\n",
       "      <th>number_of_repeat_consumers</th>\n",
       "      <th>average_repeat_transactions_per_consumer</th>\n",
       "      <th>consumer_retainability</th>\n",
       "      <th>number_of_orders</th>\n",
       "      <th>average_cost_of_order</th>\n",
       "      <th>...</th>\n",
       "      <th>transcation_period_months</th>\n",
       "      <th>number_of_postcodes</th>\n",
       "      <th>avg_total_weekly_personal_income</th>\n",
       "      <th>avg_total_weekly_fam_income</th>\n",
       "      <th>avg_median_age</th>\n",
       "      <th>avg_household_size</th>\n",
       "      <th>postcode_reach</th>\n",
       "      <th>avg_num_of_consumers_per_postcode</th>\n",
       "      <th>segment_indexed</th>\n",
       "      <th>revenue_level_indexed</th>\n",
       "    </tr>\n",
       "  </thead>\n",
       "  <tbody>\n",
       "    <tr>\n",
       "      <th>0</th>\n",
       "      <td>83412691377</td>\n",
       "      <td>2.94</td>\n",
       "      <td>0.0</td>\n",
       "      <td>8990</td>\n",
       "      <td>0.032161</td>\n",
       "      <td>2419</td>\n",
       "      <td>1.326808</td>\n",
       "      <td>0.269077</td>\n",
       "      <td>11928</td>\n",
       "      <td>34.971224</td>\n",
       "      <td>...</td>\n",
       "      <td>19.193548</td>\n",
       "      <td>2551</td>\n",
       "      <td>791.105760</td>\n",
       "      <td>1980.449153</td>\n",
       "      <td>43.164361</td>\n",
       "      <td>2.457791</td>\n",
       "      <td>0.966654</td>\n",
       "      <td>4.675813</td>\n",
       "      <td>4.0</td>\n",
       "      <td>2.0</td>\n",
       "    </tr>\n",
       "    <tr>\n",
       "      <th>1</th>\n",
       "      <td>38700038932</td>\n",
       "      <td>6.31</td>\n",
       "      <td>0.0</td>\n",
       "      <td>5154</td>\n",
       "      <td>0.605566</td>\n",
       "      <td>707</td>\n",
       "      <td>1.153279</td>\n",
       "      <td>0.137175</td>\n",
       "      <td>5944</td>\n",
       "      <td>1344.342695</td>\n",
       "      <td>...</td>\n",
       "      <td>19.612903</td>\n",
       "      <td>2286</td>\n",
       "      <td>794.789283</td>\n",
       "      <td>1984.221484</td>\n",
       "      <td>43.092110</td>\n",
       "      <td>2.452603</td>\n",
       "      <td>0.866237</td>\n",
       "      <td>2.600175</td>\n",
       "      <td>2.0</td>\n",
       "      <td>0.0</td>\n",
       "    </tr>\n",
       "    <tr>\n",
       "      <th>2</th>\n",
       "      <td>73256306726</td>\n",
       "      <td>4.81</td>\n",
       "      <td>0.0</td>\n",
       "      <td>3899</td>\n",
       "      <td>0.056487</td>\n",
       "      <td>436</td>\n",
       "      <td>1.118492</td>\n",
       "      <td>0.111824</td>\n",
       "      <td>4361</td>\n",
       "      <td>283.944620</td>\n",
       "      <td>...</td>\n",
       "      <td>19.580645</td>\n",
       "      <td>2049</td>\n",
       "      <td>791.844875</td>\n",
       "      <td>1982.720936</td>\n",
       "      <td>43.252006</td>\n",
       "      <td>2.449668</td>\n",
       "      <td>0.776430</td>\n",
       "      <td>2.128355</td>\n",
       "      <td>3.0</td>\n",
       "      <td>1.0</td>\n",
       "    </tr>\n",
       "    <tr>\n",
       "      <th>3</th>\n",
       "      <td>73841664453</td>\n",
       "      <td>5.55</td>\n",
       "      <td>0.0</td>\n",
       "      <td>792</td>\n",
       "      <td>0.026275</td>\n",
       "      <td>19</td>\n",
       "      <td>1.023990</td>\n",
       "      <td>0.023990</td>\n",
       "      <td>811</td>\n",
       "      <td>85.539625</td>\n",
       "      <td>...</td>\n",
       "      <td>18.612903</td>\n",
       "      <td>679</td>\n",
       "      <td>796.419852</td>\n",
       "      <td>2013.956227</td>\n",
       "      <td>42.881011</td>\n",
       "      <td>2.439963</td>\n",
       "      <td>0.257294</td>\n",
       "      <td>1.194404</td>\n",
       "      <td>1.0</td>\n",
       "      <td>0.0</td>\n",
       "    </tr>\n",
       "    <tr>\n",
       "      <th>4</th>\n",
       "      <td>35344855546</td>\n",
       "      <td>2.92</td>\n",
       "      <td>0.0</td>\n",
       "      <td>1237</td>\n",
       "      <td>0.053722</td>\n",
       "      <td>37</td>\n",
       "      <td>1.029911</td>\n",
       "      <td>0.029911</td>\n",
       "      <td>1274</td>\n",
       "      <td>89.123652</td>\n",
       "      <td>...</td>\n",
       "      <td>19.838710</td>\n",
       "      <td>995</td>\n",
       "      <td>795.796703</td>\n",
       "      <td>1973.193485</td>\n",
       "      <td>42.754710</td>\n",
       "      <td>2.450118</td>\n",
       "      <td>0.377037</td>\n",
       "      <td>1.280402</td>\n",
       "      <td>4.0</td>\n",
       "      <td>2.0</td>\n",
       "    </tr>\n",
       "  </tbody>\n",
       "</table>\n",
       "<p>5 rows × 25 columns</p>\n",
       "</div>"
      ],
      "text/plain": [
       "   merchant_abn  take_rate  average_merchant_fraud_probability  \\\n",
       "0   83412691377       2.94                                 0.0   \n",
       "1   38700038932       6.31                                 0.0   \n",
       "2   73256306726       4.81                                 0.0   \n",
       "3   73841664453       5.55                                 0.0   \n",
       "4   35344855546       2.92                                 0.0   \n",
       "\n",
       "   number_of_unique_consumers  average_consumer_fraud_probability  \\\n",
       "0                        8990                            0.032161   \n",
       "1                        5154                            0.605566   \n",
       "2                        3899                            0.056487   \n",
       "3                         792                            0.026275   \n",
       "4                        1237                            0.053722   \n",
       "\n",
       "   number_of_repeat_consumers  average_repeat_transactions_per_consumer  \\\n",
       "0                        2419                                  1.326808   \n",
       "1                         707                                  1.153279   \n",
       "2                         436                                  1.118492   \n",
       "3                          19                                  1.023990   \n",
       "4                          37                                  1.029911   \n",
       "\n",
       "   consumer_retainability  number_of_orders  average_cost_of_order  ...  \\\n",
       "0                0.269077             11928              34.971224  ...   \n",
       "1                0.137175              5944            1344.342695  ...   \n",
       "2                0.111824              4361             283.944620  ...   \n",
       "3                0.023990               811              85.539625  ...   \n",
       "4                0.029911              1274              89.123652  ...   \n",
       "\n",
       "   transcation_period_months  number_of_postcodes  \\\n",
       "0                  19.193548                 2551   \n",
       "1                  19.612903                 2286   \n",
       "2                  19.580645                 2049   \n",
       "3                  18.612903                  679   \n",
       "4                  19.838710                  995   \n",
       "\n",
       "   avg_total_weekly_personal_income  avg_total_weekly_fam_income  \\\n",
       "0                        791.105760                  1980.449153   \n",
       "1                        794.789283                  1984.221484   \n",
       "2                        791.844875                  1982.720936   \n",
       "3                        796.419852                  2013.956227   \n",
       "4                        795.796703                  1973.193485   \n",
       "\n",
       "   avg_median_age  avg_household_size  postcode_reach  \\\n",
       "0       43.164361            2.457791        0.966654   \n",
       "1       43.092110            2.452603        0.866237   \n",
       "2       43.252006            2.449668        0.776430   \n",
       "3       42.881011            2.439963        0.257294   \n",
       "4       42.754710            2.450118        0.377037   \n",
       "\n",
       "   avg_num_of_consumers_per_postcode  segment_indexed  revenue_level_indexed  \n",
       "0                           4.675813              4.0                    2.0  \n",
       "1                           2.600175              2.0                    0.0  \n",
       "2                           2.128355              3.0                    1.0  \n",
       "3                           1.194404              1.0                    0.0  \n",
       "4                           1.280402              4.0                    2.0  \n",
       "\n",
       "[5 rows x 25 columns]"
      ]
     },
     "execution_count": 18,
     "metadata": {},
     "output_type": "execute_result"
    }
   ],
   "source": [
    "modelling_df.head()"
   ]
  },
  {
   "cell_type": "code",
   "execution_count": null,
   "metadata": {},
   "outputs": [],
   "source": [
    "target_variable = \"number_of_unique_consumers\""
   ]
  },
  {
   "cell_type": "code",
   "execution_count": null,
   "metadata": {},
   "outputs": [],
   "source": [
    "features_unique_customers = modelling_df.drop(columns = [\"merchant_abn\",target_variable])\n",
    "number_of_unique_customer = modelling_df[target_variable]"
   ]
  },
  {
   "cell_type": "markdown",
   "metadata": {},
   "source": [
    "Feature Selection"
   ]
  },
  {
   "cell_type": "code",
   "execution_count": null,
   "metadata": {},
   "outputs": [],
   "source": [
    "from sklearn.feature_selection import f_regression, SelectKBest"
   ]
  },
  {
   "cell_type": "code",
   "execution_count": null,
   "metadata": {},
   "outputs": [],
   "source": [
    "selector = SelectKBest(score_func=f_regression, k= 5)\n",
    "features_unique_customers_selected = selector.fit_transform(features_unique_customers, number_of_unique_customer)"
   ]
  },
  {
   "cell_type": "code",
   "execution_count": null,
   "metadata": {},
   "outputs": [
    {
     "name": "stdout",
     "output_type": "stream",
     "text": [
      "Index(['number_of_repeat_consumers', 'consumer_retainability',\n",
      "       'consumer_diff_over_period', 'number_of_postcodes', 'postcode_reach'],\n",
      "      dtype='object')\n"
     ]
    }
   ],
   "source": [
    "selected_feature_indices = selector.get_support(indices=True)\n",
    "selected_features = features_unique_customers.columns[selected_feature_indices]\n",
    "print(selected_features)"
   ]
  },
  {
   "cell_type": "markdown",
   "metadata": {},
   "source": [
    "Splitting the data for train and test \n",
    " - We will use a 80 - 20"
   ]
  },
  {
   "cell_type": "code",
   "execution_count": null,
   "metadata": {},
   "outputs": [],
   "source": [
    "from sklearn.model_selection import train_test_split"
   ]
  },
  {
   "cell_type": "code",
   "execution_count": null,
   "metadata": {},
   "outputs": [],
   "source": [
    "features_unique_customers_train, features_unique_customers_test, number_of_unique_customer_train, number_of_unique_customer_test = \\\n",
    "    train_test_split(features_unique_customers[selected_features], number_of_unique_customer, test_size=0.33, random_state=42)"
   ]
  },
  {
   "cell_type": "markdown",
   "metadata": {},
   "source": [
    "Fitting the model\n",
    "- We will use a linear regression model"
   ]
  },
  {
   "cell_type": "code",
   "execution_count": null,
   "metadata": {},
   "outputs": [],
   "source": [
    "from sklearn.linear_model import LinearRegression"
   ]
  },
  {
   "cell_type": "code",
   "execution_count": null,
   "metadata": {},
   "outputs": [
    {
     "data": {
      "text/html": [
       "<style>#sk-container-id-1 {color: black;}#sk-container-id-1 pre{padding: 0;}#sk-container-id-1 div.sk-toggleable {background-color: white;}#sk-container-id-1 label.sk-toggleable__label {cursor: pointer;display: block;width: 100%;margin-bottom: 0;padding: 0.3em;box-sizing: border-box;text-align: center;}#sk-container-id-1 label.sk-toggleable__label-arrow:before {content: \"▸\";float: left;margin-right: 0.25em;color: #696969;}#sk-container-id-1 label.sk-toggleable__label-arrow:hover:before {color: black;}#sk-container-id-1 div.sk-estimator:hover label.sk-toggleable__label-arrow:before {color: black;}#sk-container-id-1 div.sk-toggleable__content {max-height: 0;max-width: 0;overflow: hidden;text-align: left;background-color: #f0f8ff;}#sk-container-id-1 div.sk-toggleable__content pre {margin: 0.2em;color: black;border-radius: 0.25em;background-color: #f0f8ff;}#sk-container-id-1 input.sk-toggleable__control:checked~div.sk-toggleable__content {max-height: 200px;max-width: 100%;overflow: auto;}#sk-container-id-1 input.sk-toggleable__control:checked~label.sk-toggleable__label-arrow:before {content: \"▾\";}#sk-container-id-1 div.sk-estimator input.sk-toggleable__control:checked~label.sk-toggleable__label {background-color: #d4ebff;}#sk-container-id-1 div.sk-label input.sk-toggleable__control:checked~label.sk-toggleable__label {background-color: #d4ebff;}#sk-container-id-1 input.sk-hidden--visually {border: 0;clip: rect(1px 1px 1px 1px);clip: rect(1px, 1px, 1px, 1px);height: 1px;margin: -1px;overflow: hidden;padding: 0;position: absolute;width: 1px;}#sk-container-id-1 div.sk-estimator {font-family: monospace;background-color: #f0f8ff;border: 1px dotted black;border-radius: 0.25em;box-sizing: border-box;margin-bottom: 0.5em;}#sk-container-id-1 div.sk-estimator:hover {background-color: #d4ebff;}#sk-container-id-1 div.sk-parallel-item::after {content: \"\";width: 100%;border-bottom: 1px solid gray;flex-grow: 1;}#sk-container-id-1 div.sk-label:hover label.sk-toggleable__label {background-color: #d4ebff;}#sk-container-id-1 div.sk-serial::before {content: \"\";position: absolute;border-left: 1px solid gray;box-sizing: border-box;top: 0;bottom: 0;left: 50%;z-index: 0;}#sk-container-id-1 div.sk-serial {display: flex;flex-direction: column;align-items: center;background-color: white;padding-right: 0.2em;padding-left: 0.2em;position: relative;}#sk-container-id-1 div.sk-item {position: relative;z-index: 1;}#sk-container-id-1 div.sk-parallel {display: flex;align-items: stretch;justify-content: center;background-color: white;position: relative;}#sk-container-id-1 div.sk-item::before, #sk-container-id-1 div.sk-parallel-item::before {content: \"\";position: absolute;border-left: 1px solid gray;box-sizing: border-box;top: 0;bottom: 0;left: 50%;z-index: -1;}#sk-container-id-1 div.sk-parallel-item {display: flex;flex-direction: column;z-index: 1;position: relative;background-color: white;}#sk-container-id-1 div.sk-parallel-item:first-child::after {align-self: flex-end;width: 50%;}#sk-container-id-1 div.sk-parallel-item:last-child::after {align-self: flex-start;width: 50%;}#sk-container-id-1 div.sk-parallel-item:only-child::after {width: 0;}#sk-container-id-1 div.sk-dashed-wrapped {border: 1px dashed gray;margin: 0 0.4em 0.5em 0.4em;box-sizing: border-box;padding-bottom: 0.4em;background-color: white;}#sk-container-id-1 div.sk-label label {font-family: monospace;font-weight: bold;display: inline-block;line-height: 1.2em;}#sk-container-id-1 div.sk-label-container {text-align: center;}#sk-container-id-1 div.sk-container {/* jupyter's `normalize.less` sets `[hidden] { display: none; }` but bootstrap.min.css set `[hidden] { display: none !important; }` so we also need the `!important` here to be able to override the default hidden behavior on the sphinx rendered scikit-learn.org. See: https://github.com/scikit-learn/scikit-learn/issues/21755 */display: inline-block !important;position: relative;}#sk-container-id-1 div.sk-text-repr-fallback {display: none;}</style><div id=\"sk-container-id-1\" class=\"sk-top-container\"><div class=\"sk-text-repr-fallback\"><pre>LinearRegression()</pre><b>In a Jupyter environment, please rerun this cell to show the HTML representation or trust the notebook. <br />On GitHub, the HTML representation is unable to render, please try loading this page with nbviewer.org.</b></div><div class=\"sk-container\" hidden><div class=\"sk-item\"><div class=\"sk-estimator sk-toggleable\"><input class=\"sk-toggleable__control sk-hidden--visually\" id=\"sk-estimator-id-1\" type=\"checkbox\" checked><label for=\"sk-estimator-id-1\" class=\"sk-toggleable__label sk-toggleable__label-arrow\">LinearRegression</label><div class=\"sk-toggleable__content\"><pre>LinearRegression()</pre></div></div></div></div></div>"
      ],
      "text/plain": [
       "LinearRegression()"
      ]
     },
     "execution_count": 27,
     "metadata": {},
     "output_type": "execute_result"
    }
   ],
   "source": [
    "num_of_unique_customers_model = LinearRegression()\n",
    "num_of_unique_customers_model.fit(features_unique_customers_train, number_of_unique_customer_train)"
   ]
  },
  {
   "cell_type": "markdown",
   "metadata": {},
   "source": [
    "Model Evaluation"
   ]
  },
  {
   "cell_type": "code",
   "execution_count": null,
   "metadata": {},
   "outputs": [],
   "source": [
    "from sklearn.metrics import mean_squared_error, r2_score"
   ]
  },
  {
   "cell_type": "code",
   "execution_count": null,
   "metadata": {},
   "outputs": [],
   "source": [
    "num_of_unique_customer_pred = num_of_unique_customers_model.predict(features_unique_customers_test)\n",
    "mse = mean_squared_error(number_of_unique_customer_test, num_of_unique_customer_pred)\n",
    "rmse = (mse ** 0.5)\n",
    "r2 = r2_score(number_of_unique_customer_test, num_of_unique_customer_pred)"
   ]
  },
  {
   "cell_type": "code",
   "execution_count": null,
   "metadata": {},
   "outputs": [
    {
     "name": "stdout",
     "output_type": "stream",
     "text": [
      "R-squared (R2): 0.9962345114520971\n"
     ]
    }
   ],
   "source": [
    "print(f'R-squared (R2): {r2}')"
   ]
  },
  {
   "cell_type": "markdown",
   "metadata": {},
   "source": [
    "Next we will predict the number of customers in 3 years"
   ]
  },
  {
   "cell_type": "code",
   "execution_count": null,
   "metadata": {},
   "outputs": [],
   "source": [
    "future_modelling_df = modelling_df.copy()\n",
    "future_modelling_df = future_modelling_df.sort_values(by='merchant_abn')"
   ]
  },
  {
   "cell_type": "code",
   "execution_count": null,
   "metadata": {},
   "outputs": [],
   "source": [
    "future_modelling_df[\"transcation_period_months\"] = future_modelling_df[\"transcation_period_months\"] + 36"
   ]
  },
  {
   "cell_type": "code",
   "execution_count": null,
   "metadata": {},
   "outputs": [
    {
     "data": {
      "text/html": [
       "<div>\n",
       "<style scoped>\n",
       "    .dataframe tbody tr th:only-of-type {\n",
       "        vertical-align: middle;\n",
       "    }\n",
       "\n",
       "    .dataframe tbody tr th {\n",
       "        vertical-align: top;\n",
       "    }\n",
       "\n",
       "    .dataframe thead th {\n",
       "        text-align: right;\n",
       "    }\n",
       "</style>\n",
       "<table border=\"1\" class=\"dataframe\">\n",
       "  <thead>\n",
       "    <tr style=\"text-align: right;\">\n",
       "      <th></th>\n",
       "      <th>merchant_abn</th>\n",
       "      <th>take_rate</th>\n",
       "      <th>average_merchant_fraud_probability</th>\n",
       "      <th>number_of_unique_consumers</th>\n",
       "      <th>average_consumer_fraud_probability</th>\n",
       "      <th>number_of_repeat_consumers</th>\n",
       "      <th>average_repeat_transactions_per_consumer</th>\n",
       "      <th>consumer_retainability</th>\n",
       "      <th>number_of_orders</th>\n",
       "      <th>average_cost_of_order</th>\n",
       "      <th>...</th>\n",
       "      <th>number_of_postcodes</th>\n",
       "      <th>most_popular_postcode</th>\n",
       "      <th>avg_total_weekly_personal_income</th>\n",
       "      <th>avg_total_weekly_fam_income</th>\n",
       "      <th>avg_median_age</th>\n",
       "      <th>avg_household_size</th>\n",
       "      <th>postcode_reach</th>\n",
       "      <th>avg_num_of_consumers_per_postcode</th>\n",
       "      <th>segment_indexed</th>\n",
       "      <th>revenue_level_indexed</th>\n",
       "    </tr>\n",
       "  </thead>\n",
       "  <tbody>\n",
       "    <tr>\n",
       "      <th>0</th>\n",
       "      <td>10023283211</td>\n",
       "      <td>0.18</td>\n",
       "      <td>0.0</td>\n",
       "      <td>2525</td>\n",
       "      <td>0.095502</td>\n",
       "      <td>174</td>\n",
       "      <td>1.071683</td>\n",
       "      <td>0.068911</td>\n",
       "      <td>2706</td>\n",
       "      <td>215.797947</td>\n",
       "      <td>...</td>\n",
       "      <td>1628</td>\n",
       "      <td>3275</td>\n",
       "      <td>786.702328</td>\n",
       "      <td>1971.123799</td>\n",
       "      <td>43.031966</td>\n",
       "      <td>2.456914</td>\n",
       "      <td>0.616900</td>\n",
       "      <td>1.662162</td>\n",
       "      <td>2.0</td>\n",
       "      <td>4.0</td>\n",
       "    </tr>\n",
       "    <tr>\n",
       "      <th>1</th>\n",
       "      <td>10142254217</td>\n",
       "      <td>4.22</td>\n",
       "      <td>0.0</td>\n",
       "      <td>2389</td>\n",
       "      <td>0.064356</td>\n",
       "      <td>151</td>\n",
       "      <td>1.064881</td>\n",
       "      <td>0.063206</td>\n",
       "      <td>2544</td>\n",
       "      <td>38.591470</td>\n",
       "      <td>...</td>\n",
       "      <td>1591</td>\n",
       "      <td>6438</td>\n",
       "      <td>792.250000</td>\n",
       "      <td>1983.427083</td>\n",
       "      <td>42.850629</td>\n",
       "      <td>2.464025</td>\n",
       "      <td>0.602880</td>\n",
       "      <td>1.598994</td>\n",
       "      <td>1.0</td>\n",
       "      <td>1.0</td>\n",
       "    </tr>\n",
       "    <tr>\n",
       "      <th>2</th>\n",
       "      <td>10165489824</td>\n",
       "      <td>4.40</td>\n",
       "      <td>0.0</td>\n",
       "      <td>0</td>\n",
       "      <td>0.000000</td>\n",
       "      <td>0</td>\n",
       "      <td>0.000000</td>\n",
       "      <td>0.000000</td>\n",
       "      <td>4</td>\n",
       "      <td>8885.894209</td>\n",
       "      <td>...</td>\n",
       "      <td>4</td>\n",
       "      <td>2534</td>\n",
       "      <td>817.500000</td>\n",
       "      <td>2066.125000</td>\n",
       "      <td>41.625000</td>\n",
       "      <td>2.475000</td>\n",
       "      <td>0.001516</td>\n",
       "      <td>1.000000</td>\n",
       "      <td>3.0</td>\n",
       "      <td>1.0</td>\n",
       "    </tr>\n",
       "    <tr>\n",
       "      <th>3</th>\n",
       "      <td>10187291046</td>\n",
       "      <td>3.29</td>\n",
       "      <td>0.0</td>\n",
       "      <td>291</td>\n",
       "      <td>0.058022</td>\n",
       "      <td>1</td>\n",
       "      <td>1.003436</td>\n",
       "      <td>0.003436</td>\n",
       "      <td>292</td>\n",
       "      <td>115.995570</td>\n",
       "      <td>...</td>\n",
       "      <td>273</td>\n",
       "      <td>5067</td>\n",
       "      <td>796.547945</td>\n",
       "      <td>1961.171233</td>\n",
       "      <td>43.125000</td>\n",
       "      <td>2.449418</td>\n",
       "      <td>0.103448</td>\n",
       "      <td>1.069597</td>\n",
       "      <td>3.0</td>\n",
       "      <td>1.0</td>\n",
       "    </tr>\n",
       "    <tr>\n",
       "      <th>4</th>\n",
       "      <td>10192359162</td>\n",
       "      <td>6.33</td>\n",
       "      <td>0.0</td>\n",
       "      <td>321</td>\n",
       "      <td>0.036126</td>\n",
       "      <td>2</td>\n",
       "      <td>1.006231</td>\n",
       "      <td>0.006231</td>\n",
       "      <td>323</td>\n",
       "      <td>460.347109</td>\n",
       "      <td>...</td>\n",
       "      <td>303</td>\n",
       "      <td>2062</td>\n",
       "      <td>808.877709</td>\n",
       "      <td>2024.267802</td>\n",
       "      <td>43.294118</td>\n",
       "      <td>2.445480</td>\n",
       "      <td>0.114816</td>\n",
       "      <td>1.066007</td>\n",
       "      <td>0.0</td>\n",
       "      <td>0.0</td>\n",
       "    </tr>\n",
       "  </tbody>\n",
       "</table>\n",
       "<p>5 rows × 26 columns</p>\n",
       "</div>"
      ],
      "text/plain": [
       "   merchant_abn  take_rate  average_merchant_fraud_probability  \\\n",
       "0   10023283211       0.18                                 0.0   \n",
       "1   10142254217       4.22                                 0.0   \n",
       "2   10165489824       4.40                                 0.0   \n",
       "3   10187291046       3.29                                 0.0   \n",
       "4   10192359162       6.33                                 0.0   \n",
       "\n",
       "   number_of_unique_consumers  average_consumer_fraud_probability  \\\n",
       "0                        2525                            0.095502   \n",
       "1                        2389                            0.064356   \n",
       "2                           0                            0.000000   \n",
       "3                         291                            0.058022   \n",
       "4                         321                            0.036126   \n",
       "\n",
       "   number_of_repeat_consumers  average_repeat_transactions_per_consumer  \\\n",
       "0                         174                                  1.071683   \n",
       "1                         151                                  1.064881   \n",
       "2                           0                                  0.000000   \n",
       "3                           1                                  1.003436   \n",
       "4                           2                                  1.006231   \n",
       "\n",
       "   consumer_retainability  number_of_orders  average_cost_of_order  ...  \\\n",
       "0                0.068911              2706             215.797947  ...   \n",
       "1                0.063206              2544              38.591470  ...   \n",
       "2                0.000000                 4            8885.894209  ...   \n",
       "3                0.003436               292             115.995570  ...   \n",
       "4                0.006231               323             460.347109  ...   \n",
       "\n",
       "   number_of_postcodes  most_popular_postcode  \\\n",
       "0                 1628                   3275   \n",
       "1                 1591                   6438   \n",
       "2                    4                   2534   \n",
       "3                  273                   5067   \n",
       "4                  303                   2062   \n",
       "\n",
       "   avg_total_weekly_personal_income  avg_total_weekly_fam_income  \\\n",
       "0                        786.702328                  1971.123799   \n",
       "1                        792.250000                  1983.427083   \n",
       "2                        817.500000                  2066.125000   \n",
       "3                        796.547945                  1961.171233   \n",
       "4                        808.877709                  2024.267802   \n",
       "\n",
       "   avg_median_age  avg_household_size  postcode_reach  \\\n",
       "0       43.031966            2.456914        0.616900   \n",
       "1       42.850629            2.464025        0.602880   \n",
       "2       41.625000            2.475000        0.001516   \n",
       "3       43.125000            2.449418        0.103448   \n",
       "4       43.294118            2.445480        0.114816   \n",
       "\n",
       "   avg_num_of_consumers_per_postcode  segment_indexed  revenue_level_indexed  \n",
       "0                           1.662162              2.0                    4.0  \n",
       "1                           1.598994              1.0                    1.0  \n",
       "2                           1.000000              3.0                    1.0  \n",
       "3                           1.069597              3.0                    1.0  \n",
       "4                           1.066007              0.0                    0.0  \n",
       "\n",
       "[5 rows x 26 columns]"
      ]
     },
     "execution_count": 277,
     "metadata": {},
     "output_type": "execute_result"
    }
   ],
   "source": [
    "future_modelling_df.head()"
   ]
  },
  {
   "cell_type": "code",
   "execution_count": null,
   "metadata": {},
   "outputs": [],
   "source": [
    "future_features_unique_customers = future_modelling_df.drop(columns = [\"merchant_abn\",target_variable])"
   ]
  },
  {
   "cell_type": "code",
   "execution_count": null,
   "metadata": {},
   "outputs": [
    {
     "data": {
      "text/plain": [
       "Index(['take_rate', 'average_merchant_fraud_probability',\n",
       "       'average_consumer_fraud_probability', 'number_of_repeat_consumers',\n",
       "       'average_repeat_transactions_per_consumer', 'consumer_retainability',\n",
       "       'number_of_orders', 'average_cost_of_order',\n",
       "       'average_spend_per_consumer', 'average_monthly_diff_consumers',\n",
       "       'consumer_diff_over_period', 'average_growth',\n",
       "       'merchant_revenue_rounded', 'transcation_period_months',\n",
       "       'number_of_postcodes', 'most_popular_postcode',\n",
       "       'avg_total_weekly_personal_income', 'avg_total_weekly_fam_income',\n",
       "       'avg_median_age', 'avg_household_size', 'postcode_reach',\n",
       "       'avg_num_of_consumers_per_postcode', 'segment_indexed',\n",
       "       'revenue_level_indexed'],\n",
       "      dtype='object')"
      ]
     },
     "execution_count": 286,
     "metadata": {},
     "output_type": "execute_result"
    }
   ],
   "source": [
    "future_features_unique_customers.columns"
   ]
  },
  {
   "cell_type": "code",
   "execution_count": null,
   "metadata": {},
   "outputs": [],
   "source": [
    "predicted_num_of_unique_customers= num_of_unique_customers_model.predict(future_features_unique_customers[selected_features])"
   ]
  },
  {
   "cell_type": "code",
   "execution_count": null,
   "metadata": {},
   "outputs": [],
   "source": [
    "results = future_modelling_df.copy()\n",
    "results[\"predicted_num_of_unique_customers\"] = predicted_num_of_unique_customers"
   ]
  },
  {
   "cell_type": "code",
   "execution_count": null,
   "metadata": {},
   "outputs": [
    {
     "data": {
      "text/html": [
       "<div>\n",
       "<style scoped>\n",
       "    .dataframe tbody tr th:only-of-type {\n",
       "        vertical-align: middle;\n",
       "    }\n",
       "\n",
       "    .dataframe tbody tr th {\n",
       "        vertical-align: top;\n",
       "    }\n",
       "\n",
       "    .dataframe thead th {\n",
       "        text-align: right;\n",
       "    }\n",
       "</style>\n",
       "<table border=\"1\" class=\"dataframe\">\n",
       "  <thead>\n",
       "    <tr style=\"text-align: right;\">\n",
       "      <th></th>\n",
       "      <th>merchant_abn</th>\n",
       "      <th>take_rate</th>\n",
       "      <th>average_merchant_fraud_probability</th>\n",
       "      <th>number_of_unique_consumers</th>\n",
       "      <th>average_consumer_fraud_probability</th>\n",
       "      <th>number_of_repeat_consumers</th>\n",
       "      <th>average_repeat_transactions_per_consumer</th>\n",
       "      <th>consumer_retainability</th>\n",
       "      <th>number_of_orders</th>\n",
       "      <th>average_cost_of_order</th>\n",
       "      <th>...</th>\n",
       "      <th>most_popular_postcode</th>\n",
       "      <th>avg_total_weekly_personal_income</th>\n",
       "      <th>avg_total_weekly_fam_income</th>\n",
       "      <th>avg_median_age</th>\n",
       "      <th>avg_household_size</th>\n",
       "      <th>postcode_reach</th>\n",
       "      <th>avg_num_of_consumers_per_postcode</th>\n",
       "      <th>segment_indexed</th>\n",
       "      <th>revenue_level_indexed</th>\n",
       "      <th>predicted_num_of_unique_customers</th>\n",
       "    </tr>\n",
       "  </thead>\n",
       "  <tbody>\n",
       "    <tr>\n",
       "      <th>46</th>\n",
       "      <td>10023283211</td>\n",
       "      <td>0.18</td>\n",
       "      <td>0.0</td>\n",
       "      <td>2525</td>\n",
       "      <td>0.095502</td>\n",
       "      <td>174</td>\n",
       "      <td>1.071683</td>\n",
       "      <td>0.068911</td>\n",
       "      <td>2706</td>\n",
       "      <td>215.797947</td>\n",
       "      <td>...</td>\n",
       "      <td>1628</td>\n",
       "      <td>786.702328</td>\n",
       "      <td>1971.123799</td>\n",
       "      <td>43.031966</td>\n",
       "      <td>2.456914</td>\n",
       "      <td>0.616900</td>\n",
       "      <td>1.662162</td>\n",
       "      <td>2.0</td>\n",
       "      <td>4.0</td>\n",
       "      <td>2733.324536</td>\n",
       "    </tr>\n",
       "    <tr>\n",
       "      <th>761</th>\n",
       "      <td>10142254217</td>\n",
       "      <td>4.22</td>\n",
       "      <td>0.0</td>\n",
       "      <td>2389</td>\n",
       "      <td>0.064356</td>\n",
       "      <td>151</td>\n",
       "      <td>1.064881</td>\n",
       "      <td>0.063206</td>\n",
       "      <td>2544</td>\n",
       "      <td>38.591470</td>\n",
       "      <td>...</td>\n",
       "      <td>1591</td>\n",
       "      <td>792.250000</td>\n",
       "      <td>1983.427083</td>\n",
       "      <td>42.850629</td>\n",
       "      <td>2.464025</td>\n",
       "      <td>0.602880</td>\n",
       "      <td>1.598994</td>\n",
       "      <td>1.0</td>\n",
       "      <td>1.0</td>\n",
       "      <td>2499.825334</td>\n",
       "    </tr>\n",
       "    <tr>\n",
       "      <th>2500</th>\n",
       "      <td>10187291046</td>\n",
       "      <td>3.29</td>\n",
       "      <td>0.0</td>\n",
       "      <td>291</td>\n",
       "      <td>0.058022</td>\n",
       "      <td>1</td>\n",
       "      <td>1.003436</td>\n",
       "      <td>0.003436</td>\n",
       "      <td>292</td>\n",
       "      <td>115.995570</td>\n",
       "      <td>...</td>\n",
       "      <td>273</td>\n",
       "      <td>796.547945</td>\n",
       "      <td>1961.171233</td>\n",
       "      <td>43.125000</td>\n",
       "      <td>2.449418</td>\n",
       "      <td>0.103448</td>\n",
       "      <td>1.069597</td>\n",
       "      <td>4.0</td>\n",
       "      <td>1.0</td>\n",
       "      <td>16.669832</td>\n",
       "    </tr>\n",
       "    <tr>\n",
       "      <th>2165</th>\n",
       "      <td>10192359162</td>\n",
       "      <td>6.33</td>\n",
       "      <td>0.0</td>\n",
       "      <td>321</td>\n",
       "      <td>0.036126</td>\n",
       "      <td>2</td>\n",
       "      <td>1.006231</td>\n",
       "      <td>0.006231</td>\n",
       "      <td>323</td>\n",
       "      <td>460.347109</td>\n",
       "      <td>...</td>\n",
       "      <td>303</td>\n",
       "      <td>808.877709</td>\n",
       "      <td>2024.267802</td>\n",
       "      <td>43.294118</td>\n",
       "      <td>2.445480</td>\n",
       "      <td>0.114816</td>\n",
       "      <td>1.066007</td>\n",
       "      <td>0.0</td>\n",
       "      <td>0.0</td>\n",
       "      <td>129.359745</td>\n",
       "    </tr>\n",
       "    <tr>\n",
       "      <th>783</th>\n",
       "      <td>10206519221</td>\n",
       "      <td>6.34</td>\n",
       "      <td>0.0</td>\n",
       "      <td>6652</td>\n",
       "      <td>0.058119</td>\n",
       "      <td>1302</td>\n",
       "      <td>1.222489</td>\n",
       "      <td>0.195731</td>\n",
       "      <td>8132</td>\n",
       "      <td>37.385626</td>\n",
       "      <td>...</td>\n",
       "      <td>2438</td>\n",
       "      <td>787.455116</td>\n",
       "      <td>1969.985735</td>\n",
       "      <td>43.111842</td>\n",
       "      <td>2.453609</td>\n",
       "      <td>0.923835</td>\n",
       "      <td>3.335521</td>\n",
       "      <td>0.0</td>\n",
       "      <td>0.0</td>\n",
       "      <td>6933.080489</td>\n",
       "    </tr>\n",
       "  </tbody>\n",
       "</table>\n",
       "<p>5 rows × 26 columns</p>\n",
       "</div>"
      ],
      "text/plain": [
       "      merchant_abn  take_rate  average_merchant_fraud_probability  \\\n",
       "46     10023283211       0.18                                 0.0   \n",
       "761    10142254217       4.22                                 0.0   \n",
       "2500   10187291046       3.29                                 0.0   \n",
       "2165   10192359162       6.33                                 0.0   \n",
       "783    10206519221       6.34                                 0.0   \n",
       "\n",
       "      number_of_unique_consumers  average_consumer_fraud_probability  \\\n",
       "46                          2525                            0.095502   \n",
       "761                         2389                            0.064356   \n",
       "2500                         291                            0.058022   \n",
       "2165                         321                            0.036126   \n",
       "783                         6652                            0.058119   \n",
       "\n",
       "      number_of_repeat_consumers  average_repeat_transactions_per_consumer  \\\n",
       "46                           174                                  1.071683   \n",
       "761                          151                                  1.064881   \n",
       "2500                           1                                  1.003436   \n",
       "2165                           2                                  1.006231   \n",
       "783                         1302                                  1.222489   \n",
       "\n",
       "      consumer_retainability  number_of_orders  average_cost_of_order  ...  \\\n",
       "46                  0.068911              2706             215.797947  ...   \n",
       "761                 0.063206              2544              38.591470  ...   \n",
       "2500                0.003436               292             115.995570  ...   \n",
       "2165                0.006231               323             460.347109  ...   \n",
       "783                 0.195731              8132              37.385626  ...   \n",
       "\n",
       "      number_of_postcodes  avg_total_weekly_personal_income  \\\n",
       "46                   1628                        786.702328   \n",
       "761                  1591                        792.250000   \n",
       "2500                  273                        796.547945   \n",
       "2165                  303                        808.877709   \n",
       "783                  2438                        787.455116   \n",
       "\n",
       "      avg_total_weekly_fam_income  avg_median_age  avg_household_size  \\\n",
       "46                    1971.123799       43.031966            2.456914   \n",
       "761                   1983.427083       42.850629            2.464025   \n",
       "2500                  1961.171233       43.125000            2.449418   \n",
       "2165                  2024.267802       43.294118            2.445480   \n",
       "783                   1969.985735       43.111842            2.453609   \n",
       "\n",
       "      postcode_reach  avg_num_of_consumers_per_postcode  segment_indexed  \\\n",
       "46          0.616900                           1.662162              2.0   \n",
       "761         0.602880                           1.598994              1.0   \n",
       "2500        0.103448                           1.069597              4.0   \n",
       "2165        0.114816                           1.066007              0.0   \n",
       "783         0.923835                           3.335521              0.0   \n",
       "\n",
       "      revenue_level_indexed  predicted_num_of_unique_customers  \n",
       "46                      4.0                        2733.324536  \n",
       "761                     1.0                        2499.825334  \n",
       "2500                    1.0                          16.669832  \n",
       "2165                    0.0                         129.359745  \n",
       "783                     0.0                        6933.080489  \n",
       "\n",
       "[5 rows x 26 columns]"
      ]
     },
     "execution_count": 37,
     "metadata": {},
     "output_type": "execute_result"
    }
   ],
   "source": [
    "results.head()"
   ]
  },
  {
   "cell_type": "code",
   "execution_count": null,
   "metadata": {},
   "outputs": [],
   "source": [
    "results_df = spark.createDataFrame(results)"
   ]
  },
  {
   "cell_type": "code",
   "execution_count": null,
   "metadata": {},
   "outputs": [],
   "source": [
    "results_df = results_df.select(f.col(\"merchant_abn\"),f.col(\"predicted_num_of_unique_customers\"))"
   ]
  },
  {
   "cell_type": "code",
   "execution_count": null,
   "metadata": {},
   "outputs": [],
   "source": [
    "joined = joined.join(results_df, on = \"merchant_abn\", how = \"inner\")"
   ]
  },
  {
   "cell_type": "code",
   "execution_count": null,
   "metadata": {},
   "outputs": [],
   "source": [
    "joined = joined.withColumn(\"predicted_num_of_unique_customers\", f.when(joined.predicted_num_of_unique_customers < 0, 0).otherwise(f.round(joined.predicted_num_of_unique_customers)))"
   ]
  },
  {
   "cell_type": "code",
   "execution_count": null,
   "metadata": {},
   "outputs": [
    {
     "name": "stderr",
     "output_type": "stream",
     "text": [
      "[Stage 12:>                                                         (0 + 8) / 8]\r"
     ]
    },
    {
     "name": "stdout",
     "output_type": "stream",
     "text": [
      "+------------+--------------------+-------------+---------+----------------------------------+--------------------------+----------------------------------+--------------------------+----------------------------------------+----------------------+----------------+---------------------+--------------------------+------------------------------+-------------------------+-------------------+------------------------+--------------------------+-------------------------+-------------------------+-------------------+--------------------------------+---------------------------+------------------+------------------+--------------------+---------------------------------+--------------------+---------------------------------+\n",
      "|merchant_abn|                name|revenue_level|take_rate|average_merchant_fraud_probability|number_of_unique_consumers|average_consumer_fraud_probability|number_of_repeat_consumers|average_repeat_transactions_per_consumer|consumer_retainability|number_of_orders|average_cost_of_order|average_spend_per_consumer|average_monthly_diff_consumers|consumer_diff_over_period|     average_growth|merchant_revenue_rounded|first_recorded_transaction|last_recorded_transaction|transcation_period_months|number_of_postcodes|avg_total_weekly_personal_income|avg_total_weekly_fam_income|    avg_median_age|avg_household_size|      postcode_reach|avg_num_of_consumers_per_postcode|             segment|predicted_num_of_unique_customers|\n",
      "+------------+--------------------+-------------+---------+----------------------------------+--------------------------+----------------------------------+--------------------------+----------------------------------------+----------------------+----------------+---------------------+--------------------------+------------------------------+-------------------------+-------------------+------------------------+--------------------------+-------------------------+-------------------------+-------------------+--------------------------------+---------------------------+------------------+------------------+--------------------+---------------------------------+--------------------+---------------------------------+\n",
      "| 52379134298|       Eu Foundation|            a|     6.53|                               0.0|                        19|                               0.0|                         1|                      1.0526315789473684|   0.05263157894736842|              20|    521.4358874840834|         548.8798815621931|                           0.0|                        0|0.39166666666666666|                10428.72|                2021-04-21|               2022-10-04|               17.4516129|                 19|                          801.45|                     1973.7|            42.025|             2.419|0.007199696854869...|               1.0526315789473684|tech_and_electronics|                           1898.0|\n",
      "| 66482985683|Nonummy Ac Founda...|            b|      4.1|                               0.0|                        28|                 5.823842887390514|                         1|                      1.0357142857142858|   0.03571428571428571|              29|   3897.2041889325938|         4036.390052823044|                           0.0|                        0|0.34615384615384615|               113018.92|                2021-04-08|               2022-10-10|              18.06451613|                 28|               742.8965517241379|         1917.0689655172414|43.327586206896555|2.5124137931034483|0.010610079575596816|               1.0357142857142858|garden_and_furnis...|                           1232.0|\n",
      "| 29276411530|Arcu Vel Corporation|            b|     3.95|                               0.0|                        30|                               0.0|                         1|                      1.0333333333333334|   0.03333333333333333|              31|    748.9263794967023|         773.8905921465926|                           0.0|                        0| 0.6010416666666666|                23216.72|                2021-03-30|               2022-10-09|              18.32258065|                 29|               869.4516129032259|         2227.8709677419356| 40.24193548387097| 2.520967741935484| 0.01098901098901099|               1.0689655172413792|  retail_and_novelty|                           1138.0|\n",
      "| 51253553943|    Aliquam Erat LLP|            a|     5.74|                               0.0|                        38|                               0.0|                         1|                      1.0263157894736843|   0.02631578947368421|              39|    675.1152115236237|         692.8814013005609|                           0.0|                        0| 0.4729166666666667|                26329.49|                2021-03-08|               2022-10-03|              18.83870968|                 38|               796.5897435897435|         2022.2435897435898| 44.37179487179487|2.4497435897435897|0.014399393709738537|               1.0263157894736843|garden_and_furnis...|                            863.0|\n",
      "| 33587480673|Egestas Blandit N...|            b|     3.26|                               0.0|                        39|                2.6418418400779164|                         1|                      1.0256410256410255|   0.02564102564102564|              40|   2557.5156267774023|         2623.092950540925|                           0.0|                        0|  0.538888888888889|               102300.63|                2021-03-15|               2022-10-17|              19.06451613|                 39|                        809.5625|                   2005.325|           42.5625|2.4167499999999995|0.014778325123152709|               1.0256410256410255|garden_and_furnis...|                            837.0|\n",
      "| 95475413965|Nisl Quisque Frin...|            a|     6.92|                               0.0|                        41|                0.5409079185332317|                         1|                       1.024390243902439|  0.024390243902439025|              42|    1166.317124084986|        1194.7638832090106|          -0.11764705882352941|                       -2|0.05392156862745097|                48985.32|                2021-03-18|               2022-10-26|              19.25806452|                 41|               765.9285714285714|          1916.297619047619|43.154761904761905| 2.462142857142857|0.015536187949981054|                1.024390243902439|  retail_and_novelty|                            789.0|\n",
      "| 77702973864|      Non Consulting|            b|     4.54|                               0.0|                        41|                               0.0|                         1|                       1.024390243902439|  0.024390243902439025|              42|    636.4626409897543|         651.9861200382849|          -0.06666666666666667|                       -1|0.10444444444444446|                26731.43|                2021-03-22|               2022-10-10|              18.61290323|                 40|               805.2380952380952|         1956.9404761904761|43.916666666666664| 2.463571428571429|0.015157256536566882|                             1.05|  retail_and_novelty|                            788.0|\n",
      "| 66943181420|Nisl Elementum Fo...|            a|     6.08|                               0.0|                        42|               0.44257416979978326|                         1|                      1.0238095238095237|  0.023809523809523808|              43|    320.3019688763492|        327.92820623054797|           0.06666666666666667|                        1| 0.6599999999999999|                13772.98|                2021-03-23|               2022-10-21|              18.93548387|                 42|               762.9186046511628|         1862.2558139534883|42.116279069767444|2.4411627906976743|0.015915119363395226|               1.0238095238095237|tech_and_electronics|                            765.0|\n",
      "| 66522814831|Congue Turpis Lim...|            b|     4.34|                               0.0|                        44|                1.2348065243894917|                         1|                      1.0227272727272727|  0.022727272727272728|              45|   1872.5254927193105|        1915.0828902811131|           0.05555555555555555|                        1| 0.6037037037037036|                84263.65|                2021-03-09|               2022-10-18|              19.29032258|                 43|               771.0888888888888|         1966.8666666666666| 41.82222222222222|2.5737777777777775|  0.0162940507768094|               1.0465116279069768|antiques_and_jewe...|                            722.0|\n",
      "| 49368160590|        Nulla In LLP|            b|     4.74|                               0.0|                        46|               0.29266168411383214|                         1|                      1.0217391304347827|  0.021739130434782608|              47|    595.6347659623406|         608.5833478310872|           0.05263157894736842|                        1|0.27280701754385966|                27994.83|                2021-03-16|               2022-10-07|              18.70967742|                 46|               783.1702127659574|         2002.0744680851064|42.265957446808514|2.4425531914893615|0.017430845017051912|               1.0217391304347827|tech_and_electronics|                            684.0|\n",
      "| 97884414539|      Ut Corporation|            a|     6.82|                1.7607686218699163|                        50|                11.766535335021551|                         1|                                    1.02|                  0.02|              51|   11884.299132397544|        12121.985115045492|           0.16666666666666666|                        3| 0.7064814814814815|               606099.26|                2021-03-10|               2022-10-05|              18.83870968|                 50|               775.5784313725491|         1993.4019607843138| 43.36274509803921| 2.424313725490196|0.018946570670708603|                             1.02|antiques_and_jewe...|                            615.0|\n",
      "| 78916025936|Urna Nec Corporation|            e|     0.37|                               0.0|                        51|                               0.0|                         1|                      1.0196078431372548|    0.0196078431372549|              52|     332.978991066986|        339.50799089182885|                           0.0|                        0|0.40277777777777785|                17314.91|                2021-04-13|               2022-09-10|              16.90322581|                 51|               809.2788461538462|         2004.5961538461538| 41.96153846153846| 2.526346153846154|0.019325502084122773|               1.0196078431372548|garden_and_furnis...|                            602.0|\n",
      "| 81906511933|Sodales Purus In Ltd|            a|     6.86|                               0.0|                        51|                               0.0|                         1|                      1.0196078431372548|    0.0196078431372549|              52|    562.7426678165392|         573.7768377737262|            0.1111111111111111|                        2| 0.6787037037037037|                29262.62|                2021-03-02|               2022-10-19|               19.5483871|                 51|               786.1057692307693|         2037.7211538461538| 42.14423076923077| 2.413846153846154|0.019325502084122773|               1.0196078431372548|  retail_and_novelty|                            600.0|\n",
      "| 87453687431|      Non Sapien Ltd|            b|     3.26|                               0.0|                        52|               0.18097126065060976|                         1|                      1.0192307692307692|  0.019230769230769232|              53|    746.8810918014307|          761.244189720689|           0.11764705882352941|                        2| 0.5212885154061624|                 39584.7|                2021-04-14|               2022-10-25|              18.35483871|                 52|                811.688679245283|         1944.0188679245282|42.679245283018865|2.4920754716981133|0.019704433497536946|               1.0192307692307692|garden_and_furnis...|                            586.0|\n",
      "| 63710240186|Mauris Integer Se...|            c|     3.09|                               0.0|                        53|               0.17437818568303515|                         1|                      1.0188679245283019|  0.018867924528301886|              54|   386.49235724351314|         393.7846658707492|          -0.10526315789473684|                       -2| 0.2201754385964912|                20870.59|                2021-03-30|               2022-10-17|              18.58064516|                 51|               812.3703703703703|         1969.0833333333333| 42.56481481481482|2.4499999999999997|0.019325502084122773|               1.0588235294117647|specialized_services|                            573.0|\n",
      "| 13986396343|       Nulla In Inc.|            a|     6.76|                               0.0|                        55|                               0.0|                         1|                       1.018181818181818|   0.01818181818181818|              56|    394.7437664820504|         401.9209258726331|          -0.16666666666666666|                       -3|0.19537037037037036|                22105.65|                2021-03-25|               2022-10-15|              18.67741935|                 55|               746.9553571428571|          1810.544642857143|44.026785714285715| 2.409642857142857|0.020841227737779463|                1.018181818181818|tech_and_electronics|                            548.0|\n",
      "| 16143938351|      Enim Institute|            a|     5.63|                               0.0|                        57|                2.9701451550863895|                         1|                      1.0175438596491229|  0.017543859649122806|              58|   3653.6198384619533|         3717.718432119181|            0.1111111111111111|                        2|0.39814814814814814|               211909.95|                2021-03-19|               2022-10-08|              18.64516129|                 56|               780.0775862068965|         1896.2844827586207|  43.6551724137931| 2.413965517241379|0.021220159151193633|               1.0357142857142858|tech_and_electronics|                            520.0|\n",
      "| 63491526748|   Neque Non Company|            a|     6.74|                               0.0|                        59|                               0.0|                         1|                      1.0169491525423728|   0.01694915254237288|              60|   185.09605260169283|           188.23327383223|                           0.0|                        0|0.13645833333333335|                11105.76|                2021-03-13|               2022-10-01|              18.61290323|                 56|               797.2333333333333|         2039.9833333333333|              43.2|2.4789999999999996|0.021220159151193633|               1.0714285714285714|tech_and_electronics|                            498.0|\n",
      "| 50446282783|Volutpat Ornare C...|            a|     6.74|                               0.0|                        60|                               0.0|                         1|                      1.0166666666666666|  0.016666666666666666|              61|   160.96237528794234|        163.64508154274137|           0.05555555555555555|                        1|0.40119047619047615|                  9818.7|                2021-03-19|               2022-10-25|              19.19354839|                 60|               824.9262295081967|          2007.295081967213| 41.83606557377049| 2.487213114754098|0.022735884804850323|               1.0166666666666666|garden_and_furnis...|                            487.0|\n",
      "| 97598804219|Dolor Egestas Rho...|            c|     1.89|                               0.0|                        62|                1.0734564490670437|                         1|                      1.0161290322580645|  0.016129032258064516|              63|   1600.5829413362605|        1626.3987952287805|           0.29411764705882354|                        5| 0.5791316526610645|               100836.73|                2021-03-06|               2022-10-11|              19.16129032|                 59|                798.436507936508|         2039.8650793650793| 42.07936507936508|2.5496825396825398| 0.02235695339143615|               1.0677966101694916|antiques_and_jewe...|                            463.0|\n",
      "+------------+--------------------+-------------+---------+----------------------------------+--------------------------+----------------------------------+--------------------------+----------------------------------------+----------------------+----------------+---------------------+--------------------------+------------------------------+-------------------------+-------------------+------------------------+--------------------------+-------------------------+-------------------------+-------------------+--------------------------------+---------------------------+------------------+------------------+--------------------+---------------------------------+--------------------+---------------------------------+\n",
      "only showing top 20 rows\n",
      "\n"
     ]
    },
    {
     "name": "stderr",
     "output_type": "stream",
     "text": [
      "                                                                                \r"
     ]
    }
   ],
   "source": [
    "joined.orderBy(f.col(\"number_of_unique_consumers\").asc()).show()"
   ]
  },
  {
   "cell_type": "code",
   "execution_count": null,
   "metadata": {},
   "outputs": [],
   "source": [
    "spark.stop()"
   ]
  }
 ],
 "metadata": {
  "kernelspec": {
   "display_name": "Python 3",
   "language": "python",
   "name": "python3"
  },
  "language_info": {
   "codemirror_mode": {
    "name": "ipython",
    "version": 3
   },
   "file_extension": ".py",
   "mimetype": "text/x-python",
   "name": "python",
   "nbconvert_exporter": "python",
   "pygments_lexer": "ipython3",
   "version": "3.9.5"
  },
  "orig_nbformat": 4
 },
 "nbformat": 4,
 "nbformat_minor": 2
}
