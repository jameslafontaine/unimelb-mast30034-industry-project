{
 "cells": [
  {
   "cell_type": "markdown",
   "metadata": {},
   "source": [
    "# Feature Engineering with Modelling\n",
    "## Author: Dulan Wijeratne 1181873"
   ]
  },
  {
   "cell_type": "markdown",
   "metadata": {},
   "source": [
    "In this notebook we will make new features using modelling techniques."
   ]
  },
  {
   "cell_type": "markdown",
   "metadata": {},
   "source": [
    "First we will start by creating a Spark session and reading in the joined aggregated data."
   ]
  },
  {
   "cell_type": "code",
   "execution_count": 1,
   "metadata": {},
   "outputs": [],
   "source": [
    "from pyspark.sql import SparkSession, functions as f"
   ]
  },
  {
   "cell_type": "code",
   "execution_count": 2,
   "metadata": {},
   "outputs": [
    {
     "name": "stderr",
     "output_type": "stream",
     "text": [
      "your 131072x1 screen size is bogus. expect trouble\n"
     ]
    },
    {
     "name": "stderr",
     "output_type": "stream",
     "text": [
      "23/09/29 22:54:36 WARN Utils: Your hostname, LAPTOP-RELH58H1 resolves to a loopback address: 127.0.1.1; using 172.19.22.4 instead (on interface eth0)\n",
      "23/09/29 22:54:36 WARN Utils: Set SPARK_LOCAL_IP if you need to bind to another address\n",
      "Setting default log level to \"WARN\".\n",
      "To adjust logging level use sc.setLogLevel(newLevel). For SparkR, use setLogLevel(newLevel).\n",
      "23/09/29 22:54:39 WARN NativeCodeLoader: Unable to load native-hadoop library for your platform... using builtin-java classes where applicable\n",
      "23/09/29 22:54:42 WARN Utils: Service 'SparkUI' could not bind on port 4040. Attempting port 4041.\n"
     ]
    }
   ],
   "source": [
    "spark = (\n",
    "    SparkSession.builder.appName(\"feature_engineering\")\n",
    "    .config(\"spark.sql.repl.eagerEval.enabled\", True) \n",
    "    .config(\"spark.sql.parquet.cacheMetadata\", \"true\")\n",
    "    .config(\"spark.sql.session.timeZone\", \"Etc/UTC\")\n",
    "    .config(\"spark.sql.session.timeZone\", \"Etc/UTC\")\n",
    "    .config('spark.driver.memory', '3g')   \n",
    "    .config('spark.executor.memory', '4g')  \n",
    "    .config('spark.executor.instances', '2')  \n",
    "    .config('spark.executor.cores', '2')\n",
    "    .getOrCreate()\n",
    ")"
   ]
  },
  {
   "cell_type": "code",
   "execution_count": 3,
   "metadata": {},
   "outputs": [
    {
     "name": "stderr",
     "output_type": "stream",
     "text": [
      "                                                                                \r"
     ]
    }
   ],
   "source": [
    "joined = spark.read.parquet(\"../../../data/insights/joined.parquet\")"
   ]
  },
  {
   "cell_type": "code",
   "execution_count": 4,
   "metadata": {},
   "outputs": [
    {
     "name": "stderr",
     "output_type": "stream",
     "text": [
      "23/09/29 22:54:59 WARN package: Truncated the string representation of a plan since it was too large. This behavior can be adjusted by setting 'spark.sql.debug.maxToStringFields'.\n",
      "                                                                                \r"
     ]
    },
    {
     "name": "stdout",
     "output_type": "stream",
     "text": [
      "+------------+--------------------+-------------+---------+----------------------------------+--------------------------+----------------------------------+--------------------------+----------------------------------------+----------------------+----------------+---------------------+--------------------------+------------------------------+-------------------------+------------------------+------------------------+--------------------------+-------------------------+-------------------------+-------------------+--------------------------------+---------------------------+------------------+------------------+--------------------+---------------------------------+--------------------+\n",
      "|merchant_abn|                name|revenue_level|take_rate|average_merchant_fraud_probability|number_of_unique_consumers|average_consumer_fraud_probability|number_of_repeat_consumers|average_repeat_transactions_per_consumer|consumer_retainability|number_of_orders|average_cost_of_order|average_spend_per_consumer|average_monthly_diff_consumers|consumer_diff_over_period|average_growth_consumers|merchant_revenue_rounded|first_recorded_transaction|last_recorded_transaction|transcation_period_months|number_of_postcodes|avg_total_weekly_personal_income|avg_total_weekly_fam_income|    avg_median_age|avg_household_size|      postcode_reach|avg_num_of_consumers_per_postcode|             segment|\n",
      "+------------+--------------------+-------------+---------+----------------------------------+--------------------------+----------------------------------+--------------------------+----------------------------------------+----------------------+----------------+---------------------+--------------------------+------------------------------+-------------------------+------------------------+------------------------+--------------------------+-------------------------+-------------------------+-------------------+--------------------------------+---------------------------+------------------+------------------+--------------------+---------------------------------+--------------------+\n",
      "| 39150153670|Aliquam Eu Institute|            a|     6.99|                               0.0|                      null|                              null|                      null|                                    null|                  null|               1|             38089.94|                  38089.94|                          null|                     null|                    null|                38089.94|                2021-05-31|               2021-05-31|                      0.0|                  1|                           863.5|                     2021.5|              38.5|              2.45|3.789314134141720...|                              1.0|antiques_and_jewe...|\n",
      "| 42461534060|            Elit LLP|            b|     3.98|                               0.0|                      null|                              null|                      null|                                    null|                  null|               1|             22600.11|                  22600.11|                          null|                     null|                    null|                22600.11|                2022-02-03|               2022-02-03|                      0.0|                  1|                           740.0|                     1799.0|              41.5|               2.6|3.789314134141720...|                              1.0|antiques_and_jewe...|\n",
      "| 46537010521|Tempor Augue Ac C...|            c|     2.18|                               0.0|                      null|                              null|                      null|                                    null|                  null|               1|             25661.55|                  25661.55|                          null|                     null|                    null|                25661.55|                2022-10-05|               2022-10-05|                      0.0|                  1|                           931.0|                     1980.0|              39.0|               2.5|3.789314134141720...|                              1.0|antiques_and_jewe...|\n",
      "| 24526454463|   Penatibus Limited|            c|     2.95|                               0.0|                      null|                              null|                      null|                                    null|                  null|               3|    7027.026666666668|         7027.026666666668|                          null|                     null|                    null|                21081.08|                2022-03-27|               2022-03-04|              -0.74193548|                  3|                           672.0|         1647.3333333333333|47.833333333333336| 2.393333333333333|0.001136794240242...|                              1.0|antiques_and_jewe...|\n",
      "| 47047735645|Aenean Gravida In...|            c|     1.54|                               0.0|                      null|                              null|                      null|                                    null|                  null|               1|             40896.26|                  40896.26|                          null|                     null|                    null|                40896.26|                2022-04-24|               2022-04-24|                      0.0|                  1|                           652.0|                     2064.0|              27.0|               1.8|3.789314134141720...|                              1.0|antiques_and_jewe...|\n",
      "| 28311306642|Egestas Nunc Sed LLC|            b|     4.93|                               0.0|                      null|                              null|                      null|                                    null|                  null|               1|             21159.33|                  21159.33|                          null|                     null|                    null|                21159.33|                2022-08-31|               2022-08-31|                      0.0|                  1|                           791.5|                     2022.0|              41.5|               2.5|3.789314134141720...|                              1.0|antiques_and_jewe...|\n",
      "| 29068447069|       Phasellus LLP|            b|     3.28|                               0.0|                      null|                              null|                      null|                                    null|                  null|               1|             36950.79|                  36950.79|                          null|                     null|                    null|                36950.79|                2021-09-21|               2021-09-21|                      0.0|                  1|                           796.0|                     1855.0|              43.0|               2.3|3.789314134141720...|                              1.0|antiques_and_jewe...|\n",
      "| 24212300522|Consectetuer Indu...|            b|     4.04|                               0.0|                      null|                              null|                      null|                                    null|                  null|               1|             16065.15|                  16065.15|                          null|                     null|                    null|                16065.15|                2021-07-13|               2021-07-13|                      0.0|                  1|                           750.0|                     1919.5|              45.0|               2.4|3.789314134141720...|                              1.0|antiques_and_jewe...|\n",
      "| 10404542215|Consequat Foundation|            a|     6.93|                               0.0|                      null|                              null|                      null|                                    null|                  null|               1|             22773.98|                  22773.98|                          null|                     null|                    null|                22773.98|                2021-10-24|               2021-10-24|                      0.0|                  1|                           710.5|                     1600.5|              44.5|               2.3|3.789314134141720...|                              1.0|antiques_and_jewe...|\n",
      "| 51425051982|     Sem Corporation|            a|     5.71|                               0.0|                      null|                              null|                      null|                                    null|                  null|               1|              7677.63|                   7677.63|                          null|                     null|                    null|                 7677.63|                2022-06-26|               2022-06-26|                      0.0|                  1|                           471.0|                     1176.0|              55.0|               2.2|3.789314134141720...|                              1.0|antiques_and_jewe...|\n",
      "| 52524795452|Cras Convallis As...|            a|     5.89|                               0.0|                      null|                              null|                      null|                                    null|                  null|               1|             12864.45|                  12864.45|                          null|                     null|                    null|                12864.45|                2022-04-30|               2022-04-30|                      0.0|                  1|                           638.0|                     1758.0|              47.0|               2.3|3.789314134141720...|                              1.0|antiques_and_jewe...|\n",
      "| 62688594508|Lobortis Nisi Ass...|            d|     0.88|                               0.0|                      null|                              null|                      null|                                    null|                  null|               1|             21112.57|                  21112.57|                          null|                     null|                    null|                21112.57|                2021-03-20|               2021-03-20|                      0.0|                  1|                           638.0|                     1520.0|              26.0|               1.7|3.789314134141720...|                              1.0|antiques_and_jewe...|\n",
      "| 67264251405|Elit Dictum Eu Fo...|            a|      6.4|                           18.2109|                      null|                              null|                      null|                                    null|                  null|               1|             51876.64|                  51876.64|                          null|                     null|                    null|                51876.64|                2021-10-19|               2021-10-19|                      0.0|                  1|                           767.0|                     2162.0|              40.0|               2.8|3.789314134141720...|                              1.0|antiques_and_jewe...|\n",
      "| 93267734067|    Curae Foundation|            c|     2.57|                               0.0|                      null|                              null|                      null|                                    null|                  null|               1|             16394.52|                  16394.52|                          null|                     null|                    null|                16394.52|                2022-07-23|               2022-07-23|                      0.0|                  1|                           836.0|                     2304.0|              48.0|              2.53|3.789314134141720...|                              1.0|antiques_and_jewe...|\n",
      "| 31686734877|   Etiam Laoreet LLP|            c|     2.49|                               0.0|                       313|               0.12592397476340694|                         4|                       1.012779552715655|  0.012779552715654952|             317|   197.33182965299684|        199.85364217252396|           -0.5789473684210527|                      -11|     0.06880937920108736|                62554.19|                2021-03-29|               2022-10-06|              18.25806452|                297|               796.3470031545742|          1977.711356466877| 42.96214511041009|2.4413564668769716|  0.1125426297840091|               1.0673400673400673|specialized_services|\n",
      "| 26259500279|Aliquet Vel Indus...|            c|     1.51|                               0.0|                       137|                               0.0|                         1|                      1.0072992700729928|  0.007299270072992...|             138|    526.3766666666667|         530.2188321167883|           -0.5263157894736842|                      -10|      0.1212443988759778|                72639.98|                2021-03-29|               2022-10-17|              18.61290323|                136|               767.1884057971015|         1943.6920289855072| 43.55072463768116| 2.442246376811594|0.051534672224327394|               1.0147058823529411|  retail_and_novelty|\n",
      "| 84391677958|Tortor Nunc Found...|            b|     3.84|                               0.0|                      1173|              0.028420965058236273|                        29|                      1.0247229326513214|    0.0247229326513214|            1202|   51.896081530782034|         53.17910485933503|           -0.5263157894736842|                      -10|    0.013218418163825477|                62379.09|                2021-03-03|               2022-10-22|              19.61290323|                948|               784.0212146422629|         1965.2375207986688| 43.46838602329451| 2.445440931780366|  0.3592269799166351|               1.2679324894514767|tech_and_electronics|\n",
      "| 27657048362|Elementum Purus F...|            c|     2.61|                               0.0|                       402|               0.10958697788697788|                         5|                      1.0124378109452736|  0.012437810945273632|             407|    71.59633906633907|          72.4868407960199|          -0.47368421052631576|                       -9|     0.03698534324994927|                29139.71|                2021-03-21|               2022-10-01|              18.35483871|                375|               800.1572481572482|         2012.3906633906633| 42.87592137592138|2.4865110565110564| 0.14209928003031452|               1.0853333333333333|specialized_services|\n",
      "| 38672941140|Consequat Nec Mol...|            a|      6.4|                               0.0|                       478|                1.2168316872427982|                         8|                      1.0167364016736402|  0.016736401673640166|             486|   1685.5333127572019|        1713.7430753138074|          -0.47368421052631576|                       -9|     0.04279070334984716|               819169.19|                2021-03-11|               2022-10-09|              18.93548387|                444|               785.9104938271605|         1982.7397119341563| 43.45781893004115|2.4555349794238674| 0.16824554755589238|               1.0945945945945945|garden_and_furnis...|\n",
      "| 91178385997|Pede Nonummy Limited|            a|     6.57|                               0.0|                       410|              0.023214734299516912|                         4|                      1.0097560975609756|   0.00975609756097561|             414|     96.9849275362319|         97.93112195121952|          -0.47368421052631576|                       -9|     0.16559423444899055|                40151.76|                2021-03-05|               2022-10-26|              19.67741935|                374|               770.0350241545893|         1949.6497584541062|43.341787439613526|2.4684057971014495| 0.14172034861690033|                1.106951871657754|  retail_and_novelty|\n",
      "+------------+--------------------+-------------+---------+----------------------------------+--------------------------+----------------------------------+--------------------------+----------------------------------------+----------------------+----------------+---------------------+--------------------------+------------------------------+-------------------------+------------------------+------------------------+--------------------------+-------------------------+-------------------------+-------------------+--------------------------------+---------------------------+------------------+------------------+--------------------+---------------------------------+--------------------+\n",
      "only showing top 20 rows\n",
      "\n"
     ]
    }
   ],
   "source": [
    "joined.orderBy(f.col(\"consumer_diff_over_period\").asc()).show()"
   ]
  },
  {
   "cell_type": "code",
   "execution_count": 5,
   "metadata": {},
   "outputs": [
    {
     "name": "stderr",
     "output_type": "stream",
     "text": [
      "[Stage 2:>                                                          (0 + 1) / 1]\r"
     ]
    },
    {
     "name": "stdout",
     "output_type": "stream",
     "text": [
      "+------------+--------------------+-------------+---------+----------------------------------+--------------------------+----------------------------------+--------------------------+----------------------------------------+----------------------+----------------+---------------------+--------------------------+------------------------------+-------------------------+------------------------+------------------------+--------------------------+-------------------------+-------------------------+-------------------+--------------------------------+---------------------------+-----------------+------------------+--------------------+---------------------------------+------------------+\n",
      "|merchant_abn|                name|revenue_level|take_rate|average_merchant_fraud_probability|number_of_unique_consumers|average_consumer_fraud_probability|number_of_repeat_consumers|average_repeat_transactions_per_consumer|consumer_retainability|number_of_orders|average_cost_of_order|average_spend_per_consumer|average_monthly_diff_consumers|consumer_diff_over_period|average_growth_consumers|merchant_revenue_rounded|first_recorded_transaction|last_recorded_transaction|transcation_period_months|number_of_postcodes|avg_total_weekly_personal_income|avg_total_weekly_fam_income|   avg_median_age|avg_household_size|      postcode_reach|avg_num_of_consumers_per_postcode|           segment|\n",
      "+------------+--------------------+-------------+---------+----------------------------------+--------------------------+----------------------------------+--------------------------+----------------------------------------+----------------------+----------------+---------------------+--------------------------+------------------------------+-------------------------+------------------------+------------------------+--------------------------+-------------------------+-------------------------+-------------------+--------------------------------+---------------------------+-----------------+------------------+--------------------+---------------------------------+------------------+\n",
      "| 71118957552|Suscipit Nonummy ...|            a|     6.77|                               0.0|                      null|                              null|                      null|                                    null|                  null|              37|    644.0862162162161|         644.0862162162161|          -0.23076923076923078|                       -3|      0.2897435897435897|                23831.19|                2021-05-31|               2022-10-22|              16.70967742|                 37|               792.4324324324324|         2029.7972972972973|43.87837837837838|2.4416216216216218|0.014020462296324365|                              1.0|retail_and_novelty|\n",
      "+------------+--------------------+-------------+---------+----------------------------------+--------------------------+----------------------------------+--------------------------+----------------------------------------+----------------------+----------------+---------------------+--------------------------+------------------------------+-------------------------+------------------------+------------------------+--------------------------+-------------------------+-------------------------+-------------------+--------------------------------+---------------------------+-----------------+------------------+--------------------+---------------------------------+------------------+\n",
      "\n"
     ]
    },
    {
     "name": "stderr",
     "output_type": "stream",
     "text": [
      "                                                                                \r"
     ]
    }
   ],
   "source": [
    "joined.filter(joined.merchant_abn == 71118957552).show()"
   ]
  },
  {
   "cell_type": "code",
   "execution_count": 6,
   "metadata": {},
   "outputs": [
    {
     "ename": "AnalysisException",
     "evalue": "[UNRESOLVED_COLUMN.WITH_SUGGESTION] A column or function parameter with name `average_growth` cannot be resolved. Did you mean one of the following? [`take_rate`, `average_growth_consumers`, `postcode_reach`, `revenue_level`, `segment`].;\n'Sort ['average_growth DESC NULLS LAST], true\n+- Relation [merchant_abn#0L,name#1,revenue_level#2,take_rate#3,average_merchant_fraud_probability#4,number_of_unique_consumers#5L,average_consumer_fraud_probability#6,number_of_repeat_consumers#7L,average_repeat_transactions_per_consumer#8,consumer_retainability#9,number_of_orders#10L,average_cost_of_order#11,average_spend_per_consumer#12,average_monthly_diff_consumers#13,consumer_diff_over_period#14L,average_growth_consumers#15,merchant_revenue_rounded#16,first_recorded_transaction#17,last_recorded_transaction#18,transcation_period_months#19,number_of_postcodes#20L,avg_total_weekly_personal_income#21,avg_total_weekly_fam_income#22,avg_median_age#23,... 4 more fields] parquet\n",
     "output_type": "error",
     "traceback": [
      "\u001b[0;31m---------------------------------------------------------------------------\u001b[0m",
      "\u001b[0;31mAnalysisException\u001b[0m                         Traceback (most recent call last)",
      "\u001b[1;32m/mnt/c/Users/61435/Desktop/Applied Data/Project 2/bnpl-industry-project-open-source-industry-project-35/notebooks/analysis/insights/feature_engineering.ipynb Cell 9\u001b[0m line \u001b[0;36m1\n\u001b[0;32m----> <a href='vscode-notebook-cell://wsl%2Bubuntu/mnt/c/Users/61435/Desktop/Applied%20Data/Project%202/bnpl-industry-project-open-source-industry-project-35/notebooks/analysis/insights/feature_engineering.ipynb#X11sdnNjb2RlLXJlbW90ZQ%3D%3D?line=0'>1</a>\u001b[0m joined\u001b[39m.\u001b[39;49morderBy(f\u001b[39m.\u001b[39;49mcol(\u001b[39m\"\u001b[39;49m\u001b[39maverage_growth\u001b[39;49m\u001b[39m\"\u001b[39;49m)\u001b[39m.\u001b[39;49mdesc())\u001b[39m.\u001b[39mshow()\n",
      "File \u001b[0;32m~/.local/lib/python3.9/site-packages/pyspark/sql/dataframe.py:2593\u001b[0m, in \u001b[0;36mDataFrame.sort\u001b[0;34m(self, *cols, **kwargs)\u001b[0m\n\u001b[1;32m   2502\u001b[0m \u001b[39mdef\u001b[39;00m \u001b[39msort\u001b[39m(\n\u001b[1;32m   2503\u001b[0m     \u001b[39mself\u001b[39m, \u001b[39m*\u001b[39mcols: Union[\u001b[39mstr\u001b[39m, Column, List[Union[\u001b[39mstr\u001b[39m, Column]]], \u001b[39m*\u001b[39m\u001b[39m*\u001b[39mkwargs: Any\n\u001b[1;32m   2504\u001b[0m ) \u001b[39m-\u001b[39m\u001b[39m>\u001b[39m \u001b[39m\"\u001b[39m\u001b[39mDataFrame\u001b[39m\u001b[39m\"\u001b[39m:\n\u001b[1;32m   2505\u001b[0m \u001b[39m    \u001b[39m\u001b[39m\"\"\"Returns a new :class:`DataFrame` sorted by the specified column(s).\u001b[39;00m\n\u001b[1;32m   2506\u001b[0m \n\u001b[1;32m   2507\u001b[0m \u001b[39m    .. versionadded:: 1.3.0\u001b[39;00m\n\u001b[0;32m   (...)\u001b[0m\n\u001b[1;32m   2591\u001b[0m \u001b[39m    +---+-----+\u001b[39;00m\n\u001b[1;32m   2592\u001b[0m \u001b[39m    \"\"\"\u001b[39;00m\n\u001b[0;32m-> 2593\u001b[0m     jdf \u001b[39m=\u001b[39m \u001b[39mself\u001b[39;49m\u001b[39m.\u001b[39;49m_jdf\u001b[39m.\u001b[39;49msort(\u001b[39mself\u001b[39;49m\u001b[39m.\u001b[39;49m_sort_cols(cols, kwargs))\n\u001b[1;32m   2594\u001b[0m     \u001b[39mreturn\u001b[39;00m DataFrame(jdf, \u001b[39mself\u001b[39m\u001b[39m.\u001b[39msparkSession)\n",
      "File \u001b[0;32m~/.local/lib/python3.9/site-packages/py4j/java_gateway.py:1322\u001b[0m, in \u001b[0;36mJavaMember.__call__\u001b[0;34m(self, *args)\u001b[0m\n\u001b[1;32m   1316\u001b[0m command \u001b[39m=\u001b[39m proto\u001b[39m.\u001b[39mCALL_COMMAND_NAME \u001b[39m+\u001b[39m\\\n\u001b[1;32m   1317\u001b[0m     \u001b[39mself\u001b[39m\u001b[39m.\u001b[39mcommand_header \u001b[39m+\u001b[39m\\\n\u001b[1;32m   1318\u001b[0m     args_command \u001b[39m+\u001b[39m\\\n\u001b[1;32m   1319\u001b[0m     proto\u001b[39m.\u001b[39mEND_COMMAND_PART\n\u001b[1;32m   1321\u001b[0m answer \u001b[39m=\u001b[39m \u001b[39mself\u001b[39m\u001b[39m.\u001b[39mgateway_client\u001b[39m.\u001b[39msend_command(command)\n\u001b[0;32m-> 1322\u001b[0m return_value \u001b[39m=\u001b[39m get_return_value(\n\u001b[1;32m   1323\u001b[0m     answer, \u001b[39mself\u001b[39;49m\u001b[39m.\u001b[39;49mgateway_client, \u001b[39mself\u001b[39;49m\u001b[39m.\u001b[39;49mtarget_id, \u001b[39mself\u001b[39;49m\u001b[39m.\u001b[39;49mname)\n\u001b[1;32m   1325\u001b[0m \u001b[39mfor\u001b[39;00m temp_arg \u001b[39min\u001b[39;00m temp_args:\n\u001b[1;32m   1326\u001b[0m     \u001b[39mif\u001b[39;00m \u001b[39mhasattr\u001b[39m(temp_arg, \u001b[39m\"\u001b[39m\u001b[39m_detach\u001b[39m\u001b[39m\"\u001b[39m):\n",
      "File \u001b[0;32m~/.local/lib/python3.9/site-packages/pyspark/errors/exceptions/captured.py:175\u001b[0m, in \u001b[0;36mcapture_sql_exception.<locals>.deco\u001b[0;34m(*a, **kw)\u001b[0m\n\u001b[1;32m    171\u001b[0m converted \u001b[39m=\u001b[39m convert_exception(e\u001b[39m.\u001b[39mjava_exception)\n\u001b[1;32m    172\u001b[0m \u001b[39mif\u001b[39;00m \u001b[39mnot\u001b[39;00m \u001b[39misinstance\u001b[39m(converted, UnknownException):\n\u001b[1;32m    173\u001b[0m     \u001b[39m# Hide where the exception came from that shows a non-Pythonic\u001b[39;00m\n\u001b[1;32m    174\u001b[0m     \u001b[39m# JVM exception message.\u001b[39;00m\n\u001b[0;32m--> 175\u001b[0m     \u001b[39mraise\u001b[39;00m converted \u001b[39mfrom\u001b[39;00m \u001b[39mNone\u001b[39;00m\n\u001b[1;32m    176\u001b[0m \u001b[39melse\u001b[39;00m:\n\u001b[1;32m    177\u001b[0m     \u001b[39mraise\u001b[39;00m\n",
      "\u001b[0;31mAnalysisException\u001b[0m: [UNRESOLVED_COLUMN.WITH_SUGGESTION] A column or function parameter with name `average_growth` cannot be resolved. Did you mean one of the following? [`take_rate`, `average_growth_consumers`, `postcode_reach`, `revenue_level`, `segment`].;\n'Sort ['average_growth DESC NULLS LAST], true\n+- Relation [merchant_abn#0L,name#1,revenue_level#2,take_rate#3,average_merchant_fraud_probability#4,number_of_unique_consumers#5L,average_consumer_fraud_probability#6,number_of_repeat_consumers#7L,average_repeat_transactions_per_consumer#8,consumer_retainability#9,number_of_orders#10L,average_cost_of_order#11,average_spend_per_consumer#12,average_monthly_diff_consumers#13,consumer_diff_over_period#14L,average_growth_consumers#15,merchant_revenue_rounded#16,first_recorded_transaction#17,last_recorded_transaction#18,transcation_period_months#19,number_of_postcodes#20L,avg_total_weekly_personal_income#21,avg_total_weekly_fam_income#22,avg_median_age#23,... 4 more fields] parquet\n"
     ]
    }
   ],
   "source": [
    "joined.orderBy(f.col(\"average_growth\").desc()).show()"
   ]
  },
  {
   "cell_type": "markdown",
   "metadata": {},
   "source": [
    "Changing NULLs to 0s\n",
    "\n",
    "As we are going to be using modelling techniques we need to change the NULLs to an interpretable value."
   ]
  },
  {
   "cell_type": "code",
   "execution_count": null,
   "metadata": {},
   "outputs": [],
   "source": [
    "joined = joined.fillna(0)"
   ]
  },
  {
   "cell_type": "markdown",
   "metadata": {},
   "source": [
    "Next we want to convert the categorical features into integer values so that we can check its correlation between the target variables.\n",
    "\n",
    "In the dataset there are 2 categorical features:\n",
    "- Revenue Value\n",
    "- Segment"
   ]
  },
  {
   "cell_type": "code",
   "execution_count": null,
   "metadata": {},
   "outputs": [],
   "source": [
    "from pyspark.ml.feature import StringIndexer"
   ]
  },
  {
   "cell_type": "code",
   "execution_count": null,
   "metadata": {},
   "outputs": [],
   "source": [
    "input_cols = [\"revenue_level\",\"segment\"]\n",
    "output_cols = [\"revenue_level_indexed\",\"segment_indexed\"]"
   ]
  },
  {
   "cell_type": "code",
   "execution_count": null,
   "metadata": {},
   "outputs": [],
   "source": [
    "revenue_level_indexer = StringIndexer(inputCol = \"revenue_level\", outputCol= \"revenue_level_indexed\")\n",
    "segment_indexer = StringIndexer(inputCol = \"segment\", outputCol = \"segment_indexed\")"
   ]
  },
  {
   "cell_type": "code",
   "execution_count": null,
   "metadata": {},
   "outputs": [
    {
     "name": "stderr",
     "output_type": "stream",
     "text": [
      "                                                                                \r"
     ]
    }
   ],
   "source": [
    "pre_correlation_df = revenue_level_indexer.fit(joined).transform(segment_indexer.fit(joined).transform(joined))\n",
    "pre_correlation_df = pre_correlation_df.drop(\"revenue_level\", \"segment\",\"name\",\"first_recorded_transaction\",\"last_recorded_transaction\")"
   ]
  },
  {
   "cell_type": "code",
   "execution_count": null,
   "metadata": {},
   "outputs": [
    {
     "name": "stderr",
     "output_type": "stream",
     "text": [
      "23/09/28 18:07:48 WARN package: Truncated the string representation of a plan since it was too large. This behavior can be adjusted by setting 'spark.sql.debug.maxToStringFields'.\n"
     ]
    }
   ],
   "source": [
    "correlation_df = pre_correlation_df.toPandas()"
   ]
  },
  {
   "cell_type": "markdown",
   "metadata": {},
   "source": [
    "Now we will check the correlation matrix"
   ]
  },
  {
   "cell_type": "code",
   "execution_count": null,
   "metadata": {},
   "outputs": [],
   "source": [
    "import pandas as pd"
   ]
  },
  {
   "cell_type": "code",
   "execution_count": null,
   "metadata": {},
   "outputs": [
    {
     "data": {
      "text/html": [
       "<div>\n",
       "<style scoped>\n",
       "    .dataframe tbody tr th:only-of-type {\n",
       "        vertical-align: middle;\n",
       "    }\n",
       "\n",
       "    .dataframe tbody tr th {\n",
       "        vertical-align: top;\n",
       "    }\n",
       "\n",
       "    .dataframe thead th {\n",
       "        text-align: right;\n",
       "    }\n",
       "</style>\n",
       "<table border=\"1\" class=\"dataframe\">\n",
       "  <thead>\n",
       "    <tr style=\"text-align: right;\">\n",
       "      <th></th>\n",
       "      <th>merchant_abn</th>\n",
       "      <th>take_rate</th>\n",
       "      <th>average_merchant_fraud_probability</th>\n",
       "      <th>number_of_unique_consumers</th>\n",
       "      <th>average_consumer_fraud_probability</th>\n",
       "      <th>number_of_repeat_consumers</th>\n",
       "      <th>average_repeat_transactions_per_consumer</th>\n",
       "      <th>consumer_retainability</th>\n",
       "      <th>number_of_orders</th>\n",
       "      <th>average_cost_of_order</th>\n",
       "      <th>...</th>\n",
       "      <th>number_of_postcodes</th>\n",
       "      <th>most_popular_postcode</th>\n",
       "      <th>avg_total_weekly_personal_income</th>\n",
       "      <th>avg_total_weekly_fam_income</th>\n",
       "      <th>avg_median_age</th>\n",
       "      <th>avg_household_size</th>\n",
       "      <th>postcode_reach</th>\n",
       "      <th>avg_num_of_consumers_per_postcode</th>\n",
       "      <th>segment_indexed</th>\n",
       "      <th>revenue_level_indexed</th>\n",
       "    </tr>\n",
       "  </thead>\n",
       "  <tbody>\n",
       "    <tr>\n",
       "      <th>0</th>\n",
       "      <td>10023283211</td>\n",
       "      <td>0.18</td>\n",
       "      <td>0.0</td>\n",
       "      <td>2525</td>\n",
       "      <td>0.095502</td>\n",
       "      <td>174</td>\n",
       "      <td>1.071683</td>\n",
       "      <td>0.068911</td>\n",
       "      <td>2706</td>\n",
       "      <td>215.797947</td>\n",
       "      <td>...</td>\n",
       "      <td>1628</td>\n",
       "      <td>3275</td>\n",
       "      <td>786.702328</td>\n",
       "      <td>1971.123799</td>\n",
       "      <td>43.031966</td>\n",
       "      <td>2.456914</td>\n",
       "      <td>0.616900</td>\n",
       "      <td>1.662162</td>\n",
       "      <td>2.0</td>\n",
       "      <td>4.0</td>\n",
       "    </tr>\n",
       "    <tr>\n",
       "      <th>1</th>\n",
       "      <td>10142254217</td>\n",
       "      <td>4.22</td>\n",
       "      <td>0.0</td>\n",
       "      <td>2389</td>\n",
       "      <td>0.064356</td>\n",
       "      <td>151</td>\n",
       "      <td>1.064881</td>\n",
       "      <td>0.063206</td>\n",
       "      <td>2544</td>\n",
       "      <td>38.591470</td>\n",
       "      <td>...</td>\n",
       "      <td>1591</td>\n",
       "      <td>6438</td>\n",
       "      <td>792.250000</td>\n",
       "      <td>1983.427083</td>\n",
       "      <td>42.850629</td>\n",
       "      <td>2.464025</td>\n",
       "      <td>0.602880</td>\n",
       "      <td>1.598994</td>\n",
       "      <td>1.0</td>\n",
       "      <td>1.0</td>\n",
       "    </tr>\n",
       "    <tr>\n",
       "      <th>2</th>\n",
       "      <td>10165489824</td>\n",
       "      <td>4.40</td>\n",
       "      <td>0.0</td>\n",
       "      <td>0</td>\n",
       "      <td>0.000000</td>\n",
       "      <td>0</td>\n",
       "      <td>0.000000</td>\n",
       "      <td>0.000000</td>\n",
       "      <td>4</td>\n",
       "      <td>8885.894209</td>\n",
       "      <td>...</td>\n",
       "      <td>4</td>\n",
       "      <td>2534</td>\n",
       "      <td>817.500000</td>\n",
       "      <td>2066.125000</td>\n",
       "      <td>41.625000</td>\n",
       "      <td>2.475000</td>\n",
       "      <td>0.001516</td>\n",
       "      <td>1.000000</td>\n",
       "      <td>3.0</td>\n",
       "      <td>1.0</td>\n",
       "    </tr>\n",
       "    <tr>\n",
       "      <th>3</th>\n",
       "      <td>10187291046</td>\n",
       "      <td>3.29</td>\n",
       "      <td>0.0</td>\n",
       "      <td>291</td>\n",
       "      <td>0.058022</td>\n",
       "      <td>1</td>\n",
       "      <td>1.003436</td>\n",
       "      <td>0.003436</td>\n",
       "      <td>292</td>\n",
       "      <td>115.995570</td>\n",
       "      <td>...</td>\n",
       "      <td>273</td>\n",
       "      <td>5067</td>\n",
       "      <td>796.547945</td>\n",
       "      <td>1961.171233</td>\n",
       "      <td>43.125000</td>\n",
       "      <td>2.449418</td>\n",
       "      <td>0.103448</td>\n",
       "      <td>1.069597</td>\n",
       "      <td>3.0</td>\n",
       "      <td>1.0</td>\n",
       "    </tr>\n",
       "    <tr>\n",
       "      <th>4</th>\n",
       "      <td>10192359162</td>\n",
       "      <td>6.33</td>\n",
       "      <td>0.0</td>\n",
       "      <td>321</td>\n",
       "      <td>0.036126</td>\n",
       "      <td>2</td>\n",
       "      <td>1.006231</td>\n",
       "      <td>0.006231</td>\n",
       "      <td>323</td>\n",
       "      <td>460.347109</td>\n",
       "      <td>...</td>\n",
       "      <td>303</td>\n",
       "      <td>2062</td>\n",
       "      <td>808.877709</td>\n",
       "      <td>2024.267802</td>\n",
       "      <td>43.294118</td>\n",
       "      <td>2.445480</td>\n",
       "      <td>0.114816</td>\n",
       "      <td>1.066007</td>\n",
       "      <td>0.0</td>\n",
       "      <td>0.0</td>\n",
       "    </tr>\n",
       "  </tbody>\n",
       "</table>\n",
       "<p>5 rows × 26 columns</p>\n",
       "</div>"
      ],
      "text/plain": [
       "   merchant_abn  take_rate  average_merchant_fraud_probability  \\\n",
       "0   10023283211       0.18                                 0.0   \n",
       "1   10142254217       4.22                                 0.0   \n",
       "2   10165489824       4.40                                 0.0   \n",
       "3   10187291046       3.29                                 0.0   \n",
       "4   10192359162       6.33                                 0.0   \n",
       "\n",
       "   number_of_unique_consumers  average_consumer_fraud_probability  \\\n",
       "0                        2525                            0.095502   \n",
       "1                        2389                            0.064356   \n",
       "2                           0                            0.000000   \n",
       "3                         291                            0.058022   \n",
       "4                         321                            0.036126   \n",
       "\n",
       "   number_of_repeat_consumers  average_repeat_transactions_per_consumer  \\\n",
       "0                         174                                  1.071683   \n",
       "1                         151                                  1.064881   \n",
       "2                           0                                  0.000000   \n",
       "3                           1                                  1.003436   \n",
       "4                           2                                  1.006231   \n",
       "\n",
       "   consumer_retainability  number_of_orders  average_cost_of_order  ...  \\\n",
       "0                0.068911              2706             215.797947  ...   \n",
       "1                0.063206              2544              38.591470  ...   \n",
       "2                0.000000                 4            8885.894209  ...   \n",
       "3                0.003436               292             115.995570  ...   \n",
       "4                0.006231               323             460.347109  ...   \n",
       "\n",
       "   number_of_postcodes  most_popular_postcode  \\\n",
       "0                 1628                   3275   \n",
       "1                 1591                   6438   \n",
       "2                    4                   2534   \n",
       "3                  273                   5067   \n",
       "4                  303                   2062   \n",
       "\n",
       "   avg_total_weekly_personal_income  avg_total_weekly_fam_income  \\\n",
       "0                        786.702328                  1971.123799   \n",
       "1                        792.250000                  1983.427083   \n",
       "2                        817.500000                  2066.125000   \n",
       "3                        796.547945                  1961.171233   \n",
       "4                        808.877709                  2024.267802   \n",
       "\n",
       "   avg_median_age  avg_household_size  postcode_reach  \\\n",
       "0       43.031966            2.456914        0.616900   \n",
       "1       42.850629            2.464025        0.602880   \n",
       "2       41.625000            2.475000        0.001516   \n",
       "3       43.125000            2.449418        0.103448   \n",
       "4       43.294118            2.445480        0.114816   \n",
       "\n",
       "   avg_num_of_consumers_per_postcode  segment_indexed  revenue_level_indexed  \n",
       "0                           1.662162              2.0                    4.0  \n",
       "1                           1.598994              1.0                    1.0  \n",
       "2                           1.000000              3.0                    1.0  \n",
       "3                           1.069597              3.0                    1.0  \n",
       "4                           1.066007              0.0                    0.0  \n",
       "\n",
       "[5 rows x 26 columns]"
      ]
     },
     "execution_count": 51,
     "metadata": {},
     "output_type": "execute_result"
    }
   ],
   "source": [
    "correlation_df.head()"
   ]
  },
  {
   "cell_type": "code",
   "execution_count": null,
   "metadata": {},
   "outputs": [],
   "source": [
    "corr_matrix = correlation_df.corr()"
   ]
  },
  {
   "cell_type": "markdown",
   "metadata": {},
   "source": [
    "### Feature Engineering"
   ]
  },
  {
   "cell_type": "markdown",
   "metadata": {},
   "source": [
    "Predicting number of consumers in 3 years"
   ]
  },
  {
   "cell_type": "code",
   "execution_count": null,
   "metadata": {},
   "outputs": [
    {
     "data": {
      "text/plain": [
       "merchant_abn                                0.005000\n",
       "take_rate                                   0.040962\n",
       "average_merchant_fraud_probability         -0.012018\n",
       "number_of_unique_consumers                  1.000000\n",
       "average_consumer_fraud_probability         -0.047828\n",
       "number_of_repeat_consumers                  0.859005\n",
       "average_repeat_transactions_per_consumer    0.665024\n",
       "consumer_retainability                      0.976162\n",
       "number_of_orders                            0.713317\n",
       "average_cost_of_order                      -0.166808\n",
       "average_spend_per_consumer                 -0.159572\n",
       "average_monthly_diff_consumers              0.772166\n",
       "consumer_diff_over_period                   0.772211\n",
       "average_growth                              0.447964\n",
       "merchant_revenue_rounded                    0.648542\n",
       "transcation_period_months                   0.197559\n",
       "number_of_postcodes                         0.847743\n",
       "most_popular_postcode                       0.116245\n",
       "avg_total_weekly_personal_income            0.012759\n",
       "avg_total_weekly_fam_income                 0.013725\n",
       "avg_median_age                             -0.002346\n",
       "avg_household_size                          0.010657\n",
       "postcode_reach                              0.847743\n",
       "avg_num_of_consumers_per_postcode           0.678867\n",
       "segment_indexed                            -0.014208\n",
       "revenue_level_indexed                      -0.042512\n",
       "Name: number_of_unique_consumers, dtype: float64"
      ]
     },
     "execution_count": 12,
     "metadata": {},
     "output_type": "execute_result"
    }
   ],
   "source": [
    "corr_matrix.loc[\"number_of_unique_consumers\"]"
   ]
  },
  {
   "cell_type": "markdown",
   "metadata": {},
   "source": [
    "Next we seperate the features and the target variables"
   ]
  },
  {
   "cell_type": "code",
   "execution_count": null,
   "metadata": {},
   "outputs": [],
   "source": [
    "modelling_df = correlation_df.copy()"
   ]
  },
  {
   "cell_type": "code",
   "execution_count": null,
   "metadata": {},
   "outputs": [
    {
     "data": {
      "text/html": [
       "<div>\n",
       "<style scoped>\n",
       "    .dataframe tbody tr th:only-of-type {\n",
       "        vertical-align: middle;\n",
       "    }\n",
       "\n",
       "    .dataframe tbody tr th {\n",
       "        vertical-align: top;\n",
       "    }\n",
       "\n",
       "    .dataframe thead th {\n",
       "        text-align: right;\n",
       "    }\n",
       "</style>\n",
       "<table border=\"1\" class=\"dataframe\">\n",
       "  <thead>\n",
       "    <tr style=\"text-align: right;\">\n",
       "      <th></th>\n",
       "      <th>merchant_abn</th>\n",
       "      <th>take_rate</th>\n",
       "      <th>average_merchant_fraud_probability</th>\n",
       "      <th>number_of_unique_consumers</th>\n",
       "      <th>average_consumer_fraud_probability</th>\n",
       "      <th>number_of_repeat_consumers</th>\n",
       "      <th>average_repeat_transactions_per_consumer</th>\n",
       "      <th>consumer_retainability</th>\n",
       "      <th>number_of_orders</th>\n",
       "      <th>average_cost_of_order</th>\n",
       "      <th>...</th>\n",
       "      <th>number_of_postcodes</th>\n",
       "      <th>most_popular_postcode</th>\n",
       "      <th>avg_total_weekly_personal_income</th>\n",
       "      <th>avg_total_weekly_fam_income</th>\n",
       "      <th>avg_median_age</th>\n",
       "      <th>avg_household_size</th>\n",
       "      <th>postcode_reach</th>\n",
       "      <th>avg_num_of_consumers_per_postcode</th>\n",
       "      <th>segment_indexed</th>\n",
       "      <th>revenue_level_indexed</th>\n",
       "    </tr>\n",
       "  </thead>\n",
       "  <tbody>\n",
       "    <tr>\n",
       "      <th>0</th>\n",
       "      <td>10023283211</td>\n",
       "      <td>0.18</td>\n",
       "      <td>0.0</td>\n",
       "      <td>2525</td>\n",
       "      <td>0.095502</td>\n",
       "      <td>174</td>\n",
       "      <td>1.071683</td>\n",
       "      <td>0.068911</td>\n",
       "      <td>2706</td>\n",
       "      <td>215.797947</td>\n",
       "      <td>...</td>\n",
       "      <td>1628</td>\n",
       "      <td>3275</td>\n",
       "      <td>786.702328</td>\n",
       "      <td>1971.123799</td>\n",
       "      <td>43.031966</td>\n",
       "      <td>2.456914</td>\n",
       "      <td>0.616900</td>\n",
       "      <td>1.662162</td>\n",
       "      <td>2.0</td>\n",
       "      <td>4.0</td>\n",
       "    </tr>\n",
       "    <tr>\n",
       "      <th>1</th>\n",
       "      <td>10142254217</td>\n",
       "      <td>4.22</td>\n",
       "      <td>0.0</td>\n",
       "      <td>2389</td>\n",
       "      <td>0.064356</td>\n",
       "      <td>151</td>\n",
       "      <td>1.064881</td>\n",
       "      <td>0.063206</td>\n",
       "      <td>2544</td>\n",
       "      <td>38.591470</td>\n",
       "      <td>...</td>\n",
       "      <td>1591</td>\n",
       "      <td>6438</td>\n",
       "      <td>792.250000</td>\n",
       "      <td>1983.427083</td>\n",
       "      <td>42.850629</td>\n",
       "      <td>2.464025</td>\n",
       "      <td>0.602880</td>\n",
       "      <td>1.598994</td>\n",
       "      <td>1.0</td>\n",
       "      <td>1.0</td>\n",
       "    </tr>\n",
       "    <tr>\n",
       "      <th>2</th>\n",
       "      <td>10165489824</td>\n",
       "      <td>4.40</td>\n",
       "      <td>0.0</td>\n",
       "      <td>0</td>\n",
       "      <td>0.000000</td>\n",
       "      <td>0</td>\n",
       "      <td>0.000000</td>\n",
       "      <td>0.000000</td>\n",
       "      <td>4</td>\n",
       "      <td>8885.894209</td>\n",
       "      <td>...</td>\n",
       "      <td>4</td>\n",
       "      <td>2534</td>\n",
       "      <td>817.500000</td>\n",
       "      <td>2066.125000</td>\n",
       "      <td>41.625000</td>\n",
       "      <td>2.475000</td>\n",
       "      <td>0.001516</td>\n",
       "      <td>1.000000</td>\n",
       "      <td>3.0</td>\n",
       "      <td>1.0</td>\n",
       "    </tr>\n",
       "    <tr>\n",
       "      <th>3</th>\n",
       "      <td>10187291046</td>\n",
       "      <td>3.29</td>\n",
       "      <td>0.0</td>\n",
       "      <td>291</td>\n",
       "      <td>0.058022</td>\n",
       "      <td>1</td>\n",
       "      <td>1.003436</td>\n",
       "      <td>0.003436</td>\n",
       "      <td>292</td>\n",
       "      <td>115.995570</td>\n",
       "      <td>...</td>\n",
       "      <td>273</td>\n",
       "      <td>5067</td>\n",
       "      <td>796.547945</td>\n",
       "      <td>1961.171233</td>\n",
       "      <td>43.125000</td>\n",
       "      <td>2.449418</td>\n",
       "      <td>0.103448</td>\n",
       "      <td>1.069597</td>\n",
       "      <td>3.0</td>\n",
       "      <td>1.0</td>\n",
       "    </tr>\n",
       "    <tr>\n",
       "      <th>4</th>\n",
       "      <td>10192359162</td>\n",
       "      <td>6.33</td>\n",
       "      <td>0.0</td>\n",
       "      <td>321</td>\n",
       "      <td>0.036126</td>\n",
       "      <td>2</td>\n",
       "      <td>1.006231</td>\n",
       "      <td>0.006231</td>\n",
       "      <td>323</td>\n",
       "      <td>460.347109</td>\n",
       "      <td>...</td>\n",
       "      <td>303</td>\n",
       "      <td>2062</td>\n",
       "      <td>808.877709</td>\n",
       "      <td>2024.267802</td>\n",
       "      <td>43.294118</td>\n",
       "      <td>2.445480</td>\n",
       "      <td>0.114816</td>\n",
       "      <td>1.066007</td>\n",
       "      <td>0.0</td>\n",
       "      <td>0.0</td>\n",
       "    </tr>\n",
       "  </tbody>\n",
       "</table>\n",
       "<p>5 rows × 26 columns</p>\n",
       "</div>"
      ],
      "text/plain": [
       "   merchant_abn  take_rate  average_merchant_fraud_probability  \\\n",
       "0   10023283211       0.18                                 0.0   \n",
       "1   10142254217       4.22                                 0.0   \n",
       "2   10165489824       4.40                                 0.0   \n",
       "3   10187291046       3.29                                 0.0   \n",
       "4   10192359162       6.33                                 0.0   \n",
       "\n",
       "   number_of_unique_consumers  average_consumer_fraud_probability  \\\n",
       "0                        2525                            0.095502   \n",
       "1                        2389                            0.064356   \n",
       "2                           0                            0.000000   \n",
       "3                         291                            0.058022   \n",
       "4                         321                            0.036126   \n",
       "\n",
       "   number_of_repeat_consumers  average_repeat_transactions_per_consumer  \\\n",
       "0                         174                                  1.071683   \n",
       "1                         151                                  1.064881   \n",
       "2                           0                                  0.000000   \n",
       "3                           1                                  1.003436   \n",
       "4                           2                                  1.006231   \n",
       "\n",
       "   consumer_retainability  number_of_orders  average_cost_of_order  ...  \\\n",
       "0                0.068911              2706             215.797947  ...   \n",
       "1                0.063206              2544              38.591470  ...   \n",
       "2                0.000000                 4            8885.894209  ...   \n",
       "3                0.003436               292             115.995570  ...   \n",
       "4                0.006231               323             460.347109  ...   \n",
       "\n",
       "   number_of_postcodes  most_popular_postcode  \\\n",
       "0                 1628                   3275   \n",
       "1                 1591                   6438   \n",
       "2                    4                   2534   \n",
       "3                  273                   5067   \n",
       "4                  303                   2062   \n",
       "\n",
       "   avg_total_weekly_personal_income  avg_total_weekly_fam_income  \\\n",
       "0                        786.702328                  1971.123799   \n",
       "1                        792.250000                  1983.427083   \n",
       "2                        817.500000                  2066.125000   \n",
       "3                        796.547945                  1961.171233   \n",
       "4                        808.877709                  2024.267802   \n",
       "\n",
       "   avg_median_age  avg_household_size  postcode_reach  \\\n",
       "0       43.031966            2.456914        0.616900   \n",
       "1       42.850629            2.464025        0.602880   \n",
       "2       41.625000            2.475000        0.001516   \n",
       "3       43.125000            2.449418        0.103448   \n",
       "4       43.294118            2.445480        0.114816   \n",
       "\n",
       "   avg_num_of_consumers_per_postcode  segment_indexed  revenue_level_indexed  \n",
       "0                           1.662162              2.0                    4.0  \n",
       "1                           1.598994              1.0                    1.0  \n",
       "2                           1.000000              3.0                    1.0  \n",
       "3                           1.069597              3.0                    1.0  \n",
       "4                           1.066007              0.0                    0.0  \n",
       "\n",
       "[5 rows x 26 columns]"
      ]
     },
     "execution_count": 281,
     "metadata": {},
     "output_type": "execute_result"
    }
   ],
   "source": [
    "modelling_df.head()"
   ]
  },
  {
   "cell_type": "code",
   "execution_count": null,
   "metadata": {},
   "outputs": [],
   "source": [
    "target_variable = \"number_of_unique_consumers\""
   ]
  },
  {
   "cell_type": "code",
   "execution_count": null,
   "metadata": {},
   "outputs": [],
   "source": [
    "features_unique_customers = modelling_df.drop(columns = [\"merchant_abn\",target_variable])\n",
    "number_of_unique_customer = modelling_df[target_variable]"
   ]
  },
  {
   "cell_type": "markdown",
   "metadata": {},
   "source": [
    "Feature Selection"
   ]
  },
  {
   "cell_type": "code",
   "execution_count": null,
   "metadata": {},
   "outputs": [],
   "source": [
    "from sklearn.feature_selection import f_regression, SelectKBest"
   ]
  },
  {
   "cell_type": "code",
   "execution_count": null,
   "metadata": {},
   "outputs": [],
   "source": [
    "selector = SelectKBest(score_func=f_regression, k= 5)\n",
    "features_unique_customers_selected = selector.fit_transform(features_unique_customers, number_of_unique_customer)"
   ]
  },
  {
   "cell_type": "code",
   "execution_count": null,
   "metadata": {},
   "outputs": [
    {
     "name": "stdout",
     "output_type": "stream",
     "text": [
      "Index(['number_of_repeat_consumers', 'consumer_retainability',\n",
      "       'consumer_diff_over_period', 'number_of_postcodes', 'postcode_reach'],\n",
      "      dtype='object')\n"
     ]
    }
   ],
   "source": [
    "selected_feature_indices = selector.get_support(indices=True)\n",
    "selected_features = features_unique_customers.columns[selected_feature_indices]\n",
    "print(selected_features)"
   ]
  },
  {
   "cell_type": "markdown",
   "metadata": {},
   "source": [
    "Splitting the data for train and test \n",
    " - We will use a 80 - 20"
   ]
  },
  {
   "cell_type": "code",
   "execution_count": null,
   "metadata": {},
   "outputs": [],
   "source": [
    "from sklearn.model_selection import train_test_split"
   ]
  },
  {
   "cell_type": "code",
   "execution_count": null,
   "metadata": {},
   "outputs": [],
   "source": [
    "features_unique_customers_train, features_unique_customers_test, number_of_unique_customer_train, number_of_unique_customer_test = \\\n",
    "    train_test_split(features_unique_customers[selected_features], number_of_unique_customer, test_size=0.2, random_state=42)"
   ]
  },
  {
   "cell_type": "markdown",
   "metadata": {},
   "source": [
    "Fitting the model\n",
    "- We will use a linear regression model"
   ]
  },
  {
   "cell_type": "code",
   "execution_count": null,
   "metadata": {},
   "outputs": [],
   "source": [
    "from sklearn.linear_model import LinearRegression"
   ]
  },
  {
   "cell_type": "code",
   "execution_count": null,
   "metadata": {},
   "outputs": [
    {
     "data": {
      "text/html": [
       "<style>#sk-container-id-27 {color: black;}#sk-container-id-27 pre{padding: 0;}#sk-container-id-27 div.sk-toggleable {background-color: white;}#sk-container-id-27 label.sk-toggleable__label {cursor: pointer;display: block;width: 100%;margin-bottom: 0;padding: 0.3em;box-sizing: border-box;text-align: center;}#sk-container-id-27 label.sk-toggleable__label-arrow:before {content: \"▸\";float: left;margin-right: 0.25em;color: #696969;}#sk-container-id-27 label.sk-toggleable__label-arrow:hover:before {color: black;}#sk-container-id-27 div.sk-estimator:hover label.sk-toggleable__label-arrow:before {color: black;}#sk-container-id-27 div.sk-toggleable__content {max-height: 0;max-width: 0;overflow: hidden;text-align: left;background-color: #f0f8ff;}#sk-container-id-27 div.sk-toggleable__content pre {margin: 0.2em;color: black;border-radius: 0.25em;background-color: #f0f8ff;}#sk-container-id-27 input.sk-toggleable__control:checked~div.sk-toggleable__content {max-height: 200px;max-width: 100%;overflow: auto;}#sk-container-id-27 input.sk-toggleable__control:checked~label.sk-toggleable__label-arrow:before {content: \"▾\";}#sk-container-id-27 div.sk-estimator input.sk-toggleable__control:checked~label.sk-toggleable__label {background-color: #d4ebff;}#sk-container-id-27 div.sk-label input.sk-toggleable__control:checked~label.sk-toggleable__label {background-color: #d4ebff;}#sk-container-id-27 input.sk-hidden--visually {border: 0;clip: rect(1px 1px 1px 1px);clip: rect(1px, 1px, 1px, 1px);height: 1px;margin: -1px;overflow: hidden;padding: 0;position: absolute;width: 1px;}#sk-container-id-27 div.sk-estimator {font-family: monospace;background-color: #f0f8ff;border: 1px dotted black;border-radius: 0.25em;box-sizing: border-box;margin-bottom: 0.5em;}#sk-container-id-27 div.sk-estimator:hover {background-color: #d4ebff;}#sk-container-id-27 div.sk-parallel-item::after {content: \"\";width: 100%;border-bottom: 1px solid gray;flex-grow: 1;}#sk-container-id-27 div.sk-label:hover label.sk-toggleable__label {background-color: #d4ebff;}#sk-container-id-27 div.sk-serial::before {content: \"\";position: absolute;border-left: 1px solid gray;box-sizing: border-box;top: 0;bottom: 0;left: 50%;z-index: 0;}#sk-container-id-27 div.sk-serial {display: flex;flex-direction: column;align-items: center;background-color: white;padding-right: 0.2em;padding-left: 0.2em;position: relative;}#sk-container-id-27 div.sk-item {position: relative;z-index: 1;}#sk-container-id-27 div.sk-parallel {display: flex;align-items: stretch;justify-content: center;background-color: white;position: relative;}#sk-container-id-27 div.sk-item::before, #sk-container-id-27 div.sk-parallel-item::before {content: \"\";position: absolute;border-left: 1px solid gray;box-sizing: border-box;top: 0;bottom: 0;left: 50%;z-index: -1;}#sk-container-id-27 div.sk-parallel-item {display: flex;flex-direction: column;z-index: 1;position: relative;background-color: white;}#sk-container-id-27 div.sk-parallel-item:first-child::after {align-self: flex-end;width: 50%;}#sk-container-id-27 div.sk-parallel-item:last-child::after {align-self: flex-start;width: 50%;}#sk-container-id-27 div.sk-parallel-item:only-child::after {width: 0;}#sk-container-id-27 div.sk-dashed-wrapped {border: 1px dashed gray;margin: 0 0.4em 0.5em 0.4em;box-sizing: border-box;padding-bottom: 0.4em;background-color: white;}#sk-container-id-27 div.sk-label label {font-family: monospace;font-weight: bold;display: inline-block;line-height: 1.2em;}#sk-container-id-27 div.sk-label-container {text-align: center;}#sk-container-id-27 div.sk-container {/* jupyter's `normalize.less` sets `[hidden] { display: none; }` but bootstrap.min.css set `[hidden] { display: none !important; }` so we also need the `!important` here to be able to override the default hidden behavior on the sphinx rendered scikit-learn.org. See: https://github.com/scikit-learn/scikit-learn/issues/21755 */display: inline-block !important;position: relative;}#sk-container-id-27 div.sk-text-repr-fallback {display: none;}</style><div id=\"sk-container-id-27\" class=\"sk-top-container\"><div class=\"sk-text-repr-fallback\"><pre>LinearRegression()</pre><b>In a Jupyter environment, please rerun this cell to show the HTML representation or trust the notebook. <br />On GitHub, the HTML representation is unable to render, please try loading this page with nbviewer.org.</b></div><div class=\"sk-container\" hidden><div class=\"sk-item\"><div class=\"sk-estimator sk-toggleable\"><input class=\"sk-toggleable__control sk-hidden--visually\" id=\"sk-estimator-id-39\" type=\"checkbox\" checked><label for=\"sk-estimator-id-39\" class=\"sk-toggleable__label sk-toggleable__label-arrow\">LinearRegression</label><div class=\"sk-toggleable__content\"><pre>LinearRegression()</pre></div></div></div></div></div>"
      ],
      "text/plain": [
       "LinearRegression()"
      ]
     },
     "execution_count": 266,
     "metadata": {},
     "output_type": "execute_result"
    }
   ],
   "source": [
    "num_of_unique_customers_model = LinearRegression()\n",
    "num_of_unique_customers_model.fit(features_unique_customers_train, number_of_unique_customer_train)"
   ]
  },
  {
   "cell_type": "markdown",
   "metadata": {},
   "source": [
    "Model Evaluation"
   ]
  },
  {
   "cell_type": "code",
   "execution_count": null,
   "metadata": {},
   "outputs": [],
   "source": [
    "from sklearn.metrics import mean_squared_error, r2_score"
   ]
  },
  {
   "cell_type": "code",
   "execution_count": null,
   "metadata": {},
   "outputs": [],
   "source": [
    "num_of_unique_customer_pred = num_of_unique_customers_model.predict(features_unique_customers_test)\n",
    "mse = mean_squared_error(number_of_unique_customer_test, num_of_unique_customer_pred)\n",
    "rmse = (mse ** 0.5)\n",
    "r2 = r2_score(number_of_unique_customer_test, num_of_unique_customer_pred)"
   ]
  },
  {
   "cell_type": "code",
   "execution_count": null,
   "metadata": {},
   "outputs": [
    {
     "name": "stdout",
     "output_type": "stream",
     "text": [
      "R-squared (R2): 0.996699168700724\n"
     ]
    }
   ],
   "source": [
    "print(f'R-squared (R2): {r2}')"
   ]
  },
  {
   "cell_type": "markdown",
   "metadata": {},
   "source": [
    "Next we will predict the number of customers in 3 years"
   ]
  },
  {
   "cell_type": "code",
   "execution_count": null,
   "metadata": {},
   "outputs": [],
   "source": [
    "future_modelling_df = modelling_df.copy()\n",
    "future_modelling_df = future_modelling_df.sort_values(by='merchant_abn')"
   ]
  },
  {
   "cell_type": "code",
   "execution_count": null,
   "metadata": {},
   "outputs": [],
   "source": [
    "future_modelling_df[\"transcation_period_months\"] = future_modelling_df[\"transcation_period_months\"] + 36"
   ]
  },
  {
   "cell_type": "code",
   "execution_count": null,
   "metadata": {},
   "outputs": [
    {
     "data": {
      "text/html": [
       "<div>\n",
       "<style scoped>\n",
       "    .dataframe tbody tr th:only-of-type {\n",
       "        vertical-align: middle;\n",
       "    }\n",
       "\n",
       "    .dataframe tbody tr th {\n",
       "        vertical-align: top;\n",
       "    }\n",
       "\n",
       "    .dataframe thead th {\n",
       "        text-align: right;\n",
       "    }\n",
       "</style>\n",
       "<table border=\"1\" class=\"dataframe\">\n",
       "  <thead>\n",
       "    <tr style=\"text-align: right;\">\n",
       "      <th></th>\n",
       "      <th>merchant_abn</th>\n",
       "      <th>take_rate</th>\n",
       "      <th>average_merchant_fraud_probability</th>\n",
       "      <th>number_of_unique_consumers</th>\n",
       "      <th>average_consumer_fraud_probability</th>\n",
       "      <th>number_of_repeat_consumers</th>\n",
       "      <th>average_repeat_transactions_per_consumer</th>\n",
       "      <th>consumer_retainability</th>\n",
       "      <th>number_of_orders</th>\n",
       "      <th>average_cost_of_order</th>\n",
       "      <th>...</th>\n",
       "      <th>number_of_postcodes</th>\n",
       "      <th>most_popular_postcode</th>\n",
       "      <th>avg_total_weekly_personal_income</th>\n",
       "      <th>avg_total_weekly_fam_income</th>\n",
       "      <th>avg_median_age</th>\n",
       "      <th>avg_household_size</th>\n",
       "      <th>postcode_reach</th>\n",
       "      <th>avg_num_of_consumers_per_postcode</th>\n",
       "      <th>segment_indexed</th>\n",
       "      <th>revenue_level_indexed</th>\n",
       "    </tr>\n",
       "  </thead>\n",
       "  <tbody>\n",
       "    <tr>\n",
       "      <th>0</th>\n",
       "      <td>10023283211</td>\n",
       "      <td>0.18</td>\n",
       "      <td>0.0</td>\n",
       "      <td>2525</td>\n",
       "      <td>0.095502</td>\n",
       "      <td>174</td>\n",
       "      <td>1.071683</td>\n",
       "      <td>0.068911</td>\n",
       "      <td>2706</td>\n",
       "      <td>215.797947</td>\n",
       "      <td>...</td>\n",
       "      <td>1628</td>\n",
       "      <td>3275</td>\n",
       "      <td>786.702328</td>\n",
       "      <td>1971.123799</td>\n",
       "      <td>43.031966</td>\n",
       "      <td>2.456914</td>\n",
       "      <td>0.616900</td>\n",
       "      <td>1.662162</td>\n",
       "      <td>2.0</td>\n",
       "      <td>4.0</td>\n",
       "    </tr>\n",
       "    <tr>\n",
       "      <th>1</th>\n",
       "      <td>10142254217</td>\n",
       "      <td>4.22</td>\n",
       "      <td>0.0</td>\n",
       "      <td>2389</td>\n",
       "      <td>0.064356</td>\n",
       "      <td>151</td>\n",
       "      <td>1.064881</td>\n",
       "      <td>0.063206</td>\n",
       "      <td>2544</td>\n",
       "      <td>38.591470</td>\n",
       "      <td>...</td>\n",
       "      <td>1591</td>\n",
       "      <td>6438</td>\n",
       "      <td>792.250000</td>\n",
       "      <td>1983.427083</td>\n",
       "      <td>42.850629</td>\n",
       "      <td>2.464025</td>\n",
       "      <td>0.602880</td>\n",
       "      <td>1.598994</td>\n",
       "      <td>1.0</td>\n",
       "      <td>1.0</td>\n",
       "    </tr>\n",
       "    <tr>\n",
       "      <th>2</th>\n",
       "      <td>10165489824</td>\n",
       "      <td>4.40</td>\n",
       "      <td>0.0</td>\n",
       "      <td>0</td>\n",
       "      <td>0.000000</td>\n",
       "      <td>0</td>\n",
       "      <td>0.000000</td>\n",
       "      <td>0.000000</td>\n",
       "      <td>4</td>\n",
       "      <td>8885.894209</td>\n",
       "      <td>...</td>\n",
       "      <td>4</td>\n",
       "      <td>2534</td>\n",
       "      <td>817.500000</td>\n",
       "      <td>2066.125000</td>\n",
       "      <td>41.625000</td>\n",
       "      <td>2.475000</td>\n",
       "      <td>0.001516</td>\n",
       "      <td>1.000000</td>\n",
       "      <td>3.0</td>\n",
       "      <td>1.0</td>\n",
       "    </tr>\n",
       "    <tr>\n",
       "      <th>3</th>\n",
       "      <td>10187291046</td>\n",
       "      <td>3.29</td>\n",
       "      <td>0.0</td>\n",
       "      <td>291</td>\n",
       "      <td>0.058022</td>\n",
       "      <td>1</td>\n",
       "      <td>1.003436</td>\n",
       "      <td>0.003436</td>\n",
       "      <td>292</td>\n",
       "      <td>115.995570</td>\n",
       "      <td>...</td>\n",
       "      <td>273</td>\n",
       "      <td>5067</td>\n",
       "      <td>796.547945</td>\n",
       "      <td>1961.171233</td>\n",
       "      <td>43.125000</td>\n",
       "      <td>2.449418</td>\n",
       "      <td>0.103448</td>\n",
       "      <td>1.069597</td>\n",
       "      <td>3.0</td>\n",
       "      <td>1.0</td>\n",
       "    </tr>\n",
       "    <tr>\n",
       "      <th>4</th>\n",
       "      <td>10192359162</td>\n",
       "      <td>6.33</td>\n",
       "      <td>0.0</td>\n",
       "      <td>321</td>\n",
       "      <td>0.036126</td>\n",
       "      <td>2</td>\n",
       "      <td>1.006231</td>\n",
       "      <td>0.006231</td>\n",
       "      <td>323</td>\n",
       "      <td>460.347109</td>\n",
       "      <td>...</td>\n",
       "      <td>303</td>\n",
       "      <td>2062</td>\n",
       "      <td>808.877709</td>\n",
       "      <td>2024.267802</td>\n",
       "      <td>43.294118</td>\n",
       "      <td>2.445480</td>\n",
       "      <td>0.114816</td>\n",
       "      <td>1.066007</td>\n",
       "      <td>0.0</td>\n",
       "      <td>0.0</td>\n",
       "    </tr>\n",
       "  </tbody>\n",
       "</table>\n",
       "<p>5 rows × 26 columns</p>\n",
       "</div>"
      ],
      "text/plain": [
       "   merchant_abn  take_rate  average_merchant_fraud_probability  \\\n",
       "0   10023283211       0.18                                 0.0   \n",
       "1   10142254217       4.22                                 0.0   \n",
       "2   10165489824       4.40                                 0.0   \n",
       "3   10187291046       3.29                                 0.0   \n",
       "4   10192359162       6.33                                 0.0   \n",
       "\n",
       "   number_of_unique_consumers  average_consumer_fraud_probability  \\\n",
       "0                        2525                            0.095502   \n",
       "1                        2389                            0.064356   \n",
       "2                           0                            0.000000   \n",
       "3                         291                            0.058022   \n",
       "4                         321                            0.036126   \n",
       "\n",
       "   number_of_repeat_consumers  average_repeat_transactions_per_consumer  \\\n",
       "0                         174                                  1.071683   \n",
       "1                         151                                  1.064881   \n",
       "2                           0                                  0.000000   \n",
       "3                           1                                  1.003436   \n",
       "4                           2                                  1.006231   \n",
       "\n",
       "   consumer_retainability  number_of_orders  average_cost_of_order  ...  \\\n",
       "0                0.068911              2706             215.797947  ...   \n",
       "1                0.063206              2544              38.591470  ...   \n",
       "2                0.000000                 4            8885.894209  ...   \n",
       "3                0.003436               292             115.995570  ...   \n",
       "4                0.006231               323             460.347109  ...   \n",
       "\n",
       "   number_of_postcodes  most_popular_postcode  \\\n",
       "0                 1628                   3275   \n",
       "1                 1591                   6438   \n",
       "2                    4                   2534   \n",
       "3                  273                   5067   \n",
       "4                  303                   2062   \n",
       "\n",
       "   avg_total_weekly_personal_income  avg_total_weekly_fam_income  \\\n",
       "0                        786.702328                  1971.123799   \n",
       "1                        792.250000                  1983.427083   \n",
       "2                        817.500000                  2066.125000   \n",
       "3                        796.547945                  1961.171233   \n",
       "4                        808.877709                  2024.267802   \n",
       "\n",
       "   avg_median_age  avg_household_size  postcode_reach  \\\n",
       "0       43.031966            2.456914        0.616900   \n",
       "1       42.850629            2.464025        0.602880   \n",
       "2       41.625000            2.475000        0.001516   \n",
       "3       43.125000            2.449418        0.103448   \n",
       "4       43.294118            2.445480        0.114816   \n",
       "\n",
       "   avg_num_of_consumers_per_postcode  segment_indexed  revenue_level_indexed  \n",
       "0                           1.662162              2.0                    4.0  \n",
       "1                           1.598994              1.0                    1.0  \n",
       "2                           1.000000              3.0                    1.0  \n",
       "3                           1.069597              3.0                    1.0  \n",
       "4                           1.066007              0.0                    0.0  \n",
       "\n",
       "[5 rows x 26 columns]"
      ]
     },
     "execution_count": 277,
     "metadata": {},
     "output_type": "execute_result"
    }
   ],
   "source": [
    "future_modelling_df.head()"
   ]
  },
  {
   "cell_type": "code",
   "execution_count": null,
   "metadata": {},
   "outputs": [],
   "source": [
    "future_features_unique_customers = future_modelling_df.drop(columns = [\"merchant_abn\",target_variable])"
   ]
  },
  {
   "cell_type": "code",
   "execution_count": null,
   "metadata": {},
   "outputs": [
    {
     "data": {
      "text/plain": [
       "Index(['take_rate', 'average_merchant_fraud_probability',\n",
       "       'average_consumer_fraud_probability', 'number_of_repeat_consumers',\n",
       "       'average_repeat_transactions_per_consumer', 'consumer_retainability',\n",
       "       'number_of_orders', 'average_cost_of_order',\n",
       "       'average_spend_per_consumer', 'average_monthly_diff_consumers',\n",
       "       'consumer_diff_over_period', 'average_growth',\n",
       "       'merchant_revenue_rounded', 'transcation_period_months',\n",
       "       'number_of_postcodes', 'most_popular_postcode',\n",
       "       'avg_total_weekly_personal_income', 'avg_total_weekly_fam_income',\n",
       "       'avg_median_age', 'avg_household_size', 'postcode_reach',\n",
       "       'avg_num_of_consumers_per_postcode', 'segment_indexed',\n",
       "       'revenue_level_indexed'],\n",
       "      dtype='object')"
      ]
     },
     "execution_count": 286,
     "metadata": {},
     "output_type": "execute_result"
    }
   ],
   "source": [
    "future_features_unique_customers.columns"
   ]
  },
  {
   "cell_type": "code",
   "execution_count": null,
   "metadata": {},
   "outputs": [],
   "source": [
    "predicted_num_of_unique_customers= num_of_unique_customers_model.predict(future_features_unique_customers[selected_features])"
   ]
  },
  {
   "cell_type": "code",
   "execution_count": null,
   "metadata": {},
   "outputs": [],
   "source": [
    "results = future_modelling_df.copy()\n",
    "results[\"predicted_num_of_unique_customers\"] = predicted_num_of_unique_customers"
   ]
  },
  {
   "cell_type": "code",
   "execution_count": null,
   "metadata": {},
   "outputs": [
    {
     "data": {
      "text/html": [
       "<div>\n",
       "<style scoped>\n",
       "    .dataframe tbody tr th:only-of-type {\n",
       "        vertical-align: middle;\n",
       "    }\n",
       "\n",
       "    .dataframe tbody tr th {\n",
       "        vertical-align: top;\n",
       "    }\n",
       "\n",
       "    .dataframe thead th {\n",
       "        text-align: right;\n",
       "    }\n",
       "</style>\n",
       "<table border=\"1\" class=\"dataframe\">\n",
       "  <thead>\n",
       "    <tr style=\"text-align: right;\">\n",
       "      <th></th>\n",
       "      <th>merchant_abn</th>\n",
       "      <th>take_rate</th>\n",
       "      <th>average_merchant_fraud_probability</th>\n",
       "      <th>number_of_unique_consumers</th>\n",
       "      <th>average_consumer_fraud_probability</th>\n",
       "      <th>number_of_repeat_consumers</th>\n",
       "      <th>average_repeat_transactions_per_consumer</th>\n",
       "      <th>consumer_retainability</th>\n",
       "      <th>number_of_orders</th>\n",
       "      <th>average_cost_of_order</th>\n",
       "      <th>...</th>\n",
       "      <th>most_popular_postcode</th>\n",
       "      <th>avg_total_weekly_personal_income</th>\n",
       "      <th>avg_total_weekly_fam_income</th>\n",
       "      <th>avg_median_age</th>\n",
       "      <th>avg_household_size</th>\n",
       "      <th>postcode_reach</th>\n",
       "      <th>avg_num_of_consumers_per_postcode</th>\n",
       "      <th>segment_indexed</th>\n",
       "      <th>revenue_level_indexed</th>\n",
       "      <th>predicted_num_of_unique_customers</th>\n",
       "    </tr>\n",
       "  </thead>\n",
       "  <tbody>\n",
       "    <tr>\n",
       "      <th>0</th>\n",
       "      <td>10023283211</td>\n",
       "      <td>0.18</td>\n",
       "      <td>0.0</td>\n",
       "      <td>2525</td>\n",
       "      <td>0.095502</td>\n",
       "      <td>174</td>\n",
       "      <td>1.071683</td>\n",
       "      <td>0.068911</td>\n",
       "      <td>2706</td>\n",
       "      <td>215.797947</td>\n",
       "      <td>...</td>\n",
       "      <td>3275</td>\n",
       "      <td>786.702328</td>\n",
       "      <td>1971.123799</td>\n",
       "      <td>43.031966</td>\n",
       "      <td>2.456914</td>\n",
       "      <td>0.616900</td>\n",
       "      <td>1.662162</td>\n",
       "      <td>2.0</td>\n",
       "      <td>4.0</td>\n",
       "      <td>2722.430357</td>\n",
       "    </tr>\n",
       "    <tr>\n",
       "      <th>1</th>\n",
       "      <td>10142254217</td>\n",
       "      <td>4.22</td>\n",
       "      <td>0.0</td>\n",
       "      <td>2389</td>\n",
       "      <td>0.064356</td>\n",
       "      <td>151</td>\n",
       "      <td>1.064881</td>\n",
       "      <td>0.063206</td>\n",
       "      <td>2544</td>\n",
       "      <td>38.591470</td>\n",
       "      <td>...</td>\n",
       "      <td>6438</td>\n",
       "      <td>792.250000</td>\n",
       "      <td>1983.427083</td>\n",
       "      <td>42.850629</td>\n",
       "      <td>2.464025</td>\n",
       "      <td>0.602880</td>\n",
       "      <td>1.598994</td>\n",
       "      <td>1.0</td>\n",
       "      <td>1.0</td>\n",
       "      <td>2484.545816</td>\n",
       "    </tr>\n",
       "    <tr>\n",
       "      <th>2</th>\n",
       "      <td>10165489824</td>\n",
       "      <td>4.40</td>\n",
       "      <td>0.0</td>\n",
       "      <td>0</td>\n",
       "      <td>0.000000</td>\n",
       "      <td>0</td>\n",
       "      <td>0.000000</td>\n",
       "      <td>0.000000</td>\n",
       "      <td>4</td>\n",
       "      <td>8885.894209</td>\n",
       "      <td>...</td>\n",
       "      <td>2534</td>\n",
       "      <td>817.500000</td>\n",
       "      <td>2066.125000</td>\n",
       "      <td>41.625000</td>\n",
       "      <td>2.475000</td>\n",
       "      <td>0.001516</td>\n",
       "      <td>1.000000</td>\n",
       "      <td>3.0</td>\n",
       "      <td>1.0</td>\n",
       "      <td>-69.103121</td>\n",
       "    </tr>\n",
       "    <tr>\n",
       "      <th>3</th>\n",
       "      <td>10187291046</td>\n",
       "      <td>3.29</td>\n",
       "      <td>0.0</td>\n",
       "      <td>291</td>\n",
       "      <td>0.058022</td>\n",
       "      <td>1</td>\n",
       "      <td>1.003436</td>\n",
       "      <td>0.003436</td>\n",
       "      <td>292</td>\n",
       "      <td>115.995570</td>\n",
       "      <td>...</td>\n",
       "      <td>5067</td>\n",
       "      <td>796.547945</td>\n",
       "      <td>1961.171233</td>\n",
       "      <td>43.125000</td>\n",
       "      <td>2.449418</td>\n",
       "      <td>0.103448</td>\n",
       "      <td>1.069597</td>\n",
       "      <td>3.0</td>\n",
       "      <td>1.0</td>\n",
       "      <td>98.793081</td>\n",
       "    </tr>\n",
       "    <tr>\n",
       "      <th>4</th>\n",
       "      <td>10192359162</td>\n",
       "      <td>6.33</td>\n",
       "      <td>0.0</td>\n",
       "      <td>321</td>\n",
       "      <td>0.036126</td>\n",
       "      <td>2</td>\n",
       "      <td>1.006231</td>\n",
       "      <td>0.006231</td>\n",
       "      <td>323</td>\n",
       "      <td>460.347109</td>\n",
       "      <td>...</td>\n",
       "      <td>2062</td>\n",
       "      <td>808.877709</td>\n",
       "      <td>2024.267802</td>\n",
       "      <td>43.294118</td>\n",
       "      <td>2.445480</td>\n",
       "      <td>0.114816</td>\n",
       "      <td>1.066007</td>\n",
       "      <td>0.0</td>\n",
       "      <td>0.0</td>\n",
       "      <td>212.038242</td>\n",
       "    </tr>\n",
       "  </tbody>\n",
       "</table>\n",
       "<p>5 rows × 27 columns</p>\n",
       "</div>"
      ],
      "text/plain": [
       "   merchant_abn  take_rate  average_merchant_fraud_probability  \\\n",
       "0   10023283211       0.18                                 0.0   \n",
       "1   10142254217       4.22                                 0.0   \n",
       "2   10165489824       4.40                                 0.0   \n",
       "3   10187291046       3.29                                 0.0   \n",
       "4   10192359162       6.33                                 0.0   \n",
       "\n",
       "   number_of_unique_consumers  average_consumer_fraud_probability  \\\n",
       "0                        2525                            0.095502   \n",
       "1                        2389                            0.064356   \n",
       "2                           0                            0.000000   \n",
       "3                         291                            0.058022   \n",
       "4                         321                            0.036126   \n",
       "\n",
       "   number_of_repeat_consumers  average_repeat_transactions_per_consumer  \\\n",
       "0                         174                                  1.071683   \n",
       "1                         151                                  1.064881   \n",
       "2                           0                                  0.000000   \n",
       "3                           1                                  1.003436   \n",
       "4                           2                                  1.006231   \n",
       "\n",
       "   consumer_retainability  number_of_orders  average_cost_of_order  ...  \\\n",
       "0                0.068911              2706             215.797947  ...   \n",
       "1                0.063206              2544              38.591470  ...   \n",
       "2                0.000000                 4            8885.894209  ...   \n",
       "3                0.003436               292             115.995570  ...   \n",
       "4                0.006231               323             460.347109  ...   \n",
       "\n",
       "   most_popular_postcode  avg_total_weekly_personal_income  \\\n",
       "0                   3275                        786.702328   \n",
       "1                   6438                        792.250000   \n",
       "2                   2534                        817.500000   \n",
       "3                   5067                        796.547945   \n",
       "4                   2062                        808.877709   \n",
       "\n",
       "   avg_total_weekly_fam_income  avg_median_age  avg_household_size  \\\n",
       "0                  1971.123799       43.031966            2.456914   \n",
       "1                  1983.427083       42.850629            2.464025   \n",
       "2                  2066.125000       41.625000            2.475000   \n",
       "3                  1961.171233       43.125000            2.449418   \n",
       "4                  2024.267802       43.294118            2.445480   \n",
       "\n",
       "   postcode_reach  avg_num_of_consumers_per_postcode  segment_indexed  \\\n",
       "0        0.616900                           1.662162              2.0   \n",
       "1        0.602880                           1.598994              1.0   \n",
       "2        0.001516                           1.000000              3.0   \n",
       "3        0.103448                           1.069597              3.0   \n",
       "4        0.114816                           1.066007              0.0   \n",
       "\n",
       "   revenue_level_indexed  predicted_num_of_unique_customers  \n",
       "0                    4.0                        2722.430357  \n",
       "1                    1.0                        2484.545816  \n",
       "2                    1.0                         -69.103121  \n",
       "3                    1.0                          98.793081  \n",
       "4                    0.0                         212.038242  \n",
       "\n",
       "[5 rows x 27 columns]"
      ]
     },
     "execution_count": 291,
     "metadata": {},
     "output_type": "execute_result"
    }
   ],
   "source": [
    "results.head()"
   ]
  },
  {
   "cell_type": "code",
   "execution_count": null,
   "metadata": {},
   "outputs": [],
   "source": [
    "results_df = spark.createDataFrame(results)"
   ]
  },
  {
   "cell_type": "code",
   "execution_count": null,
   "metadata": {},
   "outputs": [],
   "source": [
    "results_df = results_df.select(f.col(\"merchant_abn\"),f.col(\"predicted_num_of_unique_customers\"))"
   ]
  },
  {
   "cell_type": "code",
   "execution_count": null,
   "metadata": {},
   "outputs": [],
   "source": [
    "joined = joined.join(results_df, on = \"merchant_abn\", how = \"inner\")"
   ]
  },
  {
   "cell_type": "code",
   "execution_count": null,
   "metadata": {},
   "outputs": [],
   "source": [
    "joined = joined.withColumn(\"predicted_num_of_unique_customers\", f.when(joined.predicted_num_of_unique_customers < 0, 0).otherwise(f.round(joined.predicted_num_of_unique_customers)))"
   ]
  },
  {
   "cell_type": "code",
   "execution_count": null,
   "metadata": {},
   "outputs": [
    {
     "name": "stdout",
     "output_type": "stream",
     "text": [
      "+------------+--------------------+-------------+---------+----------------------------------+--------------------------+----------------------------------+--------------------------+----------------------------------------+----------------------+----------------+---------------------+--------------------------+------------------------------+-------------------------+-------------------+------------------------+--------------------------+-------------------------+-------------------------+-------------------+---------------------+--------------------------------+---------------------------+------------------+------------------+--------------------+---------------------------------+--------------------+---------------------------------+\n",
      "|merchant_abn|                name|revenue_level|take_rate|average_merchant_fraud_probability|number_of_unique_consumers|average_consumer_fraud_probability|number_of_repeat_consumers|average_repeat_transactions_per_consumer|consumer_retainability|number_of_orders|average_cost_of_order|average_spend_per_consumer|average_monthly_diff_consumers|consumer_diff_over_period|     average_growth|merchant_revenue_rounded|first_recorded_transaction|last_recorded_transaction|transcation_period_months|number_of_postcodes|most_popular_postcode|avg_total_weekly_personal_income|avg_total_weekly_fam_income|    avg_median_age|avg_household_size|      postcode_reach|avg_num_of_consumers_per_postcode|             segment|predicted_num_of_unique_customers|\n",
      "+------------+--------------------+-------------+---------+----------------------------------+--------------------------+----------------------------------+--------------------------+----------------------------------------+----------------------+----------------+---------------------+--------------------------+------------------------------+-------------------------+-------------------+------------------------+--------------------------+-------------------------+-------------------------+-------------------+---------------------+--------------------------------+---------------------------+------------------+------------------+--------------------+---------------------------------+--------------------+---------------------------------+\n",
      "| 10023283211|       Felis Limited|            e|     0.18|                               0.0|                      2525|               0.09550203852496945|                       174|                      1.0716831683168317|   0.06891089108910892|            2706|   215.79794727658071|        231.26702785363457|                          7.75|                      155| 1.6046332082163945|               583949.25|                2021-02-28|               2022-10-18|              19.67741935|               1628|                 3275|               786.7023281596453|         1971.1237989652623|43.031966001478196|2.4569142645971915|  0.6169003410382721|                1.662162162162162|garden_and_furnis...|                           2722.0|\n",
      "| 10142254217|Arcu Ac Orci Corp...|            b|     4.22|                               0.0|                      2389|                 0.064355829988316|                       151|                      1.0648807032231058|   0.06320636249476769|            2544|      38.591469635076|         41.09531132341288|                          9.15|                      183|  5.252766929164762|                 98176.7|                2021-02-28|               2022-10-07|              19.32258065|               1591|                 6438|                          792.25|         1983.4270833333333|42.850628930817614|2.4640251572327037|  0.6028798787419477|               1.5989943431803897|tech_and_electronics|                           2485.0|\n",
      "| 10165489824|    Nunc Sed Company|            b|      4.4|                               0.0|                         0|                               0.0|                         0|                                     0.0|                   0.0|               4|    8885.894209136208|         8885.894209136208|                           0.0|                        0|                0.0|                35543.58|                2022-02-21|               2022-09-18|               6.90322581|                  4|                 2534|                           817.5|                   2066.125|            41.625|2.4749999999999996|0.001515725653656...|                              1.0|antiques_and_jewe...|                              0.0|\n",
      "| 10187291046|Ultricies Digniss...|            b|     3.29|                               0.0|                       291|              0.058021579050471644|                         1|                      1.0034364261168385|  0.003436426116838488|             292|   115.99556992718271|        116.39418013311806|            0.3157894736842105|                        6|0.09195512090248932|                33870.71|                2021-03-27|               2022-10-17|              18.67741935|                273|                 5067|               796.5479452054794|         1961.1712328767123|            43.125| 2.449417808219178| 0.10344827586206896|               1.0695970695970696|antiques_and_jewe...|                             99.0|\n",
      "| 10192359162| Enim Condimentum PC|            a|     6.33|                               0.0|                       321|               0.03612632221253988|                         2|                      1.0062305295950156|  0.006230529595015576|             323|   460.34710880460494|         463.2153150899919|            0.7368421052631579|                       14|0.17898978906596635|               148692.12|                2021-03-10|               2022-10-02|              18.74193548|                303|                 2062|               808.8777089783282|          2024.267801857585|43.294117647058826| 2.445479876160991| 0.11481621826449413|                1.066006600660066|  retail_and_novelty|                            212.0|\n",
      "| 10206519221|       Fusce Company|            a|     6.34|                               0.0|                      6652|               0.05811880333425346|                      1302|                       1.222489476849068|    0.1957306073361395|            8132|    37.38562601511928|         45.70353438889805|                          20.9|                      418|  2.202518042734148|               304019.91|                2021-02-28|               2022-10-10|              19.41935484|               2438|                 5273|               787.4551155927201|         1969.9857353664536| 43.11184210526316|2.4536091982292185|  0.9238347859037515|                 3.33552091878589|  retail_and_novelty|                           6944.0|\n",
      "| 10255988167|Aliquam Enim Inco...|            b|     4.32|                               0.0|                       676|              0.047893142534478364|                        13|                      1.0192307692307692|  0.019230769230769232|             689|   386.90875186908147|         394.3493047896408|           0.05263157894736842|                        1|0.07469067478301186|               266580.13|                2021-03-13|               2022-10-18|              19.16129032|                591|                 2448|               787.7039187227866|         1962.8512336719884| 43.33309143686502| 2.456923076923077| 0.22394846532777568|               1.1658206429780034|tech_and_electronics|                            781.0|\n",
      "| 10264435225|    Ipsum Primis Ltd|            c|     2.39|                               0.0|                      3792|               0.06804534325540773|                       386|                      1.1075949367088607|   0.10179324894514769|            4200|   117.50221891972741|        130.14486272754618|                         10.35|                      207| 1.1419696673782629|               493509.32|                2021-02-28|               2022-10-08|              19.35483871|               2029|                 5356|               791.6504761904762|         1976.6973809523809|43.102380952380955|2.4587380952380955|  0.7688518378173551|                2.069985214391326|antiques_and_jewe...|                           3917.0|\n",
      "| 10279061213|Pede Ultrices Ind...|            a|     5.71|                               0.0|                       458|               0.01866722174155936|                         5|                      1.0131004366812226|  0.010917030567685589|             464|    299.4048749701041|         303.3272095766994|            0.7368421052631579|                       14|0.08236989285561777|               138923.86|                2021-03-28|               2022-10-21|              18.77419355|                419|                 2034|               812.3491379310345|         2018.7068965517242| 42.73922413793103|2.4531465517241378| 0.15877226222053809|                1.107398568019093|tech_and_electronics|                            416.0|\n",
      "| 10323485998|           Nunc Inc.|            a|     6.61|                               0.0|                      7032|              0.049713938502959826|                      1387|                      1.2293799772468714|   0.19724118316268488|            8645|   128.33862949420438|         157.7769414074797|                         23.75|                      475| 1.6049661717685832|              1109487.45|                2021-02-28|               2022-10-26|              19.93548387|               2446|                 4856|               790.5197223828803|         1979.6085020242915|  43.1294968189705|2.4569450549450558|  0.9268662372110648|                3.534341782502044|garden_and_furnis...|                           6900.0|\n",
      "| 10342410215|Facilisis Facilis...|            a|     6.34|                               0.0|                       705|               0.04047445468895482|                         6|                      1.0085106382978724|   0.00851063829787234|             711|   381.38179415453544|         384.6275966579783|                           1.4|                       28| 1.1573738974478252|               271162.46|                2021-02-28|               2022-10-20|              19.74193548|                619|                 3458|               792.8706047819971|         1999.0246132208158|43.326300984528835| 2.458368495077356|  0.2345585449033725|                1.148626817447496|tech_and_electronics|                            330.0|\n",
      "| 10346855916|      Odio Institute|            b|     3.57|                               0.0|                         0|                               0.0|                         0|                                     0.0|                   0.0|               8|   1982.5698920010877|        1982.5698920010877|                           0.0|                        0|                0.1|                15860.56|                2021-04-29|               2022-08-29|                     16.0|                  8|                 5156|                         768.375|                     1979.0|           43.4375|            2.5225|0.003031451307313...|                              1.0|garden_and_furnis...|                              0.0|\n",
      "| 10364012396|    Rutrum Justo Ltd|            b|     3.63|                               0.0|                         0|                               0.0|                         0|                                     0.0|                   0.0|              34|    464.2865814927661|         464.2865814927661|                           0.0|                        0| 0.3354166666666667|                15785.74|                2021-04-30|               2022-10-04|              17.16129032|                 34|                 5640|               832.8823529411765|         2171.9117647058824|              41.5|2.5911764705882345|0.012883668056081848|                              1.0|  retail_and_novelty|                              0.0|\n",
      "| 10385011947|   Tellus Foundation|            b|     3.17|                               0.0|                         0|                               0.0|                         0|                                     0.0|                   0.0|              21|    642.5917816808204|         642.5917816808203|                           0.0|                        0|  0.282051282051282|                13494.43|                2021-04-28|               2022-09-13|              16.51612903|                 21|                 5221|               741.5714285714286|                     1879.5| 41.45238095238095|2.4642857142857144|0.007957559681697613|                              1.0|  retail_and_novelty|                              0.0|\n",
      "| 10385163239|      Sed Et Company|            a|     6.61|                               0.0|                        63|                               0.0|                         1|                      1.0158730158730158|  0.015873015873015872|              64|     350.379886704662|        355.94147220791064|           0.16666666666666666|                        3|0.47208994708994695|                22424.31|                2021-04-19|               2022-10-01|              17.41935484|                 62|                 3984|                     793.0859375|                1989.890625|         42.328125|2.4981249999999995|0.023493747631678667|                1.032258064516129|garden_and_furnis...|                            592.0|\n",
      "| 10385250025|              Id Ltd|            a|     5.54|                               0.0|                       557|               0.05907105598005916|                         4|                       1.007181328545781|   0.00718132854578097|             561|    499.4381746881015|          503.024804308842|                          0.95|                       19| 0.5381155473089205|               280184.82|                2021-02-28|               2022-10-01|              19.12903226|                510|                 7184|               783.6408199643494|         1976.5802139037432| 43.34313725490196| 2.453921568627451| 0.19325502084122773|                              1.1|tech_and_electronics|                            270.0|\n",
      "| 10404542215|Consequat Foundation|            a|     6.93|                               0.0|                         0|                               0.0|                         0|                                     0.0|                   0.0|               1|   22773.975280323484|        22773.975280323484|                           0.0|                        0|                0.0|                22773.98|                2021-10-24|               2021-10-24|                      0.0|                  1|                 5267|                           710.5|                     1600.5|              44.5|               2.3|3.789314134141720...|                              1.0|antiques_and_jewe...|                              0.0|\n",
      "| 10430380319|Sit Amet Nulla Corp.|            b|     4.97|                               0.0|                         0|                               0.0|                         0|                                     0.0|                   0.0|             135|   336.16920248344877|        336.16920248344877|            0.3157894736842105|                        6|0.14598997493734336|                45382.84|                2021-03-21|               2022-10-02|              18.38709677|                135|                 5483|               785.7481481481482|          1953.625925925926| 42.93703703703704|2.4042222222222227|0.051155740810913224|                              1.0|specialized_services|                              0.0|\n",
      "| 10441711491|Massa Vestibulum ...|            a|     5.77|                               0.0|                         0|                               0.0|                         0|                                     0.0|                   0.0|               3|    5751.207887182689|         5751.207887182689|                           0.0|                        0|                0.0|                17253.62|                2021-03-29|               2022-06-30|              15.03225806|                  3|                 4124|               758.3333333333334|         1945.6666666666667|37.333333333333336| 2.623333333333333|0.001136794240242...|                              1.0|specialized_services|                              0.0|\n",
      "| 10462560289|       Ut Consulting|            c|     2.95|                               0.0|                      1306|              0.006131016765212672|                        52|                      1.0398162327718223|  0.039816232771822356|            1358|    35.14025944540567|        36.539412195146156|                          3.55|                       71| 2.5385092992191227|                47720.47|                2021-02-28|               2022-10-23|              19.83870968|               1022|                 3122|               789.9506627393225|         1977.5073637702503|43.198821796759944|2.4378276877761413| 0.38726790450928383|               1.3287671232876712|  retail_and_novelty|                           1605.0|\n",
      "+------------+--------------------+-------------+---------+----------------------------------+--------------------------+----------------------------------+--------------------------+----------------------------------------+----------------------+----------------+---------------------+--------------------------+------------------------------+-------------------------+-------------------+------------------------+--------------------------+-------------------------+-------------------------+-------------------+---------------------+--------------------------------+---------------------------+------------------+------------------+--------------------+---------------------------------+--------------------+---------------------------------+\n",
      "only showing top 20 rows\n",
      "\n"
     ]
    }
   ],
   "source": [
    "joined.show()"
   ]
  },
  {
   "cell_type": "code",
   "execution_count": null,
   "metadata": {},
   "outputs": [],
   "source": [
    "spark.stop()"
   ]
  }
 ],
 "metadata": {
  "kernelspec": {
   "display_name": "Python 3",
   "language": "python",
   "name": "python3"
  },
  "language_info": {
   "codemirror_mode": {
    "name": "ipython",
    "version": 3
   },
   "file_extension": ".py",
   "mimetype": "text/x-python",
   "name": "python",
   "nbconvert_exporter": "python",
   "pygments_lexer": "ipython3",
   "version": "3.9.5"
  },
  "orig_nbformat": 4
 },
 "nbformat": 4,
 "nbformat_minor": 2
}
