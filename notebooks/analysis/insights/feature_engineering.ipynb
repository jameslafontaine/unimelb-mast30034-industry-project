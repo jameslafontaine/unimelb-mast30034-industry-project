{
 "cells": [
  {
   "cell_type": "markdown",
   "metadata": {},
   "source": [
    "# Feature Engineering with Modelling\n",
    "## Author: Dulan Wijeratne 1181873"
   ]
  },
  {
   "cell_type": "markdown",
   "metadata": {},
   "source": [
    "In this notebook we will make new features using modelling techniques."
   ]
  },
  {
   "cell_type": "markdown",
   "metadata": {},
   "source": [
    "First we will start by creating a Spark session and reading in the joined aggregated data."
   ]
  },
  {
   "cell_type": "code",
   "execution_count": 3,
   "metadata": {},
   "outputs": [],
   "source": [
    "from pyspark.sql import SparkSession, functions as f"
   ]
  },
  {
   "cell_type": "code",
   "execution_count": 4,
   "metadata": {},
   "outputs": [
    {
     "name": "stderr",
     "output_type": "stream",
     "text": [
      "your 131072x1 screen size is bogus. expect trouble\n",
      "23/09/30 10:41:12 WARN Utils: Your hostname, LAPTOP-RELH58H1 resolves to a loopback address: 127.0.1.1; using 172.19.22.4 instead (on interface eth0)\n",
      "23/09/30 10:41:12 WARN Utils: Set SPARK_LOCAL_IP if you need to bind to another address\n",
      "Setting default log level to \"WARN\".\n",
      "To adjust logging level use sc.setLogLevel(newLevel). For SparkR, use setLogLevel(newLevel).\n",
      "23/09/30 10:41:15 WARN NativeCodeLoader: Unable to load native-hadoop library for your platform... using builtin-java classes where applicable\n",
      "23/09/30 10:41:16 WARN Utils: Service 'SparkUI' could not bind on port 4040. Attempting port 4041.\n"
     ]
    }
   ],
   "source": [
    "spark = (\n",
    "    SparkSession.builder.appName(\"feature_engineering\")\n",
    "    .config(\"spark.sql.repl.eagerEval.enabled\", True) \n",
    "    .config(\"spark.sql.parquet.cacheMetadata\", \"true\")\n",
    "    .config(\"spark.sql.session.timeZone\", \"Etc/UTC\")\n",
    "    .config(\"spark.sql.session.timeZone\", \"Etc/UTC\")\n",
    "    .config('spark.driver.memory', '3g')   \n",
    "    .config('spark.executor.memory', '4g')  \n",
    "    .config('spark.executor.instances', '2')  \n",
    "    .config('spark.executor.cores', '2')\n",
    "    .getOrCreate()\n",
    ")"
   ]
  },
  {
   "cell_type": "code",
   "execution_count": 5,
   "metadata": {},
   "outputs": [
    {
     "name": "stderr",
     "output_type": "stream",
     "text": [
      "                                                                                \r"
     ]
    }
   ],
   "source": [
    "joined = spark.read.parquet(\"../../../data/insights/joined.parquet\")"
   ]
  },
  {
   "cell_type": "code",
   "execution_count": 6,
   "metadata": {},
   "outputs": [
    {
     "name": "stderr",
     "output_type": "stream",
     "text": [
      "23/09/30 10:41:25 WARN package: Truncated the string representation of a plan since it was too large. This behavior can be adjusted by setting 'spark.sql.debug.maxToStringFields'.\n",
      "                                                                                \r"
     ]
    },
    {
     "name": "stdout",
     "output_type": "stream",
     "text": [
      "+------------+--------------------+-------------+---------+----------------------------------+--------------------------+----------------------------------+--------------------------+----------------------------------------+----------------------+----------------+---------------------+--------------------------+------------------------------+-------------------------+------------------------+------------------------+--------------------------+-------------------------+-------------------------+-------------------+--------------------------------+---------------------------+------------------+------------------+--------------------+---------------------------------+--------------------+\n",
      "|merchant_abn|                name|revenue_level|take_rate|average_merchant_fraud_probability|number_of_unique_consumers|average_consumer_fraud_probability|number_of_repeat_consumers|average_repeat_transactions_per_consumer|consumer_retainability|number_of_orders|average_cost_of_order|average_spend_per_consumer|average_monthly_diff_consumers|consumer_diff_over_period|average_growth_consumers|merchant_revenue_rounded|first_recorded_transaction|last_recorded_transaction|transcation_period_months|number_of_postcodes|avg_total_weekly_personal_income|avg_total_weekly_fam_income|    avg_median_age|avg_household_size|      postcode_reach|avg_num_of_consumers_per_postcode|             segment|\n",
      "+------------+--------------------+-------------+---------+----------------------------------+--------------------------+----------------------------------+--------------------------+----------------------------------------+----------------------+----------------+---------------------+--------------------------+------------------------------+-------------------------+------------------------+------------------------+--------------------------+-------------------------+-------------------------+-------------------+--------------------------------+---------------------------+------------------+------------------+--------------------+---------------------------------+--------------------+\n",
      "| 39150153670|Aliquam Eu Institute|            a|     6.99|                               0.0|                      null|                              null|                      null|                                    null|                  null|               1|             38089.94|                  38089.94|                          null|                     null|                    null|                38089.94|                2021-05-31|               2021-05-31|                      0.0|                  1|                           863.5|                     2021.5|              38.5|              2.45|3.789314134141720...|                              1.0|antiques_and_jewe...|\n",
      "| 42461534060|            Elit LLP|            b|     3.98|                               0.0|                      null|                              null|                      null|                                    null|                  null|               1|             22600.11|                  22600.11|                          null|                     null|                    null|                22600.11|                2022-02-03|               2022-02-03|                      0.0|                  1|                           740.0|                     1799.0|              41.5|               2.6|3.789314134141720...|                              1.0|antiques_and_jewe...|\n",
      "| 46537010521|Tempor Augue Ac C...|            c|     2.18|                               0.0|                      null|                              null|                      null|                                    null|                  null|               1|             25661.55|                  25661.55|                          null|                     null|                    null|                25661.55|                2022-10-05|               2022-10-05|                      0.0|                  1|                           931.0|                     1980.0|              39.0|               2.5|3.789314134141720...|                              1.0|antiques_and_jewe...|\n",
      "| 24526454463|   Penatibus Limited|            c|     2.95|                               0.0|                      null|                              null|                      null|                                    null|                  null|               3|    7027.026666666668|         7027.026666666668|                          null|                     null|                    null|                21081.08|                2022-03-27|               2022-03-04|              -0.74193548|                  3|                           672.0|         1647.3333333333333|47.833333333333336| 2.393333333333333|0.001136794240242...|                              1.0|antiques_and_jewe...|\n",
      "| 47047735645|Aenean Gravida In...|            c|     1.54|                               0.0|                      null|                              null|                      null|                                    null|                  null|               1|             40896.26|                  40896.26|                          null|                     null|                    null|                40896.26|                2022-04-24|               2022-04-24|                      0.0|                  1|                           652.0|                     2064.0|              27.0|               1.8|3.789314134141720...|                              1.0|antiques_and_jewe...|\n",
      "| 28311306642|Egestas Nunc Sed LLC|            b|     4.93|                               0.0|                      null|                              null|                      null|                                    null|                  null|               1|             21159.33|                  21159.33|                          null|                     null|                    null|                21159.33|                2022-08-31|               2022-08-31|                      0.0|                  1|                           791.5|                     2022.0|              41.5|               2.5|3.789314134141720...|                              1.0|antiques_and_jewe...|\n",
      "| 29068447069|       Phasellus LLP|            b|     3.28|                               0.0|                      null|                              null|                      null|                                    null|                  null|               1|             36950.79|                  36950.79|                          null|                     null|                    null|                36950.79|                2021-09-21|               2021-09-21|                      0.0|                  1|                           796.0|                     1855.0|              43.0|               2.3|3.789314134141720...|                              1.0|antiques_and_jewe...|\n",
      "| 24212300522|Consectetuer Indu...|            b|     4.04|                               0.0|                      null|                              null|                      null|                                    null|                  null|               1|             16065.15|                  16065.15|                          null|                     null|                    null|                16065.15|                2021-07-13|               2021-07-13|                      0.0|                  1|                           750.0|                     1919.5|              45.0|               2.4|3.789314134141720...|                              1.0|antiques_and_jewe...|\n",
      "| 10404542215|Consequat Foundation|            a|     6.93|                               0.0|                      null|                              null|                      null|                                    null|                  null|               1|             22773.98|                  22773.98|                          null|                     null|                    null|                22773.98|                2021-10-24|               2021-10-24|                      0.0|                  1|                           710.5|                     1600.5|              44.5|               2.3|3.789314134141720...|                              1.0|antiques_and_jewe...|\n",
      "| 51425051982|     Sem Corporation|            a|     5.71|                               0.0|                      null|                              null|                      null|                                    null|                  null|               1|              7677.63|                   7677.63|                          null|                     null|                    null|                 7677.63|                2022-06-26|               2022-06-26|                      0.0|                  1|                           471.0|                     1176.0|              55.0|               2.2|3.789314134141720...|                              1.0|antiques_and_jewe...|\n",
      "| 52524795452|Cras Convallis As...|            a|     5.89|                               0.0|                      null|                              null|                      null|                                    null|                  null|               1|             12864.45|                  12864.45|                          null|                     null|                    null|                12864.45|                2022-04-30|               2022-04-30|                      0.0|                  1|                           638.0|                     1758.0|              47.0|               2.3|3.789314134141720...|                              1.0|antiques_and_jewe...|\n",
      "| 62688594508|Lobortis Nisi Ass...|            d|     0.88|                               0.0|                      null|                              null|                      null|                                    null|                  null|               1|             21112.57|                  21112.57|                          null|                     null|                    null|                21112.57|                2021-03-20|               2021-03-20|                      0.0|                  1|                           638.0|                     1520.0|              26.0|               1.7|3.789314134141720...|                              1.0|antiques_and_jewe...|\n",
      "| 67264251405|Elit Dictum Eu Fo...|            a|      6.4|                           18.2109|                      null|                              null|                      null|                                    null|                  null|               1|             51876.64|                  51876.64|                          null|                     null|                    null|                51876.64|                2021-10-19|               2021-10-19|                      0.0|                  1|                           767.0|                     2162.0|              40.0|               2.8|3.789314134141720...|                              1.0|antiques_and_jewe...|\n",
      "| 93267734067|    Curae Foundation|            c|     2.57|                               0.0|                      null|                              null|                      null|                                    null|                  null|               1|             16394.52|                  16394.52|                          null|                     null|                    null|                16394.52|                2022-07-23|               2022-07-23|                      0.0|                  1|                           836.0|                     2304.0|              48.0|              2.53|3.789314134141720...|                              1.0|antiques_and_jewe...|\n",
      "| 31686734877|   Etiam Laoreet LLP|            c|     2.49|                               0.0|                       313|               0.12592397476340694|                         4|                       1.012779552715655|  0.012779552715654952|             317|   197.33182965299684|        199.85364217252396|           -0.5789473684210527|                      -11|     0.06880937920108736|                62554.19|                2021-03-29|               2022-10-06|              18.25806452|                297|               796.3470031545742|          1977.711356466877| 42.96214511041009|2.4413564668769716|  0.1125426297840091|               1.0673400673400673|specialized_services|\n",
      "| 26259500279|Aliquet Vel Indus...|            c|     1.51|                               0.0|                       137|                               0.0|                         1|                      1.0072992700729928|  0.007299270072992...|             138|    526.3766666666667|         530.2188321167883|           -0.5263157894736842|                      -10|      0.1212443988759778|                72639.98|                2021-03-29|               2022-10-17|              18.61290323|                136|               767.1884057971015|         1943.6920289855072| 43.55072463768116| 2.442246376811594|0.051534672224327394|               1.0147058823529411|  retail_and_novelty|\n",
      "| 84391677958|Tortor Nunc Found...|            b|     3.84|                               0.0|                      1173|              0.028420965058236273|                        29|                      1.0247229326513214|    0.0247229326513214|            1202|   51.896081530782034|         53.17910485933503|           -0.5263157894736842|                      -10|    0.013218418163825477|                62379.09|                2021-03-03|               2022-10-22|              19.61290323|                948|               784.0212146422629|         1965.2375207986688| 43.46838602329451| 2.445440931780366|  0.3592269799166351|               1.2679324894514767|tech_and_electronics|\n",
      "| 27657048362|Elementum Purus F...|            c|     2.61|                               0.0|                       402|               0.10958697788697788|                         5|                      1.0124378109452736|  0.012437810945273632|             407|    71.59633906633907|          72.4868407960199|          -0.47368421052631576|                       -9|     0.03698534324994927|                29139.71|                2021-03-21|               2022-10-01|              18.35483871|                375|               800.1572481572482|         2012.3906633906633| 42.87592137592138|2.4865110565110564| 0.14209928003031452|               1.0853333333333333|specialized_services|\n",
      "| 38672941140|Consequat Nec Mol...|            a|      6.4|                               0.0|                       478|                1.2168316872427982|                         8|                      1.0167364016736402|  0.016736401673640166|             486|   1685.5333127572019|        1713.7430753138074|          -0.47368421052631576|                       -9|     0.04279070334984716|               819169.19|                2021-03-11|               2022-10-09|              18.93548387|                444|               785.9104938271605|         1982.7397119341563| 43.45781893004115|2.4555349794238674| 0.16824554755589238|               1.0945945945945945|garden_and_furnis...|\n",
      "| 91178385997|Pede Nonummy Limited|            a|     6.57|                               0.0|                       410|              0.023214734299516912|                         4|                      1.0097560975609756|   0.00975609756097561|             414|     96.9849275362319|         97.93112195121952|          -0.47368421052631576|                       -9|     0.16559423444899055|                40151.76|                2021-03-05|               2022-10-26|              19.67741935|                374|               770.0350241545893|         1949.6497584541062|43.341787439613526|2.4684057971014495| 0.14172034861690033|                1.106951871657754|  retail_and_novelty|\n",
      "+------------+--------------------+-------------+---------+----------------------------------+--------------------------+----------------------------------+--------------------------+----------------------------------------+----------------------+----------------+---------------------+--------------------------+------------------------------+-------------------------+------------------------+------------------------+--------------------------+-------------------------+-------------------------+-------------------+--------------------------------+---------------------------+------------------+------------------+--------------------+---------------------------------+--------------------+\n",
      "only showing top 20 rows\n",
      "\n"
     ]
    }
   ],
   "source": [
    "joined.orderBy(f.col(\"consumer_diff_over_period\").asc()).show()"
   ]
  },
  {
   "cell_type": "code",
   "execution_count": 7,
   "metadata": {},
   "outputs": [
    {
     "name": "stdout",
     "output_type": "stream",
     "text": [
      "+------------+--------------------+-------------+---------+----------------------------------+--------------------------+----------------------------------+--------------------------+----------------------------------------+----------------------+----------------+---------------------+--------------------------+------------------------------+-------------------------+------------------------+------------------------+--------------------------+-------------------------+-------------------------+-------------------+--------------------------------+---------------------------+-----------------+------------------+--------------------+---------------------------------+------------------+\n",
      "|merchant_abn|                name|revenue_level|take_rate|average_merchant_fraud_probability|number_of_unique_consumers|average_consumer_fraud_probability|number_of_repeat_consumers|average_repeat_transactions_per_consumer|consumer_retainability|number_of_orders|average_cost_of_order|average_spend_per_consumer|average_monthly_diff_consumers|consumer_diff_over_period|average_growth_consumers|merchant_revenue_rounded|first_recorded_transaction|last_recorded_transaction|transcation_period_months|number_of_postcodes|avg_total_weekly_personal_income|avg_total_weekly_fam_income|   avg_median_age|avg_household_size|      postcode_reach|avg_num_of_consumers_per_postcode|           segment|\n",
      "+------------+--------------------+-------------+---------+----------------------------------+--------------------------+----------------------------------+--------------------------+----------------------------------------+----------------------+----------------+---------------------+--------------------------+------------------------------+-------------------------+------------------------+------------------------+--------------------------+-------------------------+-------------------------+-------------------+--------------------------------+---------------------------+-----------------+------------------+--------------------+---------------------------------+------------------+\n",
      "| 71118957552|Suscipit Nonummy ...|            a|     6.77|                               0.0|                      null|                              null|                      null|                                    null|                  null|              37|    644.0862162162161|         644.0862162162161|          -0.23076923076923078|                       -3|      0.2897435897435897|                23831.19|                2021-05-31|               2022-10-22|              16.70967742|                 37|               792.4324324324324|         2029.7972972972973|43.87837837837838|2.4416216216216218|0.014020462296324365|                              1.0|retail_and_novelty|\n",
      "+------------+--------------------+-------------+---------+----------------------------------+--------------------------+----------------------------------+--------------------------+----------------------------------------+----------------------+----------------+---------------------+--------------------------+------------------------------+-------------------------+------------------------+------------------------+--------------------------+-------------------------+-------------------------+-------------------+--------------------------------+---------------------------+-----------------+------------------+--------------------+---------------------------------+------------------+\n",
      "\n"
     ]
    }
   ],
   "source": [
    "joined.filter(joined.merchant_abn == 71118957552).show()"
   ]
  },
  {
   "cell_type": "code",
   "execution_count": 8,
   "metadata": {},
   "outputs": [
    {
     "ename": "AnalysisException",
     "evalue": "[UNRESOLVED_COLUMN.WITH_SUGGESTION] A column or function parameter with name `average_growth` cannot be resolved. Did you mean one of the following? [`take_rate`, `average_growth_consumers`, `postcode_reach`, `revenue_level`, `segment`].;\n'Sort ['average_growth DESC NULLS LAST], true\n+- Relation [merchant_abn#0L,name#1,revenue_level#2,take_rate#3,average_merchant_fraud_probability#4,number_of_unique_consumers#5L,average_consumer_fraud_probability#6,number_of_repeat_consumers#7L,average_repeat_transactions_per_consumer#8,consumer_retainability#9,number_of_orders#10L,average_cost_of_order#11,average_spend_per_consumer#12,average_monthly_diff_consumers#13,consumer_diff_over_period#14L,average_growth_consumers#15,merchant_revenue_rounded#16,first_recorded_transaction#17,last_recorded_transaction#18,transcation_period_months#19,number_of_postcodes#20L,avg_total_weekly_personal_income#21,avg_total_weekly_fam_income#22,avg_median_age#23,... 4 more fields] parquet\n",
     "output_type": "error",
     "traceback": [
      "\u001b[0;31m---------------------------------------------------------------------------\u001b[0m",
      "\u001b[0;31mAnalysisException\u001b[0m                         Traceback (most recent call last)",
      "\u001b[1;32m/mnt/c/Users/61435/Desktop/Applied Data/Project 2/bnpl-industry-project-open-source-industry-project-35/notebooks/analysis/insights/feature_engineering.ipynb Cell 9\u001b[0m line \u001b[0;36m1\n\u001b[0;32m----> <a href='vscode-notebook-cell://wsl%2Bubuntu/mnt/c/Users/61435/Desktop/Applied%20Data/Project%202/bnpl-industry-project-open-source-industry-project-35/notebooks/analysis/insights/feature_engineering.ipynb#X11sdnNjb2RlLXJlbW90ZQ%3D%3D?line=0'>1</a>\u001b[0m joined\u001b[39m.\u001b[39;49morderBy(f\u001b[39m.\u001b[39;49mcol(\u001b[39m\"\u001b[39;49m\u001b[39maverage_growth\u001b[39;49m\u001b[39m\"\u001b[39;49m)\u001b[39m.\u001b[39;49mdesc())\u001b[39m.\u001b[39mshow()\n",
      "File \u001b[0;32m~/.local/lib/python3.9/site-packages/pyspark/sql/dataframe.py:2593\u001b[0m, in \u001b[0;36mDataFrame.sort\u001b[0;34m(self, *cols, **kwargs)\u001b[0m\n\u001b[1;32m   2502\u001b[0m \u001b[39mdef\u001b[39;00m \u001b[39msort\u001b[39m(\n\u001b[1;32m   2503\u001b[0m     \u001b[39mself\u001b[39m, \u001b[39m*\u001b[39mcols: Union[\u001b[39mstr\u001b[39m, Column, List[Union[\u001b[39mstr\u001b[39m, Column]]], \u001b[39m*\u001b[39m\u001b[39m*\u001b[39mkwargs: Any\n\u001b[1;32m   2504\u001b[0m ) \u001b[39m-\u001b[39m\u001b[39m>\u001b[39m \u001b[39m\"\u001b[39m\u001b[39mDataFrame\u001b[39m\u001b[39m\"\u001b[39m:\n\u001b[1;32m   2505\u001b[0m \u001b[39m    \u001b[39m\u001b[39m\"\"\"Returns a new :class:`DataFrame` sorted by the specified column(s).\u001b[39;00m\n\u001b[1;32m   2506\u001b[0m \n\u001b[1;32m   2507\u001b[0m \u001b[39m    .. versionadded:: 1.3.0\u001b[39;00m\n\u001b[0;32m   (...)\u001b[0m\n\u001b[1;32m   2591\u001b[0m \u001b[39m    +---+-----+\u001b[39;00m\n\u001b[1;32m   2592\u001b[0m \u001b[39m    \"\"\"\u001b[39;00m\n\u001b[0;32m-> 2593\u001b[0m     jdf \u001b[39m=\u001b[39m \u001b[39mself\u001b[39;49m\u001b[39m.\u001b[39;49m_jdf\u001b[39m.\u001b[39;49msort(\u001b[39mself\u001b[39;49m\u001b[39m.\u001b[39;49m_sort_cols(cols, kwargs))\n\u001b[1;32m   2594\u001b[0m     \u001b[39mreturn\u001b[39;00m DataFrame(jdf, \u001b[39mself\u001b[39m\u001b[39m.\u001b[39msparkSession)\n",
      "File \u001b[0;32m~/.local/lib/python3.9/site-packages/py4j/java_gateway.py:1322\u001b[0m, in \u001b[0;36mJavaMember.__call__\u001b[0;34m(self, *args)\u001b[0m\n\u001b[1;32m   1316\u001b[0m command \u001b[39m=\u001b[39m proto\u001b[39m.\u001b[39mCALL_COMMAND_NAME \u001b[39m+\u001b[39m\\\n\u001b[1;32m   1317\u001b[0m     \u001b[39mself\u001b[39m\u001b[39m.\u001b[39mcommand_header \u001b[39m+\u001b[39m\\\n\u001b[1;32m   1318\u001b[0m     args_command \u001b[39m+\u001b[39m\\\n\u001b[1;32m   1319\u001b[0m     proto\u001b[39m.\u001b[39mEND_COMMAND_PART\n\u001b[1;32m   1321\u001b[0m answer \u001b[39m=\u001b[39m \u001b[39mself\u001b[39m\u001b[39m.\u001b[39mgateway_client\u001b[39m.\u001b[39msend_command(command)\n\u001b[0;32m-> 1322\u001b[0m return_value \u001b[39m=\u001b[39m get_return_value(\n\u001b[1;32m   1323\u001b[0m     answer, \u001b[39mself\u001b[39;49m\u001b[39m.\u001b[39;49mgateway_client, \u001b[39mself\u001b[39;49m\u001b[39m.\u001b[39;49mtarget_id, \u001b[39mself\u001b[39;49m\u001b[39m.\u001b[39;49mname)\n\u001b[1;32m   1325\u001b[0m \u001b[39mfor\u001b[39;00m temp_arg \u001b[39min\u001b[39;00m temp_args:\n\u001b[1;32m   1326\u001b[0m     \u001b[39mif\u001b[39;00m \u001b[39mhasattr\u001b[39m(temp_arg, \u001b[39m\"\u001b[39m\u001b[39m_detach\u001b[39m\u001b[39m\"\u001b[39m):\n",
      "File \u001b[0;32m~/.local/lib/python3.9/site-packages/pyspark/errors/exceptions/captured.py:175\u001b[0m, in \u001b[0;36mcapture_sql_exception.<locals>.deco\u001b[0;34m(*a, **kw)\u001b[0m\n\u001b[1;32m    171\u001b[0m converted \u001b[39m=\u001b[39m convert_exception(e\u001b[39m.\u001b[39mjava_exception)\n\u001b[1;32m    172\u001b[0m \u001b[39mif\u001b[39;00m \u001b[39mnot\u001b[39;00m \u001b[39misinstance\u001b[39m(converted, UnknownException):\n\u001b[1;32m    173\u001b[0m     \u001b[39m# Hide where the exception came from that shows a non-Pythonic\u001b[39;00m\n\u001b[1;32m    174\u001b[0m     \u001b[39m# JVM exception message.\u001b[39;00m\n\u001b[0;32m--> 175\u001b[0m     \u001b[39mraise\u001b[39;00m converted \u001b[39mfrom\u001b[39;00m \u001b[39mNone\u001b[39;00m\n\u001b[1;32m    176\u001b[0m \u001b[39melse\u001b[39;00m:\n\u001b[1;32m    177\u001b[0m     \u001b[39mraise\u001b[39;00m\n",
      "\u001b[0;31mAnalysisException\u001b[0m: [UNRESOLVED_COLUMN.WITH_SUGGESTION] A column or function parameter with name `average_growth` cannot be resolved. Did you mean one of the following? [`take_rate`, `average_growth_consumers`, `postcode_reach`, `revenue_level`, `segment`].;\n'Sort ['average_growth DESC NULLS LAST], true\n+- Relation [merchant_abn#0L,name#1,revenue_level#2,take_rate#3,average_merchant_fraud_probability#4,number_of_unique_consumers#5L,average_consumer_fraud_probability#6,number_of_repeat_consumers#7L,average_repeat_transactions_per_consumer#8,consumer_retainability#9,number_of_orders#10L,average_cost_of_order#11,average_spend_per_consumer#12,average_monthly_diff_consumers#13,consumer_diff_over_period#14L,average_growth_consumers#15,merchant_revenue_rounded#16,first_recorded_transaction#17,last_recorded_transaction#18,transcation_period_months#19,number_of_postcodes#20L,avg_total_weekly_personal_income#21,avg_total_weekly_fam_income#22,avg_median_age#23,... 4 more fields] parquet\n"
     ]
    }
   ],
   "source": [
    "joined.orderBy(f.col(\"average_growth\").desc()).show()"
   ]
  },
  {
   "cell_type": "markdown",
   "metadata": {},
   "source": [
    "Changing NULLs to 0s\n",
    "\n",
    "As we are going to be using modelling techniques we need to change the NULLs to an interpretable value."
   ]
  },
  {
   "cell_type": "code",
   "execution_count": 9,
   "metadata": {},
   "outputs": [],
   "source": [
    "joined = joined.fillna(0)"
   ]
  },
  {
   "cell_type": "markdown",
   "metadata": {},
   "source": [
    "Next we want to convert the categorical features into integer values so that we can check its correlation between the target variables.\n",
    "\n",
    "In the dataset there are 2 categorical features:\n",
    "- Revenue Value\n",
    "- Segment"
   ]
  },
  {
   "cell_type": "code",
   "execution_count": 10,
   "metadata": {},
   "outputs": [],
   "source": [
    "from pyspark.ml.feature import StringIndexer"
   ]
  },
  {
   "cell_type": "code",
   "execution_count": 11,
   "metadata": {},
   "outputs": [],
   "source": [
    "input_cols = [\"revenue_level\",\"segment\"]\n",
    "output_cols = [\"revenue_level_indexed\",\"segment_indexed\"]"
   ]
  },
  {
   "cell_type": "code",
   "execution_count": 12,
   "metadata": {},
   "outputs": [],
   "source": [
    "revenue_level_indexer = StringIndexer(inputCol = \"revenue_level\", outputCol= \"revenue_level_indexed\")\n",
    "segment_indexer = StringIndexer(inputCol = \"segment\", outputCol = \"segment_indexed\")"
   ]
  },
  {
   "cell_type": "code",
   "execution_count": 13,
   "metadata": {},
   "outputs": [
    {
     "name": "stderr",
     "output_type": "stream",
     "text": [
      "                                                                                \r"
     ]
    }
   ],
   "source": [
    "pre_correlation_df = revenue_level_indexer.fit(joined).transform(segment_indexer.fit(joined).transform(joined))\n",
    "pre_correlation_df = pre_correlation_df.drop(\"revenue_level\", \"segment\",\"name\",\"first_recorded_transaction\",\"last_recorded_transaction\")"
   ]
  },
  {
   "cell_type": "code",
   "execution_count": 14,
   "metadata": {},
   "outputs": [],
   "source": [
    "correlation_df = pre_correlation_df.toPandas()"
   ]
  },
  {
   "cell_type": "markdown",
   "metadata": {},
   "source": [
    "Now we will check the correlation matrix"
   ]
  },
  {
   "cell_type": "code",
   "execution_count": 15,
   "metadata": {},
   "outputs": [],
   "source": [
    "import pandas as pd"
   ]
  },
  {
   "cell_type": "code",
   "execution_count": 16,
   "metadata": {},
   "outputs": [
    {
     "data": {
      "text/html": [
       "<div>\n",
       "<style scoped>\n",
       "    .dataframe tbody tr th:only-of-type {\n",
       "        vertical-align: middle;\n",
       "    }\n",
       "\n",
       "    .dataframe tbody tr th {\n",
       "        vertical-align: top;\n",
       "    }\n",
       "\n",
       "    .dataframe thead th {\n",
       "        text-align: right;\n",
       "    }\n",
       "</style>\n",
       "<table border=\"1\" class=\"dataframe\">\n",
       "  <thead>\n",
       "    <tr style=\"text-align: right;\">\n",
       "      <th></th>\n",
       "      <th>merchant_abn</th>\n",
       "      <th>take_rate</th>\n",
       "      <th>average_merchant_fraud_probability</th>\n",
       "      <th>number_of_unique_consumers</th>\n",
       "      <th>average_consumer_fraud_probability</th>\n",
       "      <th>number_of_repeat_consumers</th>\n",
       "      <th>average_repeat_transactions_per_consumer</th>\n",
       "      <th>consumer_retainability</th>\n",
       "      <th>number_of_orders</th>\n",
       "      <th>average_cost_of_order</th>\n",
       "      <th>...</th>\n",
       "      <th>transcation_period_months</th>\n",
       "      <th>number_of_postcodes</th>\n",
       "      <th>avg_total_weekly_personal_income</th>\n",
       "      <th>avg_total_weekly_fam_income</th>\n",
       "      <th>avg_median_age</th>\n",
       "      <th>avg_household_size</th>\n",
       "      <th>postcode_reach</th>\n",
       "      <th>avg_num_of_consumers_per_postcode</th>\n",
       "      <th>segment_indexed</th>\n",
       "      <th>revenue_level_indexed</th>\n",
       "    </tr>\n",
       "  </thead>\n",
       "  <tbody>\n",
       "    <tr>\n",
       "      <th>0</th>\n",
       "      <td>10023283211</td>\n",
       "      <td>0.18</td>\n",
       "      <td>0.0</td>\n",
       "      <td>2525</td>\n",
       "      <td>0.095502</td>\n",
       "      <td>174</td>\n",
       "      <td>1.071683</td>\n",
       "      <td>0.068911</td>\n",
       "      <td>2706</td>\n",
       "      <td>215.798008</td>\n",
       "      <td>...</td>\n",
       "      <td>19.677419</td>\n",
       "      <td>1628</td>\n",
       "      <td>786.702328</td>\n",
       "      <td>1971.123799</td>\n",
       "      <td>43.031966</td>\n",
       "      <td>2.456907</td>\n",
       "      <td>0.616900</td>\n",
       "      <td>1.662162</td>\n",
       "      <td>2.0</td>\n",
       "      <td>4.0</td>\n",
       "    </tr>\n",
       "    <tr>\n",
       "      <th>1</th>\n",
       "      <td>10142254217</td>\n",
       "      <td>4.22</td>\n",
       "      <td>0.0</td>\n",
       "      <td>2389</td>\n",
       "      <td>0.064356</td>\n",
       "      <td>151</td>\n",
       "      <td>1.064881</td>\n",
       "      <td>0.063206</td>\n",
       "      <td>2544</td>\n",
       "      <td>38.591360</td>\n",
       "      <td>...</td>\n",
       "      <td>19.322581</td>\n",
       "      <td>1591</td>\n",
       "      <td>792.250000</td>\n",
       "      <td>1983.427083</td>\n",
       "      <td>42.850629</td>\n",
       "      <td>2.464033</td>\n",
       "      <td>0.602880</td>\n",
       "      <td>1.598994</td>\n",
       "      <td>1.0</td>\n",
       "      <td>1.0</td>\n",
       "    </tr>\n",
       "    <tr>\n",
       "      <th>2</th>\n",
       "      <td>10165489824</td>\n",
       "      <td>4.40</td>\n",
       "      <td>0.0</td>\n",
       "      <td>0</td>\n",
       "      <td>0.000000</td>\n",
       "      <td>0</td>\n",
       "      <td>0.000000</td>\n",
       "      <td>0.000000</td>\n",
       "      <td>4</td>\n",
       "      <td>8885.895000</td>\n",
       "      <td>...</td>\n",
       "      <td>6.903226</td>\n",
       "      <td>4</td>\n",
       "      <td>817.500000</td>\n",
       "      <td>2066.125000</td>\n",
       "      <td>41.625000</td>\n",
       "      <td>2.475000</td>\n",
       "      <td>0.001516</td>\n",
       "      <td>1.000000</td>\n",
       "      <td>3.0</td>\n",
       "      <td>1.0</td>\n",
       "    </tr>\n",
       "    <tr>\n",
       "      <th>3</th>\n",
       "      <td>10187291046</td>\n",
       "      <td>3.29</td>\n",
       "      <td>0.0</td>\n",
       "      <td>291</td>\n",
       "      <td>0.058022</td>\n",
       "      <td>1</td>\n",
       "      <td>1.003436</td>\n",
       "      <td>0.003436</td>\n",
       "      <td>292</td>\n",
       "      <td>115.995445</td>\n",
       "      <td>...</td>\n",
       "      <td>18.903226</td>\n",
       "      <td>273</td>\n",
       "      <td>796.547945</td>\n",
       "      <td>1961.171233</td>\n",
       "      <td>43.125000</td>\n",
       "      <td>2.449418</td>\n",
       "      <td>0.103448</td>\n",
       "      <td>1.069597</td>\n",
       "      <td>3.0</td>\n",
       "      <td>1.0</td>\n",
       "    </tr>\n",
       "    <tr>\n",
       "      <th>4</th>\n",
       "      <td>10192359162</td>\n",
       "      <td>6.33</td>\n",
       "      <td>0.0</td>\n",
       "      <td>321</td>\n",
       "      <td>0.036126</td>\n",
       "      <td>2</td>\n",
       "      <td>1.006231</td>\n",
       "      <td>0.006231</td>\n",
       "      <td>323</td>\n",
       "      <td>460.347214</td>\n",
       "      <td>...</td>\n",
       "      <td>19.483871</td>\n",
       "      <td>303</td>\n",
       "      <td>808.877709</td>\n",
       "      <td>2024.267802</td>\n",
       "      <td>43.294118</td>\n",
       "      <td>2.445480</td>\n",
       "      <td>0.114816</td>\n",
       "      <td>1.066007</td>\n",
       "      <td>0.0</td>\n",
       "      <td>0.0</td>\n",
       "    </tr>\n",
       "  </tbody>\n",
       "</table>\n",
       "<p>5 rows × 25 columns</p>\n",
       "</div>"
      ],
      "text/plain": [
       "   merchant_abn  take_rate  average_merchant_fraud_probability  \\\n",
       "0   10023283211       0.18                                 0.0   \n",
       "1   10142254217       4.22                                 0.0   \n",
       "2   10165489824       4.40                                 0.0   \n",
       "3   10187291046       3.29                                 0.0   \n",
       "4   10192359162       6.33                                 0.0   \n",
       "\n",
       "   number_of_unique_consumers  average_consumer_fraud_probability  \\\n",
       "0                        2525                            0.095502   \n",
       "1                        2389                            0.064356   \n",
       "2                           0                            0.000000   \n",
       "3                         291                            0.058022   \n",
       "4                         321                            0.036126   \n",
       "\n",
       "   number_of_repeat_consumers  average_repeat_transactions_per_consumer  \\\n",
       "0                         174                                  1.071683   \n",
       "1                         151                                  1.064881   \n",
       "2                           0                                  0.000000   \n",
       "3                           1                                  1.003436   \n",
       "4                           2                                  1.006231   \n",
       "\n",
       "   consumer_retainability  number_of_orders  average_cost_of_order  ...  \\\n",
       "0                0.068911              2706             215.798008  ...   \n",
       "1                0.063206              2544              38.591360  ...   \n",
       "2                0.000000                 4            8885.895000  ...   \n",
       "3                0.003436               292             115.995445  ...   \n",
       "4                0.006231               323             460.347214  ...   \n",
       "\n",
       "   transcation_period_months  number_of_postcodes  \\\n",
       "0                  19.677419                 1628   \n",
       "1                  19.322581                 1591   \n",
       "2                   6.903226                    4   \n",
       "3                  18.903226                  273   \n",
       "4                  19.483871                  303   \n",
       "\n",
       "   avg_total_weekly_personal_income  avg_total_weekly_fam_income  \\\n",
       "0                        786.702328                  1971.123799   \n",
       "1                        792.250000                  1983.427083   \n",
       "2                        817.500000                  2066.125000   \n",
       "3                        796.547945                  1961.171233   \n",
       "4                        808.877709                  2024.267802   \n",
       "\n",
       "   avg_median_age  avg_household_size  postcode_reach  \\\n",
       "0       43.031966            2.456907        0.616900   \n",
       "1       42.850629            2.464033        0.602880   \n",
       "2       41.625000            2.475000        0.001516   \n",
       "3       43.125000            2.449418        0.103448   \n",
       "4       43.294118            2.445480        0.114816   \n",
       "\n",
       "   avg_num_of_consumers_per_postcode  segment_indexed  revenue_level_indexed  \n",
       "0                           1.662162              2.0                    4.0  \n",
       "1                           1.598994              1.0                    1.0  \n",
       "2                           1.000000              3.0                    1.0  \n",
       "3                           1.069597              3.0                    1.0  \n",
       "4                           1.066007              0.0                    0.0  \n",
       "\n",
       "[5 rows x 25 columns]"
      ]
     },
     "execution_count": 16,
     "metadata": {},
     "output_type": "execute_result"
    }
   ],
   "source": [
    "correlation_df.head()"
   ]
  },
  {
   "cell_type": "code",
   "execution_count": 17,
   "metadata": {},
   "outputs": [],
   "source": [
    "corr_matrix = correlation_df.corr()"
   ]
  },
  {
   "cell_type": "markdown",
   "metadata": {},
   "source": [
    "### Feature Engineering"
   ]
  },
  {
   "cell_type": "markdown",
   "metadata": {},
   "source": [
    "Predicting number of consumers in 3 years"
   ]
  },
  {
   "cell_type": "code",
   "execution_count": 18,
   "metadata": {},
   "outputs": [
    {
     "data": {
      "text/plain": [
       "merchant_abn                                0.005000\n",
       "take_rate                                   0.040962\n",
       "average_merchant_fraud_probability         -0.012018\n",
       "number_of_unique_consumers                  1.000000\n",
       "average_consumer_fraud_probability         -0.047828\n",
       "number_of_repeat_consumers                  0.859005\n",
       "average_repeat_transactions_per_consumer    0.665024\n",
       "consumer_retainability                      0.976162\n",
       "number_of_orders                            0.713317\n",
       "average_cost_of_order                      -0.166808\n",
       "average_spend_per_consumer                 -0.159572\n",
       "average_monthly_diff_consumers              0.772166\n",
       "consumer_diff_over_period                   0.772211\n",
       "average_growth_consumers                    0.447964\n",
       "merchant_revenue_rounded                    0.648542\n",
       "transcation_period_months                   0.198016\n",
       "number_of_postcodes                         0.847743\n",
       "avg_total_weekly_personal_income            0.012759\n",
       "avg_total_weekly_fam_income                 0.013725\n",
       "avg_median_age                             -0.002346\n",
       "avg_household_size                          0.010665\n",
       "postcode_reach                              0.847743\n",
       "avg_num_of_consumers_per_postcode           0.678867\n",
       "segment_indexed                            -0.014208\n",
       "revenue_level_indexed                      -0.042512\n",
       "Name: number_of_unique_consumers, dtype: float64"
      ]
     },
     "execution_count": 18,
     "metadata": {},
     "output_type": "execute_result"
    }
   ],
   "source": [
    "corr_matrix.loc[\"number_of_unique_consumers\"]"
   ]
  },
  {
   "cell_type": "markdown",
   "metadata": {},
   "source": [
    "Next we seperate the features and the target variables"
   ]
  },
  {
   "cell_type": "code",
   "execution_count": 19,
   "metadata": {},
   "outputs": [],
   "source": [
    "modelling_df = correlation_df.copy()"
   ]
  },
  {
   "cell_type": "code",
   "execution_count": 20,
   "metadata": {},
   "outputs": [
    {
     "data": {
      "text/html": [
       "<div>\n",
       "<style scoped>\n",
       "    .dataframe tbody tr th:only-of-type {\n",
       "        vertical-align: middle;\n",
       "    }\n",
       "\n",
       "    .dataframe tbody tr th {\n",
       "        vertical-align: top;\n",
       "    }\n",
       "\n",
       "    .dataframe thead th {\n",
       "        text-align: right;\n",
       "    }\n",
       "</style>\n",
       "<table border=\"1\" class=\"dataframe\">\n",
       "  <thead>\n",
       "    <tr style=\"text-align: right;\">\n",
       "      <th></th>\n",
       "      <th>merchant_abn</th>\n",
       "      <th>take_rate</th>\n",
       "      <th>average_merchant_fraud_probability</th>\n",
       "      <th>number_of_unique_consumers</th>\n",
       "      <th>average_consumer_fraud_probability</th>\n",
       "      <th>number_of_repeat_consumers</th>\n",
       "      <th>average_repeat_transactions_per_consumer</th>\n",
       "      <th>consumer_retainability</th>\n",
       "      <th>number_of_orders</th>\n",
       "      <th>average_cost_of_order</th>\n",
       "      <th>...</th>\n",
       "      <th>transcation_period_months</th>\n",
       "      <th>number_of_postcodes</th>\n",
       "      <th>avg_total_weekly_personal_income</th>\n",
       "      <th>avg_total_weekly_fam_income</th>\n",
       "      <th>avg_median_age</th>\n",
       "      <th>avg_household_size</th>\n",
       "      <th>postcode_reach</th>\n",
       "      <th>avg_num_of_consumers_per_postcode</th>\n",
       "      <th>segment_indexed</th>\n",
       "      <th>revenue_level_indexed</th>\n",
       "    </tr>\n",
       "  </thead>\n",
       "  <tbody>\n",
       "    <tr>\n",
       "      <th>0</th>\n",
       "      <td>10023283211</td>\n",
       "      <td>0.18</td>\n",
       "      <td>0.0</td>\n",
       "      <td>2525</td>\n",
       "      <td>0.095502</td>\n",
       "      <td>174</td>\n",
       "      <td>1.071683</td>\n",
       "      <td>0.068911</td>\n",
       "      <td>2706</td>\n",
       "      <td>215.798008</td>\n",
       "      <td>...</td>\n",
       "      <td>19.677419</td>\n",
       "      <td>1628</td>\n",
       "      <td>786.702328</td>\n",
       "      <td>1971.123799</td>\n",
       "      <td>43.031966</td>\n",
       "      <td>2.456907</td>\n",
       "      <td>0.616900</td>\n",
       "      <td>1.662162</td>\n",
       "      <td>2.0</td>\n",
       "      <td>4.0</td>\n",
       "    </tr>\n",
       "    <tr>\n",
       "      <th>1</th>\n",
       "      <td>10142254217</td>\n",
       "      <td>4.22</td>\n",
       "      <td>0.0</td>\n",
       "      <td>2389</td>\n",
       "      <td>0.064356</td>\n",
       "      <td>151</td>\n",
       "      <td>1.064881</td>\n",
       "      <td>0.063206</td>\n",
       "      <td>2544</td>\n",
       "      <td>38.591360</td>\n",
       "      <td>...</td>\n",
       "      <td>19.322581</td>\n",
       "      <td>1591</td>\n",
       "      <td>792.250000</td>\n",
       "      <td>1983.427083</td>\n",
       "      <td>42.850629</td>\n",
       "      <td>2.464033</td>\n",
       "      <td>0.602880</td>\n",
       "      <td>1.598994</td>\n",
       "      <td>1.0</td>\n",
       "      <td>1.0</td>\n",
       "    </tr>\n",
       "    <tr>\n",
       "      <th>2</th>\n",
       "      <td>10165489824</td>\n",
       "      <td>4.40</td>\n",
       "      <td>0.0</td>\n",
       "      <td>0</td>\n",
       "      <td>0.000000</td>\n",
       "      <td>0</td>\n",
       "      <td>0.000000</td>\n",
       "      <td>0.000000</td>\n",
       "      <td>4</td>\n",
       "      <td>8885.895000</td>\n",
       "      <td>...</td>\n",
       "      <td>6.903226</td>\n",
       "      <td>4</td>\n",
       "      <td>817.500000</td>\n",
       "      <td>2066.125000</td>\n",
       "      <td>41.625000</td>\n",
       "      <td>2.475000</td>\n",
       "      <td>0.001516</td>\n",
       "      <td>1.000000</td>\n",
       "      <td>3.0</td>\n",
       "      <td>1.0</td>\n",
       "    </tr>\n",
       "    <tr>\n",
       "      <th>3</th>\n",
       "      <td>10187291046</td>\n",
       "      <td>3.29</td>\n",
       "      <td>0.0</td>\n",
       "      <td>291</td>\n",
       "      <td>0.058022</td>\n",
       "      <td>1</td>\n",
       "      <td>1.003436</td>\n",
       "      <td>0.003436</td>\n",
       "      <td>292</td>\n",
       "      <td>115.995445</td>\n",
       "      <td>...</td>\n",
       "      <td>18.903226</td>\n",
       "      <td>273</td>\n",
       "      <td>796.547945</td>\n",
       "      <td>1961.171233</td>\n",
       "      <td>43.125000</td>\n",
       "      <td>2.449418</td>\n",
       "      <td>0.103448</td>\n",
       "      <td>1.069597</td>\n",
       "      <td>3.0</td>\n",
       "      <td>1.0</td>\n",
       "    </tr>\n",
       "    <tr>\n",
       "      <th>4</th>\n",
       "      <td>10192359162</td>\n",
       "      <td>6.33</td>\n",
       "      <td>0.0</td>\n",
       "      <td>321</td>\n",
       "      <td>0.036126</td>\n",
       "      <td>2</td>\n",
       "      <td>1.006231</td>\n",
       "      <td>0.006231</td>\n",
       "      <td>323</td>\n",
       "      <td>460.347214</td>\n",
       "      <td>...</td>\n",
       "      <td>19.483871</td>\n",
       "      <td>303</td>\n",
       "      <td>808.877709</td>\n",
       "      <td>2024.267802</td>\n",
       "      <td>43.294118</td>\n",
       "      <td>2.445480</td>\n",
       "      <td>0.114816</td>\n",
       "      <td>1.066007</td>\n",
       "      <td>0.0</td>\n",
       "      <td>0.0</td>\n",
       "    </tr>\n",
       "  </tbody>\n",
       "</table>\n",
       "<p>5 rows × 25 columns</p>\n",
       "</div>"
      ],
      "text/plain": [
       "   merchant_abn  take_rate  average_merchant_fraud_probability  \\\n",
       "0   10023283211       0.18                                 0.0   \n",
       "1   10142254217       4.22                                 0.0   \n",
       "2   10165489824       4.40                                 0.0   \n",
       "3   10187291046       3.29                                 0.0   \n",
       "4   10192359162       6.33                                 0.0   \n",
       "\n",
       "   number_of_unique_consumers  average_consumer_fraud_probability  \\\n",
       "0                        2525                            0.095502   \n",
       "1                        2389                            0.064356   \n",
       "2                           0                            0.000000   \n",
       "3                         291                            0.058022   \n",
       "4                         321                            0.036126   \n",
       "\n",
       "   number_of_repeat_consumers  average_repeat_transactions_per_consumer  \\\n",
       "0                         174                                  1.071683   \n",
       "1                         151                                  1.064881   \n",
       "2                           0                                  0.000000   \n",
       "3                           1                                  1.003436   \n",
       "4                           2                                  1.006231   \n",
       "\n",
       "   consumer_retainability  number_of_orders  average_cost_of_order  ...  \\\n",
       "0                0.068911              2706             215.798008  ...   \n",
       "1                0.063206              2544              38.591360  ...   \n",
       "2                0.000000                 4            8885.895000  ...   \n",
       "3                0.003436               292             115.995445  ...   \n",
       "4                0.006231               323             460.347214  ...   \n",
       "\n",
       "   transcation_period_months  number_of_postcodes  \\\n",
       "0                  19.677419                 1628   \n",
       "1                  19.322581                 1591   \n",
       "2                   6.903226                    4   \n",
       "3                  18.903226                  273   \n",
       "4                  19.483871                  303   \n",
       "\n",
       "   avg_total_weekly_personal_income  avg_total_weekly_fam_income  \\\n",
       "0                        786.702328                  1971.123799   \n",
       "1                        792.250000                  1983.427083   \n",
       "2                        817.500000                  2066.125000   \n",
       "3                        796.547945                  1961.171233   \n",
       "4                        808.877709                  2024.267802   \n",
       "\n",
       "   avg_median_age  avg_household_size  postcode_reach  \\\n",
       "0       43.031966            2.456907        0.616900   \n",
       "1       42.850629            2.464033        0.602880   \n",
       "2       41.625000            2.475000        0.001516   \n",
       "3       43.125000            2.449418        0.103448   \n",
       "4       43.294118            2.445480        0.114816   \n",
       "\n",
       "   avg_num_of_consumers_per_postcode  segment_indexed  revenue_level_indexed  \n",
       "0                           1.662162              2.0                    4.0  \n",
       "1                           1.598994              1.0                    1.0  \n",
       "2                           1.000000              3.0                    1.0  \n",
       "3                           1.069597              3.0                    1.0  \n",
       "4                           1.066007              0.0                    0.0  \n",
       "\n",
       "[5 rows x 25 columns]"
      ]
     },
     "execution_count": 20,
     "metadata": {},
     "output_type": "execute_result"
    }
   ],
   "source": [
    "modelling_df.head()"
   ]
  },
  {
   "cell_type": "code",
   "execution_count": 21,
   "metadata": {},
   "outputs": [],
   "source": [
    "target_variable = \"number_of_unique_consumers\""
   ]
  },
  {
   "cell_type": "code",
   "execution_count": 22,
   "metadata": {},
   "outputs": [],
   "source": [
    "features_unique_customers = modelling_df.drop(columns = [\"merchant_abn\",target_variable])\n",
    "number_of_unique_customer = modelling_df[target_variable]"
   ]
  },
  {
   "cell_type": "markdown",
   "metadata": {},
   "source": [
    "Feature Selection"
   ]
  },
  {
   "cell_type": "code",
   "execution_count": 23,
   "metadata": {},
   "outputs": [],
   "source": [
    "from sklearn.feature_selection import f_regression, SelectKBest"
   ]
  },
  {
   "cell_type": "code",
   "execution_count": 24,
   "metadata": {},
   "outputs": [],
   "source": [
    "selector = SelectKBest(score_func=f_regression, k= 5)\n",
    "features_unique_customers_selected = selector.fit_transform(features_unique_customers, number_of_unique_customer)"
   ]
  },
  {
   "cell_type": "code",
   "execution_count": 25,
   "metadata": {},
   "outputs": [
    {
     "name": "stdout",
     "output_type": "stream",
     "text": [
      "Index(['number_of_repeat_consumers', 'consumer_retainability',\n",
      "       'consumer_diff_over_period', 'number_of_postcodes', 'postcode_reach'],\n",
      "      dtype='object')\n"
     ]
    }
   ],
   "source": [
    "selected_feature_indices = selector.get_support(indices=True)\n",
    "selected_features = features_unique_customers.columns[selected_feature_indices]\n",
    "print(selected_features)"
   ]
  },
  {
   "cell_type": "markdown",
   "metadata": {},
   "source": [
    "Splitting the data for train and test \n",
    " - We will use a 80 - 20"
   ]
  },
  {
   "cell_type": "code",
   "execution_count": 26,
   "metadata": {},
   "outputs": [],
   "source": [
    "from sklearn.model_selection import train_test_split"
   ]
  },
  {
   "cell_type": "code",
   "execution_count": 27,
   "metadata": {},
   "outputs": [],
   "source": [
    "features_unique_customers_train, features_unique_customers_test, number_of_unique_customer_train, number_of_unique_customer_test = \\\n",
    "    train_test_split(features_unique_customers[selected_features], number_of_unique_customer, test_size=0.33, random_state=42)"
   ]
  },
  {
   "cell_type": "markdown",
   "metadata": {},
   "source": [
    "Fitting the model\n",
    "- We will use a linear regression model"
   ]
  },
  {
   "cell_type": "code",
   "execution_count": 28,
   "metadata": {},
   "outputs": [],
   "source": [
    "from sklearn.linear_model import LinearRegression"
   ]
  },
  {
   "cell_type": "code",
   "execution_count": 29,
   "metadata": {},
   "outputs": [
    {
     "data": {
      "text/html": [
       "<style>#sk-container-id-1 {color: black;}#sk-container-id-1 pre{padding: 0;}#sk-container-id-1 div.sk-toggleable {background-color: white;}#sk-container-id-1 label.sk-toggleable__label {cursor: pointer;display: block;width: 100%;margin-bottom: 0;padding: 0.3em;box-sizing: border-box;text-align: center;}#sk-container-id-1 label.sk-toggleable__label-arrow:before {content: \"▸\";float: left;margin-right: 0.25em;color: #696969;}#sk-container-id-1 label.sk-toggleable__label-arrow:hover:before {color: black;}#sk-container-id-1 div.sk-estimator:hover label.sk-toggleable__label-arrow:before {color: black;}#sk-container-id-1 div.sk-toggleable__content {max-height: 0;max-width: 0;overflow: hidden;text-align: left;background-color: #f0f8ff;}#sk-container-id-1 div.sk-toggleable__content pre {margin: 0.2em;color: black;border-radius: 0.25em;background-color: #f0f8ff;}#sk-container-id-1 input.sk-toggleable__control:checked~div.sk-toggleable__content {max-height: 200px;max-width: 100%;overflow: auto;}#sk-container-id-1 input.sk-toggleable__control:checked~label.sk-toggleable__label-arrow:before {content: \"▾\";}#sk-container-id-1 div.sk-estimator input.sk-toggleable__control:checked~label.sk-toggleable__label {background-color: #d4ebff;}#sk-container-id-1 div.sk-label input.sk-toggleable__control:checked~label.sk-toggleable__label {background-color: #d4ebff;}#sk-container-id-1 input.sk-hidden--visually {border: 0;clip: rect(1px 1px 1px 1px);clip: rect(1px, 1px, 1px, 1px);height: 1px;margin: -1px;overflow: hidden;padding: 0;position: absolute;width: 1px;}#sk-container-id-1 div.sk-estimator {font-family: monospace;background-color: #f0f8ff;border: 1px dotted black;border-radius: 0.25em;box-sizing: border-box;margin-bottom: 0.5em;}#sk-container-id-1 div.sk-estimator:hover {background-color: #d4ebff;}#sk-container-id-1 div.sk-parallel-item::after {content: \"\";width: 100%;border-bottom: 1px solid gray;flex-grow: 1;}#sk-container-id-1 div.sk-label:hover label.sk-toggleable__label {background-color: #d4ebff;}#sk-container-id-1 div.sk-serial::before {content: \"\";position: absolute;border-left: 1px solid gray;box-sizing: border-box;top: 0;bottom: 0;left: 50%;z-index: 0;}#sk-container-id-1 div.sk-serial {display: flex;flex-direction: column;align-items: center;background-color: white;padding-right: 0.2em;padding-left: 0.2em;position: relative;}#sk-container-id-1 div.sk-item {position: relative;z-index: 1;}#sk-container-id-1 div.sk-parallel {display: flex;align-items: stretch;justify-content: center;background-color: white;position: relative;}#sk-container-id-1 div.sk-item::before, #sk-container-id-1 div.sk-parallel-item::before {content: \"\";position: absolute;border-left: 1px solid gray;box-sizing: border-box;top: 0;bottom: 0;left: 50%;z-index: -1;}#sk-container-id-1 div.sk-parallel-item {display: flex;flex-direction: column;z-index: 1;position: relative;background-color: white;}#sk-container-id-1 div.sk-parallel-item:first-child::after {align-self: flex-end;width: 50%;}#sk-container-id-1 div.sk-parallel-item:last-child::after {align-self: flex-start;width: 50%;}#sk-container-id-1 div.sk-parallel-item:only-child::after {width: 0;}#sk-container-id-1 div.sk-dashed-wrapped {border: 1px dashed gray;margin: 0 0.4em 0.5em 0.4em;box-sizing: border-box;padding-bottom: 0.4em;background-color: white;}#sk-container-id-1 div.sk-label label {font-family: monospace;font-weight: bold;display: inline-block;line-height: 1.2em;}#sk-container-id-1 div.sk-label-container {text-align: center;}#sk-container-id-1 div.sk-container {/* jupyter's `normalize.less` sets `[hidden] { display: none; }` but bootstrap.min.css set `[hidden] { display: none !important; }` so we also need the `!important` here to be able to override the default hidden behavior on the sphinx rendered scikit-learn.org. See: https://github.com/scikit-learn/scikit-learn/issues/21755 */display: inline-block !important;position: relative;}#sk-container-id-1 div.sk-text-repr-fallback {display: none;}</style><div id=\"sk-container-id-1\" class=\"sk-top-container\"><div class=\"sk-text-repr-fallback\"><pre>LinearRegression()</pre><b>In a Jupyter environment, please rerun this cell to show the HTML representation or trust the notebook. <br />On GitHub, the HTML representation is unable to render, please try loading this page with nbviewer.org.</b></div><div class=\"sk-container\" hidden><div class=\"sk-item\"><div class=\"sk-estimator sk-toggleable\"><input class=\"sk-toggleable__control sk-hidden--visually\" id=\"sk-estimator-id-1\" type=\"checkbox\" checked><label for=\"sk-estimator-id-1\" class=\"sk-toggleable__label sk-toggleable__label-arrow\">LinearRegression</label><div class=\"sk-toggleable__content\"><pre>LinearRegression()</pre></div></div></div></div></div>"
      ],
      "text/plain": [
       "LinearRegression()"
      ]
     },
     "execution_count": 29,
     "metadata": {},
     "output_type": "execute_result"
    }
   ],
   "source": [
    "num_of_unique_customers_model = LinearRegression()\n",
    "num_of_unique_customers_model.fit(features_unique_customers_train, number_of_unique_customer_train)"
   ]
  },
  {
   "cell_type": "markdown",
   "metadata": {},
   "source": [
    "Model Evaluation"
   ]
  },
  {
   "cell_type": "code",
   "execution_count": 30,
   "metadata": {},
   "outputs": [],
   "source": [
    "from sklearn.metrics import mean_squared_error, r2_score"
   ]
  },
  {
   "cell_type": "code",
   "execution_count": 31,
   "metadata": {},
   "outputs": [],
   "source": [
    "num_of_unique_customer_pred = num_of_unique_customers_model.predict(features_unique_customers_test)\n",
    "mse = mean_squared_error(number_of_unique_customer_test, num_of_unique_customer_pred)\n",
    "rmse = (mse ** 0.5)\n",
    "r2 = r2_score(number_of_unique_customer_test, num_of_unique_customer_pred)"
   ]
  },
  {
   "cell_type": "code",
   "execution_count": 32,
   "metadata": {},
   "outputs": [
    {
     "name": "stdout",
     "output_type": "stream",
     "text": [
      "R-squared (R2): 0.9966278166932794\n"
     ]
    }
   ],
   "source": [
    "print(f'R-squared (R2): {r2}')"
   ]
  },
  {
   "cell_type": "markdown",
   "metadata": {},
   "source": [
    "Next we will predict the number of customers in 3 years"
   ]
  },
  {
   "cell_type": "code",
   "execution_count": 33,
   "metadata": {},
   "outputs": [],
   "source": [
    "future_modelling_df = modelling_df.copy()\n",
    "future_modelling_df = future_modelling_df.sort_values(by='merchant_abn')"
   ]
  },
  {
   "cell_type": "code",
   "execution_count": 34,
   "metadata": {},
   "outputs": [],
   "source": [
    "future_modelling_df[\"transcation_period_months\"] = future_modelling_df[\"transcation_period_months\"] + 36"
   ]
  },
  {
   "cell_type": "code",
   "execution_count": 35,
   "metadata": {},
   "outputs": [
    {
     "data": {
      "text/html": [
       "<div>\n",
       "<style scoped>\n",
       "    .dataframe tbody tr th:only-of-type {\n",
       "        vertical-align: middle;\n",
       "    }\n",
       "\n",
       "    .dataframe tbody tr th {\n",
       "        vertical-align: top;\n",
       "    }\n",
       "\n",
       "    .dataframe thead th {\n",
       "        text-align: right;\n",
       "    }\n",
       "</style>\n",
       "<table border=\"1\" class=\"dataframe\">\n",
       "  <thead>\n",
       "    <tr style=\"text-align: right;\">\n",
       "      <th></th>\n",
       "      <th>merchant_abn</th>\n",
       "      <th>take_rate</th>\n",
       "      <th>average_merchant_fraud_probability</th>\n",
       "      <th>number_of_unique_consumers</th>\n",
       "      <th>average_consumer_fraud_probability</th>\n",
       "      <th>number_of_repeat_consumers</th>\n",
       "      <th>average_repeat_transactions_per_consumer</th>\n",
       "      <th>consumer_retainability</th>\n",
       "      <th>number_of_orders</th>\n",
       "      <th>average_cost_of_order</th>\n",
       "      <th>...</th>\n",
       "      <th>transcation_period_months</th>\n",
       "      <th>number_of_postcodes</th>\n",
       "      <th>avg_total_weekly_personal_income</th>\n",
       "      <th>avg_total_weekly_fam_income</th>\n",
       "      <th>avg_median_age</th>\n",
       "      <th>avg_household_size</th>\n",
       "      <th>postcode_reach</th>\n",
       "      <th>avg_num_of_consumers_per_postcode</th>\n",
       "      <th>segment_indexed</th>\n",
       "      <th>revenue_level_indexed</th>\n",
       "    </tr>\n",
       "  </thead>\n",
       "  <tbody>\n",
       "    <tr>\n",
       "      <th>0</th>\n",
       "      <td>10023283211</td>\n",
       "      <td>0.18</td>\n",
       "      <td>0.0</td>\n",
       "      <td>2525</td>\n",
       "      <td>0.095502</td>\n",
       "      <td>174</td>\n",
       "      <td>1.071683</td>\n",
       "      <td>0.068911</td>\n",
       "      <td>2706</td>\n",
       "      <td>215.798008</td>\n",
       "      <td>...</td>\n",
       "      <td>55.677419</td>\n",
       "      <td>1628</td>\n",
       "      <td>786.702328</td>\n",
       "      <td>1971.123799</td>\n",
       "      <td>43.031966</td>\n",
       "      <td>2.456907</td>\n",
       "      <td>0.616900</td>\n",
       "      <td>1.662162</td>\n",
       "      <td>2.0</td>\n",
       "      <td>4.0</td>\n",
       "    </tr>\n",
       "    <tr>\n",
       "      <th>1</th>\n",
       "      <td>10142254217</td>\n",
       "      <td>4.22</td>\n",
       "      <td>0.0</td>\n",
       "      <td>2389</td>\n",
       "      <td>0.064356</td>\n",
       "      <td>151</td>\n",
       "      <td>1.064881</td>\n",
       "      <td>0.063206</td>\n",
       "      <td>2544</td>\n",
       "      <td>38.591360</td>\n",
       "      <td>...</td>\n",
       "      <td>55.322581</td>\n",
       "      <td>1591</td>\n",
       "      <td>792.250000</td>\n",
       "      <td>1983.427083</td>\n",
       "      <td>42.850629</td>\n",
       "      <td>2.464033</td>\n",
       "      <td>0.602880</td>\n",
       "      <td>1.598994</td>\n",
       "      <td>1.0</td>\n",
       "      <td>1.0</td>\n",
       "    </tr>\n",
       "    <tr>\n",
       "      <th>2</th>\n",
       "      <td>10165489824</td>\n",
       "      <td>4.40</td>\n",
       "      <td>0.0</td>\n",
       "      <td>0</td>\n",
       "      <td>0.000000</td>\n",
       "      <td>0</td>\n",
       "      <td>0.000000</td>\n",
       "      <td>0.000000</td>\n",
       "      <td>4</td>\n",
       "      <td>8885.895000</td>\n",
       "      <td>...</td>\n",
       "      <td>42.903226</td>\n",
       "      <td>4</td>\n",
       "      <td>817.500000</td>\n",
       "      <td>2066.125000</td>\n",
       "      <td>41.625000</td>\n",
       "      <td>2.475000</td>\n",
       "      <td>0.001516</td>\n",
       "      <td>1.000000</td>\n",
       "      <td>3.0</td>\n",
       "      <td>1.0</td>\n",
       "    </tr>\n",
       "    <tr>\n",
       "      <th>3</th>\n",
       "      <td>10187291046</td>\n",
       "      <td>3.29</td>\n",
       "      <td>0.0</td>\n",
       "      <td>291</td>\n",
       "      <td>0.058022</td>\n",
       "      <td>1</td>\n",
       "      <td>1.003436</td>\n",
       "      <td>0.003436</td>\n",
       "      <td>292</td>\n",
       "      <td>115.995445</td>\n",
       "      <td>...</td>\n",
       "      <td>54.903226</td>\n",
       "      <td>273</td>\n",
       "      <td>796.547945</td>\n",
       "      <td>1961.171233</td>\n",
       "      <td>43.125000</td>\n",
       "      <td>2.449418</td>\n",
       "      <td>0.103448</td>\n",
       "      <td>1.069597</td>\n",
       "      <td>3.0</td>\n",
       "      <td>1.0</td>\n",
       "    </tr>\n",
       "    <tr>\n",
       "      <th>4</th>\n",
       "      <td>10192359162</td>\n",
       "      <td>6.33</td>\n",
       "      <td>0.0</td>\n",
       "      <td>321</td>\n",
       "      <td>0.036126</td>\n",
       "      <td>2</td>\n",
       "      <td>1.006231</td>\n",
       "      <td>0.006231</td>\n",
       "      <td>323</td>\n",
       "      <td>460.347214</td>\n",
       "      <td>...</td>\n",
       "      <td>55.483871</td>\n",
       "      <td>303</td>\n",
       "      <td>808.877709</td>\n",
       "      <td>2024.267802</td>\n",
       "      <td>43.294118</td>\n",
       "      <td>2.445480</td>\n",
       "      <td>0.114816</td>\n",
       "      <td>1.066007</td>\n",
       "      <td>0.0</td>\n",
       "      <td>0.0</td>\n",
       "    </tr>\n",
       "  </tbody>\n",
       "</table>\n",
       "<p>5 rows × 25 columns</p>\n",
       "</div>"
      ],
      "text/plain": [
       "   merchant_abn  take_rate  average_merchant_fraud_probability  \\\n",
       "0   10023283211       0.18                                 0.0   \n",
       "1   10142254217       4.22                                 0.0   \n",
       "2   10165489824       4.40                                 0.0   \n",
       "3   10187291046       3.29                                 0.0   \n",
       "4   10192359162       6.33                                 0.0   \n",
       "\n",
       "   number_of_unique_consumers  average_consumer_fraud_probability  \\\n",
       "0                        2525                            0.095502   \n",
       "1                        2389                            0.064356   \n",
       "2                           0                            0.000000   \n",
       "3                         291                            0.058022   \n",
       "4                         321                            0.036126   \n",
       "\n",
       "   number_of_repeat_consumers  average_repeat_transactions_per_consumer  \\\n",
       "0                         174                                  1.071683   \n",
       "1                         151                                  1.064881   \n",
       "2                           0                                  0.000000   \n",
       "3                           1                                  1.003436   \n",
       "4                           2                                  1.006231   \n",
       "\n",
       "   consumer_retainability  number_of_orders  average_cost_of_order  ...  \\\n",
       "0                0.068911              2706             215.798008  ...   \n",
       "1                0.063206              2544              38.591360  ...   \n",
       "2                0.000000                 4            8885.895000  ...   \n",
       "3                0.003436               292             115.995445  ...   \n",
       "4                0.006231               323             460.347214  ...   \n",
       "\n",
       "   transcation_period_months  number_of_postcodes  \\\n",
       "0                  55.677419                 1628   \n",
       "1                  55.322581                 1591   \n",
       "2                  42.903226                    4   \n",
       "3                  54.903226                  273   \n",
       "4                  55.483871                  303   \n",
       "\n",
       "   avg_total_weekly_personal_income  avg_total_weekly_fam_income  \\\n",
       "0                        786.702328                  1971.123799   \n",
       "1                        792.250000                  1983.427083   \n",
       "2                        817.500000                  2066.125000   \n",
       "3                        796.547945                  1961.171233   \n",
       "4                        808.877709                  2024.267802   \n",
       "\n",
       "   avg_median_age  avg_household_size  postcode_reach  \\\n",
       "0       43.031966            2.456907        0.616900   \n",
       "1       42.850629            2.464033        0.602880   \n",
       "2       41.625000            2.475000        0.001516   \n",
       "3       43.125000            2.449418        0.103448   \n",
       "4       43.294118            2.445480        0.114816   \n",
       "\n",
       "   avg_num_of_consumers_per_postcode  segment_indexed  revenue_level_indexed  \n",
       "0                           1.662162              2.0                    4.0  \n",
       "1                           1.598994              1.0                    1.0  \n",
       "2                           1.000000              3.0                    1.0  \n",
       "3                           1.069597              3.0                    1.0  \n",
       "4                           1.066007              0.0                    0.0  \n",
       "\n",
       "[5 rows x 25 columns]"
      ]
     },
     "execution_count": 35,
     "metadata": {},
     "output_type": "execute_result"
    }
   ],
   "source": [
    "future_modelling_df.head()"
   ]
  },
  {
   "cell_type": "code",
   "execution_count": 36,
   "metadata": {},
   "outputs": [],
   "source": [
    "future_features_unique_customers = future_modelling_df.drop(columns = [\"merchant_abn\",target_variable])"
   ]
  },
  {
   "cell_type": "code",
   "execution_count": 37,
   "metadata": {},
   "outputs": [
    {
     "data": {
      "text/plain": [
       "Index(['take_rate', 'average_merchant_fraud_probability',\n",
       "       'average_consumer_fraud_probability', 'number_of_repeat_consumers',\n",
       "       'average_repeat_transactions_per_consumer', 'consumer_retainability',\n",
       "       'number_of_orders', 'average_cost_of_order',\n",
       "       'average_spend_per_consumer', 'average_monthly_diff_consumers',\n",
       "       'consumer_diff_over_period', 'average_growth_consumers',\n",
       "       'merchant_revenue_rounded', 'transcation_period_months',\n",
       "       'number_of_postcodes', 'avg_total_weekly_personal_income',\n",
       "       'avg_total_weekly_fam_income', 'avg_median_age', 'avg_household_size',\n",
       "       'postcode_reach', 'avg_num_of_consumers_per_postcode',\n",
       "       'segment_indexed', 'revenue_level_indexed'],\n",
       "      dtype='object')"
      ]
     },
     "execution_count": 37,
     "metadata": {},
     "output_type": "execute_result"
    }
   ],
   "source": [
    "future_features_unique_customers.columns"
   ]
  },
  {
   "cell_type": "code",
   "execution_count": 38,
   "metadata": {},
   "outputs": [],
   "source": [
    "predicted_num_of_unique_customers= num_of_unique_customers_model.predict(future_features_unique_customers[selected_features])"
   ]
  },
  {
   "cell_type": "code",
   "execution_count": 39,
   "metadata": {},
   "outputs": [],
   "source": [
    "results = future_modelling_df.copy()\n",
    "results[\"predicted_num_of_unique_customers\"] = predicted_num_of_unique_customers"
   ]
  },
  {
   "cell_type": "code",
   "execution_count": 40,
   "metadata": {},
   "outputs": [
    {
     "data": {
      "text/html": [
       "<div>\n",
       "<style scoped>\n",
       "    .dataframe tbody tr th:only-of-type {\n",
       "        vertical-align: middle;\n",
       "    }\n",
       "\n",
       "    .dataframe tbody tr th {\n",
       "        vertical-align: top;\n",
       "    }\n",
       "\n",
       "    .dataframe thead th {\n",
       "        text-align: right;\n",
       "    }\n",
       "</style>\n",
       "<table border=\"1\" class=\"dataframe\">\n",
       "  <thead>\n",
       "    <tr style=\"text-align: right;\">\n",
       "      <th></th>\n",
       "      <th>merchant_abn</th>\n",
       "      <th>take_rate</th>\n",
       "      <th>average_merchant_fraud_probability</th>\n",
       "      <th>number_of_unique_consumers</th>\n",
       "      <th>average_consumer_fraud_probability</th>\n",
       "      <th>number_of_repeat_consumers</th>\n",
       "      <th>average_repeat_transactions_per_consumer</th>\n",
       "      <th>consumer_retainability</th>\n",
       "      <th>number_of_orders</th>\n",
       "      <th>average_cost_of_order</th>\n",
       "      <th>...</th>\n",
       "      <th>number_of_postcodes</th>\n",
       "      <th>avg_total_weekly_personal_income</th>\n",
       "      <th>avg_total_weekly_fam_income</th>\n",
       "      <th>avg_median_age</th>\n",
       "      <th>avg_household_size</th>\n",
       "      <th>postcode_reach</th>\n",
       "      <th>avg_num_of_consumers_per_postcode</th>\n",
       "      <th>segment_indexed</th>\n",
       "      <th>revenue_level_indexed</th>\n",
       "      <th>predicted_num_of_unique_customers</th>\n",
       "    </tr>\n",
       "  </thead>\n",
       "  <tbody>\n",
       "    <tr>\n",
       "      <th>0</th>\n",
       "      <td>10023283211</td>\n",
       "      <td>0.18</td>\n",
       "      <td>0.0</td>\n",
       "      <td>2525</td>\n",
       "      <td>0.095502</td>\n",
       "      <td>174</td>\n",
       "      <td>1.071683</td>\n",
       "      <td>0.068911</td>\n",
       "      <td>2706</td>\n",
       "      <td>215.798008</td>\n",
       "      <td>...</td>\n",
       "      <td>1628</td>\n",
       "      <td>786.702328</td>\n",
       "      <td>1971.123799</td>\n",
       "      <td>43.031966</td>\n",
       "      <td>2.456907</td>\n",
       "      <td>0.616900</td>\n",
       "      <td>1.662162</td>\n",
       "      <td>2.0</td>\n",
       "      <td>4.0</td>\n",
       "      <td>2726.168026</td>\n",
       "    </tr>\n",
       "    <tr>\n",
       "      <th>1</th>\n",
       "      <td>10142254217</td>\n",
       "      <td>4.22</td>\n",
       "      <td>0.0</td>\n",
       "      <td>2389</td>\n",
       "      <td>0.064356</td>\n",
       "      <td>151</td>\n",
       "      <td>1.064881</td>\n",
       "      <td>0.063206</td>\n",
       "      <td>2544</td>\n",
       "      <td>38.591360</td>\n",
       "      <td>...</td>\n",
       "      <td>1591</td>\n",
       "      <td>792.250000</td>\n",
       "      <td>1983.427083</td>\n",
       "      <td>42.850629</td>\n",
       "      <td>2.464033</td>\n",
       "      <td>0.602880</td>\n",
       "      <td>1.598994</td>\n",
       "      <td>1.0</td>\n",
       "      <td>1.0</td>\n",
       "      <td>2489.348772</td>\n",
       "    </tr>\n",
       "    <tr>\n",
       "      <th>2</th>\n",
       "      <td>10165489824</td>\n",
       "      <td>4.40</td>\n",
       "      <td>0.0</td>\n",
       "      <td>0</td>\n",
       "      <td>0.000000</td>\n",
       "      <td>0</td>\n",
       "      <td>0.000000</td>\n",
       "      <td>0.000000</td>\n",
       "      <td>4</td>\n",
       "      <td>8885.895000</td>\n",
       "      <td>...</td>\n",
       "      <td>4</td>\n",
       "      <td>817.500000</td>\n",
       "      <td>2066.125000</td>\n",
       "      <td>41.625000</td>\n",
       "      <td>2.475000</td>\n",
       "      <td>0.001516</td>\n",
       "      <td>1.000000</td>\n",
       "      <td>3.0</td>\n",
       "      <td>1.0</td>\n",
       "      <td>-72.459657</td>\n",
       "    </tr>\n",
       "    <tr>\n",
       "      <th>3</th>\n",
       "      <td>10187291046</td>\n",
       "      <td>3.29</td>\n",
       "      <td>0.0</td>\n",
       "      <td>291</td>\n",
       "      <td>0.058022</td>\n",
       "      <td>1</td>\n",
       "      <td>1.003436</td>\n",
       "      <td>0.003436</td>\n",
       "      <td>292</td>\n",
       "      <td>115.995445</td>\n",
       "      <td>...</td>\n",
       "      <td>273</td>\n",
       "      <td>796.547945</td>\n",
       "      <td>1961.171233</td>\n",
       "      <td>43.125000</td>\n",
       "      <td>2.449418</td>\n",
       "      <td>0.103448</td>\n",
       "      <td>1.069597</td>\n",
       "      <td>3.0</td>\n",
       "      <td>1.0</td>\n",
       "      <td>99.810098</td>\n",
       "    </tr>\n",
       "    <tr>\n",
       "      <th>4</th>\n",
       "      <td>10192359162</td>\n",
       "      <td>6.33</td>\n",
       "      <td>0.0</td>\n",
       "      <td>321</td>\n",
       "      <td>0.036126</td>\n",
       "      <td>2</td>\n",
       "      <td>1.006231</td>\n",
       "      <td>0.006231</td>\n",
       "      <td>323</td>\n",
       "      <td>460.347214</td>\n",
       "      <td>...</td>\n",
       "      <td>303</td>\n",
       "      <td>808.877709</td>\n",
       "      <td>2024.267802</td>\n",
       "      <td>43.294118</td>\n",
       "      <td>2.445480</td>\n",
       "      <td>0.114816</td>\n",
       "      <td>1.066007</td>\n",
       "      <td>0.0</td>\n",
       "      <td>0.0</td>\n",
       "      <td>212.324384</td>\n",
       "    </tr>\n",
       "  </tbody>\n",
       "</table>\n",
       "<p>5 rows × 26 columns</p>\n",
       "</div>"
      ],
      "text/plain": [
       "   merchant_abn  take_rate  average_merchant_fraud_probability  \\\n",
       "0   10023283211       0.18                                 0.0   \n",
       "1   10142254217       4.22                                 0.0   \n",
       "2   10165489824       4.40                                 0.0   \n",
       "3   10187291046       3.29                                 0.0   \n",
       "4   10192359162       6.33                                 0.0   \n",
       "\n",
       "   number_of_unique_consumers  average_consumer_fraud_probability  \\\n",
       "0                        2525                            0.095502   \n",
       "1                        2389                            0.064356   \n",
       "2                           0                            0.000000   \n",
       "3                         291                            0.058022   \n",
       "4                         321                            0.036126   \n",
       "\n",
       "   number_of_repeat_consumers  average_repeat_transactions_per_consumer  \\\n",
       "0                         174                                  1.071683   \n",
       "1                         151                                  1.064881   \n",
       "2                           0                                  0.000000   \n",
       "3                           1                                  1.003436   \n",
       "4                           2                                  1.006231   \n",
       "\n",
       "   consumer_retainability  number_of_orders  average_cost_of_order  ...  \\\n",
       "0                0.068911              2706             215.798008  ...   \n",
       "1                0.063206              2544              38.591360  ...   \n",
       "2                0.000000                 4            8885.895000  ...   \n",
       "3                0.003436               292             115.995445  ...   \n",
       "4                0.006231               323             460.347214  ...   \n",
       "\n",
       "   number_of_postcodes  avg_total_weekly_personal_income  \\\n",
       "0                 1628                        786.702328   \n",
       "1                 1591                        792.250000   \n",
       "2                    4                        817.500000   \n",
       "3                  273                        796.547945   \n",
       "4                  303                        808.877709   \n",
       "\n",
       "   avg_total_weekly_fam_income  avg_median_age  avg_household_size  \\\n",
       "0                  1971.123799       43.031966            2.456907   \n",
       "1                  1983.427083       42.850629            2.464033   \n",
       "2                  2066.125000       41.625000            2.475000   \n",
       "3                  1961.171233       43.125000            2.449418   \n",
       "4                  2024.267802       43.294118            2.445480   \n",
       "\n",
       "   postcode_reach  avg_num_of_consumers_per_postcode  segment_indexed  \\\n",
       "0        0.616900                           1.662162              2.0   \n",
       "1        0.602880                           1.598994              1.0   \n",
       "2        0.001516                           1.000000              3.0   \n",
       "3        0.103448                           1.069597              3.0   \n",
       "4        0.114816                           1.066007              0.0   \n",
       "\n",
       "   revenue_level_indexed  predicted_num_of_unique_customers  \n",
       "0                    4.0                        2726.168026  \n",
       "1                    1.0                        2489.348772  \n",
       "2                    1.0                         -72.459657  \n",
       "3                    1.0                          99.810098  \n",
       "4                    0.0                         212.324384  \n",
       "\n",
       "[5 rows x 26 columns]"
      ]
     },
     "execution_count": 40,
     "metadata": {},
     "output_type": "execute_result"
    }
   ],
   "source": [
    "results.head()"
   ]
  },
  {
   "cell_type": "code",
   "execution_count": 41,
   "metadata": {},
   "outputs": [],
   "source": [
    "results_df = spark.createDataFrame(results)"
   ]
  },
  {
   "cell_type": "code",
   "execution_count": 42,
   "metadata": {},
   "outputs": [],
   "source": [
    "results_df = results_df.select(f.col(\"merchant_abn\"),f.col(\"predicted_num_of_unique_customers\"))"
   ]
  },
  {
   "cell_type": "code",
   "execution_count": 43,
   "metadata": {},
   "outputs": [],
   "source": [
    "joined = joined.join(results_df, on = \"merchant_abn\", how = \"inner\")"
   ]
  },
  {
   "cell_type": "code",
   "execution_count": 44,
   "metadata": {},
   "outputs": [],
   "source": [
    "joined = joined.withColumn(\"predicted_num_of_unique_customers\", f.when(joined.predicted_num_of_unique_customers < 0, 0).otherwise(f.round(joined.predicted_num_of_unique_customers)))"
   ]
  },
  {
   "cell_type": "code",
   "execution_count": 45,
   "metadata": {},
   "outputs": [
    {
     "name": "stderr",
     "output_type": "stream",
     "text": [
      "                                                                                \r"
     ]
    },
    {
     "name": "stdout",
     "output_type": "stream",
     "text": [
      "+------------+--------------------+-------------+---------+----------------------------------+--------------------------+----------------------------------+--------------------------+----------------------------------------+----------------------+----------------+---------------------+--------------------------+------------------------------+-------------------------+------------------------+------------------------+--------------------------+-------------------------+-------------------------+-------------------+--------------------------------+---------------------------+------------------+------------------+--------------------+---------------------------------+--------------------+---------------------------------+\n",
      "|merchant_abn|                name|revenue_level|take_rate|average_merchant_fraud_probability|number_of_unique_consumers|average_consumer_fraud_probability|number_of_repeat_consumers|average_repeat_transactions_per_consumer|consumer_retainability|number_of_orders|average_cost_of_order|average_spend_per_consumer|average_monthly_diff_consumers|consumer_diff_over_period|average_growth_consumers|merchant_revenue_rounded|first_recorded_transaction|last_recorded_transaction|transcation_period_months|number_of_postcodes|avg_total_weekly_personal_income|avg_total_weekly_fam_income|    avg_median_age|avg_household_size|      postcode_reach|avg_num_of_consumers_per_postcode|             segment|predicted_num_of_unique_customers|\n",
      "+------------+--------------------+-------------+---------+----------------------------------+--------------------------+----------------------------------+--------------------------+----------------------------------------+----------------------+----------------+---------------------+--------------------------+------------------------------+-------------------------+------------------------+------------------------+--------------------------+-------------------------+-------------------------+-------------------+--------------------------------+---------------------------+------------------+------------------+--------------------+---------------------------------+--------------------+---------------------------------+\n",
      "| 66698569367|Arcu Nunc Mauris ...|            a|     6.64|                               0.0|                         0|                               0.0|                         0|                                     0.0|                   0.0|              22|    554.4186363636364|         554.4186363636364|                           0.0|                        0|                   0.375|                12197.21|                2021-03-18|               2022-10-02|              18.48387097|                 22|               808.9090909090909|         2023.2727272727273| 43.34090909090909|2.4122727272727276|0.008336491095111784|                              1.0|  retail_and_novelty|                              0.0|\n",
      "| 43828324372|Eu Nulla Corporation|            a|      5.9|                               0.0|                         0|                               0.0|                         0|                                     0.0|                   0.0|              14|    2948.722142857143|         2948.722142857143|                           0.0|                        0|     0.25925925925925924|                41282.11|                2021-04-08|               2022-09-17|              17.29032258|                 14|               804.3928571428571|         1921.8214285714287| 44.32142857142857|2.4464285714285707|0.005305039787798408|                              1.0|tech_and_electronics|                              0.0|\n",
      "| 78433042891|    Dictum Mi Ac LLP|            a|     5.88|                               0.0|                         0|                               0.0|                         0|                                     0.0|                   0.0|              46|    469.8882608695652|         469.8882608695652|           0.11764705882352941|                        2|     0.34803921568627444|                21614.86|                2021-02-28|               2022-09-25|              18.90322581|                 45|               801.1521739130435|         2077.6521739130435| 43.98913043478261|2.3413043478260867|0.017051913603637742|               1.0222222222222221|  retail_and_novelty|                              0.0|\n",
      "| 44674493330|Commodo Incorporated|            a|      6.4|                               0.0|                         0|                               0.0|                         0|                                     0.0|                   0.0|              72|    426.2413888888888|         426.2413888888889|                           0.0|                        0|     0.32572751322751325|                30689.38|                2021-03-13|               2022-10-26|              19.41935484|                 71|                          808.75|         2023.1805555555557|42.541666666666664| 2.425138888888889|0.026904130352406214|               1.0140845070422535|  retail_and_novelty|                              0.0|\n",
      "| 56002073911|Sapien Cras Dolor...|            c|     1.48|                               0.0|                         0|                               0.0|                         0|                                     0.0|                   0.0|              86|   177.74662790697676|        177.74662790697676|           0.15789473684210525|                        3|      0.2773809523809524|                15286.21|                2021-03-11|               2022-10-26|              19.48387097|                 84|               800.7441860465116|         2002.4302325581396| 42.48255813953488|2.4303488372093023| 0.03183023872679045|               1.0238095238095237|garden_and_furnis...|                              0.0|\n",
      "| 43833568675|       Eu Odio Corp.|            b|     4.69|                               0.0|                         0|                               0.0|                         0|                                     0.0|                   0.0|             307|    2512.452671009772|         2512.452671009772|            0.3157894736842105|                        6|     0.10323165332800407|               771322.97|                2021-03-15|               2022-10-01|               18.5483871|                286|               797.5179153094463|         2005.7964169381107| 43.22801302931596|2.4622801302931596| 0.10837438423645321|               1.0734265734265733|tech_and_electronics|                              0.0|\n",
      "| 78403451584|    Duis A Institute|            b|     3.89|                               0.0|                         0|                               0.0|                         0|                                     0.0|                   0.0|              43|   3813.8218604651156|         3813.821860465116|          -0.13333333333333333|                       -2|      0.2977777777777778|               163994.34|                2021-04-03|               2022-10-24|              18.67741935|                 43|               769.6627906976744|         1921.5232558139535| 42.46511627906977| 2.483255813953488|  0.0162940507768094|                              1.0|tech_and_electronics|                              0.0|\n",
      "| 42724910979|Vitae Nibh Donec ...|            b|     3.93|                               0.0|                         0|                               0.0|                         0|                                     0.0|                   0.0|              58|   3377.5862068965516|         3377.586206896551|           0.23529411764705882|                        4|     0.38837535014005603|                195900.0|                2021-03-16|               2022-10-18|              19.06451613|                 57|               789.9396551724138|         2020.4655172413793|42.724137931034484| 2.472931034482759|0.021599090564607806|               1.0175438596491229|specialized_services|                              0.0|\n",
      "| 89029397913|   Elit Incorporated|            c|     1.85|                               0.0|                         0|                               0.0|                         0|                                     0.0|                   0.0|             117|   107.90256410256409|         107.9025641025641|                           0.0|                        0|     0.11785714285714285|                 12624.6|                2021-03-03|               2022-10-11|              19.25806452|                115|               773.0811965811965|         1941.3504273504273|43.666666666666664| 2.443846153846154| 0.04357711254262978|                1.017391304347826|antiques_and_jewe...|                              0.0|\n",
      "| 43835684204|Interdum Feugiat ...|            a|     6.03|                               0.0|                         0|                               0.0|                         0|                                     0.0|                   0.0|              31|    779.8422580645162|         779.8422580645162|           0.07692307692307693|                        1|      0.4256410256410257|                24175.11|                2021-03-19|               2022-09-20|              18.03225806|                 31|               801.5483870967741|         1974.8548387096773|44.854838709677416|2.3922580645161293|0.011746873815839333|                              1.0|  retail_and_novelty|                              0.0|\n",
      "| 77747303845|Curabitur Ut Odio...|            c|      3.0|                               0.0|                         0|                               0.0|                         0|                                     0.0|                   0.0|              25|            1604.8684|                 1604.8684|                           0.0|                        0|     0.24999999999999997|                40121.71|                2021-03-26|               2022-10-19|              18.77419355|                 24|                          697.52|                    1721.24|             45.24|2.4156000000000004| 0.00909435392194013|               1.0416666666666667|antiques_and_jewe...|                              0.0|\n",
      "| 42950328371|    Tempus Non Corp.|            b|     4.52|                               0.0|                         0|                               0.0|                         0|                                     0.0|                   0.0|              32|   416.50687500000004|        416.50687500000004|                         0.125|                        2|      0.5104166666666666|                13328.22|                2021-05-01|               2022-10-17|              17.51612903|                 31|                        809.8125|                 2008.28125|         43.890625|2.4187499999999997|0.011746873815839333|                1.032258064516129|garden_and_furnis...|                              0.0|\n",
      "| 55997183965|Quam Elementum At...|            a|     6.73|                               0.0|                         0|                               0.0|                         0|                                     0.0|                   0.0|              30|              693.603|                   693.603|           0.07142857142857142|                        1|      0.4047619047619047|                20808.09|                2021-03-09|               2022-10-08|              18.96774194|                 30|               853.4833333333333|         2108.4166666666665|41.016666666666666|             2.523|0.011367942402425162|                              1.0|  retail_and_novelty|                              0.0|\n",
      "| 43838212570|Ullamcorper Magna...|            b|     3.36|                               0.0|                         0|                               0.0|                         0|                                     0.0|                   0.0|              37|    7328.423243243243|         7328.423243243243|           0.06666666666666667|                        1|     0.26666666666666666|               271151.66|                2021-03-29|               2022-09-29|                     18.0|                 37|               832.2702702702703|         2089.9054054054054|42.472972972972975| 2.467027027027027|0.014020462296324365|                              1.0|antiques_and_jewe...|                              0.0|\n",
      "| 76722958482|Fusce Aliquam Inc...|            a|     6.88|                               0.0|                         0|                               0.0|                         0|                                     0.0|                   0.0|              54|    394.6927777777778|         394.6927777777778|                        0.0625|                        1|     0.21428571428571425|                21313.41|                2021-03-19|               2022-10-17|              18.93548387|                 53|                          824.75|         2062.8796296296296| 42.56481481481482| 2.465555555555556| 0.02008336491095112|               1.0188679245283019|tech_and_electronics|                              0.0|\n",
      "| 43065448760|Curae Donec Found...|            a|     5.66|                               0.0|                         0|                               0.0|                         0|                                     0.0|                   0.0|              67|    549.5659701492538|         549.5659701492538|           -0.2777777777777778|                       -5|     0.17566137566137568|                36820.92|                2021-03-11|               2022-10-17|              19.19354839|                 64|               746.8656716417911|         1932.3880597014925| 43.11940298507463|2.4874626865671647| 0.02425161045850701|                         1.046875|tech_and_electronics|                              0.0|\n",
      "| 32727297124|      Sed Industries|            b|     3.86|                               0.0|                         0|                               0.0|                         0|                                     0.0|                   0.0|             170|   212.74688235294118|        212.74688235294118|          -0.15789473684210525|                       -3|     0.17303865724918358|                36166.97|                2021-03-13|               2022-10-26|              19.41935484|                165|               784.0558823529411|         1943.4941176470588| 43.87352941176471| 2.466705882352941| 0.06252368321333839|               1.0303030303030303|garden_and_furnis...|                              0.0|\n",
      "| 43861698351|          Commodo PC|            c|     2.97|                               0.0|                         0|                               0.0|                         0|                                     0.0|                   0.0|              88|   170.93352272727273|        170.93352272727273|           0.21052631578947367|                        4|      0.4835839598997493|                15042.15|                2021-03-20|               2022-10-23|              19.09677419|                 88|               783.0227272727273|         1986.4261363636363| 44.05681818181818|2.4492045454545455| 0.03334596438044714|                              1.0|tech_and_electronics|                              0.0|\n",
      "| 77834689084|Gravida Sagittis ...|            c|     2.26|                               0.0|                         0|                               0.0|                         0|                                     0.0|                   0.0|             149|   123.07966442953023|        123.07966442953023|            0.3157894736842105|                        6|      0.2750151894888737|                18338.87|                2021-03-04|               2022-10-08|              19.12903226|                148|               784.4093959731543|         1987.7718120805368| 43.33221476510067|2.4481208053691272| 0.05608184918529746|               1.0067567567567568|garden_and_furnis...|                              0.0|\n",
      "| 43168490529|        Quis Diam PC|            b|     3.21|                               0.0|                         0|                               0.0|                         0|                                     0.0|                   0.0|              26|    438.0696153846154|         438.0696153846153|           0.18181818181818182|                        2|      0.5848484848484848|                11389.81|                2021-04-01|               2022-10-12|              18.35483871|                 26|               867.9807692307693|         2177.3846153846152| 42.94230769230769|2.3923076923076922|0.009852216748768473|                              1.0|  retail_and_novelty|                              0.0|\n",
      "+------------+--------------------+-------------+---------+----------------------------------+--------------------------+----------------------------------+--------------------------+----------------------------------------+----------------------+----------------+---------------------+--------------------------+------------------------------+-------------------------+------------------------+------------------------+--------------------------+-------------------------+-------------------------+-------------------+--------------------------------+---------------------------+------------------+------------------+--------------------+---------------------------------+--------------------+---------------------------------+\n",
      "only showing top 20 rows\n",
      "\n"
     ]
    }
   ],
   "source": [
    "joined.orderBy(f.col(\"number_of_unique_consumers\").asc()).show()"
   ]
  },
  {
   "cell_type": "code",
   "execution_count": 46,
   "metadata": {},
   "outputs": [
    {
     "name": "stderr",
     "output_type": "stream",
     "text": [
      "                                                                                \r"
     ]
    }
   ],
   "source": [
    "joined.write.mode(\"overwrite\").parquet(\"../../../data/ranking_data.parquet\")"
   ]
  },
  {
   "cell_type": "code",
   "execution_count": null,
   "metadata": {},
   "outputs": [],
   "source": [
    "spark.stop()"
   ]
  }
 ],
 "metadata": {
  "kernelspec": {
   "display_name": "Python 3",
   "language": "python",
   "name": "python3"
  },
  "language_info": {
   "codemirror_mode": {
    "name": "ipython",
    "version": 3
   },
   "file_extension": ".py",
   "mimetype": "text/x-python",
   "name": "python",
   "nbconvert_exporter": "python",
   "pygments_lexer": "ipython3",
   "version": "3.9.5"
  },
  "orig_nbformat": 4
 },
 "nbformat": 4,
 "nbformat_minor": 2
}
