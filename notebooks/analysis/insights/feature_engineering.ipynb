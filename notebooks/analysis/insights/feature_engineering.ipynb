{
 "cells": [
  {
   "cell_type": "markdown",
   "metadata": {},
   "source": [
    "# Feature Engineering with Modelling\n",
    "## Author: Dulan Wijeratne 1181873"
   ]
  },
  {
   "cell_type": "markdown",
   "metadata": {},
   "source": [
    "In this notebook we will make new features using modelling techniques."
   ]
  },
  {
   "cell_type": "markdown",
   "metadata": {},
   "source": [
    "First we will start by creating a Spark session and reading in the joined aggregated data."
   ]
  },
  {
   "cell_type": "code",
   "execution_count": 1,
   "metadata": {},
   "outputs": [],
   "source": [
    "from pyspark.sql import SparkSession, functions as f"
   ]
  },
  {
   "cell_type": "code",
   "execution_count": 2,
   "metadata": {},
   "outputs": [
    {
     "name": "stderr",
     "output_type": "stream",
     "text": [
      "your 131072x1 screen size is bogus. expect trouble\n",
      "23/10/05 17:23:25 WARN Utils: Your hostname, DulanComputer resolves to a loopback address: 127.0.1.1; using 172.30.15.25 instead (on interface eth0)\n",
      "23/10/05 17:23:25 WARN Utils: Set SPARK_LOCAL_IP if you need to bind to another address\n",
      "Setting default log level to \"WARN\".\n",
      "To adjust logging level use sc.setLogLevel(newLevel). For SparkR, use setLogLevel(newLevel).\n",
      "23/10/05 17:23:27 WARN NativeCodeLoader: Unable to load native-hadoop library for your platform... using builtin-java classes where applicable\n"
     ]
    }
   ],
   "source": [
    "spark = (\n",
    "    SparkSession.builder.appName(\"feature_engineering\")\n",
    "    .config(\"spark.sql.repl.eagerEval.enabled\", True) \n",
    "    .config(\"spark.sql.parquet.cacheMetadata\", \"true\")\n",
    "    .config(\"spark.sql.session.timeZone\", \"Etc/UTC\")\n",
    "    .config(\"spark.sql.session.timeZone\", \"Etc/UTC\")\n",
    "    .config('spark.driver.memory', '3g')   \n",
    "    .config('spark.executor.memory', '4g')  \n",
    "    .config('spark.executor.instances', '2')  \n",
    "    .config('spark.executor.cores', '2')\n",
    "    .getOrCreate()\n",
    ")"
   ]
  },
  {
   "cell_type": "code",
   "execution_count": 3,
   "metadata": {},
   "outputs": [
    {
     "name": "stderr",
     "output_type": "stream",
     "text": [
      "                                                                                \r"
     ]
    }
   ],
   "source": [
    "joined = spark.read.parquet(\"../../../data/curated/removed_outliers.parquet\")"
   ]
  },
  {
   "cell_type": "code",
   "execution_count": null,
   "metadata": {},
   "outputs": [],
   "source": [
    "joined.orderBy(f.col(\"number_of_unique_consumers\").desc()).show()"
   ]
  },
  {
   "cell_type": "markdown",
   "metadata": {},
   "source": [
    "Changing NULLs to 0s\n",
    "\n",
    "As we are going to be using modelling techniques we need to change the NULLs to an interpretable value."
   ]
  },
  {
   "cell_type": "code",
   "execution_count": 4,
   "metadata": {},
   "outputs": [],
   "source": [
    "joined = joined.fillna(0)"
   ]
  },
  {
   "cell_type": "markdown",
   "metadata": {},
   "source": [
    "Next we want to convert the categorical features into integer values so that we can check its correlation between the target variables.\n",
    "\n",
    "In the dataset there are 2 categorical features:\n",
    "- Revenue Value\n",
    "- Segment"
   ]
  },
  {
   "cell_type": "code",
   "execution_count": 5,
   "metadata": {},
   "outputs": [],
   "source": [
    "from pyspark.ml.feature import StringIndexer"
   ]
  },
  {
   "cell_type": "code",
   "execution_count": 6,
   "metadata": {},
   "outputs": [],
   "source": [
    "input_cols = [\"revenue_level\",\"segment\"]\n",
    "output_cols = [\"revenue_level_indexed\",\"segment_indexed\"]"
   ]
  },
  {
   "cell_type": "code",
   "execution_count": 7,
   "metadata": {},
   "outputs": [],
   "source": [
    "revenue_level_indexer = StringIndexer(inputCol = \"revenue_level\", outputCol= \"revenue_level_indexed\")\n",
    "segment_indexer = StringIndexer(inputCol = \"segment\", outputCol = \"segment_indexed\")"
   ]
  },
  {
   "cell_type": "code",
   "execution_count": 8,
   "metadata": {},
   "outputs": [
    {
     "name": "stderr",
     "output_type": "stream",
     "text": [
      "                                                                                \r"
     ]
    }
   ],
   "source": [
    "pre_correlation_df = revenue_level_indexer.fit(joined).transform(segment_indexer.fit(joined).transform(joined))\n",
    "pre_correlation_df = pre_correlation_df.drop(\"revenue_level\", \"segment\",\"name\",\"first_recorded_transaction\",\"last_recorded_transaction\")"
   ]
  },
  {
   "cell_type": "code",
   "execution_count": 9,
   "metadata": {},
   "outputs": [],
   "source": [
    "correlation_df = pre_correlation_df.toPandas()"
   ]
  },
  {
   "cell_type": "markdown",
   "metadata": {},
   "source": [
    "Now we will check the correlation matrix"
   ]
  },
  {
   "cell_type": "code",
   "execution_count": 10,
   "metadata": {},
   "outputs": [],
   "source": [
    "import pandas as pd"
   ]
  },
  {
   "cell_type": "code",
   "execution_count": 11,
   "metadata": {},
   "outputs": [
    {
     "data": {
      "text/html": [
       "<div>\n",
       "<style scoped>\n",
       "    .dataframe tbody tr th:only-of-type {\n",
       "        vertical-align: middle;\n",
       "    }\n",
       "\n",
       "    .dataframe tbody tr th {\n",
       "        vertical-align: top;\n",
       "    }\n",
       "\n",
       "    .dataframe thead th {\n",
       "        text-align: right;\n",
       "    }\n",
       "</style>\n",
       "<table border=\"1\" class=\"dataframe\">\n",
       "  <thead>\n",
       "    <tr style=\"text-align: right;\">\n",
       "      <th></th>\n",
       "      <th>merchant_abn</th>\n",
       "      <th>take_rate</th>\n",
       "      <th>average_merchant_fraud_probability</th>\n",
       "      <th>number_of_unique_consumers</th>\n",
       "      <th>average_consumer_fraud_probability</th>\n",
       "      <th>number_of_repeat_consumers</th>\n",
       "      <th>average_repeat_transactions_per_consumer</th>\n",
       "      <th>number_of_orders</th>\n",
       "      <th>average_cost_of_order</th>\n",
       "      <th>average_spend_per_consumer</th>\n",
       "      <th>...</th>\n",
       "      <th>number_of_postcodes</th>\n",
       "      <th>avg_total_weekly_personal_income</th>\n",
       "      <th>avg_total_weekly_fam_income</th>\n",
       "      <th>avg_median_age</th>\n",
       "      <th>avg_household_size</th>\n",
       "      <th>postcode_reach</th>\n",
       "      <th>avg_num_of_consumers_per_postcode</th>\n",
       "      <th>bnpl_maximum_gain</th>\n",
       "      <th>segment_indexed</th>\n",
       "      <th>revenue_level_indexed</th>\n",
       "    </tr>\n",
       "  </thead>\n",
       "  <tbody>\n",
       "    <tr>\n",
       "      <th>0</th>\n",
       "      <td>16550028284</td>\n",
       "      <td>6.52</td>\n",
       "      <td>0.0</td>\n",
       "      <td>103</td>\n",
       "      <td>0.084383</td>\n",
       "      <td>1</td>\n",
       "      <td>1.009709</td>\n",
       "      <td>104</td>\n",
       "      <td>206.620211</td>\n",
       "      <td>208.626233</td>\n",
       "      <td>...</td>\n",
       "      <td>101</td>\n",
       "      <td>821.355769</td>\n",
       "      <td>2081.072115</td>\n",
       "      <td>43.033654</td>\n",
       "      <td>2.456731</td>\n",
       "      <td>0.038272</td>\n",
       "      <td>1.029703</td>\n",
       "      <td>1401.050196</td>\n",
       "      <td>2.0</td>\n",
       "      <td>0.0</td>\n",
       "    </tr>\n",
       "    <tr>\n",
       "      <th>1</th>\n",
       "      <td>21437482304</td>\n",
       "      <td>5.71</td>\n",
       "      <td>0.0</td>\n",
       "      <td>47</td>\n",
       "      <td>0.000000</td>\n",
       "      <td>0</td>\n",
       "      <td>1.000000</td>\n",
       "      <td>47</td>\n",
       "      <td>310.808283</td>\n",
       "      <td>310.808283</td>\n",
       "      <td>...</td>\n",
       "      <td>47</td>\n",
       "      <td>750.159574</td>\n",
       "      <td>1876.946809</td>\n",
       "      <td>43.542553</td>\n",
       "      <td>2.435106</td>\n",
       "      <td>0.017810</td>\n",
       "      <td>1.000000</td>\n",
       "      <td>834.116235</td>\n",
       "      <td>1.0</td>\n",
       "      <td>0.0</td>\n",
       "    </tr>\n",
       "    <tr>\n",
       "      <th>2</th>\n",
       "      <td>68535898735</td>\n",
       "      <td>2.87</td>\n",
       "      <td>0.0</td>\n",
       "      <td>19</td>\n",
       "      <td>2.068235</td>\n",
       "      <td>0</td>\n",
       "      <td>1.000000</td>\n",
       "      <td>19</td>\n",
       "      <td>3406.956557</td>\n",
       "      <td>3406.956557</td>\n",
       "      <td>...</td>\n",
       "      <td>19</td>\n",
       "      <td>768.394737</td>\n",
       "      <td>1863.921053</td>\n",
       "      <td>42.500000</td>\n",
       "      <td>2.512632</td>\n",
       "      <td>0.007200</td>\n",
       "      <td>1.000000</td>\n",
       "      <td>1857.813205</td>\n",
       "      <td>3.0</td>\n",
       "      <td>2.0</td>\n",
       "    </tr>\n",
       "    <tr>\n",
       "      <th>3</th>\n",
       "      <td>27440079026</td>\n",
       "      <td>2.53</td>\n",
       "      <td>0.0</td>\n",
       "      <td>1156</td>\n",
       "      <td>0.067623</td>\n",
       "      <td>34</td>\n",
       "      <td>1.029412</td>\n",
       "      <td>1190</td>\n",
       "      <td>451.566416</td>\n",
       "      <td>464.847781</td>\n",
       "      <td>...</td>\n",
       "      <td>947</td>\n",
       "      <td>794.315546</td>\n",
       "      <td>1965.475210</td>\n",
       "      <td>43.044118</td>\n",
       "      <td>2.463672</td>\n",
       "      <td>0.358848</td>\n",
       "      <td>1.256600</td>\n",
       "      <td>13595.309805</td>\n",
       "      <td>0.0</td>\n",
       "      <td>2.0</td>\n",
       "    </tr>\n",
       "    <tr>\n",
       "      <th>4</th>\n",
       "      <td>53062283717</td>\n",
       "      <td>3.93</td>\n",
       "      <td>0.0</td>\n",
       "      <td>3180</td>\n",
       "      <td>0.056882</td>\n",
       "      <td>288</td>\n",
       "      <td>1.094340</td>\n",
       "      <td>3480</td>\n",
       "      <td>404.681587</td>\n",
       "      <td>442.859096</td>\n",
       "      <td>...</td>\n",
       "      <td>1869</td>\n",
       "      <td>789.271839</td>\n",
       "      <td>1973.562931</td>\n",
       "      <td>42.969971</td>\n",
       "      <td>2.460109</td>\n",
       "      <td>0.708223</td>\n",
       "      <td>1.861958</td>\n",
       "      <td>55345.873396</td>\n",
       "      <td>0.0</td>\n",
       "      <td>1.0</td>\n",
       "    </tr>\n",
       "  </tbody>\n",
       "</table>\n",
       "<p>5 rows × 25 columns</p>\n",
       "</div>"
      ],
      "text/plain": [
       "   merchant_abn  take_rate  average_merchant_fraud_probability  \\\n",
       "0   16550028284       6.52                                 0.0   \n",
       "1   21437482304       5.71                                 0.0   \n",
       "2   68535898735       2.87                                 0.0   \n",
       "3   27440079026       2.53                                 0.0   \n",
       "4   53062283717       3.93                                 0.0   \n",
       "\n",
       "   number_of_unique_consumers  average_consumer_fraud_probability  \\\n",
       "0                         103                            0.084383   \n",
       "1                          47                            0.000000   \n",
       "2                          19                            2.068235   \n",
       "3                        1156                            0.067623   \n",
       "4                        3180                            0.056882   \n",
       "\n",
       "   number_of_repeat_consumers  average_repeat_transactions_per_consumer  \\\n",
       "0                           1                                  1.009709   \n",
       "1                           0                                  1.000000   \n",
       "2                           0                                  1.000000   \n",
       "3                          34                                  1.029412   \n",
       "4                         288                                  1.094340   \n",
       "\n",
       "   number_of_orders  average_cost_of_order  average_spend_per_consumer  ...  \\\n",
       "0               104             206.620211                  208.626233  ...   \n",
       "1                47             310.808283                  310.808283  ...   \n",
       "2                19            3406.956557                 3406.956557  ...   \n",
       "3              1190             451.566416                  464.847781  ...   \n",
       "4              3480             404.681587                  442.859096  ...   \n",
       "\n",
       "   number_of_postcodes  avg_total_weekly_personal_income  \\\n",
       "0                  101                        821.355769   \n",
       "1                   47                        750.159574   \n",
       "2                   19                        768.394737   \n",
       "3                  947                        794.315546   \n",
       "4                 1869                        789.271839   \n",
       "\n",
       "   avg_total_weekly_fam_income  avg_median_age  avg_household_size  \\\n",
       "0                  2081.072115       43.033654            2.456731   \n",
       "1                  1876.946809       43.542553            2.435106   \n",
       "2                  1863.921053       42.500000            2.512632   \n",
       "3                  1965.475210       43.044118            2.463672   \n",
       "4                  1973.562931       42.969971            2.460109   \n",
       "\n",
       "   postcode_reach  avg_num_of_consumers_per_postcode  bnpl_maximum_gain  \\\n",
       "0        0.038272                           1.029703        1401.050196   \n",
       "1        0.017810                           1.000000         834.116235   \n",
       "2        0.007200                           1.000000        1857.813205   \n",
       "3        0.358848                           1.256600       13595.309805   \n",
       "4        0.708223                           1.861958       55345.873396   \n",
       "\n",
       "   segment_indexed  revenue_level_indexed  \n",
       "0              2.0                    0.0  \n",
       "1              1.0                    0.0  \n",
       "2              3.0                    2.0  \n",
       "3              0.0                    2.0  \n",
       "4              0.0                    1.0  \n",
       "\n",
       "[5 rows x 25 columns]"
      ]
     },
     "execution_count": 11,
     "metadata": {},
     "output_type": "execute_result"
    }
   ],
   "source": [
    "correlation_df.head()"
   ]
  },
  {
   "cell_type": "code",
   "execution_count": 12,
   "metadata": {},
   "outputs": [],
   "source": [
    "corr_matrix = correlation_df.corr()"
   ]
  },
  {
   "cell_type": "markdown",
   "metadata": {},
   "source": [
    "We will matrix a heat map of the correlation matrix to view the correlations more visually."
   ]
  },
  {
   "cell_type": "code",
   "execution_count": null,
   "metadata": {},
   "outputs": [],
   "source": [
    "import seaborn as sns\n",
    "sns.heatmap(corr_matrix)"
   ]
  },
  {
   "cell_type": "markdown",
   "metadata": {},
   "source": [
    "### Feature Engineering"
   ]
  },
  {
   "cell_type": "markdown",
   "metadata": {},
   "source": [
    "Predicting number of consumers in 3 years"
   ]
  },
  {
   "cell_type": "code",
   "execution_count": 13,
   "metadata": {},
   "outputs": [
    {
     "data": {
      "text/plain": [
       "merchant_abn                                0.004690\n",
       "take_rate                                   0.039364\n",
       "average_merchant_fraud_probability         -0.005603\n",
       "number_of_unique_consumers                  1.000000\n",
       "average_consumer_fraud_probability         -0.144273\n",
       "number_of_repeat_consumers                  0.860697\n",
       "average_repeat_transactions_per_consumer    0.613602\n",
       "number_of_orders                            0.714180\n",
       "average_cost_of_order                      -0.180890\n",
       "average_spend_per_consumer                 -0.171051\n",
       "average_monthly_diff_consumers              0.773080\n",
       "consumer_diff_over_period                   0.773120\n",
       "average_growth_consumers                    0.442527\n",
       "merchant_revenue_rounded                    0.647470\n",
       "transcation_period_months                   0.243275\n",
       "number_of_postcodes                         0.845176\n",
       "avg_total_weekly_personal_income            0.008346\n",
       "avg_total_weekly_fam_income                 0.010363\n",
       "avg_median_age                             -0.002720\n",
       "avg_household_size                          0.003532\n",
       "postcode_reach                              0.845176\n",
       "avg_num_of_consumers_per_postcode           0.679941\n",
       "bnpl_maximum_gain                           0.612203\n",
       "segment_indexed                            -0.014934\n",
       "revenue_level_indexed                      -0.041301\n",
       "Name: number_of_unique_consumers, dtype: float64"
      ]
     },
     "execution_count": 13,
     "metadata": {},
     "output_type": "execute_result"
    }
   ],
   "source": [
    "corr_matrix.loc[\"number_of_unique_consumers\"]"
   ]
  },
  {
   "cell_type": "markdown",
   "metadata": {},
   "source": [
    "Next we seperate the features and the target variables"
   ]
  },
  {
   "cell_type": "code",
   "execution_count": 14,
   "metadata": {},
   "outputs": [],
   "source": [
    "modelling_df = correlation_df.copy()"
   ]
  },
  {
   "cell_type": "code",
   "execution_count": 15,
   "metadata": {},
   "outputs": [
    {
     "data": {
      "text/html": [
       "<div>\n",
       "<style scoped>\n",
       "    .dataframe tbody tr th:only-of-type {\n",
       "        vertical-align: middle;\n",
       "    }\n",
       "\n",
       "    .dataframe tbody tr th {\n",
       "        vertical-align: top;\n",
       "    }\n",
       "\n",
       "    .dataframe thead th {\n",
       "        text-align: right;\n",
       "    }\n",
       "</style>\n",
       "<table border=\"1\" class=\"dataframe\">\n",
       "  <thead>\n",
       "    <tr style=\"text-align: right;\">\n",
       "      <th></th>\n",
       "      <th>merchant_abn</th>\n",
       "      <th>take_rate</th>\n",
       "      <th>average_merchant_fraud_probability</th>\n",
       "      <th>number_of_unique_consumers</th>\n",
       "      <th>average_consumer_fraud_probability</th>\n",
       "      <th>number_of_repeat_consumers</th>\n",
       "      <th>average_repeat_transactions_per_consumer</th>\n",
       "      <th>number_of_orders</th>\n",
       "      <th>average_cost_of_order</th>\n",
       "      <th>average_spend_per_consumer</th>\n",
       "      <th>...</th>\n",
       "      <th>number_of_postcodes</th>\n",
       "      <th>avg_total_weekly_personal_income</th>\n",
       "      <th>avg_total_weekly_fam_income</th>\n",
       "      <th>avg_median_age</th>\n",
       "      <th>avg_household_size</th>\n",
       "      <th>postcode_reach</th>\n",
       "      <th>avg_num_of_consumers_per_postcode</th>\n",
       "      <th>bnpl_maximum_gain</th>\n",
       "      <th>segment_indexed</th>\n",
       "      <th>revenue_level_indexed</th>\n",
       "    </tr>\n",
       "  </thead>\n",
       "  <tbody>\n",
       "    <tr>\n",
       "      <th>0</th>\n",
       "      <td>16550028284</td>\n",
       "      <td>6.52</td>\n",
       "      <td>0.0</td>\n",
       "      <td>103</td>\n",
       "      <td>0.084383</td>\n",
       "      <td>1</td>\n",
       "      <td>1.009709</td>\n",
       "      <td>104</td>\n",
       "      <td>206.620211</td>\n",
       "      <td>208.626233</td>\n",
       "      <td>...</td>\n",
       "      <td>101</td>\n",
       "      <td>821.355769</td>\n",
       "      <td>2081.072115</td>\n",
       "      <td>43.033654</td>\n",
       "      <td>2.456731</td>\n",
       "      <td>0.038272</td>\n",
       "      <td>1.029703</td>\n",
       "      <td>1401.050196</td>\n",
       "      <td>2.0</td>\n",
       "      <td>0.0</td>\n",
       "    </tr>\n",
       "    <tr>\n",
       "      <th>1</th>\n",
       "      <td>21437482304</td>\n",
       "      <td>5.71</td>\n",
       "      <td>0.0</td>\n",
       "      <td>47</td>\n",
       "      <td>0.000000</td>\n",
       "      <td>0</td>\n",
       "      <td>1.000000</td>\n",
       "      <td>47</td>\n",
       "      <td>310.808283</td>\n",
       "      <td>310.808283</td>\n",
       "      <td>...</td>\n",
       "      <td>47</td>\n",
       "      <td>750.159574</td>\n",
       "      <td>1876.946809</td>\n",
       "      <td>43.542553</td>\n",
       "      <td>2.435106</td>\n",
       "      <td>0.017810</td>\n",
       "      <td>1.000000</td>\n",
       "      <td>834.116235</td>\n",
       "      <td>1.0</td>\n",
       "      <td>0.0</td>\n",
       "    </tr>\n",
       "    <tr>\n",
       "      <th>2</th>\n",
       "      <td>68535898735</td>\n",
       "      <td>2.87</td>\n",
       "      <td>0.0</td>\n",
       "      <td>19</td>\n",
       "      <td>2.068235</td>\n",
       "      <td>0</td>\n",
       "      <td>1.000000</td>\n",
       "      <td>19</td>\n",
       "      <td>3406.956557</td>\n",
       "      <td>3406.956557</td>\n",
       "      <td>...</td>\n",
       "      <td>19</td>\n",
       "      <td>768.394737</td>\n",
       "      <td>1863.921053</td>\n",
       "      <td>42.500000</td>\n",
       "      <td>2.512632</td>\n",
       "      <td>0.007200</td>\n",
       "      <td>1.000000</td>\n",
       "      <td>1857.813205</td>\n",
       "      <td>3.0</td>\n",
       "      <td>2.0</td>\n",
       "    </tr>\n",
       "    <tr>\n",
       "      <th>3</th>\n",
       "      <td>27440079026</td>\n",
       "      <td>2.53</td>\n",
       "      <td>0.0</td>\n",
       "      <td>1156</td>\n",
       "      <td>0.067623</td>\n",
       "      <td>34</td>\n",
       "      <td>1.029412</td>\n",
       "      <td>1190</td>\n",
       "      <td>451.566416</td>\n",
       "      <td>464.847781</td>\n",
       "      <td>...</td>\n",
       "      <td>947</td>\n",
       "      <td>794.315546</td>\n",
       "      <td>1965.475210</td>\n",
       "      <td>43.044118</td>\n",
       "      <td>2.463672</td>\n",
       "      <td>0.358848</td>\n",
       "      <td>1.256600</td>\n",
       "      <td>13595.309805</td>\n",
       "      <td>0.0</td>\n",
       "      <td>2.0</td>\n",
       "    </tr>\n",
       "    <tr>\n",
       "      <th>4</th>\n",
       "      <td>53062283717</td>\n",
       "      <td>3.93</td>\n",
       "      <td>0.0</td>\n",
       "      <td>3180</td>\n",
       "      <td>0.056882</td>\n",
       "      <td>288</td>\n",
       "      <td>1.094340</td>\n",
       "      <td>3480</td>\n",
       "      <td>404.681587</td>\n",
       "      <td>442.859096</td>\n",
       "      <td>...</td>\n",
       "      <td>1869</td>\n",
       "      <td>789.271839</td>\n",
       "      <td>1973.562931</td>\n",
       "      <td>42.969971</td>\n",
       "      <td>2.460109</td>\n",
       "      <td>0.708223</td>\n",
       "      <td>1.861958</td>\n",
       "      <td>55345.873396</td>\n",
       "      <td>0.0</td>\n",
       "      <td>1.0</td>\n",
       "    </tr>\n",
       "  </tbody>\n",
       "</table>\n",
       "<p>5 rows × 25 columns</p>\n",
       "</div>"
      ],
      "text/plain": [
       "   merchant_abn  take_rate  average_merchant_fraud_probability  \\\n",
       "0   16550028284       6.52                                 0.0   \n",
       "1   21437482304       5.71                                 0.0   \n",
       "2   68535898735       2.87                                 0.0   \n",
       "3   27440079026       2.53                                 0.0   \n",
       "4   53062283717       3.93                                 0.0   \n",
       "\n",
       "   number_of_unique_consumers  average_consumer_fraud_probability  \\\n",
       "0                         103                            0.084383   \n",
       "1                          47                            0.000000   \n",
       "2                          19                            2.068235   \n",
       "3                        1156                            0.067623   \n",
       "4                        3180                            0.056882   \n",
       "\n",
       "   number_of_repeat_consumers  average_repeat_transactions_per_consumer  \\\n",
       "0                           1                                  1.009709   \n",
       "1                           0                                  1.000000   \n",
       "2                           0                                  1.000000   \n",
       "3                          34                                  1.029412   \n",
       "4                         288                                  1.094340   \n",
       "\n",
       "   number_of_orders  average_cost_of_order  average_spend_per_consumer  ...  \\\n",
       "0               104             206.620211                  208.626233  ...   \n",
       "1                47             310.808283                  310.808283  ...   \n",
       "2                19            3406.956557                 3406.956557  ...   \n",
       "3              1190             451.566416                  464.847781  ...   \n",
       "4              3480             404.681587                  442.859096  ...   \n",
       "\n",
       "   number_of_postcodes  avg_total_weekly_personal_income  \\\n",
       "0                  101                        821.355769   \n",
       "1                   47                        750.159574   \n",
       "2                   19                        768.394737   \n",
       "3                  947                        794.315546   \n",
       "4                 1869                        789.271839   \n",
       "\n",
       "   avg_total_weekly_fam_income  avg_median_age  avg_household_size  \\\n",
       "0                  2081.072115       43.033654            2.456731   \n",
       "1                  1876.946809       43.542553            2.435106   \n",
       "2                  1863.921053       42.500000            2.512632   \n",
       "3                  1965.475210       43.044118            2.463672   \n",
       "4                  1973.562931       42.969971            2.460109   \n",
       "\n",
       "   postcode_reach  avg_num_of_consumers_per_postcode  bnpl_maximum_gain  \\\n",
       "0        0.038272                           1.029703        1401.050196   \n",
       "1        0.017810                           1.000000         834.116235   \n",
       "2        0.007200                           1.000000        1857.813205   \n",
       "3        0.358848                           1.256600       13595.309805   \n",
       "4        0.708223                           1.861958       55345.873396   \n",
       "\n",
       "   segment_indexed  revenue_level_indexed  \n",
       "0              2.0                    0.0  \n",
       "1              1.0                    0.0  \n",
       "2              3.0                    2.0  \n",
       "3              0.0                    2.0  \n",
       "4              0.0                    1.0  \n",
       "\n",
       "[5 rows x 25 columns]"
      ]
     },
     "execution_count": 15,
     "metadata": {},
     "output_type": "execute_result"
    }
   ],
   "source": [
    "modelling_df.head()"
   ]
  },
  {
   "cell_type": "code",
   "execution_count": 16,
   "metadata": {},
   "outputs": [],
   "source": [
    "target_variable = \"number_of_unique_consumers\""
   ]
  },
  {
   "cell_type": "code",
   "execution_count": 17,
   "metadata": {},
   "outputs": [],
   "source": [
    "features_unique_customers = modelling_df.drop(columns = [\"merchant_abn\",target_variable])\n",
    "number_of_unique_customer = modelling_df[target_variable]"
   ]
  },
  {
   "cell_type": "markdown",
   "metadata": {},
   "source": [
    "Feature Selection"
   ]
  },
  {
   "cell_type": "code",
   "execution_count": 18,
   "metadata": {},
   "outputs": [],
   "source": [
    "from sklearn.feature_selection import f_regression, SelectKBest"
   ]
  },
  {
   "cell_type": "code",
   "execution_count": 19,
   "metadata": {},
   "outputs": [],
   "source": [
    "selector = SelectKBest(score_func=f_regression, k= 5)\n",
    "features_unique_customers_selected = selector.fit_transform(features_unique_customers, number_of_unique_customer)"
   ]
  },
  {
   "cell_type": "code",
   "execution_count": 20,
   "metadata": {},
   "outputs": [
    {
     "name": "stdout",
     "output_type": "stream",
     "text": [
      "Index(['number_of_repeat_consumers', 'average_monthly_diff_consumers',\n",
      "       'consumer_diff_over_period', 'number_of_postcodes', 'postcode_reach'],\n",
      "      dtype='object')\n"
     ]
    }
   ],
   "source": [
    "selected_feature_indices = selector.get_support(indices=True)\n",
    "selected_features = features_unique_customers.columns[selected_feature_indices]\n",
    "print(selected_features)"
   ]
  },
  {
   "cell_type": "code",
   "execution_count": 21,
   "metadata": {},
   "outputs": [
    {
     "name": "stdout",
     "output_type": "stream",
     "text": [
      "Index(['number_of_repeat_consumers', 'average_monthly_diff_consumers',\n",
      "       'consumer_diff_over_period', 'number_of_postcodes', 'postcode_reach',\n",
      "       'transcation_period_months'],\n",
      "      dtype='object')\n"
     ]
    }
   ],
   "source": [
    "# add transaction period features as this feature will be changed\n",
    "selected_features = selected_features.append(pd.Index(['transcation_period_months']))\n",
    "print(selected_features)"
   ]
  },
  {
   "cell_type": "markdown",
   "metadata": {},
   "source": [
    "Splitting the data for train and test \n",
    " - We will use a 80 - 20"
   ]
  },
  {
   "cell_type": "code",
   "execution_count": 22,
   "metadata": {},
   "outputs": [],
   "source": [
    "from sklearn.model_selection import train_test_split"
   ]
  },
  {
   "cell_type": "code",
   "execution_count": 55,
   "metadata": {},
   "outputs": [],
   "source": [
    "features_unique_customers_train, features_unique_customers_test, number_of_unique_customer_train, number_of_unique_customer_test = \\\n",
    "    train_test_split(features_unique_customers[selected_features], number_of_unique_customer, test_size=0.2, random_state=42)"
   ]
  },
  {
   "cell_type": "markdown",
   "metadata": {},
   "source": [
    "### Fitting the model\n",
    "\n",
    "First we will fit a linear regression model"
   ]
  },
  {
   "cell_type": "code",
   "execution_count": 56,
   "metadata": {},
   "outputs": [],
   "source": [
    "from sklearn.linear_model import LinearRegression\n",
    "from sklearn.metrics import mean_squared_error, r2_score\n",
    "import numpy as np\n",
    "import matplotlib.pyplot as plt"
   ]
  },
  {
   "cell_type": "code",
   "execution_count": 57,
   "metadata": {},
   "outputs": [
    {
     "data": {
      "text/html": [
       "<style>#sk-container-id-4 {color: black;}#sk-container-id-4 pre{padding: 0;}#sk-container-id-4 div.sk-toggleable {background-color: white;}#sk-container-id-4 label.sk-toggleable__label {cursor: pointer;display: block;width: 100%;margin-bottom: 0;padding: 0.3em;box-sizing: border-box;text-align: center;}#sk-container-id-4 label.sk-toggleable__label-arrow:before {content: \"▸\";float: left;margin-right: 0.25em;color: #696969;}#sk-container-id-4 label.sk-toggleable__label-arrow:hover:before {color: black;}#sk-container-id-4 div.sk-estimator:hover label.sk-toggleable__label-arrow:before {color: black;}#sk-container-id-4 div.sk-toggleable__content {max-height: 0;max-width: 0;overflow: hidden;text-align: left;background-color: #f0f8ff;}#sk-container-id-4 div.sk-toggleable__content pre {margin: 0.2em;color: black;border-radius: 0.25em;background-color: #f0f8ff;}#sk-container-id-4 input.sk-toggleable__control:checked~div.sk-toggleable__content {max-height: 200px;max-width: 100%;overflow: auto;}#sk-container-id-4 input.sk-toggleable__control:checked~label.sk-toggleable__label-arrow:before {content: \"▾\";}#sk-container-id-4 div.sk-estimator input.sk-toggleable__control:checked~label.sk-toggleable__label {background-color: #d4ebff;}#sk-container-id-4 div.sk-label input.sk-toggleable__control:checked~label.sk-toggleable__label {background-color: #d4ebff;}#sk-container-id-4 input.sk-hidden--visually {border: 0;clip: rect(1px 1px 1px 1px);clip: rect(1px, 1px, 1px, 1px);height: 1px;margin: -1px;overflow: hidden;padding: 0;position: absolute;width: 1px;}#sk-container-id-4 div.sk-estimator {font-family: monospace;background-color: #f0f8ff;border: 1px dotted black;border-radius: 0.25em;box-sizing: border-box;margin-bottom: 0.5em;}#sk-container-id-4 div.sk-estimator:hover {background-color: #d4ebff;}#sk-container-id-4 div.sk-parallel-item::after {content: \"\";width: 100%;border-bottom: 1px solid gray;flex-grow: 1;}#sk-container-id-4 div.sk-label:hover label.sk-toggleable__label {background-color: #d4ebff;}#sk-container-id-4 div.sk-serial::before {content: \"\";position: absolute;border-left: 1px solid gray;box-sizing: border-box;top: 0;bottom: 0;left: 50%;z-index: 0;}#sk-container-id-4 div.sk-serial {display: flex;flex-direction: column;align-items: center;background-color: white;padding-right: 0.2em;padding-left: 0.2em;position: relative;}#sk-container-id-4 div.sk-item {position: relative;z-index: 1;}#sk-container-id-4 div.sk-parallel {display: flex;align-items: stretch;justify-content: center;background-color: white;position: relative;}#sk-container-id-4 div.sk-item::before, #sk-container-id-4 div.sk-parallel-item::before {content: \"\";position: absolute;border-left: 1px solid gray;box-sizing: border-box;top: 0;bottom: 0;left: 50%;z-index: -1;}#sk-container-id-4 div.sk-parallel-item {display: flex;flex-direction: column;z-index: 1;position: relative;background-color: white;}#sk-container-id-4 div.sk-parallel-item:first-child::after {align-self: flex-end;width: 50%;}#sk-container-id-4 div.sk-parallel-item:last-child::after {align-self: flex-start;width: 50%;}#sk-container-id-4 div.sk-parallel-item:only-child::after {width: 0;}#sk-container-id-4 div.sk-dashed-wrapped {border: 1px dashed gray;margin: 0 0.4em 0.5em 0.4em;box-sizing: border-box;padding-bottom: 0.4em;background-color: white;}#sk-container-id-4 div.sk-label label {font-family: monospace;font-weight: bold;display: inline-block;line-height: 1.2em;}#sk-container-id-4 div.sk-label-container {text-align: center;}#sk-container-id-4 div.sk-container {/* jupyter's `normalize.less` sets `[hidden] { display: none; }` but bootstrap.min.css set `[hidden] { display: none !important; }` so we also need the `!important` here to be able to override the default hidden behavior on the sphinx rendered scikit-learn.org. See: https://github.com/scikit-learn/scikit-learn/issues/21755 */display: inline-block !important;position: relative;}#sk-container-id-4 div.sk-text-repr-fallback {display: none;}</style><div id=\"sk-container-id-4\" class=\"sk-top-container\"><div class=\"sk-text-repr-fallback\"><pre>LinearRegression()</pre><b>In a Jupyter environment, please rerun this cell to show the HTML representation or trust the notebook. <br />On GitHub, the HTML representation is unable to render, please try loading this page with nbviewer.org.</b></div><div class=\"sk-container\" hidden><div class=\"sk-item\"><div class=\"sk-estimator sk-toggleable\"><input class=\"sk-toggleable__control sk-hidden--visually\" id=\"sk-estimator-id-4\" type=\"checkbox\" checked><label for=\"sk-estimator-id-4\" class=\"sk-toggleable__label sk-toggleable__label-arrow\">LinearRegression</label><div class=\"sk-toggleable__content\"><pre>LinearRegression()</pre></div></div></div></div></div>"
      ],
      "text/plain": [
       "LinearRegression()"
      ]
     },
     "execution_count": 57,
     "metadata": {},
     "output_type": "execute_result"
    }
   ],
   "source": [
    "num_of_unique_customers_model_LR = LinearRegression()\n",
    "num_of_unique_customers_model_LR.fit((features_unique_customers_train), (number_of_unique_customer_train))"
   ]
  },
  {
   "cell_type": "markdown",
   "metadata": {},
   "source": [
    "Linear Regression Model Evaluation"
   ]
  },
  {
   "cell_type": "code",
   "execution_count": 58,
   "metadata": {},
   "outputs": [],
   "source": [
    "num_of_unique_customer_pred_LR = num_of_unique_customers_model_LR.predict(features_unique_customers_test)\n",
    "mse = mean_squared_error((number_of_unique_customer_test), (num_of_unique_customer_pred_LR))\n",
    "rmse = (mse ** 0.5)\n",
    "r2 = r2_score((number_of_unique_customer_test), num_of_unique_customer_pred_LR)"
   ]
  },
  {
   "cell_type": "code",
   "execution_count": 59,
   "metadata": {},
   "outputs": [
    {
     "name": "stdout",
     "output_type": "stream",
     "text": [
      "R-squared (R2): 0.9678928618330703\n",
      "RMSE: 543.9725858257284\n"
     ]
    }
   ],
   "source": [
    "print(f'R-squared (R2): {r2}')\n",
    "print(f\"RMSE: {rmse}\")"
   ]
  },
  {
   "cell_type": "code",
   "execution_count": 60,
   "metadata": {},
   "outputs": [],
   "source": [
    "residuals = (number_of_unique_customer_test) - num_of_unique_customer_pred_LR"
   ]
  },
  {
   "cell_type": "code",
   "execution_count": 61,
   "metadata": {},
   "outputs": [
    {
     "data": {
      "image/png": "[encoded data removed]",
      "text/plain": [
       "<Figure size 640x480 with 1 Axes>"
      ]
     },
     "metadata": {},
     "output_type": "display_data"
    }
   ],
   "source": [
    "plt.scatter(num_of_unique_customer_pred_LR, residuals)\n",
    "plt.xlabel('Predicted Values')\n",
    "plt.ylabel('Residuals')\n",
    "plt.title('Residual Plot')\n",
    "plt.axhline(y=0, color='r', linestyle='-')\n",
    "plt.show()"
   ]
  },
  {
   "cell_type": "markdown",
   "metadata": {},
   "source": [
    "By looking at the residual plot we can see that the underlying distribution is non-linear, so we will fit a Random Forest Regressor model."
   ]
  },
  {
   "cell_type": "code",
   "execution_count": 30,
   "metadata": {},
   "outputs": [],
   "source": [
    "from sklearn.ensemble import RandomForestRegressor"
   ]
  },
  {
   "cell_type": "code",
   "execution_count": 31,
   "metadata": {},
   "outputs": [
    {
     "data": {
      "text/html": [
       "<style>#sk-container-id-2 {color: black;}#sk-container-id-2 pre{padding: 0;}#sk-container-id-2 div.sk-toggleable {background-color: white;}#sk-container-id-2 label.sk-toggleable__label {cursor: pointer;display: block;width: 100%;margin-bottom: 0;padding: 0.3em;box-sizing: border-box;text-align: center;}#sk-container-id-2 label.sk-toggleable__label-arrow:before {content: \"▸\";float: left;margin-right: 0.25em;color: #696969;}#sk-container-id-2 label.sk-toggleable__label-arrow:hover:before {color: black;}#sk-container-id-2 div.sk-estimator:hover label.sk-toggleable__label-arrow:before {color: black;}#sk-container-id-2 div.sk-toggleable__content {max-height: 0;max-width: 0;overflow: hidden;text-align: left;background-color: #f0f8ff;}#sk-container-id-2 div.sk-toggleable__content pre {margin: 0.2em;color: black;border-radius: 0.25em;background-color: #f0f8ff;}#sk-container-id-2 input.sk-toggleable__control:checked~div.sk-toggleable__content {max-height: 200px;max-width: 100%;overflow: auto;}#sk-container-id-2 input.sk-toggleable__control:checked~label.sk-toggleable__label-arrow:before {content: \"▾\";}#sk-container-id-2 div.sk-estimator input.sk-toggleable__control:checked~label.sk-toggleable__label {background-color: #d4ebff;}#sk-container-id-2 div.sk-label input.sk-toggleable__control:checked~label.sk-toggleable__label {background-color: #d4ebff;}#sk-container-id-2 input.sk-hidden--visually {border: 0;clip: rect(1px 1px 1px 1px);clip: rect(1px, 1px, 1px, 1px);height: 1px;margin: -1px;overflow: hidden;padding: 0;position: absolute;width: 1px;}#sk-container-id-2 div.sk-estimator {font-family: monospace;background-color: #f0f8ff;border: 1px dotted black;border-radius: 0.25em;box-sizing: border-box;margin-bottom: 0.5em;}#sk-container-id-2 div.sk-estimator:hover {background-color: #d4ebff;}#sk-container-id-2 div.sk-parallel-item::after {content: \"\";width: 100%;border-bottom: 1px solid gray;flex-grow: 1;}#sk-container-id-2 div.sk-label:hover label.sk-toggleable__label {background-color: #d4ebff;}#sk-container-id-2 div.sk-serial::before {content: \"\";position: absolute;border-left: 1px solid gray;box-sizing: border-box;top: 0;bottom: 0;left: 50%;z-index: 0;}#sk-container-id-2 div.sk-serial {display: flex;flex-direction: column;align-items: center;background-color: white;padding-right: 0.2em;padding-left: 0.2em;position: relative;}#sk-container-id-2 div.sk-item {position: relative;z-index: 1;}#sk-container-id-2 div.sk-parallel {display: flex;align-items: stretch;justify-content: center;background-color: white;position: relative;}#sk-container-id-2 div.sk-item::before, #sk-container-id-2 div.sk-parallel-item::before {content: \"\";position: absolute;border-left: 1px solid gray;box-sizing: border-box;top: 0;bottom: 0;left: 50%;z-index: -1;}#sk-container-id-2 div.sk-parallel-item {display: flex;flex-direction: column;z-index: 1;position: relative;background-color: white;}#sk-container-id-2 div.sk-parallel-item:first-child::after {align-self: flex-end;width: 50%;}#sk-container-id-2 div.sk-parallel-item:last-child::after {align-self: flex-start;width: 50%;}#sk-container-id-2 div.sk-parallel-item:only-child::after {width: 0;}#sk-container-id-2 div.sk-dashed-wrapped {border: 1px dashed gray;margin: 0 0.4em 0.5em 0.4em;box-sizing: border-box;padding-bottom: 0.4em;background-color: white;}#sk-container-id-2 div.sk-label label {font-family: monospace;font-weight: bold;display: inline-block;line-height: 1.2em;}#sk-container-id-2 div.sk-label-container {text-align: center;}#sk-container-id-2 div.sk-container {/* jupyter's `normalize.less` sets `[hidden] { display: none; }` but bootstrap.min.css set `[hidden] { display: none !important; }` so we also need the `!important` here to be able to override the default hidden behavior on the sphinx rendered scikit-learn.org. See: https://github.com/scikit-learn/scikit-learn/issues/21755 */display: inline-block !important;position: relative;}#sk-container-id-2 div.sk-text-repr-fallback {display: none;}</style><div id=\"sk-container-id-2\" class=\"sk-top-container\"><div class=\"sk-text-repr-fallback\"><pre>RandomForestRegressor()</pre><b>In a Jupyter environment, please rerun this cell to show the HTML representation or trust the notebook. <br />On GitHub, the HTML representation is unable to render, please try loading this page with nbviewer.org.</b></div><div class=\"sk-container\" hidden><div class=\"sk-item\"><div class=\"sk-estimator sk-toggleable\"><input class=\"sk-toggleable__control sk-hidden--visually\" id=\"sk-estimator-id-2\" type=\"checkbox\" checked><label for=\"sk-estimator-id-2\" class=\"sk-toggleable__label sk-toggleable__label-arrow\">RandomForestRegressor</label><div class=\"sk-toggleable__content\"><pre>RandomForestRegressor()</pre></div></div></div></div></div>"
      ],
      "text/plain": [
       "RandomForestRegressor()"
      ]
     },
     "execution_count": 31,
     "metadata": {},
     "output_type": "execute_result"
    }
   ],
   "source": [
    "num_of_unique_customers_model_RFR = RandomForestRegressor()\n",
    "num_of_unique_customers_model_RFR.fit((features_unique_customers_train), np.log(number_of_unique_customer_train))"
   ]
  },
  {
   "cell_type": "markdown",
   "metadata": {},
   "source": [
    "Random Forest Regressor Evaluation"
   ]
  },
  {
   "cell_type": "code",
   "execution_count": 32,
   "metadata": {},
   "outputs": [],
   "source": [
    "num_of_unique_customer_pred_RFR = num_of_unique_customers_model_RFR.predict(features_unique_customers_test)\n",
    "mse = mean_squared_error(np.log(number_of_unique_customer_test), (num_of_unique_customer_pred_RFR))\n",
    "rmse = (mse ** 0.5)\n",
    "r2 = r2_score(np.log(number_of_unique_customer_test), num_of_unique_customer_pred_RFR)"
   ]
  },
  {
   "cell_type": "code",
   "execution_count": 33,
   "metadata": {},
   "outputs": [
    {
     "name": "stdout",
     "output_type": "stream",
     "text": [
      "R-squared (R2): 0.9999448716433045\n",
      "RMSE: 0.014972297107788324\n"
     ]
    }
   ],
   "source": [
    "print(f'R-squared (R2): {r2}')\n",
    "print(f\"RMSE: {rmse}\")"
   ]
  },
  {
   "cell_type": "code",
   "execution_count": 34,
   "metadata": {},
   "outputs": [],
   "source": [
    "residuals = np.log(number_of_unique_customer_test) - num_of_unique_customer_pred_RFR"
   ]
  },
  {
   "cell_type": "code",
   "execution_count": 35,
   "metadata": {},
   "outputs": [
    {
     "data": {
      "image/png": "[encoded data removed]",
      "text/plain": [
       "<Figure size 640x480 with 1 Axes>"
      ]
     },
     "metadata": {},
     "output_type": "display_data"
    }
   ],
   "source": [
    "import matplotlib.pyplot as plt\n",
    "plt.scatter(num_of_unique_customer_pred_RFR, residuals)\n",
    "plt.xlabel('Predicted Values')\n",
    "plt.ylabel('Residuals')\n",
    "plt.title('Residual Plot')\n",
    "plt.axhline(y=0, color='r', linestyle='-')\n",
    "plt.show()"
   ]
  },
  {
   "cell_type": "markdown",
   "metadata": {},
   "source": [
    "We will also use a XGBoost model"
   ]
  },
  {
   "cell_type": "code",
   "execution_count": 36,
   "metadata": {},
   "outputs": [],
   "source": [
    "from xgboost import XGBRegressor"
   ]
  },
  {
   "cell_type": "code",
   "execution_count": 37,
   "metadata": {},
   "outputs": [
    {
     "data": {
      "text/html": [
       "<style>#sk-container-id-3 {color: black;}#sk-container-id-3 pre{padding: 0;}#sk-container-id-3 div.sk-toggleable {background-color: white;}#sk-container-id-3 label.sk-toggleable__label {cursor: pointer;display: block;width: 100%;margin-bottom: 0;padding: 0.3em;box-sizing: border-box;text-align: center;}#sk-container-id-3 label.sk-toggleable__label-arrow:before {content: \"▸\";float: left;margin-right: 0.25em;color: #696969;}#sk-container-id-3 label.sk-toggleable__label-arrow:hover:before {color: black;}#sk-container-id-3 div.sk-estimator:hover label.sk-toggleable__label-arrow:before {color: black;}#sk-container-id-3 div.sk-toggleable__content {max-height: 0;max-width: 0;overflow: hidden;text-align: left;background-color: #f0f8ff;}#sk-container-id-3 div.sk-toggleable__content pre {margin: 0.2em;color: black;border-radius: 0.25em;background-color: #f0f8ff;}#sk-container-id-3 input.sk-toggleable__control:checked~div.sk-toggleable__content {max-height: 200px;max-width: 100%;overflow: auto;}#sk-container-id-3 input.sk-toggleable__control:checked~label.sk-toggleable__label-arrow:before {content: \"▾\";}#sk-container-id-3 div.sk-estimator input.sk-toggleable__control:checked~label.sk-toggleable__label {background-color: #d4ebff;}#sk-container-id-3 div.sk-label input.sk-toggleable__control:checked~label.sk-toggleable__label {background-color: #d4ebff;}#sk-container-id-3 input.sk-hidden--visually {border: 0;clip: rect(1px 1px 1px 1px);clip: rect(1px, 1px, 1px, 1px);height: 1px;margin: -1px;overflow: hidden;padding: 0;position: absolute;width: 1px;}#sk-container-id-3 div.sk-estimator {font-family: monospace;background-color: #f0f8ff;border: 1px dotted black;border-radius: 0.25em;box-sizing: border-box;margin-bottom: 0.5em;}#sk-container-id-3 div.sk-estimator:hover {background-color: #d4ebff;}#sk-container-id-3 div.sk-parallel-item::after {content: \"\";width: 100%;border-bottom: 1px solid gray;flex-grow: 1;}#sk-container-id-3 div.sk-label:hover label.sk-toggleable__label {background-color: #d4ebff;}#sk-container-id-3 div.sk-serial::before {content: \"\";position: absolute;border-left: 1px solid gray;box-sizing: border-box;top: 0;bottom: 0;left: 50%;z-index: 0;}#sk-container-id-3 div.sk-serial {display: flex;flex-direction: column;align-items: center;background-color: white;padding-right: 0.2em;padding-left: 0.2em;position: relative;}#sk-container-id-3 div.sk-item {position: relative;z-index: 1;}#sk-container-id-3 div.sk-parallel {display: flex;align-items: stretch;justify-content: center;background-color: white;position: relative;}#sk-container-id-3 div.sk-item::before, #sk-container-id-3 div.sk-parallel-item::before {content: \"\";position: absolute;border-left: 1px solid gray;box-sizing: border-box;top: 0;bottom: 0;left: 50%;z-index: -1;}#sk-container-id-3 div.sk-parallel-item {display: flex;flex-direction: column;z-index: 1;position: relative;background-color: white;}#sk-container-id-3 div.sk-parallel-item:first-child::after {align-self: flex-end;width: 50%;}#sk-container-id-3 div.sk-parallel-item:last-child::after {align-self: flex-start;width: 50%;}#sk-container-id-3 div.sk-parallel-item:only-child::after {width: 0;}#sk-container-id-3 div.sk-dashed-wrapped {border: 1px dashed gray;margin: 0 0.4em 0.5em 0.4em;box-sizing: border-box;padding-bottom: 0.4em;background-color: white;}#sk-container-id-3 div.sk-label label {font-family: monospace;font-weight: bold;display: inline-block;line-height: 1.2em;}#sk-container-id-3 div.sk-label-container {text-align: center;}#sk-container-id-3 div.sk-container {/* jupyter's `normalize.less` sets `[hidden] { display: none; }` but bootstrap.min.css set `[hidden] { display: none !important; }` so we also need the `!important` here to be able to override the default hidden behavior on the sphinx rendered scikit-learn.org. See: https://github.com/scikit-learn/scikit-learn/issues/21755 */display: inline-block !important;position: relative;}#sk-container-id-3 div.sk-text-repr-fallback {display: none;}</style><div id=\"sk-container-id-3\" class=\"sk-top-container\"><div class=\"sk-text-repr-fallback\"><pre>XGBRegressor(base_score=None, booster=None, callbacks=None,\n",
       "             colsample_bylevel=None, colsample_bynode=None,\n",
       "             colsample_bytree=None, device=None, early_stopping_rounds=None,\n",
       "             enable_categorical=False, eval_metric=None, feature_types=None,\n",
       "             gamma=None, grow_policy=None, importance_type=None,\n",
       "             interaction_constraints=None, learning_rate=None, max_bin=None,\n",
       "             max_cat_threshold=None, max_cat_to_onehot=None,\n",
       "             max_delta_step=None, max_depth=None, max_leaves=None,\n",
       "             min_child_weight=None, missing=nan, monotone_constraints=None,\n",
       "             multi_strategy=None, n_estimators=None, n_jobs=None,\n",
       "             num_parallel_tree=None, random_state=None, ...)</pre><b>In a Jupyter environment, please rerun this cell to show the HTML representation or trust the notebook. <br />On GitHub, the HTML representation is unable to render, please try loading this page with nbviewer.org.</b></div><div class=\"sk-container\" hidden><div class=\"sk-item\"><div class=\"sk-estimator sk-toggleable\"><input class=\"sk-toggleable__control sk-hidden--visually\" id=\"sk-estimator-id-3\" type=\"checkbox\" checked><label for=\"sk-estimator-id-3\" class=\"sk-toggleable__label sk-toggleable__label-arrow\">XGBRegressor</label><div class=\"sk-toggleable__content\"><pre>XGBRegressor(base_score=None, booster=None, callbacks=None,\n",
       "             colsample_bylevel=None, colsample_bynode=None,\n",
       "             colsample_bytree=None, device=None, early_stopping_rounds=None,\n",
       "             enable_categorical=False, eval_metric=None, feature_types=None,\n",
       "             gamma=None, grow_policy=None, importance_type=None,\n",
       "             interaction_constraints=None, learning_rate=None, max_bin=None,\n",
       "             max_cat_threshold=None, max_cat_to_onehot=None,\n",
       "             max_delta_step=None, max_depth=None, max_leaves=None,\n",
       "             min_child_weight=None, missing=nan, monotone_constraints=None,\n",
       "             multi_strategy=None, n_estimators=None, n_jobs=None,\n",
       "             num_parallel_tree=None, random_state=None, ...)</pre></div></div></div></div></div>"
      ],
      "text/plain": [
       "XGBRegressor(base_score=None, booster=None, callbacks=None,\n",
       "             colsample_bylevel=None, colsample_bynode=None,\n",
       "             colsample_bytree=None, device=None, early_stopping_rounds=None,\n",
       "             enable_categorical=False, eval_metric=None, feature_types=None,\n",
       "             gamma=None, grow_policy=None, importance_type=None,\n",
       "             interaction_constraints=None, learning_rate=None, max_bin=None,\n",
       "             max_cat_threshold=None, max_cat_to_onehot=None,\n",
       "             max_delta_step=None, max_depth=None, max_leaves=None,\n",
       "             min_child_weight=None, missing=nan, monotone_constraints=None,\n",
       "             multi_strategy=None, n_estimators=None, n_jobs=None,\n",
       "             num_parallel_tree=None, random_state=None, ...)"
      ]
     },
     "execution_count": 37,
     "metadata": {},
     "output_type": "execute_result"
    }
   ],
   "source": [
    "num_of_unique_customers_model_XGB = XGBRegressor()\n",
    "num_of_unique_customers_model_XGB.fit((features_unique_customers_train), np.log(number_of_unique_customer_train))"
   ]
  },
  {
   "cell_type": "code",
   "execution_count": 38,
   "metadata": {},
   "outputs": [],
   "source": [
    "num_of_unique_customer_pred_XGB = num_of_unique_customers_model_XGB.predict(features_unique_customers_test)\n",
    "mse = mean_squared_error(np.log(number_of_unique_customer_test), (num_of_unique_customer_pred_XGB))\n",
    "rmse = (mse ** 0.5)\n",
    "r2 = r2_score(np.log(number_of_unique_customer_test), num_of_unique_customer_pred_XGB)"
   ]
  },
  {
   "cell_type": "code",
   "execution_count": 39,
   "metadata": {},
   "outputs": [
    {
     "name": "stdout",
     "output_type": "stream",
     "text": [
      "R-squared (R2): 0.999831815918496\n",
      "RMSE: 0.026151304467113175\n"
     ]
    }
   ],
   "source": [
    "print(f'R-squared (R2): {r2}')\n",
    "print(f\"RMSE: {rmse}\")"
   ]
  },
  {
   "cell_type": "code",
   "execution_count": 40,
   "metadata": {},
   "outputs": [],
   "source": [
    "residuals = np.log(number_of_unique_customer_test) - num_of_unique_customer_pred_XGB"
   ]
  },
  {
   "cell_type": "code",
   "execution_count": 41,
   "metadata": {},
   "outputs": [
    {
     "data": {
      "image/png": "[encoded data removed]",
      "text/plain": [
       "<Figure size 640x480 with 1 Axes>"
      ]
     },
     "metadata": {},
     "output_type": "display_data"
    }
   ],
   "source": [
    "import matplotlib.pyplot as plt\n",
    "plt.scatter(num_of_unique_customer_pred_XGB, residuals)\n",
    "plt.xlabel('Predicted Values')\n",
    "plt.ylabel('Residuals')\n",
    "plt.title('Residual Plot')\n",
    "plt.axhline(y=0, color='r', linestyle='-')\n",
    "plt.show()"
   ]
  },
  {
   "cell_type": "markdown",
   "metadata": {},
   "source": [
    "Next we will predict the number of customers in 3 years"
   ]
  },
  {
   "cell_type": "code",
   "execution_count": 62,
   "metadata": {},
   "outputs": [],
   "source": [
    "future_modelling_df = modelling_df.copy()\n",
    "future_modelling_df = future_modelling_df.sort_values(by='merchant_abn')"
   ]
  },
  {
   "cell_type": "code",
   "execution_count": 63,
   "metadata": {},
   "outputs": [],
   "source": [
    "future_modelling_df[\"transcation_period_months\"] = future_modelling_df[\"transcation_period_months\"] + 36"
   ]
  },
  {
   "cell_type": "code",
   "execution_count": 44,
   "metadata": {},
   "outputs": [
    {
     "data": {
      "text/html": [
       "<div>\n",
       "<style scoped>\n",
       "    .dataframe tbody tr th:only-of-type {\n",
       "        vertical-align: middle;\n",
       "    }\n",
       "\n",
       "    .dataframe tbody tr th {\n",
       "        vertical-align: top;\n",
       "    }\n",
       "\n",
       "    .dataframe thead th {\n",
       "        text-align: right;\n",
       "    }\n",
       "</style>\n",
       "<table border=\"1\" class=\"dataframe\">\n",
       "  <thead>\n",
       "    <tr style=\"text-align: right;\">\n",
       "      <th></th>\n",
       "      <th>merchant_abn</th>\n",
       "      <th>take_rate</th>\n",
       "      <th>average_merchant_fraud_probability</th>\n",
       "      <th>number_of_unique_consumers</th>\n",
       "      <th>average_consumer_fraud_probability</th>\n",
       "      <th>number_of_repeat_consumers</th>\n",
       "      <th>average_repeat_transactions_per_consumer</th>\n",
       "      <th>number_of_orders</th>\n",
       "      <th>average_cost_of_order</th>\n",
       "      <th>average_spend_per_consumer</th>\n",
       "      <th>...</th>\n",
       "      <th>number_of_postcodes</th>\n",
       "      <th>avg_total_weekly_personal_income</th>\n",
       "      <th>avg_total_weekly_fam_income</th>\n",
       "      <th>avg_median_age</th>\n",
       "      <th>avg_household_size</th>\n",
       "      <th>postcode_reach</th>\n",
       "      <th>avg_num_of_consumers_per_postcode</th>\n",
       "      <th>bnpl_maximum_gain</th>\n",
       "      <th>segment_indexed</th>\n",
       "      <th>revenue_level_indexed</th>\n",
       "    </tr>\n",
       "  </thead>\n",
       "  <tbody>\n",
       "    <tr>\n",
       "      <th>1095</th>\n",
       "      <td>10023283211</td>\n",
       "      <td>0.18</td>\n",
       "      <td>0.0</td>\n",
       "      <td>2525</td>\n",
       "      <td>0.095502</td>\n",
       "      <td>174</td>\n",
       "      <td>1.071683</td>\n",
       "      <td>2706</td>\n",
       "      <td>215.797947</td>\n",
       "      <td>231.267028</td>\n",
       "      <td>...</td>\n",
       "      <td>1628</td>\n",
       "      <td>786.702328</td>\n",
       "      <td>1971.123799</td>\n",
       "      <td>43.031966</td>\n",
       "      <td>2.456914</td>\n",
       "      <td>0.616900</td>\n",
       "      <td>1.662162</td>\n",
       "      <td>1051.108692</td>\n",
       "      <td>2.0</td>\n",
       "      <td>4.0</td>\n",
       "    </tr>\n",
       "    <tr>\n",
       "      <th>2050</th>\n",
       "      <td>10142254217</td>\n",
       "      <td>4.22</td>\n",
       "      <td>0.0</td>\n",
       "      <td>2389</td>\n",
       "      <td>0.064356</td>\n",
       "      <td>151</td>\n",
       "      <td>1.064881</td>\n",
       "      <td>2544</td>\n",
       "      <td>38.591470</td>\n",
       "      <td>41.095311</td>\n",
       "      <td>...</td>\n",
       "      <td>1591</td>\n",
       "      <td>792.250000</td>\n",
       "      <td>1983.427083</td>\n",
       "      <td>42.850629</td>\n",
       "      <td>2.464025</td>\n",
       "      <td>0.602880</td>\n",
       "      <td>1.598994</td>\n",
       "      <td>4143.056534</td>\n",
       "      <td>1.0</td>\n",
       "      <td>1.0</td>\n",
       "    </tr>\n",
       "    <tr>\n",
       "      <th>3961</th>\n",
       "      <td>10165489824</td>\n",
       "      <td>4.40</td>\n",
       "      <td>0.0</td>\n",
       "      <td>4</td>\n",
       "      <td>6.979429</td>\n",
       "      <td>0</td>\n",
       "      <td>1.000000</td>\n",
       "      <td>4</td>\n",
       "      <td>8885.894209</td>\n",
       "      <td>8885.894209</td>\n",
       "      <td>...</td>\n",
       "      <td>4</td>\n",
       "      <td>817.500000</td>\n",
       "      <td>2066.125000</td>\n",
       "      <td>41.625000</td>\n",
       "      <td>2.475000</td>\n",
       "      <td>0.001516</td>\n",
       "      <td>1.000000</td>\n",
       "      <td>1563.917554</td>\n",
       "      <td>4.0</td>\n",
       "      <td>1.0</td>\n",
       "    </tr>\n",
       "    <tr>\n",
       "      <th>928</th>\n",
       "      <td>10187291046</td>\n",
       "      <td>3.29</td>\n",
       "      <td>0.0</td>\n",
       "      <td>291</td>\n",
       "      <td>0.058022</td>\n",
       "      <td>1</td>\n",
       "      <td>1.003436</td>\n",
       "      <td>292</td>\n",
       "      <td>115.995570</td>\n",
       "      <td>116.394180</td>\n",
       "      <td>...</td>\n",
       "      <td>273</td>\n",
       "      <td>796.547945</td>\n",
       "      <td>1961.171233</td>\n",
       "      <td>43.125000</td>\n",
       "      <td>2.449418</td>\n",
       "      <td>0.103448</td>\n",
       "      <td>1.069597</td>\n",
       "      <td>1114.346346</td>\n",
       "      <td>4.0</td>\n",
       "      <td>1.0</td>\n",
       "    </tr>\n",
       "    <tr>\n",
       "      <th>2236</th>\n",
       "      <td>10192359162</td>\n",
       "      <td>6.33</td>\n",
       "      <td>0.0</td>\n",
       "      <td>321</td>\n",
       "      <td>0.036126</td>\n",
       "      <td>2</td>\n",
       "      <td>1.006231</td>\n",
       "      <td>323</td>\n",
       "      <td>460.347109</td>\n",
       "      <td>463.215315</td>\n",
       "      <td>...</td>\n",
       "      <td>303</td>\n",
       "      <td>808.877709</td>\n",
       "      <td>2024.267802</td>\n",
       "      <td>43.294118</td>\n",
       "      <td>2.445480</td>\n",
       "      <td>0.114816</td>\n",
       "      <td>1.066007</td>\n",
       "      <td>9412.211083</td>\n",
       "      <td>0.0</td>\n",
       "      <td>0.0</td>\n",
       "    </tr>\n",
       "  </tbody>\n",
       "</table>\n",
       "<p>5 rows × 25 columns</p>\n",
       "</div>"
      ],
      "text/plain": [
       "      merchant_abn  take_rate  average_merchant_fraud_probability  \\\n",
       "1095   10023283211       0.18                                 0.0   \n",
       "2050   10142254217       4.22                                 0.0   \n",
       "3961   10165489824       4.40                                 0.0   \n",
       "928    10187291046       3.29                                 0.0   \n",
       "2236   10192359162       6.33                                 0.0   \n",
       "\n",
       "      number_of_unique_consumers  average_consumer_fraud_probability  \\\n",
       "1095                        2525                            0.095502   \n",
       "2050                        2389                            0.064356   \n",
       "3961                           4                            6.979429   \n",
       "928                          291                            0.058022   \n",
       "2236                         321                            0.036126   \n",
       "\n",
       "      number_of_repeat_consumers  average_repeat_transactions_per_consumer  \\\n",
       "1095                         174                                  1.071683   \n",
       "2050                         151                                  1.064881   \n",
       "3961                           0                                  1.000000   \n",
       "928                            1                                  1.003436   \n",
       "2236                           2                                  1.006231   \n",
       "\n",
       "      number_of_orders  average_cost_of_order  average_spend_per_consumer  \\\n",
       "1095              2706             215.797947                  231.267028   \n",
       "2050              2544              38.591470                   41.095311   \n",
       "3961                 4            8885.894209                 8885.894209   \n",
       "928                292             115.995570                  116.394180   \n",
       "2236               323             460.347109                  463.215315   \n",
       "\n",
       "      ...  number_of_postcodes  avg_total_weekly_personal_income  \\\n",
       "1095  ...                 1628                        786.702328   \n",
       "2050  ...                 1591                        792.250000   \n",
       "3961  ...                    4                        817.500000   \n",
       "928   ...                  273                        796.547945   \n",
       "2236  ...                  303                        808.877709   \n",
       "\n",
       "      avg_total_weekly_fam_income  avg_median_age  avg_household_size  \\\n",
       "1095                  1971.123799       43.031966            2.456914   \n",
       "2050                  1983.427083       42.850629            2.464025   \n",
       "3961                  2066.125000       41.625000            2.475000   \n",
       "928                   1961.171233       43.125000            2.449418   \n",
       "2236                  2024.267802       43.294118            2.445480   \n",
       "\n",
       "      postcode_reach  avg_num_of_consumers_per_postcode  bnpl_maximum_gain  \\\n",
       "1095        0.616900                           1.662162        1051.108692   \n",
       "2050        0.602880                           1.598994        4143.056534   \n",
       "3961        0.001516                           1.000000        1563.917554   \n",
       "928         0.103448                           1.069597        1114.346346   \n",
       "2236        0.114816                           1.066007        9412.211083   \n",
       "\n",
       "      segment_indexed  revenue_level_indexed  \n",
       "1095              2.0                    4.0  \n",
       "2050              1.0                    1.0  \n",
       "3961              4.0                    1.0  \n",
       "928               4.0                    1.0  \n",
       "2236              0.0                    0.0  \n",
       "\n",
       "[5 rows x 25 columns]"
      ]
     },
     "execution_count": 44,
     "metadata": {},
     "output_type": "execute_result"
    }
   ],
   "source": [
    "future_modelling_df.head()"
   ]
  },
  {
   "cell_type": "code",
   "execution_count": 64,
   "metadata": {},
   "outputs": [],
   "source": [
    "future_features_unique_customers = future_modelling_df.drop(columns = [\"merchant_abn\",target_variable])"
   ]
  },
  {
   "cell_type": "code",
   "execution_count": 65,
   "metadata": {},
   "outputs": [
    {
     "data": {
      "text/plain": [
       "Index(['take_rate', 'average_merchant_fraud_probability',\n",
       "       'average_consumer_fraud_probability', 'number_of_repeat_consumers',\n",
       "       'average_repeat_transactions_per_consumer', 'number_of_orders',\n",
       "       'average_cost_of_order', 'average_spend_per_consumer',\n",
       "       'average_monthly_diff_consumers', 'consumer_diff_over_period',\n",
       "       'average_growth_consumers', 'merchant_revenue_rounded',\n",
       "       'transcation_period_months', 'number_of_postcodes',\n",
       "       'avg_total_weekly_personal_income', 'avg_total_weekly_fam_income',\n",
       "       'avg_median_age', 'avg_household_size', 'postcode_reach',\n",
       "       'avg_num_of_consumers_per_postcode', 'bnpl_maximum_gain',\n",
       "       'segment_indexed', 'revenue_level_indexed'],\n",
       "      dtype='object')"
      ]
     },
     "execution_count": 65,
     "metadata": {},
     "output_type": "execute_result"
    }
   ],
   "source": [
    "future_features_unique_customers.columns"
   ]
  },
  {
   "cell_type": "code",
   "execution_count": 66,
   "metadata": {},
   "outputs": [
    {
     "data": {
      "text/html": [
       "<div>\n",
       "<style scoped>\n",
       "    .dataframe tbody tr th:only-of-type {\n",
       "        vertical-align: middle;\n",
       "    }\n",
       "\n",
       "    .dataframe tbody tr th {\n",
       "        vertical-align: top;\n",
       "    }\n",
       "\n",
       "    .dataframe thead th {\n",
       "        text-align: right;\n",
       "    }\n",
       "</style>\n",
       "<table border=\"1\" class=\"dataframe\">\n",
       "  <thead>\n",
       "    <tr style=\"text-align: right;\">\n",
       "      <th></th>\n",
       "      <th>number_of_repeat_consumers</th>\n",
       "      <th>average_monthly_diff_consumers</th>\n",
       "      <th>consumer_diff_over_period</th>\n",
       "      <th>number_of_postcodes</th>\n",
       "      <th>postcode_reach</th>\n",
       "      <th>transcation_period_months</th>\n",
       "    </tr>\n",
       "  </thead>\n",
       "  <tbody>\n",
       "    <tr>\n",
       "      <th>1095</th>\n",
       "      <td>174</td>\n",
       "      <td>7.750000</td>\n",
       "      <td>155</td>\n",
       "      <td>1628</td>\n",
       "      <td>0.616900</td>\n",
       "      <td>55.677419</td>\n",
       "    </tr>\n",
       "    <tr>\n",
       "      <th>2050</th>\n",
       "      <td>151</td>\n",
       "      <td>9.150000</td>\n",
       "      <td>183</td>\n",
       "      <td>1591</td>\n",
       "      <td>0.602880</td>\n",
       "      <td>55.322581</td>\n",
       "    </tr>\n",
       "    <tr>\n",
       "      <th>3961</th>\n",
       "      <td>0</td>\n",
       "      <td>0.000000</td>\n",
       "      <td>0</td>\n",
       "      <td>4</td>\n",
       "      <td>0.001516</td>\n",
       "      <td>42.903226</td>\n",
       "    </tr>\n",
       "    <tr>\n",
       "      <th>928</th>\n",
       "      <td>1</td>\n",
       "      <td>0.315789</td>\n",
       "      <td>6</td>\n",
       "      <td>273</td>\n",
       "      <td>0.103448</td>\n",
       "      <td>54.677419</td>\n",
       "    </tr>\n",
       "    <tr>\n",
       "      <th>2236</th>\n",
       "      <td>2</td>\n",
       "      <td>0.736842</td>\n",
       "      <td>14</td>\n",
       "      <td>303</td>\n",
       "      <td>0.114816</td>\n",
       "      <td>54.741935</td>\n",
       "    </tr>\n",
       "    <tr>\n",
       "      <th>...</th>\n",
       "      <td>...</td>\n",
       "      <td>...</td>\n",
       "      <td>...</td>\n",
       "      <td>...</td>\n",
       "      <td>...</td>\n",
       "      <td>...</td>\n",
       "    </tr>\n",
       "    <tr>\n",
       "      <th>877</th>\n",
       "      <td>3315</td>\n",
       "      <td>35.600000</td>\n",
       "      <td>712</td>\n",
       "      <td>2594</td>\n",
       "      <td>0.982948</td>\n",
       "      <td>55.451613</td>\n",
       "    </tr>\n",
       "    <tr>\n",
       "      <th>1822</th>\n",
       "      <td>0</td>\n",
       "      <td>0.166667</td>\n",
       "      <td>3</td>\n",
       "      <td>103</td>\n",
       "      <td>0.039030</td>\n",
       "      <td>55.096774</td>\n",
       "    </tr>\n",
       "    <tr>\n",
       "      <th>2723</th>\n",
       "      <td>5087</td>\n",
       "      <td>49.350000</td>\n",
       "      <td>987</td>\n",
       "      <td>2623</td>\n",
       "      <td>0.993937</td>\n",
       "      <td>55.354839</td>\n",
       "    </tr>\n",
       "    <tr>\n",
       "      <th>2657</th>\n",
       "      <td>1</td>\n",
       "      <td>0.210526</td>\n",
       "      <td>4</td>\n",
       "      <td>145</td>\n",
       "      <td>0.054945</td>\n",
       "      <td>54.838710</td>\n",
       "    </tr>\n",
       "    <tr>\n",
       "      <th>2154</th>\n",
       "      <td>0</td>\n",
       "      <td>-0.071429</td>\n",
       "      <td>-1</td>\n",
       "      <td>23</td>\n",
       "      <td>0.008715</td>\n",
       "      <td>52.516129</td>\n",
       "    </tr>\n",
       "  </tbody>\n",
       "</table>\n",
       "<p>3965 rows × 6 columns</p>\n",
       "</div>"
      ],
      "text/plain": [
       "      number_of_repeat_consumers  average_monthly_diff_consumers  \\\n",
       "1095                         174                        7.750000   \n",
       "2050                         151                        9.150000   \n",
       "3961                           0                        0.000000   \n",
       "928                            1                        0.315789   \n",
       "2236                           2                        0.736842   \n",
       "...                          ...                             ...   \n",
       "877                         3315                       35.600000   \n",
       "1822                           0                        0.166667   \n",
       "2723                        5087                       49.350000   \n",
       "2657                           1                        0.210526   \n",
       "2154                           0                       -0.071429   \n",
       "\n",
       "      consumer_diff_over_period  number_of_postcodes  postcode_reach  \\\n",
       "1095                        155                 1628        0.616900   \n",
       "2050                        183                 1591        0.602880   \n",
       "3961                          0                    4        0.001516   \n",
       "928                           6                  273        0.103448   \n",
       "2236                         14                  303        0.114816   \n",
       "...                         ...                  ...             ...   \n",
       "877                         712                 2594        0.982948   \n",
       "1822                          3                  103        0.039030   \n",
       "2723                        987                 2623        0.993937   \n",
       "2657                          4                  145        0.054945   \n",
       "2154                         -1                   23        0.008715   \n",
       "\n",
       "      transcation_period_months  \n",
       "1095                  55.677419  \n",
       "2050                  55.322581  \n",
       "3961                  42.903226  \n",
       "928                   54.677419  \n",
       "2236                  54.741935  \n",
       "...                         ...  \n",
       "877                   55.451613  \n",
       "1822                  55.096774  \n",
       "2723                  55.354839  \n",
       "2657                  54.838710  \n",
       "2154                  52.516129  \n",
       "\n",
       "[3965 rows x 6 columns]"
      ]
     },
     "execution_count": 66,
     "metadata": {},
     "output_type": "execute_result"
    }
   ],
   "source": [
    "future_features_unique_customers[selected_features]"
   ]
  },
  {
   "cell_type": "code",
   "execution_count": 67,
   "metadata": {},
   "outputs": [],
   "source": [
    "predicted_num_of_unique_customers_LR= num_of_unique_customers_model_LR.predict(future_features_unique_customers[selected_features])\n",
    "predicted_num_of_unique_customers_RFR= num_of_unique_customers_model_RFR.predict(future_features_unique_customers[selected_features])\n",
    "predicted_num_of_unique_customers_XGB= num_of_unique_customers_model_XGB.predict(future_features_unique_customers[selected_features])"
   ]
  },
  {
   "cell_type": "code",
   "execution_count": 68,
   "metadata": {},
   "outputs": [],
   "source": [
    "results = future_modelling_df.copy()\n",
    "results[\"predicted_num_of_unique_customers_LR\"] = (predicted_num_of_unique_customers_LR)\n",
    "results[\"predicted_num_of_unique_customers_RFR\"] = np.exp(predicted_num_of_unique_customers_RFR)\n",
    "results[\"predicted_num_of_unique_customers_XGB\"] = np.exp(predicted_num_of_unique_customers_XGB)"
   ]
  },
  {
   "cell_type": "code",
   "execution_count": 69,
   "metadata": {},
   "outputs": [],
   "source": [
    "results_df = spark.createDataFrame(results)"
   ]
  },
  {
   "cell_type": "code",
   "execution_count": 70,
   "metadata": {},
   "outputs": [],
   "source": [
    "results_df_LR = results_df.select(f.col(\"merchant_abn\"),f.col(\"predicted_num_of_unique_customers_LR\"))\n",
    "results_df_RFR = results_df.select(f.col(\"merchant_abn\"),f.col(\"predicted_num_of_unique_customers_RFR\"))\n",
    "results_df_XGB = results_df.select(f.col(\"merchant_abn\"),f.col(\"predicted_num_of_unique_customers_XGB\"))"
   ]
  },
  {
   "cell_type": "code",
   "execution_count": 71,
   "metadata": {},
   "outputs": [],
   "source": [
    "joined_LR = joined.join(results_df_LR, on = \"merchant_abn\", how = \"inner\")\n",
    "joined_RFR = joined.join(results_df_RFR, on = \"merchant_abn\", how = \"inner\")\n",
    "joined_XGB = joined.join(results_df_XGB, on = \"merchant_abn\", how = \"inner\")"
   ]
  },
  {
   "cell_type": "code",
   "execution_count": 72,
   "metadata": {},
   "outputs": [],
   "source": [
    "joined_LR = joined_LR.withColumn(\"predicted_num_of_unique_customers\", f.when(joined_LR.predicted_num_of_unique_customers_LR < 0, 0).otherwise(f.round(joined_LR.predicted_num_of_unique_customers_LR)))\n",
    "joined_RFR = joined_RFR.withColumn(\"predicted_num_of_unique_customers\", f.when(joined_RFR.predicted_num_of_unique_customers_RFR < 0, 0).otherwise(f.round(joined_RFR.predicted_num_of_unique_customers_RFR)))\n",
    "joined_XGB = joined_XGB.withColumn(\"predicted_num_of_unique_customers\", f.when(joined_XGB.predicted_num_of_unique_customers_XGB < 0, 0).otherwise(f.round(joined_XGB.predicted_num_of_unique_customers_XGB)))"
   ]
  },
  {
   "cell_type": "code",
   "execution_count": 73,
   "metadata": {},
   "outputs": [
    {
     "name": "stdout",
     "output_type": "stream",
     "text": [
      "+------------+--------------------+-------------+------------------+----------------------------------+--------------------------+----------------------------------+--------------------------+----------------------------------------+----------------+---------------------+--------------------------+------------------------------+-------------------------+------------------------+------------------------+--------------------------+-------------------------+-------------------------+-------------------+--------------------------------+---------------------------+------------------+------------------+------------------+---------------------------------+--------------------+------------------+------------------------------------+---------------------------------+\n",
      "|merchant_abn|                name|revenue_level|         take_rate|average_merchant_fraud_probability|number_of_unique_consumers|average_consumer_fraud_probability|number_of_repeat_consumers|average_repeat_transactions_per_consumer|number_of_orders|average_cost_of_order|average_spend_per_consumer|average_monthly_diff_consumers|consumer_diff_over_period|average_growth_consumers|merchant_revenue_rounded|first_recorded_transaction|last_recorded_transaction|transcation_period_months|number_of_postcodes|avg_total_weekly_personal_income|avg_total_weekly_fam_income|    avg_median_age|avg_household_size|    postcode_reach|avg_num_of_consumers_per_postcode|             segment| bnpl_maximum_gain|predicted_num_of_unique_customers_LR|predicted_num_of_unique_customers|\n",
      "+------------+--------------------+-------------+------------------+----------------------------------+--------------------------+----------------------------------+--------------------------+----------------------------------------+----------------+---------------------+--------------------------+------------------------------+-------------------------+------------------------+------------------------+--------------------------+-------------------------+-------------------------+-------------------+--------------------------------+---------------------------+------------------+------------------+------------------+---------------------------------+--------------------+------------------+------------------------------------+---------------------------------+\n",
      "| 72472909171|   Nullam Consulting|            a| 6.329999923706055|                               0.0|                     19841|               0.04131708524193517|                     18610|                       4.294793609193085|           85213|    70.14287074357972|        301.24915299998173|                        191.25|                     3825|      1.6414901716569776|              5977084.44|                2021-02-28|               2022-10-12|              19.48387097|               2639|               789.5209944492037|         1975.6131576167957| 43.12369591494256| 2.457607172614508|               1.0|                32.28988253126184|tech_and_electronics| 378349.4404918465|                   21403.42289127986|                          21403.0|\n",
      "| 79417999332|Phasellus At Company|            b| 4.949999809265137|                               0.0|                     19824|              0.049120860616132564|                     18483|                       4.178874092009686|           82842|    91.80997170083022|        383.66231212874226|                         190.1|                     3802|      1.4497441549439456|              7605721.68|                2021-02-28|               2022-10-02|              19.16129032|               2639|                791.032344704377|         1980.6353359407065| 43.12722411337244|2.4572311146519885|               1.0|                31.39143615005684|  retail_and_novelty|376483.20865323715|                  21295.384921064382|                          21295.0|\n",
      "| 64403598239|Lobortis Ultrices...|            a| 6.309999942779541|                               0.0|                     19950|              0.049374133520220395|                     19106|                       4.755238095238095|           94867|    78.20493569303413|        371.88308944316105|                        216.35|                     4327|      1.3638180454775009|              7419067.63|                2021-02-28|               2022-10-14|               19.5483871|               2639|               790.6689523227255|         1978.5105621554387|43.093177817365365|2.4579937175203193|               1.0|                35.94808639636226|  retail_and_novelty|468143.16320777545|                  21246.769193252683|                          21247.0|\n",
      "| 21439773999|Mauris Non Institute|            a| 6.099999904632568|               0.12701597900617234|                     19979|               0.04497222846954608|                     19324|                       5.043445617898794|          100763|    78.17612635862461|         394.2770419077072|                        226.35|                     4527|      1.5429417855301257|              7877261.02|                2021-02-28|               2022-10-14|               19.5483871|               2638|               791.3108035687703|         1980.9260293957107| 43.08814247293153| 2.457650923454046|0.9996210685865858|               38.196739954510996|tech_and_electronics|480512.91470765846|                  21211.587538985314|                          21212.0|\n",
      "| 94493496784|Dictum Phasellus ...|            a| 5.650000095367432|               0.14346656748463416|                     19768|               0.04277271527901098|                     18485|                        4.19430392553622|           82913|    92.02055044574666|        385.96215596459933|                         191.9|                     3838|       1.456006796303865|               7629699.9|                2021-02-28|               2022-10-22|              19.80645161|               2639|               790.3757372185303|         1978.0311048930807|43.107546464366266|2.4583691339114497|               1.0|               31.418340280409247|  retail_and_novelty|431078.05162624887|                  21188.909090489768|                          21189.0|\n",
      "| 60956456424|Ultricies Digniss...|            b| 4.690000057220459|                               0.0|                     19639|               0.04762780109752846|                     17901|                       3.862773053617801|           75861|    88.49788444300887|        341.84724332863703|                        172.05|                     3441|      1.7401032225975523|              6713538.01|                2021-02-28|               2022-10-06|              19.29032258|               2638|               791.2604961706279|          1980.906855960243| 43.08887966148614|  2.45867560406533|0.9996210685865858|               28.757012888551934|  retail_and_novelty| 314864.9365105172|                  21089.143004817768|                          21089.0|\n",
      "| 32361057556|Orci In Consequat...|            a| 6.610000133514404|                               0.0|                     19535|               0.04532272179335463|                     17568|                       3.672024571282314|           71733|   109.88505527121353|         403.5006229726112|                         165.7|                     3314|       1.726068114110396|              7882384.67|                2021-02-28|               2022-10-12|              19.48387097|               2639|               790.8828224108848|         1978.1251446335716| 43.09931272914837|2.4562480308923362|               1.0|               27.181887078438802|  retail_and_novelty|521025.63721111894|                    20835.5137111596|                          20836.0|\n",
      "| 91923722701|Euismod Urna Inst...|            b| 5.050000190734863|                               0.0|                     19366|               0.03716150095089717|                     16802|                      3.3744707218837138|           65350|    13.80536059546752|         46.58578513445222|                        153.65|                     3073|      1.1730712119899442|               902180.31|                2021-02-28|               2022-10-10|              19.41935484|               2639|               789.8658301453711|         1977.4140091813313| 43.12247895944912|2.4579514919663357|               1.0|               24.763167866616143|garden_and_furnis...| 45560.10737577238|                   20203.51647357691|                          20204.0|\n",
      "| 68216911708|Placerat Eget Ven...|            c| 3.049999952316284|                               0.0|                     20103|               0.04580561375521984|                     20028|                       7.516937770482017|          151113|    38.50101219770903|         289.4097127907475|                        311.35|                     6227|      1.2767249348374952|              5818003.46|                2021-02-28|               2022-10-12|              19.48387097|               2639|               790.5961730625426|         1978.0999583093446| 43.10641705213979|2.4579812458226615|               1.0|                57.26146267525578|tech_and_electronics|177449.10275575976|                  19393.447953332598|                          19393.0|\n",
      "| 49505931725|Suspendisse Ac As...|            b| 4.699999809265137|                               0.0|                     18949|               0.04560572389574411|                     15668|                      3.0109240593171145|           57054|   105.14251729068772|         316.5761349676975|                         132.9|                     2658|      1.8342609746133636|              5998801.18|                2021-02-28|               2022-10-11|               19.4516129|               2639|               788.5736495250114|         1976.1297542678865| 43.12392645563852|  2.45897483086199|               1.0|                21.61955286093217|tech_and_electronics|281943.64401819475|                   19352.83565698048|                          19353.0|\n",
      "| 48534649627|Dignissim Maecena...|            a| 6.639999866485596|                0.3396720025590869|                     18885|                0.0449322043859701|                     15416|                       2.947948106963198|           55672|   141.82722310074192|        418.09929385567955|                         130.8|                     2616|       1.018524466393863|              7895805.16|                2021-02-28|               2022-10-17|              19.64516129|               2639|                790.075316137376|         1978.7175689754274| 43.09198519902285| 2.458974170139388|               1.0|               21.095869647593787|specialized_services|524281.45208196284|                  19067.324395267806|                          19067.0|\n",
      "| 96152467973|Rhoncus Donec Ass...|            b| 4.449999809265137|                               0.0|                     18895|               0.04361061307279111|                     15546|                       3.001005557025668|           56704|   20.585799011531055|         61.77809722941827|                         136.3|                     2726|      1.3509976592894057|              1167297.15|                2021-02-28|               2022-10-23|              19.83870968|               2639|               790.6380237725733|         1977.4209844102709| 43.09896127257336|2.4561642917607225|               1.0|               21.486926866237212|garden_and_furnis...| 51944.72094855737|                  19047.626058566537|                          19048.0|\n",
      "| 63290521567|Vehicula Pellente...|            a| 6.480000019073486|                               0.0|                     20102|               0.04495485033466203|                     20024|                       7.564222465426326|          152056|   24.224100379609233|        183.23648429618243|                        322.65|                     6453|      1.2785038052867164|              3683419.81|                2021-02-28|               2022-10-03|              19.19354839|               2639|               790.7298199347608|         1979.8930690008945| 43.09258102278108| 2.458365602146578|               1.0|                57.61879499810534|  retail_and_novelty| 238685.6043905566|                   19042.26009496223|                          19042.0|\n",
      "| 19933438190| Dui Nec Corporation|            c|2.2200000286102295|                               0.0|                     18946|               0.04980937372190167|                     15560|                      2.9911326929167106|           56670|   13.781933316501915|         41.22359131458689|                         138.4|                     2768|       1.402296498818148|               781022.16|                2021-02-28|               2022-10-25|              19.90322581|               2639|               791.2807217222517|         1981.7751896947238|43.135539085936124| 2.456540674077996|               1.0|                21.47404319818113|garden_and_furnis...|17338.692175452234|                   18992.91959292304|                          18993.0|\n",
      "| 17324645993|Eget Metus In Cor...|            a| 5.730000019073486|                               0.0|                     18766|                  0.04466327172839|                     15168|                       2.901417457103272|           54448|   13.646709197341531|         39.59480029717851|                        127.05|                     2541|      1.4453143839643494|               743036.02|                2021-02-28|               2022-10-07|              19.32258065|               2638|               792.6014545988834|         1983.5063822362622| 43.07742249485748|2.4597114678225087|0.9996210685865858|               20.639878695981803|garden_and_furnis...|42575.964087722874|                    18879.1737262887|                          18879.0|\n",
      "| 57900494384|Porttitor Tellus ...|            a| 6.389999866485596|                               0.0|                     18884|               0.04335259018184394|                     15350|                      2.9622431688201654|           55939|   20.751980536247526|          61.4724125829883|                         135.3|                     2706|      1.2951312349768453|              1160845.04|                2021-02-28|               2022-10-03|              19.19354839|               2639|               790.9816854073187|         1980.3957882693649| 43.13349362698654| 2.459764922504872|               1.0|                21.19704433497537|garden_and_furnis...| 74177.99650610467|                  18867.145379238704|                          18867.0|\n",
      "| 82065156333|Nascetur Ridiculu...|            a| 5.880000114440918|                               0.0|                     18690|              0.040115477050348736|                     15037|                       2.886035313001605|           53940|    20.72770846130058|         59.82089857691556|                         126.5|                     2530|      1.4553422877061613|              1118052.59|                2021-02-28|               2022-10-13|              19.51612903|               2639|               789.9059881349648|         1977.0843159065628| 43.12010567296997|2.4553060808305522|               1.0|               20.439560439560438|garden_and_furnis...| 65741.49357150965|                    18708.0179517088|                          18708.0|\n",
      "| 80324045558|Ipsum Dolor Sit C...|            c|1.4700000286102295|                               0.0|                     20111|               0.03837633468207914|                     20056|                        8.17741534483616|          164456|    36.71899004323069|        300.26643262640147|                        339.15|                     6783|      1.4060321405695624|              6038658.23|                2021-02-28|               2022-10-25|              19.90322581|               2639|               789.7301527460232|          1976.237729240648| 43.11248905482317| 2.458991097922848|               1.0|               62.317544524441075|  retail_and_novelty| 88768.27770867398|                  18491.679123170914|                          18492.0|\n",
      "| 43186523025|Lorem Ipsum Sodal...|            b|  4.46999979019165|                               0.0|                     20110|               0.04278210175677341|                     20070|                       8.348582794629538|          167890|    45.00028987547512|        375.68864580773277|                         340.7|                     6814|      1.3213041435437707|              7555098.67|                2021-02-28|               2022-10-24|              19.87096774|               2639|               790.1568288760498|         1977.1446869974388|  43.1014860920841|2.4584601226993867|               1.0|                63.61879499810534|garden_and_furnis...|337712.89469777216|                  18462.478845069847|                          18462.0|\n",
      "| 20985347699|    Semper Tellus PC|            a| 6.099999904632568|                               0.0|                     18542|               0.03694423545934162|                     14702|                      2.8110775536619568|           52123|    13.77046586281349|        38.709847490423265|                         122.7|                     2454|        1.74061040452087|               717757.99|                2021-02-28|               2022-10-21|              19.77419355|               2638|               790.2635496805633|         1977.8365500834564| 43.11893022274236|2.4553659612838863|0.9996210685865858|               19.758529188779377|garden_and_furnis...| 43783.23670549264|                  18359.094318934673|                          18359.0|\n",
      "+------------+--------------------+-------------+------------------+----------------------------------+--------------------------+----------------------------------+--------------------------+----------------------------------------+----------------+---------------------+--------------------------+------------------------------+-------------------------+------------------------+------------------------+--------------------------+-------------------------+-------------------------+-------------------+--------------------------------+---------------------------+------------------+------------------+------------------+---------------------------------+--------------------+------------------+------------------------------------+---------------------------------+\n",
      "only showing top 20 rows\n",
      "\n"
     ]
    }
   ],
   "source": [
    "joined_LR.orderBy(f.col(\"predicted_num_of_unique_customers\").desc()).show()"
   ]
  },
  {
   "cell_type": "code",
   "execution_count": null,
   "metadata": {},
   "outputs": [],
   "source": [
    "joined_LR.write.mode(\"overwrite\").parquet(\"../../../data/ranking_data_LR.parquet\")\n",
    "joined_RFR.write.mode(\"overwrite\").parquet(\"../../../data/ranking_data_RFR.parquet\")\n",
    "joined_XGB.write.mode(\"overwrite\").parquet(\"../../../data/ranking_data_XGB.parquet\")"
   ]
  },
  {
   "cell_type": "code",
   "execution_count": null,
   "metadata": {},
   "outputs": [],
   "source": [
    "spark.stop()"
   ]
  },
  {
   "cell_type": "markdown",
   "metadata": {},
   "source": [
    "### Summary\n",
    "In this notebook we aimed to find the number of consumers a merchant would have in 3 years. To achieve this we did the following:\n",
    "- We checked the correlation between the number of customers and other features.\n",
    "- We performed feature selection based on statistical tests.\n",
    "- Split the data into test and training.\n",
    "- Fitted 3 models to the data and determined which model performed the best by viewing residual vs fitted values graphs, R-Squared value and the RSME value.\n",
    "- Identified XGBoost Regression model performed the best.\n",
    "- Created new modelled feature for the number of customers in 3 years using the XGBoost Regression model.  "
   ]
  }
 ],
 "metadata": {
  "kernelspec": {
   "display_name": "Python 3",
   "language": "python",
   "name": "python3"
  },
  "language_info": {
   "codemirror_mode": {
    "name": "ipython",
    "version": 3
   },
   "file_extension": ".py",
   "mimetype": "text/x-python",
   "name": "python",
   "nbconvert_exporter": "python",
   "pygments_lexer": "ipython3",
   "version": "3.10.12"
  },
  "orig_nbformat": 4
 },
 "nbformat": 4,
 "nbformat_minor": 2
}
