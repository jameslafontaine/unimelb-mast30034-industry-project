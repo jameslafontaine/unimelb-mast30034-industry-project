{
 "cells": [
  {
   "cell_type": "markdown",
   "metadata": {},
   "source": [
    "# Aggregating Features Regarding Merchants by Merchants\n",
    "## Author: Dulan Wijeratne 1181873"
   ]
  },
  {
   "cell_type": "markdown",
   "metadata": {},
   "source": [
    "In this notebook we will aggregate the features regarding merchants by merchant abn."
   ]
  },
  {
   "cell_type": "markdown",
   "metadata": {},
   "source": [
    "Firstly we will create a new directory to store the agggregated data into, and then create a Spark session and import the merchant dataset that contains all the features that relate to the merchants."
   ]
  },
  {
   "cell_type": "code",
   "execution_count": 1,
   "metadata": {},
   "outputs": [],
   "source": [
    "from pyspark.sql import SparkSession, functions as f\n",
    "import os"
   ]
  },
  {
   "cell_type": "code",
   "execution_count": 2,
   "metadata": {},
   "outputs": [],
   "source": [
    "if not os.path.exists(\"../../../data/insights/agg_insight_data\"):\n",
    "    os.makedirs(\"../../../data/insights/agg_insight_data\")"
   ]
  },
  {
   "cell_type": "code",
   "execution_count": 3,
   "metadata": {},
   "outputs": [
    {
     "name": "stderr",
     "output_type": "stream",
     "text": [
      "your 131072x1 screen size is bogus. expect trouble\n",
      "23/10/02 21:58:00 WARN Utils: Your hostname, LAPTOP-RELH58H1 resolves to a loopback address: 127.0.1.1; using 172.19.22.4 instead (on interface eth0)\n",
      "23/10/02 21:58:00 WARN Utils: Set SPARK_LOCAL_IP if you need to bind to another address\n",
      "Setting default log level to \"WARN\".\n",
      "To adjust logging level use sc.setLogLevel(newLevel). For SparkR, use setLogLevel(newLevel).\n",
      "23/10/02 21:58:02 WARN NativeCodeLoader: Unable to load native-hadoop library for your platform... using builtin-java classes where applicable\n"
     ]
    }
   ],
   "source": [
    "spark = (\n",
    "    SparkSession.builder.appName(\"Preprocessing_Yellow\")\n",
    "    .config(\"spark.sql.repl.eagerEval.enabled\", True) \n",
    "    .config(\"spark.sql.parquet.cacheMetadata\", \"true\")\n",
    "    .config(\"spark.sql.session.timeZone\", \"Etc/UTC\")\n",
    "    .config(\"spark.sql.session.timeZone\", \"Etc/UTC\")\n",
    "    .config('spark.driver.memory', '3g')   \n",
    "    .config('spark.executor.memory', '4g')  \n",
    "    .config('spark.executor.instances', '2')  \n",
    "    .config('spark.executor.cores', '2')\n",
    "    .getOrCreate()\n",
    ")"
   ]
  },
  {
   "cell_type": "code",
   "execution_count": 4,
   "metadata": {},
   "outputs": [
    {
     "name": "stderr",
     "output_type": "stream",
     "text": [
      "                                                                                \r"
     ]
    }
   ],
   "source": [
    "merchant = spark.read.parquet(\"../../../data/insights/pre_insights/merchant.parquet/\")"
   ]
  },
  {
   "cell_type": "code",
   "execution_count": 5,
   "metadata": {},
   "outputs": [
    {
     "name": "stderr",
     "output_type": "stream",
     "text": [
      "[Stage 1:>                                                          (0 + 1) / 1]\r"
     ]
    },
    {
     "name": "stdout",
     "output_type": "stream",
     "text": [
      "+------------+--------------------------------+----------------------+--------------------+----------------------------+\n",
      "|merchant_abn|merchant_name                   |merchant_revenue_level|merchant_take_rate_%|merchant_fraud_probability_%|\n",
      "+------------+--------------------------------+----------------------+--------------------+----------------------------+\n",
      "|20985347699 |Semper Tellus PC                |a                     |6.1                 |0.0                         |\n",
      "|45629217853 |Lacus Consulting                |a                     |6.98                |0.0                         |\n",
      "|71528203369 |Ipsum Primis Associates         |a                     |6.94                |0.0                         |\n",
      "|75900778714 |Laoreet Posuere Foundation      |c                     |2.61                |0.0                         |\n",
      "|66626020312 |In Magna Incorporated           |c                     |2.46                |0.0                         |\n",
      "|17324645993 |Eget Metus In Corporation       |a                     |5.73                |0.0                         |\n",
      "|13285958344 |Purus Gravida Sagittis Inc.     |a                     |5.65                |0.0                         |\n",
      "|99467302626 |Ac Ipsum Foundation             |a                     |6.35                |0.0                         |\n",
      "|41315101616 |Malesuada Fames Foundation      |b                     |5.05                |0.0                         |\n",
      "|32361057556 |Orci In Consequat Corporation   |a                     |6.61                |0.0                         |\n",
      "|26008308191 |Nulla Aliquet LLP               |b                     |3.37                |0.0                         |\n",
      "|24852446429 |Erat Vitae LLP                  |c                     |2.94                |0.0                         |\n",
      "|90994364089 |Rhoncus Proin Inc.              |a                     |6.71                |0.0                         |\n",
      "|31585975447 |Dolor Dapibus Gravida Associates|b                     |3.12                |0.0                         |\n",
      "|27326652377 |Tellus Aenean Corporation       |a                     |6.33                |0.0                         |\n",
      "|96680767841 |Ornare Limited                  |a                     |5.91                |0.0                         |\n",
      "|30122382323 |Ipsum Company                   |b                     |3.36                |0.0                         |\n",
      "|89726005175 |Est Nunc Consulting             |a                     |6.01                |0.0                         |\n",
      "|80324045558 |Ipsum Dolor Sit Corporation     |c                     |1.47                |0.0                         |\n",
      "|57900494384 |Porttitor Tellus Corporation    |a                     |6.39                |0.0                         |\n",
      "+------------+--------------------------------+----------------------+--------------------+----------------------------+\n",
      "only showing top 20 rows\n",
      "\n"
     ]
    },
    {
     "name": "stderr",
     "output_type": "stream",
     "text": [
      "                                                                                \r"
     ]
    }
   ],
   "source": [
    "merchant.show(truncate= False)"
   ]
  },
  {
   "cell_type": "code",
   "execution_count": 6,
   "metadata": {},
   "outputs": [
    {
     "data": {
      "text/plain": [
       "[('merchant_abn', 'bigint'),\n",
       " ('merchant_name', 'string'),\n",
       " ('merchant_revenue_level', 'string'),\n",
       " ('merchant_take_rate_%', 'float'),\n",
       " ('merchant_fraud_probability_%', 'double')]"
      ]
     },
     "execution_count": 6,
     "metadata": {},
     "output_type": "execute_result"
    }
   ],
   "source": [
    "merchant.dtypes"
   ]
  },
  {
   "cell_type": "markdown",
   "metadata": {},
   "source": [
    "Next we want to check how many unique merchants are in the data."
   ]
  },
  {
   "cell_type": "code",
   "execution_count": 7,
   "metadata": {},
   "outputs": [
    {
     "name": "stderr",
     "output_type": "stream",
     "text": [
      "                                                                                \r"
     ]
    },
    {
     "data": {
      "text/plain": [
       "4026"
      ]
     },
     "execution_count": 7,
     "metadata": {},
     "output_type": "execute_result"
    }
   ],
   "source": [
    "merchant.select(merchant.merchant_name, merchant.merchant_revenue_level).distinct().count()"
   ]
  },
  {
   "cell_type": "markdown",
   "metadata": {},
   "source": [
    "Then we want to check whether any merchants have multiple take rates or revenue levels."
   ]
  },
  {
   "cell_type": "code",
   "execution_count": 8,
   "metadata": {},
   "outputs": [],
   "source": [
    "merchant_revenue_level_count = merchant.groupBy(\"merchant_abn\").agg(f.countDistinct(\"merchant_revenue_level\").alias(\"revenue_level_count\"))\n",
    "merchant_take_rate_count = merchant.groupBy(\"merchant_abn\").agg(f.countDistinct(\"merchant_take_rate_%\").alias(\"take_rate_count\"))"
   ]
  },
  {
   "cell_type": "code",
   "execution_count": 9,
   "metadata": {},
   "outputs": [
    {
     "name": "stderr",
     "output_type": "stream",
     "text": [
      "                                                                                \r"
     ]
    },
    {
     "name": "stdout",
     "output_type": "stream",
     "text": [
      "0\n"
     ]
    },
    {
     "name": "stderr",
     "output_type": "stream",
     "text": [
      "[Stage 18:===================================================>      (8 + 1) / 9]\r"
     ]
    },
    {
     "name": "stdout",
     "output_type": "stream",
     "text": [
      "0\n"
     ]
    },
    {
     "name": "stderr",
     "output_type": "stream",
     "text": [
      "                                                                                \r"
     ]
    }
   ],
   "source": [
    "print(merchant_revenue_level_count.filter(merchant_revenue_level_count.revenue_level_count > 1).count())\n",
    "print(merchant_take_rate_count.filter(merchant_take_rate_count.take_rate_count > 1).count())"
   ]
  },
  {
   "cell_type": "markdown",
   "metadata": {},
   "source": [
    "### Aggregation"
   ]
  },
  {
   "cell_type": "code",
   "execution_count": 10,
   "metadata": {},
   "outputs": [],
   "source": [
    "merchant_aggregated = merchant.groupBy(\"merchant_abn\").agg(\\\n",
    "                        f.first(\"merchant_name\").alias(\"name\"),\n",
    "                        f.first(\"merchant_revenue_level\").alias(\"revenue_level\"),\n",
    "                        f.first(\"merchant_take_rate_%\").alias(\"take_rate\"),\n",
    "                        f.avg(\"merchant_fraud_probability_%\").alias(\"average_merchant_fraud_probability\"))"
   ]
  },
  {
   "cell_type": "code",
   "execution_count": 11,
   "metadata": {},
   "outputs": [
    {
     "name": "stderr",
     "output_type": "stream",
     "text": [
      "[Stage 28:===================================================>      (8 + 1) / 9]\r"
     ]
    },
    {
     "name": "stdout",
     "output_type": "stream",
     "text": [
      "+------------+--------------------+-------------+---------+----------------------------------+\n",
      "|merchant_abn|                name|revenue_level|take_rate|average_merchant_fraud_probability|\n",
      "+------------+--------------------+-------------+---------+----------------------------------+\n",
      "| 10023283211|       Felis Limited|            e|     0.18|                               0.0|\n",
      "| 10142254217|Arcu Ac Orci Corp...|            b|     4.22|                               0.0|\n",
      "| 10165489824|    Nunc Sed Company|            b|      4.4|                               0.0|\n",
      "| 10187291046|Ultricies Digniss...|            b|     3.29|                               0.0|\n",
      "| 10192359162| Enim Condimentum PC|            a|     6.33|                               0.0|\n",
      "| 10206519221|       Fusce Company|            a|     6.34|                               0.0|\n",
      "| 10255988167|Aliquam Enim Inco...|            b|     4.32|                               0.0|\n",
      "| 10264435225|    Ipsum Primis Ltd|            c|     2.39|                               0.0|\n",
      "| 10279061213|Pede Ultrices Ind...|            a|     5.71|                               0.0|\n",
      "| 10323485998|           Nunc Inc.|            a|     6.61|                               0.0|\n",
      "| 10342410215|Facilisis Facilis...|            a|     6.34|                               0.0|\n",
      "| 10346855916|      Odio Institute|            b|     3.57|                               0.0|\n",
      "| 10364012396|    Rutrum Justo Ltd|            b|     3.63|                               0.0|\n",
      "| 10385011947|   Tellus Foundation|            b|     3.17|                               0.0|\n",
      "| 10385163239|      Sed Et Company|            a|     6.61|                               0.0|\n",
      "| 10385250025|              Id Ltd|            a|     5.54|                               0.0|\n",
      "| 10404542215|Consequat Foundation|            a|     6.93|                               0.0|\n",
      "| 10430380319|Sit Amet Nulla Corp.|            b|     4.97|                               0.0|\n",
      "| 10441711491|Massa Vestibulum ...|            a|     5.77|                               0.0|\n",
      "| 10462560289|       Ut Consulting|            c|     2.95|                               0.0|\n",
      "+------------+--------------------+-------------+---------+----------------------------------+\n",
      "only showing top 20 rows\n",
      "\n"
     ]
    },
    {
     "name": "stderr",
     "output_type": "stream",
     "text": [
      "                                                                                \r"
     ]
    }
   ],
   "source": [
    "merchant_aggregated.show()"
   ]
  },
  {
   "cell_type": "markdown",
   "metadata": {},
   "source": [
    "### Saving the data"
   ]
  },
  {
   "cell_type": "code",
   "execution_count": 12,
   "metadata": {},
   "outputs": [
    {
     "name": "stderr",
     "output_type": "stream",
     "text": [
      "                                                                                \r"
     ]
    }
   ],
   "source": [
    "merchant_aggregated.write.mode(\"overwrite\").parquet(\"../../../data/insights/agg_insight_data/merchant_agg.parquet\")"
   ]
  },
  {
   "cell_type": "code",
   "execution_count": 13,
   "metadata": {},
   "outputs": [],
   "source": [
    "spark.stop()"
   ]
  },
  {
   "cell_type": "markdown",
   "metadata": {},
   "source": [
    "### Summary\n",
    "In this notebook the following was a achieved:\n",
    "- Created a directory to store the data.\n",
    "\n",
    "- Found that there are 4026 merchants\n",
    "\n",
    "- Found that all merchants each have only one take rate and revenue level.\n",
    "\n",
    "- Data was aggregated by merchant abn:\n",
    "    1. Unique name, take rate, and revenue level was taken using the first function.\n",
    "\n",
    "    2. Average was taken for the merchant fraud probability\n",
    "\n",
    "- Aggregated data was saved to a checkpoint directory."
   ]
  }
 ],
 "metadata": {
  "kernelspec": {
   "display_name": "Python 3",
   "language": "python",
   "name": "python3"
  },
  "language_info": {
   "codemirror_mode": {
    "name": "ipython",
    "version": 3
   },
   "file_extension": ".py",
   "mimetype": "text/x-python",
   "name": "python",
   "nbconvert_exporter": "python",
   "pygments_lexer": "ipython3",
   "version": "3.10.12"
  },
  "orig_nbformat": 4
 },
 "nbformat": 4,
 "nbformat_minor": 2
}
