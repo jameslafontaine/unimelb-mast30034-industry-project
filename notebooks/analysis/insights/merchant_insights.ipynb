{
 "cells": [
  {
   "cell_type": "code",
   "execution_count": 25,
   "metadata": {},
   "outputs": [],
   "source": [
    "from pyspark.sql import SparkSession, functions as f\n",
    "import os"
   ]
  },
  {
   "cell_type": "code",
   "execution_count": 26,
   "metadata": {},
   "outputs": [],
   "source": [
    "if not os.path.exists(\"../../../data/insights/agg_insight_data\"):\n",
    "    os.makedirs(\"../../../data/insights/agg_insight_data\")"
   ]
  },
  {
   "cell_type": "code",
   "execution_count": 27,
   "metadata": {},
   "outputs": [],
   "source": [
    "spark = (\n",
    "    SparkSession.builder.appName(\"Preprocessing_Yellow\")\n",
    "    .config(\"spark.sql.repl.eagerEval.enabled\", True) \n",
    "    .config(\"spark.sql.parquet.cacheMetadata\", \"true\")\n",
    "    .config(\"spark.sql.session.timeZone\", \"Etc/UTC\")\n",
    "    .config(\"spark.sql.session.timeZone\", \"Etc/UTC\")\n",
    "    .config('spark.driver.memory', '3g')   \n",
    "    .config('spark.executor.memory', '4g')  \n",
    "    .config('spark.executor.instances', '2')  \n",
    "    .config('spark.executor.cores', '2')\n",
    "    .getOrCreate()\n",
    ")"
   ]
  },
  {
   "cell_type": "code",
   "execution_count": 28,
   "metadata": {},
   "outputs": [],
   "source": [
    "merchant = spark.read.parquet(\"../../../data/insights/pre_insights/merchant.parquet/\")"
   ]
  },
  {
   "cell_type": "code",
   "execution_count": 29,
   "metadata": {},
   "outputs": [
    {
     "name": "stdout",
     "output_type": "stream",
     "text": [
      "+------------+------------------------------------+----------------------+--------------------+----------------------------+\n",
      "|merchant_abn|merchant_name                       |merchant_revenue_level|merchant_take_rate_%|merchant_fraud_probability_%|\n",
      "+------------+------------------------------------+----------------------+--------------------+----------------------------+\n",
      "|92980848589 |Maecenas Industries                 |a                     |6.86                |0.0                         |\n",
      "|58454491168 |Diam At Foundation                  |a                     |6.01                |0.0                         |\n",
      "|24852446429 |Erat Vitae LLP                      |c                     |2.94                |0.0                         |\n",
      "|45559085309 |A Auctor Non Corporation            |a                     |5.58                |0.0                         |\n",
      "|58392414752 |Mattis Ornare Lectus Inc.           |c                     |1.47                |0.0                         |\n",
      "|81219314324 |Faucibus Leo Ltd                    |a                     |6.35                |0.0                         |\n",
      "|34179569263 |Sodales At LLC                      |b                     |4.72                |0.0                         |\n",
      "|96566672398 |Odio Tristique Pharetra Incorporated|c                     |2.05                |0.0                         |\n",
      "|52838486584 |Interdum PC                         |a                     |6.19                |0.0                         |\n",
      "|32530636640 |Hendrerit Foundation                |a                     |5.6                 |0.0                         |\n",
      "|20985347699 |Semper Tellus PC                    |a                     |6.1                 |0.0                         |\n",
      "|73499119023 |Nisi Dictum Company                 |a                     |5.56                |0.0                         |\n",
      "|64403598239 |Lobortis Ultrices Company           |a                     |6.31                |0.0                         |\n",
      "|45559085309 |A Auctor Non Corporation            |a                     |5.58                |0.0                         |\n",
      "|43611981873 |Suscipit LLC                        |e                     |0.3                 |0.0                         |\n",
      "|91873181182 |Sem LLC                             |a                     |6.0                 |0.0                         |\n",
      "|97861055416 |Morbi Neque Inc.                    |b                     |3.4                 |0.0                         |\n",
      "|83414869405 |Hendrerit Donec Corporation         |a                     |6.49                |0.0                         |\n",
      "|76767266140 |Phasellus At Limited                |b                     |4.65                |0.0                         |\n",
      "|49891706470 |Non Vestibulum Industries           |a                     |5.8                 |0.0                         |\n",
      "+------------+------------------------------------+----------------------+--------------------+----------------------------+\n",
      "only showing top 20 rows\n",
      "\n"
     ]
    }
   ],
   "source": [
    "merchant.show(truncate= False)"
   ]
  },
  {
   "cell_type": "code",
   "execution_count": 30,
   "metadata": {},
   "outputs": [
    {
     "data": {
      "text/plain": [
       "[('merchant_abn', 'bigint'),\n",
       " ('merchant_name', 'string'),\n",
       " ('merchant_revenue_level', 'string'),\n",
       " ('merchant_take_rate_%', 'float'),\n",
       " ('merchant_fraud_probability_%', 'double')]"
      ]
     },
     "execution_count": 30,
     "metadata": {},
     "output_type": "execute_result"
    }
   ],
   "source": [
    "merchant.dtypes"
   ]
  },
  {
   "cell_type": "code",
   "execution_count": 31,
   "metadata": {},
   "outputs": [
    {
     "name": "stderr",
     "output_type": "stream",
     "text": [
      "                                                                                \r"
     ]
    },
    {
     "data": {
      "text/plain": [
       "4026"
      ]
     },
     "execution_count": 31,
     "metadata": {},
     "output_type": "execute_result"
    }
   ],
   "source": [
    "merchant.select(merchant.merchant_name, merchant.merchant_revenue_level).distinct().count()"
   ]
  },
  {
   "cell_type": "code",
   "execution_count": 32,
   "metadata": {},
   "outputs": [],
   "source": [
    "merchant_revenue_level_count = merchant.groupBy(\"merchant_abn\").agg(f.countDistinct(\"merchant_revenue_level\").alias(\"revenue_level_count\"))\n",
    "merchant_take_rate_count = merchant.groupBy(\"merchant_abn\").agg(f.countDistinct(\"merchant_take_rate_%\").alias(\"take_rate_count\"))"
   ]
  },
  {
   "cell_type": "code",
   "execution_count": 33,
   "metadata": {},
   "outputs": [
    {
     "name": "stdout",
     "output_type": "stream",
     "text": [
      "0\n"
     ]
    },
    {
     "name": "stderr",
     "output_type": "stream",
     "text": [
      "[Stage 86:========>                                               (2 + 11) / 13]\r"
     ]
    },
    {
     "name": "stdout",
     "output_type": "stream",
     "text": [
      "0\n"
     ]
    },
    {
     "name": "stderr",
     "output_type": "stream",
     "text": [
      "                                                                                \r"
     ]
    }
   ],
   "source": [
    "print(merchant_revenue_level_count.filter(merchant_revenue_level_count.revenue_level_count > 1).count())\n",
    "print(merchant_take_rate_count.filter(merchant_take_rate_count.take_rate_count > 1).count())"
   ]
  },
  {
   "cell_type": "code",
   "execution_count": 34,
   "metadata": {},
   "outputs": [],
   "source": [
    "merchant_aggregated = merchant.groupBy(\"merchant_abn\").agg(\\\n",
    "                        f.first(\"merchant_name\").alias(\"name\"),\n",
    "                        f.first(\"merchant_revenue_level\").alias(\"revenue_level\"),\n",
    "                        f.first(\"merchant_take_rate_%\").alias(\"take_rate\"),\n",
    "                        f.avg(\"merchant_fraud_probability_%\").alias(\"average_merchant_fraud_probability\"))"
   ]
  },
  {
   "cell_type": "code",
   "execution_count": 35,
   "metadata": {},
   "outputs": [
    {
     "name": "stderr",
     "output_type": "stream",
     "text": [
      "[Stage 96:==============================>                          (7 + 6) / 13]\r"
     ]
    },
    {
     "name": "stdout",
     "output_type": "stream",
     "text": [
      "+------------+--------------------+-------------+---------+----------------------------------+\n",
      "|merchant_abn|                name|revenue_level|take_rate|average_merchant_fraud_probability|\n",
      "+------------+--------------------+-------------+---------+----------------------------------+\n",
      "| 10023283211|       Felis Limited|            e|     0.18|                               0.0|\n",
      "| 10323485998|           Nunc Inc.|            a|     6.61|                               0.0|\n",
      "| 10342410215|Facilisis Facilis...|            a|     6.34|                               0.0|\n",
      "| 10346855916|      Odio Institute|            b|     3.57|                               0.0|\n",
      "| 10385011947|   Tellus Foundation|            b|     3.17|                               0.0|\n",
      "| 10385163239|      Sed Et Company|            a|     6.61|                               0.0|\n",
      "| 10487253336|Laoreet Lectus As...|            b|     3.92|                               0.0|\n",
      "| 10553813474|Commodo Hendrerit...|            b|     4.31|                               0.0|\n",
      "| 10648956813|Proin Nisl Institute|            a|     6.66|                               0.0|\n",
      "| 10714068705|Sollicitudin Comm...|            c|     2.51|                               0.0|\n",
      "| 10848766800|Ut Dolor Dapibus LLP|            c|     2.08|                               0.0|\n",
      "| 10930486968|Metus Vitae Velit...|            a|     5.73|                               0.0|\n",
      "| 10945019164|      Nam Associates|            a|     5.99|                               0.0|\n",
      "| 10995883576|Non Feugiat Incor...|            a|     6.22|                               0.0|\n",
      "| 11024352823|Aliquet Metus Urn...|            c|     2.62|                               0.0|\n",
      "| 11076688542|Amet Diam Industries|            c|     2.52|                               0.0|\n",
      "| 11121775571|Egestas Nunc Asso...|            a|     6.58|                               0.0|\n",
      "| 11173270682|  Feugiat Tellus LLP|            d|     1.26|                               0.0|\n",
      "| 11199348915|      Orci Luctus PC|            b|      4.1|                               0.0|\n",
      "| 11243046390|Ornare Placerat F...|            c|     1.94|                               0.0|\n",
      "+------------+--------------------+-------------+---------+----------------------------------+\n",
      "only showing top 20 rows\n",
      "\n"
     ]
    },
    {
     "name": "stderr",
     "output_type": "stream",
     "text": [
      "                                                                                \r"
     ]
    }
   ],
   "source": [
    "merchant_aggregated.show()"
   ]
  },
  {
   "cell_type": "code",
   "execution_count": 36,
   "metadata": {},
   "outputs": [
    {
     "name": "stderr",
     "output_type": "stream",
     "text": [
      "                                                                                \r"
     ]
    }
   ],
   "source": [
    "merchant_aggregated.write.mode(\"overwrite\").parquet(\"../../../data/insights/agg_insight_data/merchant_agg.parquet\")"
   ]
  }
 ],
 "metadata": {
  "kernelspec": {
   "display_name": "Python 3",
   "language": "python",
   "name": "python3"
  },
  "language_info": {
   "codemirror_mode": {
    "name": "ipython",
    "version": 3
   },
   "file_extension": ".py",
   "mimetype": "text/x-python",
   "name": "python",
   "nbconvert_exporter": "python",
   "pygments_lexer": "ipython3",
   "version": "3.8.10"
  },
  "orig_nbformat": 4
 },
 "nbformat": 4,
 "nbformat_minor": 2
}
