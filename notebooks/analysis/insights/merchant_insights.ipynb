{
 "cells": [
  {
   "cell_type": "code",
   "execution_count": 1,
   "metadata": {},
   "outputs": [],
   "source": [
    "from pyspark.sql import SparkSession, functions as f\n",
    "import os"
   ]
  },
  {
   "cell_type": "code",
   "execution_count": 2,
   "metadata": {},
   "outputs": [],
   "source": [
    "if not os.path.exists(\"../../../data/insights/agg_insight_data\"):\n",
    "    os.makedirs(\"../../../data/insights/agg_insight_data\")"
   ]
  },
  {
   "cell_type": "code",
   "execution_count": 3,
   "metadata": {},
   "outputs": [
    {
     "name": "stderr",
     "output_type": "stream",
     "text": [
      "your 131072x1 screen size is bogus. expect trouble\n",
      "23/09/30 17:23:46 WARN Utils: Your hostname, DulanComputer resolves to a loopback address: 127.0.1.1; using 172.30.15.25 instead (on interface eth0)\n",
      "23/09/30 17:23:46 WARN Utils: Set SPARK_LOCAL_IP if you need to bind to another address\n",
      "Setting default log level to \"WARN\".\n",
      "To adjust logging level use sc.setLogLevel(newLevel). For SparkR, use setLogLevel(newLevel).\n",
      "23/09/30 17:23:48 WARN NativeCodeLoader: Unable to load native-hadoop library for your platform... using builtin-java classes where applicable\n"
     ]
    }
   ],
   "source": [
    "spark = (\n",
    "    SparkSession.builder.appName(\"Preprocessing_Yellow\")\n",
    "    .config(\"spark.sql.repl.eagerEval.enabled\", True) \n",
    "    .config(\"spark.sql.parquet.cacheMetadata\", \"true\")\n",
    "    .config(\"spark.sql.session.timeZone\", \"Etc/UTC\")\n",
    "    .config(\"spark.sql.session.timeZone\", \"Etc/UTC\")\n",
    "    .config('spark.driver.memory', '3g')   \n",
    "    .config('spark.executor.memory', '4g')  \n",
    "    .config('spark.executor.instances', '2')  \n",
    "    .config('spark.executor.cores', '2')\n",
    "    .getOrCreate()\n",
    ")"
   ]
  },
  {
   "cell_type": "code",
   "execution_count": 4,
   "metadata": {},
   "outputs": [
    {
     "name": "stderr",
     "output_type": "stream",
     "text": [
      "                                                                                \r"
     ]
    }
   ],
   "source": [
    "merchant = spark.read.parquet(\"../../../data/insights/pre_insights/merchant.parquet/\")"
   ]
  },
  {
   "cell_type": "code",
   "execution_count": 5,
   "metadata": {},
   "outputs": [
    {
     "name": "stdout",
     "output_type": "stream",
     "text": [
      "+------------+-------------------------------------+----------------------+--------------------+----------------------------+\n",
      "|merchant_abn|merchant_name                        |merchant_revenue_level|merchant_take_rate_%|merchant_fraud_probability_%|\n",
      "+------------+-------------------------------------+----------------------+--------------------+----------------------------+\n",
      "|16570599421 |Non Magna Nam PC                     |a                     |6.74                |0.0                         |\n",
      "|63290521567 |Vehicula Pellentesque Corporation    |a                     |6.48                |0.0                         |\n",
      "|13514558491 |Magna Praesent PC                    |a                     |6.78                |0.0                         |\n",
      "|22227727512 |Malesuada Integer Id Foundation      |b                     |5.03                |0.0                         |\n",
      "|79827781481 |Amet Risus Inc.                      |a                     |6.82                |0.0                         |\n",
      "|35556933338 |Semper Cursus Integer Limited        |a                     |6.87                |0.0                         |\n",
      "|64203420245 |Pede Nonummy Corp.                   |c                     |2.86                |0.0                         |\n",
      "|47086412084 |Eros Limited                         |c                     |2.52                |0.0                         |\n",
      "|91923722701 |Euismod Urna Institute               |b                     |5.05                |0.0                         |\n",
      "|75034515922 |Ac Eleifend Corp.                    |a                     |6.22                |0.0                         |\n",
      "|36196225600 |Leo Elementum Sem Associates         |b                     |4.93                |0.0                         |\n",
      "|75104340635 |Nisl Elementum Ltd                   |c                     |2.7                 |0.0                         |\n",
      "|96513857365 |Tellus Aenean Consulting             |a                     |6.03                |0.0                         |\n",
      "|62694031334 |Vel Est Tempor LLP                   |a                     |5.76                |0.0                         |\n",
      "|25732256442 |Malesuada Vel Associates             |a                     |5.79                |0.0                         |\n",
      "|62773208456 |Ac Institute                         |c                     |2.62                |0.0                         |\n",
      "|40555823280 |Nibh Donec Incorporated              |a                     |6.04                |0.0                         |\n",
      "|10206519221 |Fusce Company                        |a                     |6.34                |0.0                         |\n",
      "|92990617267 |Malesuada Malesuada Integer Inc.     |a                     |6.6                 |0.0                         |\n",
      "|89107518982 |Adipiscing Lobortis Risus Corporation|b                     |3.66                |0.0                         |\n",
      "+------------+-------------------------------------+----------------------+--------------------+----------------------------+\n",
      "only showing top 20 rows\n",
      "\n"
     ]
    }
   ],
   "source": [
    "merchant.show(truncate= False)"
   ]
  },
  {
   "cell_type": "code",
   "execution_count": 6,
   "metadata": {},
   "outputs": [
    {
     "data": {
      "text/plain": [
       "[('merchant_abn', 'bigint'),\n",
       " ('merchant_name', 'string'),\n",
       " ('merchant_revenue_level', 'string'),\n",
       " ('merchant_take_rate_%', 'float'),\n",
       " ('merchant_fraud_probability_%', 'double')]"
      ]
     },
     "execution_count": 6,
     "metadata": {},
     "output_type": "execute_result"
    }
   ],
   "source": [
    "merchant.dtypes"
   ]
  },
  {
   "cell_type": "code",
   "execution_count": 7,
   "metadata": {},
   "outputs": [
    {
     "name": "stderr",
     "output_type": "stream",
     "text": [
      "                                                                                \r"
     ]
    },
    {
     "data": {
      "text/plain": [
       "4026"
      ]
     },
     "execution_count": 7,
     "metadata": {},
     "output_type": "execute_result"
    }
   ],
   "source": [
    "merchant.select(merchant.merchant_name, merchant.merchant_revenue_level).distinct().count()"
   ]
  },
  {
   "cell_type": "code",
   "execution_count": 8,
   "metadata": {},
   "outputs": [],
   "source": [
    "merchant_revenue_level_count = merchant.groupBy(\"merchant_abn\").agg(f.countDistinct(\"merchant_revenue_level\").alias(\"revenue_level_count\"))\n",
    "merchant_take_rate_count = merchant.groupBy(\"merchant_abn\").agg(f.countDistinct(\"merchant_take_rate_%\").alias(\"take_rate_count\"))"
   ]
  },
  {
   "cell_type": "code",
   "execution_count": 9,
   "metadata": {},
   "outputs": [
    {
     "name": "stderr",
     "output_type": "stream",
     "text": [
      "                                                                                \r"
     ]
    },
    {
     "name": "stdout",
     "output_type": "stream",
     "text": [
      "0\n"
     ]
    },
    {
     "name": "stderr",
     "output_type": "stream",
     "text": [
      "[Stage 18:============>                                             (2 + 7) / 9]\r"
     ]
    },
    {
     "name": "stdout",
     "output_type": "stream",
     "text": [
      "0\n"
     ]
    },
    {
     "name": "stderr",
     "output_type": "stream",
     "text": [
      "                                                                                \r"
     ]
    }
   ],
   "source": [
    "print(merchant_revenue_level_count.filter(merchant_revenue_level_count.revenue_level_count > 1).count())\n",
    "print(merchant_take_rate_count.filter(merchant_take_rate_count.take_rate_count > 1).count())"
   ]
  },
  {
   "cell_type": "code",
   "execution_count": 10,
   "metadata": {},
   "outputs": [],
   "source": [
    "merchant_aggregated = merchant.groupBy(\"merchant_abn\").agg(\\\n",
    "                        f.first(\"merchant_name\").alias(\"name\"),\n",
    "                        f.first(\"merchant_revenue_level\").alias(\"revenue_level\"),\n",
    "                        f.first(\"merchant_take_rate_%\").alias(\"take_rate\"),\n",
    "                        f.avg(\"merchant_fraud_probability_%\").alias(\"average_merchant_fraud_probability\"))"
   ]
  },
  {
   "cell_type": "code",
   "execution_count": 11,
   "metadata": {},
   "outputs": [
    {
     "name": "stderr",
     "output_type": "stream",
     "text": [
      "[Stage 28:===================================================>      (8 + 1) / 9]\r"
     ]
    },
    {
     "name": "stdout",
     "output_type": "stream",
     "text": [
      "+------------+--------------------+-------------+---------+----------------------------------+\n",
      "|merchant_abn|                name|revenue_level|take_rate|average_merchant_fraud_probability|\n",
      "+------------+--------------------+-------------+---------+----------------------------------+\n",
      "| 10023283211|       Felis Limited|            e|     0.18|                               0.0|\n",
      "| 10142254217|Arcu Ac Orci Corp...|            b|     4.22|                               0.0|\n",
      "| 10165489824|    Nunc Sed Company|            b|      4.4|                               0.0|\n",
      "| 10187291046|Ultricies Digniss...|            b|     3.29|                               0.0|\n",
      "| 10192359162| Enim Condimentum PC|            a|     6.33|                               0.0|\n",
      "| 10206519221|       Fusce Company|            a|     6.34|                               0.0|\n",
      "| 10255988167|Aliquam Enim Inco...|            b|     4.32|                               0.0|\n",
      "| 10264435225|    Ipsum Primis Ltd|            c|     2.39|                               0.0|\n",
      "| 10279061213|Pede Ultrices Ind...|            a|     5.71|                               0.0|\n",
      "| 10323485998|           Nunc Inc.|            a|     6.61|                               0.0|\n",
      "| 10342410215|Facilisis Facilis...|            a|     6.34|                               0.0|\n",
      "| 10346855916|      Odio Institute|            b|     3.57|                               0.0|\n",
      "| 10364012396|    Rutrum Justo Ltd|            b|     3.63|                               0.0|\n",
      "| 10385011947|   Tellus Foundation|            b|     3.17|                               0.0|\n",
      "| 10385163239|      Sed Et Company|            a|     6.61|                               0.0|\n",
      "| 10385250025|              Id Ltd|            a|     5.54|                               0.0|\n",
      "| 10404542215|Consequat Foundation|            a|     6.93|                               0.0|\n",
      "| 10430380319|Sit Amet Nulla Corp.|            b|     4.97|                               0.0|\n",
      "| 10441711491|Massa Vestibulum ...|            a|     5.77|                               0.0|\n",
      "| 10462560289|       Ut Consulting|            c|     2.95|                               0.0|\n",
      "+------------+--------------------+-------------+---------+----------------------------------+\n",
      "only showing top 20 rows\n",
      "\n"
     ]
    },
    {
     "name": "stderr",
     "output_type": "stream",
     "text": [
      "                                                                                \r"
     ]
    }
   ],
   "source": [
    "merchant_aggregated.show()"
   ]
  },
  {
   "cell_type": "code",
   "execution_count": 12,
   "metadata": {},
   "outputs": [
    {
     "name": "stderr",
     "output_type": "stream",
     "text": [
      "                                                                                \r"
     ]
    }
   ],
   "source": [
    "merchant_aggregated.write.mode(\"overwrite\").parquet(\"../../../data/insights/agg_insight_data/merchant_agg.parquet\")"
   ]
  },
  {
   "cell_type": "code",
   "execution_count": 13,
   "metadata": {},
   "outputs": [],
   "source": [
    "spark.stop()"
   ]
  }
 ],
 "metadata": {
  "kernelspec": {
   "display_name": "Python 3",
   "language": "python",
   "name": "python3"
  },
  "language_info": {
   "codemirror_mode": {
    "name": "ipython",
    "version": 3
   },
   "file_extension": ".py",
   "mimetype": "text/x-python",
   "name": "python",
   "nbconvert_exporter": "python",
   "pygments_lexer": "ipython3",
   "version": "3.10.12"
  },
  "orig_nbformat": 4
 },
 "nbformat": 4,
 "nbformat_minor": 2
}
