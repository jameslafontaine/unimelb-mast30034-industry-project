{
 "cells": [
  {
   "cell_type": "code",
   "execution_count": 3,
   "metadata": {},
   "outputs": [],
   "source": [
    "from pyspark.sql import SparkSession, functions as f\n",
    "import pandas as pd\n",
    "import numpy as np\n",
    "import matplotlib.pyplot as plt\n",
    "import seaborn as sns"
   ]
  },
  {
   "cell_type": "code",
   "execution_count": 4,
   "metadata": {},
   "outputs": [
    {
     "name": "stderr",
     "output_type": "stream",
     "text": [
      "your 131072x1 screen size is bogus. expect trouble\n",
      "23/10/05 21:38:34 WARN Utils: Your hostname, DulanComputer resolves to a loopback address: 127.0.1.1; using 172.30.15.25 instead (on interface eth0)\n",
      "23/10/05 21:38:34 WARN Utils: Set SPARK_LOCAL_IP if you need to bind to another address\n",
      "Setting default log level to \"WARN\".\n",
      "To adjust logging level use sc.setLogLevel(newLevel). For SparkR, use setLogLevel(newLevel).\n",
      "23/10/05 21:38:37 WARN NativeCodeLoader: Unable to load native-hadoop library for your platform... using builtin-java classes where applicable\n"
     ]
    }
   ],
   "source": [
    "spark = (\n",
    "    SparkSession.builder.appName(\"Preprocessing_Yellow\")\n",
    "    .config(\"spark.sql.repl.eagerEval.enabled\", True) \n",
    "    .config(\"spark.sql.parquet.cacheMetadata\", \"true\")\n",
    "    .config(\"spark.sql.session.timeZone\", \"Etc/UTC\")\n",
    "    .config(\"spark.sql.session.timeZone\", \"Etc/UTC\")\n",
    "    .config('spark.driver.memory', '3g')   \n",
    "    .config('spark.executor.memory', '4g')  \n",
    "    .config('spark.executor.instances', '2')  \n",
    "    .config('spark.executor.cores', '2')\n",
    "    .getOrCreate()\n",
    ")"
   ]
  },
  {
   "cell_type": "code",
   "execution_count": 5,
   "metadata": {},
   "outputs": [
    {
     "name": "stderr",
     "output_type": "stream",
     "text": [
      "                                                                                \r"
     ]
    }
   ],
   "source": [
    "joined = spark.read.parquet(\"../../../data/curated/removed_outliers.parquet\")"
   ]
  },
  {
   "cell_type": "code",
   "execution_count": 6,
   "metadata": {},
   "outputs": [
    {
     "name": "stderr",
     "output_type": "stream",
     "text": [
      "23/10/05 21:39:10 WARN package: Truncated the string representation of a plan since it was too large. This behavior can be adjusted by setting 'spark.sql.debug.maxToStringFields'.\n",
      "                                                                                \r"
     ]
    },
    {
     "name": "stdout",
     "output_type": "stream",
     "text": [
      "+------------+--------------------+-------------+------------------+----------------------------------+--------------------------+----------------------------------+--------------------------+----------------------------------------+----------------+---------------------+--------------------------+------------------------------+-------------------------+------------------------+------------------------+--------------------------+-------------------------+-------------------------+-------------------+--------------------------------+---------------------------+------------------+------------------+--------------------+---------------------------------+--------------------+------------------+\n",
      "|merchant_abn|                name|revenue_level|         take_rate|average_merchant_fraud_probability|number_of_unique_consumers|average_consumer_fraud_probability|number_of_repeat_consumers|average_repeat_transactions_per_consumer|number_of_orders|average_cost_of_order|average_spend_per_consumer|average_monthly_diff_consumers|consumer_diff_over_period|average_growth_consumers|merchant_revenue_rounded|first_recorded_transaction|last_recorded_transaction|transcation_period_months|number_of_postcodes|avg_total_weekly_personal_income|avg_total_weekly_fam_income|    avg_median_age|avg_household_size|      postcode_reach|avg_num_of_consumers_per_postcode|             segment| bnpl_maximum_gain|\n",
      "+------------+--------------------+-------------+------------------+----------------------------------+--------------------------+----------------------------------+--------------------------+----------------------------------------+----------------+---------------------+--------------------------+------------------------------+-------------------------+------------------------+------------------------+--------------------------+-------------------------+-------------------------+-------------------+--------------------------------+---------------------------+------------------+------------------+--------------------+---------------------------------+--------------------+------------------+\n",
      "| 16550028284|              In LLP|            a| 6.519999980926514|                               0.0|                       103|               0.08438345100874829|                         1|                      1.0097087378640777|             104|    206.6202112610001|        208.62623272955355|           0.21052631578947367|                        4|      0.5634654818865346|                 21488.5|                2021-03-18|               2022-10-09|              18.70967742|                101|               821.3557692307693|         2081.0721153846152| 43.03365384615385| 2.456730769230769|0.038272072754831375|               1.0297029702970297|garden_and_furnis...|1401.0501959013939|\n",
      "| 21437482304|Consectetuer Adip...|            a| 5.710000038146973|                               0.0|                        47|                               0.0|                         0|                                     1.0|              47|   310.80828335316335|        310.80828335316335|           -0.1111111111111111|                       -2|     0.23703703703703705|                14607.99|                2021-03-01|               2022-10-17|              19.51612903|                 47|               750.1595744680851|         1876.9468085106382| 43.54255319148936| 2.435106382978723|0.017809776430466086|                              1.0|tech_and_electronics|  834.116234572506|\n",
      "| 68535898735|          A Neque PC|            c| 2.869999885559082|                               0.0|                        19|                2.0682350193396726|                         0|                                     1.0|              19|   3406.9565568795797|        3406.9565568795792|           0.15384615384615385|                        2|     0.19230769230769232|                64732.17|                2021-03-17|               2022-10-23|              19.19354839|                 19|               768.3947368421053|          1863.921052631579|              42.5| 2.512631578947369|0.007199696854869...|                              1.0|specialized_services|1857.8132049199105|\n",
      "| 27440079026|Risus Varius Orci...|            c|2.5299999713897705|                               0.0|                      1156|               0.06762334491607196|                        34|                      1.0294117647058822|            1190|   451.56641577107774|        464.84778094081554|            1.0526315789473684|                       20|    0.038558159993533216|               537364.03|                2021-03-17|               2022-10-17|                     19.0|                947|               794.3155462184874|         1965.4752100840335|43.044117647058826|2.4636722689075627| 0.35884804850322094|               1.2565997888067582|  retail_and_novelty|13595.309805258918|\n",
      "| 53062283717|Mi Felis Adipisci...|            b| 3.930000066757202|                               0.0|                      3180|              0.056881791194774385|                       288|                      1.0943396226415094|            3480|   404.68158740832996|         442.8590956543988|                           9.0|                      180|       4.047480465640923|              1408291.92|                2021-02-28|               2022-10-07|              19.32258065|               1869|               789.2718390804598|         1973.5629310344827|42.969971264367814| 2.460109195402298|  0.7082228116710876|               1.8619582664526484|  retail_and_novelty| 55345.87339613628|\n",
      "| 70033549200|       Mus Proin LLP|            b|  4.78000020980835|                               0.0|                      5733|                0.1876041147172439|                       904|                      1.1733821733821734|            6727|     690.049177829105|         809.6914040216973|                         17.75|                      355|       1.197403494563042|              4641960.82|                2021-02-28|               2022-10-07|              19.32258065|               2344|               791.2695852534562|         1979.9872900252712|   43.034116247956|2.4596209305782666|  0.8882152330428192|               2.8698805460750854|garden_and_furnis...| 221885.7369352214|\n",
      "| 82539239304|           Vitae Ltd|            d| 1.059999942779541|                               0.0|                      1410|              0.035160276585154825|                        51|                      1.0368794326241135|            1462|   215.26720306831618|        223.20613538005554|            0.2631578947368421|                        5|    0.046607595959769356|               314720.65|                2021-03-23|               2022-10-01|              18.29032258|               1086|               798.2534199726402|         1991.9196306429549| 42.87722298221614|2.4608823529411765|  0.4115195149677908|               1.3462246777163904|specialized_services|   3336.0387099154|\n",
      "| 50506553485|Dictum Cursus Nun...|            a| 6.050000190734863|                               0.0|                       739|               0.08926431080580699|                        17|                      1.0230040595399188|             756|    744.5516641077937|         761.6793749194754|                           1.7|                       34|      0.5500020187190067|               562881.06|                2021-02-28|               2022-10-26|              19.93548387|                646|               767.1686507936508|         1935.3068783068784| 43.48743386243386|2.4459656084656083| 0.24478969306555515|               1.1702786377708978|  retail_and_novelty| 34054.30520361042|\n",
      "| 18126169589|           Elit A PC|            c|1.6200000047683716|                               0.0|                       178|                               0.0|                         0|                                     1.0|             178|   154.50981086413952|        154.50981086413952|           0.21052631578947367|                        4|     0.21109095582779794|                27502.75|                2021-03-16|               2022-10-02|               18.5483871|                171|               792.8876404494382|         2022.5140449438202|  43.2752808988764|2.4442134831460676| 0.06479727169382342|                 1.04093567251462|garden_and_furnis...|445.54455131143334|\n",
      "| 57937788884|        In Felis Ltd|            c| 2.869999885559082|                               0.0|                        85|                               0.0|                         0|                                     1.0|              85|    640.2817881922438|          640.281788192244|           -0.2631578947368421|                       -5|     0.24425647451963242|                54423.95|                2021-03-03|               2022-10-22|              19.61290323|                 84|               796.4764705882353|         1969.1529411764707| 42.61764705882353|2.4595294117647057| 0.03183023872679045|               1.0119047619047619|  retail_and_novelty| 1561.967302716732|\n",
      "| 74309678848|Integer Vitae Nib...|            a|  5.71999979019165|                               0.0|                       263|                               0.0|                         0|                                     1.0|             263|    594.0774024319771|          594.077402431977|                          0.85|                       17|      0.8480070170627446|               156242.36|                2021-02-28|               2022-10-17|              19.64516129|                252|               804.8498098859316|          1969.768060836502|42.946768060836504|2.4792395437262362| 0.09549071618037135|               1.0436507936507937|tech_and_electronics| 8937.062664190482|\n",
      "| 24976666868|Duis Dignissim In...|            a| 5.760000228881836|                               0.0|                        77|                1.7628290964339464|                         1|                      1.0129870129870129|              78|    1895.952157411747|        1920.5749127028091|            0.2777777777777778|                        5|      0.2613756613756613|               147884.27|                2021-03-11|               2022-10-15|              19.12903226|                 76|               821.5576923076923|         1991.1538461538462|42.333333333333336|2.4396153846153847|0.028798787419477074|               1.0263157894736843|  retail_and_novelty| 8518.134290480231|\n",
      "| 57082085511|     Euismod Est Ltd|            a| 5.639999866485596|                               0.0|                       225|                0.5945908215234659|                         1|                      1.0044444444444445|             226|   1197.7975102238358|        1203.1210547137198|            0.2631578947368421|                        5|      0.0824901706480654|               270702.24|                2021-03-01|               2022-10-21|              19.64516129|                218|               774.3650442477876|         1958.5685840707965| 42.96017699115044|2.4908407079646016|  0.0826070481242895|                1.036697247706422|garden_and_furnis...|15267.605974573517|\n",
      "| 68889885215|Faucibus Lectus A...|            c|2.2100000381469727|                               0.0|                        64|               0.17371263891235483|                         0|                                     1.0|              64|   174.27019339399794|         174.2701933939979|           0.11764705882352941|                        2|      0.4477124183006536|                11153.29|                2021-03-24|               2022-09-22|              17.93548387|                 64|                       809.15625|                1956.296875|          43.09375|2.4443749999999995| 0.02425161045850701|                              1.0|  retail_and_novelty| 246.4877132546425|\n",
      "| 88935026131|Morbi Neque Assoc...|            c|2.4200000762939453|                               0.0|                        29|                0.9886770994240739|                         0|                                     1.0|              29|   1476.7011713559068|         1476.701171355907|          -0.07142857142857142|                       -1|      0.3404761904761905|                42824.33|                2021-04-11|               2022-10-21|              18.32258065|                 29|               884.4137931034483|         2091.9137931034484|41.775862068965516|2.3741379310344826| 0.01098901098901099|                              1.0|garden_and_furnis...| 1036.348818672371|\n",
      "| 99445005261|Nibh Vulputate In...|            b| 4.860000133514404|                               0.0|                        50|                               0.0|                         0|                                     1.0|              50|   340.93250888414855|         340.9325088841485|                          0.25|                        4|     0.43437499999999996|                17046.63|                2021-04-01|               2022-09-03|              17.06451613|                 50|                          787.82|                    1954.47|             42.53|            2.4732|0.018946570670708603|                              1.0|garden_and_furnis...| 828.4662407597065|\n",
      "| 88299699256|Et Ultrices Posue...|            a|              6.75|                               0.0|                        40|                               0.0|                         0|                                     1.0|              40|    432.1277627925614|         432.1277627925614|                           0.0|                        0|     0.30000000000000004|                17285.11|                2021-03-09|               2022-10-10|              19.03225806|                 40|                          805.15|                    2038.55|           42.8875|2.5207500000000005|0.015157256536566882|                              1.0|garden_and_furnis...|1166.7449250000002|\n",
      "| 84478592825|Ac Orci Ut Founda...|            c| 3.049999952316284|                               0.0|                        14|                 1.491129193500184|                         0|                                     1.0|              14|   1511.2388505446902|          1511.23885054469|            0.2857142857142857|                        2|     0.38095238095238093|                21157.34|                2021-08-06|               2022-10-02|              13.87096774|                 14|               797.3571428571429|          2038.607142857143|39.285714285714285|2.5407142857142864|0.005305039787798408|                              1.0|  retail_and_novelty| 645.2988599113942|\n",
      "| 33854504524| Felis Purus Limited|            b| 4.619999885559082|                               0.0|                        43|               0.24923617592299455|                         0|                                     1.0|              43|     873.592374363359|         873.5923743633593|           0.05555555555555555|                        1|     0.22685185185185178|                37564.47|                2021-03-05|               2022-10-25|              19.64516129|                 42|               852.8023255813954|         1992.7558139534883| 41.55813953488372|2.5358139534883724|0.015915119363395226|               1.0238095238095237|  retail_and_novelty|1735.4784710108756|\n",
      "| 81471697088|Torquent Per Inco...|            a| 6.389999866485596|                               0.0|                        82|                               0.0|                         0|                                     1.0|              82|   343.19226725133353|         343.1922672513335|           0.15789473684210525|                        3|      0.3879072681704261|                28141.77|                2021-03-18|               2022-10-04|               18.5483871|                 82|               790.2073170731708|         1962.0731707317073| 42.73170731707317|2.4573170731707314|0.031072375899962108|                              1.0|  retail_and_novelty|1798.2590654266835|\n",
      "+------------+--------------------+-------------+------------------+----------------------------------+--------------------------+----------------------------------+--------------------------+----------------------------------------+----------------+---------------------+--------------------------+------------------------------+-------------------------+------------------------+------------------------+--------------------------+-------------------------+-------------------------+-------------------+--------------------------------+---------------------------+------------------+------------------+--------------------+---------------------------------+--------------------+------------------+\n",
      "only showing top 20 rows\n",
      "\n"
     ]
    }
   ],
   "source": [
    "joined.show()"
   ]
  },
  {
   "cell_type": "code",
   "execution_count": 7,
   "metadata": {},
   "outputs": [
    {
     "data": {
      "text/html": [
       "<table border='1'>\n",
       "<tr><th>summary</th><th>average_cost_of_order</th></tr>\n",
       "<tr><td>count</td><td>3965</td></tr>\n",
       "<tr><td>mean</td><td>966.2920798744659</td></tr>\n",
       "<tr><td>stddev</td><td>2205.253354979304</td></tr>\n",
       "<tr><td>min</td><td>7.5790717564896335</td></tr>\n",
       "<tr><td>max</td><td>28754.635212595258</td></tr>\n",
       "</table>\n"
      ],
      "text/plain": [
       "+-------+---------------------+\n",
       "|summary|average_cost_of_order|\n",
       "+-------+---------------------+\n",
       "|  count|                 3965|\n",
       "|   mean|    966.2920798744659|\n",
       "| stddev|    2205.253354979304|\n",
       "|    min|   7.5790717564896335|\n",
       "|    max|   28754.635212595258|\n",
       "+-------+---------------------+"
      ]
     },
     "execution_count": 7,
     "metadata": {},
     "output_type": "execute_result"
    }
   ],
   "source": [
    "joined.select(\"average_cost_of_order\").describe()"
   ]
  },
  {
   "cell_type": "code",
   "execution_count": 6,
   "metadata": {},
   "outputs": [
    {
     "name": "stderr",
     "output_type": "stream",
     "text": [
      "                                                                                \r"
     ]
    },
    {
     "data": {
      "text/html": [
       "<table border='1'>\n",
       "<tr><th>summary</th><th>number_of_unique_consumers</th></tr>\n",
       "<tr><td>count</td><td>3965</td></tr>\n",
       "<tr><td>mean</td><td>1717.6534678436317</td></tr>\n",
       "<tr><td>stddev</td><td>3254.9274012569444</td></tr>\n",
       "<tr><td>min</td><td>4</td></tr>\n",
       "<tr><td>max</td><td>20115</td></tr>\n",
       "</table>\n"
      ],
      "text/plain": [
       "+-------+--------------------------+\n",
       "|summary|number_of_unique_consumers|\n",
       "+-------+--------------------------+\n",
       "|  count|                      3965|\n",
       "|   mean|        1717.6534678436317|\n",
       "| stddev|        3254.9274012569444|\n",
       "|    min|                         4|\n",
       "|    max|                     20115|\n",
       "+-------+--------------------------+"
      ]
     },
     "execution_count": 6,
     "metadata": {},
     "output_type": "execute_result"
    }
   ],
   "source": [
    "joined.select(\"number_of_unique_consumers\").describe()"
   ]
  },
  {
   "cell_type": "code",
   "execution_count": 7,
   "metadata": {},
   "outputs": [
    {
     "data": {
      "text/html": [
       "<table border='1'>\n",
       "<tr><th>summary</th><th>number_of_repeat_consumers</th></tr>\n",
       "<tr><td>count</td><td>3965</td></tr>\n",
       "<tr><td>mean</td><td>468.66027742749054</td></tr>\n",
       "<tr><td>stddev</td><td>1937.7782868661402</td></tr>\n",
       "<tr><td>min</td><td>0</td></tr>\n",
       "<tr><td>max</td><td>20113</td></tr>\n",
       "</table>\n"
      ],
      "text/plain": [
       "+-------+--------------------------+\n",
       "|summary|number_of_repeat_consumers|\n",
       "+-------+--------------------------+\n",
       "|  count|                      3965|\n",
       "|   mean|        468.66027742749054|\n",
       "| stddev|        1937.7782868661402|\n",
       "|    min|                         0|\n",
       "|    max|                     20113|\n",
       "+-------+--------------------------+"
      ]
     },
     "execution_count": 7,
     "metadata": {},
     "output_type": "execute_result"
    }
   ],
   "source": [
    "joined.select(\"number_of_repeat_consumers\").describe()"
   ]
  },
  {
   "cell_type": "code",
   "execution_count": 8,
   "metadata": {},
   "outputs": [
    {
     "data": {
      "text/html": [
       "<table border='1'>\n",
       "<tr><th>summary</th><th>number_of_postcodes</th></tr>\n",
       "<tr><td>count</td><td>3965</td></tr>\n",
       "<tr><td>mean</td><td>739.2691046658259</td></tr>\n",
       "<tr><td>stddev</td><td>838.1174200278368</td></tr>\n",
       "<tr><td>min</td><td>3</td></tr>\n",
       "<tr><td>max</td><td>2639</td></tr>\n",
       "</table>\n"
      ],
      "text/plain": [
       "+-------+-------------------+\n",
       "|summary|number_of_postcodes|\n",
       "+-------+-------------------+\n",
       "|  count|               3965|\n",
       "|   mean|  739.2691046658259|\n",
       "| stddev|  838.1174200278368|\n",
       "|    min|                  3|\n",
       "|    max|               2639|\n",
       "+-------+-------------------+"
      ]
     },
     "execution_count": 8,
     "metadata": {},
     "output_type": "execute_result"
    }
   ],
   "source": [
    "joined.select(\"number_of_postcodes\").describe()"
   ]
  },
  {
   "cell_type": "markdown",
   "metadata": {},
   "source": [
    "Pie Chart for number of merchants within a segment"
   ]
  },
  {
   "cell_type": "code",
   "execution_count": 13,
   "metadata": {},
   "outputs": [],
   "source": [
    "segments = joined.groupBy(\"segment\").agg(f.count(\"merchant_abn\").alias(\"num_merchants\"))\n",
    "segments = segments.toPandas()"
   ]
  },
  {
   "cell_type": "code",
   "execution_count": 14,
   "metadata": {},
   "outputs": [
    {
     "data": {
      "text/plain": [
       "0    garden_and_furnishings\n",
       "1    antiques_and_jewellery\n",
       "2      specialized_services\n",
       "3      tech_and_electronics\n",
       "4        retail_and_novelty\n",
       "Name: segment, dtype: object"
      ]
     },
     "execution_count": 14,
     "metadata": {},
     "output_type": "execute_result"
    }
   ],
   "source": [
    "segments[\"segment\"]"
   ]
  },
  {
   "cell_type": "code",
   "execution_count": 17,
   "metadata": {},
   "outputs": [],
   "source": [
    "segments_lst = [\"Garden and Furniture\", \"Antiques and Jewellery\", \"Specialized Services\",\n",
    "                \"Tech and Electronics\", \"Retail and Novelty\"]\n",
    "merchant_num_lst = list(segments[\"num_merchants\"])"
   ]
  },
  {
   "cell_type": "code",
   "execution_count": 48,
   "metadata": {},
   "outputs": [
    {
     "data": {
      "image/png": "[encoded data removed]",
      "text/plain": [
       "<Figure size 640x480 with 1 Axes>"
      ]
     },
     "metadata": {},
     "output_type": "display_data"
    }
   ],
   "source": [
    "plt.figure(facecolor= \"#ccdadd\")\n",
    "color_palette = sns.color_palette(\"blend:#7AB,#EDA\")\n",
    "plt.pie(merchant_num_lst, labels = segments_lst, colors=color_palette, autopct=\"%.0f%%\",\n",
    "        textprops={'color': \"#3b4852\"})\n",
    "plt.title(\"Merchant in Each Segement\")\n",
    "plt.savefig(\"../../../plots/segementspieplot.png\", bbox_inches='tight')\n",
    "plt.show()"
   ]
  }
 ],
 "metadata": {
  "kernelspec": {
   "display_name": "Python 3",
   "language": "python",
   "name": "python3"
  },
  "language_info": {
   "codemirror_mode": {
    "name": "ipython",
    "version": 3
   },
   "file_extension": ".py",
   "mimetype": "text/x-python",
   "name": "python",
   "nbconvert_exporter": "python",
   "pygments_lexer": "ipython3",
   "version": "3.10.12"
  },
  "orig_nbformat": 4
 },
 "nbformat": 4,
 "nbformat_minor": 2
}
