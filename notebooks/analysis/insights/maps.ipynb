{
 "cells": [
  {
   "cell_type": "markdown",
   "metadata": {},
   "source": [
    "This notebook does XXX"
   ]
  },
  {
   "cell_type": "code",
   "execution_count": 15,
   "metadata": {},
   "outputs": [],
   "source": [
    "# for importing and reading the zipfile shapefile\n",
    "import requests\n",
    "import zipfile\n",
    "import io\n",
    "import os\n",
    "\n",
    "# for maps\n",
    "import geopandas as gpd\n",
    "import folium\n",
    "\n",
    "# for processing the large parque files via Apache Spark\n",
    "from IPython.display import display\n",
    "from pyspark.sql import SparkSession\n",
    "from pyspark.sql.functions import col, avg\n",
    "from scipy import stats"
   ]
  },
  {
   "cell_type": "code",
   "execution_count": 2,
   "metadata": {},
   "outputs": [
    {
     "name": "stderr",
     "output_type": "stream",
     "text": [
      "Setting default log level to \"WARN\".\n",
      "To adjust logging level use sc.setLogLevel(newLevel). For SparkR, use setLogLevel(newLevel).\n",
      "23/09/10 21:23:43 WARN NativeCodeLoader: Unable to load native-hadoop library for your platform... using builtin-java classes where applicable\n"
     ]
    }
   ],
   "source": [
    "# Create a spark session\n",
    "spark = (\n",
    "    SparkSession.builder.appName(\"maps\")\n",
    "    .config(\"spark.sql.repl.eagerEval.enabled\", True)\n",
    "    .config(\"spark.sql.parquet.cacheMetadata\", \"true\")\n",
    "    .config(\"spark.sql.session.timeZone\", \"Etc/UTC\")\n",
    "    .config('spark.driver.memory', '4g')\n",
    "    .config('spark.executor.memory', '2g')\n",
    "    .getOrCreate()\n",
    ")"
   ]
  },
  {
   "cell_type": "code",
   "execution_count": 3,
   "metadata": {},
   "outputs": [],
   "source": [
    "# URL where the zipfile of the shapefiles are stored on the ABS website\n",
    "zip_file_url = \"https://www.abs.gov.au/statistics/standards/australian-statistical-geography-standard-asgs-edition-3/jul2021-jun2026/access-and-downloads/digital-boundary-files/POA_2021_AUST_GDA94_SHP.zip\"\n",
    "r = requests.get(zip_file_url)\n",
    "z = zipfile.ZipFile(io.BytesIO(r.content))\n",
    "\n",
    "# output directory, making sure it exists\n",
    "dir = \"../../../data/postcode_shapefiles\"\n",
    "os.makedirs(dir)\n",
    "\n",
    "# writing data into directory\n",
    "z.extractall(dir)"
   ]
  },
  {
   "cell_type": "code",
   "execution_count": 4,
   "metadata": {},
   "outputs": [
    {
     "data": {
      "text/html": [
       "<div>\n",
       "<style scoped>\n",
       "    .dataframe tbody tr th:only-of-type {\n",
       "        vertical-align: middle;\n",
       "    }\n",
       "\n",
       "    .dataframe tbody tr th {\n",
       "        vertical-align: top;\n",
       "    }\n",
       "\n",
       "    .dataframe thead th {\n",
       "        text-align: right;\n",
       "    }\n",
       "</style>\n",
       "<table border=\"1\" class=\"dataframe\">\n",
       "  <thead>\n",
       "    <tr style=\"text-align: right;\">\n",
       "      <th></th>\n",
       "      <th>POA_CODE21</th>\n",
       "      <th>AREASQKM21</th>\n",
       "      <th>geometry</th>\n",
       "    </tr>\n",
       "  </thead>\n",
       "  <tbody>\n",
       "    <tr>\n",
       "      <th>0</th>\n",
       "      <td>0800</td>\n",
       "      <td>3.1731</td>\n",
       "      <td>POLYGON ((130.83680 -12.45378, 130.83683 -12.4...</td>\n",
       "    </tr>\n",
       "    <tr>\n",
       "      <th>1</th>\n",
       "      <td>0810</td>\n",
       "      <td>24.4283</td>\n",
       "      <td>POLYGON ((130.89985 -12.36568, 130.89874 -12.3...</td>\n",
       "    </tr>\n",
       "    <tr>\n",
       "      <th>2</th>\n",
       "      <td>0812</td>\n",
       "      <td>35.8899</td>\n",
       "      <td>POLYGON ((130.91914 -12.40788, 130.91830 -12.4...</td>\n",
       "    </tr>\n",
       "    <tr>\n",
       "      <th>3</th>\n",
       "      <td>0820</td>\n",
       "      <td>39.0642</td>\n",
       "      <td>POLYGON ((130.85260 -12.43995, 130.85088 -12.4...</td>\n",
       "    </tr>\n",
       "    <tr>\n",
       "      <th>4</th>\n",
       "      <td>0822</td>\n",
       "      <td>150775.8030</td>\n",
       "      <td>MULTIPOLYGON (((136.56647 -12.08393, 136.56703...</td>\n",
       "    </tr>\n",
       "  </tbody>\n",
       "</table>\n",
       "</div>"
      ],
      "text/plain": [
       "  POA_CODE21   AREASQKM21                                           geometry\n",
       "0       0800       3.1731  POLYGON ((130.83680 -12.45378, 130.83683 -12.4...\n",
       "1       0810      24.4283  POLYGON ((130.89985 -12.36568, 130.89874 -12.3...\n",
       "2       0812      35.8899  POLYGON ((130.91914 -12.40788, 130.91830 -12.4...\n",
       "3       0820      39.0642  POLYGON ((130.85260 -12.43995, 130.85088 -12.4...\n",
       "4       0822  150775.8030  MULTIPOLYGON (((136.56647 -12.08393, 136.56703..."
      ]
     },
     "execution_count": 4,
     "metadata": {},
     "output_type": "execute_result"
    }
   ],
   "source": [
    "sf = gpd.read_file(\"../../../data/postcode_shapefiles/POA_2021_AUST_GDA94.shp\")\n",
    "\n",
    "cols_to_remove = ['POA_NAME21', 'AUS_CODE21', 'AUS_NAME21', 'LOCI_URI21', 'SHAPE_Leng', 'SHAPE_Area']\n",
    "sf = sf.drop(columns=cols_to_remove)\n",
    "\n",
    "sf.head()"
   ]
  },
  {
   "cell_type": "code",
   "execution_count": 5,
   "metadata": {},
   "outputs": [],
   "source": [
    "geoJSON = sf[['POA_CODE21', 'geometry']].drop_duplicates('POA_CODE21').to_json()"
   ]
  },
  {
   "cell_type": "code",
   "execution_count": 6,
   "metadata": {},
   "outputs": [
    {
     "name": "stderr",
     "output_type": "stream",
     "text": [
      "                                                                                \r"
     ]
    },
    {
     "name": "stdout",
     "output_type": "stream",
     "text": [
      "+-----------------+--------------+-----------------------------+----------------------------+--------------------+----------------------------+--------------------------------------+----------------------------+-----------------------------------------------+-----------------------------------------------+------------------------------------+-------------------------------------------+------------------------------------------+-------------------------------------------+------------------------------------+\n",
      "|consumer_postcode|consumer_state|transaction_dollar_value_$AUD|consumer_fraud_probability_%|merchant_take_rate_%|merchant_fraud_probability_%|consumer_postcode_estimated_population|consumer_postcode_median_age|consumer_postcode_median_mortgage_repay_monthly|consumer_postcode_median_totl_prsnal_inc_weekly|consumer_postcode_median_rent_weekly|consumer_postcode_median_tot_fam_inc_weekly|consumer_postcode_avg_num_psns_per_bedroom|consumer_postcode_median_tot_hhd_inc_weekly|consumer_postcode_avg_household_size|\n",
      "+-----------------+--------------+-----------------------------+----------------------------+--------------------+----------------------------+--------------------------------------+----------------------------+-----------------------------------------------+-----------------------------------------------+------------------------------------+-------------------------------------------+------------------------------------------+-------------------------------------------+------------------------------------+\n",
      "|             3332|           VIC|                         0.27|                         0.0|                 6.1|                         0.0|                                8074.0|                        40.0|                                         1733.0|                                          780.0|                               308.0|                                     2103.0|                                       0.8|                                     1898.0|                                 2.9|\n",
      "|             3332|           VIC|                          8.2|                         0.0|                6.98|                         0.0|                                8074.0|                        40.0|                                         1733.0|                                          780.0|                               308.0|                                     2103.0|                                       0.8|                                     1898.0|                                 2.9|\n",
      "|             3332|           VIC|                        10.07|                         0.0|                6.94|                         0.0|                                8074.0|                        40.0|                                         1733.0|                                          780.0|                               308.0|                                     2103.0|                                       0.8|                                     1898.0|                                 2.9|\n",
      "|             3332|           VIC|                       546.68|                         0.0|                2.61|                         0.0|                                8074.0|                        40.0|                                         1733.0|                                          780.0|                               308.0|                                     2103.0|                                       0.8|                                     1898.0|                                 2.9|\n",
      "|             3332|           VIC|                        57.54|                         0.0|                2.46|                         0.0|                                8074.0|                        40.0|                                         1733.0|                                          780.0|                               308.0|                                     2103.0|                                       0.8|                                     1898.0|                                 2.9|\n",
      "|             3332|           VIC|                         6.25|                         0.0|                5.73|                         0.0|                                8074.0|                        40.0|                                         1733.0|                                          780.0|                               308.0|                                     2103.0|                                       0.8|                                     1898.0|                                 2.9|\n",
      "|             3332|           VIC|                         0.14|                         0.0|                5.65|                         0.0|                                8074.0|                        40.0|                                         1733.0|                                          780.0|                               308.0|                                     2103.0|                                       0.8|                                     1898.0|                                 2.9|\n",
      "|             3332|           VIC|                       234.76|                         0.0|                6.35|                         0.0|                                8074.0|                        40.0|                                         1733.0|                                          780.0|                               308.0|                                     2103.0|                                       0.8|                                     1898.0|                                 2.9|\n",
      "|             3332|           VIC|                        84.23|                         0.0|                5.05|                         0.0|                                8074.0|                        40.0|                                         1733.0|                                          780.0|                               308.0|                                     2103.0|                                       0.8|                                     1898.0|                                 2.9|\n",
      "|             3332|           VIC|                        20.03|                         0.0|                6.61|                         0.0|                                8074.0|                        40.0|                                         1733.0|                                          780.0|                               308.0|                                     2103.0|                                       0.8|                                     1898.0|                                 2.9|\n",
      "|             3332|           VIC|                       211.31|                     17.6987|                3.37|                         0.0|                                8074.0|                        40.0|                                         1733.0|                                          780.0|                               308.0|                                     2103.0|                                       0.8|                                     1898.0|                                 2.9|\n",
      "|             3332|           VIC|                         4.04|                         0.0|                2.94|                         0.0|                                8074.0|                        40.0|                                         1733.0|                                          780.0|                               308.0|                                     2103.0|                                       0.8|                                     1898.0|                                 2.9|\n",
      "|             3332|           VIC|                       203.47|                         0.0|                6.71|                         0.0|                                8074.0|                        40.0|                                         1733.0|                                          780.0|                               308.0|                                     2103.0|                                       0.8|                                     1898.0|                                 2.9|\n",
      "|             3332|           VIC|                        27.53|                         0.0|                3.12|                         0.0|                                8074.0|                        40.0|                                         1733.0|                                          780.0|                               308.0|                                     2103.0|                                       0.8|                                     1898.0|                                 2.9|\n",
      "|             3332|           VIC|                      2004.36|                         0.0|                6.33|                         0.0|                                8074.0|                        40.0|                                         1733.0|                                          780.0|                               308.0|                                     2103.0|                                       0.8|                                     1898.0|                                 2.9|\n",
      "|             3332|           VIC|                       372.67|                         0.0|                5.91|                         0.0|                                8074.0|                        40.0|                                         1733.0|                                          780.0|                               308.0|                                     2103.0|                                       0.8|                                     1898.0|                                 2.9|\n",
      "|             3332|           VIC|                        29.65|                         0.0|                3.36|                         0.0|                                8074.0|                        40.0|                                         1733.0|                                          780.0|                               308.0|                                     2103.0|                                       0.8|                                     1898.0|                                 2.9|\n",
      "|             3332|           VIC|                        31.64|                         0.0|                6.01|                         0.0|                                8074.0|                        40.0|                                         1733.0|                                          780.0|                               308.0|                                     2103.0|                                       0.8|                                     1898.0|                                 2.9|\n",
      "|             3332|           VIC|                         28.3|                         0.0|                1.47|                         0.0|                                8074.0|                        40.0|                                         1733.0|                                          780.0|                               308.0|                                     2103.0|                                       0.8|                                     1898.0|                                 2.9|\n",
      "|             3332|           VIC|                        21.05|                         0.0|                6.39|                         0.0|                                8074.0|                        40.0|                                         1733.0|                                          780.0|                               308.0|                                     2103.0|                                       0.8|                                     1898.0|                                 2.9|\n",
      "+-----------------+--------------+-----------------------------+----------------------------+--------------------+----------------------------+--------------------------------------+----------------------------+-----------------------------------------------+-----------------------------------------------+------------------------------------+-------------------------------------------+------------------------------------------+-------------------------------------------+------------------------------------+\n",
      "only showing top 20 rows\n",
      "\n"
     ]
    }
   ],
   "source": [
    "path = \"../../../data/curated/all_data_combined.parquet\"\n",
    "data = spark.read.parquet(path)\n",
    "\n",
    "cols_to_remove = ['merchant_abn','order_datetime', 'user_id', 'consumer_id', 'consumer_name', 'consumer_gender', 'merchant_name', 'merchant_description', 'merchant_revenue_level']\n",
    "\n",
    "data = data.drop(*cols_to_remove)\n",
    "data.show()"
   ]
  },
  {
   "cell_type": "code",
   "execution_count": 7,
   "metadata": {},
   "outputs": [
    {
     "name": "stderr",
     "output_type": "stream",
     "text": [
      "                                                                                \r"
     ]
    },
    {
     "data": {
      "text/html": [
       "<table border='1'>\n",
       "<tr><th>consumer_postcode</th><th>median_weekly_income</th><th>postcode_population</th><th>mean_transaction_dollar_value</th><th>num_transactions</th></tr>\n",
       "<tr><td>6721</td><td>1821.0</td><td>5384.0</td><td>145.96947182059586</td><td>3389</td></tr>\n",
       "<tr><td>3091</td><td>950.0</td><td>9521.0</td><td>158.8689708050722</td><td>3391</td></tr>\n",
       "<tr><td>2040</td><td>1459.5</td><td>15750.0</td><td>154.56176748303332</td><td>3389</td></tr>\n",
       "<tr><td>3764</td><td>837.0</td><td>10330.0</td><td>161.68478065899777</td><td>5129</td></tr>\n",
       "<tr><td>2250</td><td>772.5</td><td>9290.0</td><td>163.44781158572258</td><td>5127</td></tr>\n",
       "<tr><td>2214</td><td>797.0</td><td>11375.0</td><td>167.46177025963812</td><td>5084</td></tr>\n",
       "<tr><td>3061</td><td>437.0</td><td>16245.0</td><td>157.15832671957668</td><td>4536</td></tr>\n",
       "<tr><td>3280</td><td>760.0</td><td>22470.0</td><td>149.8647826941985</td><td>5085</td></tr>\n",
       "<tr><td>2173</td><td>1027.0</td><td>21301.0</td><td>153.2518363717207</td><td>4498</td></tr>\n",
       "<tr><td>6424</td><td>853.0</td><td>3090.0</td><td>162.03576648841366</td><td>4488</td></tr>\n",
       "</table>\n"
      ],
      "text/plain": [
       "+-----------------+--------------------+-------------------+-----------------------------+----------------+\n",
       "|consumer_postcode|median_weekly_income|postcode_population|mean_transaction_dollar_value|num_transactions|\n",
       "+-----------------+--------------------+-------------------+-----------------------------+----------------+\n",
       "|             6721|              1821.0|             5384.0|           145.96947182059586|            3389|\n",
       "|             3091|               950.0|             9521.0|            158.8689708050722|            3391|\n",
       "|             2040|              1459.5|            15750.0|           154.56176748303332|            3389|\n",
       "|             3764|               837.0|            10330.0|           161.68478065899777|            5129|\n",
       "|             2250|               772.5|             9290.0|           163.44781158572258|            5127|\n",
       "|             2214|               797.0|            11375.0|           167.46177025963812|            5084|\n",
       "|             3061|               437.0|            16245.0|           157.15832671957668|            4536|\n",
       "|             3280|               760.0|            22470.0|            149.8647826941985|            5085|\n",
       "|             2173|              1027.0|            21301.0|            153.2518363717207|            4498|\n",
       "|             6424|               853.0|             3090.0|           162.03576648841366|            4488|\n",
       "+-----------------+--------------------+-------------------+-----------------------------+----------------+"
      ]
     },
     "execution_count": 7,
     "metadata": {},
     "output_type": "execute_result"
    }
   ],
   "source": [
    "map_data = data[['consumer_postcode', 'transaction_dollar_value_$AUD', 'consumer_postcode_median_totl_prsnal_inc_weekly', 'consumer_postcode_estimated_population']] \\\n",
    "\t\t\t\t  .groupby('consumer_postcode') \\\n",
    "\t\t\t\t  .agg(\n",
    "\t\t\t\t\t  {\n",
    "\t\t\t\t\t\t  'transaction_dollar_value_$AUD': 'avg', # average transaction size\n",
    "\t\t\t\t\t\t  'consumer_postcode_median_totl_prsnal_inc_weekly': 'min', # gets median from each postcode\n",
    "\t\t\t\t\t\t  'consumer_postcode': 'count', # numnber of transactions per postcode\n",
    "\t\t\t\t\t\t  'consumer_postcode_estimated_population': 'min' # est pop per postcode\n",
    "\n",
    "\t\t\t\t\t  }\n",
    "\t\t\t\t  )\n",
    "\n",
    "# renaming the coloumns\n",
    "map_data  = map_data .withColumnRenamed('avg(transaction_dollar_value_$AUD)', 'mean_transaction_dollar_value')\n",
    "map_data  = map_data .withColumnRenamed('min(consumer_postcode_median_totl_prsnal_inc_weekly)', 'median_weekly_income')\n",
    "map_data  = map_data .withColumnRenamed('count(consumer_postcode)', 'num_transactions')\n",
    "map_data  = map_data .withColumnRenamed('min(consumer_postcode_estimated_population)', 'postcode_population')\n",
    "\n",
    "map_data .limit(10)"
   ]
  },
  {
   "cell_type": "code",
   "execution_count": 24,
   "metadata": {},
   "outputs": [
    {
     "name": "stderr",
     "output_type": "stream",
     "text": [
      "[Stage 14:>                                                         (0 + 8) / 9]\r"
     ]
    },
    {
     "name": "stdout",
     "output_type": "stream",
     "text": [
      "(2639, 7)\n"
     ]
    },
    {
     "name": "stderr",
     "output_type": "stream",
     "text": [
      "                                                                                \r"
     ]
    },
    {
     "data": {
      "text/html": [
       "<div>\n",
       "<style scoped>\n",
       "    .dataframe tbody tr th:only-of-type {\n",
       "        vertical-align: middle;\n",
       "    }\n",
       "\n",
       "    .dataframe tbody tr th {\n",
       "        vertical-align: top;\n",
       "    }\n",
       "\n",
       "    .dataframe thead th {\n",
       "        text-align: right;\n",
       "    }\n",
       "</style>\n",
       "<table border=\"1\" class=\"dataframe\">\n",
       "  <thead>\n",
       "    <tr style=\"text-align: right;\">\n",
       "      <th></th>\n",
       "      <th>consumer_postcode</th>\n",
       "      <th>median_weekly_income</th>\n",
       "      <th>postcode_population</th>\n",
       "      <th>mean_transaction_dollar_value</th>\n",
       "      <th>num_transactions</th>\n",
       "      <th>proportion_of_transaction_to_income</th>\n",
       "      <th>transactions_per_person</th>\n",
       "    </tr>\n",
       "  </thead>\n",
       "  <tbody>\n",
       "    <tr>\n",
       "      <th>0</th>\n",
       "      <td>6721</td>\n",
       "      <td>1821.0</td>\n",
       "      <td>5384.0</td>\n",
       "      <td>145.969472</td>\n",
       "      <td>3389</td>\n",
       "      <td>0.080159</td>\n",
       "      <td>0.629458</td>\n",
       "    </tr>\n",
       "    <tr>\n",
       "      <th>1</th>\n",
       "      <td>3091</td>\n",
       "      <td>950.0</td>\n",
       "      <td>9521.0</td>\n",
       "      <td>158.868971</td>\n",
       "      <td>3391</td>\n",
       "      <td>0.167230</td>\n",
       "      <td>0.356160</td>\n",
       "    </tr>\n",
       "    <tr>\n",
       "      <th>2</th>\n",
       "      <td>2040</td>\n",
       "      <td>1459.5</td>\n",
       "      <td>15750.0</td>\n",
       "      <td>154.561767</td>\n",
       "      <td>3389</td>\n",
       "      <td>0.105900</td>\n",
       "      <td>0.215175</td>\n",
       "    </tr>\n",
       "    <tr>\n",
       "      <th>3</th>\n",
       "      <td>3764</td>\n",
       "      <td>837.0</td>\n",
       "      <td>10330.0</td>\n",
       "      <td>161.684781</td>\n",
       "      <td>5129</td>\n",
       "      <td>0.193172</td>\n",
       "      <td>0.496515</td>\n",
       "    </tr>\n",
       "    <tr>\n",
       "      <th>4</th>\n",
       "      <td>2250</td>\n",
       "      <td>772.5</td>\n",
       "      <td>9290.0</td>\n",
       "      <td>163.447812</td>\n",
       "      <td>5127</td>\n",
       "      <td>0.211583</td>\n",
       "      <td>0.551884</td>\n",
       "    </tr>\n",
       "  </tbody>\n",
       "</table>\n",
       "</div>"
      ],
      "text/plain": [
       "   consumer_postcode  median_weekly_income  postcode_population  \\\n",
       "0               6721                1821.0               5384.0   \n",
       "1               3091                 950.0               9521.0   \n",
       "2               2040                1459.5              15750.0   \n",
       "3               3764                 837.0              10330.0   \n",
       "4               2250                 772.5               9290.0   \n",
       "\n",
       "   mean_transaction_dollar_value  num_transactions  \\\n",
       "0                     145.969472              3389   \n",
       "1                     158.868971              3391   \n",
       "2                     154.561767              3389   \n",
       "3                     161.684781              5129   \n",
       "4                     163.447812              5127   \n",
       "\n",
       "   proportion_of_transaction_to_income  transactions_per_person  \n",
       "0                             0.080159                 0.629458  \n",
       "1                             0.167230                 0.356160  \n",
       "2                             0.105900                 0.215175  \n",
       "3                             0.193172                 0.496515  \n",
       "4                             0.211583                 0.551884  "
      ]
     },
     "execution_count": 24,
     "metadata": {},
     "output_type": "execute_result"
    }
   ],
   "source": [
    "map_data  = map_data .withColumn(\n",
    "    'proportion_of_transaction_to_income',\n",
    "    col('mean_transaction_dollar_value') / col('median_weekly_income')\n",
    ")\n",
    "\n",
    "map_data  = map_data .withColumn(\n",
    "    'transactions_per_person',\n",
    "    col('num_transactions') / col('postcode_population')\n",
    ")\n",
    "\n",
    "map_data_pd = map_data .toPandas()\n",
    "print(map_data_pd.shape)\n",
    "map_data_pd.head()"
   ]
  },
  {
   "cell_type": "code",
   "execution_count": 25,
   "metadata": {},
   "outputs": [
    {
     "name": "stdout",
     "output_type": "stream",
     "text": [
      "Maximum: 1135.6666666666667\n",
      "Minimum: 0.02889841137123746\n",
      "Median: 0.48414830736163356\n",
      "Mean: 1.5604066032808772\n"
     ]
    }
   ],
   "source": [
    "max_value = map_data_pd['transactions_per_person'].max()\n",
    "\n",
    "min_value = map_data_pd['transactions_per_person'].min()\n",
    "\n",
    "median_value = map_data_pd['transactions_per_person'].median()\n",
    "\n",
    "mean_value = map_data_pd['transactions_per_person'].mean()\n",
    "\n",
    "# Print the results\n",
    "print(f\"Maximum: {max_value}\")\n",
    "print(f\"Minimum: {min_value}\")\n",
    "print(f\"Median: {median_value}\")\n",
    "print(f\"Mean: {mean_value}\")"
   ]
  },
  {
   "cell_type": "code",
   "execution_count": 37,
   "metadata": {},
   "outputs": [
    {
     "data": {
      "image/png": "[encoded data removed]",
      "text/plain": [
       "<Figure size 640x480 with 1 Axes>"
      ]
     },
     "metadata": {},
     "output_type": "display_data"
    }
   ],
   "source": [
    "import matplotlib.pyplot as plt\n",
    "map_data_pd['transactions_per_person'].plot(kind='box')\n",
    "plt.show()"
   ]
  },
  {
   "cell_type": "code",
   "execution_count": 39,
   "metadata": {},
   "outputs": [],
   "source": [
    "Q1 = map_data_pd['transactions_per_person'].quantile(0.25)\n",
    "Q3 = map_data_pd['transactions_per_person'].quantile(0.75)\n",
    "IQR = Q3 - Q1\n",
    "lower_bound = Q1 - 1.5 * IQR\n",
    "upper_bound = Q3 + 1.5 * IQR\n",
    "map_data_pd_no_outliers = map_data_pd[(map_data_pd['transactions_per_person'] >= lower_bound) & (map_data_pd['transactions_per_person'] <= upper_bound)]"
   ]
  },
  {
   "cell_type": "code",
   "execution_count": 40,
   "metadata": {},
   "outputs": [
    {
     "data": {
      "image/png": "[encoded data removed]",
      "text/plain": [
       "<Figure size 640x480 with 1 Axes>"
      ]
     },
     "metadata": {},
     "output_type": "display_data"
    }
   ],
   "source": [
    "map_data_pd_no_outliers['transactions_per_person'].plot(kind='box')\n",
    "plt.show()"
   ]
  },
  {
   "cell_type": "code",
   "execution_count": null,
   "metadata": {},
   "outputs": [],
   "source": [
    "map = folium.Map(location=[-27.7744, 133.7751], tiles=\"OpenStreetMap\", zoom_start=4)\n",
    "\n",
    "test = folium.Choropleth(\n",
    "\tgeo_data=geoJSON,\n",
    "\tname = 'choropleth',\n",
    "\tdata = map_data_pd_no_outliers,\n",
    "\tcolumns = [\"consumer_postcode\", \"transactions_per_person\"],\n",
    "\tkey_on = 'properties.POA_CODE21',\n",
    "\tfill_color = 'YlOrRd',\n",
    "\tnan_fill_color = 'black',\n",
    "\tlegend_name = \"Number of Transactions per person\"\n",
    ")\n",
    "\n",
    "test.add_to(map)\n",
    "\n",
    "# display(map)"
   ]
  },
  {
   "cell_type": "code",
   "execution_count": null,
   "metadata": {},
   "outputs": [],
   "source": []
  }
 ],
 "metadata": {
  "kernelspec": {
   "display_name": "base",
   "language": "python",
   "name": "python3"
  },
  "language_info": {
   "codemirror_mode": {
    "name": "ipython",
    "version": 3
   },
   "file_extension": ".py",
   "mimetype": "text/x-python",
   "name": "python",
   "nbconvert_exporter": "python",
   "pygments_lexer": "ipython3",
   "version": "3.9.13"
  },
  "orig_nbformat": 4
 },
 "nbformat": 4,
 "nbformat_minor": 2
}
