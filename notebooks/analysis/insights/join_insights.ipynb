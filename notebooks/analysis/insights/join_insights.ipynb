{
 "cells": [
  {
   "cell_type": "markdown",
   "metadata": {},
   "source": [
    "# Joining the Aggregated Data Together \n",
    "## Author: Dulan Wijeratne 1181873"
   ]
  },
  {
   "cell_type": "markdown",
   "metadata": {},
   "source": [
    "In this notebook we will join the previously aggregated data together. "
   ]
  },
  {
   "cell_type": "markdown",
   "metadata": {},
   "source": [
    "We will start by starting a spark session and then reading in the data."
   ]
  },
  {
   "cell_type": "code",
   "execution_count": 1,
   "metadata": {},
   "outputs": [],
   "source": [
    "from pyspark.sql import SparkSession, functions as f"
   ]
  },
  {
   "cell_type": "code",
   "execution_count": 2,
   "metadata": {},
   "outputs": [
    {
     "name": "stderr",
     "output_type": "stream",
     "text": [
      "your 131072x1 screen size is bogus. expect trouble\n",
      "23/09/29 22:38:52 WARN Utils: Your hostname, LAPTOP-RELH58H1 resolves to a loopback address: 127.0.1.1; using 172.19.22.4 instead (on interface eth0)\n",
      "23/09/29 22:38:52 WARN Utils: Set SPARK_LOCAL_IP if you need to bind to another address\n",
      "Setting default log level to \"WARN\".\n",
      "To adjust logging level use sc.setLogLevel(newLevel). For SparkR, use setLogLevel(newLevel).\n",
      "23/09/29 22:38:55 WARN NativeCodeLoader: Unable to load native-hadoop library for your platform... using builtin-java classes where applicable\n"
     ]
    }
   ],
   "source": [
    "spark = (\n",
    "    SparkSession.builder.appName(\"Preprocessing_Yellow\")\n",
    "    .config(\"spark.sql.repl.eagerEval.enabled\", True) \n",
    "    .config(\"spark.sql.parquet.cacheMetadata\", \"true\")\n",
    "    .config(\"spark.sql.session.timeZone\", \"Etc/UTC\")\n",
    "    .config(\"spark.sql.session.timeZone\", \"Etc/UTC\")\n",
    "    .config('spark.driver.memory', '3g')   \n",
    "    .config('spark.executor.memory', '4g')  \n",
    "    .config('spark.executor.instances', '2')  \n",
    "    .config('spark.executor.cores', '2')\n",
    "    .getOrCreate()\n",
    ")"
   ]
  },
  {
   "cell_type": "code",
   "execution_count": 3,
   "metadata": {},
   "outputs": [
    {
     "name": "stderr",
     "output_type": "stream",
     "text": [
      "                                                                                \r"
     ]
    }
   ],
   "source": [
    "merchant_agg = spark.read.parquet(\"../../../data/insights/agg_insight_data/merchant_agg.parquet/\")\n",
    "consumers_agg = spark.read.parquet(\"../../../data/insights/agg_insight_data/consumers_agg.parquet/\")\n",
    "orders_agg = spark.read.parquet(\"../../../data/insights/agg_insight_data/orders_agg.parquet/\")\n",
    "postcode_agg = spark.read.parquet(\"../../../data/insights/agg_insight_data/postcode_agg.parquet/\")\n",
    "descriptions_agg = spark.read.parquet(\"../../../data/insights/agg_insight_data/descriptions_agg.parquet/\")"
   ]
  },
  {
   "cell_type": "markdown",
   "metadata": {},
   "source": [
    "Next we want to check for duplicate or unnecessary"
   ]
  },
  {
   "cell_type": "code",
   "execution_count": 4,
   "metadata": {},
   "outputs": [
    {
     "name": "stdout",
     "output_type": "stream",
     "text": [
      "['merchant_abn', 'name', 'revenue_level', 'take_rate', 'average_merchant_fraud_probability']\n"
     ]
    }
   ],
   "source": [
    "print(merchant_agg.columns)"
   ]
  },
  {
   "cell_type": "code",
   "execution_count": 5,
   "metadata": {},
   "outputs": [
    {
     "name": "stdout",
     "output_type": "stream",
     "text": [
      "['merchant_abn', 'number_of_unique_consumers', 'average_consumer_fraud_probability', 'number_of_repeat_consumers', 'average_repeat_transactions_per_consumer', 'consumer_retainability']\n"
     ]
    }
   ],
   "source": [
    "print(consumers_agg.columns)"
   ]
  },
  {
   "cell_type": "code",
   "execution_count": 6,
   "metadata": {},
   "outputs": [
    {
     "name": "stdout",
     "output_type": "stream",
     "text": [
      "['merchant_abn', 'number_of_orders', 'average_cost_of_order', 'average_spend_per_consumer', 'average_monthly_diff_consumers', 'consumer_diff_over_period', 'average_growth_consumers', 'merchant_revenue_rounded', 'first_recorded_transaction', 'last_recorded_transaction', 'transcation_period_months']\n"
     ]
    }
   ],
   "source": [
    "print(orders_agg.columns)"
   ]
  },
  {
   "cell_type": "code",
   "execution_count": 7,
   "metadata": {},
   "outputs": [
    {
     "name": "stdout",
     "output_type": "stream",
     "text": [
      "['merchant_abn', 'name', 'number_of_postcodes', 'avg_total_weekly_personal_income', 'avg_total_weekly_fam_income', 'avg_median_age', 'avg_household_size', 'postcode_reach', 'avg_num_of_consumers_per_postcode']\n"
     ]
    }
   ],
   "source": [
    "print(postcode_agg.columns)"
   ]
  },
  {
   "cell_type": "code",
   "execution_count": 8,
   "metadata": {},
   "outputs": [],
   "source": [
    "postcode_agg = postcode_agg.drop(\"name\")"
   ]
  },
  {
   "cell_type": "code",
   "execution_count": 9,
   "metadata": {},
   "outputs": [
    {
     "name": "stdout",
     "output_type": "stream",
     "text": [
      "['merchant_abn', 'merchant_description', 'segment']\n"
     ]
    }
   ],
   "source": [
    "print(descriptions_agg.columns)"
   ]
  },
  {
   "cell_type": "code",
   "execution_count": 10,
   "metadata": {},
   "outputs": [],
   "source": [
    "descriptions_agg = descriptions_agg.drop(\"merchant_description\")"
   ]
  },
  {
   "cell_type": "markdown",
   "metadata": {},
   "source": [
    "### Joining the Data"
   ]
  },
  {
   "cell_type": "code",
   "execution_count": 11,
   "metadata": {},
   "outputs": [],
   "source": [
    "joined_df = merchant_agg.join(consumers_agg, on = \"merchant_abn\", how = \"inner\").\\\n",
    "                join(orders_agg, on = \"merchant_abn\", how = \"inner\").\\\n",
    "                join(postcode_agg, on = \"merchant_abn\", how = \"inner\").\\\n",
    "                join(descriptions_agg, on = \"merchant_abn\", how = \"inner\")"
   ]
  },
  {
   "cell_type": "code",
   "execution_count": 12,
   "metadata": {},
   "outputs": [
    {
     "name": "stderr",
     "output_type": "stream",
     "text": [
      "23/09/29 22:39:23 WARN package: Truncated the string representation of a plan since it was too large. This behavior can be adjusted by setting 'spark.sql.debug.maxToStringFields'.\n",
      "                                                                                \r"
     ]
    },
    {
     "name": "stdout",
     "output_type": "stream",
     "text": [
      "+------------+--------------------+-------------+---------+----------------------------------+--------------------------+----------------------------------+--------------------------+----------------------------------------+----------------------+----------------+---------------------+--------------------------+------------------------------+-------------------------+------------------------+------------------------+--------------------------+-------------------------+-------------------------+-------------------+--------------------------------+---------------------------+------------------+------------------+--------------------+---------------------------------+--------------------+\n",
      "|merchant_abn|                name|revenue_level|take_rate|average_merchant_fraud_probability|number_of_unique_consumers|average_consumer_fraud_probability|number_of_repeat_consumers|average_repeat_transactions_per_consumer|consumer_retainability|number_of_orders|average_cost_of_order|average_spend_per_consumer|average_monthly_diff_consumers|consumer_diff_over_period|average_growth_consumers|merchant_revenue_rounded|first_recorded_transaction|last_recorded_transaction|transcation_period_months|number_of_postcodes|avg_total_weekly_personal_income|avg_total_weekly_fam_income|    avg_median_age|avg_household_size|      postcode_reach|avg_num_of_consumers_per_postcode|             segment|\n",
      "+------------+--------------------+-------------+---------+----------------------------------+--------------------------+----------------------------------+--------------------------+----------------------------------------+----------------------+----------------+---------------------+--------------------------+------------------------------+-------------------------+------------------------+------------------------+--------------------------+-------------------------+-------------------------+-------------------+--------------------------------+---------------------------+------------------+------------------+--------------------+---------------------------------+--------------------+\n",
      "| 10023283211|       Felis Limited|            e|     0.18|                               0.0|                      2525|               0.09550206947524022|                       174|                      1.0716831683168317|   0.06891089108910892|            2706|    215.7980081300813|         231.2670930693069|                          7.75|                      155|      1.6046332082163945|               583949.41|                2021-02-28|               2022-10-18|              19.67741935|               1628|               786.7023281596453|         1971.1237989652623|43.031966001478196|2.4569068736141904|  0.6169003410382721|                1.662162162162162|garden_and_furnis...|\n",
      "| 10142254217|Arcu Ac Orci Corp...|            b|     4.22|                               0.0|                      2389|                0.0643558176100629|                       151|                      1.0648807032231058|   0.06320636249476769|            2544|   38.591360062893074|         41.09519464210966|                          9.15|                      183|       5.252766929164762|                98176.42|                2021-02-28|               2022-10-07|              19.32258065|               1591|                          792.25|         1983.4270833333333|42.850628930817614|2.4640330188679243|  0.6028798787419477|               1.5989943431803897|tech_and_electronics|\n",
      "| 10165489824|    Nunc Sed Company|            b|      4.4|                               0.0|                      null|                              null|                      null|                                    null|                  null|               4|             8885.895|                  8885.895|                           0.0|                        0|                     0.0|                35543.58|                2022-02-21|               2022-09-18|               6.90322581|                  4|                           817.5|                   2066.125|            41.625|2.4749999999999996|0.001515725653656...|                              1.0|antiques_and_jewe...|\n",
      "| 10187291046|Ultricies Digniss...|            b|     3.29|                               0.0|                       291|               0.05802157534246575|                         1|                      1.0034364261168385|  0.003436426116838488|             292|   115.99544520547944|        116.39405498281786|            0.3157894736842105|                        6|     0.09195512090248932|                33870.67|                2021-03-27|               2022-10-24|              18.90322581|                273|               796.5479452054794|         1961.1712328767123|            43.125| 2.449417808219178| 0.10344827586206896|               1.0695970695970696|antiques_and_jewe...|\n",
      "| 10192359162| Enim Condimentum PC|            a|     6.33|                               0.0|                       321|               0.03612631578947368|                         2|                      1.0062305295950156|  0.006230529595015576|             323|     460.347213622291|        463.21542056074776|            0.7368421052631579|                       14|     0.17898978906596635|               148692.15|                2021-03-10|               2022-10-25|              19.48387097|                303|               808.8777089783282|          2024.267801857585|43.294117647058826| 2.445479876160991| 0.11481621826449413|                1.066006600660066|  retail_and_novelty|\n",
      "| 10206519221|       Fusce Company|            a|     6.34|                               0.0|                      6652|              0.058118802262666004|                      1302|                       1.222489476849068|    0.1957306073361395|            8132|    37.38561977373341|         45.70352675886952|                          20.9|                      418|       2.202518042734148|               304019.86|                2021-02-28|               2022-10-10|              19.41935484|               2438|               787.4551155927201|         1969.9857353664536| 43.11184210526316| 2.453606738809641|  0.9238347859037515|                 3.33552091878589|  retail_and_novelty|\n",
      "| 10255988167|Aliquam Enim Inco...|            b|     4.32|                               0.0|                       676|               0.04789317851959362|                        13|                      1.0192307692307692|  0.019230769230769232|             689|   386.90857764876625|        394.34912721893477|           0.05263157894736842|                        1|     0.07469067478301186|               266580.01|                2021-03-13|               2022-10-22|              19.29032258|                591|               787.7039187227866|         1962.8512336719884| 43.33309143686502| 2.456923076923077| 0.22394846532777568|               1.1658206429780034|tech_and_electronics|\n",
      "| 10264435225|    Ipsum Primis Ltd|            c|     2.39|                               0.0|                      3792|               0.06804533333333335|                       386|                      1.1075949367088607|   0.10179324894514769|            4200|   117.50223571428575|        130.14488132911396|                         10.35|                      207|      1.1419696673782629|               493509.39|                2021-02-28|               2022-10-08|              19.35483871|               2029|               791.6504761904762|         1976.6973809523809|43.102380952380955|2.4587261904761912|  0.7688518378173551|                2.069985214391326|antiques_and_jewe...|\n",
      "| 10279061213|Pede Ultrices Ind...|            a|     5.71|                               0.0|                       458|              0.018667241379310345|                         5|                      1.0131004366812226|  0.010917030567685589|             464|   299.40495689655177|        303.32729257641927|            0.7368421052631579|                       14|     0.08236989285561777|                138923.9|                2021-03-28|               2022-10-21|              18.77419355|                419|               812.3491379310345|         2018.7068965517242| 42.73922413793103| 2.453168103448276| 0.15877226222053809|                1.107398568019093|tech_and_electronics|\n",
      "| 10323485998|           Nunc Inc.|            a|     6.61|                               0.0|                      7032|               0.04971392712550608|                      1387|                      1.2293799772468714|   0.19724118316268488|            8645|   128.33861422787731|        157.77692263936297|                         23.75|                      475|      1.6049661717685832|              1109487.32|                2021-02-28|               2022-10-26|              19.93548387|               2446|               790.5197223828803|         1979.6085020242915|  43.1294968189705|2.4569519953730485|  0.9268662372110648|                3.534341782502044|garden_and_furnis...|\n",
      "| 10342410215|Facilisis Facilis...|            a|     6.34|                               0.0|                       705|               0.04047440225035162|                         6|                      1.0085106382978724|   0.00851063829787234|             711|    381.3817440225036|         384.6275460992908|                           1.4|                       28|      1.1573738974478252|               271162.42|                2021-02-28|               2022-10-04|              19.22580645|                619|               792.8706047819971|         1999.0246132208158|43.326300984528835|2.4583544303797464|  0.2345585449033725|                1.148626817447496|tech_and_electronics|\n",
      "| 10346855916|      Odio Institute|            b|     3.57|                               0.0|                      null|                              null|                      null|                                    null|                  null|               8|   1982.5687500000001|        1982.5687500000004|                           0.0|                        0|                     0.1|                15860.55|                2021-04-29|               2022-08-29|                     16.0|                  8|                         768.375|                     1979.0|           43.4375|            2.5225|0.003031451307313...|                              1.0|garden_and_furnis...|\n",
      "| 10364012396|    Rutrum Justo Ltd|            b|     3.63|                               0.0|                      null|                              null|                      null|                                    null|                  null|              34|   464.28617647058815|         464.2861764705882|                           0.0|                        0|      0.3354166666666667|                15785.73|                2021-04-30|               2022-10-04|              17.16129032|                 34|               832.8823529411765|         2171.9117647058824|              41.5|2.5911764705882345|0.012883668056081848|                              1.0|  retail_and_novelty|\n",
      "| 10385011947|   Tellus Foundation|            b|     3.17|                               0.0|                      null|                              null|                      null|                                    null|                  null|              21|    642.5914285714285|         642.5914285714285|                           0.0|                        0|       0.282051282051282|                13494.42|                2021-04-28|               2022-09-13|              16.51612903|                 21|               741.5714285714286|                     1879.5| 41.45238095238095|2.4642857142857144|0.007957559681697613|                              1.0|  retail_and_novelty|\n",
      "| 10385163239|      Sed Et Company|            a|     6.61|                               0.0|                        63|                               0.0|                         1|                      1.0158730158730158|  0.015873015873015872|              64|          350.3803125|        355.94190476190477|           0.16666666666666666|                        3|     0.47208994708994695|                22424.34|                2021-04-19|               2022-10-04|              17.51612903|                 62|                     793.0859375|                1989.890625|         42.328125|2.4979687499999996|0.023493747631678667|                1.032258064516129|garden_and_furnis...|\n",
      "| 10385250025|              Id Ltd|            a|     5.54|                               0.0|                       557|               0.05907094474153298|                         4|                       1.007181328545781|   0.00718132854578097|             561|   499.43828877005336|         503.0249192100539|                          0.95|                       19|      0.5381155473089205|               280184.88|                2021-02-28|               2022-10-13|              19.51612903|                510|               783.6408199643494|         1976.5802139037432| 43.34313725490196| 2.453903743315508| 0.19325502084122773|                              1.1|tech_and_electronics|\n",
      "| 10404542215|Consequat Foundation|            a|     6.93|                               0.0|                      null|                              null|                      null|                                    null|                  null|               1|             22773.98|                  22773.98|                          null|                     null|                    null|                22773.98|                2021-10-24|               2021-10-24|                      0.0|                  1|                           710.5|                     1600.5|              44.5|               2.3|3.789314134141720...|                              1.0|antiques_and_jewe...|\n",
      "| 10430380319|Sit Amet Nulla Corp.|            b|     4.97|                               0.0|                      null|                              null|                      null|                                    null|                  null|             135|    336.1692592592593|         336.1692592592593|            0.3157894736842105|                        6|     0.14598997493734336|                45382.85|                2021-03-02|               2022-10-12|              19.32258065|                135|               785.7481481481482|          1953.625925925926| 42.93703703703704| 2.404222222222222|0.051155740810913224|                              1.0|specialized_services|\n",
      "| 10441711491|Massa Vestibulum ...|            a|     5.77|                               0.0|                      null|                              null|                      null|                                    null|                  null|               3|    5751.206666666668|         5751.206666666668|                           0.0|                        0|                     0.0|                17253.62|                2021-03-29|               2022-06-30|              15.03225806|                  3|               758.3333333333334|         1945.6666666666667|37.333333333333336| 2.623333333333333|0.001136794240242...|                              1.0|specialized_services|\n",
      "| 10462560289|       Ut Consulting|            c|     2.95|                               0.0|                      1306|              0.006131001472754051|                        52|                      1.0398162327718223|  0.039816232771822356|            1358|    35.14030191458028|          36.5394563552833|                          3.55|                       71|      2.5385092992191227|                47720.53|                2021-02-28|               2022-10-11|               19.4516129|               1022|               789.9506627393225|         1977.5073637702503|43.198821796759944|2.4378424153166423| 0.38726790450928383|               1.3287671232876712|  retail_and_novelty|\n",
      "+------------+--------------------+-------------+---------+----------------------------------+--------------------------+----------------------------------+--------------------------+----------------------------------------+----------------------+----------------+---------------------+--------------------------+------------------------------+-------------------------+------------------------+------------------------+--------------------------+-------------------------+-------------------------+-------------------+--------------------------------+---------------------------+------------------+------------------+--------------------+---------------------------------+--------------------+\n",
      "only showing top 20 rows\n",
      "\n"
     ]
    }
   ],
   "source": [
    "joined_df.show()"
   ]
  },
  {
   "cell_type": "markdown",
   "metadata": {},
   "source": [
    "### Saving Data"
   ]
  },
  {
   "cell_type": "code",
   "execution_count": 13,
   "metadata": {},
   "outputs": [
    {
     "name": "stderr",
     "output_type": "stream",
     "text": [
      "                                                                                \r"
     ]
    }
   ],
   "source": [
    "joined_df.write.mode(\"overwrite\").parquet(\"../../../data/insights/joined.parquet\")"
   ]
  },
  {
   "cell_type": "code",
   "execution_count": 14,
   "metadata": {},
   "outputs": [],
   "source": [
    "# number of postcodes / total number of postcodes = reach\n",
    "\n",
    "# number of consumers / number of repeat consumers = customer retainability\n",
    "\n",
    "# average number of repeat consumer transaction per merchant.\n",
    "\n",
    "# avg spend amount per consumer\n",
    "\n",
    "# estimated consumer growth rate (group by month and calculate average increase / decrease)\n",
    "\n",
    "# estimated revenue growth rate (group by month and calculate average increase / decrease)\n",
    "\n"
   ]
  },
  {
   "cell_type": "code",
   "execution_count": 15,
   "metadata": {},
   "outputs": [],
   "source": [
    "spark.stop()"
   ]
  }
 ],
 "metadata": {
  "kernelspec": {
   "display_name": "Python 3",
   "language": "python",
   "name": "python3"
  },
  "language_info": {
   "codemirror_mode": {
    "name": "ipython",
    "version": 3
   },
   "file_extension": ".py",
   "mimetype": "text/x-python",
   "name": "python",
   "nbconvert_exporter": "python",
   "pygments_lexer": "ipython3",
   "version": "3.10.12"
  },
  "orig_nbformat": 4
 },
 "nbformat": 4,
 "nbformat_minor": 2
}
