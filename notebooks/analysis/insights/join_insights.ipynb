{
 "cells": [
  {
   "cell_type": "markdown",
   "metadata": {},
   "source": [
    "# Joining the Aggregated Data Together \n",
    "## Author: Dulan Wijeratne 1181873"
   ]
  },
  {
   "cell_type": "markdown",
   "metadata": {},
   "source": [
    "In this notebook we will join the previously aggregated data together. "
   ]
  },
  {
   "cell_type": "markdown",
   "metadata": {},
   "source": [
    "We will start by starting a spark session and then reading in the data."
   ]
  },
  {
   "cell_type": "code",
   "execution_count": 1,
   "metadata": {},
   "outputs": [],
   "source": [
    "from pyspark.sql import SparkSession, functions as f"
   ]
  },
  {
   "cell_type": "code",
   "execution_count": 2,
   "metadata": {},
   "outputs": [
    {
     "name": "stderr",
     "output_type": "stream",
     "text": [
      "your 131072x1 screen size is bogus. expect trouble\n",
      "23/09/26 22:22:05 WARN Utils: Your hostname, DulanComputer resolves to a loopback address: 127.0.1.1; using 172.30.15.25 instead (on interface eth0)\n",
      "23/09/26 22:22:05 WARN Utils: Set SPARK_LOCAL_IP if you need to bind to another address\n",
      "Setting default log level to \"WARN\".\n",
      "To adjust logging level use sc.setLogLevel(newLevel). For SparkR, use setLogLevel(newLevel).\n",
      "23/09/26 22:22:06 WARN NativeCodeLoader: Unable to load native-hadoop library for your platform... using builtin-java classes where applicable\n"
     ]
    }
   ],
   "source": [
    "spark = (\n",
    "    SparkSession.builder.appName(\"Preprocessing_Yellow\")\n",
    "    .config(\"spark.sql.repl.eagerEval.enabled\", True) \n",
    "    .config(\"spark.sql.parquet.cacheMetadata\", \"true\")\n",
    "    .config(\"spark.sql.session.timeZone\", \"Etc/UTC\")\n",
    "    .config(\"spark.sql.session.timeZone\", \"Etc/UTC\")\n",
    "    .config('spark.driver.memory', '3g')   \n",
    "    .config('spark.executor.memory', '4g')  \n",
    "    .config('spark.executor.instances', '2')  \n",
    "    .config('spark.executor.cores', '2')\n",
    "    .getOrCreate()\n",
    ")"
   ]
  },
  {
   "cell_type": "code",
   "execution_count": 3,
   "metadata": {},
   "outputs": [
    {
     "name": "stderr",
     "output_type": "stream",
     "text": [
      "                                                                                \r"
     ]
    }
   ],
   "source": [
    "merchant_agg = spark.read.parquet(\"../../../data/insights/agg_insight_data/merchant_agg.parquet/\")\n",
    "consumers_agg = spark.read.parquet(\"../../../data/insights/agg_insight_data/consumers_agg.parquet/\")\n",
    "orders_agg = spark.read.parquet(\"../../../data/insights/agg_insight_data/orders_agg.parquet/\")\n",
    "postcode_agg = spark.read.parquet(\"../../../data/insights/agg_insight_data/postcode_agg.parquet/\")\n",
    "descriptions_agg = spark.read.parquet(\"../../../data/insights/agg_insight_data/descriptions_agg.parquet/\")"
   ]
  },
  {
   "cell_type": "markdown",
   "metadata": {},
   "source": [
    "Next we want to check for duplicate or unnecessary"
   ]
  },
  {
   "cell_type": "code",
   "execution_count": 4,
   "metadata": {},
   "outputs": [
    {
     "name": "stdout",
     "output_type": "stream",
     "text": [
      "['merchant_abn', 'name', 'revenue_level', 'take_rate', 'average_merchant_fraud_probability']\n"
     ]
    }
   ],
   "source": [
    "print(merchant_agg.columns)"
   ]
  },
  {
   "cell_type": "code",
   "execution_count": 5,
   "metadata": {},
   "outputs": [
    {
     "name": "stdout",
     "output_type": "stream",
     "text": [
      "['merchant_abn', 'number_of_unique_consumers', 'average_consumer_fraud_probability', 'number_of_repeat_consumers', 'average_repeat_transactions_per_consumer', 'consumer_retainability']\n"
     ]
    }
   ],
   "source": [
    "print(consumers_agg.columns)"
   ]
  },
  {
   "cell_type": "code",
   "execution_count": 6,
   "metadata": {},
   "outputs": [
    {
     "name": "stdout",
     "output_type": "stream",
     "text": [
      "['merchant_abn', 'number_of_orders', 'average_cost_of_order', 'average_spend_per_consumer', 'average_monthly_diff_consumers', 'consumer_diff_over_period', 'average_growth', 'merchant_revenue_rounded', 'first_recorded_transaction', 'last_recorded_transaction', 'transcation_period_months']\n"
     ]
    }
   ],
   "source": [
    "print(orders_agg.columns)"
   ]
  },
  {
   "cell_type": "code",
   "execution_count": 7,
   "metadata": {},
   "outputs": [
    {
     "name": "stdout",
     "output_type": "stream",
     "text": [
      "['merchant_abn', 'name', 'number_of_postcodes', 'most_popular_postcode', 'avg_total_weekly_personal_income', 'avg_total_weekly_fam_income', 'avg_median_age', 'avg_household_size', 'postcode_reach', 'avg_num_of_consumers_per_postcode']\n"
     ]
    }
   ],
   "source": [
    "print(postcode_agg.columns)"
   ]
  },
  {
   "cell_type": "code",
   "execution_count": 8,
   "metadata": {},
   "outputs": [],
   "source": [
    "postcode_agg = postcode_agg.drop(\"name\")"
   ]
  },
  {
   "cell_type": "code",
   "execution_count": 9,
   "metadata": {},
   "outputs": [
    {
     "name": "stdout",
     "output_type": "stream",
     "text": [
      "['merchant_abn', 'merchant_description', 'segment']\n"
     ]
    }
   ],
   "source": [
    "print(descriptions_agg.columns)"
   ]
  },
  {
   "cell_type": "code",
   "execution_count": 10,
   "metadata": {},
   "outputs": [],
   "source": [
    "descriptions_agg = descriptions_agg.drop(\"merchant_description\")"
   ]
  },
  {
   "cell_type": "markdown",
   "metadata": {},
   "source": [
    "### Joining the Data"
   ]
  },
  {
   "cell_type": "code",
   "execution_count": 11,
   "metadata": {},
   "outputs": [],
   "source": [
    "joined_df = merchant_agg.join(consumers_agg, on = \"merchant_abn\", how = \"leftouter\").\\\n",
    "                join(orders_agg, on = \"merchant_abn\", how = \"leftouter\").\\\n",
    "                join(postcode_agg, on = \"merchant_abn\", how = \"leftouter\").\\\n",
    "                join(descriptions_agg, on = \"merchant_abn\", how = \"leftouter\")"
   ]
  },
  {
   "cell_type": "code",
   "execution_count": 11,
   "metadata": {},
   "outputs": [
    {
     "name": "stderr",
     "output_type": "stream",
     "text": [
      "23/09/26 22:25:26 WARN package: Truncated the string representation of a plan since it was too large. This behavior can be adjusted by setting 'spark.sql.debug.maxToStringFields'.\n",
      "                                                                                \r"
     ]
    },
    {
     "name": "stdout",
     "output_type": "stream",
     "text": [
      "+------------+--------------------+-------------+---------+----------------------------------+--------------------------+----------------------------------+--------------------------+----------------------------------------+----------------------+----------------+---------------------+--------------------------+------------------------------+-------------------------+-------------------+------------------------+--------------------------+-------------------------+-------------------------+-------------------+---------------------+--------------------------------+---------------------------+------------------+------------------+--------------------+---------------------------------+--------------------+\n",
      "|merchant_abn|                name|revenue_level|take_rate|average_merchant_fraud_probability|number_of_unique_consumers|average_consumer_fraud_probability|number_of_repeat_consumers|average_repeat_transactions_per_consumer|consumer_retainability|number_of_orders|average_cost_of_order|average_spend_per_consumer|average_monthly_diff_consumers|consumer_diff_over_period|     average_growth|merchant_revenue_rounded|first_recorded_transaction|last_recorded_transaction|transcation_period_months|number_of_postcodes|most_popular_postcode|avg_total_weekly_personal_income|avg_total_weekly_fam_income|    avg_median_age|avg_household_size|      postcode_reach|avg_num_of_consumers_per_postcode|             segment|\n",
      "+------------+--------------------+-------------+---------+----------------------------------+--------------------------+----------------------------------+--------------------------+----------------------------------------+----------------------+----------------+---------------------+--------------------------+------------------------------+-------------------------+-------------------+------------------------+--------------------------+-------------------------+-------------------------+-------------------+---------------------+--------------------------------+---------------------------+------------------+------------------+--------------------+---------------------------------+--------------------+\n",
      "| 10023283211|       Felis Limited|            e|     0.18|                               0.0|                      2525|               0.09550203852496945|                       174|                      1.0716831683168317|   0.06891089108910892|            2706|   215.79794727658071|        231.26702785363457|                          7.75|                      155| 1.6046332082163945|               583949.25|                2021-02-28|               2022-10-18|              19.67741935|               1628|                 3275|               786.7023281596453|         1971.1237989652623|43.031966001478196|2.4569142645971915|  0.6169003410382721|                1.662162162162162|garden_and_furnis...|\n",
      "| 10142254217|Arcu Ac Orci Corp...|            b|     4.22|                               0.0|                      2389|                 0.064355829988316|                       151|                      1.0648807032231058|   0.06320636249476769|            2544|      38.591469635076|         41.09531132341288|                          9.15|                      183|  5.252766929164762|                 98176.7|                2021-02-28|               2022-10-07|              19.32258065|               1591|                 6438|                          792.25|         1983.4270833333333|42.850628930817614|2.4640251572327037|  0.6028798787419477|               1.5989943431803897|tech_and_electronics|\n",
      "| 10165489824|    Nunc Sed Company|            b|      4.4|                               0.0|                      null|                              null|                      null|                                    null|                  null|               4|    8885.894209136208|         8885.894209136208|                           0.0|                        0|                0.0|                35543.58|                2022-02-21|               2022-09-18|               6.90322581|                  4|                 2534|                           817.5|                   2066.125|            41.625|2.4749999999999996|0.001515725653656...|                              1.0|antiques_and_jewe...|\n",
      "| 10187291046|Ultricies Digniss...|            b|     3.29|                               0.0|                       291|              0.058021579050471644|                         1|                      1.0034364261168385|  0.003436426116838488|             292|   115.99556992718271|        116.39418013311806|            0.3157894736842105|                        6|0.09195512090248932|                33870.71|                2021-03-27|               2022-10-17|              18.67741935|                273|                 5067|               796.5479452054794|         1961.1712328767123|            43.125| 2.449417808219178| 0.10344827586206896|               1.0695970695970696|antiques_and_jewe...|\n",
      "| 10192359162| Enim Condimentum PC|            a|     6.33|                               0.0|                       321|               0.03612632221253988|                         2|                      1.0062305295950156|  0.006230529595015576|             323|   460.34710880460494|         463.2153150899919|            0.7368421052631579|                       14|0.17898978906596635|               148692.12|                2021-03-10|               2022-10-02|              18.74193548|                303|                 2062|               808.8777089783282|          2024.267801857585|43.294117647058826| 2.445479876160991| 0.11481621826449413|                1.066006600660066|  retail_and_novelty|\n",
      "| 10206519221|       Fusce Company|            a|     6.34|                               0.0|                      6652|               0.05811880333425346|                      1302|                       1.222489476849068|    0.1957306073361395|            8132|    37.38562601511928|         45.70353438889805|                          20.9|                      418|  2.202518042734148|               304019.91|                2021-02-28|               2022-10-10|              19.41935484|               2438|                 5273|               787.4551155927201|         1969.9857353664536| 43.11184210526316|2.4536091982292185|  0.9238347859037515|                 3.33552091878589|  retail_and_novelty|\n",
      "| 10255988167|Aliquam Enim Inco...|            b|     4.32|                               0.0|                       676|              0.047893142534478364|                        13|                      1.0192307692307692|  0.019230769230769232|             689|   386.90875186908147|         394.3493047896408|           0.05263157894736842|                        1|0.07469067478301186|               266580.13|                2021-03-13|               2022-10-18|              19.16129032|                591|                 2448|               787.7039187227866|         1962.8512336719884| 43.33309143686502| 2.456923076923077| 0.22394846532777568|               1.1658206429780034|tech_and_electronics|\n",
      "| 10264435225|    Ipsum Primis Ltd|            c|     2.39|                               0.0|                      3792|               0.06804534325540773|                       386|                      1.1075949367088607|   0.10179324894514769|            4200|   117.50221891972741|        130.14486272754618|                         10.35|                      207| 1.1419696673782629|               493509.32|                2021-02-28|               2022-10-08|              19.35483871|               2029|                 5356|               791.6504761904762|         1976.6973809523809|43.102380952380955|2.4587380952380955|  0.7688518378173551|                2.069985214391326|antiques_and_jewe...|\n",
      "| 10279061213|Pede Ultrices Ind...|            a|     5.71|                               0.0|                       458|               0.01866722174155936|                         5|                      1.0131004366812226|  0.010917030567685589|             464|    299.4048749701041|         303.3272095766994|            0.7368421052631579|                       14|0.08236989285561777|               138923.86|                2021-03-28|               2022-10-21|              18.77419355|                419|                 2034|               812.3491379310345|         2018.7068965517242| 42.73922413793103|2.4531465517241378| 0.15877226222053809|                1.107398568019093|tech_and_electronics|\n",
      "| 10323485998|           Nunc Inc.|            a|     6.61|                               0.0|                      7032|              0.049713938502959826|                      1387|                      1.2293799772468714|   0.19724118316268488|            8645|   128.33862949420438|         157.7769414074797|                         23.75|                      475| 1.6049661717685832|              1109487.45|                2021-02-28|               2022-10-26|              19.93548387|               2446|                 4856|               790.5197223828803|         1979.6085020242915|  43.1294968189705|2.4569450549450558|  0.9268662372110648|                3.534341782502044|garden_and_furnis...|\n",
      "| 10342410215|Facilisis Facilis...|            a|     6.34|                               0.0|                       705|               0.04047445468895482|                         6|                      1.0085106382978724|   0.00851063829787234|             711|   381.38179415453544|         384.6275966579783|                           1.4|                       28| 1.1573738974478252|               271162.46|                2021-02-28|               2022-10-20|              19.74193548|                619|                 3458|               792.8706047819971|         1999.0246132208158|43.326300984528835| 2.458368495077356|  0.2345585449033725|                1.148626817447496|tech_and_electronics|\n",
      "| 10346855916|      Odio Institute|            b|     3.57|                               0.0|                      null|                              null|                      null|                                    null|                  null|               8|   1982.5698920010877|        1982.5698920010877|                           0.0|                        0|                0.1|                15860.56|                2021-04-29|               2022-08-29|                     16.0|                  8|                 5156|                         768.375|                     1979.0|           43.4375|            2.5225|0.003031451307313...|                              1.0|garden_and_furnis...|\n",
      "| 10364012396|    Rutrum Justo Ltd|            b|     3.63|                               0.0|                      null|                              null|                      null|                                    null|                  null|              34|    464.2865814927661|         464.2865814927661|                           0.0|                        0| 0.3354166666666667|                15785.74|                2021-04-30|               2022-10-04|              17.16129032|                 34|                 5640|               832.8823529411765|         2171.9117647058824|              41.5|2.5911764705882345|0.012883668056081848|                              1.0|  retail_and_novelty|\n",
      "| 10385011947|   Tellus Foundation|            b|     3.17|                               0.0|                      null|                              null|                      null|                                    null|                  null|              21|    642.5917816808204|         642.5917816808203|                           0.0|                        0|  0.282051282051282|                13494.43|                2021-04-28|               2022-09-13|              16.51612903|                 21|                 5221|               741.5714285714286|                     1879.5| 41.45238095238095|2.4642857142857144|0.007957559681697613|                              1.0|  retail_and_novelty|\n",
      "| 10385163239|      Sed Et Company|            a|     6.61|                               0.0|                        63|                               0.0|                         1|                      1.0158730158730158|  0.015873015873015872|              64|     350.379886704662|        355.94147220791064|           0.16666666666666666|                        3|0.47208994708994695|                22424.31|                2021-04-19|               2022-10-01|              17.41935484|                 62|                 3984|                     793.0859375|                1989.890625|         42.328125|2.4981249999999995|0.023493747631678667|                1.032258064516129|garden_and_furnis...|\n",
      "| 10385250025|              Id Ltd|            a|     5.54|                               0.0|                       557|               0.05907105598005916|                         4|                       1.007181328545781|   0.00718132854578097|             561|    499.4381746881015|          503.024804308842|                          0.95|                       19| 0.5381155473089205|               280184.82|                2021-02-28|               2022-10-01|              19.12903226|                510|                 7184|               783.6408199643494|         1976.5802139037432| 43.34313725490196| 2.453921568627451| 0.19325502084122773|                              1.1|tech_and_electronics|\n",
      "| 10404542215|Consequat Foundation|            a|     6.93|                               0.0|                      null|                              null|                      null|                                    null|                  null|               1|   22773.975280323484|        22773.975280323484|                          null|                     null|               null|                22773.98|                2021-10-24|               2021-10-24|                      0.0|                  1|                 5267|                           710.5|                     1600.5|              44.5|               2.3|3.789314134141720...|                              1.0|antiques_and_jewe...|\n",
      "| 10430380319|Sit Amet Nulla Corp.|            b|     4.97|                               0.0|                      null|                              null|                      null|                                    null|                  null|             135|   336.16920248344877|        336.16920248344877|            0.3157894736842105|                        6|0.14598997493734336|                45382.84|                2021-03-21|               2022-10-02|              18.38709677|                135|                 5483|               785.7481481481482|          1953.625925925926| 42.93703703703704|2.4042222222222227|0.051155740810913224|                              1.0|specialized_services|\n",
      "| 10441711491|Massa Vestibulum ...|            a|     5.77|                               0.0|                      null|                              null|                      null|                                    null|                  null|               3|    5751.207887182689|         5751.207887182689|                           0.0|                        0|                0.0|                17253.62|                2021-03-29|               2022-06-30|              15.03225806|                  3|                 4124|               758.3333333333334|         1945.6666666666667|37.333333333333336| 2.623333333333333|0.001136794240242...|                              1.0|specialized_services|\n",
      "| 10462560289|       Ut Consulting|            c|     2.95|                               0.0|                      1306|              0.006131016765212672|                        52|                      1.0398162327718223|  0.039816232771822356|            1358|    35.14025944540567|        36.539412195146156|                          3.55|                       71| 2.5385092992191227|                47720.47|                2021-02-28|               2022-10-23|              19.83870968|               1022|                 3122|               789.9506627393225|         1977.5073637702503|43.198821796759944|2.4378276877761413| 0.38726790450928383|               1.3287671232876712|  retail_and_novelty|\n",
      "+------------+--------------------+-------------+---------+----------------------------------+--------------------------+----------------------------------+--------------------------+----------------------------------------+----------------------+----------------+---------------------+--------------------------+------------------------------+-------------------------+-------------------+------------------------+--------------------------+-------------------------+-------------------------+-------------------+---------------------+--------------------------------+---------------------------+------------------+------------------+--------------------+---------------------------------+--------------------+\n",
      "only showing top 20 rows\n",
      "\n"
     ]
    }
   ],
   "source": [
    "joined_df.show()"
   ]
  },
  {
   "cell_type": "markdown",
   "metadata": {},
   "source": [
    "### Saving Data"
   ]
  },
  {
   "cell_type": "code",
   "execution_count": 12,
   "metadata": {},
   "outputs": [
    {
     "name": "stderr",
     "output_type": "stream",
     "text": [
      "                                                                                \r"
     ]
    }
   ],
   "source": [
    "joined_df.write.mode(\"overwrite\").parquet(\"../../../data/insights/joined.parquet\")"
   ]
  },
  {
   "cell_type": "code",
   "execution_count": null,
   "metadata": {},
   "outputs": [],
   "source": [
    "# number of postcodes / total number of postcodes = reach\n",
    "\n",
    "# number of consumers / number of repeat consumers = customer retainability\n",
    "\n",
    "# average number of repeat consumer transaction per merchant.\n",
    "\n",
    "# avg spend amount per consumer\n",
    "\n",
    "# estimated consumer growth rate (group by month and calculate average increase / decrease)\n",
    "\n",
    "# estimated revenue growth rate (group by month and calculate average increase / decrease)\n",
    "\n"
   ]
  },
  {
   "cell_type": "code",
   "execution_count": 13,
   "metadata": {},
   "outputs": [],
   "source": [
    "spark.stop()"
   ]
  }
 ],
 "metadata": {
  "kernelspec": {
   "display_name": "Python 3",
   "language": "python",
   "name": "python3"
  },
  "language_info": {
   "codemirror_mode": {
    "name": "ipython",
    "version": 3
   },
   "file_extension": ".py",
   "mimetype": "text/x-python",
   "name": "python",
   "nbconvert_exporter": "python",
   "pygments_lexer": "ipython3",
   "version": "3.8.10"
  },
  "orig_nbformat": 4
 },
 "nbformat": 4,
 "nbformat_minor": 2
}
