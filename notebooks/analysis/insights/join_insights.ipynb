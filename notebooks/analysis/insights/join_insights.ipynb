{
 "cells": [
  {
   "cell_type": "code",
   "execution_count": 1,
   "metadata": {},
   "outputs": [],
   "source": [
    "from pyspark.sql import SparkSession, functions as f"
   ]
  },
  {
   "cell_type": "code",
   "execution_count": 4,
   "metadata": {},
   "outputs": [],
   "source": [
    "spark = (\n",
    "    SparkSession.builder.appName(\"Preprocessing_Yellow\")\n",
    "    .config(\"spark.sql.repl.eagerEval.enabled\", True) \n",
    "    .config(\"spark.sql.parquet.cacheMetadata\", \"true\")\n",
    "    .config(\"spark.sql.session.timeZone\", \"Etc/UTC\")\n",
    "    .config(\"spark.sql.session.timeZone\", \"Etc/UTC\")\n",
    "    .config('spark.driver.memory', '3g')   \n",
    "    .config('spark.executor.memory', '4g')  \n",
    "    .config('spark.executor.instances', '2')  \n",
    "    .config('spark.executor.cores', '2')\n",
    "    .getOrCreate()\n",
    ")"
   ]
  },
  {
   "cell_type": "code",
   "execution_count": 5,
   "metadata": {},
   "outputs": [
    {
     "ename": "AnalysisException",
     "evalue": "[PATH_NOT_FOUND] Path does not exist: file:/home/niyer/bnpl-industry-project-open-source-industry-project-35/notebooks/data/insights/agg_insight_data/merchant_agg.parquet.",
     "output_type": "error",
     "traceback": [
      "\u001b[0;31m---------------------------------------------------------------------------\u001b[0m",
      "\u001b[0;31mAnalysisException\u001b[0m                         Traceback (most recent call last)",
      "\u001b[1;32m/home/niyer/bnpl-industry-project-open-source-industry-project-35/notebooks/analysis/insights/join_insights.ipynb Cell 3\u001b[0m line \u001b[0;36m1\n\u001b[0;32m----> <a href='vscode-notebook-cell://wsl%2Bubuntu-20.04/home/niyer/bnpl-industry-project-open-source-industry-project-35/notebooks/analysis/insights/join_insights.ipynb#X20sdnNjb2RlLXJlbW90ZQ%3D%3D?line=0'>1</a>\u001b[0m merchant_agg \u001b[39m=\u001b[39m spark\u001b[39m.\u001b[39;49mread\u001b[39m.\u001b[39;49mparquet(\u001b[39m\"\u001b[39;49m\u001b[39m../../data/insights/agg_insight_data/merchant_agg.parquet/\u001b[39;49m\u001b[39m\"\u001b[39;49m)\n\u001b[1;32m      <a href='vscode-notebook-cell://wsl%2Bubuntu-20.04/home/niyer/bnpl-industry-project-open-source-industry-project-35/notebooks/analysis/insights/join_insights.ipynb#X20sdnNjb2RlLXJlbW90ZQ%3D%3D?line=1'>2</a>\u001b[0m consumers_agg \u001b[39m=\u001b[39m spark\u001b[39m.\u001b[39mread\u001b[39m.\u001b[39mparquet(\u001b[39m\"\u001b[39m\u001b[39m../../data/insights/agg_insight_data/consumers_agg.parquet/\u001b[39m\u001b[39m\"\u001b[39m)\n\u001b[1;32m      <a href='vscode-notebook-cell://wsl%2Bubuntu-20.04/home/niyer/bnpl-industry-project-open-source-industry-project-35/notebooks/analysis/insights/join_insights.ipynb#X20sdnNjb2RlLXJlbW90ZQ%3D%3D?line=2'>3</a>\u001b[0m orders_agg \u001b[39m=\u001b[39m spark\u001b[39m.\u001b[39mread\u001b[39m.\u001b[39mparquet(\u001b[39m\"\u001b[39m\u001b[39m../../data/insights/agg_insight_data/orders_agg.parquet/\u001b[39m\u001b[39m\"\u001b[39m)\n",
      "File \u001b[0;32m~/.local/lib/python3.8/site-packages/pyspark/sql/readwriter.py:531\u001b[0m, in \u001b[0;36mDataFrameReader.parquet\u001b[0;34m(self, *paths, **options)\u001b[0m\n\u001b[1;32m    520\u001b[0m int96RebaseMode \u001b[39m=\u001b[39m options\u001b[39m.\u001b[39mget(\u001b[39m\"\u001b[39m\u001b[39mint96RebaseMode\u001b[39m\u001b[39m\"\u001b[39m, \u001b[39mNone\u001b[39;00m)\n\u001b[1;32m    521\u001b[0m \u001b[39mself\u001b[39m\u001b[39m.\u001b[39m_set_opts(\n\u001b[1;32m    522\u001b[0m     mergeSchema\u001b[39m=\u001b[39mmergeSchema,\n\u001b[1;32m    523\u001b[0m     pathGlobFilter\u001b[39m=\u001b[39mpathGlobFilter,\n\u001b[0;32m   (...)\u001b[0m\n\u001b[1;32m    528\u001b[0m     int96RebaseMode\u001b[39m=\u001b[39mint96RebaseMode,\n\u001b[1;32m    529\u001b[0m )\n\u001b[0;32m--> 531\u001b[0m \u001b[39mreturn\u001b[39;00m \u001b[39mself\u001b[39m\u001b[39m.\u001b[39m_df(\u001b[39mself\u001b[39;49m\u001b[39m.\u001b[39;49m_jreader\u001b[39m.\u001b[39;49mparquet(_to_seq(\u001b[39mself\u001b[39;49m\u001b[39m.\u001b[39;49m_spark\u001b[39m.\u001b[39;49m_sc, paths)))\n",
      "File \u001b[0;32m~/.local/lib/python3.8/site-packages/py4j/java_gateway.py:1322\u001b[0m, in \u001b[0;36mJavaMember.__call__\u001b[0;34m(self, *args)\u001b[0m\n\u001b[1;32m   1316\u001b[0m command \u001b[39m=\u001b[39m proto\u001b[39m.\u001b[39mCALL_COMMAND_NAME \u001b[39m+\u001b[39m\\\n\u001b[1;32m   1317\u001b[0m     \u001b[39mself\u001b[39m\u001b[39m.\u001b[39mcommand_header \u001b[39m+\u001b[39m\\\n\u001b[1;32m   1318\u001b[0m     args_command \u001b[39m+\u001b[39m\\\n\u001b[1;32m   1319\u001b[0m     proto\u001b[39m.\u001b[39mEND_COMMAND_PART\n\u001b[1;32m   1321\u001b[0m answer \u001b[39m=\u001b[39m \u001b[39mself\u001b[39m\u001b[39m.\u001b[39mgateway_client\u001b[39m.\u001b[39msend_command(command)\n\u001b[0;32m-> 1322\u001b[0m return_value \u001b[39m=\u001b[39m get_return_value(\n\u001b[1;32m   1323\u001b[0m     answer, \u001b[39mself\u001b[39;49m\u001b[39m.\u001b[39;49mgateway_client, \u001b[39mself\u001b[39;49m\u001b[39m.\u001b[39;49mtarget_id, \u001b[39mself\u001b[39;49m\u001b[39m.\u001b[39;49mname)\n\u001b[1;32m   1325\u001b[0m \u001b[39mfor\u001b[39;00m temp_arg \u001b[39min\u001b[39;00m temp_args:\n\u001b[1;32m   1326\u001b[0m     \u001b[39mif\u001b[39;00m \u001b[39mhasattr\u001b[39m(temp_arg, \u001b[39m\"\u001b[39m\u001b[39m_detach\u001b[39m\u001b[39m\"\u001b[39m):\n",
      "File \u001b[0;32m~/.local/lib/python3.8/site-packages/pyspark/errors/exceptions/captured.py:175\u001b[0m, in \u001b[0;36mcapture_sql_exception.<locals>.deco\u001b[0;34m(*a, **kw)\u001b[0m\n\u001b[1;32m    171\u001b[0m converted \u001b[39m=\u001b[39m convert_exception(e\u001b[39m.\u001b[39mjava_exception)\n\u001b[1;32m    172\u001b[0m \u001b[39mif\u001b[39;00m \u001b[39mnot\u001b[39;00m \u001b[39misinstance\u001b[39m(converted, UnknownException):\n\u001b[1;32m    173\u001b[0m     \u001b[39m# Hide where the exception came from that shows a non-Pythonic\u001b[39;00m\n\u001b[1;32m    174\u001b[0m     \u001b[39m# JVM exception message.\u001b[39;00m\n\u001b[0;32m--> 175\u001b[0m     \u001b[39mraise\u001b[39;00m converted \u001b[39mfrom\u001b[39;00m \u001b[39mNone\u001b[39;00m\n\u001b[1;32m    176\u001b[0m \u001b[39melse\u001b[39;00m:\n\u001b[1;32m    177\u001b[0m     \u001b[39mraise\u001b[39;00m\n",
      "\u001b[0;31mAnalysisException\u001b[0m: [PATH_NOT_FOUND] Path does not exist: file:/home/niyer/bnpl-industry-project-open-source-industry-project-35/notebooks/data/insights/agg_insight_data/merchant_agg.parquet."
     ]
    }
   ],
   "source": [
    "merchant_agg = spark.read.parquet(\"../../../data/insights/agg_insight_data/merchant_agg.parquet/\")\n",
    "consumers_agg = spark.read.parquet(\"../../../data/insights/agg_insight_data/consumers_agg.parquet/\")\n",
    "orders_agg = spark.read.parquet(\"../../../data/insights/agg_insight_data/orders_agg.parquet/\")\n",
    "postcode_agg = spark.read.parquet(\"../../../data/insights/agg_insight_data/postcode_agg.parquet/\")\n",
    "descriptions_agg = spark.read.parquet(\"../../../data/insights/agg_insight_data/descriptions_agg.parquet/\")"
   ]
  },
  {
   "cell_type": "code",
   "execution_count": 4,
   "metadata": {},
   "outputs": [
    {
     "name": "stdout",
     "output_type": "stream",
     "text": [
      "['merchant_abn', 'name', 'revenue_level', 'take_rate', 'average_merchant_fraud_probability']\n"
     ]
    }
   ],
   "source": [
    "print(merchant_agg.columns)"
   ]
  },
  {
   "cell_type": "code",
   "execution_count": 5,
   "metadata": {},
   "outputs": [
    {
     "name": "stdout",
     "output_type": "stream",
     "text": [
      "['merchant_abn', 'number_of_consumers', 'average_consumer_fraud_probability', 'number_of_repeat_consumers']\n"
     ]
    }
   ],
   "source": [
    "print(consumers_agg.columns)"
   ]
  },
  {
   "cell_type": "code",
   "execution_count": 6,
   "metadata": {},
   "outputs": [
    {
     "name": "stdout",
     "output_type": "stream",
     "text": [
      "['merchant_abn', 'number_of_orders', 'average_cost_of_order']\n"
     ]
    }
   ],
   "source": [
    "print(orders_agg.columns)"
   ]
  },
  {
   "cell_type": "code",
   "execution_count": 7,
   "metadata": {},
   "outputs": [
    {
     "name": "stdout",
     "output_type": "stream",
     "text": [
      "['merchant_abn', 'name', 'number_of_postcodes', 'avg_total_weekly_personal_income', 'avg_total_weekly_fam_income', 'avg_median_age', 'avg_num_of_consumers_per_postcode']\n"
     ]
    }
   ],
   "source": [
    "print(postcode_agg.columns)"
   ]
  },
  {
   "cell_type": "code",
   "execution_count": 10,
   "metadata": {},
   "outputs": [],
   "source": [
    "postcode_agg = postcode_agg.drop(\"name\")"
   ]
  },
  {
   "cell_type": "code",
   "execution_count": 8,
   "metadata": {},
   "outputs": [
    {
     "name": "stdout",
     "output_type": "stream",
     "text": [
      "['merchant_abn', 'merchant_description']\n"
     ]
    }
   ],
   "source": [
    "print(descriptions_agg.columns)"
   ]
  },
  {
   "cell_type": "code",
   "execution_count": 11,
   "metadata": {},
   "outputs": [],
   "source": [
    "joined_df = merchant_agg.join(consumers_agg, on = \"merchant_abn\", how = \"leftouter\").\\\n",
    "                join(orders_agg, on = \"merchant_abn\", how = \"leftouter\").\\\n",
    "                join(postcode_agg, on = \"merchant_abn\", how = \"leftouter\").\\\n",
    "                join(descriptions_agg, on = \"merchant_abn\", how = \"leftouter\")"
   ]
  },
  {
   "cell_type": "code",
   "execution_count": 12,
   "metadata": {},
   "outputs": [
    {
     "name": "stderr",
     "output_type": "stream",
     "text": [
      "                                                                                \r"
     ]
    },
    {
     "name": "stdout",
     "output_type": "stream",
     "text": [
      "+------------+--------------------+-------------+---------+----------------------------------+-------------------+----------------------------------+--------------------------+----------------+---------------------+-------------------+--------------------------------+---------------------------+------------------+---------------------------------+--------------------+\n",
      "|merchant_abn|                name|revenue_level|take_rate|average_merchant_fraud_probability|number_of_consumers|average_consumer_fraud_probability|number_of_repeat_consumers|number_of_orders|average_cost_of_order|number_of_postcodes|avg_total_weekly_personal_income|avg_total_weekly_fam_income|    avg_median_age|avg_num_of_consumers_per_postcode|merchant_description|\n",
      "+------------+--------------------+-------------+---------+----------------------------------+-------------------+----------------------------------+--------------------------+----------------+---------------------+-------------------+--------------------------------+---------------------------+------------------+---------------------------------+--------------------+\n",
      "| 10023283211|       Felis Limited|            e|     0.18|                               0.0|               2525|               0.09550203852496945|                       174|            5005|    215.7062995711448|               2706|               786.7023281596453|         1971.1237989652623|43.031966001478196|                1.662162162162162|furniture, home f...|\n",
      "| 10142254217|Arcu Ac Orci Corp...|            b|     4.22|                               0.0|               2389|                 0.064355829988316|                       151|            4682|    39.36879345568926|               2544|                          792.25|         1983.4270833333333|42.850628930817614|               1.5989943431803897|cable, satellite,...|\n",
      "| 10165489824|    Nunc Sed Company|            b|      4.4|                               0.0|                  4|                  6.97942855925576|                         0|               6|    9185.177584647752|                  4|                           817.5|                   2066.125|            41.625|                              1.0|jewelry, watch, c...|\n",
      "| 10187291046|Ultricies Digniss...|            b|     3.29|                               0.0|                291|              0.058021579050471644|                         1|             552|   116.21467010151707|                292|               796.5479452054794|         1961.1712328767123|            43.125|               1.0695970695970696|watch, clock, and...|\n",
      "| 10192359162| Enim Condimentum PC|            a|     6.33|                               0.0|                321|               0.03612632221253988|                         2|             661|   456.64174676112606|                323|               808.8777089783282|          2024.267801857585|43.294117647058826|                1.066006600660066|music shops - mus...|\n",
      "| 10206519221|       Fusce Company|            a|     6.34|                               0.0|               6652|               0.05811880333425346|                      1302|           15043|    37.20273435111282|               8132|               787.4551155927201|         1969.9857353664536| 43.11184210526316|                 3.33552091878589|gift, card, novel...|\n",
      "| 10255988167|Aliquam Enim Inco...|            b|     4.32|                               0.0|                676|              0.047893142534478364|                        13|            1205|   390.31743621724286|                689|               787.7039187227866|         1962.8512336719884| 43.33309143686502|               1.1658206429780034|computers, comput...|\n",
      "| 10264435225|    Ipsum Primis Ltd|            c|     2.39|                               0.0|               3792|               0.06804534325540773|                       386|            7807|    116.6314876457802|               4200|               791.6504761904762|         1976.6973809523809|43.102380952380955|                2.069985214391326|watch, clock, and...|\n",
      "| 10279061213|Pede Ultrices Ind...|            a|     5.71|                               0.0|                458|               0.01866722174155936|                         5|             892|    298.9399323481362|                464|               812.3491379310345|         2018.7068965517242| 42.73922413793103|                1.107398568019093|computer programm...|\n",
      "| 10323485998|           Nunc Inc.|            a|     6.61|                               0.0|               7032|              0.049713938502959826|                      1387|           15719|    128.9566126312214|               8645|               790.5197223828803|         1979.6085020242915|  43.1294968189705|                3.534341782502044|furniture, home f...|\n",
      "| 10342410215|Facilisis Facilis...|            a|     6.34|                               0.0|                705|               0.04047445468895482|                         6|            1246|    376.3965112861302|                711|               792.8706047819971|         1999.0246132208158|43.326300984528835|                1.148626817447496|computers, comput...|\n",
      "| 10346855916|      Odio Institute|            b|     3.57|                               0.0|                  8|                 1.383793178021198|                         0|              12|   2970.2363457711076|                  8|                         768.375|                     1979.0|           43.4375|                              1.0|equipment, tool, ...|\n",
      "| 10364012396|    Rutrum Justo Ltd|            b|     3.63|                               0.0|                 34|                               0.0|                         0|              65|    486.4607066477633|                 34|               832.8823529411765|         2171.9117647058824|              41.5|                              1.0|music shops - mus...|\n",
      "| 10385011947|   Tellus Foundation|            b|     3.17|                               0.0|                 21|                               0.0|                         0|              33|    575.0843727418988|                 21|               741.5714285714286|                     1879.5| 41.45238095238095|                              1.0|artist supply and...|\n",
      "| 10385163239|      Sed Et Company|            a|     6.61|                               0.0|                 63|                               0.0|                         1|             124|    357.9744430151054|                 64|                     793.0859375|                1989.890625|         42.328125|                1.032258064516129|florists supplies...|\n",
      "| 10385250025|              Id Ltd|            a|     5.54|                               0.0|                557|               0.05907105598005916|                         4|             979|    519.6040010247593|                561|               783.6408199643494|         1976.5802139037432| 43.34313725490196|                              1.1|computers, comput...|\n",
      "| 10404542215|Consequat Foundation|            a|     6.93|                               0.0|                  1|                 60.48645653542324|                         0|               2|   22773.975280323484|                  1|                           710.5|                     1600.5|              44.5|                              1.0|antique shops - s...|\n",
      "| 10430380319|Sit Amet Nulla Corp.|            b|     4.97|                               0.0|                135|                               0.0|                         0|             280|   332.37999944453713|                135|               785.7481481481482|          1953.625925925926| 42.93703703703704|                              1.0|motor vehicle sup...|\n",
      "| 10441711491|Massa Vestibulum ...|            a|     5.77|                               0.0|                  3|                               0.0|                         0|               5|    5124.678049964853|                  3|               758.3333333333334|         1945.6666666666667|37.333333333333336|                              1.0|motor vehicle sup...|\n",
      "| 10462560289|       Ut Consulting|            c|     2.95|                               0.0|               1306|              0.006131016765212672|                        52|            2455|    35.89942838659589|               1358|               789.9506627393225|         1977.5073637702503|43.198821796759944|               1.3287671232876712|gift, card, novel...|\n",
      "+------------+--------------------+-------------+---------+----------------------------------+-------------------+----------------------------------+--------------------------+----------------+---------------------+-------------------+--------------------------------+---------------------------+------------------+---------------------------------+--------------------+\n",
      "only showing top 20 rows\n",
      "\n"
     ]
    }
   ],
   "source": [
    "joined_df.show()"
   ]
  },
  {
   "cell_type": "code",
   "execution_count": 13,
   "metadata": {},
   "outputs": [
    {
     "name": "stderr",
     "output_type": "stream",
     "text": [
      "                                                                                \r"
     ]
    }
   ],
   "source": [
    "joined_df.write.mode(\"overwrite\").parquet(\"../../../data/insights/joined.parquet\")"
   ]
  }
 ],
 "metadata": {
  "kernelspec": {
   "display_name": "Python 3",
   "language": "python",
   "name": "python3"
  },
  "language_info": {
   "codemirror_mode": {
    "name": "ipython",
    "version": 3
   },
   "file_extension": ".py",
   "mimetype": "text/x-python",
   "name": "python",
   "nbconvert_exporter": "python",
   "pygments_lexer": "ipython3",
   "version": "3.10.12"
  },
  "orig_nbformat": 4
 },
 "nbformat": 4,
 "nbformat_minor": 2
}
