{
 "cells": [
  {
   "cell_type": "markdown",
   "metadata": {},
   "source": [
    "# Joining the Aggregated Data Together \n",
    "## Author: Dulan Wijeratne 1181873"
   ]
  },
  {
   "cell_type": "markdown",
   "metadata": {},
   "source": [
    "In this notebook we will join the previously aggregated data together. "
   ]
  },
  {
   "cell_type": "markdown",
   "metadata": {},
   "source": [
    "We will start by starting a spark session and then reading in the data."
   ]
  },
  {
   "cell_type": "code",
   "execution_count": 1,
   "metadata": {},
   "outputs": [],
   "source": [
    "from pyspark.sql import SparkSession, functions as f"
   ]
  },
  {
   "cell_type": "code",
   "execution_count": 2,
   "metadata": {},
   "outputs": [
    {
     "name": "stderr",
     "output_type": "stream",
     "text": [
      "your 131072x1 screen size is bogus. expect trouble\n",
      "23/10/02 22:21:53 WARN Utils: Your hostname, LAPTOP-RELH58H1 resolves to a loopback address: 127.0.1.1; using 172.19.22.4 instead (on interface eth0)\n",
      "23/10/02 22:21:53 WARN Utils: Set SPARK_LOCAL_IP if you need to bind to another address\n",
      "Setting default log level to \"WARN\".\n",
      "To adjust logging level use sc.setLogLevel(newLevel). For SparkR, use setLogLevel(newLevel).\n",
      "23/10/02 22:21:55 WARN NativeCodeLoader: Unable to load native-hadoop library for your platform... using builtin-java classes where applicable\n"
     ]
    }
   ],
   "source": [
    "spark = (\n",
    "    SparkSession.builder.appName(\"Preprocessing_Yellow\")\n",
    "    .config(\"spark.sql.repl.eagerEval.enabled\", True) \n",
    "    .config(\"spark.sql.parquet.cacheMetadata\", \"true\")\n",
    "    .config(\"spark.sql.session.timeZone\", \"Etc/UTC\")\n",
    "    .config(\"spark.sql.session.timeZone\", \"Etc/UTC\")\n",
    "    .config('spark.driver.memory', '3g')   \n",
    "    .config('spark.executor.memory', '4g')  \n",
    "    .config('spark.executor.instances', '2')  \n",
    "    .config('spark.executor.cores', '2')\n",
    "    .getOrCreate()\n",
    ")"
   ]
  },
  {
   "cell_type": "code",
   "execution_count": 3,
   "metadata": {},
   "outputs": [
    {
     "name": "stderr",
     "output_type": "stream",
     "text": [
      "                                                                                \r"
     ]
    }
   ],
   "source": [
    "merchant_agg = spark.read.parquet(\"../../../data/insights/agg_insight_data/merchant_agg.parquet/\")\n",
    "consumers_agg = spark.read.parquet(\"../../../data/insights/agg_insight_data/consumers_agg.parquet/\")\n",
    "orders_agg = spark.read.parquet(\"../../../data/insights/agg_insight_data/orders_agg.parquet/\")\n",
    "postcode_agg = spark.read.parquet(\"../../../data/insights/agg_insight_data/postcode_agg.parquet/\")\n",
    "descriptions_agg = spark.read.parquet(\"../../../data/insights/agg_insight_data/descriptions_agg.parquet/\")"
   ]
  },
  {
   "cell_type": "markdown",
   "metadata": {},
   "source": [
    "Next we want to check for duplicate or unnecessary"
   ]
  },
  {
   "cell_type": "code",
   "execution_count": 4,
   "metadata": {},
   "outputs": [
    {
     "name": "stdout",
     "output_type": "stream",
     "text": [
      "['merchant_abn', 'name', 'revenue_level', 'take_rate', 'average_merchant_fraud_probability']\n"
     ]
    }
   ],
   "source": [
    "print(merchant_agg.columns)"
   ]
  },
  {
   "cell_type": "code",
   "execution_count": 5,
   "metadata": {},
   "outputs": [
    {
     "name": "stdout",
     "output_type": "stream",
     "text": [
      "['merchant_abn', 'number_of_unique_consumers', 'average_consumer_fraud_probability', 'number_of_repeat_consumers', 'average_repeat_transactions_per_consumer']\n"
     ]
    }
   ],
   "source": [
    "print(consumers_agg.columns)"
   ]
  },
  {
   "cell_type": "code",
   "execution_count": 6,
   "metadata": {},
   "outputs": [
    {
     "name": "stdout",
     "output_type": "stream",
     "text": [
      "['merchant_abn', 'number_of_orders', 'average_cost_of_order', 'average_spend_per_consumer', 'average_monthly_diff_consumers', 'consumer_diff_over_period', 'average_growth_consumers', 'merchant_revenue_rounded', 'first_recorded_transaction', 'last_recorded_transaction', 'transcation_period_months']\n"
     ]
    }
   ],
   "source": [
    "print(orders_agg.columns)"
   ]
  },
  {
   "cell_type": "code",
   "execution_count": 7,
   "metadata": {},
   "outputs": [
    {
     "name": "stdout",
     "output_type": "stream",
     "text": [
      "['merchant_abn', 'name', 'number_of_postcodes', 'avg_total_weekly_personal_income', 'avg_total_weekly_fam_income', 'avg_median_age', 'avg_household_size', 'postcode_reach', 'avg_num_of_consumers_per_postcode']\n"
     ]
    }
   ],
   "source": [
    "print(postcode_agg.columns)"
   ]
  },
  {
   "cell_type": "code",
   "execution_count": 8,
   "metadata": {},
   "outputs": [],
   "source": [
    "postcode_agg = postcode_agg.drop(\"name\")"
   ]
  },
  {
   "cell_type": "code",
   "execution_count": 9,
   "metadata": {},
   "outputs": [
    {
     "name": "stdout",
     "output_type": "stream",
     "text": [
      "['merchant_abn', 'merchant_description', 'segment']\n"
     ]
    }
   ],
   "source": [
    "print(descriptions_agg.columns)"
   ]
  },
  {
   "cell_type": "code",
   "execution_count": 10,
   "metadata": {},
   "outputs": [],
   "source": [
    "descriptions_agg = descriptions_agg.drop(\"merchant_description\")"
   ]
  },
  {
   "cell_type": "markdown",
   "metadata": {},
   "source": [
    "### Joining the Data"
   ]
  },
  {
   "cell_type": "code",
   "execution_count": 11,
   "metadata": {},
   "outputs": [],
   "source": [
    "joined_df = merchant_agg.join(consumers_agg, on = \"merchant_abn\", how = \"inner\").\\\n",
    "                join(orders_agg, on = \"merchant_abn\", how = \"inner\").\\\n",
    "                join(postcode_agg, on = \"merchant_abn\", how = \"inner\").\\\n",
    "                join(descriptions_agg, on = \"merchant_abn\", how = \"inner\")"
   ]
  },
  {
   "cell_type": "code",
   "execution_count": 12,
   "metadata": {},
   "outputs": [],
   "source": [
    "joined_df = joined_df.fillna(0)"
   ]
  },
  {
   "cell_type": "code",
   "execution_count": 13,
   "metadata": {},
   "outputs": [
    {
     "name": "stderr",
     "output_type": "stream",
     "text": [
      "23/10/02 22:22:08 WARN package: Truncated the string representation of a plan since it was too large. This behavior can be adjusted by setting 'spark.sql.debug.maxToStringFields'.\n",
      "                                                                                \r"
     ]
    },
    {
     "name": "stdout",
     "output_type": "stream",
     "text": [
      "+------------+--------------------+-------------+---------+----------------------------------+--------------------------+----------------------------------+--------------------------+----------------------------------------+----------------+---------------------+--------------------------+------------------------------+-------------------------+------------------------+------------------------+--------------------------+-------------------------+-------------------------+-------------------+--------------------------------+---------------------------+------------------+------------------+--------------------+---------------------------------+--------------------+\n",
      "|merchant_abn|                name|revenue_level|take_rate|average_merchant_fraud_probability|number_of_unique_consumers|average_consumer_fraud_probability|number_of_repeat_consumers|average_repeat_transactions_per_consumer|number_of_orders|average_cost_of_order|average_spend_per_consumer|average_monthly_diff_consumers|consumer_diff_over_period|average_growth_consumers|merchant_revenue_rounded|first_recorded_transaction|last_recorded_transaction|transcation_period_months|number_of_postcodes|avg_total_weekly_personal_income|avg_total_weekly_fam_income|    avg_median_age|avg_household_size|      postcode_reach|avg_num_of_consumers_per_postcode|             segment|\n",
      "+------------+--------------------+-------------+---------+----------------------------------+--------------------------+----------------------------------+--------------------------+----------------------------------------+----------------+---------------------+--------------------------+------------------------------+-------------------------+------------------------+------------------------+--------------------------+-------------------------+-------------------------+-------------------+--------------------------------+---------------------------+------------------+------------------+--------------------+---------------------------------+--------------------+\n",
      "| 19839532017|Pellentesque Habi...|            b|     4.94|                               0.0|                       603|               0.04789934853420196|                        11|                      1.0182421227197347|             614|                157.0|        159.86401326699834|                           1.0|                       20|      0.5481852724993155|                 96398.0|                2021-02-28|               2022-10-21|              19.77419355|                550|               795.9014657980456|         1955.6897394136809| 43.14087947882736| 2.459983713355049|  0.2084122773777946|               1.1163636363636364|tech_and_electronics|\n",
      "| 83412691377|Suspendisse Sagit...|            c|     2.94|                               0.0|                      8990|              0.032161351441985245|                      2419|                      1.3268075639599555|           11928|     34.9712743125419|          46.4001512791991|                          29.4|                      588|      1.6845767064210837|               417137.36|                2021-02-28|               2022-10-03|              19.19354839|               2551|               791.1057595573441|         1980.4491532528505| 43.16436116700201|2.4577900737759895|  0.9666540356195529|                4.675813406507252|antiques_and_jewe...|\n",
      "| 15613631617|     Ante Industries|            e|     0.35|                               0.0|                      1427|              0.026029130141604854|                        53|                      1.0392431674842326|            1483|   303.77948078219816|        315.70074982480725|                          3.65|                       73|      1.8213978016950807|               450504.97|                2021-02-28|               2022-10-06|              19.29032258|               1095|               794.2902899527984|           1996.02056641942| 42.92886041807148| 2.460141604855023|  0.4149298976885184|                1.354337899543379|specialized_services|\n",
      "| 38700038932|Etiam Bibendum In...|            a|     6.31|                               0.0|                      5154|                0.6055662180349933|                       707|                       1.153279006596818|            5944|   1344.3426917900406|          1550.40220411331|                          13.3|                      266|       0.640920433393046|              7990772.96|                2021-02-28|               2022-10-16|              19.61290323|               2286|               794.7892833109017|         1984.2214838492598| 43.09210969044415|2.4526059892328402|  0.8662372110647972|                2.600174978127734|garden_and_furnis...|\n",
      "| 73256306726|              Id LLP|            b|     4.81|                               0.0|                      3899|              0.056487365283191926|                       436|                       1.118491921005386|            4361|   283.94453107085525|         317.5896640164145|                           9.1|                      182|       1.587356615536765|               1238282.1|                2021-02-28|               2022-10-15|              19.58064516|               2049|               791.8448750286632|         1982.7209355652374| 43.25200642054575| 2.449683558816785|  0.7764304660856385|                2.128355295265983|specialized_services|\n",
      "| 35344855546|Quis Tristique Ac...|            c|     2.92|                               0.0|                      1237|                0.0537223704866562|                        37|                      1.0299110751818916|            1274|     89.1236813186813|         91.78946645109139|                           3.1|                       62|       1.281007897467257|               113543.57|                2021-02-28|               2022-10-05|              19.25806452|                995|               795.7967032967033|         1973.1934850863422| 42.75470957613815| 2.450125588697017| 0.37703675634710115|               1.2804020100502513|antiques_and_jewe...|\n",
      "| 73841664453|      Lacinia At LLP|            a|     5.55|                               0.0|                       792|              0.026274845869297167|                        19|                       1.023989898989899|             811|    85.53958076448829|         87.59166666666665|            0.3157894736842105|                        6|     0.05503008062738842|                 69372.6|                2021-03-22|               2022-10-03|              18.38709677|                679|               796.4198520345253|         2013.9562268803945| 42.88101109741061|2.4399506781750935|  0.2572944297082228|               1.1944035346097202|tech_and_electronics|\n",
      "| 48214071373|       Ridiculus LLC|            b|     4.02|                               0.0|                       449|               0.14024569536423842|                         4|                      1.0089086859688197|             453|    303.3611479028698|         306.0636971046771|            0.9473684210526315|                       18|     0.12422381611410645|                137422.6|                2021-03-06|               2022-10-04|              18.93548387|                421|               780.9304635761589|         1961.6280353200882| 43.18101545253863|2.4285209713024285| 0.15953012504736644|               1.0760095011876485|specialized_services|\n",
      "| 12516851436|        Mollis Corp.|            a|     6.71|                               0.0|                       179|                               0.0|                         0|                                     1.0|             179|   155.86396648044695|        155.86396648044695|          -0.10526315789473684|                       -2|     0.12312030075187966|                27899.65|                2021-03-21|               2022-10-09|              18.61290323|                172|               803.6005586592179|         1995.6005586592178|42.513966480446925| 2.476424581005587|  0.0651762031072376|               1.0406976744186047|antiques_and_jewe...|\n",
      "| 38986645707|    Lectus Justo LLC|            c|     1.72|                               0.0|                        34|                               0.0|                         0|                                     1.0|              34|   1031.5729411764707|        1031.5729411764707|           0.07692307692307693|                        1|       0.408974358974359|                35073.48|                2021-05-28|               2022-10-03|              16.19354839|                 34|               740.4558823529412|         1858.1323529411766| 43.39705882352941| 2.429705882352941|0.012883668056081848|                              1.0|  retail_and_novelty|\n",
      "| 96946925998|Nisi Cum Corporation|            a|     5.99|                               0.0|                       110|               0.18565272727272725|                         0|                                     1.0|             110|   1004.9574545454547|        1004.9574545454547|                           0.0|                        0|     0.30692640692640694|               110545.32|                2021-03-28|               2022-10-19|              18.70967742|                107|               766.0363636363636|                     1842.1| 44.25454545454546| 2.406727272727273| 0.04054566123531641|                 1.02803738317757|  retail_and_novelty|\n",
      "| 41956465747|       Pede Cras LLP|            b|     3.79|                               0.0|                       243|               0.12927950819672132|                         1|                      1.0041152263374487|             244|   225.88536885245898|        226.81493827160494|           0.15789473684210525|                        3|      0.1032223065891797|                55116.03|                2021-03-02|               2022-10-04|              19.06451613|                232|                804.327868852459|         1988.4918032786886| 42.33606557377049| 2.461270491803279| 0.08791208791208792|               1.0517241379310345|specialized_services|\n",
      "| 52763133264|      Dui Lectus LLP|            a|     5.63|                               0.0|                       111|                               0.0|                         0|                                     1.0|             111|   116.72171171171172|         116.7217117117117|          -0.10526315789473684|                       -2|      0.5236424394319132|                12956.11|                2021-03-02|               2022-10-10|              19.25806452|                108|               784.7612612612612|         1985.2477477477478|43.990990990990994| 2.443243243243243| 0.04092459264873058|               1.0277777777777777|antiques_and_jewe...|\n",
      "| 92202115241|Fames Ac Turpis L...|            a|     5.66|                               0.0|                        98|                               0.0|                         0|                                     1.0|              98|    330.3822448979592|        330.38224489795925|                           0.0|                        0|     0.11666666666666665|                32377.46|                2021-03-12|               2022-10-19|              19.22580645|                 97|               774.5918367346939|         1936.4336734693877|  43.4030612244898|             2.465| 0.03675634710117469|               1.0103092783505154|  retail_and_novelty|\n",
      "| 57798993346|       Malesuada LLC|            b|     4.34|                               0.0|                        17|                               0.0|                         0|                                     1.0|              17|    968.0717647058824|         968.0717647058826|                           0.0|                        0|      0.4083333333333333|                16457.22|                2021-04-22|               2022-10-10|              17.61290323|                 17|               838.4117647058823|          2108.176470588235|44.205882352941174|2.3858823529411763|0.006441834028040924|                              1.0|garden_and_furnis...|\n",
      "| 34440496342|Mauris Nulla Inte...|            c|     2.85|                               0.0|                       187|                0.1649235294117647|                         0|                                     1.0|             187|    89.50550802139037|         89.50550802139037|          -0.21052631578947367|                       -4|     0.17312688149212505|                16737.53|                2021-03-28|               2022-10-24|              18.87096774|                184|               792.3288770053476|         1997.7780748663101| 43.70320855614973| 2.470106951871658| 0.06972338006820765|                1.016304347826087|specialized_services|\n",
      "| 60654402457|Lacus Quisque Imp...|            b|     3.52|                               0.0|                       157|                               0.0|                         1|                      1.0063694267515924|             158|    85.27993670886076|         85.82312101910827|           0.21052631578947367|                        4|     0.14107807397281083|                13474.23|                2021-03-14|               2022-10-20|              19.19354839|                151|                818.376582278481|           1927.23417721519|43.787974683544306|2.4038607594936705| 0.05721864342553998|               1.0463576158940397|tech_and_electronics|\n",
      "| 78916025936|Urna Nec Corporation|            e|     0.37|                               0.0|                        51|                               0.0|                         1|                      1.0196078431372548|              52|     332.979423076923|          339.508431372549|                           0.0|                        0|     0.40277777777777785|                17314.93|                2021-04-11|               2022-09-10|              16.96774194|                 51|               809.2788461538462|         2004.5961538461538| 41.96153846153846| 2.526346153846154|0.019325502084122773|               1.0196078431372548|garden_and_furnis...|\n",
      "| 37935728745|Laoreet Lectus Qu...|            b|     4.12|                               0.0|                        13|                 8.510546153846153|                         0|                                     1.0|              13|   10533.824615384616|        10533.824615384616|                           0.0|                        0|     0.09259259259259259|               136939.72|                2021-05-12|               2022-10-18|              17.19354839|                 13|               852.9615384615385|          2128.230769230769| 43.61538461538461|2.3830769230769233|0.004926108374384...|                              1.0|antiques_and_jewe...|\n",
      "| 29216160692|    Class Aptent LLC|            a|      5.6|                               0.0|                      3378|               0.03685257510729614|                       327|                       1.103611604499704|            3728|   107.06837178111584|        118.16189757252815|                          10.1|                      202|      1.0663359396134502|               399150.89|                2021-02-28|               2022-10-08|              19.35483871|               1896|               789.0576716738198|         1975.0893240343348| 43.10354077253219|2.4536668454935624|  0.7184539598332702|               1.9662447257383966|garden_and_furnis...|\n",
      "+------------+--------------------+-------------+---------+----------------------------------+--------------------------+----------------------------------+--------------------------+----------------------------------------+----------------+---------------------+--------------------------+------------------------------+-------------------------+------------------------+------------------------+--------------------------+-------------------------+-------------------------+-------------------+--------------------------------+---------------------------+------------------+------------------+--------------------+---------------------------------+--------------------+\n",
      "only showing top 20 rows\n",
      "\n"
     ]
    }
   ],
   "source": [
    "joined_df.show()"
   ]
  },
  {
   "cell_type": "code",
   "execution_count": 14,
   "metadata": {},
   "outputs": [],
   "source": [
    "joined_df = joined_df.withColumn(\"bnpl_maximum_gain\", (joined_df.take_rate/100) * joined_df.merchant_revenue_rounded)"
   ]
  },
  {
   "cell_type": "markdown",
   "metadata": {},
   "source": [
    "### Saving Data"
   ]
  },
  {
   "cell_type": "code",
   "execution_count": 15,
   "metadata": {},
   "outputs": [
    {
     "name": "stderr",
     "output_type": "stream",
     "text": [
      "                                                                                \r"
     ]
    }
   ],
   "source": [
    "joined_df.write.mode(\"overwrite\").parquet(\"../../../data/insights/joined.parquet\")"
   ]
  },
  {
   "cell_type": "code",
   "execution_count": 16,
   "metadata": {},
   "outputs": [],
   "source": [
    "# number of postcodes / total number of postcodes = reach\n",
    "\n",
    "# number of consumers / number of repeat consumers = customer retainability\n",
    "\n",
    "# average number of repeat consumer transaction per merchant.\n",
    "\n",
    "# avg spend amount per consumer\n",
    "\n",
    "# estimated consumer growth rate (group by month and calculate average increase / decrease)\n",
    "\n",
    "# estimated revenue growth rate (group by month and calculate average increase / decrease)\n",
    "\n"
   ]
  },
  {
   "cell_type": "code",
   "execution_count": 17,
   "metadata": {},
   "outputs": [],
   "source": [
    "spark.stop()"
   ]
  }
 ],
 "metadata": {
  "kernelspec": {
   "display_name": "Python 3",
   "language": "python",
   "name": "python3"
  },
  "language_info": {
   "codemirror_mode": {
    "name": "ipython",
    "version": 3
   },
   "file_extension": ".py",
   "mimetype": "text/x-python",
   "name": "python",
   "nbconvert_exporter": "python",
   "pygments_lexer": "ipython3",
   "version": "3.9.5"
  },
  "orig_nbformat": 4
 },
 "nbformat": 4,
 "nbformat_minor": 2
}
