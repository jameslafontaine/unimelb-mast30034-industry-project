{
 "cells": [
  {
   "cell_type": "code",
   "execution_count": 1,
   "metadata": {},
   "outputs": [],
   "source": [
    "from pyspark.sql import SparkSession, functions as f"
   ]
  },
  {
   "cell_type": "code",
   "execution_count": 2,
   "metadata": {},
   "outputs": [
    {
     "name": "stderr",
     "output_type": "stream",
     "text": [
      "your 131072x1 screen size is bogus. expect trouble\n",
      "23/09/14 00:11:06 WARN Utils: Your hostname, NivethanAsus resolves to a loopback address: 127.0.1.1; using 172.20.150.32 instead (on interface eth0)\n",
      "23/09/14 00:11:06 WARN Utils: Set SPARK_LOCAL_IP if you need to bind to another address\n",
      "Setting default log level to \"WARN\".\n",
      "To adjust logging level use sc.setLogLevel(newLevel). For SparkR, use setLogLevel(newLevel).\n",
      "23/09/14 00:11:11 WARN NativeCodeLoader: Unable to load native-hadoop library for your platform... using builtin-java classes where applicable\n",
      "23/09/14 00:11:13 WARN Utils: Service 'SparkUI' could not bind on port 4040. Attempting port 4041.\n",
      "23/09/14 00:11:13 WARN Utils: Service 'SparkUI' could not bind on port 4041. Attempting port 4042.\n"
     ]
    }
   ],
   "source": [
    "spark = (\n",
    "    SparkSession.builder.appName(\"Preprocessing_Yellow\")\n",
    "    .config(\"spark.sql.repl.eagerEval.enabled\", True) \n",
    "    .config(\"spark.sql.parquet.cacheMetadata\", \"true\")\n",
    "    .config(\"spark.sql.session.timeZone\", \"Etc/UTC\")\n",
    "    .config(\"spark.sql.session.timeZone\", \"Etc/UTC\")\n",
    "    .config('spark.driver.memory', '3g')   \n",
    "    .config('spark.executor.memory', '4g')  \n",
    "    .config('spark.executor.instances', '2')  \n",
    "    .config('spark.executor.cores', '2')\n",
    "    .getOrCreate()\n",
    ")"
   ]
  },
  {
   "cell_type": "code",
   "execution_count": 3,
   "metadata": {},
   "outputs": [
    {
     "name": "stderr",
     "output_type": "stream",
     "text": [
      "                                                                                \r"
     ]
    }
   ],
   "source": [
    "merchant_agg = spark.read.parquet(\"../../../data/insights/agg_insight_data/merchant_agg.parquet/\")\n",
    "consumers_agg = spark.read.parquet(\"../../../data/insights/agg_insight_data/consumers_agg.parquet/\")\n",
    "orders_agg = spark.read.parquet(\"../../../data/insights/agg_insight_data/orders_agg.parquet/\")\n",
    "postcode_agg = spark.read.parquet(\"../../../data/insights/agg_insight_data/postcode_agg.parquet/\")\n",
    "descriptions_agg = spark.read.parquet(\"../../../data/insights/agg_insight_data/descriptions_agg.parquet/\")"
   ]
  },
  {
   "cell_type": "code",
   "execution_count": 4,
   "metadata": {},
   "outputs": [
    {
     "name": "stdout",
     "output_type": "stream",
     "text": [
      "['merchant_abn', 'name', 'revenue_level', 'take_rate', 'average_merchant_fraud_probability']\n"
     ]
    }
   ],
   "source": [
    "print(merchant_agg.columns)"
   ]
  },
  {
   "cell_type": "code",
   "execution_count": 5,
   "metadata": {},
   "outputs": [
    {
     "name": "stdout",
     "output_type": "stream",
     "text": [
      "['merchant_abn', 'number_of_consumers', 'average_consumer_fraud_probability', 'number_of_repeat_consumers']\n"
     ]
    }
   ],
   "source": [
    "print(consumers_agg.columns)"
   ]
  },
  {
   "cell_type": "code",
   "execution_count": 6,
   "metadata": {},
   "outputs": [
    {
     "name": "stdout",
     "output_type": "stream",
     "text": [
      "['merchant_abn', 'number_of_orders', 'average_cost_of_order']\n"
     ]
    }
   ],
   "source": [
    "print(orders_agg.columns)"
   ]
  },
  {
   "cell_type": "code",
   "execution_count": 7,
   "metadata": {},
   "outputs": [
    {
     "name": "stdout",
     "output_type": "stream",
     "text": [
      "['merchant_abn', 'name', 'number_of_postcodes', 'avg_total_weekly_personal_income', 'avg_total_weekly_fam_income', 'avg_median_age', 'avg_num_of_consumers_per_postcode']\n"
     ]
    }
   ],
   "source": [
    "print(postcode_agg.columns)"
   ]
  },
  {
   "cell_type": "code",
   "execution_count": 8,
   "metadata": {},
   "outputs": [],
   "source": [
    "postcode_agg = postcode_agg.drop(\"name\")"
   ]
  },
  {
   "cell_type": "code",
   "execution_count": 9,
   "metadata": {},
   "outputs": [
    {
     "name": "stdout",
     "output_type": "stream",
     "text": [
      "['merchant_abn', 'merchant_description']\n"
     ]
    }
   ],
   "source": [
    "print(descriptions_agg.columns)"
   ]
  },
  {
   "cell_type": "code",
   "execution_count": 10,
   "metadata": {},
   "outputs": [],
   "source": [
    "joined_df = merchant_agg.join(consumers_agg, on = \"merchant_abn\", how = \"leftouter\").\\\n",
    "                join(orders_agg, on = \"merchant_abn\", how = \"leftouter\").\\\n",
    "                join(postcode_agg, on = \"merchant_abn\", how = \"leftouter\").\\\n",
    "                join(descriptions_agg, on = \"merchant_abn\", how = \"leftouter\")"
   ]
  },
  {
   "cell_type": "code",
   "execution_count": 11,
   "metadata": {},
   "outputs": [
    {
     "name": "stderr",
     "output_type": "stream",
     "text": [
      "                                                                                \r"
     ]
    },
    {
     "name": "stdout",
     "output_type": "stream",
     "text": [
      "+------------+--------------------+-------------+---------+----------------------------------+-------------------+----------------------------------+--------------------------+----------------+---------------------+-------------------+--------------------------------+---------------------------+------------------+---------------------------------+--------------------+\n",
      "|merchant_abn|                name|revenue_level|take_rate|average_merchant_fraud_probability|number_of_consumers|average_consumer_fraud_probability|number_of_repeat_consumers|number_of_orders|average_cost_of_order|number_of_postcodes|avg_total_weekly_personal_income|avg_total_weekly_fam_income|    avg_median_age|avg_num_of_consumers_per_postcode|merchant_description|\n",
      "+------------+--------------------+-------------+---------+----------------------------------+-------------------+----------------------------------+--------------------------+----------------+---------------------+-------------------+--------------------------------+---------------------------+------------------+---------------------------------+--------------------+\n",
      "| 10023283211|       Felis Limited|            e|     0.18|                               0.0|               2525|               0.09550206947524022|                       174|            2706|    215.7980081300813|               2706|               786.7023281596453|         1971.1237989652623|43.031966001478196|                1.662162162162162|furniture, home f...|\n",
      "| 10142254217|Arcu Ac Orci Corp...|            b|     4.22|                               0.0|               2389|                0.0643558176100629|                       151|            2544|   38.591360062893074|               2544|                          792.25|         1983.4270833333333|42.850628930817614|               1.5989943431803897|cable, satellite,...|\n",
      "| 10165489824|    Nunc Sed Company|            b|      4.4|                               0.0|                  4|                          6.979425|                      null|               4|             8885.895|                  4|                           817.5|                   2066.125|            41.625|                              1.0|jewelry, watch, c...|\n",
      "| 10187291046|Ultricies Digniss...|            b|     3.29|                               0.0|                291|               0.05802157534246575|                         1|             292|   115.99544520547944|                292|               796.5479452054794|         1961.1712328767123|            43.125|               1.0695970695970696|watch, clock, and...|\n",
      "| 10192359162| Enim Condimentum PC|            a|     6.33|                               0.0|                321|               0.03612631578947368|                         2|             323|     460.347213622291|                323|               808.8777089783282|          2024.267801857585|43.294117647058826|                1.066006600660066|music shops - mus...|\n",
      "| 10206519221|       Fusce Company|            a|     6.34|                               0.0|               6652|              0.058118802262666004|                      1302|            8132|    37.38561977373341|               8132|               787.4551155927201|         1969.9857353664536| 43.11184210526316|                 3.33552091878589|gift, card, novel...|\n",
      "| 10255988167|Aliquam Enim Inco...|            b|     4.32|                               0.0|                676|               0.04789317851959362|                        13|             689|   386.90857764876625|                689|               787.7039187227866|         1962.8512336719884| 43.33309143686502|               1.1658206429780034|computers, comput...|\n",
      "| 10264435225|    Ipsum Primis Ltd|            c|     2.39|                               0.0|               3792|               0.06804533333333335|                       386|            4200|   117.50223571428575|               4200|               791.6504761904762|         1976.6973809523809|43.102380952380955|                2.069985214391326|watch, clock, and...|\n",
      "| 10279061213|Pede Ultrices Ind...|            a|     5.71|                               0.0|                458|              0.018667241379310345|                         5|             464|   299.40495689655177|                464|               812.3491379310345|         2018.7068965517242| 42.73922413793103|                1.107398568019093|computer programm...|\n",
      "| 10323485998|           Nunc Inc.|            a|     6.61|                               0.0|               7032|               0.04971392712550608|                      1387|            8645|   128.33861422787731|               8645|               790.5197223828803|         1979.6085020242915|  43.1294968189705|                3.534341782502044|furniture, home f...|\n",
      "| 10342410215|Facilisis Facilis...|            a|     6.34|                               0.0|                705|               0.04047440225035162|                         6|             711|    381.3817440225036|                711|               792.8706047819971|         1999.0246132208158|43.326300984528835|                1.148626817447496|computers, comput...|\n",
      "| 10346855916|      Odio Institute|            b|     3.57|                               0.0|                  8|                         1.3837875|                      null|               8|   1982.5687500000001|                  8|                         768.375|                     1979.0|           43.4375|                              1.0|equipment, tool, ...|\n",
      "| 10364012396|    Rutrum Justo Ltd|            b|     3.63|                               0.0|                 34|                               0.0|                      null|              34|   464.28617647058815|                 34|               832.8823529411765|         2171.9117647058824|              41.5|                              1.0|music shops - mus...|\n",
      "| 10385011947|   Tellus Foundation|            b|     3.17|                               0.0|                 21|                               0.0|                      null|              21|    642.5914285714285|                 21|               741.5714285714286|                     1879.5| 41.45238095238095|                              1.0|artist supply and...|\n",
      "| 10385163239|      Sed Et Company|            a|     6.61|                               0.0|                 63|                               0.0|                         1|              64|          350.3803125|                 64|                     793.0859375|                1989.890625|         42.328125|                1.032258064516129|florists supplies...|\n",
      "| 10385250025|              Id Ltd|            a|     5.54|                               0.0|                557|               0.05907094474153298|                         4|             561|   499.43828877005336|                561|               783.6408199643494|         1976.5802139037432| 43.34313725490196|                              1.1|computers, comput...|\n",
      "| 10404542215|Consequat Foundation|            a|     6.93|                               0.0|                  1|                           60.4865|                      null|               1|             22773.98|                  1|                           710.5|                     1600.5|              44.5|                              1.0|antique shops - s...|\n",
      "| 10430380319|Sit Amet Nulla Corp.|            b|     4.97|                               0.0|                135|                               0.0|                      null|             135|    336.1692592592593|                135|               785.7481481481482|          1953.625925925926| 42.93703703703704|                              1.0|motor vehicle sup...|\n",
      "| 10441711491|Massa Vestibulum ...|            a|     5.77|                               0.0|                  3|                               0.0|                      null|               3|    5751.206666666668|                  3|               758.3333333333334|         1945.6666666666667|37.333333333333336|                              1.0|motor vehicle sup...|\n",
      "| 10462560289|       Ut Consulting|            c|     2.95|                               0.0|               1306|              0.006131001472754051|                        52|            1358|    35.14030191458028|               1358|               789.9506627393225|         1977.5073637702503|43.198821796759944|               1.3287671232876712|gift, card, novel...|\n",
      "+------------+--------------------+-------------+---------+----------------------------------+-------------------+----------------------------------+--------------------------+----------------+---------------------+-------------------+--------------------------------+---------------------------+------------------+---------------------------------+--------------------+\n",
      "only showing top 20 rows\n",
      "\n"
     ]
    }
   ],
   "source": [
    "joined_df.show()"
   ]
  },
  {
   "cell_type": "code",
   "execution_count": 12,
   "metadata": {},
   "outputs": [
    {
     "name": "stderr",
     "output_type": "stream",
     "text": [
      "                                                                                \r"
     ]
    }
   ],
   "source": [
    "joined_df.write.mode(\"overwrite\").parquet(\"../../../data/insights/joined.parquet\")"
   ]
  }
 ],
 "metadata": {
  "kernelspec": {
   "display_name": "Python 3",
   "language": "python",
   "name": "python3"
  },
  "language_info": {
   "codemirror_mode": {
    "name": "ipython",
    "version": 3
   },
   "file_extension": ".py",
   "mimetype": "text/x-python",
   "name": "python",
   "nbconvert_exporter": "python",
   "pygments_lexer": "ipython3",
   "version": "3.8.10"
  },
  "orig_nbformat": 4
 },
 "nbformat": 4,
 "nbformat_minor": 2
}
