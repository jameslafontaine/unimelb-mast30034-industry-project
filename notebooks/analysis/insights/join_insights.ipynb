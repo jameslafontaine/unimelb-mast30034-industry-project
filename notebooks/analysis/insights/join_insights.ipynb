{
 "cells": [
  {
   "cell_type": "code",
   "execution_count": 1,
   "metadata": {},
   "outputs": [],
   "source": [
    "from pyspark.sql import SparkSession, functions as f"
   ]
  },
  {
   "cell_type": "code",
   "execution_count": 2,
   "metadata": {},
   "outputs": [
    {
     "name": "stderr",
     "output_type": "stream",
     "text": [
      "your 131072x1 screen size is bogus. expect trouble\n",
      "23/09/25 15:45:19 WARN Utils: Your hostname, DESKTOP-SATV84A resolves to a loopback address: 127.0.1.1; using 172.26.254.29 instead (on interface eth0)\n",
      "23/09/25 15:45:19 WARN Utils: Set SPARK_LOCAL_IP if you need to bind to another address\n",
      "Setting default log level to \"WARN\".\n",
      "To adjust logging level use sc.setLogLevel(newLevel). For SparkR, use setLogLevel(newLevel).\n",
      "23/09/25 15:45:20 WARN NativeCodeLoader: Unable to load native-hadoop library for your platform... using builtin-java classes where applicable\n"
     ]
    }
   ],
   "source": [
    "spark = (\n",
    "    SparkSession.builder.appName(\"Preprocessing_Yellow\")\n",
    "    .config(\"spark.sql.repl.eagerEval.enabled\", True) \n",
    "    .config(\"spark.sql.parquet.cacheMetadata\", \"true\")\n",
    "    .config(\"spark.sql.session.timeZone\", \"Etc/UTC\")\n",
    "    .config(\"spark.sql.session.timeZone\", \"Etc/UTC\")\n",
    "    .config('spark.driver.memory', '3g')   \n",
    "    .config('spark.executor.memory', '4g')  \n",
    "    .config('spark.executor.instances', '2')  \n",
    "    .config('spark.executor.cores', '2')\n",
    "    .getOrCreate()\n",
    ")"
   ]
  },
  {
   "cell_type": "code",
   "execution_count": 3,
   "metadata": {},
   "outputs": [
    {
     "name": "stderr",
     "output_type": "stream",
     "text": [
      "                                                                                \r"
     ]
    }
   ],
   "source": [
    "merchant_agg = spark.read.parquet(\"../../../data/insights/agg_insight_data/merchant_agg.parquet/\")\n",
    "consumers_agg = spark.read.parquet(\"../../../data/insights/agg_insight_data/consumers_agg.parquet/\")\n",
    "orders_agg = spark.read.parquet(\"../../../data/insights/agg_insight_data/orders_agg.parquet/\")\n",
    "postcode_agg = spark.read.parquet(\"../../../data/insights/agg_insight_data/postcode_agg.parquet/\")\n",
    "descriptions_agg = spark.read.parquet(\"../../../data/insights/agg_insight_data/descriptions_agg.parquet/\")"
   ]
  },
  {
   "cell_type": "code",
   "execution_count": 4,
   "metadata": {},
   "outputs": [
    {
     "name": "stdout",
     "output_type": "stream",
     "text": [
      "['merchant_abn', 'name', 'revenue_level', 'take_rate', 'average_merchant_fraud_probability']\n"
     ]
    }
   ],
   "source": [
    "print(merchant_agg.columns)"
   ]
  },
  {
   "cell_type": "code",
   "execution_count": 5,
   "metadata": {},
   "outputs": [
    {
     "name": "stdout",
     "output_type": "stream",
     "text": [
      "['merchant_abn', 'number_of_consumers', 'average_consumer_fraud_probability', 'number_of_repeat_consumers']\n"
     ]
    }
   ],
   "source": [
    "print(consumers_agg.columns)"
   ]
  },
  {
   "cell_type": "code",
   "execution_count": 6,
   "metadata": {},
   "outputs": [
    {
     "name": "stdout",
     "output_type": "stream",
     "text": [
      "['merchant_abn', 'number_of_orders', 'average_cost_of_order']\n"
     ]
    }
   ],
   "source": [
    "print(orders_agg.columns)"
   ]
  },
  {
   "cell_type": "code",
   "execution_count": 7,
   "metadata": {},
   "outputs": [
    {
     "name": "stdout",
     "output_type": "stream",
     "text": [
      "['merchant_abn', 'name', 'number_of_postcodes', 'avg_total_weekly_personal_income', 'avg_total_weekly_fam_income', 'avg_median_age', 'avg_num_of_consumers_per_postcode']\n"
     ]
    }
   ],
   "source": [
    "print(postcode_agg.columns)"
   ]
  },
  {
   "cell_type": "code",
   "execution_count": 8,
   "metadata": {},
   "outputs": [],
   "source": [
    "postcode_agg = postcode_agg.drop(\"name\")"
   ]
  },
  {
   "cell_type": "code",
   "execution_count": 9,
   "metadata": {},
   "outputs": [
    {
     "name": "stdout",
     "output_type": "stream",
     "text": [
      "['merchant_abn', 'merchant_description', 'segment']\n"
     ]
    }
   ],
   "source": [
    "print(descriptions_agg.columns)"
   ]
  },
  {
   "cell_type": "code",
   "execution_count": 10,
   "metadata": {},
   "outputs": [],
   "source": [
    "joined_df = merchant_agg.join(consumers_agg, on = \"merchant_abn\", how = \"leftouter\").\\\n",
    "                join(orders_agg, on = \"merchant_abn\", how = \"leftouter\").\\\n",
    "                join(postcode_agg, on = \"merchant_abn\", how = \"leftouter\").\\\n",
    "                join(descriptions_agg, on = \"merchant_abn\", how = \"leftouter\")"
   ]
  },
  {
   "cell_type": "code",
   "execution_count": 11,
   "metadata": {},
   "outputs": [
    {
     "name": "stdout",
     "output_type": "stream",
     "text": [
      "+------------+--------------------+-------------+---------+----------------------------------+-------------------+----------------------------------+--------------------------+----------------+---------------------+-------------------+--------------------------------+---------------------------+------------------+---------------------------------+--------------------+--------------------+\n",
      "|merchant_abn|                name|revenue_level|take_rate|average_merchant_fraud_probability|number_of_consumers|average_consumer_fraud_probability|number_of_repeat_consumers|number_of_orders|average_cost_of_order|number_of_postcodes|avg_total_weekly_personal_income|avg_total_weekly_fam_income|    avg_median_age|avg_num_of_consumers_per_postcode|merchant_description|             segment|\n",
      "+------------+--------------------+-------------+---------+----------------------------------+-------------------+----------------------------------+--------------------------+----------------+---------------------+-------------------+--------------------------------+---------------------------+------------------+---------------------------------+--------------------+--------------------+\n",
      "| 10142254217|Arcu Ac Orci Corp...|            b|     4.22|                               0.0|               2389|                0.0643558176100629|                       151|            2544|    38.59136006289309|               2544|                          792.25|         1983.4270833333333|42.850628930817614|               1.5989943431803897|cable, satellite,...|tech_and_electronics|\n",
      "| 10165489824|    Nunc Sed Company|            b|      4.4|                               0.0|                  4|                          6.979425|                      null|               4|             8885.895|                  4|                           817.5|                   2066.125|            41.625|                              1.0|jewelry, watch, c...|antiques_and_jewe...|\n",
      "| 10187291046|Ultricies Digniss...|            b|     3.29|                               0.0|                291|               0.05802157534246575|                         1|             292|   115.99544520547944|                292|               796.5479452054794|         1961.1712328767123|            43.125|               1.0695970695970696|watch, clock, and...|antiques_and_jewe...|\n",
      "| 10192359162| Enim Condimentum PC|            a|     6.33|                               0.0|                321|               0.03612631578947368|                         2|             323|     460.347213622291|                323|               808.8777089783282|          2024.267801857585|43.294117647058826|                1.066006600660066|music shops - mus...|  retail_and_novelty|\n",
      "| 10206519221|       Fusce Company|            a|     6.34|                               0.0|               6652|              0.058118802262666004|                      1302|            8132|    37.38561977373339|               8132|               787.4551155927201|         1969.9857353664536| 43.11184210526316|                 3.33552091878589|gift, card, novel...|  retail_and_novelty|\n",
      "| 10255988167|Aliquam Enim Inco...|            b|     4.32|                               0.0|                676|               0.04789317851959362|                        13|             689|   386.90857764876637|                689|               787.7039187227866|         1962.8512336719884| 43.33309143686502|               1.1658206429780034|computers, comput...|tech_and_electronics|\n",
      "| 10264435225|    Ipsum Primis Ltd|            c|     2.39|                               0.0|               3792|               0.06804533333333335|                       386|            4200|   117.50223571428572|               4200|               791.6504761904762|         1976.6973809523809|43.102380952380955|                2.069985214391326|watch, clock, and...|antiques_and_jewe...|\n",
      "| 10279061213|Pede Ultrices Ind...|            a|     5.71|                               0.0|                458|              0.018667241379310345|                         5|             464|    299.4049568965517|                464|               812.3491379310345|         2018.7068965517242| 42.73922413793103|                1.107398568019093|computer programm...|tech_and_electronics|\n",
      "| 10364012396|    Rutrum Justo Ltd|            b|     3.63|                               0.0|                 34|                               0.0|                      null|              34|    464.2861764705882|                 34|               832.8823529411765|         2171.9117647058824|              41.5|                              1.0|music shops - mus...|  retail_and_novelty|\n",
      "| 10385250025|              Id Ltd|            a|     5.54|                               0.0|                557|               0.05907094474153298|                         4|             561|    499.4382887700535|                561|               783.6408199643494|         1976.5802139037432| 43.34313725490196|                              1.1|computers, comput...|tech_and_electronics|\n",
      "| 10404542215|Consequat Foundation|            a|     6.93|                               0.0|                  1|                           60.4865|                      null|               1|             22773.98|                  1|                           710.5|                     1600.5|              44.5|                              1.0|antique shops - s...|antiques_and_jewe...|\n",
      "| 10430380319|Sit Amet Nulla Corp.|            b|     4.97|                               0.0|                135|                               0.0|                      null|             135|   336.16925925925926|                135|               785.7481481481482|          1953.625925925926| 42.93703703703704|                              1.0|motor vehicle sup...|specialized_services|\n",
      "| 10441711491|Massa Vestibulum ...|            a|     5.77|                               0.0|                  3|                               0.0|                      null|               3|    5751.206666666668|                  3|               758.3333333333334|         1945.6666666666667|37.333333333333336|                              1.0|motor vehicle sup...|specialized_services|\n",
      "| 10462560289|       Ut Consulting|            c|     2.95|                               0.0|               1306|              0.006131001472754051|                        52|            1358|    35.14030191458026|               1358|               789.9506627393225|         1977.5073637702503|43.198821796759944|               1.3287671232876712|gift, card, novel...|  retail_and_novelty|\n",
      "| 10463252268|Id Mollis Corpora...|            a|     6.61|                               0.0|                 64|                               0.0|                      null|              64|          516.9284375|                 64|                        764.0625|                1879.578125|        44.1171875|                              1.0|artist supply and...|  retail_and_novelty|\n",
      "| 10530696903|Ut Semper Industries|            a|     6.46|                               0.0|                552|               0.07091180679785332|                         7|             559|   430.84960644007157|                559|               786.8282647584973|         1977.8050089445437| 43.35509838998211|               1.1202404809619237|books, periodical...|  retail_and_novelty|\n",
      "| 10545955006|Lacus Vestibulum ...|            a|     6.16|                               0.0|                363|               0.04602699724517906|                      null|             363|    457.1101377410468|                363|               797.3801652892562|         2003.9793388429753| 42.86914600550964|               1.0868263473053892|florists supplies...|garden_and_furnis...|\n",
      "| 10596295795|Egestas A Associates|            a|     6.84|                               0.0|                 83|                13.999204761904764|                         1|              84|    11157.06726190476|                 84|               760.0654761904761|         1864.4880952380952| 43.80952380952381|                             1.05|jewelry, watch, c...|antiques_and_jewe...|\n",
      "| 10618089367|Enim Consequat In...|            b|     4.01|                               0.0|               2667|               0.07239088678583946|                       181|            2853|   370.82461969856286|               2853|               791.8943217665615|         1976.5380301437083| 42.94514546091833|                1.682193396226415|stationery, offic...|  retail_and_novelty|\n",
      "| 10651113986|    Sed Et Libero PC|            b|     3.25|                               0.0|                 58|                               0.0|                      null|              58|    685.0320689655173|                 58|               775.5775862068965|          1890.896551724138| 43.21551724137931|                              1.0|tent and awning s...|garden_and_furnis...|\n",
      "+------------+--------------------+-------------+---------+----------------------------------+-------------------+----------------------------------+--------------------------+----------------+---------------------+-------------------+--------------------------------+---------------------------+------------------+---------------------------------+--------------------+--------------------+\n",
      "only showing top 20 rows\n",
      "\n"
     ]
    }
   ],
   "source": [
    "joined_df.show()"
   ]
  },
  {
   "cell_type": "code",
   "execution_count": 12,
   "metadata": {},
   "outputs": [],
   "source": [
    "joined_df.write.mode(\"overwrite\").parquet(\"../../../data/insights/joined.parquet\")"
   ]
  },
  {
   "cell_type": "code",
   "execution_count": 23,
   "metadata": {},
   "outputs": [
    {
     "name": "stdout",
     "output_type": "stream",
     "text": [
      "+------------+--------------------+-------------+---------+----------------------------------+-------------------+----------------------------------+--------------------------+----------------+---------------------+-------------------+--------------------------------+---------------------------+------------------+---------------------------------+--------------------+--------------------+\n",
      "|merchant_abn|                name|revenue_level|take_rate|average_merchant_fraud_probability|number_of_consumers|average_consumer_fraud_probability|number_of_repeat_consumers|number_of_orders|average_cost_of_order|number_of_postcodes|avg_total_weekly_personal_income|avg_total_weekly_fam_income|    avg_median_age|avg_num_of_consumers_per_postcode|merchant_description|             segment|\n",
      "+------------+--------------------+-------------+---------+----------------------------------+-------------------+----------------------------------+--------------------------+----------------+---------------------+-------------------+--------------------------------+---------------------------+------------------+---------------------------------+--------------------+--------------------+\n",
      "| 86578477987|   Leo In Consulting|            a|     6.43|                               0.0|              20115|              0.043976018822537884|                     20113|          227812|    34.99882855161276|             227812|               790.1220326409496|         1978.2443615788457| 43.12187242111917|                86.32512315270937|watch, clock, and...|antiques_and_jewe...|\n",
      "| 24852446429|      Erat Vitae LLP|            c|     2.94|                               0.0|              20114|               0.04446225413687605|                     20112|          241547|   30.038057562296334|             241547|               789.8770611930597|          1977.015175100498| 43.09343523206664|                91.52974611595302|florists supplies...|garden_and_furnis...|\n",
      "| 64203420245|  Pede Nonummy Corp.|            c|     2.86|                               0.0|              20115|              0.043438064056612435|                     20112|          217620|    28.95561745244007|             217620|               790.7058151824281|         1979.7334918665563|43.111308703244184|                82.46305418719211|tent and awning s...|garden_and_furnis...|\n",
      "| 49891706470|Non Vestibulum In...|            a|      5.8|                               0.0|              20113|               0.04247220417947379|                     20107|          206916|   28.969380811537054|             206916|               790.1097885132131|         1977.1003716483983| 43.10987792147538|                78.40697233800682|tent and awning s...|garden_and_furnis...|\n",
      "| 46804135891|Suspendisse Dui C...|            c|     2.93|                               0.0|              20113|               0.04336435521125033|                     20102|          195692|   30.010591490709878|             195692|               790.3532259877767|          1978.180837745028|  43.1073165995544|                74.15384615384616|opticians, optica...|specialized_services|\n",
      "| 45629217853|    Lacus Consulting|            a|     6.98|                               0.0|              20115|              0.042364532680646334|                     20095|          190801|    36.79374484410455|             190801|               790.4815802852187|         1978.4676076121195| 43.09236062704074|                72.30049261083744|gift, card, novel...|  retail_and_novelty|\n",
      "| 89726005175| Est Nunc Consulting|            a|     6.01|                               0.0|              20114|               0.04447215320508908|                     20090|          180229|   41.226611477620125|             180229|               789.9119481326535|         1977.1917948831765| 43.08975803006175|                68.29442970822281|tent and awning s...|garden_and_furnis...|\n",
      "| 43186523025|Lorem Ipsum Sodal...|            b|     4.47|                               0.0|              20110|               0.04278210494966943|                     20070|          167890|    45.00027571624277|             167890|               790.1568288760498|         1977.1446869974388|  43.1014860920841|                63.61879499810534|florists supplies...|garden_and_furnis...|\n",
      "| 80324045558|Ipsum Dolor Sit C...|            c|     1.47|                               0.0|              20111|              0.038376332271245796|                     20056|          164456|    36.71899061147053|             164456|               789.7301527460232|          1976.237729240648| 43.11248905482317|               62.317544524441075|gift, card, novel...|  retail_and_novelty|\n",
      "| 68216911708|Placerat Eget Ven...|            c|     3.05|                               0.0|              20103|              0.045805612356316146|                     20028|          151113|   38.501009443264316|             151113|               790.5961730625426|         1978.0999583093446| 43.10641705213979|                57.26146267525578|computers, comput...|tech_and_electronics|\n",
      "| 63290521567|Vehicula Pellente...|            a|     6.48|                               0.0|              20102|               0.04495485150207818|                     20024|          152056|   24.224093294575653|             152056|               790.7298199347608|         1979.8930690008945| 43.09258102278108|                57.61879499810534|artist supply and...|  retail_and_novelty|\n",
      "| 21439773999|Mauris Non Institute|            a|      6.1|                0.1270160723678334|              19979|              0.044972224923831176|                     19324|          100763|    78.17612397407774|             100763|               791.3108035687703|         1980.9260293957107| 43.08814247293153|               38.196739954510996|cable, satellite,...|tech_and_electronics|\n",
      "| 64403598239|Lobortis Ultrices...|            a|     6.31|                               0.0|              19950|               0.04937412588149726|                     19106|           94867|    78.20495166917908|              94867|               790.6689523227255|         1978.5105621554387|43.093177817365365|                35.94808639636226|music shops - mus...|  retail_and_novelty|\n",
      "| 72472909171|   Nullam Consulting|            a|     6.33|                               0.0|              19841|               0.04131709011535799|                     18610|           85213|    70.14288066374846|              85213|               789.5209944492037|         1975.6131576167957| 43.12369591494256|                32.28988253126184|digital goods: bo...|tech_and_electronics|\n",
      "| 94493496784|Dictum Phasellus ...|            a|     5.65|               0.14346641660535733|              19768|               0.04277271236114964|                     18485|           82913|    92.02054442608527|              82913|               790.3757372185303|         1978.0311048930807|43.107546464366266|               31.418340280409247|gift, card, novel...|  retail_and_novelty|\n",
      "| 79417999332|Phasellus At Company|            b|     4.95|                               0.0|              19824|               0.04912085657033871|                     18483|           82842|    91.80998539388239|              82842|                791.032344704377|         1980.6353359407065| 43.12722411337244|                31.39143615005684|gift, card, novel...|  retail_and_novelty|\n",
      "| 60956456424|Ultricies Digniss...|            b|     4.69|                               0.0|              19639|               0.04762779425528269|                     17901|           75861|    88.49787255638597|              75861|               791.2604961706279|          1980.906855960243| 43.08887966148614|               28.757012888551934|gift, card, novel...|  retail_and_novelty|\n",
      "| 32361057556|Orci In Consequat...|            a|     6.61|                               0.0|              19535|              0.045322716183625385|                     17568|           71733|   109.88506335995983|              71733|               790.8828224108848|         1978.1251446335716| 43.09931272914837|               27.181887078438802|gift, card, novel...|  retail_and_novelty|\n",
      "| 91923722701|Euismod Urna Inst...|            b|     5.05|                               0.0|              19366|               0.03716149655700077|                     16802|           65350|   13.805367406273906|              65350|               789.8658301453711|         1977.4140091813313| 43.12247895944912|               24.763167866616143|tent and awning s...|garden_and_furnis...|\n",
      "| 49505931725|Suspendisse Ac As...|            b|      4.7|                               0.0|              18949|              0.045605734917797174|                     15668|           57054|   105.14251393416758|              57054|               788.5736495250114|         1976.1297542678865| 43.12392645563852|                21.61955286093217|digital goods: bo...|tech_and_electronics|\n",
      "+------------+--------------------+-------------+---------+----------------------------------+-------------------+----------------------------------+--------------------------+----------------+---------------------+-------------------+--------------------------------+---------------------------+------------------+---------------------------------+--------------------+--------------------+\n",
      "only showing top 20 rows\n",
      "\n"
     ]
    }
   ],
   "source": [
    "joined_df.orderBy(f.col('number_of_repeat_consumers').desc()).show()"
   ]
  },
  {
   "cell_type": "code",
   "execution_count": 21,
   "metadata": {},
   "outputs": [
    {
     "name": "stdout",
     "output_type": "stream",
     "text": [
      "+------------+--------------------+-------------+---------+----------------------------------+-------------------+----------------------------------+--------------------------+----------------+---------------------+-------------------+--------------------------------+---------------------------+------------------+---------------------------------+--------------------+--------------------+\n",
      "|merchant_abn|                name|revenue_level|take_rate|average_merchant_fraud_probability|number_of_consumers|average_consumer_fraud_probability|number_of_repeat_consumers|number_of_orders|average_cost_of_order|number_of_postcodes|avg_total_weekly_personal_income|avg_total_weekly_fam_income|    avg_median_age|avg_num_of_consumers_per_postcode|merchant_description|             segment|\n",
      "+------------+--------------------+-------------+---------+----------------------------------+-------------------+----------------------------------+--------------------------+----------------+---------------------+-------------------+--------------------------------+---------------------------+------------------+---------------------------------+--------------------+--------------------+\n",
      "| 31385641294|    Semper Auctor PC|            b|     4.52|                               0.0|               2958|                  2.01463194011229|                       234|            3206|    2207.794937616968|               3206|               791.5010917030568|         1994.7649719276358|42.981285090455394|               1.7615384615384615|motor vehicle sup...|specialized_services|\n",
      "| 93260930990|Pede Cras Vulputa...|            b|     3.15|                 0.734226036981509|               1913|                 4.463882708645676|                        84|            2001|   3733.1941279360317|               2001|               791.9140429785108|         1996.2828585707146| 43.05047476261869|               1.4616508400292183|             telecom|tech_and_electronics|\n",
      "| 20269486864|Mi Eleifend Egest...|            c|     2.55|                               0.0|               1401|                 3.124088448393711|                        60|            1463|   2976.0976486671225|               1463|               793.4818865345181|          1980.282980177717| 42.92241968557758|               1.3385178408051235|motor vehicle sup...|specialized_services|\n",
      "| 31334588839|Lacus Aliquam Cor...|            b|     4.22|                1.5293537022603274|               1239|                 7.372896102883866|                        44|            1283|    6292.100701480905|               1283|               781.4524551831645|         1958.1301636788776|43.203429462197974|               1.2946518668012108|antique shops - s...|antiques_and_jewe...|\n",
      "| 24015576448|Mi Eleifend Assoc...|            a|     6.02|                               0.0|               1105|                3.3697748024582967|                        34|            1139|   3073.7375153643543|               1139|               803.9258121158912|         2000.2669007901668|42.908252853380155|               1.2489035087719298|motor vehicle sup...|specialized_services|\n",
      "| 12771097467|    At Pretium Corp.|            a|     6.95|                               0.0|               1055|                 4.295996428571428|                        37|            1092|   3671.7493040293043|               1092|               789.5938644688645|           1966.27152014652| 43.26282051282051|               1.2668213457076567|motor vehicle sup...|specialized_services|\n",
      "| 60829135130|Tellus Imperdiet ...|            d|     1.18|                               0.0|                906|                 2.556505537459283|                        15|             921|   2480.9997285559175|                921|               783.5727470141151|         1964.6617806731813|              43.0|               1.1961038961038961|equipment, tool, ...|garden_and_furnis...|\n",
      "| 19492220327|Commodo Ipsum Ind...|            b|     4.93|                 1.298691207153502|                661|                11.418629359165422|                        10|             671|    9853.593248882264|                671|               784.7831594634873|         1968.8084947839045| 42.91803278688525|               1.1315345699831365|jewelry, watch, c...|antiques_and_jewe...|\n",
      "| 62483383956|              Nec PC|            a|     6.27|                               0.0|                499|                 2.194761431411531|                         4|             503|   2166.5274155069583|                503|               791.5636182902584|         1976.9681908548707|42.791252485089466|               1.0958605664488017|motor vehicle sup...|specialized_services|\n",
      "| 66818634899| In Scelerisque Inc.|            a|     6.91|                               0.0|                475|                2.1316520833333334|                         5|             480|         2204.8698125|                480|               797.0489583333333|         1984.3291666666667| 42.95104166666667|               1.1059907834101383|furniture, home f...|garden_and_furnis...|\n",
      "| 90918180829|Pharetra Quisque ...|            c|     2.62|                1.7423675105485232|                470|                11.031439029535864|                         4|             474|    9901.887067510548|                474|               773.5928270042194|         1956.3111814345991| 43.34493670886076|               1.1100702576112411|jewelry, watch, c...|antiques_and_jewe...|\n",
      "| 11974270529|     Dui Fusce Corp.|            b|      3.9|                               0.0|                432|                 2.912395444191344|                         7|             439|    2508.827266514806|                439|               786.7892938496583|          1967.249430523918|42.812072892938495|               1.0893300248138957|furniture, home f...|garden_and_furnis...|\n",
      "| 57626266756|     Urna Justo Inc.|            b|     3.55|                               0.0|                417|                2.4084089622641507|                         7|             424|   2475.9719811320756|                424|               786.1627358490566|         1942.3502358490566| 43.79009433962264|               1.1070496083550914|equipment, tool, ...|garden_and_furnis...|\n",
      "| 98627514823|Aliquam Gravida M...|            a|     5.68|                               0.0|                406|                3.1710514634146336|                         4|             410|   2625.1083170731713|                410|               785.5426829268292|         1978.9109756097562| 42.90731707317073|               1.0677083333333333|equipment, tool, ...|garden_and_furnis...|\n",
      "| 31823794994|   Dolor Dapibus LLC|            a|     6.76|                               0.0|                402|                2.0455864864864868|                         5|             407|   2065.7240049140046|                407|               814.5675675675676|         2037.2063882063883| 42.49017199017199|               1.0767195767195767|hobby, toy and ga...|  retail_and_novelty|\n",
      "| 57223200264|Massa Suspendisse...|            e|      0.4|                               0.0|                393|                2.6953680100755673|                         4|             397|   2740.8655667506296|                397|               794.9231738035264|         2000.2267002518893|42.948362720403026|               1.0614973262032086|art dealers and g...|antiques_and_jewe...|\n",
      "| 27851049264|Turpis Nulla Foun...|            c|     1.56|                               0.0|                379|                3.6109340314136125|                         3|             382|   3078.4433769633506|                382|               793.3089005235602|         1969.8664921465968|42.853403141361255|               1.0821529745042493|art dealers and g...|antiques_and_jewe...|\n",
      "| 73918814753|Venenatis Lacus E...|            b|     4.99|                               0.0|                376|                 3.217588421052631|                         3|             380|   2937.2571052631583|                380|               798.5236842105263|         1999.0842105263157| 43.22105263157895|                1.073446327683616|furniture, home f...|garden_and_furnis...|\n",
      "| 12741443840|Tincidunt Aliquam...|            a|     5.55|                               0.0|                373|                  3.66735406824147|                         8|             381|   3059.5813910761162|                381|               773.3070866141733|         1925.4619422572177| 43.07874015748032|               1.1075581395348837|equipment, tool, ...|garden_and_furnis...|\n",
      "| 13555086357|           Ipsum LLP|            b|     4.92|                               0.0|                370|                 2.187892162162162|                      null|             370|   2244.3177297297298|                370|               801.2189189189189|         2000.2283783783785| 42.84189189189189|               1.0787172011661808|furniture, home f...|garden_and_furnis...|\n",
      "+------------+--------------------+-------------+---------+----------------------------------+-------------------+----------------------------------+--------------------------+----------------+---------------------+-------------------+--------------------------------+---------------------------+------------------+---------------------------------+--------------------+--------------------+\n",
      "only showing top 20 rows\n",
      "\n"
     ]
    }
   ],
   "source": [
    "joined_df.filter(f.col('average_consumer_fraud_probability') > 2).orderBy(f.col('number_of_consumers').desc()).show()\n",
    "\n"
   ]
  },
  {
   "cell_type": "code",
   "execution_count": null,
   "metadata": {},
   "outputs": [],
   "source": [
    "joined_df"
   ]
  },
  {
   "cell_type": "code",
   "execution_count": 27,
   "metadata": {},
   "outputs": [
    {
     "data": {
      "text/plain": [
       "85"
      ]
     },
     "execution_count": 27,
     "metadata": {},
     "output_type": "execute_result"
    }
   ],
   "source": [
    "joined_df.filter(f.col('number_of_orders') < 5).count()"
   ]
  },
  {
   "cell_type": "code",
   "execution_count": 24,
   "metadata": {},
   "outputs": [
    {
     "name": "stdout",
     "output_type": "stream",
     "text": [
      "+------------+--------------------+-------------+---------+----------------------------------+-------------------+----------------------------------+--------------------------+----------------+---------------------+-------------------+--------------------------------+---------------------------+------------------+---------------------------------+--------------------+--------------------+\n",
      "|merchant_abn|                name|revenue_level|take_rate|average_merchant_fraud_probability|number_of_consumers|average_consumer_fraud_probability|number_of_repeat_consumers|number_of_orders|average_cost_of_order|number_of_postcodes|avg_total_weekly_personal_income|avg_total_weekly_fam_income|    avg_median_age|avg_num_of_consumers_per_postcode|merchant_description|             segment|\n",
      "+------------+--------------------+-------------+---------+----------------------------------+-------------------+----------------------------------+--------------------------+----------------+---------------------+-------------------+--------------------------------+---------------------------+------------------+---------------------------------+--------------------+--------------------+\n",
      "| 67264251405|Elit Dictum Eu Fo...|            a|      6.4|                           18.2109|                  1|                           94.7034|                      null|               1|             51876.64|                  1|                           767.0|                     2162.0|              40.0|                              1.0|art dealers and g...|antiques_and_jewe...|\n",
      "| 29068447069|       Phasellus LLP|            b|     3.28|                               0.0|                  1|                           72.2056|                      null|               1|             36950.79|                  1|                           796.0|                     1855.0|              43.0|                              1.0|antique shops - s...|antiques_and_jewe...|\n",
      "| 10404542215|Consequat Foundation|            a|     6.93|                               0.0|                  1|                           60.4865|                      null|               1|             22773.98|                  1|                           710.5|                     1600.5|              44.5|                              1.0|antique shops - s...|antiques_and_jewe...|\n",
      "| 42461534060|            Elit LLP|            b|     3.98|                               0.0|                  1|                           47.3179|                      null|               1|             22600.11|                  1|                           740.0|                     1799.0|              41.5|                              1.0|antique shops - s...|antiques_and_jewe...|\n",
      "| 89109402284|Interdum Feugiat ...|            b|     3.87|                 9.691366666666667|                  3|                 39.22593333333333|                      null|               3|   23969.006666666668|                  3|                           889.0|         2142.6666666666665|38.833333333333336|                              1.0|antique shops - s...|antiques_and_jewe...|\n",
      "| 50532670634|Accumsan Laoreet ...|            c|     2.48|                               0.0|                  2|                          38.49385|                      null|               2|             23079.48|                  2|                           712.5|                     1715.0|             44.25|                              1.0|antique shops - s...|antiques_and_jewe...|\n",
      "| 62688594508|Lobortis Nisi Ass...|            d|     0.88|                               0.0|                  1|                           35.7809|                      null|               1|             21112.57|                  1|                           638.0|                     1520.0|              26.0|                              1.0|jewelry, watch, c...|antiques_and_jewe...|\n",
      "| 93915598279|Molestie Pharetra...|            c|     1.47|                               0.0|                  2|                          33.93635|                      null|               2|   16798.559999999998|                  2|                           676.0|                     1735.5|              46.5|                              1.0|antique shops - s...|antiques_and_jewe...|\n",
      "| 67213521157|    Gravida Nunc LLP|            b|     4.57|                               0.0|                  2|                30.674950000000003|                      null|               2|            16045.855|                  2|                           685.0|                     1599.5|              50.5|                              1.0|jewelry, watch, c...|antiques_and_jewe...|\n",
      "| 21319642626| At Risus Associates|            b|     3.29|                               0.0|                  3|                29.973699999999997|                      null|               3|             19390.29|                  3|               822.3333333333334|         2245.1666666666665|44.166666666666664|                              1.0|antique shops - s...|antiques_and_jewe...|\n",
      "| 29234580033|       Etiam Limited|            a|     6.19|                               0.0|                  7|                 29.96897142857142|                      null|               7|   14461.954285714286|                  7|                           785.5|          1835.642857142857|42.714285714285715|                              1.0|antique shops - s...|antiques_and_jewe...|\n",
      "| 38918664617| Faucibus Foundation|            b|     3.59|                               0.0|                  9|                           28.2679|                      null|               9|   18463.597777777777|                  9|               843.3888888888889|         2238.6111111111113|43.166666666666664|                              1.0|jewelry, watch, c...|antiques_and_jewe...|\n",
      "| 78577106740|    Donec Consulting|            a|     5.75|                               0.0|                  3|                 27.98483333333333|                      null|               3|   17448.433333333334|                  3|                           811.0|                     2296.0|43.333333333333336|                              1.0|antique shops - s...|antiques_and_jewe...|\n",
      "| 11149063370|     Et Arcu Limited|            b|     4.84|                2.9603851851851855|                 54|                26.333316666666665|                      null|              54|   18012.760185185183|                 54|               784.0185185185185|         1955.8703703703704|              43.5|                              1.0|art dealers and g...|antiques_and_jewe...|\n",
      "| 28385291716|Vel Arcu Curabitu...|            a|     6.04|                               0.0|                  4|                           26.1557|                      null|               4|            24968.325|                  4|                           693.0|                    1781.25|              47.0|                              1.0|antique shops - s...|antiques_and_jewe...|\n",
      "| 64094501963|Dictum Mi Corpora...|            c|      3.0|                               0.0|                  2|                           26.1362|                      null|               2|   26736.674999999996|                  2|                           673.5|                     1646.0|              44.5|                              1.0|antique shops - s...|antiques_and_jewe...|\n",
      "| 89133730546|Adipiscing Fringi...|            b|      3.4|                               0.0|                  2|                          23.43965|                      null|               2|    6215.700000000001|                  2|                           864.0|                     2555.5|              37.5|                              1.0|art dealers and g...|antiques_and_jewe...|\n",
      "| 81548651453|Mauris Blandit Li...|            b|      3.8|                               0.0|                  4|                           23.3371|                      null|               4|    8739.157500000001|                  4|                           898.5|                   2165.625|             41.75|                              1.0|jewelry, watch, c...|antiques_and_jewe...|\n",
      "| 10881038707|Sed Facilisis Vit...|            a|     6.24|                               0.0|                  5|                          23.18742|                      null|               5|   11692.847999999998|                  5|                           824.2|                     2153.4|              43.3|                              1.0|jewelry, watch, c...|antiques_and_jewe...|\n",
      "| 80426072728|Massa Non Ante In...|            a|     6.65|                               0.0|                  3|                           23.1186|                      null|               3|   14802.733333333332|                  3|                           777.5|         2069.8333333333335|41.333333333333336|                              1.0|antique shops - s...|antiques_and_jewe...|\n",
      "+------------+--------------------+-------------+---------+----------------------------------+-------------------+----------------------------------+--------------------------+----------------+---------------------+-------------------+--------------------------------+---------------------------+------------------+---------------------------------+--------------------+--------------------+\n",
      "only showing top 20 rows\n",
      "\n"
     ]
    }
   ],
   "source": [
    "joined_df.orderBy(f.col('average_consumer_fraud_probability').desc(), f.col('number_of_consumers')).show()"
   ]
  },
  {
   "cell_type": "code",
   "execution_count": null,
   "metadata": {},
   "outputs": [],
   "source": [
    "# number of postcodes / total number of postcodes = reach\n",
    "\n",
    "# number of consumers / number of repeat consumers = customer retainability\n",
    "\n",
    "# average number of repeat consumer transaction per merchant.\n",
    "\n",
    "# avg spend amount per consumer\n",
    "\n",
    "# estimated consumer growth rate (group by month and calculate average increase / decrease)\n",
    "\n",
    "# estimated revenue growth rate (group by month and calculate average increase / decrease)\n",
    "\n"
   ]
  },
  {
   "cell_type": "code",
   "execution_count": 13,
   "metadata": {},
   "outputs": [],
   "source": [
    "spark.stop()"
   ]
  }
 ],
 "metadata": {
  "kernelspec": {
   "display_name": "Python 3",
   "language": "python",
   "name": "python3"
  },
  "language_info": {
   "codemirror_mode": {
    "name": "ipython",
    "version": 3
   },
   "file_extension": ".py",
   "mimetype": "text/x-python",
   "name": "python",
   "nbconvert_exporter": "python",
   "pygments_lexer": "ipython3",
   "version": "3.10.12"
  },
  "orig_nbformat": 4
 },
 "nbformat": 4,
 "nbformat_minor": 2
}
