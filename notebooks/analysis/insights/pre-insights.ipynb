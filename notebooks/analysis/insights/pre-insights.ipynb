{
 "cells": [
  {
   "cell_type": "code",
   "execution_count": 15,
   "metadata": {},
   "outputs": [],
   "source": [
    "from pyspark.sql import SparkSession, functions as f\n",
    "import os"
   ]
  },
  {
   "cell_type": "code",
   "execution_count": 16,
   "metadata": {},
   "outputs": [],
   "source": [
    "\n",
    "if not os.path.exists(\"../../../data/insights\"):\n",
    "    os.makedirs(\"../../../data/insights\")\n",
    "\n",
    "if not os.path.exists(\"../../../data/insights/pre_insights\"):\n",
    "    os.makedirs(\"../../../data/insights/pre_insights\")"
   ]
  },
  {
   "cell_type": "code",
   "execution_count": 17,
   "metadata": {},
   "outputs": [
    {
     "name": "stderr",
     "output_type": "stream",
     "text": [
      "23/09/25 15:30:59 WARN Utils: Service 'SparkUI' could not bind on port 4040. Attempting port 4041.\n",
      "23/09/25 15:30:59 WARN Utils: Service 'SparkUI' could not bind on port 4041. Attempting port 4042.\n"
     ]
    }
   ],
   "source": [
    "spark = (\n",
    "    SparkSession.builder.appName(\"Preprocessing_Yellow\")\n",
    "    .config(\"spark.sql.repl.eagerEval.enabled\", True) \n",
    "    .config(\"spark.sql.parquet.cacheMetadata\", \"true\")\n",
    "    .config(\"spark.sql.session.timeZone\", \"Etc/UTC\")\n",
    "    .config(\"spark.sql.session.timeZone\", \"Etc/UTC\")\n",
    "    .config('spark.driver.memory', '3g')   \n",
    "    .config('spark.executor.memory', '4g')  \n",
    "    .config('spark.executor.instances', '2')  \n",
    "    .config('spark.executor.cores', '2')\n",
    "    .getOrCreate()\n",
    ")"
   ]
  },
  {
   "cell_type": "code",
   "execution_count": 18,
   "metadata": {},
   "outputs": [],
   "source": [
    "all_data_combined = spark.read.parquet(\"../../../data/curated/all_data_combined.parquet\")"
   ]
  },
  {
   "cell_type": "code",
   "execution_count": 19,
   "metadata": {},
   "outputs": [
    {
     "name": "stdout",
     "output_type": "stream",
     "text": [
      "+-----------------+------------+--------------+-------+-----------+---------------+--------------+---------------+-----------------------------+----------------------------+--------------------+--------------------+----------------------+--------------------+--------------------+----------------------------+--------------------------------------+----------------------------+-----------------------------------------------+-----------------------------------------------+------------------------------------+-------------------------------------------+------------------------------------------+-------------------------------------------+------------------------------------+\n",
      "|consumer_postcode|merchant_abn|order_datetime|user_id|consumer_id|  consumer_name|consumer_state|consumer_gender|transaction_dollar_value_$AUD|consumer_fraud_probability_%|       merchant_name|merchant_description|merchant_revenue_level|merchant_take_rate_%|             segment|merchant_fraud_probability_%|consumer_postcode_estimated_population|consumer_postcode_median_age|consumer_postcode_median_mortgage_repay_monthly|consumer_postcode_median_totl_prsnal_inc_weekly|consumer_postcode_median_rent_weekly|consumer_postcode_median_tot_fam_inc_weekly|consumer_postcode_avg_num_psns_per_bedroom|consumer_postcode_median_tot_hhd_inc_weekly|consumer_postcode_avg_household_size|\n",
      "+-----------------+------------+--------------+-------+-----------+---------------+--------------+---------------+-----------------------------+----------------------------+--------------------+--------------------+----------------------+--------------------+--------------------+----------------------------+--------------------------------------+----------------------------+-----------------------------------------------+-----------------------------------------------+------------------------------------+-------------------------------------------+------------------------------------------+-------------------------------------------+------------------------------------+\n",
      "|             5074| 92980848589|    2022-08-30|     44|     564558|Michael Johnson|            SA|    Undisclosed|                        479.0|                         0.0| Maecenas Industries|books, periodical...|                     a|                6.86|  retail_and_novelty|                         0.0|                               21882.0|                        40.0|                                         1690.0|                                          721.0|                               335.0|                                     1892.0|                                       0.8|                                     1427.0|                                 2.4|\n",
      "|             5074| 58454491168|    2022-08-24|     44|     564558|Michael Johnson|            SA|    Undisclosed|                        69.57|                         0.0|  Diam At Foundation|computer programm...|                     a|                6.01|tech_and_electronics|                         0.0|                               21882.0|                        40.0|                                         1690.0|                                          721.0|                               335.0|                                     1892.0|                                       0.8|                                     1427.0|                                 2.4|\n",
      "|             5074| 24852446429|    2022-04-18|     44|     564558|Michael Johnson|            SA|    Undisclosed|                        12.87|                         0.0|      Erat Vitae LLP|florists supplies...|                     c|                2.94|garden_and_furnis...|                         0.0|                               21882.0|                        40.0|                                         1690.0|                                          721.0|                               335.0|                                     1892.0|                                       0.8|                                     1427.0|                                 2.4|\n",
      "|             5074| 45559085309|    2021-07-07|     44|     564558|Michael Johnson|            SA|    Undisclosed|                        48.19|                         0.0|A Auctor Non Corp...|          shoe shops|                     a|                5.58|  retail_and_novelty|                         0.0|                               21882.0|                        40.0|                                         1690.0|                                          721.0|                               335.0|                                     1892.0|                                       0.8|                                     1427.0|                                 2.4|\n",
      "|             5074| 58392414752|    2022-09-26|     44|     564558|Michael Johnson|            SA|    Undisclosed|                         2.76|                         0.0|Mattis Ornare Lec...|florists supplies...|                     c|                1.47|garden_and_furnis...|                         0.0|                               21882.0|                        40.0|                                         1690.0|                                          721.0|                               335.0|                                     1892.0|                                       0.8|                                     1427.0|                                 2.4|\n",
      "|             5074| 81219314324|    2022-10-08|     44|     564558|Michael Johnson|            SA|    Undisclosed|                       120.55|                         0.0|    Faucibus Leo Ltd|gift, card, novel...|                     a|                6.35|  retail_and_novelty|                         0.0|                               21882.0|                        40.0|                                         1690.0|                                          721.0|                               335.0|                                     1892.0|                                       0.8|                                     1427.0|                                 2.4|\n",
      "|             5074| 34179569263|    2021-12-05|     44|     564558|Michael Johnson|            SA|    Undisclosed|                       816.97|                         0.0|      Sodales At LLC|music shops - mus...|                     b|                4.72|  retail_and_novelty|                         0.0|                               21882.0|                        40.0|                                         1690.0|                                          721.0|                               335.0|                                     1892.0|                                       0.8|                                     1427.0|                                 2.4|\n",
      "|             5074| 96566672398|    2021-04-15|     44|     564558|Michael Johnson|            SA|    Undisclosed|                        81.52|                         0.0|Odio Tristique Ph...|opticians, optica...|                     c|                2.05|specialized_services|                         0.0|                               21882.0|                        40.0|                                         1690.0|                                          721.0|                               335.0|                                     1892.0|                                       0.8|                                     1427.0|                                 2.4|\n",
      "|             5074| 52838486584|    2021-04-12|     44|     564558|Michael Johnson|            SA|    Undisclosed|                      1252.13|                         0.0|         Interdum PC|tent and awning s...|                     a|                6.19|garden_and_furnis...|                         0.0|                               21882.0|                        40.0|                                         1690.0|                                          721.0|                               335.0|                                     1892.0|                                       0.8|                                     1427.0|                                 2.4|\n",
      "|             5074| 32530636640|    2022-03-25|     44|     564558|Michael Johnson|            SA|    Undisclosed|                        10.91|                         0.0|Hendrerit Foundation|tent and awning s...|                     a|                 5.6|garden_and_furnis...|                         0.0|                               21882.0|                        40.0|                                         1690.0|                                          721.0|                               335.0|                                     1892.0|                                       0.8|                                     1427.0|                                 2.4|\n",
      "|             5074| 20985347699|    2021-07-20|     44|     564558|Michael Johnson|            SA|    Undisclosed|                        11.48|                         0.0|    Semper Tellus PC|tent and awning s...|                     a|                 6.1|garden_and_furnis...|                         0.0|                               21882.0|                        40.0|                                         1690.0|                                          721.0|                               335.0|                                     1892.0|                                       0.8|                                     1427.0|                                 2.4|\n",
      "|             5074| 73499119023|    2021-03-15|     44|     564558|Michael Johnson|            SA|    Undisclosed|                         9.74|                         0.0| Nisi Dictum Company|watch, clock, and...|                     a|                5.56|antiques_and_jewe...|                         0.0|                               21882.0|                        40.0|                                         1690.0|                                          721.0|                               335.0|                                     1892.0|                                       0.8|                                     1427.0|                                 2.4|\n",
      "|             5074| 64403598239|    2021-06-19|     44|     564558|Michael Johnson|            SA|    Undisclosed|                        20.88|                         0.0|Lobortis Ultrices...|music shops - mus...|                     a|                6.31|  retail_and_novelty|                         0.0|                               21882.0|                        40.0|                                         1690.0|                                          721.0|                               335.0|                                     1892.0|                                       0.8|                                     1427.0|                                 2.4|\n",
      "|             5074| 45559085309|    2021-12-29|     44|     564558|Michael Johnson|            SA|    Undisclosed|                         5.42|                         0.0|A Auctor Non Corp...|          shoe shops|                     a|                5.58|  retail_and_novelty|                         0.0|                               21882.0|                        40.0|                                         1690.0|                                          721.0|                               335.0|                                     1892.0|                                       0.8|                                     1427.0|                                 2.4|\n",
      "|             5074| 43611981873|    2022-03-19|     44|     564558|Michael Johnson|            SA|    Undisclosed|                       504.07|                         0.0|        Suscipit LLC|computer programm...|                     e|                 0.3|tech_and_electronics|                         0.0|                               21882.0|                        40.0|                                         1690.0|                                          721.0|                               335.0|                                     1892.0|                                       0.8|                                     1427.0|                                 2.4|\n",
      "|             5074| 91873181182|    2022-04-12|     44|     564558|Michael Johnson|            SA|    Undisclosed|                        74.52|                         0.0|             Sem LLC|digital goods: bo...|                     a|                 6.0|tech_and_electronics|                         0.0|                               21882.0|                        40.0|                                         1690.0|                                          721.0|                               335.0|                                     1892.0|                                       0.8|                                     1427.0|                                 2.4|\n",
      "|             5074| 97861055416|    2022-07-19|     44|     564558|Michael Johnson|            SA|    Undisclosed|                        97.41|                         0.0|    Morbi Neque Inc.|computers, comput...|                     b|                 3.4|tech_and_electronics|                         0.0|                               21882.0|                        40.0|                                         1690.0|                                          721.0|                               335.0|                                     1892.0|                                       0.8|                                     1427.0|                                 2.4|\n",
      "|             5074| 83414869405|    2021-03-06|     44|     564558|Michael Johnson|            SA|    Undisclosed|                         4.54|                         0.0|Hendrerit Donec C...|hobby, toy and ga...|                     a|                6.49|  retail_and_novelty|                         0.0|                               21882.0|                        40.0|                                         1690.0|                                          721.0|                               335.0|                                     1892.0|                                       0.8|                                     1427.0|                                 2.4|\n",
      "|             5074| 76767266140|    2022-05-30|     44|     564558|Michael Johnson|            SA|    Undisclosed|                        47.75|                         0.0|Phasellus At Limited|furniture, home f...|                     b|                4.65|garden_and_furnis...|                         0.0|                               21882.0|                        40.0|                                         1690.0|                                          721.0|                               335.0|                                     1892.0|                                       0.8|                                     1427.0|                                 2.4|\n",
      "|             5074| 49891706470|    2022-10-17|     44|     564558|Michael Johnson|            SA|    Undisclosed|                         54.3|                         0.0|Non Vestibulum In...|tent and awning s...|                     a|                 5.8|garden_and_furnis...|                         0.0|                               21882.0|                        40.0|                                         1690.0|                                          721.0|                               335.0|                                     1892.0|                                       0.8|                                     1427.0|                                 2.4|\n",
      "+-----------------+------------+--------------+-------+-----------+---------------+--------------+---------------+-----------------------------+----------------------------+--------------------+--------------------+----------------------+--------------------+--------------------+----------------------------+--------------------------------------+----------------------------+-----------------------------------------------+-----------------------------------------------+------------------------------------+-------------------------------------------+------------------------------------------+-------------------------------------------+------------------------------------+\n",
      "only showing top 20 rows\n",
      "\n"
     ]
    }
   ],
   "source": [
    "all_data_combined.show()"
   ]
  },
  {
   "cell_type": "code",
   "execution_count": 20,
   "metadata": {},
   "outputs": [
    {
     "data": {
      "text/plain": [
       "['consumer_postcode',\n",
       " 'merchant_abn',\n",
       " 'order_datetime',\n",
       " 'user_id',\n",
       " 'consumer_id',\n",
       " 'consumer_name',\n",
       " 'consumer_state',\n",
       " 'consumer_gender',\n",
       " 'transaction_dollar_value_$AUD',\n",
       " 'consumer_fraud_probability_%',\n",
       " 'merchant_name',\n",
       " 'merchant_description',\n",
       " 'merchant_revenue_level',\n",
       " 'merchant_take_rate_%',\n",
       " 'segment',\n",
       " 'merchant_fraud_probability_%',\n",
       " 'consumer_postcode_estimated_population',\n",
       " 'consumer_postcode_median_age',\n",
       " 'consumer_postcode_median_mortgage_repay_monthly',\n",
       " 'consumer_postcode_median_totl_prsnal_inc_weekly',\n",
       " 'consumer_postcode_median_rent_weekly',\n",
       " 'consumer_postcode_median_tot_fam_inc_weekly',\n",
       " 'consumer_postcode_avg_num_psns_per_bedroom',\n",
       " 'consumer_postcode_median_tot_hhd_inc_weekly',\n",
       " 'consumer_postcode_avg_household_size']"
      ]
     },
     "execution_count": 20,
     "metadata": {},
     "output_type": "execute_result"
    }
   ],
   "source": [
    "all_data_combined.columns"
   ]
  },
  {
   "cell_type": "code",
   "execution_count": 21,
   "metadata": {},
   "outputs": [],
   "source": [
    "all_df = all_data_combined.drop(all_data_combined.consumer_gender).\\\n",
    "        drop(all_data_combined.user_id).\\\n",
    "        drop(all_data_combined.consumer_gender).\\\n",
    "        withColumnRenamed(\"transaction_dollar_value_$AUD\", \"dollar_value\")\n",
    "    "
   ]
  },
  {
   "cell_type": "code",
   "execution_count": 22,
   "metadata": {},
   "outputs": [
    {
     "data": {
      "text/plain": [
       "['consumer_postcode',\n",
       " 'merchant_abn',\n",
       " 'order_datetime',\n",
       " 'consumer_id',\n",
       " 'consumer_name',\n",
       " 'consumer_state',\n",
       " 'dollar_value',\n",
       " 'consumer_fraud_probability_%',\n",
       " 'merchant_name',\n",
       " 'merchant_description',\n",
       " 'merchant_revenue_level',\n",
       " 'merchant_take_rate_%',\n",
       " 'segment',\n",
       " 'merchant_fraud_probability_%',\n",
       " 'consumer_postcode_estimated_population',\n",
       " 'consumer_postcode_median_age',\n",
       " 'consumer_postcode_median_mortgage_repay_monthly',\n",
       " 'consumer_postcode_median_totl_prsnal_inc_weekly',\n",
       " 'consumer_postcode_median_rent_weekly',\n",
       " 'consumer_postcode_median_tot_fam_inc_weekly',\n",
       " 'consumer_postcode_avg_num_psns_per_bedroom',\n",
       " 'consumer_postcode_median_tot_hhd_inc_weekly',\n",
       " 'consumer_postcode_avg_household_size']"
      ]
     },
     "execution_count": 22,
     "metadata": {},
     "output_type": "execute_result"
    }
   ],
   "source": [
    "all_df.columns"
   ]
  },
  {
   "cell_type": "code",
   "execution_count": 23,
   "metadata": {},
   "outputs": [
    {
     "name": "stderr",
     "output_type": "stream",
     "text": [
      "                                                                                \r"
     ]
    }
   ],
   "source": [
    "merchant = all_df.select(all_df['merchant_abn'],\\\n",
    "                         all_df['merchant_name'],\\\n",
    "                         all_df['merchant_revenue_level'],\\\n",
    "                         all_df['merchant_take_rate_%'],\\\n",
    "                         all_df['merchant_fraud_probability_%'],\\\n",
    "                        )\n",
    "\n",
    "merchant.write.mode(\"overwrite\").parquet(\"../../../data/insights/pre_insights/merchant.parquet\")"
   ]
  },
  {
   "cell_type": "code",
   "execution_count": 24,
   "metadata": {},
   "outputs": [
    {
     "name": "stderr",
     "output_type": "stream",
     "text": [
      "                                                                                \r"
     ]
    }
   ],
   "source": [
    "consumers = all_df.select(\"merchant_abn\",\n",
    "                \"merchant_name\",\n",
    "                \"consumer_id\",\n",
    "                \"consumer_name\",\n",
    "                \"consumer_fraud_probability_%\")\n",
    "consumers.write.mode(\"overwrite\").parquet(\"../../../data/insights/pre_insights/consumers.parquet\")"
   ]
  },
  {
   "cell_type": "code",
   "execution_count": 25,
   "metadata": {},
   "outputs": [
    {
     "name": "stderr",
     "output_type": "stream",
     "text": [
      "                                                                                \r"
     ]
    }
   ],
   "source": [
    "orders = all_df.select(all_df.merchant_abn,\n",
    "                       all_df.merchant_name,\n",
    "                       all_df.consumer_id,\n",
    "                       all_df.order_datetime,\n",
    "                       all_df.dollar_value)\n",
    "\n",
    "orders.write.mode(\"overwrite\").parquet(\"../../../data/insights/pre_insights/orders.parquet\")"
   ]
  },
  {
   "cell_type": "code",
   "execution_count": 26,
   "metadata": {},
   "outputs": [
    {
     "name": "stderr",
     "output_type": "stream",
     "text": [
      "                                                                                \r"
     ]
    }
   ],
   "source": [
    "descriptions = all_df.select(all_df.merchant_abn,\n",
    "                     all_df.merchant_name,\n",
    "                     all_df.merchant_description)\n",
    "\n",
    "descriptions.write.mode(\"overwrite\").parquet(\"../../../data/insights/pre_insights/descriptions.parquet\")"
   ]
  },
  {
   "cell_type": "code",
   "execution_count": 27,
   "metadata": {},
   "outputs": [
    {
     "name": "stderr",
     "output_type": "stream",
     "text": [
      "                                                                                \r"
     ]
    }
   ],
   "source": [
    "postcode = all_df.select(all_df.merchant_abn,\n",
    "                         all_df.consumer_postcode,\n",
    "                         all_df.consumer_id,\n",
    "                         all_df.merchant_name,\n",
    "                         f.col(\"consumer_postcode_estimated_population\").alias(\"estimated_population\"),\n",
    "                         f.col(\"consumer_postcode_median_age\").alias(\"median_age\"),\n",
    "                         f.col(\"consumer_postcode_median_mortgage_repay_monthly\").alias(\"median_mortgage_monthly\"),\n",
    "                         f.col(\"consumer_postcode_median_totl_prsnal_inc_weekly\").alias(\"total_weekly_personal_income\"),\n",
    "                         f.col(\"consumer_postcode_median_rent_weekly\").alias(\"median_weekly_rent\"),\n",
    "                         f.col(\"consumer_postcode_median_tot_fam_inc_weekly\").alias(\"total_weekly_fam_income\"),\n",
    "                         f.col(\"consumer_postcode_avg_num_psns_per_bedroom\").alias(\"avg_num_persons_per_bedroom\"),\n",
    "                         f.col(\"consumer_postcode_median_tot_hhd_inc_weekly\").alias(\"total_hhd_income_weekly\"),\n",
    "                         f.col(\"consumer_postcode_avg_household_size\").alias(\"avg_household_size\"))\n",
    "\n",
    "postcode.write.mode(\"overwrite\").parquet(\"../../../data/insights/pre_insights/postcode.parquet\")\n"
   ]
  },
  {
   "cell_type": "code",
   "execution_count": 28,
   "metadata": {},
   "outputs": [],
   "source": [
    "spark.stop()"
   ]
  }
 ],
 "metadata": {
  "kernelspec": {
   "display_name": "Python 3",
   "language": "python",
   "name": "python3"
  },
  "language_info": {
   "codemirror_mode": {
    "name": "ipython",
    "version": 3
   },
   "file_extension": ".py",
   "mimetype": "text/x-python",
   "name": "python",
   "nbconvert_exporter": "python",
   "pygments_lexer": "ipython3",
   "version": "3.10.12"
  },
  "orig_nbformat": 4
 },
 "nbformat": 4,
 "nbformat_minor": 2
}
