{
 "cells": [
  {
   "cell_type": "code",
   "execution_count": 12,
   "metadata": {},
   "outputs": [],
   "source": [
    "from pyspark.sql import SparkSession, functions as f\n",
    "import os"
   ]
  },
  {
   "cell_type": "code",
   "execution_count": 13,
   "metadata": {},
   "outputs": [],
   "source": [
    "\n",
    "if not os.path.exists(\"../../../data/insights\"):\n",
    "    os.makedirs(\"../../../data/insights\")\n",
    "\n",
    "if not os.path.exists(\"../../../data/insights/pre_insights\"):\n",
    "    os.makedirs(\"../../../data/insigths/pre_insights\")"
   ]
  },
  {
   "cell_type": "code",
   "execution_count": 14,
   "metadata": {},
   "outputs": [],
   "source": [
    "spark = (\n",
    "    SparkSession.builder.appName(\"Preprocessing_Yellow\")\n",
    "    .config(\"spark.sql.repl.eagerEval.enabled\", True) \n",
    "    .config(\"spark.sql.parquet.cacheMetadata\", \"true\")\n",
    "    .config(\"spark.sql.session.timeZone\", \"Etc/UTC\")\n",
    "    .config(\"spark.sql.session.timeZone\", \"Etc/UTC\")\n",
    "    .config('spark.driver.memory', '3g')   \n",
    "    .config('spark.executor.memory', '4g')  \n",
    "    .config('spark.executor.instances', '2')  \n",
    "    .config('spark.executor.cores', '2')\n",
    "    .getOrCreate()\n",
    ")"
   ]
  },
  {
   "cell_type": "code",
   "execution_count": 16,
   "metadata": {},
   "outputs": [],
   "source": [
    "all_data_combined = spark.read.parquet(\"../../../data/curated/all_data_combined.parquet\")"
   ]
  },
  {
   "cell_type": "code",
   "execution_count": null,
   "metadata": {},
   "outputs": [
    {
     "name": "stderr",
     "output_type": "stream",
     "text": [
      "                                                                                \r"
     ]
    },
    {
     "name": "stdout",
     "output_type": "stream",
     "text": [
      "+-----------------+------------+--------------+-------+-----------+-------------+--------------+---------------+-----------------------------+----------------------------+--------------------+--------------------+----------------------+--------------------+----------------------------+--------------------------------------+----------------------------+-----------------------------------------------+-----------------------------------------------+------------------------------------+-------------------------------------------+------------------------------------------+-------------------------------------------+------------------------------------+\n",
      "|consumer_postcode|merchant_abn|order_datetime|user_id|consumer_id|consumer_name|consumer_state|consumer_gender|transaction_dollar_value_$AUD|consumer_fraud_probability_%|       merchant_name|merchant_description|merchant_revenue_level|merchant_take_rate_%|merchant_fraud_probability_%|consumer_postcode_estimated_population|consumer_postcode_median_age|consumer_postcode_median_mortgage_repay_monthly|consumer_postcode_median_totl_prsnal_inc_weekly|consumer_postcode_median_rent_weekly|consumer_postcode_median_tot_fam_inc_weekly|consumer_postcode_avg_num_psns_per_bedroom|consumer_postcode_median_tot_hhd_inc_weekly|consumer_postcode_avg_household_size|\n",
      "+-----------------+------------+--------------+-------+-----------+-------------+--------------+---------------+-----------------------------+----------------------------+--------------------+--------------------+----------------------+--------------------+----------------------------+--------------------------------------+----------------------------+-----------------------------------------------+-----------------------------------------------+------------------------------------+-------------------------------------------+------------------------------------------+-------------------------------------------+------------------------------------+\n",
      "|             3332| 16570599421|    2021-08-16|     14|    1343547| Lance Butler|           VIC|           Male|           12.142216147150515|                         0.0|    Non Magna Nam PC|digital goods: bo...|                     a|                6.74|                         0.0|                                8074.0|                        40.0|                                         1733.0|                                          780.0|                               308.0|                                     2103.0|                                       0.8|                                     1898.0|                                 2.9|\n",
      "|             3332| 63290521567|    2021-05-21|     14|    1343547| Lance Butler|           VIC|           Male|            4.845198213342123|                         0.0|Vehicula Pellente...|artist supply and...|                     a|                6.48|                         0.0|                                8074.0|                        40.0|                                         1733.0|                                          780.0|                               308.0|                                     2103.0|                                       0.8|                                     1898.0|                                 2.9|\n",
      "|             3332| 13514558491|    2021-06-20|     14|    1343547| Lance Butler|           VIC|           Male|             128.238067391034|                         0.0|   Magna Praesent PC|motor vehicle sup...|                     a|                6.78|                         0.0|                                8074.0|                        40.0|                                         1733.0|                                          780.0|                               308.0|                                     2103.0|                                       0.8|                                     1898.0|                                 2.9|\n",
      "|             3332| 22227727512|    2021-07-24|     14|    1343547| Lance Butler|           VIC|           Male|           223.82738875061688|                         0.0|Malesuada Integer...|motor vehicle sup...|                     b|                5.03|                         0.0|                                8074.0|                        40.0|                                         1733.0|                                          780.0|                               308.0|                                     2103.0|                                       0.8|                                     1898.0|                                 2.9|\n",
      "|             3332| 79827781481|    2021-08-17|     14|    1343547| Lance Butler|           VIC|           Male|           1430.2642751352505|                         0.0|     Amet Risus Inc.|furniture, home f...|                     a|                6.82|                         0.0|                                8074.0|                        40.0|                                         1733.0|                                          780.0|                               308.0|                                     2103.0|                                       0.8|                                     1898.0|                                 2.9|\n",
      "|             3332| 35556933338|    2021-06-23|     14|    1343547| Lance Butler|           VIC|           Male|           36.771899091579016|                         0.0|Semper Cursus Int...|digital goods: bo...|                     a|                6.87|                         0.0|                                8074.0|                        40.0|                                         1733.0|                                          780.0|                               308.0|                                     2103.0|                                       0.8|                                     1898.0|                                 2.9|\n",
      "|             3332| 64203420245|    2021-06-12|     14|    1343547| Lance Butler|           VIC|           Male|           13.270749560868401|                         0.0|  Pede Nonummy Corp.|tent and awning s...|                     c|                2.86|                         0.0|                                8074.0|                        40.0|                                         1733.0|                                          780.0|                               308.0|                                     2103.0|                                       0.8|                                     1898.0|                                 2.9|\n",
      "|             3332| 47086412084|    2021-04-24|     14|    1343547| Lance Butler|           VIC|           Male|             10.3360147064953|                         0.0|        Eros Limited|digital goods: bo...|                     c|                2.52|                         0.0|                                8074.0|                        40.0|                                         1733.0|                                          780.0|                               308.0|                                     2103.0|                                       0.8|                                     1898.0|                                 2.9|\n",
      "|             3332| 91923722701|    2021-06-02|     14|    1343547| Lance Butler|           VIC|           Male|            1.426598604675866|                         0.0|Euismod Urna Inst...|tent and awning s...|                     b|                5.05|                         0.0|                                8074.0|                        40.0|                                         1733.0|                                          780.0|                               308.0|                                     2103.0|                                       0.8|                                     1898.0|                                 2.9|\n",
      "|             3332| 75034515922|    2021-04-25|     14|    1343547| Lance Butler|           VIC|           Male|           57.101534974962085|                         0.0|   Ac Eleifend Corp.|digital goods: bo...|                     a|                6.22|                         0.0|                                8074.0|                        40.0|                                         1733.0|                                          780.0|                               308.0|                                     2103.0|                                       0.8|                                     1898.0|                                 2.9|\n",
      "|             3332| 36196225600|    2021-04-09|     14|    1343547| Lance Butler|           VIC|           Male|           46.865593549442956|                         0.0|Leo Elementum Sem...|artist supply and...|                     b|                4.93|                         0.0|                                8074.0|                        40.0|                                         1733.0|                                          780.0|                               308.0|                                     2103.0|                                       0.8|                                     1898.0|                                 2.9|\n",
      "|             3332| 75104340635|    2021-03-27|     14|    1343547| Lance Butler|           VIC|           Male|           139.89184866969265|                         0.0|  Nisl Elementum Ltd|health and beauty...|                     c|                 2.7|                         0.0|                                8074.0|                        40.0|                                         1733.0|                                          780.0|                               308.0|                                     2103.0|                                       0.8|                                     1898.0|                                 2.9|\n",
      "|             3332| 96513857365|    2021-04-01|     14|    1343547| Lance Butler|           VIC|           Male|           132.98353987537092|                         0.0|Tellus Aenean Con...|books, periodical...|                     a|                6.03|                         0.0|                                8074.0|                        40.0|                                         1733.0|                                          780.0|                               308.0|                                     2103.0|                                       0.8|                                     1898.0|                                 2.9|\n",
      "|             3332| 62694031334|    2021-03-08|     14|    1343547| Lance Butler|           VIC|           Male|           27.575919343603054|                         0.0|  Vel Est Tempor LLP|computers, comput...|                     a|                5.76|                         0.0|                                8074.0|                        40.0|                                         1733.0|                                          780.0|                               308.0|                                     2103.0|                                       0.8|                                     1898.0|                                 2.9|\n",
      "|             3332| 25732256442|    2021-04-04|     14|    1343547| Lance Butler|           VIC|           Male|           165.24939156950052|                         0.0|Malesuada Vel Ass...|books, periodical...|                     a|                5.79|                         0.0|                                8074.0|                        40.0|                                         1733.0|                                          780.0|                               308.0|                                     2103.0|                                       0.8|                                     1898.0|                                 2.9|\n",
      "|             3332| 62773208456|    2021-11-28|     14|    1343547| Lance Butler|           VIC|           Male|            7.894780139142366|                         0.0|        Ac Institute|watch, clock, and...|                     c|                2.62|                         0.0|                                8074.0|                        40.0|                                         1733.0|                                          780.0|                               308.0|                                     2103.0|                                       0.8|                                     1898.0|                                 2.9|\n",
      "|             3332| 40555823280|    2021-11-22|     14|    1343547| Lance Butler|           VIC|           Male|           19.508315713719217|                         0.0|Nibh Donec Incorp...|gift, card, novel...|                     a|                6.04|                         0.0|                                8074.0|                        40.0|                                         1733.0|                                          780.0|                               308.0|                                     2103.0|                                       0.8|                                     1898.0|                                 2.9|\n",
      "|             3332| 10206519221|    2021-10-29|     14|    1343547| Lance Butler|           VIC|           Male|              84.899946780896|                         0.0|       Fusce Company|gift, card, novel...|                     a|                6.34|                         0.0|                                8074.0|                        40.0|                                         1733.0|                                          780.0|                               308.0|                                     2103.0|                                       0.8|                                     1898.0|                                 2.9|\n",
      "|             3332| 92990617267|    2021-10-30|     14|    1343547| Lance Butler|           VIC|           Male|             85.0072229780032|                         0.0|Malesuada Malesua...|digital goods: bo...|                     a|                 6.6|                         0.0|                                8074.0|                        40.0|                                         1733.0|                                          780.0|                               308.0|                                     2103.0|                                       0.8|                                     1898.0|                                 2.9|\n",
      "|             3332| 89107518982|    2021-10-14|     14|    1343547| Lance Butler|           VIC|           Male|            49.15819786021852|                         0.0|Adipiscing Lobort...|gift, card, novel...|                     b|                3.66|                         0.0|                                8074.0|                        40.0|                                         1733.0|                                          780.0|                               308.0|                                     2103.0|                                       0.8|                                     1898.0|                                 2.9|\n",
      "+-----------------+------------+--------------+-------+-----------+-------------+--------------+---------------+-----------------------------+----------------------------+--------------------+--------------------+----------------------+--------------------+----------------------------+--------------------------------------+----------------------------+-----------------------------------------------+-----------------------------------------------+------------------------------------+-------------------------------------------+------------------------------------------+-------------------------------------------+------------------------------------+\n",
      "only showing top 20 rows\n",
      "\n"
     ]
    }
   ],
   "source": [
    "all_data_combined.show()"
   ]
  },
  {
   "cell_type": "code",
   "execution_count": 17,
   "metadata": {},
   "outputs": [
    {
     "data": {
      "text/plain": [
       "['consumer_postcode',\n",
       " 'merchant_abn',\n",
       " 'order_datetime',\n",
       " 'user_id',\n",
       " 'consumer_id',\n",
       " 'consumer_name',\n",
       " 'consumer_state',\n",
       " 'consumer_gender',\n",
       " 'transaction_dollar_value_$AUD',\n",
       " 'consumer_fraud_probability_%',\n",
       " 'merchant_name',\n",
       " 'merchant_description',\n",
       " 'merchant_revenue_level',\n",
       " 'merchant_take_rate_%',\n",
       " 'merchant_fraud_probability_%',\n",
       " 'consumer_postcode_estimated_population',\n",
       " 'consumer_postcode_median_age',\n",
       " 'consumer_postcode_median_mortgage_repay_monthly',\n",
       " 'consumer_postcode_median_totl_prsnal_inc_weekly',\n",
       " 'consumer_postcode_median_rent_weekly',\n",
       " 'consumer_postcode_median_tot_fam_inc_weekly',\n",
       " 'consumer_postcode_avg_num_psns_per_bedroom',\n",
       " 'consumer_postcode_median_tot_hhd_inc_weekly',\n",
       " 'consumer_postcode_avg_household_size']"
      ]
     },
     "execution_count": 17,
     "metadata": {},
     "output_type": "execute_result"
    }
   ],
   "source": [
    "all_data_combined.columns"
   ]
  },
  {
   "cell_type": "code",
   "execution_count": 18,
   "metadata": {},
   "outputs": [],
   "source": [
    "all_df = all_data_combined.drop(all_data_combined.consumer_gender).\\\n",
    "        drop(all_data_combined.user_id).\\\n",
    "        drop(all_data_combined.consumer_gender).\\\n",
    "        withColumnRenamed(\"transaction_dollar_value_$AUD\", \"dollar_value\")\n",
    "    "
   ]
  },
  {
   "cell_type": "code",
   "execution_count": 19,
   "metadata": {},
   "outputs": [
    {
     "data": {
      "text/plain": [
       "['consumer_postcode',\n",
       " 'merchant_abn',\n",
       " 'order_datetime',\n",
       " 'consumer_id',\n",
       " 'consumer_name',\n",
       " 'consumer_state',\n",
       " 'dollar_value',\n",
       " 'consumer_fraud_probability_%',\n",
       " 'merchant_name',\n",
       " 'merchant_description',\n",
       " 'merchant_revenue_level',\n",
       " 'merchant_take_rate_%',\n",
       " 'merchant_fraud_probability_%',\n",
       " 'consumer_postcode_estimated_population',\n",
       " 'consumer_postcode_median_age',\n",
       " 'consumer_postcode_median_mortgage_repay_monthly',\n",
       " 'consumer_postcode_median_totl_prsnal_inc_weekly',\n",
       " 'consumer_postcode_median_rent_weekly',\n",
       " 'consumer_postcode_median_tot_fam_inc_weekly',\n",
       " 'consumer_postcode_avg_num_psns_per_bedroom',\n",
       " 'consumer_postcode_median_tot_hhd_inc_weekly',\n",
       " 'consumer_postcode_avg_household_size']"
      ]
     },
     "execution_count": 19,
     "metadata": {},
     "output_type": "execute_result"
    }
   ],
   "source": [
    "all_df.columns"
   ]
  },
  {
   "cell_type": "code",
   "execution_count": 20,
   "metadata": {},
   "outputs": [
    {
     "name": "stderr",
     "output_type": "stream",
     "text": [
      "                                                                                \r"
     ]
    }
   ],
   "source": [
    "merchant = all_df.select(all_df['merchant_abn'],\\\n",
    "                         all_df['merchant_name'],\\\n",
    "                         all_df['merchant_revenue_level'],\\\n",
    "                         all_df['merchant_take_rate_%'],\\\n",
    "                         all_df['merchant_fraud_probability_%'],\\\n",
    "                        )\n",
    "\n",
    "merchant.write.mode(\"overwrite\").parquet(\"../../../data/insights/pre_insights/merchant.parquet\")"
   ]
  },
  {
   "cell_type": "code",
   "execution_count": 21,
   "metadata": {},
   "outputs": [
    {
     "name": "stderr",
     "output_type": "stream",
     "text": [
      "ERROR:root:KeyboardInterrupt while sending command.                 (0 + 8) / 9]\n",
      "Traceback (most recent call last):\n",
      "  File \"/home/niyer/.local/lib/python3.8/site-packages/py4j/java_gateway.py\", line 1038, in send_command\n",
      "    response = connection.send_command(command)\n",
      "  File \"/home/niyer/.local/lib/python3.8/site-packages/py4j/clientserver.py\", line 511, in send_command\n",
      "    answer = smart_decode(self.stream.readline()[:-1])\n",
      "  File \"/usr/lib/python3.8/socket.py\", line 669, in readinto\n",
      "    return self._sock.recv_into(b)\n",
      "KeyboardInterrupt\n"
     ]
    },
    {
     "ename": "KeyboardInterrupt",
     "evalue": "",
     "output_type": "error",
     "traceback": [
      "\u001b[0;31m---------------------------------------------------------------------------\u001b[0m",
      "\u001b[0;31mKeyboardInterrupt\u001b[0m                         Traceback (most recent call last)",
      "\u001b[1;32m/home/niyer/bnpl-industry-project-open-source-industry-project-35/notebooks/analysis/insights/pre-insights.ipynb Cell 10\u001b[0m line \u001b[0;36m6\n\u001b[1;32m      <a href='vscode-notebook-cell://wsl%2Bubuntu-20.04/home/niyer/bnpl-industry-project-open-source-industry-project-35/notebooks/analysis/insights/pre-insights.ipynb#X32sdnNjb2RlLXJlbW90ZQ%3D%3D?line=0'>1</a>\u001b[0m consumers \u001b[39m=\u001b[39m all_df\u001b[39m.\u001b[39mselect(\u001b[39m\"\u001b[39m\u001b[39mmerchant_abn\u001b[39m\u001b[39m\"\u001b[39m,\n\u001b[1;32m      <a href='vscode-notebook-cell://wsl%2Bubuntu-20.04/home/niyer/bnpl-industry-project-open-source-industry-project-35/notebooks/analysis/insights/pre-insights.ipynb#X32sdnNjb2RlLXJlbW90ZQ%3D%3D?line=1'>2</a>\u001b[0m                 \u001b[39m\"\u001b[39m\u001b[39mmerchant_name\u001b[39m\u001b[39m\"\u001b[39m,\n\u001b[1;32m      <a href='vscode-notebook-cell://wsl%2Bubuntu-20.04/home/niyer/bnpl-industry-project-open-source-industry-project-35/notebooks/analysis/insights/pre-insights.ipynb#X32sdnNjb2RlLXJlbW90ZQ%3D%3D?line=2'>3</a>\u001b[0m                 \u001b[39m\"\u001b[39m\u001b[39mconsumer_id\u001b[39m\u001b[39m\"\u001b[39m,\n\u001b[1;32m      <a href='vscode-notebook-cell://wsl%2Bubuntu-20.04/home/niyer/bnpl-industry-project-open-source-industry-project-35/notebooks/analysis/insights/pre-insights.ipynb#X32sdnNjb2RlLXJlbW90ZQ%3D%3D?line=3'>4</a>\u001b[0m                 \u001b[39m\"\u001b[39m\u001b[39mconsumer_name\u001b[39m\u001b[39m\"\u001b[39m,\n\u001b[1;32m      <a href='vscode-notebook-cell://wsl%2Bubuntu-20.04/home/niyer/bnpl-industry-project-open-source-industry-project-35/notebooks/analysis/insights/pre-insights.ipynb#X32sdnNjb2RlLXJlbW90ZQ%3D%3D?line=4'>5</a>\u001b[0m                 \u001b[39m\"\u001b[39m\u001b[39mconsumer_fraud_probability_\u001b[39m\u001b[39m%\u001b[39m\u001b[39m\"\u001b[39m)\n\u001b[0;32m----> <a href='vscode-notebook-cell://wsl%2Bubuntu-20.04/home/niyer/bnpl-industry-project-open-source-industry-project-35/notebooks/analysis/insights/pre-insights.ipynb#X32sdnNjb2RlLXJlbW90ZQ%3D%3D?line=5'>6</a>\u001b[0m consumers\u001b[39m.\u001b[39;49mwrite\u001b[39m.\u001b[39;49mmode(\u001b[39m\"\u001b[39;49m\u001b[39moverwrite\u001b[39;49m\u001b[39m\"\u001b[39;49m)\u001b[39m.\u001b[39;49mparquet(\u001b[39m\"\u001b[39;49m\u001b[39m../../data/insights/pre_insights/consumers.parquet\u001b[39;49m\u001b[39m\"\u001b[39;49m)\n",
      "File \u001b[0;32m~/.local/lib/python3.8/site-packages/pyspark/sql/readwriter.py:1656\u001b[0m, in \u001b[0;36mDataFrameWriter.parquet\u001b[0;34m(self, path, mode, partitionBy, compression)\u001b[0m\n\u001b[1;32m   1654\u001b[0m     \u001b[39mself\u001b[39m\u001b[39m.\u001b[39mpartitionBy(partitionBy)\n\u001b[1;32m   1655\u001b[0m \u001b[39mself\u001b[39m\u001b[39m.\u001b[39m_set_opts(compression\u001b[39m=\u001b[39mcompression)\n\u001b[0;32m-> 1656\u001b[0m \u001b[39mself\u001b[39;49m\u001b[39m.\u001b[39;49m_jwrite\u001b[39m.\u001b[39;49mparquet(path)\n",
      "File \u001b[0;32m~/.local/lib/python3.8/site-packages/py4j/java_gateway.py:1321\u001b[0m, in \u001b[0;36mJavaMember.__call__\u001b[0;34m(self, *args)\u001b[0m\n\u001b[1;32m   1314\u001b[0m args_command, temp_args \u001b[39m=\u001b[39m \u001b[39mself\u001b[39m\u001b[39m.\u001b[39m_build_args(\u001b[39m*\u001b[39margs)\n\u001b[1;32m   1316\u001b[0m command \u001b[39m=\u001b[39m proto\u001b[39m.\u001b[39mCALL_COMMAND_NAME \u001b[39m+\u001b[39m\\\n\u001b[1;32m   1317\u001b[0m     \u001b[39mself\u001b[39m\u001b[39m.\u001b[39mcommand_header \u001b[39m+\u001b[39m\\\n\u001b[1;32m   1318\u001b[0m     args_command \u001b[39m+\u001b[39m\\\n\u001b[1;32m   1319\u001b[0m     proto\u001b[39m.\u001b[39mEND_COMMAND_PART\n\u001b[0;32m-> 1321\u001b[0m answer \u001b[39m=\u001b[39m \u001b[39mself\u001b[39;49m\u001b[39m.\u001b[39;49mgateway_client\u001b[39m.\u001b[39;49msend_command(command)\n\u001b[1;32m   1322\u001b[0m return_value \u001b[39m=\u001b[39m get_return_value(\n\u001b[1;32m   1323\u001b[0m     answer, \u001b[39mself\u001b[39m\u001b[39m.\u001b[39mgateway_client, \u001b[39mself\u001b[39m\u001b[39m.\u001b[39mtarget_id, \u001b[39mself\u001b[39m\u001b[39m.\u001b[39mname)\n\u001b[1;32m   1325\u001b[0m \u001b[39mfor\u001b[39;00m temp_arg \u001b[39min\u001b[39;00m temp_args:\n",
      "File \u001b[0;32m~/.local/lib/python3.8/site-packages/py4j/java_gateway.py:1038\u001b[0m, in \u001b[0;36mGatewayClient.send_command\u001b[0;34m(self, command, retry, binary)\u001b[0m\n\u001b[1;32m   1036\u001b[0m connection \u001b[39m=\u001b[39m \u001b[39mself\u001b[39m\u001b[39m.\u001b[39m_get_connection()\n\u001b[1;32m   1037\u001b[0m \u001b[39mtry\u001b[39;00m:\n\u001b[0;32m-> 1038\u001b[0m     response \u001b[39m=\u001b[39m connection\u001b[39m.\u001b[39;49msend_command(command)\n\u001b[1;32m   1039\u001b[0m     \u001b[39mif\u001b[39;00m binary:\n\u001b[1;32m   1040\u001b[0m         \u001b[39mreturn\u001b[39;00m response, \u001b[39mself\u001b[39m\u001b[39m.\u001b[39m_create_connection_guard(connection)\n",
      "File \u001b[0;32m~/.local/lib/python3.8/site-packages/py4j/clientserver.py:511\u001b[0m, in \u001b[0;36mClientServerConnection.send_command\u001b[0;34m(self, command)\u001b[0m\n\u001b[1;32m    509\u001b[0m \u001b[39mtry\u001b[39;00m:\n\u001b[1;32m    510\u001b[0m     \u001b[39mwhile\u001b[39;00m \u001b[39mTrue\u001b[39;00m:\n\u001b[0;32m--> 511\u001b[0m         answer \u001b[39m=\u001b[39m smart_decode(\u001b[39mself\u001b[39;49m\u001b[39m.\u001b[39;49mstream\u001b[39m.\u001b[39;49mreadline()[:\u001b[39m-\u001b[39m\u001b[39m1\u001b[39m])\n\u001b[1;32m    512\u001b[0m         logger\u001b[39m.\u001b[39mdebug(\u001b[39m\"\u001b[39m\u001b[39mAnswer received: \u001b[39m\u001b[39m{0}\u001b[39;00m\u001b[39m\"\u001b[39m\u001b[39m.\u001b[39mformat(answer))\n\u001b[1;32m    513\u001b[0m         \u001b[39m# Happens when a the other end is dead. There might be an empty\u001b[39;00m\n\u001b[1;32m    514\u001b[0m         \u001b[39m# answer before the socket raises an error.\u001b[39;00m\n",
      "File \u001b[0;32m/usr/lib/python3.8/socket.py:669\u001b[0m, in \u001b[0;36mSocketIO.readinto\u001b[0;34m(self, b)\u001b[0m\n\u001b[1;32m    667\u001b[0m \u001b[39mwhile\u001b[39;00m \u001b[39mTrue\u001b[39;00m:\n\u001b[1;32m    668\u001b[0m     \u001b[39mtry\u001b[39;00m:\n\u001b[0;32m--> 669\u001b[0m         \u001b[39mreturn\u001b[39;00m \u001b[39mself\u001b[39;49m\u001b[39m.\u001b[39;49m_sock\u001b[39m.\u001b[39;49mrecv_into(b)\n\u001b[1;32m    670\u001b[0m     \u001b[39mexcept\u001b[39;00m timeout:\n\u001b[1;32m    671\u001b[0m         \u001b[39mself\u001b[39m\u001b[39m.\u001b[39m_timeout_occurred \u001b[39m=\u001b[39m \u001b[39mTrue\u001b[39;00m\n",
      "\u001b[0;31mKeyboardInterrupt\u001b[0m: "
     ]
    },
    {
     "name": "stderr",
     "output_type": "stream",
     "text": [
      "                                                                                \r"
     ]
    }
   ],
   "source": [
    "consumers = all_df.select(\"merchant_abn\",\n",
    "                \"merchant_name\",\n",
    "                \"consumer_id\",\n",
    "                \"consumer_name\",\n",
    "                \"consumer_fraud_probability_%\")\n",
    "consumers.write.mode(\"overwrite\").parquet(\"../../../data/insights/pre_insights/consumers.parquet\")"
   ]
  },
  {
   "cell_type": "code",
   "execution_count": null,
   "metadata": {},
   "outputs": [
    {
     "name": "stderr",
     "output_type": "stream",
     "text": [
      "                                                                                \r"
     ]
    }
   ],
   "source": [
    "orders = all_df.select(all_df.merchant_abn,\n",
    "                       all_df.merchant_name,\n",
    "                       all_df.consumer_id,\n",
    "                       all_df.order_datetime,\n",
    "                       all_df.dollar_value)\n",
    "\n",
    "orders.write.mode(\"overwrite\").parquet(\"../../../data/insights/pre_insights/orders.parquet\")"
   ]
  },
  {
   "cell_type": "code",
   "execution_count": null,
   "metadata": {},
   "outputs": [
    {
     "name": "stderr",
     "output_type": "stream",
     "text": [
      "                                                                                \r"
     ]
    }
   ],
   "source": [
    "descriptions = all_df.select(all_df.merchant_abn,\n",
    "                     all_df.merchant_name,\n",
    "                     all_df.merchant_description)\n",
    "\n",
    "descriptions.write.mode(\"overwrite\").parquet(\"../../../data/insights/pre_insights/descriptions.parquet\")"
   ]
  },
  {
   "cell_type": "code",
   "execution_count": null,
   "metadata": {},
   "outputs": [
    {
     "name": "stderr",
     "output_type": "stream",
     "text": [
      "                                                                                \r"
     ]
    }
   ],
   "source": [
    "postcode = all_df.select(all_df.merchant_abn,\n",
    "                         all_df.consumer_postcode,\n",
    "                         all_df.consumer_id,\n",
    "                         all_df.merchant_name,\n",
    "                         f.col(\"consumer_postcode_estimated_population\").alias(\"estimated_population\"),\n",
    "                         f.col(\"consumer_postcode_median_age\").alias(\"median_age\"),\n",
    "                         f.col(\"consumer_postcode_median_mortgage_repay_monthly\").alias(\"median_mortgage_monthly\"),\n",
    "                         f.col(\"consumer_postcode_median_totl_prsnal_inc_weekly\").alias(\"total_weekly_personal_income\"),\n",
    "                         f.col(\"consumer_postcode_median_rent_weekly\").alias(\"median_weekly_rent\"),\n",
    "                         f.col(\"consumer_postcode_median_tot_fam_inc_weekly\").alias(\"total_weekly_fam_income\"),\n",
    "                         f.col(\"consumer_postcode_avg_num_psns_per_bedroom\").alias(\"avg_num_persons_per_bedroom\"),\n",
    "                         f.col(\"consumer_postcode_median_tot_hhd_inc_weekly\").alias(\"total_hhd_income_weekly\"),\n",
    "                         f.col(\"consumer_postcode_avg_household_size\").alias(\"avg_household_size\"))\n",
    "\n",
    "postcode.write.mode(\"overwrite\").parquet(\"../../../data/insights/pre_insights/postcode.parquet\")\n"
   ]
  },
  {
   "cell_type": "code",
   "execution_count": null,
   "metadata": {},
   "outputs": [],
   "source": [
    "spark.stop()"
   ]
  }
 ],
 "metadata": {
  "kernelspec": {
   "display_name": "Python 3",
   "language": "python",
   "name": "python3"
  },
  "language_info": {
   "codemirror_mode": {
    "name": "ipython",
    "version": 3
   },
   "file_extension": ".py",
   "mimetype": "text/x-python",
   "name": "python",
   "nbconvert_exporter": "python",
   "pygments_lexer": "ipython3",
   "version": "3.10.12"
  },
  "orig_nbformat": 4
 },
 "nbformat": 4,
 "nbformat_minor": 2
}
