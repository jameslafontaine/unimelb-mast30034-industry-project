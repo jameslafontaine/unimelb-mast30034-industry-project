{
 "cells": [
  {
   "cell_type": "code",
   "execution_count": 15,
   "metadata": {},
   "outputs": [],
   "source": [
    "from pyspark.sql import SparkSession, functions as f\n",
    "import os"
   ]
  },
  {
   "cell_type": "code",
   "execution_count": 16,
   "metadata": {},
   "outputs": [],
   "source": [
    "\n",
    "if not os.path.exists(\"../../../data/insights\"):\n",
    "    os.makedirs(\"../../../data/insights\")\n",
    "\n",
    "if not os.path.exists(\"../../../data/insights/pre_insights\"):\n",
    "    os.makedirs(\"../../../data/insigths/pre_insights\")"
   ]
  },
  {
   "cell_type": "code",
   "execution_count": 17,
   "metadata": {},
   "outputs": [],
   "source": [
    "spark = (\n",
    "    SparkSession.builder.appName(\"Preprocessing_Yellow\")\n",
    "    .config(\"spark.sql.repl.eagerEval.enabled\", True) \n",
    "    .config(\"spark.sql.parquet.cacheMetadata\", \"true\")\n",
    "    .config(\"spark.sql.session.timeZone\", \"Etc/UTC\")\n",
    "    .config(\"spark.sql.session.timeZone\", \"Etc/UTC\")\n",
    "    .config('spark.driver.memory', '3g')   \n",
    "    .config('spark.executor.memory', '4g')  \n",
    "    .config('spark.executor.instances', '2')  \n",
    "    .config('spark.executor.cores', '2')\n",
    "    .getOrCreate()\n",
    ")"
   ]
  },
  {
   "cell_type": "code",
   "execution_count": 18,
   "metadata": {},
   "outputs": [],
   "source": [
    "all_data_combined = spark.read.parquet(\"../../../data/curated/all_data_combined.parquet\")"
   ]
  },
  {
   "cell_type": "code",
   "execution_count": 19,
   "metadata": {},
   "outputs": [
    {
     "name": "stdout",
     "output_type": "stream",
     "text": [
      "+-----------------+------------+--------------+-------+-----------+-------------+--------------+---------------+-----------------------------+----------------------------+--------------------+--------------------+----------------------+--------------------+----------------------------+--------------------------------------+----------------------------+-----------------------------------------------+-----------------------------------------------+------------------------------------+-------------------------------------------+------------------------------------------+-------------------------------------------+------------------------------------+\n",
      "|consumer_postcode|merchant_abn|order_datetime|user_id|consumer_id|consumer_name|consumer_state|consumer_gender|transaction_dollar_value_$AUD|consumer_fraud_probability_%|       merchant_name|merchant_description|merchant_revenue_level|merchant_take_rate_%|merchant_fraud_probability_%|consumer_postcode_estimated_population|consumer_postcode_median_age|consumer_postcode_median_mortgage_repay_monthly|consumer_postcode_median_totl_prsnal_inc_weekly|consumer_postcode_median_rent_weekly|consumer_postcode_median_tot_fam_inc_weekly|consumer_postcode_avg_num_psns_per_bedroom|consumer_postcode_median_tot_hhd_inc_weekly|consumer_postcode_avg_household_size|\n",
      "+-----------------+------------+--------------+-------+-----------+-------------+--------------+---------------+-----------------------------+----------------------------+--------------------+--------------------+----------------------+--------------------+----------------------------+--------------------------------------+----------------------------+-----------------------------------------------+-----------------------------------------------+------------------------------------+-------------------------------------------+------------------------------------------+-------------------------------------------+------------------------------------+\n",
      "|             3332| 20985347699|    2021-08-21|     14|    1343547| Lance Butler|           VIC|           Male|                         0.27|                         0.0|    Semper Tellus PC|tent and awning s...|                     a|                 6.1|                         0.0|                                8074.0|                        40.0|                                         1733.0|                                          780.0|                               308.0|                                     2103.0|                                       0.8|                                     1898.0|                                 2.9|\n",
      "|             3332| 45629217853|    2021-08-14|     14|    1343547| Lance Butler|           VIC|           Male|                          8.2|                         0.0|    Lacus Consulting|gift, card, novel...|                     a|                6.98|                         0.0|                                8074.0|                        40.0|                                         1733.0|                                          780.0|                               308.0|                                     2103.0|                                       0.8|                                     1898.0|                                 2.9|\n",
      "|             3332| 71528203369|    2021-07-30|     14|    1343547| Lance Butler|           VIC|           Male|                        10.07|                         0.0|Ipsum Primis Asso...|watch, clock, and...|                     a|                6.94|                         0.0|                                8074.0|                        40.0|                                         1733.0|                                          780.0|                               308.0|                                     2103.0|                                       0.8|                                     1898.0|                                 2.9|\n",
      "|             3332| 75900778714|    2021-08-20|     14|    1343547| Lance Butler|           VIC|           Male|                       546.68|                         0.0|Laoreet Posuere F...|florists supplies...|                     c|                2.61|                         0.0|                                8074.0|                        40.0|                                         1733.0|                                          780.0|                               308.0|                                     2103.0|                                       0.8|                                     1898.0|                                 2.9|\n",
      "|             3332| 66626020312|    2021-06-17|     14|    1343547| Lance Butler|           VIC|           Male|                        57.54|                         0.0|In Magna Incorpor...|tent and awning s...|                     c|                2.46|                         0.0|                                8074.0|                        40.0|                                         1733.0|                                          780.0|                               308.0|                                     2103.0|                                       0.8|                                     1898.0|                                 2.9|\n",
      "|             3332| 17324645993|    2021-05-29|     14|    1343547| Lance Butler|           VIC|           Male|                         6.25|                         0.0|Eget Metus In Cor...|tent and awning s...|                     a|                5.73|                         0.0|                                8074.0|                        40.0|                                         1733.0|                                          780.0|                               308.0|                                     2103.0|                                       0.8|                                     1898.0|                                 2.9|\n",
      "|             3332| 13285958344|    2021-05-02|     14|    1343547| Lance Butler|           VIC|           Male|                         0.14|                         0.0|Purus Gravida Sag...|gift, card, novel...|                     a|                5.65|                         0.0|                                8074.0|                        40.0|                                         1733.0|                                          780.0|                               308.0|                                     2103.0|                                       0.8|                                     1898.0|                                 2.9|\n",
      "|             3332| 99467302626|    2021-06-21|     14|    1343547| Lance Butler|           VIC|           Male|                       234.76|                         0.0| Ac Ipsum Foundation|stationery, offic...|                     a|                6.35|                         0.0|                                8074.0|                        40.0|                                         1733.0|                                          780.0|                               308.0|                                     2103.0|                                       0.8|                                     1898.0|                                 2.9|\n",
      "|             3332| 41315101616|    2021-07-28|     14|    1343547| Lance Butler|           VIC|           Male|                        84.23|                         0.0|Malesuada Fames F...|antique shops - s...|                     b|                5.05|                         0.0|                                8074.0|                        40.0|                                         1733.0|                                          780.0|                               308.0|                                     2103.0|                                       0.8|                                     1898.0|                                 2.9|\n",
      "|             3332| 32361057556|    2021-07-27|     14|    1343547| Lance Butler|           VIC|           Male|                        20.03|                         0.0|Orci In Consequat...|gift, card, novel...|                     a|                6.61|                         0.0|                                8074.0|                        40.0|                                         1733.0|                                          780.0|                               308.0|                                     2103.0|                                       0.8|                                     1898.0|                                 2.9|\n",
      "|             3332| 26008308191|    2021-04-20|     14|    1343547| Lance Butler|           VIC|           Male|                       211.31|                     17.6987|   Nulla Aliquet LLP|books, periodical...|                     b|                3.37|                         0.0|                                8074.0|                        40.0|                                         1733.0|                                          780.0|                               308.0|                                     2103.0|                                       0.8|                                     1898.0|                                 2.9|\n",
      "|             3332| 24852446429|    2021-07-06|     14|    1343547| Lance Butler|           VIC|           Male|                         4.04|                         0.0|      Erat Vitae LLP|florists supplies...|                     c|                2.94|                         0.0|                                8074.0|                        40.0|                                         1733.0|                                          780.0|                               308.0|                                     2103.0|                                       0.8|                                     1898.0|                                 2.9|\n",
      "|             3332| 90994364089|    2021-04-09|     14|    1343547| Lance Butler|           VIC|           Male|                       203.47|                         0.0|  Rhoncus Proin Inc.|motor vehicle sup...|                     a|                6.71|                         0.0|                                8074.0|                        40.0|                                         1733.0|                                          780.0|                               308.0|                                     2103.0|                                       0.8|                                     1898.0|                                 2.9|\n",
      "|             3332| 31585975447|    2021-12-02|     14|    1343547| Lance Butler|           VIC|           Male|                        27.53|                         0.0|Dolor Dapibus Gra...|digital goods: bo...|                     b|                3.12|                         0.0|                                8074.0|                        40.0|                                         1733.0|                                          780.0|                               308.0|                                     2103.0|                                       0.8|                                     1898.0|                                 2.9|\n",
      "|             3332| 27326652377|    2021-11-24|     14|    1343547| Lance Butler|           VIC|           Male|                      2004.36|                         0.0|Tellus Aenean Cor...|music shops - mus...|                     a|                6.33|                         0.0|                                8074.0|                        40.0|                                         1733.0|                                          780.0|                               308.0|                                     2103.0|                                       0.8|                                     1898.0|                                 2.9|\n",
      "|             3332| 96680767841|    2021-12-16|     14|    1343547| Lance Butler|           VIC|           Male|                       372.67|                         0.0|      Ornare Limited|motor vehicle sup...|                     a|                5.91|                         0.0|                                8074.0|                        40.0|                                         1733.0|                                          780.0|                               308.0|                                     2103.0|                                       0.8|                                     1898.0|                                 2.9|\n",
      "|             3332| 30122382323|    2021-11-22|     14|    1343547| Lance Butler|           VIC|           Male|                        29.65|                         0.0|       Ipsum Company|watch, clock, and...|                     b|                3.36|                         0.0|                                8074.0|                        40.0|                                         1733.0|                                          780.0|                               308.0|                                     2103.0|                                       0.8|                                     1898.0|                                 2.9|\n",
      "|             3332| 89726005175|    2021-11-04|     14|    1343547| Lance Butler|           VIC|           Male|                        31.64|                         0.0| Est Nunc Consulting|tent and awning s...|                     a|                6.01|                         0.0|                                8074.0|                        40.0|                                         1733.0|                                          780.0|                               308.0|                                     2103.0|                                       0.8|                                     1898.0|                                 2.9|\n",
      "|             3332| 80324045558|    2021-10-16|     14|    1343547| Lance Butler|           VIC|           Male|                         28.3|                         0.0|Ipsum Dolor Sit C...|gift, card, novel...|                     c|                1.47|                         0.0|                                8074.0|                        40.0|                                         1733.0|                                          780.0|                               308.0|                                     2103.0|                                       0.8|                                     1898.0|                                 2.9|\n",
      "|             3332| 57900494384|    2021-09-23|     14|    1343547| Lance Butler|           VIC|           Male|                        21.05|                         0.0|Porttitor Tellus ...|tent and awning s...|                     a|                6.39|                         0.0|                                8074.0|                        40.0|                                         1733.0|                                          780.0|                               308.0|                                     2103.0|                                       0.8|                                     1898.0|                                 2.9|\n",
      "+-----------------+------------+--------------+-------+-----------+-------------+--------------+---------------+-----------------------------+----------------------------+--------------------+--------------------+----------------------+--------------------+----------------------------+--------------------------------------+----------------------------+-----------------------------------------------+-----------------------------------------------+------------------------------------+-------------------------------------------+------------------------------------------+-------------------------------------------+------------------------------------+\n",
      "only showing top 20 rows\n",
      "\n"
     ]
    }
   ],
   "source": [
    "all_data_combined.show()"
   ]
  },
  {
   "cell_type": "code",
   "execution_count": 20,
   "metadata": {},
   "outputs": [
    {
     "data": {
      "text/plain": [
       "['consumer_postcode',\n",
       " 'merchant_abn',\n",
       " 'order_datetime',\n",
       " 'user_id',\n",
       " 'consumer_id',\n",
       " 'consumer_name',\n",
       " 'consumer_state',\n",
       " 'consumer_gender',\n",
       " 'transaction_dollar_value_$AUD',\n",
       " 'consumer_fraud_probability_%',\n",
       " 'merchant_name',\n",
       " 'merchant_description',\n",
       " 'merchant_revenue_level',\n",
       " 'merchant_take_rate_%',\n",
       " 'merchant_fraud_probability_%',\n",
       " 'consumer_postcode_estimated_population',\n",
       " 'consumer_postcode_median_age',\n",
       " 'consumer_postcode_median_mortgage_repay_monthly',\n",
       " 'consumer_postcode_median_totl_prsnal_inc_weekly',\n",
       " 'consumer_postcode_median_rent_weekly',\n",
       " 'consumer_postcode_median_tot_fam_inc_weekly',\n",
       " 'consumer_postcode_avg_num_psns_per_bedroom',\n",
       " 'consumer_postcode_median_tot_hhd_inc_weekly',\n",
       " 'consumer_postcode_avg_household_size']"
      ]
     },
     "execution_count": 20,
     "metadata": {},
     "output_type": "execute_result"
    }
   ],
   "source": [
    "all_data_combined.columns"
   ]
  },
  {
   "cell_type": "code",
   "execution_count": 21,
   "metadata": {},
   "outputs": [],
   "source": [
    "all_df = all_data_combined.drop(all_data_combined.consumer_gender).\\\n",
    "        drop(all_data_combined.user_id).\\\n",
    "        drop(all_data_combined.consumer_gender).\\\n",
    "        withColumnRenamed(\"transaction_dollar_value_$AUD\", \"dollar_value\")\n",
    "    "
   ]
  },
  {
   "cell_type": "code",
   "execution_count": 22,
   "metadata": {},
   "outputs": [
    {
     "data": {
      "text/plain": [
       "['consumer_postcode',\n",
       " 'merchant_abn',\n",
       " 'order_datetime',\n",
       " 'consumer_id',\n",
       " 'consumer_name',\n",
       " 'consumer_state',\n",
       " 'dollar_value',\n",
       " 'consumer_fraud_probability_%',\n",
       " 'merchant_name',\n",
       " 'merchant_description',\n",
       " 'merchant_revenue_level',\n",
       " 'merchant_take_rate_%',\n",
       " 'merchant_fraud_probability_%',\n",
       " 'consumer_postcode_estimated_population',\n",
       " 'consumer_postcode_median_age',\n",
       " 'consumer_postcode_median_mortgage_repay_monthly',\n",
       " 'consumer_postcode_median_totl_prsnal_inc_weekly',\n",
       " 'consumer_postcode_median_rent_weekly',\n",
       " 'consumer_postcode_median_tot_fam_inc_weekly',\n",
       " 'consumer_postcode_avg_num_psns_per_bedroom',\n",
       " 'consumer_postcode_median_tot_hhd_inc_weekly',\n",
       " 'consumer_postcode_avg_household_size']"
      ]
     },
     "execution_count": 22,
     "metadata": {},
     "output_type": "execute_result"
    }
   ],
   "source": [
    "all_df.columns"
   ]
  },
  {
   "cell_type": "code",
   "execution_count": 23,
   "metadata": {},
   "outputs": [
    {
     "name": "stderr",
     "output_type": "stream",
     "text": [
      "                                                                                \r"
     ]
    }
   ],
   "source": [
    "merchant = all_df.select(all_df['merchant_abn'],\\\n",
    "                         all_df['merchant_name'],\\\n",
    "                         all_df['merchant_revenue_level'],\\\n",
    "                         all_df['merchant_take_rate_%'],\\\n",
    "                         all_df['merchant_fraud_probability_%'],\\\n",
    "                        )\n",
    "\n",
    "merchant.write.mode(\"overwrite\").parquet(\"../../../data/insights/pre_insights/merchant.parquet\")"
   ]
  },
  {
   "cell_type": "code",
   "execution_count": 24,
   "metadata": {},
   "outputs": [
    {
     "name": "stderr",
     "output_type": "stream",
     "text": [
      "                                                                                \r"
     ]
    }
   ],
   "source": [
    "consumers = all_df.select(\"merchant_abn\",\n",
    "                \"merchant_name\",\n",
    "                \"consumer_id\",\n",
    "                \"consumer_name\",\n",
    "                \"consumer_fraud_probability_%\")\n",
    "consumers.write.mode(\"overwrite\").parquet(\"../../../data/insights/pre_insights/consumers.parquet\")"
   ]
  },
  {
   "cell_type": "code",
   "execution_count": 25,
   "metadata": {},
   "outputs": [
    {
     "name": "stderr",
     "output_type": "stream",
     "text": [
      "                                                                                \r"
     ]
    }
   ],
   "source": [
    "orders = all_df.select(all_df.merchant_abn,\n",
    "                       all_df.merchant_name,\n",
    "                       all_df.consumer_id,\n",
    "                       all_df.order_datetime,\n",
    "                       all_df.dollar_value)\n",
    "\n",
    "orders.write.mode(\"overwrite\").parquet(\"../../../data/insights/pre_insights/orders.parquet\")"
   ]
  },
  {
   "cell_type": "code",
   "execution_count": 26,
   "metadata": {},
   "outputs": [
    {
     "name": "stderr",
     "output_type": "stream",
     "text": [
      "                                                                                \r"
     ]
    }
   ],
   "source": [
    "descriptions = all_df.select(all_df.merchant_abn,\n",
    "                     all_df.merchant_name,\n",
    "                     all_df.merchant_description)\n",
    "\n",
    "descriptions.write.mode(\"overwrite\").parquet(\"../../../data/insights/pre_insights/descriptions.parquet\")"
   ]
  },
  {
   "cell_type": "code",
   "execution_count": 27,
   "metadata": {},
   "outputs": [
    {
     "name": "stderr",
     "output_type": "stream",
     "text": [
      "                                                                                \r"
     ]
    }
   ],
   "source": [
    "postcode = all_df.select(all_df.merchant_abn,\n",
    "                         all_df.consumer_postcode,\n",
    "                         all_df.consumer_id,\n",
    "                         all_df.merchant_name,\n",
    "                         f.col(\"consumer_postcode_estimated_population\").alias(\"estimated_population\"),\n",
    "                         f.col(\"consumer_postcode_median_age\").alias(\"median_age\"),\n",
    "                         f.col(\"consumer_postcode_median_mortgage_repay_monthly\").alias(\"median_mortgage_monthly\"),\n",
    "                         f.col(\"consumer_postcode_median_totl_prsnal_inc_weekly\").alias(\"total_weekly_personal_income\"),\n",
    "                         f.col(\"consumer_postcode_median_rent_weekly\").alias(\"median_weekly_rent\"),\n",
    "                         f.col(\"consumer_postcode_median_tot_fam_inc_weekly\").alias(\"total_weekly_fam_income\"),\n",
    "                         f.col(\"consumer_postcode_avg_num_psns_per_bedroom\").alias(\"avg_num_persons_per_bedroom\"),\n",
    "                         f.col(\"consumer_postcode_median_tot_hhd_inc_weekly\").alias(\"total_hhd_income_weekly\"),\n",
    "                         f.col(\"consumer_postcode_avg_household_size\").alias(\"avg_household_size\"))\n",
    "\n",
    "postcode.write.mode(\"overwrite\").parquet(\"../../../data/insights/pre_insights/postcode.parquet\")\n"
   ]
  },
  {
   "cell_type": "code",
   "execution_count": 28,
   "metadata": {},
   "outputs": [],
   "source": [
    "spark.stop()"
   ]
  }
 ],
 "metadata": {
  "kernelspec": {
   "display_name": "Python 3",
   "language": "python",
   "name": "python3"
  },
  "language_info": {
   "codemirror_mode": {
    "name": "ipython",
    "version": 3
   },
   "file_extension": ".py",
   "mimetype": "text/x-python",
   "name": "python",
   "nbconvert_exporter": "python",
   "pygments_lexer": "ipython3",
   "version": "3.8.10"
  },
  "orig_nbformat": 4
 },
 "nbformat": 4,
 "nbformat_minor": 2
}
