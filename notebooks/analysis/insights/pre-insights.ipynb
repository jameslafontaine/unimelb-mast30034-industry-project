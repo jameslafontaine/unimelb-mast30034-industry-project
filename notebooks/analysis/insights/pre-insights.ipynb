{
 "cells": [
  {
   "cell_type": "markdown",
   "metadata": {},
   "source": [
    "# Breakdown the Curated Data\n",
    "## Author: Dulan Wijeratne 1181873"
   ]
  },
  {
   "cell_type": "markdown",
   "metadata": {},
   "source": [
    "In this Notebook we will breakdown the data from the ETL, to 5 groups, to make it easier to run the code without encountering memory related errors. These groups are:\n",
    "1. Merchant \n",
    "2. Consumers\n",
    "3. Orders\n",
    "4. Postcodes\n",
    "5. Descriptions"
   ]
  },
  {
   "cell_type": "markdown",
   "metadata": {},
   "source": [
    "To start we will create a Spark session and import the orders dataset that contains all the features that relate to orders."
   ]
  },
  {
   "cell_type": "code",
   "execution_count": 2,
   "metadata": {},
   "outputs": [],
   "source": [
    "from pyspark.sql import SparkSession, functions as f\n",
    "import os"
   ]
  },
  {
   "cell_type": "code",
   "execution_count": 3,
   "metadata": {},
   "outputs": [],
   "source": [
    "\n",
    "if not os.path.exists(\"../../../data/insights\"):\n",
    "    os.makedirs(\"../../../data/insights\")\n",
    "\n",
    "if not os.path.exists(\"../../../data/insights/pre_insights\"):\n",
    "    os.makedirs(\"../../../data/insights/pre_insights\")"
   ]
  },
  {
   "cell_type": "code",
   "execution_count": 4,
   "metadata": {},
   "outputs": [
    {
     "name": "stderr",
     "output_type": "stream",
     "text": [
      "your 131072x1 screen size is bogus. expect trouble\n",
      "23/10/19 02:25:44 WARN Utils: Your hostname, DulanComputer resolves to a loopback address: 127.0.1.1; using 172.30.15.25 instead (on interface eth0)\n",
      "23/10/19 02:25:44 WARN Utils: Set SPARK_LOCAL_IP if you need to bind to another address\n",
      "Setting default log level to \"WARN\".\n",
      "To adjust logging level use sc.setLogLevel(newLevel). For SparkR, use setLogLevel(newLevel).\n",
      "23/10/19 02:25:49 WARN NativeCodeLoader: Unable to load native-hadoop library for your platform... using builtin-java classes where applicable\n",
      "23/10/19 02:26:16 WARN Utils: Service 'SparkUI' could not bind on port 4040. Attempting port 4041.\n"
     ]
    }
   ],
   "source": [
    "spark = (\n",
    "    SparkSession.builder.appName(\"Preprocessing_Yellow\")\n",
    "    .config(\"spark.sql.repl.eagerEval.enabled\", True) \n",
    "    .config(\"spark.sql.parquet.cacheMetadata\", \"true\")\n",
    "    .config(\"spark.sql.session.timeZone\", \"Etc/UTC\")\n",
    "    .config(\"spark.sql.session.timeZone\", \"Etc/UTC\")\n",
    "    .config('spark.driver.memory', '3g')   \n",
    "    .config('spark.executor.memory', '4g')  \n",
    "    .config('spark.executor.instances', '2')  \n",
    "    .config('spark.executor.cores', '2')\n",
    "    .getOrCreate()\n",
    ")"
   ]
  },
  {
   "cell_type": "markdown",
   "metadata": {},
   "source": [
    "### Reading in the ETL Data"
   ]
  },
  {
   "cell_type": "code",
   "execution_count": 5,
   "metadata": {},
   "outputs": [
    {
     "name": "stderr",
     "output_type": "stream",
     "text": [
      "                                                                                \r"
     ]
    }
   ],
   "source": [
    "all_data_combined = spark.read.parquet(\"../../../data/curated/all_data_combined.parquet\")"
   ]
  },
  {
   "cell_type": "code",
   "execution_count": 6,
   "metadata": {},
   "outputs": [
    {
     "name": "stderr",
     "output_type": "stream",
     "text": [
      "23/10/19 01:51:43 WARN package: Truncated the string representation of a plan since it was too large. This behavior can be adjusted by setting 'spark.sql.debug.maxToStringFields'.\n",
      "                                                                                \r"
     ]
    },
    {
     "name": "stdout",
     "output_type": "stream",
     "text": [
      "+-----------------+------------+--------------+-------+-----------+----------------+--------------+---------------+------------------+----------------------------+--------------------+--------------------+----------------------+--------------------+--------------------+----------------------------+-----------------+-----------------+-----------------+-----------------+--------------+--------------+---------------------------------+-------------------------------+----------------------+-----------------------------+--------------------------------+-----------------------------+--------------------------+\n",
      "|consumer_postcode|merchant_abn|order_datetime|user_id|consumer_id|   consumer_name|consumer_state|consumer_gender|      dollar_value|consumer_fraud_probability_%|       merchant_name|merchant_description|merchant_revenue_level|merchant_take_rate_%|             segment|merchant_fraud_probability_%|consumer_sa2_code|consumer_sa4_name|consumer_sa3_name|consumer_sa2_name|sa2_population|sa2_median_age|sa2_median_mortgage_repay_monthly|sa2_median_tot_prsnl_inc_weekly|sa2_median_rent_weekly|sa2_median_tot_fam_inc_weekly|sa2_average_num_psns_per_bedroom|sa2_median_tot_hhd_inc_weekly|sa2_average_household_size|\n",
      "+-----------------+------------+--------------+-------+-----------+----------------+--------------+---------------+------------------+----------------------------+--------------------+--------------------+----------------------+--------------------+--------------------+----------------------------+-----------------+-----------------+-----------------+-----------------+--------------+--------------+---------------------------------+-------------------------------+----------------------+-----------------------------+--------------------------------+-----------------------------+--------------------------+\n",
      "|             3220| 32361057556|    2021-05-20|     10|    1058499|Jillian Gonzales|           VIC|         Female| 97.59893835228833|                         0.0|Orci In Consequat...|gift, card, novel...|                     a|                6.61|  retail_and_novelty|                         0.0|        203021046|          Geelong|          Geelong|   Newtown (Vic.)|         10408|            40|                             2167|                           1001|                   360|                         2861|                             0.8|                         2092|                       2.5|\n",
      "|             3220| 32361057556|    2021-05-20|     10|    1058499|Jillian Gonzales|           VIC|         Female| 97.59893835228833|                         0.0|Orci In Consequat...|gift, card, novel...|                     a|                6.61|  retail_and_novelty|                         0.0|        203021039|          Geelong|          Geelong|          Geelong|         13487|            40|                             1703|                            843|                   340|                         2211|                             0.8|                         1542|                       2.1|\n",
      "|             3220| 43186523025|    2021-07-15|     10|    1058499|Jillian Gonzales|           VIC|         Female| 54.12123684966841|                         0.0|Lorem Ipsum Sodal...|florists supplies...|                     b|                4.47|garden_and_furnis...|                         0.0|        203021046|          Geelong|          Geelong|   Newtown (Vic.)|         10408|            40|                             2167|                           1001|                   360|                         2861|                             0.8|                         2092|                       2.5|\n",
      "|             3220| 43186523025|    2021-07-15|     10|    1058499|Jillian Gonzales|           VIC|         Female| 54.12123684966841|                         0.0|Lorem Ipsum Sodal...|florists supplies...|                     b|                4.47|garden_and_furnis...|                         0.0|        203021039|          Geelong|          Geelong|          Geelong|         13487|            40|                             1703|                            843|                   340|                         2211|                             0.8|                         1542|                       2.1|\n",
      "|             3220| 50315283629|    2021-05-06|     10|    1058499|Jillian Gonzales|           VIC|         Female|209.03399492699737|                         0.0|Iaculis Aliquet D...|lawn and garden s...|                     c|                1.76|garden_and_furnis...|                         0.0|        203021046|          Geelong|          Geelong|   Newtown (Vic.)|         10408|            40|                             2167|                           1001|                   360|                         2861|                             0.8|                         2092|                       2.5|\n",
      "|             3220| 50315283629|    2021-05-06|     10|    1058499|Jillian Gonzales|           VIC|         Female|209.03399492699737|                         0.0|Iaculis Aliquet D...|lawn and garden s...|                     c|                1.76|garden_and_furnis...|                         0.0|        203021039|          Geelong|          Geelong|          Geelong|         13487|            40|                             1703|                            843|                   340|                         2211|                             0.8|                         1542|                       2.1|\n",
      "|             3220| 87630626808|    2021-05-06|     10|    1058499|Jillian Gonzales|           VIC|         Female| 38.08559535222015|                         0.0|     Eget Industries|gift, card, novel...|                     c|                2.26|  retail_and_novelty|                         0.0|        203021046|          Geelong|          Geelong|   Newtown (Vic.)|         10408|            40|                             2167|                           1001|                   360|                         2861|                             0.8|                         2092|                       2.5|\n",
      "|             3220| 87630626808|    2021-05-06|     10|    1058499|Jillian Gonzales|           VIC|         Female| 38.08559535222015|                         0.0|     Eget Industries|gift, card, novel...|                     c|                2.26|  retail_and_novelty|                         0.0|        203021039|          Geelong|          Geelong|          Geelong|         13487|            40|                             1703|                            843|                   340|                         2211|                             0.8|                         1542|                       2.1|\n",
      "|             3220| 80324045558|    2021-06-01|     10|    1058499|Jillian Gonzales|           VIC|         Female| 36.37887636830205|                         0.0|Ipsum Dolor Sit C...|gift, card, novel...|                     c|                1.47|  retail_and_novelty|                         0.0|        203021046|          Geelong|          Geelong|   Newtown (Vic.)|         10408|            40|                             2167|                           1001|                   360|                         2861|                             0.8|                         2092|                       2.5|\n",
      "|             3220| 80324045558|    2021-06-01|     10|    1058499|Jillian Gonzales|           VIC|         Female| 36.37887636830205|                         0.0|Ipsum Dolor Sit C...|gift, card, novel...|                     c|                1.47|  retail_and_novelty|                         0.0|        203021039|          Geelong|          Geelong|          Geelong|         13487|            40|                             1703|                            843|                   340|                         2211|                             0.8|                         1542|                       2.1|\n",
      "|             3220| 61619924340|    2021-04-14|     10|    1058499|Jillian Gonzales|           VIC|         Female|335.64069994288593|                         0.0|     In Mi Institute|          shoe shops|                     c|                2.83|  retail_and_novelty|                         0.0|        203021046|          Geelong|          Geelong|   Newtown (Vic.)|         10408|            40|                             2167|                           1001|                   360|                         2861|                             0.8|                         2092|                       2.5|\n",
      "|             3220| 61619924340|    2021-04-14|     10|    1058499|Jillian Gonzales|           VIC|         Female|335.64069994288593|                         0.0|     In Mi Institute|          shoe shops|                     c|                2.83|  retail_and_novelty|                         0.0|        203021039|          Geelong|          Geelong|          Geelong|         13487|            40|                             1703|                            843|                   340|                         2211|                             0.8|                         1542|                       2.1|\n",
      "|             3220| 21359184622|    2021-03-11|     10|    1058499|Jillian Gonzales|           VIC|         Female| 94.03221497989011|                         0.0|         Sit Amet PC|motor vehicle sup...|                     b|                 3.6|specialized_services|                         0.0|        203021046|          Geelong|          Geelong|   Newtown (Vic.)|         10408|            40|                             2167|                           1001|                   360|                         2861|                             0.8|                         2092|                       2.5|\n",
      "|             3220| 21359184622|    2021-03-11|     10|    1058499|Jillian Gonzales|           VIC|         Female| 94.03221497989011|                         0.0|         Sit Amet PC|motor vehicle sup...|                     b|                 3.6|specialized_services|                         0.0|        203021039|          Geelong|          Geelong|          Geelong|         13487|            40|                             1703|                            843|                   340|                         2211|                             0.8|                         1542|                       2.1|\n",
      "|             3220| 75034515922|    2021-03-06|     10|    1058499|Jillian Gonzales|           VIC|         Female| 3.755919567388635|                         0.0|   Ac Eleifend Corp.|digital goods: bo...|                     a|                6.22|tech_and_electronics|                         0.0|        203021046|          Geelong|          Geelong|   Newtown (Vic.)|         10408|            40|                             2167|                           1001|                   360|                         2861|                             0.8|                         2092|                       2.5|\n",
      "|             3220| 75034515922|    2021-03-06|     10|    1058499|Jillian Gonzales|           VIC|         Female| 3.755919567388635|                         0.0|   Ac Eleifend Corp.|digital goods: bo...|                     a|                6.22|tech_and_electronics|                         0.0|        203021039|          Geelong|          Geelong|          Geelong|         13487|            40|                             1703|                            843|                   340|                         2211|                             0.8|                         1542|                       2.1|\n",
      "|             3220| 94729574738|    2021-12-15|     10|    1058499|Jillian Gonzales|           VIC|         Female|101.50481357621058|                         0.0|Scelerisque Corpo...|computer programm...|                     b|                4.51|tech_and_electronics|                         0.0|        203021046|          Geelong|          Geelong|   Newtown (Vic.)|         10408|            40|                             2167|                           1001|                   360|                         2861|                             0.8|                         2092|                       2.5|\n",
      "|             3220| 94729574738|    2021-12-15|     10|    1058499|Jillian Gonzales|           VIC|         Female|101.50481357621058|                         0.0|Scelerisque Corpo...|computer programm...|                     b|                4.51|tech_and_electronics|                         0.0|        203021039|          Geelong|          Geelong|          Geelong|         13487|            40|                             1703|                            843|                   340|                         2211|                             0.8|                         1542|                       2.1|\n",
      "|             3220| 40555823280|    2021-11-27|     10|    1058499|Jillian Gonzales|           VIC|         Female| 71.59946906957994|                         0.0|Nibh Donec Incorp...|gift, card, novel...|                     a|                6.04|  retail_and_novelty|                         0.0|        203021046|          Geelong|          Geelong|   Newtown (Vic.)|         10408|            40|                             2167|                           1001|                   360|                         2861|                             0.8|                         2092|                       2.5|\n",
      "|             3220| 40555823280|    2021-11-27|     10|    1058499|Jillian Gonzales|           VIC|         Female| 71.59946906957994|                         0.0|Nibh Donec Incorp...|gift, card, novel...|                     a|                6.04|  retail_and_novelty|                         0.0|        203021039|          Geelong|          Geelong|          Geelong|         13487|            40|                             1703|                            843|                   340|                         2211|                             0.8|                         1542|                       2.1|\n",
      "+-----------------+------------+--------------+-------+-----------+----------------+--------------+---------------+------------------+----------------------------+--------------------+--------------------+----------------------+--------------------+--------------------+----------------------------+-----------------+-----------------+-----------------+-----------------+--------------+--------------+---------------------------------+-------------------------------+----------------------+-----------------------------+--------------------------------+-----------------------------+--------------------------+\n",
      "only showing top 20 rows\n",
      "\n"
     ]
    }
   ],
   "source": [
    "all_data_combined.show()"
   ]
  },
  {
   "cell_type": "code",
   "execution_count": 6,
   "metadata": {},
   "outputs": [
    {
     "data": {
      "text/plain": [
       "['consumer_postcode',\n",
       " 'merchant_abn',\n",
       " 'order_datetime',\n",
       " 'user_id',\n",
       " 'consumer_id',\n",
       " 'consumer_name',\n",
       " 'consumer_state',\n",
       " 'consumer_gender',\n",
       " 'dollar_value',\n",
       " 'consumer_fraud_probability_%',\n",
       " 'merchant_name',\n",
       " 'merchant_description',\n",
       " 'merchant_revenue_level',\n",
       " 'merchant_take_rate_%',\n",
       " 'segment',\n",
       " 'merchant_fraud_probability_%',\n",
       " 'consumer_sa2_code',\n",
       " 'consumer_sa4_name',\n",
       " 'consumer_sa3_name',\n",
       " 'consumer_sa2_name',\n",
       " 'sa2_population',\n",
       " 'sa2_median_age',\n",
       " 'sa2_median_mortgage_repay_monthly',\n",
       " 'sa2_median_tot_prsnl_inc_weekly',\n",
       " 'sa2_median_rent_weekly',\n",
       " 'sa2_median_tot_fam_inc_weekly',\n",
       " 'sa2_average_num_psns_per_bedroom',\n",
       " 'sa2_median_tot_hhd_inc_weekly',\n",
       " 'sa2_average_household_size']"
      ]
     },
     "execution_count": 6,
     "metadata": {},
     "output_type": "execute_result"
    }
   ],
   "source": [
    "all_data_combined.columns"
   ]
  },
  {
   "cell_type": "markdown",
   "metadata": {},
   "source": [
    "### Removing Unnecessary Columns"
   ]
  },
  {
   "cell_type": "code",
   "execution_count": 7,
   "metadata": {},
   "outputs": [],
   "source": [
    "all_df = all_data_combined.drop(all_data_combined.consumer_gender).\\\n",
    "        drop(all_data_combined.user_id)\n",
    "    "
   ]
  },
  {
   "cell_type": "code",
   "execution_count": 8,
   "metadata": {},
   "outputs": [
    {
     "data": {
      "text/plain": [
       "['consumer_postcode',\n",
       " 'merchant_abn',\n",
       " 'order_datetime',\n",
       " 'consumer_id',\n",
       " 'consumer_name',\n",
       " 'consumer_state',\n",
       " 'dollar_value',\n",
       " 'consumer_fraud_probability_%',\n",
       " 'merchant_name',\n",
       " 'merchant_description',\n",
       " 'merchant_revenue_level',\n",
       " 'merchant_take_rate_%',\n",
       " 'segment',\n",
       " 'merchant_fraud_probability_%',\n",
       " 'consumer_sa2_code',\n",
       " 'consumer_sa4_name',\n",
       " 'consumer_sa3_name',\n",
       " 'consumer_sa2_name',\n",
       " 'sa2_population',\n",
       " 'sa2_median_age',\n",
       " 'sa2_median_mortgage_repay_monthly',\n",
       " 'sa2_median_tot_prsnl_inc_weekly',\n",
       " 'sa2_median_rent_weekly',\n",
       " 'sa2_median_tot_fam_inc_weekly',\n",
       " 'sa2_average_num_psns_per_bedroom',\n",
       " 'sa2_median_tot_hhd_inc_weekly',\n",
       " 'sa2_average_household_size']"
      ]
     },
     "execution_count": 8,
     "metadata": {},
     "output_type": "execute_result"
    }
   ],
   "source": [
    "all_df.columns"
   ]
  },
  {
   "cell_type": "markdown",
   "metadata": {},
   "source": [
    "### Saving the Data\n",
    "We will save the data as grouped seperate datasets. We will also rename some columns in particular group to make them easier to interpret."
   ]
  },
  {
   "cell_type": "code",
   "execution_count": 14,
   "metadata": {},
   "outputs": [
    {
     "name": "stderr",
     "output_type": "stream",
     "text": [
      "                                                                                \r"
     ]
    }
   ],
   "source": [
    "merchant = all_df.select(all_df['merchant_abn'],\\\n",
    "                         all_df['merchant_name'],\\\n",
    "                         all_df['merchant_revenue_level'],\\\n",
    "                         all_df['merchant_take_rate_%'],\\\n",
    "                         all_df['merchant_fraud_probability_%'],\\\n",
    "                        )\n",
    "\n",
    "merchant.write.mode(\"overwrite\").parquet(\"../../../data/insights/pre_insights/merchant.parquet\")"
   ]
  },
  {
   "cell_type": "code",
   "execution_count": 15,
   "metadata": {},
   "outputs": [
    {
     "name": "stderr",
     "output_type": "stream",
     "text": [
      "                                                                                \r"
     ]
    }
   ],
   "source": [
    "consumers = all_df.select(\"merchant_abn\",\n",
    "                \"merchant_name\",\n",
    "                \"consumer_id\",\n",
    "                \"consumer_name\",\n",
    "                \"consumer_fraud_probability_%\")\n",
    "consumers.write.mode(\"overwrite\").parquet(\"../../../data/insights/pre_insights/consumers.parquet\")"
   ]
  },
  {
   "cell_type": "code",
   "execution_count": 11,
   "metadata": {},
   "outputs": [
    {
     "name": "stderr",
     "output_type": "stream",
     "text": [
      "                                                                                \r"
     ]
    }
   ],
   "source": [
    "orders = all_df.select(all_df.merchant_abn,\n",
    "                       all_df.merchant_name,\n",
    "                       all_df.consumer_id,\n",
    "                       all_df.order_datetime,\n",
    "                       all_df.dollar_value)\n",
    "\n",
    "orders.write.mode(\"overwrite\").parquet(\"../../../data/insights/pre_insights/orders.parquet\")"
   ]
  },
  {
   "cell_type": "code",
   "execution_count": 9,
   "metadata": {},
   "outputs": [
    {
     "name": "stderr",
     "output_type": "stream",
     "text": [
      "                                                                                \r"
     ]
    }
   ],
   "source": [
    "descriptions = all_df.select(all_df.merchant_abn,\n",
    "                     all_df.merchant_name,\n",
    "                     all_df.merchant_description,\n",
    "                     all_df.segment)\n",
    "\n",
    "descriptions.write.mode(\"overwrite\").parquet(\"../../../data/insights/pre_insights/descriptions.parquet\")"
   ]
  },
  {
   "cell_type": "code",
   "execution_count": 18,
   "metadata": {},
   "outputs": [
    {
     "name": "stderr",
     "output_type": "stream",
     "text": [
      "                                                                                \r"
     ]
    }
   ],
   "source": [
    "postcode = all_df.select(all_df.merchant_abn,\n",
    "                         all_df.consumer_postcode,\n",
    "                         all_df.consumer_id,\n",
    "                         all_df.merchant_name,\n",
    "                         f.col(\"sa2_population\").alias(\"estimated_population\"),\n",
    "                         f.col(\"sa2_median_age\").alias(\"median_age\"),\n",
    "                         f.col(\"sa2_median_mortgage_repay_monthly\").alias(\"median_mortgage_monthly\"),\n",
    "                         f.col(\"sa2_median_tot_prsnl_inc_weekly\").alias(\"total_weekly_personal_income\"),\n",
    "                         f.col(\"sa2_median_rent_weekly\").alias(\"median_weekly_rent\"),\n",
    "                         f.col(\"sa2_median_tot_fam_inc_weekly\").alias(\"total_weekly_fam_income\"),\n",
    "                         f.col(\"sa2_average_num_psns_per_bedroom\").alias(\"avg_num_persons_per_bedroom\"),\n",
    "                         f.col(\"sa2_median_tot_hhd_inc_weekly\").alias(\"total_hhd_income_weekly\"),\n",
    "                         f.col(\"sa2_average_household_size\").alias(\"avg_household_size\"))\n",
    "\n",
    "postcode.write.mode(\"overwrite\").parquet(\"../../../data/insights/pre_insights/postcode.parquet\")\n",
    "\n"
   ]
  },
  {
   "cell_type": "code",
   "execution_count": 19,
   "metadata": {},
   "outputs": [],
   "source": [
    "spark.stop()"
   ]
  },
  {
   "cell_type": "markdown",
   "metadata": {},
   "source": [
    "### Summary\n",
    "Split the dataset from ETL into 5 groups being:\n",
    "1. Merchant \n",
    "2. Consumers\n",
    "3. Orders\n",
    "4. Postcodes\n",
    "5. Descriptions"
   ]
  }
 ],
 "metadata": {
  "kernelspec": {
   "display_name": "Python 3",
   "language": "python",
   "name": "python3"
  },
  "language_info": {
   "codemirror_mode": {
    "name": "ipython",
    "version": 3
   },
   "file_extension": ".py",
   "mimetype": "text/x-python",
   "name": "python",
   "nbconvert_exporter": "python",
   "pygments_lexer": "ipython3",
   "version": "3.10.12"
  },
  "orig_nbformat": 4
 },
 "nbformat": 4,
 "nbformat_minor": 2
}
