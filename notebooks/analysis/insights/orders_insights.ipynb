{
 "cells": [
  {
   "cell_type": "code",
   "execution_count": 1,
   "metadata": {},
   "outputs": [],
   "source": [
    "from pyspark.sql import SparkSession, functions as f"
   ]
  },
  {
   "cell_type": "code",
   "execution_count": 2,
   "metadata": {},
   "outputs": [
    {
     "name": "stderr",
     "output_type": "stream",
     "text": [
      "your 131072x1 screen size is bogus. expect trouble\n",
      "23/09/25 15:31:34 WARN Utils: Your hostname, DESKTOP-SATV84A resolves to a loopback address: 127.0.1.1; using 172.26.254.29 instead (on interface eth0)\n",
      "23/09/25 15:31:34 WARN Utils: Set SPARK_LOCAL_IP if you need to bind to another address\n",
      "Setting default log level to \"WARN\".\n",
      "To adjust logging level use sc.setLogLevel(newLevel). For SparkR, use setLogLevel(newLevel).\n",
      "23/09/25 15:31:36 WARN NativeCodeLoader: Unable to load native-hadoop library for your platform... using builtin-java classes where applicable\n"
     ]
    }
   ],
   "source": [
    "spark = (\n",
    "    SparkSession.builder.appName(\"Preprocessing_Yellow\")\n",
    "    .config(\"spark.sql.repl.eagerEval.enabled\", True) \n",
    "    .config(\"spark.sql.parquet.cacheMetadata\", \"true\")\n",
    "    .config(\"spark.sql.session.timeZone\", \"Etc/UTC\")\n",
    "    .config(\"spark.sql.session.timeZone\", \"Etc/UTC\")\n",
    "    .config('spark.driver.memory', '3g')   \n",
    "    .config('spark.executor.memory', '4g')  \n",
    "    .config('spark.executor.instances', '2')  \n",
    "    .config('spark.executor.cores', '2')\n",
    "    .getOrCreate()\n",
    ")"
   ]
  },
  {
   "cell_type": "code",
   "execution_count": 3,
   "metadata": {},
   "outputs": [
    {
     "name": "stderr",
     "output_type": "stream",
     "text": [
      "                                                                                \r"
     ]
    }
   ],
   "source": [
    "orders = spark.read.parquet(\"../../../data/insights/pre_insights/orders.parquet/\")"
   ]
  },
  {
   "cell_type": "code",
   "execution_count": 4,
   "metadata": {},
   "outputs": [
    {
     "data": {
      "text/plain": [
       "[('merchant_abn', 'bigint'),\n",
       " ('merchant_name', 'string'),\n",
       " ('consumer_id', 'bigint'),\n",
       " ('order_datetime', 'date'),\n",
       " ('dollar_value', 'double')]"
      ]
     },
     "execution_count": 4,
     "metadata": {},
     "output_type": "execute_result"
    }
   ],
   "source": [
    "orders.dtypes"
   ]
  },
  {
   "cell_type": "code",
   "execution_count": 5,
   "metadata": {},
   "outputs": [
    {
     "name": "stdout",
     "output_type": "stream",
     "text": [
      "+------------+------------------------------------+-----------+--------------+------------+\n",
      "|merchant_abn|merchant_name                       |consumer_id|order_datetime|dollar_value|\n",
      "+------------+------------------------------------+-----------+--------------+------------+\n",
      "|92980848589 |Maecenas Industries                 |564558     |2022-08-30    |479.0       |\n",
      "|58454491168 |Diam At Foundation                  |564558     |2022-08-24    |69.57       |\n",
      "|24852446429 |Erat Vitae LLP                      |564558     |2022-04-18    |12.87       |\n",
      "|45559085309 |A Auctor Non Corporation            |564558     |2021-07-07    |48.19       |\n",
      "|58392414752 |Mattis Ornare Lectus Inc.           |564558     |2022-09-26    |2.76        |\n",
      "|81219314324 |Faucibus Leo Ltd                    |564558     |2022-10-08    |120.55      |\n",
      "|34179569263 |Sodales At LLC                      |564558     |2021-12-05    |816.97      |\n",
      "|96566672398 |Odio Tristique Pharetra Incorporated|564558     |2021-04-15    |81.52       |\n",
      "|52838486584 |Interdum PC                         |564558     |2021-04-12    |1252.13     |\n",
      "|32530636640 |Hendrerit Foundation                |564558     |2022-03-25    |10.91       |\n",
      "|20985347699 |Semper Tellus PC                    |564558     |2021-07-20    |11.48       |\n",
      "|73499119023 |Nisi Dictum Company                 |564558     |2021-03-15    |9.74        |\n",
      "|64403598239 |Lobortis Ultrices Company           |564558     |2021-06-19    |20.88       |\n",
      "|45559085309 |A Auctor Non Corporation            |564558     |2021-12-29    |5.42        |\n",
      "|43611981873 |Suscipit LLC                        |564558     |2022-03-19    |504.07      |\n",
      "|91873181182 |Sem LLC                             |564558     |2022-04-12    |74.52       |\n",
      "|97861055416 |Morbi Neque Inc.                    |564558     |2022-07-19    |97.41       |\n",
      "|83414869405 |Hendrerit Donec Corporation         |564558     |2021-03-06    |4.54        |\n",
      "|76767266140 |Phasellus At Limited                |564558     |2022-05-30    |47.75       |\n",
      "|49891706470 |Non Vestibulum Industries           |564558     |2022-10-17    |54.3        |\n",
      "+------------+------------------------------------+-----------+--------------+------------+\n",
      "only showing top 20 rows\n",
      "\n"
     ]
    }
   ],
   "source": [
    "orders.show(truncate= False)"
   ]
  },
  {
   "cell_type": "code",
   "execution_count": 6,
   "metadata": {},
   "outputs": [],
   "source": [
    "orders_aggregated = orders.groupBy(\"merchant_abn\").agg\\\n",
    "                        (f.count(\"order_datetime\").alias(\"number_of_orders\"),\n",
    "                         f.avg(\"dollar_value\").alias(\"average_cost_of_order\"))"
   ]
  },
  {
   "cell_type": "code",
   "execution_count": 7,
   "metadata": {},
   "outputs": [
    {
     "name": "stderr",
     "output_type": "stream",
     "text": [
      "[Stage 2:>                                                        (0 + 12) / 13]\r"
     ]
    },
    {
     "name": "stdout",
     "output_type": "stream",
     "text": [
      "+------------+----------------+---------------------+\n",
      "|merchant_abn|number_of_orders|average_cost_of_order|\n",
      "+------------+----------------+---------------------+\n",
      "|19839532017 |614             |157.0                |\n",
      "|83412691377 |11928           |34.97127431254191    |\n",
      "|38700038932 |5944            |1344.3426917900406   |\n",
      "|15613631617 |1483            |303.77948078219816   |\n",
      "|73256306726 |4361            |283.94453107085536   |\n",
      "|73841664453 |811             |85.53958076448828    |\n",
      "|60654402457 |158             |85.27993670886076    |\n",
      "|96946925998 |110             |1004.9574545454543   |\n",
      "|35344855546 |1274            |89.12368131868134    |\n",
      "|52763133264 |111             |116.72171171171172   |\n",
      "|12516851436 |179             |155.86396648044695   |\n",
      "|48214071373 |453             |303.36114790286973   |\n",
      "|41956465747 |244             |225.88536885245904   |\n",
      "|92202115241 |98              |330.3822448979592    |\n",
      "|34440496342 |187             |89.50550802139038    |\n",
      "|78916025936 |52              |332.97942307692307   |\n",
      "|37935728745 |13              |10533.824615384614   |\n",
      "|38986645707 |34              |1031.5729411764705   |\n",
      "|57798993346 |17              |968.0717647058822    |\n",
      "|45339304653 |956             |80.74719665271965    |\n",
      "+------------+----------------+---------------------+\n",
      "only showing top 20 rows\n",
      "\n"
     ]
    },
    {
     "name": "stderr",
     "output_type": "stream",
     "text": [
      "                                                                                \r"
     ]
    }
   ],
   "source": [
    "orders_aggregated.show(truncate=False)"
   ]
  },
  {
   "cell_type": "code",
   "execution_count": 8,
   "metadata": {},
   "outputs": [
    {
     "name": "stderr",
     "output_type": "stream",
     "text": [
      "                                                                                \r"
     ]
    }
   ],
   "source": [
    "orders_aggregated.write.mode(\"overwrite\").parquet(\"../../../data/insights/agg_insight_data/orders_agg.parquet\")"
   ]
  },
  {
   "cell_type": "code",
   "execution_count": 9,
   "metadata": {},
   "outputs": [],
   "source": [
    "spark.stop()"
   ]
  }
 ],
 "metadata": {
  "kernelspec": {
   "display_name": "Python 3",
   "language": "python",
   "name": "python3"
  },
  "language_info": {
   "codemirror_mode": {
    "name": "ipython",
    "version": 3
   },
   "file_extension": ".py",
   "mimetype": "text/x-python",
   "name": "python",
   "nbconvert_exporter": "python",
   "pygments_lexer": "ipython3",
   "version": "3.10.12"
  },
  "orig_nbformat": 4
 },
 "nbformat": 4,
 "nbformat_minor": 2
}
