{
 "cells": [
  {
   "cell_type": "code",
   "execution_count": 1,
   "metadata": {},
   "outputs": [],
   "source": [
    "from pyspark.sql import SparkSession, functions as f"
   ]
  },
  {
   "cell_type": "code",
   "execution_count": 2,
   "metadata": {},
   "outputs": [
    {
     "name": "stderr",
     "output_type": "stream",
     "text": [
      "your 131072x1 screen size is bogus. expect trouble\n",
      "23/09/14 00:08:58 WARN Utils: Your hostname, NivethanAsus resolves to a loopback address: 127.0.1.1; using 172.20.150.32 instead (on interface eth0)\n",
      "23/09/14 00:08:58 WARN Utils: Set SPARK_LOCAL_IP if you need to bind to another address\n",
      "Setting default log level to \"WARN\".\n",
      "To adjust logging level use sc.setLogLevel(newLevel). For SparkR, use setLogLevel(newLevel).\n",
      "23/09/14 00:09:00 WARN NativeCodeLoader: Unable to load native-hadoop library for your platform... using builtin-java classes where applicable\n",
      "23/09/14 00:09:01 WARN Utils: Service 'SparkUI' could not bind on port 4040. Attempting port 4041.\n"
     ]
    }
   ],
   "source": [
    "spark = (\n",
    "    SparkSession.builder.appName(\"Preprocessing_Yellow\")\n",
    "    .config(\"spark.sql.repl.eagerEval.enabled\", True) \n",
    "    .config(\"spark.sql.parquet.cacheMetadata\", \"true\")\n",
    "    .config(\"spark.sql.session.timeZone\", \"Etc/UTC\")\n",
    "    .config(\"spark.sql.session.timeZone\", \"Etc/UTC\")\n",
    "    .config('spark.driver.memory', '3g')   \n",
    "    .config('spark.executor.memory', '4g')  \n",
    "    .config('spark.executor.instances', '2')  \n",
    "    .config('spark.executor.cores', '2')\n",
    "    .getOrCreate()\n",
    ")"
   ]
  },
  {
   "cell_type": "code",
   "execution_count": 3,
   "metadata": {},
   "outputs": [
    {
     "name": "stderr",
     "output_type": "stream",
     "text": [
      "                                                                                \r"
     ]
    }
   ],
   "source": [
    "orders = spark.read.parquet(\"../../../data/insights/pre_insights/orders.parquet/\")"
   ]
  },
  {
   "cell_type": "code",
   "execution_count": 4,
   "metadata": {},
   "outputs": [
    {
     "data": {
      "text/plain": [
       "[('merchant_abn', 'bigint'),\n",
       " ('merchant_name', 'string'),\n",
       " ('consumer_id', 'bigint'),\n",
       " ('order_datetime', 'date'),\n",
       " ('dollar_value', 'double')]"
      ]
     },
     "execution_count": 4,
     "metadata": {},
     "output_type": "execute_result"
    }
   ],
   "source": [
    "orders.dtypes"
   ]
  },
  {
   "cell_type": "code",
   "execution_count": 5,
   "metadata": {},
   "outputs": [
    {
     "name": "stderr",
     "output_type": "stream",
     "text": [
      "[Stage 1:>                                                          (0 + 1) / 1]\r"
     ]
    },
    {
     "name": "stdout",
     "output_type": "stream",
     "text": [
      "+------------+--------------------------------+-----------+--------------+------------+\n",
      "|merchant_abn|merchant_name                   |consumer_id|order_datetime|dollar_value|\n",
      "+------------+--------------------------------+-----------+--------------+------------+\n",
      "|20985347699 |Semper Tellus PC                |1343547    |2021-08-21    |0.27        |\n",
      "|45629217853 |Lacus Consulting                |1343547    |2021-08-14    |8.2         |\n",
      "|71528203369 |Ipsum Primis Associates         |1343547    |2021-07-30    |10.07       |\n",
      "|75900778714 |Laoreet Posuere Foundation      |1343547    |2021-08-20    |546.68      |\n",
      "|66626020312 |In Magna Incorporated           |1343547    |2021-06-17    |57.54       |\n",
      "|17324645993 |Eget Metus In Corporation       |1343547    |2021-05-29    |6.25        |\n",
      "|13285958344 |Purus Gravida Sagittis Inc.     |1343547    |2021-05-02    |0.14        |\n",
      "|99467302626 |Ac Ipsum Foundation             |1343547    |2021-06-21    |234.76      |\n",
      "|41315101616 |Malesuada Fames Foundation      |1343547    |2021-07-28    |84.23       |\n",
      "|32361057556 |Orci In Consequat Corporation   |1343547    |2021-07-27    |20.03       |\n",
      "|26008308191 |Nulla Aliquet LLP               |1343547    |2021-04-20    |211.31      |\n",
      "|24852446429 |Erat Vitae LLP                  |1343547    |2021-07-06    |4.04        |\n",
      "|90994364089 |Rhoncus Proin Inc.              |1343547    |2021-04-09    |203.47      |\n",
      "|31585975447 |Dolor Dapibus Gravida Associates|1343547    |2021-12-02    |27.53       |\n",
      "|27326652377 |Tellus Aenean Corporation       |1343547    |2021-11-24    |2004.36     |\n",
      "|96680767841 |Ornare Limited                  |1343547    |2021-12-16    |372.67      |\n",
      "|30122382323 |Ipsum Company                   |1343547    |2021-11-22    |29.65       |\n",
      "|89726005175 |Est Nunc Consulting             |1343547    |2021-11-04    |31.64       |\n",
      "|80324045558 |Ipsum Dolor Sit Corporation     |1343547    |2021-10-16    |28.3        |\n",
      "|57900494384 |Porttitor Tellus Corporation    |1343547    |2021-09-23    |21.05       |\n",
      "+------------+--------------------------------+-----------+--------------+------------+\n",
      "only showing top 20 rows\n",
      "\n"
     ]
    },
    {
     "name": "stderr",
     "output_type": "stream",
     "text": [
      "                                                                                \r"
     ]
    }
   ],
   "source": [
    "orders.show(truncate= False)"
   ]
  },
  {
   "cell_type": "code",
   "execution_count": 6,
   "metadata": {},
   "outputs": [],
   "source": [
    "orders_aggregated = orders.groupBy(\"merchant_abn\").agg\\\n",
    "                        (f.count(\"order_datetime\").alias(\"number_of_orders\"),\n",
    "                         f.avg(\"dollar_value\").alias(\"average_cost_of_order\"))"
   ]
  },
  {
   "cell_type": "code",
   "execution_count": 7,
   "metadata": {},
   "outputs": [
    {
     "name": "stderr",
     "output_type": "stream",
     "text": [
      "[Stage 2:>                                                          (0 + 8) / 9]\r"
     ]
    },
    {
     "name": "stdout",
     "output_type": "stream",
     "text": [
      "+------------+----------------+---------------------+\n",
      "|merchant_abn|number_of_orders|average_cost_of_order|\n",
      "+------------+----------------+---------------------+\n",
      "|83412691377 |11928           |34.9712743125419     |\n",
      "|38700038932 |5944            |1344.3426917900406   |\n",
      "|73256306726 |4361            |283.94453107085525   |\n",
      "|41956465747 |244             |225.88536885245898   |\n",
      "|19839532017 |614             |157.0                |\n",
      "|35344855546 |1274            |89.1236813186813     |\n",
      "|73841664453 |811             |85.53958076448829    |\n",
      "|92202115241 |98              |330.3822448979592    |\n",
      "|34440496342 |187             |89.50550802139037    |\n",
      "|12516851436 |179             |155.86396648044695   |\n",
      "|96946925998 |110             |1004.9574545454547   |\n",
      "|15613631617 |1483            |303.77948078219816   |\n",
      "|48214071373 |453             |303.3611479028698    |\n",
      "|60654402457 |158             |85.27993670886076    |\n",
      "|38986645707 |34              |1031.5729411764707   |\n",
      "|78916025936 |52              |332.979423076923     |\n",
      "|57798993346 |17              |968.0717647058824    |\n",
      "|52763133264 |111             |116.72171171171172   |\n",
      "|37935728745 |13              |10533.824615384616   |\n",
      "|29216160692 |3728            |107.06837178111584   |\n",
      "+------------+----------------+---------------------+\n",
      "only showing top 20 rows\n",
      "\n"
     ]
    },
    {
     "name": "stderr",
     "output_type": "stream",
     "text": [
      "                                                                                \r"
     ]
    }
   ],
   "source": [
    "orders_aggregated.show(truncate=False)"
   ]
  },
  {
   "cell_type": "code",
   "execution_count": 8,
   "metadata": {},
   "outputs": [
    {
     "name": "stderr",
     "output_type": "stream",
     "text": [
      "                                                                                \r"
     ]
    }
   ],
   "source": [
    "orders_aggregated.write.mode(\"overwrite\").parquet(\"../../../data/insights/agg_insight_data/orders_agg.parquet\")"
   ]
  },
  {
   "cell_type": "code",
   "execution_count": 9,
   "metadata": {},
   "outputs": [],
   "source": [
    "spark.stop()"
   ]
  }
 ],
 "metadata": {
  "kernelspec": {
   "display_name": "Python 3",
   "language": "python",
   "name": "python3"
  },
  "language_info": {
   "codemirror_mode": {
    "name": "ipython",
    "version": 3
   },
   "file_extension": ".py",
   "mimetype": "text/x-python",
   "name": "python",
   "nbconvert_exporter": "python",
   "pygments_lexer": "ipython3",
   "version": "3.8.10"
  },
  "orig_nbformat": 4
 },
 "nbformat": 4,
 "nbformat_minor": 2
}
