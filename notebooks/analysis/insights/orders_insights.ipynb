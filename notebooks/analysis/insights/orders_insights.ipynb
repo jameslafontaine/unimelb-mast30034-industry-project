{
 "cells": [
  {
   "cell_type": "markdown",
   "metadata": {},
   "source": [
    "# Aggregating Features Regarding Orders by Merchants\n",
    "## Author: Dulan Wijeratne 1181873"
   ]
  },
  {
   "cell_type": "markdown",
   "metadata": {},
   "source": [
    "In this notebook we will aggregate the features regarding orders by Merchant, as well as creating new features related to orders."
   ]
  },
  {
   "cell_type": "markdown",
   "metadata": {},
   "source": [
    "To start we will create a Spark session and import the orders dataset that contains all the features that relate to orders."
   ]
  },
  {
   "cell_type": "code",
   "execution_count": 1,
   "metadata": {},
   "outputs": [],
   "source": [
    "from pyspark.sql import SparkSession, functions as f"
   ]
  },
  {
   "cell_type": "code",
   "execution_count": 2,
   "metadata": {},
   "outputs": [
    {
     "name": "stderr",
     "output_type": "stream",
     "text": [
      "your 131072x1 screen size is bogus. expect trouble\n",
      "23/09/29 22:15:54 WARN Utils: Your hostname, LAPTOP-RELH58H1 resolves to a loopback address: 127.0.1.1; using 172.19.22.4 instead (on interface eth0)\n",
      "23/09/29 22:15:54 WARN Utils: Set SPARK_LOCAL_IP if you need to bind to another address\n",
      "Setting default log level to \"WARN\".\n",
      "To adjust logging level use sc.setLogLevel(newLevel). For SparkR, use setLogLevel(newLevel).\n",
      "23/09/29 22:15:58 WARN NativeCodeLoader: Unable to load native-hadoop library for your platform... using builtin-java classes where applicable\n"
     ]
    }
   ],
   "source": [
    "spark = (\n",
    "    SparkSession.builder.appName(\"orders_insights\")\n",
    "    .config(\"spark.sql.repl.eagerEval.enabled\", True) \n",
    "    .config(\"spark.sql.parquet.cacheMetadata\", \"true\")\n",
    "    .config(\"spark.sql.session.timeZone\", \"Etc/UTC\")\n",
    "    .config(\"spark.sql.session.timeZone\", \"Etc/UTC\")\n",
    "    .config('spark.driver.memory', '3g')   \n",
    "    .config('spark.executor.memory', '4g')  \n",
    "    .config('spark.executor.instances', '2')  \n",
    "    .config('spark.executor.cores', '2')\n",
    "    .getOrCreate()\n",
    ")"
   ]
  },
  {
   "cell_type": "code",
   "execution_count": 3,
   "metadata": {},
   "outputs": [
    {
     "name": "stderr",
     "output_type": "stream",
     "text": [
      "                                                                                \r"
     ]
    }
   ],
   "source": [
    "orders = spark.read.parquet(\"../../../data/insights/pre_insights/orders.parquet/\")"
   ]
  },
  {
   "cell_type": "code",
   "execution_count": 4,
   "metadata": {},
   "outputs": [
    {
     "data": {
      "text/plain": [
       "['merchant_abn',\n",
       " 'merchant_name',\n",
       " 'consumer_id',\n",
       " 'order_datetime',\n",
       " 'dollar_value']"
      ]
     },
     "execution_count": 4,
     "metadata": {},
     "output_type": "execute_result"
    }
   ],
   "source": [
    "orders.columns"
   ]
  },
  {
   "cell_type": "code",
   "execution_count": 5,
   "metadata": {},
   "outputs": [
    {
     "name": "stderr",
     "output_type": "stream",
     "text": [
      "[Stage 1:>                                                          (0 + 1) / 1]\r"
     ]
    },
    {
     "name": "stdout",
     "output_type": "stream",
     "text": [
      "+------------+--------------------------------+-----------+--------------+------------+\n",
      "|merchant_abn|merchant_name                   |consumer_id|order_datetime|dollar_value|\n",
      "+------------+--------------------------------+-----------+--------------+------------+\n",
      "|20985347699 |Semper Tellus PC                |1343547    |2021-08-21    |0.27        |\n",
      "|45629217853 |Lacus Consulting                |1343547    |2021-08-14    |8.2         |\n",
      "|71528203369 |Ipsum Primis Associates         |1343547    |2021-07-30    |10.07       |\n",
      "|75900778714 |Laoreet Posuere Foundation      |1343547    |2021-08-20    |546.68      |\n",
      "|66626020312 |In Magna Incorporated           |1343547    |2021-06-17    |57.54       |\n",
      "|17324645993 |Eget Metus In Corporation       |1343547    |2021-05-29    |6.25        |\n",
      "|13285958344 |Purus Gravida Sagittis Inc.     |1343547    |2021-05-02    |0.14        |\n",
      "|99467302626 |Ac Ipsum Foundation             |1343547    |2021-06-21    |234.76      |\n",
      "|41315101616 |Malesuada Fames Foundation      |1343547    |2021-07-28    |84.23       |\n",
      "|32361057556 |Orci In Consequat Corporation   |1343547    |2021-07-27    |20.03       |\n",
      "|26008308191 |Nulla Aliquet LLP               |1343547    |2021-04-20    |211.31      |\n",
      "|24852446429 |Erat Vitae LLP                  |1343547    |2021-07-06    |4.04        |\n",
      "|90994364089 |Rhoncus Proin Inc.              |1343547    |2021-04-09    |203.47      |\n",
      "|31585975447 |Dolor Dapibus Gravida Associates|1343547    |2021-12-02    |27.53       |\n",
      "|27326652377 |Tellus Aenean Corporation       |1343547    |2021-11-24    |2004.36     |\n",
      "|96680767841 |Ornare Limited                  |1343547    |2021-12-16    |372.67      |\n",
      "|30122382323 |Ipsum Company                   |1343547    |2021-11-22    |29.65       |\n",
      "|89726005175 |Est Nunc Consulting             |1343547    |2021-11-04    |31.64       |\n",
      "|80324045558 |Ipsum Dolor Sit Corporation     |1343547    |2021-10-16    |28.3        |\n",
      "|57900494384 |Porttitor Tellus Corporation    |1343547    |2021-09-23    |21.05       |\n",
      "+------------+--------------------------------+-----------+--------------+------------+\n",
      "only showing top 20 rows\n",
      "\n"
     ]
    },
    {
     "name": "stderr",
     "output_type": "stream",
     "text": [
      "                                                                                \r"
     ]
    }
   ],
   "source": [
    "orders.show(truncate= False)"
   ]
  },
  {
   "cell_type": "code",
   "execution_count": 6,
   "metadata": {},
   "outputs": [],
   "source": [
    "orders = orders.withColumn(\"order_month\", f.month(orders.order_datetime)).withColumn(\"order_year\", f.year(orders.order_datetime))"
   ]
  },
  {
   "cell_type": "markdown",
   "metadata": {},
   "source": [
    "### Aggreagation"
   ]
  },
  {
   "cell_type": "markdown",
   "metadata": {},
   "source": [
    "Next we will aggregate the orders data by merchant abn."
   ]
  },
  {
   "cell_type": "code",
   "execution_count": 7,
   "metadata": {},
   "outputs": [],
   "source": [
    "orders_aggregated = orders.groupBy(\"merchant_abn\").agg\\\n",
    "                        (f.count(\"order_datetime\").alias(\"number_of_orders\"),\n",
    "                         f.avg(\"dollar_value\").alias(\"average_cost_of_order\"))"
   ]
  },
  {
   "cell_type": "markdown",
   "metadata": {},
   "source": [
    "### Feature Engineering"
   ]
  },
  {
   "cell_type": "markdown",
   "metadata": {},
   "source": [
    "1. Finding average difference in consumers per month"
   ]
  },
  {
   "cell_type": "code",
   "execution_count": 8,
   "metadata": {},
   "outputs": [],
   "source": [
    "orders_by_month_year = orders.groupBy(\"merchant_abn\",\"order_year\",\"order_month\").agg(f.countDistinct((orders.consumer_id)).alias(\"monthly_distinct_consumers\"))\n",
    "orders_by_month_year = orders_by_month_year.orderBy(f.col(\"order_year\").asc(),f.col(\"order_month\").asc(),f.col(\"monthly_distinct_consumers\").desc())"
   ]
  },
  {
   "cell_type": "code",
   "execution_count": 9,
   "metadata": {},
   "outputs": [],
   "source": [
    "from pyspark.sql.window import Window\n",
    "window_spec = Window.partitionBy(\"merchant_abn\").orderBy(\"order_year\",\"order_month\")\n",
    "orders_month_diff = orders_by_month_year.withColumn(\"month_diff\", f.col(\"monthly_distinct_consumers\") - f.lag(f.col(\"monthly_distinct_consumers\")).over(window_spec))\n",
    "#orders_month_diff = orders_month_diff.filter(orders_month_diff.month_diff.isNull() == False)\n",
    "orders_month_diff = orders_month_diff.groupby(\"merchant_abn\").agg(f.avg(\"month_diff\").alias(\"average_monthly_diff_consumers\"),f.sum(\"month_diff\").alias(\"consumer_diff_over_period\"))"
   ]
  },
  {
   "cell_type": "code",
   "execution_count": 10,
   "metadata": {},
   "outputs": [
    {
     "name": "stderr",
     "output_type": "stream",
     "text": [
      "                                                                                \r"
     ]
    },
    {
     "data": {
      "text/plain": [
       "4026"
      ]
     },
     "execution_count": 10,
     "metadata": {},
     "output_type": "execute_result"
    }
   ],
   "source": [
    "orders_month_diff.count()"
   ]
  },
  {
   "cell_type": "markdown",
   "metadata": {},
   "source": [
    "2. Finding rate of growth of consumer for each merchant"
   ]
  },
  {
   "cell_type": "code",
   "execution_count": 11,
   "metadata": {},
   "outputs": [],
   "source": [
    "from pyspark.sql.window import Window\n",
    "window_spec = Window.partitionBy(\"merchant_abn\").orderBy(\"order_year\",\"order_month\")\n",
    "orders_growth_rate = orders_by_month_year.withColumn(\"growth_rate\",f.col(\"monthly_distinct_consumers\") / f.lag(f.col(\"monthly_distinct_consumers\")).over(window_spec))\n",
    "#orders_growth_rate = orders_growth_rate.filter(orders_growth_rate.growth_rate.isNull() == False)\n",
    "orders_growth_rate = orders_growth_rate.withColumn(\"growth_rate\", f.col(\"growth_rate\") - 1)\n",
    "orders_growth_rate = orders_growth_rate.groupby(\"merchant_abn\").agg(f.avg(\"growth_rate\").alias(\"average_growth_consumers\"))"
   ]
  },
  {
   "cell_type": "code",
   "execution_count": 12,
   "metadata": {},
   "outputs": [
    {
     "name": "stderr",
     "output_type": "stream",
     "text": [
      "                                                                                \r"
     ]
    },
    {
     "data": {
      "text/plain": [
       "4026"
      ]
     },
     "execution_count": 12,
     "metadata": {},
     "output_type": "execute_result"
    }
   ],
   "source": [
    "orders_growth_rate.count()"
   ]
  },
  {
   "cell_type": "markdown",
   "metadata": {},
   "source": [
    "3. Finding the average dollar amount a consumer spent on a particular merchant."
   ]
  },
  {
   "cell_type": "code",
   "execution_count": 13,
   "metadata": {},
   "outputs": [],
   "source": [
    "merchant_consumer_average = orders.groupBy(\"merchant_abn\",\"consumer_id\").agg(f.sum(\"dollar_value\").alias(\"total_spend_per_consumer\"))\n",
    "merchant_consumer_average = merchant_consumer_average.groupBy(\"merchant_abn\").agg(f.avg(\"total_spend_per_consumer\").alias(\"average_spend_per_consumer\"))"
   ]
  },
  {
   "cell_type": "code",
   "execution_count": 14,
   "metadata": {},
   "outputs": [
    {
     "name": "stderr",
     "output_type": "stream",
     "text": [
      "                                                                                \r"
     ]
    },
    {
     "data": {
      "text/plain": [
       "4026"
      ]
     },
     "execution_count": 14,
     "metadata": {},
     "output_type": "execute_result"
    }
   ],
   "source": [
    "merchant_consumer_average.count()"
   ]
  },
  {
   "cell_type": "markdown",
   "metadata": {},
   "source": [
    "4. Finding Revunue"
   ]
  },
  {
   "cell_type": "code",
   "execution_count": 15,
   "metadata": {},
   "outputs": [],
   "source": [
    "merchant_revenue = orders.groupBy(\"merchant_abn\").agg(f.sum(\"dollar_value\").alias(\"merchant_revenue\"))\n",
    "merchant_revenue = merchant_revenue.select(\"*\", f.round(f.col(\"merchant_revenue\"),2).alias(\"merchant_revenue_rounded\")).drop(\"merchant_revenue\")"
   ]
  },
  {
   "cell_type": "code",
   "execution_count": 16,
   "metadata": {},
   "outputs": [
    {
     "name": "stderr",
     "output_type": "stream",
     "text": [
      "                                                                                \r"
     ]
    },
    {
     "data": {
      "text/plain": [
       "4026"
      ]
     },
     "execution_count": 16,
     "metadata": {},
     "output_type": "execute_result"
    }
   ],
   "source": [
    "merchant_revenue.count()"
   ]
  },
  {
   "cell_type": "markdown",
   "metadata": {},
   "source": [
    "5. Finding how months in between first transaction and last transaction for each merchant"
   ]
  },
  {
   "cell_type": "code",
   "execution_count": 17,
   "metadata": {},
   "outputs": [],
   "source": [
    "sorted_orders = orders.orderBy(f.col(\"merchant_abn\"),f.col(\"order_year\"),f.col(\"order_month\"))\n",
    "grouped_sorted_orders = sorted_orders.groupBy(\"merchant_abn\").\\\n",
    "                        agg(f.first(\"order_datetime\").alias(\"first_recorded_transaction\"),\\\n",
    "                            f.last(\"order_datetime\").alias(\"last_recorded_transaction\"))\n",
    "grouped_sorted_orders = grouped_sorted_orders.withColumn(\"transcation_period_months\", f.months_between(f.col(\"last_recorded_transaction\"),f.col(\"first_recorded_transaction\")))"
   ]
  },
  {
   "cell_type": "code",
   "execution_count": 18,
   "metadata": {},
   "outputs": [
    {
     "name": "stderr",
     "output_type": "stream",
     "text": [
      "                                                                                \r"
     ]
    },
    {
     "data": {
      "text/plain": [
       "4026"
      ]
     },
     "execution_count": 18,
     "metadata": {},
     "output_type": "execute_result"
    }
   ],
   "source": [
    "grouped_sorted_orders.count()"
   ]
  },
  {
   "cell_type": "markdown",
   "metadata": {},
   "source": [
    "6. Finding revenue growth rate "
   ]
  },
  {
   "cell_type": "markdown",
   "metadata": {},
   "source": [
    "### Join\n",
    "Now we will join the new features back into the aggregated dataset"
   ]
  },
  {
   "cell_type": "code",
   "execution_count": 19,
   "metadata": {},
   "outputs": [],
   "source": [
    "orders_aggregated = orders_aggregated.join(merchant_consumer_average, on = \"merchant_abn\", how = \"inner\").\\\n",
    "                    join(orders_month_diff, on = \"merchant_abn\", how = \"inner\").\\\n",
    "                    join(orders_growth_rate, on = \"merchant_abn\", how = \"inner\").\\\n",
    "                    join(merchant_revenue, on = \"merchant_abn\", how = \"inner\").\\\n",
    "                    join(grouped_sorted_orders ,on = \"merchant_abn\", how = \"inner\")"
   ]
  },
  {
   "cell_type": "code",
   "execution_count": 20,
   "metadata": {},
   "outputs": [
    {
     "name": "stderr",
     "output_type": "stream",
     "text": [
      "                                                                                \r"
     ]
    },
    {
     "name": "stdout",
     "output_type": "stream",
     "text": [
      "+------------+----------------+---------------------+--------------------------+------------------------------+-------------------------+------------------------+------------------------+--------------------------+-------------------------+-------------------------+\n",
      "|merchant_abn|number_of_orders|average_cost_of_order|average_spend_per_consumer|average_monthly_diff_consumers|consumer_diff_over_period|average_growth_consumers|merchant_revenue_rounded|first_recorded_transaction|last_recorded_transaction|transcation_period_months|\n",
      "+------------+----------------+---------------------+--------------------------+------------------------------+-------------------------+------------------------+------------------------+--------------------------+-------------------------+-------------------------+\n",
      "| 19839532017|             614|                157.0|        159.86401326699834|                           1.0|                       20|      0.5481852724993155|                 96398.0|                2021-02-28|               2022-10-21|              19.77419355|\n",
      "| 83412691377|           11928|     34.9712743125419|          46.4001512791991|                          29.4|                      588|      1.6845767064210837|               417137.36|                2021-02-28|               2022-10-03|              19.19354839|\n",
      "| 15613631617|            1483|   303.77948078219816|        315.70074982480725|                          3.65|                       73|      1.8213978016950807|               450504.97|                2021-02-28|               2022-10-06|              19.29032258|\n",
      "| 38700038932|            5944|   1344.3426917900406|          1550.40220411331|                          13.3|                      266|       0.640920433393046|              7990772.96|                2021-02-28|               2022-10-16|              19.61290323|\n",
      "| 73256306726|            4361|   283.94453107085525|         317.5896640164145|                           9.1|                      182|       1.587356615536765|               1238282.1|                2021-02-28|               2022-10-15|              19.58064516|\n",
      "| 35344855546|            1274|     89.1236813186813|         91.78946645109139|                           3.1|                       62|       1.281007897467257|               113543.57|                2021-02-28|               2022-10-05|              19.25806452|\n",
      "| 73841664453|             811|    85.53958076448829|         87.59166666666665|            0.3157894736842105|                        6|     0.05503008062738842|                 69372.6|                2021-03-22|               2022-10-03|              18.38709677|\n",
      "| 48214071373|             453|    303.3611479028698|         306.0636971046771|            0.9473684210526315|                       18|     0.12422381611410645|                137422.6|                2021-03-06|               2022-10-04|              18.93548387|\n",
      "| 12516851436|             179|   155.86396648044695|        155.86396648044695|          -0.10526315789473684|                       -2|     0.12312030075187966|                27899.65|                2021-03-21|               2022-10-09|              18.61290323|\n",
      "| 38986645707|              34|   1031.5729411764707|        1031.5729411764707|           0.07692307692307693|                        1|       0.408974358974359|                35073.48|                2021-05-28|               2022-10-03|              16.19354839|\n",
      "| 96946925998|             110|   1004.9574545454547|        1004.9574545454547|                           0.0|                        0|     0.30692640692640694|               110545.32|                2021-03-28|               2022-10-19|              18.70967742|\n",
      "| 41956465747|             244|   225.88536885245898|        226.81493827160494|           0.15789473684210525|                        3|      0.1032223065891797|                55116.03|                2021-03-02|               2022-10-04|              19.06451613|\n",
      "| 52763133264|             111|   116.72171171171172|         116.7217117117117|          -0.10526315789473684|                       -2|      0.5236424394319132|                12956.11|                2021-03-02|               2022-10-10|              19.25806452|\n",
      "| 92202115241|              98|    330.3822448979592|        330.38224489795925|                           0.0|                        0|     0.11666666666666665|                32377.46|                2021-03-12|               2022-10-19|              19.22580645|\n",
      "| 57798993346|              17|    968.0717647058824|         968.0717647058826|                           0.0|                        0|      0.4083333333333333|                16457.22|                2021-04-22|               2022-10-10|              17.61290323|\n",
      "| 34440496342|             187|    89.50550802139037|         89.50550802139037|          -0.21052631578947367|                       -4|     0.17312688149212505|                16737.53|                2021-03-28|               2022-10-24|              18.87096774|\n",
      "| 60654402457|             158|    85.27993670886076|         85.82312101910827|           0.21052631578947367|                        4|     0.14107807397281083|                13474.23|                2021-03-14|               2022-10-20|              19.19354839|\n",
      "| 78916025936|              52|     332.979423076923|          339.508431372549|                           0.0|                        0|     0.40277777777777785|                17314.93|                2021-04-11|               2022-09-10|              16.96774194|\n",
      "| 37935728745|              13|   10533.824615384616|        10533.824615384616|                           0.0|                        0|     0.09259259259259259|               136939.72|                2021-05-12|               2022-10-18|              17.19354839|\n",
      "| 29216160692|            3728|   107.06837178111584|        118.16189757252815|                          10.1|                      202|      1.0663359396134502|               399150.89|                2021-02-28|               2022-10-08|              19.35483871|\n",
      "+------------+----------------+---------------------+--------------------------+------------------------------+-------------------------+------------------------+------------------------+--------------------------+-------------------------+-------------------------+\n",
      "only showing top 20 rows\n",
      "\n"
     ]
    }
   ],
   "source": [
    "orders_aggregated.show()"
   ]
  },
  {
   "cell_type": "markdown",
   "metadata": {},
   "source": [
    "### Save the dataset"
   ]
  },
  {
   "cell_type": "code",
   "execution_count": 21,
   "metadata": {},
   "outputs": [
    {
     "name": "stderr",
     "output_type": "stream",
     "text": [
      "                                                                                \r"
     ]
    }
   ],
   "source": [
    "orders_aggregated.write.mode(\"overwrite\").parquet(\"../../../data/insights/agg_insight_data/orders_agg.parquet\")"
   ]
  },
  {
   "cell_type": "code",
   "execution_count": 22,
   "metadata": {},
   "outputs": [],
   "source": [
    "spark.stop()"
   ]
  }
 ],
 "metadata": {
  "kernelspec": {
   "display_name": "Python 3",
   "language": "python",
   "name": "python3"
  },
  "language_info": {
   "codemirror_mode": {
    "name": "ipython",
    "version": 3
   },
   "file_extension": ".py",
   "mimetype": "text/x-python",
   "name": "python",
   "nbconvert_exporter": "python",
   "pygments_lexer": "ipython3",
   "version": "3.9.5"
  },
  "orig_nbformat": 4
 },
 "nbformat": 4,
 "nbformat_minor": 2
}
