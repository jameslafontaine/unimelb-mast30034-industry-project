{
 "cells": [
  {
   "cell_type": "markdown",
   "metadata": {},
   "source": [
    "# Aggregating Features Regarding Orders by Merchants\n",
    "## Author: Dulan Wijeratne 1181873"
   ]
  },
  {
   "cell_type": "markdown",
   "metadata": {},
   "source": [
    "In this notebook we will aggregate the features regarding orders by Merchant, as well as creating new features related to orders."
   ]
  },
  {
   "cell_type": "markdown",
   "metadata": {},
   "source": [
    "To start we will create a Spark session and import the orders dataset that contains all the features that relate to orders."
   ]
  },
  {
   "cell_type": "code",
   "execution_count": 1,
   "metadata": {},
   "outputs": [],
   "source": [
    "from pyspark.sql import SparkSession, functions as f"
   ]
  },
  {
   "cell_type": "code",
   "execution_count": 2,
   "metadata": {},
   "outputs": [
    {
     "name": "stderr",
     "output_type": "stream",
     "text": [
      "your 131072x1 screen size is bogus. expect trouble\n",
      "23/09/25 17:53:29 WARN Utils: Your hostname, DulanComputer resolves to a loopback address: 127.0.1.1; using 172.30.15.25 instead (on interface eth0)\n",
      "23/09/25 17:53:29 WARN Utils: Set SPARK_LOCAL_IP if you need to bind to another address\n",
      "Setting default log level to \"WARN\".\n",
      "To adjust logging level use sc.setLogLevel(newLevel). For SparkR, use setLogLevel(newLevel).\n",
      "23/09/25 17:53:32 WARN NativeCodeLoader: Unable to load native-hadoop library for your platform... using builtin-java classes where applicable\n"
     ]
    }
   ],
   "source": [
    "spark = (\n",
    "    SparkSession.builder.appName(\"Preprocessing_Yellow\")\n",
    "    .config(\"spark.sql.repl.eagerEval.enabled\", True) \n",
    "    .config(\"spark.sql.parquet.cacheMetadata\", \"true\")\n",
    "    .config(\"spark.sql.session.timeZone\", \"Etc/UTC\")\n",
    "    .config(\"spark.sql.session.timeZone\", \"Etc/UTC\")\n",
    "    .config('spark.driver.memory', '3g')   \n",
    "    .config('spark.executor.memory', '4g')  \n",
    "    .config('spark.executor.instances', '2')  \n",
    "    .config('spark.executor.cores', '2')\n",
    "    .getOrCreate()\n",
    ")"
   ]
  },
  {
   "cell_type": "code",
   "execution_count": 18,
   "metadata": {},
   "outputs": [],
   "source": [
    "orders = spark.read.parquet(\"../../../data/insights/pre_insights/orders.parquet/\")"
   ]
  },
  {
   "cell_type": "code",
   "execution_count": null,
   "metadata": {},
   "outputs": [],
   "source": [
    "orders.columns"
   ]
  },
  {
   "cell_type": "code",
   "execution_count": null,
   "metadata": {},
   "outputs": [],
   "source": [
    "orders.show(truncate= False)"
   ]
  },
  {
   "cell_type": "markdown",
   "metadata": {},
   "source": [
    "### Aggreagation"
   ]
  },
  {
   "cell_type": "markdown",
   "metadata": {},
   "source": [
    "Next we will aggregate the orders data by merchant abn."
   ]
  },
  {
   "cell_type": "code",
   "execution_count": 12,
   "metadata": {},
   "outputs": [],
   "source": [
    "orders_aggregated = orders.groupBy(\"merchant_abn\").agg\\\n",
    "                        (f.count(\"order_datetime\").alias(\"number_of_orders\"),\n",
    "                         f.avg(\"dollar_value\").alias(\"average_cost_of_order\"))"
   ]
  },
  {
   "cell_type": "markdown",
   "metadata": {},
   "source": [
    "### Feature Engineering"
   ]
  },
  {
   "cell_type": "markdown",
   "metadata": {},
   "source": [
    "1. Finding average difference in consumers per month"
   ]
  },
  {
   "cell_type": "code",
   "execution_count": 19,
   "metadata": {},
   "outputs": [],
   "source": [
    "orders = orders.withColumn(\"order_month\", f.month(orders.order_datetime)).withColumn(\"order_year\", f.year(orders.order_datetime))"
   ]
  },
  {
   "cell_type": "code",
   "execution_count": 20,
   "metadata": {},
   "outputs": [],
   "source": [
    "orders_by_month_year = orders.groupBy(\"merchant_abn\",\"order_year\",\"order_month\").agg(f.countDistinct((orders.consumer_id)).alias(\"monthly_distinct_consumers\"))"
   ]
  },
  {
   "cell_type": "code",
   "execution_count": 21,
   "metadata": {},
   "outputs": [],
   "source": [
    "orders_by_month_year = orders_by_month_year.orderBy(f.col(\"order_year\").asc(),f.col(\"order_month\").asc(),f.col(\"monthly_distinct_consumers\").desc())"
   ]
  },
  {
   "cell_type": "code",
   "execution_count": 7,
   "metadata": {},
   "outputs": [],
   "source": [
    "from pyspark.sql.window import Window\n",
    "window_spec = Window.partitionBy(\"merchant_abn\").orderBy(\"order_year\",\"order_month\")\n",
    "orders_month_diff = orders_by_month_year.withColumn(\"month_diff\", f.col(\"monthly_distinct_consumers\") - f.lag(f.col(\"monthly_distinct_consumers\")).over(window_spec))\n",
    "orders_month_diff = orders_month_diff.filter(orders_month_diff.month_diff.isNull() == False)\n",
    "orders_month_diff = orders_month_diff.groupby(\"merchant_abn\").agg(f.avg(\"month_diff\").alias(\"average_monthly_diff_consumers\"),f.sum(\"month_diff\").alias(\"consumer_diff_over_period\"))"
   ]
  },
  {
   "cell_type": "code",
   "execution_count": 13,
   "metadata": {},
   "outputs": [
    {
     "name": "stderr",
     "output_type": "stream",
     "text": [
      "                                                                                \r"
     ]
    },
    {
     "name": "stdout",
     "output_type": "stream",
     "text": [
      "+------------+------------------------------+\n",
      "|merchant_abn|average_monthly_diff_consumers|\n",
      "+------------+------------------------------+\n",
      "| 31686734877|           -0.5789473684210527|\n",
      "| 26259500279|           -0.5263157894736842|\n",
      "| 84391677958|           -0.5263157894736842|\n",
      "| 55555661470|                          -0.5|\n",
      "| 54277261175|                          -0.5|\n",
      "| 84787662573|                          -0.5|\n",
      "| 27657048362|          -0.47368421052631576|\n",
      "| 38672941140|          -0.47368421052631576|\n",
      "| 91178385997|          -0.47368421052631576|\n",
      "| 33846458525|          -0.42105263157894735|\n",
      "| 37442271968|          -0.42105263157894735|\n",
      "| 48890662808|          -0.42105263157894735|\n",
      "| 69073210783|          -0.42105263157894735|\n",
      "| 70713877189|          -0.42105263157894735|\n",
      "| 77421432003|          -0.42105263157894735|\n",
      "| 96230979998|           -0.3888888888888889|\n",
      "| 37358528402|                        -0.375|\n",
      "| 25607153542|           -0.3684210526315789|\n",
      "| 58459771721|           -0.3684210526315789|\n",
      "| 86850237223|           -0.3684210526315789|\n",
      "+------------+------------------------------+\n",
      "only showing top 20 rows\n",
      "\n"
     ]
    }
   ],
   "source": [
    "orders_month_diff.orderBy(f.col(\"average_monthly_diff_consumers\").asc()).show()"
   ]
  },
  {
   "cell_type": "markdown",
   "metadata": {},
   "source": [
    "2. Finding Rate of growth"
   ]
  },
  {
   "cell_type": "code",
   "execution_count": 32,
   "metadata": {},
   "outputs": [],
   "source": [
    "from pyspark.sql.window import Window\n",
    "window_spec = Window.partitionBy(\"merchant_abn\").orderBy(\"order_year\",\"order_month\")\n",
    "orders_growth_rate = orders_by_month_year.withColumn(\"growth_rate\",f.col(\"monthly_distinct_consumers\") / f.lag(f.col(\"monthly_distinct_consumers\")).over(window_spec))\n",
    "orders_growth_rate = orders_growth_rate.filter(orders_growth_rate.growth_rate.isNull() == False)\n",
    "orders_growth_rate = orders_growth_rate.withColumn(\"growth_rate\", f.col(\"growth_rate\") - 1)"
   ]
  },
  {
   "cell_type": "code",
   "execution_count": 33,
   "metadata": {},
   "outputs": [
    {
     "name": "stderr",
     "output_type": "stream",
     "text": [
      "                                                                                \r"
     ]
    },
    {
     "name": "stdout",
     "output_type": "stream",
     "text": [
      "+------------+----------+-----------+--------------------------+--------------------+\n",
      "|merchant_abn|order_year|order_month|monthly_distinct_consumers|         growth_rate|\n",
      "+------------+----------+-----------+--------------------------+--------------------+\n",
      "| 10023283211|      2021|          2|                         3|                null|\n",
      "| 10023283211|      2021|          3|                        97|  31.333333333333336|\n",
      "| 10023283211|      2021|          4|                       111| 0.14432989690721643|\n",
      "| 10023283211|      2021|          5|                       122|  0.0990990990990992|\n",
      "| 10023283211|      2021|          6|                       117|-0.04098360655737...|\n",
      "| 10023283211|      2021|          7|                       130| 0.11111111111111116|\n",
      "| 10023283211|      2021|          8|                       119|-0.08461538461538465|\n",
      "| 10023283211|      2021|          9|                       150| 0.26050420168067223|\n",
      "| 10023283211|      2021|         10|                       138|-0.07999999999999996|\n",
      "| 10023283211|      2021|         11|                       171| 0.23913043478260865|\n",
      "| 10023283211|      2021|         12|                       171|                 0.0|\n",
      "| 10023283211|      2022|          1|                        99|-0.42105263157894735|\n",
      "| 10023283211|      2022|          2|                       109|   0.101010101010101|\n",
      "| 10023283211|      2022|          3|                       124| 0.13761467889908263|\n",
      "| 10023283211|      2022|          4|                       137| 0.10483870967741926|\n",
      "| 10023283211|      2022|          5|                       139|0.014598540145985384|\n",
      "| 10023283211|      2022|          6|                       132|-0.05035971223021585|\n",
      "| 10023283211|      2022|          7|                       161| 0.21969696969696972|\n",
      "| 10023283211|      2022|          8|                       140|-0.13043478260869568|\n",
      "| 10023283211|      2022|          9|                       164| 0.17142857142857149|\n",
      "+------------+----------+-----------+--------------------------+--------------------+\n",
      "only showing top 20 rows\n",
      "\n"
     ]
    }
   ],
   "source": [
    "orders_growth_rate.show()"
   ]
  },
  {
   "cell_type": "markdown",
   "metadata": {},
   "source": [
    "3. Finding the average dollar amount a consumer spent on a particular merchant."
   ]
  },
  {
   "cell_type": "code",
   "execution_count": 14,
   "metadata": {},
   "outputs": [],
   "source": [
    "merchant_consumer_average = orders.groupBy(\"merchant_abn\",\"consumer_id\").agg(f.sum(\"dollar_value\").alias(\"total_spend_per_consumer\"))\n",
    "merchant_consumer_average = merchant_consumer_average.groupBy(\"merchant_abn\").agg(f.avg(\"total_spend_per_consumer\").alias(\"average_spend_per_consumer\"))"
   ]
  },
  {
   "cell_type": "code",
   "execution_count": null,
   "metadata": {},
   "outputs": [],
   "source": [
    "merchant_consumer_average.show()"
   ]
  },
  {
   "cell_type": "markdown",
   "metadata": {},
   "source": [
    "### Join\n",
    "Now we will join the new features back into the aggregated dataset"
   ]
  },
  {
   "cell_type": "code",
   "execution_count": 15,
   "metadata": {},
   "outputs": [],
   "source": [
    "orders_aggregated = orders_aggregated.join(merchant_consumer_average, on = \"merchant_abn\", how = \"inner\").\\\n",
    "                    join(orders_by_month_year, on = \"merchant_abn\", how = \"inner\").\\\n",
    "                    join(orders_growth_rate, on = \"merchant_abn\", how = \"inner\")"
   ]
  },
  {
   "cell_type": "code",
   "execution_count": 16,
   "metadata": {},
   "outputs": [
    {
     "name": "stderr",
     "output_type": "stream",
     "text": [
      "                                                                                \r"
     ]
    },
    {
     "name": "stdout",
     "output_type": "stream",
     "text": [
      "+------------+----------------+---------------------+--------------------------+------------------------------+\n",
      "|merchant_abn|number_of_orders|average_cost_of_order|average_spend_per_consumer|average_monthly_diff_consumers|\n",
      "+------------+----------------+---------------------+--------------------------+------------------------------+\n",
      "|19839532017 |614             |157.0                |159.86401326699834        |1.0                           |\n",
      "|83412691377 |11928           |34.97122412593614    |46.4000846912309          |29.4                          |\n",
      "|15613631617 |1483            |303.77953163770877   |315.700802676049          |3.65                          |\n",
      "|38700038932 |5944            |1344.3426950083588   |1550.4022078249302        |13.3                          |\n",
      "|73256306726 |4361            |283.94461992895316   |317.58976340347914        |9.1                           |\n",
      "|35344855546 |1274            |89.12365168735937    |91.78943593346469         |3.1                           |\n",
      "|73841664453 |811             |85.53962526911792    |87.59171223895788         |0.3157894736842105            |\n",
      "|48214071373 |453             |303.361171131816     |306.0637205405626         |0.9473684210526315            |\n",
      "|12516851436 |179             |155.86384791171375   |155.86384791171375        |-0.10526315789473684          |\n",
      "|38986645707 |34              |1031.5731096909876   |1031.5731096909874        |0.07692307692307693           |\n",
      "|96946925998 |110             |1004.957884565682    |1004.9578845656821        |0.0                           |\n",
      "|41956465747 |244             |225.8857076428165    |226.81527845616137        |0.15789473684210525           |\n",
      "|52763133264 |111             |116.72171057856686   |116.72171057856686        |-0.10526315789473684          |\n",
      "|92202115241 |98              |330.3814728403069    |330.38147284030697        |0.0                           |\n",
      "|57798993346 |17              |968.0714002697251    |968.0714002697254         |0.0                           |\n",
      "|34440496342 |187             |89.50534437869506    |89.50534437869504         |-0.21052631578947367          |\n",
      "|60654402457 |158             |85.28023242852163    |85.82341862233385         |0.21052631578947367           |\n",
      "|78916025936 |52              |332.978991066986     |339.50799089182885        |0.0                           |\n",
      "|37935728745 |13              |10533.823996552705   |10533.823996552705        |0.0                           |\n",
      "|29216160692 |3728            |107.06835589215552   |118.16188003728709        |10.1                          |\n",
      "+------------+----------------+---------------------+--------------------------+------------------------------+\n",
      "only showing top 20 rows\n",
      "\n"
     ]
    }
   ],
   "source": [
    "orders_aggregated.show(truncate=False)"
   ]
  },
  {
   "cell_type": "markdown",
   "metadata": {},
   "source": [
    "### Save the dataset"
   ]
  },
  {
   "cell_type": "code",
   "execution_count": 17,
   "metadata": {},
   "outputs": [
    {
     "name": "stderr",
     "output_type": "stream",
     "text": [
      "                                                                                \r"
     ]
    }
   ],
   "source": [
    "orders_aggregated.write.mode(\"overwrite\").parquet(\"../../../data/insights/agg_insight_data/orders_agg.parquet\")"
   ]
  },
  {
   "cell_type": "code",
   "execution_count": null,
   "metadata": {},
   "outputs": [],
   "source": [
    "spark.stop()"
   ]
  }
 ],
 "metadata": {
  "kernelspec": {
   "display_name": "Python 3",
   "language": "python",
   "name": "python3"
  },
  "language_info": {
   "codemirror_mode": {
    "name": "ipython",
    "version": 3
   },
   "file_extension": ".py",
   "mimetype": "text/x-python",
   "name": "python",
   "nbconvert_exporter": "python",
   "pygments_lexer": "ipython3",
   "version": "3.10.12"
  },
  "orig_nbformat": 4
 },
 "nbformat": 4,
 "nbformat_minor": 2
}
