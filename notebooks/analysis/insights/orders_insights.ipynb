{
 "cells": [
  {
   "cell_type": "code",
   "execution_count": 1,
   "metadata": {},
   "outputs": [],
   "source": [
    "from pyspark.sql import SparkSession, functions as f"
   ]
  },
  {
   "cell_type": "code",
   "execution_count": 2,
   "metadata": {},
   "outputs": [
    {
     "name": "stderr",
     "output_type": "stream",
     "text": [
      "your 131072x1 screen size is bogus. expect trouble\n",
      "23/09/08 18:48:11 WARN Utils: Your hostname, DulanComputer resolves to a loopback address: 127.0.1.1; using 172.30.15.25 instead (on interface eth0)\n",
      "23/09/08 18:48:11 WARN Utils: Set SPARK_LOCAL_IP if you need to bind to another address\n",
      "Setting default log level to \"WARN\".\n",
      "To adjust logging level use sc.setLogLevel(newLevel). For SparkR, use setLogLevel(newLevel).\n",
      "23/09/08 18:48:13 WARN NativeCodeLoader: Unable to load native-hadoop library for your platform... using builtin-java classes where applicable\n",
      "23/09/08 18:48:14 WARN Utils: Service 'SparkUI' could not bind on port 4040. Attempting port 4041.\n"
     ]
    }
   ],
   "source": [
    "spark = (\n",
    "    SparkSession.builder.appName(\"Preprocessing_Yellow\")\n",
    "    .config(\"spark.sql.repl.eagerEval.enabled\", True) \n",
    "    .config(\"spark.sql.parquet.cacheMetadata\", \"true\")\n",
    "    .config(\"spark.sql.session.timeZone\", \"Etc/UTC\")\n",
    "    .config(\"spark.sql.session.timeZone\", \"Etc/UTC\")\n",
    "    .config('spark.driver.memory', '3g')   \n",
    "    .config('spark.executor.memory', '4g')  \n",
    "    .config('spark.executor.instances', '2')  \n",
    "    .config('spark.executor.cores', '2')\n",
    "    .getOrCreate()\n",
    ")"
   ]
  },
  {
   "cell_type": "code",
   "execution_count": 3,
   "metadata": {},
   "outputs": [
    {
     "name": "stderr",
     "output_type": "stream",
     "text": [
      "                                                                                \r"
     ]
    }
   ],
   "source": [
    "orders = spark.read.parquet(\"../../data/insights/pre_insights/orders.parquet/\")"
   ]
  },
  {
   "cell_type": "code",
   "execution_count": 4,
   "metadata": {},
   "outputs": [
    {
     "data": {
      "text/plain": [
       "[('merchant_abn', 'bigint'),\n",
       " ('merchant_name', 'string'),\n",
       " ('consumer_id', 'bigint'),\n",
       " ('order_datetime', 'date'),\n",
       " ('dollar_value', 'double')]"
      ]
     },
     "execution_count": 4,
     "metadata": {},
     "output_type": "execute_result"
    }
   ],
   "source": [
    "orders.dtypes"
   ]
  },
  {
   "cell_type": "code",
   "execution_count": 5,
   "metadata": {},
   "outputs": [
    {
     "name": "stdout",
     "output_type": "stream",
     "text": [
      "+------------+------------------------------+-----------+--------------+------------------+\n",
      "|merchant_abn|merchant_name                 |consumer_id|order_datetime|dollar_value      |\n",
      "+------------+------------------------------+-----------+--------------+------------------+\n",
      "|32361057556 |Orci In Consequat Corporation |1058499    |2021-05-20    |97.59893835228833 |\n",
      "|32361057556 |Orci In Consequat Corporation |1058499    |2021-05-20    |97.59893835228833 |\n",
      "|43186523025 |Lorem Ipsum Sodales Industries|1058499    |2021-07-15    |54.12123684966841 |\n",
      "|43186523025 |Lorem Ipsum Sodales Industries|1058499    |2021-07-15    |54.12123684966841 |\n",
      "|50315283629 |Iaculis Aliquet Diam LLC      |1058499    |2021-05-06    |209.03399492699737|\n",
      "|50315283629 |Iaculis Aliquet Diam LLC      |1058499    |2021-05-06    |209.03399492699737|\n",
      "|87630626808 |Eget Industries               |1058499    |2021-05-06    |38.08559535222015 |\n",
      "|87630626808 |Eget Industries               |1058499    |2021-05-06    |38.08559535222015 |\n",
      "|80324045558 |Ipsum Dolor Sit Corporation   |1058499    |2021-06-01    |36.37887636830205 |\n",
      "|80324045558 |Ipsum Dolor Sit Corporation   |1058499    |2021-06-01    |36.37887636830205 |\n",
      "|61619924340 |In Mi Institute               |1058499    |2021-04-14    |335.64069994288593|\n",
      "|61619924340 |In Mi Institute               |1058499    |2021-04-14    |335.64069994288593|\n",
      "|21359184622 |Sit Amet PC                   |1058499    |2021-03-11    |94.03221497989011 |\n",
      "|21359184622 |Sit Amet PC                   |1058499    |2021-03-11    |94.03221497989011 |\n",
      "|75034515922 |Ac Eleifend Corp.             |1058499    |2021-03-06    |3.755919567388635 |\n",
      "|75034515922 |Ac Eleifend Corp.             |1058499    |2021-03-06    |3.755919567388635 |\n",
      "|94729574738 |Scelerisque Corporation       |1058499    |2021-12-15    |101.50481357621058|\n",
      "|94729574738 |Scelerisque Corporation       |1058499    |2021-12-15    |101.50481357621058|\n",
      "|40555823280 |Nibh Donec Incorporated       |1058499    |2021-11-27    |71.59946906957994 |\n",
      "|40555823280 |Nibh Donec Incorporated       |1058499    |2021-11-27    |71.59946906957994 |\n",
      "+------------+------------------------------+-----------+--------------+------------------+\n",
      "only showing top 20 rows\n",
      "\n"
     ]
    },
    {
     "name": "stderr",
     "output_type": "stream",
     "text": [
      "                                                                                \r"
     ]
    }
   ],
   "source": [
    "orders.show(truncate= False)"
   ]
  },
  {
   "cell_type": "code",
   "execution_count": 6,
   "metadata": {},
   "outputs": [],
   "source": [
    "orders_aggregated = orders.groupBy(\"merchant_abn\").agg\\\n",
    "                        (f.count(\"order_datetime\").alias(\"number_of_orders\"),\n",
    "                         f.avg(\"dollar_value\").alias(\"average_cost_of_order\"))"
   ]
  },
  {
   "cell_type": "code",
   "execution_count": 7,
   "metadata": {},
   "outputs": [
    {
     "name": "stderr",
     "output_type": "stream",
     "text": [
      "[Stage 2:====================================================>      (8 + 1) / 9]\r"
     ]
    },
    {
     "name": "stdout",
     "output_type": "stream",
     "text": [
      "+------------+----------------+---------------------+\n",
      "|merchant_abn|number_of_orders|average_cost_of_order|\n",
      "+------------+----------------+---------------------+\n",
      "|83412691377 |21889           |34.71684053809685    |\n",
      "|19839532017 |1140            |157.0                |\n",
      "|38700038932 |11253           |1339.5719373318022   |\n",
      "|15613631617 |2743            |301.09223404688345   |\n",
      "|73256306726 |8031            |285.62311107912535   |\n",
      "|73841664453 |1557            |84.58861376785562    |\n",
      "|60654402457 |287             |85.95947863687985    |\n",
      "|96946925998 |173             |1008.0150573862218   |\n",
      "|35344855546 |2269            |86.80869363397993    |\n",
      "|34440496342 |346             |90.72410719716241    |\n",
      "|52763133264 |211             |117.29243205045037   |\n",
      "|12516851436 |331             |156.69603561548612   |\n",
      "|78916025936 |86              |327.7552181457143    |\n",
      "|48214071373 |844             |295.2395055486349    |\n",
      "|38986645707 |63              |1073.9954774430323   |\n",
      "|41956465747 |447             |227.15005145173637   |\n",
      "|92202115241 |160             |318.5818146648488    |\n",
      "|57798993346 |33              |705.9778483245192    |\n",
      "|37935728745 |20              |13712.182684198346   |\n",
      "|45339304653 |1719            |81.46651736361969    |\n",
      "+------------+----------------+---------------------+\n",
      "only showing top 20 rows\n",
      "\n"
     ]
    },
    {
     "name": "stderr",
     "output_type": "stream",
     "text": [
      "                                                                                \r"
     ]
    }
   ],
   "source": [
    "orders_aggregated.show(truncate=False)"
   ]
  },
  {
   "cell_type": "code",
   "execution_count": 8,
   "metadata": {},
   "outputs": [
    {
     "name": "stderr",
     "output_type": "stream",
     "text": [
      "                                                                                \r"
     ]
    }
   ],
   "source": [
    "orders_aggregated.write.mode(\"overwrite\").parquet(\"../../data/insights/agg_insight_data/orders_agg.parquet\")"
   ]
  },
  {
   "cell_type": "code",
   "execution_count": 9,
   "metadata": {},
   "outputs": [],
   "source": [
    "spark.stop()"
   ]
  }
 ],
 "metadata": {
  "kernelspec": {
   "display_name": "Python 3",
   "language": "python",
   "name": "python3"
  },
  "language_info": {
   "codemirror_mode": {
    "name": "ipython",
    "version": 3
   },
   "file_extension": ".py",
   "mimetype": "text/x-python",
   "name": "python",
   "nbconvert_exporter": "python",
   "pygments_lexer": "ipython3",
   "version": "3.10.12"
  },
  "orig_nbformat": 4
 },
 "nbformat": 4,
 "nbformat_minor": 2
}
