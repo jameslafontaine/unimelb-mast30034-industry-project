{
 "cells": [
  {
   "cell_type": "markdown",
   "metadata": {},
   "source": [
    "# Aggregating Features Regarding Orders by Merchants\n",
    "## Author: Dulan Wijeratne 1181873"
   ]
  },
  {
   "cell_type": "markdown",
   "metadata": {},
   "source": [
    "In this notebook we will aggregate the features regarding orders by Merchant, as well as creating new features related to orders."
   ]
  },
  {
   "cell_type": "markdown",
   "metadata": {},
   "source": [
    "To start we will create a Spark session and import the orders dataset that contains all the features that relate to orders."
   ]
  },
  {
   "cell_type": "code",
   "execution_count": 1,
   "metadata": {},
   "outputs": [],
   "source": [
    "from pyspark.sql import SparkSession, functions as f"
   ]
  },
  {
   "cell_type": "code",
   "execution_count": 2,
   "metadata": {},
   "outputs": [
    {
     "name": "stderr",
     "output_type": "stream",
     "text": [
      "your 131072x1 screen size is bogus. expect trouble\n",
      "23/09/27 15:42:51 WARN Utils: Your hostname, DulanComputer resolves to a loopback address: 127.0.1.1; using 172.30.15.25 instead (on interface eth0)\n",
      "23/09/27 15:42:51 WARN Utils: Set SPARK_LOCAL_IP if you need to bind to another address\n",
      "Setting default log level to \"WARN\".\n",
      "To adjust logging level use sc.setLogLevel(newLevel). For SparkR, use setLogLevel(newLevel).\n",
      "23/09/27 15:42:53 WARN NativeCodeLoader: Unable to load native-hadoop library for your platform... using builtin-java classes where applicable\n",
      "23/09/27 15:42:54 WARN Utils: Service 'SparkUI' could not bind on port 4040. Attempting port 4041.\n"
     ]
    }
   ],
   "source": [
    "spark = (\n",
    "    SparkSession.builder.appName(\"orders_insights\")\n",
    "    .config(\"spark.sql.repl.eagerEval.enabled\", True) \n",
    "    .config(\"spark.sql.parquet.cacheMetadata\", \"true\")\n",
    "    .config(\"spark.sql.session.timeZone\", \"Etc/UTC\")\n",
    "    .config(\"spark.sql.session.timeZone\", \"Etc/UTC\")\n",
    "    .config('spark.driver.memory', '3g')   \n",
    "    .config('spark.executor.memory', '4g')  \n",
    "    .config('spark.executor.instances', '2')  \n",
    "    .config('spark.executor.cores', '2')\n",
    "    .getOrCreate()\n",
    ")"
   ]
  },
  {
   "cell_type": "code",
   "execution_count": 3,
   "metadata": {},
   "outputs": [
    {
     "name": "stderr",
     "output_type": "stream",
     "text": [
      "                                                                                \r"
     ]
    }
   ],
   "source": [
    "orders = spark.read.parquet(\"../../../data/insights/pre_insights/orders.parquet/\")"
   ]
  },
  {
   "cell_type": "code",
   "execution_count": 4,
   "metadata": {},
   "outputs": [
    {
     "data": {
      "text/plain": [
       "['merchant_abn',\n",
       " 'merchant_name',\n",
       " 'consumer_id',\n",
       " 'order_datetime',\n",
       " 'dollar_value']"
      ]
     },
     "execution_count": 4,
     "metadata": {},
     "output_type": "execute_result"
    }
   ],
   "source": [
    "orders.columns"
   ]
  },
  {
   "cell_type": "code",
   "execution_count": 5,
   "metadata": {},
   "outputs": [
    {
     "name": "stderr",
     "output_type": "stream",
     "text": [
      "[Stage 1:>                                                          (0 + 1) / 1]\r"
     ]
    },
    {
     "name": "stdout",
     "output_type": "stream",
     "text": [
      "+------------+-------------------------------------+-----------+--------------+------------------+\n",
      "|merchant_abn|merchant_name                        |consumer_id|order_datetime|dollar_value      |\n",
      "+------------+-------------------------------------+-----------+--------------+------------------+\n",
      "|16570599421 |Non Magna Nam PC                     |1343547    |2021-08-16    |12.142216147150515|\n",
      "|63290521567 |Vehicula Pellentesque Corporation    |1343547    |2021-05-21    |4.845198213342123 |\n",
      "|13514558491 |Magna Praesent PC                    |1343547    |2021-06-20    |128.238067391034  |\n",
      "|22227727512 |Malesuada Integer Id Foundation      |1343547    |2021-07-24    |223.82738875061688|\n",
      "|79827781481 |Amet Risus Inc.                      |1343547    |2021-08-17    |1430.2642751352505|\n",
      "|35556933338 |Semper Cursus Integer Limited        |1343547    |2021-06-23    |36.771899091579016|\n",
      "|64203420245 |Pede Nonummy Corp.                   |1343547    |2021-06-12    |13.270749560868401|\n",
      "|47086412084 |Eros Limited                         |1343547    |2021-04-24    |10.3360147064953  |\n",
      "|91923722701 |Euismod Urna Institute               |1343547    |2021-06-02    |1.426598604675866 |\n",
      "|75034515922 |Ac Eleifend Corp.                    |1343547    |2021-04-25    |57.101534974962085|\n",
      "|36196225600 |Leo Elementum Sem Associates         |1343547    |2021-04-09    |46.865593549442956|\n",
      "|75104340635 |Nisl Elementum Ltd                   |1343547    |2021-03-27    |139.89184866969265|\n",
      "|96513857365 |Tellus Aenean Consulting             |1343547    |2021-04-01    |132.98353987537092|\n",
      "|62694031334 |Vel Est Tempor LLP                   |1343547    |2021-03-08    |27.575919343603054|\n",
      "|25732256442 |Malesuada Vel Associates             |1343547    |2021-04-04    |165.24939156950052|\n",
      "|62773208456 |Ac Institute                         |1343547    |2021-11-28    |7.894780139142366 |\n",
      "|40555823280 |Nibh Donec Incorporated              |1343547    |2021-11-22    |19.508315713719217|\n",
      "|10206519221 |Fusce Company                        |1343547    |2021-10-29    |84.899946780896   |\n",
      "|92990617267 |Malesuada Malesuada Integer Inc.     |1343547    |2021-10-30    |85.0072229780032  |\n",
      "|89107518982 |Adipiscing Lobortis Risus Corporation|1343547    |2021-10-14    |49.15819786021852 |\n",
      "+------------+-------------------------------------+-----------+--------------+------------------+\n",
      "only showing top 20 rows\n",
      "\n"
     ]
    },
    {
     "name": "stderr",
     "output_type": "stream",
     "text": [
      "                                                                                \r"
     ]
    }
   ],
   "source": [
    "orders.show(truncate= False)"
   ]
  },
  {
   "cell_type": "code",
   "execution_count": 7,
   "metadata": {},
   "outputs": [],
   "source": [
    "orders = orders.withColumn(\"order_month\", f.month(orders.order_datetime)).withColumn(\"order_year\", f.year(orders.order_datetime))"
   ]
  },
  {
   "cell_type": "markdown",
   "metadata": {},
   "source": [
    "### Aggreagation"
   ]
  },
  {
   "cell_type": "markdown",
   "metadata": {},
   "source": [
    "Next we will aggregate the orders data by merchant abn."
   ]
  },
  {
   "cell_type": "code",
   "execution_count": 7,
   "metadata": {},
   "outputs": [],
   "source": [
    "orders_aggregated = orders.groupBy(\"merchant_abn\").agg\\\n",
    "                        (f.count(\"order_datetime\").alias(\"number_of_orders\"),\n",
    "                         f.avg(\"dollar_value\").alias(\"average_cost_of_order\"))"
   ]
  },
  {
   "cell_type": "markdown",
   "metadata": {},
   "source": [
    "### Feature Engineering"
   ]
  },
  {
   "cell_type": "markdown",
   "metadata": {},
   "source": [
    "1. Finding average difference in consumers per month"
   ]
  },
  {
   "cell_type": "code",
   "execution_count": 8,
   "metadata": {},
   "outputs": [],
   "source": [
    "orders_by_month_year = orders.groupBy(\"merchant_abn\",\"order_year\",\"order_month\").agg(f.countDistinct((orders.consumer_id)).alias(\"monthly_distinct_consumers\"))\n",
    "orders_by_month_year = orders_by_month_year.orderBy(f.col(\"order_year\").asc(),f.col(\"order_month\").asc(),f.col(\"monthly_distinct_consumers\").desc())"
   ]
  },
  {
   "cell_type": "code",
   "execution_count": 9,
   "metadata": {},
   "outputs": [],
   "source": [
    "from pyspark.sql.window import Window\n",
    "window_spec = Window.partitionBy(\"merchant_abn\").orderBy(\"order_year\",\"order_month\")\n",
    "orders_month_diff = orders_by_month_year.withColumn(\"month_diff\", f.col(\"monthly_distinct_consumers\") - f.lag(f.col(\"monthly_distinct_consumers\")).over(window_spec))\n",
    "#orders_month_diff = orders_month_diff.filter(orders_month_diff.month_diff.isNull() == False)\n",
    "orders_month_diff = orders_month_diff.groupby(\"merchant_abn\").agg(f.avg(\"month_diff\").alias(\"average_monthly_diff_consumers\"),f.sum(\"month_diff\").alias(\"consumer_diff_over_period\"))"
   ]
  },
  {
   "cell_type": "code",
   "execution_count": 10,
   "metadata": {},
   "outputs": [],
   "source": [
    "orders_month_diff.count()"
   ]
  },
  {
   "cell_type": "markdown",
   "metadata": {},
   "source": [
    "2. Finding rate of growth of consumer for each merchant"
   ]
  },
  {
   "cell_type": "code",
   "execution_count": 11,
   "metadata": {},
   "outputs": [],
   "source": [
    "from pyspark.sql.window import Window\n",
    "window_spec = Window.partitionBy(\"merchant_abn\").orderBy(\"order_year\",\"order_month\")\n",
    "orders_growth_rate = orders_by_month_year.withColumn(\"growth_rate\",f.col(\"monthly_distinct_consumers\") / f.lag(f.col(\"monthly_distinct_consumers\")).over(window_spec))\n",
    "#orders_growth_rate = orders_growth_rate.filter(orders_growth_rate.growth_rate.isNull() == False)\n",
    "orders_growth_rate = orders_growth_rate.withColumn(\"growth_rate\", f.col(\"growth_rate\") - 1)\n",
    "orders_growth_rate = orders_growth_rate.groupby(\"merchant_abn\").agg(f.avg(\"growth_rate\").alias(\"average_growth_consumers\"))"
   ]
  },
  {
   "cell_type": "code",
   "execution_count": 12,
   "metadata": {},
   "outputs": [],
   "source": [
    "orders_growth_rate.count()"
   ]
  },
  {
   "cell_type": "markdown",
   "metadata": {},
   "source": [
    "3. Finding the average dollar amount a consumer spent on a particular merchant."
   ]
  },
  {
   "cell_type": "code",
   "execution_count": 13,
   "metadata": {},
   "outputs": [],
   "source": [
    "merchant_consumer_average = orders.groupBy(\"merchant_abn\",\"consumer_id\").agg(f.sum(\"dollar_value\").alias(\"total_spend_per_consumer\"))\n",
    "merchant_consumer_average = merchant_consumer_average.groupBy(\"merchant_abn\").agg(f.avg(\"total_spend_per_consumer\").alias(\"average_spend_per_consumer\"))"
   ]
  },
  {
   "cell_type": "code",
   "execution_count": 14,
   "metadata": {},
   "outputs": [],
   "source": [
    "merchant_consumer_average.count()"
   ]
  },
  {
   "cell_type": "markdown",
   "metadata": {},
   "source": [
    "4. Finding Revunue"
   ]
  },
  {
   "cell_type": "code",
   "execution_count": 15,
   "metadata": {},
   "outputs": [],
   "source": [
    "merchant_revenue = orders.groupBy(\"merchant_abn\").agg(f.sum(\"dollar_value\").alias(\"merchant_revenue\"))\n",
    "merchant_revenue = merchant_revenue.select(\"*\", f.round(f.col(\"merchant_revenue\"),2).alias(\"merchant_revenue_rounded\")).drop(\"merchant_revenue\")"
   ]
  },
  {
   "cell_type": "code",
   "execution_count": 16,
   "metadata": {},
   "outputs": [],
   "source": [
    "merchant_revenue.count()"
   ]
  },
  {
   "cell_type": "markdown",
   "metadata": {},
   "source": [
    "5. Finding how months in between first transaction and last transaction for each merchant"
   ]
  },
  {
   "cell_type": "code",
   "execution_count": 17,
   "metadata": {},
   "outputs": [],
   "source": [
    "sorted_orders = orders.orderBy(f.col(\"merchant_abn\"),f.col(\"order_year\"),f.col(\"order_month\"))\n",
    "grouped_sorted_orders = sorted_orders.groupBy(\"merchant_abn\").\\\n",
    "                        agg(f.first(\"order_datetime\").alias(\"first_recorded_transaction\"),\\\n",
    "                            f.last(\"order_datetime\").alias(\"last_recorded_transaction\"))\n",
    "grouped_sorted_orders = grouped_sorted_orders.withColumn(\"transcation_period_months\", f.months_between(f.col(\"last_recorded_transaction\"),f.col(\"first_recorded_transaction\")))"
   ]
  },
  {
   "cell_type": "code",
   "execution_count": 18,
   "metadata": {},
   "outputs": [],
   "source": [
    "grouped_sorted_orders.count()"
   ]
  },
  {
   "cell_type": "markdown",
   "metadata": {},
   "source": [
    "6. Finding revenue growth rate "
   ]
  },
  {
   "cell_type": "markdown",
   "metadata": {},
   "source": [
    "### Join\n",
    "Now we will join the new features back into the aggregated dataset"
   ]
  },
  {
   "cell_type": "code",
   "execution_count": 19,
   "metadata": {},
   "outputs": [],
   "source": [
    "orders_aggregated = orders_aggregated.join(merchant_consumer_average, on = \"merchant_abn\", how = \"inner\").\\\n",
    "                    join(orders_month_diff, on = \"merchant_abn\", how = \"inner\").\\\n",
    "                    join(orders_growth_rate, on = \"merchant_abn\", how = \"inner\").\\\n",
    "                    join(merchant_revenue, on = \"merchant_abn\", how = \"inner\").\\\n",
    "                    join(grouped_sorted_orders ,on = \"merchant_abn\", how = \"inner\")"
   ]
  },
  {
   "cell_type": "code",
   "execution_count": 20,
   "metadata": {},
   "outputs": [
    {
     "name": "stderr",
     "output_type": "stream",
     "text": [
      "                                                                                \r"
     ]
    },
    {
     "name": "stdout",
     "output_type": "stream",
     "text": [
      "+------------+----------------+---------------------+--------------------------+------------------------------+-------------------------+-------------------+------------------------+--------------------------+-------------------------+-------------------------+\n",
      "|merchant_abn|number_of_orders|average_cost_of_order|average_spend_per_consumer|average_monthly_diff_consumers|consumer_diff_over_period|     average_growth|merchant_revenue_rounded|first_recorded_transaction|last_recorded_transaction|transcation_period_months|\n",
      "+------------+----------------+---------------------+--------------------------+------------------------------+-------------------------+-------------------+------------------------+--------------------------+-------------------------+-------------------------+\n",
      "| 19839532017|             614|                157.0|        159.86401326699834|                           1.0|                       20| 0.5481852724993155|                 96398.0|                2021-02-28|               2022-10-21|              19.77419355|\n",
      "| 83412691377|           11928|    34.97122412593614|          46.4000846912309|                          29.4|                      588| 1.6845767064210837|               417136.76|                2021-02-28|               2022-10-03|              19.19354839|\n",
      "| 15613631617|            1483|   303.77953163770877|          315.700802676049|                          3.65|                       73| 1.8213978016950807|               450505.05|                2021-02-28|               2022-10-06|              19.29032258|\n",
      "| 38700038932|            5944|   1344.3426950083588|        1550.4022078249302|                          13.3|                      266|  0.640920433393046|              7990772.98|                2021-02-28|               2022-10-16|              19.61290323|\n",
      "| 73256306726|            4361|   283.94461992895316|        317.58976340347914|                           9.1|                      182|  1.587356615536765|              1238282.49|                2021-02-28|               2022-10-15|              19.58064516|\n",
      "| 35344855546|            1274|    89.12365168735937|         91.78943593346469|                           3.1|                       62|  1.281007897467257|               113543.53|                2021-02-28|               2022-10-23|              19.83870968|\n",
      "| 73841664453|             811|    85.53962526911792|         87.59171223895788|            0.3157894736842105|                        6|0.05503008062738842|                69372.64|                2021-03-22|               2022-10-10|              18.61290323|\n",
      "| 48214071373|             453|     303.361171131816|         306.0637205405626|            0.9473684210526315|                       18|0.12422381611410645|               137422.61|                2021-03-06|               2022-10-04|              18.93548387|\n",
      "| 12516851436|             179|   155.86384791171375|        155.86384791171375|          -0.10526315789473684|                       -2|0.12312030075187966|                27899.63|                2021-03-21|               2022-10-06|              18.51612903|\n",
      "| 38986645707|              34|   1031.5731096909876|        1031.5731096909874|           0.07692307692307693|                        1|  0.408974358974359|                35073.49|                2021-05-28|               2022-10-03|              16.19354839|\n",
      "| 96946925998|             110|    1004.957884565682|        1004.9578845656821|                           0.0|                        0|0.30692640692640694|               110545.37|                2021-03-28|               2022-10-15|              18.58064516|\n",
      "| 41956465747|             244|    225.8857076428165|        226.81527845616137|           0.15789473684210525|                        3| 0.1032223065891797|                55116.11|                2021-03-02|               2022-10-04|              19.06451613|\n",
      "| 52763133264|             111|   116.72171057856686|        116.72171057856686|          -0.10526315789473684|                       -2| 0.5236424394319132|                12956.11|                2021-03-02|               2022-10-10|              19.25806452|\n",
      "| 92202115241|              98|    330.3814728403069|        330.38147284030697|                           0.0|                        0|0.11666666666666665|                32377.38|                2021-03-12|               2022-10-19|              19.22580645|\n",
      "| 57798993346|              17|    968.0714002697251|         968.0714002697254|                           0.0|                        0| 0.4083333333333333|                16457.21|                2021-04-22|               2022-10-10|              17.61290323|\n",
      "| 34440496342|             187|    89.50534437869506|         89.50534437869504|          -0.21052631578947367|                       -4|0.17312688149212505|                 16737.5|                2021-03-28|               2022-10-08|              18.35483871|\n",
      "| 60654402457|             158|    85.28023242852163|         85.82341862233385|           0.21052631578947367|                        4|0.14107807397281083|                13474.28|                2021-03-14|               2022-10-17|              19.09677419|\n",
      "| 78916025936|              52|     332.978991066986|        339.50799089182885|                           0.0|                        0|0.40277777777777785|                17314.91|                2021-04-13|               2022-09-10|              16.90322581|\n",
      "| 37935728745|              13|   10533.823996552705|        10533.823996552705|                           0.0|                        0|0.09259259259259259|               136939.71|                2021-05-12|               2022-10-18|              17.19354839|\n",
      "| 29216160692|            3728|   107.06835589215552|        118.16188003728709|                          10.1|                      202| 1.0663359396134502|               399150.83|                2021-02-28|               2022-10-08|              19.35483871|\n",
      "+------------+----------------+---------------------+--------------------------+------------------------------+-------------------------+-------------------+------------------------+--------------------------+-------------------------+-------------------------+\n",
      "only showing top 20 rows\n",
      "\n"
     ]
    }
   ],
   "source": [
    "orders_aggregated.show()"
   ]
  },
  {
   "cell_type": "markdown",
   "metadata": {},
   "source": [
    "### Save the dataset"
   ]
  },
  {
   "cell_type": "code",
   "execution_count": 21,
   "metadata": {},
   "outputs": [
    {
     "name": "stderr",
     "output_type": "stream",
     "text": [
      "                                                                                \r"
     ]
    }
   ],
   "source": [
    "orders_aggregated.write.mode(\"overwrite\").parquet(\"../../../data/insights/agg_insight_data/orders_agg.parquet\")"
   ]
  },
  {
   "cell_type": "code",
   "execution_count": 23,
   "metadata": {},
   "outputs": [],
   "source": [
    "spark.stop()"
   ]
  }
 ],
 "metadata": {
  "kernelspec": {
   "display_name": "Python 3",
   "language": "python",
   "name": "python3"
  },
  "language_info": {
   "codemirror_mode": {
    "name": "ipython",
    "version": 3
   },
   "file_extension": ".py",
   "mimetype": "text/x-python",
   "name": "python",
   "nbconvert_exporter": "python",
   "pygments_lexer": "ipython3",
   "version": "3.8.10"
  },
  "orig_nbformat": 4
 },
 "nbformat": 4,
 "nbformat_minor": 2
}
