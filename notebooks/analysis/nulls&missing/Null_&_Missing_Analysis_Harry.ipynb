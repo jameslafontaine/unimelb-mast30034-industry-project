{
 "cells": [
  {
   "cell_type": "markdown",
   "metadata": {},
   "source": [
    "# Null & Missing Analysis\n",
    "\n",
    "This notebook conducts analysis of null and missing values in the data, then checks again after joining."
   ]
  },
  {
   "cell_type": "code",
   "execution_count": 4,
   "metadata": {},
   "outputs": [],
   "source": [
    "from pyspark.sql import SparkSession, functions as F\n",
    "from pyspark.sql.functions import col, isnan, when, count\n",
    "from pyspark.sql.types import DateType\n",
    "from pyspark.sql import DataFrame"
   ]
  },
  {
   "cell_type": "code",
   "execution_count": 5,
   "metadata": {},
   "outputs": [],
   "source": [
    "# Create a spark session (which will run spark jobs)\n",
    "spark = (\n",
    "    SparkSession.builder.appName(\"null analysis\")\n",
    "    .config(\"spark.sql.repl.eagerEval.enabled\", True)\n",
    "    .config(\"spark.sql.parquet.cacheMetadata\", \"true\")\n",
    "    .config(\"spark.sql.session.timeZone\", \"Etc/UTC\")\n",
    "    .config('spark.driver.memory', '4g')\n",
    "    .config('spark.executor.memory', '2g')\n",
    "    .getOrCreate()\n",
    ")"
   ]
  },
  {
   "cell_type": "markdown",
   "metadata": {},
   "source": [
    "Functions to check null or missing values and size of dataframe"
   ]
  },
  {
   "cell_type": "code",
   "execution_count": 6,
   "metadata": {},
   "outputs": [],
   "source": [
    "def count_null_values(df):\n",
    "    \"\"\"\n",
    "    This function counts the number of null, None, or NaN values for all columns in a Spark DataFrame.\n",
    "    \"\"\"\n",
    "    # Use a list comprehension to count null, None, or NaN values for each column\n",
    "    count_expr = [count(when(col(c).isNull(), c)).alias(c) for c in df.columns]\n",
    "\n",
    "    # Apply the count expression and show the result\n",
    "    result = df.select(count_expr)\n",
    "    result.show()"
   ]
  },
  {
   "cell_type": "code",
   "execution_count": 7,
   "metadata": {},
   "outputs": [],
   "source": [
    "def count_missing_data(df):\n",
    "    \"\"\"\n",
    "    This function counts the number of missing data entries (empty strings) for all columns in a Spark DataFrame.\n",
    "    \"\"\"\n",
    "    # Use a list comprehension to count missing data entries for each column\n",
    "    count_expr = [F.count(when(col(c) == '', c)).alias(c) for c in df.columns]\n",
    "\n",
    "    # Apply the count expression and show the result\n",
    "    result = df.select(count_expr)\n",
    "    result.show()\n"
   ]
  },
  {
   "cell_type": "code",
   "execution_count": 8,
   "metadata": {},
   "outputs": [],
   "source": [
    "def count_rows_and_print(df: DataFrame) -> int:\n",
    "    \"\"\"\n",
    "    Count the number of rows in a Spark DataFrame and print the result.\n",
    "    Input:\n",
    "        A Spark DataFrame for which you want to count the rows.\n",
    "    Output:\n",
    "        The number of rows in the DataFrame.\n",
    "    \"\"\"\n",
    "    row_count = df.count()\n",
    "    print(f\"Number of rows in the DataFrame: {row_count}\")\n",
    "    return row_count\n"
   ]
  },
  {
   "cell_type": "markdown",
   "metadata": {},
   "source": [
    "# Census Data\n",
    "\n",
    "- sa2_census.parquet\n",
    "- sa2_pops.parquet\n",
    "- sa2_to_postcode.parquet"
   ]
  },
  {
   "cell_type": "code",
   "execution_count": 9,
   "metadata": {},
   "outputs": [],
   "source": [
    "# Load in census data\n",
    "census_file_path = '../../../data/nulls&missing_analysis/sa2/sa2_census.parquet'\n",
    "pop_file_path = '../../../data/nulls&missing_analysis/sa2/sa2_pops.parquet'\n",
    "post_file_path = '../../../data/nulls&missing_analysis/sa2/sa2_to_postcode.parquet'\n",
    "\n",
    "sa2_census = spark.read.parquet(census_file_path)\n",
    "sa2_pops = spark.read.parquet(pop_file_path)\n",
    "sa2_post =  spark.read.parquet(post_file_path)"
   ]
  },
  {
   "cell_type": "markdown",
   "metadata": {},
   "source": [
    "Checking size of dataframes."
   ]
  },
  {
   "cell_type": "code",
   "execution_count": 10,
   "metadata": {},
   "outputs": [
    {
     "name": "stdout",
     "output_type": "stream",
     "text": [
      "sa2_census:\n",
      "Number of rows in the DataFrame: 2472\n",
      "sa2_pops:\n",
      "Number of rows in the DataFrame: 2454\n",
      "sa2_post:\n",
      "Number of rows in the DataFrame: 35040\n"
     ]
    },
    {
     "data": {
      "text/plain": [
       "35040"
      ]
     },
     "execution_count": 10,
     "metadata": {},
     "output_type": "execute_result"
    }
   ],
   "source": [
    "print(\"sa2_census:\")\n",
    "count_rows_and_print(sa2_census)\n",
    "\n",
    "print(\"sa2_pops:\")\n",
    "count_rows_and_print(sa2_pops)\n",
    "\n",
    "print(\"sa2_post:\")\n",
    "count_rows_and_print(sa2_post)"
   ]
  },
  {
   "cell_type": "markdown",
   "metadata": {},
   "source": [
    "Checking for null values in sa2 data"
   ]
  },
  {
   "cell_type": "code",
   "execution_count": 11,
   "metadata": {},
   "outputs": [
    {
     "name": "stdout",
     "output_type": "stream",
     "text": [
      "Checking sa2_census:\n",
      "+--------+--------------+---------------------------------+-------------------------------+----------------------+-----------------------------+--------------------------------+-----------------------------+--------------------------+\n",
      "|sa2_code|sa2_median_age|sa2_median_mortgage_repay_monthly|sa2_median_tot_prsnl_inc_weekly|sa2_median_rent_weekly|sa2_median_tot_fam_inc_weekly|sa2_average_num_psns_per_bedroom|sa2_median_tot_hhd_inc_weekly|sa2_average_household_size|\n",
      "+--------+--------------+---------------------------------+-------------------------------+----------------------+-----------------------------+--------------------------------+-----------------------------+--------------------------+\n",
      "|       0|             0|                                0|                              0|                     0|                            0|                               0|                            0|                         0|\n",
      "+--------+--------------+---------------------------------+-------------------------------+----------------------+-----------------------------+--------------------------------+-----------------------------+--------------------------+\n",
      "\n",
      "Checking sa2_pops:\n",
      "+--------+--------+--------+--------+---------------+\n",
      "|sa4_name|sa3_name|sa2_code|sa2_name|population_2021|\n",
      "+--------+--------+--------+--------+---------------+\n",
      "|       0|       0|       0|       0|              0|\n",
      "+--------+--------+--------+--------+---------------+\n",
      "\n",
      "Checking sa2_post:\n",
      "+--------+--------+\n",
      "|postcode|sa2_code|\n",
      "+--------+--------+\n",
      "|     363|       0|\n",
      "+--------+--------+\n",
      "\n"
     ]
    }
   ],
   "source": [
    "print(\"Checking sa2_census:\")\n",
    "count_null_values(sa2_census)\n",
    "\n",
    "print(\"Checking sa2_pops:\")\n",
    "count_null_values(sa2_pops)\n",
    "\n",
    "print(\"Checking sa2_post:\")\n",
    "count_null_values(sa2_post)"
   ]
  },
  {
   "cell_type": "markdown",
   "metadata": {},
   "source": [
    "Checking for missing entries in sa2 data"
   ]
  },
  {
   "cell_type": "code",
   "execution_count": 12,
   "metadata": {},
   "outputs": [
    {
     "name": "stdout",
     "output_type": "stream",
     "text": [
      "Checking sa2_census:\n",
      "+--------+--------------+---------------------------------+-------------------------------+----------------------+-----------------------------+--------------------------------+-----------------------------+--------------------------+\n",
      "|sa2_code|sa2_median_age|sa2_median_mortgage_repay_monthly|sa2_median_tot_prsnl_inc_weekly|sa2_median_rent_weekly|sa2_median_tot_fam_inc_weekly|sa2_average_num_psns_per_bedroom|sa2_median_tot_hhd_inc_weekly|sa2_average_household_size|\n",
      "+--------+--------------+---------------------------------+-------------------------------+----------------------+-----------------------------+--------------------------------+-----------------------------+--------------------------+\n",
      "|       0|             0|                                0|                              0|                     0|                            0|                               0|                            0|                         0|\n",
      "+--------+--------------+---------------------------------+-------------------------------+----------------------+-----------------------------+--------------------------------+-----------------------------+--------------------------+\n",
      "\n",
      "Checking sa2_pops:\n",
      "+--------+--------+--------+--------+---------------+\n",
      "|sa4_name|sa3_name|sa2_code|sa2_name|population_2021|\n",
      "+--------+--------+--------+--------+---------------+\n",
      "|       0|       0|       0|       0|              0|\n",
      "+--------+--------+--------+--------+---------------+\n",
      "\n",
      "Checking sa2_post:\n",
      "+--------+--------+\n",
      "|postcode|sa2_code|\n",
      "+--------+--------+\n",
      "|       0|       0|\n",
      "+--------+--------+\n",
      "\n"
     ]
    }
   ],
   "source": [
    "print(\"Checking sa2_census:\")\n",
    "count_missing_data(sa2_census)\n",
    "\n",
    "print(\"Checking sa2_pops:\")\n",
    "count_missing_data(sa2_pops)\n",
    "\n",
    "print(\"Checking sa2_post:\")\n",
    "count_missing_data(sa2_post)"
   ]
  },
  {
   "cell_type": "markdown",
   "metadata": {},
   "source": [
    "There are 363 null postcodes in the sa2_to_postcode dataframe out of the 35,040 rows. There are no missing data entries in any of the initial sa2 datasets."
   ]
  },
  {
   "cell_type": "markdown",
   "metadata": {},
   "source": [
    "# Consumer Data\n",
    "- consumer_fraud_probability.parquet\n",
    "- consumer_tbl.parquet\n",
    "- consumer_user_details.parquet"
   ]
  },
  {
   "cell_type": "code",
   "execution_count": 13,
   "metadata": {},
   "outputs": [],
   "source": [
    "# Load in consumer data\n",
    "fp_file_path = '../../../data/nulls&missing_analysis/consumer/consumer_fraud_probability.parquet'\n",
    "cons_file_path = '../../../data/nulls&missing_analysis/consumer/consumer_tbl.parquet'\n",
    "user_det_file_path = '../../../data/nulls&missing_analysis/consumer/consumer_user_details.parquet'\n",
    "\n",
    "cons_fp = spark.read.parquet(fp_file_path)\n",
    "cons_tbl = spark.read.parquet(cons_file_path)\n",
    "cons_user_det =  spark.read.parquet(user_det_file_path)"
   ]
  },
  {
   "cell_type": "markdown",
   "metadata": {},
   "source": [
    "Checking size of dataframes."
   ]
  },
  {
   "cell_type": "code",
   "execution_count": 14,
   "metadata": {},
   "outputs": [
    {
     "name": "stdout",
     "output_type": "stream",
     "text": [
      "cons_fp:\n",
      "Number of rows in the DataFrame: 34864\n",
      "cons_tbl:\n",
      "Number of rows in the DataFrame: 499999\n",
      "cons_user_det:\n",
      "Number of rows in the DataFrame: 499999\n"
     ]
    },
    {
     "data": {
      "text/plain": [
       "499999"
      ]
     },
     "execution_count": 14,
     "metadata": {},
     "output_type": "execute_result"
    }
   ],
   "source": [
    "print(\"cons_fp:\")\n",
    "count_rows_and_print(cons_fp)\n",
    "\n",
    "print(\"cons_tbl:\")\n",
    "count_rows_and_print(cons_tbl)\n",
    "\n",
    "print(\"cons_user_det:\")\n",
    "count_rows_and_print(cons_user_det)"
   ]
  },
  {
   "cell_type": "markdown",
   "metadata": {},
   "source": [
    "Checking for null values in the consumer data."
   ]
  },
  {
   "cell_type": "code",
   "execution_count": 15,
   "metadata": {},
   "outputs": [
    {
     "name": "stdout",
     "output_type": "stream",
     "text": [
      "Checking cons_tbl:\n"
     ]
    },
    {
     "name": "stdout",
     "output_type": "stream",
     "text": [
      "+-------------+--------------+-----------------+---------------+-----------+\n",
      "|consumer_name|consumer_state|consumer_postcode|consumer_gender|consumer_id|\n",
      "+-------------+--------------+-----------------+---------------+-----------+\n",
      "|            0|             0|                0|              0|          0|\n",
      "+-------------+--------------+-----------------+---------------+-----------+\n",
      "\n",
      "Checking cons_user_det:\n",
      "+-------+-----------+\n",
      "|user_id|consumer_id|\n",
      "+-------+-----------+\n",
      "|      0|          0|\n",
      "+-------+-----------+\n",
      "\n",
      "Checking cons_fp:\n",
      "+-------+--------------+----------------------------+\n",
      "|user_id|order_datetime|consumer_fraud_probability_%|\n",
      "+-------+--------------+----------------------------+\n",
      "|      0|             0|                           0|\n",
      "+-------+--------------+----------------------------+\n",
      "\n"
     ]
    }
   ],
   "source": [
    "print(\"Checking cons_tbl:\")\n",
    "count_null_values(cons_tbl)\n",
    "\n",
    "print(\"Checking cons_user_det:\")\n",
    "count_null_values(cons_user_det)\n",
    "\n",
    "print(\"Checking cons_fp:\")\n",
    "count_null_values(cons_fp)"
   ]
  },
  {
   "cell_type": "markdown",
   "metadata": {},
   "source": [
    "Checking for missing data entries in the consumer data."
   ]
  },
  {
   "cell_type": "code",
   "execution_count": 16,
   "metadata": {},
   "outputs": [
    {
     "name": "stdout",
     "output_type": "stream",
     "text": [
      "Checking cons_tbl:\n"
     ]
    },
    {
     "name": "stdout",
     "output_type": "stream",
     "text": [
      "+-------------+--------------+-----------------+---------------+-----------+\n",
      "|consumer_name|consumer_state|consumer_postcode|consumer_gender|consumer_id|\n",
      "+-------------+--------------+-----------------+---------------+-----------+\n",
      "|            0|             0|                0|              0|          0|\n",
      "+-------------+--------------+-----------------+---------------+-----------+\n",
      "\n",
      "Checking cons_user_det:\n",
      "+-------+-----------+\n",
      "|user_id|consumer_id|\n",
      "+-------+-----------+\n",
      "|      0|          0|\n",
      "+-------+-----------+\n",
      "\n",
      "Checking cons_fp:\n",
      "+-------+--------------+----------------------------+\n",
      "|user_id|order_datetime|consumer_fraud_probability_%|\n",
      "+-------+--------------+----------------------------+\n",
      "|      0|             0|                           0|\n",
      "+-------+--------------+----------------------------+\n",
      "\n"
     ]
    }
   ],
   "source": [
    "print(\"Checking cons_tbl:\")\n",
    "count_missing_data(cons_tbl)\n",
    "\n",
    "print(\"Checking cons_user_det:\")\n",
    "count_missing_data(cons_user_det)\n",
    "\n",
    "print(\"Checking cons_fp:\")\n",
    "count_missing_data(cons_fp)"
   ]
  },
  {
   "cell_type": "markdown",
   "metadata": {},
   "source": [
    "There are no null values or missing entries in the consumer dataframes."
   ]
  },
  {
   "cell_type": "markdown",
   "metadata": {},
   "source": [
    "# Merchant Data\n",
    "- merchant_fraud_probability.parquet\n",
    "- merchant_tbl.parquet"
   ]
  },
  {
   "cell_type": "code",
   "execution_count": 17,
   "metadata": {},
   "outputs": [],
   "source": [
    "# Load in merchant data\n",
    "fp_file_path = '../../../data/nulls&missing_analysis/merchant/merchant_fraud_probability.parquet'\n",
    "merch_file_path = '../../../data/nulls&missing_analysis/merchant/merchant_tbl.parquet'\n",
    "\n",
    "merch_fp = spark.read.parquet(fp_file_path)\n",
    "merch_tbl = spark.read.parquet(merch_file_path)"
   ]
  },
  {
   "cell_type": "markdown",
   "metadata": {},
   "source": [
    "Checking size of dataframes."
   ]
  },
  {
   "cell_type": "code",
   "execution_count": 18,
   "metadata": {},
   "outputs": [
    {
     "name": "stdout",
     "output_type": "stream",
     "text": [
      "merch_fp:\n",
      "Number of rows in the DataFrame: 114\n",
      "merch_tbl:\n",
      "Number of rows in the DataFrame: 4026\n"
     ]
    },
    {
     "data": {
      "text/plain": [
       "4026"
      ]
     },
     "execution_count": 18,
     "metadata": {},
     "output_type": "execute_result"
    }
   ],
   "source": [
    "print(\"merch_fp:\")\n",
    "count_rows_and_print(merch_fp)\n",
    "\n",
    "print(\"merch_tbl:\")\n",
    "count_rows_and_print(merch_tbl)"
   ]
  },
  {
   "cell_type": "markdown",
   "metadata": {},
   "source": [
    "Checking for null values in the merchant data"
   ]
  },
  {
   "cell_type": "code",
   "execution_count": 19,
   "metadata": {},
   "outputs": [
    {
     "name": "stdout",
     "output_type": "stream",
     "text": [
      "Checking merch_tbl:\n",
      "+-------------+------------+-----+-------------+-----------+\n",
      "|merchant_name|merchant_abn|words|revenue_level|take_rate_%|\n",
      "+-------------+------------+-----+-------------+-----------+\n",
      "|            0|           0|    0|            0|          0|\n",
      "+-------------+------------+-----+-------------+-----------+\n",
      "\n",
      "Checking merch_fp:\n",
      "+------------+--------------+----------------------------+\n",
      "|merchant_abn|order_datetime|merchant_fraud_probability_%|\n",
      "+------------+--------------+----------------------------+\n",
      "|           0|             0|                           0|\n",
      "+------------+--------------+----------------------------+\n",
      "\n"
     ]
    }
   ],
   "source": [
    "print(\"Checking merch_tbl:\")\n",
    "count_null_values(merch_tbl)\n",
    "\n",
    "print(\"Checking merch_fp:\")\n",
    "count_null_values(merch_fp)"
   ]
  },
  {
   "cell_type": "markdown",
   "metadata": {},
   "source": [
    "Checking for missing entries in the merchant data"
   ]
  },
  {
   "cell_type": "code",
   "execution_count": 20,
   "metadata": {},
   "outputs": [
    {
     "name": "stdout",
     "output_type": "stream",
     "text": [
      "Checking cons_tbl:\n"
     ]
    },
    {
     "name": "stdout",
     "output_type": "stream",
     "text": [
      "+-------------+------------+-----+-------------+-----------+\n",
      "|merchant_name|merchant_abn|words|revenue_level|take_rate_%|\n",
      "+-------------+------------+-----+-------------+-----------+\n",
      "|            0|           0|    0|            0|          0|\n",
      "+-------------+------------+-----+-------------+-----------+\n",
      "\n",
      "Checking merch_fp:\n",
      "+------------+--------------+----------------------------+\n",
      "|merchant_abn|order_datetime|merchant_fraud_probability_%|\n",
      "+------------+--------------+----------------------------+\n",
      "|           0|             0|                           0|\n",
      "+------------+--------------+----------------------------+\n",
      "\n"
     ]
    }
   ],
   "source": [
    "print(\"Checking cons_tbl:\")\n",
    "count_missing_data(merch_tbl)\n",
    "\n",
    "print(\"Checking merch_fp:\")\n",
    "count_missing_data(merch_fp)"
   ]
  },
  {
   "cell_type": "markdown",
   "metadata": {},
   "source": [
    "There are no null values or missing entries in the merchant dataframes."
   ]
  },
  {
   "cell_type": "markdown",
   "metadata": {},
   "source": [
    "# Transaction Data\n",
    "- transactions_all.parquet"
   ]
  },
  {
   "cell_type": "code",
   "execution_count": 21,
   "metadata": {},
   "outputs": [],
   "source": [
    "# Load in transaction data\n",
    "transactions_file_path = '../../../data/nulls&missing_analysis/transaction/transactions_all.parquet'\n",
    "\n",
    "transactions_all = spark.read.parquet(transactions_file_path)"
   ]
  },
  {
   "cell_type": "markdown",
   "metadata": {},
   "source": [
    "Checking size of dataframe"
   ]
  },
  {
   "cell_type": "code",
   "execution_count": 22,
   "metadata": {},
   "outputs": [
    {
     "name": "stdout",
     "output_type": "stream",
     "text": [
      "transactions_all:\n",
      "Number of rows in the DataFrame: 14195505\n"
     ]
    },
    {
     "data": {
      "text/plain": [
       "14195505"
      ]
     },
     "execution_count": 22,
     "metadata": {},
     "output_type": "execute_result"
    }
   ],
   "source": [
    "print(\"transactions_all:\")\n",
    "count_rows_and_print(transactions_all)"
   ]
  },
  {
   "cell_type": "markdown",
   "metadata": {},
   "source": [
    "Checking for null values in the transaction data"
   ]
  },
  {
   "cell_type": "code",
   "execution_count": 23,
   "metadata": {},
   "outputs": [
    {
     "name": "stdout",
     "output_type": "stream",
     "text": [
      "transactions_all:\n"
     ]
    },
    {
     "name": "stderr",
     "output_type": "stream",
     "text": [
      "[Stage 84:>                                                       (0 + 12) / 14]\r"
     ]
    },
    {
     "name": "stdout",
     "output_type": "stream",
     "text": [
      "+-------+------------+------------+--------+--------------+\n",
      "|user_id|merchant_abn|dollar_value|order_id|order_datetime|\n",
      "+-------+------------+------------+--------+--------------+\n",
      "|      0|           0|           0|       0|             0|\n",
      "+-------+------------+------------+--------+--------------+\n",
      "\n"
     ]
    },
    {
     "name": "stderr",
     "output_type": "stream",
     "text": [
      "                                                                                \r"
     ]
    }
   ],
   "source": [
    "print(\"transactions_all:\")\n",
    "count_null_values(transactions_all)"
   ]
  },
  {
   "cell_type": "markdown",
   "metadata": {},
   "source": [
    "Checking for missing values in the transaction data"
   ]
  },
  {
   "cell_type": "code",
   "execution_count": 24,
   "metadata": {},
   "outputs": [
    {
     "name": "stdout",
     "output_type": "stream",
     "text": [
      "transactions_all:\n",
      "+-------+------------+------------+--------+--------------+\n",
      "|user_id|merchant_abn|dollar_value|order_id|order_datetime|\n",
      "+-------+------------+------------+--------+--------------+\n",
      "|      0|           0|           0|       0|             0|\n",
      "+-------+------------+------------+--------+--------------+\n",
      "\n"
     ]
    },
    {
     "name": "stderr",
     "output_type": "stream",
     "text": [
      "                                                                                \r"
     ]
    }
   ],
   "source": [
    "print(\"transactions_all:\")\n",
    "count_missing_data(transactions_all)"
   ]
  },
  {
   "cell_type": "markdown",
   "metadata": {},
   "source": [
    "There are no null values or missing entries in the transaction dataframe."
   ]
  },
  {
   "cell_type": "markdown",
   "metadata": {},
   "source": [
    "# Joining Datasets\n",
    "\n",
    "Joining datasets together, checking for null values after each join and missing data\n",
    "\n",
    "# Join cons_tbl data with cons_user_det"
   ]
  },
  {
   "cell_type": "code",
   "execution_count": 25,
   "metadata": {},
   "outputs": [],
   "source": [
    "cons_join = cons_tbl.join(cons_user_det, on='consumer_id', how='inner')"
   ]
  },
  {
   "cell_type": "markdown",
   "metadata": {},
   "source": [
    "Check for null values"
   ]
  },
  {
   "cell_type": "code",
   "execution_count": 26,
   "metadata": {},
   "outputs": [
    {
     "name": "stdout",
     "output_type": "stream",
     "text": [
      "Check cons_join for null values:\n",
      "+-----------+-------------+--------------+-----------------+---------------+-------+\n",
      "|consumer_id|consumer_name|consumer_state|consumer_postcode|consumer_gender|user_id|\n",
      "+-----------+-------------+--------------+-----------------+---------------+-------+\n",
      "|          0|            0|             0|                0|              0|      0|\n",
      "+-----------+-------------+--------------+-----------------+---------------+-------+\n",
      "\n"
     ]
    }
   ],
   "source": [
    "print(\"Check cons_join for null values:\")\n",
    "count_null_values(cons_join)"
   ]
  },
  {
   "cell_type": "markdown",
   "metadata": {},
   "source": [
    "Check for missing rows after joining cons_tbl data with cons_user_det"
   ]
  },
  {
   "cell_type": "code",
   "execution_count": 27,
   "metadata": {},
   "outputs": [
    {
     "name": "stdout",
     "output_type": "stream",
     "text": [
      "cons_join:\n",
      "Number of rows in the DataFrame: 499999\n"
     ]
    },
    {
     "data": {
      "text/plain": [
       "499999"
      ]
     },
     "execution_count": 27,
     "metadata": {},
     "output_type": "execute_result"
    }
   ],
   "source": [
    "print(\"cons_join:\")\n",
    "count_rows_and_print(cons_join)"
   ]
  },
  {
   "cell_type": "markdown",
   "metadata": {},
   "source": [
    "There are no null values after joining consumer data. \n",
    "Also there are no missing data after the first join. That is the number of rows before the join is 499,999 and then there is still 499,999 rows after the join."
   ]
  },
  {
   "cell_type": "markdown",
   "metadata": {},
   "source": [
    "# Join cons_join with transaction_all"
   ]
  },
  {
   "cell_type": "code",
   "execution_count": 28,
   "metadata": {},
   "outputs": [],
   "source": [
    "cons_transaction = cons_join.join(transactions_all, on='user_id', how ='inner')"
   ]
  },
  {
   "cell_type": "markdown",
   "metadata": {},
   "source": [
    "Check for nulls after joining cons_join and transaction_all"
   ]
  },
  {
   "cell_type": "code",
   "execution_count": 29,
   "metadata": {},
   "outputs": [
    {
     "name": "stderr",
     "output_type": "stream",
     "text": [
      "[Stage 103:===================================================>   (13 + 1) / 14]\r"
     ]
    },
    {
     "name": "stdout",
     "output_type": "stream",
     "text": [
      "+-------+-----------+-------------+--------------+-----------------+---------------+------------+------------+--------+--------------+\n",
      "|user_id|consumer_id|consumer_name|consumer_state|consumer_postcode|consumer_gender|merchant_abn|dollar_value|order_id|order_datetime|\n",
      "+-------+-----------+-------------+--------------+-----------------+---------------+------------+------------+--------+--------------+\n",
      "|      0|          0|            0|             0|                0|              0|           0|           0|       0|             0|\n",
      "+-------+-----------+-------------+--------------+-----------------+---------------+------------+------------+--------+--------------+\n",
      "\n"
     ]
    },
    {
     "name": "stderr",
     "output_type": "stream",
     "text": [
      "                                                                                \r"
     ]
    }
   ],
   "source": [
    "count_null_values(cons_transaction)"
   ]
  },
  {
   "cell_type": "markdown",
   "metadata": {},
   "source": [
    "Now check for missing rows after joining cons_join and transactions_all."
   ]
  },
  {
   "cell_type": "code",
   "execution_count": 30,
   "metadata": {},
   "outputs": [
    {
     "name": "stdout",
     "output_type": "stream",
     "text": [
      "cons_transaction:\n"
     ]
    },
    {
     "name": "stderr",
     "output_type": "stream",
     "text": [
      "                                                                                \r"
     ]
    },
    {
     "name": "stdout",
     "output_type": "stream",
     "text": [
      "Number of rows in the DataFrame: 14195505\n"
     ]
    },
    {
     "data": {
      "text/plain": [
       "14195505"
      ]
     },
     "execution_count": 30,
     "metadata": {},
     "output_type": "execute_result"
    }
   ],
   "source": [
    "print(\"cons_transaction:\")\n",
    "count_rows_and_print(cons_transaction)"
   ]
  },
  {
   "cell_type": "markdown",
   "metadata": {},
   "source": [
    "There are no null values after joining in the transaction data. \n",
    "Also there is no missing data after the first join. That is the number of rows in transaction before the join is 14,195,505 and then there is still 14,195,505 rows after the join."
   ]
  },
  {
   "cell_type": "markdown",
   "metadata": {},
   "source": [
    "# Join cons_transaction with cons_fp"
   ]
  },
  {
   "cell_type": "code",
   "execution_count": 31,
   "metadata": {},
   "outputs": [],
   "source": [
    "cons_transaction_with_fraud = cons_transaction.join(cons_fp, on=['user_id', 'order_datetime'], how='left')"
   ]
  },
  {
   "cell_type": "markdown",
   "metadata": {},
   "source": [
    "Check for nulls after joining cons_transaction and cons_fp"
   ]
  },
  {
   "cell_type": "code",
   "execution_count": 32,
   "metadata": {},
   "outputs": [
    {
     "name": "stderr",
     "output_type": "stream",
     "text": [
      "[Stage 124:===================================================>   (13 + 1) / 14]\r"
     ]
    },
    {
     "name": "stdout",
     "output_type": "stream",
     "text": [
      "+-------+--------------+-----------+-------------+--------------+-----------------+---------------+------------+------------+--------+----------------------------+\n",
      "|user_id|order_datetime|consumer_id|consumer_name|consumer_state|consumer_postcode|consumer_gender|merchant_abn|dollar_value|order_id|consumer_fraud_probability_%|\n",
      "+-------+--------------+-----------+-------------+--------------+-----------------+---------------+------------+------------+--------+----------------------------+\n",
      "|      0|             0|          0|            0|             0|                0|              0|           0|           0|       0|                    14115157|\n",
      "+-------+--------------+-----------+-------------+--------------+-----------------+---------------+------------+------------+--------+----------------------------+\n",
      "\n"
     ]
    },
    {
     "name": "stderr",
     "output_type": "stream",
     "text": [
      "                                                                                \r"
     ]
    }
   ],
   "source": [
    "count_null_values(cons_transaction_with_fraud)"
   ]
  },
  {
   "cell_type": "markdown",
   "metadata": {},
   "source": [
    "Now check for missing rows after joining cons_transaction and cons_fp."
   ]
  },
  {
   "cell_type": "code",
   "execution_count": 33,
   "metadata": {},
   "outputs": [
    {
     "name": "stdout",
     "output_type": "stream",
     "text": [
      "cons_transaction_with_fraud:\n",
      "Number of rows in the DataFrame: 14195717\n"
     ]
    },
    {
     "data": {
      "text/plain": [
       "14195717"
      ]
     },
     "execution_count": 33,
     "metadata": {},
     "output_type": "execute_result"
    }
   ],
   "source": [
    "print(\"cons_transaction_with_fraud:\")\n",
    "count_rows_and_print(cons_transaction_with_fraud)"
   ]
  },
  {
   "cell_type": "markdown",
   "metadata": {},
   "source": [
    "There is 14,115,157 null values in the consumer fraud probability values out of the 14,195,717 rows.\n",
    "\n",
    "Also there is an increase in the size of the data after this join. The number of rows before the join is 14,195,505 and then there 14,195,717 rows after the join. So 212 rows are gained in this join, most likely as a result of there being multiple matches in the right table for a single row in the left table."
   ]
  },
  {
   "cell_type": "markdown",
   "metadata": {},
   "source": [
    "# Join cons_transaction_with_fraud with merch_tbl"
   ]
  },
  {
   "cell_type": "code",
   "execution_count": 34,
   "metadata": {},
   "outputs": [],
   "source": [
    "cons_transaction_fraud_merchant = cons_transaction_with_fraud.join(merch_tbl, on='merchant_abn', how='inner')"
   ]
  },
  {
   "cell_type": "markdown",
   "metadata": {},
   "source": [
    "Check for nulls after joining cons_transaction_with_fraud and merch_tbl"
   ]
  },
  {
   "cell_type": "code",
   "execution_count": 35,
   "metadata": {},
   "outputs": [
    {
     "name": "stderr",
     "output_type": "stream",
     "text": [
      "[Stage 147:===================================================>   (13 + 1) / 14]\r"
     ]
    },
    {
     "name": "stdout",
     "output_type": "stream",
     "text": [
      "+------------+-------+--------------+-----------+-------------+--------------+-----------------+---------------+------------+--------+----------------------------+-------------+-----+-------------+-----------+\n",
      "|merchant_abn|user_id|order_datetime|consumer_id|consumer_name|consumer_state|consumer_postcode|consumer_gender|dollar_value|order_id|consumer_fraud_probability_%|merchant_name|words|revenue_level|take_rate_%|\n",
      "+------------+-------+--------------+-----------+-------------+--------------+-----------------+---------------+------------+--------+----------------------------+-------------+-----+-------------+-----------+\n",
      "|           0|      0|             0|          0|            0|             0|                0|              0|           0|       0|                    13543038|            0|    0|            0|          0|\n",
      "+------------+-------+--------------+-----------+-------------+--------------+-----------------+---------------+------------+--------+----------------------------+-------------+-----+-------------+-----------+\n",
      "\n"
     ]
    },
    {
     "name": "stderr",
     "output_type": "stream",
     "text": [
      "                                                                                \r"
     ]
    }
   ],
   "source": [
    "count_null_values(cons_transaction_fraud_merchant)"
   ]
  },
  {
   "cell_type": "markdown",
   "metadata": {},
   "source": [
    "Checking for missing rows after joining cons_transaction_with_fraud and merch_tbl"
   ]
  },
  {
   "cell_type": "code",
   "execution_count": 36,
   "metadata": {},
   "outputs": [
    {
     "name": "stdout",
     "output_type": "stream",
     "text": [
      "cons_transaction_fraud_merchant:\n"
     ]
    },
    {
     "name": "stderr",
     "output_type": "stream",
     "text": [
      "                                                                                \r"
     ]
    },
    {
     "name": "stdout",
     "output_type": "stream",
     "text": [
      "Number of rows in the DataFrame: 13614854\n"
     ]
    },
    {
     "data": {
      "text/plain": [
       "13614854"
      ]
     },
     "execution_count": 36,
     "metadata": {},
     "output_type": "execute_result"
    }
   ],
   "source": [
    "print(\"cons_transaction_fraud_merchant:\")\n",
    "count_rows_and_print(cons_transaction_fraud_merchant)"
   ]
  },
  {
   "cell_type": "markdown",
   "metadata": {},
   "source": [
    "Still the only column with null values is consumer fraud probabilities with 13,543,038 missing out of 13,614,854 rows.\n",
    "\n",
    "There is a decrease in the size of this data after this join. The number of rows before the join is 14,195,505 whereas after the join there is 13,614,854 rows. This means that there are 580,651 missing rows of data after this join."
   ]
  },
  {
   "cell_type": "markdown",
   "metadata": {},
   "source": [
    "# Join cons_transaction_fraud_merchant with merch_fp"
   ]
  },
  {
   "cell_type": "code",
   "execution_count": 37,
   "metadata": {},
   "outputs": [],
   "source": [
    "combined_data_all = cons_transaction_fraud_merchant.join(merch_fp, on=['merchant_abn', 'order_datetime'], how='left')"
   ]
  },
  {
   "cell_type": "markdown",
   "metadata": {},
   "source": [
    "Check for nulls after joining cons_transaction_fraud_merchant and merch_fp"
   ]
  },
  {
   "cell_type": "code",
   "execution_count": 38,
   "metadata": {},
   "outputs": [
    {
     "name": "stderr",
     "output_type": "stream",
     "text": [
      "[Stage 172:===================================================>   (13 + 1) / 14]\r"
     ]
    },
    {
     "name": "stdout",
     "output_type": "stream",
     "text": [
      "+------------+--------------+-------+-----------+-------------+--------------+-----------------+---------------+------------+--------+----------------------------+-------------+-----+-------------+-----------+----------------------------+\n",
      "|merchant_abn|order_datetime|user_id|consumer_id|consumer_name|consumer_state|consumer_postcode|consumer_gender|dollar_value|order_id|consumer_fraud_probability_%|merchant_name|words|revenue_level|take_rate_%|merchant_fraud_probability_%|\n",
      "+------------+--------------+-------+-----------+-------------+--------------+-----------------+---------------+------------+--------+----------------------------+-------------+-----+-------------+-----------+----------------------------+\n",
      "|           0|             0|      0|          0|            0|             0|                0|              0|           0|       0|                    13543038|            0|    0|            0|          0|                    13610826|\n",
      "+------------+--------------+-------+-----------+-------------+--------------+-----------------+---------------+------------+--------+----------------------------+-------------+-----+-------------+-----------+----------------------------+\n",
      "\n"
     ]
    },
    {
     "name": "stderr",
     "output_type": "stream",
     "text": [
      "                                                                                \r"
     ]
    }
   ],
   "source": [
    "count_null_values(combined_data_all)"
   ]
  },
  {
   "cell_type": "markdown",
   "metadata": {},
   "source": [
    "Checking for missing rows after joining cons_transaction_fraud_merchant and merch_fp"
   ]
  },
  {
   "cell_type": "code",
   "execution_count": 39,
   "metadata": {},
   "outputs": [
    {
     "name": "stdout",
     "output_type": "stream",
     "text": [
      "combined_data_all:\n",
      "Number of rows in the DataFrame: 13614854\n"
     ]
    },
    {
     "name": "stderr",
     "output_type": "stream",
     "text": [
      "                                                                                \r"
     ]
    },
    {
     "data": {
      "text/plain": [
       "13614854"
      ]
     },
     "execution_count": 39,
     "metadata": {},
     "output_type": "execute_result"
    }
   ],
   "source": [
    "print(\"combined_data_all:\")\n",
    "count_rows_and_print(combined_data_all)"
   ]
  },
  {
   "cell_type": "markdown",
   "metadata": {},
   "source": [
    "After joining the merchant fraud probability, there are 2 columns that have null values. These are consumer_fraud_probability_% and merchant_fraud_probability_%. consumer_fraud_probability_% has 13,543,038 null values and merchant_fraud_probability_% has 13,610,826 null values.\n",
    "\n",
    "There is also no change in the size of this data after this join. The number of rows before the join is 13,614,854 and remains the same after the join."
   ]
  },
  {
   "cell_type": "markdown",
   "metadata": {},
   "source": [
    "# Joining SA2/Census Data"
   ]
  },
  {
   "cell_type": "markdown",
   "metadata": {},
   "source": [
    "# Join the sa2_to_post to sa2_pops"
   ]
  },
  {
   "cell_type": "code",
   "execution_count": 40,
   "metadata": {},
   "outputs": [],
   "source": [
    "sa2_postcode_and_pops = sa2_post.join(sa2_pops, on='sa2_code', how='inner').withColumnRenamed('population_2021','sa2_population')"
   ]
  },
  {
   "cell_type": "markdown",
   "metadata": {},
   "source": [
    "Check for nulls after joining sa2_post and sa2_pops"
   ]
  },
  {
   "cell_type": "code",
   "execution_count": 41,
   "metadata": {},
   "outputs": [
    {
     "name": "stdout",
     "output_type": "stream",
     "text": [
      "+--------+--------+--------+--------+--------+--------------+\n",
      "|sa2_code|postcode|sa4_name|sa3_name|sa2_name|sa2_population|\n",
      "+--------+--------+--------+--------+--------+--------------+\n",
      "|       0|     363|       0|       0|       0|             0|\n",
      "+--------+--------+--------+--------+--------+--------------+\n",
      "\n"
     ]
    }
   ],
   "source": [
    "count_null_values(sa2_postcode_and_pops)"
   ]
  },
  {
   "cell_type": "markdown",
   "metadata": {},
   "source": [
    "Checking for missing rows after joining sa2_post and sa2_pops"
   ]
  },
  {
   "cell_type": "code",
   "execution_count": 42,
   "metadata": {},
   "outputs": [
    {
     "name": "stdout",
     "output_type": "stream",
     "text": [
      "sa2_postcode_and_pops:\n",
      "Number of rows in the DataFrame: 35040\n"
     ]
    },
    {
     "data": {
      "text/plain": [
       "35040"
      ]
     },
     "execution_count": 42,
     "metadata": {},
     "output_type": "execute_result"
    }
   ],
   "source": [
    "print(\"sa2_postcode_and_pops:\")\n",
    "count_rows_and_print(sa2_postcode_and_pops)"
   ]
  },
  {
   "cell_type": "markdown",
   "metadata": {},
   "source": [
    "There are no null values from this join. Also no rows are missing, with 35,040 rows still remaining after the join"
   ]
  },
  {
   "cell_type": "markdown",
   "metadata": {},
   "source": [
    "# Join the sa2_postcode_and_pops with sa2_census"
   ]
  },
  {
   "cell_type": "code",
   "execution_count": 43,
   "metadata": {},
   "outputs": [],
   "source": [
    "# Join the SA2 data\n",
    "sa2_combined = sa2_postcode_and_pops.join(sa2_census, on='sa2_code', how='inner')"
   ]
  },
  {
   "cell_type": "markdown",
   "metadata": {},
   "source": [
    "Check for nulls after joining sa2_postcode_and_pops and sa2_census"
   ]
  },
  {
   "cell_type": "code",
   "execution_count": 44,
   "metadata": {},
   "outputs": [
    {
     "name": "stdout",
     "output_type": "stream",
     "text": [
      "+--------+--------+--------+--------+--------+--------------+--------------+---------------------------------+-------------------------------+----------------------+-----------------------------+--------------------------------+-----------------------------+--------------------------+\n",
      "|sa2_code|postcode|sa4_name|sa3_name|sa2_name|sa2_population|sa2_median_age|sa2_median_mortgage_repay_monthly|sa2_median_tot_prsnl_inc_weekly|sa2_median_rent_weekly|sa2_median_tot_fam_inc_weekly|sa2_average_num_psns_per_bedroom|sa2_median_tot_hhd_inc_weekly|sa2_average_household_size|\n",
      "+--------+--------+--------+--------+--------+--------------+--------------+---------------------------------+-------------------------------+----------------------+-----------------------------+--------------------------------+-----------------------------+--------------------------+\n",
      "|       0|     363|       0|       0|       0|             0|             0|                                0|                              0|                     0|                            0|                               0|                            0|                         0|\n",
      "+--------+--------+--------+--------+--------+--------------+--------------+---------------------------------+-------------------------------+----------------------+-----------------------------+--------------------------------+-----------------------------+--------------------------+\n",
      "\n"
     ]
    }
   ],
   "source": [
    "count_null_values(sa2_combined)"
   ]
  },
  {
   "cell_type": "markdown",
   "metadata": {},
   "source": [
    "Checking for missing rows after sa2_postcode_and_pops and sa2_census"
   ]
  },
  {
   "cell_type": "code",
   "execution_count": 45,
   "metadata": {},
   "outputs": [
    {
     "name": "stdout",
     "output_type": "stream",
     "text": [
      "sa2_combined:\n",
      "Number of rows in the DataFrame: 35040\n"
     ]
    },
    {
     "data": {
      "text/plain": [
       "35040"
      ]
     },
     "execution_count": 45,
     "metadata": {},
     "output_type": "execute_result"
    }
   ],
   "source": [
    "print(\"sa2_combined:\")\n",
    "count_rows_and_print(sa2_combined)"
   ]
  },
  {
   "cell_type": "markdown",
   "metadata": {},
   "source": [
    "There are still the null values present from the other previous search (363 postcode values are null). \n",
    "\n",
    "Also after the joining, there are still 35,040 rows in the dataframe. No rows have been lost joining the data together."
   ]
  },
  {
   "cell_type": "markdown",
   "metadata": {},
   "source": [
    "# Now to join all tables together\n",
    "First group together SA2 stats (copied from the ETL)"
   ]
  },
  {
   "cell_type": "code",
   "execution_count": 46,
   "metadata": {},
   "outputs": [],
   "source": [
    "# Group SA2 statistics by postcodes by taking averages and medians\n",
    "postcode_combined = sa2_combined.groupBy(\"postcode\") \\\n",
    "    .agg(F.avg(\"sa2_population\").alias(\"consumer_postcode_estimated_population\"), \\\n",
    "        F.median(\"sa2_median_age\").alias(\"consumer_postcode_median_age\"), \\\n",
    "        F.median(\"sa2_median_mortgage_repay_monthly\").alias(\"consumer_postcode_median_mortgage_repay_monthly\"), \\\n",
    "        F.median(\"sa2_median_tot_prsnl_inc_weekly\").alias(\"consumer_postcode_median_totl_prsnal_inc_weekly\"), \\\n",
    "        F.median(\"sa2_median_rent_weekly\").alias(\"consumer_postcode_median_rent_weekly\"), \\\n",
    "        F.median(\"sa2_median_tot_fam_inc_weekly\").alias(\"consumer_postcode_median_tot_fam_inc_weekly\"), \\\n",
    "        F.avg(\"sa2_average_num_psns_per_bedroom\").alias(\"consumer_postcode_avg_num_psns_per_bedroom\"), \\\n",
    "        F.median(\"sa2_median_tot_hhd_inc_weekly\").alias(\"consumer_postcode_median_tot_hhd_inc_weekly\"), \\\n",
    "        F.avg(\"sa2_average_household_size\").alias(\"consumer_postcode_avg_household_size\")\n",
    "    ).withColumnRenamed('postcode', 'consumer_postcode')\n",
    "\n",
    "\n",
    "postcode_combined = postcode_combined.select(*[F.round(c, 2).alias(c) for c in postcode_combined.columns])\n",
    "\n",
    "postcode_combined = postcode_combined.withColumn(\"consumer_postcode_estimated_population\", F.round(F.col(\"consumer_postcode_estimated_population\")))"
   ]
  },
  {
   "cell_type": "markdown",
   "metadata": {},
   "source": [
    "Now combine with rest of data"
   ]
  },
  {
   "cell_type": "code",
   "execution_count": 47,
   "metadata": {},
   "outputs": [],
   "source": [
    "# Combine everything together\n",
    "all_combined = combined_data_all.join(postcode_combined.withColumnRenamed('postcode','consumer_postcode'), on='consumer_postcode', how='inner')"
   ]
  },
  {
   "cell_type": "markdown",
   "metadata": {},
   "source": [
    "Checking for null values after joining all data"
   ]
  },
  {
   "cell_type": "code",
   "execution_count": 48,
   "metadata": {},
   "outputs": [
    {
     "name": "stderr",
     "output_type": "stream",
     "text": [
      "[Stage 225:===================================================>   (13 + 1) / 14]\r"
     ]
    },
    {
     "name": "stdout",
     "output_type": "stream",
     "text": [
      "+-----------------+------------+--------------+-------+-----------+-------------+--------------+---------------+------------+--------+----------------------------+-------------+-----+-------------+-----------+----------------------------+--------------------------------------+----------------------------+-----------------------------------------------+-----------------------------------------------+------------------------------------+-------------------------------------------+------------------------------------------+-------------------------------------------+------------------------------------+\n",
      "|consumer_postcode|merchant_abn|order_datetime|user_id|consumer_id|consumer_name|consumer_state|consumer_gender|dollar_value|order_id|consumer_fraud_probability_%|merchant_name|words|revenue_level|take_rate_%|merchant_fraud_probability_%|consumer_postcode_estimated_population|consumer_postcode_median_age|consumer_postcode_median_mortgage_repay_monthly|consumer_postcode_median_totl_prsnal_inc_weekly|consumer_postcode_median_rent_weekly|consumer_postcode_median_tot_fam_inc_weekly|consumer_postcode_avg_num_psns_per_bedroom|consumer_postcode_median_tot_hhd_inc_weekly|consumer_postcode_avg_household_size|\n",
      "+-----------------+------------+--------------+-------+-----------+-------------+--------------+---------------+------------+--------+----------------------------+-------------+-----+-------------+-----------+----------------------------+--------------------------------------+----------------------------+-----------------------------------------------+-----------------------------------------------+------------------------------------+-------------------------------------------+------------------------------------------+-------------------------------------------+------------------------------------+\n",
      "|                0|           0|             0|      0|          0|            0|             0|              0|           0|       0|                    11312983|            0|    0|            0|          0|                    11369563|                                     0|                           0|                                              0|                                              0|                                   0|                                          0|                                         0|                                          0|                                   0|\n",
      "+-----------------+------------+--------------+-------+-----------+-------------+--------------+---------------+------------+--------+----------------------------+-------------+-----+-------------+-----------+----------------------------+--------------------------------------+----------------------------+-----------------------------------------------+-----------------------------------------------+------------------------------------+-------------------------------------------+------------------------------------------+-------------------------------------------+------------------------------------+\n",
      "\n"
     ]
    },
    {
     "name": "stderr",
     "output_type": "stream",
     "text": [
      "                                                                                \r"
     ]
    }
   ],
   "source": [
    "count_null_values(all_combined)"
   ]
  },
  {
   "cell_type": "markdown",
   "metadata": {},
   "source": [
    "Checking for missing rows after joining all data"
   ]
  },
  {
   "cell_type": "code",
   "execution_count": 49,
   "metadata": {},
   "outputs": [
    {
     "name": "stdout",
     "output_type": "stream",
     "text": [
      "all_combined:\n"
     ]
    },
    {
     "name": "stderr",
     "output_type": "stream",
     "text": [
      "[Stage 244:>                                                      (0 + 12) / 13]\r"
     ]
    },
    {
     "name": "stdout",
     "output_type": "stream",
     "text": [
      "Number of rows in the DataFrame: 11372905\n"
     ]
    },
    {
     "name": "stderr",
     "output_type": "stream",
     "text": [
      "                                                                                \r"
     ]
    },
    {
     "data": {
      "text/plain": [
       "11372905"
      ]
     },
     "execution_count": 49,
     "metadata": {},
     "output_type": "execute_result"
    }
   ],
   "source": [
    "print(\"all_combined:\")\n",
    "count_rows_and_print(all_combined)"
   ]
  },
  {
   "cell_type": "markdown",
   "metadata": {},
   "source": [
    "No new columns with null values. Still consumer_fraud_probability_% and merchant_fraud_probability_%. consumer_fraud_probability_% has 11,312,983 nulls and merchant_fraud_probability_% has 11,369,563 null values.\n",
    "\n",
    "There is a decrease in the size of this data after this join. The number of rows before the join is 13,614,854 whereas after the join there is 11,372,905 rows. This means that there are 2,241,949 missing rows of data after this join."
   ]
  }
 ],
 "metadata": {
  "kernelspec": {
   "display_name": "Python 3",
   "language": "python",
   "name": "python3"
  },
  "language_info": {
   "codemirror_mode": {
    "name": "ipython",
    "version": 3
   },
   "file_extension": ".py",
   "mimetype": "text/x-python",
   "name": "python",
   "nbconvert_exporter": "python",
   "pygments_lexer": "ipython3",
   "version": "3.10.12"
  },
  "orig_nbformat": 4
 },
 "nbformat": 4,
 "nbformat_minor": 2
}
