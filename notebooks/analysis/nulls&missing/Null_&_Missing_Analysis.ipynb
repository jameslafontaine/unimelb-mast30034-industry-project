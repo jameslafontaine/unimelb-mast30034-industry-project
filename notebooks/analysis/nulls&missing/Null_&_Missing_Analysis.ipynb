{
 "cells": [
  {
   "cell_type": "markdown",
   "metadata": {},
   "source": [
    "# Null & Missing Analysis\n",
    "\n",
    "This notebook conducts analysis of null and missing values in the data, then checks again after joining."
   ]
  },
  {
   "cell_type": "code",
   "execution_count": 4,
   "metadata": {},
   "outputs": [
    {
     "ename": "ModuleNotFoundError",
     "evalue": "No module named 'pyspark'",
     "output_type": "error",
     "traceback": [
      "\u001b[0;31m---------------------------------------------------------------------------\u001b[0m",
      "\u001b[0;31mModuleNotFoundError\u001b[0m                       Traceback (most recent call last)",
      "Cell \u001b[0;32mIn[4], line 1\u001b[0m\n\u001b[0;32m----> 1\u001b[0m \u001b[39mfrom\u001b[39;00m \u001b[39mpyspark\u001b[39;00m\u001b[39m.\u001b[39;00m\u001b[39msql\u001b[39;00m \u001b[39mimport\u001b[39;00m SparkSession, functions \u001b[39mas\u001b[39;00m F\n\u001b[1;32m      2\u001b[0m \u001b[39mfrom\u001b[39;00m \u001b[39mpyspark\u001b[39;00m\u001b[39m.\u001b[39;00m\u001b[39msql\u001b[39;00m\u001b[39m.\u001b[39;00m\u001b[39mfunctions\u001b[39;00m \u001b[39mimport\u001b[39;00m col, isnan, when, count\n\u001b[1;32m      3\u001b[0m \u001b[39mfrom\u001b[39;00m \u001b[39mpyspark\u001b[39;00m\u001b[39m.\u001b[39;00m\u001b[39msql\u001b[39;00m\u001b[39m.\u001b[39;00m\u001b[39mtypes\u001b[39;00m \u001b[39mimport\u001b[39;00m DateType\n",
      "\u001b[0;31mModuleNotFoundError\u001b[0m: No module named 'pyspark'"
     ]
    }
   ],
   "source": [
    "from pyspark.sql import SparkSession, functions as F\n",
    "from pyspark.sql.functions import col, isnan, when, count\n",
    "from pyspark.sql.types import DateType\n",
    "from pyspark.sql import DataFrame"
   ]
  },
  {
   "cell_type": "code",
   "execution_count": null,
   "metadata": {},
   "outputs": [
    {
     "name": "stderr",
     "output_type": "stream",
     "text": [
      "your 131072x1 screen size is bogus. expect trouble\n",
      "23/09/14 11:15:13 WARN Utils: Your hostname, DESKTOP-SATV84A resolves to a loopback address: 127.0.1.1; using 172.26.254.29 instead (on interface eth0)\n",
      "23/09/14 11:15:13 WARN Utils: Set SPARK_LOCAL_IP if you need to bind to another address\n",
      "Setting default log level to \"WARN\".\n",
      "To adjust logging level use sc.setLogLevel(newLevel). For SparkR, use setLogLevel(newLevel).\n",
      "23/09/14 11:15:15 WARN NativeCodeLoader: Unable to load native-hadoop library for your platform... using builtin-java classes where applicable\n"
     ]
    }
   ],
   "source": [
    "# Create a spark session (which will run spark jobs)\n",
    "spark = (\n",
    "    SparkSession.builder.appName(\"null analysis\")\n",
    "    .config(\"spark.sql.repl.eagerEval.enabled\", True)\n",
    "    .config(\"spark.sql.parquet.cacheMetadata\", \"true\")\n",
    "    .config(\"spark.sql.session.timeZone\", \"Etc/UTC\")\n",
    "    .config('spark.driver.memory', '4g')\n",
    "    .config('spark.executor.memory', '2g')\n",
    "    .getOrCreate()\n",
    ")"
   ]
  },
  {
   "cell_type": "markdown",
   "metadata": {},
   "source": [
    "Functions to check null or missing values and size of dataframe"
   ]
  },
  {
   "cell_type": "code",
   "execution_count": null,
   "metadata": {},
   "outputs": [],
   "source": [
    "def count_null_values(df):\n",
    "    \"\"\"\n",
    "    This function counts the number of null, None, or NaN values for all columns in a Spark DataFrame.\n",
    "    \"\"\"\n",
    "    # Use a list comprehension to count null, None, or NaN values for each column\n",
    "    count_expr = [count(when(col(c).isNull(), c)).alias(c) for c in df.columns]\n",
    "\n",
    "    # Apply the count expression and show the result\n",
    "    result = df.select(count_expr)\n",
    "    result.show()"
   ]
  },
  {
   "cell_type": "code",
   "execution_count": null,
   "metadata": {},
   "outputs": [],
   "source": [
    "def count_missing_data(df):\n",
    "    \"\"\"\n",
    "    This function counts the number of missing data entries (empty strings) for all columns in a Spark DataFrame.\n",
    "    \"\"\"\n",
    "    # Use a list comprehension to count missing data entries for each column\n",
    "    count_expr = [F.count(when(col(c) == '', c)).alias(c) for c in df.columns]\n",
    "\n",
    "    # Apply the count expression and show the result\n",
    "    result = df.select(count_expr)\n",
    "    result.show()\n"
   ]
  },
  {
   "cell_type": "code",
   "execution_count": null,
   "metadata": {},
   "outputs": [],
   "source": [
    "def count_rows_and_print(df: DataFrame) -> int:\n",
    "    \"\"\"\n",
    "    Count the number of rows in a Spark DataFrame and print the result.\n",
    "    Input:\n",
    "        A Spark DataFrame for which you want to count the rows.\n",
    "    Output:\n",
    "        The number of rows in the DataFrame.\n",
    "    \"\"\"\n",
    "    row_count = df.count()\n",
    "    print(f\"Number of rows in the DataFrame: {row_count}\")\n",
    "    return row_count\n"
   ]
  },
  {
   "cell_type": "markdown",
   "metadata": {},
   "source": [
    "# Census Data\n",
    "\n",
    "- sa2_census.parquet\n",
    "- sa2_pops.parquet\n",
    "- sa2_to_postcode.parquet"
   ]
  },
  {
   "cell_type": "code",
   "execution_count": null,
   "metadata": {},
   "outputs": [
    {
     "name": "stderr",
     "output_type": "stream",
     "text": [
      "                                                                                \r"
     ]
    }
   ],
   "source": [
    "# Load in census data\n",
    "census_file_path = '../../../data/nulls&missing_analysis/sa2/sa2_census.parquet'\n",
    "pop_file_path = '../../../data/nulls&missing_analysis/sa2/sa2_pops.parquet'\n",
    "post_file_path = '../../../data/nulls&missing_analysis/sa2/sa2_to_postcode.parquet'\n",
    "\n",
    "sa2_census = spark.read.parquet(census_file_path)\n",
    "sa2_pops = spark.read.parquet(pop_file_path)\n",
    "sa2_post =  spark.read.parquet(post_file_path)"
   ]
  },
  {
   "cell_type": "markdown",
   "metadata": {},
   "source": [
    "Checking size of dataframes."
   ]
  },
  {
   "cell_type": "code",
   "execution_count": null,
   "metadata": {},
   "outputs": [
    {
     "name": "stdout",
     "output_type": "stream",
     "text": [
      "sa2_census:\n",
      "Number of rows in the DataFrame: 2472\n",
      "sa2_pops:\n",
      "Number of rows in the DataFrame: 2454\n",
      "sa2_post:\n",
      "Number of rows in the DataFrame: 35040\n"
     ]
    },
    {
     "data": {
      "text/plain": [
       "35040"
      ]
     },
     "execution_count": 7,
     "metadata": {},
     "output_type": "execute_result"
    }
   ],
   "source": [
    "print(\"sa2_census:\")\n",
    "count_rows_and_print(sa2_census)\n",
    "\n",
    "print(\"sa2_pops:\")\n",
    "count_rows_and_print(sa2_pops)\n",
    "\n",
    "print(\"sa2_post:\")\n",
    "count_rows_and_print(sa2_post)"
   ]
  },
  {
   "cell_type": "markdown",
   "metadata": {},
   "source": [
    "Checking for null values in sa2 data"
   ]
  },
  {
   "cell_type": "code",
   "execution_count": null,
   "metadata": {},
   "outputs": [
    {
     "name": "stdout",
     "output_type": "stream",
     "text": [
      "Checking sa2_census:\n",
      "+--------+--------------+---------------------------------+-------------------------------+----------------------+-----------------------------+--------------------------------+-----------------------------+--------------------------+\n",
      "|sa2_code|sa2_median_age|sa2_median_mortgage_repay_monthly|sa2_median_tot_prsnl_inc_weekly|sa2_median_rent_weekly|sa2_median_tot_fam_inc_weekly|sa2_average_num_psns_per_bedroom|sa2_median_tot_hhd_inc_weekly|sa2_average_household_size|\n",
      "+--------+--------------+---------------------------------+-------------------------------+----------------------+-----------------------------+--------------------------------+-----------------------------+--------------------------+\n",
      "|       0|             0|                                0|                              0|                     0|                            0|                               0|                            0|                         0|\n",
      "+--------+--------------+---------------------------------+-------------------------------+----------------------+-----------------------------+--------------------------------+-----------------------------+--------------------------+\n",
      "\n",
      "Checking sa2_pops:\n",
      "+--------+--------+--------+--------+---------------+\n",
      "|sa4_name|sa3_name|sa2_code|sa2_name|population_2021|\n",
      "+--------+--------+--------+--------+---------------+\n",
      "|       0|       0|       0|       0|              0|\n",
      "+--------+--------+--------+--------+---------------+\n",
      "\n",
      "Checking sa2_post:\n",
      "+--------+--------+\n",
      "|postcode|sa2_code|\n",
      "+--------+--------+\n",
      "|     363|       0|\n",
      "+--------+--------+\n",
      "\n"
     ]
    }
   ],
   "source": [
    "print(\"Checking sa2_census:\")\n",
    "count_null_values(sa2_census)\n",
    "\n",
    "print(\"Checking sa2_pops:\")\n",
    "count_null_values(sa2_pops)\n",
    "\n",
    "print(\"Checking sa2_post:\")\n",
    "count_null_values(sa2_post)"
   ]
  },
  {
   "cell_type": "markdown",
   "metadata": {},
   "source": [
    "Checking for missing entries in sa2 data"
   ]
  },
  {
   "cell_type": "code",
   "execution_count": null,
   "metadata": {},
   "outputs": [
    {
     "name": "stdout",
     "output_type": "stream",
     "text": [
      "Checking sa2_census:\n",
      "+--------+--------------+---------------------------------+-------------------------------+----------------------+-----------------------------+--------------------------------+-----------------------------+--------------------------+\n",
      "|sa2_code|sa2_median_age|sa2_median_mortgage_repay_monthly|sa2_median_tot_prsnl_inc_weekly|sa2_median_rent_weekly|sa2_median_tot_fam_inc_weekly|sa2_average_num_psns_per_bedroom|sa2_median_tot_hhd_inc_weekly|sa2_average_household_size|\n",
      "+--------+--------------+---------------------------------+-------------------------------+----------------------+-----------------------------+--------------------------------+-----------------------------+--------------------------+\n",
      "|       0|             0|                                0|                              0|                     0|                            0|                               0|                            0|                         0|\n",
      "+--------+--------------+---------------------------------+-------------------------------+----------------------+-----------------------------+--------------------------------+-----------------------------+--------------------------+\n",
      "\n",
      "Checking sa2_pops:\n",
      "+--------+--------+--------+--------+---------------+\n",
      "|sa4_name|sa3_name|sa2_code|sa2_name|population_2021|\n",
      "+--------+--------+--------+--------+---------------+\n",
      "|       0|       0|       0|       0|              0|\n",
      "+--------+--------+--------+--------+---------------+\n",
      "\n",
      "Checking sa2_post:\n",
      "+--------+--------+\n",
      "|postcode|sa2_code|\n",
      "+--------+--------+\n",
      "|       0|       0|\n",
      "+--------+--------+\n",
      "\n"
     ]
    }
   ],
   "source": [
    "print(\"Checking sa2_census:\")\n",
    "count_missing_data(sa2_census)\n",
    "\n",
    "print(\"Checking sa2_pops:\")\n",
    "count_missing_data(sa2_pops)\n",
    "\n",
    "print(\"Checking sa2_post:\")\n",
    "count_missing_data(sa2_post)"
   ]
  },
  {
   "cell_type": "markdown",
   "metadata": {},
   "source": [
    "There are 363 null postcodes in the sa2_to_postcode dataframe out of the 35,040 rows. There are no missing data entries in any of the initial sa2 datasets."
   ]
  },
  {
   "cell_type": "markdown",
   "metadata": {},
   "source": [
    "# Consumer Data\n",
    "- consumer_fraud_probability.parquet\n",
    "- consumer_tbl.parquet\n",
    "- consumer_user_details.parquet"
   ]
  },
  {
   "cell_type": "code",
   "execution_count": null,
   "metadata": {},
   "outputs": [],
   "source": [
    "# Load in consumer data\n",
    "fp_file_path = '../../../data/nulls&missing_analysis/consumer/consumer_fraud_probability.parquet'\n",
    "cons_file_path = '../../../data/nulls&missing_analysis/consumer/consumer_tbl.parquet'\n",
    "user_det_file_path = '../../../data/nulls&missing_analysis/consumer/consumer_user_details.parquet'\n",
    "\n",
    "cons_fp = spark.read.parquet(fp_file_path)\n",
    "cons_tbl = spark.read.parquet(cons_file_path)\n",
    "cons_user_det =  spark.read.parquet(user_det_file_path)"
   ]
  },
  {
   "cell_type": "markdown",
   "metadata": {},
   "source": [
    "Checking size of dataframes."
   ]
  },
  {
   "cell_type": "code",
   "execution_count": null,
   "metadata": {},
   "outputs": [
    {
     "name": "stdout",
     "output_type": "stream",
     "text": [
      "cons_fp:\n",
      "Number of rows in the DataFrame: 34864\n",
      "cons_tbl:\n",
      "Number of rows in the DataFrame: 499999\n",
      "cons_user_det:\n",
      "Number of rows in the DataFrame: 499999\n"
     ]
    },
    {
     "data": {
      "text/plain": [
       "499999"
      ]
     },
     "execution_count": 11,
     "metadata": {},
     "output_type": "execute_result"
    }
   ],
   "source": [
    "print(\"cons_fp:\")\n",
    "count_rows_and_print(cons_fp)\n",
    "\n",
    "print(\"cons_tbl:\")\n",
    "count_rows_and_print(cons_tbl)\n",
    "\n",
    "print(\"cons_user_det:\")\n",
    "count_rows_and_print(cons_user_det)"
   ]
  },
  {
   "cell_type": "markdown",
   "metadata": {},
   "source": [
    "Checking for null values in the consumer data."
   ]
  },
  {
   "cell_type": "code",
   "execution_count": null,
   "metadata": {},
   "outputs": [
    {
     "name": "stdout",
     "output_type": "stream",
     "text": [
      "Checking cons_tbl:\n"
     ]
    },
    {
     "name": "stdout",
     "output_type": "stream",
     "text": [
      "+-------------+--------------+-----------------+---------------+-----------+\n",
      "|consumer_name|consumer_state|consumer_postcode|consumer_gender|consumer_id|\n",
      "+-------------+--------------+-----------------+---------------+-----------+\n",
      "|            0|             0|                0|              0|          0|\n",
      "+-------------+--------------+-----------------+---------------+-----------+\n",
      "\n",
      "Checking cons_user_det:\n",
      "+-------+-----------+\n",
      "|user_id|consumer_id|\n",
      "+-------+-----------+\n",
      "|      0|          0|\n",
      "+-------+-----------+\n",
      "\n",
      "Checking cons_fp:\n",
      "+-------+--------------+----------------------------+\n",
      "|user_id|order_datetime|consumer_fraud_probability_%|\n",
      "+-------+--------------+----------------------------+\n",
      "|      0|             0|                           0|\n",
      "+-------+--------------+----------------------------+\n",
      "\n"
     ]
    }
   ],
   "source": [
    "print(\"Checking cons_tbl:\")\n",
    "count_null_values(cons_tbl)\n",
    "\n",
    "print(\"Checking cons_user_det:\")\n",
    "count_null_values(cons_user_det)\n",
    "\n",
    "print(\"Checking cons_fp:\")\n",
    "count_null_values(cons_fp)"
   ]
  },
  {
   "cell_type": "markdown",
   "metadata": {},
   "source": [
    "Checking for missing data entries in the consumer data."
   ]
  },
  {
   "cell_type": "code",
   "execution_count": null,
   "metadata": {},
   "outputs": [
    {
     "name": "stdout",
     "output_type": "stream",
     "text": [
      "Checking cons_tbl:\n",
      "+-------------+--------------+-----------------+---------------+-----------+\n",
      "|consumer_name|consumer_state|consumer_postcode|consumer_gender|consumer_id|\n",
      "+-------------+--------------+-----------------+---------------+-----------+\n",
      "|            0|             0|                0|              0|          0|\n",
      "+-------------+--------------+-----------------+---------------+-----------+\n",
      "\n",
      "Checking cons_user_det:\n",
      "+-------+-----------+\n",
      "|user_id|consumer_id|\n",
      "+-------+-----------+\n",
      "|      0|          0|\n",
      "+-------+-----------+\n",
      "\n",
      "Checking cons_fp:\n",
      "+-------+--------------+----------------------------+\n",
      "|user_id|order_datetime|consumer_fraud_probability_%|\n",
      "+-------+--------------+----------------------------+\n",
      "|      0|             0|                           0|\n",
      "+-------+--------------+----------------------------+\n",
      "\n"
     ]
    }
   ],
   "source": [
    "print(\"Checking cons_tbl:\")\n",
    "count_missing_data(cons_tbl)\n",
    "\n",
    "print(\"Checking cons_user_det:\")\n",
    "count_missing_data(cons_user_det)\n",
    "\n",
    "print(\"Checking cons_fp:\")\n",
    "count_missing_data(cons_fp)"
   ]
  },
  {
   "cell_type": "markdown",
   "metadata": {},
   "source": [
    "There are no null values or missing entries in the consumer dataframes."
   ]
  },
  {
   "cell_type": "markdown",
   "metadata": {},
   "source": [
    "# Merchant Data\n",
    "- merchant_fraud_probability.parquet\n",
    "- merchant_tbl.parquet"
   ]
  },
  {
   "cell_type": "code",
   "execution_count": null,
   "metadata": {},
   "outputs": [],
   "source": [
    "# Load in merchant data\n",
    "fp_file_path = '../../../data/nulls&missing_analysis/merchant/merchant_fraud_probability.parquet'\n",
    "merch_file_path = '../../../data/nulls&missing_analysis/merchant/merchant_tbl.parquet'\n",
    "\n",
    "merch_fp = spark.read.parquet(fp_file_path)\n",
    "merch_tbl = spark.read.parquet(merch_file_path)"
   ]
  },
  {
   "cell_type": "markdown",
   "metadata": {},
   "source": [
    "Checking size of dataframes."
   ]
  },
  {
   "cell_type": "code",
   "execution_count": null,
   "metadata": {},
   "outputs": [
    {
     "name": "stdout",
     "output_type": "stream",
     "text": [
      "merch_fp:\n",
      "Number of rows in the DataFrame: 114\n",
      "merch_tbl:\n",
      "Number of rows in the DataFrame: 4026\n"
     ]
    },
    {
     "data": {
      "text/plain": [
       "4026"
      ]
     },
     "execution_count": 15,
     "metadata": {},
     "output_type": "execute_result"
    }
   ],
   "source": [
    "print(\"merch_fp:\")\n",
    "count_rows_and_print(merch_fp)\n",
    "\n",
    "print(\"merch_tbl:\")\n",
    "count_rows_and_print(merch_tbl)"
   ]
  },
  {
   "cell_type": "markdown",
   "metadata": {},
   "source": [
    "Checking for null values in the merchant data"
   ]
  },
  {
   "cell_type": "code",
   "execution_count": null,
   "metadata": {},
   "outputs": [
    {
     "name": "stdout",
     "output_type": "stream",
     "text": [
      "Checking merch_tbl:\n"
     ]
    },
    {
     "name": "stdout",
     "output_type": "stream",
     "text": [
      "+-------------+------------+-----+-------------+-----------+\n",
      "|merchant_name|merchant_abn|words|revenue_level|take_rate_%|\n",
      "+-------------+------------+-----+-------------+-----------+\n",
      "|            0|           0|    0|            0|          0|\n",
      "+-------------+------------+-----+-------------+-----------+\n",
      "\n",
      "Checking merch_fp:\n",
      "+------------+--------------+----------------------------+\n",
      "|merchant_abn|order_datetime|merchant_fraud_probability_%|\n",
      "+------------+--------------+----------------------------+\n",
      "|           0|             0|                           0|\n",
      "+------------+--------------+----------------------------+\n",
      "\n"
     ]
    }
   ],
   "source": [
    "print(\"Checking merch_tbl:\")\n",
    "count_null_values(merch_tbl)\n",
    "\n",
    "print(\"Checking merch_fp:\")\n",
    "count_null_values(merch_fp)"
   ]
  },
  {
   "cell_type": "markdown",
   "metadata": {},
   "source": [
    "Checking for missing entries in the merchant data"
   ]
  },
  {
   "cell_type": "code",
   "execution_count": null,
   "metadata": {},
   "outputs": [
    {
     "name": "stdout",
     "output_type": "stream",
     "text": [
      "Checking cons_tbl:\n",
      "+-------------+------------+-----+-------------+-----------+\n",
      "|merchant_name|merchant_abn|words|revenue_level|take_rate_%|\n",
      "+-------------+------------+-----+-------------+-----------+\n",
      "|            0|           0|    0|            0|          0|\n",
      "+-------------+------------+-----+-------------+-----------+\n",
      "\n",
      "Checking merch_fp:\n",
      "+------------+--------------+----------------------------+\n",
      "|merchant_abn|order_datetime|merchant_fraud_probability_%|\n",
      "+------------+--------------+----------------------------+\n",
      "|           0|             0|                           0|\n",
      "+------------+--------------+----------------------------+\n",
      "\n"
     ]
    }
   ],
   "source": [
    "print(\"Checking cons_tbl:\")\n",
    "count_missing_data(merch_tbl)\n",
    "\n",
    "print(\"Checking merch_fp:\")\n",
    "count_missing_data(merch_fp)"
   ]
  },
  {
   "cell_type": "markdown",
   "metadata": {},
   "source": [
    "There are no null values or missing entries in the merchant dataframes."
   ]
  },
  {
   "cell_type": "markdown",
   "metadata": {},
   "source": [
    "# Transaction Data\n",
    "- transactions_all.parquet"
   ]
  },
  {
   "cell_type": "code",
   "execution_count": null,
   "metadata": {},
   "outputs": [],
   "source": [
    "# Load in transaction data\n",
    "transactions_file_path = '../../../data/nulls&missing_analysis/transaction/transactions_all.parquet'\n",
    "\n",
    "transactions_all = spark.read.parquet(transactions_file_path)"
   ]
  },
  {
   "cell_type": "markdown",
   "metadata": {},
   "source": [
    "Checking size of dataframe"
   ]
  },
  {
   "cell_type": "code",
   "execution_count": null,
   "metadata": {},
   "outputs": [
    {
     "name": "stdout",
     "output_type": "stream",
     "text": [
      "transactions_all:\n",
      "Number of rows in the DataFrame: 14195505\n"
     ]
    },
    {
     "data": {
      "text/plain": [
       "14195505"
      ]
     },
     "execution_count": 19,
     "metadata": {},
     "output_type": "execute_result"
    }
   ],
   "source": [
    "print(\"transactions_all:\")\n",
    "count_rows_and_print(transactions_all)"
   ]
  },
  {
   "cell_type": "markdown",
   "metadata": {},
   "source": [
    "Checking for null values in the transaction data"
   ]
  },
  {
   "cell_type": "code",
   "execution_count": null,
   "metadata": {},
   "outputs": [
    {
     "name": "stdout",
     "output_type": "stream",
     "text": [
      "transactions_all:\n"
     ]
    },
    {
     "name": "stderr",
     "output_type": "stream",
     "text": [
      "                                                                                \r"
     ]
    },
    {
     "name": "stdout",
     "output_type": "stream",
     "text": [
      "+-------+------------+------------+--------+--------------+\n",
      "|user_id|merchant_abn|dollar_value|order_id|order_datetime|\n",
      "+-------+------------+------------+--------+--------------+\n",
      "|      0|           0|           0|       0|             0|\n",
      "+-------+------------+------------+--------+--------------+\n",
      "\n"
     ]
    }
   ],
   "source": [
    "print(\"transactions_all:\")\n",
    "count_null_values(transactions_all)"
   ]
  },
  {
   "cell_type": "markdown",
   "metadata": {},
   "source": [
    "Checking for missing values in the transaction data"
   ]
  },
  {
   "cell_type": "code",
   "execution_count": null,
   "metadata": {},
   "outputs": [
    {
     "name": "stdout",
     "output_type": "stream",
     "text": [
      "transactions_all:\n",
      "+-------+------------+------------+--------+--------------+\n",
      "|user_id|merchant_abn|dollar_value|order_id|order_datetime|\n",
      "+-------+------------+------------+--------+--------------+\n",
      "|      0|           0|           0|       0|             0|\n",
      "+-------+------------+------------+--------+--------------+\n",
      "\n"
     ]
    },
    {
     "name": "stderr",
     "output_type": "stream",
     "text": [
      "                                                                                \r"
     ]
    }
   ],
   "source": [
    "print(\"transactions_all:\")\n",
    "count_missing_data(transactions_all)"
   ]
  },
  {
   "cell_type": "markdown",
   "metadata": {},
   "source": [
    "There are no null values or missing entries in the transaction dataframe."
   ]
  },
  {
   "cell_type": "markdown",
   "metadata": {},
   "source": [
    "# Joining Datasets\n",
    "\n",
    "Joining datasets together, checking for null values after each join and missing data\n",
    "\n",
    "# Join cons_tbl data with cons_user_det"
   ]
  },
  {
   "cell_type": "code",
   "execution_count": null,
   "metadata": {},
   "outputs": [],
   "source": [
    "cons_join = cons_tbl.join(cons_user_det, on='consumer_id', how='inner')"
   ]
  },
  {
   "cell_type": "markdown",
   "metadata": {},
   "source": [
    "Check for null values"
   ]
  },
  {
   "cell_type": "code",
   "execution_count": null,
   "metadata": {},
   "outputs": [
    {
     "name": "stdout",
     "output_type": "stream",
     "text": [
      "Check cons_join for null values:\n",
      "+-----------+-------------+--------------+-----------------+---------------+-------+\n",
      "|consumer_id|consumer_name|consumer_state|consumer_postcode|consumer_gender|user_id|\n",
      "+-----------+-------------+--------------+-----------------+---------------+-------+\n",
      "|          0|            0|             0|                0|              0|      0|\n",
      "+-----------+-------------+--------------+-----------------+---------------+-------+\n",
      "\n"
     ]
    }
   ],
   "source": [
    "print(\"Check cons_join for null values:\")\n",
    "count_null_values(cons_join)"
   ]
  },
  {
   "cell_type": "markdown",
   "metadata": {},
   "source": [
    "Check for missing rows after joining cons_tbl data with cons_user_det"
   ]
  },
  {
   "cell_type": "code",
   "execution_count": null,
   "metadata": {},
   "outputs": [
    {
     "name": "stdout",
     "output_type": "stream",
     "text": [
      "cons_join:\n",
      "Number of rows in the DataFrame: 499999\n"
     ]
    },
    {
     "data": {
      "text/plain": [
       "499999"
      ]
     },
     "execution_count": 24,
     "metadata": {},
     "output_type": "execute_result"
    }
   ],
   "source": [
    "print(\"cons_join:\")\n",
    "count_rows_and_print(cons_join)"
   ]
  },
  {
   "cell_type": "markdown",
   "metadata": {},
   "source": [
    "There are no null values after joining consumer data. \n",
    "Also there are no missing data after the first join. That is the number of rows before the join is 499,999 and then there is still 499,999 rows after the join."
   ]
  },
  {
   "cell_type": "markdown",
   "metadata": {},
   "source": [
    "# Join cons_join with transaction_all"
   ]
  },
  {
   "cell_type": "code",
   "execution_count": null,
   "metadata": {},
   "outputs": [],
   "source": [
    "cons_transaction = cons_join.join(transactions_all, on='user_id', how ='inner')"
   ]
  },
  {
   "cell_type": "markdown",
   "metadata": {},
   "source": [
    "Check for nulls after joining cons_join and transaction_all"
   ]
  },
  {
   "cell_type": "code",
   "execution_count": null,
   "metadata": {},
   "outputs": [
    {
     "name": "stderr",
     "output_type": "stream",
     "text": [
      "[Stage 103:===================================================>   (13 + 1) / 14]\r"
     ]
    },
    {
     "name": "stdout",
     "output_type": "stream",
     "text": [
      "+-------+-----------+-------------+--------------+-----------------+---------------+------------+------------+--------+--------------+\n",
      "|user_id|consumer_id|consumer_name|consumer_state|consumer_postcode|consumer_gender|merchant_abn|dollar_value|order_id|order_datetime|\n",
      "+-------+-----------+-------------+--------------+-----------------+---------------+------------+------------+--------+--------------+\n",
      "|      0|          0|            0|             0|                0|              0|           0|           0|       0|             0|\n",
      "+-------+-----------+-------------+--------------+-----------------+---------------+------------+------------+--------+--------------+\n",
      "\n"
     ]
    },
    {
     "name": "stderr",
     "output_type": "stream",
     "text": [
      "                                                                                \r"
     ]
    }
   ],
   "source": [
    "count_null_values(cons_transaction)"
   ]
  },
  {
   "cell_type": "markdown",
   "metadata": {},
   "source": [
    "Now check for missing rows after joining cons_join and transactions_all."
   ]
  },
  {
   "cell_type": "code",
   "execution_count": null,
   "metadata": {},
   "outputs": [
    {
     "name": "stdout",
     "output_type": "stream",
     "text": [
      "cons_transaction:\n"
     ]
    },
    {
     "name": "stderr",
     "output_type": "stream",
     "text": [
      "                                                                                \r"
     ]
    },
    {
     "name": "stdout",
     "output_type": "stream",
     "text": [
      "Number of rows in the DataFrame: 14195505\n"
     ]
    },
    {
     "data": {
      "text/plain": [
       "14195505"
      ]
     },
     "execution_count": 27,
     "metadata": {},
     "output_type": "execute_result"
    }
   ],
   "source": [
    "print(\"cons_transaction:\")\n",
    "count_rows_and_print(cons_transaction)"
   ]
  },
  {
   "cell_type": "markdown",
   "metadata": {},
   "source": [
    "There are no null values after joining in the transaction data. \n",
    "Also there is no missing data after the first join. That is the number of rows in transaction before the join is 14,195,505 and then there is still 14,195,505 rows after the join."
   ]
  },
  {
   "cell_type": "markdown",
   "metadata": {},
   "source": [
    "# Join cons_transaction with cons_fp"
   ]
  },
  {
   "cell_type": "code",
   "execution_count": null,
   "metadata": {},
   "outputs": [],
   "source": [
    "cons_transaction_with_fraud = cons_transaction.join(cons_fp, on=['user_id', 'order_datetime'], how='left')"
   ]
  },
  {
   "cell_type": "markdown",
   "metadata": {},
   "source": [
    "Check for nulls after joining cons_transaction and cons_fp"
   ]
  },
  {
   "cell_type": "code",
   "execution_count": null,
   "metadata": {},
   "outputs": [
    {
     "name": "stderr",
     "output_type": "stream",
     "text": [
      "[Stage 124:===============================================>       (12 + 2) / 14]\r"
     ]
    },
    {
     "name": "stdout",
     "output_type": "stream",
     "text": [
      "+-------+--------------+-----------+-------------+--------------+-----------------+---------------+------------+------------+--------+----------------------------+\n",
      "|user_id|order_datetime|consumer_id|consumer_name|consumer_state|consumer_postcode|consumer_gender|merchant_abn|dollar_value|order_id|consumer_fraud_probability_%|\n",
      "+-------+--------------+-----------+-------------+--------------+-----------------+---------------+------------+------------+--------+----------------------------+\n",
      "|      0|             0|          0|            0|             0|                0|              0|           0|           0|       0|                    14115157|\n",
      "+-------+--------------+-----------+-------------+--------------+-----------------+---------------+------------+------------+--------+----------------------------+\n",
      "\n"
     ]
    },
    {
     "name": "stderr",
     "output_type": "stream",
     "text": [
      "                                                                                \r"
     ]
    }
   ],
   "source": [
    "count_null_values(cons_transaction_with_fraud)"
   ]
  },
  {
   "cell_type": "markdown",
   "metadata": {},
   "source": [
    "Now check for missing rows after joining cons_transaction and cons_fp."
   ]
  },
  {
   "cell_type": "code",
   "execution_count": null,
   "metadata": {},
   "outputs": [
    {
     "name": "stdout",
     "output_type": "stream",
     "text": [
      "cons_transaction_with_fraud:\n"
     ]
    },
    {
     "name": "stderr",
     "output_type": "stream",
     "text": [
      "                                                                                \r"
     ]
    },
    {
     "name": "stdout",
     "output_type": "stream",
     "text": [
      "Number of rows in the DataFrame: 14195717\n"
     ]
    },
    {
     "data": {
      "text/plain": [
       "14195717"
      ]
     },
     "execution_count": 30,
     "metadata": {},
     "output_type": "execute_result"
    }
   ],
   "source": [
    "print(\"cons_transaction_with_fraud:\")\n",
    "count_rows_and_print(cons_transaction_with_fraud)"
   ]
  },
  {
   "cell_type": "markdown",
   "metadata": {},
   "source": [
    "There is 14,115,157 null values in the consumer fraud probability values out of the 14,195,717 rows.\n",
    "\n",
    "Also there is an increase in the size of the data after this join. The number of rows before the join is 14,195,505 and then there 14,195,717 rows after the join. So 212 rows are gained in this join, most likely as a result of there being multiple matches in the right table for a single row in the left table."
   ]
  },
  {
   "cell_type": "markdown",
   "metadata": {},
   "source": [
    "# Join cons_transaction_with_fraud with merch_tbl"
   ]
  },
  {
   "cell_type": "code",
   "execution_count": null,
   "metadata": {},
   "outputs": [],
   "source": [
    "cons_transaction_fraud_merchant = cons_transaction_with_fraud.join(merch_tbl, on='merchant_abn', how='inner')"
   ]
  },
  {
   "cell_type": "markdown",
   "metadata": {},
   "source": [
    "Check for nulls after joining cons_transaction_with_fraud and merch_tbl"
   ]
  },
  {
   "cell_type": "code",
   "execution_count": null,
   "metadata": {},
   "outputs": [
    {
     "name": "stderr",
     "output_type": "stream",
     "text": [
      "[Stage 147:===================================================>   (13 + 1) / 14]\r"
     ]
    },
    {
     "name": "stdout",
     "output_type": "stream",
     "text": [
      "+------------+-------+--------------+-----------+-------------+--------------+-----------------+---------------+------------+--------+----------------------------+-------------+-----+-------------+-----------+\n",
      "|merchant_abn|user_id|order_datetime|consumer_id|consumer_name|consumer_state|consumer_postcode|consumer_gender|dollar_value|order_id|consumer_fraud_probability_%|merchant_name|words|revenue_level|take_rate_%|\n",
      "+------------+-------+--------------+-----------+-------------+--------------+-----------------+---------------+------------+--------+----------------------------+-------------+-----+-------------+-----------+\n",
      "|           0|      0|             0|          0|            0|             0|                0|              0|           0|       0|                    13543038|            0|    0|            0|          0|\n",
      "+------------+-------+--------------+-----------+-------------+--------------+-----------------+---------------+------------+--------+----------------------------+-------------+-----+-------------+-----------+\n",
      "\n"
     ]
    },
    {
     "name": "stderr",
     "output_type": "stream",
     "text": [
      "                                                                                \r"
     ]
    }
   ],
   "source": [
    "count_null_values(cons_transaction_fraud_merchant)"
   ]
  },
  {
   "cell_type": "markdown",
   "metadata": {},
   "source": [
    "Checking for missing rows after joining cons_transaction_with_fraud and merch_tbl"
   ]
  },
  {
   "cell_type": "code",
   "execution_count": null,
   "metadata": {},
   "outputs": [
    {
     "name": "stdout",
     "output_type": "stream",
     "text": [
      "cons_transaction_fraud_merchant:\n",
      "Number of rows in the DataFrame: 13614854\n"
     ]
    },
    {
     "name": "stderr",
     "output_type": "stream",
     "text": [
      "                                                                                \r"
     ]
    },
    {
     "data": {
      "text/plain": [
       "13614854"
      ]
     },
     "execution_count": 33,
     "metadata": {},
     "output_type": "execute_result"
    }
   ],
   "source": [
    "print(\"cons_transaction_fraud_merchant:\")\n",
    "count_rows_and_print(cons_transaction_fraud_merchant)"
   ]
  },
  {
   "cell_type": "markdown",
   "metadata": {},
   "source": [
    "Still the only column with null values is consumer fraud probabilities with 13,543,038 missing out of 13,614,854 rows.\n",
    "\n",
    "There is a decrease in the size of this data after this join. The number of rows before the join is 14,195,505 whereas after the join there is 13,614,854 rows. This means that there are 580,651 missing rows of data after this join."
   ]
  },
  {
   "cell_type": "markdown",
   "metadata": {},
   "source": [
    "# Join cons_transaction_fraud_merchant with merch_fp"
   ]
  },
  {
   "cell_type": "code",
   "execution_count": null,
   "metadata": {},
   "outputs": [],
   "source": [
    "combined_data_all = cons_transaction_fraud_merchant.join(merch_fp, on=['merchant_abn', 'order_datetime'], how='left')"
   ]
  },
  {
   "cell_type": "markdown",
   "metadata": {},
   "source": [
    "Check for nulls after joining cons_transaction_fraud_merchant and merch_fp"
   ]
  },
  {
   "cell_type": "code",
   "execution_count": null,
   "metadata": {},
   "outputs": [
    {
     "name": "stderr",
     "output_type": "stream",
     "text": [
      "[Stage 172:===================================================>   (13 + 1) / 14]\r"
     ]
    },
    {
     "name": "stdout",
     "output_type": "stream",
     "text": [
      "+------------+--------------+-------+-----------+-------------+--------------+-----------------+---------------+------------+--------+----------------------------+-------------+-----+-------------+-----------+----------------------------+\n",
      "|merchant_abn|order_datetime|user_id|consumer_id|consumer_name|consumer_state|consumer_postcode|consumer_gender|dollar_value|order_id|consumer_fraud_probability_%|merchant_name|words|revenue_level|take_rate_%|merchant_fraud_probability_%|\n",
      "+------------+--------------+-------+-----------+-------------+--------------+-----------------+---------------+------------+--------+----------------------------+-------------+-----+-------------+-----------+----------------------------+\n",
      "|           0|             0|      0|          0|            0|             0|                0|              0|           0|       0|                    13543038|            0|    0|            0|          0|                    13610826|\n",
      "+------------+--------------+-------+-----------+-------------+--------------+-----------------+---------------+------------+--------+----------------------------+-------------+-----+-------------+-----------+----------------------------+\n",
      "\n"
     ]
    },
    {
     "name": "stderr",
     "output_type": "stream",
     "text": [
      "                                                                                \r"
     ]
    }
   ],
   "source": [
    "count_null_values(combined_data_all)"
   ]
  },
  {
   "cell_type": "markdown",
   "metadata": {},
   "source": [
    "Checking for missing rows after joining cons_transaction_fraud_merchant and merch_fp"
   ]
  },
  {
   "cell_type": "code",
   "execution_count": null,
   "metadata": {},
   "outputs": [
    {
     "name": "stdout",
     "output_type": "stream",
     "text": [
      "combined_data_all:\n",
      "Number of rows in the DataFrame: 13614854\n"
     ]
    },
    {
     "name": "stderr",
     "output_type": "stream",
     "text": [
      "                                                                                \r"
     ]
    },
    {
     "data": {
      "text/plain": [
       "13614854"
      ]
     },
     "execution_count": 36,
     "metadata": {},
     "output_type": "execute_result"
    }
   ],
   "source": [
    "print(\"combined_data_all:\")\n",
    "count_rows_and_print(combined_data_all)"
   ]
  },
  {
   "cell_type": "markdown",
   "metadata": {},
   "source": [
    "After joining the merchant fraud probability, there are 2 columns that have null values. These are consumer_fraud_probability_% and merchant_fraud_probability_%. consumer_fraud_probability_% has 13,543,038 null values and merchant_fraud_probability_% has 13,610,826 null values.\n",
    "\n",
    "There is also no change in the size of this data after this join. The number of rows before the join is 13,614,854 and remains the same after the join."
   ]
  },
  {
   "cell_type": "markdown",
   "metadata": {},
   "source": [
    "# Joining SA2/Census Data"
   ]
  },
  {
   "cell_type": "markdown",
   "metadata": {},
   "source": [
    "# Join the sa2_to_post to sa2_pops"
   ]
  },
  {
   "cell_type": "code",
   "execution_count": null,
   "metadata": {},
   "outputs": [],
   "source": [
    "sa2_postcode_and_pops = sa2_post.join(sa2_pops, on='sa2_code', how='inner').withColumnRenamed('population_2021','sa2_population')"
   ]
  },
  {
   "cell_type": "markdown",
   "metadata": {},
   "source": [
    "Check for nulls after joining sa2_post and sa2_pops"
   ]
  },
  {
   "cell_type": "code",
   "execution_count": null,
   "metadata": {},
   "outputs": [
    {
     "name": "stdout",
     "output_type": "stream",
     "text": [
      "+--------+--------+--------+--------+--------+--------------+\n",
      "|sa2_code|postcode|sa4_name|sa3_name|sa2_name|sa2_population|\n",
      "+--------+--------+--------+--------+--------+--------------+\n",
      "|       0|     363|       0|       0|       0|             0|\n",
      "+--------+--------+--------+--------+--------+--------------+\n",
      "\n"
     ]
    }
   ],
   "source": [
    "count_null_values(sa2_postcode_and_pops)"
   ]
  },
  {
   "cell_type": "markdown",
   "metadata": {},
   "source": [
    "Checking for missing rows after joining sa2_post and sa2_pops"
   ]
  },
  {
   "cell_type": "code",
   "execution_count": null,
   "metadata": {},
   "outputs": [
    {
     "name": "stdout",
     "output_type": "stream",
     "text": [
      "sa2_postcode_and_pops:\n"
     ]
    },
    {
     "name": "stdout",
     "output_type": "stream",
     "text": [
      "Number of rows in the DataFrame: 35040\n"
     ]
    },
    {
     "data": {
      "text/plain": [
       "35040"
      ]
     },
     "execution_count": 39,
     "metadata": {},
     "output_type": "execute_result"
    }
   ],
   "source": [
    "print(\"sa2_postcode_and_pops:\")\n",
    "count_rows_and_print(sa2_postcode_and_pops)"
   ]
  },
  {
   "cell_type": "markdown",
   "metadata": {},
   "source": [
    "There are no null values from this join. Also no rows are missing, with 35,040 rows still remaining after the join"
   ]
  },
  {
   "cell_type": "markdown",
   "metadata": {},
   "source": [
    "# Join the sa2_postcode_and_pops with sa2_census"
   ]
  },
  {
   "cell_type": "code",
   "execution_count": null,
   "metadata": {},
   "outputs": [],
   "source": [
    "# Join the SA2 data\n",
    "sa2_combined = sa2_postcode_and_pops.join(sa2_census, on='sa2_code', how='inner')"
   ]
  },
  {
   "cell_type": "markdown",
   "metadata": {},
   "source": [
    "Check for nulls after joining sa2_postcode_and_pops and sa2_census"
   ]
  },
  {
   "cell_type": "code",
   "execution_count": null,
   "metadata": {},
   "outputs": [
    {
     "name": "stdout",
     "output_type": "stream",
     "text": [
      "+--------+--------+--------+--------+--------+--------------+--------------+---------------------------------+-------------------------------+----------------------+-----------------------------+--------------------------------+-----------------------------+--------------------------+\n",
      "|sa2_code|postcode|sa4_name|sa3_name|sa2_name|sa2_population|sa2_median_age|sa2_median_mortgage_repay_monthly|sa2_median_tot_prsnl_inc_weekly|sa2_median_rent_weekly|sa2_median_tot_fam_inc_weekly|sa2_average_num_psns_per_bedroom|sa2_median_tot_hhd_inc_weekly|sa2_average_household_size|\n",
      "+--------+--------+--------+--------+--------+--------------+--------------+---------------------------------+-------------------------------+----------------------+-----------------------------+--------------------------------+-----------------------------+--------------------------+\n",
      "|       0|     363|       0|       0|       0|             0|             0|                                0|                              0|                     0|                            0|                               0|                            0|                         0|\n",
      "+--------+--------+--------+--------+--------+--------------+--------------+---------------------------------+-------------------------------+----------------------+-----------------------------+--------------------------------+-----------------------------+--------------------------+\n",
      "\n"
     ]
    }
   ],
   "source": [
    "count_null_values(sa2_combined)"
   ]
  },
  {
   "cell_type": "markdown",
   "metadata": {},
   "source": [
    "Checking for missing rows after sa2_postcode_and_pops and sa2_census"
   ]
  },
  {
   "cell_type": "code",
   "execution_count": null,
   "metadata": {},
   "outputs": [
    {
     "name": "stdout",
     "output_type": "stream",
     "text": [
      "sa2_combined:\n",
      "Number of rows in the DataFrame: 35040\n"
     ]
    },
    {
     "data": {
      "text/plain": [
       "35040"
      ]
     },
     "execution_count": 42,
     "metadata": {},
     "output_type": "execute_result"
    }
   ],
   "source": [
    "print(\"sa2_combined:\")\n",
    "count_rows_and_print(sa2_combined)"
   ]
  },
  {
   "cell_type": "markdown",
   "metadata": {},
   "source": [
    "There are still the null values present from the other previous search (363 postcode values are null). \n",
    "\n",
    "Also after the joining, there are still 35,040 rows in the dataframe. No rows have been lost joining the data together."
   ]
  },
  {
   "cell_type": "markdown",
   "metadata": {},
   "source": [
    "# Now to join all tables together\n",
    "First group together SA2 stats (copied from the ETL)"
   ]
  },
  {
   "cell_type": "code",
   "execution_count": null,
   "metadata": {},
   "outputs": [],
   "source": [
    "# Group SA2 statistics by postcodes by taking averages and medians\n",
    "postcode_combined = sa2_combined.groupBy(\"postcode\") \\\n",
    "    .agg(F.avg(\"sa2_population\").alias(\"consumer_postcode_estimated_population\"), \\\n",
    "        F.median(\"sa2_median_age\").alias(\"consumer_postcode_median_age\"), \\\n",
    "        F.median(\"sa2_median_mortgage_repay_monthly\").alias(\"consumer_postcode_median_mortgage_repay_monthly\"), \\\n",
    "        F.median(\"sa2_median_tot_prsnl_inc_weekly\").alias(\"consumer_postcode_median_totl_prsnal_inc_weekly\"), \\\n",
    "        F.median(\"sa2_median_rent_weekly\").alias(\"consumer_postcode_median_rent_weekly\"), \\\n",
    "        F.median(\"sa2_median_tot_fam_inc_weekly\").alias(\"consumer_postcode_median_tot_fam_inc_weekly\"), \\\n",
    "        F.avg(\"sa2_average_num_psns_per_bedroom\").alias(\"consumer_postcode_avg_num_psns_per_bedroom\"), \\\n",
    "        F.median(\"sa2_median_tot_hhd_inc_weekly\").alias(\"consumer_postcode_median_tot_hhd_inc_weekly\"), \\\n",
    "        F.avg(\"sa2_average_household_size\").alias(\"consumer_postcode_avg_household_size\")\n",
    "    ).withColumnRenamed('postcode', 'consumer_postcode')\n",
    "\n",
    "\n",
    "postcode_combined = postcode_combined.select(*[F.round(c, 2).alias(c) for c in postcode_combined.columns])\n",
    "\n",
    "postcode_combined = postcode_combined.withColumn(\"consumer_postcode_estimated_population\", F.round(F.col(\"consumer_postcode_estimated_population\")))"
   ]
  },
  {
   "cell_type": "markdown",
   "metadata": {},
   "source": [
    "Now combine with rest of data"
   ]
  },
  {
   "cell_type": "code",
   "execution_count": null,
   "metadata": {},
   "outputs": [],
   "source": [
    "# Combine everything together\n",
    "all_combined = combined_data_all.join(postcode_combined.withColumnRenamed('postcode','consumer_postcode'), on='consumer_postcode', how='inner')"
   ]
  },
  {
   "cell_type": "markdown",
   "metadata": {},
   "source": [
    "Checking for null values after joining all data"
   ]
  },
  {
   "cell_type": "code",
   "execution_count": null,
   "metadata": {},
   "outputs": [
    {
     "name": "stderr",
     "output_type": "stream",
     "text": [
      "[Stage 225:===================================================>   (13 + 1) / 14]\r"
     ]
    },
    {
     "name": "stdout",
     "output_type": "stream",
     "text": [
      "+-----------------+------------+--------------+-------+-----------+-------------+--------------+---------------+------------+--------+----------------------------+-------------+-----+-------------+-----------+----------------------------+--------------------------------------+----------------------------+-----------------------------------------------+-----------------------------------------------+------------------------------------+-------------------------------------------+------------------------------------------+-------------------------------------------+------------------------------------+\n",
      "|consumer_postcode|merchant_abn|order_datetime|user_id|consumer_id|consumer_name|consumer_state|consumer_gender|dollar_value|order_id|consumer_fraud_probability_%|merchant_name|words|revenue_level|take_rate_%|merchant_fraud_probability_%|consumer_postcode_estimated_population|consumer_postcode_median_age|consumer_postcode_median_mortgage_repay_monthly|consumer_postcode_median_totl_prsnal_inc_weekly|consumer_postcode_median_rent_weekly|consumer_postcode_median_tot_fam_inc_weekly|consumer_postcode_avg_num_psns_per_bedroom|consumer_postcode_median_tot_hhd_inc_weekly|consumer_postcode_avg_household_size|\n",
      "+-----------------+------------+--------------+-------+-----------+-------------+--------------+---------------+------------+--------+----------------------------+-------------+-----+-------------+-----------+----------------------------+--------------------------------------+----------------------------+-----------------------------------------------+-----------------------------------------------+------------------------------------+-------------------------------------------+------------------------------------------+-------------------------------------------+------------------------------------+\n",
      "|                0|           0|             0|      0|          0|            0|             0|              0|           0|       0|                    11312983|            0|    0|            0|          0|                    11369563|                                     0|                           0|                                              0|                                              0|                                   0|                                          0|                                         0|                                          0|                                   0|\n",
      "+-----------------+------------+--------------+-------+-----------+-------------+--------------+---------------+------------+--------+----------------------------+-------------+-----+-------------+-----------+----------------------------+--------------------------------------+----------------------------+-----------------------------------------------+-----------------------------------------------+------------------------------------+-------------------------------------------+------------------------------------------+-------------------------------------------+------------------------------------+\n",
      "\n"
     ]
    },
    {
     "name": "stderr",
     "output_type": "stream",
     "text": [
      "                                                                                \r"
     ]
    }
   ],
   "source": [
    "count_null_values(all_combined)"
   ]
  },
  {
   "cell_type": "markdown",
   "metadata": {},
   "source": [
    "Checking for missing rows after joining all data"
   ]
  },
  {
   "cell_type": "code",
   "execution_count": null,
   "metadata": {},
   "outputs": [
    {
     "name": "stdout",
     "output_type": "stream",
     "text": [
      "all_combined:\n"
     ]
    },
    {
     "name": "stderr",
     "output_type": "stream",
     "text": [
      "[Stage 244:>                                                      (0 + 12) / 13]\r"
     ]
    },
    {
     "name": "stdout",
     "output_type": "stream",
     "text": [
      "Number of rows in the DataFrame: 11372905\n"
     ]
    },
    {
     "name": "stderr",
     "output_type": "stream",
     "text": [
      "                                                                                \r"
     ]
    },
    {
     "data": {
      "text/plain": [
       "11372905"
      ]
     },
     "execution_count": 46,
     "metadata": {},
     "output_type": "execute_result"
    }
   ],
   "source": [
    "print(\"all_combined:\")\n",
    "count_rows_and_print(all_combined)"
   ]
  },
  {
   "cell_type": "markdown",
   "metadata": {},
   "source": [
    "No new columns with null values. Still consumer_fraud_probability_% and merchant_fraud_probability_%. consumer_fraud_probability_% has 11,312,983 nulls and merchant_fraud_probability_% has 11,369,563 null values.\n",
    "\n",
    "There is a decrease in the size of this data after this join. The number of rows before the join is 13,614,854 whereas after the join there is 11,372,905 rows. This means that there are 2,241,949 missing rows of data after this join."
   ]
  },
  {
   "cell_type": "markdown",
   "metadata": {},
   "source": [
    "Investigate why data is discarded on join with SA2 data"
   ]
  },
  {
   "cell_type": "code",
   "execution_count": null,
   "metadata": {},
   "outputs": [
    {
     "name": "stderr",
     "output_type": "stream",
     "text": [
      "                                                                                \r"
     ]
    },
    {
     "data": {
      "text/plain": [
       "[Row(consumer_postcode=3800),\n",
       " Row(consumer_postcode=1224),\n",
       " Row(consumer_postcode=1010),\n",
       " Row(consumer_postcode=1360),\n",
       " Row(consumer_postcode=6892),\n",
       " Row(consumer_postcode=1145),\n",
       " Row(consumer_postcode=1127),\n",
       " Row(consumer_postcode=1202),\n",
       " Row(consumer_postcode=4072),\n",
       " Row(consumer_postcode=6905),\n",
       " Row(consumer_postcode=1175),\n",
       " Row(consumer_postcode=2520),\n",
       " Row(consumer_postcode=6911),\n",
       " Row(consumer_postcode=1217),\n",
       " Row(consumer_postcode=6917),\n",
       " Row(consumer_postcode=6922),\n",
       " Row(consumer_postcode=1480),\n",
       " Row(consumer_postcode=1042),\n",
       " Row(consumer_postcode=831),\n",
       " Row(consumer_postcode=1740),\n",
       " Row(consumer_postcode=6809),\n",
       " Row(consumer_postcode=1211),\n",
       " Row(consumer_postcode=1640),\n",
       " Row(consumer_postcode=6933),\n",
       " Row(consumer_postcode=1157),\n",
       " Row(consumer_postcode=1428),\n",
       " Row(consumer_postcode=1152),\n",
       " Row(consumer_postcode=6985),\n",
       " Row(consumer_postcode=6921),\n",
       " Row(consumer_postcode=6956),\n",
       " Row(consumer_postcode=1041),\n",
       " Row(consumer_postcode=1427),\n",
       " Row(consumer_postcode=2309),\n",
       " Row(consumer_postcode=1460),\n",
       " Row(consumer_postcode=8102),\n",
       " Row(consumer_postcode=6912),\n",
       " Row(consumer_postcode=6331),\n",
       " Row(consumer_postcode=1445),\n",
       " Row(consumer_postcode=1199),\n",
       " Row(consumer_postcode=2314),\n",
       " Row(consumer_postcode=1730),\n",
       " Row(consumer_postcode=6909),\n",
       " Row(consumer_postcode=3399),\n",
       " Row(consumer_postcode=6957),\n",
       " Row(consumer_postcode=3689),\n",
       " Row(consumer_postcode=6231),\n",
       " Row(consumer_postcode=1038),\n",
       " Row(consumer_postcode=1174),\n",
       " Row(consumer_postcode=6761),\n",
       " Row(consumer_postcode=5005),\n",
       " Row(consumer_postcode=1110),\n",
       " Row(consumer_postcode=3552),\n",
       " Row(consumer_postcode=1210),\n",
       " Row(consumer_postcode=1119),\n",
       " Row(consumer_postcode=3671),\n",
       " Row(consumer_postcode=6915),\n",
       " Row(consumer_postcode=1485),\n",
       " Row(consumer_postcode=1212),\n",
       " Row(consumer_postcode=1185),\n",
       " Row(consumer_postcode=6830),\n",
       " Row(consumer_postcode=9000),\n",
       " Row(consumer_postcode=1002),\n",
       " Row(consumer_postcode=1213),\n",
       " Row(consumer_postcode=9464),\n",
       " Row(consumer_postcode=4229),\n",
       " Row(consumer_postcode=1710),\n",
       " Row(consumer_postcode=6731),\n",
       " Row(consumer_postcode=3841),\n",
       " Row(consumer_postcode=909),\n",
       " Row(consumer_postcode=1025),\n",
       " Row(consumer_postcode=1219),\n",
       " Row(consumer_postcode=1240),\n",
       " Row(consumer_postcode=1771),\n",
       " Row(consumer_postcode=1108),\n",
       " Row(consumer_postcode=1128),\n",
       " Row(consumer_postcode=1134),\n",
       " Row(consumer_postcode=2012),\n",
       " Row(consumer_postcode=6969),\n",
       " Row(consumer_postcode=1233),\n",
       " Row(consumer_postcode=3853),\n",
       " Row(consumer_postcode=1811),\n",
       " Row(consumer_postcode=1440),\n",
       " Row(consumer_postcode=6839),\n",
       " Row(consumer_postcode=3989),\n",
       " Row(consumer_postcode=1420),\n",
       " Row(consumer_postcode=8205),\n",
       " Row(consumer_postcode=9007),\n",
       " Row(consumer_postcode=1297),\n",
       " Row(consumer_postcode=6843),\n",
       " Row(consumer_postcode=8111),\n",
       " Row(consumer_postcode=1141),\n",
       " Row(consumer_postcode=5942),\n",
       " Row(consumer_postcode=6983),\n",
       " Row(consumer_postcode=6733),\n",
       " Row(consumer_postcode=3353),\n",
       " Row(consumer_postcode=6332),\n",
       " Row(consumer_postcode=1639),\n",
       " Row(consumer_postcode=9015),\n",
       " Row(consumer_postcode=1891),\n",
       " Row(consumer_postcode=3050),\n",
       " Row(consumer_postcode=7051),\n",
       " Row(consumer_postcode=2348),\n",
       " Row(consumer_postcode=1602),\n",
       " Row(consumer_postcode=7002),\n",
       " Row(consumer_postcode=1299),\n",
       " Row(consumer_postcode=814),\n",
       " Row(consumer_postcode=2708),\n",
       " Row(consumer_postcode=1805),\n",
       " Row(consumer_postcode=1021),\n",
       " Row(consumer_postcode=8002),\n",
       " Row(consumer_postcode=2059),\n",
       " Row(consumer_postcode=6918),\n",
       " Row(consumer_postcode=6925),\n",
       " Row(consumer_postcode=8010),\n",
       " Row(consumer_postcode=1135),\n",
       " Row(consumer_postcode=1149),\n",
       " Row(consumer_postcode=6931),\n",
       " Row(consumer_postcode=9013),\n",
       " Row(consumer_postcode=1441),\n",
       " Row(consumer_postcode=1238),\n",
       " Row(consumer_postcode=8004),\n",
       " Row(consumer_postcode=2522),\n",
       " Row(consumer_postcode=1831),\n",
       " Row(consumer_postcode=6990),\n",
       " Row(consumer_postcode=1191),\n",
       " Row(consumer_postcode=1429),\n",
       " Row(consumer_postcode=6837),\n",
       " Row(consumer_postcode=6838),\n",
       " Row(consumer_postcode=2616),\n",
       " Row(consumer_postcode=3554),\n",
       " Row(consumer_postcode=3005),\n",
       " Row(consumer_postcode=1124),\n",
       " Row(consumer_postcode=1150),\n",
       " Row(consumer_postcode=8001),\n",
       " Row(consumer_postcode=1675),\n",
       " Row(consumer_postcode=1476),\n",
       " Row(consumer_postcode=6937),\n",
       " Row(consumer_postcode=1570),\n",
       " Row(consumer_postcode=4801),\n",
       " Row(consumer_postcode=6939),\n",
       " Row(consumer_postcode=1164),\n",
       " Row(consumer_postcode=3502),\n",
       " Row(consumer_postcode=8011),\n",
       " Row(consumer_postcode=1426),\n",
       " Row(consumer_postcode=7001),\n",
       " Row(consumer_postcode=1800),\n",
       " Row(consumer_postcode=1046),\n",
       " Row(consumer_postcode=1236),\n",
       " Row(consumer_postcode=6942),\n",
       " Row(consumer_postcode=861),\n",
       " Row(consumer_postcode=1484),\n",
       " Row(consumer_postcode=1116),\n",
       " Row(consumer_postcode=2755),\n",
       " Row(consumer_postcode=1190),\n",
       " Row(consumer_postcode=6846),\n",
       " Row(consumer_postcode=1196),\n",
       " Row(consumer_postcode=1781),\n",
       " Row(consumer_postcode=1888),\n",
       " Row(consumer_postcode=1009),\n",
       " Row(consumer_postcode=6965),\n",
       " Row(consumer_postcode=1121),\n",
       " Row(consumer_postcode=1230),\n",
       " Row(consumer_postcode=907),\n",
       " Row(consumer_postcode=1114),\n",
       " Row(consumer_postcode=6961),\n",
       " Row(consumer_postcode=1595),\n",
       " Row(consumer_postcode=4857),\n",
       " Row(consumer_postcode=6842),\n",
       " Row(consumer_postcode=813),\n",
       " Row(consumer_postcode=1100),\n",
       " Row(consumer_postcode=6963),\n",
       " Row(consumer_postcode=3619),\n",
       " Row(consumer_postcode=1425),\n",
       " Row(consumer_postcode=1597),\n",
       " Row(consumer_postcode=1700),\n",
       " Row(consumer_postcode=6964),\n",
       " Row(consumer_postcode=6966),\n",
       " Row(consumer_postcode=1875),\n",
       " Row(consumer_postcode=1040),\n",
       " Row(consumer_postcode=8120),\n",
       " Row(consumer_postcode=8069),\n",
       " Row(consumer_postcode=1118),\n",
       " Row(consumer_postcode=1741),\n",
       " Row(consumer_postcode=6951),\n",
       " Row(consumer_postcode=1218),\n",
       " Row(consumer_postcode=1163),\n",
       " Row(consumer_postcode=1136),\n",
       " Row(consumer_postcode=3632),\n",
       " Row(consumer_postcode=1132),\n",
       " Row(consumer_postcode=1685),\n",
       " Row(consumer_postcode=1130),\n",
       " Row(consumer_postcode=2610),\n",
       " Row(consumer_postcode=1790),\n",
       " Row(consumer_postcode=1115),\n",
       " Row(consumer_postcode=1560),\n",
       " Row(consumer_postcode=1126),\n",
       " Row(consumer_postcode=6827),\n",
       " Row(consumer_postcode=1232),\n",
       " Row(consumer_postcode=1151),\n",
       " Row(consumer_postcode=6820),\n",
       " Row(consumer_postcode=1493),\n",
       " Row(consumer_postcode=6936),\n",
       " Row(consumer_postcode=6960),\n",
       " Row(consumer_postcode=1208),\n",
       " Row(consumer_postcode=3643),\n",
       " Row(consumer_postcode=1475),\n",
       " Row(consumer_postcode=9009),\n",
       " Row(consumer_postcode=1037),\n",
       " Row(consumer_postcode=6803),\n",
       " Row(consumer_postcode=2891),\n",
       " Row(consumer_postcode=8008),\n",
       " Row(consumer_postcode=1045),\n",
       " Row(consumer_postcode=8107),\n",
       " Row(consumer_postcode=6952),\n",
       " Row(consumer_postcode=871),\n",
       " Row(consumer_postcode=6938),\n",
       " Row(consumer_postcode=4029),\n",
       " Row(consumer_postcode=6840),\n",
       " Row(consumer_postcode=6913),\n",
       " Row(consumer_postcode=1239),\n",
       " Row(consumer_postcode=1112),\n",
       " Row(consumer_postcode=815),\n",
       " Row(consumer_postcode=1228),\n",
       " Row(consumer_postcode=5001),\n",
       " Row(consumer_postcode=8003),\n",
       " Row(consumer_postcode=1231),\n",
       " Row(consumer_postcode=9002),\n",
       " Row(consumer_postcode=1435),\n",
       " Row(consumer_postcode=6841),\n",
       " Row(consumer_postcode=4271),\n",
       " Row(consumer_postcode=2006),\n",
       " Row(consumer_postcode=1222),\n",
       " Row(consumer_postcode=1424),\n",
       " Row(consumer_postcode=1237),\n",
       " Row(consumer_postcode=1023),\n",
       " Row(consumer_postcode=6981),\n",
       " Row(consumer_postcode=1314),\n",
       " Row(consumer_postcode=1295),\n",
       " Row(consumer_postcode=1187),\n",
       " Row(consumer_postcode=2608),\n",
       " Row(consumer_postcode=1172),\n",
       " Row(consumer_postcode=1765),\n",
       " Row(consumer_postcode=2124),\n",
       " Row(consumer_postcode=1137),\n",
       " Row(consumer_postcode=6980),\n",
       " Row(consumer_postcode=804),\n",
       " Row(consumer_postcode=6848),\n",
       " Row(consumer_postcode=6943),\n",
       " Row(consumer_postcode=1007),\n",
       " Row(consumer_postcode=9999),\n",
       " Row(consumer_postcode=6914),\n",
       " Row(consumer_postcode=1117),\n",
       " Row(consumer_postcode=2052),\n",
       " Row(consumer_postcode=1885),\n",
       " Row(consumer_postcode=2013),\n",
       " Row(consumer_postcode=1155),\n",
       " Row(consumer_postcode=8785),\n",
       " Row(consumer_postcode=8012),\n",
       " Row(consumer_postcode=1207),\n",
       " Row(consumer_postcode=1005),\n",
       " Row(consumer_postcode=1192),\n",
       " Row(consumer_postcode=1153),\n",
       " Row(consumer_postcode=1146),\n",
       " Row(consumer_postcode=1122),\n",
       " Row(consumer_postcode=1107),\n",
       " Row(consumer_postcode=9001),\n",
       " Row(consumer_postcode=3724),\n",
       " Row(consumer_postcode=1340),\n",
       " Row(consumer_postcode=6989),\n",
       " Row(consumer_postcode=6940),\n",
       " Row(consumer_postcode=1890),\n",
       " Row(consumer_postcode=1227),\n",
       " Row(consumer_postcode=6900),\n",
       " Row(consumer_postcode=2310),\n",
       " Row(consumer_postcode=6932),\n",
       " Row(consumer_postcode=6997),\n",
       " Row(consumer_postcode=1465),\n",
       " Row(consumer_postcode=2004),\n",
       " Row(consumer_postcode=4471),\n",
       " Row(consumer_postcode=3010),\n",
       " Row(consumer_postcode=8071),\n",
       " Row(consumer_postcode=7151),\n",
       " Row(consumer_postcode=6865),\n",
       " Row(consumer_postcode=2351),\n",
       " Row(consumer_postcode=1430),\n",
       " Row(consumer_postcode=1189),\n",
       " Row(consumer_postcode=200),\n",
       " Row(consumer_postcode=1044),\n",
       " Row(consumer_postcode=1466),\n",
       " Row(consumer_postcode=6800),\n",
       " Row(consumer_postcode=1296),\n",
       " Row(consumer_postcode=1201),\n",
       " Row(consumer_postcode=6945),\n",
       " Row(consumer_postcode=2002),\n",
       " Row(consumer_postcode=3086),\n",
       " Row(consumer_postcode=8009),\n",
       " Row(consumer_postcode=1143),\n",
       " Row(consumer_postcode=1585),\n",
       " Row(consumer_postcode=1355),\n",
       " Row(consumer_postcode=1225),\n",
       " Row(consumer_postcode=1120),\n",
       " Row(consumer_postcode=4475),\n",
       " Row(consumer_postcode=1113),\n",
       " Row(consumer_postcode=6955),\n",
       " Row(consumer_postcode=1655),\n",
       " Row(consumer_postcode=1166),\n",
       " Row(consumer_postcode=1186),\n",
       " Row(consumer_postcode=1154),\n",
       " Row(consumer_postcode=1481),\n",
       " Row(consumer_postcode=8045),\n",
       " Row(consumer_postcode=906),\n",
       " Row(consumer_postcode=6910),\n",
       " Row(consumer_postcode=1423),\n",
       " Row(consumer_postcode=4813),\n",
       " Row(consumer_postcode=4002),\n",
       " Row(consumer_postcode=1291),\n",
       " Row(consumer_postcode=1125),\n",
       " Row(consumer_postcode=1035),\n",
       " Row(consumer_postcode=1034),\n",
       " Row(consumer_postcode=1138),\n",
       " Row(consumer_postcode=1209),\n",
       " Row(consumer_postcode=2129),\n",
       " Row(consumer_postcode=1167),\n",
       " Row(consumer_postcode=1001),\n",
       " Row(consumer_postcode=801),\n",
       " Row(consumer_postcode=2058),\n",
       " Row(consumer_postcode=1419),\n",
       " Row(consumer_postcode=6904),\n",
       " Row(consumer_postcode=6958),\n",
       " Row(consumer_postcode=1490),\n",
       " Row(consumer_postcode=1171),\n",
       " Row(consumer_postcode=1235),\n",
       " Row(consumer_postcode=1179),\n",
       " Row(consumer_postcode=2442),\n",
       " Row(consumer_postcode=1715),\n",
       " Row(consumer_postcode=1335),\n",
       " Row(consumer_postcode=1161),\n",
       " Row(consumer_postcode=6941),\n",
       " Row(consumer_postcode=1031),\n",
       " Row(consumer_postcode=6531),\n",
       " Row(consumer_postcode=6986),\n",
       " Row(consumer_postcode=1292),\n",
       " Row(consumer_postcode=1234),\n",
       " Row(consumer_postcode=1198),\n",
       " Row(consumer_postcode=6920),\n",
       " Row(consumer_postcode=1515),\n",
       " Row(consumer_postcode=821),\n",
       " Row(consumer_postcode=1350),\n",
       " Row(consumer_postcode=1194),\n",
       " Row(consumer_postcode=1590),\n",
       " Row(consumer_postcode=4222),\n",
       " Row(consumer_postcode=1027),\n",
       " Row(consumer_postcode=1635),\n",
       " Row(consumer_postcode=1565),\n",
       " Row(consumer_postcode=1825),\n",
       " Row(consumer_postcode=6901),\n",
       " Row(consumer_postcode=6979),\n",
       " Row(consumer_postcode=1182),\n",
       " Row(consumer_postcode=6959),\n",
       " Row(consumer_postcode=1203),\n",
       " Row(consumer_postcode=1658),\n",
       " Row(consumer_postcode=6844),\n",
       " Row(consumer_postcode=1670),\n",
       " Row(consumer_postcode=1188),\n",
       " Row(consumer_postcode=6982),\n",
       " Row(consumer_postcode=6832),\n",
       " Row(consumer_postcode=1221),\n",
       " Row(consumer_postcode=6987),\n",
       " Row(consumer_postcode=3164),\n",
       " Row(consumer_postcode=5071),\n",
       " Row(consumer_postcode=1160),\n",
       " Row(consumer_postcode=1455),\n",
       " Row(consumer_postcode=9010),\n",
       " Row(consumer_postcode=2252),\n",
       " Row(consumer_postcode=6850),\n",
       " Row(consumer_postcode=1173),\n",
       " Row(consumer_postcode=1101),\n",
       " Row(consumer_postcode=4001),\n",
       " Row(consumer_postcode=6435),\n",
       " Row(consumer_postcode=5810),\n",
       " Row(consumer_postcode=1020),\n",
       " Row(consumer_postcode=4803),\n",
       " Row(consumer_postcode=1830),\n",
       " Row(consumer_postcode=2139),\n",
       " Row(consumer_postcode=3402),\n",
       " Row(consumer_postcode=1129),\n",
       " Row(consumer_postcode=6845),\n",
       " Row(consumer_postcode=2109),\n",
       " Row(consumer_postcode=1300),\n",
       " Row(consumer_postcode=6903),\n",
       " Row(consumer_postcode=1499),\n",
       " Row(consumer_postcode=1156),\n",
       " Row(consumer_postcode=1036),\n",
       " Row(consumer_postcode=6967),\n",
       " Row(consumer_postcode=6953),\n",
       " Row(consumer_postcode=6984),\n",
       " Row(consumer_postcode=1750),\n",
       " Row(consumer_postcode=1148),\n",
       " Row(consumer_postcode=1123),\n",
       " Row(consumer_postcode=7006),\n",
       " Row(consumer_postcode=4230),\n",
       " Row(consumer_postcode=3001),\n",
       " Row(consumer_postcode=3676),\n",
       " Row(consumer_postcode=1162),\n",
       " Row(consumer_postcode=6934),\n",
       " Row(consumer_postcode=1197),\n",
       " Row(consumer_postcode=1170),\n",
       " Row(consumer_postcode=1109),\n",
       " Row(consumer_postcode=6849),\n",
       " Row(consumer_postcode=1223),\n",
       " Row(consumer_postcode=4004),\n",
       " Row(consumer_postcode=6817),\n",
       " Row(consumer_postcode=8051),\n",
       " Row(consumer_postcode=881),\n",
       " Row(consumer_postcode=6926),\n",
       " Row(consumer_postcode=1226),\n",
       " Row(consumer_postcode=6935),\n",
       " Row(consumer_postcode=1216),\n",
       " Row(consumer_postcode=1177),\n",
       " Row(consumer_postcode=1298),\n",
       " Row(consumer_postcode=6992),\n",
       " Row(consumer_postcode=1144),\n",
       " Row(consumer_postcode=1470),\n",
       " Row(consumer_postcode=2901),\n",
       " Row(consumer_postcode=6970),\n",
       " Row(consumer_postcode=1401),\n",
       " Row(consumer_postcode=1169),\n",
       " Row(consumer_postcode=1030),\n",
       " Row(consumer_postcode=6946),\n",
       " Row(consumer_postcode=3694),\n",
       " Row(consumer_postcode=6968),\n",
       " Row(consumer_postcode=8007),\n",
       " Row(consumer_postcode=811),\n",
       " Row(consumer_postcode=1871),\n",
       " Row(consumer_postcode=1220),\n",
       " Row(consumer_postcode=6991),\n",
       " Row(consumer_postcode=1630),\n",
       " Row(consumer_postcode=1028),\n",
       " Row(consumer_postcode=6872),\n",
       " Row(consumer_postcode=2751),\n",
       " Row(consumer_postcode=1180),\n",
       " Row(consumer_postcode=851),\n",
       " Row(consumer_postcode=6944),\n",
       " Row(consumer_postcode=1193),\n",
       " Row(consumer_postcode=1029),\n",
       " Row(consumer_postcode=6831),\n",
       " Row(consumer_postcode=1043),\n",
       " Row(consumer_postcode=2055),\n",
       " Row(consumer_postcode=6906),\n",
       " Row(consumer_postcode=1229),\n",
       " Row(consumer_postcode=4003),\n",
       " Row(consumer_postcode=1176),\n",
       " Row(consumer_postcode=9726),\n",
       " Row(consumer_postcode=1660),\n",
       " Row(consumer_postcode=1008),\n",
       " Row(consumer_postcode=6947),\n",
       " Row(consumer_postcode=1680),\n",
       " Row(consumer_postcode=8005),\n",
       " Row(consumer_postcode=9005),\n",
       " Row(consumer_postcode=2057),\n",
       " Row(consumer_postcode=1215),\n",
       " Row(consumer_postcode=1422),\n",
       " Row(consumer_postcode=1178),\n",
       " Row(consumer_postcode=6919),\n",
       " Row(consumer_postcode=5800),\n",
       " Row(consumer_postcode=1133),\n",
       " Row(consumer_postcode=1168),\n",
       " Row(consumer_postcode=3354),\n",
       " Row(consumer_postcode=8070),\n",
       " Row(consumer_postcode=6929),\n",
       " Row(consumer_postcode=1004),\n",
       " Row(consumer_postcode=6001),\n",
       " Row(consumer_postcode=1181),\n",
       " Row(consumer_postcode=1140),\n",
       " Row(consumer_postcode=3736),\n",
       " Row(consumer_postcode=5839),\n",
       " Row(consumer_postcode=6847),\n",
       " Row(consumer_postcode=1131),\n",
       " Row(consumer_postcode=1450),\n",
       " Row(consumer_postcode=4345),\n",
       " Row(consumer_postcode=1006),\n",
       " Row(consumer_postcode=6988),\n",
       " Row(consumer_postcode=1026),\n",
       " Row(consumer_postcode=6902),\n",
       " Row(consumer_postcode=1195),\n",
       " Row(consumer_postcode=1293),\n",
       " Row(consumer_postcode=1835),\n",
       " Row(consumer_postcode=6916),\n",
       " Row(consumer_postcode=1183),\n",
       " Row(consumer_postcode=6954),\n",
       " Row(consumer_postcode=1106),\n",
       " Row(consumer_postcode=6923),\n",
       " Row(consumer_postcode=2001),\n",
       " Row(consumer_postcode=1139),\n",
       " Row(consumer_postcode=6924),\n",
       " Row(consumer_postcode=1294),\n",
       " Row(consumer_postcode=2091),\n",
       " Row(consumer_postcode=4219),\n",
       " Row(consumer_postcode=1184),\n",
       " Row(consumer_postcode=1495),\n",
       " Row(consumer_postcode=6433),\n",
       " Row(consumer_postcode=1142),\n",
       " Row(consumer_postcode=8066),\n",
       " Row(consumer_postcode=1032),\n",
       " Row(consumer_postcode=1003),\n",
       " Row(consumer_postcode=1165),\n",
       " Row(consumer_postcode=1860),\n",
       " Row(consumer_postcode=6907),\n",
       " Row(consumer_postcode=1022),\n",
       " Row(consumer_postcode=1039),\n",
       " Row(consumer_postcode=2890),\n",
       " Row(consumer_postcode=3661),\n",
       " Row(consumer_postcode=8006),\n",
       " Row(consumer_postcode=1819),\n",
       " Row(consumer_postcode=2123),\n",
       " Row(consumer_postcode=1159),\n",
       " Row(consumer_postcode=3176),\n",
       " Row(consumer_postcode=1755),\n",
       " Row(consumer_postcode=1851),\n",
       " Row(consumer_postcode=1105),\n",
       " Row(consumer_postcode=1033),\n",
       " Row(consumer_postcode=1158),\n",
       " Row(consumer_postcode=1205),\n",
       " Row(consumer_postcode=1214),\n",
       " Row(consumer_postcode=1147),\n",
       " Row(consumer_postcode=6723)]"
      ]
     },
     "metadata": {},
     "output_type": "display_data"
    }
   ],
   "source": [
    "combined_data_all.join(postcode_combined.withColumnRenamed('postcode','consumer_postcode'), on='consumer_postcode', how='left_anti').select('consumer_postcode').distinct().collect()"
   ]
  },
  {
   "cell_type": "markdown",
   "metadata": {},
   "source": [
    "Many of these postcodes are PO boxes or don't have SA2 codes for 2021 data upon further investigation online"
   ]
  },
  {
   "cell_type": "code",
   "execution_count": null,
   "metadata": {},
   "outputs": [
    {
     "ename": "NameError",
     "evalue": "name 'combined_data_all' is not defined",
     "output_type": "error",
     "traceback": [
      "\u001b[0;31m---------------------------------------------------------------------------\u001b[0m",
      "\u001b[0;31mNameError\u001b[0m                                 Traceback (most recent call last)",
      "Cell \u001b[0;32mIn[2], line 1\u001b[0m\n\u001b[0;32m----> 1\u001b[0m combined_data_all\u001b[39m.\u001b[39mwhere(F\u001b[39m.\u001b[39mcol(\u001b[39m'\u001b[39m\u001b[39mconsumer_postcode\u001b[39m\u001b[39m'\u001b[39m) \u001b[39m==\u001b[39m \u001b[39m3800\u001b[39m)\n",
      "\u001b[0;31mNameError\u001b[0m: name 'combined_data_all' is not defined"
     ]
    }
   ],
   "source": [
    "combined_data_all.where(F.col('consumer_postcode') == 3800)"
   ]
  }
 ],
 "metadata": {
  "kernelspec": {
   "display_name": "Python 3",
   "language": "python",
   "name": "python3"
  },
  "language_info": {
   "codemirror_mode": {
    "name": "ipython",
    "version": 3
   },
   "file_extension": ".py",
   "mimetype": "text/x-python",
   "name": "python",
   "nbconvert_exporter": "python",
   "pygments_lexer": "ipython3",
   "version": "3.11.0rc1"
  },
  "orig_nbformat": 4
 },
 "nbformat": 4,
 "nbformat_minor": 2
}
