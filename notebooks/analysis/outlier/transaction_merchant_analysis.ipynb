{
 "cells": [
  {
   "cell_type": "code",
   "execution_count": 1,
   "metadata": {},
   "outputs": [
    {
     "name": "stderr",
     "output_type": "stream",
     "text": [
      "your 131072x1 screen size is bogus. expect trouble\n",
      "23/09/14 02:06:44 WARN Utils: Your hostname, NivethanAsus resolves to a loopback address: 127.0.1.1; using 172.20.150.32 instead (on interface eth0)\n",
      "23/09/14 02:06:44 WARN Utils: Set SPARK_LOCAL_IP if you need to bind to another address\n",
      "Setting default log level to \"WARN\".\n",
      "To adjust logging level use sc.setLogLevel(newLevel). For SparkR, use setLogLevel(newLevel).\n",
      "23/09/14 02:06:46 WARN NativeCodeLoader: Unable to load native-hadoop library for your platform... using builtin-java classes where applicable\n",
      "23/09/14 02:06:47 WARN Utils: Service 'SparkUI' could not bind on port 4040. Attempting port 4041.\n",
      "23/09/14 02:06:47 WARN Utils: Service 'SparkUI' could not bind on port 4041. Attempting port 4042.\n",
      "23/09/14 02:06:47 WARN Utils: Service 'SparkUI' could not bind on port 4042. Attempting port 4043.\n"
     ]
    }
   ],
   "source": [
    "from pyspark.sql import SparkSession, functions as F\n",
    "from pyspark.sql.functions import col, to_date, when, concat, lit\n",
    "from pyspark.sql.types import TimestampType\n",
    "import matplotlib.pyplot as plt\n",
    "import numpy as np\n",
    "\n",
    "spark = SparkSession.builder \\\n",
    "    .appName(\"green preprocessing\") \\\n",
    "    .config(\"spark.sql.repl.eagerEval.enabled\", True) \\\n",
    "    .config(\"spark.sql.parquet.cacheMetadata\", \"true\") \\\n",
    "    .config(\"spark.sql.session.timeZone\", \"Etc/UTC\") \\\n",
    "    .config(\"spark.executor.memory\", \"4g\") \\\n",
    "    .config(\"spark.driver.memory\", \"4g\") \\\n",
    "    .getOrCreate()"
   ]
  },
  {
   "cell_type": "code",
   "execution_count": 2,
   "metadata": {},
   "outputs": [
    {
     "name": "stderr",
     "output_type": "stream",
     "text": [
      "                                                                                \r"
     ]
    },
    {
     "name": "stdout",
     "output_type": "stream",
     "text": [
      "+-----------------+------------+--------------+-------+-----------+-------------+--------------+---------------+-----------------------------+----------------------------+--------------------+--------------------+----------------------+--------------------+----------------------------+--------------------------------------+----------------------------+-----------------------------------------------+-----------------------------------------------+------------------------------------+-------------------------------------------+------------------------------------------+-------------------------------------------+------------------------------------+\n",
      "|consumer_postcode|merchant_abn|order_datetime|user_id|consumer_id|consumer_name|consumer_state|consumer_gender|transaction_dollar_value_$AUD|consumer_fraud_probability_%|       merchant_name|merchant_description|merchant_revenue_level|merchant_take_rate_%|merchant_fraud_probability_%|consumer_postcode_estimated_population|consumer_postcode_median_age|consumer_postcode_median_mortgage_repay_monthly|consumer_postcode_median_totl_prsnal_inc_weekly|consumer_postcode_median_rent_weekly|consumer_postcode_median_tot_fam_inc_weekly|consumer_postcode_avg_num_psns_per_bedroom|consumer_postcode_median_tot_hhd_inc_weekly|consumer_postcode_avg_household_size|\n",
      "+-----------------+------------+--------------+-------+-----------+-------------+--------------+---------------+-----------------------------+----------------------------+--------------------+--------------------+----------------------+--------------------+----------------------------+--------------------------------------+----------------------------+-----------------------------------------------+-----------------------------------------------+------------------------------------+-------------------------------------------+------------------------------------------+-------------------------------------------+------------------------------------+\n",
      "|             3332| 20985347699|    2021-08-21|     14|    1343547| Lance Butler|           VIC|           Male|                         0.27|                         0.0|    Semper Tellus PC|tent and awning s...|                     a|                 6.1|                         0.0|                                8074.0|                        40.0|                                         1733.0|                                          780.0|                               308.0|                                     2103.0|                                       0.8|                                     1898.0|                                 2.9|\n",
      "|             3332| 45629217853|    2021-08-14|     14|    1343547| Lance Butler|           VIC|           Male|                          8.2|                         0.0|    Lacus Consulting|gift, card, novel...|                     a|                6.98|                         0.0|                                8074.0|                        40.0|                                         1733.0|                                          780.0|                               308.0|                                     2103.0|                                       0.8|                                     1898.0|                                 2.9|\n",
      "|             3332| 71528203369|    2021-07-30|     14|    1343547| Lance Butler|           VIC|           Male|                        10.07|                         0.0|Ipsum Primis Asso...|watch, clock, and...|                     a|                6.94|                         0.0|                                8074.0|                        40.0|                                         1733.0|                                          780.0|                               308.0|                                     2103.0|                                       0.8|                                     1898.0|                                 2.9|\n",
      "|             3332| 75900778714|    2021-08-20|     14|    1343547| Lance Butler|           VIC|           Male|                       546.68|                         0.0|Laoreet Posuere F...|florists supplies...|                     c|                2.61|                         0.0|                                8074.0|                        40.0|                                         1733.0|                                          780.0|                               308.0|                                     2103.0|                                       0.8|                                     1898.0|                                 2.9|\n",
      "|             3332| 66626020312|    2021-06-17|     14|    1343547| Lance Butler|           VIC|           Male|                        57.54|                         0.0|In Magna Incorpor...|tent and awning s...|                     c|                2.46|                         0.0|                                8074.0|                        40.0|                                         1733.0|                                          780.0|                               308.0|                                     2103.0|                                       0.8|                                     1898.0|                                 2.9|\n",
      "+-----------------+------------+--------------+-------+-----------+-------------+--------------+---------------+-----------------------------+----------------------------+--------------------+--------------------+----------------------+--------------------+----------------------------+--------------------------------------+----------------------------+-----------------------------------------------+-----------------------------------------------+------------------------------------+-------------------------------------------+------------------------------------------+-------------------------------------------+------------------------------------+\n",
      "only showing top 5 rows\n",
      "\n",
      "root\n",
      " |-- consumer_postcode: long (nullable = true)\n",
      " |-- merchant_abn: long (nullable = true)\n",
      " |-- order_datetime: date (nullable = true)\n",
      " |-- user_id: long (nullable = true)\n",
      " |-- consumer_id: long (nullable = true)\n",
      " |-- consumer_name: string (nullable = true)\n",
      " |-- consumer_state: string (nullable = true)\n",
      " |-- consumer_gender: string (nullable = true)\n",
      " |-- transaction_dollar_value_$AUD: double (nullable = true)\n",
      " |-- consumer_fraud_probability_%: double (nullable = true)\n",
      " |-- merchant_name: string (nullable = true)\n",
      " |-- merchant_description: string (nullable = true)\n",
      " |-- merchant_revenue_level: string (nullable = true)\n",
      " |-- merchant_take_rate_%: float (nullable = true)\n",
      " |-- merchant_fraud_probability_%: double (nullable = true)\n",
      " |-- consumer_postcode_estimated_population: double (nullable = true)\n",
      " |-- consumer_postcode_median_age: double (nullable = true)\n",
      " |-- consumer_postcode_median_mortgage_repay_monthly: double (nullable = true)\n",
      " |-- consumer_postcode_median_totl_prsnal_inc_weekly: double (nullable = true)\n",
      " |-- consumer_postcode_median_rent_weekly: double (nullable = true)\n",
      " |-- consumer_postcode_median_tot_fam_inc_weekly: double (nullable = true)\n",
      " |-- consumer_postcode_avg_num_psns_per_bedroom: double (nullable = true)\n",
      " |-- consumer_postcode_median_tot_hhd_inc_weekly: double (nullable = true)\n",
      " |-- consumer_postcode_avg_household_size: double (nullable = true)\n",
      "\n"
     ]
    }
   ],
   "source": [
    "path1 = \"../../../data/curated/all_data_combined.parquet\"\n",
    "df = spark.read.parquet(path1)\n",
    "df.show(5)\n",
    "df.count()\n",
    "df.printSchema()\n"
   ]
  },
  {
   "cell_type": "code",
   "execution_count": null,
   "metadata": {},
   "outputs": [],
   "source": []
  }
 ],
 "metadata": {
  "kernelspec": {
   "display_name": "Python 3",
   "language": "python",
   "name": "python3"
  },
  "language_info": {
   "codemirror_mode": {
    "name": "ipython",
    "version": 3
   },
   "file_extension": ".py",
   "mimetype": "text/x-python",
   "name": "python",
   "nbconvert_exporter": "python",
   "pygments_lexer": "ipython3",
   "version": "3.8.10"
  },
  "orig_nbformat": 4
 },
 "nbformat": 4,
 "nbformat_minor": 2
}
