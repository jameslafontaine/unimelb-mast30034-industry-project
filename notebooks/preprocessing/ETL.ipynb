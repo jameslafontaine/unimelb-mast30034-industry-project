{
 "cells": [
  {
   "cell_type": "code",
   "execution_count": 6,
   "metadata": {},
   "outputs": [],
   "source": [
    "import pandas as pd\n",
    "import os\n",
    "from pyspark.sql import SparkSession, functions as F\n",
    "\n",
    "\n",
    "\n",
    "# Create a spark session (which will run spark jobs)\n",
    "spark = (\n",
    "    SparkSession.builder.appName(\"ETL\")\n",
    "    .config(\"spark.sql.repl.eagerEval.enabled\", True)\n",
    "    .config(\"spark.sql.parquet.cacheMetadata\", \"true\")\n",
    "    .config(\"spark.sql.session.timeZone\", \"Etc/UTC\")\n",
    "    .config('spark.driver.memory', '4g')\n",
    "    .config('spark.executor.memory', '2g')\n",
    "    .getOrCreate()\n",
    ")"
   ]
  },
  {
   "cell_type": "code",
   "execution_count": 7,
   "metadata": {},
   "outputs": [],
   "source": [
    "output_relative_dir = '../../data/curated/'\n",
    "\n",
    "if not os.path.exists(output_relative_dir):\n",
    "    os.makedirs(output_relative_dir)\n",
    "    \n",
    "# now, for each type of data set we will need, we will create the paths\n",
    "for target_dir in ('consumer', 'merchant', 'transaction', 'sa2'): \n",
    "    if not os.path.exists(output_relative_dir + target_dir):\n",
    "        os.makedirs(output_relative_dir + target_dir)\n",
    "        "
   ]
  },
  {
   "cell_type": "code",
   "execution_count": 8,
   "metadata": {},
   "outputs": [],
   "source": [
    "output_relative_dir = '../../data/nulls&missing_analysis/'\n",
    "\n",
    "if not os.path.exists(output_relative_dir):\n",
    "    os.makedirs(output_relative_dir)\n",
    "    \n",
    "# now, for each type of data set we will need, we will create the paths\n",
    "for target_dir in ('consumer', 'merchant', 'transaction', 'sa2'): \n",
    "    if not os.path.exists(output_relative_dir + target_dir):\n",
    "        os.makedirs(output_relative_dir + target_dir)"
   ]
  },
  {
   "cell_type": "code",
   "execution_count": 9,
   "metadata": {},
   "outputs": [
    {
     "name": "stdout",
     "output_type": "stream",
     "text": [
      "Download Start\n",
      "Download Complete\n",
      "Extracted from ZIP 1: 2021Census_G02_AUST_SA2.csv\n",
      "Extracted from ZIP 2: 2022 Locality to 2021 SA2 Coding Index.csv\n"
     ]
    }
   ],
   "source": [
    "from urllib.request import urlretrieve\n",
    "import zipfile\n",
    "\n",
    "# Define the output directory where you want to save the downloaded and extracted files\n",
    "output_relative_dir = '../../data/'\n",
    "\n",
    "if not os.path.exists(output_relative_dir):\n",
    "    os.makedirs(output_relative_dir)\n",
    "    \n",
    "if not os.path.exists(output_relative_dir + \"externaldataset\"):\n",
    "    os.makedirs(output_relative_dir + \"externaldataset\", exist_ok=True)\n",
    "        \n",
    "print(\"Download Start\")\n",
    "    \n",
    "# URL for the first dataset\n",
    "url1 = \"https://www.abs.gov.au/census/find-census-data/datapacks/download/2021_GCP_SA2_for_AUS_short-header.zip\"\n",
    "output_file1 = output_relative_dir + \"/externaldataset/2021_GCP_SA2_for_AUS_short-header.zip\"\n",
    "urlretrieve(url1, output_file1)\n",
    "    \n",
    "# URL for the second dataset\n",
    "url2 = \"https://data.gov.au/data/dataset/6cd8989d-4aca-46b7-b93e-77befcffa0b6/resource/cb659d81-5bd2-41f5-a3d0-67257c9a5893/download/asgs2021codingindexs.zip\"\n",
    "output_file2 = output_relative_dir + \"/externaldataset/asgs2021codingindexs.zip\"\n",
    "urlretrieve(url2, output_file2)\n",
    "    \n",
    "# URL for the third dataset\n",
    "    \n",
    "url3 = \"https://www.abs.gov.au/statistics/people/population/regional-population/2021-22/32180DS0003_2001-22r.xlsx\"\n",
    "output_file3 = output_relative_dir + \"/externaldataset/SA2_Populations_AUS.xlsx\"\n",
    "urlretrieve(url3, output_file3)\n",
    "    \n",
    "print(\"Download Complete\")\n",
    "\n",
    "# List of files to extract from the ZIP files\n",
    "files_to_extract1 = [\n",
    "    \"2021Census_G02_AUST_SA2.csv\",\n",
    "]\n",
    "\n",
    "# file from the second dataset\n",
    "files_to_extract2 = [\n",
    "    \"2022 Locality to 2021 SA2 Coding Index.csv\"    \n",
    "]\n",
    "\n",
    "# Path to the ZIP files\n",
    "zip_file_path1 = output_file1\n",
    "zip_file_path2 = output_file2\n",
    "\n",
    "# Destination folder for extraction\n",
    "destination_folder = \"../../data/externaldataset\"\n",
    "\n",
    "# Extract files from the first ZIP file\n",
    "with zipfile.ZipFile(zip_file_path1, 'r') as zip_ref:\n",
    "    for file_name in files_to_extract1:\n",
    "        try:\n",
    "            zip_ref.extract(f\"2021 Census GCP Statistical Area 2 for AUS/{file_name}\", destination_folder)\n",
    "            print(f\"Extracted from ZIP 1: {file_name}\")\n",
    "        except KeyError:\n",
    "            print(f\"File not found in ZIP 1: {file_name}\")\n",
    "\n",
    "# Extract files from the second ZIP file\n",
    "with zipfile.ZipFile(zip_file_path2, 'r') as zip_ref:\n",
    "    for file_name in files_to_extract2:\n",
    "        try:\n",
    "            zip_ref.extract(file_name, destination_folder)\n",
    "            print(f\"Extracted from ZIP 2: {file_name}\")\n",
    "        except KeyError:\n",
    "            print(f\"File not found in ZIP 2: {file_name}\")"
   ]
  },
  {
   "cell_type": "markdown",
   "metadata": {},
   "source": [
    "## Load in datasets"
   ]
  },
  {
   "cell_type": "markdown",
   "metadata": {},
   "source": [
    "### Transactions"
   ]
  },
  {
   "cell_type": "code",
   "execution_count": 10,
   "metadata": {},
   "outputs": [
    {
     "name": "stderr",
     "output_type": "stream",
     "text": [
      "                                                                                \r"
     ]
    },
    {
     "name": "stdout",
     "output_type": "stream",
     "text": [
      "root\n",
      " |-- user_id: long (nullable = true)\n",
      " |-- merchant_abn: long (nullable = true)\n",
      " |-- dollar_value: double (nullable = true)\n",
      " |-- order_id: string (nullable = true)\n",
      " |-- order_datetime: date (nullable = true)\n",
      "\n",
      "root\n",
      " |-- user_id: long (nullable = true)\n",
      " |-- merchant_abn: long (nullable = true)\n",
      " |-- dollar_value: double (nullable = true)\n",
      " |-- order_id: string (nullable = true)\n",
      " |-- order_datetime: date (nullable = true)\n",
      "\n"
     ]
    },
    {
     "name": "stderr",
     "output_type": "stream",
     "text": [
      "                                                                                \r"
     ]
    },
    {
     "name": "stdout",
     "output_type": "stream",
     "text": [
      "root\n",
      " |-- user_id: long (nullable = true)\n",
      " |-- merchant_abn: long (nullable = true)\n",
      " |-- dollar_value: double (nullable = true)\n",
      " |-- order_id: string (nullable = true)\n",
      " |-- order_datetime: date (nullable = true)\n",
      "\n"
     ]
    },
    {
     "data": {
      "text/html": [
       "<table border='1'>\n",
       "<tr><th>user_id</th><th>merchant_abn</th><th>dollar_value</th><th>order_id</th><th>order_datetime</th></tr>\n",
       "<tr><td>18478</td><td>62191208634</td><td>63.255848959735246</td><td>949a63c8-29f7-4ab...</td><td>2021-08-20</td></tr>\n",
       "<tr><td>2</td><td>15549624934</td><td>130.3505283105634</td><td>6a84c3cf-612a-457...</td><td>2021-08-20</td></tr>\n",
       "<tr><td>18479</td><td>64403598239</td><td>120.15860593212783</td><td>b10dcc33-e53f-425...</td><td>2021-08-20</td></tr>\n",
       "<tr><td>3</td><td>60956456424</td><td>136.6785200286976</td><td>0f09c5a5-784e-447...</td><td>2021-08-20</td></tr>\n",
       "<tr><td>18479</td><td>94493496784</td><td>72.96316578355305</td><td>f6c78c1a-4600-4c5...</td><td>2021-08-20</td></tr>\n",
       "<tr><td>3</td><td>76819856970</td><td>448.529684285612</td><td>5ace6a24-cdf0-4aa...</td><td>2021-08-20</td></tr>\n",
       "<tr><td>18479</td><td>67609108741</td><td>86.4040605836911</td><td>d0e180f0-cb06-42a...</td><td>2021-08-20</td></tr>\n",
       "<tr><td>3</td><td>34096466752</td><td>301.5793450525113</td><td>6fb1ff48-24bb-4f9...</td><td>2021-08-20</td></tr>\n",
       "<tr><td>18482</td><td>70501974849</td><td>68.75486276223054</td><td>8505fb33-b69a-412...</td><td>2021-08-20</td></tr>\n",
       "<tr><td>4</td><td>49891706470</td><td>48.89796461900801</td><td>ed11e477-b09f-4ae...</td><td>2021-08-20</td></tr>\n",
       "</table>\n"
      ],
      "text/plain": [
       "+-------+------------+------------------+--------------------+--------------+\n",
       "|user_id|merchant_abn|      dollar_value|            order_id|order_datetime|\n",
       "+-------+------------+------------------+--------------------+--------------+\n",
       "|  18478| 62191208634|63.255848959735246|949a63c8-29f7-4ab...|    2021-08-20|\n",
       "|      2| 15549624934| 130.3505283105634|6a84c3cf-612a-457...|    2021-08-20|\n",
       "|  18479| 64403598239|120.15860593212783|b10dcc33-e53f-425...|    2021-08-20|\n",
       "|      3| 60956456424| 136.6785200286976|0f09c5a5-784e-447...|    2021-08-20|\n",
       "|  18479| 94493496784| 72.96316578355305|f6c78c1a-4600-4c5...|    2021-08-20|\n",
       "|      3| 76819856970|  448.529684285612|5ace6a24-cdf0-4aa...|    2021-08-20|\n",
       "|  18479| 67609108741|  86.4040605836911|d0e180f0-cb06-42a...|    2021-08-20|\n",
       "|      3| 34096466752| 301.5793450525113|6fb1ff48-24bb-4f9...|    2021-08-20|\n",
       "|  18482| 70501974849| 68.75486276223054|8505fb33-b69a-412...|    2021-08-20|\n",
       "|      4| 49891706470| 48.89796461900801|ed11e477-b09f-4ae...|    2021-08-20|\n",
       "+-------+------------+------------------+--------------------+--------------+"
      ]
     },
     "execution_count": 10,
     "metadata": {},
     "output_type": "execute_result"
    }
   ],
   "source": [
    "# 'transactions.parquet' files\n",
    "path = '../../data/tables/transactions_20210228_20210827_snapshot'\n",
    "transactions_21_02_21_08 = spark.read.parquet(path)\n",
    "\n",
    "transactions_21_02_21_08.printSchema()\n",
    "\n",
    "\n",
    "path = '../../data/tables/transactions_20210828_20220227_snapshot'\n",
    "transactions_21_08_22_02 = spark.read.parquet(path)\n",
    "\n",
    "transactions_21_08_22_02.printSchema()\n",
    "\n",
    "path = '../../data/tables/transactions_20220228_20220828_snapshot'\n",
    "transactions_22_02_22_08 = spark.read.parquet(path)\n",
    "\n",
    "transactions_22_02_22_08.printSchema()\n",
    "\n",
    "transactions_21_02_21_08.limit(10)\n"
   ]
  },
  {
   "cell_type": "markdown",
   "metadata": {},
   "source": [
    "### Consumer Data"
   ]
  },
  {
   "cell_type": "code",
   "execution_count": 11,
   "metadata": {},
   "outputs": [
    {
     "name": "stdout",
     "output_type": "stream",
     "text": [
      "root\n",
      " |-- user_id: string (nullable = true)\n",
      " |-- order_datetime: string (nullable = true)\n",
      " |-- fraud_probability: string (nullable = true)\n",
      "\n"
     ]
    },
    {
     "data": {
      "text/html": [
       "<table border='1'>\n",
       "<tr><th>user_id</th><th>order_datetime</th><th>fraud_probability</th></tr>\n",
       "<tr><td>6228</td><td>2021-12-19</td><td>97.6298077657765</td></tr>\n",
       "<tr><td>21419</td><td>2021-12-10</td><td>99.24738020302328</td></tr>\n",
       "<tr><td>5606</td><td>2021-10-17</td><td>84.05825045251777</td></tr>\n",
       "<tr><td>3101</td><td>2021-04-17</td><td>91.42192091901347</td></tr>\n",
       "<tr><td>22239</td><td>2021-10-19</td><td>94.70342477508035</td></tr>\n",
       "<tr><td>16556</td><td>2022-02-20</td><td>89.65663294494827</td></tr>\n",
       "<tr><td>10278</td><td>2021-09-28</td><td>83.59136689427714</td></tr>\n",
       "<tr><td>15790</td><td>2021-12-30</td><td>71.77065889280253</td></tr>\n",
       "<tr><td>5233</td><td>2021-08-29</td><td>85.87123303878818</td></tr>\n",
       "<tr><td>230</td><td>2021-08-28</td><td>86.28328808934151</td></tr>\n",
       "</table>\n"
      ],
      "text/plain": [
       "+-------+--------------+-----------------+\n",
       "|user_id|order_datetime|fraud_probability|\n",
       "+-------+--------------+-----------------+\n",
       "|   6228|    2021-12-19| 97.6298077657765|\n",
       "|  21419|    2021-12-10|99.24738020302328|\n",
       "|   5606|    2021-10-17|84.05825045251777|\n",
       "|   3101|    2021-04-17|91.42192091901347|\n",
       "|  22239|    2021-10-19|94.70342477508035|\n",
       "|  16556|    2022-02-20|89.65663294494827|\n",
       "|  10278|    2021-09-28|83.59136689427714|\n",
       "|  15790|    2021-12-30|71.77065889280253|\n",
       "|   5233|    2021-08-29|85.87123303878818|\n",
       "|    230|    2021-08-28|86.28328808934151|\n",
       "+-------+--------------+-----------------+"
      ]
     },
     "execution_count": 11,
     "metadata": {},
     "output_type": "execute_result"
    }
   ],
   "source": [
    "# 'consumer_fraud_probability.csv' file\n",
    "path = '../../data/tables/consumer_fraud_probability.csv'\n",
    "cust_fp = spark.read.csv(path, header=True)\n",
    "\n",
    "cust_fp.printSchema()\n",
    "cust_fp.limit(10)\n",
    "# cust_fp.dtypes\n",
    "# cust_fp.count()"
   ]
  },
  {
   "cell_type": "code",
   "execution_count": 12,
   "metadata": {},
   "outputs": [
    {
     "name": "stdout",
     "output_type": "stream",
     "text": [
      "root\n",
      " |-- user_id: long (nullable = true)\n",
      " |-- consumer_id: long (nullable = true)\n",
      "\n"
     ]
    },
    {
     "data": {
      "text/html": [
       "<table border='1'>\n",
       "<tr><th>user_id</th><th>consumer_id</th></tr>\n",
       "<tr><td>1</td><td>1195503</td></tr>\n",
       "<tr><td>2</td><td>179208</td></tr>\n",
       "<tr><td>3</td><td>1194530</td></tr>\n",
       "<tr><td>4</td><td>154128</td></tr>\n",
       "<tr><td>5</td><td>712975</td></tr>\n",
       "<tr><td>6</td><td>407340</td></tr>\n",
       "<tr><td>7</td><td>511685</td></tr>\n",
       "<tr><td>8</td><td>448088</td></tr>\n",
       "<tr><td>9</td><td>650435</td></tr>\n",
       "<tr><td>10</td><td>1058499</td></tr>\n",
       "</table>\n"
      ],
      "text/plain": [
       "+-------+-----------+\n",
       "|user_id|consumer_id|\n",
       "+-------+-----------+\n",
       "|      1|    1195503|\n",
       "|      2|     179208|\n",
       "|      3|    1194530|\n",
       "|      4|     154128|\n",
       "|      5|     712975|\n",
       "|      6|     407340|\n",
       "|      7|     511685|\n",
       "|      8|     448088|\n",
       "|      9|     650435|\n",
       "|     10|    1058499|\n",
       "+-------+-----------+"
      ]
     },
     "execution_count": 12,
     "metadata": {},
     "output_type": "execute_result"
    }
   ],
   "source": [
    "# 'consumer_user_details.parquet' file\n",
    "path = '../../data/tables/consumer_user_details.parquet'\n",
    "cust_user_det = spark.read.parquet(path)\n",
    "\n",
    "cust_user_det.printSchema()\n",
    "cust_user_det.limit(10)\n",
    "# cust_user_det.count()"
   ]
  },
  {
   "cell_type": "code",
   "execution_count": 13,
   "metadata": {},
   "outputs": [
    {
     "name": "stdout",
     "output_type": "stream",
     "text": [
      "root\n",
      " |-- name: string (nullable = true)\n",
      " |-- address: string (nullable = true)\n",
      " |-- state: string (nullable = true)\n",
      " |-- postcode: string (nullable = true)\n",
      " |-- gender: string (nullable = true)\n",
      " |-- consumer_id: string (nullable = true)\n",
      "\n"
     ]
    },
    {
     "data": {
      "text/html": [
       "<table border='1'>\n",
       "<tr><th>name</th><th>address</th><th>state</th><th>postcode</th><th>gender</th><th>consumer_id</th></tr>\n",
       "<tr><td>Yolanda Williams</td><td>413 Haney Gardens...</td><td>WA</td><td>6935</td><td>Female</td><td>1195503</td></tr>\n",
       "<tr><td>Mary Smith</td><td>3764 Amber Oval</td><td>NSW</td><td>2782</td><td>Female</td><td>179208</td></tr>\n",
       "<tr><td>Jill Jones MD</td><td>40693 Henry Greens</td><td>NT</td><td>862</td><td>Female</td><td>1194530</td></tr>\n",
       "<tr><td>Lindsay Jimenez</td><td>00653 Davenport C...</td><td>NSW</td><td>2780</td><td>Female</td><td>154128</td></tr>\n",
       "<tr><td>Rebecca Blanchard</td><td>9271 Michael Mano...</td><td>WA</td><td>6355</td><td>Female</td><td>712975</td></tr>\n",
       "<tr><td>Karen Chapman</td><td>2706 Stewart Oval...</td><td>NSW</td><td>2033</td><td>Female</td><td>407340</td></tr>\n",
       "<tr><td>Andrea Jones</td><td>122 Brandon Cliff</td><td>QLD</td><td>4606</td><td>Female</td><td>511685</td></tr>\n",
       "<tr><td>Stephen Williams</td><td>6804 Wright Crest...</td><td>WA</td><td>6056</td><td>Male</td><td>448088</td></tr>\n",
       "<tr><td>Stephanie Reyes</td><td>5813 Denise Land ...</td><td>NSW</td><td>2482</td><td>Female</td><td>650435</td></tr>\n",
       "<tr><td>Jillian Gonzales</td><td>461 Ryan Common S...</td><td>VIC</td><td>3220</td><td>Female</td><td>1058499</td></tr>\n",
       "</table>\n"
      ],
      "text/plain": [
       "+-----------------+--------------------+-----+--------+------+-----------+\n",
       "|             name|             address|state|postcode|gender|consumer_id|\n",
       "+-----------------+--------------------+-----+--------+------+-----------+\n",
       "| Yolanda Williams|413 Haney Gardens...|   WA|    6935|Female|    1195503|\n",
       "|       Mary Smith|     3764 Amber Oval|  NSW|    2782|Female|     179208|\n",
       "|    Jill Jones MD|  40693 Henry Greens|   NT|     862|Female|    1194530|\n",
       "|  Lindsay Jimenez|00653 Davenport C...|  NSW|    2780|Female|     154128|\n",
       "|Rebecca Blanchard|9271 Michael Mano...|   WA|    6355|Female|     712975|\n",
       "|    Karen Chapman|2706 Stewart Oval...|  NSW|    2033|Female|     407340|\n",
       "|     Andrea Jones|   122 Brandon Cliff|  QLD|    4606|Female|     511685|\n",
       "| Stephen Williams|6804 Wright Crest...|   WA|    6056|  Male|     448088|\n",
       "|  Stephanie Reyes|5813 Denise Land ...|  NSW|    2482|Female|     650435|\n",
       "| Jillian Gonzales|461 Ryan Common S...|  VIC|    3220|Female|    1058499|\n",
       "+-----------------+--------------------+-----+--------+------+-----------+"
      ]
     },
     "execution_count": 13,
     "metadata": {},
     "output_type": "execute_result"
    }
   ],
   "source": [
    "# 'tbl_consumer.csv' consumer data file\n",
    "path = '../../data/tables/tbl_consumer.csv'\n",
    "cust_tbl = spark.read.csv(path, sep='|', header=True)\n",
    "\n",
    "cust_tbl.printSchema()\n",
    "cust_tbl.limit(10)\n",
    "# cust_tbl.dtypes\n",
    "# cust_tbl.count()"
   ]
  },
  {
   "cell_type": "markdown",
   "metadata": {},
   "source": [
    "### Merchant Data"
   ]
  },
  {
   "cell_type": "code",
   "execution_count": 14,
   "metadata": {},
   "outputs": [
    {
     "name": "stdout",
     "output_type": "stream",
     "text": [
      "root\n",
      " |-- merchant_abn: string (nullable = true)\n",
      " |-- order_datetime: string (nullable = true)\n",
      " |-- fraud_probability: string (nullable = true)\n",
      "\n"
     ]
    },
    {
     "data": {
      "text/html": [
       "<table border='1'>\n",
       "<tr><th>merchant_abn</th><th>order_datetime</th><th>fraud_probability</th></tr>\n",
       "<tr><td>19492220327</td><td>2021-11-28</td><td>44.403658647495355</td></tr>\n",
       "<tr><td>31334588839</td><td>2021-10-02</td><td>42.75530083865367</td></tr>\n",
       "<tr><td>19492220327</td><td>2021-12-22</td><td>38.867790051131095</td></tr>\n",
       "<tr><td>82999039227</td><td>2021-12-19</td><td>94.1347004808891</td></tr>\n",
       "<tr><td>90918180829</td><td>2021-09-02</td><td>43.32551731714902</td></tr>\n",
       "<tr><td>31334588839</td><td>2021-12-26</td><td>38.36165958070444</td></tr>\n",
       "<tr><td>23686790459</td><td>2021-12-10</td><td>79.4543441508535</td></tr>\n",
       "<tr><td>14827550074</td><td>2021-11-26</td><td>46.45775596795885</td></tr>\n",
       "<tr><td>31334588839</td><td>2021-11-26</td><td>36.20971272078342</td></tr>\n",
       "<tr><td>19492220327</td><td>2021-12-18</td><td>33.819672154331755</td></tr>\n",
       "</table>\n"
      ],
      "text/plain": [
       "+------------+--------------+------------------+\n",
       "|merchant_abn|order_datetime| fraud_probability|\n",
       "+------------+--------------+------------------+\n",
       "| 19492220327|    2021-11-28|44.403658647495355|\n",
       "| 31334588839|    2021-10-02| 42.75530083865367|\n",
       "| 19492220327|    2021-12-22|38.867790051131095|\n",
       "| 82999039227|    2021-12-19|  94.1347004808891|\n",
       "| 90918180829|    2021-09-02| 43.32551731714902|\n",
       "| 31334588839|    2021-12-26| 38.36165958070444|\n",
       "| 23686790459|    2021-12-10|  79.4543441508535|\n",
       "| 14827550074|    2021-11-26| 46.45775596795885|\n",
       "| 31334588839|    2021-11-26| 36.20971272078342|\n",
       "| 19492220327|    2021-12-18|33.819672154331755|\n",
       "+------------+--------------+------------------+"
      ]
     },
     "execution_count": 14,
     "metadata": {},
     "output_type": "execute_result"
    }
   ],
   "source": [
    "# 'merchant_fraud_probability.csv' file\n",
    "path = '../../data/tables/merchant_fraud_probability.csv'\n",
    "merch_fp = spark.read.csv(path, header=True)\n",
    "\n",
    "merch_fp.printSchema()\n",
    "merch_fp.limit(10)\n",
    "# merch_fp.dtypes\n",
    "# merch_fp.count()"
   ]
  },
  {
   "cell_type": "code",
   "execution_count": 15,
   "metadata": {},
   "outputs": [
    {
     "name": "stdout",
     "output_type": "stream",
     "text": [
      "root\n",
      " |-- name: string (nullable = true)\n",
      " |-- tags: string (nullable = true)\n",
      " |-- merchant_abn: long (nullable = true)\n",
      "\n"
     ]
    },
    {
     "data": {
      "text/html": [
       "<table border='1'>\n",
       "<tr><th>name</th><th>tags</th><th>merchant_abn</th></tr>\n",
       "<tr><td>Felis Limited</td><td>((furniture, home...</td><td>10023283211</td></tr>\n",
       "<tr><td>Arcu Ac Orci Corp...</td><td>([cable, satellit...</td><td>10142254217</td></tr>\n",
       "<tr><td>Nunc Sed Company</td><td>([jewelry, watch,...</td><td>10165489824</td></tr>\n",
       "<tr><td>Ultricies Digniss...</td><td>([wAtch, clock, a...</td><td>10187291046</td></tr>\n",
       "<tr><td>Enim Condimentum PC</td><td>([music shops - m...</td><td>10192359162</td></tr>\n",
       "<tr><td>Fusce Company</td><td>[(gift, card, nov...</td><td>10206519221</td></tr>\n",
       "<tr><td>Aliquam Enim Inco...</td><td>[(computers, comP...</td><td>10255988167</td></tr>\n",
       "<tr><td>Ipsum Primis Ltd</td><td>[[watch, clock, a...</td><td>10264435225</td></tr>\n",
       "<tr><td>Pede Ultrices Ind...</td><td>([computer progra...</td><td>10279061213</td></tr>\n",
       "<tr><td>Nunc Inc.</td><td>[(furniture, home...</td><td>10323485998</td></tr>\n",
       "</table>\n"
      ],
      "text/plain": [
       "+--------------------+--------------------+------------+\n",
       "|                name|                tags|merchant_abn|\n",
       "+--------------------+--------------------+------------+\n",
       "|       Felis Limited|((furniture, home...| 10023283211|\n",
       "|Arcu Ac Orci Corp...|([cable, satellit...| 10142254217|\n",
       "|    Nunc Sed Company|([jewelry, watch,...| 10165489824|\n",
       "|Ultricies Digniss...|([wAtch, clock, a...| 10187291046|\n",
       "| Enim Condimentum PC|([music shops - m...| 10192359162|\n",
       "|       Fusce Company|[(gift, card, nov...| 10206519221|\n",
       "|Aliquam Enim Inco...|[(computers, comP...| 10255988167|\n",
       "|    Ipsum Primis Ltd|[[watch, clock, a...| 10264435225|\n",
       "|Pede Ultrices Ind...|([computer progra...| 10279061213|\n",
       "|           Nunc Inc.|[(furniture, home...| 10323485998|\n",
       "+--------------------+--------------------+------------+"
      ]
     },
     "execution_count": 15,
     "metadata": {},
     "output_type": "execute_result"
    }
   ],
   "source": [
    "# 'tbl_merchants.csv' merchants data file\n",
    "path = '../../data/tables/tbl_merchants.parquet'\n",
    "merch_tbl = spark.read.parquet(path)\n",
    "\n",
    "merch_tbl.printSchema()\n",
    "merch_tbl.limit(10)"
   ]
  },
  {
   "cell_type": "markdown",
   "metadata": {},
   "source": [
    "### External Data"
   ]
  },
  {
   "cell_type": "code",
   "execution_count": 16,
   "metadata": {},
   "outputs": [
    {
     "data": {
      "text/html": [
       "<table border='1'>\n",
       "<tr><th>SA2_CODE_2021</th><th>Median_age_persons</th><th>Median_mortgage_repay_monthly</th><th>Median_tot_prsnl_inc_weekly</th><th>Median_rent_weekly</th><th>Median_tot_fam_inc_weekly</th><th>Average_num_psns_per_bedroom</th><th>Median_tot_hhd_inc_weekly</th><th>Average_household_size</th></tr>\n",
       "<tr><td>101021007</td><td>51</td><td>1732</td><td>760</td><td>330</td><td>1886</td><td>0.8</td><td>1429</td><td>2.2</td></tr>\n",
       "<tr><td>101021008</td><td>38</td><td>1950</td><td>975</td><td>350</td><td>2334</td><td>0.8</td><td>1989</td><td>2.6</td></tr>\n",
       "<tr><td>101021009</td><td>37</td><td>1700</td><td>996</td><td>330</td><td>2233</td><td>0.9</td><td>1703</td><td>2.1</td></tr>\n",
       "<tr><td>101021010</td><td>36</td><td>1700</td><td>1104</td><td>310</td><td>2412</td><td>0.9</td><td>1796</td><td>2.1</td></tr>\n",
       "<tr><td>101021012</td><td>37</td><td>2300</td><td>1357</td><td>430</td><td>3332</td><td>0.8</td><td>3014</td><td>2.9</td></tr>\n",
       "<tr><td>101021610</td><td>31</td><td>2600</td><td>1629</td><td>531</td><td>3444</td><td>0.8</td><td>3363</td><td>3.1</td></tr>\n",
       "<tr><td>101021611</td><td>42</td><td>2417</td><td>1243</td><td>465</td><td>3117</td><td>0.8</td><td>2926</td><td>2.9</td></tr>\n",
       "<tr><td>101031013</td><td>49</td><td>1083</td><td>704</td><td>200</td><td>1759</td><td>0.7</td><td>1253</td><td>2.2</td></tr>\n",
       "<tr><td>101031014</td><td>44</td><td>1300</td><td>771</td><td>290</td><td>1911</td><td>0.7</td><td>1377</td><td>2.2</td></tr>\n",
       "<tr><td>101031015</td><td>50</td><td>1627</td><td>794</td><td>290</td><td>2068</td><td>0.7</td><td>1596</td><td>2.4</td></tr>\n",
       "</table>\n"
      ],
      "text/plain": [
       "+-------------+------------------+-----------------------------+---------------------------+------------------+-------------------------+----------------------------+-------------------------+----------------------+\n",
       "|SA2_CODE_2021|Median_age_persons|Median_mortgage_repay_monthly|Median_tot_prsnl_inc_weekly|Median_rent_weekly|Median_tot_fam_inc_weekly|Average_num_psns_per_bedroom|Median_tot_hhd_inc_weekly|Average_household_size|\n",
       "+-------------+------------------+-----------------------------+---------------------------+------------------+-------------------------+----------------------------+-------------------------+----------------------+\n",
       "|    101021007|                51|                         1732|                        760|               330|                     1886|                         0.8|                     1429|                   2.2|\n",
       "|    101021008|                38|                         1950|                        975|               350|                     2334|                         0.8|                     1989|                   2.6|\n",
       "|    101021009|                37|                         1700|                        996|               330|                     2233|                         0.9|                     1703|                   2.1|\n",
       "|    101021010|                36|                         1700|                       1104|               310|                     2412|                         0.9|                     1796|                   2.1|\n",
       "|    101021012|                37|                         2300|                       1357|               430|                     3332|                         0.8|                     3014|                   2.9|\n",
       "|    101021610|                31|                         2600|                       1629|               531|                     3444|                         0.8|                     3363|                   3.1|\n",
       "|    101021611|                42|                         2417|                       1243|               465|                     3117|                         0.8|                     2926|                   2.9|\n",
       "|    101031013|                49|                         1083|                        704|               200|                     1759|                         0.7|                     1253|                   2.2|\n",
       "|    101031014|                44|                         1300|                        771|               290|                     1911|                         0.7|                     1377|                   2.2|\n",
       "|    101031015|                50|                         1627|                        794|               290|                     2068|                         0.7|                     1596|                   2.4|\n",
       "+-------------+------------------+-----------------------------+---------------------------+------------------+-------------------------+----------------------------+-------------------------+----------------------+"
      ]
     },
     "execution_count": 16,
     "metadata": {},
     "output_type": "execute_result"
    }
   ],
   "source": [
    "# 2021 census data CSVs\n",
    "\n",
    "path = '../../data/externaldataset/2021 Census GCP Statistical Area 2 for AUS/2021Census_G02_AUST_SA2.csv'\n",
    "sa2_census = spark.read.csv(path, header=True)\n",
    "\n",
    "sa2_census.limit(10)\n"
   ]
  },
  {
   "cell_type": "code",
   "execution_count": 17,
   "metadata": {},
   "outputs": [],
   "source": [
    "###############################################################################################################################################################################################"
   ]
  },
  {
   "cell_type": "code",
   "execution_count": 18,
   "metadata": {},
   "outputs": [
    {
     "data": {
      "text/html": [
       "<div>\n",
       "<style scoped>\n",
       "    .dataframe tbody tr th:only-of-type {\n",
       "        vertical-align: middle;\n",
       "    }\n",
       "\n",
       "    .dataframe tbody tr th {\n",
       "        vertical-align: top;\n",
       "    }\n",
       "\n",
       "    .dataframe thead th {\n",
       "        text-align: right;\n",
       "    }\n",
       "</style>\n",
       "<table border=\"1\" class=\"dataframe\">\n",
       "  <thead>\n",
       "    <tr style=\"text-align: right;\">\n",
       "      <th>6</th>\n",
       "      <th>SA4 name</th>\n",
       "      <th>SA3 name</th>\n",
       "      <th>SA2 code</th>\n",
       "      <th>SA2 name</th>\n",
       "      <th>population_2021</th>\n",
       "    </tr>\n",
       "  </thead>\n",
       "  <tbody>\n",
       "    <tr>\n",
       "      <th>8</th>\n",
       "      <td>Capital Region</td>\n",
       "      <td>Queanbeyan</td>\n",
       "      <td>101021007</td>\n",
       "      <td>Braidwood</td>\n",
       "      <td>4332</td>\n",
       "    </tr>\n",
       "    <tr>\n",
       "      <th>9</th>\n",
       "      <td>Capital Region</td>\n",
       "      <td>Queanbeyan</td>\n",
       "      <td>101021008</td>\n",
       "      <td>Karabar</td>\n",
       "      <td>8548</td>\n",
       "    </tr>\n",
       "    <tr>\n",
       "      <th>10</th>\n",
       "      <td>Capital Region</td>\n",
       "      <td>Queanbeyan</td>\n",
       "      <td>101021009</td>\n",
       "      <td>Queanbeyan</td>\n",
       "      <td>11375</td>\n",
       "    </tr>\n",
       "    <tr>\n",
       "      <th>11</th>\n",
       "      <td>Capital Region</td>\n",
       "      <td>Queanbeyan</td>\n",
       "      <td>101021010</td>\n",
       "      <td>Queanbeyan - East</td>\n",
       "      <td>5097</td>\n",
       "    </tr>\n",
       "    <tr>\n",
       "      <th>12</th>\n",
       "      <td>Capital Region</td>\n",
       "      <td>Queanbeyan</td>\n",
       "      <td>101021012</td>\n",
       "      <td>Queanbeyan West - Jerrabomberra</td>\n",
       "      <td>12748</td>\n",
       "    </tr>\n",
       "  </tbody>\n",
       "</table>\n",
       "</div>"
      ],
      "text/plain": [
       "6         SA4 name    SA3 name   SA2 code                         SA2 name  \\\n",
       "8   Capital Region  Queanbeyan  101021007                        Braidwood   \n",
       "9   Capital Region  Queanbeyan  101021008                          Karabar   \n",
       "10  Capital Region  Queanbeyan  101021009                       Queanbeyan   \n",
       "11  Capital Region  Queanbeyan  101021010                Queanbeyan - East   \n",
       "12  Capital Region  Queanbeyan  101021012  Queanbeyan West - Jerrabomberra   \n",
       "\n",
       "6  population_2021  \n",
       "8             4332  \n",
       "9             8548  \n",
       "10           11375  \n",
       "11            5097  \n",
       "12           12748  "
      ]
     },
     "execution_count": 18,
     "metadata": {},
     "output_type": "execute_result"
    }
   ],
   "source": [
    "# SA2 population data\n",
    "\n",
    "path = '../../data/externaldataset/SA2_Populations_AUS.xlsx'\n",
    "\n",
    "# Have to manually fix the dataframe as the formatting is messed up\n",
    "\n",
    "sa2_pops = pd.read_excel(path, sheet_name=1)\n",
    "\n",
    "# remove empty / useless rows at top\n",
    "sa2_pops = sa2_pops.iloc[5:,:]\n",
    "\n",
    "sa2_pops.head()\n",
    "\n",
    "# drop unnecessary columns\n",
    "sa2_pops = sa2_pops.drop(sa2_pops.iloc[:, 10:30],axis = 1)\n",
    "\n",
    "sa2_pops = sa2_pops.drop(sa2_pops.columns[[0,1,2,3,4,6,11]], axis=1)\n",
    "\n",
    "# fix header\n",
    "sa2_pops.columns = sa2_pops.iloc[1]\n",
    "\n",
    "sa2_pops = sa2_pops[3:]\n",
    "\n",
    "# drop empty rows at bottom of table\n",
    "sa2_pops = sa2_pops.dropna()\n",
    "\n",
    "sa2_pops = sa2_pops.rename(columns={'no.': 'population_2021'})\n",
    "\n",
    "sa2_pops.head()"
   ]
  },
  {
   "cell_type": "code",
   "execution_count": 19,
   "metadata": {},
   "outputs": [],
   "source": [
    "###############################################################################################################################################################################################"
   ]
  },
  {
   "cell_type": "code",
   "execution_count": 20,
   "metadata": {},
   "outputs": [
    {
     "data": {
      "text/html": [
       "<table border='1'>\n",
       "<tr><th>LOCALITY_ID</th><th>LOCALITY_NAME </th><th>LOCALITY_TYPE</th><th>POSTCODE</th><th>STATE</th><th>SA2_MAINCODE_2021</th><th>SA2_NAME_2021</th></tr>\n",
       "<tr><td>ABS195</td><td>ACTON PARK</td><td>EXTRA LOCALITY</td><td>2600</td><td>ACT</td><td>801051123</td><td>Black Mountain</td></tr>\n",
       "<tr><td>loc6f02f098e82d</td><td>ACTON</td><td>GAZETTED LOCALITY</td><td>2601</td><td>ACT</td><td>801051049</td><td>Acton</td></tr>\n",
       "<tr><td>loc6f02f098e82d</td><td>ANU</td><td>ALIAS LOCALITY</td><td>2601</td><td>ACT</td><td>801051049</td><td>Acton</td></tr>\n",
       "<tr><td>loc6f02f098e82d</td><td>AUSTRALIAN NATION...</td><td>ALIAS LOCALITY</td><td>2601</td><td>ACT</td><td>801051049</td><td>Acton</td></tr>\n",
       "<tr><td>loc6f02f098e82d</td><td>SPINNAKER ISLAND</td><td>ALIAS LOCALITY</td><td>2601</td><td>ACT</td><td>801051049</td><td>Acton</td></tr>\n",
       "<tr><td>loc6f02f098e82d</td><td>SPRINGBANK ISLAND</td><td>ALIAS LOCALITY</td><td>2601</td><td>ACT</td><td>801051049</td><td>Acton</td></tr>\n",
       "<tr><td>loc8af26acb532d</td><td>AINSLIE</td><td>GAZETTED LOCALITY</td><td>2602</td><td>ACT</td><td>801051050</td><td>Ainslie</td></tr>\n",
       "<tr><td>locf0cacaa1119e</td><td>AMAROO</td><td>GAZETTED LOCALITY</td><td>2914</td><td>ACT</td><td>801041034</td><td>Amaroo</td></tr>\n",
       "<tr><td>locf94248966b6c</td><td>ARANDA</td><td>GAZETTED LOCALITY</td><td>2614</td><td>ACT</td><td>801011001</td><td>Aranda</td></tr>\n",
       "<tr><td>ABS358</td><td>BELLVIEW</td><td>EXTRA LOCALITY</td><td>2620</td><td>ACT</td><td>801071089</td><td>Tuggeranong</td></tr>\n",
       "</table>\n"
      ],
      "text/plain": [
       "+---------------+--------------------+-----------------+--------+-----+-----------------+--------------+\n",
       "|    LOCALITY_ID|      LOCALITY_NAME |    LOCALITY_TYPE|POSTCODE|STATE|SA2_MAINCODE_2021| SA2_NAME_2021|\n",
       "+---------------+--------------------+-----------------+--------+-----+-----------------+--------------+\n",
       "|         ABS195|          ACTON PARK|   EXTRA LOCALITY|    2600|  ACT|        801051123|Black Mountain|\n",
       "|loc6f02f098e82d|               ACTON|GAZETTED LOCALITY|    2601|  ACT|        801051049|         Acton|\n",
       "|loc6f02f098e82d|                 ANU|   ALIAS LOCALITY|    2601|  ACT|        801051049|         Acton|\n",
       "|loc6f02f098e82d|AUSTRALIAN NATION...|   ALIAS LOCALITY|    2601|  ACT|        801051049|         Acton|\n",
       "|loc6f02f098e82d|    SPINNAKER ISLAND|   ALIAS LOCALITY|    2601|  ACT|        801051049|         Acton|\n",
       "|loc6f02f098e82d|   SPRINGBANK ISLAND|   ALIAS LOCALITY|    2601|  ACT|        801051049|         Acton|\n",
       "|loc8af26acb532d|             AINSLIE|GAZETTED LOCALITY|    2602|  ACT|        801051050|       Ainslie|\n",
       "|locf0cacaa1119e|              AMAROO|GAZETTED LOCALITY|    2914|  ACT|        801041034|        Amaroo|\n",
       "|locf94248966b6c|              ARANDA|GAZETTED LOCALITY|    2614|  ACT|        801011001|        Aranda|\n",
       "|         ABS358|            BELLVIEW|   EXTRA LOCALITY|    2620|  ACT|        801071089|   Tuggeranong|\n",
       "+---------------+--------------------+-----------------+--------+-----+-----------------+--------------+"
      ]
     },
     "execution_count": 20,
     "metadata": {},
     "output_type": "execute_result"
    }
   ],
   "source": [
    "# Locality to SA2 coding index CSV\n",
    "\n",
    "path = '../../data/externaldataset/2022 Locality to 2021 SA2 Coding Index.csv'\n",
    "\n",
    "sa2_to_postcode = spark.read.csv(path, header=True)\n",
    "\n",
    "sa2_to_postcode.limit(10)"
   ]
  },
  {
   "cell_type": "markdown",
   "metadata": {},
   "source": [
    "## 1st Step: Remove useless columns, data type conversions, rename columns where necessary"
   ]
  },
  {
   "cell_type": "markdown",
   "metadata": {},
   "source": [
    "### Transactions"
   ]
  },
  {
   "cell_type": "code",
   "execution_count": 21,
   "metadata": {},
   "outputs": [
    {
     "name": "stdout",
     "output_type": "stream",
     "text": [
      "root\n",
      " |-- user_id: long (nullable = true)\n",
      " |-- merchant_abn: long (nullable = true)\n",
      " |-- dollar_value: double (nullable = true)\n",
      " |-- order_id: string (nullable = true)\n",
      " |-- order_datetime: date (nullable = true)\n",
      "\n",
      "root\n",
      " |-- user_id: long (nullable = true)\n",
      " |-- merchant_abn: long (nullable = true)\n",
      " |-- dollar_value: double (nullable = true)\n",
      " |-- order_id: string (nullable = true)\n",
      " |-- order_datetime: date (nullable = true)\n",
      "\n",
      "root\n",
      " |-- user_id: long (nullable = true)\n",
      " |-- merchant_abn: long (nullable = true)\n",
      " |-- dollar_value: double (nullable = true)\n",
      " |-- order_id: string (nullable = true)\n",
      " |-- order_datetime: date (nullable = true)\n",
      "\n"
     ]
    }
   ],
   "source": [
    "#transactions_21_02_21_08 = transactions_21_02_21_08.drop('order_id')\n",
    "\n",
    "#transactions_21_08_22_02 = transactions_21_08_22_02.drop('order_id')\n",
    "\n",
    "#transactions_22_02_22_08 = transactions_22_02_22_08.drop('order_id')\n",
    "\n",
    "transactions_21_02_21_08.printSchema()\n",
    "\n",
    "transactions_21_08_22_02.printSchema()\n",
    "\n",
    "transactions_22_02_22_08.printSchema()"
   ]
  },
  {
   "cell_type": "markdown",
   "metadata": {},
   "source": [
    "### Consumer Data"
   ]
  },
  {
   "cell_type": "code",
   "execution_count": 22,
   "metadata": {},
   "outputs": [
    {
     "name": "stdout",
     "output_type": "stream",
     "text": [
      "root\n",
      " |-- user_id: long (nullable = true)\n",
      " |-- order_datetime: date (nullable = true)\n",
      " |-- consumer_fraud_probability_%: double (nullable = true)\n",
      "\n"
     ]
    }
   ],
   "source": [
    "cust_fp = \\\n",
    "cust_fp.withColumn(\n",
    "    'user_id',\n",
    "    F.col('user_id').cast('long')\n",
    ").withColumn(\n",
    "    'order_datetime',\n",
    "    F.col('order_datetime').cast('date')\n",
    ").withColumn(\n",
    "    'consumer_fraud_probability_%',\n",
    "    F.col('fraud_probability').cast('double')\n",
    ").drop('fraud_probability')\n",
    "\n",
    "cust_fp.printSchema()\n"
   ]
  },
  {
   "cell_type": "code",
   "execution_count": 23,
   "metadata": {},
   "outputs": [
    {
     "name": "stdout",
     "output_type": "stream",
     "text": [
      "root\n",
      " |-- user_id: long (nullable = true)\n",
      " |-- consumer_id: long (nullable = true)\n",
      "\n"
     ]
    }
   ],
   "source": [
    "cust_user_det.printSchema()"
   ]
  },
  {
   "cell_type": "code",
   "execution_count": 24,
   "metadata": {},
   "outputs": [
    {
     "name": "stdout",
     "output_type": "stream",
     "text": [
      "root\n",
      " |-- consumer_name: string (nullable = true)\n",
      " |-- consumer_state: string (nullable = true)\n",
      " |-- consumer_postcode: long (nullable = true)\n",
      " |-- consumer_gender: string (nullable = true)\n",
      " |-- consumer_id: long (nullable = true)\n",
      "\n"
     ]
    }
   ],
   "source": [
    "cust_tbl = \\\n",
    "cust_tbl.withColumn(\n",
    "    'postcode',\n",
    "    F.col('postcode').cast('long')\n",
    ").withColumnRenamed(\n",
    "    'name',\n",
    "    'consumer_name'   \n",
    ").withColumnRenamed(\n",
    "    'state',\n",
    "    'consumer_state'   \n",
    ").withColumnRenamed(\n",
    "    'postcode',\n",
    "    'consumer_postcode'   \n",
    ").withColumnRenamed(\n",
    "    'gender',\n",
    "    'consumer_gender'   \n",
    ").withColumn(\n",
    "    'consumer_id',\n",
    "    F.col('consumer_id').cast('long')\n",
    ").drop('address')\n",
    "\n",
    "cust_tbl.printSchema()"
   ]
  },
  {
   "cell_type": "markdown",
   "metadata": {},
   "source": [
    "### Merchant Data"
   ]
  },
  {
   "cell_type": "code",
   "execution_count": 25,
   "metadata": {},
   "outputs": [
    {
     "name": "stdout",
     "output_type": "stream",
     "text": [
      "root\n",
      " |-- merchant_abn: long (nullable = true)\n",
      " |-- order_datetime: date (nullable = true)\n",
      " |-- merchant_fraud_probability_%: double (nullable = true)\n",
      "\n"
     ]
    }
   ],
   "source": [
    "merch_fp = \\\n",
    "merch_fp.withColumn(\n",
    "    'merchant_abn',\n",
    "    F.col('merchant_abn').cast('long')\n",
    ").withColumn(\n",
    "    'order_datetime',\n",
    "    F.col('order_datetime').cast('date')\n",
    ").withColumn(\n",
    "    'merchant_fraud_probability_%',\n",
    "    F.col('fraud_probability').cast('double')\n",
    ").drop('fraud_probability')\n",
    "\n",
    "merch_fp.printSchema()"
   ]
  },
  {
   "cell_type": "code",
   "execution_count": 26,
   "metadata": {},
   "outputs": [
    {
     "name": "stdout",
     "output_type": "stream",
     "text": [
      "root\n",
      " |-- merchant_name: string (nullable = true)\n",
      " |-- tags: string (nullable = true)\n",
      " |-- merchant_abn: long (nullable = true)\n",
      "\n"
     ]
    }
   ],
   "source": [
    "merch_tbl = \\\n",
    "merch_tbl.withColumnRenamed(\n",
    "    'name',\n",
    "    'merchant_name'\n",
    ")\n",
    "\n",
    "merch_tbl.printSchema()"
   ]
  },
  {
   "cell_type": "markdown",
   "metadata": {},
   "source": [
    "### External Data"
   ]
  },
  {
   "cell_type": "code",
   "execution_count": 27,
   "metadata": {},
   "outputs": [
    {
     "name": "stdout",
     "output_type": "stream",
     "text": [
      "root\n",
      " |-- SA2_CODE_2021: string (nullable = true)\n",
      " |-- Median_age_persons: string (nullable = true)\n",
      " |-- Median_mortgage_repay_monthly: string (nullable = true)\n",
      " |-- Median_tot_prsnl_inc_weekly: string (nullable = true)\n",
      " |-- Median_rent_weekly: string (nullable = true)\n",
      " |-- Median_tot_fam_inc_weekly: string (nullable = true)\n",
      " |-- Average_num_psns_per_bedroom: string (nullable = true)\n",
      " |-- Median_tot_hhd_inc_weekly: string (nullable = true)\n",
      " |-- Average_household_size: string (nullable = true)\n",
      "\n"
     ]
    }
   ],
   "source": [
    "# 2021 census data CSVs\n",
    "\n",
    "sa2_census.printSchema()\n"
   ]
  },
  {
   "cell_type": "code",
   "execution_count": 28,
   "metadata": {},
   "outputs": [],
   "source": [
    "sa2_census = sa2_census.withColumn(\n",
    "    'sa2_code',\n",
    "    F.col('SA2_CODE_2021').cast('long')\n",
    ").withColumn(\n",
    "    'sa2_median_age',\n",
    "    F.col('Median_age_persons').cast('long')\n",
    ").withColumn(\n",
    "    'sa2_median_mortgage_repay_monthly',\n",
    "    F.col('Median_mortgage_repay_monthly').cast('long')\n",
    ").withColumn(\n",
    "    'sa2_median_tot_prsnl_inc_weekly',\n",
    "    F.col('Median_tot_prsnl_inc_weekly').cast('long')\n",
    ").withColumn(\n",
    "    'sa2_median_rent_weekly',\n",
    "    F.col('Median_rent_weekly').cast('long')\n",
    ").withColumn(\n",
    "    'sa2_median_tot_fam_inc_weekly',\n",
    "    F.col('Median_tot_fam_inc_weekly').cast('long')\n",
    ").withColumn(\n",
    "    'sa2_average_num_psns_per_bedroom',\n",
    "    F.col('Average_num_psns_per_bedroom').cast('double')\n",
    ").withColumn(\n",
    "    'sa2_median_tot_hhd_inc_weekly',\n",
    "    F.col('Median_tot_hhd_inc_weekly').cast('long')\n",
    ").withColumn(\n",
    "    'sa2_average_household_size',\n",
    "    F.col('Average_household_size').cast('double')\n",
    ")\n",
    "\n",
    "sa2_census = sa2_census.select(sa2_census.columns[9:])"
   ]
  },
  {
   "cell_type": "code",
   "execution_count": 29,
   "metadata": {},
   "outputs": [
    {
     "name": "stdout",
     "output_type": "stream",
     "text": [
      "root\n",
      " |-- sa2_code: long (nullable = true)\n",
      " |-- sa2_median_age: long (nullable = true)\n",
      " |-- sa2_median_mortgage_repay_monthly: long (nullable = true)\n",
      " |-- sa2_median_tot_prsnl_inc_weekly: long (nullable = true)\n",
      " |-- sa2_median_rent_weekly: long (nullable = true)\n",
      " |-- sa2_median_tot_fam_inc_weekly: long (nullable = true)\n",
      " |-- sa2_average_num_psns_per_bedroom: double (nullable = true)\n",
      " |-- sa2_median_tot_hhd_inc_weekly: long (nullable = true)\n",
      " |-- sa2_average_household_size: double (nullable = true)\n",
      "\n"
     ]
    }
   ],
   "source": [
    "sa2_census.printSchema()"
   ]
  },
  {
   "cell_type": "code",
   "execution_count": 30,
   "metadata": {},
   "outputs": [],
   "source": [
    "###############################################################################################################################################################################################"
   ]
  },
  {
   "cell_type": "code",
   "execution_count": 31,
   "metadata": {},
   "outputs": [],
   "source": [
    "# SA2 population data\n",
    "sa2_pops=spark.createDataFrame(sa2_pops)"
   ]
  },
  {
   "cell_type": "code",
   "execution_count": 32,
   "metadata": {},
   "outputs": [
    {
     "name": "stdout",
     "output_type": "stream",
     "text": [
      "root\n",
      " |-- SA4 name: string (nullable = true)\n",
      " |-- SA3 name: string (nullable = true)\n",
      " |-- SA2 code: long (nullable = true)\n",
      " |-- SA2 name: string (nullable = true)\n",
      " |-- population_2021: long (nullable = true)\n",
      "\n"
     ]
    }
   ],
   "source": [
    "sa2_pops.limit(10)\n",
    "\n",
    "sa2_pops.printSchema()"
   ]
  },
  {
   "cell_type": "code",
   "execution_count": 33,
   "metadata": {},
   "outputs": [],
   "source": [
    "# convert casings and rename columns where necessary\n",
    "sa2_pops = \\\n",
    "sa2_pops.withColumnRenamed(\n",
    "    'SA4 name',\n",
    "    'sa4_name'\n",
    ").withColumnRenamed(\n",
    "    'SA3 name',\n",
    "    'sa3_name'\n",
    ").withColumnRenamed(\n",
    "    'SA2 code',\n",
    "    'sa2_code'\n",
    ").withColumnRenamed(\n",
    "    'SA2 name',\n",
    "    'sa2_name'\n",
    ")\n"
   ]
  },
  {
   "cell_type": "code",
   "execution_count": 34,
   "metadata": {},
   "outputs": [],
   "source": [
    "###############################################################################################################################################################################################"
   ]
  },
  {
   "cell_type": "code",
   "execution_count": 35,
   "metadata": {},
   "outputs": [
    {
     "name": "stdout",
     "output_type": "stream",
     "text": [
      "root\n",
      " |-- LOCALITY_ID: string (nullable = true)\n",
      " |-- LOCALITY_NAME : string (nullable = true)\n",
      " |-- LOCALITY_TYPE: string (nullable = true)\n",
      " |-- POSTCODE: string (nullable = true)\n",
      " |-- STATE: string (nullable = true)\n",
      " |-- SA2_MAINCODE_2021: string (nullable = true)\n",
      " |-- SA2_NAME_2021: string (nullable = true)\n",
      "\n"
     ]
    }
   ],
   "source": [
    "# Locality to SA2 coding index CSV\n",
    "sa2_to_postcode.limit(10)\n",
    "\n",
    "sa2_to_postcode.printSchema()\n",
    "\n"
   ]
  },
  {
   "cell_type": "code",
   "execution_count": 36,
   "metadata": {},
   "outputs": [],
   "source": [
    "sa2_to_postcode = sa2_to_postcode.select(['POSTCODE', 'SA2_MAINCODE_2021']).withColumn(\n",
    "    'POSTCODE',\n",
    "    F.col('POSTCODE').cast('long')\n",
    ").withColumn(\n",
    "    'SA2_MAINCODE_2021',\n",
    "    F.col('SA2_MAINCODE_2021').cast('long')\n",
    ").withColumnRenamed(\n",
    "    'SA2_MAINCODE_2021',\n",
    "    'sa2_code'\n",
    ")\n",
    "\n",
    "sa2_to_postcode = sa2_to_postcode.toDF(*[c.lower() for c in sa2_to_postcode.columns])"
   ]
  },
  {
   "cell_type": "markdown",
   "metadata": {},
   "source": [
    "## 2nd Step: Cleaning, feature engineering, aggregation"
   ]
  },
  {
   "cell_type": "markdown",
   "metadata": {},
   "source": [
    "### Transactions"
   ]
  },
  {
   "cell_type": "code",
   "execution_count": 37,
   "metadata": {},
   "outputs": [],
   "source": [
    "transactions_all = transactions_21_02_21_08.union(transactions_21_08_22_02).union(transactions_22_02_22_08)"
   ]
  },
  {
   "cell_type": "code",
   "execution_count": 38,
   "metadata": {},
   "outputs": [
    {
     "name": "stderr",
     "output_type": "stream",
     "text": [
      "                                                                                \r"
     ]
    },
    {
     "data": {
      "text/plain": [
       "[Row(user_id=1, merchant_abn=28000487688, dollar_value=133.22689421562643, order_id='0c37b3f7-c7f1-48cb-bcc7-0a58e76608ea', order_datetime=datetime.date(2021, 2, 28)),\n",
       " Row(user_id=1, merchant_abn=83690644458, dollar_value=30.441348317517228, order_id='40a2ff69-ea34-4657-8429-df7ca957d6a1', order_datetime=datetime.date(2021, 2, 28)),\n",
       " Row(user_id=18485, merchant_abn=62191208634, dollar_value=79.13140006851712, order_id='9e18b913-0465-4fd4-92fd-66d15e65d93c', order_datetime=datetime.date(2021, 2, 28))]"
      ]
     },
     "execution_count": 38,
     "metadata": {},
     "output_type": "execute_result"
    }
   ],
   "source": [
    "transactions_all.sort('order_datetime').head(3)"
   ]
  },
  {
   "cell_type": "code",
   "execution_count": 39,
   "metadata": {},
   "outputs": [
    {
     "name": "stderr",
     "output_type": "stream",
     "text": [
      "                                                                                \r"
     ]
    },
    {
     "data": {
      "text/plain": [
       "[Row(user_id=11136, merchant_abn=63685007785, dollar_value=48.12988669206644, order_id='a6194c61-ae7a-4037-a425-2dd7cda42fb7', order_datetime=datetime.date(2022, 10, 26)),\n",
       " Row(user_id=11137, merchant_abn=85502310765, dollar_value=4.768751754248673, order_id='72a3639e-25d5-4bcc-9e8b-26e737b8c0e4', order_datetime=datetime.date(2022, 10, 26)),\n",
       " Row(user_id=11138, merchant_abn=43186523025, dollar_value=35.12766841919401, order_id='3f3b1d40-e8ec-4d4b-ac08-5f273586523c', order_datetime=datetime.date(2022, 10, 26))]"
      ]
     },
     "execution_count": 39,
     "metadata": {},
     "output_type": "execute_result"
    }
   ],
   "source": [
    "transactions_all.sort('order_datetime').tail(3)"
   ]
  },
  {
   "cell_type": "code",
   "execution_count": 40,
   "metadata": {},
   "outputs": [
    {
     "name": "stderr",
     "output_type": "stream",
     "text": [
      "                                                                                \r"
     ]
    }
   ],
   "source": [
    "from datetime import datetime\n",
    "\n",
    "from pyspark.sql import functions as F\n",
    "from datetime import datetime\n",
    "\n",
    "df = transactions_all\n",
    "\n",
    "df.write.mode('overwrite').parquet(\"../../data/nulls&missing_analysis/transaction/transactions_all.parquet\")\n",
    "\n",
    "# 1. Remove Null Values\n",
    "df = df.na.drop()\n",
    "\n",
    "# 2. Check for Duplicates\n",
    "df = df.dropDuplicates()\n",
    "df = df.dropDuplicates(['order_id'])\n",
    "\n",
    "# 3. Validate user_id and merchant_abn\n",
    "df = df.filter((F.col('user_id') > 0) & (F.col('merchant_abn') > 0))\n",
    "\n",
    "# 4. Validate dollar value\n",
    "df = df.filter(F.col('dollar_value') > 0)\n",
    "\n",
    "# 5. Validate order_datetime for the specified date range\n",
    "start_date = datetime.strptime(\"20210228\", \"%Y%m%d\").date()\n",
    "end_date = datetime.strptime(\"20221026\", \"%Y%m%d\").date()\n",
    "df = df.filter(F.col('order_datetime').between(start_date, end_date))\n",
    "\n",
    "\n",
    "transactions_all_clean = df.drop('order_id')"
   ]
  },
  {
   "cell_type": "code",
   "execution_count": 41,
   "metadata": {},
   "outputs": [
    {
     "name": "stderr",
     "output_type": "stream",
     "text": [
      "                                                                                \r"
     ]
    },
    {
     "data": {
      "text/html": [
       "<table border='1'>\n",
       "<tr><th>user_id</th><th>merchant_abn</th><th>dollar_value</th><th>order_datetime</th></tr>\n",
       "<tr><td>83</td><td>46804135891</td><td>40.88736687931136</td><td>2021-08-20</td></tr>\n",
       "<tr><td>18574</td><td>40252040480</td><td>110.20656881653261</td><td>2021-08-20</td></tr>\n",
       "<tr><td>18653</td><td>17324645993</td><td>6.067842686819487</td><td>2021-08-20</td></tr>\n",
       "<tr><td>215</td><td>81219314324</td><td>66.32075609316571</td><td>2021-08-20</td></tr>\n",
       "<tr><td>18860</td><td>77013874702</td><td>2.082645905098512</td><td>2021-08-20</td></tr>\n",
       "<tr><td>18881</td><td>29616684420</td><td>91.12197214702582</td><td>2021-08-20</td></tr>\n",
       "<tr><td>399</td><td>71674475255</td><td>34.45156578850835</td><td>2021-08-20</td></tr>\n",
       "<tr><td>646</td><td>24852446429</td><td>44.287278647072334</td><td>2021-08-20</td></tr>\n",
       "<tr><td>19179</td><td>95492562735</td><td>43.393091988896295</td><td>2021-08-20</td></tr>\n",
       "<tr><td>19230</td><td>11437621158</td><td>259.7314287658183</td><td>2021-08-20</td></tr>\n",
       "<tr><td>19266</td><td>29616684420</td><td>89.50699163239382</td><td>2021-08-20</td></tr>\n",
       "<tr><td>19410</td><td>10264435225</td><td>154.80029257421901</td><td>2021-08-20</td></tr>\n",
       "<tr><td>19528</td><td>66858208767</td><td>150.51019371133583</td><td>2021-08-20</td></tr>\n",
       "<tr><td>1087</td><td>32709729094</td><td>25.972284709489376</td><td>2021-08-20</td></tr>\n",
       "<tr><td>1404</td><td>74337408103</td><td>20.692042570135865</td><td>2021-08-20</td></tr>\n",
       "<tr><td>1474</td><td>91085233749</td><td>6.205555897211985</td><td>2021-08-20</td></tr>\n",
       "<tr><td>1510</td><td>82065156333</td><td>22.84428864382923</td><td>2021-08-20</td></tr>\n",
       "<tr><td>20130</td><td>96566672398</td><td>60.73798004704377</td><td>2021-08-20</td></tr>\n",
       "<tr><td>1621</td><td>60956456424</td><td>129.43777543922627</td><td>2021-08-20</td></tr>\n",
       "<tr><td>1722</td><td>77505747217</td><td>80.84229513777326</td><td>2021-08-20</td></tr>\n",
       "</table>\n",
       "only showing top 20 rows\n"
      ],
      "text/plain": [
       "+-------+------------+------------------+--------------+\n",
       "|user_id|merchant_abn|      dollar_value|order_datetime|\n",
       "+-------+------------+------------------+--------------+\n",
       "|     83| 46804135891| 40.88736687931136|    2021-08-20|\n",
       "|  18574| 40252040480|110.20656881653261|    2021-08-20|\n",
       "|  18653| 17324645993| 6.067842686819487|    2021-08-20|\n",
       "|    215| 81219314324| 66.32075609316571|    2021-08-20|\n",
       "|  18860| 77013874702| 2.082645905098512|    2021-08-20|\n",
       "|  18881| 29616684420| 91.12197214702582|    2021-08-20|\n",
       "|    399| 71674475255| 34.45156578850835|    2021-08-20|\n",
       "|    646| 24852446429|44.287278647072334|    2021-08-20|\n",
       "|  19179| 95492562735|43.393091988896295|    2021-08-20|\n",
       "|  19230| 11437621158| 259.7314287658183|    2021-08-20|\n",
       "|  19266| 29616684420| 89.50699163239382|    2021-08-20|\n",
       "|  19410| 10264435225|154.80029257421901|    2021-08-20|\n",
       "|  19528| 66858208767|150.51019371133583|    2021-08-20|\n",
       "|   1087| 32709729094|25.972284709489376|    2021-08-20|\n",
       "|   1404| 74337408103|20.692042570135865|    2021-08-20|\n",
       "|   1474| 91085233749| 6.205555897211985|    2021-08-20|\n",
       "|   1510| 82065156333| 22.84428864382923|    2021-08-20|\n",
       "|  20130| 96566672398| 60.73798004704377|    2021-08-20|\n",
       "|   1621| 60956456424|129.43777543922627|    2021-08-20|\n",
       "|   1722| 77505747217| 80.84229513777326|    2021-08-20|\n",
       "+-------+------------+------------------+--------------+\n",
       "only showing top 20 rows"
      ]
     },
     "execution_count": 41,
     "metadata": {},
     "output_type": "execute_result"
    }
   ],
   "source": [
    "transactions_all_clean"
   ]
  },
  {
   "cell_type": "markdown",
   "metadata": {},
   "source": [
    "### Consumer Data"
   ]
  },
  {
   "cell_type": "code",
   "execution_count": 42,
   "metadata": {},
   "outputs": [],
   "source": [
    "from datetime import datetime\n",
    "\n",
    "from pyspark.sql import functions as F\n",
    "from datetime import datetime\n",
    "\n",
    "df = cust_user_det\n",
    "\n",
    "df.write.mode('overwrite').parquet(\"../../data/nulls&missing_analysis/consumer/consumer_user_details.parquet\")\n",
    "\n",
    "# 1. Remove Null Values\n",
    "df = df.na.drop()\n",
    "\n",
    "# 2. Check for Duplicates\n",
    "df = df.dropDuplicates()\n",
    "\n",
    "# 3. Validate consumer_id and user_id\n",
    "df = df.filter((F.col('consumer_id') > 0) & (F.col('user_id') > 0))\n",
    "\n",
    "cust_user_det_clean = df"
   ]
  },
  {
   "cell_type": "code",
   "execution_count": 43,
   "metadata": {},
   "outputs": [
    {
     "name": "stderr",
     "output_type": "stream",
     "text": [
      "                                                                                \r"
     ]
    }
   ],
   "source": [
    "from datetime import datetime\n",
    "\n",
    "from pyspark.sql import functions as F\n",
    "from datetime import datetime\n",
    "\n",
    "df = cust_tbl\n",
    "\n",
    "df.write.mode('overwrite').parquet(\"../../data/nulls&missing_analysis/consumer/consumer_tbl.parquet\")\n",
    "\n",
    "\n",
    "# 1. Remove Null Values\n",
    "df = df.na.drop()\n",
    "\n",
    "# 2. Check for Duplicates\n",
    "df = df.dropDuplicates()\n",
    "\n",
    "# 3. Validate consumer_id\n",
    "df = df.filter((F.col('consumer_id') > 0))\n",
    "\n",
    "# 4. Validate consumer_name \n",
    "df = df.filter(F.col('consumer_name').rlike(\"[a-zA-Z][a-zA-Z ]+\"))\n",
    "\n",
    "# 5. Validate consumer_state \n",
    "df = df.filter(F.col('consumer_state').isin(['NT','ACT','SA','TAS','WA','QLD','VIC','NSW']))\n",
    "\n",
    "# 6. Validate consumer_postcode\n",
    "df = df.filter(F.col('consumer_postcode').between(200, 9729))\n",
    "\n",
    "# 7. Validate consumer_gender\n",
    "df = df.filter(F.col('consumer_gender').isin(['Undisclosed', 'Male', 'Female']))\n",
    "\n",
    "cust_tbl_clean = df\n",
    "               \n",
    "            "
   ]
  },
  {
   "cell_type": "code",
   "execution_count": 44,
   "metadata": {},
   "outputs": [],
   "source": [
    "from datetime import datetime\n",
    "\n",
    "from pyspark.sql import functions as F\n",
    "from datetime import datetime\n",
    "\n",
    "df = cust_fp\n",
    "\n",
    "df.write.mode('overwrite').parquet(\"../../data/nulls&missing_analysis/consumer/consumer_fraud_probability.parquet\")\n",
    "\n",
    "# 1. Remove Null Values\n",
    "df = df.na.drop()\n",
    "\n",
    "# 2. Check for Duplicates\n",
    "df = df.dropDuplicates()\n",
    "\n",
    "# 3. Validate user_id\n",
    "df = df.filter((F.col('user_id') > 0))\n",
    "\n",
    "# 4. Validate order_datetime for the specified date range\n",
    "start_date = datetime.strptime(\"20210228\", \"%Y%m%d\").date()\n",
    "end_date = datetime.strptime(\"20221026\", \"%Y%m%d\").date()\n",
    "df = df.filter(F.col('order_datetime').between(start_date, end_date))\n",
    "\n",
    "# 5. Validate consumer fraud probability\n",
    "df = df.filter(F.col('consumer_fraud_probability_%').between(0, 100))\n",
    "\n",
    "cust_fp_clean = df"
   ]
  },
  {
   "cell_type": "code",
   "execution_count": 45,
   "metadata": {},
   "outputs": [
    {
     "data": {
      "text/html": [
       "<table border='1'>\n",
       "<tr><th>user_id</th><th>order_datetime</th><th>consumer_fraud_probability_%</th></tr>\n",
       "<tr><td>1</td><td>2022-02-20</td><td>9.805431136520959</td></tr>\n",
       "<tr><td>2</td><td>2021-09-25</td><td>10.069850934775245</td></tr>\n",
       "<tr><td>2</td><td>2021-08-30</td><td>9.599513915425788</td></tr>\n",
       "<tr><td>3</td><td>2021-11-03</td><td>8.300636455314633</td></tr>\n",
       "<tr><td>4</td><td>2021-10-09</td><td>9.633302411090419</td></tr>\n",
       "<tr><td>5</td><td>2022-01-11</td><td>27.496186536467164</td></tr>\n",
       "<tr><td>5</td><td>2022-02-08</td><td>9.02022421158597</td></tr>\n",
       "<tr><td>5</td><td>2021-10-04</td><td>10.868364868449886</td></tr>\n",
       "<tr><td>6</td><td>2021-12-12</td><td>10.459280127078758</td></tr>\n",
       "<tr><td>9</td><td>2021-12-13</td><td>10.58055311139687</td></tr>\n",
       "<tr><td>9</td><td>2021-11-17</td><td>8.531261989227714</td></tr>\n",
       "<tr><td>13</td><td>2021-07-17</td><td>9.050002342172851</td></tr>\n",
       "<tr><td>13</td><td>2021-12-06</td><td>9.213002123639797</td></tr>\n",
       "<tr><td>14</td><td>2021-04-20</td><td>17.698747546724444</td></tr>\n",
       "<tr><td>14</td><td>2021-12-03</td><td>16.605682602965032</td></tr>\n",
       "<tr><td>15</td><td>2021-11-27</td><td>16.99959017524405</td></tr>\n",
       "<tr><td>16</td><td>2021-11-27</td><td>21.623529222276932</td></tr>\n",
       "<tr><td>17</td><td>2022-02-14</td><td>9.518525205093667</td></tr>\n",
       "<tr><td>18</td><td>2021-11-30</td><td>21.286573044791613</td></tr>\n",
       "<tr><td>19</td><td>2021-11-27</td><td>14.310022438431579</td></tr>\n",
       "</table>\n",
       "only showing top 20 rows\n"
      ],
      "text/plain": [
       "+-------+--------------+----------------------------+\n",
       "|user_id|order_datetime|consumer_fraud_probability_%|\n",
       "+-------+--------------+----------------------------+\n",
       "|      1|    2022-02-20|           9.805431136520959|\n",
       "|      2|    2021-09-25|          10.069850934775245|\n",
       "|      2|    2021-08-30|           9.599513915425788|\n",
       "|      3|    2021-11-03|           8.300636455314633|\n",
       "|      4|    2021-10-09|           9.633302411090419|\n",
       "|      5|    2022-01-11|          27.496186536467164|\n",
       "|      5|    2022-02-08|            9.02022421158597|\n",
       "|      5|    2021-10-04|          10.868364868449886|\n",
       "|      6|    2021-12-12|          10.459280127078758|\n",
       "|      9|    2021-12-13|           10.58055311139687|\n",
       "|      9|    2021-11-17|           8.531261989227714|\n",
       "|     13|    2021-07-17|           9.050002342172851|\n",
       "|     13|    2021-12-06|           9.213002123639797|\n",
       "|     14|    2021-04-20|          17.698747546724444|\n",
       "|     14|    2021-12-03|          16.605682602965032|\n",
       "|     15|    2021-11-27|           16.99959017524405|\n",
       "|     16|    2021-11-27|          21.623529222276932|\n",
       "|     17|    2022-02-14|           9.518525205093667|\n",
       "|     18|    2021-11-30|          21.286573044791613|\n",
       "|     19|    2021-11-27|          14.310022438431579|\n",
       "+-------+--------------+----------------------------+\n",
       "only showing top 20 rows"
      ]
     },
     "execution_count": 45,
     "metadata": {},
     "output_type": "execute_result"
    }
   ],
   "source": [
    "cust_fp_clean.sort('user_id')"
   ]
  },
  {
   "cell_type": "markdown",
   "metadata": {},
   "source": [
    "### Merchant Data"
   ]
  },
  {
   "cell_type": "code",
   "execution_count": 46,
   "metadata": {},
   "outputs": [
    {
     "data": {
      "text/plain": [
       "4026"
      ]
     },
     "execution_count": 46,
     "metadata": {},
     "output_type": "execute_result"
    }
   ],
   "source": [
    "merch_tbl.count()"
   ]
  },
  {
   "cell_type": "code",
   "execution_count": 47,
   "metadata": {},
   "outputs": [],
   "source": [
    "# Extract different features from tags (words, revenue band, take rate)\n",
    "import re\n",
    "from pyspark.sql.functions import udf\n",
    "from pyspark.sql.types import StringType, FloatType, ArrayType\n",
    "\n",
    "# Define a UDF to extract the sections within square and normal brackets\n",
    "def split_tags(input_tags):\n",
    "    sep_tags = re.findall(r'[\\[\\(\\{]([^\\[\\]\\(\\)\\{\\}]*)[\\]\\)\\}]', input_tags)\n",
    "    sep_tags_without_brackets = [re.sub(r'[\\[\\]\\(\\)\\{\\}]', '', tag) for tag in sep_tags]\n",
    "        \n",
    "    return sep_tags_without_brackets\n",
    "\n",
    "# Define a UDF to extract \"take rate\" numbers\n",
    "def extract_take_rate(input_rate):\n",
    "    match = re.search(r'take rate: ([\\d.]+)', input_rate)\n",
    "    if match:\n",
    "        return float(match.group(1))\n",
    "    return None\n",
    "\n",
    "# Register the UDFs\n",
    "split_tags_udf = udf(split_tags, ArrayType(StringType()))\n",
    "\n",
    "clean_take_rate_udf = udf(extract_take_rate, FloatType())\n",
    "\n",
    "# Apply the UDF to the DataFrame\n",
    "merch_tbl_clean = merch_tbl.withColumn(\"sep_tags\", split_tags_udf(merch_tbl[\"tags\"]))\n",
    "\n",
    "# Create separate columns each segment of the tags\n",
    "merch_tbl_clean = merch_tbl_clean.withColumn(\"words\", merch_tbl_clean[\"sep_tags\"].getItem(0))\n",
    "merch_tbl_clean = merch_tbl_clean.withColumn(\"revenue_level\", merch_tbl_clean[\"sep_tags\"].getItem(1))\n",
    "merch_tbl_clean = merch_tbl_clean.withColumn(\"take_rate_%\", merch_tbl_clean[\"sep_tags\"].getItem(2))\n",
    "\n",
    "merch_tbl_clean = merch_tbl_clean.withColumn(\"take_rate_%\", clean_take_rate_udf(merch_tbl_clean[\"take_rate_%\"]))\n",
    "\n"
   ]
  },
  {
   "cell_type": "code",
   "execution_count": 48,
   "metadata": {},
   "outputs": [
    {
     "name": "stderr",
     "output_type": "stream",
     "text": [
      "                                                                                \r"
     ]
    },
    {
     "data": {
      "text/html": [
       "<table border='1'>\n",
       "<tr><th>merchant_name</th><th>merchant_abn</th><th>words</th><th>revenue_level</th><th>take_rate_%</th></tr>\n",
       "<tr><td>Felis Limited</td><td>10023283211</td><td>furniture, home f...</td><td>e</td><td>0.18</td></tr>\n",
       "<tr><td>Arcu Ac Orci Corp...</td><td>10142254217</td><td>cable, satellite,...</td><td>b</td><td>4.22</td></tr>\n",
       "<tr><td>Nunc Sed Company</td><td>10165489824</td><td>jewelry, watch, c...</td><td>b</td><td>4.4</td></tr>\n",
       "<tr><td>Ultricies Digniss...</td><td>10187291046</td><td>wAtch, clock, and...</td><td>b</td><td>3.29</td></tr>\n",
       "<tr><td>Enim Condimentum PC</td><td>10192359162</td><td>music shops - mus...</td><td>a</td><td>6.33</td></tr>\n",
       "<tr><td>Fusce Company</td><td>10206519221</td><td>gift, card, novel...</td><td>a</td><td>6.34</td></tr>\n",
       "<tr><td>Aliquam Enim Inco...</td><td>10255988167</td><td>computers, comPUt...</td><td>b</td><td>4.32</td></tr>\n",
       "<tr><td>Ipsum Primis Ltd</td><td>10264435225</td><td>watch, clock, and...</td><td>c</td><td>2.39</td></tr>\n",
       "<tr><td>Pede Ultrices Ind...</td><td>10279061213</td><td>computer programm...</td><td>a</td><td>5.71</td></tr>\n",
       "<tr><td>Nunc Inc.</td><td>10323485998</td><td>furniture, home f...</td><td>a</td><td>6.61</td></tr>\n",
       "</table>\n"
      ],
      "text/plain": [
       "+--------------------+------------+--------------------+-------------+-----------+\n",
       "|       merchant_name|merchant_abn|               words|revenue_level|take_rate_%|\n",
       "+--------------------+------------+--------------------+-------------+-----------+\n",
       "|       Felis Limited| 10023283211|furniture, home f...|            e|       0.18|\n",
       "|Arcu Ac Orci Corp...| 10142254217|cable, satellite,...|            b|       4.22|\n",
       "|    Nunc Sed Company| 10165489824|jewelry, watch, c...|            b|        4.4|\n",
       "|Ultricies Digniss...| 10187291046|wAtch, clock, and...|            b|       3.29|\n",
       "| Enim Condimentum PC| 10192359162|music shops - mus...|            a|       6.33|\n",
       "|       Fusce Company| 10206519221|gift, card, novel...|            a|       6.34|\n",
       "|Aliquam Enim Inco...| 10255988167|computers, comPUt...|            b|       4.32|\n",
       "|    Ipsum Primis Ltd| 10264435225|watch, clock, and...|            c|       2.39|\n",
       "|Pede Ultrices Ind...| 10279061213|computer programm...|            a|       5.71|\n",
       "|           Nunc Inc.| 10323485998|furniture, home f...|            a|       6.61|\n",
       "+--------------------+------------+--------------------+-------------+-----------+"
      ]
     },
     "execution_count": 48,
     "metadata": {},
     "output_type": "execute_result"
    }
   ],
   "source": [
    "merch_tbl_clean = merch_tbl_clean.drop('tags', 'sep_tags')\n",
    "\n",
    "merch_tbl_clean.limit(10)"
   ]
  },
  {
   "cell_type": "code",
   "execution_count": 49,
   "metadata": {},
   "outputs": [
    {
     "data": {
      "text/plain": [
       "4026"
      ]
     },
     "execution_count": 49,
     "metadata": {},
     "output_type": "execute_result"
    }
   ],
   "source": [
    "merch_tbl_clean.count()"
   ]
  },
  {
   "cell_type": "code",
   "execution_count": 50,
   "metadata": {},
   "outputs": [],
   "source": [
    "df = merch_tbl_clean \n",
    "\n",
    "df.write.mode('overwrite').parquet(\"../../data/nulls&missing_analysis/merchant/merchant_tbl.parquet\")\n",
    "\n",
    "# 1. Remove Null Values\n",
    "df = df.na.drop()\n",
    "\n",
    "# 2. Check for Duplicates\n",
    "df = df.dropDuplicates()\n",
    "\n",
    "# 3. Validate merchant_abn\n",
    "df = df.filter((F.col('merchant_abn') > 0))\n",
    "\n",
    "# 4. Validate merchant_name \n",
    "df = df.filter(F.col('merchant_name').rlike(\"[a-zA-Z][a-zA-Z ]+\"))\n",
    "\n",
    "# 5. Validate words (SPELL CHECK?) # https://scikit-learn.org/stable/modules/generated/sklearn.feature_extraction.text.TfidfVectorizer.html#sklearn.feature_extraction.text.TfidfVectorizer)\n",
    "                                   # https://scikit-learn.org/stable/modules/generated/sklearn.feature_extraction.text.CountVectorizer.html \n",
    "#df = df.filter(F.col('words') in ['NT','ACT','SA','TAS','WA','QLD','VIC','NSW'])\n",
    "\n",
    "# 6. Validate take_rate\n",
    "df = df.filter((F.col('take_rate_%').between(0, 100)))\n",
    "\n",
    "# 7. Validate revenue_level\n",
    "df = df.filter(F.col('revenue_level').isin(['a', 'b', 'c', 'd', 'e']))\n",
    "\n",
    "\n",
    "merch_tbl_clean = df\n"
   ]
  },
  {
   "cell_type": "code",
   "execution_count": 51,
   "metadata": {},
   "outputs": [],
   "source": [
    "df = merch_fp\n",
    "\n",
    "df.write.mode('overwrite').parquet(\"../../data/nulls&missing_analysis/merchant/merchant_fraud_probability.parquet\")\n",
    "\n",
    "# 1. Check for Null Values\n",
    "df = df.na.drop()\n",
    "\n",
    "# 2. Check for Duplicates\n",
    "df = df.dropDuplicates()\n",
    "\n",
    "# 3. Validate merchant_abn\n",
    "df = df.filter((F.col('merchant_abn') > 0))\n",
    "\n",
    "# 4. Validate order_datetime for the specified date range\n",
    "start_date = datetime.strptime(\"20210228\", \"%Y%m%d\").date()\n",
    "end_date = datetime.strptime(\"20221026\", \"%Y%m%d\").date()\n",
    "df = df.filter(F.col('order_datetime').between(start_date, end_date))\n",
    "\n",
    "# 5. Validate merchant fraud probability\n",
    "df = df.filter(F.col('merchant_fraud_probability_%').between(0, 100))\n",
    "\n",
    "merch_fp_clean = df\n"
   ]
  },
  {
   "cell_type": "markdown",
   "metadata": {},
   "source": [
    "### External Data"
   ]
  },
  {
   "cell_type": "code",
   "execution_count": 52,
   "metadata": {},
   "outputs": [],
   "source": [
    "# 2021 census data CSVs\n",
    "\n",
    "df = sa2_census\n",
    "\n",
    "df.write.mode('overwrite').parquet(\"../../data/nulls&missing_analysis/sa2/sa2_census.parquet\")\n",
    "\n",
    "# 1. Remove Null Values\n",
    "df = df.na.drop()\n",
    "\n",
    "# 2. Check for Duplicates\n",
    "df = df.dropDuplicates()\n",
    "\n",
    "# 3. Validate sa2_code\n",
    "df = df.filter(F.col('sa2_code') > 0)\n",
    "\n",
    "# 4. Validate median_age\n",
    "df = df.filter(F.col('sa2_median_age') >= 0)\n",
    "\n",
    "# 5. Validate median mortgage repay monthly\n",
    "df = df.filter(F.col('sa2_median_mortgage_repay_monthly') >= 0)\n",
    "\n",
    "# 6. Validate median total personal weekly income\n",
    "df = df.filter(F.col('sa2_median_tot_prsnl_inc_weekly') >= 0)\n",
    "\n",
    "# 7. Validate median weekly rent\n",
    "df = df.filter(F.col('sa2_median_rent_weekly') >= 0)\n",
    "\n",
    "# 8. Validate median total family weekly income\n",
    "df = df.filter(F.col('sa2_median_tot_fam_inc_weekly') >= 0)\n",
    "\n",
    "# 9. Validate average number of persons per bedroom\n",
    "df = df.filter(F.col('sa2_average_num_psns_per_bedroom') >= 0)\n",
    "\n",
    "# 10. Validate median total household weekly income\n",
    "df = df.filter(F.col('sa2_median_tot_hhd_inc_weekly') >= 0)\n",
    "\n",
    "# 11. Validate average household size\n",
    "df = df.filter(F.col('sa2_average_household_size') >= 0)\n",
    "\n",
    "sa2_census_clean = df"
   ]
  },
  {
   "cell_type": "code",
   "execution_count": 53,
   "metadata": {},
   "outputs": [],
   "source": [
    "###############################################################################################################################################################################################"
   ]
  },
  {
   "cell_type": "code",
   "execution_count": 54,
   "metadata": {},
   "outputs": [
    {
     "name": "stdout",
     "output_type": "stream",
     "text": [
      "root\n",
      " |-- sa4_name: string (nullable = true)\n",
      " |-- sa3_name: string (nullable = true)\n",
      " |-- sa2_code: long (nullable = true)\n",
      " |-- sa2_name: string (nullable = true)\n",
      " |-- population_2021: long (nullable = true)\n",
      "\n"
     ]
    }
   ],
   "source": [
    "sa2_pops.limit(10)\n",
    "\n",
    "sa2_pops.printSchema()"
   ]
  },
  {
   "cell_type": "code",
   "execution_count": 55,
   "metadata": {},
   "outputs": [
    {
     "name": "stderr",
     "output_type": "stream",
     "text": [
      "                                                                                \r"
     ]
    }
   ],
   "source": [
    "df = sa2_pops\n",
    "\n",
    "df.write.mode('overwrite').parquet(\"../../data/nulls&missing_analysis/sa2/sa2_pops.parquet\")\n",
    "\n",
    "# 1. Remove Null Values\n",
    "df = df.na.drop()\n",
    "\n",
    "# 2. Check for Duplicates\n",
    "df = df.dropDuplicates()\n",
    "\n",
    "# 3. Validate population\n",
    "df = df.filter(F.col('population_2021') >= 0)\n",
    "\n",
    "sa2_pops_clean = df\n"
   ]
  },
  {
   "cell_type": "code",
   "execution_count": 56,
   "metadata": {},
   "outputs": [],
   "source": [
    "###############################################################################################################################################################################################"
   ]
  },
  {
   "cell_type": "code",
   "execution_count": 57,
   "metadata": {},
   "outputs": [
    {
     "data": {
      "text/html": [
       "<table border='1'>\n",
       "<tr><th>postcode</th><th>sa2_code</th></tr>\n",
       "<tr><td>800</td><td>701011002</td></tr>\n",
       "<tr><td>810</td><td>701021029</td></tr>\n",
       "<tr><td>810</td><td>701021026</td></tr>\n",
       "<tr><td>810</td><td>701021027</td></tr>\n",
       "<tr><td>810</td><td>701021016</td></tr>\n",
       "<tr><td>810</td><td>701021023</td></tr>\n",
       "<tr><td>810</td><td>701021018</td></tr>\n",
       "<tr><td>810</td><td>701021010</td></tr>\n",
       "<tr><td>810</td><td>701021024</td></tr>\n",
       "<tr><td>810</td><td>701021013</td></tr>\n",
       "</table>\n"
      ],
      "text/plain": [
       "+--------+---------+\n",
       "|postcode| sa2_code|\n",
       "+--------+---------+\n",
       "|     800|701011002|\n",
       "|     810|701021029|\n",
       "|     810|701021026|\n",
       "|     810|701021027|\n",
       "|     810|701021016|\n",
       "|     810|701021023|\n",
       "|     810|701021018|\n",
       "|     810|701021010|\n",
       "|     810|701021024|\n",
       "|     810|701021013|\n",
       "+--------+---------+"
      ]
     },
     "execution_count": 57,
     "metadata": {},
     "output_type": "execute_result"
    }
   ],
   "source": [
    "df = sa2_to_postcode\n",
    "\n",
    "df.write.mode('overwrite').parquet(\"../../data/nulls&missing_analysis/sa2/sa2_to_postcode.parquet\")\n",
    "\n",
    "# 1. Check for Null Values\n",
    "df = df.na.drop()\n",
    "\n",
    "# 2. Check for Duplicates\n",
    "df = df.dropDuplicates()\n",
    "\n",
    "# No need to validate postcode as inner join will be performed with validated postcodes\n",
    "\n",
    "sa2_to_postcode_clean=df\n",
    "\n",
    "sa2_to_postcode_clean.sort('postcode').limit(10)\n",
    "\n"
   ]
  },
  {
   "cell_type": "markdown",
   "metadata": {},
   "source": [
    "### Aggregation"
   ]
  },
  {
   "cell_type": "code",
   "execution_count": 58,
   "metadata": {},
   "outputs": [],
   "source": [
    "output_relative_dir = '../data/curated/'\n",
    "\n",
    "# check if it exists as it makedir will raise an error if it does exist\n",
    "if not os.path.exists(output_relative_dir):\n",
    "    os.makedirs(output_relative_dir)\n",
    "   \n",
    "\n",
    "# now, for each type of data set we will need, we will create the paths\n",
    "for target_dir in ('consumer', 'merchant'): # taxi_zones should already exist\n",
    "    if not os.path.exists(output_relative_dir + target_dir):\n",
    "        os.makedirs(output_relative_dir + target_dir)\n"
   ]
  },
  {
   "cell_type": "code",
   "execution_count": 59,
   "metadata": {},
   "outputs": [],
   "source": [
    "#cons_combined = "
   ]
  },
  {
   "cell_type": "code",
   "execution_count": 60,
   "metadata": {},
   "outputs": [],
   "source": [
    "#cons_combined.limit(5)"
   ]
  },
  {
   "cell_type": "code",
   "execution_count": 61,
   "metadata": {},
   "outputs": [],
   "source": [
    "#cons_combined.write.parquet(\"../data/curated/consumer/consumer_combined.parquet\")"
   ]
  },
  {
   "cell_type": "code",
   "execution_count": 62,
   "metadata": {},
   "outputs": [],
   "source": [
    "#merch_combined"
   ]
  },
  {
   "cell_type": "code",
   "execution_count": 63,
   "metadata": {},
   "outputs": [],
   "source": [
    "#merch_combined.limit(5)"
   ]
  },
  {
   "cell_type": "code",
   "execution_count": 64,
   "metadata": {},
   "outputs": [],
   "source": [
    "#merch_combined.write.parquet(\"../data/curated/merchant/merchant_combined.parquet\")"
   ]
  },
  {
   "cell_type": "code",
   "execution_count": 65,
   "metadata": {},
   "outputs": [],
   "source": [
    "orig_combined = cust_tbl_clean.join(cust_user_det_clean, on='consumer_id', how='inner') \\\n",
    ".join(transactions_all_clean, on='user_id', how ='inner') \\\n",
    ".join(cust_fp_clean, on=['user_id', 'order_datetime'], how='left').na.fill(0) \\\n",
    ".join(merch_tbl_clean, on='merchant_abn', how='inner') \\\n",
    ".join(merch_fp_clean, on=['merchant_abn', 'order_datetime'], how='left').na.fill(0)\n",
    "\n"
   ]
  },
  {
   "cell_type": "code",
   "execution_count": null,
   "metadata": {},
   "outputs": [],
   "source": []
  },
  {
   "cell_type": "code",
   "execution_count": 66,
   "metadata": {},
   "outputs": [],
   "source": [
    "new_column_name_list= ['sa2_code'] + ['consumer_' + col for col in sa2_census_clean.columns[1:]]\n",
    "\n",
    "sa2_census_clean = sa2_census_clean.toDF(*new_column_name_list)\n",
    "\n",
    "sa2_combined = sa2_to_postcode_clean.join(sa2_pops_clean, on='sa2_code', how='inner').withColumnRenamed('population_2021','sa2_population').join(sa2_census, on='sa2_code', how='inner')\n"
   ]
  },
  {
   "cell_type": "code",
   "execution_count": 67,
   "metadata": {},
   "outputs": [],
   "source": [
    "all_combined = orig_combined.join(sa2_combined.withColumnRenamed('postcode','consumer_postcode'), on='consumer_postcode', how='inner')"
   ]
  },
  {
   "cell_type": "code",
   "execution_count": 68,
   "metadata": {},
   "outputs": [],
   "source": [
    "all_combined = all_combined.withColumnRenamed(\n",
    "    'sa2_code',\n",
    "    'consumer_sa2_code'\n",
    ").withColumnRenamed(\n",
    "    'sa4_name',\n",
    "    'consumer_sa4_name'\n",
    ").withColumnRenamed(\n",
    "    'sa3_name',\n",
    "    'consumer_sa3_name'\n",
    ").withColumnRenamed(\n",
    "    'sa2_name',\n",
    "    'consumer_sa2_name'\n",
    ").withColumnRenamed(\n",
    "    'sa2_population_2021',\n",
    "    'consumer_sa2_pop_2021'\n",
    ").withColumnRenamed(\n",
    "    'words',\n",
    "    'merchant_description'\n",
    ").withColumnRenamed(\n",
    "    'revenue_level',\n",
    "    'merchant_revenue_level'\n",
    ").withColumnRenamed(\n",
    "    'take_rate_%',\n",
    "    'merchant_take_rate_%'\n",
    ")\n",
    "\n"
   ]
  },
  {
   "cell_type": "code",
   "execution_count": 69,
   "metadata": {},
   "outputs": [
    {
     "name": "stderr",
     "output_type": "stream",
     "text": [
      "23/09/05 21:38:07 WARN package: Truncated the string representation of a plan since it was too large. This behavior can be adjusted by setting 'spark.sql.debug.maxToStringFields'.\n",
      "                                                                                \r"
     ]
    },
    {
     "data": {
      "text/html": [
       "<table border='1'>\n",
       "<tr><th>consumer_postcode</th><th>merchant_abn</th><th>order_datetime</th><th>user_id</th><th>consumer_id</th><th>consumer_name</th><th>consumer_state</th><th>consumer_gender</th><th>dollar_value</th><th>consumer_fraud_probability_%</th><th>merchant_name</th><th>merchant_description</th><th>merchant_revenue_level</th><th>merchant_take_rate_%</th><th>merchant_fraud_probability_%</th><th>consumer_sa2_code</th><th>consumer_sa4_name</th><th>consumer_sa3_name</th><th>consumer_sa2_name</th><th>sa2_population</th><th>sa2_median_age</th><th>sa2_median_mortgage_repay_monthly</th><th>sa2_median_tot_prsnl_inc_weekly</th><th>sa2_median_rent_weekly</th><th>sa2_median_tot_fam_inc_weekly</th><th>sa2_average_num_psns_per_bedroom</th><th>sa2_median_tot_hhd_inc_weekly</th><th>sa2_average_household_size</th></tr>\n",
       "<tr><td>4606</td><td>49505931725</td><td>2022-10-13</td><td>7</td><td>511685</td><td>Andrea Jones</td><td>QLD</td><td>Female</td><td>80.56308158918402</td><td>0.0</td><td>Suspendisse Ac As...</td><td>digital goods: bo...</td><td>b</td><td>4.7</td><td>0.0</td><td>319021506</td><td>Wide Bay</td><td>Burnett</td><td>Kingaroy Surround...</td><td>9615</td><td>47</td><td>992</td><td>490</td><td>180</td><td>1190</td><td>0.8</td><td>950</td><td>2.4</td></tr>\n",
       "<tr><td>4606</td><td>80518954462</td><td>2021-04-11</td><td>7</td><td>511685</td><td>Andrea Jones</td><td>QLD</td><td>Female</td><td>248.259198693175</td><td>0.0</td><td>Neque Sed Dictum ...</td><td>computers, compUt...</td><td>b</td><td>3.49</td><td>0.0</td><td>319021506</td><td>Wide Bay</td><td>Burnett</td><td>Kingaroy Surround...</td><td>9615</td><td>47</td><td>992</td><td>490</td><td>180</td><td>1190</td><td>0.8</td><td>950</td><td>2.4</td></tr>\n",
       "<tr><td>4606</td><td>20885454195</td><td>2021-06-29</td><td>7</td><td>511685</td><td>Andrea Jones</td><td>QLD</td><td>Female</td><td>106.09604494465586</td><td>0.0</td><td>Pharetra Ut Indus...</td><td>cable, satellite,...</td><td>b</td><td>4.94</td><td>0.0</td><td>319021506</td><td>Wide Bay</td><td>Burnett</td><td>Kingaroy Surround...</td><td>9615</td><td>47</td><td>992</td><td>490</td><td>180</td><td>1190</td><td>0.8</td><td>950</td><td>2.4</td></tr>\n",
       "<tr><td>4606</td><td>78327477486</td><td>2022-05-24</td><td>7</td><td>511685</td><td>Andrea Jones</td><td>QLD</td><td>Female</td><td>250.1700381157457</td><td>0.0</td><td>Auctor Inc.</td><td>lawn and garden s...</td><td>c</td><td>1.47</td><td>0.0</td><td>319021506</td><td>Wide Bay</td><td>Burnett</td><td>Kingaroy Surround...</td><td>9615</td><td>47</td><td>992</td><td>490</td><td>180</td><td>1190</td><td>0.8</td><td>950</td><td>2.4</td></tr>\n",
       "<tr><td>4606</td><td>90173050473</td><td>2022-03-14</td><td>7</td><td>511685</td><td>Andrea Jones</td><td>QLD</td><td>Female</td><td>108.27880211271156</td><td>0.0</td><td>Lobortis Class In...</td><td>lawn and garden s...</td><td>c</td><td>2.49</td><td>0.0</td><td>319021506</td><td>Wide Bay</td><td>Burnett</td><td>Kingaroy Surround...</td><td>9615</td><td>47</td><td>992</td><td>490</td><td>180</td><td>1190</td><td>0.8</td><td>950</td><td>2.4</td></tr>\n",
       "</table>\n"
      ],
      "text/plain": [
       "+-----------------+------------+--------------+-------+-----------+-------------+--------------+---------------+------------------+----------------------------+--------------------+--------------------+----------------------+--------------------+----------------------------+-----------------+-----------------+-----------------+--------------------+--------------+--------------+---------------------------------+-------------------------------+----------------------+-----------------------------+--------------------------------+-----------------------------+--------------------------+\n",
       "|consumer_postcode|merchant_abn|order_datetime|user_id|consumer_id|consumer_name|consumer_state|consumer_gender|      dollar_value|consumer_fraud_probability_%|       merchant_name|merchant_description|merchant_revenue_level|merchant_take_rate_%|merchant_fraud_probability_%|consumer_sa2_code|consumer_sa4_name|consumer_sa3_name|   consumer_sa2_name|sa2_population|sa2_median_age|sa2_median_mortgage_repay_monthly|sa2_median_tot_prsnl_inc_weekly|sa2_median_rent_weekly|sa2_median_tot_fam_inc_weekly|sa2_average_num_psns_per_bedroom|sa2_median_tot_hhd_inc_weekly|sa2_average_household_size|\n",
       "+-----------------+------------+--------------+-------+-----------+-------------+--------------+---------------+------------------+----------------------------+--------------------+--------------------+----------------------+--------------------+----------------------------+-----------------+-----------------+-----------------+--------------------+--------------+--------------+---------------------------------+-------------------------------+----------------------+-----------------------------+--------------------------------+-----------------------------+--------------------------+\n",
       "|             4606| 49505931725|    2022-10-13|      7|     511685| Andrea Jones|           QLD|         Female| 80.56308158918402|                         0.0|Suspendisse Ac As...|digital goods: bo...|                     b|                 4.7|                         0.0|        319021506|         Wide Bay|          Burnett|Kingaroy Surround...|          9615|            47|                              992|                            490|                   180|                         1190|                             0.8|                          950|                       2.4|\n",
       "|             4606| 80518954462|    2021-04-11|      7|     511685| Andrea Jones|           QLD|         Female|  248.259198693175|                         0.0|Neque Sed Dictum ...|computers, compUt...|                     b|                3.49|                         0.0|        319021506|         Wide Bay|          Burnett|Kingaroy Surround...|          9615|            47|                              992|                            490|                   180|                         1190|                             0.8|                          950|                       2.4|\n",
       "|             4606| 20885454195|    2021-06-29|      7|     511685| Andrea Jones|           QLD|         Female|106.09604494465586|                         0.0|Pharetra Ut Indus...|cable, satellite,...|                     b|                4.94|                         0.0|        319021506|         Wide Bay|          Burnett|Kingaroy Surround...|          9615|            47|                              992|                            490|                   180|                         1190|                             0.8|                          950|                       2.4|\n",
       "|             4606| 78327477486|    2022-05-24|      7|     511685| Andrea Jones|           QLD|         Female| 250.1700381157457|                         0.0|         Auctor Inc.|lawn and garden s...|                     c|                1.47|                         0.0|        319021506|         Wide Bay|          Burnett|Kingaroy Surround...|          9615|            47|                              992|                            490|                   180|                         1190|                             0.8|                          950|                       2.4|\n",
       "|             4606| 90173050473|    2022-03-14|      7|     511685| Andrea Jones|           QLD|         Female|108.27880211271156|                         0.0|Lobortis Class In...|lawn and garden s...|                     c|                2.49|                         0.0|        319021506|         Wide Bay|          Burnett|Kingaroy Surround...|          9615|            47|                              992|                            490|                   180|                         1190|                             0.8|                          950|                       2.4|\n",
       "+-----------------+------------+--------------+-------+-----------+-------------+--------------+---------------+------------------+----------------------------+--------------------+--------------------+----------------------+--------------------+----------------------------+-----------------+-----------------+-----------------+--------------------+--------------+--------------+---------------------------------+-------------------------------+----------------------+-----------------------------+--------------------------------+-----------------------------+--------------------------+"
      ]
     },
     "execution_count": 69,
     "metadata": {},
     "output_type": "execute_result"
    }
   ],
   "source": [
    "all_combined.limit(5)"
   ]
  },
  {
   "cell_type": "code",
   "execution_count": 70,
   "metadata": {},
   "outputs": [
    {
     "name": "stderr",
     "output_type": "stream",
     "text": [
      "                                                                                \r"
     ]
    },
    {
     "name": "stderr",
     "output_type": "stream",
     "text": [
      "----------------------------------------\n",
      "Exception occurred during processing of request from ('127.0.0.1', 38604)\n",
      "Traceback (most recent call last):\n",
      "  File \"/usr/lib/python3.10/socketserver.py\", line 316, in _handle_request_noblock\n",
      "    self.process_request(request, client_address)\n",
      "  File \"/usr/lib/python3.10/socketserver.py\", line 347, in process_request\n",
      "    self.finish_request(request, client_address)\n",
      "  File \"/usr/lib/python3.10/socketserver.py\", line 360, in finish_request\n",
      "    self.RequestHandlerClass(request, client_address, self)\n",
      "  File \"/usr/lib/python3.10/socketserver.py\", line 747, in __init__\n",
      "    self.handle()\n",
      "  File \"/home/jlafontaine/.local/lib/python3.10/site-packages/pyspark/accumulators.py\", line 281, in handle\n",
      "    poll(accum_updates)\n",
      "  File \"/home/jlafontaine/.local/lib/python3.10/site-packages/pyspark/accumulators.py\", line 253, in poll\n",
      "    if func():\n",
      "  File \"/home/jlafontaine/.local/lib/python3.10/site-packages/pyspark/accumulators.py\", line 257, in accum_updates\n",
      "    num_updates = read_int(self.rfile)\n",
      "  File \"/home/jlafontaine/.local/lib/python3.10/site-packages/pyspark/serializers.py\", line 596, in read_int\n",
      "    raise EOFError\n",
      "EOFError\n",
      "----------------------------------------\n"
     ]
    }
   ],
   "source": [
    "all_combined.write.mode('overwrite').parquet(\"../../data/curated/all_data_combined.parquet\")"
   ]
  }
 ],
 "metadata": {
  "kernelspec": {
   "display_name": "Python 3",
   "language": "python",
   "name": "python3"
  },
  "language_info": {
   "codemirror_mode": {
    "name": "ipython",
    "version": 3
   },
   "file_extension": ".py",
   "mimetype": "text/x-python",
   "name": "python",
   "nbconvert_exporter": "python",
   "pygments_lexer": "ipython3",
   "version": "3.10.12"
  },
  "orig_nbformat": 4
 },
 "nbformat": 4,
 "nbformat_minor": 2
}
