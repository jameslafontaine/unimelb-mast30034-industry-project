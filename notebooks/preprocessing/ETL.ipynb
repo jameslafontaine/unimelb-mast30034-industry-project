{
 "cells": [
  {
   "cell_type": "code",
   "execution_count": 1,
   "metadata": {},
   "outputs": [
    {
     "name": "stderr",
     "output_type": "stream",
     "text": [
      "your 131072x1 screen size is bogus. expect trouble\n",
      "23/09/18 06:36:09 WARN Utils: Your hostname, DESKTOP-SATV84A resolves to a loopback address: 127.0.1.1; using 172.26.254.29 instead (on interface eth0)\n",
      "23/09/18 06:36:09 WARN Utils: Set SPARK_LOCAL_IP if you need to bind to another address\n",
      "Setting default log level to \"WARN\".\n",
      "To adjust logging level use sc.setLogLevel(newLevel). For SparkR, use setLogLevel(newLevel).\n",
      "23/09/18 06:36:10 WARN NativeCodeLoader: Unable to load native-hadoop library for your platform... using builtin-java classes where applicable\n"
     ]
    }
   ],
   "source": [
    "import pandas as pd\n",
    "import os\n",
    "from pyspark.sql import SparkSession, functions as F\n",
    "\n",
    "\n",
    "\n",
    "# Create a spark session (which will run spark jobs)\n",
    "spark = (\n",
    "    SparkSession.builder.appName(\"ETL\")\n",
    "    .config(\"spark.sql.repl.eagerEval.enabled\", True)\n",
    "    .config(\"spark.sql.parquet.cacheMetadata\", \"true\")\n",
    "    .config(\"spark.sql.session.timeZone\", \"Etc/UTC\")\n",
    "    .config('spark.driver.memory', '4g')\n",
    "    .config('spark.executor.memory', '2g')\n",
    "    .getOrCreate()\n",
    ")"
   ]
  },
  {
   "cell_type": "code",
   "execution_count": 2,
   "metadata": {},
   "outputs": [],
   "source": [
    "output_relative_dir = '../../data/curated/'\n",
    "\n",
    "if not os.path.exists(output_relative_dir):\n",
    "    os.makedirs(output_relative_dir)\n",
    "    \n",
    "# now, for each type of data set we will need, we will create the paths\n",
    "for target_dir in ('consumer', 'merchant', 'transaction', 'sa2'): \n",
    "    if not os.path.exists(output_relative_dir + target_dir):\n",
    "        os.makedirs(output_relative_dir + target_dir)\n",
    "        "
   ]
  },
  {
   "cell_type": "code",
   "execution_count": 3,
   "metadata": {},
   "outputs": [],
   "source": [
    "output_relative_dir = '../../data/nulls&missing_analysis/'\n",
    "\n",
    "if not os.path.exists(output_relative_dir):\n",
    "    os.makedirs(output_relative_dir)\n",
    "    \n",
    "# now, for each type of data set we will need, we will create the paths\n",
    "for target_dir in ('consumer', 'merchant', 'transaction', 'sa2'): \n",
    "    if not os.path.exists(output_relative_dir + target_dir):\n",
    "        os.makedirs(output_relative_dir + target_dir)"
   ]
  },
  {
   "cell_type": "code",
   "execution_count": 4,
   "metadata": {},
   "outputs": [
    {
     "name": "stdout",
     "output_type": "stream",
     "text": [
      "Download Start\n",
      "Download Complete\n",
      "Extracted from ZIP 1: 2021Census_G02_AUST_SA2.csv\n",
      "Extracted from ZIP 2: 2022 Locality to 2021 SA2 Coding Index.csv\n"
     ]
    }
   ],
   "source": [
    "from urllib.request import urlretrieve\n",
    "import zipfile\n",
    "\n",
    "# Define the output directory where you want to save the downloaded and extracted files\n",
    "output_relative_dir = '../../data/raw/'\n",
    "\n",
    "if not os.path.exists(output_relative_dir):\n",
    "    os.makedirs(output_relative_dir)\n",
    "    \n",
    "if not os.path.exists(output_relative_dir + \"externaldataset\"):\n",
    "    os.makedirs(output_relative_dir + \"externaldataset\", exist_ok=True)\n",
    "    \n",
    "if not os.path.exists(output_relative_dir + \"externaldataset/postcode_shapefiles\"):\n",
    "    os.makedirs(output_relative_dir + \"externaldataset/postcode_shapefiles\", exist_ok=True)\n",
    "        \n",
    "print(\"Download Start\")\n",
    "    \n",
    "# URL for the first dataset\n",
    "url1 = \"https://www.abs.gov.au/census/find-census-data/datapacks/download/2021_GCP_SA2_for_AUS_short-header.zip\"\n",
    "output_file1 = output_relative_dir + \"/externaldataset/2021_GCP_SA2_for_AUS_short-header.zip\"\n",
    "urlretrieve(url1, output_file1)\n",
    "    \n",
    "# URL for the second dataset\n",
    "url2 = \"https://data.gov.au/data/dataset/6cd8989d-4aca-46b7-b93e-77befcffa0b6/resource/cb659d81-5bd2-41f5-a3d0-67257c9a5893/download/asgs2021codingindexs.zip\"\n",
    "output_file2 = output_relative_dir + \"/externaldataset/asgs2021codingindexs.zip\"\n",
    "urlretrieve(url2, output_file2)\n",
    "    \n",
    "# URL for the third dataset\n",
    "    \n",
    "url3 = \"https://www.abs.gov.au/statistics/people/population/regional-population/2021-22/32180DS0003_2001-22r.xlsx\"\n",
    "output_file3 = output_relative_dir + \"/externaldataset/SA2_Populations_AUS.xlsx\"\n",
    "urlretrieve(url3, output_file3)\n",
    "    \n",
    "print(\"Download Complete\")\n",
    "\n",
    "# List of files to extract from the ZIP files\n",
    "files_to_extract1 = [\n",
    "    \"2021Census_G02_AUST_SA2.csv\",\n",
    "]\n",
    "\n",
    "# file from the second dataset\n",
    "files_to_extract2 = [\n",
    "    \"2022 Locality to 2021 SA2 Coding Index.csv\"    \n",
    "]\n",
    "\n",
    "# Path to the ZIP files\n",
    "zip_file_path1 = output_file1\n",
    "zip_file_path2 = output_file2\n",
    "\n",
    "# Destination folder for extraction\n",
    "destination_folder = \"../../data/raw/externaldataset\"\n",
    "\n",
    "# Extract files from the first ZIP file\n",
    "with zipfile.ZipFile(zip_file_path1, 'r') as zip_ref:\n",
    "    for file_name in files_to_extract1:\n",
    "        try:\n",
    "            zip_ref.extract(f\"2021 Census GCP Statistical Area 2 for AUS/{file_name}\", destination_folder)\n",
    "            print(f\"Extracted from ZIP 1: {file_name}\")\n",
    "        except KeyError:\n",
    "            print(f\"File not found in ZIP 1: {file_name}\")\n",
    "\n",
    "# Extract files from the second ZIP file\n",
    "with zipfile.ZipFile(zip_file_path2, 'r') as zip_ref:\n",
    "    for file_name in files_to_extract2:\n",
    "        try:\n",
    "            zip_ref.extract(file_name, destination_folder)\n",
    "            print(f\"Extracted from ZIP 2: {file_name}\")\n",
    "        except KeyError:\n",
    "            print(f\"File not found in ZIP 2: {file_name}\")\n",
    "            \n",
    "\n",
    "# URL where the zipfile of the shapefiles are stored on the ABS website\n",
    "zip_file_url = \"https://www.abs.gov.au/statistics/standards/australian-statistical-geography-standard-asgs-edition-3/jul2021-jun2026/access-and-downloads/digital-boundary-files/POA_2021_AUST_GDA94_SHP.zip\"\n",
    "r = requests.get(zip_file_url)\n",
    "z = zipfile.ZipFile(io.BytesIO(r.content))\n",
    "\n",
    "dir = \"data/raw/externaldataset/postcode_shapefiles\"\n",
    "\n",
    "print(\"Downloading and extracting shapefiles...\")\n",
    "\n",
    "# writing data into directory\n",
    "z.extractall(dir)"
   ]
  },
  {
   "cell_type": "markdown",
   "metadata": {},
   "source": [
    "## Load in datasets"
   ]
  },
  {
   "cell_type": "markdown",
   "metadata": {},
   "source": [
    "### Transactions"
   ]
  },
  {
   "cell_type": "code",
   "execution_count": 5,
   "metadata": {},
   "outputs": [
    {
     "name": "stderr",
     "output_type": "stream",
     "text": [
      "                                                                                \r"
     ]
    },
    {
     "name": "stdout",
     "output_type": "stream",
     "text": [
      "root\n",
      " |-- user_id: long (nullable = true)\n",
      " |-- merchant_abn: long (nullable = true)\n",
      " |-- dollar_value: double (nullable = true)\n",
      " |-- order_id: string (nullable = true)\n",
      " |-- order_datetime: date (nullable = true)\n",
      "\n",
      "root\n",
      " |-- user_id: long (nullable = true)\n",
      " |-- merchant_abn: long (nullable = true)\n",
      " |-- dollar_value: double (nullable = true)\n",
      " |-- order_id: string (nullable = true)\n",
      " |-- order_datetime: date (nullable = true)\n",
      "\n",
      "root\n",
      " |-- user_id: long (nullable = true)\n",
      " |-- merchant_abn: long (nullable = true)\n",
      " |-- dollar_value: double (nullable = true)\n",
      " |-- order_id: string (nullable = true)\n",
      " |-- order_datetime: date (nullable = true)\n",
      "\n"
     ]
    },
    {
     "data": {
      "text/html": [
       "<table border='1'>\n",
       "<tr><th>user_id</th><th>merchant_abn</th><th>dollar_value</th><th>order_id</th><th>order_datetime</th></tr>\n",
       "<tr><td>18478</td><td>62191208634</td><td>63.255848959735246</td><td>949a63c8-29f7-4ab...</td><td>2021-08-20</td></tr>\n",
       "<tr><td>2</td><td>15549624934</td><td>130.3505283105634</td><td>6a84c3cf-612a-457...</td><td>2021-08-20</td></tr>\n",
       "<tr><td>18479</td><td>64403598239</td><td>120.15860593212783</td><td>b10dcc33-e53f-425...</td><td>2021-08-20</td></tr>\n",
       "<tr><td>3</td><td>60956456424</td><td>136.6785200286976</td><td>0f09c5a5-784e-447...</td><td>2021-08-20</td></tr>\n",
       "<tr><td>18479</td><td>94493496784</td><td>72.96316578355305</td><td>f6c78c1a-4600-4c5...</td><td>2021-08-20</td></tr>\n",
       "<tr><td>3</td><td>76819856970</td><td>448.529684285612</td><td>5ace6a24-cdf0-4aa...</td><td>2021-08-20</td></tr>\n",
       "<tr><td>18479</td><td>67609108741</td><td>86.4040605836911</td><td>d0e180f0-cb06-42a...</td><td>2021-08-20</td></tr>\n",
       "<tr><td>3</td><td>34096466752</td><td>301.5793450525113</td><td>6fb1ff48-24bb-4f9...</td><td>2021-08-20</td></tr>\n",
       "<tr><td>18482</td><td>70501974849</td><td>68.75486276223054</td><td>8505fb33-b69a-412...</td><td>2021-08-20</td></tr>\n",
       "<tr><td>4</td><td>49891706470</td><td>48.89796461900801</td><td>ed11e477-b09f-4ae...</td><td>2021-08-20</td></tr>\n",
       "</table>\n"
      ],
      "text/plain": [
       "+-------+------------+------------------+--------------------+--------------+\n",
       "|user_id|merchant_abn|      dollar_value|            order_id|order_datetime|\n",
       "+-------+------------+------------------+--------------------+--------------+\n",
       "|  18478| 62191208634|63.255848959735246|949a63c8-29f7-4ab...|    2021-08-20|\n",
       "|      2| 15549624934| 130.3505283105634|6a84c3cf-612a-457...|    2021-08-20|\n",
       "|  18479| 64403598239|120.15860593212783|b10dcc33-e53f-425...|    2021-08-20|\n",
       "|      3| 60956456424| 136.6785200286976|0f09c5a5-784e-447...|    2021-08-20|\n",
       "|  18479| 94493496784| 72.96316578355305|f6c78c1a-4600-4c5...|    2021-08-20|\n",
       "|      3| 76819856970|  448.529684285612|5ace6a24-cdf0-4aa...|    2021-08-20|\n",
       "|  18479| 67609108741|  86.4040605836911|d0e180f0-cb06-42a...|    2021-08-20|\n",
       "|      3| 34096466752| 301.5793450525113|6fb1ff48-24bb-4f9...|    2021-08-20|\n",
       "|  18482| 70501974849| 68.75486276223054|8505fb33-b69a-412...|    2021-08-20|\n",
       "|      4| 49891706470| 48.89796461900801|ed11e477-b09f-4ae...|    2021-08-20|\n",
       "+-------+------------+------------------+--------------------+--------------+"
      ]
     },
     "execution_count": 5,
     "metadata": {},
     "output_type": "execute_result"
    }
   ],
   "source": [
    "# 'transactions.parquet' files\n",
    "path = '../../data/raw/tables/transactions_20210228_20210827_snapshot'\n",
    "transactions_21_02_21_08 = spark.read.parquet(path)\n",
    "\n",
    "transactions_21_02_21_08.printSchema()\n",
    "\n",
    "\n",
    "path = '../../data/raw/tables/transactions_20210828_20220227_snapshot'\n",
    "transactions_21_08_22_02 = spark.read.parquet(path)\n",
    "\n",
    "transactions_21_08_22_02.printSchema()\n",
    "\n",
    "path = '../../data/raw/tables/transactions_20220228_20220828_snapshot'\n",
    "transactions_22_02_22_08 = spark.read.parquet(path)\n",
    "\n",
    "transactions_22_02_22_08.printSchema()\n",
    "\n",
    "transactions_21_02_21_08.limit(10)\n"
   ]
  },
  {
   "cell_type": "markdown",
   "metadata": {},
   "source": [
    "### Consumer Data"
   ]
  },
  {
   "cell_type": "code",
   "execution_count": 6,
   "metadata": {},
   "outputs": [
    {
     "name": "stdout",
     "output_type": "stream",
     "text": [
      "root\n",
      " |-- user_id: string (nullable = true)\n",
      " |-- order_datetime: string (nullable = true)\n",
      " |-- fraud_probability: string (nullable = true)\n",
      "\n"
     ]
    },
    {
     "data": {
      "text/html": [
       "<table border='1'>\n",
       "<tr><th>user_id</th><th>order_datetime</th><th>fraud_probability</th></tr>\n",
       "<tr><td>6228</td><td>2021-12-19</td><td>97.6298077657765</td></tr>\n",
       "<tr><td>21419</td><td>2021-12-10</td><td>99.24738020302328</td></tr>\n",
       "<tr><td>5606</td><td>2021-10-17</td><td>84.05825045251777</td></tr>\n",
       "<tr><td>3101</td><td>2021-04-17</td><td>91.42192091901347</td></tr>\n",
       "<tr><td>22239</td><td>2021-10-19</td><td>94.70342477508035</td></tr>\n",
       "<tr><td>16556</td><td>2022-02-20</td><td>89.65663294494827</td></tr>\n",
       "<tr><td>10278</td><td>2021-09-28</td><td>83.59136689427714</td></tr>\n",
       "<tr><td>15790</td><td>2021-12-30</td><td>71.77065889280253</td></tr>\n",
       "<tr><td>5233</td><td>2021-08-29</td><td>85.87123303878818</td></tr>\n",
       "<tr><td>230</td><td>2021-08-28</td><td>86.28328808934151</td></tr>\n",
       "</table>\n"
      ],
      "text/plain": [
       "+-------+--------------+-----------------+\n",
       "|user_id|order_datetime|fraud_probability|\n",
       "+-------+--------------+-----------------+\n",
       "|   6228|    2021-12-19| 97.6298077657765|\n",
       "|  21419|    2021-12-10|99.24738020302328|\n",
       "|   5606|    2021-10-17|84.05825045251777|\n",
       "|   3101|    2021-04-17|91.42192091901347|\n",
       "|  22239|    2021-10-19|94.70342477508035|\n",
       "|  16556|    2022-02-20|89.65663294494827|\n",
       "|  10278|    2021-09-28|83.59136689427714|\n",
       "|  15790|    2021-12-30|71.77065889280253|\n",
       "|   5233|    2021-08-29|85.87123303878818|\n",
       "|    230|    2021-08-28|86.28328808934151|\n",
       "+-------+--------------+-----------------+"
      ]
     },
     "execution_count": 6,
     "metadata": {},
     "output_type": "execute_result"
    }
   ],
   "source": [
    "# 'consumer_fraud_probability.csv' file\n",
    "path = '../../data/raw/tables/consumer_fraud_probability.csv'\n",
    "cust_fp = spark.read.csv(path, header=True)\n",
    "\n",
    "cust_fp.printSchema()\n",
    "cust_fp.limit(10)\n",
    "# cust_fp.dtypes\n",
    "# cust_fp.count()"
   ]
  },
  {
   "cell_type": "code",
   "execution_count": 7,
   "metadata": {},
   "outputs": [
    {
     "name": "stdout",
     "output_type": "stream",
     "text": [
      "root\n",
      " |-- user_id: long (nullable = true)\n",
      " |-- consumer_id: long (nullable = true)\n",
      "\n"
     ]
    },
    {
     "data": {
      "text/html": [
       "<table border='1'>\n",
       "<tr><th>user_id</th><th>consumer_id</th></tr>\n",
       "<tr><td>1</td><td>1195503</td></tr>\n",
       "<tr><td>2</td><td>179208</td></tr>\n",
       "<tr><td>3</td><td>1194530</td></tr>\n",
       "<tr><td>4</td><td>154128</td></tr>\n",
       "<tr><td>5</td><td>712975</td></tr>\n",
       "<tr><td>6</td><td>407340</td></tr>\n",
       "<tr><td>7</td><td>511685</td></tr>\n",
       "<tr><td>8</td><td>448088</td></tr>\n",
       "<tr><td>9</td><td>650435</td></tr>\n",
       "<tr><td>10</td><td>1058499</td></tr>\n",
       "</table>\n"
      ],
      "text/plain": [
       "+-------+-----------+\n",
       "|user_id|consumer_id|\n",
       "+-------+-----------+\n",
       "|      1|    1195503|\n",
       "|      2|     179208|\n",
       "|      3|    1194530|\n",
       "|      4|     154128|\n",
       "|      5|     712975|\n",
       "|      6|     407340|\n",
       "|      7|     511685|\n",
       "|      8|     448088|\n",
       "|      9|     650435|\n",
       "|     10|    1058499|\n",
       "+-------+-----------+"
      ]
     },
     "execution_count": 7,
     "metadata": {},
     "output_type": "execute_result"
    }
   ],
   "source": [
    "# 'consumer_user_details.parquet' file\n",
    "path = '../../data/raw/tables/consumer_user_details.parquet'\n",
    "cust_user_det = spark.read.parquet(path)\n",
    "\n",
    "cust_user_det.printSchema()\n",
    "cust_user_det.limit(10)\n",
    "# cust_user_det.count()"
   ]
  },
  {
   "cell_type": "code",
   "execution_count": 8,
   "metadata": {},
   "outputs": [
    {
     "name": "stdout",
     "output_type": "stream",
     "text": [
      "root\n",
      " |-- name: string (nullable = true)\n",
      " |-- address: string (nullable = true)\n",
      " |-- state: string (nullable = true)\n",
      " |-- postcode: string (nullable = true)\n",
      " |-- gender: string (nullable = true)\n",
      " |-- consumer_id: string (nullable = true)\n",
      "\n"
     ]
    },
    {
     "data": {
      "text/html": [
       "<table border='1'>\n",
       "<tr><th>name</th><th>address</th><th>state</th><th>postcode</th><th>gender</th><th>consumer_id</th></tr>\n",
       "<tr><td>Yolanda Williams</td><td>413 Haney Gardens...</td><td>WA</td><td>6935</td><td>Female</td><td>1195503</td></tr>\n",
       "<tr><td>Mary Smith</td><td>3764 Amber Oval</td><td>NSW</td><td>2782</td><td>Female</td><td>179208</td></tr>\n",
       "<tr><td>Jill Jones MD</td><td>40693 Henry Greens</td><td>NT</td><td>862</td><td>Female</td><td>1194530</td></tr>\n",
       "<tr><td>Lindsay Jimenez</td><td>00653 Davenport C...</td><td>NSW</td><td>2780</td><td>Female</td><td>154128</td></tr>\n",
       "<tr><td>Rebecca Blanchard</td><td>9271 Michael Mano...</td><td>WA</td><td>6355</td><td>Female</td><td>712975</td></tr>\n",
       "<tr><td>Karen Chapman</td><td>2706 Stewart Oval...</td><td>NSW</td><td>2033</td><td>Female</td><td>407340</td></tr>\n",
       "<tr><td>Andrea Jones</td><td>122 Brandon Cliff</td><td>QLD</td><td>4606</td><td>Female</td><td>511685</td></tr>\n",
       "<tr><td>Stephen Williams</td><td>6804 Wright Crest...</td><td>WA</td><td>6056</td><td>Male</td><td>448088</td></tr>\n",
       "<tr><td>Stephanie Reyes</td><td>5813 Denise Land ...</td><td>NSW</td><td>2482</td><td>Female</td><td>650435</td></tr>\n",
       "<tr><td>Jillian Gonzales</td><td>461 Ryan Common S...</td><td>VIC</td><td>3220</td><td>Female</td><td>1058499</td></tr>\n",
       "</table>\n"
      ],
      "text/plain": [
       "+-----------------+--------------------+-----+--------+------+-----------+\n",
       "|             name|             address|state|postcode|gender|consumer_id|\n",
       "+-----------------+--------------------+-----+--------+------+-----------+\n",
       "| Yolanda Williams|413 Haney Gardens...|   WA|    6935|Female|    1195503|\n",
       "|       Mary Smith|     3764 Amber Oval|  NSW|    2782|Female|     179208|\n",
       "|    Jill Jones MD|  40693 Henry Greens|   NT|     862|Female|    1194530|\n",
       "|  Lindsay Jimenez|00653 Davenport C...|  NSW|    2780|Female|     154128|\n",
       "|Rebecca Blanchard|9271 Michael Mano...|   WA|    6355|Female|     712975|\n",
       "|    Karen Chapman|2706 Stewart Oval...|  NSW|    2033|Female|     407340|\n",
       "|     Andrea Jones|   122 Brandon Cliff|  QLD|    4606|Female|     511685|\n",
       "| Stephen Williams|6804 Wright Crest...|   WA|    6056|  Male|     448088|\n",
       "|  Stephanie Reyes|5813 Denise Land ...|  NSW|    2482|Female|     650435|\n",
       "| Jillian Gonzales|461 Ryan Common S...|  VIC|    3220|Female|    1058499|\n",
       "+-----------------+--------------------+-----+--------+------+-----------+"
      ]
     },
     "execution_count": 8,
     "metadata": {},
     "output_type": "execute_result"
    }
   ],
   "source": [
    "# 'tbl_consumer.csv' consumer data file\n",
    "path = '../../data/raw/tables/tbl_consumer.csv'\n",
    "cust_tbl = spark.read.csv(path, sep='|', header=True)\n",
    "\n",
    "cust_tbl.printSchema()\n",
    "cust_tbl.limit(10)\n",
    "# cust_tbl.dtypes\n",
    "# cust_tbl.count()"
   ]
  },
  {
   "cell_type": "markdown",
   "metadata": {},
   "source": [
    "### Merchant Data"
   ]
  },
  {
   "cell_type": "code",
   "execution_count": 9,
   "metadata": {},
   "outputs": [
    {
     "name": "stdout",
     "output_type": "stream",
     "text": [
      "root\n",
      " |-- merchant_abn: string (nullable = true)\n",
      " |-- order_datetime: string (nullable = true)\n",
      " |-- fraud_probability: string (nullable = true)\n",
      "\n"
     ]
    },
    {
     "data": {
      "text/html": [
       "<table border='1'>\n",
       "<tr><th>merchant_abn</th><th>order_datetime</th><th>fraud_probability</th></tr>\n",
       "<tr><td>19492220327</td><td>2021-11-28</td><td>44.403658647495355</td></tr>\n",
       "<tr><td>31334588839</td><td>2021-10-02</td><td>42.75530083865367</td></tr>\n",
       "<tr><td>19492220327</td><td>2021-12-22</td><td>38.867790051131095</td></tr>\n",
       "<tr><td>82999039227</td><td>2021-12-19</td><td>94.1347004808891</td></tr>\n",
       "<tr><td>90918180829</td><td>2021-09-02</td><td>43.32551731714902</td></tr>\n",
       "<tr><td>31334588839</td><td>2021-12-26</td><td>38.36165958070444</td></tr>\n",
       "<tr><td>23686790459</td><td>2021-12-10</td><td>79.4543441508535</td></tr>\n",
       "<tr><td>14827550074</td><td>2021-11-26</td><td>46.45775596795885</td></tr>\n",
       "<tr><td>31334588839</td><td>2021-11-26</td><td>36.20971272078342</td></tr>\n",
       "<tr><td>19492220327</td><td>2021-12-18</td><td>33.819672154331755</td></tr>\n",
       "</table>\n"
      ],
      "text/plain": [
       "+------------+--------------+------------------+\n",
       "|merchant_abn|order_datetime| fraud_probability|\n",
       "+------------+--------------+------------------+\n",
       "| 19492220327|    2021-11-28|44.403658647495355|\n",
       "| 31334588839|    2021-10-02| 42.75530083865367|\n",
       "| 19492220327|    2021-12-22|38.867790051131095|\n",
       "| 82999039227|    2021-12-19|  94.1347004808891|\n",
       "| 90918180829|    2021-09-02| 43.32551731714902|\n",
       "| 31334588839|    2021-12-26| 38.36165958070444|\n",
       "| 23686790459|    2021-12-10|  79.4543441508535|\n",
       "| 14827550074|    2021-11-26| 46.45775596795885|\n",
       "| 31334588839|    2021-11-26| 36.20971272078342|\n",
       "| 19492220327|    2021-12-18|33.819672154331755|\n",
       "+------------+--------------+------------------+"
      ]
     },
     "execution_count": 9,
     "metadata": {},
     "output_type": "execute_result"
    }
   ],
   "source": [
    "# 'merchant_fraud_probability.csv' file\n",
    "path = '../../data/raw/tables/merchant_fraud_probability.csv'\n",
    "merch_fp = spark.read.csv(path, header=True)\n",
    "\n",
    "merch_fp.printSchema()\n",
    "merch_fp.limit(10)\n",
    "# merch_fp.dtypes\n",
    "# merch_fp.count()"
   ]
  },
  {
   "cell_type": "code",
   "execution_count": 10,
   "metadata": {},
   "outputs": [
    {
     "name": "stdout",
     "output_type": "stream",
     "text": [
      "root\n",
      " |-- name: string (nullable = true)\n",
      " |-- tags: string (nullable = true)\n",
      " |-- merchant_abn: long (nullable = true)\n",
      "\n"
     ]
    },
    {
     "data": {
      "text/html": [
       "<table border='1'>\n",
       "<tr><th>name</th><th>tags</th><th>merchant_abn</th></tr>\n",
       "<tr><td>Felis Limited</td><td>((furniture, home...</td><td>10023283211</td></tr>\n",
       "<tr><td>Arcu Ac Orci Corp...</td><td>([cable, satellit...</td><td>10142254217</td></tr>\n",
       "<tr><td>Nunc Sed Company</td><td>([jewelry, watch,...</td><td>10165489824</td></tr>\n",
       "<tr><td>Ultricies Digniss...</td><td>([wAtch, clock, a...</td><td>10187291046</td></tr>\n",
       "<tr><td>Enim Condimentum PC</td><td>([music shops - m...</td><td>10192359162</td></tr>\n",
       "<tr><td>Fusce Company</td><td>[(gift, card, nov...</td><td>10206519221</td></tr>\n",
       "<tr><td>Aliquam Enim Inco...</td><td>[(computers, comP...</td><td>10255988167</td></tr>\n",
       "<tr><td>Ipsum Primis Ltd</td><td>[[watch, clock, a...</td><td>10264435225</td></tr>\n",
       "<tr><td>Pede Ultrices Ind...</td><td>([computer progra...</td><td>10279061213</td></tr>\n",
       "<tr><td>Nunc Inc.</td><td>[(furniture, home...</td><td>10323485998</td></tr>\n",
       "</table>\n"
      ],
      "text/plain": [
       "+--------------------+--------------------+------------+\n",
       "|                name|                tags|merchant_abn|\n",
       "+--------------------+--------------------+------------+\n",
       "|       Felis Limited|((furniture, home...| 10023283211|\n",
       "|Arcu Ac Orci Corp...|([cable, satellit...| 10142254217|\n",
       "|    Nunc Sed Company|([jewelry, watch,...| 10165489824|\n",
       "|Ultricies Digniss...|([wAtch, clock, a...| 10187291046|\n",
       "| Enim Condimentum PC|([music shops - m...| 10192359162|\n",
       "|       Fusce Company|[(gift, card, nov...| 10206519221|\n",
       "|Aliquam Enim Inco...|[(computers, comP...| 10255988167|\n",
       "|    Ipsum Primis Ltd|[[watch, clock, a...| 10264435225|\n",
       "|Pede Ultrices Ind...|([computer progra...| 10279061213|\n",
       "|           Nunc Inc.|[(furniture, home...| 10323485998|\n",
       "+--------------------+--------------------+------------+"
      ]
     },
     "execution_count": 10,
     "metadata": {},
     "output_type": "execute_result"
    }
   ],
   "source": [
    "# 'tbl_merchants.csv' merchants data file\n",
    "path = '../../data/raw/tables/tbl_merchants.parquet'\n",
    "merch_tbl = spark.read.parquet(path)\n",
    "\n",
    "merch_tbl.printSchema()\n",
    "merch_tbl.limit(10)"
   ]
  },
  {
   "cell_type": "markdown",
   "metadata": {},
   "source": [
    "### External Data"
   ]
  },
  {
   "cell_type": "code",
   "execution_count": 11,
   "metadata": {},
   "outputs": [
    {
     "data": {
      "text/html": [
       "<table border='1'>\n",
       "<tr><th>SA2_CODE_2021</th><th>Median_age_persons</th><th>Median_mortgage_repay_monthly</th><th>Median_tot_prsnl_inc_weekly</th><th>Median_rent_weekly</th><th>Median_tot_fam_inc_weekly</th><th>Average_num_psns_per_bedroom</th><th>Median_tot_hhd_inc_weekly</th><th>Average_household_size</th></tr>\n",
       "<tr><td>101021007</td><td>51</td><td>1732</td><td>760</td><td>330</td><td>1886</td><td>0.8</td><td>1429</td><td>2.2</td></tr>\n",
       "<tr><td>101021008</td><td>38</td><td>1950</td><td>975</td><td>350</td><td>2334</td><td>0.8</td><td>1989</td><td>2.6</td></tr>\n",
       "<tr><td>101021009</td><td>37</td><td>1700</td><td>996</td><td>330</td><td>2233</td><td>0.9</td><td>1703</td><td>2.1</td></tr>\n",
       "<tr><td>101021010</td><td>36</td><td>1700</td><td>1104</td><td>310</td><td>2412</td><td>0.9</td><td>1796</td><td>2.1</td></tr>\n",
       "<tr><td>101021012</td><td>37</td><td>2300</td><td>1357</td><td>430</td><td>3332</td><td>0.8</td><td>3014</td><td>2.9</td></tr>\n",
       "<tr><td>101021610</td><td>31</td><td>2600</td><td>1629</td><td>531</td><td>3444</td><td>0.8</td><td>3363</td><td>3.1</td></tr>\n",
       "<tr><td>101021611</td><td>42</td><td>2417</td><td>1243</td><td>465</td><td>3117</td><td>0.8</td><td>2926</td><td>2.9</td></tr>\n",
       "<tr><td>101031013</td><td>49</td><td>1083</td><td>704</td><td>200</td><td>1759</td><td>0.7</td><td>1253</td><td>2.2</td></tr>\n",
       "<tr><td>101031014</td><td>44</td><td>1300</td><td>771</td><td>290</td><td>1911</td><td>0.7</td><td>1377</td><td>2.2</td></tr>\n",
       "<tr><td>101031015</td><td>50</td><td>1627</td><td>794</td><td>290</td><td>2068</td><td>0.7</td><td>1596</td><td>2.4</td></tr>\n",
       "</table>\n"
      ],
      "text/plain": [
       "+-------------+------------------+-----------------------------+---------------------------+------------------+-------------------------+----------------------------+-------------------------+----------------------+\n",
       "|SA2_CODE_2021|Median_age_persons|Median_mortgage_repay_monthly|Median_tot_prsnl_inc_weekly|Median_rent_weekly|Median_tot_fam_inc_weekly|Average_num_psns_per_bedroom|Median_tot_hhd_inc_weekly|Average_household_size|\n",
       "+-------------+------------------+-----------------------------+---------------------------+------------------+-------------------------+----------------------------+-------------------------+----------------------+\n",
       "|    101021007|                51|                         1732|                        760|               330|                     1886|                         0.8|                     1429|                   2.2|\n",
       "|    101021008|                38|                         1950|                        975|               350|                     2334|                         0.8|                     1989|                   2.6|\n",
       "|    101021009|                37|                         1700|                        996|               330|                     2233|                         0.9|                     1703|                   2.1|\n",
       "|    101021010|                36|                         1700|                       1104|               310|                     2412|                         0.9|                     1796|                   2.1|\n",
       "|    101021012|                37|                         2300|                       1357|               430|                     3332|                         0.8|                     3014|                   2.9|\n",
       "|    101021610|                31|                         2600|                       1629|               531|                     3444|                         0.8|                     3363|                   3.1|\n",
       "|    101021611|                42|                         2417|                       1243|               465|                     3117|                         0.8|                     2926|                   2.9|\n",
       "|    101031013|                49|                         1083|                        704|               200|                     1759|                         0.7|                     1253|                   2.2|\n",
       "|    101031014|                44|                         1300|                        771|               290|                     1911|                         0.7|                     1377|                   2.2|\n",
       "|    101031015|                50|                         1627|                        794|               290|                     2068|                         0.7|                     1596|                   2.4|\n",
       "+-------------+------------------+-----------------------------+---------------------------+------------------+-------------------------+----------------------------+-------------------------+----------------------+"
      ]
     },
     "execution_count": 11,
     "metadata": {},
     "output_type": "execute_result"
    }
   ],
   "source": [
    "# 2021 census data CSVs\n",
    "\n",
    "path = '../../data/raw/externaldataset/2021 Census GCP Statistical Area 2 for AUS/2021Census_G02_AUST_SA2.csv'\n",
    "sa2_census = spark.read.csv(path, header=True)\n",
    "\n",
    "sa2_census.limit(10)\n"
   ]
  },
  {
   "cell_type": "code",
   "execution_count": 12,
   "metadata": {},
   "outputs": [],
   "source": [
    "###############################################################################################################################################################################################"
   ]
  },
  {
   "cell_type": "code",
   "execution_count": 13,
   "metadata": {},
   "outputs": [
    {
     "data": {
      "text/html": [
       "<div>\n",
       "<style scoped>\n",
       "    .dataframe tbody tr th:only-of-type {\n",
       "        vertical-align: middle;\n",
       "    }\n",
       "\n",
       "    .dataframe tbody tr th {\n",
       "        vertical-align: top;\n",
       "    }\n",
       "\n",
       "    .dataframe thead th {\n",
       "        text-align: right;\n",
       "    }\n",
       "</style>\n",
       "<table border=\"1\" class=\"dataframe\">\n",
       "  <thead>\n",
       "    <tr style=\"text-align: right;\">\n",
       "      <th>6</th>\n",
       "      <th>SA4 name</th>\n",
       "      <th>SA3 name</th>\n",
       "      <th>SA2 code</th>\n",
       "      <th>SA2 name</th>\n",
       "      <th>population_2021</th>\n",
       "    </tr>\n",
       "  </thead>\n",
       "  <tbody>\n",
       "    <tr>\n",
       "      <th>8</th>\n",
       "      <td>Capital Region</td>\n",
       "      <td>Queanbeyan</td>\n",
       "      <td>101021007</td>\n",
       "      <td>Braidwood</td>\n",
       "      <td>4332</td>\n",
       "    </tr>\n",
       "    <tr>\n",
       "      <th>9</th>\n",
       "      <td>Capital Region</td>\n",
       "      <td>Queanbeyan</td>\n",
       "      <td>101021008</td>\n",
       "      <td>Karabar</td>\n",
       "      <td>8548</td>\n",
       "    </tr>\n",
       "    <tr>\n",
       "      <th>10</th>\n",
       "      <td>Capital Region</td>\n",
       "      <td>Queanbeyan</td>\n",
       "      <td>101021009</td>\n",
       "      <td>Queanbeyan</td>\n",
       "      <td>11375</td>\n",
       "    </tr>\n",
       "    <tr>\n",
       "      <th>11</th>\n",
       "      <td>Capital Region</td>\n",
       "      <td>Queanbeyan</td>\n",
       "      <td>101021010</td>\n",
       "      <td>Queanbeyan - East</td>\n",
       "      <td>5097</td>\n",
       "    </tr>\n",
       "    <tr>\n",
       "      <th>12</th>\n",
       "      <td>Capital Region</td>\n",
       "      <td>Queanbeyan</td>\n",
       "      <td>101021012</td>\n",
       "      <td>Queanbeyan West - Jerrabomberra</td>\n",
       "      <td>12748</td>\n",
       "    </tr>\n",
       "  </tbody>\n",
       "</table>\n",
       "</div>"
      ],
      "text/plain": [
       "6         SA4 name    SA3 name   SA2 code                         SA2 name  \\\n",
       "8   Capital Region  Queanbeyan  101021007                        Braidwood   \n",
       "9   Capital Region  Queanbeyan  101021008                          Karabar   \n",
       "10  Capital Region  Queanbeyan  101021009                       Queanbeyan   \n",
       "11  Capital Region  Queanbeyan  101021010                Queanbeyan - East   \n",
       "12  Capital Region  Queanbeyan  101021012  Queanbeyan West - Jerrabomberra   \n",
       "\n",
       "6  population_2021  \n",
       "8             4332  \n",
       "9             8548  \n",
       "10           11375  \n",
       "11            5097  \n",
       "12           12748  "
      ]
     },
     "execution_count": 13,
     "metadata": {},
     "output_type": "execute_result"
    }
   ],
   "source": [
    "# SA2 population data\n",
    "\n",
    "path = '../../data/raw/externaldataset/SA2_Populations_AUS.xlsx'\n",
    "\n",
    "# Have to manually fix the dataframe as the formatting is messed up\n",
    "\n",
    "sa2_pops = pd.read_excel(path, sheet_name=1)\n",
    "\n",
    "# remove empty / useless rows at top\n",
    "sa2_pops = sa2_pops.iloc[5:,:]\n",
    "\n",
    "sa2_pops.head()\n",
    "\n",
    "# drop unnecessary columns\n",
    "sa2_pops = sa2_pops.drop(sa2_pops.iloc[:, 10:30],axis = 1)\n",
    "\n",
    "sa2_pops = sa2_pops.drop(sa2_pops.columns[[0,1,2,3,4,6,11]], axis=1)\n",
    "\n",
    "# fix header\n",
    "sa2_pops.columns = sa2_pops.iloc[1]\n",
    "\n",
    "sa2_pops = sa2_pops[3:]\n",
    "\n",
    "# drop empty rows at bottom of table\n",
    "sa2_pops = sa2_pops.dropna()\n",
    "\n",
    "sa2_pops = sa2_pops.rename(columns={'no.': 'population_2021'})\n",
    "\n",
    "sa2_pops.head()"
   ]
  },
  {
   "cell_type": "code",
   "execution_count": 14,
   "metadata": {},
   "outputs": [],
   "source": [
    "###############################################################################################################################################################################################"
   ]
  },
  {
   "cell_type": "code",
   "execution_count": 15,
   "metadata": {},
   "outputs": [
    {
     "data": {
      "text/html": [
       "<table border='1'>\n",
       "<tr><th>LOCALITY_ID</th><th>LOCALITY_NAME </th><th>LOCALITY_TYPE</th><th>POSTCODE</th><th>STATE</th><th>SA2_MAINCODE_2021</th><th>SA2_NAME_2021</th></tr>\n",
       "<tr><td>ABS195</td><td>ACTON PARK</td><td>EXTRA LOCALITY</td><td>2600</td><td>ACT</td><td>801051123</td><td>Black Mountain</td></tr>\n",
       "<tr><td>loc6f02f098e82d</td><td>ACTON</td><td>GAZETTED LOCALITY</td><td>2601</td><td>ACT</td><td>801051049</td><td>Acton</td></tr>\n",
       "<tr><td>loc6f02f098e82d</td><td>ANU</td><td>ALIAS LOCALITY</td><td>2601</td><td>ACT</td><td>801051049</td><td>Acton</td></tr>\n",
       "<tr><td>loc6f02f098e82d</td><td>AUSTRALIAN NATION...</td><td>ALIAS LOCALITY</td><td>2601</td><td>ACT</td><td>801051049</td><td>Acton</td></tr>\n",
       "<tr><td>loc6f02f098e82d</td><td>SPINNAKER ISLAND</td><td>ALIAS LOCALITY</td><td>2601</td><td>ACT</td><td>801051049</td><td>Acton</td></tr>\n",
       "<tr><td>loc6f02f098e82d</td><td>SPRINGBANK ISLAND</td><td>ALIAS LOCALITY</td><td>2601</td><td>ACT</td><td>801051049</td><td>Acton</td></tr>\n",
       "<tr><td>loc8af26acb532d</td><td>AINSLIE</td><td>GAZETTED LOCALITY</td><td>2602</td><td>ACT</td><td>801051050</td><td>Ainslie</td></tr>\n",
       "<tr><td>locf0cacaa1119e</td><td>AMAROO</td><td>GAZETTED LOCALITY</td><td>2914</td><td>ACT</td><td>801041034</td><td>Amaroo</td></tr>\n",
       "<tr><td>locf94248966b6c</td><td>ARANDA</td><td>GAZETTED LOCALITY</td><td>2614</td><td>ACT</td><td>801011001</td><td>Aranda</td></tr>\n",
       "<tr><td>ABS358</td><td>BELLVIEW</td><td>EXTRA LOCALITY</td><td>2620</td><td>ACT</td><td>801071089</td><td>Tuggeranong</td></tr>\n",
       "</table>\n"
      ],
      "text/plain": [
       "+---------------+--------------------+-----------------+--------+-----+-----------------+--------------+\n",
       "|    LOCALITY_ID|      LOCALITY_NAME |    LOCALITY_TYPE|POSTCODE|STATE|SA2_MAINCODE_2021| SA2_NAME_2021|\n",
       "+---------------+--------------------+-----------------+--------+-----+-----------------+--------------+\n",
       "|         ABS195|          ACTON PARK|   EXTRA LOCALITY|    2600|  ACT|        801051123|Black Mountain|\n",
       "|loc6f02f098e82d|               ACTON|GAZETTED LOCALITY|    2601|  ACT|        801051049|         Acton|\n",
       "|loc6f02f098e82d|                 ANU|   ALIAS LOCALITY|    2601|  ACT|        801051049|         Acton|\n",
       "|loc6f02f098e82d|AUSTRALIAN NATION...|   ALIAS LOCALITY|    2601|  ACT|        801051049|         Acton|\n",
       "|loc6f02f098e82d|    SPINNAKER ISLAND|   ALIAS LOCALITY|    2601|  ACT|        801051049|         Acton|\n",
       "|loc6f02f098e82d|   SPRINGBANK ISLAND|   ALIAS LOCALITY|    2601|  ACT|        801051049|         Acton|\n",
       "|loc8af26acb532d|             AINSLIE|GAZETTED LOCALITY|    2602|  ACT|        801051050|       Ainslie|\n",
       "|locf0cacaa1119e|              AMAROO|GAZETTED LOCALITY|    2914|  ACT|        801041034|        Amaroo|\n",
       "|locf94248966b6c|              ARANDA|GAZETTED LOCALITY|    2614|  ACT|        801011001|        Aranda|\n",
       "|         ABS358|            BELLVIEW|   EXTRA LOCALITY|    2620|  ACT|        801071089|   Tuggeranong|\n",
       "+---------------+--------------------+-----------------+--------+-----+-----------------+--------------+"
      ]
     },
     "execution_count": 15,
     "metadata": {},
     "output_type": "execute_result"
    }
   ],
   "source": [
    "# Locality to SA2 coding index CSV\n",
    "\n",
    "path = '../../data/raw/externaldataset/2022 Locality to 2021 SA2 Coding Index.csv'\n",
    "\n",
    "sa2_to_postcode = spark.read.csv(path, header=True)\n",
    "\n",
    "sa2_to_postcode.limit(10)"
   ]
  },
  {
   "cell_type": "markdown",
   "metadata": {},
   "source": [
    "## 1st Step: Remove useless columns, data type conversions, rename columns where necessary"
   ]
  },
  {
   "cell_type": "markdown",
   "metadata": {},
   "source": [
    "### Transactions"
   ]
  },
  {
   "cell_type": "code",
   "execution_count": 16,
   "metadata": {},
   "outputs": [
    {
     "name": "stdout",
     "output_type": "stream",
     "text": [
      "root\n",
      " |-- user_id: long (nullable = true)\n",
      " |-- merchant_abn: long (nullable = true)\n",
      " |-- dollar_value: double (nullable = true)\n",
      " |-- order_id: string (nullable = true)\n",
      " |-- order_datetime: date (nullable = true)\n",
      "\n",
      "root\n",
      " |-- user_id: long (nullable = true)\n",
      " |-- merchant_abn: long (nullable = true)\n",
      " |-- dollar_value: double (nullable = true)\n",
      " |-- order_id: string (nullable = true)\n",
      " |-- order_datetime: date (nullable = true)\n",
      "\n",
      "root\n",
      " |-- user_id: long (nullable = true)\n",
      " |-- merchant_abn: long (nullable = true)\n",
      " |-- dollar_value: double (nullable = true)\n",
      " |-- order_id: string (nullable = true)\n",
      " |-- order_datetime: date (nullable = true)\n",
      "\n"
     ]
    }
   ],
   "source": [
    "#transactions_21_02_21_08 = transactions_21_02_21_08.drop('order_id')\n",
    "\n",
    "#transactions_21_08_22_02 = transactions_21_08_22_02.drop('order_id')\n",
    "\n",
    "#transactions_22_02_22_08 = transactions_22_02_22_08.drop('order_id')\n",
    "\n",
    "transactions_21_02_21_08.printSchema()\n",
    "\n",
    "transactions_21_08_22_02.printSchema()\n",
    "\n",
    "transactions_22_02_22_08.printSchema()"
   ]
  },
  {
   "cell_type": "markdown",
   "metadata": {},
   "source": [
    "### Consumer Data"
   ]
  },
  {
   "cell_type": "code",
   "execution_count": 17,
   "metadata": {},
   "outputs": [
    {
     "name": "stdout",
     "output_type": "stream",
     "text": [
      "root\n",
      " |-- user_id: long (nullable = true)\n",
      " |-- order_datetime: date (nullable = true)\n",
      " |-- consumer_fraud_probability_%: double (nullable = true)\n",
      "\n"
     ]
    }
   ],
   "source": [
    "cust_fp = \\\n",
    "cust_fp.withColumn(\n",
    "    'user_id',\n",
    "    F.col('user_id').cast('long')\n",
    ").withColumn(\n",
    "    'order_datetime',\n",
    "    F.col('order_datetime').cast('date')\n",
    ").withColumn(\n",
    "    'consumer_fraud_probability_%',\n",
    "    F.col('fraud_probability').cast('double')\n",
    ").drop('fraud_probability')\n",
    "\n",
    "cust_fp.printSchema()\n"
   ]
  },
  {
   "cell_type": "code",
   "execution_count": 18,
   "metadata": {},
   "outputs": [
    {
     "name": "stdout",
     "output_type": "stream",
     "text": [
      "root\n",
      " |-- user_id: long (nullable = true)\n",
      " |-- consumer_id: long (nullable = true)\n",
      "\n"
     ]
    }
   ],
   "source": [
    "cust_user_det.printSchema()"
   ]
  },
  {
   "cell_type": "code",
   "execution_count": 19,
   "metadata": {},
   "outputs": [
    {
     "name": "stdout",
     "output_type": "stream",
     "text": [
      "root\n",
      " |-- consumer_name: string (nullable = true)\n",
      " |-- consumer_state: string (nullable = true)\n",
      " |-- consumer_postcode: long (nullable = true)\n",
      " |-- consumer_gender: string (nullable = true)\n",
      " |-- consumer_id: long (nullable = true)\n",
      "\n"
     ]
    }
   ],
   "source": [
    "cust_tbl = \\\n",
    "cust_tbl.withColumn(\n",
    "    'postcode',\n",
    "    F.col('postcode').cast('long')\n",
    ").withColumnRenamed(\n",
    "    'name',\n",
    "    'consumer_name'   \n",
    ").withColumnRenamed(\n",
    "    'state',\n",
    "    'consumer_state'   \n",
    ").withColumnRenamed(\n",
    "    'postcode',\n",
    "    'consumer_postcode'   \n",
    ").withColumnRenamed(\n",
    "    'gender',\n",
    "    'consumer_gender'   \n",
    ").withColumn(\n",
    "    'consumer_id',\n",
    "    F.col('consumer_id').cast('long')\n",
    ").drop('address')\n",
    "\n",
    "cust_tbl.printSchema()"
   ]
  },
  {
   "cell_type": "markdown",
   "metadata": {},
   "source": [
    "### Merchant Data"
   ]
  },
  {
   "cell_type": "code",
   "execution_count": 20,
   "metadata": {},
   "outputs": [
    {
     "name": "stdout",
     "output_type": "stream",
     "text": [
      "root\n",
      " |-- merchant_abn: long (nullable = true)\n",
      " |-- order_datetime: date (nullable = true)\n",
      " |-- merchant_fraud_probability_%: double (nullable = true)\n",
      "\n"
     ]
    }
   ],
   "source": [
    "merch_fp = \\\n",
    "merch_fp.withColumn(\n",
    "    'merchant_abn',\n",
    "    F.col('merchant_abn').cast('long')\n",
    ").withColumn(\n",
    "    'order_datetime',\n",
    "    F.col('order_datetime').cast('date')\n",
    ").withColumn(\n",
    "    'merchant_fraud_probability_%',\n",
    "    F.col('fraud_probability').cast('double')\n",
    ").drop('fraud_probability')\n",
    "\n",
    "merch_fp.printSchema()"
   ]
  },
  {
   "cell_type": "code",
   "execution_count": 21,
   "metadata": {},
   "outputs": [
    {
     "name": "stdout",
     "output_type": "stream",
     "text": [
      "root\n",
      " |-- merchant_name: string (nullable = true)\n",
      " |-- tags: string (nullable = true)\n",
      " |-- merchant_abn: long (nullable = true)\n",
      "\n"
     ]
    }
   ],
   "source": [
    "merch_tbl = \\\n",
    "merch_tbl.withColumnRenamed(\n",
    "    'name',\n",
    "    'merchant_name'\n",
    ")\n",
    "\n",
    "merch_tbl.printSchema()"
   ]
  },
  {
   "cell_type": "markdown",
   "metadata": {},
   "source": [
    "### External Data"
   ]
  },
  {
   "cell_type": "code",
   "execution_count": 22,
   "metadata": {},
   "outputs": [
    {
     "name": "stdout",
     "output_type": "stream",
     "text": [
      "root\n",
      " |-- SA2_CODE_2021: string (nullable = true)\n",
      " |-- Median_age_persons: string (nullable = true)\n",
      " |-- Median_mortgage_repay_monthly: string (nullable = true)\n",
      " |-- Median_tot_prsnl_inc_weekly: string (nullable = true)\n",
      " |-- Median_rent_weekly: string (nullable = true)\n",
      " |-- Median_tot_fam_inc_weekly: string (nullable = true)\n",
      " |-- Average_num_psns_per_bedroom: string (nullable = true)\n",
      " |-- Median_tot_hhd_inc_weekly: string (nullable = true)\n",
      " |-- Average_household_size: string (nullable = true)\n",
      "\n"
     ]
    }
   ],
   "source": [
    "# 2021 census data CSVs\n",
    "\n",
    "sa2_census.printSchema()\n"
   ]
  },
  {
   "cell_type": "code",
   "execution_count": 23,
   "metadata": {},
   "outputs": [],
   "source": [
    "sa2_census = sa2_census.withColumn(\n",
    "    'sa2_code',\n",
    "    F.col('SA2_CODE_2021').cast('long')\n",
    ").withColumn(\n",
    "    'sa2_median_age',\n",
    "    F.col('Median_age_persons').cast('long')\n",
    ").withColumn(\n",
    "    'sa2_median_mortgage_repay_monthly',\n",
    "    F.col('Median_mortgage_repay_monthly').cast('long')\n",
    ").withColumn(\n",
    "    'sa2_median_tot_prsnl_inc_weekly',\n",
    "    F.col('Median_tot_prsnl_inc_weekly').cast('long')\n",
    ").withColumn(\n",
    "    'sa2_median_rent_weekly',\n",
    "    F.col('Median_rent_weekly').cast('long')\n",
    ").withColumn(\n",
    "    'sa2_median_tot_fam_inc_weekly',\n",
    "    F.col('Median_tot_fam_inc_weekly').cast('long')\n",
    ").withColumn(\n",
    "    'sa2_average_num_psns_per_bedroom',\n",
    "    F.col('Average_num_psns_per_bedroom').cast('double')\n",
    ").withColumn(\n",
    "    'sa2_median_tot_hhd_inc_weekly',\n",
    "    F.col('Median_tot_hhd_inc_weekly').cast('long')\n",
    ").withColumn(\n",
    "    'sa2_average_household_size',\n",
    "    F.col('Average_household_size').cast('double')\n",
    ")\n",
    "\n",
    "sa2_census = sa2_census.select(sa2_census.columns[9:])"
   ]
  },
  {
   "cell_type": "code",
   "execution_count": 24,
   "metadata": {},
   "outputs": [
    {
     "name": "stdout",
     "output_type": "stream",
     "text": [
      "root\n",
      " |-- sa2_code: long (nullable = true)\n",
      " |-- sa2_median_age: long (nullable = true)\n",
      " |-- sa2_median_mortgage_repay_monthly: long (nullable = true)\n",
      " |-- sa2_median_tot_prsnl_inc_weekly: long (nullable = true)\n",
      " |-- sa2_median_rent_weekly: long (nullable = true)\n",
      " |-- sa2_median_tot_fam_inc_weekly: long (nullable = true)\n",
      " |-- sa2_average_num_psns_per_bedroom: double (nullable = true)\n",
      " |-- sa2_median_tot_hhd_inc_weekly: long (nullable = true)\n",
      " |-- sa2_average_household_size: double (nullable = true)\n",
      "\n"
     ]
    }
   ],
   "source": [
    "sa2_census.printSchema()"
   ]
  },
  {
   "cell_type": "code",
   "execution_count": 25,
   "metadata": {},
   "outputs": [],
   "source": [
    "###############################################################################################################################################################################################"
   ]
  },
  {
   "cell_type": "code",
   "execution_count": 26,
   "metadata": {},
   "outputs": [],
   "source": [
    "# SA2 population data\n",
    "sa2_pops=spark.createDataFrame(sa2_pops)"
   ]
  },
  {
   "cell_type": "code",
   "execution_count": 27,
   "metadata": {},
   "outputs": [
    {
     "name": "stdout",
     "output_type": "stream",
     "text": [
      "root\n",
      " |-- SA4 name: string (nullable = true)\n",
      " |-- SA3 name: string (nullable = true)\n",
      " |-- SA2 code: long (nullable = true)\n",
      " |-- SA2 name: string (nullable = true)\n",
      " |-- population_2021: long (nullable = true)\n",
      "\n"
     ]
    }
   ],
   "source": [
    "sa2_pops.limit(10)\n",
    "\n",
    "sa2_pops.printSchema()"
   ]
  },
  {
   "cell_type": "code",
   "execution_count": 28,
   "metadata": {},
   "outputs": [],
   "source": [
    "# convert casings and rename columns where necessary\n",
    "sa2_pops = \\\n",
    "sa2_pops.withColumnRenamed(\n",
    "    'SA4 name',\n",
    "    'sa4_name'\n",
    ").withColumnRenamed(\n",
    "    'SA3 name',\n",
    "    'sa3_name'\n",
    ").withColumnRenamed(\n",
    "    'SA2 code',\n",
    "    'sa2_code'\n",
    ").withColumnRenamed(\n",
    "    'SA2 name',\n",
    "    'sa2_name'\n",
    ")\n"
   ]
  },
  {
   "cell_type": "code",
   "execution_count": 29,
   "metadata": {},
   "outputs": [],
   "source": [
    "###############################################################################################################################################################################################"
   ]
  },
  {
   "cell_type": "code",
   "execution_count": 30,
   "metadata": {},
   "outputs": [
    {
     "name": "stdout",
     "output_type": "stream",
     "text": [
      "root\n",
      " |-- LOCALITY_ID: string (nullable = true)\n",
      " |-- LOCALITY_NAME : string (nullable = true)\n",
      " |-- LOCALITY_TYPE: string (nullable = true)\n",
      " |-- POSTCODE: string (nullable = true)\n",
      " |-- STATE: string (nullable = true)\n",
      " |-- SA2_MAINCODE_2021: string (nullable = true)\n",
      " |-- SA2_NAME_2021: string (nullable = true)\n",
      "\n"
     ]
    }
   ],
   "source": [
    "# Locality to SA2 coding index CSV\n",
    "sa2_to_postcode.limit(10)\n",
    "\n",
    "sa2_to_postcode.printSchema()\n",
    "\n"
   ]
  },
  {
   "cell_type": "code",
   "execution_count": 31,
   "metadata": {},
   "outputs": [],
   "source": [
    "sa2_to_postcode = sa2_to_postcode.select(['POSTCODE', 'SA2_MAINCODE_2021']).withColumn(\n",
    "    'POSTCODE',\n",
    "    F.col('POSTCODE').cast('long')\n",
    ").withColumn(\n",
    "    'SA2_MAINCODE_2021',\n",
    "    F.col('SA2_MAINCODE_2021').cast('long')\n",
    ").withColumnRenamed(\n",
    "    'SA2_MAINCODE_2021',\n",
    "    'sa2_code'\n",
    ")\n",
    "\n",
    "sa2_to_postcode = sa2_to_postcode.toDF(*[c.lower() for c in sa2_to_postcode.columns])"
   ]
  },
  {
   "cell_type": "markdown",
   "metadata": {},
   "source": [
    "## 2nd Step: Cleaning, feature engineering, aggregation"
   ]
  },
  {
   "cell_type": "markdown",
   "metadata": {},
   "source": [
    "### Transactions"
   ]
  },
  {
   "cell_type": "code",
   "execution_count": 32,
   "metadata": {},
   "outputs": [],
   "source": [
    "transactions_all = transactions_21_02_21_08.union(transactions_21_08_22_02).union(transactions_22_02_22_08)"
   ]
  },
  {
   "cell_type": "code",
   "execution_count": 33,
   "metadata": {},
   "outputs": [
    {
     "name": "stderr",
     "output_type": "stream",
     "text": [
      "                                                                                \r"
     ]
    },
    {
     "data": {
      "text/plain": [
       "[Row(user_id=1, merchant_abn=28000487688, dollar_value=133.22689421562643, order_id='0c37b3f7-c7f1-48cb-bcc7-0a58e76608ea', order_datetime=datetime.date(2021, 2, 28)),\n",
       " Row(user_id=1, merchant_abn=83690644458, dollar_value=30.441348317517228, order_id='40a2ff69-ea34-4657-8429-df7ca957d6a1', order_datetime=datetime.date(2021, 2, 28)),\n",
       " Row(user_id=18485, merchant_abn=62191208634, dollar_value=79.13140006851712, order_id='9e18b913-0465-4fd4-92fd-66d15e65d93c', order_datetime=datetime.date(2021, 2, 28))]"
      ]
     },
     "execution_count": 33,
     "metadata": {},
     "output_type": "execute_result"
    }
   ],
   "source": [
    "transactions_all.sort('order_datetime').head(3)"
   ]
  },
  {
   "cell_type": "code",
   "execution_count": 34,
   "metadata": {},
   "outputs": [
    {
     "name": "stderr",
     "output_type": "stream",
     "text": [
      "                                                                                \r"
     ]
    },
    {
     "data": {
      "text/plain": [
       "[Row(user_id=11136, merchant_abn=63685007785, dollar_value=48.12988669206644, order_id='a6194c61-ae7a-4037-a425-2dd7cda42fb7', order_datetime=datetime.date(2022, 10, 26)),\n",
       " Row(user_id=11137, merchant_abn=85502310765, dollar_value=4.768751754248673, order_id='72a3639e-25d5-4bcc-9e8b-26e737b8c0e4', order_datetime=datetime.date(2022, 10, 26)),\n",
       " Row(user_id=11138, merchant_abn=43186523025, dollar_value=35.12766841919401, order_id='3f3b1d40-e8ec-4d4b-ac08-5f273586523c', order_datetime=datetime.date(2022, 10, 26))]"
      ]
     },
     "execution_count": 34,
     "metadata": {},
     "output_type": "execute_result"
    }
   ],
   "source": [
    "transactions_all.sort('order_datetime').tail(3)"
   ]
  },
  {
   "cell_type": "code",
   "execution_count": 35,
   "metadata": {},
   "outputs": [
    {
     "name": "stderr",
     "output_type": "stream",
     "text": [
      "                                                                                \r"
     ]
    }
   ],
   "source": [
    "from datetime import datetime\n",
    "\n",
    "from pyspark.sql import functions as F\n",
    "from datetime import datetime\n",
    "\n",
    "df = transactions_all\n",
    "\n",
    "df.write.mode('overwrite').parquet(\"../../data/nulls&missing_analysis/transaction/transactions_all.parquet\")\n",
    "\n",
    "# 1. Remove Null Values\n",
    "df = df.na.drop()\n",
    "\n",
    "# 2. Check for Duplicates\n",
    "df = df.dropDuplicates()\n",
    "df = df.dropDuplicates(['order_id'])\n",
    "\n",
    "# 3. Validate user_id and merchant_abn\n",
    "df = df.filter((F.col('user_id') > 0) & (F.col('merchant_abn') > 0))\n",
    "\n",
    "# 4. Validate dollar value\n",
    "df = df.filter(F.col('dollar_value') > 0)\n",
    "df = df.withColumn('dollar_value', F.round(F.col('dollar_value'), 2))\n",
    "\n",
    "# 5. Validate order_datetime for the specified date range\n",
    "start_date = datetime.strptime(\"20210228\", \"%Y%m%d\").date()\n",
    "end_date = datetime.strptime(\"20221026\", \"%Y%m%d\").date()\n",
    "df = df.filter(F.col('order_datetime').between(start_date, end_date))\n",
    "\n",
    "\n",
    "transactions_all_clean = df.drop('order_id')"
   ]
  },
  {
   "cell_type": "code",
   "execution_count": 36,
   "metadata": {},
   "outputs": [
    {
     "name": "stderr",
     "output_type": "stream",
     "text": [
      "                                                                                \r"
     ]
    },
    {
     "data": {
      "text/html": [
       "<table border='1'>\n",
       "<tr><th>user_id</th><th>merchant_abn</th><th>dollar_value</th><th>order_datetime</th></tr>\n",
       "<tr><td>83</td><td>46804135891</td><td>40.89</td><td>2021-08-20</td></tr>\n",
       "<tr><td>18574</td><td>40252040480</td><td>110.21</td><td>2021-08-20</td></tr>\n",
       "<tr><td>18653</td><td>17324645993</td><td>6.07</td><td>2021-08-20</td></tr>\n",
       "<tr><td>215</td><td>81219314324</td><td>66.32</td><td>2021-08-20</td></tr>\n",
       "<tr><td>18860</td><td>77013874702</td><td>2.08</td><td>2021-08-20</td></tr>\n",
       "<tr><td>18881</td><td>29616684420</td><td>91.12</td><td>2021-08-20</td></tr>\n",
       "<tr><td>399</td><td>71674475255</td><td>34.45</td><td>2021-08-20</td></tr>\n",
       "<tr><td>646</td><td>24852446429</td><td>44.29</td><td>2021-08-20</td></tr>\n",
       "<tr><td>19179</td><td>95492562735</td><td>43.39</td><td>2021-08-20</td></tr>\n",
       "<tr><td>19230</td><td>11437621158</td><td>259.73</td><td>2021-08-20</td></tr>\n",
       "<tr><td>19266</td><td>29616684420</td><td>89.51</td><td>2021-08-20</td></tr>\n",
       "<tr><td>19410</td><td>10264435225</td><td>154.8</td><td>2021-08-20</td></tr>\n",
       "<tr><td>19528</td><td>66858208767</td><td>150.51</td><td>2021-08-20</td></tr>\n",
       "<tr><td>1087</td><td>32709729094</td><td>25.97</td><td>2021-08-20</td></tr>\n",
       "<tr><td>1404</td><td>74337408103</td><td>20.69</td><td>2021-08-20</td></tr>\n",
       "<tr><td>1474</td><td>91085233749</td><td>6.21</td><td>2021-08-20</td></tr>\n",
       "<tr><td>1510</td><td>82065156333</td><td>22.84</td><td>2021-08-20</td></tr>\n",
       "<tr><td>20130</td><td>96566672398</td><td>60.74</td><td>2021-08-20</td></tr>\n",
       "<tr><td>1621</td><td>60956456424</td><td>129.44</td><td>2021-08-20</td></tr>\n",
       "<tr><td>1722</td><td>77505747217</td><td>80.84</td><td>2021-08-20</td></tr>\n",
       "</table>\n",
       "only showing top 20 rows\n"
      ],
      "text/plain": [
       "+-------+------------+------------+--------------+\n",
       "|user_id|merchant_abn|dollar_value|order_datetime|\n",
       "+-------+------------+------------+--------------+\n",
       "|     83| 46804135891|       40.89|    2021-08-20|\n",
       "|  18574| 40252040480|      110.21|    2021-08-20|\n",
       "|  18653| 17324645993|        6.07|    2021-08-20|\n",
       "|    215| 81219314324|       66.32|    2021-08-20|\n",
       "|  18860| 77013874702|        2.08|    2021-08-20|\n",
       "|  18881| 29616684420|       91.12|    2021-08-20|\n",
       "|    399| 71674475255|       34.45|    2021-08-20|\n",
       "|    646| 24852446429|       44.29|    2021-08-20|\n",
       "|  19179| 95492562735|       43.39|    2021-08-20|\n",
       "|  19230| 11437621158|      259.73|    2021-08-20|\n",
       "|  19266| 29616684420|       89.51|    2021-08-20|\n",
       "|  19410| 10264435225|       154.8|    2021-08-20|\n",
       "|  19528| 66858208767|      150.51|    2021-08-20|\n",
       "|   1087| 32709729094|       25.97|    2021-08-20|\n",
       "|   1404| 74337408103|       20.69|    2021-08-20|\n",
       "|   1474| 91085233749|        6.21|    2021-08-20|\n",
       "|   1510| 82065156333|       22.84|    2021-08-20|\n",
       "|  20130| 96566672398|       60.74|    2021-08-20|\n",
       "|   1621| 60956456424|      129.44|    2021-08-20|\n",
       "|   1722| 77505747217|       80.84|    2021-08-20|\n",
       "+-------+------------+------------+--------------+\n",
       "only showing top 20 rows"
      ]
     },
     "execution_count": 36,
     "metadata": {},
     "output_type": "execute_result"
    }
   ],
   "source": [
    "transactions_all_clean"
   ]
  },
  {
   "cell_type": "markdown",
   "metadata": {},
   "source": [
    "### Consumer Data"
   ]
  },
  {
   "cell_type": "code",
   "execution_count": 37,
   "metadata": {},
   "outputs": [],
   "source": [
    "from datetime import datetime\n",
    "\n",
    "from pyspark.sql import functions as F\n",
    "from datetime import datetime\n",
    "\n",
    "df = cust_user_det\n",
    "\n",
    "df.write.mode('overwrite').parquet(\"../../data/nulls&missing_analysis/consumer/consumer_user_details.parquet\")\n",
    "\n",
    "# 1. Remove Null Values\n",
    "df = df.na.drop()\n",
    "\n",
    "# 2. Check for Duplicates\n",
    "df = df.dropDuplicates()\n",
    "\n",
    "# 3. Validate consumer_id and user_id\n",
    "df = df.filter((F.col('consumer_id') > 0) & (F.col('user_id') > 0))\n",
    "\n",
    "cust_user_det_clean = df"
   ]
  },
  {
   "cell_type": "code",
   "execution_count": 38,
   "metadata": {},
   "outputs": [],
   "source": [
    "from datetime import datetime\n",
    "\n",
    "from pyspark.sql import functions as F\n",
    "from datetime import datetime\n",
    "\n",
    "df = cust_tbl\n",
    "\n",
    "df.write.mode('overwrite').parquet(\"../../data/nulls&missing_analysis/consumer/consumer_tbl.parquet\")\n",
    "\n",
    "\n",
    "# 1. Remove Null Values\n",
    "df = df.na.drop()\n",
    "\n",
    "# 2. Check for Duplicates\n",
    "df = df.dropDuplicates()\n",
    "\n",
    "# 3. Validate consumer_id\n",
    "df = df.filter((F.col('consumer_id') > 0))\n",
    "\n",
    "# 4. Validate consumer_name \n",
    "df = df.filter(F.col('consumer_name').rlike(\"[a-zA-Z][a-zA-Z ]+\"))\n",
    "\n",
    "# 5. Validate consumer_state \n",
    "df = df.filter(F.col('consumer_state').isin(['NT','ACT','SA','TAS','WA','QLD','VIC','NSW']))\n",
    "\n",
    "# 6. Validate consumer_postcode\n",
    "df = df.filter(F.col('consumer_postcode').between(200, 9729))\n",
    "\n",
    "# 7. Validate consumer_gender\n",
    "df = df.filter(F.col('consumer_gender').isin(['Undisclosed', 'Male', 'Female']))\n",
    "\n",
    "cust_tbl_clean = df\n",
    "               \n",
    "            "
   ]
  },
  {
   "cell_type": "code",
   "execution_count": 39,
   "metadata": {},
   "outputs": [],
   "source": [
    "from datetime import datetime\n",
    "\n",
    "from pyspark.sql import functions as F\n",
    "from datetime import datetime\n",
    "\n",
    "df = cust_fp\n",
    "\n",
    "df.write.mode('overwrite').parquet(\"../../data/nulls&missing_analysis/consumer/consumer_fraud_probability.parquet\")\n",
    "\n",
    "# 1. Remove Null Values\n",
    "df = df.na.drop()\n",
    "\n",
    "# 2. Check for Duplicates\n",
    "df = df.dropDuplicates()\n",
    "\n",
    "# 3. Validate user_id\n",
    "df = df.filter((F.col('user_id') > 0))\n",
    "\n",
    "# 4. Validate order_datetime for the specified date range\n",
    "start_date = datetime.strptime(\"20210228\", \"%Y%m%d\").date()\n",
    "end_date = datetime.strptime(\"20221026\", \"%Y%m%d\").date()\n",
    "df = df.filter(F.col('order_datetime').between(start_date, end_date))\n",
    "\n",
    "# 5. Validate consumer fraud probability\n",
    "df = df.filter(F.col('consumer_fraud_probability_%').between(0, 100))\n",
    "df = df.withColumn('consumer_fraud_probability_%', F.round(F.col('consumer_fraud_probability_%'), 4))\n",
    "\n",
    "cust_fp_clean = df"
   ]
  },
  {
   "cell_type": "code",
   "execution_count": 40,
   "metadata": {},
   "outputs": [
    {
     "data": {
      "text/html": [
       "<table border='1'>\n",
       "<tr><th>user_id</th><th>order_datetime</th><th>consumer_fraud_probability_%</th></tr>\n",
       "<tr><td>1</td><td>2022-02-20</td><td>9.8054</td></tr>\n",
       "<tr><td>2</td><td>2021-09-25</td><td>10.0699</td></tr>\n",
       "<tr><td>2</td><td>2021-08-30</td><td>9.5995</td></tr>\n",
       "<tr><td>3</td><td>2021-11-03</td><td>8.3006</td></tr>\n",
       "<tr><td>4</td><td>2021-10-09</td><td>9.6333</td></tr>\n",
       "<tr><td>5</td><td>2022-01-11</td><td>27.4962</td></tr>\n",
       "<tr><td>5</td><td>2022-02-08</td><td>9.0202</td></tr>\n",
       "<tr><td>5</td><td>2021-10-04</td><td>10.8684</td></tr>\n",
       "<tr><td>6</td><td>2021-12-12</td><td>10.4593</td></tr>\n",
       "<tr><td>9</td><td>2021-12-13</td><td>10.5806</td></tr>\n",
       "<tr><td>9</td><td>2021-11-17</td><td>8.5313</td></tr>\n",
       "<tr><td>13</td><td>2021-07-17</td><td>9.05</td></tr>\n",
       "<tr><td>13</td><td>2021-12-06</td><td>9.213</td></tr>\n",
       "<tr><td>14</td><td>2021-04-20</td><td>17.6987</td></tr>\n",
       "<tr><td>14</td><td>2021-12-03</td><td>16.6057</td></tr>\n",
       "<tr><td>15</td><td>2021-11-27</td><td>16.9996</td></tr>\n",
       "<tr><td>16</td><td>2021-11-27</td><td>21.6235</td></tr>\n",
       "<tr><td>17</td><td>2022-02-14</td><td>9.5185</td></tr>\n",
       "<tr><td>18</td><td>2021-11-30</td><td>21.2866</td></tr>\n",
       "<tr><td>19</td><td>2021-11-27</td><td>14.31</td></tr>\n",
       "</table>\n",
       "only showing top 20 rows\n"
      ],
      "text/plain": [
       "+-------+--------------+----------------------------+\n",
       "|user_id|order_datetime|consumer_fraud_probability_%|\n",
       "+-------+--------------+----------------------------+\n",
       "|      1|    2022-02-20|                      9.8054|\n",
       "|      2|    2021-09-25|                     10.0699|\n",
       "|      2|    2021-08-30|                      9.5995|\n",
       "|      3|    2021-11-03|                      8.3006|\n",
       "|      4|    2021-10-09|                      9.6333|\n",
       "|      5|    2022-01-11|                     27.4962|\n",
       "|      5|    2022-02-08|                      9.0202|\n",
       "|      5|    2021-10-04|                     10.8684|\n",
       "|      6|    2021-12-12|                     10.4593|\n",
       "|      9|    2021-12-13|                     10.5806|\n",
       "|      9|    2021-11-17|                      8.5313|\n",
       "|     13|    2021-07-17|                        9.05|\n",
       "|     13|    2021-12-06|                       9.213|\n",
       "|     14|    2021-04-20|                     17.6987|\n",
       "|     14|    2021-12-03|                     16.6057|\n",
       "|     15|    2021-11-27|                     16.9996|\n",
       "|     16|    2021-11-27|                     21.6235|\n",
       "|     17|    2022-02-14|                      9.5185|\n",
       "|     18|    2021-11-30|                     21.2866|\n",
       "|     19|    2021-11-27|                       14.31|\n",
       "+-------+--------------+----------------------------+\n",
       "only showing top 20 rows"
      ]
     },
     "execution_count": 40,
     "metadata": {},
     "output_type": "execute_result"
    }
   ],
   "source": [
    "cust_fp_clean.sort('user_id')"
   ]
  },
  {
   "cell_type": "markdown",
   "metadata": {},
   "source": [
    "### Merchant Data"
   ]
  },
  {
   "cell_type": "code",
   "execution_count": 41,
   "metadata": {},
   "outputs": [
    {
     "data": {
      "text/plain": [
       "4026"
      ]
     },
     "execution_count": 41,
     "metadata": {},
     "output_type": "execute_result"
    }
   ],
   "source": [
    "merch_tbl.count()"
   ]
  },
  {
   "cell_type": "code",
   "execution_count": 42,
   "metadata": {},
   "outputs": [],
   "source": [
    "# Extract different features from tags (words, revenue band, take rate)\n",
    "import re\n",
    "from pyspark.sql.functions import udf\n",
    "from pyspark.sql.types import StringType, FloatType, ArrayType\n",
    "\n",
    "# Define a UDF to extract the sections within square and normal brackets\n",
    "def split_tags(input_tags):\n",
    "    sep_tags = re.findall(r'[\\[\\(\\{]([^\\[\\]\\(\\)\\{\\}]*)[\\]\\)\\}]', input_tags)\n",
    "    sep_tags_without_brackets = [re.sub(r'[\\[\\]\\(\\)\\{\\}]', '', tag) for tag in sep_tags]\n",
    "        \n",
    "    return sep_tags_without_brackets\n",
    "\n",
    "# Define a UDF to extract \"take rate\" numbers\n",
    "def extract_take_rate(input_rate):\n",
    "    match = re.search(r'take rate: ([\\d.]+)', input_rate)\n",
    "    if match:\n",
    "        return float(match.group(1))\n",
    "    return None\n",
    "\n",
    "# Register the UDFs\n",
    "split_tags_udf = udf(split_tags, ArrayType(StringType()))\n",
    "\n",
    "clean_take_rate_udf = udf(extract_take_rate, FloatType())\n",
    "\n",
    "# Apply the UDF to the DataFrame\n",
    "merch_tbl_clean = merch_tbl.withColumn(\"sep_tags\", split_tags_udf(merch_tbl[\"tags\"]))\n",
    "\n",
    "# Create separate columns each segment of the tags\n",
    "merch_tbl_clean = merch_tbl_clean.withColumn(\"words\", merch_tbl_clean[\"sep_tags\"].getItem(0))\n",
    "merch_tbl_clean = merch_tbl_clean.withColumn(\"revenue_level\", merch_tbl_clean[\"sep_tags\"].getItem(1))\n",
    "merch_tbl_clean = merch_tbl_clean.withColumn(\"take_rate_%\", merch_tbl_clean[\"sep_tags\"].getItem(2))\n",
    "\n",
    "merch_tbl_clean = merch_tbl_clean.withColumn(\"take_rate_%\", clean_take_rate_udf(merch_tbl_clean[\"take_rate_%\"]))\n",
    "\n"
   ]
  },
  {
   "cell_type": "code",
   "execution_count": 43,
   "metadata": {},
   "outputs": [
    {
     "data": {
      "text/html": [
       "<table border='1'>\n",
       "<tr><th>merchant_name</th><th>merchant_abn</th><th>words</th><th>revenue_level</th><th>take_rate_%</th></tr>\n",
       "<tr><td>Felis Limited</td><td>10023283211</td><td>furniture, home f...</td><td>e</td><td>0.18</td></tr>\n",
       "<tr><td>Arcu Ac Orci Corp...</td><td>10142254217</td><td>cable, satellite,...</td><td>b</td><td>4.22</td></tr>\n",
       "<tr><td>Nunc Sed Company</td><td>10165489824</td><td>jewelry, watch, c...</td><td>b</td><td>4.4</td></tr>\n",
       "<tr><td>Ultricies Digniss...</td><td>10187291046</td><td>wAtch, clock, and...</td><td>b</td><td>3.29</td></tr>\n",
       "<tr><td>Enim Condimentum PC</td><td>10192359162</td><td>music shops - mus...</td><td>a</td><td>6.33</td></tr>\n",
       "<tr><td>Fusce Company</td><td>10206519221</td><td>gift, card, novel...</td><td>a</td><td>6.34</td></tr>\n",
       "<tr><td>Aliquam Enim Inco...</td><td>10255988167</td><td>computers, comPUt...</td><td>b</td><td>4.32</td></tr>\n",
       "<tr><td>Ipsum Primis Ltd</td><td>10264435225</td><td>watch, clock, and...</td><td>c</td><td>2.39</td></tr>\n",
       "<tr><td>Pede Ultrices Ind...</td><td>10279061213</td><td>computer programm...</td><td>a</td><td>5.71</td></tr>\n",
       "<tr><td>Nunc Inc.</td><td>10323485998</td><td>furniture, home f...</td><td>a</td><td>6.61</td></tr>\n",
       "</table>\n"
      ],
      "text/plain": [
       "+--------------------+------------+--------------------+-------------+-----------+\n",
       "|       merchant_name|merchant_abn|               words|revenue_level|take_rate_%|\n",
       "+--------------------+------------+--------------------+-------------+-----------+\n",
       "|       Felis Limited| 10023283211|furniture, home f...|            e|       0.18|\n",
       "|Arcu Ac Orci Corp...| 10142254217|cable, satellite,...|            b|       4.22|\n",
       "|    Nunc Sed Company| 10165489824|jewelry, watch, c...|            b|        4.4|\n",
       "|Ultricies Digniss...| 10187291046|wAtch, clock, and...|            b|       3.29|\n",
       "| Enim Condimentum PC| 10192359162|music shops - mus...|            a|       6.33|\n",
       "|       Fusce Company| 10206519221|gift, card, novel...|            a|       6.34|\n",
       "|Aliquam Enim Inco...| 10255988167|computers, comPUt...|            b|       4.32|\n",
       "|    Ipsum Primis Ltd| 10264435225|watch, clock, and...|            c|       2.39|\n",
       "|Pede Ultrices Ind...| 10279061213|computer programm...|            a|       5.71|\n",
       "|           Nunc Inc.| 10323485998|furniture, home f...|            a|       6.61|\n",
       "+--------------------+------------+--------------------+-------------+-----------+"
      ]
     },
     "execution_count": 43,
     "metadata": {},
     "output_type": "execute_result"
    }
   ],
   "source": [
    "merch_tbl_clean = merch_tbl_clean.drop('tags', 'sep_tags')\n",
    "\n",
    "merch_tbl_clean.limit(10)"
   ]
  },
  {
   "cell_type": "code",
   "execution_count": 44,
   "metadata": {},
   "outputs": [
    {
     "name": "stdout",
     "output_type": "stream",
     "text": [
      "971\n"
     ]
    },
    {
     "data": {
      "text/plain": [
       "[Row(words='stationery, office  supplies and printing and writing paper'),\n",
       " Row(words='antique shops - sales, repairs, and resToraTion services'),\n",
       " Row(words='health  and beauty spas'),\n",
       " Row(words='tEnt and awning shops'),\n",
       " Row(words='florists supplies, nuRsery sTock, and flowers'),\n",
       " Row(words='watcH, clock, and jewelry rEpair shops'),\n",
       " Row(words='motor vehiCle supplies and new parts'),\n",
       " Row(words='books, periodicaLs,  and newspapers'),\n",
       " Row(words='opticians, optical goods, and eyeglasses'),\n",
       " Row(words='books, periodicals, and  newspapers'),\n",
       " Row(words='cable, satellite, anD other pay telEvision And radio services'),\n",
       " Row(words='equipment, tool, furniTure, and appliance rent al and leasiNg'),\n",
       " Row(words='gift, carD, novelty, and souvenir shops'),\n",
       " Row(words='computers, computer peripheral equipment, and sOftware'),\n",
       " Row(words='furniture, home fuRnishings and equipment shops, and manufacturers, except appliances'),\n",
       " Row(words='cable, satellite, and other pay television and raDIo services'),\n",
       " Row(words='cable, satellite, anD other pay television and radio services'),\n",
       " Row(words='music Shops - musical instruments, pianos, and sheet music'),\n",
       " Row(words='gifT, card, novelty, and souvenir shops'),\n",
       " Row(words='watch, clock, and jewelry repair shops'),\n",
       " Row(words='art dealers aNd galleries'),\n",
       " Row(words='artist suppLy and craft shops'),\n",
       " Row(words='books, Periodicals, and newspapers'),\n",
       " Row(words='Telecom'),\n",
       " Row(words='books, periodicals, aNd newspapers'),\n",
       " Row(words='books, periodiCals, and newspapers'),\n",
       " Row(words='computer programming , data processing, and integrated systems design services'),\n",
       " Row(words='tent and awning Shops'),\n",
       " Row(words='hobby, toy and gaMe shops'),\n",
       " Row(words='tent anD awning shops'),\n",
       " Row(words='art dealers and gallEries'),\n",
       " Row(words='equipment, Tool, furniture, and appliance rent al and leasing'),\n",
       " Row(words='books, periodicals, and newsPapers'),\n",
       " Row(words='equipment, tool, fUrniture, and Appliance rent al and leasing'),\n",
       " Row(words='artist supply and cRaft shops'),\n",
       " Row(words='cable, satellIte, and other pay television and rAdio services'),\n",
       " Row(words='digital goods: books, movies, Music'),\n",
       " Row(words='health and beauty spaS'),\n",
       " Row(words='computers, computEr peripheral equipment, and software'),\n",
       " Row(words='florists supplies, nuRsery  stock, and flowers'),\n",
       " Row(words='florists supplies, nursery stock, And flowers'),\n",
       " Row(words='furniture, home furnishings and equipment shops, and manufacturers, exCept appliances'),\n",
       " Row(words='computers, cOmputer peripherAl equipment, and software'),\n",
       " Row(words='stationery, office suppliEs and printing and writing paper'),\n",
       " Row(words='florists supplies, nursery stock, and flowErs'),\n",
       " Row(words='artist supply and crAft shops'),\n",
       " Row(words='lawn and garden supply outlEts, including nursEries'),\n",
       " Row(words='stationery, office supplies and priNting and wriTing paper'),\n",
       " Row(words='furniture, home furnishings and equipment sHops, and manufacturers, except Appliances'),\n",
       " Row(words='watch, clock, and jewelry repair shopS'),\n",
       " Row(words='books, periodicals, and newSpapers'),\n",
       " Row(words='computer programming , data processing, and integrated systems design Services'),\n",
       " Row(words='jewelry, watch, clock, and  silverware shops'),\n",
       " Row(words='computer programming , Data processing, and integrated systems design ServiceS'),\n",
       " Row(words='furniture, home furnishings and equipment shops, and manufacTurers, except appliances'),\n",
       " Row(words='furniture, home Furnishings and equipment shops, and manufacturers, except appliancEs'),\n",
       " Row(words='antIque shops - sales, repairs, and restoration services'),\n",
       " Row(words='MotoR vehicle supplies and new parts'),\n",
       " Row(words='music shops - musicaL instruments, pianos, and sheet music'),\n",
       " Row(words='furniture, home furnishings and equipment shops, and manufacturers, except appLiances'),\n",
       " Row(words='bicycle shops - saleS and service'),\n",
       " Row(words='florists supplies, nursery stocK, and flowers'),\n",
       " Row(words='computer programming , data processIng, and integrated systems design services'),\n",
       " Row(words='equipment, tOol, fuRniture, and appliance rent al and leasing'),\n",
       " Row(words='bicycle shops - Sales and service'),\n",
       " Row(words='artist supply and craft shopS'),\n",
       " Row(words='motor vehicle supplies and New parts'),\n",
       " Row(words='opticians, optical  goods, and eyeglasses'),\n",
       " Row(words='books, periodicals,  and newspapers'),\n",
       " Row(words='florists supplies, nursery stock, and flOwerS'),\n",
       " Row(words='teNt aNd awning shops'),\n",
       " Row(words='computers, computer peripheRal equipment, and software'),\n",
       " Row(words='watch, clock, and jewelry rePair shops'),\n",
       " Row(words='motor vehicle supplies and new paRts'),\n",
       " Row(words='opTicians, optical goods, and eyeGlasses'),\n",
       " Row(words='lawn and garden  supply outlets, including nurseries'),\n",
       " Row(words='antique shops -  sales, repairs, and restoratIon services'),\n",
       " Row(words='antique shops - sales, repairs, and reStoratIon servicEs'),\n",
       " Row(words='lawn and garden supply outlets, including nUrseries'),\n",
       " Row(words='Lawn and garden supply outlets, including nurseries'),\n",
       " Row(words='florists supPlies, nursery stock, and flowers'),\n",
       " Row(words='furniture, home furnisHings and equipment shops, and manufacturers, except appliances'),\n",
       " Row(words='watch,  clock, and jewelry repair shops'),\n",
       " Row(words='digital goOds: books, movies, music'),\n",
       " Row(words='furniture, home furnishings and equipment shoPs, and manufacturers, except appliances'),\n",
       " Row(words='furniture, home furnishings and equIpment shops, and manufacturers, except appliances'),\n",
       " Row(words='computer programming , data processing,  and integrated systems design services'),\n",
       " Row(words='equipment, tool, furniture, and applIance rent al and leasing'),\n",
       " Row(words='gift, card, nOvelty, and souvenir shops'),\n",
       " Row(words='equipment, tool, furniture, and appliancE rent al aNd leasing'),\n",
       " Row(words='motOR vehicle supplies and new parts'),\n",
       " Row(words='computer programming , datA procEssing, and integrated systemS design services'),\n",
       " Row(words='books,  periodicals, and nEwsPapers'),\n",
       " Row(words='florists supplies, nursery sTock, and flowers'),\n",
       " Row(words='books, perioDicals, and newspapers'),\n",
       " Row(words='furniture, home furnishings and equipment shops, and manufacturers, except apPliances'),\n",
       " Row(words='stationery, office sUpplies and printing and wRiting paper'),\n",
       " Row(words='health anD beauty spas'),\n",
       " Row(words='opticians, optical goOds, and eyeglasses'),\n",
       " Row(words='stationery, office supplies and printing and writing Paper'),\n",
       " Row(words='watch, Clock, and jewelrY repair shops'),\n",
       " Row(words='furniture, home furnishings and equipment shopS, and manufacturers, excEpt applIances'),\n",
       " Row(words='furniture, home furnishings and equipment shops, and manufacturers, except appliancEs'),\n",
       " Row(words='art dealers And galleries'),\n",
       " Row(words='shoe shOps'),\n",
       " Row(words='cable, satellite, and other pay televisIon and radio services'),\n",
       " Row(words='lawn and garden supply outletS, including nurseries'),\n",
       " Row(words='furniture, home furnishings and equipment shops, and manufacturErs, except  appliances'),\n",
       " Row(words='computeR progrAmming , data processing, and integrateD systems design services'),\n",
       " Row(words='lawn and garden supply outlets, inclUding nurseries'),\n",
       " Row(words='motor vehicle supplieS and new parts'),\n",
       " Row(words='motOr vehicle supplies and new parts'),\n",
       " Row(words='equipment, tool, furniturE, and appliance rent al and leasing'),\n",
       " Row(words='music shops - musical instruments, pianos, and Sheet music'),\n",
       " Row(words='hobby, toy and  game shops'),\n",
       " Row(words='lawn and garden supply outlets, includiNg nurseries'),\n",
       " Row(words='watch, clOck, anD jewelry repair shops'),\n",
       " Row(words='artist supply and craft shoPs'),\n",
       " Row(words='equipment, tooL, furniture, and appliance rent  al and leasing'),\n",
       " Row(words='computer programmiNg , data processing, and integrated systems design services'),\n",
       " Row(words='digital goods: books, movies, music'),\n",
       " Row(words='hEalth and beauty spas'),\n",
       " Row(words='antique shops - sales, rePairs, and restOration services'),\n",
       " Row(words='artist suPply and craft shops'),\n",
       " Row(words='furniture, home furnishings and equipment Shops, and manufacturers, exCept appliances'),\n",
       " Row(words='antique shops - sales, repairs, and restoraTion services'),\n",
       " Row(words='music shoPs - musical instruments, pianos, and sheet mUsic'),\n",
       " Row(words='motor vehicle suppLies and new parts'),\n",
       " Row(words='giFt, card, noVelty, aNd souvenir shops'),\n",
       " Row(words='watCh, clock, and jewelry repair shops'),\n",
       " Row(words='equipment, tool, furniture, and appLiancE rent al and leasing'),\n",
       " Row(words='cable, satellite, and othEr pay television and Radio Services'),\n",
       " Row(words='computEr programming , data processing, and integrated systems design services'),\n",
       " Row(words='antique shops - sales, repairs, aNd restoration services'),\n",
       " Row(words='computer programming ,  data processing, and integrated systems design services'),\n",
       " Row(words='music shops - musical instruments, pianos, And sheet music'),\n",
       " Row(words='books, perIodicals,  and newspapers'),\n",
       " Row(words='music  shops - musical instruments, pianos, and sheet musiC'),\n",
       " Row(words='antique shops - sales, repairs, and restoratIon services'),\n",
       " Row(words='antique shops - sales, repairs, aNd restOration services'),\n",
       " Row(words='statIonery, office supplies aNd printing and writing paper'),\n",
       " Row(words='watch, clock, and jeWelry repair shops'),\n",
       " Row(words='digital goods: books, movies, mUsic'),\n",
       " Row(words='arTist supply and craft shops'),\n",
       " Row(words='bicycle shOps - Sales and service'),\n",
       " Row(words='furniture, home furnishings and eqUipment shops, and manufacturers, except appliances'),\n",
       " Row(words='lAwn and garden supply outlets, including nurseries'),\n",
       " Row(words='computer pRogramming , data prOcessing, and integrated systems desIgn services'),\n",
       " Row(words='watch, clock, and  jewelry repair shops'),\n",
       " Row(words='tent and awning shOps'),\n",
       " Row(words='Computer prograMming , data processing, and integrated systems design services'),\n",
       " Row(words='stationery, office supplies and pRinting and writing paper'),\n",
       " Row(words='equipment, tool, furniture, and appliance reNt al and leasing'),\n",
       " Row(words='opticians, optical gOods, and eyeglasses'),\n",
       " Row(words='equipment, tool, furniture, and appliancE rent al and leasing'),\n",
       " Row(words='books, perIodicals, and newspapers'),\n",
       " Row(words='shoe sHops'),\n",
       " Row(words='stationery, office supplies aNd printing and writing paper'),\n",
       " Row(words='furniture, home furnishings and equipMent shops, and manufacturers, except appliances'),\n",
       " Row(words='musiC shops -  musical iNstruments, pianos, and sheet music'),\n",
       " Row(words='artist supply  and craft shops'),\n",
       " Row(words='furniture, home furnishIngs and equipment shops, and manufacturers, except appliances'),\n",
       " Row(words='florists SuppLies, nuRsEry stock, and flowers'),\n",
       " Row(words='mOtor vehicle supplies and new parts'),\n",
       " Row(words='cable, saTellite, and other pay television and radio servicEs'),\n",
       " Row(words='lawn and garden supplY outlets, including nurseries'),\n",
       " Row(words='bicyclE shops  - sales and service'),\n",
       " Row(words='cable, saTellite, and other pay television and radio services'),\n",
       " Row(words='health and bEauty spas'),\n",
       " Row(words='staTionery, office supplies and printing and writing paPer'),\n",
       " Row(words='opticians, opTical goods, and eyeglasses'),\n",
       " Row(words='teNt and awning shops'),\n",
       " Row(words='computer programming , data pRocessing, and integrated systems design services'),\n",
       " Row(words='music shops - musical instruments, Pianos, and sheet music'),\n",
       " Row(words='furniture, home Furnishings and eQuipment shops, and manufacturers, except appliances'),\n",
       " Row(words='computer programming , Data processing, and integrated systems desigN services'),\n",
       " Row(words='books, periodicals, and newspapErs'),\n",
       " Row(words='watch, clock, and jewelry repair shoPs'),\n",
       " Row(words='cable, sateLlite, and other pay television and radio services'),\n",
       " Row(words='computer programming , data processing, and integrated systems design sERvices'),\n",
       " Row(words='gift, card, novelTy, and souvenir shops'),\n",
       " Row(words='tent and  Awning shops'),\n",
       " Row(words='hObby, toy and game shops'),\n",
       " Row(words='computer programming , data processing, aNd integrated systems design services'),\n",
       " Row(words='equipmenT, tool, furniture, and appliance rent al and leasing'),\n",
       " Row(words='furNiture, home furnishings and equipment shops, and manufActurers, except appliances'),\n",
       " Row(words='stationery, office supplies and printiNg and writing paper'),\n",
       " Row(words='cable, sAtellite, and other pay television and radio services'),\n",
       " Row(words='music shops - musical instruments,  pianos, and sheet music'),\n",
       " Row(words='digital goods: books,  movies, music'),\n",
       " Row(words='bicycle sHops - sales and service'),\n",
       " Row(words='diGital goods: books, movies, music'),\n",
       " Row(words='computers, comPuter peripheral equipment, and software'),\n",
       " Row(words='books, periodicals, and newspapers'),\n",
       " Row(words='furniture, home furnishings and eqUIpment shops, and manufacturers, except appliances'),\n",
       " Row(words='gift, card, novelty, and souvenir sHops'),\n",
       " Row(words='digital goods: bOoks, movies, music'),\n",
       " Row(words='biCycle shops - sales and service'),\n",
       " Row(words='furniture, home furnishings and Equipment shops, and manufacturers, except appliances'),\n",
       " Row(words='furniture, home furnishiNgs and equipmeNt shOps, and manufacturers, except appliances'),\n",
       " Row(words='lawn and garden supply outlets, incLuding nurseries'),\n",
       " Row(words='Health and beauty spas'),\n",
       " Row(words='bicycle shopS - sales and service'),\n",
       " Row(words='mUsiC shops - musical instruments, pianos, and sheet music'),\n",
       " Row(words='comPuters, computer peripherAl equipmeNt, and software'),\n",
       " Row(words='computers, computer periphEral equipment, and software'),\n",
       " Row(words='stAtionery, office supplies and printing and writing paper'),\n",
       " Row(words='music shops - musical instruments, pianos, and sheet  music'),\n",
       " Row(words='furniture, home furnishings and equipment  shops, and manufacturers, except appliances'),\n",
       " Row(words='Motor vehicle supplies and new parts'),\n",
       " Row(words='music shops - musical instrumentS, pianos, and sheet music'),\n",
       " Row(words='cable, sateLlite, and other  pay television and radio services'),\n",
       " Row(words='computers, computer  peripheral equipment, and software'),\n",
       " Row(words='artiSt supply and craft shops'),\n",
       " Row(words='computeR programming , data processing, and integrated systems design serviceS'),\n",
       " Row(words='computers, computer peripheral eQuipment, and Software'),\n",
       " Row(words='jewelry, watCh, clock, and silverware shops'),\n",
       " Row(words='antique shops - sales,  repairs, and restoration servIces'),\n",
       " Row(words='watch, cloCk, and jewelry repair shops'),\n",
       " Row(words='stationery, office supPlies and printing aNd writing paper'),\n",
       " Row(words='computEr programming , datA processing, and integrated systems design services'),\n",
       " Row(words='music shops - musicAl inStruments, pianos, and sheet music'),\n",
       " Row(words='computerS, computer peripheral equipment, and software'),\n",
       " Row(words='cable, satellite, and other  pay television and radio services'),\n",
       " Row(words='motor vehicle supplies  and new parts'),\n",
       " Row(words='hobby, toy and game  shops'),\n",
       " Row(words='antique shops - sales, repairs, and restoratioN services'),\n",
       " Row(words='florists supplies, nursery stock, and flowers'),\n",
       " Row(words='computers, computer peripheral equipment, and Software'),\n",
       " Row(words='music shops - musical instrumentS, pianos, and sheet musiC'),\n",
       " Row(words='art dealers and galleries'),\n",
       " Row(words='gIft, card, novelty, and souvenir shops'),\n",
       " Row(words='opticians, optIcal goods, and eyeglasses'),\n",
       " Row(words='equipment,  tool, furniture, and appliance rent al and leasing'),\n",
       " Row(words='music  shops - musical instrumenTs, pianos, and sheet music'),\n",
       " Row(words='music shops  - musical instruments, pianos, and sheet music'),\n",
       " Row(words='furniture, home furnishings and equipMent Shops, and manufacturers, except appliances'),\n",
       " Row(words='bicycle shops - salEs and service'),\n",
       " Row(words='artist supply and craFt shops'),\n",
       " Row(words='cable, satellite, and other pay  television and radio services'),\n",
       " Row(words='gift, card, novelty, anD souvenir shops'),\n",
       " Row(words='anTique shops - sales, repairs, and restoratioN services'),\n",
       " Row(words='antique shops - Sales, repairs, and restoration services'),\n",
       " Row(words='computers, computer peripheral equipmeNt, and software'),\n",
       " Row(words='jewelry, watch, Clock, and silverware shops'),\n",
       " Row(words='music shops - muSical instruments, pianos, and sheet music'),\n",
       " Row(words='opticians, oPtical goods, and eyeglasses'),\n",
       " Row(words='lawn and garden supply oUtlets, including nurseries'),\n",
       " Row(words='antique shops - sales, repairs, and restoration serviCes'),\n",
       " Row(words='Digital goods: books, movies, music'),\n",
       " Row(words='digital goods: books, mOvies, music'),\n",
       " Row(words='anTique shops - sales, repairs, and restoration Services'),\n",
       " Row(words='computer programming , data processing, and intEgrated systems design services'),\n",
       " Row(words='jewelry, watch, clock, and sIlverware shops'),\n",
       " Row(words='antiQue shops - sales, repairs, and restoration services'),\n",
       " Row(words='equipment, tool, furniture, and appliance rent al anD leasing'),\n",
       " Row(words='furniture, home FurnishIngs and  equipment shops,  and manufacturers, except appliances'),\n",
       " Row(words='stationery, office suPplies and printing and writing paper'),\n",
       " Row(words='motor vehicle Supplies and new parts'),\n",
       " Row(words='opticians, optical gooDs, and eyeglasses'),\n",
       " Row(words='motor vehicle supplies and  new parts'),\n",
       " Row(words='computers, coMputer peripheral equipmeNt, and software'),\n",
       " Row(words='statiOnery, office supplies and printing and writing paper'),\n",
       " Row(words='equipment, tool, furniture, and appliance rent  al and leasing'),\n",
       " Row(words='artist supply and craft Shops'),\n",
       " Row(words='furniture, home furnishings and equipment shOps, and manufacturers,  except appliances'),\n",
       " Row(words='florists supplIes, Nursery stock, and flowers'),\n",
       " Row(words='antique shops - sales, repairs, and restoration services'),\n",
       " Row(words='opticians, optical goods, and eyeglasseS'),\n",
       " Row(words='lawn and garden supply outlets, includIng nurseries'),\n",
       " Row(words='comPuter programming , data processing, and integrated systems design services'),\n",
       " Row(words='health and beAuty spas'),\n",
       " Row(words='muSic shops - musical instruments, pianos, and sheet music'),\n",
       " Row(words='computer prOgramming , data processing, and integrated systems design services'),\n",
       " Row(words='antIque shOps - sales, repairs, and restoration serviCes'),\n",
       " Row(words='computer programming , data processing, and inTegrated systems design services'),\n",
       " Row(words='computers, cOmputer peripheral equipment, and software'),\n",
       " Row(words='opticians, optical goods, and eyeglasSes'),\n",
       " Row(words='computer programming , data processing, and integrated systems design serVices'),\n",
       " Row(words='florists sUpplies, nursery stock, and flowers'),\n",
       " Row(words='gift, card, novelty, and Souvenir shops'),\n",
       " Row(words='digital  goods: books, movies, music'),\n",
       " Row(words='tent and awning shoPs'),\n",
       " Row(words='furniture, home fURnishings and equipmeNt shops, and manufacturers, except appliances'),\n",
       " Row(words='watch, clock, anD jewElry  repair shops'),\n",
       " Row(words='music shops - musical inStruments, pianos,  and sheet music'),\n",
       " Row(words='equipment, tool, fuRniture, and appliance rent al and leasing'),\n",
       " Row(words='antique shoPs - sales, repairs, and restoratiOn services'),\n",
       " Row(words='furniture, home furnishinGs and equiPment shops, and  manufacturers, except appliances'),\n",
       " Row(words='artist supply and crafT shops'),\n",
       " Row(words='furniture, home furnishings and equipment shops,  aNd manufacturerS, except appliances'),\n",
       " Row(words='dIgital goods: books, movies, music'),\n",
       " Row(words='computeR programming , data processIng, and integrated systems design Services'),\n",
       " Row(words='equipment, tool, furniture, and appliance rEnt al and leasing'),\n",
       " Row(words='Florists supplies, nursery stock, and flowers'),\n",
       " Row(words='watch, clock, and jeWelry repair sHops'),\n",
       " Row(words='computers, computer peripheral equipment,  and software'),\n",
       " Row(words='opticians, optical goods, and eyegLasses'),\n",
       " Row(words='lawn and garden supply outlets, including  nurseries'),\n",
       " Row(words='bicycle Shops - sales and service'),\n",
       " Row(words='gift, caRd, novelty, and souvenir shops'),\n",
       " Row(words='jewelry, watch, clocK, and silverware shops'),\n",
       " Row(words='motor Vehicle supplies and new parts'),\n",
       " Row(words='heaLth and beauty spas'),\n",
       " Row(words='opticians, optical goods, anD eyeglasses'),\n",
       " Row(words='florists supplies, nursEry stock, and flowers'),\n",
       " Row(words='cOmputer programming , data processinG, and integrated sysTems design services'),\n",
       " Row(words='equipment, tool, Furniture, and appliance rent al and leasIng'),\n",
       " Row(words='furniture, home Furnishings and equipment shops, and manufacturers, except appliances'),\n",
       " Row(words='equipment, tool, furniture, and appliance rent al and leAsing'),\n",
       " Row(words='furniture, home furnishings and equipment shops, and manufactUrers, except appliances'),\n",
       " Row(words='digiTal goods: books, movies, musiC'),\n",
       " Row(words='motoR vehicle supplies and new parts'),\n",
       " Row(words='cable, satellIte, and other pay television aND radio services'),\n",
       " Row(words='lawn and garden supply Outlets, including nurseries'),\n",
       " Row(words='art deAlers and galleries'),\n",
       " Row(words='cable, sAtelLite, and other pay television and radio services'),\n",
       " Row(words='tent and aWning shops'),\n",
       " Row(words='art dealeRs and galleries'),\n",
       " Row(words='jewelry, watCh, clock, and silvErware shops'),\n",
       " Row(words='computeR programming , dAta processing, and integrated systems design services'),\n",
       " Row(words='artist supply and  craft shops'),\n",
       " Row(words='florists supplies,  nursery stock, and flowers'),\n",
       " Row(words='music shops - musIcal insTruments, pianos, and sheet music'),\n",
       " Row(words='watch, clock, and jewelry Repair shops'),\n",
       " Row(words='statioNery, office supplies  and printing and Writing papeR'),\n",
       " Row(words='furniture, homE furnishings and equipment shops, and manufacturers, except appliances'),\n",
       " Row(words='antique shops - sales, repairs, and restoration serVices'),\n",
       " Row(words='computer programming , data processing, and integrated systems Design services'),\n",
       " Row(words='furnituRe, home furnishings  and equipment shops, and manufacturers, except appliances'),\n",
       " Row(words='healtH and beauty spAs'),\n",
       " Row(words='digital goods: Books, movies, music'),\n",
       " Row(words='gIft, card, novelty, aNd souvenir shopS'),\n",
       " Row(words='motor vehicle suPplies and new parts'),\n",
       " Row(words='watch, clock, and jEwelry repair shops'),\n",
       " Row(words='waTch, clOck, and jewelry repair shops'),\n",
       " Row(words='coMputers, computer peripheral equipment, and softwaRe'),\n",
       " Row(words='computers, computer peripheral equipment, And software'),\n",
       " Row(words='furniture, home furnishings and equipment shops, and manufactureRs, except appliances'),\n",
       " Row(words='stationery, officE supplies and printing and writing paper'),\n",
       " Row(words='cable, satellite, and other pay television and radio  services'),\n",
       " Row(words='hobby, toy aNd game shops'),\n",
       " Row(words='lawN and garden  suPply outlets, including nurseries'),\n",
       " Row(words='wAtch, clock, and jEwelry repair shops'),\n",
       " Row(words='health and Beauty spas'),\n",
       " Row(words='gift, card, nOvelty, and souvenir shoPs'),\n",
       " Row(words='opticians, optiCal goods, and Eyeglasses'),\n",
       " Row(words='lawn and garden supply outLets, including nurseries'),\n",
       " Row(words='gift, card, novelty, and  souvenir shops'),\n",
       " Row(words='computers,  computer peripheral equipment, and  Software'),\n",
       " Row(words='optIcians, optical goods, and eyeglasses'),\n",
       " Row(words='equipment, tool, furniture, And appliance rent al and leasing'),\n",
       " Row(words='jewelry, watcH, clock, and silverware shops'),\n",
       " Row(words='music shops - musical Instruments, Pianos, and sheet music'),\n",
       " Row(words='compuTer programming , data processing, and integrated systems design services'),\n",
       " Row(words='antique shops - sAles, repairs, and restoratiOn services'),\n",
       " Row(words='cOmputer programming , data processing, and integrated systems design seRvices'),\n",
       " Row(words='florists supplies, nursery stoCk, and flowers'),\n",
       " Row(words='jewelry, watch,  clock, and silverware shops'),\n",
       " Row(words='computer programming , data processing, and integRated systems design services'),\n",
       " Row(words='watch,  clock, and jewelRy repair shops'),\n",
       " Row(words='equipment, tool, furniture, and appLiance rent al and leasing'),\n",
       " Row(words='stationery, office supplies and printing and writIng paper'),\n",
       " Row(words='artIst supply and craft shops'),\n",
       " Row(words='equipment, tool, Furniture, and appliance rent al and leasing'),\n",
       " Row(words='lawn and garden supply outlets, including Nurseries'),\n",
       " Row(words='florists supplies, nursery stock, and flOwers'),\n",
       " Row(words='computers, computer peripheral equiPment, and software'),\n",
       " Row(words='Artist supply and craft shopS'),\n",
       " Row(words='florists supplies, nurseRy stock, and flowers'),\n",
       " Row(words='music shops - musical instruments, pianos, and sHeet music'),\n",
       " Row(words='cable, satellite, and other pay television and raDio services'),\n",
       " Row(words='florists suppliEs, nursery stock, and flowers'),\n",
       " Row(words='watch, clock, and jewelry repair  shops'),\n",
       " Row(words='cable, satElLite, and other pay television and radio services'),\n",
       " Row(words='art dealers and gallerIes'),\n",
       " Row(words='antique shops - sales, repairs, and reStoration services'),\n",
       " Row(words='furniture, home furnishings and equipmeNt shops, and manufacturers, except appliances'),\n",
       " Row(words='music shops - musical instRuments, pianos, and sheet music'),\n",
       " Row(words='furniture, home furnishings aNd equipMent shops, and manufacturers, except appliances'),\n",
       " Row(words='bicycle shOps - sales and service'),\n",
       " Row(words='florisTs supplies, nursery stock, and flowErs'),\n",
       " Row(words='computers, computer perIpheral equipment, and software'),\n",
       " Row(words='stationery, office supplies and printing and writing paPer'),\n",
       " Row(words='furniture, home fuRnishingS and equipment shops, and manufacturers, except appliances'),\n",
       " Row(words='music  shops - mUsical instruments, pianos, and sheet music'),\n",
       " Row(words='lawn and garden supply outlets, including nuRsEries'),\n",
       " Row(words='lawn and garden supply outlets, including nurseRies'),\n",
       " Row(words='motor vehicle supplies and new partS'),\n",
       " Row(words='cable, satellite, and othEr pay television and radio services'),\n",
       " Row(words='hobby, toy and game sHops'),\n",
       " Row(words='jewElry, watch, clock, and silverware shops'),\n",
       " Row(words='computer programming , data processing, And integrated systems design services'),\n",
       " Row(words='florisTs supplies, nursery stock, and fLowers'),\n",
       " Row(words='Lawn and garden suPply outlets, including nurseries'),\n",
       " Row(words='digital goods: books, movIes, music'),\n",
       " Row(words='artist supply aNd cRaft shops'),\n",
       " Row(words='stationery, office supPlies and  printing and writing paper'),\n",
       " Row(words='furniture, home furnishings And equipment  shops, and manufacturers, except appliances'),\n",
       " Row(words='tent aNd awning shops'),\n",
       " Row(words='furniture, home furnishings and equipment shops, and manufacturers, except applianceS'),\n",
       " Row(words='florists supplies, nursery stock, and Flowers'),\n",
       " Row(words='hobby, toy  and game shops'),\n",
       " Row(words='stationery, office supplies and printing aNd writing paper'),\n",
       " Row(words='music shops - musical instrUments, pianos, and sheet music'),\n",
       " Row(words='furniture,  home furnishings and equipment shops, and manufacturers, except appliances'),\n",
       " Row(words='tElecom'),\n",
       " Row(words='books, periodicAls, and newspapers'),\n",
       " Row(words='lawn and  garden supply outlets, including nurseries'),\n",
       " Row(words='digiTal goods: books, movies, music'),\n",
       " Row(words='lawn and garden supply outlets, including nurserIes'),\n",
       " Row(words='art deaLers and galleries'),\n",
       " Row(words='artist Supply and craft shops'),\n",
       " Row(words='art dealers anD galleries'),\n",
       " Row(words='bicycle shops - sales and serviCe'),\n",
       " Row(words='computer programming , Data processing, and integrated systems design services'),\n",
       " Row(words='cabLe, satellite, and other pay television anD radio services'),\n",
       " Row(words='artist sUpply and craft shops'),\n",
       " Row(words='equipMent, tool, furniture, and appliance rent al and leasing'),\n",
       " Row(words='tent and awninG shops'),\n",
       " Row(words='arT dealers and gaLleries'),\n",
       " Row(words='furniture, home furnishings and equipment shops, and manufacturers, excepT appliances'),\n",
       " Row(words='computers, computer pEripheral equipment, and software'),\n",
       " Row(words='stationery,  office supplIes and printinG and writing paper'),\n",
       " Row(words='computer programming , data processing, and integrated systems design  services'),\n",
       " Row(words='computer programming , data processing, and integrated  systeMs design services'),\n",
       " Row(words='oPticians, optical goods, and eyeglasses'),\n",
       " Row(words='watch, clock, and jewelry repair shOps'),\n",
       " Row(words='equipment, tool, furNiture, and appliance rEnt al and leasing'),\n",
       " Row(words='florists Supplies, nursery sTock, and flowers'),\n",
       " Row(words='music  shops - musical instruments, pianos, and sheet music'),\n",
       " Row(words='motor vehicle  supplies and new parts'),\n",
       " Row(words='Cable, satellite, and other pay Television and radio services'),\n",
       " Row(words='Equipment, tool, furniture, and appliance rent al and leasing'),\n",
       " Row(words='motor vehicle supplies anD new parts'),\n",
       " Row(words='furniture, home furnishings and equipment shops,  and manufacturers, except appliances'),\n",
       " Row(words='boOks, periodicals,  and newspapers'),\n",
       " Row(words='watch, clock, and jeweLry repair shops'),\n",
       " Row(words='music shops -  musical instruments, pianos, and shEet music'),\n",
       " Row(words='compuTers, computer peripheral equipment, and software'),\n",
       " Row(words='lawn and garden suPply outlets, including nurseries'),\n",
       " Row(words='furniture, home furnishings and equipment shOps, and manufacturers, except appliances'),\n",
       " Row(words='florists supplies, nursery Stock, and flowers'),\n",
       " Row(words='hobby,  toy  and game shops'),\n",
       " Row(words='gift, card, novElty, and souvenir shOps'),\n",
       " Row(words='computer programming , data processing, and integrAted systems design services'),\n",
       " Row(words='cable, satellite, and other pay television and radio serviCes'),\n",
       " Row(words='gift, card, novelty, and souveNir shops'),\n",
       " Row(words='furniture, home furnishings  and equipment shops, and manufacturers, except appliances'),\n",
       " Row(words='equipment, tool, furNiture, and appliance rent al and leasing'),\n",
       " Row(words='furniture, home furnishings and equIpment shopS, and manufacturers, except appliances'),\n",
       " Row(words='furniture, HOme furnishings and equipment shops, and manufacturers, except appliances'),\n",
       " Row(words='gift, card, novelty, and souvenir shops'),\n",
       " Row(words='antique shOps - sales, repairs, and restoration services'),\n",
       " Row(words='computers, computer peripheral equipmeNt,  and software'),\n",
       " Row(words='tent and awNing shoPs'),\n",
       " Row(words='arTist supplY and craft shops'),\n",
       " Row(words='computer programming , data processing, and integrated Systems design services'),\n",
       " Row(words='shoe Shops'),\n",
       " Row(words='books, periodicals, and nEwspapers'),\n",
       " Row(words='computer programminG , daTa processing, and integrated systems design services'),\n",
       " Row(words='bookS, periodicals, and newspapers'),\n",
       " Row(words='books, periodicaLs, and newspapers'),\n",
       " Row(words='music shops - musical  instruments, pianos, and Sheet music'),\n",
       " Row(words='stationery, offiCe supplies and printing and writing paper'),\n",
       " Row(words='equipment, tool, furniture, and appliance rent al and leasing'),\n",
       " Row(words='books,  periodicals, and newspapers'),\n",
       " Row(words='art dealerS and gAlleries'),\n",
       " Row(words='gift, card, novelty, and souVenir shops'),\n",
       " Row(words='telecoM'),\n",
       " Row(words='motor vEhicle supplies and new parts'),\n",
       " Row(words='telEcom'),\n",
       " Row(words='lawn and garden supply outlets,  including nurseries'),\n",
       " Row(words='florists suppLies, nursery stock, and flowers'),\n",
       " Row(words='shoe  shops'),\n",
       " Row(words='florists supplies, nursery stock, and fLowers'),\n",
       " Row(words='shoE shops'),\n",
       " Row(words='stationery, office supplies  and printing and writing paper'),\n",
       " Row(words='Music Shops - musical instruments, pianos, and sheet music'),\n",
       " Row(words='computer progRamming , data processing, and integrated systems design services'),\n",
       " Row(words='stationery, office supplies and printing and wRiting paper'),\n",
       " Row(words='booKs, periodicals, and newspapers'),\n",
       " Row(words='florists  sUpplies, nursery stock, and flowers'),\n",
       " Row(words='stationery, office supPlies and printing and writing paper'),\n",
       " Row(words='Books, periodicals, and Newspapers'),\n",
       " Row(words='watch, clock, aNd jewelry repair shops'),\n",
       " Row(words='art dealErs and galleries'),\n",
       " Row(words='computer programming , data processing, and integrated systems design serviCes'),\n",
       " Row(words='computer progrAmming , data processing, and integrated systems design services'),\n",
       " Row(words='florists  supplies, nursery stock, and flowers'),\n",
       " Row(words='digital goods: books, moVies, music'),\n",
       " Row(words='cable,  Satellite, and other pay television and radio services'),\n",
       " Row(words='health and beauty Spas'),\n",
       " Row(words='furniture, home furnishings and equipment shops, anD manufacturers, except appliances'),\n",
       " Row(words='books, periodicals, anD newspapers'),\n",
       " Row(words='music Shops - musical instrumEnts, pianos, and sheet music'),\n",
       " Row(words='sTationery, office supplies and printing and writing paper'),\n",
       " Row(words='bicyclE shops - sales and service'),\n",
       " Row(words='digital goods: books, movies, musIc'),\n",
       " Row(words='tent and Awning shops'),\n",
       " Row(words='equipmenT, tool, furniture, and appliance rent al anD leAsing'),\n",
       " Row(words='gift, Card, novelty, and souvenir shops'),\n",
       " Row(words='opticians, Optical goods, and eyeglasses'),\n",
       " Row(words='tent and awning  shops'),\n",
       " Row(words='tent  aNd awning shops'),\n",
       " Row(words='cable, satellite, and other pay television and radio serviCeS'),\n",
       " Row(words='tent and awnIng shops'),\n",
       " Row(words='computeRs, computer peripheral Equipment, and software'),\n",
       " Row(words='computer prograMming , data processing, and integrated systems design services'),\n",
       " Row(words='watch, clock,  and jewelry repair shops'),\n",
       " Row(words='music shops - musical iNstruments, pianos, and sheet music'),\n",
       " Row(words='teleCom'),\n",
       " Row(words='digital goods:  books, movies, music'),\n",
       " Row(words='antique shops - salEs, repairs, and restoration services'),\n",
       " Row(words='furniture, home furnishings and equipment shops, and manufacturers, except  appliances'),\n",
       " Row(words='computer programming , data processing, and integrated sYstEms design services'),\n",
       " Row(words='antique shops - sales, repaIrs, and restoration services'),\n",
       " Row(words='CompuTer programming , data processinG, and integrated systems design servicEs'),\n",
       " Row(words='digital goods: books, movies, muSic'),\n",
       " Row(words='stationery, office suppLies and printing and writing paper'),\n",
       " Row(words='stationery, ofFice supplies and printing and writing paper'),\n",
       " Row(words='florists supplies, nursery Stock, and flowErs'),\n",
       " Row(words='gift, card, Novelty, and souvenir shops'),\n",
       " Row(words='hobby, tOy and game shops'),\n",
       " Row(words='furniture, home furnishings and Equipment shops, and manufacturers, eXcept appliances'),\n",
       " Row(words='opticians, optical goodS, and eyeglasses'),\n",
       " Row(words='equipment, tool, furniture, and appliance rent al And lEasing'),\n",
       " Row(words='computer programming , data processing, and integrated systems desIgn services'),\n",
       " Row(words='computers, computer peripheral equipMent, and software'),\n",
       " Row(words='bicycle shops -  sales and service'),\n",
       " Row(words='wAtch, clock, and jewelry repair shops'),\n",
       " Row(words='cable, Satellite, and other pay television and radio services'),\n",
       " Row(words='health And beauty spas'),\n",
       " Row(words='computer programming , data procEssing, and integrated systEms design services'),\n",
       " Row(words='gift, card, noVelty, and souvenir shops'),\n",
       " Row(words='artist supply anD craft shops'),\n",
       " Row(words='antique shops -  sales, rEpairs, and restoration services'),\n",
       " Row(words='music shops - musicAl instruments, Pianos, and sheet music'),\n",
       " Row(words='biCycle shops - sales and  service'),\n",
       " Row(words='music shops -  musical instruments, pianos, and sheet music'),\n",
       " Row(words='Gift, card, novelty, and souvenir shops'),\n",
       " Row(words='lawn anD garden supply outlets, including nurseries'),\n",
       " Row(words='computer progrAmminG , data processing, and integrated systems design services'),\n",
       " Row(words='cable, satellite, and otHer pay television and radio services'),\n",
       " Row(words='digItal goods: books, movies, music'),\n",
       " Row(words='digital goods: books, Movies, music'),\n",
       " Row(words='watch, clock, and jewelry repaIr shops'),\n",
       " Row(words='cOmputers, computer peripheral equipmeNt, And software'),\n",
       " Row(words='artist supply And craft shops'),\n",
       " Row(words='computer programming , data processing, aNd integrated Systems design services'),\n",
       " Row(words='gift, card, novElty, and souvenir shops'),\n",
       " Row(words='equipment, tool, furniture, and appliance rent aL and leasing'),\n",
       " Row(words='hobby, toy  and game shoPs'),\n",
       " Row(words='furniture, home furnishings and equipment shopS, and manufacturers, except appliances'),\n",
       " Row(words='artist supply and craft shOps'),\n",
       " Row(words='hObby, toy anD game shops'),\n",
       " Row(words='furniture, home furnishinGs and equipment shops, and manufacturers, except appliances'),\n",
       " Row(words='tent and awning shops'),\n",
       " Row(words='sHoe shops'),\n",
       " Row(words='cable, satellite, and other pay television and radio services'),\n",
       " Row(words='digital goods: books, mOvies, mUsic'),\n",
       " Row(words='computers, computer peripherAl equipment, and software'),\n",
       " Row(words='music shops - musical instruments, pIanos, and sheet music'),\n",
       " Row(words='computers, computer peripheral equipment, and softwarE'),\n",
       " Row(words='equipment, toOl, furniture, and appliance rent al and  leasing'),\n",
       " Row(words='cable, saTellite, anD other pay television and radio services'),\n",
       " Row(words='cable, satellite, and other pay television anD radio serviceS'),\n",
       " Row(words='artist supply aNd craft shops'),\n",
       " Row(words='bicycle shops - sales aNd service'),\n",
       " Row(words='tent and awning sHops'),\n",
       " Row(words='stationery, office supplies and prInting and writing paper'),\n",
       " Row(words='artist supply and craft shops'),\n",
       " Row(words='boOks, periodicals, and newspapers'),\n",
       " Row(words='Cable, satellite, and other pay television and radio services'),\n",
       " Row(words='equipment, tool, furniture, and appliance rent al and leasinG'),\n",
       " Row(words='cable, satellite, and oTher pay television and radio services'),\n",
       " Row(words='equipment, tool, furniture, and appliance rent al and  leasing'),\n",
       " Row(words='florists suPplies, nursery stocK, and flowers'),\n",
       " Row(words='computers, computer peripheral equipment, and  software'),\n",
       " Row(words='florists supplies, nurSery stock, and flowers'),\n",
       " Row(words='equipment, tool, furniture, aNd appliance rent al and leasing'),\n",
       " Row(words='furniture, home furnishings and equipment sHops, and manufacturers, except appliances'),\n",
       " Row(words='gift, card, novelty, and souvenIr shops'),\n",
       " Row(words='watch, clock, and jewElry repair shops'),\n",
       " Row(words='artist Supply  and craft shops'),\n",
       " Row(words='hobby, toy and game shOps'),\n",
       " Row(words='lawn and garden supplY oUtlets, including nurseries'),\n",
       " Row(words='gift, card, novelty, and sOuvenir shops'),\n",
       " Row(words='motor vehicle supplies And New parts'),\n",
       " Row(words='equipment, tOol, furniture, and appliance rent al and leasing'),\n",
       " Row(words='watch, clock, and jewelry rEpair shops'),\n",
       " Row(words='lawn and gardEn supply outlets, including nurseries'),\n",
       " Row(words='computers, computeR peripheral equipment, and sOftware'),\n",
       " Row(words='furniture, home furnishings and equipment shops, and manufActurers, except appliances'),\n",
       " Row(words='equipment, tool, furniture, and appliance  rent al and leAsing'),\n",
       " Row(words='equipment, tool, furnituRe, and appliance rent al and leasing'),\n",
       " Row(words='jewElry, watch, clock, and silverwarE shops'),\n",
       " Row(words='opticians, optical goods, and eyeglassEs'),\n",
       " Row(words='florists supplieS, nursery stock, anD flowers'),\n",
       " Row(words='opticianS, oPtical goods, and eyeglasses'),\n",
       " Row(words='lawn anD  garden supply outlets, including nurseries'),\n",
       " Row(words='music shops - musical instruments, pianos, and sheEt music'),\n",
       " Row(words='furniture, home furnishings and equipment shops, and manufacturers, except applianCes'),\n",
       " Row(words='bicYcle shops - sales and service'),\n",
       " Row(words='stationery, office supplies and printing and wriTing paper'),\n",
       " Row(words='lawn and Garden supply outletS, including nurseries'),\n",
       " Row(words='music shops - musical instrumentS, piaNos, and sheet music'),\n",
       " Row(words='music shops - muSical instruments, pianos,  and sheet musiC'),\n",
       " Row(words='eqUipment, tool, furniture, and appliance rent al and leasing'),\n",
       " Row(words='cable,  satellite, and other pay television and radio services'),\n",
       " Row(words='jewelry, Watch, clock, and silverware shops'),\n",
       " Row(words='gift, card, noveltY, and souVenir shops'),\n",
       " Row(words='lawn and garden supply  outlEts, including nurseries'),\n",
       " Row(words='furnIture, home furnishings and equipment shops, and manufacturers, excePt appliances'),\n",
       " Row(words='artist supply and craft sHops'),\n",
       " Row(words='furniture, home furnishings and  equipment shops, and manufacturers, except appliances'),\n",
       " Row(words='art dealers and gaLleries'),\n",
       " Row(words='artist supplY and craft shops'),\n",
       " Row(words='computers,  computer periPheral equipment, and softwaRe'),\n",
       " Row(words='Artist supply and craft shops'),\n",
       " Row(words='computers, computer peripheral equipment, and soFtware'),\n",
       " Row(words='digItal goods: books, moviEs, music'),\n",
       " Row(words='furniture, home furnishings and equipment shops, and Manufacturers, except appliances'),\n",
       " Row(words='computer programming , data processing, and iNtegratEd systems design services'),\n",
       " Row(words='bicycle shops - sales and servIce'),\n",
       " Row(words='computers, computer peripheral equIpment, and software'),\n",
       " Row(words='florists Supplies, nursery stock, and flowers'),\n",
       " Row(words='lawn and garden supply outlEts, including nurseries'),\n",
       " Row(words='computer programming , data processing, and integrated systems design servIces'),\n",
       " Row(words='fLorists supplies, nursery stock, and flowers'),\n",
       " Row(words='stationery, office supPlies and printiNg and writing paper'),\n",
       " Row(words='watch, clock, and jewelry repaiR shops'),\n",
       " Row(words='anTique shops - sales, repairs, and restoration services'),\n",
       " Row(words='Watch, clock, and jewelry repair shops'),\n",
       " Row(words='florists supplies, nursery stock, anD floWers'),\n",
       " Row(words='motor vehicle supplies anD  new parts'),\n",
       " Row(words='opticians, optical goods, and  eyeglasses'),\n",
       " Row(words='bicYcle shops - sAles and service'),\n",
       " Row(words='computers, comPUter peripheral equipment, and softwAre'),\n",
       " Row(words='stationery, office supplies and printing and wrIting paper'),\n",
       " Row(words='furniture, home furniShings and eqUipmeNt shops, and manufacturers, exCept appliances'),\n",
       " Row(words='tent and awNing shops'),\n",
       " Row(words='bicycle shops - sales and seRvice'),\n",
       " Row(words='digital goods: booKs, movies, music'),\n",
       " Row(words='musiC shops - musicAl instruments, pianos, and sheet music'),\n",
       " Row(words='computer programming , data procesSing, and integrated systems design services'),\n",
       " Row(words='stationery, offiCe supplies and priNting and writing paper'),\n",
       " Row(words='computer proGramming , data processing, and integrated systEms design servicEs'),\n",
       " Row(words='computer proGramming , data processing, and integrated systems design serviceS'),\n",
       " Row(words='florists supplies, nursery stock,  and flowers'),\n",
       " Row(words='computer programMing , data processing, and integrated systems design services'),\n",
       " Row(words='furniTure, home furnishings and equipment shops, and manufacturers, except appliances'),\n",
       " Row(words='bicycle  shops - sales and service'),\n",
       " Row(words='stationery, office supplies and printing and writing paper'),\n",
       " Row(words='books, periOdicals, and newspapers'),\n",
       " Row(words='equipmEnt, tool, furniture, and appliance rent al and leasing'),\n",
       " Row(words='tenT and awning shops'),\n",
       " Row(words='moTor vehicle supplies and new parts'),\n",
       " Row(words='furniture, home furnishings and equipmEnt sHops, and manufacturers, except appliances'),\n",
       " Row(words='florists supplies, nursery stock, and floWers'),\n",
       " Row(words='computers, compUter peripheral equipment, and software'),\n",
       " Row(words='computers, computer peripheral equipment, and softwAre'),\n",
       " Row(words='art Dealers And galleries'),\n",
       " Row(words='furniture, home furnishings and equipment shops, and manufacturers, except appliances'),\n",
       " Row(words='computers, computer peripheral  equipment, and software'),\n",
       " Row(words='hobby, toy anD game shops'),\n",
       " Row(words='music shops - musical instruments, pianos, and sheet muSiC'),\n",
       " Row(words='motor veHicle supplies and new parts'),\n",
       " Row(words='computer programming , data proCessing, and integrated systems design services'),\n",
       " Row(words='cable, sAtellite, and other pay television anD radio services'),\n",
       " Row(words='cOmputers, computer peripheral equipment, and software'),\n",
       " Row(words='equipment, tool, furniture, and appliancE rent al  and leasing'),\n",
       " Row(words='antique Shops - sales, repairs, and restoration services'),\n",
       " Row(words='cable, satellite, and other paY television anD radio services'),\n",
       " Row(words='digital goods: bookS, movies, music'),\n",
       " Row(words='cabLe, satellite, and otheR pay television and radio services'),\n",
       " Row(words='telecom'),\n",
       " Row(words='furniture, home furnishIngs and equipment shoPs, and manufacturers, except appliAnces'),\n",
       " Row(words='books, pEriodicals, and  newspapers'),\n",
       " Row(words='equipment, tool, furniture, and appliaNce rent al and leasing'),\n",
       " Row(words='lawn and garden supply outlets, incLudinG nurseries'),\n",
       " Row(words='opticians, optiCal Goods, and eyeglasses'),\n",
       " Row(words='hobby, toy and game Shops'),\n",
       " Row(words='hoBby, toy and game shops'),\n",
       " Row(words='digital goods: books, moviEs, music'),\n",
       " Row(words='books, periodicals, and newspaperS'),\n",
       " Row(words='jewelry, watch, clock, and silverwAre Shops'),\n",
       " Row(words='stationery, office supPlies and prInting and writing paper'),\n",
       " Row(words='bicycle shops - sales And service'),\n",
       " Row(words='florists supplies, nursery stock, and  flowers'),\n",
       " Row(words='cable, sAtellite, and other pay television and radio serviCes'),\n",
       " Row(words='florists suppLies, nursery sTock, aNd flowers'),\n",
       " Row(words='furniture, home furnishings And equipment shops, and manufacturers, except appliances'),\n",
       " Row(words='antique shops - sales, repairs, and resToration services'),\n",
       " Row(words='cable, satellite, aNd  other pAy television And radio services'),\n",
       " Row(words='music shops - musical instruments, pianos, and shEet music'),\n",
       " Row(words='telecOm'),\n",
       " Row(words='computer programming , data processing, and integrated systems deSign services'),\n",
       " Row(words='antique shops - sales, repairs, And restoration services'),\n",
       " Row(words='booKs, periodicals, and  newspapers'),\n",
       " Row(words='heAlth and beauty spas'),\n",
       " Row(words='stationery, office supplies and prinTing and writing paper'),\n",
       " Row(words='antique shops - sales, repairs, aNd restoration servIces'),\n",
       " Row(words='opticians, optical goods, and eyeglAsses'),\n",
       " Row(words='watch, clOck, and jewelry repair shops'),\n",
       " Row(words='cable, satellite, and Other pay televisioN and radio serVices'),\n",
       " Row(words='motor vehicle sUpplies and new parts'),\n",
       " Row(words='opticians, optical goods, and eYeglasses'),\n",
       " Row(words='artist supply And  craft shops'),\n",
       " Row(words='furniTure, home furnishings and equipmenT shops, and manufacturers, ExcePt appliances'),\n",
       " Row(words='jewelry, watch, clock, and silverware shops'),\n",
       " Row(words='furniture, home furnishings and equipment shops, and manufacturers, except applIances'),\n",
       " Row(words='tent and awniNg shops'),\n",
       " Row(words='motor vehicle supplies anD new parTs'),\n",
       " Row(words='moTor vehicle sUpplies and new parts'),\n",
       " Row(words='computers, computer peripheral Equipment, and software'),\n",
       " Row(words='artisT supply and craft shops'),\n",
       " Row(words='antique shops - sales, repairS, and restoration services'),\n",
       " Row(words='stationery, office supplies and printing and writing pAper'),\n",
       " Row(words='equipment, tool, furniture, and appliance Rent al and leasing'),\n",
       " Row(words='digital goodS: books, movies, music'),\n",
       " Row(words='antique shops - sales, repairs, anD restoration services'),\n",
       " Row(words='gift, card, novelty, and souvEnir shoPs'),\n",
       " Row(words='shoe shops'),\n",
       " Row(words='art dealers and gAlleries'),\n",
       " Row(words='cable, satellite, and other pay television and radIo services'),\n",
       " Row(words='music shops - Musical instruments, pianOs, and sheEt music'),\n",
       " Row(words='bicycle shops - sales anD service'),\n",
       " Row(words='antique shops - sAles, repairs, and restoration services'),\n",
       " Row(words='music shops - musical instrumEnts, pianos, and sheet music'),\n",
       " Row(words='gift, card, novelty, and souvenir Shops'),\n",
       " Row(words='lawn and garden supply outlets, including nuRseries'),\n",
       " Row(words='artIst supply and craft sHops'),\n",
       " Row(words='florists supplies, nursery sTock, and flowerS'),\n",
       " Row(words='opticians, opticaL goods, and eyeglasses'),\n",
       " Row(words='books, Periodicals, And newspapers'),\n",
       " Row(words='hobby, toy and game shops'),\n",
       " Row(words='music shops - musicAl instruments, pianos, and sheet music'),\n",
       " Row(words='books, periodicals, and neWspapers'),\n",
       " Row(words='bicycle shops - saleS and servIce'),\n",
       " Row(words='hobby, toY and game shops'),\n",
       " Row(words='cable, satellitE, and other pAy television and Radio services'),\n",
       " Row(words='computers, computer peripheral equipment, and software'),\n",
       " Row(words='eQuipment, tool, furniture, and appliance rent al and leasing'),\n",
       " Row(words='bIcycle shops - sales and service'),\n",
       " Row(words='music shops - musical instruments, pianos, and sheet mUsic'),\n",
       " Row(words='tent  and awning shops'),\n",
       " Row(words='bicycle shoPs - sales And service'),\n",
       " Row(words='music shops - musical instrumenTs, pianos, and sheet music'),\n",
       " Row(words='opticIans, optical goods, and eyeglasses'),\n",
       " Row(words='florists supplies, nurserY stock, and flowers'),\n",
       " Row(words='art dealers and  galleries'),\n",
       " Row(words='lawn and garden supply outlets, iNcluding nurseries'),\n",
       " Row(words='health aNd beauty sPas'),\n",
       " Row(words='cable, satellite, and otheR pay television and radio services'),\n",
       " Row(words='furniture, home furnishings and equipment shOps, and manufacturErs, except appliances'),\n",
       " Row(words='gift, carD, novElty, and souvenir shops'),\n",
       " Row(words='music shops - musical instrumeNts, pianos, and sheet music'),\n",
       " Row(words='lawn anD gardEn supply outlets, including nurseries'),\n",
       " Row(words='Tent and awning shops'),\n",
       " Row(words='computers, computer peRipheral equipment, and softWare'),\n",
       " Row(words='Antique shops - sales, repairs, and restoration services'),\n",
       " Row(words='equipment, toOl, furniture, and appliance rent al and leasing'),\n",
       " Row(words='opticiAns, optical goods, and eyeglasses'),\n",
       " Row(words='opticians, optical goods, and eyeGlasses'),\n",
       " Row(words='furniture, home furnishings and equipment shops, aNd manufacturers, except appliances'),\n",
       " Row(words='antIque shops - sales, repairs, and restoRation services'),\n",
       " Row(words='flOrists supplies, nursery stock, and flowers'),\n",
       " Row(words='furniture, home furnishings and equipment shops, and manufacturers, except appliAnces'),\n",
       " Row(words='furniture, home furnishings and equipment shops, and maNufactuRers, except appliances'),\n",
       " Row(words='equipment, tool, furniture, and appliance rent al And leasing'),\n",
       " Row(words='opticians, optical goods, And eyeglasses'),\n",
       " Row(words='florists SupplieS, nursery stock, and floWers'),\n",
       " Row(words='hobby,  toy and game shops'),\n",
       " Row(words='cable, satellite, and other pay Television and radio services'),\n",
       " Row(words='computer programming , data procEssing, and integrated systems design services'),\n",
       " Row(words='gift, card,  novelty, and souvenir shops'),\n",
       " Row(words='hobby, Toy and game shops'),\n",
       " Row(words='eqUipment, tool, fUrniture, and appliance rent al and leasinG'),\n",
       " Row(words='computer proGramming , data processing, and integrated Systems design services'),\n",
       " Row(words='computers,  computer peripheral equipment, and software'),\n",
       " Row(words='computer programming , data processing, and integrated systems desigN services'),\n",
       " Row(words='digital gOods: books, movies, music'),\n",
       " Row(words='stationEry, Office supplies and printing and writing paper'),\n",
       " Row(words='cable, satellite, and other pay television and rAdio services'),\n",
       " Row(words='watch, Clock, and jewelry repair shops'),\n",
       " Row(words='furniture, home furnishIngs and equipment shops, and manufaCturers, except appliances'),\n",
       " Row(words='gift, card, novelty,  and souvenir shops'),\n",
       " Row(words='health and beaUty spas'),\n",
       " Row(words='computErs, computer peripheral equipment, and software'),\n",
       " Row(words='music shops - musical instruments, pianos, and sheet music'),\n",
       " Row(words='computers, computer peripheral eqUipment, and software'),\n",
       " Row(words='musiC shops - musical instruments, pianos, and sheet music'),\n",
       " Row(words='bicycle shops - sales and sErvice'),\n",
       " Row(words='music shopS - musical instruments, pianos, and sheet music'),\n",
       " Row(words='furniture, home furnishings and equipment shops, and manufacturers, except aPpliances'),\n",
       " Row(words='opticianS, optical goods, and eyeglasses'),\n",
       " Row(words='shoe shopS'),\n",
       " Row(words='opticiaNs, optical goods, and eyeglasses'),\n",
       " Row(words='opticians, optical goods, and  eyeglassEs'),\n",
       " Row(words='artist supply and craft  shops'),\n",
       " Row(words='cable, saTellite, and other pay televisioN and radio services'),\n",
       " Row(words='healTh and beauty spas'),\n",
       " Row(words='furniture, home furnishings and equipment shops, and maNufacturers, except appliances'),\n",
       " Row(words='computers, compuTer peripheral equipment, and software'),\n",
       " Row(words='cabLe, satellite, and other pay television and radio services'),\n",
       " Row(words='bOoks, periodicals, and newspapers'),\n",
       " Row(words='cable, satEllite, and other pay television and radio services'),\n",
       " Row(words='health and beauty spas'),\n",
       " Row(words='lawN and garden supply outlets, including nurseries'),\n",
       " Row(words='computer programming , data Processing, and integrated sYStems design services'),\n",
       " Row(words='tent And awning shops'),\n",
       " Row(words='music shops - musical instruments,  Pianos, and sheet music'),\n",
       " Row(words='gift, card, novelty, and souveniR shops'),\n",
       " Row(words='shOe shops'),\n",
       " Row(words='furniture, home furnishings and equipment shops, and manufacturers,  except aPpliances'),\n",
       " Row(words='watch, clock, and jewelRy repair shops'),\n",
       " Row(words='computer programming , Data processing, and integRated systems design services'),\n",
       " Row(words='motor vehicle supplies and new pArts'),\n",
       " Row(words='caBle, satellite, and other pay television and  radio services'),\n",
       " Row(words='books, periodicals, and newspaPers'),\n",
       " Row(words='furniture, home furnishings aNd equipment shops, and manufacturers, except appliances'),\n",
       " Row(words='computer programming , data processing, and integratEd systems design services'),\n",
       " Row(words='Opticians, optical goods, and eyeglasses'),\n",
       " Row(words='florists supplIes, nursery stock, and flowers'),\n",
       " Row(words='watch, clock, and jewelry repair sHops'),\n",
       " Row(words='gift, card, novelty, aNd souvenir shops'),\n",
       " Row(words='Computer programming , data processing, and integrated systems design services'),\n",
       " Row(words='floriSts supplies, nursery stock, and flowers'),\n",
       " Row(words='aRtist supply and craft shops'),\n",
       " Row(words='bicycle shops  - sales and service'),\n",
       " Row(words='bicycle shops - sales and Service'),\n",
       " Row(words='stationery, Office supplies and printing and writing paper'),\n",
       " Row(words='gift, card, novelty, and souvenir shOps'),\n",
       " Row(words='books, periodIcals, and newspapers'),\n",
       " Row(words='arT dealers and galleries'),\n",
       " Row(words='lawn and garden supply outlets, Including nurseries'),\n",
       " Row(words='jewelRy, watch, clock, and silverware shops'),\n",
       " Row(words='stationery,  office supplies and printing and wRiting paper'),\n",
       " Row(words='watch, clock, And jewelry repair shops'),\n",
       " Row(words='lawn and gArden supply outlets, including nurseries'),\n",
       " Row(words='opticians, optical goods,  and eyeglasses'),\n",
       " Row(words='lawn and garden supply outlets, including nurseries'),\n",
       " Row(words='stationery, office supplies and Printing  and writing paper'),\n",
       " Row(words='EquipmeNt, tool, furniture, and appliance rent al and leasing'),\n",
       " Row(words='musiC shops - musical instruments, piaNos, and sheet music'),\n",
       " Row(words='computers, compUter peripheral equipment, and sofTware'),\n",
       " Row(words='florists supplies, Nursery Stock, and flowers'),\n",
       " Row(words='bicycle shoPs - sales and service'),\n",
       " Row(words='digital goods: books, movies, musiC'),\n",
       " Row(words='bicycLe shops - sales and service'),\n",
       " Row(words='motor vehicle supplies and new Parts'),\n",
       " Row(words='computers, computer peripherAl equipment,  and software'),\n",
       " Row(words='jeweLry, watch, clock, and silverware shops'),\n",
       " Row(words='equipment, tool, furniture,  and appliance rent al and leasing'),\n",
       " Row(words='jewelry, watch, clock, and siLverware shops'),\n",
       " Row(words='furniture, home furnishiNgs and equipment shops, and manufacturers, except appliances'),\n",
       " Row(words='computer programming , data processing, and integrated systems design sErvices'),\n",
       " Row(words='motor vehiclE supplies and new parts'),\n",
       " Row(words='computers, computeR peripheral equipment, and software'),\n",
       " Row(words='florists suPplies, nursery stock, and flowers'),\n",
       " Row(words='computer programming , data processing, and iNtegrated systems design sErvices'),\n",
       " Row(words='cable, satellite, and  other pay television and radio services'),\n",
       " Row(words='computers, computer periPheral EqUipment, and software'),\n",
       " Row(words='florists SuPplies, nursery stock, and flowers'),\n",
       " Row(words='hobBy, toy and game shopS'),\n",
       " Row(words='health and beautY spas'),\n",
       " Row(words='furniture, home furNishings and equipment shops, and manufacturers, except appliances'),\n",
       " Row(words='music shops - musical insTruments, pianos, and sheet music'),\n",
       " Row(words='cable, satellite, and other pay television and radio servIces'),\n",
       " Row(words='equipment, tool, fUrniture, and appliance rent al and leasing'),\n",
       " Row(words='antique shops - sales, repairs, and Restoration services'),\n",
       " Row(words='computer programming , data  processing, and integrated systems design services'),\n",
       " Row(words='jewelry, watch, clock, and silveRware shops'),\n",
       " Row(words='furniture, home furnishings and equipment shops, and manufacturers, excePt appliances'),\n",
       " Row(words='artist supPly and craft shops'),\n",
       " Row(words='gift, card, novelty, and soUvenir shops'),\n",
       " Row(words='bicyCle shops - sales and service'),\n",
       " Row(words='stAtionery, office supplies and printing and writing papEr'),\n",
       " Row(words='cable, satellite, and other pAy television and radio services'),\n",
       " Row(words='Hobby, toy and game shops'),\n",
       " Row(words='hobby, toy  anD game shops'),\n",
       " Row(words='artiSt supply and crAft shops'),\n",
       " Row(words='bicycle shops - sales and serVice'),\n",
       " Row(words='lawn and garden supply outlets, incluDing nurseries'),\n",
       " Row(words='furniture, home furnishings and equipment shops, and  manufacturers, except appliances'),\n",
       " Row(words='stationery,  office supplies and printing and writing paper'),\n",
       " Row(words='stationery, office supplies and priNting and writing paper'),\n",
       " Row(words='watCh, clock, and  jewelry repair shops'),\n",
       " Row(words='digitAl goods: books, movies, music'),\n",
       " Row(words='lawn and garden supply outlets, incLudIng nurseries'),\n",
       " Row(words='motor vehicle supplies and new parTs'),\n",
       " Row(words='furniture, Home furnishings and equipment shops, and manufacturers, except aPpliances'),\n",
       " Row(words='computers, computer peripherAl Equipment, and software'),\n",
       " Row(words='motor vehicle supplies and new parts'),\n",
       " Row(words='books, pEriodicals, and newspapers'),\n",
       " Row(words='motor vehIcle supplies and new parts'),\n",
       " Row(words='cable, Satellite, and other pay television and radio serviCes'),\n",
       " Row(words='computer pRogramming , data processing, and integrated systems design services'),\n",
       " Row(words='cable, satellite, and other pay teleVision and radio services'),\n",
       " Row(words='cable, satellite, and other pay television and radio sErvices'),\n",
       " Row(words='florists supplies, nUrsery stock, and flowers'),\n",
       " Row(words='furniture, home furnishings and equipment shops, and manufActurers, except appliaNces'),\n",
       " Row(words='opticians,  optical goods, and eyeglasses'),\n",
       " Row(words='digital goods: books, movies, muSiC'),\n",
       " Row(words='motor vehiCle supplies and new parTs'),\n",
       " Row(words='hobby, toy and Game shops'),\n",
       " Row(words='stationery, office supplies anD printing  and writing paper'),\n",
       " Row(words='books, periodicals, and  newsPapers'),\n",
       " Row(words='opticians, opticaL goods, and eyeglassEs'),\n",
       " Row(words='jewelry, watch, clock, and silVerware shops'),\n",
       " Row(words='motor  vehicle supplies and new parts'),\n",
       " Row(words='watcH, clock, and jewelry repair shops'),\n",
       " Row(words='florIsts supplies, nursery stock, and flowers'),\n",
       " Row(words='jEWelry, watch, clock, and silverware shops'),\n",
       " Row(words='computer programming , data  processing, anD integrated systems desIgn services'),\n",
       " Row(words='watch, clock, and jewelrY repair shops'),\n",
       " Row(words='hobBy, toy and game shops'),\n",
       " Row(words='stationery, office supplies and printing and wRiting Paper'),\n",
       " Row(words='computer programming , data Processing, and integrated systems design services'),\n",
       " Row(words='boOks, periodIcals, and newspapers'),\n",
       " Row(words='stationery, office supplies and printing and  writing paper'),\n",
       " Row(words='music shops - musical instruments, pianos, and sheet muSic'),\n",
       " Row(words='jewelRy, watch, clOck, and silverware shops'),\n",
       " Row(words='lawn and garden supply outleTs, including nurseries'),\n",
       " Row(words='digital gooDs: books, movies, music'),\n",
       " Row(words='cablE, satellite, and other pay television and radio services'),\n",
       " Row(words='digital goods: books, movieS, music'),\n",
       " Row(words='books, peRiodicals, and newspapers'),\n",
       " Row(words='music shops - musical instruments, pianos, and sheeT music'),\n",
       " Row(words='furniture, home furnishings and equipmenT shops, and manufacturers, except appliances'),\n",
       " Row(words='compUTer programming , data processing, and integrated systEms design services'),\n",
       " Row(words='antique shops - sales,  repairs, and restoration services'),\n",
       " Row(words='cable, satellite, and other Pay television and radio services'),\n",
       " Row(words='lawn and garden supply outlets, includinG nurseries'),\n",
       " Row(words='music shops - musical instruments, pianOs, And sheet music'),\n",
       " Row(words='cOmputer prograMming , datA proCessing, and integrated systems design services'),\n",
       " Row(words='stationery, officE supplies and printing and Writing paper'),\n",
       " Row(words='gift, card, novelty, And souvenir shops'),\n",
       " Row(words='computer progrAmming , data processing, and integratEd systems design services'),\n",
       " Row(words='furniture, home furnishings and eqUipment shops, and manufacturers, except appLiances'),\n",
       " Row(words='art dealers and galleRies'),\n",
       " Row(words='lawn And garden supply outlets, including nurseries'),\n",
       " Row(words='watch, clocK, and jewelry repair shops'),\n",
       " Row(words='cablE, satellite, and other  pay television and radIo services'),\n",
       " Row(words='computer programming , datA processing, and intEgrated systems design services'),\n",
       " Row(words='digital Goods: books, movies, music'),\n",
       " Row(words='books, peRIodicals, and newspapers'),\n",
       " Row(words='lawn and garden supPly outlets, including nurseries'),\n",
       " Row(words='optiCians, optical goods, and eyeglasses'),\n",
       " Row(words='gift, card, novelty, and souvenir sHopS'),\n",
       " Row(words='jewelry, watch, clock, and silvErWare Shops'),\n",
       " Row(words='computeRs, computer peripheral equipment, and software'),\n",
       " Row(words='lawn and  garden supply  oUtlets, including nurseries'),\n",
       " Row(words='computeR programming , data processing, and integrated systems design services'),\n",
       " Row(words='jewelry, watch, clock, and silverware shoPs'),\n",
       " Row(words='computer proGramming , data processing, and integrated systems design services'),\n",
       " Row(words='hobbY, toy and game shops'),\n",
       " Row(words='lawn and garden suppLy outlets, including nurseries'),\n",
       " Row(words='antique shops - sales, repairs, and restorAtion services'),\n",
       " Row(words='computer programming , dAta processing, and integrated systems design services'),\n",
       " Row(words='computer programming , data processing, and integrated systems desiGn services'),\n",
       " Row(words='opticians, optical Goods, and eyeglasses'),\n",
       " Row(words='computer programming , data processing, and integrated systems  design services'),\n",
       " Row(words='cable, satellite, and other pay television And radio Services'),\n",
       " Row(words='antique shops -  sales, repairs, and restoration services'),\n",
       " Row(words='bicycle shops - sales and service'),\n",
       " Row(words='computer programming , data processing, and integrated systemS design services'),\n",
       " Row(words='health and beauTy spas'),\n",
       " Row(words='computers, computer  periphEral equipment, and software'),\n",
       " Row(words='equipment, tool, furniture, and Appliance rent al and leasing')]"
      ]
     },
     "execution_count": 44,
     "metadata": {},
     "output_type": "execute_result"
    }
   ],
   "source": [
    "print(merch_tbl_clean.select('words').distinct().count())\n",
    "\n",
    "merch_tbl_clean.select('words').distinct().collect()"
   ]
  },
  {
   "cell_type": "code",
   "execution_count": 45,
   "metadata": {},
   "outputs": [],
   "source": [
    "# Replace multiple spaces with a single space\n",
    "merch_tbl_clean = merch_tbl_clean.withColumn(\"words\", F.regexp_replace(F.col(\"words\"), \"\\\\s+\", \" \"))\n",
    "\n",
    "# Trim leading and trailing spaces\n",
    "merch_tbl_clean = merch_tbl_clean.withColumn(\"words\", F.regexp_replace(F.col(\"words\"), \"^\\\\s+\", \"\"))\n",
    "merch_tbl_clean = merch_tbl_clean.withColumn(\"words\", F.regexp_replace(F.col(\"words\"), \"\\\\s+$\", \"\"))\n",
    "\n",
    "# Ensure consistent casing\n",
    "merch_tbl_clean = merch_tbl_clean.withColumn('words', F.lower(F.col('words')))"
   ]
  },
  {
   "cell_type": "code",
   "execution_count": 46,
   "metadata": {},
   "outputs": [
    {
     "name": "stdout",
     "output_type": "stream",
     "text": [
      "25\n"
     ]
    },
    {
     "data": {
      "text/plain": [
       "[Row(words='opticians, optical goods, and eyeglasses'),\n",
       " Row(words='watch, clock, and jewelry repair shops'),\n",
       " Row(words='computer programming , data processing, and integrated systems design services'),\n",
       " Row(words='digital goods: books, movies, music'),\n",
       " Row(words='books, periodicals, and newspapers'),\n",
       " Row(words='florists supplies, nursery stock, and flowers'),\n",
       " Row(words='art dealers and galleries'),\n",
       " Row(words='antique shops - sales, repairs, and restoration services'),\n",
       " Row(words='gift, card, novelty, and souvenir shops'),\n",
       " Row(words='equipment, tool, furniture, and appliance rent al and leasing'),\n",
       " Row(words='cable, satellite, and other pay television and radio services'),\n",
       " Row(words='tent and awning shops'),\n",
       " Row(words='artist supply and craft shops'),\n",
       " Row(words='stationery, office supplies and printing and writing paper'),\n",
       " Row(words='furniture, home furnishings and equipment shops, and manufacturers, except appliances'),\n",
       " Row(words='telecom'),\n",
       " Row(words='jewelry, watch, clock, and silverware shops'),\n",
       " Row(words='shoe shops'),\n",
       " Row(words='hobby, toy and game shops'),\n",
       " Row(words='computers, computer peripheral equipment, and software'),\n",
       " Row(words='music shops - musical instruments, pianos, and sheet music'),\n",
       " Row(words='health and beauty spas'),\n",
       " Row(words='lawn and garden supply outlets, including nurseries'),\n",
       " Row(words='motor vehicle supplies and new parts'),\n",
       " Row(words='bicycle shops - sales and service')]"
      ]
     },
     "execution_count": 46,
     "metadata": {},
     "output_type": "execute_result"
    }
   ],
   "source": [
    "print(merch_tbl_clean.select('words').distinct().count())\n",
    "\n",
    "merch_tbl_clean.select('words').distinct().collect()"
   ]
  },
  {
   "cell_type": "code",
   "execution_count": 47,
   "metadata": {},
   "outputs": [
    {
     "data": {
      "text/plain": [
       "'\\n\\nfrom pyspark.sql.functions import udf\\nfrom pyspark.sql.types import StringType\\nfrom nltk.stem import WordNetLemmatizer\\nimport nltk\\n\\nnltk.download(\\'wordnet\\')\\n\\n# Create a UDF (User Defined Function) for lemmatization\\nlemmatizer = WordNetLemmatizer()\\n\\ndef lemmatize_text(text):\\n    words = text.split()\\n    lemmatized_words = [lemmatizer.lemmatize(word) for word in words]\\n    return \\' \\'.join(lemmatized_words)\\n\\nlemmatize_udf = udf(lemmatize_text, StringType())\\n\\nmerch_tbl_clean.withColumn(\"lemmas\", lemmatize_udf(F.col(\"merchant_description\"))).select(\\'lemmas\\').distinct().collect()\\n'"
      ]
     },
     "execution_count": 47,
     "metadata": {},
     "output_type": "execute_result"
    }
   ],
   "source": [
    "'''\n",
    "\n",
    "from pyspark.sql.functions import udf\n",
    "from pyspark.sql.types import StringType\n",
    "from nltk.stem import WordNetLemmatizer\n",
    "import nltk\n",
    "\n",
    "nltk.download('wordnet')\n",
    "\n",
    "# Create a UDF (User Defined Function) for lemmatization\n",
    "lemmatizer = WordNetLemmatizer()\n",
    "\n",
    "def lemmatize_text(text):\n",
    "    words = text.split()\n",
    "    lemmatized_words = [lemmatizer.lemmatize(word) for word in words]\n",
    "    return ' '.join(lemmatized_words)\n",
    "\n",
    "lemmatize_udf = udf(lemmatize_text, StringType())\n",
    "\n",
    "merch_tbl_clean.withColumn(\"lemmas\", lemmatize_udf(F.col(\"merchant_description\"))).select('lemmas').distinct().collect()\n",
    "'''"
   ]
  },
  {
   "cell_type": "code",
   "execution_count": 48,
   "metadata": {},
   "outputs": [
    {
     "data": {
      "text/plain": [
       "'\\nfrom pyspark.sql import SparkSession\\nfrom pyspark.ml.feature import CountVectorizer, IDF\\n\\n# Tokenization\\nfrom pyspark.ml.feature import RegexTokenizer\\n\\ntokenizer = RegexTokenizer(inputCol=\"text_column\", outputCol=\"words\", pattern=\"\\\\s+\")\\nwordsData = tokenizer.transform(df)\\n\\n# Calculate TF (Term Frequency)\\ncv = CountVectorizer(inputCol=\"words\", outputCol=\"rawFeatures\")\\nmodel = cv.fit(wordsData)\\nfeaturizedData = model.transform(wordsData)\\n\\n\\n# Calculate IDF (Inverse Document Frequency)\\nidf = IDF(inputCol=\"rawFeatures\", outputCol=\"features\")\\nidfModel = idf.fit(featurizedData)\\nrescaledData = idfModel.transform(featurizedData)\\n\\n# Select Relevant Columns\\ntfidfData = rescaledData.select(\"text_column\", \"features\")\\n\\n# Show or Save the Result\\ntfidfData.show(truncate=False)\\n# To save the result to a file\\n# tfidfData.write.save(\"path/to/save/result\", format=\"parquet\")\\n'"
      ]
     },
     "execution_count": 48,
     "metadata": {},
     "output_type": "execute_result"
    }
   ],
   "source": [
    "'''\n",
    "from pyspark.sql import SparkSession\n",
    "from pyspark.ml.feature import CountVectorizer, IDF\n",
    "\n",
    "# Tokenization\n",
    "from pyspark.ml.feature import RegexTokenizer\n",
    "\n",
    "tokenizer = RegexTokenizer(inputCol=\"text_column\", outputCol=\"words\", pattern=\"\\\\s+\")\n",
    "wordsData = tokenizer.transform(df)\n",
    "\n",
    "# Calculate TF (Term Frequency)\n",
    "cv = CountVectorizer(inputCol=\"words\", outputCol=\"rawFeatures\")\n",
    "model = cv.fit(wordsData)\n",
    "featurizedData = model.transform(wordsData)\n",
    "\n",
    "\n",
    "# Calculate IDF (Inverse Document Frequency)\n",
    "idf = IDF(inputCol=\"rawFeatures\", outputCol=\"features\")\n",
    "idfModel = idf.fit(featurizedData)\n",
    "rescaledData = idfModel.transform(featurizedData)\n",
    "\n",
    "# Select Relevant Columns\n",
    "tfidfData = rescaledData.select(\"text_column\", \"features\")\n",
    "\n",
    "# Show or Save the Result\n",
    "tfidfData.show(truncate=False)\n",
    "# To save the result to a file\n",
    "# tfidfData.write.save(\"path/to/save/result\", format=\"parquet\")\n",
    "'''"
   ]
  },
  {
   "cell_type": "code",
   "execution_count": 49,
   "metadata": {},
   "outputs": [
    {
     "data": {
      "text/plain": [
       "4026"
      ]
     },
     "execution_count": 49,
     "metadata": {},
     "output_type": "execute_result"
    }
   ],
   "source": [
    "merch_tbl_clean.count()"
   ]
  },
  {
   "cell_type": "code",
   "execution_count": 50,
   "metadata": {},
   "outputs": [],
   "source": [
    "df = merch_tbl_clean \n",
    "\n",
    "df.write.mode('overwrite').parquet(\"../../data/nulls&missing_analysis/merchant/merchant_tbl.parquet\")\n",
    "\n",
    "# 1. Remove Null Values\n",
    "df = df.na.drop()\n",
    "\n",
    "# 2. Check for Duplicates\n",
    "df = df.dropDuplicates()\n",
    "\n",
    "# 3. Validate merchant_abn\n",
    "df = df.filter((F.col('merchant_abn') > 0))\n",
    "\n",
    "# 4. Validate merchant_name \n",
    "df = df.filter(F.col('merchant_name').rlike(\"[a-zA-Z][a-zA-Z0-9 ]+\"))\n",
    "\n",
    "# 5. Validate words                # https://scikit-learn.org/stable/modules/generated/sklearn.feature_extraction.text.TfidfVectorizer.html#sklearn.feature_extraction.text.TfidfVectorizer)\n",
    "                                   # https://scikit-learn.org/stable/modules/generated/sklearn.feature_extraction.text.CountVectorizer.html \n",
    "#df = df.filter(F.col('words').rlike(\"[a-zA-Z][a-zA-Z0-9 ]+\"))\n",
    "\n",
    "# 6. Validate take_rate\n",
    "df = df.filter((F.col('take_rate_%').between(0, 100)))\n",
    "\n",
    "# 7. Validate revenue_level\n",
    "df = df.filter(F.col('revenue_level').isin(['a', 'b', 'c', 'd', 'e']))\n",
    "\n",
    "\n",
    "merch_tbl_clean = df\n"
   ]
  },
  {
   "cell_type": "code",
   "execution_count": 51,
   "metadata": {},
   "outputs": [
    {
     "data": {
      "text/html": [
       "<table border='1'>\n",
       "<tr><th>merchant_name</th><th>merchant_abn</th><th>words</th><th>revenue_level</th><th>take_rate_%</th></tr>\n",
       "<tr><td>Nam Foundation</td><td>11437621158</td><td>motor vehicle sup...</td><td>b</td><td>4.53</td></tr>\n",
       "<tr><td>Aliquam Eros Company</td><td>16432242544</td><td>hobby, toy and ga...</td><td>b</td><td>4.08</td></tr>\n",
       "<tr><td>Sit Amet Consecte...</td><td>17055065679</td><td>computers, comput...</td><td>b</td><td>3.71</td></tr>\n",
       "<tr><td>Nec Enim LLP</td><td>17614133590</td><td>music shops - mus...</td><td>c</td><td>2.93</td></tr>\n",
       "<tr><td>Adipiscing Lacus ...</td><td>20131680113</td><td>furniture, home f...</td><td>b</td><td>3.26</td></tr>\n",
       "<tr><td>Nulla In LLP</td><td>49368160590</td><td>computers, comput...</td><td>b</td><td>4.74</td></tr>\n",
       "<tr><td>Consectetuer Adip...</td><td>64974914166</td><td>digital goods: bo...</td><td>c</td><td>2.12</td></tr>\n",
       "<tr><td>Vulputate Ullamco...</td><td>75475698329</td><td>computers, comput...</td><td>a</td><td>6.18</td></tr>\n",
       "<tr><td>Non Ante Consulting</td><td>78040474274</td><td>telecom</td><td>c</td><td>2.72</td></tr>\n",
       "<tr><td>A Sollicitudin Or...</td><td>78864123417</td><td>equipment, tool, ...</td><td>e</td><td>0.36</td></tr>\n",
       "<tr><td>Orci Quis Foundation</td><td>99478391356</td><td>equipment, tool, ...</td><td>c</td><td>1.52</td></tr>\n",
       "<tr><td>Feugiat Non Assoc...</td><td>12434006854</td><td>stationery, offic...</td><td>a</td><td>5.66</td></tr>\n",
       "<tr><td>Posuere Cubilia C...</td><td>16993524298</td><td>bicycle shops - s...</td><td>c</td><td>2.25</td></tr>\n",
       "<tr><td>Aliquet Sem Ut LLP</td><td>18651012250</td><td>computer programm...</td><td>b</td><td>4.2</td></tr>\n",
       "<tr><td>Faucibus Orci Inc...</td><td>19573722372</td><td>cable, satellite,...</td><td>a</td><td>6.88</td></tr>\n",
       "<tr><td>Ac Feugiat LLC</td><td>30403523748</td><td>computers, comput...</td><td>a</td><td>6.21</td></tr>\n",
       "<tr><td>Cursus PC</td><td>40819329493</td><td>antique shops - s...</td><td>b</td><td>4.33</td></tr>\n",
       "<tr><td>Dui Nec Corp.</td><td>43301018611</td><td>computers, comput...</td><td>b</td><td>4.17</td></tr>\n",
       "<tr><td>Mauris Molestie C...</td><td>55270512213</td><td>books, periodical...</td><td>b</td><td>3.24</td></tr>\n",
       "<tr><td>Vel Institute</td><td>62204398944</td><td>bicycle shops - s...</td><td>a</td><td>6.79</td></tr>\n",
       "</table>\n",
       "only showing top 20 rows\n"
      ],
      "text/plain": [
       "+--------------------+------------+--------------------+-------------+-----------+\n",
       "|       merchant_name|merchant_abn|               words|revenue_level|take_rate_%|\n",
       "+--------------------+------------+--------------------+-------------+-----------+\n",
       "|      Nam Foundation| 11437621158|motor vehicle sup...|            b|       4.53|\n",
       "|Aliquam Eros Company| 16432242544|hobby, toy and ga...|            b|       4.08|\n",
       "|Sit Amet Consecte...| 17055065679|computers, comput...|            b|       3.71|\n",
       "|        Nec Enim LLP| 17614133590|music shops - mus...|            c|       2.93|\n",
       "|Adipiscing Lacus ...| 20131680113|furniture, home f...|            b|       3.26|\n",
       "|        Nulla In LLP| 49368160590|computers, comput...|            b|       4.74|\n",
       "|Consectetuer Adip...| 64974914166|digital goods: bo...|            c|       2.12|\n",
       "|Vulputate Ullamco...| 75475698329|computers, comput...|            a|       6.18|\n",
       "| Non Ante Consulting| 78040474274|             telecom|            c|       2.72|\n",
       "|A Sollicitudin Or...| 78864123417|equipment, tool, ...|            e|       0.36|\n",
       "|Orci Quis Foundation| 99478391356|equipment, tool, ...|            c|       1.52|\n",
       "|Feugiat Non Assoc...| 12434006854|stationery, offic...|            a|       5.66|\n",
       "|Posuere Cubilia C...| 16993524298|bicycle shops - s...|            c|       2.25|\n",
       "|  Aliquet Sem Ut LLP| 18651012250|computer programm...|            b|        4.2|\n",
       "|Faucibus Orci Inc...| 19573722372|cable, satellite,...|            a|       6.88|\n",
       "|      Ac Feugiat LLC| 30403523748|computers, comput...|            a|       6.21|\n",
       "|           Cursus PC| 40819329493|antique shops - s...|            b|       4.33|\n",
       "|       Dui Nec Corp.| 43301018611|computers, comput...|            b|       4.17|\n",
       "|Mauris Molestie C...| 55270512213|books, periodical...|            b|       3.24|\n",
       "|       Vel Institute| 62204398944|bicycle shops - s...|            a|       6.79|\n",
       "+--------------------+------------+--------------------+-------------+-----------+\n",
       "only showing top 20 rows"
      ]
     },
     "execution_count": 51,
     "metadata": {},
     "output_type": "execute_result"
    }
   ],
   "source": [
    "merch_tbl_clean"
   ]
  },
  {
   "cell_type": "code",
   "execution_count": null,
   "metadata": {},
   "outputs": [],
   "source": [
    "from pyspark.sql.types import StringType\n",
    "# Create the segment feature for each merchant\n",
    "\n",
    "tech_and_electronics = [\"computer\", \"digital\", \"television\", \"telecom\"]\n",
    "retail_and_novelty = [\"newspaper\", \"novelty\", \"hobby\", \"shoe\", \"instruments\", \"bicycle\", \"craft\",\"office\"]\n",
    "garden_and_furnishings = [\"florists\", \"furniture\", \"garden\", \"tent\"]\n",
    "antiques_and_jewellery = [\"galleries\", \"antique\", \"jewelry\"]\n",
    "specialized_services = [\"health\", \"motor\", \"opticians\"]\n",
    "\n",
    "\n",
    "def segment(description):\n",
    "    for segment, keywords in [(\"tech_and_electronics\", tech_and_electronics),\n",
    "                               (\"retail_and_novelty\", retail_and_novelty),\n",
    "                               (\"garden_and_furnishings\", garden_and_furnishings),\n",
    "                               (\"antiques_and_jewellery\", antiques_and_jewellery),\n",
    "                               (\"specialized_services\", specialized_services)]:\n",
    "        if any(keyword in description for keyword in keywords):\n",
    "            return segment\n",
    "    return \"other\"\n",
    "\n",
    "segment_udf = F.udf(segment, StringType())\n",
    "\n",
    "merch_tbl_clean = merch_tbl_clean.withColumn(\"segment\", segment_udf(merch_tbl_clean.words))"
   ]
  },
  {
   "cell_type": "code",
   "execution_count": null,
   "metadata": {},
   "outputs": [
    {
     "data": {
      "text/html": [
       "<table border='1'>\n",
       "<tr><th>merchant_name</th><th>merchant_abn</th><th>words</th><th>revenue_level</th><th>take_rate_%</th><th>segment</th></tr>\n",
       "</table>\n"
      ],
      "text/plain": [
       "+-------------+------------+-----+-------------+-----------+-------+\n",
       "|merchant_name|merchant_abn|words|revenue_level|take_rate_%|segment|\n",
       "+-------------+------------+-----+-------------+-----------+-------+\n",
       "+-------------+------------+-----+-------------+-----------+-------+"
      ]
     },
     "metadata": {},
     "output_type": "display_data"
    }
   ],
   "source": [
    "merch_tbl_clean.filter(F.col('segment').isNull())"
   ]
  },
  {
   "cell_type": "code",
   "execution_count": null,
   "metadata": {},
   "outputs": [],
   "source": [
    "merch_tbl_clean.filter(F.col('segment') == 'other')"
   ]
  },
  {
   "cell_type": "code",
   "execution_count": 52,
   "metadata": {},
   "outputs": [],
   "source": [
    "df = merch_fp\n",
    "\n",
    "df.write.mode('overwrite').parquet(\"../../data/nulls&missing_analysis/merchant/merchant_fraud_probability.parquet\")\n",
    "\n",
    "# 1. Check for Null Values\n",
    "df = df.na.drop()\n",
    "\n",
    "# 2. Check for Duplicates\n",
    "df = df.dropDuplicates()\n",
    "\n",
    "# 3. Validate merchant_abn\n",
    "df = df.filter((F.col('merchant_abn') > 0))\n",
    "\n",
    "# 4. Validate order_datetime for the specified date range\n",
    "start_date = datetime.strptime(\"20210228\", \"%Y%m%d\").date()\n",
    "end_date = datetime.strptime(\"20221026\", \"%Y%m%d\").date()\n",
    "df = df.filter(F.col('order_datetime').between(start_date, end_date))\n",
    "\n",
    "# 5. Validate merchant fraud probability\n",
    "df = df.filter(F.col('merchant_fraud_probability_%').between(0, 100))\n",
    "df = df.withColumn('merchant_fraud_probability_%', F.round(F.col('merchant_fraud_probability_%'), 4))\n",
    "\n",
    "\n",
    "merch_fp_clean = df\n"
   ]
  },
  {
   "cell_type": "markdown",
   "metadata": {},
   "source": [
    "### External Data"
   ]
  },
  {
   "cell_type": "code",
   "execution_count": 126,
   "metadata": {},
   "outputs": [],
   "source": [
    "# 2021 census data CSVs\n",
    "\n",
    "df = sa2_census\n",
    "\n",
    "df.write.mode('overwrite').parquet(\"../../data/nulls&missing_analysis/sa2/sa2_census.parquet\")\n",
    "\n",
    "# 1. Remove Null Values\n",
    "df = df.na.drop()\n",
    "\n",
    "# 2. Check for Duplicates\n",
    "df = df.dropDuplicates()\n",
    "\n",
    "# 3. Validate sa2_code\n",
    "df = df.filter(F.col('sa2_code') > 0)\n",
    "\n",
    "# 4. Validate median_age\n",
    "df = df.filter(F.col('sa2_median_age') >= 0)\n",
    "\n",
    "# 5. Validate median mortgage repay monthly\n",
    "df = df.filter(F.col('sa2_median_mortgage_repay_monthly') >= 0)\n",
    "\n",
    "# 6. Validate median total personal weekly income\n",
    "df = df.filter(F.col('sa2_median_tot_prsnl_inc_weekly') >= 0)\n",
    "\n",
    "# 7. Validate median weekly rent\n",
    "df = df.filter(F.col('sa2_median_rent_weekly') >= 0)\n",
    "\n",
    "# 8. Validate median total family weekly income\n",
    "df = df.filter(F.col('sa2_median_tot_fam_inc_weekly') >= 0)\n",
    "\n",
    "# 9. Validate average number of persons per bedroom\n",
    "df = df.filter(F.col('sa2_average_num_psns_per_bedroom') >= 0)\n",
    "\n",
    "# 10. Validate median total household weekly income\n",
    "df = df.filter(F.col('sa2_median_tot_hhd_inc_weekly') >= 0)\n",
    "\n",
    "# 11. Validate average household size\n",
    "df = df.filter(F.col('sa2_average_household_size') >= 0)\n",
    "\n",
    "sa2_census_clean = df"
   ]
  },
  {
   "cell_type": "code",
   "execution_count": 127,
   "metadata": {},
   "outputs": [],
   "source": [
    "###############################################################################################################################################################################################"
   ]
  },
  {
   "cell_type": "code",
   "execution_count": 128,
   "metadata": {},
   "outputs": [
    {
     "name": "stdout",
     "output_type": "stream",
     "text": [
      "root\n",
      " |-- sa4_name: string (nullable = true)\n",
      " |-- sa3_name: string (nullable = true)\n",
      " |-- sa2_code: long (nullable = true)\n",
      " |-- sa2_name: string (nullable = true)\n",
      " |-- population_2021: long (nullable = true)\n",
      "\n"
     ]
    }
   ],
   "source": [
    "sa2_pops.limit(10)\n",
    "\n",
    "sa2_pops.printSchema()"
   ]
  },
  {
   "cell_type": "code",
   "execution_count": 129,
   "metadata": {},
   "outputs": [
    {
     "name": "stderr",
     "output_type": "stream",
     "text": [
      "                                                                                \r"
     ]
    }
   ],
   "source": [
    "df = sa2_pops\n",
    "\n",
    "df.write.mode('overwrite').parquet(\"../../data/nulls&missing_analysis/sa2/sa2_pops.parquet\")\n",
    "\n",
    "# 1. Remove Null Values\n",
    "df = df.na.drop()\n",
    "\n",
    "# 2. Check for Duplicates\n",
    "df = df.dropDuplicates()\n",
    "\n",
    "# 3. Validate population\n",
    "df = df.filter(F.col('population_2021') >= 0)\n",
    "\n",
    "sa2_pops_clean = df\n"
   ]
  },
  {
   "cell_type": "code",
   "execution_count": 130,
   "metadata": {},
   "outputs": [],
   "source": [
    "###############################################################################################################################################################################################"
   ]
  },
  {
   "cell_type": "code",
   "execution_count": 131,
   "metadata": {},
   "outputs": [
    {
     "data": {
      "text/html": [
       "<table border='1'>\n",
       "<tr><th>postcode</th><th>sa2_code</th></tr>\n",
       "<tr><td>800</td><td>701011002</td></tr>\n",
       "<tr><td>810</td><td>701021029</td></tr>\n",
       "<tr><td>810</td><td>701021026</td></tr>\n",
       "<tr><td>810</td><td>701021027</td></tr>\n",
       "<tr><td>810</td><td>701021016</td></tr>\n",
       "<tr><td>810</td><td>701021023</td></tr>\n",
       "<tr><td>810</td><td>701021018</td></tr>\n",
       "<tr><td>810</td><td>701021010</td></tr>\n",
       "<tr><td>810</td><td>701021024</td></tr>\n",
       "<tr><td>810</td><td>701021013</td></tr>\n",
       "</table>\n"
      ],
      "text/plain": [
       "+--------+---------+\n",
       "|postcode| sa2_code|\n",
       "+--------+---------+\n",
       "|     800|701011002|\n",
       "|     810|701021029|\n",
       "|     810|701021026|\n",
       "|     810|701021027|\n",
       "|     810|701021016|\n",
       "|     810|701021023|\n",
       "|     810|701021018|\n",
       "|     810|701021010|\n",
       "|     810|701021024|\n",
       "|     810|701021013|\n",
       "+--------+---------+"
      ]
     },
     "execution_count": 131,
     "metadata": {},
     "output_type": "execute_result"
    }
   ],
   "source": [
    "df = sa2_to_postcode\n",
    "\n",
    "df.write.mode('overwrite').parquet(\"../../data/nulls&missing_analysis/sa2/sa2_to_postcode.parquet\")\n",
    "\n",
    "# 1. Remove Null Values\n",
    "df = df.na.drop()\n",
    "\n",
    "# 2. Check for Duplicates\n",
    "df = df.dropDuplicates()\n",
    "\n",
    "# No need to validate postcode as inner join will be performed with validated postcodes\n",
    "\n",
    "sa2_to_postcode_clean=df\n",
    "\n",
    "sa2_to_postcode_clean.sort('postcode').limit(10)\n",
    "\n"
   ]
  },
  {
   "cell_type": "markdown",
   "metadata": {},
   "source": [
    "### Aggregation"
   ]
  },
  {
   "cell_type": "code",
   "execution_count": 132,
   "metadata": {},
   "outputs": [],
   "source": [
    "output_relative_dir = '../../data/curated/'\n",
    "\n",
    "# check if it exists as it makedir will raise an error if it does exist\n",
    "if not os.path.exists(output_relative_dir):\n",
    "    os.makedirs(output_relative_dir)\n",
    "   \n",
    "\n",
    "# now, for each type of data set we will need, we will create the paths\n",
    "for target_dir in ('consumer', 'merchant'): # taxi_zones should already exist\n",
    "    if not os.path.exists(output_relative_dir + target_dir):\n",
    "        os.makedirs(output_relative_dir + target_dir)\n"
   ]
  },
  {
   "cell_type": "code",
   "execution_count": 133,
   "metadata": {},
   "outputs": [],
   "source": [
    "#cons_combined = "
   ]
  },
  {
   "cell_type": "code",
   "execution_count": 134,
   "metadata": {},
   "outputs": [],
   "source": [
    "#cons_combined.limit(5)"
   ]
  },
  {
   "cell_type": "code",
   "execution_count": 135,
   "metadata": {},
   "outputs": [],
   "source": [
    "#cons_combined.write.parquet(\"../data/curated/consumer/consumer_combined.parquet\")"
   ]
  },
  {
   "cell_type": "code",
   "execution_count": 136,
   "metadata": {},
   "outputs": [],
   "source": [
    "#merch_combined"
   ]
  },
  {
   "cell_type": "code",
   "execution_count": 137,
   "metadata": {},
   "outputs": [],
   "source": [
    "#merch_combined.limit(5)"
   ]
  },
  {
   "cell_type": "code",
   "execution_count": 138,
   "metadata": {},
   "outputs": [],
   "source": [
    "#merch_combined.write.parquet(\"../data/curated/merchant/merchant_combined.parquet\")"
   ]
  },
  {
   "cell_type": "code",
   "execution_count": 139,
   "metadata": {},
   "outputs": [],
   "source": [
    "orig_combined = cust_tbl_clean.join(cust_user_det_clean, on='consumer_id', how='inner') \\\n",
    ".join(transactions_all_clean, on='user_id', how ='inner') \\\n",
    ".join(cust_fp_clean, on=['user_id', 'order_datetime'], how='left').na.fill(0) \\\n",
    ".join(merch_tbl_clean, on='merchant_abn', how='inner') \\\n",
    ".join(merch_fp_clean, on=['merchant_abn', 'order_datetime'], how='left').na.fill(0)\n",
    "\n"
   ]
  },
  {
   "cell_type": "code",
   "execution_count": 140,
   "metadata": {},
   "outputs": [],
   "source": [
    "sa2_combined = sa2_to_postcode_clean.join(sa2_pops_clean, on='sa2_code', how='inner').withColumnRenamed('population_2021','sa2_population').join(sa2_census_clean, on='sa2_code', how='inner')\n"
   ]
  },
  {
   "cell_type": "code",
   "execution_count": 141,
   "metadata": {},
   "outputs": [
    {
     "data": {
      "text/html": [
       "<table border='1'>\n",
       "<tr><th>sa2_code</th><th>postcode</th><th>sa4_name</th><th>sa3_name</th><th>sa2_name</th><th>sa2_population</th><th>sa2_median_age</th><th>sa2_median_mortgage_repay_monthly</th><th>sa2_median_tot_prsnl_inc_weekly</th><th>sa2_median_rent_weekly</th><th>sa2_median_tot_fam_inc_weekly</th><th>sa2_average_num_psns_per_bedroom</th><th>sa2_median_tot_hhd_inc_weekly</th><th>sa2_average_household_size</th></tr>\n",
       "<tr><td>108041165</td><td>2429</td><td>Mid North Coast</td><td>Port Macquarie</td><td>Port Macquarie Su...</td><td>5286</td><td>50</td><td>1668</td><td>632</td><td>300</td><td>1534</td><td>0.8</td><td>1334</td><td>2.5</td></tr>\n",
       "<tr><td>108041165</td><td>2444</td><td>Mid North Coast</td><td>Port Macquarie</td><td>Port Macquarie Su...</td><td>5286</td><td>50</td><td>1668</td><td>632</td><td>300</td><td>1534</td><td>0.8</td><td>1334</td><td>2.5</td></tr>\n",
       "<tr><td>108041165</td><td>2441</td><td>Mid North Coast</td><td>Port Macquarie</td><td>Port Macquarie Su...</td><td>5286</td><td>50</td><td>1668</td><td>632</td><td>300</td><td>1534</td><td>0.8</td><td>1334</td><td>2.5</td></tr>\n",
       "<tr><td>108041165</td><td>2446</td><td>Mid North Coast</td><td>Port Macquarie</td><td>Port Macquarie Su...</td><td>5286</td><td>50</td><td>1668</td><td>632</td><td>300</td><td>1534</td><td>0.8</td><td>1334</td><td>2.5</td></tr>\n",
       "<tr><td>107031143</td><td>2528</td><td>Illawarra</td><td>Kiama - Shellharbour</td><td>Warilla</td><td>20500</td><td>43</td><td>1820</td><td>587</td><td>350</td><td>1484</td><td>0.8</td><td>1191</td><td>2.4</td></tr>\n",
       "</table>\n"
      ],
      "text/plain": [
       "+---------+--------+---------------+--------------------+--------------------+--------------+--------------+---------------------------------+-------------------------------+----------------------+-----------------------------+--------------------------------+-----------------------------+--------------------------+\n",
       "| sa2_code|postcode|       sa4_name|            sa3_name|            sa2_name|sa2_population|sa2_median_age|sa2_median_mortgage_repay_monthly|sa2_median_tot_prsnl_inc_weekly|sa2_median_rent_weekly|sa2_median_tot_fam_inc_weekly|sa2_average_num_psns_per_bedroom|sa2_median_tot_hhd_inc_weekly|sa2_average_household_size|\n",
       "+---------+--------+---------------+--------------------+--------------------+--------------+--------------+---------------------------------+-------------------------------+----------------------+-----------------------------+--------------------------------+-----------------------------+--------------------------+\n",
       "|108041165|    2429|Mid North Coast|      Port Macquarie|Port Macquarie Su...|          5286|            50|                             1668|                            632|                   300|                         1534|                             0.8|                         1334|                       2.5|\n",
       "|108041165|    2444|Mid North Coast|      Port Macquarie|Port Macquarie Su...|          5286|            50|                             1668|                            632|                   300|                         1534|                             0.8|                         1334|                       2.5|\n",
       "|108041165|    2441|Mid North Coast|      Port Macquarie|Port Macquarie Su...|          5286|            50|                             1668|                            632|                   300|                         1534|                             0.8|                         1334|                       2.5|\n",
       "|108041165|    2446|Mid North Coast|      Port Macquarie|Port Macquarie Su...|          5286|            50|                             1668|                            632|                   300|                         1534|                             0.8|                         1334|                       2.5|\n",
       "|107031143|    2528|      Illawarra|Kiama - Shellharbour|             Warilla|         20500|            43|                             1820|                            587|                   350|                         1484|                             0.8|                         1191|                       2.4|\n",
       "+---------+--------+---------------+--------------------+--------------------+--------------+--------------+---------------------------------+-------------------------------+----------------------+-----------------------------+--------------------------------+-----------------------------+--------------------------+"
      ]
     },
     "execution_count": 141,
     "metadata": {},
     "output_type": "execute_result"
    }
   ],
   "source": [
    "sa2_combined.limit(5)"
   ]
  },
  {
   "cell_type": "code",
   "execution_count": 142,
   "metadata": {},
   "outputs": [],
   "source": [
    "# group SA2 statistics by postcodes by taking averages and medians.\n",
    "\n",
    "postcode_combined = sa2_combined.groupBy(\"postcode\") \\\n",
    "    .agg(F.avg(\"sa2_population\").alias(\"consumer_postcode_estimated_population\"), \\\n",
    "        F.median(\"sa2_median_age\").alias(\"consumer_postcode_median_age\"), \\\n",
    "        F.median(\"sa2_median_mortgage_repay_monthly\").alias(\"consumer_postcode_median_mortgage_repay_monthly\"), \\\n",
    "        F.median(\"sa2_median_tot_prsnl_inc_weekly\").alias(\"consumer_postcode_median_totl_prsnal_inc_weekly\"), \\\n",
    "        F.median(\"sa2_median_rent_weekly\").alias(\"consumer_postcode_median_rent_weekly\"), \\\n",
    "        F.median(\"sa2_median_tot_fam_inc_weekly\").alias(\"consumer_postcode_median_tot_fam_inc_weekly\"), \\\n",
    "        F.avg(\"sa2_average_num_psns_per_bedroom\").alias(\"consumer_postcode_avg_num_psns_per_bedroom\"), \\\n",
    "        F.median(\"sa2_median_tot_hhd_inc_weekly\").alias(\"consumer_postcode_median_tot_hhd_inc_weekly\"), \\\n",
    "        F.avg(\"sa2_average_household_size\").alias(\"consumer_postcode_avg_household_size\")\n",
    "    ).withColumnRenamed('postcode', 'consumer_postcode')\n",
    "    \n"
   ]
  },
  {
   "cell_type": "code",
   "execution_count": 143,
   "metadata": {},
   "outputs": [],
   "source": [
    "postcode_combined = postcode_combined.select(*[F.round(c, 2).alias(c) for c in postcode_combined.columns])\n",
    "\n",
    "postcode_combined = postcode_combined.withColumn(\"consumer_postcode_estimated_population\", F.round(F.col(\"consumer_postcode_estimated_population\")))"
   ]
  },
  {
   "cell_type": "code",
   "execution_count": 144,
   "metadata": {},
   "outputs": [
    {
     "data": {
      "text/html": [
       "<table border='1'>\n",
       "<tr><th>consumer_postcode</th><th>consumer_postcode_estimated_population</th><th>consumer_postcode_median_age</th><th>consumer_postcode_median_mortgage_repay_monthly</th><th>consumer_postcode_median_totl_prsnal_inc_weekly</th><th>consumer_postcode_median_rent_weekly</th><th>consumer_postcode_median_tot_fam_inc_weekly</th><th>consumer_postcode_avg_num_psns_per_bedroom</th><th>consumer_postcode_median_tot_hhd_inc_weekly</th><th>consumer_postcode_avg_household_size</th></tr>\n",
       "<tr><td>800</td><td>7578.0</td><td>33.0</td><td>1781.0</td><td>1236.0</td><td>450.0</td><td>2403.0</td><td>1.0</td><td>2151.0</td><td>2.0</td></tr>\n",
       "<tr><td>810</td><td>3000.0</td><td>35.0</td><td>1953.0</td><td>957.0</td><td>345.0</td><td>2400.5</td><td>0.92</td><td>2083.0</td><td>2.74</td></tr>\n",
       "<tr><td>812</td><td>3299.0</td><td>36.5</td><td>2000.0</td><td>986.0</td><td>375.0</td><td>2313.0</td><td>0.77</td><td>2003.0</td><td>2.33</td></tr>\n",
       "<tr><td>820</td><td>2525.0</td><td>34.0</td><td>2000.0</td><td>1237.0</td><td>390.0</td><td>2682.0</td><td>0.81</td><td>2231.0</td><td>2.01</td></tr>\n",
       "<tr><td>822</td><td>3615.0</td><td>30.0</td><td>1040.0</td><td>367.5</td><td>85.0</td><td>820.0</td><td>1.26</td><td>1325.0</td><td>3.16</td></tr>\n",
       "<tr><td>828</td><td>1810.0</td><td>33.0</td><td>2600.0</td><td>1015.0</td><td>370.0</td><td>2468.0</td><td>1.1</td><td>2250.0</td><td>2.9</td></tr>\n",
       "<tr><td>829</td><td>5181.0</td><td>34.0</td><td>2275.0</td><td>1244.5</td><td>425.0</td><td>2761.5</td><td>0.9</td><td>2507.0</td><td>2.85</td></tr>\n",
       "<tr><td>830</td><td>3650.0</td><td>33.0</td><td>1875.0</td><td>1011.5</td><td>355.0</td><td>2229.5</td><td>0.95</td><td>1937.5</td><td>2.61</td></tr>\n",
       "<tr><td>832</td><td>5442.0</td><td>30.5</td><td>2083.5</td><td>1188.0</td><td>425.0</td><td>2639.5</td><td>0.88</td><td>2410.5</td><td>2.83</td></tr>\n",
       "<tr><td>834</td><td>3362.0</td><td>41.0</td><td>2383.0</td><td>1096.0</td><td>370.0</td><td>2623.0</td><td>0.9</td><td>2153.0</td><td>2.7</td></tr>\n",
       "</table>\n"
      ],
      "text/plain": [
       "+-----------------+--------------------------------------+----------------------------+-----------------------------------------------+-----------------------------------------------+------------------------------------+-------------------------------------------+------------------------------------------+-------------------------------------------+------------------------------------+\n",
       "|consumer_postcode|consumer_postcode_estimated_population|consumer_postcode_median_age|consumer_postcode_median_mortgage_repay_monthly|consumer_postcode_median_totl_prsnal_inc_weekly|consumer_postcode_median_rent_weekly|consumer_postcode_median_tot_fam_inc_weekly|consumer_postcode_avg_num_psns_per_bedroom|consumer_postcode_median_tot_hhd_inc_weekly|consumer_postcode_avg_household_size|\n",
       "+-----------------+--------------------------------------+----------------------------+-----------------------------------------------+-----------------------------------------------+------------------------------------+-------------------------------------------+------------------------------------------+-------------------------------------------+------------------------------------+\n",
       "|              800|                                7578.0|                        33.0|                                         1781.0|                                         1236.0|                               450.0|                                     2403.0|                                       1.0|                                     2151.0|                                 2.0|\n",
       "|              810|                                3000.0|                        35.0|                                         1953.0|                                          957.0|                               345.0|                                     2400.5|                                      0.92|                                     2083.0|                                2.74|\n",
       "|              812|                                3299.0|                        36.5|                                         2000.0|                                          986.0|                               375.0|                                     2313.0|                                      0.77|                                     2003.0|                                2.33|\n",
       "|              820|                                2525.0|                        34.0|                                         2000.0|                                         1237.0|                               390.0|                                     2682.0|                                      0.81|                                     2231.0|                                2.01|\n",
       "|              822|                                3615.0|                        30.0|                                         1040.0|                                          367.5|                                85.0|                                      820.0|                                      1.26|                                     1325.0|                                3.16|\n",
       "|              828|                                1810.0|                        33.0|                                         2600.0|                                         1015.0|                               370.0|                                     2468.0|                                       1.1|                                     2250.0|                                 2.9|\n",
       "|              829|                                5181.0|                        34.0|                                         2275.0|                                         1244.5|                               425.0|                                     2761.5|                                       0.9|                                     2507.0|                                2.85|\n",
       "|              830|                                3650.0|                        33.0|                                         1875.0|                                         1011.5|                               355.0|                                     2229.5|                                      0.95|                                     1937.5|                                2.61|\n",
       "|              832|                                5442.0|                        30.5|                                         2083.5|                                         1188.0|                               425.0|                                     2639.5|                                      0.88|                                     2410.5|                                2.83|\n",
       "|              834|                                3362.0|                        41.0|                                         2383.0|                                         1096.0|                               370.0|                                     2623.0|                                       0.9|                                     2153.0|                                 2.7|\n",
       "+-----------------+--------------------------------------+----------------------------+-----------------------------------------------+-----------------------------------------------+------------------------------------+-------------------------------------------+------------------------------------------+-------------------------------------------+------------------------------------+"
      ]
     },
     "execution_count": 144,
     "metadata": {},
     "output_type": "execute_result"
    }
   ],
   "source": [
    "postcode_combined.limit(10)"
   ]
  },
  {
   "cell_type": "code",
   "execution_count": 145,
   "metadata": {},
   "outputs": [],
   "source": [
    "all_combined = orig_combined.join(postcode_combined.withColumnRenamed('postcode','consumer_postcode'), on='consumer_postcode', how='inner')"
   ]
  },
  {
   "cell_type": "code",
   "execution_count": 146,
   "metadata": {},
   "outputs": [],
   "source": [
    "all_combined = all_combined.withColumnRenamed(\n",
    "    'words',\n",
    "    'merchant_description'\n",
    ").withColumnRenamed(\n",
    "    'revenue_level',\n",
    "    'merchant_revenue_level'\n",
    ").withColumnRenamed(\n",
    "    'take_rate_%',\n",
    "    'merchant_take_rate_%'\n",
    ").withColumnRenamed(\n",
    "    'dollar_value',\n",
    "    'transaction_dollar_value_$AUD'\n",
    ")\n",
    "\n"
   ]
  },
  {
   "cell_type": "code",
   "execution_count": 147,
   "metadata": {},
   "outputs": [
    {
     "name": "stderr",
     "output_type": "stream",
     "text": [
      "                                                                                \r"
     ]
    },
    {
     "data": {
      "text/html": [
       "<table border='1'>\n",
       "<tr><th>consumer_postcode</th><th>merchant_abn</th><th>order_datetime</th><th>user_id</th><th>consumer_id</th><th>consumer_name</th><th>consumer_state</th><th>consumer_gender</th><th>transaction_dollar_value_$AUD</th><th>consumer_fraud_probability_%</th><th>merchant_name</th><th>merchant_description</th><th>merchant_revenue_level</th><th>merchant_take_rate_%</th><th>merchant_fraud_probability_%</th><th>consumer_postcode_estimated_population</th><th>consumer_postcode_median_age</th><th>consumer_postcode_median_mortgage_repay_monthly</th><th>consumer_postcode_median_totl_prsnal_inc_weekly</th><th>consumer_postcode_median_rent_weekly</th><th>consumer_postcode_median_tot_fam_inc_weekly</th><th>consumer_postcode_avg_num_psns_per_bedroom</th><th>consumer_postcode_median_tot_hhd_inc_weekly</th><th>consumer_postcode_avg_household_size</th></tr>\n",
       "<tr><td>3186</td><td>49549583265</td><td>2021-12-19</td><td>6228</td><td>1242133</td><td>Mr. James Norton DDS</td><td>VIC</td><td>Male</td><td>1682.69</td><td>97.6298</td><td>Luctus Et Incorpo...</td><td>tent and awning s...</td><td>a</td><td>5.69</td><td>0.0</td><td>23044.0</td><td>48.0</td><td>3467.0</td><td>1265.0</td><td>600.0</td><td>3808.0</td><td>0.8</td><td>2718.0</td><td>2.4</td></tr>\n",
       "<tr><td>3186</td><td>21025433654</td><td>2021-12-19</td><td>6228</td><td>1242133</td><td>Mr. James Norton DDS</td><td>VIC</td><td>Male</td><td>2.74</td><td>97.6298</td><td>Lorem Foundation</td><td>digital goods: bo...</td><td>a</td><td>6.55</td><td>0.0</td><td>23044.0</td><td>48.0</td><td>3467.0</td><td>1265.0</td><td>600.0</td><td>3808.0</td><td>0.8</td><td>2718.0</td><td>2.4</td></tr>\n",
       "<tr><td>3813</td><td>67264251405</td><td>2021-10-19</td><td>22239</td><td>184299</td><td>George Mendoza</td><td>VIC</td><td>Male</td><td>51876.64</td><td>94.7034</td><td>Elit Dictum Eu Fo...</td><td>art dealers and g...</td><td>a</td><td>6.4</td><td>18.2109</td><td>9940.0</td><td>40.0</td><td>1950.0</td><td>767.0</td><td>311.0</td><td>2162.0</td><td>0.8</td><td>1897.0</td><td>2.8</td></tr>\n",
       "<tr><td>3123</td><td>73972053940</td><td>2021-10-06</td><td>8347</td><td>1691</td><td>Brett Campbell</td><td>VIC</td><td>Male</td><td>13.81</td><td>92.9914</td><td>Quis Tristique Ac...</td><td>tent and awning s...</td><td>b</td><td>3.88</td><td>0.0</td><td>15881.0</td><td>36.0</td><td>2492.0</td><td>1228.0</td><td>411.0</td><td>3203.0</td><td>0.9</td><td>2228.0</td><td>2.2</td></tr>\n",
       "<tr><td>2805</td><td>11149063370</td><td>2022-02-25</td><td>17900</td><td>476053</td><td>Angela Fuentes</td><td>NSW</td><td>Female</td><td>42797.35</td><td>92.7326</td><td>Et Arcu Limited</td><td>art dealers and g...</td><td>b</td><td>4.84</td><td>51.0154</td><td>5698.0</td><td>50.0</td><td>1164.0</td><td>601.0</td><td>210.0</td><td>1490.0</td><td>0.7</td><td>1157.0</td><td>2.3</td></tr>\n",
       "</table>\n"
      ],
      "text/plain": [
       "+-----------------+------------+--------------+-------+-----------+--------------------+--------------+---------------+-----------------------------+----------------------------+--------------------+--------------------+----------------------+--------------------+----------------------------+--------------------------------------+----------------------------+-----------------------------------------------+-----------------------------------------------+------------------------------------+-------------------------------------------+------------------------------------------+-------------------------------------------+------------------------------------+\n",
       "|consumer_postcode|merchant_abn|order_datetime|user_id|consumer_id|       consumer_name|consumer_state|consumer_gender|transaction_dollar_value_$AUD|consumer_fraud_probability_%|       merchant_name|merchant_description|merchant_revenue_level|merchant_take_rate_%|merchant_fraud_probability_%|consumer_postcode_estimated_population|consumer_postcode_median_age|consumer_postcode_median_mortgage_repay_monthly|consumer_postcode_median_totl_prsnal_inc_weekly|consumer_postcode_median_rent_weekly|consumer_postcode_median_tot_fam_inc_weekly|consumer_postcode_avg_num_psns_per_bedroom|consumer_postcode_median_tot_hhd_inc_weekly|consumer_postcode_avg_household_size|\n",
       "+-----------------+------------+--------------+-------+-----------+--------------------+--------------+---------------+-----------------------------+----------------------------+--------------------+--------------------+----------------------+--------------------+----------------------------+--------------------------------------+----------------------------+-----------------------------------------------+-----------------------------------------------+------------------------------------+-------------------------------------------+------------------------------------------+-------------------------------------------+------------------------------------+\n",
       "|             3186| 49549583265|    2021-12-19|   6228|    1242133|Mr. James Norton DDS|           VIC|           Male|                      1682.69|                     97.6298|Luctus Et Incorpo...|tent and awning s...|                     a|                5.69|                         0.0|                               23044.0|                        48.0|                                         3467.0|                                         1265.0|                               600.0|                                     3808.0|                                       0.8|                                     2718.0|                                 2.4|\n",
       "|             3186| 21025433654|    2021-12-19|   6228|    1242133|Mr. James Norton DDS|           VIC|           Male|                         2.74|                     97.6298|    Lorem Foundation|digital goods: bo...|                     a|                6.55|                         0.0|                               23044.0|                        48.0|                                         3467.0|                                         1265.0|                               600.0|                                     3808.0|                                       0.8|                                     2718.0|                                 2.4|\n",
       "|             3813| 67264251405|    2021-10-19|  22239|     184299|      George Mendoza|           VIC|           Male|                     51876.64|                     94.7034|Elit Dictum Eu Fo...|art dealers and g...|                     a|                 6.4|                     18.2109|                                9940.0|                        40.0|                                         1950.0|                                          767.0|                               311.0|                                     2162.0|                                       0.8|                                     1897.0|                                 2.8|\n",
       "|             3123| 73972053940|    2021-10-06|   8347|       1691|      Brett Campbell|           VIC|           Male|                        13.81|                     92.9914|Quis Tristique Ac...|tent and awning s...|                     b|                3.88|                         0.0|                               15881.0|                        36.0|                                         2492.0|                                         1228.0|                               411.0|                                     3203.0|                                       0.9|                                     2228.0|                                 2.2|\n",
       "|             2805| 11149063370|    2022-02-25|  17900|     476053|      Angela Fuentes|           NSW|         Female|                     42797.35|                     92.7326|     Et Arcu Limited|art dealers and g...|                     b|                4.84|                     51.0154|                                5698.0|                        50.0|                                         1164.0|                                          601.0|                               210.0|                                     1490.0|                                       0.7|                                     1157.0|                                 2.3|\n",
       "+-----------------+------------+--------------+-------+-----------+--------------------+--------------+---------------+-----------------------------+----------------------------+--------------------+--------------------+----------------------+--------------------+----------------------------+--------------------------------------+----------------------------+-----------------------------------------------+-----------------------------------------------+------------------------------------+-------------------------------------------+------------------------------------------+-------------------------------------------+------------------------------------+"
      ]
     },
     "execution_count": 147,
     "metadata": {},
     "output_type": "execute_result"
    }
   ],
   "source": [
    "all_combined.sort('consumer_fraud_probability_%', ascending=False).limit(5)"
   ]
  },
  {
   "cell_type": "code",
   "execution_count": 148,
   "metadata": {},
   "outputs": [
    {
     "name": "stderr",
     "output_type": "stream",
     "text": [
      "                                                                                \r"
     ]
    },
    {
     "data": {
      "text/html": [
       "<table border='1'>\n",
       "<tr><th>consumer_postcode</th><th>merchant_abn</th><th>order_datetime</th><th>user_id</th><th>consumer_id</th><th>consumer_name</th><th>consumer_state</th><th>consumer_gender</th><th>transaction_dollar_value_$AUD</th><th>consumer_fraud_probability_%</th><th>merchant_name</th><th>merchant_description</th><th>merchant_revenue_level</th><th>merchant_take_rate_%</th><th>merchant_fraud_probability_%</th><th>consumer_postcode_estimated_population</th><th>consumer_postcode_median_age</th><th>consumer_postcode_median_mortgage_repay_monthly</th><th>consumer_postcode_median_totl_prsnal_inc_weekly</th><th>consumer_postcode_median_rent_weekly</th><th>consumer_postcode_median_tot_fam_inc_weekly</th><th>consumer_postcode_avg_num_psns_per_bedroom</th><th>consumer_postcode_median_tot_hhd_inc_weekly</th><th>consumer_postcode_avg_household_size</th></tr>\n",
       "<tr><td>4606</td><td>49505931725</td><td>2022-10-13</td><td>7</td><td>511685</td><td>Andrea Jones</td><td>QLD</td><td>Female</td><td>80.56</td><td>0.0</td><td>Suspendisse Ac As...</td><td>digital goods: bo...</td><td>b</td><td>4.7</td><td>0.0</td><td>9615.0</td><td>47.0</td><td>992.0</td><td>490.0</td><td>180.0</td><td>1190.0</td><td>0.8</td><td>950.0</td><td>2.4</td></tr>\n",
       "<tr><td>4606</td><td>80518954462</td><td>2021-04-11</td><td>7</td><td>511685</td><td>Andrea Jones</td><td>QLD</td><td>Female</td><td>248.26</td><td>0.0</td><td>Neque Sed Dictum ...</td><td>computers, comput...</td><td>b</td><td>3.49</td><td>0.0</td><td>9615.0</td><td>47.0</td><td>992.0</td><td>490.0</td><td>180.0</td><td>1190.0</td><td>0.8</td><td>950.0</td><td>2.4</td></tr>\n",
       "<tr><td>4606</td><td>20885454195</td><td>2021-06-29</td><td>7</td><td>511685</td><td>Andrea Jones</td><td>QLD</td><td>Female</td><td>106.1</td><td>0.0</td><td>Pharetra Ut Indus...</td><td>cable, satellite,...</td><td>b</td><td>4.94</td><td>0.0</td><td>9615.0</td><td>47.0</td><td>992.0</td><td>490.0</td><td>180.0</td><td>1190.0</td><td>0.8</td><td>950.0</td><td>2.4</td></tr>\n",
       "<tr><td>4606</td><td>78327477486</td><td>2022-05-24</td><td>7</td><td>511685</td><td>Andrea Jones</td><td>QLD</td><td>Female</td><td>250.17</td><td>0.0</td><td>Auctor Inc.</td><td>lawn and garden s...</td><td>c</td><td>1.47</td><td>0.0</td><td>9615.0</td><td>47.0</td><td>992.0</td><td>490.0</td><td>180.0</td><td>1190.0</td><td>0.8</td><td>950.0</td><td>2.4</td></tr>\n",
       "<tr><td>4606</td><td>90173050473</td><td>2022-03-14</td><td>7</td><td>511685</td><td>Andrea Jones</td><td>QLD</td><td>Female</td><td>108.28</td><td>0.0</td><td>Lobortis Class In...</td><td>lawn and garden s...</td><td>c</td><td>2.49</td><td>0.0</td><td>9615.0</td><td>47.0</td><td>992.0</td><td>490.0</td><td>180.0</td><td>1190.0</td><td>0.8</td><td>950.0</td><td>2.4</td></tr>\n",
       "</table>\n"
      ],
      "text/plain": [
       "+-----------------+------------+--------------+-------+-----------+-------------+--------------+---------------+-----------------------------+----------------------------+--------------------+--------------------+----------------------+--------------------+----------------------------+--------------------------------------+----------------------------+-----------------------------------------------+-----------------------------------------------+------------------------------------+-------------------------------------------+------------------------------------------+-------------------------------------------+------------------------------------+\n",
       "|consumer_postcode|merchant_abn|order_datetime|user_id|consumer_id|consumer_name|consumer_state|consumer_gender|transaction_dollar_value_$AUD|consumer_fraud_probability_%|       merchant_name|merchant_description|merchant_revenue_level|merchant_take_rate_%|merchant_fraud_probability_%|consumer_postcode_estimated_population|consumer_postcode_median_age|consumer_postcode_median_mortgage_repay_monthly|consumer_postcode_median_totl_prsnal_inc_weekly|consumer_postcode_median_rent_weekly|consumer_postcode_median_tot_fam_inc_weekly|consumer_postcode_avg_num_psns_per_bedroom|consumer_postcode_median_tot_hhd_inc_weekly|consumer_postcode_avg_household_size|\n",
       "+-----------------+------------+--------------+-------+-----------+-------------+--------------+---------------+-----------------------------+----------------------------+--------------------+--------------------+----------------------+--------------------+----------------------------+--------------------------------------+----------------------------+-----------------------------------------------+-----------------------------------------------+------------------------------------+-------------------------------------------+------------------------------------------+-------------------------------------------+------------------------------------+\n",
       "|             4606| 49505931725|    2022-10-13|      7|     511685| Andrea Jones|           QLD|         Female|                        80.56|                         0.0|Suspendisse Ac As...|digital goods: bo...|                     b|                 4.7|                         0.0|                                9615.0|                        47.0|                                          992.0|                                          490.0|                               180.0|                                     1190.0|                                       0.8|                                      950.0|                                 2.4|\n",
       "|             4606| 80518954462|    2021-04-11|      7|     511685| Andrea Jones|           QLD|         Female|                       248.26|                         0.0|Neque Sed Dictum ...|computers, comput...|                     b|                3.49|                         0.0|                                9615.0|                        47.0|                                          992.0|                                          490.0|                               180.0|                                     1190.0|                                       0.8|                                      950.0|                                 2.4|\n",
       "|             4606| 20885454195|    2021-06-29|      7|     511685| Andrea Jones|           QLD|         Female|                        106.1|                         0.0|Pharetra Ut Indus...|cable, satellite,...|                     b|                4.94|                         0.0|                                9615.0|                        47.0|                                          992.0|                                          490.0|                               180.0|                                     1190.0|                                       0.8|                                      950.0|                                 2.4|\n",
       "|             4606| 78327477486|    2022-05-24|      7|     511685| Andrea Jones|           QLD|         Female|                       250.17|                         0.0|         Auctor Inc.|lawn and garden s...|                     c|                1.47|                         0.0|                                9615.0|                        47.0|                                          992.0|                                          490.0|                               180.0|                                     1190.0|                                       0.8|                                      950.0|                                 2.4|\n",
       "|             4606| 90173050473|    2022-03-14|      7|     511685| Andrea Jones|           QLD|         Female|                       108.28|                         0.0|Lobortis Class In...|lawn and garden s...|                     c|                2.49|                         0.0|                                9615.0|                        47.0|                                          992.0|                                          490.0|                               180.0|                                     1190.0|                                       0.8|                                      950.0|                                 2.4|\n",
       "+-----------------+------------+--------------+-------+-----------+-------------+--------------+---------------+-----------------------------+----------------------------+--------------------+--------------------+----------------------+--------------------+----------------------------+--------------------------------------+----------------------------+-----------------------------------------------+-----------------------------------------------+------------------------------------+-------------------------------------------+------------------------------------------+-------------------------------------------+------------------------------------+"
      ]
     },
     "execution_count": 148,
     "metadata": {},
     "output_type": "execute_result"
    }
   ],
   "source": [
    "all_combined.limit(5)"
   ]
  },
  {
   "cell_type": "code",
   "execution_count": 149,
   "metadata": {},
   "outputs": [
    {
     "name": "stderr",
     "output_type": "stream",
     "text": [
      "                                                                                \r"
     ]
    }
   ],
   "source": [
    "all_combined.write.mode('overwrite').parquet(\"../../data/curated/all_data_combined.parquet\")"
   ]
  },
  {
   "cell_type": "code",
   "execution_count": 150,
   "metadata": {},
   "outputs": [
    {
     "data": {
      "text/html": [
       "<table border='1'>\n",
       "<tr><th>consumer_postcode</th><th>merchant_abn</th><th>order_datetime</th><th>user_id</th><th>consumer_id</th><th>consumer_name</th><th>consumer_state</th><th>consumer_gender</th><th>transaction_dollar_value_$AUD</th><th>consumer_fraud_probability_%</th><th>merchant_name</th><th>merchant_description</th><th>merchant_revenue_level</th><th>merchant_take_rate_%</th><th>merchant_fraud_probability_%</th><th>consumer_postcode_estimated_population</th><th>consumer_postcode_median_age</th><th>consumer_postcode_median_mortgage_repay_monthly</th><th>consumer_postcode_median_totl_prsnal_inc_weekly</th><th>consumer_postcode_median_rent_weekly</th><th>consumer_postcode_median_tot_fam_inc_weekly</th><th>consumer_postcode_avg_num_psns_per_bedroom</th><th>consumer_postcode_median_tot_hhd_inc_weekly</th><th>consumer_postcode_avg_household_size</th></tr>\n",
       "<tr><td>5074</td><td>92980848589</td><td>2022-08-30</td><td>44</td><td>564558</td><td>Michael Johnson</td><td>SA</td><td>Undisclosed</td><td>479.0</td><td>0.0</td><td>Maecenas Industries</td><td>books, periodical...</td><td>a</td><td>6.86</td><td>0.0</td><td>21882.0</td><td>40.0</td><td>1690.0</td><td>721.0</td><td>335.0</td><td>1892.0</td><td>0.8</td><td>1427.0</td><td>2.4</td></tr>\n",
       "<tr><td>5074</td><td>58454491168</td><td>2022-08-24</td><td>44</td><td>564558</td><td>Michael Johnson</td><td>SA</td><td>Undisclosed</td><td>69.57</td><td>0.0</td><td>Diam At Foundation</td><td>computer programm...</td><td>a</td><td>6.01</td><td>0.0</td><td>21882.0</td><td>40.0</td><td>1690.0</td><td>721.0</td><td>335.0</td><td>1892.0</td><td>0.8</td><td>1427.0</td><td>2.4</td></tr>\n",
       "<tr><td>5074</td><td>24852446429</td><td>2022-04-18</td><td>44</td><td>564558</td><td>Michael Johnson</td><td>SA</td><td>Undisclosed</td><td>12.87</td><td>0.0</td><td>Erat Vitae LLP</td><td>florists supplies...</td><td>c</td><td>2.94</td><td>0.0</td><td>21882.0</td><td>40.0</td><td>1690.0</td><td>721.0</td><td>335.0</td><td>1892.0</td><td>0.8</td><td>1427.0</td><td>2.4</td></tr>\n",
       "<tr><td>5074</td><td>45559085309</td><td>2021-07-07</td><td>44</td><td>564558</td><td>Michael Johnson</td><td>SA</td><td>Undisclosed</td><td>48.19</td><td>0.0</td><td>A Auctor Non Corp...</td><td>shoe shops</td><td>a</td><td>5.58</td><td>0.0</td><td>21882.0</td><td>40.0</td><td>1690.0</td><td>721.0</td><td>335.0</td><td>1892.0</td><td>0.8</td><td>1427.0</td><td>2.4</td></tr>\n",
       "<tr><td>5074</td><td>58392414752</td><td>2022-09-26</td><td>44</td><td>564558</td><td>Michael Johnson</td><td>SA</td><td>Undisclosed</td><td>2.76</td><td>0.0</td><td>Mattis Ornare Lec...</td><td>florists supplies...</td><td>c</td><td>1.47</td><td>0.0</td><td>21882.0</td><td>40.0</td><td>1690.0</td><td>721.0</td><td>335.0</td><td>1892.0</td><td>0.8</td><td>1427.0</td><td>2.4</td></tr>\n",
       "<tr><td>5074</td><td>81219314324</td><td>2022-10-08</td><td>44</td><td>564558</td><td>Michael Johnson</td><td>SA</td><td>Undisclosed</td><td>120.55</td><td>0.0</td><td>Faucibus Leo Ltd</td><td>gift, card, novel...</td><td>a</td><td>6.35</td><td>0.0</td><td>21882.0</td><td>40.0</td><td>1690.0</td><td>721.0</td><td>335.0</td><td>1892.0</td><td>0.8</td><td>1427.0</td><td>2.4</td></tr>\n",
       "<tr><td>5074</td><td>34179569263</td><td>2021-12-05</td><td>44</td><td>564558</td><td>Michael Johnson</td><td>SA</td><td>Undisclosed</td><td>816.97</td><td>0.0</td><td>Sodales At LLC</td><td>music shops - mus...</td><td>b</td><td>4.72</td><td>0.0</td><td>21882.0</td><td>40.0</td><td>1690.0</td><td>721.0</td><td>335.0</td><td>1892.0</td><td>0.8</td><td>1427.0</td><td>2.4</td></tr>\n",
       "<tr><td>5074</td><td>96566672398</td><td>2021-04-15</td><td>44</td><td>564558</td><td>Michael Johnson</td><td>SA</td><td>Undisclosed</td><td>81.52</td><td>0.0</td><td>Odio Tristique Ph...</td><td>opticians, optica...</td><td>c</td><td>2.05</td><td>0.0</td><td>21882.0</td><td>40.0</td><td>1690.0</td><td>721.0</td><td>335.0</td><td>1892.0</td><td>0.8</td><td>1427.0</td><td>2.4</td></tr>\n",
       "<tr><td>5074</td><td>52838486584</td><td>2021-04-12</td><td>44</td><td>564558</td><td>Michael Johnson</td><td>SA</td><td>Undisclosed</td><td>1252.13</td><td>0.0</td><td>Interdum PC</td><td>tent and awning s...</td><td>a</td><td>6.19</td><td>0.0</td><td>21882.0</td><td>40.0</td><td>1690.0</td><td>721.0</td><td>335.0</td><td>1892.0</td><td>0.8</td><td>1427.0</td><td>2.4</td></tr>\n",
       "<tr><td>5074</td><td>32530636640</td><td>2022-03-25</td><td>44</td><td>564558</td><td>Michael Johnson</td><td>SA</td><td>Undisclosed</td><td>10.91</td><td>0.0</td><td>Hendrerit Foundation</td><td>tent and awning s...</td><td>a</td><td>5.6</td><td>0.0</td><td>21882.0</td><td>40.0</td><td>1690.0</td><td>721.0</td><td>335.0</td><td>1892.0</td><td>0.8</td><td>1427.0</td><td>2.4</td></tr>\n",
       "</table>\n"
      ],
      "text/plain": [
       "+-----------------+------------+--------------+-------+-----------+---------------+--------------+---------------+-----------------------------+----------------------------+--------------------+--------------------+----------------------+--------------------+----------------------------+--------------------------------------+----------------------------+-----------------------------------------------+-----------------------------------------------+------------------------------------+-------------------------------------------+------------------------------------------+-------------------------------------------+------------------------------------+\n",
       "|consumer_postcode|merchant_abn|order_datetime|user_id|consumer_id|  consumer_name|consumer_state|consumer_gender|transaction_dollar_value_$AUD|consumer_fraud_probability_%|       merchant_name|merchant_description|merchant_revenue_level|merchant_take_rate_%|merchant_fraud_probability_%|consumer_postcode_estimated_population|consumer_postcode_median_age|consumer_postcode_median_mortgage_repay_monthly|consumer_postcode_median_totl_prsnal_inc_weekly|consumer_postcode_median_rent_weekly|consumer_postcode_median_tot_fam_inc_weekly|consumer_postcode_avg_num_psns_per_bedroom|consumer_postcode_median_tot_hhd_inc_weekly|consumer_postcode_avg_household_size|\n",
       "+-----------------+------------+--------------+-------+-----------+---------------+--------------+---------------+-----------------------------+----------------------------+--------------------+--------------------+----------------------+--------------------+----------------------------+--------------------------------------+----------------------------+-----------------------------------------------+-----------------------------------------------+------------------------------------+-------------------------------------------+------------------------------------------+-------------------------------------------+------------------------------------+\n",
       "|             5074| 92980848589|    2022-08-30|     44|     564558|Michael Johnson|            SA|    Undisclosed|                        479.0|                         0.0| Maecenas Industries|books, periodical...|                     a|                6.86|                         0.0|                               21882.0|                        40.0|                                         1690.0|                                          721.0|                               335.0|                                     1892.0|                                       0.8|                                     1427.0|                                 2.4|\n",
       "|             5074| 58454491168|    2022-08-24|     44|     564558|Michael Johnson|            SA|    Undisclosed|                        69.57|                         0.0|  Diam At Foundation|computer programm...|                     a|                6.01|                         0.0|                               21882.0|                        40.0|                                         1690.0|                                          721.0|                               335.0|                                     1892.0|                                       0.8|                                     1427.0|                                 2.4|\n",
       "|             5074| 24852446429|    2022-04-18|     44|     564558|Michael Johnson|            SA|    Undisclosed|                        12.87|                         0.0|      Erat Vitae LLP|florists supplies...|                     c|                2.94|                         0.0|                               21882.0|                        40.0|                                         1690.0|                                          721.0|                               335.0|                                     1892.0|                                       0.8|                                     1427.0|                                 2.4|\n",
       "|             5074| 45559085309|    2021-07-07|     44|     564558|Michael Johnson|            SA|    Undisclosed|                        48.19|                         0.0|A Auctor Non Corp...|          shoe shops|                     a|                5.58|                         0.0|                               21882.0|                        40.0|                                         1690.0|                                          721.0|                               335.0|                                     1892.0|                                       0.8|                                     1427.0|                                 2.4|\n",
       "|             5074| 58392414752|    2022-09-26|     44|     564558|Michael Johnson|            SA|    Undisclosed|                         2.76|                         0.0|Mattis Ornare Lec...|florists supplies...|                     c|                1.47|                         0.0|                               21882.0|                        40.0|                                         1690.0|                                          721.0|                               335.0|                                     1892.0|                                       0.8|                                     1427.0|                                 2.4|\n",
       "|             5074| 81219314324|    2022-10-08|     44|     564558|Michael Johnson|            SA|    Undisclosed|                       120.55|                         0.0|    Faucibus Leo Ltd|gift, card, novel...|                     a|                6.35|                         0.0|                               21882.0|                        40.0|                                         1690.0|                                          721.0|                               335.0|                                     1892.0|                                       0.8|                                     1427.0|                                 2.4|\n",
       "|             5074| 34179569263|    2021-12-05|     44|     564558|Michael Johnson|            SA|    Undisclosed|                       816.97|                         0.0|      Sodales At LLC|music shops - mus...|                     b|                4.72|                         0.0|                               21882.0|                        40.0|                                         1690.0|                                          721.0|                               335.0|                                     1892.0|                                       0.8|                                     1427.0|                                 2.4|\n",
       "|             5074| 96566672398|    2021-04-15|     44|     564558|Michael Johnson|            SA|    Undisclosed|                        81.52|                         0.0|Odio Tristique Ph...|opticians, optica...|                     c|                2.05|                         0.0|                               21882.0|                        40.0|                                         1690.0|                                          721.0|                               335.0|                                     1892.0|                                       0.8|                                     1427.0|                                 2.4|\n",
       "|             5074| 52838486584|    2021-04-12|     44|     564558|Michael Johnson|            SA|    Undisclosed|                      1252.13|                         0.0|         Interdum PC|tent and awning s...|                     a|                6.19|                         0.0|                               21882.0|                        40.0|                                         1690.0|                                          721.0|                               335.0|                                     1892.0|                                       0.8|                                     1427.0|                                 2.4|\n",
       "|             5074| 32530636640|    2022-03-25|     44|     564558|Michael Johnson|            SA|    Undisclosed|                        10.91|                         0.0|Hendrerit Foundation|tent and awning s...|                     a|                 5.6|                         0.0|                               21882.0|                        40.0|                                         1690.0|                                          721.0|                               335.0|                                     1892.0|                                       0.8|                                     1427.0|                                 2.4|\n",
       "+-----------------+------------+--------------+-------+-----------+---------------+--------------+---------------+-----------------------------+----------------------------+--------------------+--------------------+----------------------+--------------------+----------------------------+--------------------------------------+----------------------------+-----------------------------------------------+-----------------------------------------------+------------------------------------+-------------------------------------------+------------------------------------------+-------------------------------------------+------------------------------------+"
      ]
     },
     "execution_count": 150,
     "metadata": {},
     "output_type": "execute_result"
    }
   ],
   "source": [
    "combined = spark.read.parquet(\"../../data/curated/all_data_combined.parquet\")\n",
    "\n",
    "combined.limit(10)"
   ]
  },
  {
   "cell_type": "code",
   "execution_count": 151,
   "metadata": {},
   "outputs": [],
   "source": [
    "spark.stop()"
   ]
  }
 ],
 "metadata": {
  "kernelspec": {
   "display_name": "Python 3",
   "language": "python",
   "name": "python3"
  },
  "language_info": {
   "codemirror_mode": {
    "name": "ipython",
    "version": 3
   },
   "file_extension": ".py",
   "mimetype": "text/x-python",
   "name": "python",
   "nbconvert_exporter": "python",
   "pygments_lexer": "ipython3",
   "version": "3.10.12"
  },
  "orig_nbformat": 4
 },
 "nbformat": 4,
 "nbformat_minor": 2
}
